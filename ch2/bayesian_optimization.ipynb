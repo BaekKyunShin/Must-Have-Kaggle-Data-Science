{
 "cells": [
  {
   "cell_type": "markdown",
   "metadata": {
    "papermill": {
     "duration": 0.00615,
     "end_time": "2021-07-07T03:58:26.221325",
     "exception": false,
     "start_time": "2021-07-07T03:58:26.215175",
     "status": "completed"
    },
    "tags": []
   },
   "source": [
    "# 베이지안 최적화"
   ]
  },
  {
   "cell_type": "code",
   "execution_count": 1,
   "metadata": {
    "execution": {
     "iopub.execute_input": "2021-07-07T03:58:26.235023Z",
     "iopub.status.busy": "2021-07-07T03:58:26.234354Z",
     "iopub.status.idle": "2021-07-07T03:58:26.239669Z",
     "shell.execute_reply": "2021-07-07T03:58:26.240152Z",
     "shell.execute_reply.started": "2021-07-07T03:56:57.765497Z"
    },
    "papermill": {
     "duration": 0.014008,
     "end_time": "2021-07-07T03:58:26.240512",
     "exception": false,
     "start_time": "2021-07-07T03:58:26.226504",
     "status": "completed"
    },
    "tags": []
   },
   "outputs": [],
   "source": [
    "# 하이퍼 파라미터 범위 (딕셔너리 형태)\n",
    "param_bounds = {'x': (-1, 5), \n",
    "                'y': (0, 4)}"
   ]
  },
  {
   "cell_type": "code",
   "execution_count": 2,
   "metadata": {
    "_cell_guid": "b1076dfc-b9ad-4769-8c92-a6c4dae69d19",
    "_uuid": "8f2839f25d086af736a60e9eeb907d3b93b6e0e5",
    "execution": {
     "iopub.execute_input": "2021-07-07T03:58:26.254856Z",
     "iopub.status.busy": "2021-07-07T03:58:26.253874Z",
     "iopub.status.idle": "2021-07-07T03:58:26.258434Z",
     "shell.execute_reply": "2021-07-07T03:58:26.259011Z",
     "shell.execute_reply.started": "2021-07-07T03:56:57.792472Z"
    },
    "papermill": {
     "duration": 0.013643,
     "end_time": "2021-07-07T03:58:26.259206",
     "exception": false,
     "start_time": "2021-07-07T03:58:26.245563",
     "status": "completed"
    },
    "tags": []
   },
   "outputs": [],
   "source": [
    "def eval_function(x, y):\n",
    "    return -x ** 2 - (y - 2) ** 2 + 10"
   ]
  },
  {
   "cell_type": "code",
   "execution_count": 3,
   "metadata": {
    "execution": {
     "iopub.execute_input": "2021-07-07T03:58:26.273255Z",
     "iopub.status.busy": "2021-07-07T03:58:26.272264Z",
     "iopub.status.idle": "2021-07-07T03:58:27.343923Z",
     "shell.execute_reply": "2021-07-07T03:58:27.344644Z",
     "shell.execute_reply.started": "2021-07-07T03:56:57.809354Z"
    },
    "papermill": {
     "duration": 1.080634,
     "end_time": "2021-07-07T03:58:27.344912",
     "exception": false,
     "start_time": "2021-07-07T03:58:26.264278",
     "status": "completed"
    },
    "tags": []
   },
   "outputs": [],
   "source": [
    "from bayes_opt import BayesianOptimization\n",
    "\n",
    "# 베이지안 최적화 객체 생성\n",
    "optimizer = BayesianOptimization(f=eval_function,\n",
    "                                 pbounds=param_bounds,\n",
    "                                 random_state=0)"
   ]
  },
  {
   "cell_type": "code",
   "execution_count": 4,
   "metadata": {
    "execution": {
     "iopub.execute_input": "2021-07-07T03:58:27.368677Z",
     "iopub.status.busy": "2021-07-07T03:58:27.367836Z",
     "iopub.status.idle": "2021-07-07T03:58:29.117651Z",
     "shell.execute_reply": "2021-07-07T03:58:29.116783Z",
     "shell.execute_reply.started": "2021-07-07T03:56:58.743704Z"
    },
    "papermill": {
     "duration": 1.767306,
     "end_time": "2021-07-07T03:58:29.117854",
     "exception": false,
     "start_time": "2021-07-07T03:58:27.350548",
     "status": "completed"
    },
    "tags": []
   },
   "outputs": [
    {
     "name": "stdout",
     "output_type": "stream",
     "text": [
      "|   iter    |  target   |     x     |     y     |\n",
      "-------------------------------------------------\n",
      "| \u001b[0m 1       \u001b[0m | \u001b[0m 4.002   \u001b[0m | \u001b[0m 2.293   \u001b[0m | \u001b[0m 2.861   \u001b[0m |\n",
      "| \u001b[0m 2       \u001b[0m | \u001b[0m 3.121   \u001b[0m | \u001b[0m 2.617   \u001b[0m | \u001b[0m 2.18    \u001b[0m |\n",
      "| \u001b[0m 3       \u001b[0m | \u001b[0m 3.832   \u001b[0m | \u001b[0m 2.327   \u001b[0m | \u001b[0m 2.869   \u001b[0m |\n",
      "| \u001b[95m 4       \u001b[0m | \u001b[95m 4.596   \u001b[0m | \u001b[95m 2.171   \u001b[0m | \u001b[95m 2.832   \u001b[0m |\n",
      "| \u001b[0m 5       \u001b[0m | \u001b[0m-6.227   \u001b[0m | \u001b[0m 3.989   \u001b[0m | \u001b[0m 2.559   \u001b[0m |\n",
      "| \u001b[95m 6       \u001b[0m | \u001b[95m 9.467   \u001b[0m | \u001b[95m 0.3521  \u001b[0m | \u001b[95m 1.361   \u001b[0m |\n",
      "| \u001b[0m 7       \u001b[0m | \u001b[0m 7.389   \u001b[0m | \u001b[0m-1.0     \u001b[0m | \u001b[0m 3.269   \u001b[0m |\n",
      "| \u001b[0m 8       \u001b[0m | \u001b[0m 5.0     \u001b[0m | \u001b[0m-1.0     \u001b[0m | \u001b[0m 0.0     \u001b[0m |\n",
      "| \u001b[0m 9       \u001b[0m | \u001b[0m 3.841   \u001b[0m | \u001b[0m 1.469   \u001b[0m | \u001b[0m 0.0     \u001b[0m |\n",
      "| \u001b[0m 10      \u001b[0m | \u001b[0m 8.966   \u001b[0m | \u001b[0m-1.0     \u001b[0m | \u001b[0m 1.817   \u001b[0m |\n",
      "| \u001b[95m 11      \u001b[0m | \u001b[95m 9.737   \u001b[0m | \u001b[95m 0.181   \u001b[0m | \u001b[95m 2.48    \u001b[0m |\n",
      "| \u001b[0m 12      \u001b[0m | \u001b[0m 5.784   \u001b[0m | \u001b[0m 0.4647  \u001b[0m | \u001b[0m 4.0     \u001b[0m |\n",
      "=================================================\n"
     ]
    }
   ],
   "source": [
    "# 베이지안 최적화 수행\n",
    "optimizer.maximize(init_points=2, n_iter=10)"
   ]
  },
  {
   "cell_type": "code",
   "execution_count": 5,
   "metadata": {
    "execution": {
     "iopub.execute_input": "2021-07-07T03:58:29.140165Z",
     "iopub.status.busy": "2021-07-07T03:58:29.139071Z",
     "iopub.status.idle": "2021-07-07T03:58:29.144057Z",
     "shell.execute_reply": "2021-07-07T03:58:29.143380Z",
     "shell.execute_reply.started": "2021-07-07T03:57:00.317744Z"
    },
    "papermill": {
     "duration": 0.01904,
     "end_time": "2021-07-07T03:58:29.144231",
     "exception": false,
     "start_time": "2021-07-07T03:58:29.125191",
     "status": "completed"
    },
    "tags": []
   },
   "outputs": [
    {
     "data": {
      "text/plain": [
       "{'target': 9.73714931714892,\n",
       " 'params': {'x': 0.18096308599772892, 'y': 2.4796905714700457}}"
      ]
     },
     "execution_count": 5,
     "metadata": {},
     "output_type": "execute_result"
    }
   ],
   "source": [
    "# 평가점수가 최대일 때 타깃, x, y 값 출력\n",
    "optimizer.max"
   ]
  },
  {
   "cell_type": "code",
   "execution_count": 6,
   "metadata": {
    "execution": {
     "iopub.execute_input": "2021-07-07T03:58:29.165548Z",
     "iopub.status.busy": "2021-07-07T03:58:29.164470Z",
     "iopub.status.idle": "2021-07-07T03:58:29.168779Z",
     "shell.execute_reply": "2021-07-07T03:58:29.169659Z",
     "shell.execute_reply.started": "2021-07-07T03:57:00.327126Z"
    },
    "papermill": {
     "duration": 0.018632,
     "end_time": "2021-07-07T03:58:29.170114",
     "exception": false,
     "start_time": "2021-07-07T03:58:29.151482",
     "status": "completed"
    },
    "tags": []
   },
   "outputs": [
    {
     "name": "stdout",
     "output_type": "stream",
     "text": [
      "Iteration 1: {'target': 4.001793197384126, 'params': {'x': 2.2928810235639485, 'y': 2.860757465489678}}\n",
      "Iteration 2: {'target': 3.1212757598065055, 'params': {'x': 2.616580256429863, 'y': 2.1795327319875875}}\n",
      "Iteration 3: {'target': 3.8323501757685197, 'params': {'x': 2.326572364354469, 'y': 2.868740961192424}}\n",
      "Iteration 4: {'target': 4.595680024930039, 'params': {'x': 2.1707962569890094, 'y': 2.831843486307651}}\n",
      "Iteration 5: {'target': -6.22668381841477, 'params': {'x': 3.9891976203938624, 'y': 2.559451663558806}}\n",
      "Iteration 6: {'target': 9.467469249818372, 'params': {'x': 0.3521158186174885, 'y': 1.3608245933540908}}\n",
      "Iteration 7: {'target': 7.3893599864457835, 'params': {'x': -1.0, 'y': 3.269109929657087}}\n",
      "Iteration 8: {'target': 5.0, 'params': {'x': -0.9999999999999998, 'y': 0.0}}\n",
      "Iteration 9: {'target': 3.84140715895401, 'params': {'x': 1.4692150424788026, 'y': 0.0}}\n",
      "Iteration 10: {'target': 8.966394714004696, 'params': {'x': -1.0, 'y': 1.816682554034526}}\n",
      "Iteration 11: {'target': 9.73714931714892, 'params': {'x': 0.18096308599772892, 'y': 2.4796905714700457}}\n",
      "Iteration 12: {'target': 5.784025783784769, 'params': {'x': 0.4647302617812083, 'y': 4.0}}\n"
     ]
    }
   ],
   "source": [
    "for i, res in enumerate(optimizer.res):\n",
    "    print(f'Iteration {i+1}: {res}')"
   ]
  }
 ],
 "metadata": {
  "kernelspec": {
   "display_name": "Python 3",
   "language": "python",
   "name": "python3"
  },
  "language_info": {
   "codemirror_mode": {
    "name": "ipython",
    "version": 3
   },
   "file_extension": ".py",
   "mimetype": "text/x-python",
   "name": "python",
   "nbconvert_exporter": "python",
   "pygments_lexer": "ipython3",
   "version": "3.7.9"
  },
  "papermill": {
   "default_parameters": {},
   "duration": 9.667038,
   "end_time": "2021-07-07T03:58:29.988953",
   "environment_variables": {},
   "exception": null,
   "input_path": "__notebook__.ipynb",
   "output_path": "__notebook__.ipynb",
   "parameters": {},
   "start_time": "2021-07-07T03:58:20.321915",
   "version": "2.2.2"
  }
 },
 "nbformat": 4,
 "nbformat_minor": 4
}
