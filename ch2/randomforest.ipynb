{
 "cells": [
  {
   "cell_type": "markdown",
   "metadata": {
    "papermill": {
     "duration": 0.003704,
     "end_time": "2021-07-05T14:27:11.466155",
     "exception": false,
     "start_time": "2021-07-05T14:27:11.462451",
     "status": "completed"
    },
    "tags": []
   },
   "source": [
    "# 랜덤 포레스트"
   ]
  },
  {
   "cell_type": "code",
   "execution_count": 1,
   "metadata": {
    "execution": {
     "iopub.execute_input": "2021-07-05T14:27:11.476474Z",
     "iopub.status.busy": "2021-07-05T14:27:11.475475Z",
     "iopub.status.idle": "2021-07-05T14:27:13.144823Z",
     "shell.execute_reply": "2021-07-05T14:27:13.146813Z",
     "shell.execute_reply.started": "2021-07-05T14:26:52.036546Z"
    },
    "papermill": {
     "duration": 1.677804,
     "end_time": "2021-07-05T14:27:13.147162",
     "exception": false,
     "start_time": "2021-07-05T14:27:11.469358",
     "status": "completed"
    },
    "tags": []
   },
   "outputs": [
    {
     "name": "stdout",
     "output_type": "stream",
     "text": [
      "랜덤 포레스트 정확도: 0.939\n"
     ]
    }
   ],
   "source": [
    "from sklearn.ensemble import RandomForestClassifier\n",
    "from sklearn.model_selection import train_test_split\n",
    "from sklearn.datasets import load_breast_cancer\n",
    "\n",
    "# 유방암 데이터 세트 불러오기\n",
    "cancer_data = load_breast_cancer()\n",
    "# 훈련, 테스트 데이터로 분리\n",
    "X_train, X_test, y_train, y_test = train_test_split(cancer_data['data'], \n",
    "                                                cancer_data['target'], \n",
    "                                                stratify=cancer_data['target'], \n",
    "                                                test_size=0.4, \n",
    "                                                random_state=42)\n",
    "\n",
    "randomforest = RandomForestClassifier(random_state=42) # 랜덤 포레스트 정의\n",
    "randomforest.fit(X_train, y_train) # 모델 훈련\n",
    "\n",
    "accuracy = randomforest.score(X_test, y_test) # 정확도 측정\n",
    "\n",
    "# 테스트 데이터를 활용하여 랜덤 포레스트 모델 정확도 출력\n",
    "print(f'랜덤 포레스트 정확도: {accuracy:.3f}')"
   ]
  }
 ],
 "metadata": {
  "kernelspec": {
   "display_name": "Python 3",
   "language": "python",
   "name": "python3"
  },
  "language_info": {
   "codemirror_mode": {
    "name": "ipython",
    "version": 3
   },
   "file_extension": ".py",
   "mimetype": "text/x-python",
   "name": "python",
   "nbconvert_exporter": "python",
   "pygments_lexer": "ipython3",
   "version": "3.7.9"
  },
  "papermill": {
   "default_parameters": {},
   "duration": 7.845932,
   "end_time": "2021-07-05T14:27:13.759604",
   "environment_variables": {},
   "exception": null,
   "input_path": "__notebook__.ipynb",
   "output_path": "__notebook__.ipynb",
   "parameters": {},
   "start_time": "2021-07-05T14:27:05.913672",
   "version": "2.2.2"
  }
 },
 "nbformat": 4,
 "nbformat_minor": 4
}
