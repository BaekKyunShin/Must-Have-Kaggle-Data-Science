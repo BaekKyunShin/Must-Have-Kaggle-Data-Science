{
 "cells": [
  {
   "cell_type": "markdown",
   "id": "advisory-diameter",
   "metadata": {
    "papermill": {
     "duration": 0.007107,
     "end_time": "2021-07-03T06:36:32.864991",
     "exception": false,
     "start_time": "2021-07-03T06:36:32.857884",
     "status": "completed"
    },
    "tags": []
   },
   "source": [
    "# 피처 스케일링"
   ]
  },
  {
   "cell_type": "markdown",
   "id": "ranging-elimination",
   "metadata": {
    "papermill": {
     "duration": 0.005732,
     "end_time": "2021-07-03T06:36:32.877051",
     "exception": false,
     "start_time": "2021-07-03T06:36:32.871319",
     "status": "completed"
    },
    "tags": []
   },
   "source": [
    "## min-max 정규화"
   ]
  },
  {
   "cell_type": "code",
   "execution_count": 1,
   "id": "convertible-shanghai",
   "metadata": {
    "execution": {
     "iopub.execute_input": "2021-07-03T06:36:32.906915Z",
     "iopub.status.busy": "2021-07-03T06:36:32.905884Z",
     "iopub.status.idle": "2021-07-03T06:36:32.924941Z",
     "shell.execute_reply": "2021-07-03T06:36:32.924215Z",
     "shell.execute_reply.started": "2021-07-03T06:35:48.772968Z"
    },
    "papermill": {
     "duration": 0.042057,
     "end_time": "2021-07-03T06:36:32.925119",
     "exception": false,
     "start_time": "2021-07-03T06:36:32.883062",
     "status": "completed"
    },
    "tags": []
   },
   "outputs": [
    {
     "name": "stdout",
     "output_type": "stream",
     "text": [
      "      키  몸무게\n",
      "광일  1.7   75\n",
      "혜성  1.5   55\n",
      "덕수  1.8   60\n"
     ]
    }
   ],
   "source": [
    "import pandas as pd\n",
    "\n",
    "height_weight_dict = {'키': [1.7, 1.5, 1.8], '몸무게': [75, 55, 60]}\n",
    "df = pd.DataFrame(height_weight_dict, index=['광일', '혜성', '덕수'])\n",
    "\n",
    "print(df)"
   ]
  },
  {
   "cell_type": "code",
   "execution_count": 2,
   "id": "civilian-jackson",
   "metadata": {
    "execution": {
     "iopub.execute_input": "2021-07-03T06:36:32.943894Z",
     "iopub.status.busy": "2021-07-03T06:36:32.943073Z",
     "iopub.status.idle": "2021-07-03T06:36:33.865948Z",
     "shell.execute_reply": "2021-07-03T06:36:33.866506Z",
     "shell.execute_reply.started": "2021-07-03T06:35:48.805301Z"
    },
    "papermill": {
     "duration": 0.934837,
     "end_time": "2021-07-03T06:36:33.866699",
     "exception": false,
     "start_time": "2021-07-03T06:36:32.931862",
     "status": "completed"
    },
    "tags": []
   },
   "outputs": [
    {
     "name": "stdout",
     "output_type": "stream",
     "text": [
      "[[0.66666667 1.        ]\n",
      " [0.         0.        ]\n",
      " [1.         0.25      ]]\n"
     ]
    }
   ],
   "source": [
    "from sklearn.preprocessing import MinMaxScaler\n",
    "\n",
    "# min-max 정규화 객체 생성\n",
    "scaler = MinMaxScaler()\n",
    "\n",
    "# min-max 정규화 적용 ---①\n",
    "scaler.fit(df)\n",
    "df_scaled = scaler.transform(df)\n",
    "\n",
    "print(df_scaled)"
   ]
  },
  {
   "cell_type": "code",
   "execution_count": 3,
   "id": "surprising-cologne",
   "metadata": {
    "execution": {
     "iopub.execute_input": "2021-07-03T06:36:33.892580Z",
     "iopub.status.busy": "2021-07-03T06:36:33.891645Z",
     "iopub.status.idle": "2021-07-03T06:36:33.895207Z",
     "shell.execute_reply": "2021-07-03T06:36:33.895677Z",
     "shell.execute_reply.started": "2021-07-03T06:35:48.815388Z"
    },
    "papermill": {
     "duration": 0.021466,
     "end_time": "2021-07-03T06:36:33.895854",
     "exception": false,
     "start_time": "2021-07-03T06:36:33.874388",
     "status": "completed"
    },
    "tags": []
   },
   "outputs": [
    {
     "name": "stdout",
     "output_type": "stream",
     "text": [
      "[[0.66666667 1.        ]\n",
      " [0.         0.        ]\n",
      " [1.         0.25      ]]\n"
     ]
    }
   ],
   "source": [
    "# min-max 정규화 객체 생성\n",
    "scaler = MinMaxScaler()\n",
    "\n",
    "# min-max 정규화 적용\n",
    "df_scaled = scaler.fit_transform(df)\n",
    "\n",
    "print(df_scaled)"
   ]
  },
  {
   "cell_type": "markdown",
   "id": "respected-strand",
   "metadata": {
    "papermill": {
     "duration": 0.0068,
     "end_time": "2021-07-03T06:36:33.910161",
     "exception": false,
     "start_time": "2021-07-03T06:36:33.903361",
     "status": "completed"
    },
    "tags": []
   },
   "source": [
    "## 표준화"
   ]
  },
  {
   "cell_type": "code",
   "execution_count": 4,
   "id": "eligible-trade",
   "metadata": {
    "execution": {
     "iopub.execute_input": "2021-07-03T06:36:33.935063Z",
     "iopub.status.busy": "2021-07-03T06:36:33.934359Z",
     "iopub.status.idle": "2021-07-03T06:36:33.938449Z",
     "shell.execute_reply": "2021-07-03T06:36:33.938930Z",
     "shell.execute_reply.started": "2021-07-03T06:35:48.832807Z"
    },
    "papermill": {
     "duration": 0.021795,
     "end_time": "2021-07-03T06:36:33.939137",
     "exception": false,
     "start_time": "2021-07-03T06:36:33.917342",
     "status": "completed"
    },
    "tags": []
   },
   "outputs": [
    {
     "name": "stdout",
     "output_type": "stream",
     "text": [
      "[[ 0.26726124  1.37281295]\n",
      " [-1.33630621 -0.98058068]\n",
      " [ 1.06904497 -0.39223227]]\n"
     ]
    }
   ],
   "source": [
    "from sklearn.preprocessing import StandardScaler\n",
    "\n",
    "# 표준화 객체 생성\n",
    "scaler = StandardScaler()\n",
    "\n",
    "# 표준화 적용\n",
    "df_scaled = scaler.fit_transform(df)\n",
    "\n",
    "print(df_scaled)"
   ]
  }
 ],
 "metadata": {
  "kernelspec": {
   "display_name": "Python 3",
   "language": "python",
   "name": "python3"
  },
  "language_info": {
   "codemirror_mode": {
    "name": "ipython",
    "version": 3
   },
   "file_extension": ".py",
   "mimetype": "text/x-python",
   "name": "python",
   "nbconvert_exporter": "python",
   "pygments_lexer": "ipython3",
   "version": "3.7.10"
  },
  "papermill": {
   "default_parameters": {},
   "duration": 10.692091,
   "end_time": "2021-07-03T06:36:34.657592",
   "environment_variables": {},
   "exception": null,
   "input_path": "__notebook__.ipynb",
   "output_path": "__notebook__.ipynb",
   "parameters": {},
   "start_time": "2021-07-03T06:36:23.965501",
   "version": "2.3.3"
  }
 },
 "nbformat": 4,
 "nbformat_minor": 5
}
