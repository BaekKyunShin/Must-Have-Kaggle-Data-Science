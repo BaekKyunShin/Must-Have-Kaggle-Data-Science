{
 "cells": [
  {
   "cell_type": "markdown",
   "metadata": {
    "papermill": {
     "duration": 0.004326,
     "end_time": "2021-07-05T11:27:24.917572",
     "exception": false,
     "start_time": "2021-07-05T11:27:24.913246",
     "status": "completed"
    },
    "tags": []
   },
   "source": [
    "# 결정 트리"
   ]
  },
  {
   "cell_type": "code",
   "execution_count": 1,
   "metadata": {
    "_cell_guid": "b1076dfc-b9ad-4769-8c92-a6c4dae69d19",
    "_uuid": "8f2839f25d086af736a60e9eeb907d3b93b6e0e5",
    "execution": {
     "iopub.execute_input": "2021-07-05T11:27:24.928164Z",
     "iopub.status.busy": "2021-07-05T11:27:24.927435Z",
     "iopub.status.idle": "2021-07-05T11:27:26.551672Z",
     "shell.execute_reply": "2021-07-05T11:27:26.552644Z",
     "shell.execute_reply.started": "2021-07-05T11:26:24.445663Z"
    },
    "papermill": {
     "duration": 1.63169,
     "end_time": "2021-07-05T11:27:26.552832",
     "exception": false,
     "start_time": "2021-07-05T11:27:24.921142",
     "status": "completed"
    },
    "tags": []
   },
   "outputs": [
    {
     "name": "stdout",
     "output_type": "stream",
     "text": [
      "결정 트리 정확도: 0.930\n"
     ]
    }
   ],
   "source": [
    "from sklearn.tree import DecisionTreeClassifier\n",
    "from sklearn.model_selection import train_test_split\n",
    "from sklearn.datasets import load_breast_cancer\n",
    "\n",
    "# 유방암 데이터 세트 불러오기\n",
    "cancer_data = load_breast_cancer()\n",
    "# 훈련, 테스트 데이터로 분리\n",
    "X_train, X_test, y_train, y_test = train_test_split(cancer_data['data'], \n",
    "                                                cancer_data['target'], \n",
    "                                                stratify=cancer_data['target'], \n",
    "                                                test_size=0.4, \n",
    "                                                random_state=42)\n",
    "\n",
    "decisiontree = DecisionTreeClassifier(random_state=42) # 결정 트리 정의\n",
    "decisiontree.fit(X_train, y_train) # 모델 훈련\n",
    "\n",
    "accuracy = decisiontree.score(X_test, y_test) # 정확도 측정\n",
    "\n",
    "# 테스트 데이터를 활용하여 결정 트리 모델 정확도 출력\n",
    "print(f'결정 트리 정확도: {accuracy:.3f}')"
   ]
  }
 ],
 "metadata": {
  "kernelspec": {
   "display_name": "Python 3",
   "language": "python",
   "name": "python3"
  },
  "language_info": {
   "codemirror_mode": {
    "name": "ipython",
    "version": 3
   },
   "file_extension": ".py",
   "mimetype": "text/x-python",
   "name": "python",
   "nbconvert_exporter": "python",
   "pygments_lexer": "ipython3",
   "version": "3.7.6"
  },
  "papermill": {
   "duration": 7.383495,
   "end_time": "2021-07-05T11:27:26.663328",
   "environment_variables": {},
   "exception": null,
   "input_path": "__notebook__.ipynb",
   "output_path": "__notebook__.ipynb",
   "parameters": {},
   "start_time": "2021-07-05T11:27:19.279833",
   "version": "2.1.0"
  }
 },
 "nbformat": 4,
 "nbformat_minor": 4
}
