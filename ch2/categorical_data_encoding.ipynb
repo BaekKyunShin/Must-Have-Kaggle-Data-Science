{
 "cells": [
  {
   "cell_type": "code",
   "execution_count": 1,
   "metadata": {
    "_cell_guid": "79c7e3d0-c299-4dcb-8224-4455121ee9b0",
    "_uuid": "d629ff2d2480ee46fbb7e2d37f6b5fab8052498a",
    "execution": {
     "iopub.execute_input": "2021-01-01T11:28:18.993689Z",
     "iopub.status.busy": "2021-01-01T11:28:18.993025Z",
     "iopub.status.idle": "2021-01-01T11:28:19.980021Z",
     "shell.execute_reply": "2021-01-01T11:28:19.979309Z"
    },
    "papermill": {
     "duration": 0.999161,
     "end_time": "2021-01-01T11:28:19.980188",
     "exception": false,
     "start_time": "2021-01-01T11:28:18.981027",
     "status": "completed"
    },
    "tags": []
   },
   "outputs": [
    {
     "name": "stdout",
     "output_type": "stream",
     "text": [
      "레이블 인코딩 후 데이터: [3 2 1 0 2 1 1 3]\n"
     ]
    }
   ],
   "source": [
    "from sklearn.preprocessing import LabelEncoder\n",
    "\n",
    "fruits = ['사과', '블루베리', '바나나', '귤', '블루베리', '바나나', '바나나', '사과']\n",
    "\n",
    "# 레이블 인코더 생성\n",
    "label_encoder = LabelEncoder()\n",
    "# 레이블 인코딩 적용\n",
    "fruits_label_encoded = label_encoder.fit_transform(fruits)\n",
    "\n",
    "print('레이블 인코딩 후 데이터:', fruits_label_encoded)"
   ]
  },
  {
   "cell_type": "code",
   "execution_count": 2,
   "metadata": {
    "execution": {
     "iopub.execute_input": "2021-01-01T11:28:20.003176Z",
     "iopub.status.busy": "2021-01-01T11:28:20.002398Z",
     "iopub.status.idle": "2021-01-01T11:28:20.008162Z",
     "shell.execute_reply": "2021-01-01T11:28:20.007379Z"
    },
    "papermill": {
     "duration": 0.021941,
     "end_time": "2021-01-01T11:28:20.008311",
     "exception": false,
     "start_time": "2021-01-01T11:28:19.986370",
     "status": "completed"
    },
    "tags": []
   },
   "outputs": [
    {
     "name": "stdout",
     "output_type": "stream",
     "text": [
      "원-핫 인코딩 후 데이터:\n",
      " [[0. 0. 0. 1.]\n",
      " [0. 0. 1. 0.]\n",
      " [0. 1. 0. 0.]\n",
      " [1. 0. 0. 0.]\n",
      " [0. 0. 1. 0.]\n",
      " [0. 1. 0. 0.]\n",
      " [0. 1. 0. 0.]\n",
      " [0. 0. 0. 1.]]\n"
     ]
    }
   ],
   "source": [
    "from sklearn.preprocessing import LabelEncoder, OneHotEncoder\n",
    "\n",
    "fruits = ['사과', '블루베리', '바나나', '귤', '블루베리', '바나나', '바나나', '사과']\n",
    "\n",
    "# 레이블 인코더, 웟-핫 인코더 생성\n",
    "label_encoder = LabelEncoder()\n",
    "onehot_encoder = OneHotEncoder()\n",
    "\n",
    "# 레이블 인코딩 적용\n",
    "fruits_label_encoded = label_encoder.fit_transform(fruits)\n",
    "# 원-핫 인코딩 적용 ---①\n",
    "fruits_onehot_encoded = onehot_encoder.fit_transform(fruits_label_encoded.reshape(-1, 1))\n",
    "\n",
    "print('원-핫 인코딩 후 데이터:\\n', fruits_onehot_encoded.toarray())"
   ]
  },
  {
   "cell_type": "code",
   "execution_count": null,
   "metadata": {
    "papermill": {
     "duration": 0.007907,
     "end_time": "2021-01-01T11:28:20.022530",
     "exception": false,
     "start_time": "2021-01-01T11:28:20.014623",
     "status": "completed"
    },
    "tags": []
   },
   "outputs": [],
   "source": []
  }
 ],
 "metadata": {
  "kernelspec": {
   "display_name": "Python 3",
   "language": "python",
   "name": "python3"
  },
  "language_info": {
   "codemirror_mode": {
    "name": "ipython",
    "version": 3
   },
   "file_extension": ".py",
   "mimetype": "text/x-python",
   "name": "python",
   "nbconvert_exporter": "python",
   "pygments_lexer": "ipython3",
   "version": "3.7.6"
  },
  "papermill": {
   "duration": 6.974943,
   "end_time": "2021-01-01T11:28:21.070167",
   "environment_variables": {},
   "exception": null,
   "input_path": "__notebook__.ipynb",
   "output_path": "__notebook__.ipynb",
   "parameters": {},
   "start_time": "2021-01-01T11:28:14.095224",
   "version": "2.1.0"
  }
 },
 "nbformat": 4,
 "nbformat_minor": 4
}
