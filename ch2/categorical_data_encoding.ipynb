{
 "cells": [
  {
   "cell_type": "markdown",
   "metadata": {
    "papermill": {
     "duration": 0.005197,
     "end_time": "2021-07-03T05:45:40.862641",
     "exception": false,
     "start_time": "2021-07-03T05:45:40.857444",
     "status": "completed"
    },
    "tags": []
   },
   "source": [
    "## 레이블 인코딩"
   ]
  },
  {
   "cell_type": "code",
   "execution_count": 1,
   "metadata": {
    "execution": {
     "iopub.execute_input": "2021-07-03T05:45:40.878321Z",
     "iopub.status.busy": "2021-07-03T05:45:40.877486Z",
     "iopub.status.idle": "2021-07-03T05:45:41.892356Z",
     "shell.execute_reply": "2021-07-03T05:45:41.891777Z",
     "shell.execute_reply.started": "2021-07-03T05:41:19.066938Z"
    },
    "papermill": {
     "duration": 1.025353,
     "end_time": "2021-07-03T05:45:41.892483",
     "exception": false,
     "start_time": "2021-07-03T05:45:40.867130",
     "status": "completed"
    },
    "tags": []
   },
   "outputs": [
    {
     "name": "stdout",
     "output_type": "stream",
     "text": [
      "레이블 인코딩 적용 후 데이터: [3 2 1 0 2 1 1 3]\n"
     ]
    }
   ],
   "source": [
    "from sklearn.preprocessing import LabelEncoder # 레이블 인코더\n",
    "\n",
    "fruits = ['사과', '블루베리', '바나나', '귤', '블루베리', '바나나', '바나나', '사과']\n",
    "\n",
    "# 레이블 인코더 생성\n",
    "label_encoder = LabelEncoder()\n",
    "# 레이블 인코딩 적용\n",
    "fruits_label_encoded = label_encoder.fit_transform(fruits)\n",
    "\n",
    "print('레이블 인코딩 적용 후 데이터:', fruits_label_encoded)"
   ]
  },
  {
   "cell_type": "markdown",
   "metadata": {
    "papermill": {
     "duration": 0.003982,
     "end_time": "2021-07-03T05:45:41.904074",
     "exception": false,
     "start_time": "2021-07-03T05:45:41.900092",
     "status": "completed"
    },
    "tags": []
   },
   "source": [
    "## 원-핫 인코딩"
   ]
  },
  {
   "cell_type": "code",
   "execution_count": 2,
   "metadata": {
    "execution": {
     "iopub.execute_input": "2021-07-03T05:45:41.922995Z",
     "iopub.status.busy": "2021-07-03T05:45:41.922202Z",
     "iopub.status.idle": "2021-07-03T05:45:41.926638Z",
     "shell.execute_reply": "2021-07-03T05:45:41.926093Z",
     "shell.execute_reply.started": "2021-07-03T05:41:20.055238Z"
    },
    "papermill": {
     "duration": 0.018137,
     "end_time": "2021-07-03T05:45:41.926775",
     "exception": false,
     "start_time": "2021-07-03T05:45:41.908638",
     "status": "completed"
    },
    "tags": []
   },
   "outputs": [
    {
     "name": "stdout",
     "output_type": "stream",
     "text": [
      "원-핫 인코딩 적용 후 데이터:\n",
      " [[0. 0. 0. 1.]\n",
      " [0. 0. 1. 0.]\n",
      " [0. 1. 0. 0.]\n",
      " [1. 0. 0. 0.]\n",
      " [0. 0. 1. 0.]\n",
      " [0. 1. 0. 0.]\n",
      " [0. 1. 0. 0.]\n",
      " [0. 0. 0. 1.]]\n"
     ]
    }
   ],
   "source": [
    "from sklearn.preprocessing import LabelEncoder, OneHotEncoder\n",
    "\n",
    "fruits = ['사과', '블루베리', '바나나', '귤', '블루베리', '바나나', '바나나', '사과']\n",
    "\n",
    "# 레이블 인코더, 웟-핫 인코더 생성\n",
    "label_encoder = LabelEncoder()\n",
    "onehot_encoder = OneHotEncoder()\n",
    "\n",
    "# 레이블 인코딩 적용 (문자 데이터를 숫자 데이터로 바꾸기 위해)\n",
    "fruits_label_encoded = label_encoder.fit_transform(fruits)\n",
    "# 원-핫 인코딩 적용 ---①\n",
    "fruits_onehot_encoded = onehot_encoder.fit_transform(fruits_label_encoded.reshape(-1, 1))\n",
    "\n",
    "print('원-핫 인코딩 적용 후 데이터:\\n', fruits_onehot_encoded.toarray())"
   ]
  },
  {
   "cell_type": "code",
   "execution_count": 3,
   "metadata": {
    "execution": {
     "iopub.execute_input": "2021-07-03T05:45:41.955598Z",
     "iopub.status.busy": "2021-07-03T05:45:41.954322Z",
     "iopub.status.idle": "2021-07-03T05:45:41.964461Z",
     "shell.execute_reply": "2021-07-03T05:45:41.963923Z",
     "shell.execute_reply.started": "2021-07-03T05:41:20.070730Z"
    },
    "papermill": {
     "duration": 0.033184,
     "end_time": "2021-07-03T05:45:41.964608",
     "exception": false,
     "start_time": "2021-07-03T05:45:41.931424",
     "status": "completed"
    },
    "tags": []
   },
   "outputs": [
    {
     "data": {
      "text/html": [
       "<div>\n",
       "<style scoped>\n",
       "    .dataframe tbody tr th:only-of-type {\n",
       "        vertical-align: middle;\n",
       "    }\n",
       "\n",
       "    .dataframe tbody tr th {\n",
       "        vertical-align: top;\n",
       "    }\n",
       "\n",
       "    .dataframe thead th {\n",
       "        text-align: right;\n",
       "    }\n",
       "</style>\n",
       "<table border=\"1\" class=\"dataframe\">\n",
       "  <thead>\n",
       "    <tr style=\"text-align: right;\">\n",
       "      <th></th>\n",
       "      <th>귤</th>\n",
       "      <th>바나나</th>\n",
       "      <th>블루베리</th>\n",
       "      <th>사과</th>\n",
       "    </tr>\n",
       "  </thead>\n",
       "  <tbody>\n",
       "    <tr>\n",
       "      <th>0</th>\n",
       "      <td>0</td>\n",
       "      <td>0</td>\n",
       "      <td>0</td>\n",
       "      <td>1</td>\n",
       "    </tr>\n",
       "    <tr>\n",
       "      <th>1</th>\n",
       "      <td>0</td>\n",
       "      <td>0</td>\n",
       "      <td>1</td>\n",
       "      <td>0</td>\n",
       "    </tr>\n",
       "    <tr>\n",
       "      <th>2</th>\n",
       "      <td>0</td>\n",
       "      <td>1</td>\n",
       "      <td>0</td>\n",
       "      <td>0</td>\n",
       "    </tr>\n",
       "    <tr>\n",
       "      <th>3</th>\n",
       "      <td>1</td>\n",
       "      <td>0</td>\n",
       "      <td>0</td>\n",
       "      <td>0</td>\n",
       "    </tr>\n",
       "    <tr>\n",
       "      <th>4</th>\n",
       "      <td>0</td>\n",
       "      <td>0</td>\n",
       "      <td>1</td>\n",
       "      <td>0</td>\n",
       "    </tr>\n",
       "    <tr>\n",
       "      <th>5</th>\n",
       "      <td>0</td>\n",
       "      <td>1</td>\n",
       "      <td>0</td>\n",
       "      <td>0</td>\n",
       "    </tr>\n",
       "    <tr>\n",
       "      <th>6</th>\n",
       "      <td>0</td>\n",
       "      <td>1</td>\n",
       "      <td>0</td>\n",
       "      <td>0</td>\n",
       "    </tr>\n",
       "    <tr>\n",
       "      <th>7</th>\n",
       "      <td>0</td>\n",
       "      <td>0</td>\n",
       "      <td>0</td>\n",
       "      <td>1</td>\n",
       "    </tr>\n",
       "  </tbody>\n",
       "</table>\n",
       "</div>"
      ],
      "text/plain": [
       "   귤  바나나  블루베리  사과\n",
       "0  0    0     0   1\n",
       "1  0    0     1   0\n",
       "2  0    1     0   0\n",
       "3  1    0     0   0\n",
       "4  0    0     1   0\n",
       "5  0    1     0   0\n",
       "6  0    1     0   0\n",
       "7  0    0     0   1"
      ]
     },
     "execution_count": 3,
     "metadata": {},
     "output_type": "execute_result"
    }
   ],
   "source": [
    "import pandas as pd\n",
    "\n",
    "pd.get_dummies(fruits)"
   ]
  }
 ],
 "metadata": {
  "kernelspec": {
   "display_name": "Python 3",
   "language": "python",
   "name": "python3"
  },
  "language_info": {
   "codemirror_mode": {
    "name": "ipython",
    "version": 3
   },
   "file_extension": ".py",
   "mimetype": "text/x-python",
   "name": "python",
   "nbconvert_exporter": "python",
   "pygments_lexer": "ipython3",
   "version": "3.7.6"
  },
  "papermill": {
   "duration": 6.23202,
   "end_time": "2021-07-03T05:45:42.078512",
   "environment_variables": {},
   "exception": null,
   "input_path": "__notebook__.ipynb",
   "output_path": "__notebook__.ipynb",
   "parameters": {},
   "start_time": "2021-07-03T05:45:35.846492",
   "version": "2.1.0"
  }
 },
 "nbformat": 4,
 "nbformat_minor": 4
}
