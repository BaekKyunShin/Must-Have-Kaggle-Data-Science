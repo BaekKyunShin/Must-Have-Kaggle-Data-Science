{
 "cells": [
  {
   "cell_type": "markdown",
   "metadata": {
    "papermill": {
     "duration": 0.005474,
     "end_time": "2021-02-13T03:42:22.099613",
     "exception": false,
     "start_time": "2021-02-13T03:42:22.094139",
     "status": "completed"
    },
    "tags": []
   },
   "source": [
    "# 교차 검증"
   ]
  },
  {
   "cell_type": "code",
   "execution_count": 1,
   "metadata": {
    "_cell_guid": "b1076dfc-b9ad-4769-8c92-a6c4dae69d19",
    "_uuid": "8f2839f25d086af736a60e9eeb907d3b93b6e0e5",
    "execution": {
     "iopub.execute_input": "2021-02-13T03:42:22.116589Z",
     "iopub.status.busy": "2021-02-13T03:42:22.115706Z",
     "iopub.status.idle": "2021-02-13T03:42:23.106222Z",
     "shell.execute_reply": "2021-02-13T03:42:23.105560Z"
    },
    "papermill": {
     "duration": 1.001994,
     "end_time": "2021-02-13T03:42:23.106329",
     "exception": false,
     "start_time": "2021-02-13T03:42:22.104335",
     "status": "completed"
    },
    "tags": []
   },
   "outputs": [
    {
     "name": "stdout",
     "output_type": "stream",
     "text": [
      "훈련 데이터: [2 3 4 5 6 7 8 9], 검증 데이터: [0 1]\n",
      "훈련 데이터: [0 1 4 5 6 7 8 9], 검증 데이터: [2 3]\n",
      "훈련 데이터: [0 1 2 3 6 7 8 9], 검증 데이터: [4 5]\n",
      "훈련 데이터: [0 1 2 3 4 5 8 9], 검증 데이터: [6 7]\n",
      "훈련 데이터: [0 1 2 3 4 5 6 7], 검증 데이터: [8 9]\n"
     ]
    }
   ],
   "source": [
    "import numpy as np\n",
    "from sklearn.model_selection import KFold\n",
    "\n",
    "data = np.array([0, 1, 2, 3, 4, 5, 6, 7, 8, 9])\n",
    "kfold = KFold(n_splits=5, shuffle=False)\n",
    "\n",
    "for train, valid in kfold.split(data):\n",
    "    print(f'훈련 데이터: {data[train]}, 검증 데이터: {data[valid]}')"
   ]
  },
  {
   "cell_type": "markdown",
   "metadata": {
    "papermill": {
     "duration": 0.0048,
     "end_time": "2021-02-13T03:42:23.118598",
     "exception": false,
     "start_time": "2021-02-13T03:42:23.113798",
     "status": "completed"
    },
    "tags": []
   },
   "source": [
    "## K 폴드 교차 검증"
   ]
  },
  {
   "cell_type": "code",
   "execution_count": 2,
   "metadata": {
    "execution": {
     "iopub.execute_input": "2021-02-13T03:42:23.135876Z",
     "iopub.status.busy": "2021-02-13T03:42:23.135152Z",
     "iopub.status.idle": "2021-02-13T03:42:23.142638Z",
     "shell.execute_reply": "2021-02-13T03:42:23.141378Z"
    },
    "papermill": {
     "duration": 0.019269,
     "end_time": "2021-02-13T03:42:23.142859",
     "exception": false,
     "start_time": "2021-02-13T03:42:23.123590",
     "status": "completed"
    },
    "tags": []
   },
   "outputs": [
    {
     "name": "stdout",
     "output_type": "stream",
     "text": [
      "Fold 1 검증 데이터 타깃 값:\n",
      "['스팸' '스팸' '일반' '일반' '일반' '일반' '일반' '일반' '일반' '일반'] \n",
      "\n",
      "Fold 2 검증 데이터 타깃 값:\n",
      "['일반' '일반' '일반' '일반' '일반' '일반' '일반' '일반' '일반' '일반'] \n",
      "\n",
      "Fold 3 검증 데이터 타깃 값:\n",
      "['스팸' '일반' '일반' '일반' '일반' '일반' '일반' '일반' '일반' '일반'] \n",
      "\n",
      "Fold 4 검증 데이터 타깃 값:\n",
      "['스팸' '일반' '일반' '일반' '일반' '일반' '일반' '일반' '일반' '일반'] \n",
      "\n",
      "Fold 5 검증 데이터 타깃 값:\n",
      "['스팸' '일반' '일반' '일반' '일반' '일반' '일반' '일반' '일반' '일반'] \n",
      "\n"
     ]
    }
   ],
   "source": [
    "y = np.array(['스팸']*5 + ['일반']*45)\n",
    "\n",
    "skf = KFold(n_splits=5, shuffle=True)\n",
    "\n",
    "for idx, (train_idx, valid_idx) in enumerate(skf.split(y)):\n",
    "    print(f'Fold {idx+1} 검증 데이터 타깃 값:')\n",
    "    print(y[valid_idx], '\\n')"
   ]
  },
  {
   "cell_type": "markdown",
   "metadata": {
    "papermill": {
     "duration": 0.005536,
     "end_time": "2021-02-13T03:42:23.154890",
     "exception": false,
     "start_time": "2021-02-13T03:42:23.149354",
     "status": "completed"
    },
    "tags": []
   },
   "source": [
    "## Stratified K 폴드 교차 검증"
   ]
  },
  {
   "cell_type": "code",
   "execution_count": 3,
   "metadata": {
    "_cell_guid": "79c7e3d0-c299-4dcb-8224-4455121ee9b0",
    "_uuid": "d629ff2d2480ee46fbb7e2d37f6b5fab8052498a",
    "execution": {
     "iopub.execute_input": "2021-02-13T03:42:23.174242Z",
     "iopub.status.busy": "2021-02-13T03:42:23.173379Z",
     "iopub.status.idle": "2021-02-13T03:42:23.183091Z",
     "shell.execute_reply": "2021-02-13T03:42:23.181941Z"
    },
    "papermill": {
     "duration": 0.022736,
     "end_time": "2021-02-13T03:42:23.183267",
     "exception": false,
     "start_time": "2021-02-13T03:42:23.160531",
     "status": "completed"
    },
    "tags": []
   },
   "outputs": [
    {
     "name": "stdout",
     "output_type": "stream",
     "text": [
      "Fold 1 검증 데이터 타깃 값:\n",
      "['스팸' '일반' '일반' '일반' '일반' '일반' '일반' '일반' '일반' '일반'] \n",
      "\n",
      "Fold 2 검증 데이터 타깃 값:\n",
      "['스팸' '일반' '일반' '일반' '일반' '일반' '일반' '일반' '일반' '일반'] \n",
      "\n",
      "Fold 3 검증 데이터 타깃 값:\n",
      "['스팸' '일반' '일반' '일반' '일반' '일반' '일반' '일반' '일반' '일반'] \n",
      "\n",
      "Fold 4 검증 데이터 타깃 값:\n",
      "['스팸' '일반' '일반' '일반' '일반' '일반' '일반' '일반' '일반' '일반'] \n",
      "\n",
      "Fold 5 검증 데이터 타깃 값:\n",
      "['스팸' '일반' '일반' '일반' '일반' '일반' '일반' '일반' '일반' '일반'] \n",
      "\n"
     ]
    }
   ],
   "source": [
    "from sklearn.model_selection import StratifiedKFold\n",
    "\n",
    "X = np.array(range(50))\n",
    "y = np.array(['스팸']*5 + ['일반']*45)\n",
    "\n",
    "skf = StratifiedKFold(n_splits=5)\n",
    "\n",
    "for idx, (train_idx, valid_idx) in enumerate(skf.split(X, y)):\n",
    "    print(f'Fold {idx+1} 검증 데이터 타깃 값:')\n",
    "    print(y[valid_idx], '\\n')"
   ]
  }
 ],
 "metadata": {
  "kernelspec": {
   "display_name": "Python 3",
   "language": "python",
   "name": "python3"
  },
  "language_info": {
   "codemirror_mode": {
    "name": "ipython",
    "version": 3
   },
   "file_extension": ".py",
   "mimetype": "text/x-python",
   "name": "python",
   "nbconvert_exporter": "python",
   "pygments_lexer": "ipython3",
   "version": "3.7.6"
  },
  "papermill": {
   "duration": 5.854657,
   "end_time": "2021-02-13T03:42:23.297755",
   "environment_variables": {},
   "exception": null,
   "input_path": "__notebook__.ipynb",
   "output_path": "__notebook__.ipynb",
   "parameters": {},
   "start_time": "2021-02-13T03:42:17.443098",
   "version": "2.1.0"
  }
 },
 "nbformat": 4,
 "nbformat_minor": 4
}
