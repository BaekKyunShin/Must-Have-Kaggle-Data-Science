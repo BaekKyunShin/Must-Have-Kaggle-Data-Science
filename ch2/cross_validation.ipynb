{
 "cells": [
  {
   "cell_type": "markdown",
   "metadata": {
    "papermill": {
     "duration": 0.006398,
     "end_time": "2021-01-30T02:23:04.669485",
     "exception": false,
     "start_time": "2021-01-30T02:23:04.663087",
     "status": "completed"
    },
    "tags": []
   },
   "source": [
    "# 교차 검증"
   ]
  },
  {
   "cell_type": "code",
   "execution_count": 1,
   "metadata": {
    "_cell_guid": "b1076dfc-b9ad-4769-8c92-a6c4dae69d19",
    "_uuid": "8f2839f25d086af736a60e9eeb907d3b93b6e0e5",
    "execution": {
     "iopub.execute_input": "2021-01-30T02:23:04.688338Z",
     "iopub.status.busy": "2021-01-30T02:23:04.687593Z",
     "iopub.status.idle": "2021-01-30T02:23:05.977148Z",
     "shell.execute_reply": "2021-01-30T02:23:05.976484Z"
    },
    "papermill": {
     "duration": 1.302494,
     "end_time": "2021-01-30T02:23:05.977284",
     "exception": false,
     "start_time": "2021-01-30T02:23:04.674790",
     "status": "completed"
    },
    "tags": []
   },
   "outputs": [
    {
     "name": "stdout",
     "output_type": "stream",
     "text": [
      "훈련 데이터: [2 3 4 5 6 7 8 9], 검증 데이터: [0 1]\n",
      "훈련 데이터: [0 1 4 5 6 7 8 9], 검증 데이터: [2 3]\n",
      "훈련 데이터: [0 1 2 3 6 7 8 9], 검증 데이터: [4 5]\n",
      "훈련 데이터: [0 1 2 3 4 5 8 9], 검증 데이터: [6 7]\n",
      "훈련 데이터: [0 1 2 3 4 5 6 7], 검증 데이터: [8 9]\n"
     ]
    }
   ],
   "source": [
    "import numpy as np\n",
    "from sklearn.model_selection import KFold\n",
    "\n",
    "data = np.array([0, 1, 2, 3, 4, 5, 6, 7, 8, 9])\n",
    "kfold = KFold(n_splits=5, shuffle=False)\n",
    "\n",
    "for train, valid in kfold.split(data):\n",
    "    print(f'훈련 데이터: {data[train]}, 검증 데이터: {data[valid]}')"
   ]
  },
  {
   "cell_type": "markdown",
   "metadata": {
    "papermill": {
     "duration": 0.005379,
     "end_time": "2021-01-30T02:23:05.993373",
     "exception": false,
     "start_time": "2021-01-30T02:23:05.987994",
     "status": "completed"
    },
    "tags": []
   },
   "source": [
    "## K 폴드 교차 검증"
   ]
  },
  {
   "cell_type": "code",
   "execution_count": 2,
   "metadata": {
    "execution": {
     "iopub.execute_input": "2021-01-30T02:23:06.015751Z",
     "iopub.status.busy": "2021-01-30T02:23:06.014881Z",
     "iopub.status.idle": "2021-01-30T02:23:06.020262Z",
     "shell.execute_reply": "2021-01-30T02:23:06.019409Z"
    },
    "papermill": {
     "duration": 0.021353,
     "end_time": "2021-01-30T02:23:06.020422",
     "exception": false,
     "start_time": "2021-01-30T02:23:05.999069",
     "status": "completed"
    },
    "tags": []
   },
   "outputs": [
    {
     "name": "stdout",
     "output_type": "stream",
     "text": [
      "Fold 1\n",
      "검증 데이터 :  ['스팸' '스팸' '일반' '일반' '일반' '일반' '일반' '일반' '일반' '일반'] \n",
      "\n",
      "Fold 2\n",
      "검증 데이터 :  ['일반' '일반' '일반' '일반' '일반' '일반' '일반' '일반' '일반' '일반'] \n",
      "\n",
      "Fold 3\n",
      "검증 데이터 :  ['일반' '일반' '일반' '일반' '일반' '일반' '일반' '일반' '일반' '일반'] \n",
      "\n",
      "Fold 4\n",
      "검증 데이터 :  ['스팸' '스팸' '일반' '일반' '일반' '일반' '일반' '일반' '일반' '일반'] \n",
      "\n",
      "Fold 5\n",
      "검증 데이터 :  ['스팸' '일반' '일반' '일반' '일반' '일반' '일반' '일반' '일반' '일반'] \n",
      "\n"
     ]
    }
   ],
   "source": [
    "y = np.array(['스팸']*5 + ['일반']*45)\n",
    "\n",
    "skf = KFold(n_splits=5, shuffle=True)\n",
    "fold = 1\n",
    "\n",
    "for train_idx, valid_idx in skf.split(y):\n",
    "    print('Fold', fold)\n",
    "    print('검증 데이터 : ', y[valid_idx], '\\n')\n",
    "    fold += 1"
   ]
  },
  {
   "cell_type": "markdown",
   "metadata": {
    "papermill": {
     "duration": 0.005666,
     "end_time": "2021-01-30T02:23:06.033005",
     "exception": false,
     "start_time": "2021-01-30T02:23:06.027339",
     "status": "completed"
    },
    "tags": []
   },
   "source": [
    "## Stratified K 폴드 교차 검증"
   ]
  },
  {
   "cell_type": "code",
   "execution_count": 3,
   "metadata": {
    "_cell_guid": "79c7e3d0-c299-4dcb-8224-4455121ee9b0",
    "_uuid": "d629ff2d2480ee46fbb7e2d37f6b5fab8052498a",
    "execution": {
     "iopub.execute_input": "2021-01-30T02:23:06.053908Z",
     "iopub.status.busy": "2021-01-30T02:23:06.053030Z",
     "iopub.status.idle": "2021-01-30T02:23:06.064143Z",
     "shell.execute_reply": "2021-01-30T02:23:06.065110Z"
    },
    "papermill": {
     "duration": 0.026408,
     "end_time": "2021-01-30T02:23:06.065350",
     "exception": false,
     "start_time": "2021-01-30T02:23:06.038942",
     "status": "completed"
    },
    "tags": []
   },
   "outputs": [
    {
     "name": "stdout",
     "output_type": "stream",
     "text": [
      "Fold 1\n",
      "검증 데이터 :  ['스팸' '일반' '일반' '일반' '일반' '일반' '일반' '일반' '일반' '일반'] \n",
      "\n",
      "Fold 2\n",
      "검증 데이터 :  ['스팸' '일반' '일반' '일반' '일반' '일반' '일반' '일반' '일반' '일반'] \n",
      "\n",
      "Fold 3\n",
      "검증 데이터 :  ['스팸' '일반' '일반' '일반' '일반' '일반' '일반' '일반' '일반' '일반'] \n",
      "\n",
      "Fold 4\n",
      "검증 데이터 :  ['스팸' '일반' '일반' '일반' '일반' '일반' '일반' '일반' '일반' '일반'] \n",
      "\n",
      "Fold 5\n",
      "검증 데이터 :  ['스팸' '일반' '일반' '일반' '일반' '일반' '일반' '일반' '일반' '일반'] \n",
      "\n"
     ]
    }
   ],
   "source": [
    "from sklearn.model_selection import StratifiedKFold\n",
    "\n",
    "X = np.array(range(50))\n",
    "y = np.array(['스팸']*5 + ['일반']*45)\n",
    "\n",
    "skf = StratifiedKFold(n_splits=5)\n",
    "fold = 1\n",
    "\n",
    "for train_idx, valid_idx in skf.split(X, y):\n",
    "    print('Fold', fold)\n",
    "    print('검증 데이터 : ', y[valid_idx], '\\n')\n",
    "    fold += 1"
   ]
  }
 ],
 "metadata": {
  "kernelspec": {
   "display_name": "Python 3",
   "language": "python",
   "name": "python3"
  },
  "language_info": {
   "codemirror_mode": {
    "name": "ipython",
    "version": 3
   },
   "file_extension": ".py",
   "mimetype": "text/x-python",
   "name": "python",
   "nbconvert_exporter": "python",
   "pygments_lexer": "ipython3",
   "version": "3.7.6"
  },
  "papermill": {
   "duration": 6.847331,
   "end_time": "2021-01-30T02:23:06.181031",
   "environment_variables": {},
   "exception": null,
   "input_path": "__notebook__.ipynb",
   "output_path": "__notebook__.ipynb",
   "parameters": {},
   "start_time": "2021-01-30T02:22:59.333700",
   "version": "2.1.0"
  }
 },
 "nbformat": 4,
 "nbformat_minor": 4
}
