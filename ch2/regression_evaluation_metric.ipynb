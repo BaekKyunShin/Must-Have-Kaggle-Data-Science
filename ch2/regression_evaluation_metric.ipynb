{
 "cells": [
  {
   "cell_type": "code",
   "execution_count": 1,
   "metadata": {
    "_cell_guid": "b1076dfc-b9ad-4769-8c92-a6c4dae69d19",
    "_uuid": "8f2839f25d086af736a60e9eeb907d3b93b6e0e5",
    "execution": {
     "iopub.execute_input": "2020-12-31T11:29:09.370036Z",
     "iopub.status.busy": "2020-12-31T11:29:09.369298Z",
     "iopub.status.idle": "2020-12-31T11:29:10.475952Z",
     "shell.execute_reply": "2020-12-31T11:29:10.476762Z"
    },
    "papermill": {
     "duration": 1.11513,
     "end_time": "2020-12-31T11:29:10.476990",
     "exception": false,
     "start_time": "2020-12-31T11:29:09.361860",
     "status": "completed"
    },
    "tags": []
   },
   "outputs": [
    {
     "name": "stdout",
     "output_type": "stream",
     "text": [
      "MAE:   0.5385\n",
      "MSE:   0.6923\n",
      "RMSE:  0.8321\n",
      "MSLE:  0.0296\n",
      "RMSLE: 0.1721\n",
      "R2:    0.8617\n"
     ]
    }
   ],
   "source": [
    "import numpy as np\n",
    "from sklearn.metrics import mean_squared_error, r2_score, mean_absolute_error, mean_squared_log_error\n",
    "\n",
    "traget_values = np.array([1, 2, 3, 2, 3, 5, 4, 6, 5, 6, 7, 8, 8])\n",
    "predicted_values = np.array([1, 1, 2, 2, 3, 4, 4, 5, 5, 7, 7, 6, 8])\n",
    "\n",
    "MAE =  mean_absolute_error(traget_values, predicted_values)\n",
    "MSE = mean_squared_error(traget_values, predicted_values)\n",
    "RMSE = np.sqrt(MSE)\n",
    "MSLE = mean_squared_log_error(traget_values, predicted_values)\n",
    "RMSLE = np.sqrt(mean_squared_log_error(traget_values, predicted_values))\n",
    "R2 = r2_score(traget_values, predicted_values)\n",
    "\n",
    "print('%-6s' %('MAE:'), np.round(MAE, 4))\n",
    "print('%-6s' %('MSE:'), np.round(MSE, 4))\n",
    "print('%-6s' %('RMSE:'), np.round(RMSE, 4))\n",
    "print('%-6s' %('MSLE:'), np.round(MSLE, 4))\n",
    "print('%-6s' %('RMSLE:'), np.round(RMSLE, 4))\n",
    "print('%-6s' %('R2:'), np.round(R2, 4))"
   ]
  },
  {
   "cell_type": "code",
   "execution_count": null,
   "metadata": {
    "papermill": {
     "duration": 0.003195,
     "end_time": "2020-12-31T11:29:10.485103",
     "exception": false,
     "start_time": "2020-12-31T11:29:10.481908",
     "status": "completed"
    },
    "tags": []
   },
   "outputs": [],
   "source": []
  }
 ],
 "metadata": {
  "kernelspec": {
   "display_name": "Python 3",
   "language": "python",
   "name": "python3"
  },
  "language_info": {
   "codemirror_mode": {
    "name": "ipython",
    "version": 3
   },
   "file_extension": ".py",
   "mimetype": "text/x-python",
   "name": "python",
   "nbconvert_exporter": "python",
   "pygments_lexer": "ipython3",
   "version": "3.7.6"
  },
  "papermill": {
   "duration": 6.048843,
   "end_time": "2020-12-31T11:29:10.599611",
   "environment_variables": {},
   "exception": null,
   "input_path": "__notebook__.ipynb",
   "output_path": "__notebook__.ipynb",
   "parameters": {},
   "start_time": "2020-12-31T11:29:04.550768",
   "version": "2.1.0"
  }
 },
 "nbformat": 4,
 "nbformat_minor": 4
}
