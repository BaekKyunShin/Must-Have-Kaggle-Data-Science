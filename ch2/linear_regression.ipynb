{
 "cells": [
  {
   "cell_type": "code",
   "execution_count": 1,
   "metadata": {
    "execution": {
<<<<<<< HEAD
     "iopub.execute_input": "2021-07-04T04:05:32.604993Z",
     "iopub.status.busy": "2021-07-04T04:05:32.604340Z",
     "iopub.status.idle": "2021-07-04T04:05:32.794740Z",
     "shell.execute_reply": "2021-07-04T04:05:32.795197Z",
     "shell.execute_reply.started": "2021-07-04T04:00:00.202628Z"
    },
    "papermill": {
     "duration": 0.20121,
     "end_time": "2021-07-04T04:05:32.795381",
     "exception": false,
     "start_time": "2021-07-04T04:05:32.594171",
=======
     "iopub.execute_input": "2021-01-07T10:57:42.774241Z",
     "iopub.status.busy": "2021-01-07T10:57:42.773520Z",
     "iopub.status.idle": "2021-01-07T10:57:42.973466Z",
     "shell.execute_reply": "2021-01-07T10:57:42.973991Z"
    },
    "papermill": {
     "duration": 0.21115,
     "end_time": "2021-01-07T10:57:42.974157",
     "exception": false,
     "start_time": "2021-01-07T10:57:42.763007",
>>>>>>> c7df5457d98e4686e8e6ad0375a14bd8ca9ae471
     "status": "completed"
    },
    "tags": []
   },
   "outputs": [
    {
     "data": {
      "image/png": "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\n",
      "text/plain": [
       "<Figure size 432x288 with 1 Axes>"
      ]
     },
     "metadata": {
      "needs_background": "light"
     },
     "output_type": "display_data"
    }
   ],
   "source": [
    "import numpy as np\n",
    "import matplotlib.pyplot as plt\n",
    "\n",
    "np.random.seed(0) # 시드값 고정\n",
    "\n",
    "w0 = 5 # 절편\n",
    "w1 = 2 # 회귀 계수\n",
    "noise = np.random.randn(100, 1) # 노이즈\n",
    "\n",
<<<<<<< HEAD
    "X = 4 * np.random.rand(100, 1) # 0~4 사이 실수값 100개 생성 (X값)\n",
    "y = w1*X + w0 + noise # y값\n",
=======
    "X = 4 * np.random.rand(100, 1) # 0~4 사이 실수값 100개 생성\n",
    "y = w1*X + w0 + noise\n",
>>>>>>> c7df5457d98e4686e8e6ad0375a14bd8ca9ae471
    "\n",
    "plt.scatter(X, y);"
   ]
  },
  {
   "cell_type": "code",
   "execution_count": 2,
   "metadata": {
    "execution": {
<<<<<<< HEAD
     "iopub.execute_input": "2021-07-04T04:05:32.807709Z",
     "iopub.status.busy": "2021-07-04T04:05:32.807133Z",
     "iopub.status.idle": "2021-07-04T04:05:33.841828Z",
     "shell.execute_reply": "2021-07-04T04:05:33.841050Z",
     "shell.execute_reply.started": "2021-07-04T03:51:41.857786Z"
    },
    "papermill": {
     "duration": 1.042636,
     "end_time": "2021-07-04T04:05:33.841948",
     "exception": false,
     "start_time": "2021-07-04T04:05:32.799312",
=======
     "iopub.execute_input": "2021-01-07T10:57:42.987042Z",
     "iopub.status.busy": "2021-01-07T10:57:42.986420Z",
     "iopub.status.idle": "2021-01-07T10:57:43.911765Z",
     "shell.execute_reply": "2021-01-07T10:57:43.911275Z"
    },
    "papermill": {
     "duration": 0.933518,
     "end_time": "2021-01-07T10:57:43.911869",
     "exception": false,
     "start_time": "2021-01-07T10:57:42.978351",
>>>>>>> c7df5457d98e4686e8e6ad0375a14bd8ca9ae471
     "status": "completed"
    },
    "tags": []
   },
   "outputs": [
    {
     "name": "stdout",
     "output_type": "stream",
     "text": [
      "절편(w0): [5.09772262]\n",
      "회귀 계수(w1): [[1.9808382]]\n"
     ]
    }
   ],
   "source": [
    "from sklearn.linear_model import LinearRegression\n",
    "\n",
<<<<<<< HEAD
    "linear_reg_model = LinearRegression() # 선형회귀모\n",
    "linear_reg_model.fit(X, y) # 모델 훈련\n",
=======
    "linear_reg_model = LinearRegression()\n",
    "linear_reg_model.fit(X, y)\n",
>>>>>>> c7df5457d98e4686e8e6ad0375a14bd8ca9ae471
    "\n",
    "print('절편(w0):', linear_reg_model.intercept_)\n",
    "print('회귀 계수(w1):', linear_reg_model.coef_)"
   ]
  },
  {
   "cell_type": "code",
   "execution_count": 3,
   "metadata": {
    "execution": {
<<<<<<< HEAD
     "iopub.execute_input": "2021-07-04T04:05:33.862512Z",
     "iopub.status.busy": "2021-07-04T04:05:33.856935Z",
     "iopub.status.idle": "2021-07-04T04:05:33.988643Z",
     "shell.execute_reply": "2021-07-04T04:05:33.989086Z",
     "shell.execute_reply.started": "2021-07-04T03:51:42.884155Z"
    },
    "papermill": {
     "duration": 0.141547,
     "end_time": "2021-07-04T04:05:33.989216",
     "exception": false,
     "start_time": "2021-07-04T04:05:33.847669",
=======
     "iopub.execute_input": "2021-01-07T10:57:43.930834Z",
     "iopub.status.busy": "2021-01-07T10:57:43.929657Z",
     "iopub.status.idle": "2021-01-07T10:57:44.059000Z",
     "shell.execute_reply": "2021-01-07T10:57:44.058538Z"
    },
    "papermill": {
     "duration": 0.14151,
     "end_time": "2021-01-07T10:57:44.059094",
     "exception": false,
     "start_time": "2021-01-07T10:57:43.917584",
>>>>>>> c7df5457d98e4686e8e6ad0375a14bd8ca9ae471
     "status": "completed"
    },
    "tags": []
   },
   "outputs": [
    {
     "data": {
      "image/png": "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\n",
      "text/plain": [
       "<Figure size 432x288 with 1 Axes>"
      ]
     },
     "metadata": {
      "needs_background": "light"
     },
     "output_type": "display_data"
    }
   ],
   "source": [
    "y_pred = linear_reg_model.predict(X) # 예측\n",
    "\n",
    "plt.scatter(X, y)\n",
    "plt.plot(X, y_pred); # 선형 회귀선 그리기"
   ]
  }
 ],
 "metadata": {
  "kernelspec": {
   "display_name": "Python 3",
   "language": "python",
   "name": "python3"
  },
  "language_info": {
   "codemirror_mode": {
    "name": "ipython",
    "version": 3
   },
   "file_extension": ".py",
   "mimetype": "text/x-python",
   "name": "python",
   "nbconvert_exporter": "python",
   "pygments_lexer": "ipython3",
   "version": "3.7.6"
  },
  "papermill": {
<<<<<<< HEAD
   "duration": 5.817531,
   "end_time": "2021-07-04T04:05:34.101473",
=======
   "duration": 5.26218,
   "end_time": "2021-01-07T10:57:44.170096",
>>>>>>> c7df5457d98e4686e8e6ad0375a14bd8ca9ae471
   "environment_variables": {},
   "exception": null,
   "input_path": "__notebook__.ipynb",
   "output_path": "__notebook__.ipynb",
   "parameters": {},
<<<<<<< HEAD
   "start_time": "2021-07-04T04:05:28.283942",
=======
   "start_time": "2021-01-07T10:57:38.907916",
>>>>>>> c7df5457d98e4686e8e6ad0375a14bd8ca9ae471
   "version": "2.1.0"
  }
 },
 "nbformat": 4,
 "nbformat_minor": 4
}
