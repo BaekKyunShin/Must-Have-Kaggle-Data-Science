{
 "cells": [
  {
   "cell_type": "markdown",
   "id": "popular-bottom",
   "metadata": {
    "papermill": {
     "duration": 0.026003,
     "end_time": "2021-05-06T07:47:03.185833",
     "exception": false,
     "start_time": "2021-05-06T07:47:03.159830",
     "status": "completed"
    },
    "tags": []
   },
   "source": [
    "# 5.5 안전 운전자 예측 경진대회 성능 개선 II : XGBoost 모델"
   ]
  },
  {
   "cell_type": "markdown",
   "id": "sensitive-capacity",
   "metadata": {
    "papermill": {
     "duration": 0.024411,
     "end_time": "2021-05-06T07:47:03.235205",
     "exception": false,
     "start_time": "2021-05-06T07:47:03.210794",
     "status": "completed"
    },
    "tags": []
   },
   "source": [
    "- [안전 운전자 예측 경진대회 링크](https://www.kaggle.com/c/porto-seguro-safe-driver-prediction)\n",
    "- [모델링 노트북 참고 링크](https://www.kaggle.com/xiaozhouwang/2nd-place-lightgbm-solution)"
   ]
  },
  {
   "cell_type": "code",
   "execution_count": 1,
   "id": "suitable-french",
   "metadata": {
    "execution": {
     "iopub.execute_input": "2021-05-06T07:47:03.288981Z",
     "iopub.status.busy": "2021-05-06T07:47:03.287715Z",
     "iopub.status.idle": "2021-05-06T07:47:14.027222Z",
     "shell.execute_reply": "2021-05-06T07:47:14.026396Z"
    },
    "papermill": {
     "duration": 10.767428,
     "end_time": "2021-05-06T07:47:14.027434",
     "exception": false,
     "start_time": "2021-05-06T07:47:03.260006",
     "status": "completed"
    },
    "tags": []
   },
   "outputs": [],
   "source": [
    "# ch5/safe_driver_prediction_xgb_modeling.ipynb\n",
    "\n",
    "import numpy as np\n",
    "import pandas as pd\n",
    "\n",
    "# 데이터 경로\n",
    "data_path = '/kaggle/input/porto-seguro-safe-driver-prediction/'\n",
    "\n",
    "train = pd.read_csv(data_path + 'train.csv', index_col='id')\n",
    "test = pd.read_csv(data_path + 'test.csv', index_col='id')\n",
    "submission = pd.read_csv(data_path + 'sample_submission.csv', index_col='id')"
   ]
  },
  {
   "cell_type": "markdown",
   "id": "detailed-minneapolis",
   "metadata": {
    "papermill": {
     "duration": 0.024784,
     "end_time": "2021-05-06T07:47:14.077798",
     "exception": false,
     "start_time": "2021-05-06T07:47:14.053014",
     "status": "completed"
    },
    "tags": []
   },
   "source": [
    "## 5.5.1 피처 엔지니어링"
   ]
  },
  {
   "cell_type": "markdown",
   "id": "latter-companion",
   "metadata": {
    "papermill": {
     "duration": 0.024693,
     "end_time": "2021-05-06T07:47:14.127449",
     "exception": false,
     "start_time": "2021-05-06T07:47:14.102756",
     "status": "completed"
    },
    "tags": []
   },
   "source": [
    "### 데이터 합치기"
   ]
  },
  {
   "cell_type": "code",
   "execution_count": 2,
   "id": "knowing-taste",
   "metadata": {
    "execution": {
     "iopub.execute_input": "2021-05-06T07:47:14.186534Z",
     "iopub.status.busy": "2021-05-06T07:47:14.185169Z",
     "iopub.status.idle": "2021-05-06T07:47:15.475111Z",
     "shell.execute_reply": "2021-05-06T07:47:15.475622Z"
    },
    "papermill": {
     "duration": 1.323061,
     "end_time": "2021-05-06T07:47:15.475820",
     "exception": false,
     "start_time": "2021-05-06T07:47:14.152759",
     "status": "completed"
    },
    "tags": []
   },
   "outputs": [],
   "source": [
    "all_data = pd.concat([train, test], ignore_index=True)\n",
    "all_data = all_data.drop('target', axis=1) # 타깃 값 제거\n",
    "\n",
    "all_features = all_data.columns # 전체 피처"
   ]
  },
  {
   "cell_type": "markdown",
   "id": "organized-foster",
   "metadata": {
    "papermill": {
     "duration": 0.025584,
     "end_time": "2021-05-06T07:47:15.527110",
     "exception": false,
     "start_time": "2021-05-06T07:47:15.501526",
     "status": "completed"
    },
    "tags": []
   },
   "source": [
    "### 명목형 피처 원-핫 인코딩"
   ]
  },
  {
   "cell_type": "code",
   "execution_count": 3,
   "id": "educational-discussion",
   "metadata": {
    "execution": {
     "iopub.execute_input": "2021-05-06T07:47:15.584994Z",
     "iopub.status.busy": "2021-05-06T07:47:15.584148Z",
     "iopub.status.idle": "2021-05-06T07:47:18.702472Z",
     "shell.execute_reply": "2021-05-06T07:47:18.701771Z"
    },
    "papermill": {
     "duration": 3.149645,
     "end_time": "2021-05-06T07:47:18.702612",
     "exception": false,
     "start_time": "2021-05-06T07:47:15.552967",
     "status": "completed"
    },
    "tags": []
   },
   "outputs": [],
   "source": [
    "from sklearn.preprocessing import OneHotEncoder\n",
    "\n",
    "# 명목형 피처\n",
    "cat_features = [feature for feature in all_features if 'cat' in feature]\n",
    "\n",
    "# 원-핫 인코딩 적용\n",
    "onehot_encoder = OneHotEncoder()\n",
    "encoded_cat_matrix = onehot_encoder.fit_transform(all_data[cat_features]) "
   ]
  },
  {
   "cell_type": "markdown",
   "id": "ambient-interim",
   "metadata": {
    "papermill": {
     "duration": 0.02494,
     "end_time": "2021-05-06T07:47:18.752813",
     "exception": false,
     "start_time": "2021-05-06T07:47:18.727873",
     "status": "completed"
    },
    "tags": []
   },
   "source": [
    "### 파생 피처 추가"
   ]
  },
  {
   "cell_type": "code",
   "execution_count": 4,
   "id": "north-humanitarian",
   "metadata": {
    "execution": {
     "iopub.execute_input": "2021-05-06T07:47:18.808827Z",
     "iopub.status.busy": "2021-05-06T07:47:18.808024Z",
     "iopub.status.idle": "2021-05-06T07:47:19.034462Z",
     "shell.execute_reply": "2021-05-06T07:47:19.033876Z"
    },
    "papermill": {
     "duration": 0.256367,
     "end_time": "2021-05-06T07:47:19.034604",
     "exception": false,
     "start_time": "2021-05-06T07:47:18.778237",
     "status": "completed"
    },
    "tags": []
   },
   "outputs": [],
   "source": [
    "# '데이터 하나당 결측값 개수'를 파생 변수로 추가\n",
    "all_data['num_missing'] = (all_data==-1).sum(axis=1)"
   ]
  },
  {
   "cell_type": "code",
   "execution_count": 5,
   "id": "rental-doctor",
   "metadata": {
    "execution": {
     "iopub.execute_input": "2021-05-06T07:47:19.092794Z",
     "iopub.status.busy": "2021-05-06T07:47:19.092025Z",
     "iopub.status.idle": "2021-05-06T07:47:19.095133Z",
     "shell.execute_reply": "2021-05-06T07:47:19.094654Z"
    },
    "papermill": {
     "duration": 0.034127,
     "end_time": "2021-05-06T07:47:19.095265",
     "exception": false,
     "start_time": "2021-05-06T07:47:19.061138",
     "status": "completed"
    },
    "tags": []
   },
   "outputs": [],
   "source": [
    "# 명목형 피처, calc 분류 피처를 제외한 피처\n",
    "remaining_features = [feature for feature in all_features\n",
    "                      if ('cat' not in feature and 'calc' not in feature)] \n",
    "# num_missing을 remaining_features에 추가\n",
    "remaining_features.append('num_missing')"
   ]
  },
  {
   "cell_type": "code",
   "execution_count": 6,
   "id": "significant-underground",
   "metadata": {
    "execution": {
     "iopub.execute_input": "2021-05-06T07:47:19.153723Z",
     "iopub.status.busy": "2021-05-06T07:47:19.153064Z",
     "iopub.status.idle": "2021-05-06T07:48:02.026550Z",
     "shell.execute_reply": "2021-05-06T07:48:02.027063Z"
    },
    "papermill": {
     "duration": 42.906397,
     "end_time": "2021-05-06T07:48:02.027253",
     "exception": false,
     "start_time": "2021-05-06T07:47:19.120856",
     "status": "completed"
    },
    "tags": []
   },
   "outputs": [],
   "source": [
    "# 분류가 ind인 피처\n",
    "ind_features = [feature for feature in all_features if 'ind' in feature]\n",
    "\n",
    "is_first_feature=True\n",
    "for ind_feature in ind_features:\n",
    "    if is_first_feature:\n",
    "        all_data['mix_ind'] = all_data[ind_feature].astype(str)+'_'\n",
    "        is_first_feature = False\n",
    "    else:\n",
    "        all_data['mix_ind'] += all_data[ind_feature].astype(str)+'_'"
   ]
  },
  {
   "cell_type": "code",
   "execution_count": 7,
   "id": "paperback-audience",
   "metadata": {
    "execution": {
     "iopub.execute_input": "2021-05-06T07:48:02.090780Z",
     "iopub.status.busy": "2021-05-06T07:48:02.089980Z",
     "iopub.status.idle": "2021-05-06T07:48:02.093855Z",
     "shell.execute_reply": "2021-05-06T07:48:02.094342Z"
    },
    "papermill": {
     "duration": 0.040789,
     "end_time": "2021-05-06T07:48:02.094503",
     "exception": false,
     "start_time": "2021-05-06T07:48:02.053714",
     "status": "completed"
    },
    "tags": []
   },
   "outputs": [
    {
     "data": {
      "text/plain": [
       "0          2_2_5_1_0_0_1_0_0_0_0_0_0_0_11_0_1_0_\n",
       "1           1_1_7_0_0_0_0_1_0_0_0_0_0_0_3_0_0_1_\n",
       "2          5_4_9_1_0_0_0_1_0_0_0_0_0_0_12_1_0_0_\n",
       "3           0_1_2_0_0_1_0_0_0_0_0_0_0_0_8_1_0_0_\n",
       "4           0_2_0_1_0_1_0_0_0_0_0_0_0_0_9_1_0_0_\n",
       "                           ...                  \n",
       "1488023     0_1_6_0_0_0_1_0_0_0_0_0_0_0_2_0_0_1_\n",
       "1488024    5_3_5_1_0_0_0_1_0_0_0_0_0_0_11_1_0_0_\n",
       "1488025     0_1_5_0_0_1_0_0_0_0_0_0_0_0_5_0_0_1_\n",
       "1488026    6_1_5_1_0_0_0_0_1_0_0_0_0_0_13_1_0_0_\n",
       "1488027    7_1_4_1_0_0_0_0_1_0_0_0_0_0_12_1_0_0_\n",
       "Name: mix_ind, Length: 1488028, dtype: object"
      ]
     },
     "execution_count": 7,
     "metadata": {},
     "output_type": "execute_result"
    }
   ],
   "source": [
    "all_data['mix_ind']"
   ]
  },
  {
   "cell_type": "code",
   "execution_count": 8,
   "id": "related-cathedral",
   "metadata": {
    "execution": {
     "iopub.execute_input": "2021-05-06T07:48:02.156626Z",
     "iopub.status.busy": "2021-05-06T07:48:02.155667Z",
     "iopub.status.idle": "2021-05-06T07:48:16.797740Z",
     "shell.execute_reply": "2021-05-06T07:48:16.797129Z"
    },
    "papermill": {
     "duration": 14.676329,
     "end_time": "2021-05-06T07:48:16.797888",
     "exception": false,
     "start_time": "2021-05-06T07:48:02.121559",
     "status": "completed"
    },
    "tags": []
   },
   "outputs": [],
   "source": [
    "cat_count_features = []\n",
    "for feature in cat_features+['mix_ind']:\n",
    "    val_counts_dict = all_data[feature].value_counts().to_dict()\n",
    "    all_data[f'{feature}_count'] = all_data[feature].apply(lambda x: \n",
    "                                                           val_counts_dict[x])\n",
    "    cat_count_features.append(f'{feature}_count')"
   ]
  },
  {
   "cell_type": "code",
   "execution_count": 9,
   "id": "initial-auditor",
   "metadata": {
    "execution": {
     "iopub.execute_input": "2021-05-06T07:48:16.857823Z",
     "iopub.status.busy": "2021-05-06T07:48:16.856954Z",
     "iopub.status.idle": "2021-05-06T07:48:16.860388Z",
     "shell.execute_reply": "2021-05-06T07:48:16.860867Z"
    },
    "papermill": {
     "duration": 0.035519,
     "end_time": "2021-05-06T07:48:16.861039",
     "exception": false,
     "start_time": "2021-05-06T07:48:16.825520",
     "status": "completed"
    },
    "tags": []
   },
   "outputs": [
    {
     "data": {
      "text/plain": [
       "['ps_ind_02_cat_count',\n",
       " 'ps_ind_04_cat_count',\n",
       " 'ps_ind_05_cat_count',\n",
       " 'ps_car_01_cat_count',\n",
       " 'ps_car_02_cat_count',\n",
       " 'ps_car_03_cat_count',\n",
       " 'ps_car_04_cat_count',\n",
       " 'ps_car_05_cat_count',\n",
       " 'ps_car_06_cat_count',\n",
       " 'ps_car_07_cat_count',\n",
       " 'ps_car_08_cat_count',\n",
       " 'ps_car_09_cat_count',\n",
       " 'ps_car_10_cat_count',\n",
       " 'ps_car_11_cat_count',\n",
       " 'mix_ind_count']"
      ]
     },
     "execution_count": 9,
     "metadata": {},
     "output_type": "execute_result"
    }
   ],
   "source": [
    "cat_count_features"
   ]
  },
  {
   "cell_type": "markdown",
   "id": "protective-orlando",
   "metadata": {
    "papermill": {
     "duration": 0.026503,
     "end_time": "2021-05-06T07:48:16.914269",
     "exception": false,
     "start_time": "2021-05-06T07:48:16.887766",
     "status": "completed"
    },
    "tags": []
   },
   "source": [
    "### 필요 없는 피처 제거"
   ]
  },
  {
   "cell_type": "code",
   "execution_count": 10,
   "id": "difficult-earthquake",
   "metadata": {
    "execution": {
     "iopub.execute_input": "2021-05-06T07:48:16.974846Z",
     "iopub.status.busy": "2021-05-06T07:48:16.974207Z",
     "iopub.status.idle": "2021-05-06T07:48:22.255791Z",
     "shell.execute_reply": "2021-05-06T07:48:22.256315Z"
    },
    "papermill": {
     "duration": 5.315206,
     "end_time": "2021-05-06T07:48:22.256515",
     "exception": false,
     "start_time": "2021-05-06T07:48:16.941309",
     "status": "completed"
    },
    "tags": []
   },
   "outputs": [],
   "source": [
    "from scipy import sparse\n",
    "\n",
    "# 필요 없는 피처들\n",
    "drop_features = ['ps_ind_14', 'ps_ind_10_bin','ps_ind_11_bin', \n",
    "                 'ps_ind_12_bin','ps_ind_13_bin','ps_car_14']\n",
    "\n",
    "# remaining_features, cat_count_features에서 drop_features를 제거한 데이터\n",
    "all_data_remaining = all_data[remaining_features+cat_count_features].drop(drop_features, axis=1)\n",
    "\n",
    "# 데이터 합치기\n",
    "all_data_sprs = sparse.hstack([sparse.csr_matrix(all_data_remaining),\n",
    "                               encoded_cat_matrix],\n",
    "                              format='csr')"
   ]
  },
  {
   "cell_type": "markdown",
   "id": "built-default",
   "metadata": {
    "papermill": {
     "duration": 0.02711,
     "end_time": "2021-05-06T07:48:22.311314",
     "exception": false,
     "start_time": "2021-05-06T07:48:22.284204",
     "status": "completed"
    },
    "tags": []
   },
   "source": [
    "### 데이터 나누기"
   ]
  },
  {
   "cell_type": "code",
   "execution_count": 11,
   "id": "automotive-mailman",
   "metadata": {
    "execution": {
     "iopub.execute_input": "2021-05-06T07:48:22.368210Z",
     "iopub.status.busy": "2021-05-06T07:48:22.367261Z",
     "iopub.status.idle": "2021-05-06T07:48:23.335653Z",
     "shell.execute_reply": "2021-05-06T07:48:23.336193Z"
    },
    "papermill": {
     "duration": 0.998422,
     "end_time": "2021-05-06T07:48:23.336383",
     "exception": false,
     "start_time": "2021-05-06T07:48:22.337961",
     "status": "completed"
    },
    "tags": []
   },
   "outputs": [],
   "source": [
    "num_train = train.shape[0] # 훈련 데이터 개수\n",
    "\n",
    "# 훈련 데이터와 테스트 데이터 나누기\n",
    "X = all_data_sprs[:num_train]\n",
    "X_test = all_data_sprs[num_train:]\n",
    "\n",
    "y = train['target'].values"
   ]
  },
  {
   "cell_type": "markdown",
   "id": "cathedral-italian",
   "metadata": {
    "papermill": {
     "duration": 0.028906,
     "end_time": "2021-05-06T07:48:23.392115",
     "exception": false,
     "start_time": "2021-05-06T07:48:23.363209",
     "status": "completed"
    },
    "tags": []
   },
   "source": [
    "### 정규화 지니계수 계산 함수"
   ]
  },
  {
   "cell_type": "code",
   "execution_count": 12,
   "id": "sorted-vienna",
   "metadata": {
    "execution": {
     "iopub.execute_input": "2021-05-06T07:48:23.450081Z",
     "iopub.status.busy": "2021-05-06T07:48:23.449059Z",
     "iopub.status.idle": "2021-05-06T07:48:23.455988Z",
     "shell.execute_reply": "2021-05-06T07:48:23.456445Z"
    },
    "papermill": {
     "duration": 0.037257,
     "end_time": "2021-05-06T07:48:23.456608",
     "exception": false,
     "start_time": "2021-05-06T07:48:23.419351",
     "status": "completed"
    },
    "tags": []
   },
   "outputs": [],
   "source": [
    "def eval_gini(y_true, y_pred):\n",
    "    # 실제 값과 예측 값의 크기가 같은지 확인 (값이 다르면 오류 발생)\n",
    "    assert y_true.shape == y_pred.shape\n",
    "\n",
    "    n_samples = y_true.shape[0] # 데이터 개수\n",
    "    L_mid = np.linspace(1 / n_samples, 1, n_samples) # 대각선 값\n",
    "\n",
    "    # 1) 예측 값에 대한 지니계수\n",
    "    pred_order = y_true[y_pred.argsort()] # y_pred 크기순으로 y_true 값 정렬\n",
    "    L_pred = np.cumsum(pred_order) / np.sum(pred_order) # 로렌츠 곡선\n",
    "    G_pred = np.sum(L_mid - L_pred)# 예측 값에 대한 지니계수\n",
    "\n",
    "    # 2) 예측이 완벽할 때 지니계수\n",
    "    true_order = y_true[y_true.argsort()] # y_true 크기순으로 y_true 값 정렬\n",
    "    L_true = np.cumsum(true_order) / np.sum(true_order) # 로렌츠 곡선\n",
    "    G_true = np.sum(L_mid - L_true) # 예측이 완벽할 때 지니계수\n",
    "\n",
    "    # 정규화된 지니계수\n",
    "    return G_pred / G_true"
   ]
  },
  {
   "cell_type": "code",
   "execution_count": 13,
   "id": "native-optics",
   "metadata": {
    "execution": {
     "iopub.execute_input": "2021-05-06T07:48:23.514701Z",
     "iopub.status.busy": "2021-05-06T07:48:23.513646Z",
     "iopub.status.idle": "2021-05-06T07:48:23.518054Z",
     "shell.execute_reply": "2021-05-06T07:48:23.518527Z"
    },
    "papermill": {
     "duration": 0.035027,
     "end_time": "2021-05-06T07:48:23.518694",
     "exception": false,
     "start_time": "2021-05-06T07:48:23.483667",
     "status": "completed"
    },
    "tags": []
   },
   "outputs": [],
   "source": [
    "def gini(preds, dtrain):\n",
    "    labels = dtrain.get_label()\n",
    "    return 'gini', eval_gini(labels, preds)"
   ]
  },
  {
   "cell_type": "markdown",
   "id": "educated-subsection",
   "metadata": {
    "papermill": {
     "duration": 0.026842,
     "end_time": "2021-05-06T07:48:23.572616",
     "exception": false,
     "start_time": "2021-05-06T07:48:23.545774",
     "status": "completed"
    },
    "tags": []
   },
   "source": [
    "## 5.5.2 하이퍼 파라미터 최적화"
   ]
  },
  {
   "cell_type": "markdown",
   "id": "north-cruise",
   "metadata": {
    "papermill": {
     "duration": 0.026954,
     "end_time": "2021-05-06T07:48:23.627032",
     "exception": false,
     "start_time": "2021-05-06T07:48:23.600078",
     "status": "completed"
    },
    "tags": []
   },
   "source": [
    "### 데이터 세트 준비"
   ]
  },
  {
   "cell_type": "code",
   "execution_count": 14,
   "id": "ultimate-hybrid",
   "metadata": {
    "execution": {
     "iopub.execute_input": "2021-05-06T07:48:23.685180Z",
     "iopub.status.busy": "2021-05-06T07:48:23.684237Z",
     "iopub.status.idle": "2021-05-06T07:48:24.432260Z",
     "shell.execute_reply": "2021-05-06T07:48:24.432972Z"
    },
    "papermill": {
     "duration": 0.778811,
     "end_time": "2021-05-06T07:48:24.433202",
     "exception": false,
     "start_time": "2021-05-06T07:48:23.654391",
     "status": "completed"
    },
    "tags": []
   },
   "outputs": [],
   "source": [
    "import xgboost as xgb\n",
    "from sklearn.model_selection import train_test_split\n",
    "\n",
    "# 8:2 비율로 훈련 데이터, 검증 데이터 분리 (베이지안 최적화 수행용)\n",
    "X_train, X_valid, y_train, y_valid = train_test_split(X, y, \n",
    "                                                      test_size=0.2, \n",
    "                                                      random_state=0)\n",
    "# 베이지안 최적화용 데이터 세트\n",
    "bayes_dtrain = xgb.DMatrix(X_train, y_train)\n",
    "bayes_dvalid = xgb.DMatrix(X_valid, y_valid)"
   ]
  },
  {
   "cell_type": "markdown",
   "id": "compliant-indication",
   "metadata": {
    "papermill": {
     "duration": 0.026929,
     "end_time": "2021-05-06T07:48:24.490518",
     "exception": false,
     "start_time": "2021-05-06T07:48:24.463589",
     "status": "completed"
    },
    "tags": []
   },
   "source": [
    "### 하이퍼 파라미터 범위 설정"
   ]
  },
  {
   "cell_type": "code",
   "execution_count": 15,
   "id": "hispanic-fluid",
   "metadata": {
    "execution": {
     "iopub.execute_input": "2021-05-06T07:48:24.552425Z",
     "iopub.status.busy": "2021-05-06T07:48:24.551440Z",
     "iopub.status.idle": "2021-05-06T07:48:24.554920Z",
     "shell.execute_reply": "2021-05-06T07:48:24.554431Z"
    },
    "papermill": {
     "duration": 0.037016,
     "end_time": "2021-05-06T07:48:24.555053",
     "exception": false,
     "start_time": "2021-05-06T07:48:24.518037",
     "status": "completed"
    },
    "tags": []
   },
   "outputs": [],
   "source": [
    "# 베이지안 최적화를 위한 하이퍼 파라미터 범위\n",
    "param_bounds = {'max_depth': (4, 8),\n",
    "                'subsample': (0.7, 0.9),\n",
    "                'colsample_bytree': (0.7, 0.9),\n",
    "                'min_child_weight': (5, 7),\n",
    "                'gamma': (9, 11),\n",
    "                'reg_alpha': (7, 9),\n",
    "                'reg_lambda': (1.2, 1.4),\n",
    "                'scale_pos_weight': (1.5, 1.7)}\n",
    "\n",
    "# 값이 고정된 하이퍼 파라미터\n",
    "fixed_params = {'objective': 'binary:logistic',\n",
    "                'learning_rate': 0.05,\n",
    "                'random_state': 1991}"
   ]
  },
  {
   "cell_type": "markdown",
   "id": "rapid-forth",
   "metadata": {
    "papermill": {
     "duration": 0.027015,
     "end_time": "2021-05-06T07:48:24.609544",
     "exception": false,
     "start_time": "2021-05-06T07:48:24.582529",
     "status": "completed"
    },
    "tags": []
   },
   "source": [
    "### (베이지안 최적화용) 평가지표 계산 함수 작성"
   ]
  },
  {
   "cell_type": "code",
   "execution_count": 16,
   "id": "awful-carolina",
   "metadata": {
    "execution": {
     "iopub.execute_input": "2021-05-06T07:48:24.673884Z",
     "iopub.status.busy": "2021-05-06T07:48:24.672893Z",
     "iopub.status.idle": "2021-05-06T07:48:24.675496Z",
     "shell.execute_reply": "2021-05-06T07:48:24.675938Z"
    },
    "papermill": {
     "duration": 0.039147,
     "end_time": "2021-05-06T07:48:24.676099",
     "exception": false,
     "start_time": "2021-05-06T07:48:24.636952",
     "status": "completed"
    },
    "tags": []
   },
   "outputs": [],
   "source": [
    "def eval_function(max_depth, subsample, colsample_bytree, min_child_weight,\n",
    "                 reg_alpha, gamma, reg_lambda, scale_pos_weight):\n",
    "    '''최적화하려는 평가지표(지니계수) 계산 함수'''\n",
    "    \n",
    "    # 베이지안 최적화를 수행할 하이퍼 파라미터\n",
    "    params = {'max_depth': int(round(max_depth)),\n",
    "              'subsample': subsample,\n",
    "              'colsample_bytree': colsample_bytree,\n",
    "              'min_child_weight': int(round(min_child_weight)),\n",
    "              'gamma': gamma,\n",
    "              'reg_alpha':reg_alpha,\n",
    "              'reg_lambda': reg_lambda,\n",
    "              'scale_pos_weight': scale_pos_weight}\n",
    "    # 고정된 하이퍼 파라미터도 추가\n",
    "    params.update(fixed_params)\n",
    "    \n",
    "    print('하이퍼 파라미터:', params)    \n",
    "        \n",
    "    # XGBoost 모델 훈련\n",
    "    xgb_model = xgb.train(params=params, \n",
    "                          dtrain=bayes_dtrain,\n",
    "                          num_boost_round=500,\n",
    "                          evals=[(bayes_dvalid, 'bayes_dvalid')],\n",
    "                          maximize=True,\n",
    "                          feval=gini,\n",
    "                          early_stopping_rounds=150,\n",
    "                          verbose_eval=False)\n",
    "    \n",
    "                           \n",
    "    best_iter = xgb_model.best_iteration # 최적 반복 횟수\n",
    "    \n",
    "    # 검증 데이터로 예측 수행\n",
    "    preds = xgb_model.predict(bayes_dvalid, ntree_limit=best_iter)\n",
    "    \n",
    "    # 지니계수 계산\n",
    "    gini_score = eval_gini(y_valid, preds)\n",
    "    print(f'지니계수: {gini_score}\\n')\n",
    "    \n",
    "    return gini_score"
   ]
  },
  {
   "cell_type": "markdown",
   "id": "legal-permission",
   "metadata": {
    "papermill": {
     "duration": 0.027379,
     "end_time": "2021-05-06T07:48:24.731189",
     "exception": false,
     "start_time": "2021-05-06T07:48:24.703810",
     "status": "completed"
    },
    "tags": []
   },
   "source": [
    "### 최적화 수행"
   ]
  },
  {
   "cell_type": "code",
   "execution_count": 17,
   "id": "super-spectacular",
   "metadata": {
    "execution": {
     "iopub.execute_input": "2021-05-06T07:48:24.792386Z",
     "iopub.status.busy": "2021-05-06T07:48:24.791616Z",
     "iopub.status.idle": "2021-05-06T07:48:24.817094Z",
     "shell.execute_reply": "2021-05-06T07:48:24.817605Z"
    },
    "papermill": {
     "duration": 0.058736,
     "end_time": "2021-05-06T07:48:24.817793",
     "exception": false,
     "start_time": "2021-05-06T07:48:24.759057",
     "status": "completed"
    },
    "tags": []
   },
   "outputs": [],
   "source": [
    "from bayes_opt import BayesianOptimization\n",
    "\n",
    "# 베이지안 최적화 객체 생성\n",
    "optimizer = BayesianOptimization(f=eval_function, # 평가지표 계산 함수\n",
    "                                 pbounds=param_bounds, # 하이퍼 파라미터 범위\n",
    "                                 random_state=0)"
   ]
  },
  {
   "cell_type": "code",
   "execution_count": 18,
   "id": "shared-picnic",
   "metadata": {
    "execution": {
     "iopub.execute_input": "2021-05-06T07:48:24.876739Z",
     "iopub.status.busy": "2021-05-06T07:48:24.876126Z",
     "iopub.status.idle": "2021-05-06T08:09:29.371899Z",
     "shell.execute_reply": "2021-05-06T08:09:29.370783Z"
    },
    "papermill": {
     "duration": 1264.526374,
     "end_time": "2021-05-06T08:09:29.372174",
     "exception": false,
     "start_time": "2021-05-06T07:48:24.845800",
     "status": "completed"
    },
    "tags": []
   },
   "outputs": [
    {
     "name": "stdout",
     "output_type": "stream",
     "text": [
      "|   iter    |  target   | colsam... |   gamma   | max_depth | min_ch... | reg_alpha | reg_la... | scale_... | subsample |\n",
      "-------------------------------------------------------------------------------------------------------------------------\n",
      "하이퍼 파라미터: {'max_depth': 6, 'subsample': 0.878354600156416, 'colsample_bytree': 0.809762700785465, 'min_child_weight': 6, 'gamma': 10.430378732744838, 'reg_alpha': 7.84730959867781, 'reg_lambda': 1.3291788226133312, 'scale_pos_weight': 1.5875174422525384, 'objective': 'binary:logistic', 'learning_rate': 0.05, 'random_state': 1991}\n",
      "[07:48:25] WARNING: ../src/learner.cc:1095: Starting in XGBoost 1.3.0, the default evaluation metric used with the objective 'binary:logistic' was changed from 'error' to 'logloss'. Explicitly set eval_metric if you'd like to restore the old behavior.\n"
     ]
    },
    {
     "name": "stderr",
     "output_type": "stream",
     "text": [
      "/opt/conda/lib/python3.7/site-packages/xgboost/core.py:104: UserWarning: ntree_limit is deprecated, use `iteration_range` or model slicing instead.\n",
      "  UserWarning\n"
     ]
    },
    {
     "name": "stdout",
     "output_type": "stream",
     "text": [
      "지니계수: 0.2827732646026083\n",
      "\n",
      "| \u001b[0m 1       \u001b[0m | \u001b[0m 0.2828  \u001b[0m | \u001b[0m 0.8098  \u001b[0m | \u001b[0m 10.43   \u001b[0m | \u001b[0m 6.411   \u001b[0m | \u001b[0m 6.09    \u001b[0m | \u001b[0m 7.847   \u001b[0m | \u001b[0m 1.329   \u001b[0m | \u001b[0m 1.588   \u001b[0m | \u001b[0m 0.8784  \u001b[0m |\n",
      "하이퍼 파라미터: {'max_depth': 7, 'subsample': 0.717425859940308, 'colsample_bytree': 0.8927325521002059, 'min_child_weight': 6, 'gamma': 9.766883037651555, 'reg_alpha': 8.136089122187865, 'reg_lambda': 1.385119327658532, 'scale_pos_weight': 1.5142072116395773, 'objective': 'binary:logistic', 'learning_rate': 0.05, 'random_state': 1991}\n",
      "[07:52:44] WARNING: ../src/learner.cc:1095: Starting in XGBoost 1.3.0, the default evaluation metric used with the objective 'binary:logistic' was changed from 'error' to 'logloss'. Explicitly set eval_metric if you'd like to restore the old behavior.\n",
      "지니계수: 0.28389406359583147\n",
      "\n",
      "| \u001b[95m 2       \u001b[0m | \u001b[95m 0.2839  \u001b[0m | \u001b[95m 0.8927  \u001b[0m | \u001b[95m 9.767   \u001b[0m | \u001b[95m 7.167   \u001b[0m | \u001b[95m 6.058   \u001b[0m | \u001b[95m 8.136   \u001b[0m | \u001b[95m 1.385   \u001b[0m | \u001b[95m 1.514   \u001b[0m | \u001b[95m 0.7174  \u001b[0m |\n",
      "하이퍼 파라미터: {'max_depth': 7, 'subsample': 0.7667753691037088, 'colsample_bytree': 0.822874972498957, 'min_child_weight': 6, 'gamma': 10.634830818448416, 'reg_alpha': 8.551838810159788, 'reg_lambda': 1.3407382997774553, 'scale_pos_weight': 1.523280772455086, 'objective': 'binary:logistic', 'learning_rate': 0.05, 'random_state': 1991}\n",
      "[07:58:35] WARNING: ../src/learner.cc:1095: Starting in XGBoost 1.3.0, the default evaluation metric used with the objective 'binary:logistic' was changed from 'error' to 'logloss'. Explicitly set eval_metric if you'd like to restore the old behavior.\n"
     ]
    },
    {
     "name": "stderr",
     "output_type": "stream",
     "text": [
      "/opt/conda/lib/python3.7/site-packages/xgboost/core.py:104: UserWarning: ntree_limit is deprecated, use `iteration_range` or model slicing instead.\n",
      "  UserWarning\n"
     ]
    },
    {
     "name": "stdout",
     "output_type": "stream",
     "text": [
      "지니계수: 0.28384881983661747\n",
      "\n",
      "| \u001b[0m 3       \u001b[0m | \u001b[0m 0.2838  \u001b[0m | \u001b[0m 0.8229  \u001b[0m | \u001b[0m 10.63   \u001b[0m | \u001b[0m 6.838   \u001b[0m | \u001b[0m 6.494   \u001b[0m | \u001b[0m 8.552   \u001b[0m | \u001b[0m 1.341   \u001b[0m | \u001b[0m 1.523   \u001b[0m | \u001b[0m 0.7668  \u001b[0m |\n",
      "하이퍼 파라미터: {'max_depth': 7, 'subsample': 0.7316010993511594, 'colsample_bytree': 0.8460586801739219, 'min_child_weight': 6, 'gamma': 10.774497599680391, 'reg_alpha': 8.54569292196456, 'reg_lambda': 1.31431273584847, 'scale_pos_weight': 1.6743964799713726, 'objective': 'binary:logistic', 'learning_rate': 0.05, 'random_state': 1991}\n",
      "[08:03:56] WARNING: ../src/learner.cc:1095: Starting in XGBoost 1.3.0, the default evaluation metric used with the objective 'binary:logistic' was changed from 'error' to 'logloss'. Explicitly set eval_metric if you'd like to restore the old behavior.\n"
     ]
    },
    {
     "name": "stderr",
     "output_type": "stream",
     "text": [
      "/opt/conda/lib/python3.7/site-packages/xgboost/core.py:104: UserWarning: ntree_limit is deprecated, use `iteration_range` or model slicing instead.\n",
      "  UserWarning\n"
     ]
    },
    {
     "name": "stdout",
     "output_type": "stream",
     "text": [
      "지니계수: 0.2837196917459266\n",
      "\n",
      "| \u001b[0m 4       \u001b[0m | \u001b[0m 0.2837  \u001b[0m | \u001b[0m 0.8461  \u001b[0m | \u001b[0m 10.77   \u001b[0m | \u001b[0m 6.765   \u001b[0m | \u001b[0m 6.449   \u001b[0m | \u001b[0m 8.546   \u001b[0m | \u001b[0m 1.314   \u001b[0m | \u001b[0m 1.674   \u001b[0m | \u001b[0m 0.7316  \u001b[0m |\n",
      "=========================================================================================================================\n"
     ]
    }
   ],
   "source": [
    "# 베이지안 최적화 수행\n",
    "optimizer.maximize(init_points=2, n_iter=2)"
   ]
  },
  {
   "cell_type": "markdown",
   "id": "elect-frederick",
   "metadata": {
    "papermill": {
     "duration": 0.031653,
     "end_time": "2021-05-06T08:09:29.436811",
     "exception": false,
     "start_time": "2021-05-06T08:09:29.405158",
     "status": "completed"
    },
    "tags": []
   },
   "source": [
    "### 결과 확인"
   ]
  },
  {
   "cell_type": "code",
   "execution_count": 19,
   "id": "prospective-patio",
   "metadata": {
    "execution": {
     "iopub.execute_input": "2021-05-06T08:09:29.509834Z",
     "iopub.status.busy": "2021-05-06T08:09:29.509138Z",
     "iopub.status.idle": "2021-05-06T08:09:29.514381Z",
     "shell.execute_reply": "2021-05-06T08:09:29.514910Z"
    },
    "papermill": {
     "duration": 0.046665,
     "end_time": "2021-05-06T08:09:29.515086",
     "exception": false,
     "start_time": "2021-05-06T08:09:29.468421",
     "status": "completed"
    },
    "tags": []
   },
   "outputs": [
    {
     "data": {
      "text/plain": [
       "{'colsample_bytree': 0.8927325521002059,\n",
       " 'gamma': 9.766883037651555,\n",
       " 'max_depth': 7.166900152330658,\n",
       " 'min_child_weight': 6.0577898395058085,\n",
       " 'reg_alpha': 8.136089122187865,\n",
       " 'reg_lambda': 1.385119327658532,\n",
       " 'scale_pos_weight': 1.5142072116395773,\n",
       " 'subsample': 0.717425859940308}"
      ]
     },
     "execution_count": 19,
     "metadata": {},
     "output_type": "execute_result"
    }
   ],
   "source": [
    "# 평가함수 점수가 최대일 때 하이퍼 파라미터\n",
    "max_params = optimizer.max['params']\n",
    "max_params"
   ]
  },
  {
   "cell_type": "code",
   "execution_count": 20,
   "id": "fifth-queen",
   "metadata": {
    "execution": {
     "iopub.execute_input": "2021-05-06T08:09:29.585462Z",
     "iopub.status.busy": "2021-05-06T08:09:29.584785Z",
     "iopub.status.idle": "2021-05-06T08:09:29.587883Z",
     "shell.execute_reply": "2021-05-06T08:09:29.587251Z"
    },
    "papermill": {
     "duration": 0.040439,
     "end_time": "2021-05-06T08:09:29.588032",
     "exception": false,
     "start_time": "2021-05-06T08:09:29.547593",
     "status": "completed"
    },
    "tags": []
   },
   "outputs": [],
   "source": [
    "# 정수형 하이퍼 파라미터 변환\n",
    "max_params['max_depth'] = int(round(max_params['max_depth']))"
   ]
  },
  {
   "cell_type": "code",
   "execution_count": 21,
   "id": "social-termination",
   "metadata": {
    "execution": {
     "iopub.execute_input": "2021-05-06T08:09:29.659049Z",
     "iopub.status.busy": "2021-05-06T08:09:29.658312Z",
     "iopub.status.idle": "2021-05-06T08:09:29.661147Z",
     "shell.execute_reply": "2021-05-06T08:09:29.660647Z"
    },
    "papermill": {
     "duration": 0.039782,
     "end_time": "2021-05-06T08:09:29.661270",
     "exception": false,
     "start_time": "2021-05-06T08:09:29.621488",
     "status": "completed"
    },
    "tags": []
   },
   "outputs": [],
   "source": [
    "# 값이 고정된 하이퍼 파라미터 추가\n",
    "max_params.update(fixed_params)"
   ]
  },
  {
   "cell_type": "code",
   "execution_count": 22,
   "id": "nutritional-extra",
   "metadata": {
    "execution": {
     "iopub.execute_input": "2021-05-06T08:09:29.734661Z",
     "iopub.status.busy": "2021-05-06T08:09:29.733715Z",
     "iopub.status.idle": "2021-05-06T08:09:29.738424Z",
     "shell.execute_reply": "2021-05-06T08:09:29.737881Z"
    },
    "papermill": {
     "duration": 0.044546,
     "end_time": "2021-05-06T08:09:29.738561",
     "exception": false,
     "start_time": "2021-05-06T08:09:29.694015",
     "status": "completed"
    },
    "tags": []
   },
   "outputs": [
    {
     "data": {
      "text/plain": [
       "{'colsample_bytree': 0.8927325521002059,\n",
       " 'gamma': 9.766883037651555,\n",
       " 'max_depth': 7,\n",
       " 'min_child_weight': 6.0577898395058085,\n",
       " 'reg_alpha': 8.136089122187865,\n",
       " 'reg_lambda': 1.385119327658532,\n",
       " 'scale_pos_weight': 1.5142072116395773,\n",
       " 'subsample': 0.717425859940308,\n",
       " 'objective': 'binary:logistic',\n",
       " 'learning_rate': 0.05,\n",
       " 'random_state': 1991}"
      ]
     },
     "execution_count": 22,
     "metadata": {},
     "output_type": "execute_result"
    }
   ],
   "source": [
    "max_params"
   ]
  },
  {
   "cell_type": "markdown",
   "id": "together-attraction",
   "metadata": {
    "papermill": {
     "duration": 0.033316,
     "end_time": "2021-05-06T08:09:29.805444",
     "exception": false,
     "start_time": "2021-05-06T08:09:29.772128",
     "status": "completed"
    },
    "tags": []
   },
   "source": [
    "## 5.5.3 훈련 및 예측"
   ]
  },
  {
   "cell_type": "code",
   "execution_count": 23,
   "id": "changing-carroll",
   "metadata": {
    "execution": {
     "iopub.execute_input": "2021-05-06T08:09:29.886759Z",
     "iopub.status.busy": "2021-05-06T08:09:29.885613Z",
     "iopub.status.idle": "2021-05-06T08:45:58.634975Z",
     "shell.execute_reply": "2021-05-06T08:45:58.634426Z"
    },
    "papermill": {
     "duration": 2188.795641,
     "end_time": "2021-05-06T08:45:58.635120",
     "exception": false,
     "start_time": "2021-05-06T08:09:29.839479",
     "status": "completed"
    },
    "tags": []
   },
   "outputs": [
    {
     "name": "stdout",
     "output_type": "stream",
     "text": [
      "######################################## 폴드 1 / 폴드 5 ########################################\n",
      "[08:09:32] WARNING: ../src/learner.cc:1095: Starting in XGBoost 1.3.0, the default evaluation metric used with the objective 'binary:logistic' was changed from 'error' to 'logloss'. Explicitly set eval_metric if you'd like to restore the old behavior.\n",
      "[0]\tvalid-logloss:0.65282\tvalid-gini:0.15941\n",
      "[100]\tvalid-logloss:0.15637\tvalid-gini:0.28555\n",
      "[200]\tvalid-logloss:0.15485\tvalid-gini:0.29589\n",
      "[300]\tvalid-logloss:0.15475\tvalid-gini:0.29885\n",
      "[400]\tvalid-logloss:0.15474\tvalid-gini:0.29912\n",
      "[500]\tvalid-logloss:0.15473\tvalid-gini:0.29909\n",
      "[600]\tvalid-logloss:0.15473\tvalid-gini:0.29956\n",
      "[700]\tvalid-logloss:0.15475\tvalid-gini:0.29816\n",
      "[756]\tvalid-logloss:0.15482\tvalid-gini:0.29697\n"
     ]
    },
    {
     "name": "stderr",
     "output_type": "stream",
     "text": [
      "/opt/conda/lib/python3.7/site-packages/xgboost/core.py:104: UserWarning: ntree_limit is deprecated, use `iteration_range` or model slicing instead.\n",
      "  UserWarning\n"
     ]
    },
    {
     "name": "stdout",
     "output_type": "stream",
     "text": [
      "폴드 1 지니계수: 0.29961440115120136\n",
      "\n",
      "######################################## 폴드 2 / 폴드 5 ########################################\n",
      "[08:18:31] WARNING: ../src/learner.cc:1095: Starting in XGBoost 1.3.0, the default evaluation metric used with the objective 'binary:logistic' was changed from 'error' to 'logloss'. Explicitly set eval_metric if you'd like to restore the old behavior.\n",
      "[0]\tvalid-logloss:0.65286\tvalid-gini:0.15070\n",
      "[100]\tvalid-logloss:0.15672\tvalid-gini:0.27012\n",
      "[200]\tvalid-logloss:0.15526\tvalid-gini:0.28048\n",
      "[300]\tvalid-logloss:0.15516\tvalid-gini:0.28315\n",
      "[400]\tvalid-logloss:0.15518\tvalid-gini:0.28335\n",
      "[500]\tvalid-logloss:0.15515\tvalid-gini:0.28363\n",
      "[600]\tvalid-logloss:0.15516\tvalid-gini:0.28372\n",
      "[602]\tvalid-logloss:0.15515\tvalid-gini:0.28368\n",
      "폴드 2 지니계수: 0.2837606145329253\n",
      "\n",
      "######################################## 폴드 3 / 폴드 5 ########################################\n",
      "[08:25:47] WARNING: ../src/learner.cc:1095: Starting in XGBoost 1.3.0, the default evaluation metric used with the objective 'binary:logistic' was changed from 'error' to 'logloss'. Explicitly set eval_metric if you'd like to restore the old behavior.\n",
      "[0]\tvalid-logloss:0.65285\tvalid-gini:0.15487\n",
      "[100]\tvalid-logloss:0.15642\tvalid-gini:0.27724\n",
      "[200]\tvalid-logloss:0.15502\tvalid-gini:0.28340\n",
      "[300]\tvalid-logloss:0.15495\tvalid-gini:0.28432\n",
      "[400]\tvalid-logloss:0.15495\tvalid-gini:0.28408\n",
      "[456]\tvalid-logloss:0.15496\tvalid-gini:0.28366\n",
      "폴드 3 지니계수: 0.2845216377812854\n",
      "\n",
      "######################################## 폴드 4 / 폴드 5 ########################################\n",
      "[08:31:16] WARNING: ../src/learner.cc:1095: Starting in XGBoost 1.3.0, the default evaluation metric used with the objective 'binary:logistic' was changed from 'error' to 'logloss'. Explicitly set eval_metric if you'd like to restore the old behavior.\n",
      "[0]\tvalid-logloss:0.65277\tvalid-gini:0.17177\n",
      "[100]\tvalid-logloss:0.15657\tvalid-gini:0.26864\n",
      "[200]\tvalid-logloss:0.15521\tvalid-gini:0.27653\n",
      "[300]\tvalid-logloss:0.15518\tvalid-gini:0.27765\n",
      "[400]\tvalid-logloss:0.15515\tvalid-gini:0.27805\n",
      "[500]\tvalid-logloss:0.15520\tvalid-gini:0.27706\n",
      "[568]\tvalid-logloss:0.15521\tvalid-gini:0.27684\n",
      "폴드 4 지니계수: 0.27816885974665556\n",
      "\n",
      "######################################## 폴드 5 / 폴드 5 ########################################\n",
      "[08:37:59] WARNING: ../src/learner.cc:1095: Starting in XGBoost 1.3.0, the default evaluation metric used with the objective 'binary:logistic' was changed from 'error' to 'logloss'. Explicitly set eval_metric if you'd like to restore the old behavior.\n",
      "[0]\tvalid-logloss:0.65280\tvalid-gini:0.16969\n",
      "[100]\tvalid-logloss:0.15661\tvalid-gini:0.28038\n",
      "[200]\tvalid-logloss:0.15515\tvalid-gini:0.29119\n",
      "[300]\tvalid-logloss:0.15500\tvalid-gini:0.29510\n",
      "[400]\tvalid-logloss:0.15495\tvalid-gini:0.29606\n",
      "[500]\tvalid-logloss:0.15491\tvalid-gini:0.29648\n",
      "[600]\tvalid-logloss:0.15491\tvalid-gini:0.29647\n",
      "[676]\tvalid-logloss:0.15491\tvalid-gini:0.29614\n",
      "폴드 5 지니계수: 0.2966429888208315\n",
      "\n"
     ]
    }
   ],
   "source": [
    "from sklearn.model_selection import StratifiedKFold\n",
    "\n",
    "# Stratified K 폴드 교차검증기 생성\n",
    "folds = StratifiedKFold(n_splits=5, shuffle=True, random_state=1991)\n",
    "\n",
    "# OOF 방식으로 훈련된 모델로 검증 데이터 타깃 값을 예측한 확률을 담을 1차원 배열\n",
    "oof_val_preds = np.zeros(X.shape[0]) \n",
    "# OOF 방식으로 훈련된 모델로 테스트 데이터 타깃 값을 예측한 확률을 담을 1차원 배열\n",
    "oof_test_preds = np.zeros(X_test.shape[0]) \n",
    "\n",
    "# OOF 방식으로 모델 훈련, 검증, 예측\n",
    "for idx, (train_idx, valid_idx) in enumerate(folds.split(X, y)):\n",
    "    # 각 폴드를 구분하는 문구\n",
    "    print('#'*40, f'폴드 {idx+1} / 폴드 {folds.n_splits}', '#'*40)\n",
    "    \n",
    "    # 훈련용 데이터, 검증용 데이터 설정\n",
    "    X_train, y_train = X[train_idx], y[train_idx]\n",
    "    X_valid, y_valid = X[valid_idx], y[valid_idx]\n",
    "\n",
    "    # xgb 데이터세트 생성 \n",
    "    dtrain = xgb.DMatrix(X_train, y_train)\n",
    "    dvalid = xgb.DMatrix(X_valid, y_valid)\n",
    "    dtest = xgb.DMatrix(X_test)\n",
    "\n",
    "    # XGBoost 모델 훈련\n",
    "    xgb_model = xgb.train(params=max_params, \n",
    "                          dtrain=dtrain,\n",
    "                          num_boost_round=1000,\n",
    "                          evals=[(dvalid, 'valid')],\n",
    "                          maximize=True,\n",
    "                          feval=gini,\n",
    "                          early_stopping_rounds=150,\n",
    "                          verbose_eval=100)\n",
    "\n",
    "    # 모델 성능이 가장 좋을 때의 부스팅 반복 횟수 저장\n",
    "    best_iter = xgb_model.best_iteration\n",
    "    # 테스트 데이터를 활용해 OOF 예측\n",
    "    oof_test_preds += xgb_model.predict(dtest, \n",
    "                                    ntree_limit=best_iter)/folds.n_splits\n",
    "    \n",
    "    # 모델 성능 평가를 위한 검증 데이터 타깃 값 예측 \n",
    "    oof_val_preds[valid_idx] += xgb_model.predict(dvalid, \n",
    "                                                  ntree_limit=best_iter)\n",
    "\n",
    "    # 검증 데이터 예측확률에 대한 정규화 지니계수\n",
    "    gini_score = eval_gini(y_valid, oof_val_preds[valid_idx])\n",
    "    print(f'폴드 {idx+1} 지니계수: {gini_score}\\n')"
   ]
  },
  {
   "cell_type": "code",
   "execution_count": 24,
   "id": "average-tennessee",
   "metadata": {
    "execution": {
     "iopub.execute_input": "2021-05-06T08:45:58.731751Z",
     "iopub.status.busy": "2021-05-06T08:45:58.730999Z",
     "iopub.status.idle": "2021-05-06T08:45:58.853260Z",
     "shell.execute_reply": "2021-05-06T08:45:58.852234Z"
    },
    "papermill": {
     "duration": 0.171884,
     "end_time": "2021-05-06T08:45:58.853555",
     "exception": false,
     "start_time": "2021-05-06T08:45:58.681671",
     "status": "completed"
    },
    "tags": []
   },
   "outputs": [
    {
     "name": "stdout",
     "output_type": "stream",
     "text": [
      "OOF 검증 데이터 지니계수: 0.28849001909297844\n"
     ]
    }
   ],
   "source": [
    "print('OOF 검증 데이터 지니계수:', eval_gini(y, oof_val_preds))"
   ]
  },
  {
   "cell_type": "markdown",
   "id": "republican-raleigh",
   "metadata": {
    "papermill": {
     "duration": 0.047108,
     "end_time": "2021-05-06T08:45:58.950533",
     "exception": false,
     "start_time": "2021-05-06T08:45:58.903425",
     "status": "completed"
    },
    "tags": []
   },
   "source": [
    "## 5.5.4 결과 제출"
   ]
  },
  {
   "cell_type": "code",
   "execution_count": 25,
   "id": "laughing-capital",
   "metadata": {
    "execution": {
     "iopub.execute_input": "2021-05-06T08:45:59.058630Z",
     "iopub.status.busy": "2021-05-06T08:45:59.057642Z",
     "iopub.status.idle": "2021-05-06T08:46:02.737574Z",
     "shell.execute_reply": "2021-05-06T08:46:02.736894Z"
    },
    "papermill": {
     "duration": 3.736746,
     "end_time": "2021-05-06T08:46:02.737728",
     "exception": false,
     "start_time": "2021-05-06T08:45:59.000982",
     "status": "completed"
    },
    "tags": []
   },
   "outputs": [],
   "source": [
    "submission['target'] = oof_test_preds\n",
    "submission.to_csv('submission.csv')"
   ]
  }
 ],
 "metadata": {
  "kernelspec": {
   "display_name": "Python 3",
   "language": "python",
   "name": "python3"
  },
  "language_info": {
   "codemirror_mode": {
    "name": "ipython",
    "version": 3
   },
   "file_extension": ".py",
   "mimetype": "text/x-python",
   "name": "python",
   "nbconvert_exporter": "python",
   "pygments_lexer": "ipython3",
   "version": "3.7.10"
  },
  "papermill": {
   "default_parameters": {},
   "duration": 3549.868496,
   "end_time": "2021-05-06T08:46:05.024149",
   "environment_variables": {},
   "exception": null,
   "input_path": "__notebook__.ipynb",
   "output_path": "__notebook__.ipynb",
   "parameters": {},
   "start_time": "2021-05-06T07:46:55.155653",
   "version": "2.3.3"
  }
 },
 "nbformat": 4,
 "nbformat_minor": 5
}
