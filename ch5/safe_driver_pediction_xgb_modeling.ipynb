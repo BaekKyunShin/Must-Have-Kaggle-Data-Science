{
 "cells": [
  {
   "cell_type": "markdown",
   "metadata": {
    "papermill": {
     "duration": 0.019655,
     "end_time": "2021-03-12T15:48:28.085341",
     "exception": false,
     "start_time": "2021-03-12T15:48:28.065686",
     "status": "completed"
    },
    "tags": []
   },
   "source": [
    "# 안전 운전자 예측 경진대회 XGBoost 모델 성능 향상시키기"
   ]
  },
  {
   "cell_type": "markdown",
   "metadata": {
    "papermill": {
     "duration": 0.018123,
     "end_time": "2021-03-12T15:48:28.122893",
     "exception": false,
     "start_time": "2021-03-12T15:48:28.104770",
     "status": "completed"
    },
    "tags": []
   },
   "source": [
    "- [안전 운전자 예측 경진대회 링크](https://www.kaggle.com/c/porto-seguro-safe-driver-prediction)\n",
    "- [모델링 노트북 참고 링크](https://www.kaggle.com/xiaozhouwang/2nd-place-lightgbm-solution)"
   ]
  },
  {
   "cell_type": "code",
   "execution_count": 1,
   "metadata": {
    "execution": {
     "iopub.execute_input": "2021-03-12T15:48:28.164133Z",
     "iopub.status.busy": "2021-03-12T15:48:28.163374Z",
     "iopub.status.idle": "2021-03-12T15:48:38.849066Z",
     "shell.execute_reply": "2021-03-12T15:48:38.848258Z"
    },
    "papermill": {
     "duration": 10.70715,
     "end_time": "2021-03-12T15:48:38.849311",
     "exception": false,
     "start_time": "2021-03-12T15:48:28.142161",
     "status": "completed"
    },
    "tags": []
   },
   "outputs": [],
   "source": [
    "# ch5/safe_driver_prediction_xgb_modeling.ipynb\n",
    "\n",
    "import numpy as np\n",
    "import pandas as pd\n",
    "\n",
    "# 데이터 경로\n",
    "data_path = '/kaggle/input/porto-seguro-safe-driver-prediction/'\n",
    "\n",
    "train = pd.read_csv(data_path + 'train.csv', index_col='id')\n",
    "test = pd.read_csv(data_path + 'test.csv', index_col='id')\n",
    "submission = pd.read_csv(data_path + 'sample_submission.csv', index_col='id')"
   ]
  },
  {
   "cell_type": "code",
   "execution_count": 2,
   "metadata": {
    "execution": {
     "iopub.execute_input": "2021-03-12T15:48:38.894577Z",
     "iopub.status.busy": "2021-03-12T15:48:38.893913Z",
     "iopub.status.idle": "2021-03-12T15:48:40.149019Z",
     "shell.execute_reply": "2021-03-12T15:48:40.148321Z"
    },
    "papermill": {
     "duration": 1.280967,
     "end_time": "2021-03-12T15:48:40.149189",
     "exception": false,
     "start_time": "2021-03-12T15:48:38.868222",
     "status": "completed"
    },
    "tags": []
   },
   "outputs": [],
   "source": [
    "all_data = pd.concat([train, test], ignore_index=True)\n",
    "all_data = all_data.drop('target', axis=1) # 타깃 값 제거\n",
    "\n",
    "all_features = all_data.columns # 전체 피처"
   ]
  },
  {
   "cell_type": "markdown",
   "metadata": {
    "papermill": {
     "duration": 0.018522,
     "end_time": "2021-03-12T15:48:40.186541",
     "exception": false,
     "start_time": "2021-03-12T15:48:40.168019",
     "status": "completed"
    },
    "tags": []
   },
   "source": [
    "## 피처 엔지니어링"
   ]
  },
  {
   "cell_type": "markdown",
   "metadata": {
    "papermill": {
     "duration": 0.019054,
     "end_time": "2021-03-12T15:48:40.225059",
     "exception": false,
     "start_time": "2021-03-12T15:48:40.206005",
     "status": "completed"
    },
    "tags": []
   },
   "source": [
    "### 데이터 하나당 가지고 있는 결측값 개수를 새로운 피처로 생성"
   ]
  },
  {
   "cell_type": "code",
   "execution_count": 3,
   "metadata": {
    "execution": {
     "iopub.execute_input": "2021-03-12T15:48:40.269027Z",
     "iopub.status.busy": "2021-03-12T15:48:40.268362Z",
     "iopub.status.idle": "2021-03-12T15:48:40.480810Z",
     "shell.execute_reply": "2021-03-12T15:48:40.480165Z"
    },
    "papermill": {
     "duration": 0.237081,
     "end_time": "2021-03-12T15:48:40.480948",
     "exception": false,
     "start_time": "2021-03-12T15:48:40.243867",
     "status": "completed"
    },
    "tags": []
   },
   "outputs": [],
   "source": [
    "# '데이터 하나당 결측값 개수'를 파생 변수로 추가\n",
    "all_data['num_missing'] = (all_data==-1).sum(axis=1)\n",
    "\n",
    "# 명목형 피처, 태그에 calc가 달린 피처를 제외한 피처\n",
    "remaining_features = [feature for feature in all_features\n",
    "                      if ('cat' not in feature and 'calc' not in feature)] \n",
    "# num_missing을 remaining_features에 추가\n",
    "remaining_features.append('num_missing')"
   ]
  },
  {
   "cell_type": "markdown",
   "metadata": {
    "papermill": {
     "duration": 0.018614,
     "end_time": "2021-03-12T15:48:40.519581",
     "exception": false,
     "start_time": "2021-03-12T15:48:40.500967",
     "status": "completed"
    },
    "tags": []
   },
   "source": [
    "### 명목형 피처 원-핫 인코딩 적용"
   ]
  },
  {
   "cell_type": "code",
   "execution_count": 4,
   "metadata": {
    "execution": {
     "iopub.execute_input": "2021-03-12T15:48:40.562619Z",
     "iopub.status.busy": "2021-03-12T15:48:40.561957Z",
     "iopub.status.idle": "2021-03-12T15:48:43.834687Z",
     "shell.execute_reply": "2021-03-12T15:48:43.833997Z"
    },
    "papermill": {
     "duration": 3.29648,
     "end_time": "2021-03-12T15:48:43.834827",
     "exception": false,
     "start_time": "2021-03-12T15:48:40.538347",
     "status": "completed"
    },
    "tags": []
   },
   "outputs": [],
   "source": [
    "from sklearn.preprocessing import OneHotEncoder\n",
    "\n",
    "cat_features = [feature for feature in all_features if 'cat' in feature] # 명목형 피처\n",
    "\n",
    "# 원-핫 인코딩 적용\n",
    "onehot_encoder = OneHotEncoder()\n",
    "encoded_cat_matrix = onehot_encoder.fit_transform(all_data[cat_features]) "
   ]
  },
  {
   "cell_type": "markdown",
   "metadata": {
    "papermill": {
     "duration": 0.019007,
     "end_time": "2021-03-12T15:48:43.872845",
     "exception": false,
     "start_time": "2021-03-12T15:48:43.853838",
     "status": "completed"
    },
    "tags": []
   },
   "source": [
    "### 모든 ind 피처 값을 연결해서 새로운 피처 `mix_ind` 생성"
   ]
  },
  {
   "cell_type": "code",
   "execution_count": 5,
   "metadata": {
    "execution": {
     "iopub.execute_input": "2021-03-12T15:48:43.917906Z",
     "iopub.status.busy": "2021-03-12T15:48:43.917223Z",
     "iopub.status.idle": "2021-03-12T15:49:26.277554Z",
     "shell.execute_reply": "2021-03-12T15:49:26.276954Z"
    },
    "papermill": {
     "duration": 42.385659,
     "end_time": "2021-03-12T15:49:26.277720",
     "exception": false,
     "start_time": "2021-03-12T15:48:43.892061",
     "status": "completed"
    },
    "tags": []
   },
   "outputs": [],
   "source": [
    "# 태그에 ind가 달린 피처\n",
    "ind_features = [feature for feature in all_features if 'ind' in feature]\n",
    "\n",
    "is_first_feature=True\n",
    "for ind_feature in ind_features:\n",
    "    if is_first_feature:\n",
    "        all_data['mix_ind'] = all_data[ind_feature].astype(str)+'_'\n",
    "        is_first_feature = False\n",
    "    else:\n",
    "        all_data['mix_ind'] += all_data[ind_feature].astype(str)+'_'"
   ]
  },
  {
   "cell_type": "markdown",
   "metadata": {
    "papermill": {
     "duration": 0.019025,
     "end_time": "2021-03-12T15:49:26.316161",
     "exception": false,
     "start_time": "2021-03-12T15:49:26.297136",
     "status": "completed"
    },
    "tags": []
   },
   "source": [
    "### 명목형 피처의 고유값별 개수를 새로운 피처로 생성"
   ]
  },
  {
   "cell_type": "code",
   "execution_count": 6,
   "metadata": {
    "execution": {
     "iopub.execute_input": "2021-03-12T15:49:26.362820Z",
     "iopub.status.busy": "2021-03-12T15:49:26.362051Z",
     "iopub.status.idle": "2021-03-12T15:49:41.154587Z",
     "shell.execute_reply": "2021-03-12T15:49:41.155085Z"
    },
    "papermill": {
     "duration": 14.819881,
     "end_time": "2021-03-12T15:49:41.155302",
     "exception": false,
     "start_time": "2021-03-12T15:49:26.335421",
     "status": "completed"
    },
    "tags": []
   },
   "outputs": [],
   "source": [
    "cat_count_features = []\n",
    "for feature in cat_features+['mix_ind']:\n",
    "    val_counts_dict = all_data[feature].value_counts().to_dict()\n",
    "    all_data[f'{feature}_count'] = all_data[feature].apply(lambda x: \n",
    "                                                           val_counts_dict[x])\n",
    "    cat_count_features.append(f'{feature}_count')"
   ]
  },
  {
   "cell_type": "markdown",
   "metadata": {
    "papermill": {
     "duration": 0.018854,
     "end_time": "2021-03-12T15:49:41.193367",
     "exception": false,
     "start_time": "2021-03-12T15:49:41.174513",
     "status": "completed"
    },
    "tags": []
   },
   "source": [
    "### 훈련 및 테스트용 데이터 만들기"
   ]
  },
  {
   "cell_type": "code",
   "execution_count": 7,
   "metadata": {
    "execution": {
     "iopub.execute_input": "2021-03-12T15:49:41.235074Z",
     "iopub.status.busy": "2021-03-12T15:49:41.234474Z",
     "iopub.status.idle": "2021-03-12T15:49:46.709326Z",
     "shell.execute_reply": "2021-03-12T15:49:46.708681Z"
    },
    "papermill": {
     "duration": 5.497044,
     "end_time": "2021-03-12T15:49:46.709486",
     "exception": false,
     "start_time": "2021-03-12T15:49:41.212442",
     "status": "completed"
    },
    "tags": []
   },
   "outputs": [],
   "source": [
    "from scipy import sparse\n",
    "\n",
    "drop_features = ['ps_ind_14', 'ps_ind_10_bin','ps_ind_11_bin', \n",
    "                 'ps_ind_12_bin','ps_ind_13_bin','ps_car_14']\n",
    "\n",
    "# remaining_features, cat_count_features에서 drop_features를 제거한 데이터\n",
    "all_data_remaining = all_data[remaining_features+cat_count_features].drop(drop_features, axis=1)\n",
    "\n",
    "# 데이터 합치기\n",
    "all_data_sprs = sparse.hstack([sparse.csr_matrix(all_data_remaining),\n",
    "                               encoded_cat_matrix],\n",
    "                              format='csr')"
   ]
  },
  {
   "cell_type": "code",
   "execution_count": 8,
   "metadata": {
    "execution": {
     "iopub.execute_input": "2021-03-12T15:49:46.754798Z",
     "iopub.status.busy": "2021-03-12T15:49:46.754154Z",
     "iopub.status.idle": "2021-03-12T15:49:47.733810Z",
     "shell.execute_reply": "2021-03-12T15:49:47.733256Z"
    },
    "papermill": {
     "duration": 1.00453,
     "end_time": "2021-03-12T15:49:47.733965",
     "exception": false,
     "start_time": "2021-03-12T15:49:46.729435",
     "status": "completed"
    },
    "tags": []
   },
   "outputs": [],
   "source": [
    "num_train = train.shape[0] # 훈련 데이터 개수\n",
    "\n",
    "# 훈련 데이터와 테스트 데이터 나누기\n",
    "X = all_data_sprs[:num_train]\n",
    "X_test = all_data_sprs[num_train:]\n",
    "\n",
    "y = train['target'].values"
   ]
  },
  {
   "cell_type": "markdown",
   "metadata": {
    "papermill": {
     "duration": 0.019657,
     "end_time": "2021-03-12T15:49:47.773064",
     "exception": false,
     "start_time": "2021-03-12T15:49:47.753407",
     "status": "completed"
    },
    "tags": []
   },
   "source": [
    "### 지니계수 계산 함수"
   ]
  },
  {
   "cell_type": "code",
   "execution_count": 9,
   "metadata": {
    "execution": {
     "iopub.execute_input": "2021-03-12T15:49:47.819718Z",
     "iopub.status.busy": "2021-03-12T15:49:47.819086Z",
     "iopub.status.idle": "2021-03-12T15:49:47.822425Z",
     "shell.execute_reply": "2021-03-12T15:49:47.821896Z"
    },
    "papermill": {
     "duration": 0.029897,
     "end_time": "2021-03-12T15:49:47.822560",
     "exception": false,
     "start_time": "2021-03-12T15:49:47.792663",
     "status": "completed"
    },
    "tags": []
   },
   "outputs": [],
   "source": [
    "def eval_gini(y_true, y_pred):\n",
    "    # 실제 값과 예측 값의 크기가 같은지 확인 (값이 다르면 오류 발생)\n",
    "    assert y_true.shape == y_pred.shape\n",
    "\n",
    "    n_samples = y_true.shape[0] # 데이터 개수\n",
    "    L_mid = np.linspace(1 / n_samples, 1, n_samples) # 대각선 값\n",
    "\n",
    "    # 1) 예측 값에 대한 지니계수\n",
    "    pred_order = y_true[y_pred.argsort()] # y_pred 크기순으로 y_true 값 정렬\n",
    "    L_pred = np.cumsum(pred_order) / np.sum(pred_order) # 로렌츠 곡선\n",
    "    G_pred = np.sum(L_mid - L_pred)# 예측 값에 대한 지니계수\n",
    "\n",
    "    # 2) 예측이 완벽할 때 지니계수\n",
    "    true_order = y_true[y_true.argsort()] # y_true 크기순으로 y_true 값 정렬\n",
    "    L_true = np.cumsum(true_order) / np.sum(true_order) # 로렌츠 곡선\n",
    "    G_true = np.sum(L_mid - L_true) # 예측이 완벽할 때 지니계수\n",
    "\n",
    "    # 정규화된 지니계수\n",
    "    return G_pred / G_true"
   ]
  },
  {
   "cell_type": "code",
   "execution_count": 10,
   "metadata": {
    "execution": {
     "iopub.execute_input": "2021-03-12T15:49:47.866529Z",
     "iopub.status.busy": "2021-03-12T15:49:47.865881Z",
     "iopub.status.idle": "2021-03-12T15:49:47.869298Z",
     "shell.execute_reply": "2021-03-12T15:49:47.868644Z"
    },
    "papermill": {
     "duration": 0.027539,
     "end_time": "2021-03-12T15:49:47.869434",
     "exception": false,
     "start_time": "2021-03-12T15:49:47.841895",
     "status": "completed"
    },
    "tags": []
   },
   "outputs": [],
   "source": [
    "def gini(preds, dtrain):\n",
    "    labels = dtrain.get_label()\n",
    "    return 'gini', eval_gini(labels, preds)"
   ]
  },
  {
   "cell_type": "markdown",
   "metadata": {
    "papermill": {
     "duration": 0.019357,
     "end_time": "2021-03-12T15:49:47.908562",
     "exception": false,
     "start_time": "2021-03-12T15:49:47.889205",
     "status": "completed"
    },
    "tags": []
   },
   "source": [
    "## 하이퍼 파라미터 최적화\n",
    "- BayesianOptimization을 활용한 베이지안 최적화"
   ]
  },
  {
   "cell_type": "code",
   "execution_count": 11,
   "metadata": {
    "execution": {
     "iopub.execute_input": "2021-03-12T15:49:47.954660Z",
     "iopub.status.busy": "2021-03-12T15:49:47.954034Z",
     "iopub.status.idle": "2021-03-12T15:50:00.421049Z",
     "shell.execute_reply": "2021-03-12T15:50:00.420533Z"
    },
    "papermill": {
     "duration": 12.492741,
     "end_time": "2021-03-12T15:50:00.421226",
     "exception": false,
     "start_time": "2021-03-12T15:49:47.928485",
     "status": "completed"
    },
    "tags": []
   },
   "outputs": [],
   "source": [
    "import xgboost as xgb\n",
    "from sklearn.model_selection import train_test_split\n",
    "\n",
    "# 8:2 비율로 훈련 데이터, 검증 데이터 분리 (베이지안 최적화 수행용)\n",
    "X_train, X_valid, y_train, y_valid = train_test_split(X, y, \n",
    "                                                      test_size=0.2, \n",
    "                                                      random_state=0)\n",
    "# 베이지안 최적화용 데이터 세트\n",
    "bayes_dtrain = xgb.DMatrix(X_train, y_train)\n",
    "bayes_dvalid = xgb.DMatrix(X_valid, y_valid)"
   ]
  },
  {
   "cell_type": "code",
   "execution_count": 12,
   "metadata": {
    "execution": {
     "iopub.execute_input": "2021-03-12T15:50:00.467812Z",
     "iopub.status.busy": "2021-03-12T15:50:00.467180Z",
     "iopub.status.idle": "2021-03-12T15:50:00.469914Z",
     "shell.execute_reply": "2021-03-12T15:50:00.469257Z"
    },
    "papermill": {
     "duration": 0.028786,
     "end_time": "2021-03-12T15:50:00.470050",
     "exception": false,
     "start_time": "2021-03-12T15:50:00.441264",
     "status": "completed"
    },
    "tags": []
   },
   "outputs": [],
   "source": [
    "# 베이지안 최적화를 위한 하이퍼 파라미터 범위\n",
    "param_bounds = {'max_depth': (4, 8),\n",
    "                'subsample': (0.7, 0.9),\n",
    "                'colsample_bytree': (0.7, 0.9),\n",
    "                'min_child_weight': (5, 7),\n",
    "                'gamma': (9, 11),\n",
    "                'reg_alpha': (7, 9),\n",
    "                'reg_lambda': (1.2, 1.4),\n",
    "                'scale_pos_weight': (1.5, 1.7)}\n",
    "\n",
    "# 고정된 하이퍼 파라미터\n",
    "fixed_params = {'objective': 'binary:logistic',\n",
    "                'learning_rate': 0.05,\n",
    "                'random_state': 1991}"
   ]
  },
  {
   "cell_type": "code",
   "execution_count": 13,
   "metadata": {
    "execution": {
     "iopub.execute_input": "2021-03-12T15:50:00.520845Z",
     "iopub.status.busy": "2021-03-12T15:50:00.520171Z",
     "iopub.status.idle": "2021-03-12T15:50:00.523524Z",
     "shell.execute_reply": "2021-03-12T15:50:00.522990Z"
    },
    "papermill": {
     "duration": 0.033601,
     "end_time": "2021-03-12T15:50:00.523675",
     "exception": false,
     "start_time": "2021-03-12T15:50:00.490074",
     "status": "completed"
    },
    "tags": []
   },
   "outputs": [],
   "source": [
    "def eval_function(max_depth, subsample, colsample_bytree, min_child_weight,\n",
    "                 reg_alpha, gamma, reg_lambda, scale_pos_weight):\n",
    "    '''최적화하려는 평가지표(지니계수) 계산 함수'''\n",
    "    \n",
    "    params = {'max_depth': int(round(max_depth)),\n",
    "              'subsample': subsample,\n",
    "              'colsample_bytree': colsample_bytree,\n",
    "              'min_child_weight': int(round(min_child_weight)),\n",
    "              'gamma': gamma,\n",
    "              'reg_alpha':reg_alpha,\n",
    "              'reg_lambda': reg_lambda,\n",
    "              'scale_pos_weight': scale_pos_weight}\n",
    "    # 고정된 하이퍼 파라미터도 추가\n",
    "    params.update(fixed_params)\n",
    "    \n",
    "    print('하이퍼 파라미터:', params)    \n",
    "        \n",
    "    # XGBoost 모델 훈련\n",
    "    xgb_model = xgb.train(params=params, \n",
    "                          dtrain=bayes_dtrain,\n",
    "                          num_boost_round=500,\n",
    "                          evals=[(bayes_dvalid, 'bayes_dvalid')],\n",
    "                          maximize=True,\n",
    "                          feval=gini,\n",
    "                          early_stopping_rounds=150,\n",
    "                          verbose_eval=False)\n",
    "    \n",
    "                           \n",
    "    best_iter = xgb_model.best_iteration # 최적 반복 횟수\n",
    "    # 검증 데이터로 예측 수행\n",
    "    preds = xgb_model.predict(bayes_dvalid, ntree_limit=best_iter)\n",
    "    # 지니계수 계산\n",
    "    gini_score = eval_gini(y_valid, preds)\n",
    "    print(f'지니계수: {gini_score}\\n')\n",
    "    \n",
    "    return gini_score"
   ]
  },
  {
   "cell_type": "code",
   "execution_count": 14,
   "metadata": {
    "execution": {
     "iopub.execute_input": "2021-03-12T15:50:00.567320Z",
     "iopub.status.busy": "2021-03-12T15:50:00.566680Z",
     "iopub.status.idle": "2021-03-12T15:50:00.593690Z",
     "shell.execute_reply": "2021-03-12T15:50:00.594233Z"
    },
    "papermill": {
     "duration": 0.050559,
     "end_time": "2021-03-12T15:50:00.594437",
     "exception": false,
     "start_time": "2021-03-12T15:50:00.543878",
     "status": "completed"
    },
    "tags": []
   },
   "outputs": [],
   "source": [
    "from bayes_opt import BayesianOptimization\n",
    "\n",
    "# 베이지안 최적화 객체 생성\n",
    "optimizer = BayesianOptimization(f=eval_function, \n",
    "                                 pbounds=param_bounds,\n",
    "                                 random_state=0)"
   ]
  },
  {
   "cell_type": "code",
   "execution_count": 15,
   "metadata": {
    "execution": {
     "iopub.execute_input": "2021-03-12T15:50:00.638847Z",
     "iopub.status.busy": "2021-03-12T15:50:00.638121Z",
     "iopub.status.idle": "2021-03-12T16:10:25.954693Z",
     "shell.execute_reply": "2021-03-12T16:10:25.955274Z"
    },
    "papermill": {
     "duration": 1225.340751,
     "end_time": "2021-03-12T16:10:25.955657",
     "exception": false,
     "start_time": "2021-03-12T15:50:00.614906",
     "status": "completed"
    },
    "tags": []
   },
   "outputs": [
    {
     "name": "stdout",
     "output_type": "stream",
     "text": [
      "|   iter    |  target   | colsam... |   gamma   | max_depth | min_ch... | reg_alpha | reg_la... | scale_... | subsample |\n",
      "-------------------------------------------------------------------------------------------------------------------------\n",
      "하이퍼 파라미터: {'max_depth': 6, 'subsample': 0.878354600156416, 'colsample_bytree': 0.809762700785465, 'min_child_weight': 6, 'gamma': 10.430378732744838, 'reg_alpha': 7.84730959867781, 'reg_lambda': 1.3291788226133312, 'scale_pos_weight': 1.5875174422525384, 'objective': 'binary:logistic', 'learning_rate': 0.05, 'random_state': 1991}\n",
      "[15:50:01] WARNING: ../src/learner.cc:1061: Starting in XGBoost 1.3.0, the default evaluation metric used with the objective 'binary:logistic' was changed from 'error' to 'logloss'. Explicitly set eval_metric if you'd like to restore the old behavior.\n",
      "지니계수: 0.2827732646026083\n",
      "\n",
      "| \u001b[0m 1       \u001b[0m | \u001b[0m 0.2828  \u001b[0m | \u001b[0m 0.8098  \u001b[0m | \u001b[0m 10.43   \u001b[0m | \u001b[0m 6.411   \u001b[0m | \u001b[0m 6.09    \u001b[0m | \u001b[0m 7.847   \u001b[0m | \u001b[0m 1.329   \u001b[0m | \u001b[0m 1.588   \u001b[0m | \u001b[0m 0.8784  \u001b[0m |\n",
      "하이퍼 파라미터: {'max_depth': 7, 'subsample': 0.717425859940308, 'colsample_bytree': 0.8927325521002059, 'min_child_weight': 6, 'gamma': 9.766883037651555, 'reg_alpha': 8.136089122187865, 'reg_lambda': 1.385119327658532, 'scale_pos_weight': 1.5142072116395773, 'objective': 'binary:logistic', 'learning_rate': 0.05, 'random_state': 1991}\n",
      "[15:54:10] WARNING: ../src/learner.cc:1061: Starting in XGBoost 1.3.0, the default evaluation metric used with the objective 'binary:logistic' was changed from 'error' to 'logloss'. Explicitly set eval_metric if you'd like to restore the old behavior.\n",
      "지니계수: 0.28389406359583147\n",
      "\n",
      "| \u001b[95m 2       \u001b[0m | \u001b[95m 0.2839  \u001b[0m | \u001b[95m 0.8927  \u001b[0m | \u001b[95m 9.767   \u001b[0m | \u001b[95m 7.167   \u001b[0m | \u001b[95m 6.058   \u001b[0m | \u001b[95m 8.136   \u001b[0m | \u001b[95m 1.385   \u001b[0m | \u001b[95m 1.514   \u001b[0m | \u001b[95m 0.7174  \u001b[0m |\n",
      "하이퍼 파라미터: {'max_depth': 7, 'subsample': 0.7667753691037088, 'colsample_bytree': 0.822874972498957, 'min_child_weight': 6, 'gamma': 10.634830818448416, 'reg_alpha': 8.551838810159788, 'reg_lambda': 1.3407382997774553, 'scale_pos_weight': 1.523280772455086, 'objective': 'binary:logistic', 'learning_rate': 0.05, 'random_state': 1991}\n",
      "[15:59:50] WARNING: ../src/learner.cc:1061: Starting in XGBoost 1.3.0, the default evaluation metric used with the objective 'binary:logistic' was changed from 'error' to 'logloss'. Explicitly set eval_metric if you'd like to restore the old behavior.\n",
      "지니계수: 0.28384881983661747\n",
      "\n",
      "| \u001b[0m 3       \u001b[0m | \u001b[0m 0.2838  \u001b[0m | \u001b[0m 0.8229  \u001b[0m | \u001b[0m 10.63   \u001b[0m | \u001b[0m 6.838   \u001b[0m | \u001b[0m 6.494   \u001b[0m | \u001b[0m 8.552   \u001b[0m | \u001b[0m 1.341   \u001b[0m | \u001b[0m 1.523   \u001b[0m | \u001b[0m 0.7668  \u001b[0m |\n",
      "하이퍼 파라미터: {'max_depth': 7, 'subsample': 0.7316010993511594, 'colsample_bytree': 0.8460586801739219, 'min_child_weight': 6, 'gamma': 10.774497599680391, 'reg_alpha': 8.54569292196456, 'reg_lambda': 1.31431273584847, 'scale_pos_weight': 1.6743964799713726, 'objective': 'binary:logistic', 'learning_rate': 0.05, 'random_state': 1991}\n",
      "[16:05:06] WARNING: ../src/learner.cc:1061: Starting in XGBoost 1.3.0, the default evaluation metric used with the objective 'binary:logistic' was changed from 'error' to 'logloss'. Explicitly set eval_metric if you'd like to restore the old behavior.\n",
      "지니계수: 0.2837196917459266\n",
      "\n",
      "| \u001b[0m 4       \u001b[0m | \u001b[0m 0.2837  \u001b[0m | \u001b[0m 0.8461  \u001b[0m | \u001b[0m 10.77   \u001b[0m | \u001b[0m 6.765   \u001b[0m | \u001b[0m 6.449   \u001b[0m | \u001b[0m 8.546   \u001b[0m | \u001b[0m 1.314   \u001b[0m | \u001b[0m 1.674   \u001b[0m | \u001b[0m 0.7316  \u001b[0m |\n",
      "=========================================================================================================================\n"
     ]
    }
   ],
   "source": [
    "# 베이지안 최적화 수행\n",
    "optimizer.maximize(init_points=2, n_iter=2)"
   ]
  },
  {
   "cell_type": "code",
   "execution_count": 16,
   "metadata": {
    "execution": {
     "iopub.execute_input": "2021-03-12T16:10:26.011759Z",
     "iopub.status.busy": "2021-03-12T16:10:26.010877Z",
     "iopub.status.idle": "2021-03-12T16:10:26.015598Z",
     "shell.execute_reply": "2021-03-12T16:10:26.014954Z"
    },
    "papermill": {
     "duration": 0.037046,
     "end_time": "2021-03-12T16:10:26.015739",
     "exception": false,
     "start_time": "2021-03-12T16:10:25.978693",
     "status": "completed"
    },
    "tags": []
   },
   "outputs": [
    {
     "data": {
      "text/plain": [
       "{'colsample_bytree': 0.8927325521002059,\n",
       " 'gamma': 9.766883037651555,\n",
       " 'max_depth': 7.166900152330658,\n",
       " 'min_child_weight': 6.0577898395058085,\n",
       " 'reg_alpha': 8.136089122187865,\n",
       " 'reg_lambda': 1.385119327658532,\n",
       " 'scale_pos_weight': 1.5142072116395773,\n",
       " 'subsample': 0.717425859940308}"
      ]
     },
     "execution_count": 16,
     "metadata": {},
     "output_type": "execute_result"
    }
   ],
   "source": [
    "# 평가함수 점수가 최대일 때 하이퍼 파라미터\n",
    "max_params = optimizer.max['params']\n",
    "max_params"
   ]
  },
  {
   "cell_type": "code",
   "execution_count": 17,
   "metadata": {
    "execution": {
     "iopub.execute_input": "2021-03-12T16:10:26.066231Z",
     "iopub.status.busy": "2021-03-12T16:10:26.065627Z",
     "iopub.status.idle": "2021-03-12T16:10:26.070549Z",
     "shell.execute_reply": "2021-03-12T16:10:26.069967Z"
    },
    "papermill": {
     "duration": 0.031276,
     "end_time": "2021-03-12T16:10:26.070689",
     "exception": false,
     "start_time": "2021-03-12T16:10:26.039413",
     "status": "completed"
    },
    "tags": []
   },
   "outputs": [],
   "source": [
    "# 정수형 하이퍼 파라미터 변환\n",
    "max_params['max_depth'] = int(round(max_params['max_depth']))"
   ]
  },
  {
   "cell_type": "code",
   "execution_count": 18,
   "metadata": {
    "execution": {
     "iopub.execute_input": "2021-03-12T16:10:26.124297Z",
     "iopub.status.busy": "2021-03-12T16:10:26.123305Z",
     "iopub.status.idle": "2021-03-12T16:10:26.127605Z",
     "shell.execute_reply": "2021-03-12T16:10:26.127118Z"
    },
    "papermill": {
     "duration": 0.033151,
     "end_time": "2021-03-12T16:10:26.127740",
     "exception": false,
     "start_time": "2021-03-12T16:10:26.094589",
     "status": "completed"
    },
    "tags": []
   },
   "outputs": [
    {
     "data": {
      "text/plain": [
       "{'colsample_bytree': 0.8927325521002059,\n",
       " 'gamma': 9.766883037651555,\n",
       " 'max_depth': 7,\n",
       " 'min_child_weight': 6.0577898395058085,\n",
       " 'reg_alpha': 8.136089122187865,\n",
       " 'reg_lambda': 1.385119327658532,\n",
       " 'scale_pos_weight': 1.5142072116395773,\n",
       " 'subsample': 0.717425859940308}"
      ]
     },
     "execution_count": 18,
     "metadata": {},
     "output_type": "execute_result"
    }
   ],
   "source": [
    "max_params"
   ]
  },
  {
   "cell_type": "code",
   "execution_count": 19,
   "metadata": {
    "execution": {
     "iopub.execute_input": "2021-03-12T16:10:26.181305Z",
     "iopub.status.busy": "2021-03-12T16:10:26.180526Z",
     "iopub.status.idle": "2021-03-12T16:10:26.183556Z",
     "shell.execute_reply": "2021-03-12T16:10:26.182941Z"
    },
    "papermill": {
     "duration": 0.031695,
     "end_time": "2021-03-12T16:10:26.183691",
     "exception": false,
     "start_time": "2021-03-12T16:10:26.151996",
     "status": "completed"
    },
    "tags": []
   },
   "outputs": [],
   "source": [
    "# 고정된 하이퍼 파라미터 추가\n",
    "max_params.update(fixed_params)"
   ]
  },
  {
   "cell_type": "code",
   "execution_count": 20,
   "metadata": {
    "execution": {
     "iopub.execute_input": "2021-03-12T16:10:26.238032Z",
     "iopub.status.busy": "2021-03-12T16:10:26.237348Z",
     "iopub.status.idle": "2021-03-12T16:10:26.240605Z",
     "shell.execute_reply": "2021-03-12T16:10:26.241191Z"
    },
    "papermill": {
     "duration": 0.032937,
     "end_time": "2021-03-12T16:10:26.241368",
     "exception": false,
     "start_time": "2021-03-12T16:10:26.208431",
     "status": "completed"
    },
    "tags": []
   },
   "outputs": [
    {
     "data": {
      "text/plain": [
       "{'colsample_bytree': 0.8927325521002059,\n",
       " 'gamma': 9.766883037651555,\n",
       " 'max_depth': 7,\n",
       " 'min_child_weight': 6.0577898395058085,\n",
       " 'reg_alpha': 8.136089122187865,\n",
       " 'reg_lambda': 1.385119327658532,\n",
       " 'scale_pos_weight': 1.5142072116395773,\n",
       " 'subsample': 0.717425859940308,\n",
       " 'objective': 'binary:logistic',\n",
       " 'learning_rate': 0.05,\n",
       " 'random_state': 1991}"
      ]
     },
     "execution_count": 20,
     "metadata": {},
     "output_type": "execute_result"
    }
   ],
   "source": [
    "max_params"
   ]
  },
  {
   "cell_type": "markdown",
   "metadata": {
    "papermill": {
     "duration": 0.024428,
     "end_time": "2021-03-12T16:10:26.290780",
     "exception": false,
     "start_time": "2021-03-12T16:10:26.266352",
     "status": "completed"
    },
    "tags": []
   },
   "source": [
    "## 훈련 및 제출"
   ]
  },
  {
   "cell_type": "code",
   "execution_count": 21,
   "metadata": {
    "execution": {
     "iopub.execute_input": "2021-03-12T16:10:26.343642Z",
     "iopub.status.busy": "2021-03-12T16:10:26.342938Z",
     "iopub.status.idle": "2021-03-12T16:47:56.162946Z",
     "shell.execute_reply": "2021-03-12T16:47:56.164000Z"
    },
    "papermill": {
     "duration": 2249.84872,
     "end_time": "2021-03-12T16:47:56.164318",
     "exception": false,
     "start_time": "2021-03-12T16:10:26.315598",
     "status": "completed"
    },
    "tags": []
   },
   "outputs": [
    {
     "name": "stdout",
     "output_type": "stream",
     "text": [
      "######################################## 폴드 1 / 폴드 5 ########################################\n",
      "[16:10:58] WARNING: ../src/learner.cc:1061: Starting in XGBoost 1.3.0, the default evaluation metric used with the objective 'binary:logistic' was changed from 'error' to 'logloss'. Explicitly set eval_metric if you'd like to restore the old behavior.\n",
      "[0]\tvalid-logloss:0.65282\tvalid-gini:0.15941\n",
      "[100]\tvalid-logloss:0.15637\tvalid-gini:0.28555\n",
      "[200]\tvalid-logloss:0.15485\tvalid-gini:0.29589\n",
      "[300]\tvalid-logloss:0.15475\tvalid-gini:0.29885\n",
      "[400]\tvalid-logloss:0.15474\tvalid-gini:0.29912\n",
      "[500]\tvalid-logloss:0.15473\tvalid-gini:0.29909\n",
      "[600]\tvalid-logloss:0.15473\tvalid-gini:0.29956\n",
      "[700]\tvalid-logloss:0.15475\tvalid-gini:0.29816\n",
      "[756]\tvalid-logloss:0.15482\tvalid-gini:0.29697\n",
      "폴드 1 지니계수: 0.29961440115120136\n",
      "\n",
      "######################################## 폴드 2 / 폴드 5 ########################################\n",
      "[16:20:05] WARNING: ../src/learner.cc:1061: Starting in XGBoost 1.3.0, the default evaluation metric used with the objective 'binary:logistic' was changed from 'error' to 'logloss'. Explicitly set eval_metric if you'd like to restore the old behavior.\n",
      "[0]\tvalid-logloss:0.65286\tvalid-gini:0.15070\n",
      "[100]\tvalid-logloss:0.15672\tvalid-gini:0.27012\n",
      "[200]\tvalid-logloss:0.15526\tvalid-gini:0.28048\n",
      "[300]\tvalid-logloss:0.15516\tvalid-gini:0.28315\n",
      "[400]\tvalid-logloss:0.15518\tvalid-gini:0.28335\n",
      "[500]\tvalid-logloss:0.15515\tvalid-gini:0.28363\n",
      "[600]\tvalid-logloss:0.15516\tvalid-gini:0.28372\n",
      "[602]\tvalid-logloss:0.15515\tvalid-gini:0.28368\n",
      "폴드 2 지니계수: 0.2837606145329253\n",
      "\n",
      "######################################## 폴드 3 / 폴드 5 ########################################\n",
      "[16:27:25] WARNING: ../src/learner.cc:1061: Starting in XGBoost 1.3.0, the default evaluation metric used with the objective 'binary:logistic' was changed from 'error' to 'logloss'. Explicitly set eval_metric if you'd like to restore the old behavior.\n",
      "[0]\tvalid-logloss:0.65285\tvalid-gini:0.15487\n",
      "[100]\tvalid-logloss:0.15642\tvalid-gini:0.27724\n",
      "[200]\tvalid-logloss:0.15502\tvalid-gini:0.28340\n",
      "[300]\tvalid-logloss:0.15495\tvalid-gini:0.28432\n",
      "[400]\tvalid-logloss:0.15495\tvalid-gini:0.28408\n",
      "[456]\tvalid-logloss:0.15496\tvalid-gini:0.28366\n",
      "폴드 3 지니계수: 0.2845216377812854\n",
      "\n",
      "######################################## 폴드 4 / 폴드 5 ########################################\n",
      "[16:33:13] WARNING: ../src/learner.cc:1061: Starting in XGBoost 1.3.0, the default evaluation metric used with the objective 'binary:logistic' was changed from 'error' to 'logloss'. Explicitly set eval_metric if you'd like to restore the old behavior.\n",
      "[0]\tvalid-logloss:0.65277\tvalid-gini:0.17177\n",
      "[100]\tvalid-logloss:0.15657\tvalid-gini:0.26864\n",
      "[200]\tvalid-logloss:0.15521\tvalid-gini:0.27653\n",
      "[300]\tvalid-logloss:0.15518\tvalid-gini:0.27765\n",
      "[400]\tvalid-logloss:0.15515\tvalid-gini:0.27805\n",
      "[500]\tvalid-logloss:0.15520\tvalid-gini:0.27706\n",
      "[567]\tvalid-logloss:0.15521\tvalid-gini:0.27701\n",
      "폴드 4 지니계수: 0.27816885974665556\n",
      "\n",
      "######################################## 폴드 5 / 폴드 5 ########################################\n",
      "[16:40:11] WARNING: ../src/learner.cc:1061: Starting in XGBoost 1.3.0, the default evaluation metric used with the objective 'binary:logistic' was changed from 'error' to 'logloss'. Explicitly set eval_metric if you'd like to restore the old behavior.\n",
      "[0]\tvalid-logloss:0.65280\tvalid-gini:0.16969\n",
      "[100]\tvalid-logloss:0.15661\tvalid-gini:0.28038\n",
      "[200]\tvalid-logloss:0.15515\tvalid-gini:0.29119\n",
      "[300]\tvalid-logloss:0.15500\tvalid-gini:0.29510\n",
      "[400]\tvalid-logloss:0.15495\tvalid-gini:0.29606\n",
      "[500]\tvalid-logloss:0.15491\tvalid-gini:0.29648\n",
      "[600]\tvalid-logloss:0.15491\tvalid-gini:0.29647\n",
      "[675]\tvalid-logloss:0.15491\tvalid-gini:0.29615\n",
      "폴드 5 지니계수: 0.2966429888208315\n",
      "\n"
     ]
    }
   ],
   "source": [
    "from sklearn.model_selection import StratifiedKFold\n",
    "\n",
    "# Stratified K 폴드 교차검증기 생성\n",
    "folds = StratifiedKFold(n_splits=5, shuffle=True, random_state=1991)\n",
    "\n",
    "# OOF 방식으로 훈련된 모델로 검증 데이터 타깃 값을 예측한 확률을 담을 1차원 배열\n",
    "oof_val_preds = np.zeros(X.shape[0]) \n",
    "# OOF 방식으로 훈련된 모델로 테스트 데이터 타깃 값을 예측한 확률을 담을 1차원 배열\n",
    "oof_test_preds = np.zeros(X_test.shape[0]) \n",
    "\n",
    "# OOF 방식으로 모델 훈련, 검증, 예측\n",
    "for idx, (train_idx, valid_idx) in enumerate(folds.split(X, y)):\n",
    "    # 각 폴드를 구분하는 문구\n",
    "    print('#'*40, f'폴드 {idx+1} / 폴드 {folds.n_splits}', '#'*40)\n",
    "    \n",
    "    # 훈련용 데이터, 검증용 데이터 설정\n",
    "    X_train, y_train = X[train_idx], y[train_idx]\n",
    "    X_valid, y_valid = X[valid_idx], y[valid_idx]\n",
    "\n",
    "    # xgb 데이터세트 생성 \n",
    "    dtrain = xgb.DMatrix(X_train, y_train)\n",
    "    dvalid = xgb.DMatrix(X_valid, y_valid)\n",
    "    dtest = xgb.DMatrix(X_test)\n",
    "\n",
    "    xgb_model = xgb.train(params=max_params, \n",
    "                          dtrain=dtrain,\n",
    "                          num_boost_round=1000,\n",
    "                          evals=[(dvalid, 'valid')],\n",
    "                          maximize=True,\n",
    "                          feval=gini,\n",
    "                          early_stopping_rounds=150,\n",
    "                          verbose_eval=100)\n",
    "\n",
    "    # 모델 성능이 가장 좋을 때의 부스팅 반복 횟수 저장\n",
    "    best_iter = xgb_model.best_iteration\n",
    "    # 테스트 데이터를 활용해 OOF 예측\n",
    "    oof_test_preds += xgb_model.predict(dtest, \n",
    "                                    ntree_limit=best_iter)/folds.n_splits\n",
    "    \n",
    "    # 모델 성능 평가를 위한 검증 데이터 타깃 값 예측 \n",
    "    oof_val_preds[valid_idx] += xgb_model.predict(dvalid, \n",
    "                                                  ntree_limit=best_iter)\n",
    "\n",
    "    # 검증 데이터 예측확률에 대한 정규화 지니계수\n",
    "    gini_score = eval_gini(y_valid, oof_val_preds[valid_idx])\n",
    "    print(f'폴드 {idx+1} 지니계수: {gini_score}\\n')"
   ]
  },
  {
   "cell_type": "code",
   "execution_count": 22,
   "metadata": {
    "execution": {
     "iopub.execute_input": "2021-03-12T16:47:56.254943Z",
     "iopub.status.busy": "2021-03-12T16:47:56.254321Z",
     "iopub.status.idle": "2021-03-12T16:47:56.368133Z",
     "shell.execute_reply": "2021-03-12T16:47:56.367494Z"
    },
    "papermill": {
     "duration": 0.156333,
     "end_time": "2021-03-12T16:47:56.368274",
     "exception": false,
     "start_time": "2021-03-12T16:47:56.211941",
     "status": "completed"
    },
    "tags": []
   },
   "outputs": [
    {
     "name": "stdout",
     "output_type": "stream",
     "text": [
      "OOF 검증 데이터 지니계수: 0.28849001909297844\n"
     ]
    }
   ],
   "source": [
    "print('OOF 검증 데이터 지니계수:', eval_gini(y, oof_val_preds))"
   ]
  },
  {
   "cell_type": "code",
   "execution_count": 23,
   "metadata": {
    "execution": {
     "iopub.execute_input": "2021-03-12T16:47:56.450851Z",
     "iopub.status.busy": "2021-03-12T16:47:56.450215Z",
     "iopub.status.idle": "2021-03-12T16:48:00.143338Z",
     "shell.execute_reply": "2021-03-12T16:48:00.142587Z"
    },
    "papermill": {
     "duration": 3.736762,
     "end_time": "2021-03-12T16:48:00.143485",
     "exception": false,
     "start_time": "2021-03-12T16:47:56.406723",
     "status": "completed"
    },
    "tags": []
   },
   "outputs": [],
   "source": [
    "submission['target'] = oof_test_preds\n",
    "submission.to_csv('submission.csv')"
   ]
  }
 ],
 "metadata": {
  "kernelspec": {
   "display_name": "Python 3",
   "language": "python",
   "name": "python3"
  },
  "language_info": {
   "codemirror_mode": {
    "name": "ipython",
    "version": 3
   },
   "file_extension": ".py",
   "mimetype": "text/x-python",
   "name": "python",
   "nbconvert_exporter": "python",
   "pygments_lexer": "ipython3",
   "version": "3.7.9"
  },
  "papermill": {
   "default_parameters": {},
   "duration": 3578.578083,
   "end_time": "2021-03-12T16:48:00.993739",
   "environment_variables": {},
   "exception": null,
   "input_path": "__notebook__.ipynb",
   "output_path": "__notebook__.ipynb",
   "parameters": {},
   "start_time": "2021-03-12T15:48:22.415656",
   "version": "2.2.2"
  }
 },
 "nbformat": 4,
 "nbformat_minor": 4
}
