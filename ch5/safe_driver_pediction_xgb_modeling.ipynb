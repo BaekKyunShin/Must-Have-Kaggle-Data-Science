{
 "cells": [
  {
   "cell_type": "markdown",
   "metadata": {
    "papermill": {
     "duration": 0.020467,
     "end_time": "2021-02-20T11:20:52.034900",
     "exception": false,
     "start_time": "2021-02-20T11:20:52.014433",
     "status": "completed"
    },
    "tags": []
   },
   "source": [
    "# 안전 운전자 예측 경진대회 XGBoost 모델 성능 향상시키기"
   ]
  },
  {
   "cell_type": "markdown",
   "metadata": {
    "papermill": {
     "duration": 0.019186,
     "end_time": "2021-02-20T11:20:52.073236",
     "exception": false,
     "start_time": "2021-02-20T11:20:52.054050",
     "status": "completed"
    },
    "tags": []
   },
   "source": [
    "- [안전 운전자 예측 경진대회 링크](https://www.kaggle.com/c/porto-seguro-safe-driver-prediction)\n",
    "- [모델링 노트북 참고 링크](https://www.kaggle.com/xiaozhouwang/2nd-place-lightgbm-solution)"
   ]
  },
  {
   "cell_type": "code",
   "execution_count": 1,
   "metadata": {
    "execution": {
     "iopub.execute_input": "2021-02-20T11:20:52.114774Z",
     "iopub.status.busy": "2021-02-20T11:20:52.113793Z",
     "iopub.status.idle": "2021-02-20T11:21:03.031571Z",
     "shell.execute_reply": "2021-02-20T11:21:03.033026Z"
    },
    "papermill": {
     "duration": 10.942325,
     "end_time": "2021-02-20T11:21:03.034486",
     "exception": false,
     "start_time": "2021-02-20T11:20:52.092161",
     "status": "completed"
    },
    "tags": []
   },
   "outputs": [],
   "source": [
    "# ch5/safe_driver_prediction_xgb_modeling.ipynb\n",
    "\n",
    "import numpy as np\n",
    "import pandas as pd\n",
    "\n",
    "# 데이터 경로\n",
    "data_path = '/kaggle/input/porto-seguro-safe-driver-prediction/'\n",
    "\n",
    "train = pd.read_csv(data_path + 'train.csv', index_col='id')\n",
    "test = pd.read_csv(data_path + 'test.csv', index_col='id')\n",
    "submission = pd.read_csv(data_path + 'sample_submission.csv', index_col='id')"
   ]
  },
  {
   "cell_type": "code",
   "execution_count": 2,
   "metadata": {
    "execution": {
     "iopub.execute_input": "2021-02-20T11:21:03.089691Z",
     "iopub.status.busy": "2021-02-20T11:21:03.087992Z",
     "iopub.status.idle": "2021-02-20T11:21:04.500839Z",
     "shell.execute_reply": "2021-02-20T11:21:04.499976Z"
    },
    "papermill": {
     "duration": 1.442208,
     "end_time": "2021-02-20T11:21:04.501054",
     "exception": false,
     "start_time": "2021-02-20T11:21:03.058846",
     "status": "completed"
    },
    "tags": []
   },
   "outputs": [],
   "source": [
    "all_data = pd.concat([train, test], ignore_index=True)\n",
    "all_data = all_data.drop('target', axis=1) # 타깃 값 제거\n",
    "\n",
    "all_features = all_data.columns.tolist() # 전체 피처"
   ]
  },
  {
   "cell_type": "markdown",
   "metadata": {
    "papermill": {
     "duration": 0.019005,
     "end_time": "2021-02-20T11:21:04.540061",
     "exception": false,
     "start_time": "2021-02-20T11:21:04.521056",
     "status": "completed"
    },
    "tags": []
   },
   "source": [
    "## 피처 엔지니어링"
   ]
  },
  {
   "cell_type": "markdown",
   "metadata": {
    "papermill": {
     "duration": 0.01874,
     "end_time": "2021-02-20T11:21:04.578299",
     "exception": false,
     "start_time": "2021-02-20T11:21:04.559559",
     "status": "completed"
    },
    "tags": []
   },
   "source": [
    "### 데이터 하나당 가지고 있는 결측값 개수를 새로운 피처로 생성"
   ]
  },
  {
   "cell_type": "code",
   "execution_count": 3,
   "metadata": {
    "execution": {
     "iopub.execute_input": "2021-02-20T11:21:04.625514Z",
     "iopub.status.busy": "2021-02-20T11:21:04.624384Z",
     "iopub.status.idle": "2021-02-20T11:21:04.854461Z",
     "shell.execute_reply": "2021-02-20T11:21:04.854952Z"
    },
    "papermill": {
     "duration": 0.257297,
     "end_time": "2021-02-20T11:21:04.855159",
     "exception": false,
     "start_time": "2021-02-20T11:21:04.597862",
     "status": "completed"
    },
    "tags": []
   },
   "outputs": [],
   "source": [
    "# '데이터 하나당 결측값 개수'를 파생 변수로 추가\n",
    "all_data['num_missing'] = (all_data==-1).sum(axis=1)\n",
    "\n",
    "# 명목형 피처, 태그에 calc가 달린 피처를 제외한 피처\n",
    "remaining_features = [col for col in all_features \\\n",
    "                      if ('cat' not in col and 'calc' not in col)] \n",
    "# num_missing을 remaining_features에 추가\n",
    "remaining_features.append('num_missing')"
   ]
  },
  {
   "cell_type": "markdown",
   "metadata": {
    "papermill": {
     "duration": 0.019481,
     "end_time": "2021-02-20T11:21:04.893413",
     "exception": false,
     "start_time": "2021-02-20T11:21:04.873932",
     "status": "completed"
    },
    "tags": []
   },
   "source": [
    "### 명목형 피처 원-핫 인코딩 적용"
   ]
  },
  {
   "cell_type": "code",
   "execution_count": 4,
   "metadata": {
    "execution": {
     "iopub.execute_input": "2021-02-20T11:21:04.938197Z",
     "iopub.status.busy": "2021-02-20T11:21:04.937492Z",
     "iopub.status.idle": "2021-02-20T11:21:08.402082Z",
     "shell.execute_reply": "2021-02-20T11:21:08.402788Z"
    },
    "papermill": {
     "duration": 3.489275,
     "end_time": "2021-02-20T11:21:08.402986",
     "exception": false,
     "start_time": "2021-02-20T11:21:04.913711",
     "status": "completed"
    },
    "tags": []
   },
   "outputs": [],
   "source": [
    "from sklearn.preprocessing import OneHotEncoder\n",
    "\n",
    "cat_features = [col for col in all_features if 'cat' in col] # 명목형 피처\n",
    "\n",
    "# 원-핫 인코딩 적용\n",
    "onehot_encoder = OneHotEncoder()\n",
    "encoded_cat_matrix = onehot_encoder.fit_transform(all_data[cat_features]) "
   ]
  },
  {
   "cell_type": "markdown",
   "metadata": {
    "papermill": {
     "duration": 0.019009,
     "end_time": "2021-02-20T11:21:08.442673",
     "exception": false,
     "start_time": "2021-02-20T11:21:08.423664",
     "status": "completed"
    },
    "tags": []
   },
   "source": [
    "### 모든 ind 피처 값을 연결해서 새로운 피처 `mix_ind` 생성"
   ]
  },
  {
   "cell_type": "code",
   "execution_count": 5,
   "metadata": {
    "execution": {
     "iopub.execute_input": "2021-02-20T11:21:08.484683Z",
     "iopub.status.busy": "2021-02-20T11:21:08.483749Z",
     "iopub.status.idle": "2021-02-20T11:21:51.815637Z",
     "shell.execute_reply": "2021-02-20T11:21:51.815014Z"
    },
    "papermill": {
     "duration": 43.353789,
     "end_time": "2021-02-20T11:21:51.815786",
     "exception": false,
     "start_time": "2021-02-20T11:21:08.461997",
     "status": "completed"
    },
    "tags": []
   },
   "outputs": [],
   "source": [
    "# 태그에 ind가 달린 피처\n",
    "ind_features = [col for col in all_features if 'ind' in col]\n",
    "\n",
    "first_col=True\n",
    "for col in ind_features:\n",
    "    if first_col:\n",
    "        all_data['mix_ind'] = all_data[col].astype(str)+'_'\n",
    "        first_col = False\n",
    "    else:\n",
    "        all_data['mix_ind'] += all_data[col].astype(str)+'_'"
   ]
  },
  {
   "cell_type": "markdown",
   "metadata": {
    "papermill": {
     "duration": 0.019045,
     "end_time": "2021-02-20T11:21:51.853988",
     "exception": false,
     "start_time": "2021-02-20T11:21:51.834943",
     "status": "completed"
    },
    "tags": []
   },
   "source": [
    "### 명목형 피처의 고유값별 개수를 새로운 피처로 생성"
   ]
  },
  {
   "cell_type": "code",
   "execution_count": 6,
   "metadata": {
    "execution": {
     "iopub.execute_input": "2021-02-20T11:21:51.900397Z",
     "iopub.status.busy": "2021-02-20T11:21:51.899729Z",
     "iopub.status.idle": "2021-02-20T11:22:07.036261Z",
     "shell.execute_reply": "2021-02-20T11:22:07.036745Z"
    },
    "papermill": {
     "duration": 15.163892,
     "end_time": "2021-02-20T11:22:07.036936",
     "exception": false,
     "start_time": "2021-02-20T11:21:51.873044",
     "status": "completed"
    },
    "tags": []
   },
   "outputs": [],
   "source": [
    "cat_count_features = []\n",
    "for col in cat_features+['mix_ind']:\n",
    "    val_counts_dic = all_data[col].value_counts().to_dict()\n",
    "    all_data[f'{col}_count'] = all_data[col].apply(lambda x: val_counts_dic[x])\n",
    "    cat_count_features.append(f'{col}_count')"
   ]
  },
  {
   "cell_type": "markdown",
   "metadata": {
    "papermill": {
     "duration": 0.018565,
     "end_time": "2021-02-20T11:22:07.074853",
     "exception": false,
     "start_time": "2021-02-20T11:22:07.056288",
     "status": "completed"
    },
    "tags": []
   },
   "source": [
    "### 훈련 및 테스트용 데이터 만들기"
   ]
  },
  {
   "cell_type": "code",
   "execution_count": 7,
   "metadata": {
    "execution": {
     "iopub.execute_input": "2021-02-20T11:22:07.120611Z",
     "iopub.status.busy": "2021-02-20T11:22:07.119263Z",
     "iopub.status.idle": "2021-02-20T11:22:12.885809Z",
     "shell.execute_reply": "2021-02-20T11:22:12.884122Z"
    },
    "papermill": {
     "duration": 5.792724,
     "end_time": "2021-02-20T11:22:12.886398",
     "exception": false,
     "start_time": "2021-02-20T11:22:07.093674",
     "status": "completed"
    },
    "tags": []
   },
   "outputs": [],
   "source": [
    "from scipy import sparse\n",
    "\n",
    "drop_features = ['ps_ind_14', 'ps_ind_10_bin','ps_ind_11_bin', \n",
    "                 'ps_ind_12_bin','ps_ind_13_bin','ps_car_14']\n",
    "\n",
    "# remaining_features, cat_count_features에서 drop_features를 제거한 데이터\n",
    "all_data_remaining = all_data[remaining_features+cat_count_features].drop(drop_features, axis=1)\n",
    "\n",
    "# 데이터 합치기\n",
    "all_data_sprs = sparse.hstack([sparse.csr_matrix(all_data_remaining),\n",
    "                               encoded_cat_matrix],\n",
    "                              format='csr')"
   ]
  },
  {
   "cell_type": "code",
   "execution_count": 8,
   "metadata": {
    "execution": {
     "iopub.execute_input": "2021-02-20T11:22:12.936179Z",
     "iopub.status.busy": "2021-02-20T11:22:12.935383Z",
     "iopub.status.idle": "2021-02-20T11:22:13.964038Z",
     "shell.execute_reply": "2021-02-20T11:22:13.963357Z"
    },
    "papermill": {
     "duration": 1.056439,
     "end_time": "2021-02-20T11:22:13.964204",
     "exception": false,
     "start_time": "2021-02-20T11:22:12.907765",
     "status": "completed"
    },
    "tags": []
   },
   "outputs": [],
   "source": [
    "num_train = train.shape[0] # 훈련 데이터 개수\n",
    "\n",
    "# 훈련 데이터와 테스트 데이터 나누기\n",
    "X = all_data_sprs[:num_train]\n",
    "X_test = all_data_sprs[num_train:]\n",
    "\n",
    "y = train['target'].values"
   ]
  },
  {
   "cell_type": "markdown",
   "metadata": {
    "papermill": {
     "duration": 0.020209,
     "end_time": "2021-02-20T11:22:14.004419",
     "exception": false,
     "start_time": "2021-02-20T11:22:13.984210",
     "status": "completed"
    },
    "tags": []
   },
   "source": [
    "### 지니계수 계산 함수"
   ]
  },
  {
   "cell_type": "code",
   "execution_count": 9,
   "metadata": {
    "execution": {
     "iopub.execute_input": "2021-02-20T11:22:14.052744Z",
     "iopub.status.busy": "2021-02-20T11:22:14.052012Z",
     "iopub.status.idle": "2021-02-20T11:22:14.054968Z",
     "shell.execute_reply": "2021-02-20T11:22:14.054371Z"
    },
    "papermill": {
     "duration": 0.029952,
     "end_time": "2021-02-20T11:22:14.055166",
     "exception": false,
     "start_time": "2021-02-20T11:22:14.025214",
     "status": "completed"
    },
    "tags": []
   },
   "outputs": [],
   "source": [
    "def eval_gini(y_true, y_pred):\n",
    "    # 실제 값과 예측 값의 크기가 같은지 확인 (값이 다르면 오류 발생)\n",
    "    assert y_true.shape == y_pred.shape\n",
    "\n",
    "    n_samples = y_true.shape[0] # 데이터 개수\n",
    "    L_mid = np.linspace(1 / n_samples, 1, n_samples) # 대각선 값\n",
    "\n",
    "    # 1) 예측 값에 대한 지니계수\n",
    "    pred_order = y_true[y_pred.argsort()] # y_pred 크기순으로 y_true 값 정렬\n",
    "    L_pred = np.cumsum(pred_order) / np.sum(pred_order) # 로렌츠 곡선\n",
    "    G_pred = np.sum(L_mid - L_pred)# 예측 값에 대한 지니계수\n",
    "\n",
    "    # 2) 예측이 완벽할 때 지니계수\n",
    "    true_order = y_true[y_true.argsort()] # y_true 크기순으로 y_true 값 정렬\n",
    "    L_true = np.cumsum(true_order) / np.sum(true_order) # 로렌츠 곡선\n",
    "    G_true = np.sum(L_mid - L_true) # 예측이 완벽할 때 지니계수\n",
    "\n",
    "    # 정규화된 지니계수\n",
    "    return G_pred / G_true"
   ]
  },
  {
   "cell_type": "code",
   "execution_count": 10,
   "metadata": {
    "execution": {
     "iopub.execute_input": "2021-02-20T11:22:14.099277Z",
     "iopub.status.busy": "2021-02-20T11:22:14.098582Z",
     "iopub.status.idle": "2021-02-20T11:22:14.102019Z",
     "shell.execute_reply": "2021-02-20T11:22:14.101527Z"
    },
    "papermill": {
     "duration": 0.027469,
     "end_time": "2021-02-20T11:22:14.102187",
     "exception": false,
     "start_time": "2021-02-20T11:22:14.074718",
     "status": "completed"
    },
    "tags": []
   },
   "outputs": [],
   "source": [
    "def gini(preds, dtrain):\n",
    "    labels = dtrain.get_label()\n",
    "    return 'gini', eval_gini(labels, preds)"
   ]
  },
  {
   "cell_type": "markdown",
   "metadata": {
    "papermill": {
     "duration": 0.019686,
     "end_time": "2021-02-20T11:22:14.141435",
     "exception": false,
     "start_time": "2021-02-20T11:22:14.121749",
     "status": "completed"
    },
    "tags": []
   },
   "source": [
    "## 하이퍼 파라미터 최적화\n",
    "- BayesianOptimization을 활용한 베이지안 최적화"
   ]
  },
  {
   "cell_type": "code",
   "execution_count": 11,
   "metadata": {
    "execution": {
     "iopub.execute_input": "2021-02-20T11:22:14.186264Z",
     "iopub.status.busy": "2021-02-20T11:22:14.185593Z",
     "iopub.status.idle": "2021-02-20T11:22:27.296223Z",
     "shell.execute_reply": "2021-02-20T11:22:27.296704Z"
    },
    "papermill": {
     "duration": 13.13599,
     "end_time": "2021-02-20T11:22:27.296898",
     "exception": false,
     "start_time": "2021-02-20T11:22:14.160908",
     "status": "completed"
    },
    "tags": []
   },
   "outputs": [],
   "source": [
    "import xgboost as xgb\n",
    "from sklearn.model_selection import train_test_split\n",
    "\n",
    "# 8:2 비율로 훈련 데이터, 검증 데이터 분리 (베이지안 최적화 수행용)\n",
    "X_train, X_valid, y_train, y_valid = train_test_split(X, y, \n",
    "                                                      test_size=0.2, \n",
    "                                                      random_state=0)\n",
    "# 베이지안 최적화용 데이터 세트\n",
    "bayes_dtrain = xgb.DMatrix(X_train, y_train)\n",
    "bayes_dvalid = xgb.DMatrix(X_valid, y_valid)"
   ]
  },
  {
   "cell_type": "code",
   "execution_count": 12,
   "metadata": {
    "execution": {
     "iopub.execute_input": "2021-02-20T11:22:27.341554Z",
     "iopub.status.busy": "2021-02-20T11:22:27.340732Z",
     "iopub.status.idle": "2021-02-20T11:22:27.347289Z",
     "shell.execute_reply": "2021-02-20T11:22:27.346640Z"
    },
    "papermill": {
     "duration": 0.030121,
     "end_time": "2021-02-20T11:22:27.347430",
     "exception": false,
     "start_time": "2021-02-20T11:22:27.317309",
     "status": "completed"
    },
    "tags": []
   },
   "outputs": [],
   "source": [
    "# 베이지안 최적화를 위한 하이퍼 파라미터 범위\n",
    "param_bounds = {'max_depth': (4, 8),\n",
    "                'subsample': (0.7, 0.9),\n",
    "                'colsample_bytree': (0.7, 0.9),\n",
    "                'min_child_weight': (5, 7),\n",
    "                'gamma': (9, 11),\n",
    "                'reg_alpha': (7, 9),\n",
    "                'reg_lambda': (1.2, 1.4),\n",
    "                'scale_pos_weight': (1.5, 1.7)}\n",
    "\n",
    "# 고정된 하이퍼 파라미터\n",
    "fixed_params = {'objective': 'binary:logistic',\n",
    "                'learning_rate': 0.05,\n",
    "                'random_state': 1991}"
   ]
  },
  {
   "cell_type": "code",
   "execution_count": 13,
   "metadata": {
    "execution": {
     "iopub.execute_input": "2021-02-20T11:22:27.398798Z",
     "iopub.status.busy": "2021-02-20T11:22:27.398105Z",
     "iopub.status.idle": "2021-02-20T11:22:27.400949Z",
     "shell.execute_reply": "2021-02-20T11:22:27.400388Z"
    },
    "papermill": {
     "duration": 0.033572,
     "end_time": "2021-02-20T11:22:27.401088",
     "exception": false,
     "start_time": "2021-02-20T11:22:27.367516",
     "status": "completed"
    },
    "tags": []
   },
   "outputs": [],
   "source": [
    "def eval_function(max_depth, subsample, colsample_bytree, min_child_weight,\n",
    "                 reg_alpha, gamma, reg_lambda, scale_pos_weight):\n",
    "    '''최적화하려는 평가지표(지니계수) 계산 함수'''\n",
    "    \n",
    "    params = {'max_depth': int(round(max_depth)),\n",
    "              'subsample': subsample,\n",
    "              'colsample_bytree': colsample_bytree,\n",
    "              'min_child_weight': int(round(min_child_weight)),\n",
    "              'gamma': gamma,\n",
    "              'reg_alpha':reg_alpha,\n",
    "              'reg_lambda': reg_lambda,\n",
    "              'scale_pos_weight': scale_pos_weight}\n",
    "    # 고정된 하이퍼 파라미터도 추가\n",
    "    params.update(fixed_params)\n",
    "    \n",
    "    print('하이퍼 파라미터:', params)    \n",
    "        \n",
    "    # XGBoost 모델 훈련\n",
    "    xgb_model = xgb.train(params=params, \n",
    "                          dtrain=bayes_dtrain,\n",
    "                          num_boost_round=500,\n",
    "                          evals=[(bayes_dvalid, 'bayes_dvalid')],\n",
    "                          maximize=True,\n",
    "                          feval=gini,\n",
    "                          early_stopping_rounds=150,\n",
    "                          verbose_eval=False)\n",
    "    \n",
    "                           \n",
    "    best_iter = xgb_model.best_iteration # 최적 반복 횟수\n",
    "    # 검증 데이터로 예측 수행\n",
    "    preds = xgb_model.predict(bayes_dvalid, ntree_limit=best_iter)\n",
    "    # 지니계수 계산\n",
    "    gini_score = eval_gini(y_valid, preds)\n",
    "    print(f'지니계수: {gini_score}\\n')\n",
    "    \n",
    "    return gini_score"
   ]
  },
  {
   "cell_type": "code",
   "execution_count": 14,
   "metadata": {
    "execution": {
     "iopub.execute_input": "2021-02-20T11:22:27.444516Z",
     "iopub.status.busy": "2021-02-20T11:22:27.443570Z",
     "iopub.status.idle": "2021-02-20T11:22:27.471079Z",
     "shell.execute_reply": "2021-02-20T11:22:27.471618Z"
    },
    "papermill": {
     "duration": 0.050835,
     "end_time": "2021-02-20T11:22:27.471801",
     "exception": false,
     "start_time": "2021-02-20T11:22:27.420966",
     "status": "completed"
    },
    "tags": []
   },
   "outputs": [],
   "source": [
    "from bayes_opt import BayesianOptimization\n",
    "\n",
    "# 베이지안 최적화 객체 생성\n",
    "optimizer = BayesianOptimization(f=eval_function, \n",
    "                                 pbounds=param_bounds,\n",
    "                                 random_state=0)"
   ]
  },
  {
   "cell_type": "code",
   "execution_count": 15,
   "metadata": {
    "execution": {
     "iopub.execute_input": "2021-02-20T11:22:27.517714Z",
     "iopub.status.busy": "2021-02-20T11:22:27.516868Z",
     "iopub.status.idle": "2021-02-20T11:43:33.869815Z",
     "shell.execute_reply": "2021-02-20T11:43:33.870412Z"
    },
    "papermill": {
     "duration": 1266.378814,
     "end_time": "2021-02-20T11:43:33.870894",
     "exception": false,
     "start_time": "2021-02-20T11:22:27.492080",
     "status": "completed"
    },
    "tags": []
   },
   "outputs": [
    {
     "name": "stdout",
     "output_type": "stream",
     "text": [
      "|   iter    |  target   | colsam... |   gamma   | max_depth | min_ch... | reg_alpha | reg_la... | scale_... | subsample |\n",
      "-------------------------------------------------------------------------------------------------------------------------\n",
      "하이퍼 파라미터: {'max_depth': 6, 'subsample': 0.878354600156416, 'colsample_bytree': 0.809762700785465, 'min_child_weight': 6, 'gamma': 10.430378732744838, 'reg_alpha': 7.84730959867781, 'reg_lambda': 1.3291788226133312, 'scale_pos_weight': 1.5875174422525384, 'objective': 'binary:logistic', 'learning_rate': 0.05, 'random_state': 1991}\n",
      "[11:22:28] WARNING: ../src/learner.cc:1061: Starting in XGBoost 1.3.0, the default evaluation metric used with the objective 'binary:logistic' was changed from 'error' to 'logloss'. Explicitly set eval_metric if you'd like to restore the old behavior.\n",
      "지니계수: 0.2827732646026083\n",
      "\n",
      "| \u001b[0m 1       \u001b[0m | \u001b[0m 0.2828  \u001b[0m | \u001b[0m 0.8098  \u001b[0m | \u001b[0m 10.43   \u001b[0m | \u001b[0m 6.411   \u001b[0m | \u001b[0m 6.09    \u001b[0m | \u001b[0m 7.847   \u001b[0m | \u001b[0m 1.329   \u001b[0m | \u001b[0m 1.588   \u001b[0m | \u001b[0m 0.8784  \u001b[0m |\n",
      "하이퍼 파라미터: {'max_depth': 7, 'subsample': 0.717425859940308, 'colsample_bytree': 0.8927325521002059, 'min_child_weight': 6, 'gamma': 9.766883037651555, 'reg_alpha': 8.136089122187865, 'reg_lambda': 1.385119327658532, 'scale_pos_weight': 1.5142072116395773, 'objective': 'binary:logistic', 'learning_rate': 0.05, 'random_state': 1991}\n",
      "[11:26:47] WARNING: ../src/learner.cc:1061: Starting in XGBoost 1.3.0, the default evaluation metric used with the objective 'binary:logistic' was changed from 'error' to 'logloss'. Explicitly set eval_metric if you'd like to restore the old behavior.\n",
      "지니계수: 0.28389406359583147\n",
      "\n",
      "| \u001b[95m 2       \u001b[0m | \u001b[95m 0.2839  \u001b[0m | \u001b[95m 0.8927  \u001b[0m | \u001b[95m 9.767   \u001b[0m | \u001b[95m 7.167   \u001b[0m | \u001b[95m 6.058   \u001b[0m | \u001b[95m 8.136   \u001b[0m | \u001b[95m 1.385   \u001b[0m | \u001b[95m 1.514   \u001b[0m | \u001b[95m 0.7174  \u001b[0m |\n",
      "하이퍼 파라미터: {'max_depth': 7, 'subsample': 0.7667753691037088, 'colsample_bytree': 0.822874972498957, 'min_child_weight': 6, 'gamma': 10.634830818448416, 'reg_alpha': 8.551838810159788, 'reg_lambda': 1.3407382997774553, 'scale_pos_weight': 1.523280772455086, 'objective': 'binary:logistic', 'learning_rate': 0.05, 'random_state': 1991}\n",
      "[11:32:41] WARNING: ../src/learner.cc:1061: Starting in XGBoost 1.3.0, the default evaluation metric used with the objective 'binary:logistic' was changed from 'error' to 'logloss'. Explicitly set eval_metric if you'd like to restore the old behavior.\n",
      "지니계수: 0.28384881983661747\n",
      "\n",
      "| \u001b[0m 3       \u001b[0m | \u001b[0m 0.2838  \u001b[0m | \u001b[0m 0.8229  \u001b[0m | \u001b[0m 10.63   \u001b[0m | \u001b[0m 6.838   \u001b[0m | \u001b[0m 6.494   \u001b[0m | \u001b[0m 8.552   \u001b[0m | \u001b[0m 1.341   \u001b[0m | \u001b[0m 1.523   \u001b[0m | \u001b[0m 0.7668  \u001b[0m |\n",
      "하이퍼 파라미터: {'max_depth': 7, 'subsample': 0.7316010993511594, 'colsample_bytree': 0.8460586801739219, 'min_child_weight': 6, 'gamma': 10.774497599680391, 'reg_alpha': 8.54569292196456, 'reg_lambda': 1.31431273584847, 'scale_pos_weight': 1.6743964799713726, 'objective': 'binary:logistic', 'learning_rate': 0.05, 'random_state': 1991}\n",
      "[11:38:02] WARNING: ../src/learner.cc:1061: Starting in XGBoost 1.3.0, the default evaluation metric used with the objective 'binary:logistic' was changed from 'error' to 'logloss'. Explicitly set eval_metric if you'd like to restore the old behavior.\n",
      "지니계수: 0.2837196917459266\n",
      "\n",
      "| \u001b[0m 4       \u001b[0m | \u001b[0m 0.2837  \u001b[0m | \u001b[0m 0.8461  \u001b[0m | \u001b[0m 10.77   \u001b[0m | \u001b[0m 6.765   \u001b[0m | \u001b[0m 6.449   \u001b[0m | \u001b[0m 8.546   \u001b[0m | \u001b[0m 1.314   \u001b[0m | \u001b[0m 1.674   \u001b[0m | \u001b[0m 0.7316  \u001b[0m |\n",
      "=========================================================================================================================\n"
     ]
    }
   ],
   "source": [
    "# 베이지안 최적화 수행\n",
    "optimizer.maximize(init_points=2, n_iter=2)"
   ]
  },
  {
   "cell_type": "code",
   "execution_count": 16,
   "metadata": {
    "execution": {
     "iopub.execute_input": "2021-02-20T11:43:33.927959Z",
     "iopub.status.busy": "2021-02-20T11:43:33.927117Z",
     "iopub.status.idle": "2021-02-20T11:43:33.931937Z",
     "shell.execute_reply": "2021-02-20T11:43:33.931263Z"
    },
    "papermill": {
     "duration": 0.038091,
     "end_time": "2021-02-20T11:43:33.932086",
     "exception": false,
     "start_time": "2021-02-20T11:43:33.893995",
     "status": "completed"
    },
    "tags": []
   },
   "outputs": [
    {
     "data": {
      "text/plain": [
       "{'colsample_bytree': 0.8927325521002059,\n",
       " 'gamma': 9.766883037651555,\n",
       " 'max_depth': 7.166900152330658,\n",
       " 'min_child_weight': 6.0577898395058085,\n",
       " 'reg_alpha': 8.136089122187865,\n",
       " 'reg_lambda': 1.385119327658532,\n",
       " 'scale_pos_weight': 1.5142072116395773,\n",
       " 'subsample': 0.717425859940308}"
      ]
     },
     "execution_count": 16,
     "metadata": {},
     "output_type": "execute_result"
    }
   ],
   "source": [
    "# 평가함수 점수가 최대일 때 하이퍼 파라미터\n",
    "max_params = optimizer.max['params']\n",
    "max_params"
   ]
  },
  {
   "cell_type": "code",
   "execution_count": 17,
   "metadata": {
    "execution": {
     "iopub.execute_input": "2021-02-20T11:43:33.986759Z",
     "iopub.status.busy": "2021-02-20T11:43:33.985944Z",
     "iopub.status.idle": "2021-02-20T11:43:33.988956Z",
     "shell.execute_reply": "2021-02-20T11:43:33.989424Z"
    },
    "papermill": {
     "duration": 0.032267,
     "end_time": "2021-02-20T11:43:33.989614",
     "exception": false,
     "start_time": "2021-02-20T11:43:33.957347",
     "status": "completed"
    },
    "tags": []
   },
   "outputs": [],
   "source": [
    "# 정수형 하이퍼 파라미터 변환\n",
    "max_params['max_depth'] = int(round(max_params['max_depth']))"
   ]
  },
  {
   "cell_type": "code",
   "execution_count": 18,
   "metadata": {
    "execution": {
     "iopub.execute_input": "2021-02-20T11:43:34.049093Z",
     "iopub.status.busy": "2021-02-20T11:43:34.048432Z",
     "iopub.status.idle": "2021-02-20T11:43:34.052154Z",
     "shell.execute_reply": "2021-02-20T11:43:34.051610Z"
    },
    "papermill": {
     "duration": 0.037837,
     "end_time": "2021-02-20T11:43:34.052291",
     "exception": false,
     "start_time": "2021-02-20T11:43:34.014454",
     "status": "completed"
    },
    "tags": []
   },
   "outputs": [
    {
     "data": {
      "text/plain": [
       "{'colsample_bytree': 0.8927325521002059,\n",
       " 'gamma': 9.766883037651555,\n",
       " 'max_depth': 7,\n",
       " 'min_child_weight': 6.0577898395058085,\n",
       " 'reg_alpha': 8.136089122187865,\n",
       " 'reg_lambda': 1.385119327658532,\n",
       " 'scale_pos_weight': 1.5142072116395773,\n",
       " 'subsample': 0.717425859940308}"
      ]
     },
     "execution_count": 18,
     "metadata": {},
     "output_type": "execute_result"
    }
   ],
   "source": [
    "max_params"
   ]
  },
  {
   "cell_type": "code",
   "execution_count": 19,
   "metadata": {
    "execution": {
     "iopub.execute_input": "2021-02-20T11:43:34.122218Z",
     "iopub.status.busy": "2021-02-20T11:43:34.121540Z",
     "iopub.status.idle": "2021-02-20T11:43:34.123678Z",
     "shell.execute_reply": "2021-02-20T11:43:34.124247Z"
    },
    "papermill": {
     "duration": 0.039776,
     "end_time": "2021-02-20T11:43:34.124433",
     "exception": false,
     "start_time": "2021-02-20T11:43:34.084657",
     "status": "completed"
    },
    "tags": []
   },
   "outputs": [],
   "source": [
    "# 고정된 하이퍼 파라미터 추가\n",
    "max_params.update(fixed_params)"
   ]
  },
  {
   "cell_type": "code",
   "execution_count": 20,
   "metadata": {
    "execution": {
     "iopub.execute_input": "2021-02-20T11:43:34.175998Z",
     "iopub.status.busy": "2021-02-20T11:43:34.175364Z",
     "iopub.status.idle": "2021-02-20T11:43:34.180359Z",
     "shell.execute_reply": "2021-02-20T11:43:34.180912Z"
    },
    "papermill": {
     "duration": 0.032288,
     "end_time": "2021-02-20T11:43:34.181074",
     "exception": false,
     "start_time": "2021-02-20T11:43:34.148786",
     "status": "completed"
    },
    "tags": []
   },
   "outputs": [
    {
     "data": {
      "text/plain": [
       "{'colsample_bytree': 0.8927325521002059,\n",
       " 'gamma': 9.766883037651555,\n",
       " 'max_depth': 7,\n",
       " 'min_child_weight': 6.0577898395058085,\n",
       " 'reg_alpha': 8.136089122187865,\n",
       " 'reg_lambda': 1.385119327658532,\n",
       " 'scale_pos_weight': 1.5142072116395773,\n",
       " 'subsample': 0.717425859940308,\n",
       " 'objective': 'binary:logistic',\n",
       " 'learning_rate': 0.05,\n",
       " 'random_state': 1991}"
      ]
     },
     "execution_count": 20,
     "metadata": {},
     "output_type": "execute_result"
    }
   ],
   "source": [
    "max_params"
   ]
  },
  {
   "cell_type": "markdown",
   "metadata": {
    "papermill": {
     "duration": 0.025144,
     "end_time": "2021-02-20T11:43:34.231539",
     "exception": false,
     "start_time": "2021-02-20T11:43:34.206395",
     "status": "completed"
    },
    "tags": []
   },
   "source": [
    "## 훈련 및 제출"
   ]
  },
  {
   "cell_type": "code",
   "execution_count": 21,
   "metadata": {
    "execution": {
     "iopub.execute_input": "2021-02-20T11:43:34.284698Z",
     "iopub.status.busy": "2021-02-20T11:43:34.284008Z",
     "iopub.status.idle": "2021-02-20T12:23:03.658874Z",
     "shell.execute_reply": "2021-02-20T12:23:03.659612Z"
    },
    "papermill": {
     "duration": 2369.403759,
     "end_time": "2021-02-20T12:23:03.660026",
     "exception": false,
     "start_time": "2021-02-20T11:43:34.256267",
     "status": "completed"
    },
    "tags": []
   },
   "outputs": [
    {
     "name": "stdout",
     "output_type": "stream",
     "text": [
      "######################################## 폴드 1 / 폴드 5 ########################################\n",
      "[11:44:07] WARNING: ../src/learner.cc:1061: Starting in XGBoost 1.3.0, the default evaluation metric used with the objective 'binary:logistic' was changed from 'error' to 'logloss'. Explicitly set eval_metric if you'd like to restore the old behavior.\n",
      "[0]\tvalid-logloss:0.65282\tvalid-gini:0.15941\n",
      "[100]\tvalid-logloss:0.15637\tvalid-gini:0.28555\n",
      "[200]\tvalid-logloss:0.15485\tvalid-gini:0.29589\n",
      "[300]\tvalid-logloss:0.15475\tvalid-gini:0.29885\n",
      "[400]\tvalid-logloss:0.15474\tvalid-gini:0.29912\n",
      "[500]\tvalid-logloss:0.15473\tvalid-gini:0.29909\n",
      "[600]\tvalid-logloss:0.15473\tvalid-gini:0.29956\n",
      "[700]\tvalid-logloss:0.15475\tvalid-gini:0.29816\n",
      "[757]\tvalid-logloss:0.15482\tvalid-gini:0.29692\n",
      "폴드 1 지니계수: 0.29961440115120136\n",
      "\n",
      "######################################## 폴드 2 / 폴드 5 ########################################\n",
      "[11:53:38] WARNING: ../src/learner.cc:1061: Starting in XGBoost 1.3.0, the default evaluation metric used with the objective 'binary:logistic' was changed from 'error' to 'logloss'. Explicitly set eval_metric if you'd like to restore the old behavior.\n",
      "[0]\tvalid-logloss:0.65286\tvalid-gini:0.15070\n",
      "[100]\tvalid-logloss:0.15672\tvalid-gini:0.27012\n",
      "[200]\tvalid-logloss:0.15526\tvalid-gini:0.28048\n",
      "[300]\tvalid-logloss:0.15516\tvalid-gini:0.28315\n",
      "[400]\tvalid-logloss:0.15518\tvalid-gini:0.28335\n",
      "[500]\tvalid-logloss:0.15515\tvalid-gini:0.28363\n",
      "[600]\tvalid-logloss:0.15516\tvalid-gini:0.28372\n",
      "[601]\tvalid-logloss:0.15515\tvalid-gini:0.28372\n",
      "폴드 2 지니계수: 0.2837606145329253\n",
      "\n",
      "######################################## 폴드 3 / 폴드 5 ########################################\n",
      "[12:01:28] WARNING: ../src/learner.cc:1061: Starting in XGBoost 1.3.0, the default evaluation metric used with the objective 'binary:logistic' was changed from 'error' to 'logloss'. Explicitly set eval_metric if you'd like to restore the old behavior.\n",
      "[0]\tvalid-logloss:0.65285\tvalid-gini:0.15487\n",
      "[100]\tvalid-logloss:0.15642\tvalid-gini:0.27724\n",
      "[200]\tvalid-logloss:0.15502\tvalid-gini:0.28340\n",
      "[300]\tvalid-logloss:0.15495\tvalid-gini:0.28432\n",
      "[400]\tvalid-logloss:0.15495\tvalid-gini:0.28408\n",
      "[456]\tvalid-logloss:0.15496\tvalid-gini:0.28366\n",
      "폴드 3 지니계수: 0.2845216377812854\n",
      "\n",
      "######################################## 폴드 4 / 폴드 5 ########################################\n",
      "[12:07:37] WARNING: ../src/learner.cc:1061: Starting in XGBoost 1.3.0, the default evaluation metric used with the objective 'binary:logistic' was changed from 'error' to 'logloss'. Explicitly set eval_metric if you'd like to restore the old behavior.\n",
      "[0]\tvalid-logloss:0.65277\tvalid-gini:0.17177\n",
      "[100]\tvalid-logloss:0.15657\tvalid-gini:0.26864\n",
      "[200]\tvalid-logloss:0.15521\tvalid-gini:0.27653\n",
      "[300]\tvalid-logloss:0.15518\tvalid-gini:0.27765\n",
      "[400]\tvalid-logloss:0.15515\tvalid-gini:0.27805\n",
      "[500]\tvalid-logloss:0.15520\tvalid-gini:0.27706\n",
      "[567]\tvalid-logloss:0.15521\tvalid-gini:0.27701\n",
      "폴드 4 지니계수: 0.27816885974665556\n",
      "\n",
      "######################################## 폴드 5 / 폴드 5 ########################################\n",
      "[12:14:51] WARNING: ../src/learner.cc:1061: Starting in XGBoost 1.3.0, the default evaluation metric used with the objective 'binary:logistic' was changed from 'error' to 'logloss'. Explicitly set eval_metric if you'd like to restore the old behavior.\n",
      "[0]\tvalid-logloss:0.65280\tvalid-gini:0.16969\n",
      "[100]\tvalid-logloss:0.15661\tvalid-gini:0.28038\n",
      "[200]\tvalid-logloss:0.15515\tvalid-gini:0.29119\n",
      "[300]\tvalid-logloss:0.15500\tvalid-gini:0.29510\n",
      "[400]\tvalid-logloss:0.15495\tvalid-gini:0.29606\n",
      "[500]\tvalid-logloss:0.15491\tvalid-gini:0.29648\n",
      "[600]\tvalid-logloss:0.15491\tvalid-gini:0.29647\n",
      "[676]\tvalid-logloss:0.15491\tvalid-gini:0.29614\n",
      "폴드 5 지니계수: 0.2966429888208315\n",
      "\n"
     ]
    }
   ],
   "source": [
    "from sklearn.model_selection import StratifiedKFold\n",
    "\n",
    "# Stratified K 폴드 교차검증기 생성\n",
    "folds = StratifiedKFold(n_splits=5, shuffle=True, random_state=1991)\n",
    "\n",
    "# OOF 방식으로 훈련된 모델로 검증 데이터 타깃 값을 예측한 확률을 담을 1차원 배열\n",
    "oof_val_preds = np.zeros(X.shape[0]) \n",
    "# OOF 방식으로 훈련된 모델로 테스트 데이터 타깃 값을 예측한 확률을 담을 1차원 배열\n",
    "oof_test_preds = np.zeros(X_test.shape[0]) \n",
    "\n",
    "# OOF 방식으로 모델 훈련, 검증, 예측\n",
    "for idx, (train_idx, valid_idx) in enumerate(folds.split(X, y)):\n",
    "    # 각 폴드를 구분하는 문구\n",
    "    print('#'*40, f'폴드 {idx+1} / 폴드 {folds.n_splits}', '#'*40)\n",
    "    \n",
    "    # 훈련용 데이터, 검증용 데이터 설정\n",
    "    X_train, y_train = X[train_idx], y[train_idx]\n",
    "    X_valid, y_valid = X[valid_idx], y[valid_idx]\n",
    "\n",
    "    # xgb 데이터세트 생성 \n",
    "    dtrain = xgb.DMatrix(X_train, y_train)\n",
    "    dvalid = xgb.DMatrix(X_valid, y_valid)\n",
    "    dtest = xgb.DMatrix(X_test)\n",
    "\n",
    "    xgb_model = xgb.train(params=max_params, \n",
    "                          dtrain=dtrain,\n",
    "                          num_boost_round=1000,\n",
    "                          evals=[(dvalid, 'valid')],\n",
    "                          maximize=True,\n",
    "                          feval=gini,\n",
    "                          early_stopping_rounds=150,\n",
    "                          verbose_eval=100)\n",
    "\n",
    "    # 모델 성능이 가장 좋을 때의 부스팅 반복 횟수 저장\n",
    "    best_iter = xgb_model.best_iteration\n",
    "    # 테스트 데이터를 활용해 OOF 예측\n",
    "    oof_test_preds += xgb_model.predict(dtest, \n",
    "                                    ntree_limit=best_iter)/folds.n_splits\n",
    "    \n",
    "    # 모델 성능 평가를 위한 검증 데이터 타깃 값 예측 \n",
    "    oof_val_preds[valid_idx] += xgb_model.predict(dvalid, \n",
    "                                                  ntree_limit=best_iter)\n",
    "\n",
    "    # 검증 데이터 예측확률에 대한 정규화 지니계수\n",
    "    gini_score = eval_gini(y_valid, oof_val_preds[valid_idx])\n",
    "    print(f'폴드 {idx+1} 지니계수: {gini_score}\\n')"
   ]
  },
  {
   "cell_type": "code",
   "execution_count": 22,
   "metadata": {
    "execution": {
     "iopub.execute_input": "2021-02-20T12:23:03.746317Z",
     "iopub.status.busy": "2021-02-20T12:23:03.745504Z",
     "iopub.status.idle": "2021-02-20T12:23:03.868660Z",
     "shell.execute_reply": "2021-02-20T12:23:03.868063Z"
    },
    "papermill": {
     "duration": 0.168851,
     "end_time": "2021-02-20T12:23:03.868807",
     "exception": false,
     "start_time": "2021-02-20T12:23:03.699956",
     "status": "completed"
    },
    "tags": []
   },
   "outputs": [
    {
     "name": "stdout",
     "output_type": "stream",
     "text": [
      "OOF 검증 데이터 지니계수: 0.28849001909297844\n"
     ]
    }
   ],
   "source": [
    "print('OOF 검증 데이터 지니계수:', eval_gini(y, oof_val_preds))"
   ]
  },
  {
   "cell_type": "code",
   "execution_count": 23,
   "metadata": {
    "execution": {
     "iopub.execute_input": "2021-02-20T12:23:03.957263Z",
     "iopub.status.busy": "2021-02-20T12:23:03.956604Z",
     "iopub.status.idle": "2021-02-20T12:23:07.873745Z",
     "shell.execute_reply": "2021-02-20T12:23:07.872584Z"
    },
    "papermill": {
     "duration": 3.964519,
     "end_time": "2021-02-20T12:23:07.873975",
     "exception": false,
     "start_time": "2021-02-20T12:23:03.909456",
     "status": "completed"
    },
    "tags": []
   },
   "outputs": [],
   "source": [
    "submission['target'] = oof_test_preds\n",
    "submission.to_csv('submission.csv')"
   ]
  }
 ],
 "metadata": {
  "kernelspec": {
   "display_name": "Python 3",
   "language": "python",
   "name": "python3"
  },
  "language_info": {
   "codemirror_mode": {
    "name": "ipython",
    "version": 3
   },
   "file_extension": ".py",
   "mimetype": "text/x-python",
   "name": "python",
   "nbconvert_exporter": "python",
   "pygments_lexer": "ipython3",
   "version": "3.7.9"
  },
  "papermill": {
   "default_parameters": {},
   "duration": 3743.829523,
   "end_time": "2021-02-20T12:23:09.030654",
   "environment_variables": {},
   "exception": null,
   "input_path": "__notebook__.ipynb",
   "output_path": "__notebook__.ipynb",
   "parameters": {},
   "start_time": "2021-02-20T11:20:45.201131",
   "version": "2.2.2"
  }
 },
 "nbformat": 4,
 "nbformat_minor": 4
}
