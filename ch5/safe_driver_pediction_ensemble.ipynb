{
 "cells": [
  {
   "cell_type": "markdown",
   "id": "accessible-circle",
   "metadata": {
    "papermill": {
     "duration": 0.015508,
     "end_time": "2021-05-06T07:46:22.738659",
     "exception": false,
     "start_time": "2021-05-06T07:46:22.723151",
     "status": "completed"
    },
    "tags": []
   },
   "source": [
    "# 5.6 성능 개선 III : LightGBM과 XGBoost 앙상블"
   ]
  },
  {
   "cell_type": "code",
   "execution_count": 1,
   "id": "assisted-liverpool",
   "metadata": {
    "execution": {
     "iopub.execute_input": "2021-05-06T07:46:22.769813Z",
     "iopub.status.busy": "2021-05-06T07:46:22.768753Z",
     "iopub.status.idle": "2021-05-06T07:46:32.990568Z",
     "shell.execute_reply": "2021-05-06T07:46:32.989373Z"
    },
    "papermill": {
     "duration": 10.238193,
     "end_time": "2021-05-06T07:46:32.990751",
     "exception": false,
     "start_time": "2021-05-06T07:46:22.752558",
     "status": "completed"
    },
    "tags": []
   },
   "outputs": [],
   "source": [
    "# ch5/safe_driver_prediction_ensemble.ipynb\n",
    "\n",
    "import numpy as np\n",
    "import pandas as pd\n",
    "\n",
    "# 데이터 경로\n",
    "data_path = '/kaggle/input/porto-seguro-safe-driver-prediction/'\n",
    "\n",
    "train = pd.read_csv(data_path + 'train.csv', index_col='id')\n",
    "test = pd.read_csv(data_path + 'test.csv', index_col='id')\n",
    "submission = pd.read_csv(data_path + 'sample_submission.csv', index_col='id')"
   ]
  },
  {
   "cell_type": "code",
   "execution_count": 2,
   "id": "shared-viewer",
   "metadata": {
    "execution": {
     "iopub.execute_input": "2021-05-06T07:46:33.028978Z",
     "iopub.status.busy": "2021-05-06T07:46:33.028193Z",
     "iopub.status.idle": "2021-05-06T07:46:34.684376Z",
     "shell.execute_reply": "2021-05-06T07:46:34.683829Z"
    },
    "papermill": {
     "duration": 1.680045,
     "end_time": "2021-05-06T07:46:34.684549",
     "exception": false,
     "start_time": "2021-05-06T07:46:33.004504",
     "status": "completed"
    },
    "tags": []
   },
   "outputs": [],
   "source": [
    "all_data = pd.concat([train, test], ignore_index=True)\n",
    "all_data = all_data.drop('target', axis=1) # 타깃 값 제거\n",
    "\n",
    "all_features = all_data.columns # 전체 피처"
   ]
  },
  {
   "cell_type": "code",
   "execution_count": 3,
   "id": "innovative-warren",
   "metadata": {
    "execution": {
     "iopub.execute_input": "2021-05-06T07:46:34.717360Z",
     "iopub.status.busy": "2021-05-06T07:46:34.716708Z",
     "iopub.status.idle": "2021-05-06T07:46:38.414109Z",
     "shell.execute_reply": "2021-05-06T07:46:38.414698Z"
    },
    "papermill": {
     "duration": 3.716823,
     "end_time": "2021-05-06T07:46:38.414920",
     "exception": false,
     "start_time": "2021-05-06T07:46:34.698097",
     "status": "completed"
    },
    "tags": []
   },
   "outputs": [],
   "source": [
    "from sklearn.preprocessing import OneHotEncoder\n",
    "\n",
    "cat_features = [feature for feature in all_features if 'cat' in feature] # 명목형 피처\n",
    "\n",
    "# 원-핫 인코딩 적용\n",
    "onehot_encoder = OneHotEncoder()\n",
    "encoded_cat_matrix = onehot_encoder.fit_transform(all_data[cat_features]) "
   ]
  },
  {
   "cell_type": "code",
   "execution_count": 4,
   "id": "oriented-antenna",
   "metadata": {
    "execution": {
     "iopub.execute_input": "2021-05-06T07:46:38.446571Z",
     "iopub.status.busy": "2021-05-06T07:46:38.445888Z",
     "iopub.status.idle": "2021-05-06T07:46:38.752732Z",
     "shell.execute_reply": "2021-05-06T07:46:38.752159Z"
    },
    "papermill": {
     "duration": 0.323722,
     "end_time": "2021-05-06T07:46:38.752918",
     "exception": false,
     "start_time": "2021-05-06T07:46:38.429196",
     "status": "completed"
    },
    "tags": []
   },
   "outputs": [],
   "source": [
    "# '데이터 하나당 결측값 개수'를 파생 변수로 추가\n",
    "all_data['num_missing'] = (all_data==-1).sum(axis=1)"
   ]
  },
  {
   "cell_type": "code",
   "execution_count": 5,
   "id": "interior-afternoon",
   "metadata": {
    "execution": {
     "iopub.execute_input": "2021-05-06T07:46:38.786104Z",
     "iopub.status.busy": "2021-05-06T07:46:38.785169Z",
     "iopub.status.idle": "2021-05-06T07:46:38.787979Z",
     "shell.execute_reply": "2021-05-06T07:46:38.788451Z"
    },
    "papermill": {
     "duration": 0.022153,
     "end_time": "2021-05-06T07:46:38.788621",
     "exception": false,
     "start_time": "2021-05-06T07:46:38.766468",
     "status": "completed"
    },
    "tags": []
   },
   "outputs": [],
   "source": [
    "# 명목형 피처, calc 분류 피처를 제외한 피처\n",
    "remaining_features = [feature for feature in all_features \\\n",
    "                      if ('cat' not in feature and 'calc' not in feature)] \n",
    "# num_missing을 remaining_features에 추가\n",
    "remaining_features.append('num_missing')"
   ]
  },
  {
   "cell_type": "code",
   "execution_count": 6,
   "id": "particular-transparency",
   "metadata": {
    "execution": {
     "iopub.execute_input": "2021-05-06T07:46:38.822569Z",
     "iopub.status.busy": "2021-05-06T07:46:38.821862Z",
     "iopub.status.idle": "2021-05-06T07:47:04.780048Z",
     "shell.execute_reply": "2021-05-06T07:47:04.779513Z"
    },
    "papermill": {
     "duration": 25.977936,
     "end_time": "2021-05-06T07:47:04.780225",
     "exception": false,
     "start_time": "2021-05-06T07:46:38.802289",
     "status": "completed"
    },
    "tags": []
   },
   "outputs": [],
   "source": [
    "# 분류가 ind인 피처\n",
    "ind_features = [feature for feature in all_features if 'ind' in feature]\n",
    "\n",
    "is_first_feature=True\n",
    "for ind_feature in ind_features:\n",
    "    if is_first_feature:\n",
    "        all_data['mix_ind'] = all_data[ind_feature].astype(str)+'_'\n",
    "        is_first_feature = False\n",
    "    else:\n",
    "        all_data['mix_ind'] += all_data[ind_feature].astype(str)+'_'"
   ]
  },
  {
   "cell_type": "code",
   "execution_count": 7,
   "id": "metropolitan-sympathy",
   "metadata": {
    "execution": {
     "iopub.execute_input": "2021-05-06T07:47:04.817165Z",
     "iopub.status.busy": "2021-05-06T07:47:04.816229Z",
     "iopub.status.idle": "2021-05-06T07:47:13.820998Z",
     "shell.execute_reply": "2021-05-06T07:47:13.821464Z"
    },
    "papermill": {
     "duration": 9.027262,
     "end_time": "2021-05-06T07:47:13.821690",
     "exception": false,
     "start_time": "2021-05-06T07:47:04.794428",
     "status": "completed"
    },
    "tags": []
   },
   "outputs": [],
   "source": [
    "cat_count_features = []\n",
    "for feature in cat_features+['mix_ind']:\n",
    "    val_counts_dict = all_data[feature].value_counts().to_dict()\n",
    "    all_data[f'{feature}_count'] = all_data[feature].apply(lambda x: \n",
    "                                                           val_counts_dict[x])\n",
    "    cat_count_features.append(f'{feature}_count')"
   ]
  },
  {
   "cell_type": "code",
   "execution_count": 8,
   "id": "liberal-allah",
   "metadata": {
    "execution": {
     "iopub.execute_input": "2021-05-06T07:47:13.852662Z",
     "iopub.status.busy": "2021-05-06T07:47:13.851781Z",
     "iopub.status.idle": "2021-05-06T07:47:13.860061Z",
     "shell.execute_reply": "2021-05-06T07:47:13.860558Z"
    },
    "papermill": {
     "duration": 0.025368,
     "end_time": "2021-05-06T07:47:13.860832",
     "exception": false,
     "start_time": "2021-05-06T07:47:13.835464",
     "status": "completed"
    },
    "tags": []
   },
   "outputs": [
    {
     "data": {
      "text/plain": [
       "['ps_ind_02_cat_count',\n",
       " 'ps_ind_04_cat_count',\n",
       " 'ps_ind_05_cat_count',\n",
       " 'ps_car_01_cat_count',\n",
       " 'ps_car_02_cat_count',\n",
       " 'ps_car_03_cat_count',\n",
       " 'ps_car_04_cat_count',\n",
       " 'ps_car_05_cat_count',\n",
       " 'ps_car_06_cat_count',\n",
       " 'ps_car_07_cat_count',\n",
       " 'ps_car_08_cat_count',\n",
       " 'ps_car_09_cat_count',\n",
       " 'ps_car_10_cat_count',\n",
       " 'ps_car_11_cat_count',\n",
       " 'mix_ind_count']"
      ]
     },
     "execution_count": 8,
     "metadata": {},
     "output_type": "execute_result"
    }
   ],
   "source": [
    "cat_count_features"
   ]
  },
  {
   "cell_type": "code",
   "execution_count": 9,
   "id": "desperate-arabic",
   "metadata": {
    "execution": {
     "iopub.execute_input": "2021-05-06T07:47:13.898080Z",
     "iopub.status.busy": "2021-05-06T07:47:13.897459Z",
     "iopub.status.idle": "2021-05-06T07:47:20.180970Z",
     "shell.execute_reply": "2021-05-06T07:47:20.180339Z"
    },
    "papermill": {
     "duration": 6.304781,
     "end_time": "2021-05-06T07:47:20.181122",
     "exception": false,
     "start_time": "2021-05-06T07:47:13.876341",
     "status": "completed"
    },
    "tags": []
   },
   "outputs": [],
   "source": [
    "from scipy import sparse\n",
    "\n",
    "# 필요 없는 피처들\n",
    "drop_features = ['ps_ind_14', 'ps_ind_10_bin','ps_ind_11_bin', \n",
    "                 'ps_ind_12_bin','ps_ind_13_bin','ps_car_14']\n",
    "\n",
    "# remaining_features, cat_count_features에서 drop_features를 제거한 데이터\n",
    "all_data_remaining = all_data[remaining_features+cat_count_features].drop(drop_features, axis=1)\n",
    "\n",
    "# 데이터 합치기\n",
    "all_data_sprs = sparse.hstack([sparse.csr_matrix(all_data_remaining),\n",
    "                               encoded_cat_matrix],\n",
    "                              format='csr')"
   ]
  },
  {
   "cell_type": "code",
   "execution_count": 10,
   "id": "contrary-phenomenon",
   "metadata": {
    "execution": {
     "iopub.execute_input": "2021-05-06T07:47:20.215149Z",
     "iopub.status.busy": "2021-05-06T07:47:20.214530Z",
     "iopub.status.idle": "2021-05-06T07:47:21.334152Z",
     "shell.execute_reply": "2021-05-06T07:47:21.333514Z"
    },
    "papermill": {
     "duration": 1.138564,
     "end_time": "2021-05-06T07:47:21.334310",
     "exception": false,
     "start_time": "2021-05-06T07:47:20.195746",
     "status": "completed"
    },
    "tags": []
   },
   "outputs": [],
   "source": [
    "num_train = train.shape[0] # 훈련 데이터 개수\n",
    "\n",
    "# 훈련 데이터와 테스트 데이터 나누기\n",
    "X = all_data_sprs[:num_train]\n",
    "X_test = all_data_sprs[num_train:]\n",
    "\n",
    "y = train['target'].values"
   ]
  },
  {
   "cell_type": "code",
   "execution_count": 11,
   "id": "alert-multimedia",
   "metadata": {
    "execution": {
     "iopub.execute_input": "2021-05-06T07:47:21.369955Z",
     "iopub.status.busy": "2021-05-06T07:47:21.369285Z",
     "iopub.status.idle": "2021-05-06T07:47:21.372349Z",
     "shell.execute_reply": "2021-05-06T07:47:21.371889Z"
    },
    "papermill": {
     "duration": 0.023703,
     "end_time": "2021-05-06T07:47:21.372492",
     "exception": false,
     "start_time": "2021-05-06T07:47:21.348789",
     "status": "completed"
    },
    "tags": []
   },
   "outputs": [],
   "source": [
    "def eval_gini(y_true, y_pred):\n",
    "    # 실제 값과 예측 값의 크기가 같은지 확인 (값이 다르면 오류 발생)\n",
    "    assert y_true.shape == y_pred.shape\n",
    "\n",
    "    n_samples = y_true.shape[0] # 데이터 개수\n",
    "    L_mid = np.linspace(1 / n_samples, 1, n_samples) # 대각선 값\n",
    "\n",
    "    # 1) 예측 값에 대한 지니계수\n",
    "    pred_order = y_true[y_pred.argsort()] # y_pred 크기순으로 y_true 값 정렬\n",
    "    L_pred = np.cumsum(pred_order) / np.sum(pred_order) # 로렌츠 곡선\n",
    "    G_pred = np.sum(L_mid - L_pred)# 예측 값에 대한 지니계수\n",
    "\n",
    "    # 2) 예측이 완벽할 때 지니계수\n",
    "    true_order = y_true[y_true.argsort()] # y_true 크기순으로 y_true 값 정렬\n",
    "    L_true = np.cumsum(true_order) / np.sum(true_order) # 로렌츠 곡선\n",
    "    G_true = np.sum(L_mid - L_true) # 예측이 완벽할 때 지니계수\n",
    "\n",
    "    # 정규화된 지니계수\n",
    "    return G_pred / G_true"
   ]
  },
  {
   "cell_type": "code",
   "execution_count": 12,
   "id": "introductory-contact",
   "metadata": {
    "execution": {
     "iopub.execute_input": "2021-05-06T07:47:21.405901Z",
     "iopub.status.busy": "2021-05-06T07:47:21.405157Z",
     "iopub.status.idle": "2021-05-06T07:47:21.407014Z",
     "shell.execute_reply": "2021-05-06T07:47:21.407494Z"
    },
    "papermill": {
     "duration": 0.020766,
     "end_time": "2021-05-06T07:47:21.407665",
     "exception": false,
     "start_time": "2021-05-06T07:47:21.386899",
     "status": "completed"
    },
    "tags": []
   },
   "outputs": [],
   "source": [
    "def gini_lgb(preds, dtrain):\n",
    "    labels = dtrain.get_label()\n",
    "    return 'gini', eval_gini(labels, preds), True"
   ]
  },
  {
   "cell_type": "code",
   "execution_count": 13,
   "id": "comparative-interface",
   "metadata": {
    "execution": {
     "iopub.execute_input": "2021-05-06T07:47:21.440832Z",
     "iopub.status.busy": "2021-05-06T07:47:21.440274Z",
     "iopub.status.idle": "2021-05-06T07:47:21.444936Z",
     "shell.execute_reply": "2021-05-06T07:47:21.444465Z"
    },
    "papermill": {
     "duration": 0.021859,
     "end_time": "2021-05-06T07:47:21.445071",
     "exception": false,
     "start_time": "2021-05-06T07:47:21.423212",
     "status": "completed"
    },
    "tags": []
   },
   "outputs": [],
   "source": [
    "def gini_xgb(preds, dtrain):\n",
    "    labels = dtrain.get_label()\n",
    "    return 'gini', eval_gini(labels, preds)"
   ]
  },
  {
   "cell_type": "code",
   "execution_count": 14,
   "id": "tender-album",
   "metadata": {
    "execution": {
     "iopub.execute_input": "2021-05-06T07:47:21.480049Z",
     "iopub.status.busy": "2021-05-06T07:47:21.479264Z",
     "iopub.status.idle": "2021-05-06T07:47:21.552349Z",
     "shell.execute_reply": "2021-05-06T07:47:21.551760Z"
    },
    "papermill": {
     "duration": 0.092428,
     "end_time": "2021-05-06T07:47:21.552516",
     "exception": false,
     "start_time": "2021-05-06T07:47:21.460088",
     "status": "completed"
    },
    "tags": []
   },
   "outputs": [],
   "source": [
    "from sklearn.model_selection import StratifiedKFold\n",
    "\n",
    "# Stratified K 폴드 교차검증기 생성\n",
    "folds = StratifiedKFold(n_splits=5, shuffle=True, random_state=1991)"
   ]
  },
  {
   "cell_type": "code",
   "execution_count": 15,
   "id": "virgin-granny",
   "metadata": {
    "execution": {
     "iopub.execute_input": "2021-05-06T07:47:21.588085Z",
     "iopub.status.busy": "2021-05-06T07:47:21.587229Z",
     "iopub.status.idle": "2021-05-06T07:47:21.590935Z",
     "shell.execute_reply": "2021-05-06T07:47:21.590494Z"
    },
    "papermill": {
     "duration": 0.023464,
     "end_time": "2021-05-06T07:47:21.591071",
     "exception": false,
     "start_time": "2021-05-06T07:47:21.567607",
     "status": "completed"
    },
    "tags": []
   },
   "outputs": [],
   "source": [
    "max_params_lgb = {'bagging_fraction': 0.8043696643500143,\n",
    " 'feature_fraction': 0.6829323879981047,\n",
    " 'lambda_l1': 0.9264555612104627,\n",
    " 'lambda_l2': 0.9774233689434216,\n",
    " 'min_child_samples': 10,\n",
    " 'min_child_weight': 125.68433948868649,\n",
    " 'num_leaves': 28,\n",
    " 'objective': 'binary',\n",
    " 'learning_rate': 0.01,\n",
    " 'bagging_freq': 1,\n",
    " 'verbosity': 0,\n",
    " 'random_state': 1991}"
   ]
  },
  {
   "cell_type": "code",
   "execution_count": 16,
   "id": "requested-transaction",
   "metadata": {
    "execution": {
     "iopub.execute_input": "2021-05-06T07:47:21.629040Z",
     "iopub.status.busy": "2021-05-06T07:47:21.628400Z",
     "iopub.status.idle": "2021-05-06T08:00:13.625004Z",
     "shell.execute_reply": "2021-05-06T08:00:13.625545Z"
    },
    "papermill": {
     "duration": 772.019976,
     "end_time": "2021-05-06T08:00:13.625859",
     "exception": false,
     "start_time": "2021-05-06T07:47:21.605883",
     "status": "completed"
    },
    "tags": []
   },
   "outputs": [
    {
     "data": {
      "text/html": [
       "<style type='text/css'>\n",
       ".datatable table.frame { margin-bottom: 0; }\n",
       ".datatable table.frame thead { border-bottom: none; }\n",
       ".datatable table.frame tr.coltypes td {  color: #FFFFFF;  line-height: 6px;  padding: 0 0.5em;}\n",
       ".datatable .bool    { background: #DDDD99; }\n",
       ".datatable .object  { background: #565656; }\n",
       ".datatable .int     { background: #5D9E5D; }\n",
       ".datatable .float   { background: #4040CC; }\n",
       ".datatable .str     { background: #CC4040; }\n",
       ".datatable .row_index {  background: var(--jp-border-color3);  border-right: 1px solid var(--jp-border-color0);  color: var(--jp-ui-font-color3);  font-size: 9px;}\n",
       ".datatable .frame tr.coltypes .row_index {  background: var(--jp-border-color0);}\n",
       ".datatable th:nth-child(2) { padding-left: 12px; }\n",
       ".datatable .hellipsis {  color: var(--jp-cell-editor-border-color);}\n",
       ".datatable .vellipsis {  background: var(--jp-layout-color0);  color: var(--jp-cell-editor-border-color);}\n",
       ".datatable .na {  color: var(--jp-cell-editor-border-color);  font-size: 80%;}\n",
       ".datatable .footer { font-size: 9px; }\n",
       ".datatable .frame_dimensions {  background: var(--jp-border-color3);  border-top: 1px solid var(--jp-border-color0);  color: var(--jp-ui-font-color3);  display: inline-block;  opacity: 0.6;  padding: 1px 10px 1px 5px;}\n",
       "</style>\n"
      ],
      "text/plain": [
       "<IPython.core.display.HTML object>"
      ]
     },
     "metadata": {},
     "output_type": "display_data"
    },
    {
     "name": "stdout",
     "output_type": "stream",
     "text": [
      "######################################## Fold 1 out of 5 ########################################\n",
      "[LightGBM] [Warning] Auto-choosing row-wise multi-threading, the overhead of testing was 0.149875 seconds.\n",
      "You can set `force_row_wise=true` to remove the overhead.\n",
      "And if memory is not enough, you can set `force_col_wise=true`.\n",
      "Training until validation scores don't improve for 150 rounds\n",
      "[100]\tvalid_0's binary_logloss: 0.153315\tvalid_0's gini: 0.270034\n",
      "[200]\tvalid_0's binary_logloss: 0.152339\tvalid_0's gini: 0.280485\n",
      "[300]\tvalid_0's binary_logloss: 0.151922\tvalid_0's gini: 0.286543\n",
      "[400]\tvalid_0's binary_logloss: 0.15169\tvalid_0's gini: 0.291089\n",
      "[500]\tvalid_0's binary_logloss: 0.151544\tvalid_0's gini: 0.294535\n",
      "[600]\tvalid_0's binary_logloss: 0.151467\tvalid_0's gini: 0.296222\n",
      "[700]\tvalid_0's binary_logloss: 0.151405\tvalid_0's gini: 0.297658\n",
      "[800]\tvalid_0's binary_logloss: 0.151368\tvalid_0's gini: 0.298591\n",
      "[900]\tvalid_0's binary_logloss: 0.151337\tvalid_0's gini: 0.299329\n",
      "[1000]\tvalid_0's binary_logloss: 0.151325\tvalid_0's gini: 0.299571\n",
      "[1100]\tvalid_0's binary_logloss: 0.151312\tvalid_0's gini: 0.29987\n",
      "[1200]\tvalid_0's binary_logloss: 0.151309\tvalid_0's gini: 0.299973\n",
      "[1300]\tvalid_0's binary_logloss: 0.151309\tvalid_0's gini: 0.29986\n",
      "Early stopping, best iteration is:\n",
      "[1209]\tvalid_0's binary_logloss: 0.151306\tvalid_0's gini: 0.300053\n",
      "Fold 1 gini score: 0.3000525641260156\n",
      "\n",
      "######################################## Fold 2 out of 5 ########################################\n",
      "[LightGBM] [Warning] Auto-choosing row-wise multi-threading, the overhead of testing was 0.147915 seconds.\n",
      "You can set `force_row_wise=true` to remove the overhead.\n",
      "And if memory is not enough, you can set `force_col_wise=true`.\n",
      "Training until validation scores don't improve for 150 rounds\n",
      "[100]\tvalid_0's binary_logloss: 0.153498\tvalid_0's gini: 0.258413\n",
      "[200]\tvalid_0's binary_logloss: 0.15262\tvalid_0's gini: 0.26765\n",
      "[300]\tvalid_0's binary_logloss: 0.152267\tvalid_0's gini: 0.273355\n",
      "[400]\tvalid_0's binary_logloss: 0.152086\tvalid_0's gini: 0.277154\n",
      "[500]\tvalid_0's binary_logloss: 0.151977\tvalid_0's gini: 0.279912\n",
      "[600]\tvalid_0's binary_logloss: 0.151912\tvalid_0's gini: 0.281631\n",
      "[700]\tvalid_0's binary_logloss: 0.151872\tvalid_0's gini: 0.28274\n",
      "[800]\tvalid_0's binary_logloss: 0.151831\tvalid_0's gini: 0.283899\n",
      "[900]\tvalid_0's binary_logloss: 0.15182\tvalid_0's gini: 0.284216\n",
      "[1000]\tvalid_0's binary_logloss: 0.151807\tvalid_0's gini: 0.284581\n",
      "[1100]\tvalid_0's binary_logloss: 0.151792\tvalid_0's gini: 0.285036\n",
      "[1200]\tvalid_0's binary_logloss: 0.151792\tvalid_0's gini: 0.285047\n",
      "[1300]\tvalid_0's binary_logloss: 0.151786\tvalid_0's gini: 0.285333\n",
      "[1400]\tvalid_0's binary_logloss: 0.151787\tvalid_0's gini: 0.285537\n",
      "[1500]\tvalid_0's binary_logloss: 0.151784\tvalid_0's gini: 0.285584\n",
      "Did not meet early stopping. Best iteration is:\n",
      "[1459]\tvalid_0's binary_logloss: 0.151783\tvalid_0's gini: 0.285681\n",
      "Fold 2 gini score: 0.2856809897393425\n",
      "\n",
      "######################################## Fold 3 out of 5 ########################################\n",
      "[LightGBM] [Warning] Auto-choosing row-wise multi-threading, the overhead of testing was 0.142514 seconds.\n",
      "You can set `force_row_wise=true` to remove the overhead.\n",
      "And if memory is not enough, you can set `force_col_wise=true`.\n",
      "Training until validation scores don't improve for 150 rounds\n",
      "[100]\tvalid_0's binary_logloss: 0.153333\tvalid_0's gini: 0.26323\n",
      "[200]\tvalid_0's binary_logloss: 0.152367\tvalid_0's gini: 0.272493\n",
      "[300]\tvalid_0's binary_logloss: 0.151978\tvalid_0's gini: 0.277774\n",
      "[400]\tvalid_0's binary_logloss: 0.151784\tvalid_0's gini: 0.280881\n",
      "[500]\tvalid_0's binary_logloss: 0.151686\tvalid_0's gini: 0.282794\n",
      "[600]\tvalid_0's binary_logloss: 0.151638\tvalid_0's gini: 0.283821\n",
      "[700]\tvalid_0's binary_logloss: 0.151613\tvalid_0's gini: 0.284375\n",
      "[800]\tvalid_0's binary_logloss: 0.151606\tvalid_0's gini: 0.284532\n",
      "[900]\tvalid_0's binary_logloss: 0.151599\tvalid_0's gini: 0.284754\n",
      "[1000]\tvalid_0's binary_logloss: 0.151592\tvalid_0's gini: 0.284938\n",
      "[1100]\tvalid_0's binary_logloss: 0.151601\tvalid_0's gini: 0.284697\n",
      "Early stopping, best iteration is:\n",
      "[950]\tvalid_0's binary_logloss: 0.151592\tvalid_0's gini: 0.284989\n",
      "Fold 3 gini score: 0.2849885601271959\n",
      "\n",
      "######################################## Fold 4 out of 5 ########################################\n",
      "[LightGBM] [Warning] Auto-choosing row-wise multi-threading, the overhead of testing was 0.163539 seconds.\n",
      "You can set `force_row_wise=true` to remove the overhead.\n",
      "And if memory is not enough, you can set `force_col_wise=true`.\n",
      "Training until validation scores don't improve for 150 rounds\n",
      "[100]\tvalid_0's binary_logloss: 0.153435\tvalid_0's gini: 0.256627\n",
      "[200]\tvalid_0's binary_logloss: 0.152524\tvalid_0's gini: 0.266658\n",
      "[300]\tvalid_0's binary_logloss: 0.152191\tvalid_0's gini: 0.271067\n",
      "[400]\tvalid_0's binary_logloss: 0.152034\tvalid_0's gini: 0.27396\n",
      "[500]\tvalid_0's binary_logloss: 0.151942\tvalid_0's gini: 0.27619\n",
      "[600]\tvalid_0's binary_logloss: 0.151882\tvalid_0's gini: 0.277677\n",
      "[700]\tvalid_0's binary_logloss: 0.151851\tvalid_0's gini: 0.278579\n",
      "[800]\tvalid_0's binary_logloss: 0.151819\tvalid_0's gini: 0.279461\n",
      "[900]\tvalid_0's binary_logloss: 0.151808\tvalid_0's gini: 0.279975\n",
      "[1000]\tvalid_0's binary_logloss: 0.151798\tvalid_0's gini: 0.280149\n",
      "[1100]\tvalid_0's binary_logloss: 0.151797\tvalid_0's gini: 0.280201\n",
      "[1200]\tvalid_0's binary_logloss: 0.151797\tvalid_0's gini: 0.280353\n",
      "Early stopping, best iteration is:\n",
      "[1128]\tvalid_0's binary_logloss: 0.151791\tvalid_0's gini: 0.280389\n",
      "Fold 4 gini score: 0.2803887114157609\n",
      "\n",
      "######################################## Fold 5 out of 5 ########################################\n",
      "[LightGBM] [Warning] Auto-choosing row-wise multi-threading, the overhead of testing was 0.254473 seconds.\n",
      "You can set `force_row_wise=true` to remove the overhead.\n",
      "And if memory is not enough, you can set `force_col_wise=true`.\n",
      "Training until validation scores don't improve for 150 rounds\n",
      "[100]\tvalid_0's binary_logloss: 0.153534\tvalid_0's gini: 0.265252\n",
      "[200]\tvalid_0's binary_logloss: 0.152629\tvalid_0's gini: 0.274421\n",
      "[300]\tvalid_0's binary_logloss: 0.152249\tvalid_0's gini: 0.280526\n",
      "[400]\tvalid_0's binary_logloss: 0.152031\tvalid_0's gini: 0.285706\n",
      "[500]\tvalid_0's binary_logloss: 0.151906\tvalid_0's gini: 0.289104\n",
      "[600]\tvalid_0's binary_logloss: 0.151817\tvalid_0's gini: 0.29166\n",
      "[700]\tvalid_0's binary_logloss: 0.151771\tvalid_0's gini: 0.292958\n",
      "[800]\tvalid_0's binary_logloss: 0.15174\tvalid_0's gini: 0.293975\n",
      "[900]\tvalid_0's binary_logloss: 0.151721\tvalid_0's gini: 0.294603\n",
      "[1000]\tvalid_0's binary_logloss: 0.151709\tvalid_0's gini: 0.295097\n",
      "[1100]\tvalid_0's binary_logloss: 0.151689\tvalid_0's gini: 0.295655\n",
      "[1200]\tvalid_0's binary_logloss: 0.151685\tvalid_0's gini: 0.295904\n",
      "[1300]\tvalid_0's binary_logloss: 0.151685\tvalid_0's gini: 0.295988\n",
      "[1400]\tvalid_0's binary_logloss: 0.151683\tvalid_0's gini: 0.296066\n",
      "Early stopping, best iteration is:\n",
      "[1321]\tvalid_0's binary_logloss: 0.151681\tvalid_0's gini: 0.296151\n",
      "Fold 5 gini score: 0.2961510502799241\n",
      "\n"
     ]
    }
   ],
   "source": [
    "import lightgbm as lgb\n",
    "\n",
    "# OOF 방식으로 훈련된 모델로 검증 데이터 타깃 값을 예측한 확률을 담을 1차원 배열\n",
    "oof_val_preds_lgb = np.zeros(X.shape[0]) \n",
    "# OOF 방식으로 훈련된 모델로 테스트 데이터 타깃 값을 예측한 확률을 담을 1차원 배열\n",
    "oof_test_preds_lgb = np.zeros(X_test.shape[0]) \n",
    "\n",
    "# OOF 방식으로 모델 훈련, 검증, 예측\n",
    "for idx, (train_idx, valid_idx) in enumerate(folds.split(X, y)):\n",
    "    # 각 폴드를 구분하는 문구\n",
    "    print('#'*40, f'Fold {idx+1} out of {folds.n_splits}', '#'*40)\n",
    "    \n",
    "    # 훈련용 데이터, 검증용 데이터 설정 \n",
    "    X_train, y_train = X[train_idx], y[train_idx] # 훈련용 데이터\n",
    "    X_valid, y_valid = X[valid_idx], y[valid_idx] # 검증용 데이터\n",
    "\n",
    "    # lgb 데이터세트 생성\n",
    "    dtrain = lgb.Dataset(X_train, y_train) # lgb 훈련 데이터세트\n",
    "    dvalid = lgb.Dataset(X_valid, y_valid) # lgb 검증 데이터세트\n",
    "\n",
    "    # LightGBM 모델 훈련 \n",
    "    lgb_model = lgb.train(params=max_params_lgb, # 최적 하이퍼 파라미터\n",
    "                           train_set=dtrain, # 훈련 데이터\n",
    "                           num_boost_round=1500, # 부스팅 반복 횟수\n",
    "                           valid_sets=dvalid, # 모델 성능 평가용 검증 데이터\n",
    "                           feval=gini_lgb, # 검증용 평가지표\n",
    "                           early_stopping_rounds=150, # 조기종료 조건\n",
    "                           verbose_eval=100) # 100번째마다 점수 출력\n",
    "    \n",
    "    # 모델 성능이 가장 좋을 때의 부스팅 반복 횟수 저장 \n",
    "    best_iter = lgb_model.best_iteration\n",
    "    # 테스트 데이터를 활용해 예측 \n",
    "    oof_test_preds_lgb += lgb_model.predict(X_test, \n",
    "                                    num_iteration=best_iter)/folds.n_splits\n",
    "    \n",
    "    # 모델 성능 평가를 위한 검증 데이터 타깃 값 예측  \n",
    "    oof_val_preds_lgb[valid_idx] += lgb_model.predict(X_valid, \n",
    "                                                      num_iteration=best_iter)\n",
    "    \n",
    "    # 검증 데이터 예측확률에 대한 정규화 지니계수\n",
    "    gini_score = eval_gini(y_valid, oof_val_preds_lgb[valid_idx])\n",
    "    print(f'Fold {idx+1} gini score: {gini_score}\\n')"
   ]
  },
  {
   "cell_type": "code",
   "execution_count": 17,
   "id": "similar-immigration",
   "metadata": {
    "execution": {
     "iopub.execute_input": "2021-05-06T08:00:13.700907Z",
     "iopub.status.busy": "2021-05-06T08:00:13.700041Z",
     "iopub.status.idle": "2021-05-06T08:00:13.703200Z",
     "shell.execute_reply": "2021-05-06T08:00:13.702773Z"
    },
    "papermill": {
     "duration": 0.043078,
     "end_time": "2021-05-06T08:00:13.703354",
     "exception": false,
     "start_time": "2021-05-06T08:00:13.660276",
     "status": "completed"
    },
    "tags": []
   },
   "outputs": [],
   "source": [
    "max_params_xgb = {'colsample_bytree': 0.8927325521002059,\n",
    " 'gamma': 9.766883037651555,\n",
    " 'max_depth': 7,\n",
    " 'min_child_weight': 6.0577898395058085,\n",
    " 'reg_alpha': 8.136089122187865,\n",
    " 'reg_lambda': 1.385119327658532,\n",
    " 'scale_pos_weight': 1.5142072116395773,\n",
    " 'subsample': 0.717425859940308,\n",
    " 'objective': 'binary:logistic',\n",
    " 'learning_rate': 0.05,\n",
    " 'random_state': 1991}"
   ]
  },
  {
   "cell_type": "code",
   "execution_count": 18,
   "id": "reverse-classics",
   "metadata": {
    "execution": {
     "iopub.execute_input": "2021-05-06T08:00:13.779161Z",
     "iopub.status.busy": "2021-05-06T08:00:13.778551Z",
     "iopub.status.idle": "2021-05-06T08:40:23.306827Z",
     "shell.execute_reply": "2021-05-06T08:40:23.306357Z"
    },
    "papermill": {
     "duration": 2409.570351,
     "end_time": "2021-05-06T08:40:23.306969",
     "exception": false,
     "start_time": "2021-05-06T08:00:13.736618",
     "status": "completed"
    },
    "tags": []
   },
   "outputs": [
    {
     "name": "stdout",
     "output_type": "stream",
     "text": [
      "######################################## Fold 1 out of 5 ########################################\n",
      "[08:00:16] WARNING: ../src/learner.cc:1095: Starting in XGBoost 1.3.0, the default evaluation metric used with the objective 'binary:logistic' was changed from 'error' to 'logloss'. Explicitly set eval_metric if you'd like to restore the old behavior.\n",
      "[0]\ttrain-logloss:0.65258\ttrain-gini:0.15851\tvalid-logloss:0.65282\tvalid-gini:0.15941\n",
      "[100]\ttrain-logloss:0.15549\ttrain-gini:0.30907\tvalid-logloss:0.15637\tvalid-gini:0.28555\n",
      "[200]\ttrain-logloss:0.15314\ttrain-gini:0.33829\tvalid-logloss:0.15485\tvalid-gini:0.29589\n",
      "[300]\ttrain-logloss:0.15240\ttrain-gini:0.35689\tvalid-logloss:0.15475\tvalid-gini:0.29885\n",
      "[400]\ttrain-logloss:0.15174\ttrain-gini:0.37316\tvalid-logloss:0.15474\tvalid-gini:0.29912\n",
      "[500]\ttrain-logloss:0.15119\ttrain-gini:0.38594\tvalid-logloss:0.15473\tvalid-gini:0.29909\n",
      "[600]\ttrain-logloss:0.15069\ttrain-gini:0.39837\tvalid-logloss:0.15473\tvalid-gini:0.29956\n",
      "[700]\ttrain-logloss:0.15024\ttrain-gini:0.40826\tvalid-logloss:0.15475\tvalid-gini:0.29816\n",
      "[757]\ttrain-logloss:0.15005\ttrain-gini:0.41367\tvalid-logloss:0.15482\tvalid-gini:0.29692\n"
     ]
    },
    {
     "name": "stderr",
     "output_type": "stream",
     "text": [
      "/opt/conda/lib/python3.7/site-packages/xgboost/core.py:104: UserWarning: ntree_limit is deprecated, use `iteration_range` or model slicing instead.\n",
      "  UserWarning\n"
     ]
    },
    {
     "name": "stdout",
     "output_type": "stream",
     "text": [
      "Fold 1 gini score: 0.29961440115120136\n",
      "\n",
      "######################################## Fold 2 out of 5 ########################################\n",
      "[08:10:10] WARNING: ../src/learner.cc:1095: Starting in XGBoost 1.3.0, the default evaluation metric used with the objective 'binary:logistic' was changed from 'error' to 'logloss'. Explicitly set eval_metric if you'd like to restore the old behavior.\n",
      "[0]\ttrain-logloss:0.65280\ttrain-gini:0.17041\tvalid-logloss:0.65286\tvalid-gini:0.15070\n",
      "[100]\ttrain-logloss:0.15533\ttrain-gini:0.31502\tvalid-logloss:0.15672\tvalid-gini:0.27012\n",
      "[200]\ttrain-logloss:0.15294\ttrain-gini:0.34420\tvalid-logloss:0.15526\tvalid-gini:0.28048\n",
      "[300]\ttrain-logloss:0.15219\ttrain-gini:0.36305\tvalid-logloss:0.15516\tvalid-gini:0.28315\n",
      "[400]\ttrain-logloss:0.15157\ttrain-gini:0.37753\tvalid-logloss:0.15518\tvalid-gini:0.28335\n",
      "[500]\ttrain-logloss:0.15099\ttrain-gini:0.39024\tvalid-logloss:0.15515\tvalid-gini:0.28363\n",
      "[600]\ttrain-logloss:0.15056\ttrain-gini:0.40046\tvalid-logloss:0.15516\tvalid-gini:0.28372\n",
      "[601]\ttrain-logloss:0.15054\ttrain-gini:0.40046\tvalid-logloss:0.15515\tvalid-gini:0.28372\n",
      "Fold 2 gini score: 0.2837606145329253\n",
      "\n",
      "######################################## Fold 3 out of 5 ########################################\n",
      "[08:18:05] WARNING: ../src/learner.cc:1095: Starting in XGBoost 1.3.0, the default evaluation metric used with the objective 'binary:logistic' was changed from 'error' to 'logloss'. Explicitly set eval_metric if you'd like to restore the old behavior.\n",
      "[0]\ttrain-logloss:0.65262\ttrain-gini:0.15709\tvalid-logloss:0.65285\tvalid-gini:0.15487\n",
      "[100]\ttrain-logloss:0.15544\ttrain-gini:0.31322\tvalid-logloss:0.15642\tvalid-gini:0.27724\n",
      "[200]\ttrain-logloss:0.15295\ttrain-gini:0.34562\tvalid-logloss:0.15502\tvalid-gini:0.28340\n",
      "[300]\ttrain-logloss:0.15217\ttrain-gini:0.36375\tvalid-logloss:0.15495\tvalid-gini:0.28432\n",
      "[400]\ttrain-logloss:0.15160\ttrain-gini:0.37817\tvalid-logloss:0.15495\tvalid-gini:0.28408\n",
      "[456]\ttrain-logloss:0.15129\ttrain-gini:0.38554\tvalid-logloss:0.15496\tvalid-gini:0.28366\n",
      "Fold 3 gini score: 0.2845216377812854\n",
      "\n",
      "######################################## Fold 4 out of 5 ########################################\n",
      "[08:24:08] WARNING: ../src/learner.cc:1095: Starting in XGBoost 1.3.0, the default evaluation metric used with the objective 'binary:logistic' was changed from 'error' to 'logloss'. Explicitly set eval_metric if you'd like to restore the old behavior.\n",
      "[0]\ttrain-logloss:0.65271\ttrain-gini:0.16650\tvalid-logloss:0.65277\tvalid-gini:0.17177\n",
      "[100]\ttrain-logloss:0.15527\ttrain-gini:0.31558\tvalid-logloss:0.15657\tvalid-gini:0.26864\n",
      "[200]\ttrain-logloss:0.15291\ttrain-gini:0.34497\tvalid-logloss:0.15521\tvalid-gini:0.27653\n",
      "[300]\ttrain-logloss:0.15224\ttrain-gini:0.36147\tvalid-logloss:0.15518\tvalid-gini:0.27765\n",
      "[400]\ttrain-logloss:0.15164\ttrain-gini:0.37543\tvalid-logloss:0.15515\tvalid-gini:0.27805\n",
      "[500]\ttrain-logloss:0.15113\ttrain-gini:0.38817\tvalid-logloss:0.15520\tvalid-gini:0.27706\n",
      "[568]\ttrain-logloss:0.15084\ttrain-gini:0.39474\tvalid-logloss:0.15521\tvalid-gini:0.27684\n",
      "Fold 4 gini score: 0.27816885974665556\n",
      "\n",
      "######################################## Fold 5 out of 5 ########################################\n",
      "[08:31:36] WARNING: ../src/learner.cc:1095: Starting in XGBoost 1.3.0, the default evaluation metric used with the objective 'binary:logistic' was changed from 'error' to 'logloss'. Explicitly set eval_metric if you'd like to restore the old behavior.\n",
      "[0]\ttrain-logloss:0.65292\ttrain-gini:0.16864\tvalid-logloss:0.65280\tvalid-gini:0.16969\n",
      "[100]\ttrain-logloss:0.15538\ttrain-gini:0.30959\tvalid-logloss:0.15661\tvalid-gini:0.28038\n",
      "[200]\ttrain-logloss:0.15299\ttrain-gini:0.34050\tvalid-logloss:0.15515\tvalid-gini:0.29119\n",
      "[300]\ttrain-logloss:0.15226\ttrain-gini:0.35818\tvalid-logloss:0.15500\tvalid-gini:0.29510\n",
      "[400]\ttrain-logloss:0.15171\ttrain-gini:0.37128\tvalid-logloss:0.15495\tvalid-gini:0.29606\n",
      "[500]\ttrain-logloss:0.15115\ttrain-gini:0.38453\tvalid-logloss:0.15491\tvalid-gini:0.29648\n",
      "[600]\ttrain-logloss:0.15069\ttrain-gini:0.39609\tvalid-logloss:0.15491\tvalid-gini:0.29647\n",
      "[676]\ttrain-logloss:0.15033\ttrain-gini:0.40367\tvalid-logloss:0.15491\tvalid-gini:0.29614\n",
      "Fold 5 gini score: 0.2966429888208315\n",
      "\n"
     ]
    }
   ],
   "source": [
    "import xgboost as xgb\n",
    "\n",
    "# OOF 방식으로 훈련된 모델로 검증 데이터 타깃 값을 예측한 확률을 담을 1차원 배열\n",
    "oof_val_preds_xgb = np.zeros(X.shape[0]) \n",
    "# OOF 방식으로 훈련된 모델로 테스트 데이터 타깃 값을 예측한 확률을 담을 1차원 배열\n",
    "oof_test_preds_xgb = np.zeros(X_test.shape[0]) \n",
    "\n",
    "# OOF 방식으로 모델 훈련, 검증, 예측\n",
    "for idx, (train_idx, valid_idx) in enumerate(folds.split(X, y)):\n",
    "    # 각 폴드를 구분하는 문구\n",
    "    print('#'*40, f'Fold {idx+1} out of {folds.n_splits}', '#'*40)\n",
    "    \n",
    "    # 훈련용 데이터, 검증용 데이터 설정\n",
    "    X_train, y_train = X[train_idx], y[train_idx]\n",
    "    X_valid, y_valid = X[valid_idx], y[valid_idx]\n",
    "\n",
    "    # xgb 데이터세트 생성 \n",
    "    dtrain = xgb.DMatrix(X_train, y_train)\n",
    "    dvalid = xgb.DMatrix(X_valid, y_valid)\n",
    "    dtest = xgb.DMatrix(X_test)\n",
    "    \n",
    "    watchlist = [(dtrain, 'train'), (dvalid, 'valid')]\n",
    "\n",
    "    xgb_model = xgb.train(params=max_params_xgb, \n",
    "                          dtrain=dtrain,\n",
    "                          num_boost_round=1000,\n",
    "                          evals=watchlist,\n",
    "                          maximize=True,\n",
    "                          feval=gini_xgb,\n",
    "                          early_stopping_rounds=150,\n",
    "                          verbose_eval=100)\n",
    "\n",
    "    # 모델 성능이 가장 좋을 때의 부스팅 반복 횟수 저장\n",
    "    best_iter = xgb_model.best_iteration\n",
    "    # 테스트 데이터를 활용해 예측\n",
    "    oof_test_preds_xgb += xgb_model.predict(dtest, \n",
    "                                    ntree_limit=best_iter)/folds.n_splits\n",
    "    \n",
    "    # 모델 성능 평가를 위한 검증 데이터 타깃 값 예측 \n",
    "    oof_val_preds_xgb[valid_idx] += xgb_model.predict(dvalid, \n",
    "                                                      ntree_limit=best_iter)\n",
    "    \n",
    "    # 검증 데이터 예측확률에 대한 정규화 지니계수\n",
    "    gini_score = eval_gini(y_valid, oof_val_preds_xgb[valid_idx])\n",
    "    print(f'Fold {idx+1} gini score: {gini_score}\\n')"
   ]
  },
  {
   "cell_type": "code",
   "execution_count": 19,
   "id": "homeless-campaign",
   "metadata": {
    "execution": {
     "iopub.execute_input": "2021-05-06T08:40:23.402564Z",
     "iopub.status.busy": "2021-05-06T08:40:23.401400Z",
     "iopub.status.idle": "2021-05-06T08:40:23.520888Z",
     "shell.execute_reply": "2021-05-06T08:40:23.520320Z"
    },
    "papermill": {
     "duration": 0.168139,
     "end_time": "2021-05-06T08:40:23.521015",
     "exception": false,
     "start_time": "2021-05-06T08:40:23.352876",
     "status": "completed"
    },
    "tags": []
   },
   "outputs": [
    {
     "name": "stdout",
     "output_type": "stream",
     "text": [
      "LightGBM OOF Gini Score: 0.2893420267793303\n"
     ]
    }
   ],
   "source": [
    "print('LightGBM OOF Gini Score:', eval_gini(y, oof_val_preds_lgb))"
   ]
  },
  {
   "cell_type": "code",
   "execution_count": 20,
   "id": "prime-stylus",
   "metadata": {
    "execution": {
     "iopub.execute_input": "2021-05-06T08:40:23.613969Z",
     "iopub.status.busy": "2021-05-06T08:40:23.612831Z",
     "iopub.status.idle": "2021-05-06T08:40:23.728359Z",
     "shell.execute_reply": "2021-05-06T08:40:23.727859Z"
    },
    "papermill": {
     "duration": 0.163422,
     "end_time": "2021-05-06T08:40:23.728489",
     "exception": false,
     "start_time": "2021-05-06T08:40:23.565067",
     "status": "completed"
    },
    "tags": []
   },
   "outputs": [
    {
     "name": "stdout",
     "output_type": "stream",
     "text": [
      "XGBoost OOF Gini Score: 0.28849001909297844\n"
     ]
    }
   ],
   "source": [
    "print('XGBoost OOF Gini Score:', eval_gini(y, oof_val_preds_xgb))"
   ]
  },
  {
   "cell_type": "markdown",
   "id": "democratic-italic",
   "metadata": {
    "papermill": {
     "duration": 0.044119,
     "end_time": "2021-05-06T08:40:23.816943",
     "exception": false,
     "start_time": "2021-05-06T08:40:23.772824",
     "status": "completed"
    },
    "tags": []
   },
   "source": [
    "## 5.6.1 앙상블 수행"
   ]
  },
  {
   "cell_type": "code",
   "execution_count": 21,
   "id": "looking-calvin",
   "metadata": {
    "execution": {
     "iopub.execute_input": "2021-05-06T08:40:23.912389Z",
     "iopub.status.busy": "2021-05-06T08:40:23.911806Z",
     "iopub.status.idle": "2021-05-06T08:40:23.921283Z",
     "shell.execute_reply": "2021-05-06T08:40:23.920800Z"
    },
    "papermill": {
     "duration": 0.059433,
     "end_time": "2021-05-06T08:40:23.921431",
     "exception": false,
     "start_time": "2021-05-06T08:40:23.861998",
     "status": "completed"
    },
    "tags": []
   },
   "outputs": [],
   "source": [
    "oof_test_preds = oof_test_preds_lgb * 0.6 + oof_test_preds_xgb * 0.4"
   ]
  },
  {
   "cell_type": "markdown",
   "id": "celtic-waterproof",
   "metadata": {
    "papermill": {
     "duration": 0.044244,
     "end_time": "2021-05-06T08:40:24.009922",
     "exception": false,
     "start_time": "2021-05-06T08:40:23.965678",
     "status": "completed"
    },
    "tags": []
   },
   "source": [
    "## 5.6.2 결과 제출"
   ]
  },
  {
   "cell_type": "code",
   "execution_count": 22,
   "id": "current-nickname",
   "metadata": {
    "execution": {
     "iopub.execute_input": "2021-05-06T08:40:24.108842Z",
     "iopub.status.busy": "2021-05-06T08:40:24.108204Z",
     "iopub.status.idle": "2021-05-06T08:40:26.425133Z",
     "shell.execute_reply": "2021-05-06T08:40:26.425655Z"
    },
    "papermill": {
     "duration": 2.369864,
     "end_time": "2021-05-06T08:40:26.425841",
     "exception": false,
     "start_time": "2021-05-06T08:40:24.055977",
     "status": "completed"
    },
    "tags": []
   },
   "outputs": [],
   "source": [
    "submission['target'] = oof_test_preds\n",
    "submission.to_csv('submission.csv')"
   ]
  }
 ],
 "metadata": {
  "kernelspec": {
   "display_name": "Python 3",
   "language": "python",
   "name": "python3"
  },
  "language_info": {
   "codemirror_mode": {
    "name": "ipython",
    "version": 3
   },
   "file_extension": ".py",
   "mimetype": "text/x-python",
   "name": "python",
   "nbconvert_exporter": "python",
   "pygments_lexer": "ipython3",
   "version": "3.7.10"
  },
  "papermill": {
   "default_parameters": {},
   "duration": 3253.730568,
   "end_time": "2021-05-06T08:40:28.189691",
   "environment_variables": {},
   "exception": null,
   "input_path": "__notebook__.ipynb",
   "output_path": "__notebook__.ipynb",
   "parameters": {},
   "start_time": "2021-05-06T07:46:14.459123",
   "version": "2.3.3"
  }
 },
 "nbformat": 4,
 "nbformat_minor": 5
}
