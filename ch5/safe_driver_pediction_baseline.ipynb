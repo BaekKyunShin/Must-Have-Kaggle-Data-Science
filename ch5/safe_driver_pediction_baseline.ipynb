{
 "cells": [
  {
   "cell_type": "code",
   "execution_count": 1,
   "metadata": {
    "execution": {
     "iopub.execute_input": "2021-02-11T07:42:04.253059Z",
     "iopub.status.busy": "2021-02-11T07:42:04.252382Z",
     "iopub.status.idle": "2021-02-11T07:42:15.833217Z",
     "shell.execute_reply": "2021-02-11T07:42:15.834140Z"
    },
    "papermill": {
     "duration": 11.613973,
     "end_time": "2021-02-11T07:42:15.834525",
     "exception": false,
     "start_time": "2021-02-11T07:42:04.220552",
     "status": "completed"
    },
    "tags": []
   },
   "outputs": [],
   "source": [
    "# ch5/porto_seguro’s_safe_driver_prediction_baseline.ipynb\n",
    "\n",
    "import numpy as np\n",
    "import pandas as pd\n",
    "\n",
    "# 데이터 경로\n",
    "data_path = '/kaggle/input/porto-seguro-safe-driver-prediction/'\n",
    "\n",
    "train = pd.read_csv(data_path + 'train.csv', index_col='id')\n",
    "test = pd.read_csv(data_path + 'test.csv', index_col='id')\n",
    "submission = pd.read_csv(data_path + 'sample_submission.csv', index_col='id')"
   ]
  },
  {
   "cell_type": "code",
   "execution_count": 2,
   "metadata": {
    "execution": {
     "iopub.execute_input": "2021-02-11T07:42:15.885183Z",
     "iopub.status.busy": "2021-02-11T07:42:15.884252Z",
     "iopub.status.idle": "2021-02-11T07:42:17.351447Z",
     "shell.execute_reply": "2021-02-11T07:42:17.350615Z"
    },
    "papermill": {
     "duration": 1.493123,
     "end_time": "2021-02-11T07:42:17.351616",
     "exception": false,
     "start_time": "2021-02-11T07:42:15.858493",
     "status": "completed"
    },
    "tags": []
   },
   "outputs": [],
   "source": [
    "all_data = pd.concat([train, test], ignore_index=True)\n",
    "all_data = all_data.drop('target', axis=1) # 타깃 값 제거"
   ]
  },
  {
   "cell_type": "code",
   "execution_count": 3,
   "metadata": {
    "execution": {
     "iopub.execute_input": "2021-02-11T07:42:17.409756Z",
     "iopub.status.busy": "2021-02-11T07:42:17.408613Z",
     "iopub.status.idle": "2021-02-11T07:42:17.413396Z",
     "shell.execute_reply": "2021-02-11T07:42:17.412849Z"
    },
    "papermill": {
     "duration": 0.037819,
     "end_time": "2021-02-11T07:42:17.413554",
     "exception": false,
     "start_time": "2021-02-11T07:42:17.375735",
     "status": "completed"
    },
    "tags": []
   },
   "outputs": [
    {
     "data": {
      "text/plain": [
       "Index(['ps_ind_01', 'ps_ind_02_cat', 'ps_ind_03', 'ps_ind_04_cat',\n",
       "       'ps_ind_05_cat', 'ps_ind_06_bin', 'ps_ind_07_bin', 'ps_ind_08_bin',\n",
       "       'ps_ind_09_bin', 'ps_ind_10_bin', 'ps_ind_11_bin', 'ps_ind_12_bin',\n",
       "       'ps_ind_13_bin', 'ps_ind_14', 'ps_ind_15', 'ps_ind_16_bin',\n",
       "       'ps_ind_17_bin', 'ps_ind_18_bin', 'ps_reg_01', 'ps_reg_02', 'ps_reg_03',\n",
       "       'ps_car_01_cat', 'ps_car_02_cat', 'ps_car_03_cat', 'ps_car_04_cat',\n",
       "       'ps_car_05_cat', 'ps_car_06_cat', 'ps_car_07_cat', 'ps_car_08_cat',\n",
       "       'ps_car_09_cat', 'ps_car_10_cat', 'ps_car_11_cat', 'ps_car_11',\n",
       "       'ps_car_12', 'ps_car_13', 'ps_car_14', 'ps_car_15', 'ps_calc_01',\n",
       "       'ps_calc_02', 'ps_calc_03', 'ps_calc_04', 'ps_calc_05', 'ps_calc_06',\n",
       "       'ps_calc_07', 'ps_calc_08', 'ps_calc_09', 'ps_calc_10', 'ps_calc_11',\n",
       "       'ps_calc_12', 'ps_calc_13', 'ps_calc_14', 'ps_calc_15_bin',\n",
       "       'ps_calc_16_bin', 'ps_calc_17_bin', 'ps_calc_18_bin', 'ps_calc_19_bin',\n",
       "       'ps_calc_20_bin'],\n",
       "      dtype='object')"
      ]
     },
     "execution_count": 3,
     "metadata": {},
     "output_type": "execute_result"
    }
   ],
   "source": [
    "all_features = all_data.columns # 전체 피처\n",
    "all_features"
   ]
  },
  {
   "cell_type": "code",
   "execution_count": 4,
   "metadata": {
    "execution": {
     "iopub.execute_input": "2021-02-11T07:42:17.468985Z",
     "iopub.status.busy": "2021-02-11T07:42:17.468310Z",
     "iopub.status.idle": "2021-02-11T07:42:20.640294Z",
     "shell.execute_reply": "2021-02-11T07:42:20.640786Z"
    },
    "papermill": {
     "duration": 3.202423,
     "end_time": "2021-02-11T07:42:20.640999",
     "exception": false,
     "start_time": "2021-02-11T07:42:17.438576",
     "status": "completed"
    },
    "tags": []
   },
   "outputs": [
    {
     "data": {
      "text/plain": [
       "<1488028x184 sparse matrix of type '<class 'numpy.float64'>'\n",
       "\twith 20832392 stored elements in Compressed Sparse Row format>"
      ]
     },
     "execution_count": 4,
     "metadata": {},
     "output_type": "execute_result"
    }
   ],
   "source": [
    "from sklearn.preprocessing import OneHotEncoder\n",
    "\n",
    "cat_features = [col for col in all_features if 'cat' in col] # 명목형 피처 추출\n",
    "\n",
    "onehot_encoder = OneHotEncoder() # 원-핫 인코더 객체 생성\n",
    "# 원-핫 인코딩 적용\n",
    "encoded_cat_matrix = onehot_encoder.fit_transform(all_data[cat_features]) \n",
    "\n",
    "encoded_cat_matrix"
   ]
  },
  {
   "cell_type": "code",
   "execution_count": 5,
   "metadata": {
    "execution": {
     "iopub.execute_input": "2021-02-11T07:42:20.695411Z",
     "iopub.status.busy": "2021-02-11T07:42:20.694682Z",
     "iopub.status.idle": "2021-02-11T07:42:20.699563Z",
     "shell.execute_reply": "2021-02-11T07:42:20.700009Z"
    },
    "papermill": {
     "duration": 0.032823,
     "end_time": "2021-02-11T07:42:20.700207",
     "exception": false,
     "start_time": "2021-02-11T07:42:20.667384",
     "status": "completed"
    },
    "tags": []
   },
   "outputs": [],
   "source": [
    "# 추가로 제거할 피처\n",
    "drop_features = ['ps_ind_14', 'ps_ind_10_bin','ps_ind_11_bin', \n",
    "                 'ps_ind_12_bin','ps_ind_13_bin','ps_car_14']\n",
    "\n",
    "# '1) 명목형 피처, 2) calc 태그가 포함된 피처, 3) 추가 제거할 피처'를 제외한 피처\n",
    "remaining_features = [col for col in all_features if ('cat' not in col and \\\n",
    "                                                      'calc' not in col and \\\n",
    "                                                      col not in drop_features)]"
   ]
  },
  {
   "cell_type": "code",
   "execution_count": 6,
   "metadata": {
    "execution": {
     "iopub.execute_input": "2021-02-11T07:42:20.752944Z",
     "iopub.status.busy": "2021-02-11T07:42:20.752315Z",
     "iopub.status.idle": "2021-02-11T07:42:23.533921Z",
     "shell.execute_reply": "2021-02-11T07:42:23.533236Z"
    },
    "papermill": {
     "duration": 2.80956,
     "end_time": "2021-02-11T07:42:23.534075",
     "exception": false,
     "start_time": "2021-02-11T07:42:20.724515",
     "status": "completed"
    },
    "tags": []
   },
   "outputs": [],
   "source": [
    "from scipy import sparse\n",
    "\n",
    "all_data_sprs = sparse.hstack([sparse.csr_matrix(all_data[remaining_features]),\n",
    "                               encoded_cat_matrix],\n",
    "                              format='csr')"
   ]
  },
  {
   "cell_type": "code",
   "execution_count": 7,
   "metadata": {
    "execution": {
     "iopub.execute_input": "2021-02-11T07:42:23.589830Z",
     "iopub.status.busy": "2021-02-11T07:42:23.588951Z",
     "iopub.status.idle": "2021-02-11T07:42:24.309405Z",
     "shell.execute_reply": "2021-02-11T07:42:24.309915Z"
    },
    "papermill": {
     "duration": 0.751409,
     "end_time": "2021-02-11T07:42:24.310091",
     "exception": false,
     "start_time": "2021-02-11T07:42:23.558682",
     "status": "completed"
    },
    "tags": []
   },
   "outputs": [],
   "source": [
    "num_train = train.shape[0] # 훈련 데이터 개수\n",
    "\n",
    "# 훈련 데이터와 테스트 데이터 나누기\n",
    "X = all_data_sprs[:num_train]\n",
    "X_test = all_data_sprs[num_train:]\n",
    "\n",
    "y = train['target'].values"
   ]
  },
  {
   "cell_type": "code",
   "execution_count": 8,
   "metadata": {
    "execution": {
     "iopub.execute_input": "2021-02-11T07:42:24.368320Z",
     "iopub.status.busy": "2021-02-11T07:42:24.367430Z",
     "iopub.status.idle": "2021-02-11T07:42:24.371621Z",
     "shell.execute_reply": "2021-02-11T07:42:24.371019Z"
    },
    "papermill": {
     "duration": 0.037017,
     "end_time": "2021-02-11T07:42:24.371773",
     "exception": false,
     "start_time": "2021-02-11T07:42:24.334756",
     "status": "completed"
    },
    "tags": []
   },
   "outputs": [],
   "source": [
    "def eval_gini(y_true, y_pred):\n",
    "    # check and get number of samples\n",
    "    assert y_true.shape == y_pred.shape\n",
    "    n_samples = y_true.shape[0]\n",
    "\n",
    "    # sort rows on prediction column\n",
    "    # (from largest to smallest)\n",
    "    arr = np.array([y_true, y_pred]).transpose()\n",
    "    true_order = arr[arr[:, 0].argsort()][::-1, 0]\n",
    "    pred_order = arr[arr[:, 1].argsort()][::-1, 0]\n",
    "\n",
    "    # get Lorenz curves\n",
    "    L_true = np.cumsum(true_order) * 1. / np.sum(true_order)\n",
    "    L_pred = np.cumsum(pred_order) * 1. / np.sum(pred_order)\n",
    "    L_ones = np.linspace(1 / n_samples, 1, n_samples)\n",
    "\n",
    "    # get Gini coefficients (area between curves)\n",
    "    G_true = np.sum(L_ones - L_true)\n",
    "    G_pred = np.sum(L_ones - L_pred)\n",
    "\n",
    "    # normalize to true Gini coefficient\n",
    "    return G_pred * 1. / G_true"
   ]
  },
  {
   "cell_type": "code",
   "execution_count": 9,
   "metadata": {
    "execution": {
     "iopub.execute_input": "2021-02-11T07:42:24.427841Z",
     "iopub.status.busy": "2021-02-11T07:42:24.427084Z",
     "iopub.status.idle": "2021-02-11T07:42:24.488360Z",
     "shell.execute_reply": "2021-02-11T07:42:24.487678Z"
    },
    "papermill": {
     "duration": 0.091305,
     "end_time": "2021-02-11T07:42:24.488609",
     "exception": false,
     "start_time": "2021-02-11T07:42:24.397304",
     "status": "completed"
    },
    "tags": []
   },
   "outputs": [
    {
     "ename": "NameError",
     "evalue": "name 'y_valid' is not defined",
     "output_type": "error",
     "traceback": [
      "\u001b[0;31m---------------------------------------------------------------------------\u001b[0m",
      "\u001b[0;31mNameError\u001b[0m                                 Traceback (most recent call last)",
      "\u001b[0;32m<ipython-input-9-feba2f54dc15>\u001b[0m in \u001b[0;36m<module>\u001b[0;34m\u001b[0m\n\u001b[0;32m----> 1\u001b[0;31m \u001b[0my_true\u001b[0m \u001b[0;34m=\u001b[0m \u001b[0my_valid\u001b[0m\u001b[0;34m\u001b[0m\u001b[0;34m\u001b[0m\u001b[0m\n\u001b[0m\u001b[1;32m      2\u001b[0m \u001b[0my_pred\u001b[0m \u001b[0;34m=\u001b[0m \u001b[0mcv_train\u001b[0m\u001b[0;34m[\u001b[0m\u001b[0mvalid_idx\u001b[0m\u001b[0;34m]\u001b[0m\u001b[0;34m\u001b[0m\u001b[0;34m\u001b[0m\u001b[0m\n",
      "\u001b[0;31mNameError\u001b[0m: name 'y_valid' is not defined"
     ]
    }
   ],
   "source": [
    "y_true = y_valid\n",
    "y_pred = cv_train[valid_idx]"
   ]
  },
  {
   "cell_type": "code",
   "execution_count": 10,
   "metadata": {
    "execution": {
     "iopub.execute_input": "2021-02-11T07:42:24.557435Z",
     "iopub.status.busy": "2021-02-11T07:42:24.556429Z",
     "iopub.status.idle": "2021-02-11T07:42:24.561817Z",
     "shell.execute_reply": "2021-02-11T07:42:24.561267Z"
    },
    "papermill": {
     "duration": 0.047358,
     "end_time": "2021-02-11T07:42:24.561975",
     "exception": false,
     "start_time": "2021-02-11T07:42:24.514617",
     "status": "completed"
    },
    "tags": []
   },
   "outputs": [
    {
     "ename": "NameError",
     "evalue": "name 'y_true' is not defined",
     "output_type": "error",
     "traceback": [
      "\u001b[0;31m---------------------------------------------------------------------------\u001b[0m",
      "\u001b[0;31mNameError\u001b[0m                                 Traceback (most recent call last)",
      "\u001b[0;32m<ipython-input-10-2288cd0d1bd1>\u001b[0m in \u001b[0;36m<module>\u001b[0;34m\u001b[0m\n\u001b[1;32m      1\u001b[0m \u001b[0;31m# 실제 값과 예측 값의 크기가 같은지 확인\u001b[0m\u001b[0;34m\u001b[0m\u001b[0;34m\u001b[0m\u001b[0;34m\u001b[0m\u001b[0m\n\u001b[0;32m----> 2\u001b[0;31m \u001b[0;32massert\u001b[0m \u001b[0my_true\u001b[0m\u001b[0;34m.\u001b[0m\u001b[0mshape\u001b[0m \u001b[0;34m==\u001b[0m \u001b[0my_pred\u001b[0m\u001b[0;34m.\u001b[0m\u001b[0mshape\u001b[0m\u001b[0;34m\u001b[0m\u001b[0;34m\u001b[0m\u001b[0m\n\u001b[0m\u001b[1;32m      3\u001b[0m \u001b[0;31m# 데이터 개수\u001b[0m\u001b[0;34m\u001b[0m\u001b[0;34m\u001b[0m\u001b[0;34m\u001b[0m\u001b[0m\n\u001b[1;32m      4\u001b[0m \u001b[0mn_samples\u001b[0m \u001b[0;34m=\u001b[0m \u001b[0my_true\u001b[0m\u001b[0;34m.\u001b[0m\u001b[0mshape\u001b[0m\u001b[0;34m[\u001b[0m\u001b[0;36m0\u001b[0m\u001b[0;34m]\u001b[0m\u001b[0;34m\u001b[0m\u001b[0;34m\u001b[0m\u001b[0m\n\u001b[1;32m      5\u001b[0m \u001b[0;34m\u001b[0m\u001b[0m\n",
      "\u001b[0;31mNameError\u001b[0m: name 'y_true' is not defined"
     ]
    }
   ],
   "source": [
    "# 실제 값과 예측 값의 크기가 같은지 확인\n",
    "assert y_true.shape == y_pred.shape\n",
    "# 데이터 개수\n",
    "n_samples = y_true.shape[0]\n",
    "\n",
    "# y_true 오름차순에 따라 y_true 값 재배열\n",
    "true_order = y_true[y_true.argsort()]\n",
    "# y_pred 오름차순에 따라 y_true 값 재배열\n",
    "pred_order = y_true[y_pred.argsort()]\n",
    "\n",
    "# 로렌츠 곡선\n",
    "L_true = np.cumsum(true_order) / np.sum(true_order)\n",
    "L_pred = np.cumsum(pred_order) / np.sum(pred_order)\n",
    "L_mid = np.linspace(1 / n_samples, 1, n_samples)\n",
    "\n",
    "# 예측이 완벽할 때 지니 계수\n",
    "G_true = np.sum(L_mid - L_true)\n",
    "# 예측 값에 대한 지니 계수\n",
    "G_pred = np.sum(L_mid - L_pred)\n",
    "\n",
    "# 정규화된 지니 계수\n",
    "G_pred / G_true"
   ]
  },
  {
   "cell_type": "markdown",
   "metadata": {
    "papermill": {
     "duration": 0.025602,
     "end_time": "2021-02-11T07:42:24.614031",
     "exception": false,
     "start_time": "2021-02-11T07:42:24.588429",
     "status": "completed"
    },
    "tags": []
   },
   "source": [
    "0.29170498822890845"
   ]
  },
  {
   "cell_type": "code",
   "execution_count": 11,
   "metadata": {
    "execution": {
     "iopub.execute_input": "2021-02-11T07:42:24.679459Z",
     "iopub.status.busy": "2021-02-11T07:42:24.678724Z",
     "iopub.status.idle": "2021-02-11T07:42:24.682820Z",
     "shell.execute_reply": "2021-02-11T07:42:24.682209Z"
    },
    "papermill": {
     "duration": 0.043088,
     "end_time": "2021-02-11T07:42:24.682957",
     "exception": false,
     "start_time": "2021-02-11T07:42:24.639869",
     "status": "completed"
    },
    "tags": []
   },
   "outputs": [
    {
     "ename": "NameError",
     "evalue": "name 'true_order' is not defined",
     "output_type": "error",
     "traceback": [
      "\u001b[0;31m---------------------------------------------------------------------------\u001b[0m",
      "\u001b[0;31mNameError\u001b[0m                                 Traceback (most recent call last)",
      "\u001b[0;32m<ipython-input-11-bdda4b4351db>\u001b[0m in \u001b[0;36m<module>\u001b[0;34m\u001b[0m\n\u001b[0;32m----> 1\u001b[0;31m \u001b[0mnp\u001b[0m\u001b[0;34m.\u001b[0m\u001b[0msum\u001b[0m\u001b[0;34m(\u001b[0m\u001b[0mtrue_order\u001b[0m\u001b[0;34m)\u001b[0m\u001b[0;34m\u001b[0m\u001b[0;34m\u001b[0m\u001b[0m\n\u001b[0m",
      "\u001b[0;31mNameError\u001b[0m: name 'true_order' is not defined"
     ]
    }
   ],
   "source": [
    "np.sum(true_order)"
   ]
  },
  {
   "cell_type": "code",
   "execution_count": 12,
   "metadata": {
    "execution": {
     "iopub.execute_input": "2021-02-11T07:42:24.751667Z",
     "iopub.status.busy": "2021-02-11T07:42:24.741354Z",
     "iopub.status.idle": "2021-02-11T07:42:24.756800Z",
     "shell.execute_reply": "2021-02-11T07:42:24.756214Z"
    },
    "papermill": {
     "duration": 0.047611,
     "end_time": "2021-02-11T07:42:24.756974",
     "exception": false,
     "start_time": "2021-02-11T07:42:24.709363",
     "status": "completed"
    },
    "tags": []
   },
   "outputs": [
    {
     "ename": "NameError",
     "evalue": "name 'pred_order' is not defined",
     "output_type": "error",
     "traceback": [
      "\u001b[0;31m---------------------------------------------------------------------------\u001b[0m",
      "\u001b[0;31mNameError\u001b[0m                                 Traceback (most recent call last)",
      "\u001b[0;32m<ipython-input-12-fab30a0ad8d2>\u001b[0m in \u001b[0;36m<module>\u001b[0;34m\u001b[0m\n\u001b[0;32m----> 1\u001b[0;31m \u001b[0mnp\u001b[0m\u001b[0;34m.\u001b[0m\u001b[0msum\u001b[0m\u001b[0;34m(\u001b[0m\u001b[0mpred_order\u001b[0m\u001b[0;34m)\u001b[0m\u001b[0;34m\u001b[0m\u001b[0;34m\u001b[0m\u001b[0m\n\u001b[0m",
      "\u001b[0;31mNameError\u001b[0m: name 'pred_order' is not defined"
     ]
    }
   ],
   "source": [
    "np.sum(pred_order)"
   ]
  },
  {
   "cell_type": "code",
   "execution_count": 13,
   "metadata": {
    "execution": {
     "iopub.execute_input": "2021-02-11T07:42:24.828361Z",
     "iopub.status.busy": "2021-02-11T07:42:24.817139Z",
     "iopub.status.idle": "2021-02-11T07:42:24.832476Z",
     "shell.execute_reply": "2021-02-11T07:42:24.833037Z"
    },
    "papermill": {
     "duration": 0.049105,
     "end_time": "2021-02-11T07:42:24.833266",
     "exception": false,
     "start_time": "2021-02-11T07:42:24.784161",
     "status": "completed"
    },
    "tags": []
   },
   "outputs": [
    {
     "ename": "NameError",
     "evalue": "name 'pred_order' is not defined",
     "output_type": "error",
     "traceback": [
      "\u001b[0;31m---------------------------------------------------------------------------\u001b[0m",
      "\u001b[0;31mNameError\u001b[0m                                 Traceback (most recent call last)",
      "\u001b[0;32m<ipython-input-13-be23de31f073>\u001b[0m in \u001b[0;36m<module>\u001b[0;34m\u001b[0m\n\u001b[0;32m----> 1\u001b[0;31m \u001b[0mpred_order\u001b[0m\u001b[0;34m\u001b[0m\u001b[0;34m\u001b[0m\u001b[0m\n\u001b[0m",
      "\u001b[0;31mNameError\u001b[0m: name 'pred_order' is not defined"
     ]
    }
   ],
   "source": [
    "pred_order"
   ]
  },
  {
   "cell_type": "code",
   "execution_count": 14,
   "metadata": {
    "execution": {
     "iopub.execute_input": "2021-02-11T07:42:24.892006Z",
     "iopub.status.busy": "2021-02-11T07:42:24.891395Z",
     "iopub.status.idle": "2021-02-11T07:42:24.906543Z",
     "shell.execute_reply": "2021-02-11T07:42:24.907011Z"
    },
    "papermill": {
     "duration": 0.046303,
     "end_time": "2021-02-11T07:42:24.907209",
     "exception": false,
     "start_time": "2021-02-11T07:42:24.860906",
     "status": "completed"
    },
    "tags": []
   },
   "outputs": [
    {
     "ename": "NameError",
     "evalue": "name 'true_order' is not defined",
     "output_type": "error",
     "traceback": [
      "\u001b[0;31m---------------------------------------------------------------------------\u001b[0m",
      "\u001b[0;31mNameError\u001b[0m                                 Traceback (most recent call last)",
      "\u001b[0;32m<ipython-input-14-bbb70393f329>\u001b[0m in \u001b[0;36m<module>\u001b[0;34m\u001b[0m\n\u001b[0;32m----> 1\u001b[0;31m \u001b[0mtrue_order\u001b[0m\u001b[0;34m\u001b[0m\u001b[0;34m\u001b[0m\u001b[0m\n\u001b[0m",
      "\u001b[0;31mNameError\u001b[0m: name 'true_order' is not defined"
     ]
    }
   ],
   "source": [
    "true_order"
   ]
  },
  {
   "cell_type": "code",
   "execution_count": 15,
   "metadata": {
    "execution": {
     "iopub.execute_input": "2021-02-11T07:42:24.973532Z",
     "iopub.status.busy": "2021-02-11T07:42:24.968166Z",
     "iopub.status.idle": "2021-02-11T07:42:24.986087Z",
     "shell.execute_reply": "2021-02-11T07:42:24.985514Z"
    },
    "papermill": {
     "duration": 0.051174,
     "end_time": "2021-02-11T07:42:24.986263",
     "exception": false,
     "start_time": "2021-02-11T07:42:24.935089",
     "status": "completed"
    },
    "tags": []
   },
   "outputs": [
    {
     "ename": "NameError",
     "evalue": "name 'pred_order' is not defined",
     "output_type": "error",
     "traceback": [
      "\u001b[0;31m---------------------------------------------------------------------------\u001b[0m",
      "\u001b[0;31mNameError\u001b[0m                                 Traceback (most recent call last)",
      "\u001b[0;32m<ipython-input-15-a445dfc77670>\u001b[0m in \u001b[0;36m<module>\u001b[0;34m\u001b[0m\n\u001b[0;32m----> 1\u001b[0;31m \u001b[0mnp\u001b[0m\u001b[0;34m.\u001b[0m\u001b[0mcumsum\u001b[0m\u001b[0;34m(\u001b[0m\u001b[0mpred_order\u001b[0m\u001b[0;34m)\u001b[0m\u001b[0;34m\u001b[0m\u001b[0;34m\u001b[0m\u001b[0m\n\u001b[0m",
      "\u001b[0;31mNameError\u001b[0m: name 'pred_order' is not defined"
     ]
    }
   ],
   "source": [
    "np.cumsum(pred_order)"
   ]
  },
  {
   "cell_type": "code",
   "execution_count": 16,
   "metadata": {
    "execution": {
     "iopub.execute_input": "2021-02-11T07:42:25.060515Z",
     "iopub.status.busy": "2021-02-11T07:42:25.059859Z",
     "iopub.status.idle": "2021-02-11T07:42:25.063984Z",
     "shell.execute_reply": "2021-02-11T07:42:25.064651Z"
    },
    "papermill": {
     "duration": 0.049153,
     "end_time": "2021-02-11T07:42:25.064831",
     "exception": false,
     "start_time": "2021-02-11T07:42:25.015678",
     "status": "completed"
    },
    "tags": []
   },
   "outputs": [
    {
     "ename": "NameError",
     "evalue": "name 'arr' is not defined",
     "output_type": "error",
     "traceback": [
      "\u001b[0;31m---------------------------------------------------------------------------\u001b[0m",
      "\u001b[0;31mNameError\u001b[0m                                 Traceback (most recent call last)",
      "\u001b[0;32m<ipython-input-16-ebc23eadbd79>\u001b[0m in \u001b[0;36m<module>\u001b[0;34m\u001b[0m\n\u001b[0;32m----> 1\u001b[0;31m \u001b[0marr\u001b[0m\u001b[0;34m[\u001b[0m\u001b[0marr\u001b[0m\u001b[0;34m[\u001b[0m\u001b[0;34m:\u001b[0m\u001b[0;34m,\u001b[0m \u001b[0;36m0\u001b[0m\u001b[0;34m]\u001b[0m\u001b[0;34m.\u001b[0m\u001b[0margsort\u001b[0m\u001b[0;34m(\u001b[0m\u001b[0;34m)\u001b[0m\u001b[0;34m]\u001b[0m\u001b[0;34m\u001b[0m\u001b[0;34m\u001b[0m\u001b[0m\n\u001b[0m",
      "\u001b[0;31mNameError\u001b[0m: name 'arr' is not defined"
     ]
    }
   ],
   "source": [
    "arr[arr[:, 0].argsort()]"
   ]
  },
  {
   "cell_type": "code",
   "execution_count": 17,
   "metadata": {
    "execution": {
     "iopub.execute_input": "2021-02-11T07:42:25.131450Z",
     "iopub.status.busy": "2021-02-11T07:42:25.130799Z",
     "iopub.status.idle": "2021-02-11T07:42:25.146397Z",
     "shell.execute_reply": "2021-02-11T07:42:25.146928Z"
    },
    "papermill": {
     "duration": 0.053331,
     "end_time": "2021-02-11T07:42:25.147170",
     "exception": false,
     "start_time": "2021-02-11T07:42:25.093839",
     "status": "completed"
    },
    "tags": []
   },
   "outputs": [
    {
     "ename": "NameError",
     "evalue": "name 'arr' is not defined",
     "output_type": "error",
     "traceback": [
      "\u001b[0;31m---------------------------------------------------------------------------\u001b[0m",
      "\u001b[0;31mNameError\u001b[0m                                 Traceback (most recent call last)",
      "\u001b[0;32m<ipython-input-17-f4c9585576ba>\u001b[0m in \u001b[0;36m<module>\u001b[0;34m\u001b[0m\n\u001b[0;32m----> 1\u001b[0;31m \u001b[0marr\u001b[0m\u001b[0;34m[\u001b[0m\u001b[0marr\u001b[0m\u001b[0;34m[\u001b[0m\u001b[0;34m:\u001b[0m\u001b[0;34m,\u001b[0m \u001b[0;36m1\u001b[0m\u001b[0;34m]\u001b[0m\u001b[0;34m.\u001b[0m\u001b[0margsort\u001b[0m\u001b[0;34m(\u001b[0m\u001b[0;34m)\u001b[0m\u001b[0;34m]\u001b[0m\u001b[0;34m\u001b[0m\u001b[0;34m\u001b[0m\u001b[0m\n\u001b[0m",
      "\u001b[0;31mNameError\u001b[0m: name 'arr' is not defined"
     ]
    }
   ],
   "source": [
    "arr[arr[:, 1].argsort()]"
   ]
  },
  {
   "cell_type": "code",
   "execution_count": 18,
   "metadata": {
    "execution": {
     "iopub.execute_input": "2021-02-11T07:42:25.211712Z",
     "iopub.status.busy": "2021-02-11T07:42:25.211048Z",
     "iopub.status.idle": "2021-02-11T07:42:25.227281Z",
     "shell.execute_reply": "2021-02-11T07:42:25.227804Z"
    },
    "papermill": {
     "duration": 0.050018,
     "end_time": "2021-02-11T07:42:25.228002",
     "exception": false,
     "start_time": "2021-02-11T07:42:25.177984",
     "status": "completed"
    },
    "tags": []
   },
   "outputs": [
    {
     "ename": "NameError",
     "evalue": "name 'arr' is not defined",
     "output_type": "error",
     "traceback": [
      "\u001b[0;31m---------------------------------------------------------------------------\u001b[0m",
      "\u001b[0;31mNameError\u001b[0m                                 Traceback (most recent call last)",
      "\u001b[0;32m<ipython-input-18-27ec414fdd95>\u001b[0m in \u001b[0;36m<module>\u001b[0;34m\u001b[0m\n\u001b[0;32m----> 1\u001b[0;31m \u001b[0marr\u001b[0m\u001b[0;34m[\u001b[0m\u001b[0marr\u001b[0m\u001b[0;34m[\u001b[0m\u001b[0;34m:\u001b[0m\u001b[0;34m,\u001b[0m \u001b[0;36m1\u001b[0m\u001b[0;34m]\u001b[0m\u001b[0;34m.\u001b[0m\u001b[0margsort\u001b[0m\u001b[0;34m(\u001b[0m\u001b[0;34m)\u001b[0m\u001b[0;34m]\u001b[0m\u001b[0;34m[\u001b[0m\u001b[0;34m:\u001b[0m\u001b[0;34m:\u001b[0m\u001b[0;34m-\u001b[0m\u001b[0;36m1\u001b[0m\u001b[0;34m,\u001b[0m \u001b[0;36m0\u001b[0m\u001b[0;34m]\u001b[0m\u001b[0;34m\u001b[0m\u001b[0;34m\u001b[0m\u001b[0m\n\u001b[0m",
      "\u001b[0;31mNameError\u001b[0m: name 'arr' is not defined"
     ]
    }
   ],
   "source": [
    "arr[arr[:, 1].argsort()][::-1, 0]"
   ]
  },
  {
   "cell_type": "code",
   "execution_count": 19,
   "metadata": {
    "execution": {
     "iopub.execute_input": "2021-02-11T07:42:25.293524Z",
     "iopub.status.busy": "2021-02-11T07:42:25.292862Z",
     "iopub.status.idle": "2021-02-11T07:42:25.309161Z",
     "shell.execute_reply": "2021-02-11T07:42:25.309646Z"
    },
    "papermill": {
     "duration": 0.050969,
     "end_time": "2021-02-11T07:42:25.309820",
     "exception": false,
     "start_time": "2021-02-11T07:42:25.258851",
     "status": "completed"
    },
    "tags": []
   },
   "outputs": [
    {
     "ename": "NameError",
     "evalue": "name 'arr' is not defined",
     "output_type": "error",
     "traceback": [
      "\u001b[0;31m---------------------------------------------------------------------------\u001b[0m",
      "\u001b[0;31mNameError\u001b[0m                                 Traceback (most recent call last)",
      "\u001b[0;32m<ipython-input-19-695c8eb1ac60>\u001b[0m in \u001b[0;36m<module>\u001b[0;34m\u001b[0m\n\u001b[0;32m----> 1\u001b[0;31m \u001b[0marr\u001b[0m\u001b[0;34m[\u001b[0m\u001b[0marr\u001b[0m\u001b[0;34m[\u001b[0m\u001b[0;34m:\u001b[0m\u001b[0;34m,\u001b[0m \u001b[0;36m1\u001b[0m\u001b[0;34m]\u001b[0m\u001b[0;34m.\u001b[0m\u001b[0margsort\u001b[0m\u001b[0;34m(\u001b[0m\u001b[0;34m)\u001b[0m\u001b[0;34m[\u001b[0m\u001b[0;34m:\u001b[0m\u001b[0;34m:\u001b[0m\u001b[0;34m-\u001b[0m\u001b[0;36m1\u001b[0m\u001b[0;34m]\u001b[0m\u001b[0;34m]\u001b[0m\u001b[0;34m[\u001b[0m\u001b[0;34m:\u001b[0m\u001b[0;34m,\u001b[0m \u001b[0;36m0\u001b[0m\u001b[0;34m]\u001b[0m\u001b[0;34m\u001b[0m\u001b[0;34m\u001b[0m\u001b[0m\n\u001b[0m",
      "\u001b[0;31mNameError\u001b[0m: name 'arr' is not defined"
     ]
    }
   ],
   "source": [
    "arr[arr[:, 1].argsort()[::-1]][:, 0]"
   ]
  },
  {
   "cell_type": "code",
   "execution_count": 20,
   "metadata": {
    "execution": {
     "iopub.execute_input": "2021-02-11T07:42:25.375216Z",
     "iopub.status.busy": "2021-02-11T07:42:25.374492Z",
     "iopub.status.idle": "2021-02-11T07:42:25.390727Z",
     "shell.execute_reply": "2021-02-11T07:42:25.391219Z"
    },
    "papermill": {
     "duration": 0.051069,
     "end_time": "2021-02-11T07:42:25.391392",
     "exception": false,
     "start_time": "2021-02-11T07:42:25.340323",
     "status": "completed"
    },
    "tags": []
   },
   "outputs": [
    {
     "ename": "NameError",
     "evalue": "name 'y_true' is not defined",
     "output_type": "error",
     "traceback": [
      "\u001b[0;31m---------------------------------------------------------------------------\u001b[0m",
      "\u001b[0;31mNameError\u001b[0m                                 Traceback (most recent call last)",
      "\u001b[0;32m<ipython-input-20-3d2687837167>\u001b[0m in \u001b[0;36m<module>\u001b[0;34m\u001b[0m\n\u001b[0;32m----> 1\u001b[0;31m \u001b[0my_true\u001b[0m\u001b[0;34m[\u001b[0m\u001b[0;34m:\u001b[0m\u001b[0;36m10\u001b[0m\u001b[0;34m]\u001b[0m\u001b[0;34m\u001b[0m\u001b[0;34m\u001b[0m\u001b[0m\n\u001b[0m",
      "\u001b[0;31mNameError\u001b[0m: name 'y_true' is not defined"
     ]
    }
   ],
   "source": [
    "y_true[:10]"
   ]
  },
  {
   "cell_type": "code",
   "execution_count": 21,
   "metadata": {
    "execution": {
     "iopub.execute_input": "2021-02-11T07:42:25.457842Z",
     "iopub.status.busy": "2021-02-11T07:42:25.457237Z",
     "iopub.status.idle": "2021-02-11T07:42:25.472834Z",
     "shell.execute_reply": "2021-02-11T07:42:25.473360Z"
    },
    "papermill": {
     "duration": 0.050706,
     "end_time": "2021-02-11T07:42:25.473536",
     "exception": false,
     "start_time": "2021-02-11T07:42:25.422830",
     "status": "completed"
    },
    "tags": []
   },
   "outputs": [
    {
     "ename": "NameError",
     "evalue": "name 'y_pred' is not defined",
     "output_type": "error",
     "traceback": [
      "\u001b[0;31m---------------------------------------------------------------------------\u001b[0m",
      "\u001b[0;31mNameError\u001b[0m                                 Traceback (most recent call last)",
      "\u001b[0;32m<ipython-input-21-f2f4ca26448f>\u001b[0m in \u001b[0;36m<module>\u001b[0;34m\u001b[0m\n\u001b[0;32m----> 1\u001b[0;31m \u001b[0my_pred\u001b[0m\u001b[0;34m[\u001b[0m\u001b[0;34m:\u001b[0m\u001b[0;36m10\u001b[0m\u001b[0;34m]\u001b[0m\u001b[0;34m\u001b[0m\u001b[0;34m\u001b[0m\u001b[0m\n\u001b[0m",
      "\u001b[0;31mNameError\u001b[0m: name 'y_pred' is not defined"
     ]
    }
   ],
   "source": [
    "y_pred[:10]"
   ]
  },
  {
   "cell_type": "code",
   "execution_count": 22,
   "metadata": {
    "execution": {
     "iopub.execute_input": "2021-02-11T07:42:25.541675Z",
     "iopub.status.busy": "2021-02-11T07:42:25.540670Z",
     "iopub.status.idle": "2021-02-11T07:42:25.560064Z",
     "shell.execute_reply": "2021-02-11T07:42:25.559445Z"
    },
    "papermill": {
     "duration": 0.055188,
     "end_time": "2021-02-11T07:42:25.560227",
     "exception": false,
     "start_time": "2021-02-11T07:42:25.505039",
     "status": "completed"
    },
    "tags": []
   },
   "outputs": [
    {
     "ename": "NameError",
     "evalue": "name 'y_true' is not defined",
     "output_type": "error",
     "traceback": [
      "\u001b[0;31m---------------------------------------------------------------------------\u001b[0m",
      "\u001b[0;31mNameError\u001b[0m                                 Traceback (most recent call last)",
      "\u001b[0;32m<ipython-input-22-df6ae7989272>\u001b[0m in \u001b[0;36m<module>\u001b[0;34m\u001b[0m\n\u001b[0;32m----> 1\u001b[0;31m \u001b[0marr\u001b[0m \u001b[0;34m=\u001b[0m \u001b[0mnp\u001b[0m\u001b[0;34m.\u001b[0m\u001b[0marray\u001b[0m\u001b[0;34m(\u001b[0m\u001b[0;34m[\u001b[0m\u001b[0my_true\u001b[0m\u001b[0;34m,\u001b[0m \u001b[0my_pred\u001b[0m\u001b[0;34m]\u001b[0m\u001b[0;34m)\u001b[0m\u001b[0;34m.\u001b[0m\u001b[0mtranspose\u001b[0m\u001b[0;34m(\u001b[0m\u001b[0;34m)\u001b[0m\u001b[0;34m\u001b[0m\u001b[0;34m\u001b[0m\u001b[0m\n\u001b[0m\u001b[1;32m      2\u001b[0m \u001b[0marr\u001b[0m\u001b[0;34m\u001b[0m\u001b[0;34m\u001b[0m\u001b[0m\n",
      "\u001b[0;31mNameError\u001b[0m: name 'y_true' is not defined"
     ]
    }
   ],
   "source": [
    "arr = np.array([y_true, y_pred]).transpose()\n",
    "arr"
   ]
  },
  {
   "cell_type": "code",
   "execution_count": 23,
   "metadata": {
    "execution": {
     "iopub.execute_input": "2021-02-11T07:42:25.641930Z",
     "iopub.status.busy": "2021-02-11T07:42:25.641245Z",
     "iopub.status.idle": "2021-02-11T07:42:25.644673Z",
     "shell.execute_reply": "2021-02-11T07:42:25.645320Z"
    },
    "papermill": {
     "duration": 0.052889,
     "end_time": "2021-02-11T07:42:25.645531",
     "exception": false,
     "start_time": "2021-02-11T07:42:25.592642",
     "status": "completed"
    },
    "tags": []
   },
   "outputs": [
    {
     "ename": "NameError",
     "evalue": "name 'arr' is not defined",
     "output_type": "error",
     "traceback": [
      "\u001b[0;31m---------------------------------------------------------------------------\u001b[0m",
      "\u001b[0;31mNameError\u001b[0m                                 Traceback (most recent call last)",
      "\u001b[0;32m<ipython-input-23-2fb7c9fddf91>\u001b[0m in \u001b[0;36m<module>\u001b[0;34m\u001b[0m\n\u001b[0;32m----> 1\u001b[0;31m \u001b[0marr\u001b[0m\u001b[0;34m[\u001b[0m\u001b[0;34m:\u001b[0m\u001b[0;34m,\u001b[0m \u001b[0;36m0\u001b[0m\u001b[0;34m]\u001b[0m\u001b[0;34m.\u001b[0m\u001b[0margsort\u001b[0m\u001b[0;34m(\u001b[0m\u001b[0;34m)\u001b[0m\u001b[0;34m\u001b[0m\u001b[0;34m\u001b[0m\u001b[0m\n\u001b[0m",
      "\u001b[0;31mNameError\u001b[0m: name 'arr' is not defined"
     ]
    }
   ],
   "source": [
    "arr[:, 0].argsort()"
   ]
  },
  {
   "cell_type": "code",
   "execution_count": 24,
   "metadata": {
    "execution": {
     "iopub.execute_input": "2021-02-11T07:42:25.716261Z",
     "iopub.status.busy": "2021-02-11T07:42:25.715582Z",
     "iopub.status.idle": "2021-02-11T07:42:25.731183Z",
     "shell.execute_reply": "2021-02-11T07:42:25.731760Z"
    },
    "papermill": {
     "duration": 0.05331,
     "end_time": "2021-02-11T07:42:25.731968",
     "exception": false,
     "start_time": "2021-02-11T07:42:25.678658",
     "status": "completed"
    },
    "tags": []
   },
   "outputs": [
    {
     "ename": "NameError",
     "evalue": "name 'arr' is not defined",
     "output_type": "error",
     "traceback": [
      "\u001b[0;31m---------------------------------------------------------------------------\u001b[0m",
      "\u001b[0;31mNameError\u001b[0m                                 Traceback (most recent call last)",
      "\u001b[0;32m<ipython-input-24-f185ddffd9a9>\u001b[0m in \u001b[0;36m<module>\u001b[0;34m\u001b[0m\n\u001b[0;32m----> 1\u001b[0;31m \u001b[0marr\u001b[0m\u001b[0;34m[\u001b[0m\u001b[0mnp\u001b[0m\u001b[0;34m.\u001b[0m\u001b[0marray\u001b[0m\u001b[0;34m(\u001b[0m\u001b[0;34m[\u001b[0m\u001b[0;36m0\u001b[0m\u001b[0;34m,\u001b[0m \u001b[0;36m2\u001b[0m\u001b[0;34m,\u001b[0m \u001b[0;36m1\u001b[0m\u001b[0;34m]\u001b[0m\u001b[0;34m)\u001b[0m\u001b[0;34m]\u001b[0m\u001b[0;34m\u001b[0m\u001b[0;34m\u001b[0m\u001b[0m\n\u001b[0m",
      "\u001b[0;31mNameError\u001b[0m: name 'arr' is not defined"
     ]
    }
   ],
   "source": [
    "arr[np.array([0, 2, 1])]"
   ]
  },
  {
   "cell_type": "code",
   "execution_count": 25,
   "metadata": {
    "execution": {
     "iopub.execute_input": "2021-02-11T07:42:25.803392Z",
     "iopub.status.busy": "2021-02-11T07:42:25.802726Z",
     "iopub.status.idle": "2021-02-11T07:42:25.817013Z",
     "shell.execute_reply": "2021-02-11T07:42:25.817698Z"
    },
    "papermill": {
     "duration": 0.051932,
     "end_time": "2021-02-11T07:42:25.817900",
     "exception": false,
     "start_time": "2021-02-11T07:42:25.765968",
     "status": "completed"
    },
    "tags": []
   },
   "outputs": [
    {
     "ename": "NameError",
     "evalue": "name 'arr' is not defined",
     "output_type": "error",
     "traceback": [
      "\u001b[0;31m---------------------------------------------------------------------------\u001b[0m",
      "\u001b[0;31mNameError\u001b[0m                                 Traceback (most recent call last)",
      "\u001b[0;32m<ipython-input-25-9dd22960a1d5>\u001b[0m in \u001b[0;36m<module>\u001b[0;34m\u001b[0m\n\u001b[0;32m----> 1\u001b[0;31m \u001b[0marr\u001b[0m\u001b[0;34m[\u001b[0m\u001b[0marr\u001b[0m\u001b[0;34m[\u001b[0m\u001b[0;34m:\u001b[0m\u001b[0;34m,\u001b[0m \u001b[0;36m0\u001b[0m\u001b[0;34m]\u001b[0m\u001b[0;34m.\u001b[0m\u001b[0margsort\u001b[0m\u001b[0;34m(\u001b[0m\u001b[0;34m)\u001b[0m\u001b[0;34m]\u001b[0m\u001b[0;34m[\u001b[0m\u001b[0;34m:\u001b[0m\u001b[0;34m:\u001b[0m\u001b[0;34m-\u001b[0m\u001b[0;36m1\u001b[0m\u001b[0;34m,\u001b[0m \u001b[0;36m0\u001b[0m\u001b[0;34m]\u001b[0m\u001b[0;34m\u001b[0m\u001b[0;34m\u001b[0m\u001b[0m\n\u001b[0m",
      "\u001b[0;31mNameError\u001b[0m: name 'arr' is not defined"
     ]
    }
   ],
   "source": [
    "arr[arr[:, 0].argsort()][::-1, 0]"
   ]
  },
  {
   "cell_type": "code",
   "execution_count": 26,
   "metadata": {
    "execution": {
     "iopub.execute_input": "2021-02-11T07:42:25.889708Z",
     "iopub.status.busy": "2021-02-11T07:42:25.889056Z",
     "iopub.status.idle": "2021-02-11T07:42:25.904072Z",
     "shell.execute_reply": "2021-02-11T07:42:25.903501Z"
    },
    "papermill": {
     "duration": 0.052282,
     "end_time": "2021-02-11T07:42:25.904269",
     "exception": false,
     "start_time": "2021-02-11T07:42:25.851987",
     "status": "completed"
    },
    "tags": []
   },
   "outputs": [
    {
     "ename": "NameError",
     "evalue": "name 'arr' is not defined",
     "output_type": "error",
     "traceback": [
      "\u001b[0;31m---------------------------------------------------------------------------\u001b[0m",
      "\u001b[0;31mNameError\u001b[0m                                 Traceback (most recent call last)",
      "\u001b[0;32m<ipython-input-26-83e9088732ab>\u001b[0m in \u001b[0;36m<module>\u001b[0;34m\u001b[0m\n\u001b[0;32m----> 1\u001b[0;31m \u001b[0marr\u001b[0m\u001b[0;34m[\u001b[0m\u001b[0;34m:\u001b[0m\u001b[0;34m,\u001b[0m \u001b[0;36m1\u001b[0m\u001b[0;34m]\u001b[0m\u001b[0;34m.\u001b[0m\u001b[0margsort\u001b[0m\u001b[0;34m(\u001b[0m\u001b[0;34m)\u001b[0m\u001b[0;34m\u001b[0m\u001b[0;34m\u001b[0m\u001b[0m\n\u001b[0m",
      "\u001b[0;31mNameError\u001b[0m: name 'arr' is not defined"
     ]
    }
   ],
   "source": [
    "arr[:, 1].argsort()"
   ]
  },
  {
   "cell_type": "code",
   "execution_count": 27,
   "metadata": {
    "execution": {
     "iopub.execute_input": "2021-02-11T07:42:25.991068Z",
     "iopub.status.busy": "2021-02-11T07:42:25.990235Z",
     "iopub.status.idle": "2021-02-11T07:42:25.993729Z",
     "shell.execute_reply": "2021-02-11T07:42:25.994259Z"
    },
    "papermill": {
     "duration": 0.053825,
     "end_time": "2021-02-11T07:42:25.994477",
     "exception": false,
     "start_time": "2021-02-11T07:42:25.940652",
     "status": "completed"
    },
    "tags": []
   },
   "outputs": [
    {
     "ename": "NameError",
     "evalue": "name 'arr' is not defined",
     "output_type": "error",
     "traceback": [
      "\u001b[0;31m---------------------------------------------------------------------------\u001b[0m",
      "\u001b[0;31mNameError\u001b[0m                                 Traceback (most recent call last)",
      "\u001b[0;32m<ipython-input-27-27ec414fdd95>\u001b[0m in \u001b[0;36m<module>\u001b[0;34m\u001b[0m\n\u001b[0;32m----> 1\u001b[0;31m \u001b[0marr\u001b[0m\u001b[0;34m[\u001b[0m\u001b[0marr\u001b[0m\u001b[0;34m[\u001b[0m\u001b[0;34m:\u001b[0m\u001b[0;34m,\u001b[0m \u001b[0;36m1\u001b[0m\u001b[0;34m]\u001b[0m\u001b[0;34m.\u001b[0m\u001b[0margsort\u001b[0m\u001b[0;34m(\u001b[0m\u001b[0;34m)\u001b[0m\u001b[0;34m]\u001b[0m\u001b[0;34m[\u001b[0m\u001b[0;34m:\u001b[0m\u001b[0;34m:\u001b[0m\u001b[0;34m-\u001b[0m\u001b[0;36m1\u001b[0m\u001b[0;34m,\u001b[0m \u001b[0;36m0\u001b[0m\u001b[0;34m]\u001b[0m\u001b[0;34m\u001b[0m\u001b[0;34m\u001b[0m\u001b[0m\n\u001b[0m",
      "\u001b[0;31mNameError\u001b[0m: name 'arr' is not defined"
     ]
    }
   ],
   "source": [
    "arr[arr[:, 1].argsort()][::-1, 0]"
   ]
  },
  {
   "cell_type": "markdown",
   "metadata": {
    "tags": [
     "papermill-error-cell-tag"
    ]
   },
   "source": [
    "<span id=\"papermill-error-cell\" style=\"color:red; font-family:Helvetica Neue, Helvetica, Arial, sans-serif; font-size:2em;\">Execution using papermill encountered an exception here and stopped:</span>"
   ]
  },
  {
   "cell_type": "code",
   "execution_count": 28,
   "metadata": {
    "execution": {
     "iopub.execute_input": "2021-02-11T07:42:26.068775Z",
     "iopub.status.busy": "2021-02-11T07:42:26.068016Z",
     "iopub.status.idle": "2021-02-11T07:42:26.081816Z",
     "shell.execute_reply": "2021-02-11T07:42:26.082415Z"
    },
    "papermill": {
     "duration": 0.052587,
     "end_time": "2021-02-11T07:42:26.082643",
     "exception": false,
     "start_time": "2021-02-11T07:42:26.030056",
     "status": "completed"
    },
    "tags": []
   },
   "outputs": [
    {
     "ename": "NameError",
     "evalue": "name 'y_true' is not defined",
     "output_type": "error",
     "traceback": [
      "\u001b[0;31m---------------------------------------------------------------------------\u001b[0m",
      "\u001b[0;31mNameError\u001b[0m                                 Traceback (most recent call last)",
      "\u001b[0;32m<ipython-input-28-e74232ee477c>\u001b[0m in \u001b[0;36m<module>\u001b[0;34m\u001b[0m\n\u001b[1;32m      1\u001b[0m \u001b[0;31m# 실제 값과 예측 값의 크기가 같은지 확인\u001b[0m\u001b[0;34m\u001b[0m\u001b[0;34m\u001b[0m\u001b[0;34m\u001b[0m\u001b[0m\n\u001b[0;32m----> 2\u001b[0;31m \u001b[0;32massert\u001b[0m \u001b[0my_true\u001b[0m\u001b[0;34m.\u001b[0m\u001b[0mshape\u001b[0m \u001b[0;34m==\u001b[0m \u001b[0my_pred\u001b[0m\u001b[0;34m.\u001b[0m\u001b[0mshape\u001b[0m\u001b[0;34m\u001b[0m\u001b[0;34m\u001b[0m\u001b[0m\n\u001b[0m\u001b[1;32m      3\u001b[0m \u001b[0;31m# 데이터 개수\u001b[0m\u001b[0;34m\u001b[0m\u001b[0;34m\u001b[0m\u001b[0;34m\u001b[0m\u001b[0m\n\u001b[1;32m      4\u001b[0m \u001b[0mn_samples\u001b[0m \u001b[0;34m=\u001b[0m \u001b[0my_true\u001b[0m\u001b[0;34m.\u001b[0m\u001b[0mshape\u001b[0m\u001b[0;34m[\u001b[0m\u001b[0;36m0\u001b[0m\u001b[0;34m]\u001b[0m\u001b[0;34m\u001b[0m\u001b[0;34m\u001b[0m\u001b[0m\n\u001b[1;32m      5\u001b[0m \u001b[0;31m# 실제 값과 예측 값을 함께 배열로 저장\u001b[0m\u001b[0;34m\u001b[0m\u001b[0;34m\u001b[0m\u001b[0;34m\u001b[0m\u001b[0m\n",
      "\u001b[0;31mNameError\u001b[0m: name 'y_true' is not defined"
     ]
    }
   ],
   "source": [
    "# 실제 값과 예측 값의 크기가 같은지 확인\n",
    "assert y_true.shape == y_pred.shape\n",
    "# 데이터 개수\n",
    "n_samples = y_true.shape[0]\n",
    "# 실제 값과 예측 값을 함께 배열로 저장\n",
    "arr = np.array([y_true, y_pred]).transpose()"
   ]
  },
  {
   "cell_type": "code",
   "execution_count": 29,
   "metadata": {
    "execution": {
     "iopub.execute_input": "2021-02-11T07:42:26.158900Z",
     "iopub.status.busy": "2021-02-11T07:42:26.158272Z",
     "iopub.status.idle": "2021-02-11T07:42:26.162318Z",
     "shell.execute_reply": "2021-02-11T07:42:26.162820Z"
    },
    "papermill": {
     "duration": 0.043651,
     "end_time": "2021-02-11T07:42:26.163026",
     "exception": false,
     "start_time": "2021-02-11T07:42:26.119375",
     "status": "completed"
    },
    "tags": []
   },
   "outputs": [],
   "source": [
    "def gini(preds, dtrain):\n",
    "    labels = dtrain.get_label()\n",
    "    return 'gini', eval_gini(labels, preds), True"
   ]
  },
  {
   "cell_type": "code",
   "execution_count": 30,
   "metadata": {
    "execution": {
     "iopub.execute_input": "2021-02-11T07:42:26.240897Z",
     "iopub.status.busy": "2021-02-11T07:42:26.237493Z",
     "iopub.status.idle": "2021-02-11T07:42:26.419584Z",
     "shell.execute_reply": "2021-02-11T07:42:26.420108Z"
    },
    "papermill": {
     "duration": 0.22135,
     "end_time": "2021-02-11T07:42:26.420372",
     "exception": false,
     "start_time": "2021-02-11T07:42:26.199022",
     "status": "completed"
    },
    "tags": []
   },
   "outputs": [
    {
     "data": {
      "text/html": [
       "<style type='text/css'>\n",
       ".datatable table.frame { margin-bottom: 0; }\n",
       ".datatable table.frame thead { border-bottom: none; }\n",
       ".datatable table.frame tr.coltypes td {  color: #FFFFFF;  line-height: 6px;  padding: 0 0.5em;}\n",
       ".datatable .bool    { background: #DDDD99; }\n",
       ".datatable .object  { background: #565656; }\n",
       ".datatable .int     { background: #5D9E5D; }\n",
       ".datatable .float   { background: #4040CC; }\n",
       ".datatable .str     { background: #CC4040; }\n",
       ".datatable .row_index {  background: var(--jp-border-color3);  border-right: 1px solid var(--jp-border-color0);  color: var(--jp-ui-font-color3);  font-size: 9px;}\n",
       ".datatable .frame tr.coltypes .row_index {  background: var(--jp-border-color0);}\n",
       ".datatable th:nth-child(2) { padding-left: 12px; }\n",
       ".datatable .hellipsis {  color: var(--jp-cell-editor-border-color);}\n",
       ".datatable .vellipsis {  background: var(--jp-layout-color0);  color: var(--jp-cell-editor-border-color);}\n",
       ".datatable .na {  color: var(--jp-cell-editor-border-color);  font-size: 80%;}\n",
       ".datatable .footer { font-size: 9px; }\n",
       ".datatable .frame_dimensions {  background: var(--jp-border-color3);  border-top: 1px solid var(--jp-border-color0);  color: var(--jp-ui-font-color3);  display: inline-block;  opacity: 0.6;  padding: 1px 10px 1px 5px;}\n",
       "</style>\n"
      ],
      "text/plain": [
       "<IPython.core.display.HTML object>"
      ]
     },
     "metadata": {},
     "output_type": "display_data"
    }
   ],
   "source": [
    "import lightgbm as lgbm\n",
    "from sklearn.model_selection import StratifiedKFold\n",
    "\n",
    "save_cv = True\n",
    "full_train = False\n",
    "seed_rounds = 3\n",
    "\n",
    "NFOLDS = 5\n",
    "kfold = StratifiedKFold(n_splits=NFOLDS, shuffle=True, random_state=218)\n",
    "\n",
    "num_boost_round = 10000\n",
    "\n",
    "params = {\"objective\": \"binary\",\n",
    "          \"boosting_type\": \"gbdt\",\n",
    "          'metric': 'auc',\n",
    "          \"learning_rate\": 0.01,\n",
    "          \"force_row_wise\": True\n",
    "          }"
   ]
  },
  {
   "cell_type": "code",
   "execution_count": 31,
   "metadata": {
    "execution": {
     "iopub.execute_input": "2021-02-11T07:42:26.499036Z",
     "iopub.status.busy": "2021-02-11T07:42:26.498056Z",
     "iopub.status.idle": "2021-02-11T07:42:26.502734Z",
     "shell.execute_reply": "2021-02-11T07:42:26.503280Z"
    },
    "papermill": {
     "duration": 0.045943,
     "end_time": "2021-02-11T07:42:26.503496",
     "exception": false,
     "start_time": "2021-02-11T07:42:26.457553",
     "status": "completed"
    },
    "tags": []
   },
   "outputs": [],
   "source": [
    "bayes_params = {\n",
    "    'num_leaves':(25, 35), \n",
    "    'feature_fraction': (0.6, 0.9)\n",
    "}"
   ]
  },
  {
   "cell_type": "code",
   "execution_count": 32,
   "metadata": {
    "execution": {
     "iopub.execute_input": "2021-02-11T07:42:26.582207Z",
     "iopub.status.busy": "2021-02-11T07:42:26.581194Z",
     "iopub.status.idle": "2021-02-11T07:42:26.584784Z",
     "shell.execute_reply": "2021-02-11T07:42:26.585372Z"
    },
    "papermill": {
     "duration": 0.044795,
     "end_time": "2021-02-11T07:42:26.585575",
     "exception": false,
     "start_time": "2021-02-11T07:42:26.540780",
     "status": "completed"
    },
    "tags": []
   },
   "outputs": [],
   "source": [
    "# from sklearn.model_selection import train_test_split\n",
    "\n",
    "# X_train, X_test, y_train, y_test = train_test_split(X, y, test_size=0.2, random_state=0)\n",
    "\n",
    "# dtrain = lgbm.Dataset(X_train, y_train)\n",
    "# dtest = lgbm.Dataset(X_test, y_test)"
   ]
  },
  {
   "cell_type": "code",
   "execution_count": 33,
   "metadata": {
    "execution": {
     "iopub.execute_input": "2021-02-11T07:42:26.663653Z",
     "iopub.status.busy": "2021-02-11T07:42:26.662659Z",
     "iopub.status.idle": "2021-02-11T07:42:26.670419Z",
     "shell.execute_reply": "2021-02-11T07:42:26.670887Z"
    },
    "papermill": {
     "duration": 0.048711,
     "end_time": "2021-02-11T07:42:26.671102",
     "exception": false,
     "start_time": "2021-02-11T07:42:26.622391",
     "status": "completed"
    },
    "tags": []
   },
   "outputs": [],
   "source": [
    "import lightgbm as lgbm\n",
    "\n",
    "def lgb_eval(num_leaves, feature_fraction):\n",
    "    \n",
    "    params = {\n",
    "        \"n_estimator\":200,\n",
    "        'num_leaves':int(round(num_leaves)), \n",
    "        'feature_fraction': feature_fraction,\n",
    "        'verbosity': -1\n",
    "    }\n",
    "    print(\"params:\", params)    \n",
    "    lgb_model = lgbm.train(params, dtrain,  \n",
    "                       valid_sets=dtest, \n",
    "                       feval=gini, \n",
    "                       num_boost_round=1000,\n",
    "                       verbose_eval=100, early_stopping_rounds=150)\n",
    "    \n",
    "    preds = lgb_model.predict(X_test, num_iteration=lgb_model.best_iteration)\n",
    "    \n",
    "    gini_preds = eval_gini(y_test, preds)\n",
    "    print('gini:', gini_preds)\n",
    "    return gini_preds"
   ]
  },
  {
   "cell_type": "code",
   "execution_count": 34,
   "metadata": {
    "execution": {
     "iopub.execute_input": "2021-02-11T07:42:26.749479Z",
     "iopub.status.busy": "2021-02-11T07:42:26.748801Z",
     "iopub.status.idle": "2021-02-11T07:42:26.752241Z",
     "shell.execute_reply": "2021-02-11T07:42:26.752748Z"
    },
    "papermill": {
     "duration": 0.044047,
     "end_time": "2021-02-11T07:42:26.752915",
     "exception": false,
     "start_time": "2021-02-11T07:42:26.708868",
     "status": "completed"
    },
    "tags": []
   },
   "outputs": [],
   "source": [
    "# from bayes_opt import BayesianOptimization\n",
    "\n",
    "# BO_lgb = BayesianOptimization(lgb_eval, bayes_params, random_state=0)"
   ]
  },
  {
   "cell_type": "code",
   "execution_count": 35,
   "metadata": {
    "execution": {
     "iopub.execute_input": "2021-02-11T07:42:26.833782Z",
     "iopub.status.busy": "2021-02-11T07:42:26.833148Z",
     "iopub.status.idle": "2021-02-11T07:42:26.837163Z",
     "shell.execute_reply": "2021-02-11T07:42:26.836521Z"
    },
    "papermill": {
     "duration": 0.046455,
     "end_time": "2021-02-11T07:42:26.837303",
     "exception": false,
     "start_time": "2021-02-11T07:42:26.790848",
     "status": "completed"
    },
    "tags": []
   },
   "outputs": [],
   "source": [
    "# BO_lgb.maximize(init_points=5, n_iter=10)"
   ]
  },
  {
   "cell_type": "code",
   "execution_count": 36,
   "metadata": {
    "execution": {
     "iopub.execute_input": "2021-02-11T07:42:26.916016Z",
     "iopub.status.busy": "2021-02-11T07:42:26.915302Z",
     "iopub.status.idle": "2021-02-11T07:42:26.918500Z",
     "shell.execute_reply": "2021-02-11T07:42:26.917800Z"
    },
    "papermill": {
     "duration": 0.044682,
     "end_time": "2021-02-11T07:42:26.918638",
     "exception": false,
     "start_time": "2021-02-11T07:42:26.873956",
     "status": "completed"
    },
    "tags": []
   },
   "outputs": [],
   "source": [
    "# BO_lgb.max"
   ]
  },
  {
   "cell_type": "code",
   "execution_count": 37,
   "metadata": {
    "execution": {
     "iopub.execute_input": "2021-02-11T07:42:27.004416Z",
     "iopub.status.busy": "2021-02-11T07:42:27.001981Z",
     "iopub.status.idle": "2021-02-11T07:43:45.051139Z",
     "shell.execute_reply": "2021-02-11T07:43:45.050198Z"
    },
    "papermill": {
     "duration": 78.095993,
     "end_time": "2021-02-11T07:43:45.051359",
     "exception": false,
     "start_time": "2021-02-11T07:42:26.955366",
     "status": "completed"
    },
    "tags": []
   },
   "outputs": [
    {
     "name": "stdout",
     "output_type": "stream",
     "text": [
      "[LightGBM] [Info] Number of positive: 17355, number of negative: 458814\n",
      "[LightGBM] [Info] Total Bins 1096\n",
      "[LightGBM] [Info] Number of data points in the train set: 476169, number of used features: 200\n",
      "[LightGBM] [Info] [binary:BoostFromScore]: pavg=0.036447 -> initscore=-3.274764\n",
      "[LightGBM] [Info] Start training from score -3.274764\n",
      "Training until validation scores don't improve for 150 rounds\n",
      "[100]\tvalid_0's auc: 0.631949\tvalid_0's gini: 0.263896\n",
      "[200]\tvalid_0's auc: 0.638502\tvalid_0's gini: 0.277005\n",
      "[300]\tvalid_0's auc: 0.641784\tvalid_0's gini: 0.283569\n",
      "[400]\tvalid_0's auc: 0.643846\tvalid_0's gini: 0.287692\n",
      "[500]\tvalid_0's auc: 0.645261\tvalid_0's gini: 0.290522\n",
      "[600]\tvalid_0's auc: 0.64579\tvalid_0's gini: 0.291581\n",
      "[700]\tvalid_0's auc: 0.645713\tvalid_0's gini: 0.291427\n",
      "Early stopping, best iteration is:\n",
      "[612]\tvalid_0's auc: 0.645852\tvalid_0's gini: 0.291705\n",
      "0.29170498822890845\n",
      "cv score:\n",
      "0.009256676448323089\n",
      "current score: 0.009256676448323089\n",
      "[0.29170498822890845]\n",
      "[612] 612.0\n"
     ]
    }
   ],
   "source": [
    "x_score = []\n",
    "\n",
    "cv_train = np.zeros(X.shape[0])\n",
    "cv_pred = np.zeros(X_test.shape[0])\n",
    "\n",
    "best_iters = []\n",
    "fold_scores = []\n",
    "\n",
    "for train_idx, valid_idx in kfold.split(X, y):\n",
    "    X_train, y_train = X[train_idx], y[train_idx]\n",
    "    X_valid, y_valid = X[valid_idx], y[valid_idx]\n",
    "\n",
    "    dtrain = lgbm.Dataset(X_train, y_train)\n",
    "    dvalid = lgbm.Dataset(X_valid, y_valid)\n",
    "\n",
    "    lgb_model = lgbm.train(params, dtrain,  \n",
    "                           valid_sets=dvalid, \n",
    "                           feval=gini, \n",
    "                           num_boost_round=1400,\n",
    "                           verbose_eval=100, early_stopping_rounds=150)\n",
    "    \n",
    "    best_iters.append(lgb_model.best_iteration)\n",
    "    cv_pred += lgb_model.predict(X_test, num_iteration=lgb_model.best_iteration)\n",
    "    cv_train[valid_idx] += lgb_model.predict(X_valid)\n",
    "\n",
    "    score = eval_gini(y_valid, cv_train[valid_idx])\n",
    "    print(score)\n",
    "    fold_scores.append(score)\n",
    "    break\n",
    "\n",
    "cv_pred /= NFOLDS\n",
    "\n",
    "print(\"cv score:\")\n",
    "print(eval_gini(y, cv_train))\n",
    "print(\"current score:\", eval_gini(y, cv_train))\n",
    "print(fold_scores)\n",
    "print(best_iters, np.mean(best_iters))\n",
    "\n",
    "x_score.append(eval_gini(y, cv_train))"
   ]
  },
  {
   "cell_type": "code",
   "execution_count": 38,
   "metadata": {
    "execution": {
     "iopub.execute_input": "2021-02-11T07:43:45.143138Z",
     "iopub.status.busy": "2021-02-11T07:43:45.142445Z",
     "iopub.status.idle": "2021-02-11T07:43:45.145679Z",
     "shell.execute_reply": "2021-02-11T07:43:45.145167Z"
    },
    "papermill": {
     "duration": 0.053155,
     "end_time": "2021-02-11T07:43:45.145835",
     "exception": false,
     "start_time": "2021-02-11T07:43:45.092680",
     "status": "completed"
    },
    "tags": []
   },
   "outputs": [
    {
     "name": "stdout",
     "output_type": "stream",
     "text": [
      "[0.009256676448323089]\n"
     ]
    }
   ],
   "source": [
    "print(x_score)"
   ]
  },
  {
   "cell_type": "code",
   "execution_count": 39,
   "metadata": {
    "execution": {
     "iopub.execute_input": "2021-02-11T07:43:45.234412Z",
     "iopub.status.busy": "2021-02-11T07:43:45.233701Z",
     "iopub.status.idle": "2021-02-11T07:43:49.068690Z",
     "shell.execute_reply": "2021-02-11T07:43:49.069223Z"
    },
    "papermill": {
     "duration": 3.880695,
     "end_time": "2021-02-11T07:43:49.069456",
     "exception": false,
     "start_time": "2021-02-11T07:43:45.188761",
     "status": "completed"
    },
    "tags": []
   },
   "outputs": [],
   "source": [
    "submission['target'] = cv_pred\n",
    "submission.to_csv('submission.csv')"
   ]
  }
 ],
 "metadata": {
  "kernelspec": {
   "display_name": "Python 3",
   "language": "python",
   "name": "python3"
  },
  "language_info": {
   "codemirror_mode": {
    "name": "ipython",
    "version": 3
   },
   "file_extension": ".py",
   "mimetype": "text/x-python",
   "name": "python",
   "nbconvert_exporter": "python",
   "pygments_lexer": "ipython3",
   "version": "3.7.9"
  },
  "papermill": {
   "default_parameters": {},
   "duration": 112.965355,
   "end_time": "2021-02-11T07:43:51.011916",
   "environment_variables": {},
   "exception": null,
   "input_path": "__notebook__.ipynb",
   "output_path": "__notebook__.ipynb",
   "parameters": {},
   "start_time": "2021-02-11T07:41:58.046561",
   "version": "2.2.2"
  }
 },
 "nbformat": 4,
 "nbformat_minor": 4
}
