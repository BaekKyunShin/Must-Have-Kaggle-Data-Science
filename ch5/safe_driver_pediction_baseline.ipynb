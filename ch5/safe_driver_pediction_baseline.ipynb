{
 "cells": [
  {
   "cell_type": "markdown",
   "id": "defined-engineering",
   "metadata": {
    "papermill": {
     "duration": 0.01704,
     "end_time": "2021-05-06T09:09:27.867622",
     "exception": false,
     "start_time": "2021-05-06T09:09:27.850582",
     "status": "completed"
    },
    "tags": []
   },
   "source": [
    "# 5.3 안전 운전자 예측 경진대회 베이스라인 모델"
   ]
  },
  {
   "cell_type": "markdown",
   "id": "particular-ideal",
   "metadata": {
    "papermill": {
     "duration": 0.015374,
     "end_time": "2021-05-06T09:09:27.898878",
     "exception": false,
     "start_time": "2021-05-06T09:09:27.883504",
     "status": "completed"
    },
    "tags": []
   },
   "source": [
    "- [안전 운전자 예측 경진대회 링크](https://www.kaggle.com/c/porto-seguro-safe-driver-prediction)\n",
    "- [베이스라인 노트북 참고 링크](https://www.kaggle.com/xiaozhouwang/2nd-place-lightgbm-solution)"
   ]
  },
  {
   "cell_type": "code",
   "execution_count": 1,
   "id": "vital-struggle",
   "metadata": {
    "execution": {
     "iopub.execute_input": "2021-05-06T09:09:27.940151Z",
     "iopub.status.busy": "2021-05-06T09:09:27.938693Z",
     "iopub.status.idle": "2021-05-06T09:09:38.895042Z",
     "shell.execute_reply": "2021-05-06T09:09:38.894250Z"
    },
    "papermill": {
     "duration": 10.980633,
     "end_time": "2021-05-06T09:09:38.895252",
     "exception": false,
     "start_time": "2021-05-06T09:09:27.914619",
     "status": "completed"
    },
    "tags": []
   },
   "outputs": [],
   "source": [
    "# ch5/safe_driver_prediction_baseline.ipynb\n",
    "\n",
    "import numpy as np\n",
    "import pandas as pd\n",
    "\n",
    "# 데이터 경로\n",
    "data_path = '/kaggle/input/porto-seguro-safe-driver-prediction/'\n",
    "\n",
    "train = pd.read_csv(data_path + 'train.csv', index_col='id')\n",
    "test = pd.read_csv(data_path + 'test.csv', index_col='id')\n",
    "submission = pd.read_csv(data_path + 'sample_submission.csv', index_col='id')"
   ]
  },
  {
   "cell_type": "markdown",
   "id": "checked-paint",
   "metadata": {
    "papermill": {
     "duration": 0.015973,
     "end_time": "2021-05-06T09:09:38.927390",
     "exception": false,
     "start_time": "2021-05-06T09:09:38.911417",
     "status": "completed"
    },
    "tags": []
   },
   "source": [
    "## 5.3.1 피처 엔지니어링"
   ]
  },
  {
   "cell_type": "code",
   "execution_count": 2,
   "id": "compressed-retirement",
   "metadata": {
    "execution": {
     "iopub.execute_input": "2021-05-06T09:09:38.980438Z",
     "iopub.status.busy": "2021-05-06T09:09:38.978674Z",
     "iopub.status.idle": "2021-05-06T09:09:40.267151Z",
     "shell.execute_reply": "2021-05-06T09:09:40.266299Z"
    },
    "papermill": {
     "duration": 1.318877,
     "end_time": "2021-05-06T09:09:40.267307",
     "exception": false,
     "start_time": "2021-05-06T09:09:38.948430",
     "status": "completed"
    },
    "tags": []
   },
   "outputs": [],
   "source": [
    "all_data = pd.concat([train, test], ignore_index=True)\n",
    "all_data = all_data.drop('target', axis=1) # 타깃 값 제거"
   ]
  },
  {
   "cell_type": "code",
   "execution_count": 3,
   "id": "sufficient-closing",
   "metadata": {
    "execution": {
     "iopub.execute_input": "2021-05-06T09:09:40.303187Z",
     "iopub.status.busy": "2021-05-06T09:09:40.302518Z",
     "iopub.status.idle": "2021-05-06T09:09:40.311511Z",
     "shell.execute_reply": "2021-05-06T09:09:40.310916Z"
    },
    "papermill": {
     "duration": 0.028073,
     "end_time": "2021-05-06T09:09:40.311646",
     "exception": false,
     "start_time": "2021-05-06T09:09:40.283573",
     "status": "completed"
    },
    "tags": []
   },
   "outputs": [
    {
     "data": {
      "text/plain": [
       "Index(['ps_ind_01', 'ps_ind_02_cat', 'ps_ind_03', 'ps_ind_04_cat',\n",
       "       'ps_ind_05_cat', 'ps_ind_06_bin', 'ps_ind_07_bin', 'ps_ind_08_bin',\n",
       "       'ps_ind_09_bin', 'ps_ind_10_bin', 'ps_ind_11_bin', 'ps_ind_12_bin',\n",
       "       'ps_ind_13_bin', 'ps_ind_14', 'ps_ind_15', 'ps_ind_16_bin',\n",
       "       'ps_ind_17_bin', 'ps_ind_18_bin', 'ps_reg_01', 'ps_reg_02', 'ps_reg_03',\n",
       "       'ps_car_01_cat', 'ps_car_02_cat', 'ps_car_03_cat', 'ps_car_04_cat',\n",
       "       'ps_car_05_cat', 'ps_car_06_cat', 'ps_car_07_cat', 'ps_car_08_cat',\n",
       "       'ps_car_09_cat', 'ps_car_10_cat', 'ps_car_11_cat', 'ps_car_11',\n",
       "       'ps_car_12', 'ps_car_13', 'ps_car_14', 'ps_car_15', 'ps_calc_01',\n",
       "       'ps_calc_02', 'ps_calc_03', 'ps_calc_04', 'ps_calc_05', 'ps_calc_06',\n",
       "       'ps_calc_07', 'ps_calc_08', 'ps_calc_09', 'ps_calc_10', 'ps_calc_11',\n",
       "       'ps_calc_12', 'ps_calc_13', 'ps_calc_14', 'ps_calc_15_bin',\n",
       "       'ps_calc_16_bin', 'ps_calc_17_bin', 'ps_calc_18_bin', 'ps_calc_19_bin',\n",
       "       'ps_calc_20_bin'],\n",
       "      dtype='object')"
      ]
     },
     "execution_count": 3,
     "metadata": {},
     "output_type": "execute_result"
    }
   ],
   "source": [
    "all_features = all_data.columns # 전체 피처\n",
    "all_features"
   ]
  },
  {
   "cell_type": "markdown",
   "id": "induced-timeline",
   "metadata": {
    "papermill": {
     "duration": 0.016055,
     "end_time": "2021-05-06T09:09:40.344764",
     "exception": false,
     "start_time": "2021-05-06T09:09:40.328709",
     "status": "completed"
    },
    "tags": []
   },
   "source": [
    "### 명목형 피처 원-핫 인코딩"
   ]
  },
  {
   "cell_type": "code",
   "execution_count": 4,
   "id": "extended-giving",
   "metadata": {
    "execution": {
     "iopub.execute_input": "2021-05-06T09:09:40.383340Z",
     "iopub.status.busy": "2021-05-06T09:09:40.382505Z",
     "iopub.status.idle": "2021-05-06T09:09:43.551483Z",
     "shell.execute_reply": "2021-05-06T09:09:43.550876Z"
    },
    "papermill": {
     "duration": 3.190461,
     "end_time": "2021-05-06T09:09:43.551618",
     "exception": false,
     "start_time": "2021-05-06T09:09:40.361157",
     "status": "completed"
    },
    "tags": []
   },
   "outputs": [
    {
     "data": {
      "text/plain": [
       "<1488028x184 sparse matrix of type '<class 'numpy.float64'>'\n",
       "\twith 20832392 stored elements in Compressed Sparse Row format>"
      ]
     },
     "execution_count": 4,
     "metadata": {},
     "output_type": "execute_result"
    }
   ],
   "source": [
    "from sklearn.preprocessing import OneHotEncoder\n",
    "\n",
    "# 명목형 피처 추출\n",
    "cat_features = [feature for feature in all_features if 'cat' in feature] \n",
    "\n",
    "onehot_encoder = OneHotEncoder() # 원-핫 인코더 객체 생성\n",
    "# 인코딩\n",
    "encoded_cat_matrix = onehot_encoder.fit_transform(all_data[cat_features]) \n",
    "\n",
    "encoded_cat_matrix"
   ]
  },
  {
   "cell_type": "markdown",
   "id": "drawn-cooler",
   "metadata": {
    "papermill": {
     "duration": 0.016697,
     "end_time": "2021-05-06T09:09:43.585322",
     "exception": false,
     "start_time": "2021-05-06T09:09:43.568625",
     "status": "completed"
    },
    "tags": []
   },
   "source": [
    "### 필요 없는 피처 제거"
   ]
  },
  {
   "cell_type": "code",
   "execution_count": 5,
   "id": "plastic-violation",
   "metadata": {
    "execution": {
     "iopub.execute_input": "2021-05-06T09:09:43.625475Z",
     "iopub.status.busy": "2021-05-06T09:09:43.624452Z",
     "iopub.status.idle": "2021-05-06T09:09:43.627456Z",
     "shell.execute_reply": "2021-05-06T09:09:43.627982Z"
    },
    "papermill": {
     "duration": 0.025892,
     "end_time": "2021-05-06T09:09:43.628154",
     "exception": false,
     "start_time": "2021-05-06T09:09:43.602262",
     "status": "completed"
    },
    "tags": []
   },
   "outputs": [],
   "source": [
    "# 추가로 제거할 피처\n",
    "drop_features = ['ps_ind_14', 'ps_ind_10_bin','ps_ind_11_bin', \n",
    "                 'ps_ind_12_bin','ps_ind_13_bin','ps_car_14']\n",
    "\n",
    "# '1) 명목형 피처, 2) calc 분류의 피처, 3) 추가 제거할 피처'를 제외한 피처\n",
    "remaining_features = [feature for feature in all_features \n",
    "                      if ('cat' not in feature and \n",
    "                          'calc' not in feature and \n",
    "                          feature not in drop_features)]"
   ]
  },
  {
   "cell_type": "code",
   "execution_count": 6,
   "id": "sorted-tradition",
   "metadata": {
    "execution": {
     "iopub.execute_input": "2021-05-06T09:09:43.665410Z",
     "iopub.status.busy": "2021-05-06T09:09:43.664755Z",
     "iopub.status.idle": "2021-05-06T09:09:46.016619Z",
     "shell.execute_reply": "2021-05-06T09:09:46.017192Z"
    },
    "papermill": {
     "duration": 2.372243,
     "end_time": "2021-05-06T09:09:46.017399",
     "exception": false,
     "start_time": "2021-05-06T09:09:43.645156",
     "status": "completed"
    },
    "tags": []
   },
   "outputs": [],
   "source": [
    "from scipy import sparse\n",
    "\n",
    "all_data_sprs = sparse.hstack([sparse.csr_matrix(all_data[remaining_features]),\n",
    "                               encoded_cat_matrix],\n",
    "                              format='csr')"
   ]
  },
  {
   "cell_type": "markdown",
   "id": "particular-router",
   "metadata": {
    "papermill": {
     "duration": 0.016894,
     "end_time": "2021-05-06T09:09:46.051792",
     "exception": false,
     "start_time": "2021-05-06T09:09:46.034898",
     "status": "completed"
    },
    "tags": []
   },
   "source": [
    "### 데이터 나누기"
   ]
  },
  {
   "cell_type": "code",
   "execution_count": 7,
   "id": "transparent-beatles",
   "metadata": {
    "execution": {
     "iopub.execute_input": "2021-05-06T09:09:46.090623Z",
     "iopub.status.busy": "2021-05-06T09:09:46.089850Z",
     "iopub.status.idle": "2021-05-06T09:09:46.699771Z",
     "shell.execute_reply": "2021-05-06T09:09:46.700289Z"
    },
    "papermill": {
     "duration": 0.631324,
     "end_time": "2021-05-06T09:09:46.700488",
     "exception": false,
     "start_time": "2021-05-06T09:09:46.069164",
     "status": "completed"
    },
    "tags": []
   },
   "outputs": [],
   "source": [
    "num_train = len(train) # 훈련 데이터 개수\n",
    "\n",
    "# 훈련 데이터와 테스트 데이터 나누기\n",
    "X = all_data_sprs[:num_train]\n",
    "X_test = all_data_sprs[num_train:]\n",
    "\n",
    "y = train['target'].values"
   ]
  },
  {
   "cell_type": "markdown",
   "id": "contained-triangle",
   "metadata": {
    "papermill": {
     "duration": 0.017501,
     "end_time": "2021-05-06T09:09:46.735857",
     "exception": false,
     "start_time": "2021-05-06T09:09:46.718356",
     "status": "completed"
    },
    "tags": []
   },
   "source": [
    "## 5.3.2 평가지표 계산 함수 작성"
   ]
  },
  {
   "cell_type": "code",
   "execution_count": 8,
   "id": "passive-nelson",
   "metadata": {
    "execution": {
     "iopub.execute_input": "2021-05-06T09:09:46.779717Z",
     "iopub.status.busy": "2021-05-06T09:09:46.778800Z",
     "iopub.status.idle": "2021-05-06T09:09:46.782305Z",
     "shell.execute_reply": "2021-05-06T09:09:46.781753Z"
    },
    "papermill": {
     "duration": 0.029034,
     "end_time": "2021-05-06T09:09:46.782448",
     "exception": false,
     "start_time": "2021-05-06T09:09:46.753414",
     "status": "completed"
    },
    "tags": []
   },
   "outputs": [],
   "source": [
    "def eval_gini(y_true, y_pred):\n",
    "    # 실제 값과 예측 값의 크기가 같은지 확인 (값이 다르면 오류 발생)\n",
    "    assert y_true.shape == y_pred.shape\n",
    "\n",
    "    n_samples = y_true.shape[0] # 데이터 개수\n",
    "    L_mid = np.linspace(1 / n_samples, 1, n_samples) # 대각선 값\n",
    "\n",
    "    # 1) 예측 값에 대한 지니계수\n",
    "    pred_order = y_true[y_pred.argsort()] # y_pred 크기순으로 y_true 값 정렬\n",
    "    L_pred = np.cumsum(pred_order) / np.sum(pred_order) # 로렌츠 곡선\n",
    "    G_pred = np.sum(L_mid - L_pred)# 예측 값에 대한 지니계수\n",
    "\n",
    "    # 2) 예측이 완벽할 때 지니계수\n",
    "    true_order = y_true[y_true.argsort()] # y_true 크기순으로 y_true 값 정렬\n",
    "    L_true = np.cumsum(true_order) / np.sum(true_order) # 로렌츠 곡선\n",
    "    G_true = np.sum(L_mid - L_true) # 예측이 완벽할 때 지니계수\n",
    "\n",
    "    # 정규화된 지니계수\n",
    "    return G_pred / G_true"
   ]
  },
  {
   "cell_type": "code",
   "execution_count": 9,
   "id": "judicial-douglas",
   "metadata": {
    "execution": {
     "iopub.execute_input": "2021-05-06T09:09:46.823302Z",
     "iopub.status.busy": "2021-05-06T09:09:46.822582Z",
     "iopub.status.idle": "2021-05-06T09:09:46.826055Z",
     "shell.execute_reply": "2021-05-06T09:09:46.825414Z"
    },
    "papermill": {
     "duration": 0.026036,
     "end_time": "2021-05-06T09:09:46.826194",
     "exception": false,
     "start_time": "2021-05-06T09:09:46.800158",
     "status": "completed"
    },
    "tags": []
   },
   "outputs": [],
   "source": [
    "def gini(preds, dtrain):\n",
    "    labels = dtrain.get_label()\n",
    "    return 'gini', eval_gini(labels, preds), True # 반환 값"
   ]
  },
  {
   "cell_type": "markdown",
   "id": "employed-shower",
   "metadata": {
    "papermill": {
     "duration": 0.017555,
     "end_time": "2021-05-06T09:09:46.861789",
     "exception": false,
     "start_time": "2021-05-06T09:09:46.844234",
     "status": "completed"
    },
    "tags": []
   },
   "source": [
    "## 5.3.3 모델 훈련 및 예측"
   ]
  },
  {
   "cell_type": "markdown",
   "id": "adopted-hundred",
   "metadata": {
    "papermill": {
     "duration": 0.017399,
     "end_time": "2021-05-06T09:09:46.897164",
     "exception": false,
     "start_time": "2021-05-06T09:09:46.879765",
     "status": "completed"
    },
    "tags": []
   },
   "source": [
    "### OOF 방식으로 LightGBM 훈련"
   ]
  },
  {
   "cell_type": "code",
   "execution_count": 10,
   "id": "explicit-webmaster",
   "metadata": {
    "execution": {
     "iopub.execute_input": "2021-05-06T09:09:46.937876Z",
     "iopub.status.busy": "2021-05-06T09:09:46.937152Z",
     "iopub.status.idle": "2021-05-06T09:09:47.007390Z",
     "shell.execute_reply": "2021-05-06T09:09:47.006670Z"
    },
    "papermill": {
     "duration": 0.092551,
     "end_time": "2021-05-06T09:09:47.007532",
     "exception": false,
     "start_time": "2021-05-06T09:09:46.914981",
     "status": "completed"
    },
    "tags": []
   },
   "outputs": [],
   "source": [
    "from sklearn.model_selection import StratifiedKFold\n",
    "\n",
    "# Stratified K 폴드 교차검증기 생성\n",
    "folds = StratifiedKFold(n_splits=5, shuffle=True, random_state=218)"
   ]
  },
  {
   "cell_type": "code",
   "execution_count": 11,
   "id": "eight-mercury",
   "metadata": {
    "execution": {
     "iopub.execute_input": "2021-05-06T09:09:47.048757Z",
     "iopub.status.busy": "2021-05-06T09:09:47.048090Z",
     "iopub.status.idle": "2021-05-06T09:09:47.051330Z",
     "shell.execute_reply": "2021-05-06T09:09:47.050647Z"
    },
    "papermill": {
     "duration": 0.026111,
     "end_time": "2021-05-06T09:09:47.051463",
     "exception": false,
     "start_time": "2021-05-06T09:09:47.025352",
     "status": "completed"
    },
    "tags": []
   },
   "outputs": [],
   "source": [
    "params = {'objective': 'binary',\n",
    "          'learning_rate': 0.01,\n",
    "          'force_row_wise': True,\n",
    "          'random_state': 218}"
   ]
  },
  {
   "cell_type": "code",
   "execution_count": 12,
   "id": "civic-dress",
   "metadata": {
    "execution": {
     "iopub.execute_input": "2021-05-06T09:09:47.093117Z",
     "iopub.status.busy": "2021-05-06T09:09:47.092383Z",
     "iopub.status.idle": "2021-05-06T09:09:47.097064Z",
     "shell.execute_reply": "2021-05-06T09:09:47.096551Z"
    },
    "papermill": {
     "duration": 0.027832,
     "end_time": "2021-05-06T09:09:47.097200",
     "exception": false,
     "start_time": "2021-05-06T09:09:47.069368",
     "status": "completed"
    },
    "tags": []
   },
   "outputs": [],
   "source": [
    "# OOF 방식으로 훈련된 모델로 검증 데이터 타깃 값을 예측한 확률을 담을 1차원 배열\n",
    "oof_val_preds = np.zeros(X.shape[0]) \n",
    "# OOF 방식으로 훈련된 모델로 테스트 데이터 타깃 값을 예측한 확률을 담을 1차원 배열\n",
    "oof_test_preds = np.zeros(X_test.shape[0]) "
   ]
  },
  {
   "cell_type": "code",
   "execution_count": 13,
   "id": "olive-football",
   "metadata": {
    "execution": {
     "iopub.execute_input": "2021-05-06T09:09:47.143927Z",
     "iopub.status.busy": "2021-05-06T09:09:47.143174Z",
     "iopub.status.idle": "2021-05-06T09:16:11.272463Z",
     "shell.execute_reply": "2021-05-06T09:16:11.273036Z"
    },
    "papermill": {
     "duration": 384.157137,
     "end_time": "2021-05-06T09:16:11.273239",
     "exception": false,
     "start_time": "2021-05-06T09:09:47.116102",
     "status": "completed"
    },
    "tags": []
   },
   "outputs": [
    {
     "data": {
      "text/html": [
       "<style type='text/css'>\n",
       ".datatable table.frame { margin-bottom: 0; }\n",
       ".datatable table.frame thead { border-bottom: none; }\n",
       ".datatable table.frame tr.coltypes td {  color: #FFFFFF;  line-height: 6px;  padding: 0 0.5em;}\n",
       ".datatable .bool    { background: #DDDD99; }\n",
       ".datatable .object  { background: #565656; }\n",
       ".datatable .int     { background: #5D9E5D; }\n",
       ".datatable .float   { background: #4040CC; }\n",
       ".datatable .str     { background: #CC4040; }\n",
       ".datatable .row_index {  background: var(--jp-border-color3);  border-right: 1px solid var(--jp-border-color0);  color: var(--jp-ui-font-color3);  font-size: 9px;}\n",
       ".datatable .frame tr.coltypes .row_index {  background: var(--jp-border-color0);}\n",
       ".datatable th:nth-child(2) { padding-left: 12px; }\n",
       ".datatable .hellipsis {  color: var(--jp-cell-editor-border-color);}\n",
       ".datatable .vellipsis {  background: var(--jp-layout-color0);  color: var(--jp-cell-editor-border-color);}\n",
       ".datatable .na {  color: var(--jp-cell-editor-border-color);  font-size: 80%;}\n",
       ".datatable .footer { font-size: 9px; }\n",
       ".datatable .frame_dimensions {  background: var(--jp-border-color3);  border-top: 1px solid var(--jp-border-color0);  color: var(--jp-ui-font-color3);  display: inline-block;  opacity: 0.6;  padding: 1px 10px 1px 5px;}\n",
       "</style>\n"
      ],
      "text/plain": [
       "<IPython.core.display.HTML object>"
      ]
     },
     "metadata": {},
     "output_type": "display_data"
    },
    {
     "name": "stdout",
     "output_type": "stream",
     "text": [
      "######################################## 폴드 1 / 폴드 5 ########################################\n",
      "[LightGBM] [Info] Number of positive: 17355, number of negative: 458814\n",
      "[LightGBM] [Info] Total Bins 1102\n",
      "[LightGBM] [Info] Number of data points in the train set: 476169, number of used features: 200\n",
      "[LightGBM] [Info] [binary:BoostFromScore]: pavg=0.036447 -> initscore=-3.274764\n",
      "[LightGBM] [Info] Start training from score -3.274764\n",
      "Training until validation scores don't improve for 150 rounds\n",
      "[100]\tvalid_0's binary_logloss: 0.153322\tvalid_0's gini: 0.264139\n",
      "[200]\tvalid_0's binary_logloss: 0.152381\tvalid_0's gini: 0.277458\n",
      "[300]\tvalid_0's binary_logloss: 0.152002\tvalid_0's gini: 0.283312\n",
      "[400]\tvalid_0's binary_logloss: 0.151812\tvalid_0's gini: 0.287055\n",
      "[500]\tvalid_0's binary_logloss: 0.151712\tvalid_0's gini: 0.289339\n",
      "[600]\tvalid_0's binary_logloss: 0.151666\tvalid_0's gini: 0.290372\n",
      "[700]\tvalid_0's binary_logloss: 0.151647\tvalid_0's gini: 0.290712\n",
      "[800]\tvalid_0's binary_logloss: 0.151639\tvalid_0's gini: 0.290843\n",
      "[900]\tvalid_0's binary_logloss: 0.151637\tvalid_0's gini: 0.290972\n",
      "[1000]\tvalid_0's binary_logloss: 0.151637\tvalid_0's gini: 0.290831\n",
      "Early stopping, best iteration is:\n",
      "[882]\tvalid_0's binary_logloss: 0.151635\tvalid_0's gini: 0.29108\n",
      "폴드 1 지니계수: 0.2910801708889048\n",
      "\n",
      "######################################## 폴드 2 / 폴드 5 ########################################\n",
      "[LightGBM] [Info] Number of positive: 17355, number of negative: 458814\n",
      "[LightGBM] [Info] Total Bins 1100\n",
      "[LightGBM] [Info] Number of data points in the train set: 476169, number of used features: 200\n",
      "[LightGBM] [Info] [binary:BoostFromScore]: pavg=0.036447 -> initscore=-3.274764\n",
      "[LightGBM] [Info] Start training from score -3.274764\n",
      "Training until validation scores don't improve for 150 rounds\n",
      "[100]\tvalid_0's binary_logloss: 0.153494\tvalid_0's gini: 0.254031\n",
      "[200]\tvalid_0's binary_logloss: 0.152714\tvalid_0's gini: 0.262883\n",
      "[300]\tvalid_0's binary_logloss: 0.152406\tvalid_0's gini: 0.267462\n",
      "[400]\tvalid_0's binary_logloss: 0.152243\tvalid_0's gini: 0.270588\n",
      "[500]\tvalid_0's binary_logloss: 0.152187\tvalid_0's gini: 0.271784\n",
      "[600]\tvalid_0's binary_logloss: 0.152178\tvalid_0's gini: 0.272152\n",
      "[700]\tvalid_0's binary_logloss: 0.152195\tvalid_0's gini: 0.271582\n",
      "Early stopping, best iteration is:\n",
      "[597]\tvalid_0's binary_logloss: 0.152177\tvalid_0's gini: 0.272189\n",
      "폴드 2 지니계수: 0.2721885703120312\n",
      "\n",
      "######################################## 폴드 3 / 폴드 5 ########################################\n",
      "[LightGBM] [Info] Number of positive: 17356, number of negative: 458814\n",
      "[LightGBM] [Info] Total Bins 1100\n",
      "[LightGBM] [Info] Number of data points in the train set: 476170, number of used features: 200\n",
      "[LightGBM] [Info] [binary:BoostFromScore]: pavg=0.036449 -> initscore=-3.274707\n",
      "[LightGBM] [Info] Start training from score -3.274707\n",
      "Training until validation scores don't improve for 150 rounds\n",
      "[100]\tvalid_0's binary_logloss: 0.153571\tvalid_0's gini: 0.244074\n",
      "[200]\tvalid_0's binary_logloss: 0.152762\tvalid_0's gini: 0.25806\n",
      "[300]\tvalid_0's binary_logloss: 0.15244\tvalid_0's gini: 0.264911\n",
      "[400]\tvalid_0's binary_logloss: 0.152291\tvalid_0's gini: 0.268744\n",
      "[500]\tvalid_0's binary_logloss: 0.152229\tvalid_0's gini: 0.270488\n",
      "[600]\tvalid_0's binary_logloss: 0.152204\tvalid_0's gini: 0.271205\n",
      "[700]\tvalid_0's binary_logloss: 0.152187\tvalid_0's gini: 0.271801\n",
      "[800]\tvalid_0's binary_logloss: 0.152192\tvalid_0's gini: 0.271942\n",
      "Early stopping, best iteration is:\n",
      "[730]\tvalid_0's binary_logloss: 0.152181\tvalid_0's gini: 0.272088\n",
      "폴드 3 지니계수: 0.27208761713594365\n",
      "\n",
      "######################################## 폴드 4 / 폴드 5 ########################################\n",
      "[LightGBM] [Info] Number of positive: 17355, number of negative: 458815\n",
      "[LightGBM] [Info] Total Bins 1100\n",
      "[LightGBM] [Info] Number of data points in the train set: 476170, number of used features: 200\n",
      "[LightGBM] [Info] [binary:BoostFromScore]: pavg=0.036447 -> initscore=-3.274766\n",
      "[LightGBM] [Info] Start training from score -3.274766\n",
      "Training until validation scores don't improve for 150 rounds\n",
      "[100]\tvalid_0's binary_logloss: 0.153241\tvalid_0's gini: 0.266204\n",
      "[200]\tvalid_0's binary_logloss: 0.152383\tvalid_0's gini: 0.275045\n",
      "[300]\tvalid_0's binary_logloss: 0.152051\tvalid_0's gini: 0.279752\n",
      "[400]\tvalid_0's binary_logloss: 0.15189\tvalid_0's gini: 0.282802\n",
      "[500]\tvalid_0's binary_logloss: 0.151821\tvalid_0's gini: 0.284085\n",
      "[600]\tvalid_0's binary_logloss: 0.151784\tvalid_0's gini: 0.284891\n",
      "[700]\tvalid_0's binary_logloss: 0.151775\tvalid_0's gini: 0.285072\n",
      "[800]\tvalid_0's binary_logloss: 0.151778\tvalid_0's gini: 0.284983\n",
      "Early stopping, best iteration is:\n",
      "[696]\tvalid_0's binary_logloss: 0.151772\tvalid_0's gini: 0.285128\n",
      "폴드 4 지니계수: 0.2851283406222193\n",
      "\n",
      "######################################## 폴드 5 / 폴드 5 ########################################\n",
      "[LightGBM] [Info] Number of positive: 17355, number of negative: 458815\n",
      "[LightGBM] [Info] Total Bins 1099\n",
      "[LightGBM] [Info] Number of data points in the train set: 476170, number of used features: 200\n",
      "[LightGBM] [Info] [binary:BoostFromScore]: pavg=0.036447 -> initscore=-3.274766\n",
      "[LightGBM] [Info] Start training from score -3.274766\n",
      "Training until validation scores don't improve for 150 rounds\n",
      "[100]\tvalid_0's binary_logloss: 0.153277\tvalid_0's gini: 0.260837\n",
      "[200]\tvalid_0's binary_logloss: 0.152307\tvalid_0's gini: 0.274528\n",
      "[300]\tvalid_0's binary_logloss: 0.151945\tvalid_0's gini: 0.279649\n",
      "[400]\tvalid_0's binary_logloss: 0.151751\tvalid_0's gini: 0.283\n",
      "[500]\tvalid_0's binary_logloss: 0.151656\tvalid_0's gini: 0.28479\n",
      "[600]\tvalid_0's binary_logloss: 0.151594\tvalid_0's gini: 0.286438\n",
      "[700]\tvalid_0's binary_logloss: 0.151582\tvalid_0's gini: 0.286947\n",
      "[800]\tvalid_0's binary_logloss: 0.151588\tvalid_0's gini: 0.286722\n",
      "Early stopping, best iteration is:\n",
      "[687]\tvalid_0's binary_logloss: 0.151581\tvalid_0's gini: 0.286988\n",
      "폴드 5 지니계수: 0.2869879083312566\n",
      "\n"
     ]
    }
   ],
   "source": [
    "import lightgbm as lgb\n",
    "\n",
    "# OOF 방식으로 모델 훈련, 검증, 예측\n",
    "for idx, (train_idx, valid_idx) in enumerate(folds.split(X, y)):\n",
    "    # 각 폴드를 구분하는 문구\n",
    "    print('#'*40, f'폴드 {idx+1} / 폴드 {folds.n_splits}', '#'*40)\n",
    "    \n",
    "    # 훈련용 데이터, 검증용 데이터 설정 \n",
    "    X_train, y_train = X[train_idx], y[train_idx] # 훈련용 데이터\n",
    "    X_valid, y_valid = X[valid_idx], y[valid_idx] # 검증용 데이터\n",
    "\n",
    "    # lgb 데이터세트 생성 \n",
    "    dtrain = lgb.Dataset(X_train, y_train) # lgb 훈련 데이터세트\n",
    "    dvalid = lgb.Dataset(X_valid, y_valid) # lgb 검증 데이터세트\n",
    "\n",
    "    # LightGBM 모델 훈련 \n",
    "    lgb_model = lgb.train(params=params, # 훈련용 하이퍼 파라미터\n",
    "                           train_set=dtrain, # 훈련 데이터\n",
    "                           num_boost_round=1400, # 부스팅 반복 횟수\n",
    "                           valid_sets=dvalid, # 모델 성능 평가용 검증 데이터\n",
    "                           feval=gini, # 검증용 평가지표\n",
    "                           early_stopping_rounds=150, # 조기종료 조건\n",
    "                           verbose_eval=100) # 100번째마다 점수 출력\n",
    "    \n",
    "    # 모델 성능이 가장 좋을 때의 부스팅 반복 횟수 저장\n",
    "    best_iter = lgb_model.best_iteration\n",
    "    # 테스트 데이터를 활용해 OOF 예측\n",
    "    oof_test_preds += lgb_model.predict(X_test, \n",
    "                                    num_iteration=best_iter)/folds.n_splits\n",
    "    \n",
    "    # 모델 성능 평가를 위한 검증 데이터 타깃 값 예측\n",
    "    oof_val_preds[valid_idx] += lgb_model.predict(X_valid, \n",
    "                                                  num_iteration=best_iter)\n",
    "    \n",
    "    # 검증 데이터 예측확률에 대한 정규화 지니계수 \n",
    "    gini_score = eval_gini(y_valid, oof_val_preds[valid_idx])\n",
    "    print(f'폴드 {idx+1} 지니계수: {gini_score}\\n')"
   ]
  },
  {
   "cell_type": "code",
   "execution_count": 14,
   "id": "beginning-plasma",
   "metadata": {
    "execution": {
     "iopub.execute_input": "2021-05-06T09:16:11.353855Z",
     "iopub.status.busy": "2021-05-06T09:16:11.352500Z",
     "iopub.status.idle": "2021-05-06T09:16:11.470228Z",
     "shell.execute_reply": "2021-05-06T09:16:11.469668Z"
    },
    "papermill": {
     "duration": 0.16005,
     "end_time": "2021-05-06T09:16:11.470381",
     "exception": false,
     "start_time": "2021-05-06T09:16:11.310331",
     "status": "completed"
    },
    "tags": []
   },
   "outputs": [
    {
     "name": "stdout",
     "output_type": "stream",
     "text": [
      "OOF 검증 데이터 지니계수: 0.28143733392569986\n"
     ]
    }
   ],
   "source": [
    "print('OOF 검증 데이터 지니계수:', eval_gini(y, oof_val_preds))"
   ]
  },
  {
   "cell_type": "markdown",
   "id": "close-phone",
   "metadata": {
    "papermill": {
     "duration": 0.037344,
     "end_time": "2021-05-06T09:16:11.545509",
     "exception": false,
     "start_time": "2021-05-06T09:16:11.508165",
     "status": "completed"
    },
    "tags": []
   },
   "source": [
    "## 5.3.4 결과 제출"
   ]
  },
  {
   "cell_type": "code",
   "execution_count": 15,
   "id": "ultimate-fireplace",
   "metadata": {
    "execution": {
     "iopub.execute_input": "2021-05-06T09:16:11.627085Z",
     "iopub.status.busy": "2021-05-06T09:16:11.625318Z",
     "iopub.status.idle": "2021-05-06T09:16:15.323479Z",
     "shell.execute_reply": "2021-05-06T09:16:15.322898Z"
    },
    "papermill": {
     "duration": 3.74035,
     "end_time": "2021-05-06T09:16:15.323622",
     "exception": false,
     "start_time": "2021-05-06T09:16:11.583272",
     "status": "completed"
    },
    "tags": []
   },
   "outputs": [],
   "source": [
    "submission['target'] = oof_test_preds\n",
    "submission.to_csv('submission.csv')"
   ]
  }
 ],
 "metadata": {
  "kernelspec": {
   "display_name": "Python 3",
   "language": "python",
   "name": "python3"
  },
  "language_info": {
   "codemirror_mode": {
    "name": "ipython",
    "version": 3
   },
   "file_extension": ".py",
   "mimetype": "text/x-python",
   "name": "python",
   "nbconvert_exporter": "python",
   "pygments_lexer": "ipython3",
   "version": "3.7.10"
  },
  "papermill": {
   "default_parameters": {},
   "duration": 416.902733,
   "end_time": "2021-05-06T09:16:16.173385",
   "environment_variables": {},
   "exception": null,
   "input_path": "__notebook__.ipynb",
   "output_path": "__notebook__.ipynb",
   "parameters": {},
   "start_time": "2021-05-06T09:09:19.270652",
   "version": "2.3.3"
  }
 },
 "nbformat": 4,
 "nbformat_minor": 5
}
