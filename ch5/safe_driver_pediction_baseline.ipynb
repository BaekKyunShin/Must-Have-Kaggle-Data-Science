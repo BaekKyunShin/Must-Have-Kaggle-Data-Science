{
 "cells": [
  {
   "cell_type": "markdown",
   "metadata": {
    "papermill": {
     "duration": 0.015857,
     "end_time": "2021-02-20T06:52:47.430559",
     "exception": false,
     "start_time": "2021-02-20T06:52:47.414702",
     "status": "completed"
    },
    "tags": []
   },
   "source": [
    "# 안전 운전자 예측 경진대회 베이스라인 모델"
   ]
  },
  {
   "cell_type": "markdown",
   "metadata": {
    "papermill": {
     "duration": 0.010998,
     "end_time": "2021-02-20T06:52:47.453226",
     "exception": false,
     "start_time": "2021-02-20T06:52:47.442228",
     "status": "completed"
    },
    "tags": []
   },
   "source": [
    "- [안전 운전자 예측 경진대회 링크](https://www.kaggle.com/c/porto-seguro-safe-driver-prediction)\n",
    "- [베이스라인 노트북 참고 링크](https://www.kaggle.com/xiaozhouwang/2nd-place-lightgbm-solution)"
   ]
  },
  {
   "cell_type": "code",
   "execution_count": 1,
   "metadata": {
    "execution": {
     "iopub.execute_input": "2021-02-20T06:52:47.484263Z",
     "iopub.status.busy": "2021-02-20T06:52:47.483383Z",
     "iopub.status.idle": "2021-02-20T06:52:58.696500Z",
     "shell.execute_reply": "2021-02-20T06:52:58.695588Z"
    },
    "papermill": {
     "duration": 11.231846,
     "end_time": "2021-02-20T06:52:58.696740",
     "exception": false,
     "start_time": "2021-02-20T06:52:47.464894",
     "status": "completed"
    },
    "tags": []
   },
   "outputs": [],
   "source": [
    "# ch5/safe_driver_prediction_baseline.ipynb\n",
    "\n",
    "import numpy as np\n",
    "import pandas as pd\n",
    "\n",
    "# 데이터 경로\n",
    "data_path = '/kaggle/input/porto-seguro-safe-driver-prediction/'\n",
    "\n",
    "train = pd.read_csv(data_path + 'train.csv', index_col='id')\n",
    "test = pd.read_csv(data_path + 'test.csv', index_col='id')\n",
    "submission = pd.read_csv(data_path + 'sample_submission.csv', index_col='id')"
   ]
  },
  {
   "cell_type": "code",
   "execution_count": 2,
   "metadata": {
    "execution": {
     "iopub.execute_input": "2021-02-20T06:52:58.730954Z",
     "iopub.status.busy": "2021-02-20T06:52:58.729294Z",
     "iopub.status.idle": "2021-02-20T06:53:00.832680Z",
     "shell.execute_reply": "2021-02-20T06:53:00.832049Z"
    },
    "papermill": {
     "duration": 2.12388,
     "end_time": "2021-02-20T06:53:00.832835",
     "exception": false,
     "start_time": "2021-02-20T06:52:58.708955",
     "status": "completed"
    },
    "tags": []
   },
   "outputs": [],
   "source": [
    "all_data = pd.concat([train, test], ignore_index=True)\n",
    "all_data = all_data.drop('target', axis=1) # 타깃 값 제거"
   ]
  },
  {
   "cell_type": "code",
   "execution_count": 3,
   "metadata": {
    "execution": {
     "iopub.execute_input": "2021-02-20T06:53:00.866776Z",
     "iopub.status.busy": "2021-02-20T06:53:00.865816Z",
     "iopub.status.idle": "2021-02-20T06:53:00.870135Z",
     "shell.execute_reply": "2021-02-20T06:53:00.870671Z"
    },
    "papermill": {
     "duration": 0.026205,
     "end_time": "2021-02-20T06:53:00.870863",
     "exception": false,
     "start_time": "2021-02-20T06:53:00.844658",
     "status": "completed"
    },
    "tags": []
   },
   "outputs": [
    {
     "data": {
      "text/plain": [
       "Index(['ps_ind_01', 'ps_ind_02_cat', 'ps_ind_03', 'ps_ind_04_cat',\n",
       "       'ps_ind_05_cat', 'ps_ind_06_bin', 'ps_ind_07_bin', 'ps_ind_08_bin',\n",
       "       'ps_ind_09_bin', 'ps_ind_10_bin', 'ps_ind_11_bin', 'ps_ind_12_bin',\n",
       "       'ps_ind_13_bin', 'ps_ind_14', 'ps_ind_15', 'ps_ind_16_bin',\n",
       "       'ps_ind_17_bin', 'ps_ind_18_bin', 'ps_reg_01', 'ps_reg_02', 'ps_reg_03',\n",
       "       'ps_car_01_cat', 'ps_car_02_cat', 'ps_car_03_cat', 'ps_car_04_cat',\n",
       "       'ps_car_05_cat', 'ps_car_06_cat', 'ps_car_07_cat', 'ps_car_08_cat',\n",
       "       'ps_car_09_cat', 'ps_car_10_cat', 'ps_car_11_cat', 'ps_car_11',\n",
       "       'ps_car_12', 'ps_car_13', 'ps_car_14', 'ps_car_15', 'ps_calc_01',\n",
       "       'ps_calc_02', 'ps_calc_03', 'ps_calc_04', 'ps_calc_05', 'ps_calc_06',\n",
       "       'ps_calc_07', 'ps_calc_08', 'ps_calc_09', 'ps_calc_10', 'ps_calc_11',\n",
       "       'ps_calc_12', 'ps_calc_13', 'ps_calc_14', 'ps_calc_15_bin',\n",
       "       'ps_calc_16_bin', 'ps_calc_17_bin', 'ps_calc_18_bin', 'ps_calc_19_bin',\n",
       "       'ps_calc_20_bin'],\n",
       "      dtype='object')"
      ]
     },
     "execution_count": 3,
     "metadata": {},
     "output_type": "execute_result"
    }
   ],
   "source": [
    "all_features = all_data.columns # 전체 피처\n",
    "all_features"
   ]
  },
  {
   "cell_type": "markdown",
   "metadata": {
    "papermill": {
     "duration": 0.011794,
     "end_time": "2021-02-20T06:53:00.895177",
     "exception": false,
     "start_time": "2021-02-20T06:53:00.883383",
     "status": "completed"
    },
    "tags": []
   },
   "source": [
    "## 원-핫 인코딩과 피처 제거"
   ]
  },
  {
   "cell_type": "code",
   "execution_count": 4,
   "metadata": {
    "execution": {
     "iopub.execute_input": "2021-02-20T06:53:00.926407Z",
     "iopub.status.busy": "2021-02-20T06:53:00.925430Z",
     "iopub.status.idle": "2021-02-20T06:53:04.404276Z",
     "shell.execute_reply": "2021-02-20T06:53:04.404884Z"
    },
    "papermill": {
     "duration": 3.497732,
     "end_time": "2021-02-20T06:53:04.405099",
     "exception": false,
     "start_time": "2021-02-20T06:53:00.907367",
     "status": "completed"
    },
    "tags": []
   },
   "outputs": [
    {
     "data": {
      "text/plain": [
       "<1488028x184 sparse matrix of type '<class 'numpy.float64'>'\n",
       "\twith 20832392 stored elements in Compressed Sparse Row format>"
      ]
     },
     "execution_count": 4,
     "metadata": {},
     "output_type": "execute_result"
    }
   ],
   "source": [
    "from sklearn.preprocessing import OneHotEncoder\n",
    "\n",
    "cat_features = [col for col in all_features if 'cat' in col] # 명목형 피처 추출\n",
    "\n",
    "onehot_encoder = OneHotEncoder() # 원-핫 인코더 객체 생성\n",
    "# 원-핫 인코딩 적용\n",
    "encoded_cat_matrix = onehot_encoder.fit_transform(all_data[cat_features]) \n",
    "\n",
    "encoded_cat_matrix"
   ]
  },
  {
   "cell_type": "code",
   "execution_count": 5,
   "metadata": {
    "execution": {
     "iopub.execute_input": "2021-02-20T06:53:04.439708Z",
     "iopub.status.busy": "2021-02-20T06:53:04.438717Z",
     "iopub.status.idle": "2021-02-20T06:53:04.441860Z",
     "shell.execute_reply": "2021-02-20T06:53:04.441206Z"
    },
    "papermill": {
     "duration": 0.023128,
     "end_time": "2021-02-20T06:53:04.442013",
     "exception": false,
     "start_time": "2021-02-20T06:53:04.418885",
     "status": "completed"
    },
    "tags": []
   },
   "outputs": [],
   "source": [
    "# 추가로 제거할 피처\n",
    "drop_features = ['ps_ind_14', 'ps_ind_10_bin','ps_ind_11_bin', \n",
    "                 'ps_ind_12_bin','ps_ind_13_bin','ps_car_14']\n",
    "\n",
    "# '1) 명목형 피처, 2) calc 태그가 포함된 피처, 3) 추가 제거할 피처'를 제외한 피처\n",
    "remaining_features = [col for col in all_features if ('cat' not in col and \\\n",
    "                                                      'calc' not in col and \\\n",
    "                                                      col not in drop_features)]"
   ]
  },
  {
   "cell_type": "code",
   "execution_count": 6,
   "metadata": {
    "execution": {
     "iopub.execute_input": "2021-02-20T06:53:04.543451Z",
     "iopub.status.busy": "2021-02-20T06:53:04.474657Z",
     "iopub.status.idle": "2021-02-20T06:53:07.739372Z",
     "shell.execute_reply": "2021-02-20T06:53:07.738770Z"
    },
    "papermill": {
     "duration": 3.2845,
     "end_time": "2021-02-20T06:53:07.739527",
     "exception": false,
     "start_time": "2021-02-20T06:53:04.455027",
     "status": "completed"
    },
    "tags": []
   },
   "outputs": [],
   "source": [
    "from scipy import sparse\n",
    "\n",
    "all_data_sprs = sparse.hstack([sparse.csr_matrix(all_data[remaining_features]),\n",
    "                               encoded_cat_matrix],\n",
    "                              format='csr')"
   ]
  },
  {
   "cell_type": "code",
   "execution_count": 7,
   "metadata": {
    "execution": {
     "iopub.execute_input": "2021-02-20T06:53:07.772611Z",
     "iopub.status.busy": "2021-02-20T06:53:07.771607Z",
     "iopub.status.idle": "2021-02-20T06:53:07.776961Z",
     "shell.execute_reply": "2021-02-20T06:53:07.776320Z"
    },
    "papermill": {
     "duration": 0.024535,
     "end_time": "2021-02-20T06:53:07.777116",
     "exception": false,
     "start_time": "2021-02-20T06:53:07.752581",
     "status": "completed"
    },
    "tags": []
   },
   "outputs": [
    {
     "data": {
      "text/plain": [
       "<1488028x201 sparse matrix of type '<class 'numpy.float64'>'\n",
       "\twith 37628974 stored elements in Compressed Sparse Row format>"
      ]
     },
     "execution_count": 7,
     "metadata": {},
     "output_type": "execute_result"
    }
   ],
   "source": [
    "all_data_sprs"
   ]
  },
  {
   "cell_type": "code",
   "execution_count": 8,
   "metadata": {
    "execution": {
     "iopub.execute_input": "2021-02-20T06:53:07.811577Z",
     "iopub.status.busy": "2021-02-20T06:53:07.810894Z",
     "iopub.status.idle": "2021-02-20T06:53:08.639837Z",
     "shell.execute_reply": "2021-02-20T06:53:08.639207Z"
    },
    "papermill": {
     "duration": 0.849371,
     "end_time": "2021-02-20T06:53:08.639996",
     "exception": false,
     "start_time": "2021-02-20T06:53:07.790625",
     "status": "completed"
    },
    "tags": []
   },
   "outputs": [],
   "source": [
    "num_train = train.shape[0] # 훈련 데이터 개수\n",
    "\n",
    "# 훈련 데이터와 테스트 데이터 나누기\n",
    "X = all_data_sprs[:num_train]\n",
    "X_test = all_data_sprs[num_train:]\n",
    "\n",
    "y = train['target'].values"
   ]
  },
  {
   "cell_type": "markdown",
   "metadata": {
    "papermill": {
     "duration": 0.013529,
     "end_time": "2021-02-20T06:53:08.667589",
     "exception": false,
     "start_time": "2021-02-20T06:53:08.654060",
     "status": "completed"
    },
    "tags": []
   },
   "source": [
    "## 평가지표 계산 함수 만들기"
   ]
  },
  {
   "cell_type": "code",
   "execution_count": 9,
   "metadata": {
    "execution": {
     "iopub.execute_input": "2021-02-20T06:53:08.703680Z",
     "iopub.status.busy": "2021-02-20T06:53:08.702635Z",
     "iopub.status.idle": "2021-02-20T06:53:08.705977Z",
     "shell.execute_reply": "2021-02-20T06:53:08.705282Z"
    },
    "papermill": {
     "duration": 0.025091,
     "end_time": "2021-02-20T06:53:08.706144",
     "exception": false,
     "start_time": "2021-02-20T06:53:08.681053",
     "status": "completed"
    },
    "tags": []
   },
   "outputs": [],
   "source": [
    "def eval_gini(y_true, y_pred):\n",
    "    # 실제 값과 예측 값의 크기가 같은지 확인 (값이 다르면 오류 발생)\n",
    "    assert y_true.shape == y_pred.shape\n",
    "\n",
    "    n_samples = y_true.shape[0] # 데이터 개수\n",
    "    L_mid = np.linspace(1 / n_samples, 1, n_samples) # 대각선 값\n",
    "\n",
    "    # 1) 예측 값에 대한 지니계수\n",
    "    pred_order = y_true[y_pred.argsort()] # y_pred 크기순으로 y_true 값 정렬\n",
    "    L_pred = np.cumsum(pred_order) / np.sum(pred_order) # 로렌츠 곡선\n",
    "    G_pred = np.sum(L_mid - L_pred)# 예측 값에 대한 지니계수\n",
    "\n",
    "    # 2) 예측이 완벽할 때 지니계수\n",
    "    true_order = y_true[y_true.argsort()] # y_true 크기순으로 y_true 값 정렬\n",
    "    L_true = np.cumsum(true_order) / np.sum(true_order) # 로렌츠 곡선\n",
    "    G_true = np.sum(L_mid - L_true) # 예측이 완벽할 때 지니계수\n",
    "\n",
    "    # 정규화된 지니계수\n",
    "    return G_pred / G_true"
   ]
  },
  {
   "cell_type": "code",
   "execution_count": 10,
   "metadata": {
    "execution": {
     "iopub.execute_input": "2021-02-20T06:53:08.739072Z",
     "iopub.status.busy": "2021-02-20T06:53:08.738374Z",
     "iopub.status.idle": "2021-02-20T06:53:08.741223Z",
     "shell.execute_reply": "2021-02-20T06:53:08.740580Z"
    },
    "papermill": {
     "duration": 0.021741,
     "end_time": "2021-02-20T06:53:08.741413",
     "exception": false,
     "start_time": "2021-02-20T06:53:08.719672",
     "status": "completed"
    },
    "tags": []
   },
   "outputs": [],
   "source": [
    "def gini(preds, dtrain):\n",
    "    labels = dtrain.get_label()\n",
    "    return 'gini', eval_gini(labels, preds), True"
   ]
  },
  {
   "cell_type": "markdown",
   "metadata": {
    "papermill": {
     "duration": 0.013836,
     "end_time": "2021-02-20T06:53:08.769377",
     "exception": false,
     "start_time": "2021-02-20T06:53:08.755541",
     "status": "completed"
    },
    "tags": []
   },
   "source": [
    "## 베이스라인 모델 훈련 및 제출"
   ]
  },
  {
   "cell_type": "code",
   "execution_count": 11,
   "metadata": {
    "execution": {
     "iopub.execute_input": "2021-02-20T06:53:08.804709Z",
     "iopub.status.busy": "2021-02-20T06:53:08.803873Z",
     "iopub.status.idle": "2021-02-20T06:53:08.871284Z",
     "shell.execute_reply": "2021-02-20T06:53:08.870615Z"
    },
    "papermill": {
     "duration": 0.088308,
     "end_time": "2021-02-20T06:53:08.871459",
     "exception": false,
     "start_time": "2021-02-20T06:53:08.783151",
     "status": "completed"
    },
    "tags": []
   },
   "outputs": [],
   "source": [
    "from sklearn.model_selection import StratifiedKFold\n",
    "\n",
    "# Stratified K 폴드 교차검증기 생성\n",
    "folds = StratifiedKFold(n_splits=5, shuffle=True, random_state=218)\n",
    "\n",
    "params = {'objective': 'binary',\n",
    "          'learning_rate': 0.01,\n",
    "          'force_row_wise': True,\n",
    "          'random_state': 218}\n",
    "\n",
    "# OOF 방식으로 훈련된 모델로 검증 데이터 타깃 값을 예측한 확률을 담을 1차원 배열\n",
    "oof_val_preds = np.zeros(X.shape[0]) \n",
    "# OOF 방식으로 훈련된 모델로 테스트 데이터 타깃 값을 예측한 확률을 담을 1차원 배열\n",
    "oof_test_preds = np.zeros(X_test.shape[0]) "
   ]
  },
  {
   "cell_type": "code",
   "execution_count": 12,
   "metadata": {
    "execution": {
     "iopub.execute_input": "2021-02-20T06:53:08.910618Z",
     "iopub.status.busy": "2021-02-20T06:53:08.909696Z",
     "iopub.status.idle": "2021-02-20T06:59:31.519490Z",
     "shell.execute_reply": "2021-02-20T06:59:31.520046Z"
    },
    "papermill": {
     "duration": 382.634522,
     "end_time": "2021-02-20T06:59:31.520277",
     "exception": false,
     "start_time": "2021-02-20T06:53:08.885755",
     "status": "completed"
    },
    "tags": []
   },
   "outputs": [
    {
     "data": {
      "text/html": [
       "<style type='text/css'>\n",
       ".datatable table.frame { margin-bottom: 0; }\n",
       ".datatable table.frame thead { border-bottom: none; }\n",
       ".datatable table.frame tr.coltypes td {  color: #FFFFFF;  line-height: 6px;  padding: 0 0.5em;}\n",
       ".datatable .bool    { background: #DDDD99; }\n",
       ".datatable .object  { background: #565656; }\n",
       ".datatable .int     { background: #5D9E5D; }\n",
       ".datatable .float   { background: #4040CC; }\n",
       ".datatable .str     { background: #CC4040; }\n",
       ".datatable .row_index {  background: var(--jp-border-color3);  border-right: 1px solid var(--jp-border-color0);  color: var(--jp-ui-font-color3);  font-size: 9px;}\n",
       ".datatable .frame tr.coltypes .row_index {  background: var(--jp-border-color0);}\n",
       ".datatable th:nth-child(2) { padding-left: 12px; }\n",
       ".datatable .hellipsis {  color: var(--jp-cell-editor-border-color);}\n",
       ".datatable .vellipsis {  background: var(--jp-layout-color0);  color: var(--jp-cell-editor-border-color);}\n",
       ".datatable .na {  color: var(--jp-cell-editor-border-color);  font-size: 80%;}\n",
       ".datatable .footer { font-size: 9px; }\n",
       ".datatable .frame_dimensions {  background: var(--jp-border-color3);  border-top: 1px solid var(--jp-border-color0);  color: var(--jp-ui-font-color3);  display: inline-block;  opacity: 0.6;  padding: 1px 10px 1px 5px;}\n",
       "</style>\n"
      ],
      "text/plain": [
       "<IPython.core.display.HTML object>"
      ]
     },
     "metadata": {},
     "output_type": "display_data"
    },
    {
     "name": "stdout",
     "output_type": "stream",
     "text": [
      "######################################## 폴드 1 / 폴드 5 ########################################\n",
      "[LightGBM] [Info] Number of positive: 17355, number of negative: 458814\n",
      "[LightGBM] [Info] Total Bins 1102\n",
      "[LightGBM] [Info] Number of data points in the train set: 476169, number of used features: 200\n",
      "[LightGBM] [Info] [binary:BoostFromScore]: pavg=0.036447 -> initscore=-3.274764\n",
      "[LightGBM] [Info] Start training from score -3.274764\n",
      "Training until validation scores don't improve for 150 rounds\n",
      "[100]\tvalid_0's binary_logloss: 0.153322\tvalid_0's gini: 0.264139\n",
      "[200]\tvalid_0's binary_logloss: 0.152381\tvalid_0's gini: 0.277458\n",
      "[300]\tvalid_0's binary_logloss: 0.152002\tvalid_0's gini: 0.283312\n",
      "[400]\tvalid_0's binary_logloss: 0.151812\tvalid_0's gini: 0.287055\n",
      "[500]\tvalid_0's binary_logloss: 0.151712\tvalid_0's gini: 0.289339\n",
      "[600]\tvalid_0's binary_logloss: 0.151666\tvalid_0's gini: 0.290372\n",
      "[700]\tvalid_0's binary_logloss: 0.151647\tvalid_0's gini: 0.290712\n",
      "[800]\tvalid_0's binary_logloss: 0.151639\tvalid_0's gini: 0.290843\n",
      "[900]\tvalid_0's binary_logloss: 0.151637\tvalid_0's gini: 0.290972\n",
      "[1000]\tvalid_0's binary_logloss: 0.151637\tvalid_0's gini: 0.290831\n",
      "Early stopping, best iteration is:\n",
      "[882]\tvalid_0's binary_logloss: 0.151635\tvalid_0's gini: 0.29108\n",
      "폴드 1 지니계수: 0.2910801708889048\n",
      "\n",
      "######################################## 폴드 2 / 폴드 5 ########################################\n",
      "[LightGBM] [Info] Number of positive: 17355, number of negative: 458814\n",
      "[LightGBM] [Info] Total Bins 1100\n",
      "[LightGBM] [Info] Number of data points in the train set: 476169, number of used features: 200\n",
      "[LightGBM] [Info] [binary:BoostFromScore]: pavg=0.036447 -> initscore=-3.274764\n",
      "[LightGBM] [Info] Start training from score -3.274764\n",
      "Training until validation scores don't improve for 150 rounds\n",
      "[100]\tvalid_0's binary_logloss: 0.153494\tvalid_0's gini: 0.254031\n",
      "[200]\tvalid_0's binary_logloss: 0.152714\tvalid_0's gini: 0.262883\n",
      "[300]\tvalid_0's binary_logloss: 0.152406\tvalid_0's gini: 0.267462\n",
      "[400]\tvalid_0's binary_logloss: 0.152243\tvalid_0's gini: 0.270588\n",
      "[500]\tvalid_0's binary_logloss: 0.152187\tvalid_0's gini: 0.271784\n",
      "[600]\tvalid_0's binary_logloss: 0.152178\tvalid_0's gini: 0.272152\n",
      "[700]\tvalid_0's binary_logloss: 0.152195\tvalid_0's gini: 0.271582\n",
      "Early stopping, best iteration is:\n",
      "[597]\tvalid_0's binary_logloss: 0.152177\tvalid_0's gini: 0.272189\n",
      "폴드 2 지니계수: 0.2721885703120312\n",
      "\n",
      "######################################## 폴드 3 / 폴드 5 ########################################\n",
      "[LightGBM] [Info] Number of positive: 17356, number of negative: 458814\n",
      "[LightGBM] [Info] Total Bins 1100\n",
      "[LightGBM] [Info] Number of data points in the train set: 476170, number of used features: 200\n",
      "[LightGBM] [Info] [binary:BoostFromScore]: pavg=0.036449 -> initscore=-3.274707\n",
      "[LightGBM] [Info] Start training from score -3.274707\n",
      "Training until validation scores don't improve for 150 rounds\n",
      "[100]\tvalid_0's binary_logloss: 0.153571\tvalid_0's gini: 0.244074\n",
      "[200]\tvalid_0's binary_logloss: 0.152762\tvalid_0's gini: 0.25806\n",
      "[300]\tvalid_0's binary_logloss: 0.15244\tvalid_0's gini: 0.264911\n",
      "[400]\tvalid_0's binary_logloss: 0.152291\tvalid_0's gini: 0.268744\n",
      "[500]\tvalid_0's binary_logloss: 0.152229\tvalid_0's gini: 0.270488\n",
      "[600]\tvalid_0's binary_logloss: 0.152204\tvalid_0's gini: 0.271205\n",
      "[700]\tvalid_0's binary_logloss: 0.152187\tvalid_0's gini: 0.271801\n",
      "[800]\tvalid_0's binary_logloss: 0.152192\tvalid_0's gini: 0.271942\n",
      "Early stopping, best iteration is:\n",
      "[730]\tvalid_0's binary_logloss: 0.152181\tvalid_0's gini: 0.272088\n",
      "폴드 3 지니계수: 0.27208761713594365\n",
      "\n",
      "######################################## 폴드 4 / 폴드 5 ########################################\n",
      "[LightGBM] [Info] Number of positive: 17355, number of negative: 458815\n",
      "[LightGBM] [Info] Total Bins 1100\n",
      "[LightGBM] [Info] Number of data points in the train set: 476170, number of used features: 200\n",
      "[LightGBM] [Info] [binary:BoostFromScore]: pavg=0.036447 -> initscore=-3.274766\n",
      "[LightGBM] [Info] Start training from score -3.274766\n",
      "Training until validation scores don't improve for 150 rounds\n",
      "[100]\tvalid_0's binary_logloss: 0.153241\tvalid_0's gini: 0.266204\n",
      "[200]\tvalid_0's binary_logloss: 0.152383\tvalid_0's gini: 0.275045\n",
      "[300]\tvalid_0's binary_logloss: 0.152051\tvalid_0's gini: 0.279752\n",
      "[400]\tvalid_0's binary_logloss: 0.15189\tvalid_0's gini: 0.282802\n",
      "[500]\tvalid_0's binary_logloss: 0.151821\tvalid_0's gini: 0.284085\n",
      "[600]\tvalid_0's binary_logloss: 0.151784\tvalid_0's gini: 0.284891\n",
      "[700]\tvalid_0's binary_logloss: 0.151775\tvalid_0's gini: 0.285072\n",
      "[800]\tvalid_0's binary_logloss: 0.151778\tvalid_0's gini: 0.284983\n",
      "Early stopping, best iteration is:\n",
      "[696]\tvalid_0's binary_logloss: 0.151772\tvalid_0's gini: 0.285128\n",
      "폴드 4 지니계수: 0.2851283406222193\n",
      "\n",
      "######################################## 폴드 5 / 폴드 5 ########################################\n",
      "[LightGBM] [Info] Number of positive: 17355, number of negative: 458815\n",
      "[LightGBM] [Info] Total Bins 1099\n",
      "[LightGBM] [Info] Number of data points in the train set: 476170, number of used features: 200\n",
      "[LightGBM] [Info] [binary:BoostFromScore]: pavg=0.036447 -> initscore=-3.274766\n",
      "[LightGBM] [Info] Start training from score -3.274766\n",
      "Training until validation scores don't improve for 150 rounds\n",
      "[100]\tvalid_0's binary_logloss: 0.153277\tvalid_0's gini: 0.260837\n",
      "[200]\tvalid_0's binary_logloss: 0.152307\tvalid_0's gini: 0.274528\n",
      "[300]\tvalid_0's binary_logloss: 0.151945\tvalid_0's gini: 0.279649\n",
      "[400]\tvalid_0's binary_logloss: 0.151751\tvalid_0's gini: 0.283\n",
      "[500]\tvalid_0's binary_logloss: 0.151656\tvalid_0's gini: 0.28479\n",
      "[600]\tvalid_0's binary_logloss: 0.151594\tvalid_0's gini: 0.286438\n",
      "[700]\tvalid_0's binary_logloss: 0.151582\tvalid_0's gini: 0.286947\n",
      "[800]\tvalid_0's binary_logloss: 0.151588\tvalid_0's gini: 0.286722\n",
      "Early stopping, best iteration is:\n",
      "[687]\tvalid_0's binary_logloss: 0.151581\tvalid_0's gini: 0.286988\n",
      "폴드 5 지니계수: 0.2869879083312566\n",
      "\n"
     ]
    }
   ],
   "source": [
    "import lightgbm as lgbm\n",
    "\n",
    "# OOF 방식으로 모델 훈련, 검증, 예측\n",
    "for idx, (train_idx, valid_idx) in enumerate(folds.split(X, y)):\n",
    "    # 각 폴드를 구분하는 문구\n",
    "    print('#'*40, f'폴드 {idx+1} / 폴드 {folds.n_splits}', '#'*40)\n",
    "    \n",
    "    # 훈련용 데이터, 검증용 데이터 설정 ---①\n",
    "    X_train, y_train = X[train_idx], y[train_idx] # 훈련용 데이터\n",
    "    X_valid, y_valid = X[valid_idx], y[valid_idx] # 검증용 데이터\n",
    "\n",
    "    # lgbm 데이터세트 생성 ---②\n",
    "    dtrain = lgbm.Dataset(X_train, y_train) # lgbm 훈련 데이터세트\n",
    "    dvalid = lgbm.Dataset(X_valid, y_valid) # lgbm 검증 데이터세트\n",
    "\n",
    "    # Light GBM 모델 훈련 ---③\n",
    "    lgb_model = lgbm.train(params=params, # 훈련용 하이퍼 파라미터\n",
    "                           train_set=dtrain, # 훈련 데이터\n",
    "                           num_boost_round=1400, # 부스팅 반복 횟수\n",
    "                           valid_sets=dvalid, # 모델 성능 평가용 검증 데이터\n",
    "                           feval=gini, # 검증용 평가지표\n",
    "                           early_stopping_rounds=150, # 조기종료 조건\n",
    "                           verbose_eval=100)\n",
    "    \n",
    "    # 모델 성능이 가장 좋을 때의 부스팅 반복 횟수 저장 ---④\n",
    "    best_iter = lgb_model.best_iteration\n",
    "    # 테스트 데이터를 활용해 OOF 예측 ---⑤\n",
    "    oof_test_preds += lgb_model.predict(X_test, \n",
    "                                    num_iteration=best_iter)/folds.n_splits\n",
    "    # 모델 성능 평가를 위한 검증 데이터 타깃 값 예측 ---⑥\n",
    "    oof_val_preds[valid_idx] += lgb_model.predict(X_valid, \n",
    "                                                  num_iteration=best_iter)\n",
    "    \n",
    "    # 검증 데이터 예측확률에 대한 정규화 지니계수 ---⑦\n",
    "    gini_score = eval_gini(y_valid, oof_val_preds[valid_idx])\n",
    "    print(f'폴드 {idx+1} 지니계수: {gini_score}\\n')"
   ]
  },
  {
   "cell_type": "code",
   "execution_count": 13,
   "metadata": {
    "execution": {
     "iopub.execute_input": "2021-02-20T06:59:31.592936Z",
     "iopub.status.busy": "2021-02-20T06:59:31.592141Z",
     "iopub.status.idle": "2021-02-20T06:59:31.714601Z",
     "shell.execute_reply": "2021-02-20T06:59:31.713968Z"
    },
    "papermill": {
     "duration": 0.161258,
     "end_time": "2021-02-20T06:59:31.714764",
     "exception": false,
     "start_time": "2021-02-20T06:59:31.553506",
     "status": "completed"
    },
    "tags": []
   },
   "outputs": [
    {
     "name": "stdout",
     "output_type": "stream",
     "text": [
      "OOF 검증 데이터 지니계수: 0.28143733392569986\n"
     ]
    }
   ],
   "source": [
    "print('OOF 검증 데이터 지니계수:', eval_gini(y, oof_val_preds))"
   ]
  },
  {
   "cell_type": "code",
   "execution_count": 14,
   "metadata": {
    "execution": {
     "iopub.execute_input": "2021-02-20T06:59:31.788327Z",
     "iopub.status.busy": "2021-02-20T06:59:31.787625Z",
     "iopub.status.idle": "2021-02-20T06:59:35.533473Z",
     "shell.execute_reply": "2021-02-20T06:59:35.532745Z"
    },
    "papermill": {
     "duration": 3.78513,
     "end_time": "2021-02-20T06:59:35.533684",
     "exception": false,
     "start_time": "2021-02-20T06:59:31.748554",
     "status": "completed"
    },
    "tags": []
   },
   "outputs": [],
   "source": [
    "submission['target'] = oof_test_preds\n",
    "submission.to_csv('submission.csv')"
   ]
  }
 ],
 "metadata": {
  "kernelspec": {
   "display_name": "Python 3",
   "language": "python",
   "name": "python3"
  },
  "language_info": {
   "codemirror_mode": {
    "name": "ipython",
    "version": 3
   },
   "file_extension": ".py",
   "mimetype": "text/x-python",
   "name": "python",
   "nbconvert_exporter": "python",
   "pygments_lexer": "ipython3",
   "version": "3.7.9"
  },
  "papermill": {
   "default_parameters": {},
   "duration": 415.810536,
   "end_time": "2021-02-20T06:59:36.481261",
   "environment_variables": {},
   "exception": null,
   "input_path": "__notebook__.ipynb",
   "output_path": "__notebook__.ipynb",
   "parameters": {},
   "start_time": "2021-02-20T06:52:40.670725",
   "version": "2.2.2"
  }
 },
 "nbformat": 4,
 "nbformat_minor": 4
}
