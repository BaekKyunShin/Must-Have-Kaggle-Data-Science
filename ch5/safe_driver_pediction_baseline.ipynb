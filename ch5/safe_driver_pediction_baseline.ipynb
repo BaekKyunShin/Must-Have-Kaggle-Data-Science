{
 "cells": [
  {
   "cell_type": "code",
   "execution_count": 1,
   "metadata": {
    "execution": {
     "iopub.execute_input": "2021-02-08T09:00:20.833925Z",
     "iopub.status.busy": "2021-02-08T09:00:20.832929Z",
     "iopub.status.idle": "2021-02-08T09:00:31.412743Z",
     "shell.execute_reply": "2021-02-08T09:00:31.413321Z"
    },
    "papermill": {
     "duration": 10.594278,
     "end_time": "2021-02-08T09:00:31.413688",
     "exception": false,
     "start_time": "2021-02-08T09:00:20.819410",
     "status": "completed"
    },
    "tags": []
   },
   "outputs": [],
   "source": [
    "import pandas as pd\n",
    "\n",
    "import warnings\n",
    "warnings.filterwarnings(\"ignore\")\n",
    "\n",
    "train = pd.read_csv('/kaggle/input/porto-seguro-safe-driver-prediction/train.csv', index_col='id')\n",
    "test = pd.read_csv('/kaggle/input/porto-seguro-safe-driver-prediction/test.csv', index_col='id')\n",
    "submission = pd.read_csv('/kaggle/input/porto-seguro-safe-driver-prediction/sample_submission.csv', index_col='id')"
   ]
  },
  {
   "cell_type": "code",
   "execution_count": 2,
   "metadata": {
    "execution": {
     "iopub.execute_input": "2021-02-08T09:00:31.436810Z",
     "iopub.status.busy": "2021-02-08T09:00:31.435858Z",
     "iopub.status.idle": "2021-02-08T09:00:32.716548Z",
     "shell.execute_reply": "2021-02-08T09:00:32.717151Z"
    },
    "papermill": {
     "duration": 1.293718,
     "end_time": "2021-02-08T09:00:32.717363",
     "exception": false,
     "start_time": "2021-02-08T09:00:31.423645",
     "status": "completed"
    },
    "tags": []
   },
   "outputs": [],
   "source": [
    "all_data = pd.concat([train, test], ignore_index=True)\n",
    "all_data = all_data.drop('target', axis=1) # 타깃 값 제거"
   ]
  },
  {
   "cell_type": "code",
   "execution_count": 3,
   "metadata": {
    "execution": {
     "iopub.execute_input": "2021-02-08T09:00:32.741564Z",
     "iopub.status.busy": "2021-02-08T09:00:32.740931Z",
     "iopub.status.idle": "2021-02-08T09:00:32.743704Z",
     "shell.execute_reply": "2021-02-08T09:00:32.743109Z"
    },
    "papermill": {
     "duration": 0.016862,
     "end_time": "2021-02-08T09:00:32.743913",
     "exception": false,
     "start_time": "2021-02-08T09:00:32.727051",
     "status": "completed"
    },
    "tags": []
   },
   "outputs": [],
   "source": [
    "all_features = all_data.columns.tolist()"
   ]
  },
  {
   "cell_type": "code",
   "execution_count": 4,
   "metadata": {
    "execution": {
     "iopub.execute_input": "2021-02-08T09:00:32.769161Z",
     "iopub.status.busy": "2021-02-08T09:00:32.768442Z",
     "iopub.status.idle": "2021-02-08T09:00:35.771375Z",
     "shell.execute_reply": "2021-02-08T09:00:35.770720Z"
    },
    "papermill": {
     "duration": 3.017917,
     "end_time": "2021-02-08T09:00:35.771528",
     "exception": false,
     "start_time": "2021-02-08T09:00:32.753611",
     "status": "completed"
    },
    "tags": []
   },
   "outputs": [
    {
     "data": {
      "text/plain": [
       "<1488028x184 sparse matrix of type '<class 'numpy.float64'>'\n",
       "\twith 20832392 stored elements in Compressed Sparse Row format>"
      ]
     },
     "execution_count": 4,
     "metadata": {},
     "output_type": "execute_result"
    }
   ],
   "source": [
    "from sklearn.preprocessing import OneHotEncoder\n",
    "\n",
    "cat_features = [col for col in all_features if ('cat' in col)]\n",
    "\n",
    "onehot_encoder = OneHotEncoder() # 원-핫 인코더 객체 생성\n",
    "encoded_cat_matrix = onehot_encoder.fit_transform(all_data[cat_features]) # 원-핫 인코딩 적용\n",
    "\n",
    "encoded_cat_matrix"
   ]
  },
  {
   "cell_type": "code",
   "execution_count": 5,
   "metadata": {
    "execution": {
     "iopub.execute_input": "2021-02-08T09:00:35.892407Z",
     "iopub.status.busy": "2021-02-08T09:00:35.891082Z",
     "iopub.status.idle": "2021-02-08T09:00:38.451567Z",
     "shell.execute_reply": "2021-02-08T09:00:38.451013Z"
    },
    "papermill": {
     "duration": 2.669817,
     "end_time": "2021-02-08T09:00:38.451730",
     "exception": false,
     "start_time": "2021-02-08T09:00:35.781913",
     "status": "completed"
    },
    "tags": []
   },
   "outputs": [],
   "source": [
    "from scipy import sparse\n",
    "\n",
    "remaining_features = [col for col in all_features if ('cat' not in col and 'calc' not in col)]\n",
    "\n",
    "all_data_sprs = sparse.hstack([sparse.csr_matrix(all_data[remaining_features]),\n",
    "                               encoded_cat_matrix],\n",
    "                              format='csr')"
   ]
  },
  {
   "cell_type": "code",
   "execution_count": 6,
   "metadata": {
    "execution": {
     "iopub.execute_input": "2021-02-08T09:00:38.477701Z",
     "iopub.status.busy": "2021-02-08T09:00:38.476959Z",
     "iopub.status.idle": "2021-02-08T09:00:39.112473Z",
     "shell.execute_reply": "2021-02-08T09:00:39.111765Z"
    },
    "papermill": {
     "duration": 0.650587,
     "end_time": "2021-02-08T09:00:39.112619",
     "exception": false,
     "start_time": "2021-02-08T09:00:38.462032",
     "status": "completed"
    },
    "tags": []
   },
   "outputs": [],
   "source": [
    "num_train = train.shape[0] # 훈련 데이터 개수\n",
    "\n",
    "# 훈련 데이터와 테스트 데이터 나누기\n",
    "X = all_data_sprs[:num_train]\n",
    "X_test = all_data_sprs[num_train:]\n",
    "\n",
    "y = train['target'].values"
   ]
  },
  {
   "cell_type": "code",
   "execution_count": 7,
   "metadata": {
    "execution": {
     "iopub.execute_input": "2021-02-08T09:00:39.142174Z",
     "iopub.status.busy": "2021-02-08T09:00:39.141495Z",
     "iopub.status.idle": "2021-02-08T09:00:39.143615Z",
     "shell.execute_reply": "2021-02-08T09:00:39.144079Z"
    },
    "papermill": {
     "duration": 0.021176,
     "end_time": "2021-02-08T09:00:39.144256",
     "exception": false,
     "start_time": "2021-02-08T09:00:39.123080",
     "status": "completed"
    },
    "tags": []
   },
   "outputs": [],
   "source": [
    "import numpy as np\n",
    "\n",
    "def eval_gini(y_true, y_pred):\n",
    "    # check and get number of samples\n",
    "    assert y_true.shape == y_pred.shape\n",
    "    n_samples = y_true.shape[0]\n",
    "\n",
    "    # sort rows on prediction column\n",
    "    # (from largest to smallest)\n",
    "    arr = np.array([y_true, y_pred]).transpose()\n",
    "    true_order = arr[arr[:, 0].argsort()][::-1, 0]\n",
    "    pred_order = arr[arr[:, 1].argsort()][::-1, 0]\n",
    "\n",
    "    # get Lorenz curves\n",
    "    L_true = np.cumsum(true_order) * 1. / np.sum(true_order)\n",
    "    L_pred = np.cumsum(pred_order) * 1. / np.sum(pred_order)\n",
    "    L_ones = np.linspace(1 / n_samples, 1, n_samples)\n",
    "\n",
    "    # get Gini coefficients (area between curves)\n",
    "    G_true = np.sum(L_ones - L_true)\n",
    "    G_pred = np.sum(L_ones - L_pred)\n",
    "\n",
    "    # normalize to true Gini coefficient\n",
    "    return G_pred * 1. / G_true"
   ]
  },
  {
   "cell_type": "code",
   "execution_count": 8,
   "metadata": {
    "execution": {
     "iopub.execute_input": "2021-02-08T09:00:39.168199Z",
     "iopub.status.busy": "2021-02-08T09:00:39.167552Z",
     "iopub.status.idle": "2021-02-08T09:00:39.172978Z",
     "shell.execute_reply": "2021-02-08T09:00:39.172422Z"
    },
    "papermill": {
     "duration": 0.018457,
     "end_time": "2021-02-08T09:00:39.173123",
     "exception": false,
     "start_time": "2021-02-08T09:00:39.154666",
     "status": "completed"
    },
    "tags": []
   },
   "outputs": [],
   "source": [
    "def gini(preds, dtrain):\n",
    "    labels = dtrain.get_label()\n",
    "    return 'gini', eval_gini(labels, preds), True"
   ]
  },
  {
   "cell_type": "code",
   "execution_count": 9,
   "metadata": {
    "execution": {
     "iopub.execute_input": "2021-02-08T09:00:39.201002Z",
     "iopub.status.busy": "2021-02-08T09:00:39.200241Z",
     "iopub.status.idle": "2021-02-08T09:00:39.401849Z",
     "shell.execute_reply": "2021-02-08T09:00:39.401290Z"
    },
    "papermill": {
     "duration": 0.218415,
     "end_time": "2021-02-08T09:00:39.402011",
     "exception": false,
     "start_time": "2021-02-08T09:00:39.183596",
     "status": "completed"
    },
    "tags": []
   },
   "outputs": [
    {
     "data": {
      "text/html": [
       "<style type='text/css'>\n",
       ".datatable table.frame { margin-bottom: 0; }\n",
       ".datatable table.frame thead { border-bottom: none; }\n",
       ".datatable table.frame tr.coltypes td {  color: #FFFFFF;  line-height: 6px;  padding: 0 0.5em;}\n",
       ".datatable .bool    { background: #DDDD99; }\n",
       ".datatable .object  { background: #565656; }\n",
       ".datatable .int     { background: #5D9E5D; }\n",
       ".datatable .float   { background: #4040CC; }\n",
       ".datatable .str     { background: #CC4040; }\n",
       ".datatable .row_index {  background: var(--jp-border-color3);  border-right: 1px solid var(--jp-border-color0);  color: var(--jp-ui-font-color3);  font-size: 9px;}\n",
       ".datatable .frame tr.coltypes .row_index {  background: var(--jp-border-color0);}\n",
       ".datatable th:nth-child(2) { padding-left: 12px; }\n",
       ".datatable .hellipsis {  color: var(--jp-cell-editor-border-color);}\n",
       ".datatable .vellipsis {  background: var(--jp-layout-color0);  color: var(--jp-cell-editor-border-color);}\n",
       ".datatable .na {  color: var(--jp-cell-editor-border-color);  font-size: 80%;}\n",
       ".datatable .footer { font-size: 9px; }\n",
       ".datatable .frame_dimensions {  background: var(--jp-border-color3);  border-top: 1px solid var(--jp-border-color0);  color: var(--jp-ui-font-color3);  display: inline-block;  opacity: 0.6;  padding: 1px 10px 1px 5px;}\n",
       "</style>\n"
      ],
      "text/plain": [
       "<IPython.core.display.HTML object>"
      ]
     },
     "metadata": {},
     "output_type": "display_data"
    }
   ],
   "source": [
    "import lightgbm as lgbm\n",
    "from sklearn.model_selection import StratifiedKFold\n",
    "\n",
    "save_cv = True\n",
    "full_train = False\n",
    "seed_rounds = 3\n",
    "\n",
    "NFOLDS = 5\n",
    "kfold = StratifiedKFold(n_splits=NFOLDS, shuffle=True, random_state=218)\n",
    "\n",
    "num_boost_round = 10000\n",
    "# params = {\"objective\": \"binary\",\n",
    "#           \"boosting_type\": \"gbdt\",\n",
    "#           'metric': 'auc',\n",
    "#           \"learning_rate\": 0.01,\n",
    "#           \"num_leaves\": 31,\n",
    "#            \"max_bin\": 256,\n",
    "#           \"feature_fraction\": 0.7,\n",
    "#           \"verbosity\": 0,\n",
    "#           \"drop_rate\": 0.1,\n",
    "#           \"is_unbalance\": False,\n",
    "#           \"max_drop\": 50,\n",
    "#           \"bagging_freq\": 1,\n",
    "#           \"bagging_fraction\": 0.7,\n",
    "#           \"lambda_l1\": 1,\n",
    "#           \"lambda_l2\": 1,\n",
    "#           \"min_child_samples\": 10,\n",
    "#           \"min_child_weight\": 150,\n",
    "#           \"min_split_gain\": 0,\n",
    "#           \"subsample\": 0.9,\n",
    "#           \"random_state\": 218,\n",
    "#           }\n",
    "\n",
    "params = {\"objective\": \"binary\",\n",
    "          \"boosting_type\": \"gbdt\",\n",
    "          'metric': 'auc',\n",
    "          \"learning_rate\": 0.01,\n",
    "          \"force_row_wise\": True\n",
    "          }"
   ]
  },
  {
   "cell_type": "code",
   "execution_count": 10,
   "metadata": {
    "execution": {
     "iopub.execute_input": "2021-02-08T09:00:39.427892Z",
     "iopub.status.busy": "2021-02-08T09:00:39.427243Z",
     "iopub.status.idle": "2021-02-08T09:08:01.320430Z",
     "shell.execute_reply": "2021-02-08T09:08:01.320963Z"
    },
    "papermill": {
     "duration": 441.907716,
     "end_time": "2021-02-08T09:08:01.321156",
     "exception": false,
     "start_time": "2021-02-08T09:00:39.413440",
     "status": "completed"
    },
    "tags": []
   },
   "outputs": [
    {
     "name": "stdout",
     "output_type": "stream",
     "text": [
      "[LightGBM] [Info] Number of positive: 17355, number of negative: 458814\n",
      "[LightGBM] [Info] Total Bins 1360\n",
      "[LightGBM] [Info] Number of data points in the train set: 476169, number of used features: 206\n",
      "[LightGBM] [Info] [binary:BoostFromScore]: pavg=0.036447 -> initscore=-3.274764\n",
      "[LightGBM] [Info] Start training from score -3.274764\n",
      "Training until validation scores don't improve for 150 rounds\n",
      "[100]\tvalid_0's auc: 0.631578\tvalid_0's gini: 0.263155\n",
      "[200]\tvalid_0's auc: 0.638582\tvalid_0's gini: 0.277164\n",
      "[300]\tvalid_0's auc: 0.641891\tvalid_0's gini: 0.283783\n",
      "[400]\tvalid_0's auc: 0.643605\tvalid_0's gini: 0.28721\n",
      "[500]\tvalid_0's auc: 0.644678\tvalid_0's gini: 0.289356\n",
      "[600]\tvalid_0's auc: 0.64516\tvalid_0's gini: 0.290319\n",
      "[700]\tvalid_0's auc: 0.645452\tvalid_0's gini: 0.290903\n",
      "[800]\tvalid_0's auc: 0.645482\tvalid_0's gini: 0.290964\n",
      "[900]\tvalid_0's auc: 0.645538\tvalid_0's gini: 0.291075\n",
      "Early stopping, best iteration is:\n",
      "[839]\tvalid_0's auc: 0.645571\tvalid_0's gini: 0.291143\n",
      "0.2911428953390811\n",
      "[LightGBM] [Info] Number of positive: 17355, number of negative: 458814\n",
      "[LightGBM] [Info] Total Bins 1361\n",
      "[LightGBM] [Info] Number of data points in the train set: 476169, number of used features: 206\n",
      "[LightGBM] [Info] [binary:BoostFromScore]: pavg=0.036447 -> initscore=-3.274764\n",
      "[LightGBM] [Info] Start training from score -3.274764\n",
      "Training until validation scores don't improve for 150 rounds\n",
      "[100]\tvalid_0's auc: 0.627379\tvalid_0's gini: 0.254755\n",
      "[200]\tvalid_0's auc: 0.631754\tvalid_0's gini: 0.263509\n",
      "[300]\tvalid_0's auc: 0.633742\tvalid_0's gini: 0.267485\n",
      "[400]\tvalid_0's auc: 0.635348\tvalid_0's gini: 0.270695\n",
      "[500]\tvalid_0's auc: 0.635739\tvalid_0's gini: 0.271478\n",
      "[600]\tvalid_0's auc: 0.635882\tvalid_0's gini: 0.271765\n",
      "[700]\tvalid_0's auc: 0.635786\tvalid_0's gini: 0.271571\n",
      "Early stopping, best iteration is:\n",
      "[636]\tvalid_0's auc: 0.635928\tvalid_0's gini: 0.271857\n",
      "0.2718565755718031\n",
      "[LightGBM] [Info] Number of positive: 17356, number of negative: 458814\n",
      "[LightGBM] [Info] Total Bins 1365\n",
      "[LightGBM] [Info] Number of data points in the train set: 476170, number of used features: 206\n",
      "[LightGBM] [Info] [binary:BoostFromScore]: pavg=0.036449 -> initscore=-3.274707\n",
      "[LightGBM] [Info] Start training from score -3.274707\n",
      "Training until validation scores don't improve for 150 rounds\n",
      "[100]\tvalid_0's auc: 0.621738\tvalid_0's gini: 0.243474\n",
      "[200]\tvalid_0's auc: 0.628715\tvalid_0's gini: 0.257429\n",
      "[300]\tvalid_0's auc: 0.632112\tvalid_0's gini: 0.264224\n",
      "[400]\tvalid_0's auc: 0.634112\tvalid_0's gini: 0.268224\n",
      "[500]\tvalid_0's auc: 0.634966\tvalid_0's gini: 0.269932\n",
      "[600]\tvalid_0's auc: 0.635363\tvalid_0's gini: 0.270726\n",
      "[700]\tvalid_0's auc: 0.635711\tvalid_0's gini: 0.271422\n",
      "[800]\tvalid_0's auc: 0.63577\tvalid_0's gini: 0.27154\n",
      "[900]\tvalid_0's auc: 0.635612\tvalid_0's gini: 0.271224\n",
      "Early stopping, best iteration is:\n",
      "[811]\tvalid_0's auc: 0.635842\tvalid_0's gini: 0.271684\n",
      "0.27168449482271545\n",
      "[LightGBM] [Info] Number of positive: 17355, number of negative: 458815\n",
      "[LightGBM] [Info] Total Bins 1360\n",
      "[LightGBM] [Info] Number of data points in the train set: 476170, number of used features: 206\n",
      "[LightGBM] [Info] [binary:BoostFromScore]: pavg=0.036447 -> initscore=-3.274766\n",
      "[LightGBM] [Info] Start training from score -3.274766\n",
      "Training until validation scores don't improve for 150 rounds\n",
      "[100]\tvalid_0's auc: 0.632467\tvalid_0's gini: 0.264933\n",
      "[200]\tvalid_0's auc: 0.63752\tvalid_0's gini: 0.275039\n",
      "[300]\tvalid_0's auc: 0.639659\tvalid_0's gini: 0.279318\n",
      "[400]\tvalid_0's auc: 0.640864\tvalid_0's gini: 0.281728\n",
      "[500]\tvalid_0's auc: 0.641709\tvalid_0's gini: 0.283418\n",
      "[600]\tvalid_0's auc: 0.642131\tvalid_0's gini: 0.284261\n",
      "[700]\tvalid_0's auc: 0.642298\tvalid_0's gini: 0.284595\n",
      "[800]\tvalid_0's auc: 0.642416\tvalid_0's gini: 0.284831\n",
      "[900]\tvalid_0's auc: 0.642462\tvalid_0's gini: 0.284924\n",
      "[1000]\tvalid_0's auc: 0.642352\tvalid_0's gini: 0.284704\n",
      "Early stopping, best iteration is:\n",
      "[894]\tvalid_0's auc: 0.64249\tvalid_0's gini: 0.284979\n",
      "0.2849793300760953\n",
      "[LightGBM] [Info] Number of positive: 17355, number of negative: 458815\n",
      "[LightGBM] [Info] Total Bins 1359\n",
      "[LightGBM] [Info] Number of data points in the train set: 476170, number of used features: 206\n",
      "[LightGBM] [Info] [binary:BoostFromScore]: pavg=0.036447 -> initscore=-3.274766\n",
      "[LightGBM] [Info] Start training from score -3.274766\n",
      "Training until validation scores don't improve for 150 rounds\n",
      "[100]\tvalid_0's auc: 0.630226\tvalid_0's gini: 0.260454\n",
      "[200]\tvalid_0's auc: 0.637311\tvalid_0's gini: 0.274622\n",
      "[300]\tvalid_0's auc: 0.64026\tvalid_0's gini: 0.280521\n",
      "[400]\tvalid_0's auc: 0.642066\tvalid_0's gini: 0.284132\n",
      "[500]\tvalid_0's auc: 0.642979\tvalid_0's gini: 0.285959\n",
      "[600]\tvalid_0's auc: 0.643544\tvalid_0's gini: 0.287087\n",
      "[700]\tvalid_0's auc: 0.643599\tvalid_0's gini: 0.287199\n",
      "[800]\tvalid_0's auc: 0.643445\tvalid_0's gini: 0.28689\n",
      "Early stopping, best iteration is:\n",
      "[653]\tvalid_0's auc: 0.643644\tvalid_0's gini: 0.287288\n",
      "0.28728793466237357\n",
      "cv score:\n",
      "0.2813381669133965\n",
      "current score: 0.2813381669133965\n",
      "[0.2911428953390811, 0.2718565755718031, 0.27168449482271545, 0.2849793300760953, 0.28728793466237357]\n",
      "[839, 636, 811, 894, 653] 766.6\n"
     ]
    }
   ],
   "source": [
    "x_score = []\n",
    "\n",
    "cv_train = np.zeros(X.shape[0])\n",
    "cv_pred = np.zeros(X_test.shape[0])\n",
    "\n",
    "best_iters = []\n",
    "fold_scores = []\n",
    "\n",
    "for train_idx, valid_idx in kfold.split(X, y):\n",
    "    X_train, y_train = X[train_idx], y[train_idx]\n",
    "    X_valid, y_valid = X[valid_idx], y[valid_idx]\n",
    "\n",
    "    dtrain = lgbm.Dataset(X_train, y_train)\n",
    "    dvalid = lgbm.Dataset(X_valid, y_valid)\n",
    "\n",
    "    lgb_model = lgbm.train(params, dtrain,  \n",
    "                           valid_sets=dvalid, \n",
    "                           feval=gini, \n",
    "                           num_boost_round=1400,\n",
    "                           verbose_eval=100, early_stopping_rounds=150)\n",
    "    best_iters.append(lgb_model.best_iteration)\n",
    "    ########### best_iteration+10으로 돌려보기\n",
    "    cv_pred += lgb_model.predict(X_test, num_iteration=lgb_model.best_iteration)\n",
    "    cv_train[valid_idx] += lgb_model.predict(X_valid)\n",
    "\n",
    "    score = eval_gini(y_valid, cv_train[valid_idx])\n",
    "    print(score)\n",
    "    fold_scores.append(score)\n",
    "\n",
    "cv_pred /= NFOLDS\n",
    "\n",
    "print(\"cv score:\")\n",
    "print(eval_gini(y, cv_train))\n",
    "print(\"current score:\", eval_gini(y, cv_train))\n",
    "print(fold_scores)\n",
    "print(best_iters, np.mean(best_iters))\n",
    "\n",
    "x_score.append(eval_gini(y, cv_train))"
   ]
  },
  {
   "cell_type": "code",
   "execution_count": 11,
   "metadata": {
    "execution": {
     "iopub.execute_input": "2021-02-08T09:08:01.388985Z",
     "iopub.status.busy": "2021-02-08T09:08:01.387984Z",
     "iopub.status.idle": "2021-02-08T09:08:01.392945Z",
     "shell.execute_reply": "2021-02-08T09:08:01.392424Z"
    },
    "papermill": {
     "duration": 0.040797,
     "end_time": "2021-02-08T09:08:01.393083",
     "exception": false,
     "start_time": "2021-02-08T09:08:01.352286",
     "status": "completed"
    },
    "tags": []
   },
   "outputs": [
    {
     "name": "stdout",
     "output_type": "stream",
     "text": [
      "[0.2813381669133965]\n"
     ]
    }
   ],
   "source": [
    "print(x_score)"
   ]
  },
  {
   "cell_type": "markdown",
   "metadata": {
    "papermill": {
     "duration": 0.030076,
     "end_time": "2021-02-08T09:08:01.454278",
     "exception": false,
     "start_time": "2021-02-08T09:08:01.424202",
     "status": "completed"
    },
    "tags": []
   },
   "source": [
    "- 1: [0.2813381669133965]\n"
   ]
  },
  {
   "cell_type": "code",
   "execution_count": 12,
   "metadata": {
    "execution": {
     "iopub.execute_input": "2021-02-08T09:08:01.520425Z",
     "iopub.status.busy": "2021-02-08T09:08:01.519667Z",
     "iopub.status.idle": "2021-02-08T09:08:05.240713Z",
     "shell.execute_reply": "2021-02-08T09:08:05.240123Z"
    },
    "papermill": {
     "duration": 3.756293,
     "end_time": "2021-02-08T09:08:05.240914",
     "exception": false,
     "start_time": "2021-02-08T09:08:01.484621",
     "status": "completed"
    },
    "tags": []
   },
   "outputs": [],
   "source": [
    "submission['target'] = cv_pred\n",
    "submission.to_csv('submission.csv')"
   ]
  },
  {
   "cell_type": "code",
   "execution_count": 13,
   "metadata": {
    "execution": {
     "iopub.execute_input": "2021-02-08T09:08:05.316575Z",
     "iopub.status.busy": "2021-02-08T09:08:05.315649Z",
     "iopub.status.idle": "2021-02-08T09:08:05.331357Z",
     "shell.execute_reply": "2021-02-08T09:08:05.330790Z"
    },
    "papermill": {
     "duration": 0.055369,
     "end_time": "2021-02-08T09:08:05.331496",
     "exception": false,
     "start_time": "2021-02-08T09:08:05.276127",
     "status": "completed"
    },
    "tags": []
   },
   "outputs": [
    {
     "data": {
      "text/html": [
       "<div>\n",
       "<style scoped>\n",
       "    .dataframe tbody tr th:only-of-type {\n",
       "        vertical-align: middle;\n",
       "    }\n",
       "\n",
       "    .dataframe tbody tr th {\n",
       "        vertical-align: top;\n",
       "    }\n",
       "\n",
       "    .dataframe thead th {\n",
       "        text-align: right;\n",
       "    }\n",
       "</style>\n",
       "<table border=\"1\" class=\"dataframe\">\n",
       "  <thead>\n",
       "    <tr style=\"text-align: right;\">\n",
       "      <th></th>\n",
       "      <th>target</th>\n",
       "    </tr>\n",
       "    <tr>\n",
       "      <th>id</th>\n",
       "      <th></th>\n",
       "    </tr>\n",
       "  </thead>\n",
       "  <tbody>\n",
       "    <tr>\n",
       "      <th>0</th>\n",
       "      <td>0.027479</td>\n",
       "    </tr>\n",
       "    <tr>\n",
       "      <th>1</th>\n",
       "      <td>0.024734</td>\n",
       "    </tr>\n",
       "    <tr>\n",
       "      <th>2</th>\n",
       "      <td>0.028488</td>\n",
       "    </tr>\n",
       "    <tr>\n",
       "      <th>3</th>\n",
       "      <td>0.015355</td>\n",
       "    </tr>\n",
       "    <tr>\n",
       "      <th>4</th>\n",
       "      <td>0.037178</td>\n",
       "    </tr>\n",
       "    <tr>\n",
       "      <th>...</th>\n",
       "      <td>...</td>\n",
       "    </tr>\n",
       "    <tr>\n",
       "      <th>1488022</th>\n",
       "      <td>0.080100</td>\n",
       "    </tr>\n",
       "    <tr>\n",
       "      <th>1488023</th>\n",
       "      <td>0.042489</td>\n",
       "    </tr>\n",
       "    <tr>\n",
       "      <th>1488024</th>\n",
       "      <td>0.037148</td>\n",
       "    </tr>\n",
       "    <tr>\n",
       "      <th>1488025</th>\n",
       "      <td>0.024706</td>\n",
       "    </tr>\n",
       "    <tr>\n",
       "      <th>1488026</th>\n",
       "      <td>0.028327</td>\n",
       "    </tr>\n",
       "  </tbody>\n",
       "</table>\n",
       "<p>892816 rows × 1 columns</p>\n",
       "</div>"
      ],
      "text/plain": [
       "           target\n",
       "id               \n",
       "0        0.027479\n",
       "1        0.024734\n",
       "2        0.028488\n",
       "3        0.015355\n",
       "4        0.037178\n",
       "...           ...\n",
       "1488022  0.080100\n",
       "1488023  0.042489\n",
       "1488024  0.037148\n",
       "1488025  0.024706\n",
       "1488026  0.028327\n",
       "\n",
       "[892816 rows x 1 columns]"
      ]
     },
     "execution_count": 13,
     "metadata": {},
     "output_type": "execute_result"
    }
   ],
   "source": [
    "submission"
   ]
  }
 ],
 "metadata": {
  "kernelspec": {
   "display_name": "Python 3",
   "language": "python",
   "name": "python3"
  },
  "language_info": {
   "codemirror_mode": {
    "name": "ipython",
    "version": 3
   },
   "file_extension": ".py",
   "mimetype": "text/x-python",
   "name": "python",
   "nbconvert_exporter": "python",
   "pygments_lexer": "ipython3",
   "version": "3.7.9"
  },
  "papermill": {
   "default_parameters": {},
   "duration": 471.263105,
   "end_time": "2021-02-08T09:08:06.072160",
   "environment_variables": {},
   "exception": null,
   "input_path": "__notebook__.ipynb",
   "output_path": "__notebook__.ipynb",
   "parameters": {},
   "start_time": "2021-02-08T09:00:14.809055",
   "version": "2.2.2"
  }
 },
 "nbformat": 4,
 "nbformat_minor": 4
}
