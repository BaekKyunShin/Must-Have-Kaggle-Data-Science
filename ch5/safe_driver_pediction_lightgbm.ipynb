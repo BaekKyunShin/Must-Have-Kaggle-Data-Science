{
 "cells": [
  {
   "cell_type": "code",
   "execution_count": 1,
   "metadata": {
    "execution": {
     "iopub.execute_input": "2021-02-16T14:22:42.380910Z",
     "iopub.status.busy": "2021-02-16T14:22:42.379867Z",
     "iopub.status.idle": "2021-02-16T14:22:53.349048Z",
     "shell.execute_reply": "2021-02-16T14:22:53.349557Z"
    },
    "papermill": {
     "duration": 10.991497,
     "end_time": "2021-02-16T14:22:53.349925",
     "exception": false,
     "start_time": "2021-02-16T14:22:42.358428",
     "status": "completed"
    },
    "tags": []
   },
   "outputs": [],
   "source": [
    "# ch5/porto_seguro’s_safe_driver_prediction_lgb_modeling.ipynb\n",
    "\n",
    "import numpy as np\n",
    "import pandas as pd\n",
    "\n",
    "# 데이터 경로\n",
    "data_path = '/kaggle/input/porto-seguro-safe-driver-prediction/'\n",
    "\n",
    "train = pd.read_csv(data_path + 'train.csv', index_col='id')\n",
    "test = pd.read_csv(data_path + 'test.csv', index_col='id')\n",
    "submission = pd.read_csv(data_path + 'sample_submission.csv', index_col='id')"
   ]
  },
  {
   "cell_type": "code",
   "execution_count": 2,
   "metadata": {
    "execution": {
     "iopub.execute_input": "2021-02-16T14:22:53.387916Z",
     "iopub.status.busy": "2021-02-16T14:22:53.387172Z",
     "iopub.status.idle": "2021-02-16T14:22:54.693618Z",
     "shell.execute_reply": "2021-02-16T14:22:54.694141Z"
    },
    "papermill": {
     "duration": 1.326916,
     "end_time": "2021-02-16T14:22:54.694337",
     "exception": false,
     "start_time": "2021-02-16T14:22:53.367421",
     "status": "completed"
    },
    "tags": []
   },
   "outputs": [],
   "source": [
    "all_data = pd.concat([train, test], ignore_index=True)\n",
    "all_data = all_data.drop('target', axis=1) # 타깃 값 제거\n",
    "\n",
    "all_features = all_data.columns.tolist() # 전체 피처"
   ]
  },
  {
   "cell_type": "markdown",
   "metadata": {
    "papermill": {
     "duration": 0.017493,
     "end_time": "2021-02-16T14:22:54.728894",
     "exception": false,
     "start_time": "2021-02-16T14:22:54.711401",
     "status": "completed"
    },
    "tags": []
   },
   "source": [
    "### 결측값 개수를 파생 변수로 생성"
   ]
  },
  {
   "cell_type": "code",
   "execution_count": 3,
   "metadata": {
    "execution": {
     "iopub.execute_input": "2021-02-16T14:22:54.768467Z",
     "iopub.status.busy": "2021-02-16T14:22:54.767692Z",
     "iopub.status.idle": "2021-02-16T14:22:55.028086Z",
     "shell.execute_reply": "2021-02-16T14:22:55.027520Z"
    },
    "papermill": {
     "duration": 0.28172,
     "end_time": "2021-02-16T14:22:55.028268",
     "exception": false,
     "start_time": "2021-02-16T14:22:54.746548",
     "status": "completed"
    },
    "tags": []
   },
   "outputs": [],
   "source": [
    "# '데이터 하나당 결측값 개수'를 파생 변수로 추가\n",
    "all_data['num_missing'] = (all_data==-1).sum(axis=1)\n",
    "\n",
    "# 명목형 피처, 태그에 calc가 달린 피처를 제외한 피처\n",
    "remaining_features = [col for col in all_features \\\n",
    "                      if ('cat' not in col and 'calc' not in col)] \n",
    "# num_missing을 remaining_features에 추가\n",
    "remaining_features.append('num_missing')"
   ]
  },
  {
   "cell_type": "markdown",
   "metadata": {
    "papermill": {
     "duration": 0.016891,
     "end_time": "2021-02-16T14:22:55.062845",
     "exception": false,
     "start_time": "2021-02-16T14:22:55.045954",
     "status": "completed"
    },
    "tags": []
   },
   "source": [
    "### 명목형 피처 원-핫 인코딩 적용"
   ]
  },
  {
   "cell_type": "code",
   "execution_count": 4,
   "metadata": {
    "execution": {
     "iopub.execute_input": "2021-02-16T14:22:55.103263Z",
     "iopub.status.busy": "2021-02-16T14:22:55.102574Z",
     "iopub.status.idle": "2021-02-16T14:22:58.578072Z",
     "shell.execute_reply": "2021-02-16T14:22:58.576783Z"
    },
    "papermill": {
     "duration": 3.498284,
     "end_time": "2021-02-16T14:22:58.578279",
     "exception": false,
     "start_time": "2021-02-16T14:22:55.079995",
     "status": "completed"
    },
    "tags": []
   },
   "outputs": [],
   "source": [
    "from sklearn.preprocessing import OneHotEncoder\n",
    "\n",
    "cat_features = [col for col in all_features if 'cat' in col] # 명목형 피처\n",
    "\n",
    "# 원-핫 인코딩 적용\n",
    "onehot_encoder = OneHotEncoder()\n",
    "encoded_cat_matrix = onehot_encoder.fit_transform(all_data[cat_features]) "
   ]
  },
  {
   "cell_type": "markdown",
   "metadata": {
    "papermill": {
     "duration": 0.018898,
     "end_time": "2021-02-16T14:22:58.617282",
     "exception": false,
     "start_time": "2021-02-16T14:22:58.598384",
     "status": "completed"
    },
    "tags": []
   },
   "source": [
    "### `ind` 변수의 고유값을 조합한 파생 변수 `mix_ind` 생성"
   ]
  },
  {
   "cell_type": "code",
   "execution_count": 5,
   "metadata": {
    "execution": {
     "iopub.execute_input": "2021-02-16T14:22:58.661319Z",
     "iopub.status.busy": "2021-02-16T14:22:58.660459Z",
     "iopub.status.idle": "2021-02-16T14:23:41.355613Z",
     "shell.execute_reply": "2021-02-16T14:23:41.356150Z"
    },
    "papermill": {
     "duration": 42.721069,
     "end_time": "2021-02-16T14:23:41.356352",
     "exception": false,
     "start_time": "2021-02-16T14:22:58.635283",
     "status": "completed"
    },
    "tags": []
   },
   "outputs": [],
   "source": [
    "# 태그에 ind가 달린 피처\n",
    "ind_features = [col for col in all_features if 'ind' in col]\n",
    "\n",
    "first_col=True\n",
    "for col in ind_features:\n",
    "    if first_col:\n",
    "        all_data['mix_ind'] = all_data[col].astype(str)+'_'\n",
    "        first_col = False\n",
    "    else:\n",
    "        all_data['mix_ind'] += all_data[col].astype(str)+'_'"
   ]
  },
  {
   "cell_type": "code",
   "execution_count": 6,
   "metadata": {
    "execution": {
     "iopub.execute_input": "2021-02-16T14:23:41.394962Z",
     "iopub.status.busy": "2021-02-16T14:23:41.394296Z",
     "iopub.status.idle": "2021-02-16T14:23:56.368522Z",
     "shell.execute_reply": "2021-02-16T14:23:56.367305Z"
    },
    "papermill": {
     "duration": 14.994777,
     "end_time": "2021-02-16T14:23:56.368700",
     "exception": false,
     "start_time": "2021-02-16T14:23:41.373923",
     "status": "completed"
    },
    "tags": []
   },
   "outputs": [],
   "source": [
    "cat_count_features = []\n",
    "for col in cat_features+['mix_ind']:\n",
    "    val_counts_dic = all_data[col].value_counts().to_dict()\n",
    "    all_data[f'{col}_count'] = all_data[col].apply(lambda x: val_counts_dic[x])\n",
    "    cat_count_features.append(f'{col}_count')"
   ]
  },
  {
   "cell_type": "code",
   "execution_count": 7,
   "metadata": {
    "execution": {
     "iopub.execute_input": "2021-02-16T14:23:56.413052Z",
     "iopub.status.busy": "2021-02-16T14:23:56.411588Z",
     "iopub.status.idle": "2021-02-16T14:24:01.998187Z",
     "shell.execute_reply": "2021-02-16T14:24:01.997034Z"
    },
    "papermill": {
     "duration": 5.61201,
     "end_time": "2021-02-16T14:24:01.998351",
     "exception": false,
     "start_time": "2021-02-16T14:23:56.386341",
     "status": "completed"
    },
    "tags": []
   },
   "outputs": [],
   "source": [
    "from scipy import sparse\n",
    "\n",
    "drop_features = ['ps_ind_14', 'ps_ind_10_bin','ps_ind_11_bin', \n",
    "                 'ps_ind_12_bin','ps_ind_13_bin','ps_car_14']\n",
    "\n",
    "# remaining_features, cat_count_features에서 drop_features를 제거한 데이터\n",
    "all_data_remaining = all_data[remaining_features+cat_count_features].drop(drop_features, axis=1)\n",
    "\n",
    "# 데이터 합치기\n",
    "all_data_sprs = sparse.hstack([sparse.csr_matrix(all_data_remaining),\n",
    "                               encoded_cat_matrix],\n",
    "                              format='csr')"
   ]
  },
  {
   "cell_type": "code",
   "execution_count": 8,
   "metadata": {
    "execution": {
     "iopub.execute_input": "2021-02-16T14:24:02.039053Z",
     "iopub.status.busy": "2021-02-16T14:24:02.038424Z",
     "iopub.status.idle": "2021-02-16T14:24:02.974548Z",
     "shell.execute_reply": "2021-02-16T14:24:02.973845Z"
    },
    "papermill": {
     "duration": 0.958402,
     "end_time": "2021-02-16T14:24:02.974711",
     "exception": false,
     "start_time": "2021-02-16T14:24:02.016309",
     "status": "completed"
    },
    "tags": []
   },
   "outputs": [],
   "source": [
    "num_train = train.shape[0] # 훈련 데이터 개수\n",
    "\n",
    "# 훈련 데이터와 테스트 데이터 나누기\n",
    "X = all_data_sprs[:num_train]\n",
    "X_test = all_data_sprs[num_train:]\n",
    "\n",
    "y = train['target'].values"
   ]
  },
  {
   "cell_type": "code",
   "execution_count": 9,
   "metadata": {
    "execution": {
     "iopub.execute_input": "2021-02-16T14:24:03.019064Z",
     "iopub.status.busy": "2021-02-16T14:24:03.018191Z",
     "iopub.status.idle": "2021-02-16T14:24:03.021565Z",
     "shell.execute_reply": "2021-02-16T14:24:03.020830Z"
    },
    "papermill": {
     "duration": 0.029142,
     "end_time": "2021-02-16T14:24:03.021722",
     "exception": false,
     "start_time": "2021-02-16T14:24:02.992580",
     "status": "completed"
    },
    "tags": []
   },
   "outputs": [],
   "source": [
    "def eval_gini(y_true, y_pred):\n",
    "    # 실제 값과 예측 값의 크기가 같은지 확인 (값이 다르면 오류 발생)\n",
    "    assert y_true.shape == y_pred.shape\n",
    "\n",
    "    n_samples = y_true.shape[0] # 데이터 개수\n",
    "    L_mid = np.linspace(1 / n_samples, 1, n_samples) # 대각선 값\n",
    "\n",
    "    # 1) 예측 값에 대한 지니계수\n",
    "    pred_order = y_true[y_pred.argsort()] # y_pred 크기순으로 y_true 값 정렬\n",
    "    L_pred = np.cumsum(pred_order) / np.sum(pred_order) # 로렌츠 곡선\n",
    "    G_pred = np.sum(L_mid - L_pred)# 예측 값에 대한 지니계수\n",
    "\n",
    "    # 2) 예측이 완벽할 때 지니계수\n",
    "    true_order = y_true[y_true.argsort()] # y_true 크기순으로 y_true 값 정렬\n",
    "    L_true = np.cumsum(true_order) / np.sum(true_order) # 로렌츠 곡선\n",
    "    G_true = np.sum(L_mid - L_true) # 예측이 완벽할 때 지니계수\n",
    "\n",
    "    # 정규화된 지니계수\n",
    "    return G_pred / G_true"
   ]
  },
  {
   "cell_type": "code",
   "execution_count": 10,
   "metadata": {
    "execution": {
     "iopub.execute_input": "2021-02-16T14:24:03.063420Z",
     "iopub.status.busy": "2021-02-16T14:24:03.062705Z",
     "iopub.status.idle": "2021-02-16T14:24:03.066395Z",
     "shell.execute_reply": "2021-02-16T14:24:03.065761Z"
    },
    "papermill": {
     "duration": 0.026881,
     "end_time": "2021-02-16T14:24:03.066541",
     "exception": false,
     "start_time": "2021-02-16T14:24:03.039660",
     "status": "completed"
    },
    "tags": []
   },
   "outputs": [],
   "source": [
    "def gini(preds, dtrain):\n",
    "    labels = dtrain.get_label()\n",
    "    return 'gini', eval_gini(labels, preds), True"
   ]
  },
  {
   "cell_type": "markdown",
   "metadata": {
    "papermill": {
     "duration": 0.018081,
     "end_time": "2021-02-16T14:24:03.102663",
     "exception": false,
     "start_time": "2021-02-16T14:24:03.084582",
     "status": "completed"
    },
    "tags": []
   },
   "source": [
    "## BayesianOptimization을 활용한 하이퍼 파라미터 최적화"
   ]
  },
  {
   "cell_type": "code",
   "execution_count": 11,
   "metadata": {
    "execution": {
     "iopub.execute_input": "2021-02-16T14:24:03.146900Z",
     "iopub.status.busy": "2021-02-16T14:24:03.145957Z",
     "iopub.status.idle": "2021-02-16T14:24:03.511345Z",
     "shell.execute_reply": "2021-02-16T14:24:03.510545Z"
    },
    "papermill": {
     "duration": 0.390039,
     "end_time": "2021-02-16T14:24:03.511509",
     "exception": false,
     "start_time": "2021-02-16T14:24:03.121470",
     "status": "completed"
    },
    "tags": []
   },
   "outputs": [
    {
     "data": {
      "text/html": [
       "<style type='text/css'>\n",
       ".datatable table.frame { margin-bottom: 0; }\n",
       ".datatable table.frame thead { border-bottom: none; }\n",
       ".datatable table.frame tr.coltypes td {  color: #FFFFFF;  line-height: 6px;  padding: 0 0.5em;}\n",
       ".datatable .bool    { background: #DDDD99; }\n",
       ".datatable .object  { background: #565656; }\n",
       ".datatable .int     { background: #5D9E5D; }\n",
       ".datatable .float   { background: #4040CC; }\n",
       ".datatable .str     { background: #CC4040; }\n",
       ".datatable .row_index {  background: var(--jp-border-color3);  border-right: 1px solid var(--jp-border-color0);  color: var(--jp-ui-font-color3);  font-size: 9px;}\n",
       ".datatable .frame tr.coltypes .row_index {  background: var(--jp-border-color0);}\n",
       ".datatable th:nth-child(2) { padding-left: 12px; }\n",
       ".datatable .hellipsis {  color: var(--jp-cell-editor-border-color);}\n",
       ".datatable .vellipsis {  background: var(--jp-layout-color0);  color: var(--jp-cell-editor-border-color);}\n",
       ".datatable .na {  color: var(--jp-cell-editor-border-color);  font-size: 80%;}\n",
       ".datatable .footer { font-size: 9px; }\n",
       ".datatable .frame_dimensions {  background: var(--jp-border-color3);  border-top: 1px solid var(--jp-border-color0);  color: var(--jp-ui-font-color3);  display: inline-block;  opacity: 0.6;  padding: 1px 10px 1px 5px;}\n",
       "</style>\n"
      ],
      "text/plain": [
       "<IPython.core.display.HTML object>"
      ]
     },
     "metadata": {},
     "output_type": "display_data"
    }
   ],
   "source": [
    "import lightgbm as lgbm\n",
    "from sklearn.model_selection import train_test_split\n",
    "\n",
    "# 8:2 비율로 훈련 데이터, 검증 데이터 분리 (베이지안 최적화 수행용)\n",
    "X_train, X_valid, y_train, y_valid = train_test_split(X, y, \n",
    "                                                      test_size=0.2, \n",
    "                                                      random_state=0)\n",
    "\n",
    "# 베이지안 최적화용 데이터 세트\n",
    "bayes_dtrain = lgbm.Dataset(X_train, y_train)\n",
    "bayes_dvalid = lgbm.Dataset(X_valid, y_valid)"
   ]
  },
  {
   "cell_type": "code",
   "execution_count": 12,
   "metadata": {
    "execution": {
     "iopub.execute_input": "2021-02-16T14:24:03.559616Z",
     "iopub.status.busy": "2021-02-16T14:24:03.558619Z",
     "iopub.status.idle": "2021-02-16T14:24:03.563288Z",
     "shell.execute_reply": "2021-02-16T14:24:03.562589Z"
    },
    "papermill": {
     "duration": 0.031893,
     "end_time": "2021-02-16T14:24:03.563450",
     "exception": false,
     "start_time": "2021-02-16T14:24:03.531557",
     "status": "completed"
    },
    "tags": []
   },
   "outputs": [],
   "source": [
    "# 베이지안 최적화를 위한 하이퍼 파라미터 범위\n",
    "param_bounds = {'num_leaves': (28, 33),\n",
    "                'lambda_l1': (0.9, 1),\n",
    "                'lambda_l2': (0.9, 1),\n",
    "                'feature_fraction': (0.6, 0.8),\n",
    "                'bagging_fraction': (0.7, 0.9),\n",
    "                'min_child_samples': (8, 12),\n",
    "                'min_child_weight': (120, 130)}\n",
    "\n",
    "# 고정된 하이퍼 파라미터\n",
    "fixed_params = {'objective': 'binary',\n",
    "                'learning_rate': 0.01,\n",
    "                'bagging_freq': 1,\n",
    "                'verbosity': 0,\n",
    "                'random_state': 1991}"
   ]
  },
  {
   "cell_type": "code",
   "execution_count": 13,
   "metadata": {
    "execution": {
     "iopub.execute_input": "2021-02-16T14:24:03.612752Z",
     "iopub.status.busy": "2021-02-16T14:24:03.611722Z",
     "iopub.status.idle": "2021-02-16T14:24:03.615596Z",
     "shell.execute_reply": "2021-02-16T14:24:03.614803Z"
    },
    "papermill": {
     "duration": 0.03284,
     "end_time": "2021-02-16T14:24:03.615769",
     "exception": false,
     "start_time": "2021-02-16T14:24:03.582929",
     "status": "completed"
    },
    "tags": []
   },
   "outputs": [],
   "source": [
    "def eval_function(num_leaves, lambda_l1, lambda_l2, feature_fraction,\n",
    "                  bagging_fraction, min_child_samples, min_child_weight):\n",
    "    '''최적화하려는 평가지표(지니계수) 계산 함수'''\n",
    "    \n",
    "    # 베이지안 최적화를 수행할 하이퍼 파라미터 ---①\n",
    "    params = {'num_leaves': int(round(num_leaves)),\n",
    "              'lambda_l1': lambda_l1,\n",
    "              'lambda_l2': lambda_l2,\n",
    "              'feature_fraction': feature_fraction,\n",
    "              'bagging_fraction': bagging_fraction,\n",
    "              'min_child_samples': int(round(min_child_samples)),\n",
    "              'min_child_weight': min_child_weight,\n",
    "              'feature_pre_filter': False}\n",
    "    # 고정된 하이퍼 파라미터도 추가 ---②\n",
    "    params.update(fixed_params)\n",
    "    \n",
    "    print('하이퍼 파라미터:', params)    \n",
    "    \n",
    "    # Light GBM 모델 훈련\n",
    "    lgb_model = lgbm.train(params=params, \n",
    "                           train_set=bayes_dtrain,\n",
    "                           num_boost_round=1500,\n",
    "                           valid_sets=bayes_dvalid,\n",
    "                           feval=gini,\n",
    "                           early_stopping_rounds=150,\n",
    "                           verbose_eval=False)\n",
    "    \n",
    "    best_iter = lgb_model.best_iteration # 최적 반복 횟수\n",
    "    # 검증 데이터로 예측 수행\n",
    "    preds = lgb_model.predict(X_valid, num_iteration=best_iter)\n",
    "    # 지니계수 계산\n",
    "    gini_score = eval_gini(y_valid, preds)\n",
    "    print(f'지니계수: {gini_score}\\n')\n",
    "    \n",
    "    return gini_score"
   ]
  },
  {
   "cell_type": "code",
   "execution_count": 14,
   "metadata": {
    "execution": {
     "iopub.execute_input": "2021-02-16T14:24:03.660193Z",
     "iopub.status.busy": "2021-02-16T14:24:03.659379Z",
     "iopub.status.idle": "2021-02-16T14:24:03.685338Z",
     "shell.execute_reply": "2021-02-16T14:24:03.684750Z"
    },
    "papermill": {
     "duration": 0.050577,
     "end_time": "2021-02-16T14:24:03.685492",
     "exception": false,
     "start_time": "2021-02-16T14:24:03.634915",
     "status": "completed"
    },
    "tags": []
   },
   "outputs": [],
   "source": [
    "from bayes_opt import BayesianOptimization\n",
    "\n",
    "# 베이지안 최적화 객체 생성\n",
    "optimizer = BayesianOptimization(f=eval_function, # 평가지표 계산 ㅎ마수\n",
    "                                 pbounds=param_bounds, # 하이퍼 파라미터 범위\n",
    "                                 random_state=0)"
   ]
  },
  {
   "cell_type": "code",
   "execution_count": 15,
   "metadata": {
    "execution": {
     "iopub.execute_input": "2021-02-16T14:24:03.730323Z",
     "iopub.status.busy": "2021-02-16T14:24:03.729636Z",
     "iopub.status.idle": "2021-02-16T14:52:07.823177Z",
     "shell.execute_reply": "2021-02-16T14:52:07.823777Z"
    },
    "papermill": {
     "duration": 1684.119242,
     "end_time": "2021-02-16T14:52:07.824193",
     "exception": false,
     "start_time": "2021-02-16T14:24:03.704951",
     "status": "completed"
    },
    "tags": []
   },
   "outputs": [
    {
     "name": "stdout",
     "output_type": "stream",
     "text": [
      "|   iter    |  target   | baggin... | featur... | lambda_l1 | lambda_l2 | min_ch... | min_ch... | num_le... |\n",
      "-------------------------------------------------------------------------------------------------------------\n",
      "하이퍼 파라미터: {'num_leaves': 30, 'lambda_l1': 0.9602763376071644, 'lambda_l2': 0.9544883182996897, 'feature_fraction': 0.7430378732744839, 'bagging_fraction': 0.809762700785465, 'min_child_samples': 10, 'min_child_weight': 126.45894113066656, 'feature_pre_filter': False, 'objective': 'binary', 'learning_rate': 0.01, 'bagging_freq': 1, 'verbosity': 0, 'random_state': 1991}\n",
      "[LightGBM] [Warning] Auto-choosing row-wise multi-threading, the overhead of testing was 0.145820 seconds.\n",
      "You can set `force_row_wise=true` to remove the overhead.\n",
      "And if memory is not enough, you can set `force_col_wise=true`.\n",
      "지니계수: 0.2842759041022516\n",
      "\n",
      "| \u001b[0m 1       \u001b[0m | \u001b[0m 0.2843  \u001b[0m | \u001b[0m 0.8098  \u001b[0m | \u001b[0m 0.743   \u001b[0m | \u001b[0m 0.9603  \u001b[0m | \u001b[0m 0.9545  \u001b[0m | \u001b[0m 9.695   \u001b[0m | \u001b[0m 126.5   \u001b[0m | \u001b[0m 30.19   \u001b[0m |\n",
      "하이퍼 파라미터: {'num_leaves': 33, 'lambda_l1': 0.9383441518825778, 'lambda_l2': 0.9791725038082665, 'feature_fraction': 0.7927325521002059, 'bagging_fraction': 0.878354600156416, 'min_child_samples': 10, 'min_child_weight': 125.68044561093933, 'feature_pre_filter': False, 'objective': 'binary', 'learning_rate': 0.01, 'bagging_freq': 1, 'verbosity': 0, 'random_state': 1991}\n",
      "[LightGBM] [Warning] Auto-choosing row-wise multi-threading, the overhead of testing was 0.188228 seconds.\n",
      "You can set `force_row_wise=true` to remove the overhead.\n",
      "And if memory is not enough, you can set `force_col_wise=true`.\n",
      "지니계수: 0.2836988146765887\n",
      "\n",
      "| \u001b[0m 2       \u001b[0m | \u001b[0m 0.2837  \u001b[0m | \u001b[0m 0.8784  \u001b[0m | \u001b[0m 0.7927  \u001b[0m | \u001b[0m 0.9383  \u001b[0m | \u001b[0m 0.9792  \u001b[0m | \u001b[0m 10.12   \u001b[0m | \u001b[0m 125.7   \u001b[0m | \u001b[0m 32.63   \u001b[0m |\n",
      "하이퍼 파라미터: {'num_leaves': 33, 'lambda_l1': 0.9020218397440326, 'lambda_l2': 0.9832619845547939, 'feature_fraction': 0.6174258599403081, 'bagging_fraction': 0.7142072116395773, 'min_child_samples': 11, 'min_child_weight': 128.7001214824682, 'feature_pre_filter': False, 'objective': 'binary', 'learning_rate': 0.01, 'bagging_freq': 1, 'verbosity': 0, 'random_state': 1991}\n",
      "[LightGBM] [Warning] Auto-choosing row-wise multi-threading, the overhead of testing was 0.148813 seconds.\n",
      "You can set `force_row_wise=true` to remove the overhead.\n",
      "And if memory is not enough, you can set `force_col_wise=true`.\n",
      "지니계수: 0.28391443117248355\n",
      "\n",
      "| \u001b[0m 3       \u001b[0m | \u001b[0m 0.2839  \u001b[0m | \u001b[0m 0.7142  \u001b[0m | \u001b[0m 0.6174  \u001b[0m | \u001b[0m 0.902   \u001b[0m | \u001b[0m 0.9833  \u001b[0m | \u001b[0m 11.11   \u001b[0m | \u001b[0m 128.7   \u001b[0m | \u001b[0m 32.89   \u001b[0m |\n",
      "하이퍼 파라미터: {'num_leaves': 33, 'lambda_l1': 0.9780529176286455, 'lambda_l2': 0.9118274425868933, 'feature_fraction': 0.6922958724505863, 'bagging_fraction': 0.8598317128433447, 'min_child_samples': 11, 'min_child_weight': 121.43353287409046, 'feature_pre_filter': False, 'objective': 'binary', 'learning_rate': 0.01, 'bagging_freq': 1, 'verbosity': 0, 'random_state': 1991}\n",
      "[LightGBM] [Warning] Auto-choosing row-wise multi-threading, the overhead of testing was 0.145943 seconds.\n",
      "You can set `force_row_wise=true` to remove the overhead.\n",
      "And if memory is not enough, you can set `force_col_wise=true`.\n",
      "지니계수: 0.2845046744053431\n",
      "\n",
      "| \u001b[95m 4       \u001b[0m | \u001b[95m 0.2845  \u001b[0m | \u001b[95m 0.8598  \u001b[0m | \u001b[95m 0.6923  \u001b[0m | \u001b[95m 0.9781  \u001b[0m | \u001b[95m 0.9118  \u001b[0m | \u001b[95m 10.56   \u001b[0m | \u001b[95m 121.4   \u001b[0m | \u001b[95m 32.72   \u001b[0m |\n",
      "하이퍼 파라미터: {'num_leaves': 28, 'lambda_l1': 0.9264555612104627, 'lambda_l2': 0.9774233689434216, 'feature_fraction': 0.6829323879981047, 'bagging_fraction': 0.8043696643500143, 'min_child_samples': 10, 'min_child_weight': 125.68433948868649, 'feature_pre_filter': False, 'objective': 'binary', 'learning_rate': 0.01, 'bagging_freq': 1, 'verbosity': 0, 'random_state': 1991}\n",
      "[LightGBM] [Warning] Auto-choosing col-wise multi-threading, the overhead of testing was 0.298148 seconds.\n",
      "You can set `force_col_wise=true` to remove the overhead.\n",
      "지니계수: 0.2853605897686769\n",
      "\n",
      "| \u001b[95m 5       \u001b[0m | \u001b[95m 0.2854  \u001b[0m | \u001b[95m 0.8044  \u001b[0m | \u001b[95m 0.6829  \u001b[0m | \u001b[95m 0.9265  \u001b[0m | \u001b[95m 0.9774  \u001b[0m | \u001b[95m 9.825   \u001b[0m | \u001b[95m 125.7   \u001b[0m | \u001b[95m 28.09   \u001b[0m |\n",
      "하이퍼 파라미터: {'num_leaves': 28, 'lambda_l1': 0.9518935616487411, 'lambda_l2': 0.96934215615996, 'feature_fraction': 0.6808824458321662, 'bagging_fraction': 0.8300748739266708, 'min_child_samples': 10, 'min_child_weight': 124.16951956609671, 'feature_pre_filter': False, 'objective': 'binary', 'learning_rate': 0.01, 'bagging_freq': 1, 'verbosity': 0, 'random_state': 1991}\n",
      "[LightGBM] [Warning] Auto-choosing row-wise multi-threading, the overhead of testing was 0.150602 seconds.\n",
      "You can set `force_row_wise=true` to remove the overhead.\n",
      "And if memory is not enough, you can set `force_col_wise=true`.\n",
      "지니계수: 0.2842276599972215\n",
      "\n",
      "| \u001b[0m 6       \u001b[0m | \u001b[0m 0.2842  \u001b[0m | \u001b[0m 0.8301  \u001b[0m | \u001b[0m 0.6809  \u001b[0m | \u001b[0m 0.9519  \u001b[0m | \u001b[0m 0.9693  \u001b[0m | \u001b[0m 9.975   \u001b[0m | \u001b[0m 124.2   \u001b[0m | \u001b[0m 28.0    \u001b[0m |\n",
      "하이퍼 파라미터: {'num_leaves': 31, 'lambda_l1': 0.9369224665248994, 'lambda_l2': 0.9032695189818599, 'feature_fraction': 0.7212682128819454, 'bagging_fraction': 0.811114264329537, 'min_child_samples': 11, 'min_child_weight': 126.43539080712682, 'feature_pre_filter': False, 'objective': 'binary', 'learning_rate': 0.01, 'bagging_freq': 1, 'verbosity': 0, 'random_state': 1991}\n",
      "[LightGBM] [Warning] Auto-choosing row-wise multi-threading, the overhead of testing was 0.162295 seconds.\n",
      "You can set `force_row_wise=true` to remove the overhead.\n",
      "And if memory is not enough, you can set `force_col_wise=true`.\n",
      "지니계수: 0.2829774781669648\n",
      "\n",
      "| \u001b[0m 7       \u001b[0m | \u001b[0m 0.283   \u001b[0m | \u001b[0m 0.8111  \u001b[0m | \u001b[0m 0.7213  \u001b[0m | \u001b[0m 0.9369  \u001b[0m | \u001b[0m 0.9033  \u001b[0m | \u001b[0m 10.77   \u001b[0m | \u001b[0m 126.4   \u001b[0m | \u001b[0m 31.3    \u001b[0m |\n",
      "하이퍼 파라미터: {'num_leaves': 28, 'lambda_l1': 0.9386614940661927, 'lambda_l2': 0.977468572300929, 'feature_fraction': 0.6965815866843761, 'bagging_fraction': 0.7917694608879337, 'min_child_samples': 9, 'min_child_weight': 126.21080322984122, 'feature_pre_filter': False, 'objective': 'binary', 'learning_rate': 0.01, 'bagging_freq': 1, 'verbosity': 0, 'random_state': 1991}\n",
      "[LightGBM] [Warning] Auto-choosing row-wise multi-threading, the overhead of testing was 0.175015 seconds.\n",
      "You can set `force_row_wise=true` to remove the overhead.\n",
      "And if memory is not enough, you can set `force_col_wise=true`.\n",
      "지니계수: 0.2841068293588416\n",
      "\n",
      "| \u001b[0m 8       \u001b[0m | \u001b[0m 0.2841  \u001b[0m | \u001b[0m 0.7918  \u001b[0m | \u001b[0m 0.6966  \u001b[0m | \u001b[0m 0.9387  \u001b[0m | \u001b[0m 0.9775  \u001b[0m | \u001b[0m 9.187   \u001b[0m | \u001b[0m 126.2   \u001b[0m | \u001b[0m 28.39   \u001b[0m |\n",
      "하이퍼 파라미터: {'num_leaves': 33, 'lambda_l1': 0.9480755142444572, 'lambda_l2': 0.9355463193852314, 'feature_fraction': 0.6556094550215008, 'bagging_fraction': 0.8531985023606866, 'min_child_samples': 11, 'min_child_weight': 121.45702199625019, 'feature_pre_filter': False, 'objective': 'binary', 'learning_rate': 0.01, 'bagging_freq': 1, 'verbosity': 0, 'random_state': 1991}\n",
      "[LightGBM] [Warning] Auto-choosing row-wise multi-threading, the overhead of testing was 0.146785 seconds.\n",
      "You can set `force_row_wise=true` to remove the overhead.\n",
      "And if memory is not enough, you can set `force_col_wise=true`.\n",
      "지니계수: 0.28505162289069125\n",
      "\n",
      "| \u001b[0m 9       \u001b[0m | \u001b[0m 0.2851  \u001b[0m | \u001b[0m 0.8532  \u001b[0m | \u001b[0m 0.6556  \u001b[0m | \u001b[0m 0.9481  \u001b[0m | \u001b[0m 0.9355  \u001b[0m | \u001b[0m 10.53   \u001b[0m | \u001b[0m 121.5   \u001b[0m | \u001b[0m 32.76   \u001b[0m |\n",
      "하이퍼 파라미터: {'num_leaves': 28, 'lambda_l1': 0.9576139053271895, 'lambda_l2': 0.9536059481546242, 'feature_fraction': 0.7252151288454692, 'bagging_fraction': 0.7972295965043527, 'min_child_samples': 10, 'min_child_weight': 125.67533886235528, 'feature_pre_filter': False, 'objective': 'binary', 'learning_rate': 0.01, 'bagging_freq': 1, 'verbosity': 0, 'random_state': 1991}\n",
      "[LightGBM] [Warning] Auto-choosing row-wise multi-threading, the overhead of testing was 0.153535 seconds.\n",
      "You can set `force_row_wise=true` to remove the overhead.\n",
      "And if memory is not enough, you can set `force_col_wise=true`.\n",
      "지니계수: 0.28471130199456773\n",
      "\n",
      "| \u001b[0m 10      \u001b[0m | \u001b[0m 0.2847  \u001b[0m | \u001b[0m 0.7972  \u001b[0m | \u001b[0m 0.7252  \u001b[0m | \u001b[0m 0.9576  \u001b[0m | \u001b[0m 0.9536  \u001b[0m | \u001b[0m 9.8     \u001b[0m | \u001b[0m 125.7   \u001b[0m | \u001b[0m 28.02   \u001b[0m |\n",
      "하이퍼 파라미터: {'num_leaves': 28, 'lambda_l1': 0.943658397357584, 'lambda_l2': 0.9968661597281969, 'feature_fraction': 0.7885156553335033, 'bagging_fraction': 0.8173298168659664, 'min_child_samples': 10, 'min_child_weight': 125.64475222095318, 'feature_pre_filter': False, 'objective': 'binary', 'learning_rate': 0.01, 'bagging_freq': 1, 'verbosity': 0, 'random_state': 1991}\n",
      "[LightGBM] [Warning] Auto-choosing row-wise multi-threading, the overhead of testing was 0.175533 seconds.\n",
      "You can set `force_row_wise=true` to remove the overhead.\n",
      "And if memory is not enough, you can set `force_col_wise=true`.\n",
      "지니계수: 0.28445322777485965\n",
      "\n",
      "| \u001b[0m 11      \u001b[0m | \u001b[0m 0.2845  \u001b[0m | \u001b[0m 0.8173  \u001b[0m | \u001b[0m 0.7885  \u001b[0m | \u001b[0m 0.9437  \u001b[0m | \u001b[0m 0.9969  \u001b[0m | \u001b[0m 9.808   \u001b[0m | \u001b[0m 125.6   \u001b[0m | \u001b[0m 28.18   \u001b[0m |\n",
      "하이퍼 파라미터: {'num_leaves': 30, 'lambda_l1': 0.9864234375301922, 'lambda_l2': 0.9373109984977455, 'feature_fraction': 0.6543342631269844, 'bagging_fraction': 0.7300029795689653, 'min_child_samples': 12, 'min_child_weight': 127.04673614102272, 'feature_pre_filter': False, 'objective': 'binary', 'learning_rate': 0.01, 'bagging_freq': 1, 'verbosity': 0, 'random_state': 1991}\n",
      "[LightGBM] [Warning] Auto-choosing row-wise multi-threading, the overhead of testing was 0.155666 seconds.\n",
      "You can set `force_row_wise=true` to remove the overhead.\n",
      "And if memory is not enough, you can set `force_col_wise=true`.\n",
      "지니계수: 0.2841860918638119\n",
      "\n",
      "| \u001b[0m 12      \u001b[0m | \u001b[0m 0.2842  \u001b[0m | \u001b[0m 0.73    \u001b[0m | \u001b[0m 0.6543  \u001b[0m | \u001b[0m 0.9864  \u001b[0m | \u001b[0m 0.9373  \u001b[0m | \u001b[0m 11.79   \u001b[0m | \u001b[0m 127.0   \u001b[0m | \u001b[0m 29.97   \u001b[0m |\n",
      "하이퍼 파라미터: {'num_leaves': 33, 'lambda_l1': 0.9380458340847643, 'lambda_l2': 0.961202378636248, 'feature_fraction': 0.6744616315151691, 'bagging_fraction': 0.8365254931655592, 'min_child_samples': 10, 'min_child_weight': 125.09914708310042, 'feature_pre_filter': False, 'objective': 'binary', 'learning_rate': 0.01, 'bagging_freq': 1, 'verbosity': 0, 'random_state': 1991}\n",
      "[LightGBM] [Warning] Auto-choosing row-wise multi-threading, the overhead of testing was 0.144676 seconds.\n",
      "You can set `force_row_wise=true` to remove the overhead.\n",
      "And if memory is not enough, you can set `force_col_wise=true`.\n",
      "지니계수: 0.2842043122927169\n",
      "\n",
      "| \u001b[0m 13      \u001b[0m | \u001b[0m 0.2842  \u001b[0m | \u001b[0m 0.8365  \u001b[0m | \u001b[0m 0.6745  \u001b[0m | \u001b[0m 0.938   \u001b[0m | \u001b[0m 0.9612  \u001b[0m | \u001b[0m 10.4    \u001b[0m | \u001b[0m 125.1   \u001b[0m | \u001b[0m 32.87   \u001b[0m |\n",
      "하이퍼 파라미터: {'num_leaves': 28, 'lambda_l1': 0.9074164128117759, 'lambda_l2': 0.9181716389862402, 'feature_fraction': 0.6651342729947742, 'bagging_fraction': 0.7639669923613932, 'min_child_samples': 10, 'min_child_weight': 125.77210372056366, 'feature_pre_filter': False, 'objective': 'binary', 'learning_rate': 0.01, 'bagging_freq': 1, 'verbosity': 0, 'random_state': 1991}\n",
      "[LightGBM] [Warning] Auto-choosing row-wise multi-threading, the overhead of testing was 0.145846 seconds.\n",
      "You can set `force_row_wise=true` to remove the overhead.\n",
      "And if memory is not enough, you can set `force_col_wise=true`.\n",
      "지니계수: 0.2845146418614573\n",
      "\n",
      "| \u001b[0m 14      \u001b[0m | \u001b[0m 0.2845  \u001b[0m | \u001b[0m 0.764   \u001b[0m | \u001b[0m 0.6651  \u001b[0m | \u001b[0m 0.9074  \u001b[0m | \u001b[0m 0.9182  \u001b[0m | \u001b[0m 9.752   \u001b[0m | \u001b[0m 125.8   \u001b[0m | \u001b[0m 28.05   \u001b[0m |\n",
      "하이퍼 파라미터: {'num_leaves': 28, 'lambda_l1': 0.9597591096974845, 'lambda_l2': 0.9901014238646019, 'feature_fraction': 0.6149524696137846, 'bagging_fraction': 0.7831784558593953, 'min_child_samples': 10, 'min_child_weight': 125.81438662633944, 'feature_pre_filter': False, 'objective': 'binary', 'learning_rate': 0.01, 'bagging_freq': 1, 'verbosity': 0, 'random_state': 1991}\n",
      "[LightGBM] [Warning] Auto-choosing row-wise multi-threading, the overhead of testing was 0.154458 seconds.\n",
      "You can set `force_row_wise=true` to remove the overhead.\n",
      "And if memory is not enough, you can set `force_col_wise=true`.\n",
      "지니계수: 0.2852337018283663\n",
      "\n",
      "| \u001b[0m 15      \u001b[0m | \u001b[0m 0.2852  \u001b[0m | \u001b[0m 0.7832  \u001b[0m | \u001b[0m 0.615   \u001b[0m | \u001b[0m 0.9598  \u001b[0m | \u001b[0m 0.9901  \u001b[0m | \u001b[0m 9.883   \u001b[0m | \u001b[0m 125.8   \u001b[0m | \u001b[0m 28.04   \u001b[0m |\n",
      "=============================================================================================================\n"
     ]
    }
   ],
   "source": [
    "# 베이지안 최적화 수행\n",
    "optimizer.maximize(init_points=5, n_iter=10)"
   ]
  },
  {
   "cell_type": "code",
   "execution_count": 16,
   "metadata": {
    "execution": {
     "iopub.execute_input": "2021-02-16T14:52:07.890214Z",
     "iopub.status.busy": "2021-02-16T14:52:07.889505Z",
     "iopub.status.idle": "2021-02-16T14:52:07.893777Z",
     "shell.execute_reply": "2021-02-16T14:52:07.894327Z"
    },
    "papermill": {
     "duration": 0.041102,
     "end_time": "2021-02-16T14:52:07.894502",
     "exception": false,
     "start_time": "2021-02-16T14:52:07.853400",
     "status": "completed"
    },
    "tags": []
   },
   "outputs": [
    {
     "data": {
      "text/plain": [
       "{'bagging_fraction': 0.8043696643500143,\n",
       " 'feature_fraction': 0.6829323879981047,\n",
       " 'lambda_l1': 0.9264555612104627,\n",
       " 'lambda_l2': 0.9774233689434216,\n",
       " 'min_child_samples': 9.824601328866194,\n",
       " 'min_child_weight': 125.68433948868649,\n",
       " 'num_leaves': 28.093949002181777}"
      ]
     },
     "execution_count": 16,
     "metadata": {},
     "output_type": "execute_result"
    }
   ],
   "source": [
    "# 평가함수 점수가 최대일 때 하이퍼 파라미터\n",
    "max_params = optimizer.max['params']\n",
    "max_params"
   ]
  },
  {
   "cell_type": "code",
   "execution_count": 17,
   "metadata": {
    "execution": {
     "iopub.execute_input": "2021-02-16T14:52:07.957314Z",
     "iopub.status.busy": "2021-02-16T14:52:07.956658Z",
     "iopub.status.idle": "2021-02-16T14:52:07.961733Z",
     "shell.execute_reply": "2021-02-16T14:52:07.961203Z"
    },
    "papermill": {
     "duration": 0.037533,
     "end_time": "2021-02-16T14:52:07.961870",
     "exception": false,
     "start_time": "2021-02-16T14:52:07.924337",
     "status": "completed"
    },
    "tags": []
   },
   "outputs": [],
   "source": [
    "# 정수형 하이퍼 파라미터 변환\n",
    "max_params['num_leaves'] = int(round(max_params['num_leaves']))\n",
    "max_params['min_child_samples'] = int(round(max_params['min_child_samples']))"
   ]
  },
  {
   "cell_type": "code",
   "execution_count": 18,
   "metadata": {
    "execution": {
     "iopub.execute_input": "2021-02-16T14:52:08.028331Z",
     "iopub.status.busy": "2021-02-16T14:52:08.027603Z",
     "iopub.status.idle": "2021-02-16T14:52:08.032008Z",
     "shell.execute_reply": "2021-02-16T14:52:08.031464Z"
    },
    "papermill": {
     "duration": 0.040647,
     "end_time": "2021-02-16T14:52:08.032174",
     "exception": false,
     "start_time": "2021-02-16T14:52:07.991527",
     "status": "completed"
    },
    "tags": []
   },
   "outputs": [
    {
     "data": {
      "text/plain": [
       "{'bagging_fraction': 0.8043696643500143,\n",
       " 'feature_fraction': 0.6829323879981047,\n",
       " 'lambda_l1': 0.9264555612104627,\n",
       " 'lambda_l2': 0.9774233689434216,\n",
       " 'min_child_samples': 10,\n",
       " 'min_child_weight': 125.68433948868649,\n",
       " 'num_leaves': 28}"
      ]
     },
     "execution_count": 18,
     "metadata": {},
     "output_type": "execute_result"
    }
   ],
   "source": [
    "max_params"
   ]
  },
  {
   "cell_type": "code",
   "execution_count": 19,
   "metadata": {
    "execution": {
     "iopub.execute_input": "2021-02-16T14:52:08.096929Z",
     "iopub.status.busy": "2021-02-16T14:52:08.096246Z",
     "iopub.status.idle": "2021-02-16T14:52:08.099984Z",
     "shell.execute_reply": "2021-02-16T14:52:08.100622Z"
    },
    "papermill": {
     "duration": 0.038145,
     "end_time": "2021-02-16T14:52:08.100825",
     "exception": false,
     "start_time": "2021-02-16T14:52:08.062680",
     "status": "completed"
    },
    "tags": []
   },
   "outputs": [],
   "source": [
    "# 고정된 하이퍼 파라미터 추가\n",
    "max_params.update(fixed_params)"
   ]
  },
  {
   "cell_type": "code",
   "execution_count": 20,
   "metadata": {
    "execution": {
     "iopub.execute_input": "2021-02-16T14:52:08.165958Z",
     "iopub.status.busy": "2021-02-16T14:52:08.165220Z",
     "iopub.status.idle": "2021-02-16T14:52:08.171967Z",
     "shell.execute_reply": "2021-02-16T14:52:08.171435Z"
    },
    "papermill": {
     "duration": 0.040453,
     "end_time": "2021-02-16T14:52:08.172138",
     "exception": false,
     "start_time": "2021-02-16T14:52:08.131685",
     "status": "completed"
    },
    "tags": []
   },
   "outputs": [
    {
     "data": {
      "text/plain": [
       "{'bagging_fraction': 0.8043696643500143,\n",
       " 'feature_fraction': 0.6829323879981047,\n",
       " 'lambda_l1': 0.9264555612104627,\n",
       " 'lambda_l2': 0.9774233689434216,\n",
       " 'min_child_samples': 10,\n",
       " 'min_child_weight': 125.68433948868649,\n",
       " 'num_leaves': 28,\n",
       " 'objective': 'binary',\n",
       " 'learning_rate': 0.01,\n",
       " 'bagging_freq': 1,\n",
       " 'verbosity': 0,\n",
       " 'random_state': 1991}"
      ]
     },
     "execution_count": 20,
     "metadata": {},
     "output_type": "execute_result"
    }
   ],
   "source": [
    "max_params"
   ]
  },
  {
   "cell_type": "code",
   "execution_count": 21,
   "metadata": {
    "execution": {
     "iopub.execute_input": "2021-02-16T14:52:08.247717Z",
     "iopub.status.busy": "2021-02-16T14:52:08.246947Z",
     "iopub.status.idle": "2021-02-16T15:05:38.422365Z",
     "shell.execute_reply": "2021-02-16T15:05:38.422915Z"
    },
    "papermill": {
     "duration": 810.219114,
     "end_time": "2021-02-16T15:05:38.423139",
     "exception": false,
     "start_time": "2021-02-16T14:52:08.204025",
     "status": "completed"
    },
    "tags": []
   },
   "outputs": [
    {
     "name": "stdout",
     "output_type": "stream",
     "text": [
      "######################################## 폴드 1 / 폴드 5 ########################################\n",
      "[LightGBM] [Warning] Auto-choosing row-wise multi-threading, the overhead of testing was 0.140082 seconds.\n",
      "You can set `force_row_wise=true` to remove the overhead.\n",
      "And if memory is not enough, you can set `force_col_wise=true`.\n",
      "Training until validation scores don't improve for 150 rounds\n",
      "[100]\tvalid_0's binary_logloss: 0.153315\tvalid_0's gini: 0.270034\n",
      "[200]\tvalid_0's binary_logloss: 0.152339\tvalid_0's gini: 0.280485\n",
      "[300]\tvalid_0's binary_logloss: 0.151922\tvalid_0's gini: 0.286543\n",
      "[400]\tvalid_0's binary_logloss: 0.15169\tvalid_0's gini: 0.291089\n",
      "[500]\tvalid_0's binary_logloss: 0.151544\tvalid_0's gini: 0.294535\n",
      "[600]\tvalid_0's binary_logloss: 0.151467\tvalid_0's gini: 0.296222\n",
      "[700]\tvalid_0's binary_logloss: 0.151405\tvalid_0's gini: 0.297658\n",
      "[800]\tvalid_0's binary_logloss: 0.151368\tvalid_0's gini: 0.298591\n",
      "[900]\tvalid_0's binary_logloss: 0.151337\tvalid_0's gini: 0.299329\n",
      "[1000]\tvalid_0's binary_logloss: 0.151325\tvalid_0's gini: 0.299571\n",
      "[1100]\tvalid_0's binary_logloss: 0.151312\tvalid_0's gini: 0.29987\n",
      "[1200]\tvalid_0's binary_logloss: 0.151309\tvalid_0's gini: 0.299973\n",
      "[1300]\tvalid_0's binary_logloss: 0.151309\tvalid_0's gini: 0.29986\n",
      "Early stopping, best iteration is:\n",
      "[1209]\tvalid_0's binary_logloss: 0.151306\tvalid_0's gini: 0.300053\n",
      "폴드 1 지니계수: 0.3000525641260156\n",
      "\n",
      "######################################## 폴드 2 / 폴드 5 ########################################\n",
      "[LightGBM] [Warning] Auto-choosing row-wise multi-threading, the overhead of testing was 0.142609 seconds.\n",
      "You can set `force_row_wise=true` to remove the overhead.\n",
      "And if memory is not enough, you can set `force_col_wise=true`.\n",
      "Training until validation scores don't improve for 150 rounds\n",
      "[100]\tvalid_0's binary_logloss: 0.153498\tvalid_0's gini: 0.258413\n",
      "[200]\tvalid_0's binary_logloss: 0.15262\tvalid_0's gini: 0.26765\n",
      "[300]\tvalid_0's binary_logloss: 0.152267\tvalid_0's gini: 0.273355\n",
      "[400]\tvalid_0's binary_logloss: 0.152086\tvalid_0's gini: 0.277154\n",
      "[500]\tvalid_0's binary_logloss: 0.151977\tvalid_0's gini: 0.279912\n",
      "[600]\tvalid_0's binary_logloss: 0.151912\tvalid_0's gini: 0.281631\n",
      "[700]\tvalid_0's binary_logloss: 0.151872\tvalid_0's gini: 0.28274\n",
      "[800]\tvalid_0's binary_logloss: 0.151831\tvalid_0's gini: 0.283899\n",
      "[900]\tvalid_0's binary_logloss: 0.15182\tvalid_0's gini: 0.284216\n",
      "[1000]\tvalid_0's binary_logloss: 0.151807\tvalid_0's gini: 0.284581\n",
      "[1100]\tvalid_0's binary_logloss: 0.151792\tvalid_0's gini: 0.285036\n",
      "[1200]\tvalid_0's binary_logloss: 0.151792\tvalid_0's gini: 0.285047\n",
      "[1300]\tvalid_0's binary_logloss: 0.151786\tvalid_0's gini: 0.285333\n",
      "[1400]\tvalid_0's binary_logloss: 0.151787\tvalid_0's gini: 0.285537\n",
      "[1500]\tvalid_0's binary_logloss: 0.151784\tvalid_0's gini: 0.285584\n",
      "Did not meet early stopping. Best iteration is:\n",
      "[1459]\tvalid_0's binary_logloss: 0.151783\tvalid_0's gini: 0.285681\n",
      "폴드 2 지니계수: 0.2856809897393425\n",
      "\n",
      "######################################## 폴드 3 / 폴드 5 ########################################\n",
      "[LightGBM] [Warning] Auto-choosing row-wise multi-threading, the overhead of testing was 0.140578 seconds.\n",
      "You can set `force_row_wise=true` to remove the overhead.\n",
      "And if memory is not enough, you can set `force_col_wise=true`.\n",
      "Training until validation scores don't improve for 150 rounds\n",
      "[100]\tvalid_0's binary_logloss: 0.153333\tvalid_0's gini: 0.26323\n",
      "[200]\tvalid_0's binary_logloss: 0.152367\tvalid_0's gini: 0.272493\n",
      "[300]\tvalid_0's binary_logloss: 0.151978\tvalid_0's gini: 0.277774\n",
      "[400]\tvalid_0's binary_logloss: 0.151784\tvalid_0's gini: 0.280881\n",
      "[500]\tvalid_0's binary_logloss: 0.151686\tvalid_0's gini: 0.282794\n",
      "[600]\tvalid_0's binary_logloss: 0.151638\tvalid_0's gini: 0.283821\n",
      "[700]\tvalid_0's binary_logloss: 0.151613\tvalid_0's gini: 0.284375\n",
      "[800]\tvalid_0's binary_logloss: 0.151606\tvalid_0's gini: 0.284532\n",
      "[900]\tvalid_0's binary_logloss: 0.151599\tvalid_0's gini: 0.284754\n",
      "[1000]\tvalid_0's binary_logloss: 0.151592\tvalid_0's gini: 0.284938\n",
      "[1100]\tvalid_0's binary_logloss: 0.151601\tvalid_0's gini: 0.284697\n",
      "Early stopping, best iteration is:\n",
      "[950]\tvalid_0's binary_logloss: 0.151592\tvalid_0's gini: 0.284989\n",
      "폴드 3 지니계수: 0.2849885601271959\n",
      "\n",
      "######################################## 폴드 4 / 폴드 5 ########################################\n",
      "[LightGBM] [Warning] Auto-choosing row-wise multi-threading, the overhead of testing was 0.145194 seconds.\n",
      "You can set `force_row_wise=true` to remove the overhead.\n",
      "And if memory is not enough, you can set `force_col_wise=true`.\n",
      "Training until validation scores don't improve for 150 rounds\n",
      "[100]\tvalid_0's binary_logloss: 0.153435\tvalid_0's gini: 0.256627\n",
      "[200]\tvalid_0's binary_logloss: 0.152524\tvalid_0's gini: 0.266658\n",
      "[300]\tvalid_0's binary_logloss: 0.152191\tvalid_0's gini: 0.271067\n",
      "[400]\tvalid_0's binary_logloss: 0.152034\tvalid_0's gini: 0.27396\n",
      "[500]\tvalid_0's binary_logloss: 0.151942\tvalid_0's gini: 0.27619\n",
      "[600]\tvalid_0's binary_logloss: 0.151882\tvalid_0's gini: 0.277677\n",
      "[700]\tvalid_0's binary_logloss: 0.151851\tvalid_0's gini: 0.278579\n",
      "[800]\tvalid_0's binary_logloss: 0.151819\tvalid_0's gini: 0.279461\n",
      "[900]\tvalid_0's binary_logloss: 0.151808\tvalid_0's gini: 0.279975\n",
      "[1000]\tvalid_0's binary_logloss: 0.151798\tvalid_0's gini: 0.280149\n",
      "[1100]\tvalid_0's binary_logloss: 0.151797\tvalid_0's gini: 0.280201\n",
      "[1200]\tvalid_0's binary_logloss: 0.151797\tvalid_0's gini: 0.280353\n",
      "Early stopping, best iteration is:\n",
      "[1128]\tvalid_0's binary_logloss: 0.151791\tvalid_0's gini: 0.280389\n",
      "폴드 4 지니계수: 0.2803887114157609\n",
      "\n",
      "######################################## 폴드 5 / 폴드 5 ########################################\n",
      "[LightGBM] [Warning] Auto-choosing row-wise multi-threading, the overhead of testing was 0.202764 seconds.\n",
      "You can set `force_row_wise=true` to remove the overhead.\n",
      "And if memory is not enough, you can set `force_col_wise=true`.\n",
      "Training until validation scores don't improve for 150 rounds\n",
      "[100]\tvalid_0's binary_logloss: 0.153534\tvalid_0's gini: 0.265252\n",
      "[200]\tvalid_0's binary_logloss: 0.152629\tvalid_0's gini: 0.274421\n",
      "[300]\tvalid_0's binary_logloss: 0.152249\tvalid_0's gini: 0.280526\n",
      "[400]\tvalid_0's binary_logloss: 0.152031\tvalid_0's gini: 0.285706\n",
      "[500]\tvalid_0's binary_logloss: 0.151906\tvalid_0's gini: 0.289104\n",
      "[600]\tvalid_0's binary_logloss: 0.151817\tvalid_0's gini: 0.29166\n",
      "[700]\tvalid_0's binary_logloss: 0.151771\tvalid_0's gini: 0.292958\n",
      "[800]\tvalid_0's binary_logloss: 0.15174\tvalid_0's gini: 0.293975\n",
      "[900]\tvalid_0's binary_logloss: 0.151721\tvalid_0's gini: 0.294603\n",
      "[1000]\tvalid_0's binary_logloss: 0.151709\tvalid_0's gini: 0.295097\n",
      "[1100]\tvalid_0's binary_logloss: 0.151689\tvalid_0's gini: 0.295655\n",
      "[1200]\tvalid_0's binary_logloss: 0.151685\tvalid_0's gini: 0.295904\n",
      "[1300]\tvalid_0's binary_logloss: 0.151685\tvalid_0's gini: 0.295988\n",
      "[1400]\tvalid_0's binary_logloss: 0.151683\tvalid_0's gini: 0.296066\n",
      "Early stopping, best iteration is:\n",
      "[1321]\tvalid_0's binary_logloss: 0.151681\tvalid_0's gini: 0.296151\n",
      "폴드 5 지니계수: 0.2961510502799241\n",
      "\n"
     ]
    }
   ],
   "source": [
    "from sklearn.model_selection import StratifiedKFold\n",
    "\n",
    "# Stratified K 폴드 교차검증기 생성\n",
    "folds = StratifiedKFold(n_splits=5, shuffle=True, random_state=1991)\n",
    "\n",
    "oof_preds = np.zeros(X.shape[0]) # OOF 예측용 1차원 배열\n",
    "test_preds = np.zeros(X_test.shape[0]) # 테스트 데이터 예측용 1차원 배열\n",
    "\n",
    "# OOF 방식으로 모델 훈련, 검증, 예측\n",
    "for idx, (train_idx, valid_idx) in enumerate(folds.split(X, y)):\n",
    "    # 각 폴드를 구분하는 문구\n",
    "    print('#'*40, f'폴드 {idx+1} / 폴드 {folds.n_splits}', '#'*40)\n",
    "    \n",
    "    # 훈련용 데이터, 검증용 데이터 설정 ---①\n",
    "    X_train, y_train = X[train_idx], y[train_idx] # 훈련용 데이터\n",
    "    X_valid, y_valid = X[valid_idx], y[valid_idx] # 검증용 데이터\n",
    "\n",
    "    # lgbm 데이터세트 생성 ---②\n",
    "    dtrain = lgbm.Dataset(X_train, y_train) # lgbm 훈련 데이터세트\n",
    "    dvalid = lgbm.Dataset(X_valid, y_valid) # lgbm 검증 데이터세트\n",
    "\n",
    "    # Light GBM 모델 훈련 ---③\n",
    "    lgb_model = lgbm.train(params=max_params, # 최적 하이퍼 파라미터\n",
    "                           train_set=dtrain, # 훈련 데이터\n",
    "                           num_boost_round=1500, # 부스팅 반복 횟수\n",
    "                           valid_sets=dvalid, # 모델 성능 평가용 검증 데이터\n",
    "                           feval=gini, # 검증용 평가지표\n",
    "                           early_stopping_rounds=150, # 조기종료 조건\n",
    "                           verbose_eval=100)\n",
    "    \n",
    "    # 모델 성능이 가장 좋을 때의 부스팅 반복 횟수 저장 ---④\n",
    "    best_iter = lgb_model.best_iteration\n",
    "    # 테스트 데이터를 활용해 예측 ---⑤\n",
    "    test_preds += lgb_model.predict(X_test, \n",
    "                                    num_iteration=best_iter)/folds.n_splits\n",
    "    # 모델 성능 평가를 위한 oof 예측 ---⑥\n",
    "    oof_preds[valid_idx] += lgb_model.predict(X_valid, num_iteration=best_iter)\n",
    "    \n",
    "    # oof 예측확률에 대한 정규화 지니계수 ---⑦\n",
    "    gini_score = eval_gini(y_valid, oof_preds[valid_idx])\n",
    "    print(f'폴드 {idx+1} 지니계수: {gini_score}\\n')"
   ]
  },
  {
   "cell_type": "code",
   "execution_count": 22,
   "metadata": {
    "execution": {
     "iopub.execute_input": "2021-02-16T15:05:38.577794Z",
     "iopub.status.busy": "2021-02-16T15:05:38.576527Z",
     "iopub.status.idle": "2021-02-16T15:05:38.702257Z",
     "shell.execute_reply": "2021-02-16T15:05:38.701407Z"
    },
    "papermill": {
     "duration": 0.206595,
     "end_time": "2021-02-16T15:05:38.702413",
     "exception": false,
     "start_time": "2021-02-16T15:05:38.495818",
     "status": "completed"
    },
    "tags": []
   },
   "outputs": [
    {
     "name": "stdout",
     "output_type": "stream",
     "text": [
      "OOF 지니계수: 0.2893420267793303\n"
     ]
    }
   ],
   "source": [
    "print('OOF 지니계수:', eval_gini(y, oof_preds))"
   ]
  },
  {
   "cell_type": "code",
   "execution_count": 23,
   "metadata": {
    "execution": {
     "iopub.execute_input": "2021-02-16T15:05:38.828071Z",
     "iopub.status.busy": "2021-02-16T15:05:38.826899Z",
     "iopub.status.idle": "2021-02-16T15:05:42.477695Z",
     "shell.execute_reply": "2021-02-16T15:05:42.478299Z"
    },
    "papermill": {
     "duration": 3.717885,
     "end_time": "2021-02-16T15:05:42.478485",
     "exception": false,
     "start_time": "2021-02-16T15:05:38.760600",
     "status": "completed"
    },
    "tags": []
   },
   "outputs": [],
   "source": [
    "submission['target'] = test_preds\n",
    "submission.to_csv('submission.csv')"
   ]
  },
  {
   "cell_type": "markdown",
   "metadata": {
    "papermill": {
     "duration": 0.057639,
     "end_time": "2021-02-16T15:05:42.592557",
     "exception": false,
     "start_time": "2021-02-16T15:05:42.534918",
     "status": "completed"
    },
    "tags": []
   },
   "source": [
    "- 12: num_boost_round = 1400 (pb: 0.29138)\n",
    "- 13: 0.2893420267793303, num_boost_round = 1500으로 늘림 (0.29144)\n",
    "- 14: 0.2893420267793303, 재생산 코드\n",
    "- 15: 재생산 코드\n",
    "- 16: 베이지안 num_boost_round=1500으로 수정 후 한글화 작업\n",
    "- 17: 베이지안 출력 로그 빼기"
   ]
  },
  {
   "cell_type": "code",
   "execution_count": 24,
   "metadata": {
    "execution": {
     "iopub.execute_input": "2021-02-16T15:05:42.712756Z",
     "iopub.status.busy": "2021-02-16T15:05:42.711958Z",
     "iopub.status.idle": "2021-02-16T15:05:42.715942Z",
     "shell.execute_reply": "2021-02-16T15:05:42.715452Z"
    },
    "papermill": {
     "duration": 0.066786,
     "end_time": "2021-02-16T15:05:42.716104",
     "exception": false,
     "start_time": "2021-02-16T15:05:42.649318",
     "status": "completed"
    },
    "tags": []
   },
   "outputs": [
    {
     "data": {
      "text/plain": [
       "{'bagging_fraction': 0.8043696643500143,\n",
       " 'feature_fraction': 0.6829323879981047,\n",
       " 'lambda_l1': 0.9264555612104627,\n",
       " 'lambda_l2': 0.9774233689434216,\n",
       " 'min_child_samples': 10,\n",
       " 'min_child_weight': 125.68433948868649,\n",
       " 'num_leaves': 28,\n",
       " 'objective': 'binary',\n",
       " 'learning_rate': 0.01,\n",
       " 'bagging_freq': 1,\n",
       " 'verbosity': 0,\n",
       " 'random_state': 1991}"
      ]
     },
     "execution_count": 24,
     "metadata": {},
     "output_type": "execute_result"
    }
   ],
   "source": [
    "max_params"
   ]
  }
 ],
 "metadata": {
  "kernelspec": {
   "display_name": "Python 3",
   "language": "python",
   "name": "python3"
  },
  "language_info": {
   "codemirror_mode": {
    "name": "ipython",
    "version": 3
   },
   "file_extension": ".py",
   "mimetype": "text/x-python",
   "name": "python",
   "nbconvert_exporter": "python",
   "pygments_lexer": "ipython3",
   "version": "3.7.9"
  },
  "papermill": {
   "default_parameters": {},
   "duration": 2587.812452,
   "end_time": "2021-02-16T15:05:43.688275",
   "environment_variables": {},
   "exception": null,
   "input_path": "__notebook__.ipynb",
   "output_path": "__notebook__.ipynb",
   "parameters": {},
   "start_time": "2021-02-16T14:22:35.875823",
   "version": "2.2.2"
  }
 },
 "nbformat": 4,
 "nbformat_minor": 4
}
