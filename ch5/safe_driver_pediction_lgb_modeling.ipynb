{
 "cells": [
  {
   "cell_type": "markdown",
   "metadata": {
    "papermill": {
     "duration": 0.022045,
     "end_time": "2021-03-18T11:00:02.345860",
     "exception": false,
     "start_time": "2021-03-18T11:00:02.323815",
     "status": "completed"
    },
    "tags": []
   },
   "source": [
    "# 안전 운전자 예측 경진대회 LightGBM 모델 성능 개선"
   ]
  },
  {
   "cell_type": "markdown",
   "metadata": {
    "papermill": {
     "duration": 0.019056,
     "end_time": "2021-03-18T11:00:02.384460",
     "exception": false,
     "start_time": "2021-03-18T11:00:02.365404",
     "status": "completed"
    },
    "tags": []
   },
   "source": [
    "- [안전 운전자 예측 경진대회 링크](https://www.kaggle.com/c/porto-seguro-safe-driver-prediction)\n",
    "- [모델링 노트북 참고 링크](https://www.kaggle.com/xiaozhouwang/2nd-place-lightgbm-solution)"
   ]
  },
  {
   "cell_type": "code",
   "execution_count": 1,
   "metadata": {
    "execution": {
     "iopub.execute_input": "2021-03-18T11:00:02.430935Z",
     "iopub.status.busy": "2021-03-18T11:00:02.430199Z",
     "iopub.status.idle": "2021-03-18T11:00:12.575186Z",
     "shell.execute_reply": "2021-03-18T11:00:12.574409Z"
    },
    "papermill": {
     "duration": 10.171274,
     "end_time": "2021-03-18T11:00:12.575440",
     "exception": false,
     "start_time": "2021-03-18T11:00:02.404166",
     "status": "completed"
    },
    "tags": []
   },
   "outputs": [],
   "source": [
    "# ch5/safe_driver_prediction_lgb_modeling.ipynb\n",
    "\n",
    "import numpy as np\n",
    "import pandas as pd\n",
    "\n",
    "# 데이터 경로\n",
    "data_path = '/kaggle/input/porto-seguro-safe-driver-prediction/'\n",
    "\n",
    "train = pd.read_csv(data_path + 'train.csv', index_col='id')\n",
    "test = pd.read_csv(data_path + 'test.csv', index_col='id')\n",
    "submission = pd.read_csv(data_path + 'sample_submission.csv', index_col='id')"
   ]
  },
  {
   "cell_type": "code",
   "execution_count": 2,
   "metadata": {
    "execution": {
     "iopub.execute_input": "2021-03-18T11:00:12.622863Z",
     "iopub.status.busy": "2021-03-18T11:00:12.622205Z",
     "iopub.status.idle": "2021-03-18T11:00:13.889888Z",
     "shell.execute_reply": "2021-03-18T11:00:13.890374Z"
    },
    "papermill": {
     "duration": 1.295143,
     "end_time": "2021-03-18T11:00:13.890555",
     "exception": false,
     "start_time": "2021-03-18T11:00:12.595412",
     "status": "completed"
    },
    "tags": []
   },
   "outputs": [],
   "source": [
    "all_data = pd.concat([train, test], ignore_index=True)\n",
    "all_data = all_data.drop('target', axis=1) # 타깃 값 제거\n",
    "\n",
    "all_features = all_data.columns # 전체 피처"
   ]
  },
  {
   "cell_type": "markdown",
   "metadata": {
    "papermill": {
     "duration": 0.019547,
     "end_time": "2021-03-18T11:00:13.930265",
     "exception": false,
     "start_time": "2021-03-18T11:00:13.910718",
     "status": "completed"
    },
    "tags": []
   },
   "source": [
    "## 피처 엔지니어링"
   ]
  },
  {
   "cell_type": "markdown",
   "metadata": {
    "papermill": {
     "duration": 0.019443,
     "end_time": "2021-03-18T11:00:13.970728",
     "exception": false,
     "start_time": "2021-03-18T11:00:13.951285",
     "status": "completed"
    },
    "tags": []
   },
   "source": [
    "### 데이터 하나당 가지고 있는 결측값 개수를 새로운 피처로 생성"
   ]
  },
  {
   "cell_type": "code",
   "execution_count": 3,
   "metadata": {
    "execution": {
     "iopub.execute_input": "2021-03-18T11:00:14.017239Z",
     "iopub.status.busy": "2021-03-18T11:00:14.016573Z",
     "iopub.status.idle": "2021-03-18T11:00:14.228728Z",
     "shell.execute_reply": "2021-03-18T11:00:14.228147Z"
    },
    "papermill": {
     "duration": 0.238372,
     "end_time": "2021-03-18T11:00:14.228882",
     "exception": false,
     "start_time": "2021-03-18T11:00:13.990510",
     "status": "completed"
    },
    "tags": []
   },
   "outputs": [],
   "source": [
    "# '데이터 하나당 결측값 개수'를 파생 변수로 추가\n",
    "all_data['num_missing'] = (all_data==-1).sum(axis=1)\n",
    "\n",
    "# 명목형 피처, 태그에 calc가 달린 피처를 제외한 피처\n",
    "remaining_features = [feature for feature in all_features\n",
    "                      if ('cat' not in feature and 'calc' not in feature)] \n",
    "# num_missing을 remaining_features에 추가\n",
    "remaining_features.append('num_missing')"
   ]
  },
  {
   "cell_type": "markdown",
   "metadata": {
    "papermill": {
     "duration": 0.019552,
     "end_time": "2021-03-18T11:00:14.268515",
     "exception": false,
     "start_time": "2021-03-18T11:00:14.248963",
     "status": "completed"
    },
    "tags": []
   },
   "source": [
    "### 명목형 피처에 원-핫 인코딩 적용"
   ]
  },
  {
   "cell_type": "code",
   "execution_count": 4,
   "metadata": {
    "execution": {
     "iopub.execute_input": "2021-03-18T11:00:14.315151Z",
     "iopub.status.busy": "2021-03-18T11:00:14.314220Z",
     "iopub.status.idle": "2021-03-18T11:00:17.657607Z",
     "shell.execute_reply": "2021-03-18T11:00:17.656890Z"
    },
    "papermill": {
     "duration": 3.368963,
     "end_time": "2021-03-18T11:00:17.657765",
     "exception": false,
     "start_time": "2021-03-18T11:00:14.288802",
     "status": "completed"
    },
    "tags": []
   },
   "outputs": [],
   "source": [
    "from sklearn.preprocessing import OneHotEncoder\n",
    "\n",
    "# 명목형 피처\n",
    "cat_features = [feature for feature in all_features if 'cat' in feature] \n",
    "\n",
    "# 원-핫 인코딩 적용\n",
    "onehot_encoder = OneHotEncoder()\n",
    "encoded_cat_matrix = onehot_encoder.fit_transform(all_data[cat_features]) "
   ]
  },
  {
   "cell_type": "markdown",
   "metadata": {
    "papermill": {
     "duration": 0.02339,
     "end_time": "2021-03-18T11:00:17.705103",
     "exception": false,
     "start_time": "2021-03-18T11:00:17.681713",
     "status": "completed"
    },
    "tags": []
   },
   "source": [
    "### 모든 ind 피처 값을 연결해서 새로운 피처 `mix_ind` 생성"
   ]
  },
  {
   "cell_type": "code",
   "execution_count": 5,
   "metadata": {
    "execution": {
     "iopub.execute_input": "2021-03-18T11:00:19.536596Z",
     "iopub.status.busy": "2021-03-18T11:00:19.535917Z",
     "iopub.status.idle": "2021-03-18T11:00:59.574106Z",
     "shell.execute_reply": "2021-03-18T11:00:59.573536Z"
    },
    "papermill": {
     "duration": 41.840106,
     "end_time": "2021-03-18T11:00:59.574255",
     "exception": false,
     "start_time": "2021-03-18T11:00:17.734149",
     "status": "completed"
    },
    "tags": []
   },
   "outputs": [],
   "source": [
    "# 태그에 ind가 달린 피처\n",
    "ind_features = [feature for feature in all_features if 'ind' in feature]\n",
    "\n",
    "is_first_feature=True\n",
    "for ind_feature in ind_features:\n",
    "    if is_first_feature:\n",
    "        all_data['mix_ind'] = all_data[ind_feature].astype(str)+'_'\n",
    "        is_first_feature = False\n",
    "    else:\n",
    "        all_data['mix_ind'] += all_data[ind_feature].astype(str)+'_'"
   ]
  },
  {
   "cell_type": "code",
   "execution_count": 6,
   "metadata": {
    "execution": {
     "iopub.execute_input": "2021-03-18T11:00:59.625115Z",
     "iopub.status.busy": "2021-03-18T11:00:59.624304Z",
     "iopub.status.idle": "2021-03-18T11:00:59.628438Z",
     "shell.execute_reply": "2021-03-18T11:00:59.628927Z"
    },
    "papermill": {
     "duration": 0.034198,
     "end_time": "2021-03-18T11:00:59.629091",
     "exception": false,
     "start_time": "2021-03-18T11:00:59.594893",
     "status": "completed"
    },
    "tags": []
   },
   "outputs": [
    {
     "data": {
      "text/plain": [
       "0          2_2_5_1_0_0_1_0_0_0_0_0_0_0_11_0_1_0_\n",
       "1           1_1_7_0_0_0_0_1_0_0_0_0_0_0_3_0_0_1_\n",
       "2          5_4_9_1_0_0_0_1_0_0_0_0_0_0_12_1_0_0_\n",
       "3           0_1_2_0_0_1_0_0_0_0_0_0_0_0_8_1_0_0_\n",
       "4           0_2_0_1_0_1_0_0_0_0_0_0_0_0_9_1_0_0_\n",
       "                           ...                  \n",
       "1488023     0_1_6_0_0_0_1_0_0_0_0_0_0_0_2_0_0_1_\n",
       "1488024    5_3_5_1_0_0_0_1_0_0_0_0_0_0_11_1_0_0_\n",
       "1488025     0_1_5_0_0_1_0_0_0_0_0_0_0_0_5_0_0_1_\n",
       "1488026    6_1_5_1_0_0_0_0_1_0_0_0_0_0_13_1_0_0_\n",
       "1488027    7_1_4_1_0_0_0_0_1_0_0_0_0_0_12_1_0_0_\n",
       "Name: mix_ind, Length: 1488028, dtype: object"
      ]
     },
     "execution_count": 6,
     "metadata": {},
     "output_type": "execute_result"
    }
   ],
   "source": [
    "all_data['mix_ind']"
   ]
  },
  {
   "cell_type": "markdown",
   "metadata": {
    "papermill": {
     "duration": 0.020051,
     "end_time": "2021-03-18T11:00:59.669834",
     "exception": false,
     "start_time": "2021-03-18T11:00:59.649783",
     "status": "completed"
    },
    "tags": []
   },
   "source": [
    "### 명목형 피처의 고유값별 개수를 새로운 피처로 생성"
   ]
  },
  {
   "cell_type": "code",
   "execution_count": 7,
   "metadata": {
    "execution": {
     "iopub.execute_input": "2021-03-18T11:00:59.720771Z",
     "iopub.status.busy": "2021-03-18T11:00:59.720062Z",
     "iopub.status.idle": "2021-03-18T11:01:14.417915Z",
     "shell.execute_reply": "2021-03-18T11:01:14.417244Z"
    },
    "papermill": {
     "duration": 14.727672,
     "end_time": "2021-03-18T11:01:14.418059",
     "exception": false,
     "start_time": "2021-03-18T11:00:59.690387",
     "status": "completed"
    },
    "tags": []
   },
   "outputs": [],
   "source": [
    "cat_count_features = []\n",
    "for feature in cat_features+['mix_ind']:\n",
    "    val_counts_dict = all_data[feature].value_counts().to_dict()\n",
    "    all_data[f'{feature}_count'] = all_data[feature].apply(lambda x: \n",
    "                                                           val_counts_dict[x])\n",
    "    cat_count_features.append(f'{feature}_count')"
   ]
  },
  {
   "cell_type": "code",
   "execution_count": 8,
   "metadata": {
    "execution": {
     "iopub.execute_input": "2021-03-18T11:01:14.465715Z",
     "iopub.status.busy": "2021-03-18T11:01:14.464677Z",
     "iopub.status.idle": "2021-03-18T11:01:14.468951Z",
     "shell.execute_reply": "2021-03-18T11:01:14.468402Z"
    },
    "papermill": {
     "duration": 0.029613,
     "end_time": "2021-03-18T11:01:14.469088",
     "exception": false,
     "start_time": "2021-03-18T11:01:14.439475",
     "status": "completed"
    },
    "tags": []
   },
   "outputs": [
    {
     "data": {
      "text/plain": [
       "['ps_ind_02_cat_count',\n",
       " 'ps_ind_04_cat_count',\n",
       " 'ps_ind_05_cat_count',\n",
       " 'ps_car_01_cat_count',\n",
       " 'ps_car_02_cat_count',\n",
       " 'ps_car_03_cat_count',\n",
       " 'ps_car_04_cat_count',\n",
       " 'ps_car_05_cat_count',\n",
       " 'ps_car_06_cat_count',\n",
       " 'ps_car_07_cat_count',\n",
       " 'ps_car_08_cat_count',\n",
       " 'ps_car_09_cat_count',\n",
       " 'ps_car_10_cat_count',\n",
       " 'ps_car_11_cat_count',\n",
       " 'mix_ind_count']"
      ]
     },
     "execution_count": 8,
     "metadata": {},
     "output_type": "execute_result"
    }
   ],
   "source": [
    "cat_count_features"
   ]
  },
  {
   "cell_type": "markdown",
   "metadata": {
    "papermill": {
     "duration": 0.020775,
     "end_time": "2021-03-18T11:01:14.511035",
     "exception": false,
     "start_time": "2021-03-18T11:01:14.490260",
     "status": "completed"
    },
    "tags": []
   },
   "source": [
    "### 훈련 및 테스트용 데이터 만들기"
   ]
  },
  {
   "cell_type": "code",
   "execution_count": 9,
   "metadata": {
    "execution": {
     "iopub.execute_input": "2021-03-18T11:01:14.556284Z",
     "iopub.status.busy": "2021-03-18T11:01:14.555703Z",
     "iopub.status.idle": "2021-03-18T11:01:20.017422Z",
     "shell.execute_reply": "2021-03-18T11:01:20.016844Z"
    },
    "papermill": {
     "duration": 5.485409,
     "end_time": "2021-03-18T11:01:20.017565",
     "exception": false,
     "start_time": "2021-03-18T11:01:14.532156",
     "status": "completed"
    },
    "tags": []
   },
   "outputs": [],
   "source": [
    "from scipy import sparse\n",
    "\n",
    "drop_features = ['ps_ind_14', 'ps_ind_10_bin','ps_ind_11_bin', \n",
    "                 'ps_ind_12_bin','ps_ind_13_bin','ps_car_14']\n",
    "\n",
    "# remaining_features, cat_count_features에서 drop_features를 제거한 데이터\n",
    "all_data_remaining = all_data[remaining_features+cat_count_features].drop(drop_features, axis=1)\n",
    "\n",
    "# 데이터 합치기\n",
    "all_data_sprs = sparse.hstack([sparse.csr_matrix(all_data_remaining),\n",
    "                               encoded_cat_matrix],\n",
    "                              format='csr')"
   ]
  },
  {
   "cell_type": "code",
   "execution_count": 10,
   "metadata": {
    "execution": {
     "iopub.execute_input": "2021-03-18T11:01:20.066102Z",
     "iopub.status.busy": "2021-03-18T11:01:20.065366Z",
     "iopub.status.idle": "2021-03-18T11:01:21.038673Z",
     "shell.execute_reply": "2021-03-18T11:01:21.038097Z"
    },
    "papermill": {
     "duration": 0.9997,
     "end_time": "2021-03-18T11:01:21.038831",
     "exception": false,
     "start_time": "2021-03-18T11:01:20.039131",
     "status": "completed"
    },
    "tags": []
   },
   "outputs": [],
   "source": [
    "num_train = train.shape[0] # 훈련 데이터 개수\n",
    "\n",
    "# 훈련 데이터와 테스트 데이터 나누기\n",
    "X = all_data_sprs[:num_train]\n",
    "X_test = all_data_sprs[num_train:]\n",
    "\n",
    "y = train['target'].values"
   ]
  },
  {
   "cell_type": "markdown",
   "metadata": {
    "papermill": {
     "duration": 0.021437,
     "end_time": "2021-03-18T11:01:21.081791",
     "exception": false,
     "start_time": "2021-03-18T11:01:21.060354",
     "status": "completed"
    },
    "tags": []
   },
   "source": [
    "### 지니계수 계산 함수"
   ]
  },
  {
   "cell_type": "code",
   "execution_count": 11,
   "metadata": {
    "execution": {
     "iopub.execute_input": "2021-03-18T11:01:21.133258Z",
     "iopub.status.busy": "2021-03-18T11:01:21.132447Z",
     "iopub.status.idle": "2021-03-18T11:01:21.135462Z",
     "shell.execute_reply": "2021-03-18T11:01:21.134870Z"
    },
    "papermill": {
     "duration": 0.032112,
     "end_time": "2021-03-18T11:01:21.135605",
     "exception": false,
     "start_time": "2021-03-18T11:01:21.103493",
     "status": "completed"
    },
    "tags": []
   },
   "outputs": [],
   "source": [
    "def eval_gini(y_true, y_pred):\n",
    "    # 실제 값과 예측 값의 크기가 같은지 확인 (값이 다르면 오류 발생)\n",
    "    assert y_true.shape == y_pred.shape\n",
    "\n",
    "    n_samples = y_true.shape[0] # 데이터 개수\n",
    "    L_mid = np.linspace(1 / n_samples, 1, n_samples) # 대각선 값\n",
    "\n",
    "    # 1) 예측 값에 대한 지니계수\n",
    "    pred_order = y_true[y_pred.argsort()] # y_pred 크기순으로 y_true 값 정렬\n",
    "    L_pred = np.cumsum(pred_order) / np.sum(pred_order) # 로렌츠 곡선\n",
    "    G_pred = np.sum(L_mid - L_pred)# 예측 값에 대한 지니계수\n",
    "\n",
    "    # 2) 예측이 완벽할 때 지니계수\n",
    "    true_order = y_true[y_true.argsort()] # y_true 크기순으로 y_true 값 정렬\n",
    "    L_true = np.cumsum(true_order) / np.sum(true_order) # 로렌츠 곡선\n",
    "    G_true = np.sum(L_mid - L_true) # 예측이 완벽할 때 지니계수\n",
    "\n",
    "    # 정규화된 지니계수\n",
    "    return G_pred / G_true"
   ]
  },
  {
   "cell_type": "code",
   "execution_count": 12,
   "metadata": {
    "execution": {
     "iopub.execute_input": "2021-03-18T11:01:21.184361Z",
     "iopub.status.busy": "2021-03-18T11:01:21.183660Z",
     "iopub.status.idle": "2021-03-18T11:01:21.186214Z",
     "shell.execute_reply": "2021-03-18T11:01:21.186710Z"
    },
    "papermill": {
     "duration": 0.02958,
     "end_time": "2021-03-18T11:01:21.186885",
     "exception": false,
     "start_time": "2021-03-18T11:01:21.157305",
     "status": "completed"
    },
    "tags": []
   },
   "outputs": [],
   "source": [
    "def gini(preds, dtrain):\n",
    "    labels = dtrain.get_label()\n",
    "    return 'gini', eval_gini(labels, preds), True"
   ]
  },
  {
   "cell_type": "markdown",
   "metadata": {
    "papermill": {
     "duration": 0.021996,
     "end_time": "2021-03-18T11:01:21.230627",
     "exception": false,
     "start_time": "2021-03-18T11:01:21.208631",
     "status": "completed"
    },
    "tags": []
   },
   "source": [
    "## 하이퍼 파라미터 최적화\n",
    "- BayesianOptimization을 활용한 베이지안 최적화"
   ]
  },
  {
   "cell_type": "code",
   "execution_count": 13,
   "metadata": {
    "execution": {
     "iopub.execute_input": "2021-03-18T11:01:21.279192Z",
     "iopub.status.busy": "2021-03-18T11:01:21.278505Z",
     "iopub.status.idle": "2021-03-18T11:01:21.640506Z",
     "shell.execute_reply": "2021-03-18T11:01:21.641034Z"
    },
    "papermill": {
     "duration": 0.389159,
     "end_time": "2021-03-18T11:01:21.641210",
     "exception": false,
     "start_time": "2021-03-18T11:01:21.252051",
     "status": "completed"
    },
    "tags": []
   },
   "outputs": [
    {
     "data": {
      "text/html": [
       "<style type='text/css'>\n",
       ".datatable table.frame { margin-bottom: 0; }\n",
       ".datatable table.frame thead { border-bottom: none; }\n",
       ".datatable table.frame tr.coltypes td {  color: #FFFFFF;  line-height: 6px;  padding: 0 0.5em;}\n",
       ".datatable .bool    { background: #DDDD99; }\n",
       ".datatable .object  { background: #565656; }\n",
       ".datatable .int     { background: #5D9E5D; }\n",
       ".datatable .float   { background: #4040CC; }\n",
       ".datatable .str     { background: #CC4040; }\n",
       ".datatable .row_index {  background: var(--jp-border-color3);  border-right: 1px solid var(--jp-border-color0);  color: var(--jp-ui-font-color3);  font-size: 9px;}\n",
       ".datatable .frame tr.coltypes .row_index {  background: var(--jp-border-color0);}\n",
       ".datatable th:nth-child(2) { padding-left: 12px; }\n",
       ".datatable .hellipsis {  color: var(--jp-cell-editor-border-color);}\n",
       ".datatable .vellipsis {  background: var(--jp-layout-color0);  color: var(--jp-cell-editor-border-color);}\n",
       ".datatable .na {  color: var(--jp-cell-editor-border-color);  font-size: 80%;}\n",
       ".datatable .footer { font-size: 9px; }\n",
       ".datatable .frame_dimensions {  background: var(--jp-border-color3);  border-top: 1px solid var(--jp-border-color0);  color: var(--jp-ui-font-color3);  display: inline-block;  opacity: 0.6;  padding: 1px 10px 1px 5px;}\n",
       "</style>\n"
      ],
      "text/plain": [
       "<IPython.core.display.HTML object>"
      ]
     },
     "metadata": {},
     "output_type": "display_data"
    }
   ],
   "source": [
    "import lightgbm as lgb\n",
    "from sklearn.model_selection import train_test_split\n",
    "\n",
    "# 8:2 비율로 훈련 데이터, 검증 데이터 분리 (베이지안 최적화 수행용)\n",
    "X_train, X_valid, y_train, y_valid = train_test_split(X, y, \n",
    "                                                      test_size=0.2, \n",
    "                                                      random_state=0)\n",
    "\n",
    "# 베이지안 최적화용 데이터 세트\n",
    "bayes_dtrain = lgb.Dataset(X_train, y_train)\n",
    "bayes_dvalid = lgb.Dataset(X_valid, y_valid)"
   ]
  },
  {
   "cell_type": "code",
   "execution_count": 14,
   "metadata": {
    "execution": {
     "iopub.execute_input": "2021-03-18T11:01:21.692850Z",
     "iopub.status.busy": "2021-03-18T11:01:21.692156Z",
     "iopub.status.idle": "2021-03-18T11:01:21.695672Z",
     "shell.execute_reply": "2021-03-18T11:01:21.695041Z"
    },
    "papermill": {
     "duration": 0.032106,
     "end_time": "2021-03-18T11:01:21.695823",
     "exception": false,
     "start_time": "2021-03-18T11:01:21.663717",
     "status": "completed"
    },
    "tags": []
   },
   "outputs": [],
   "source": [
    "# 베이지안 최적화를 위한 하이퍼 파라미터 범위\n",
    "param_bounds = {'num_leaves': (28, 33),\n",
    "                'lambda_l1': (0.9, 1),\n",
    "                'lambda_l2': (0.9, 1),\n",
    "                'feature_fraction': (0.6, 0.8),\n",
    "                'bagging_fraction': (0.7, 0.9),\n",
    "                'min_child_samples': (8, 12),\n",
    "                'min_child_weight': (120, 130)}\n",
    "\n",
    "# 고정된 하이퍼 파라미터\n",
    "fixed_params = {'objective': 'binary',\n",
    "                'learning_rate': 0.01,\n",
    "                'bagging_freq': 1,\n",
    "                'force_row_wise': True,\n",
    "                'random_state': 1991}"
   ]
  },
  {
   "cell_type": "code",
   "execution_count": 15,
   "metadata": {
    "execution": {
     "iopub.execute_input": "2021-03-18T11:01:21.750542Z",
     "iopub.status.busy": "2021-03-18T11:01:21.749782Z",
     "iopub.status.idle": "2021-03-18T11:01:21.752911Z",
     "shell.execute_reply": "2021-03-18T11:01:21.752397Z"
    },
    "papermill": {
     "duration": 0.034279,
     "end_time": "2021-03-18T11:01:21.753052",
     "exception": false,
     "start_time": "2021-03-18T11:01:21.718773",
     "status": "completed"
    },
    "tags": []
   },
   "outputs": [],
   "source": [
    "def eval_function(num_leaves, lambda_l1, lambda_l2, feature_fraction,\n",
    "                  bagging_fraction, min_child_samples, min_child_weight):\n",
    "    '''최적화하려는 평가지표(지니계수) 계산 함수'''\n",
    "    \n",
    "    # 베이지안 최적화를 수행할 하이퍼 파라미터 ---①\n",
    "    params = {'num_leaves': int(round(num_leaves)),\n",
    "              'lambda_l1': lambda_l1,\n",
    "              'lambda_l2': lambda_l2,\n",
    "              'feature_fraction': feature_fraction,\n",
    "              'bagging_fraction': bagging_fraction,\n",
    "              'min_child_samples': int(round(min_child_samples)),\n",
    "              'min_child_weight': min_child_weight,\n",
    "              'feature_pre_filter': False}\n",
    "    # 고정된 하이퍼 파라미터도 추가 ---②\n",
    "    params.update(fixed_params)\n",
    "    \n",
    "    print('하이퍼 파라미터:', params)    \n",
    "    \n",
    "    # LightGBM 모델 훈련\n",
    "    lgb_model = lgb.train(params=params, \n",
    "                           train_set=bayes_dtrain,\n",
    "                           num_boost_round=1500,\n",
    "                           valid_sets=bayes_dvalid,\n",
    "                           feval=gini,\n",
    "                           early_stopping_rounds=150,\n",
    "                           verbose_eval=False)\n",
    "    \n",
    "    best_iter = lgb_model.best_iteration # 최적 반복 횟수\n",
    "    # 검증 데이터로 예측 수행\n",
    "    preds = lgb_model.predict(X_valid, num_iteration=best_iter) \n",
    "    # 지니계수 계산\n",
    "    gini_score = eval_gini(y_valid, preds)\n",
    "    print(f'지니계수: {gini_score}\\n')\n",
    "    \n",
    "    return gini_score"
   ]
  },
  {
   "cell_type": "code",
   "execution_count": 16,
   "metadata": {
    "execution": {
     "iopub.execute_input": "2021-03-18T11:01:21.803567Z",
     "iopub.status.busy": "2021-03-18T11:01:21.802843Z",
     "iopub.status.idle": "2021-03-18T11:01:21.827722Z",
     "shell.execute_reply": "2021-03-18T11:01:21.827089Z"
    },
    "papermill": {
     "duration": 0.052207,
     "end_time": "2021-03-18T11:01:21.827882",
     "exception": false,
     "start_time": "2021-03-18T11:01:21.775675",
     "status": "completed"
    },
    "tags": []
   },
   "outputs": [],
   "source": [
    "from bayes_opt import BayesianOptimization\n",
    "\n",
    "# 베이지안 최적화 객체 생성\n",
    "optimizer = BayesianOptimization(f=eval_function, # 평가지표 계산 함수\n",
    "                                 pbounds=param_bounds, # 하이퍼 파라미터 범위\n",
    "                                 random_state=0)"
   ]
  },
  {
   "cell_type": "code",
   "execution_count": 17,
   "metadata": {
    "execution": {
     "iopub.execute_input": "2021-03-18T11:01:21.878528Z",
     "iopub.status.busy": "2021-03-18T11:01:21.877819Z",
     "iopub.status.idle": "2021-03-18T11:28:21.506262Z",
     "shell.execute_reply": "2021-03-18T11:28:21.506867Z"
    },
    "papermill": {
     "duration": 1619.656147,
     "end_time": "2021-03-18T11:28:21.507318",
     "exception": false,
     "start_time": "2021-03-18T11:01:21.851171",
     "status": "completed"
    },
    "tags": []
   },
   "outputs": [
    {
     "name": "stdout",
     "output_type": "stream",
     "text": [
      "|   iter    |  target   | baggin... | featur... | lambda_l1 | lambda_l2 | min_ch... | min_ch... | num_le... |\n",
      "-------------------------------------------------------------------------------------------------------------\n",
      "하이퍼 파라미터: {'num_leaves': 30, 'lambda_l1': 0.9602763376071644, 'lambda_l2': 0.9544883182996897, 'feature_fraction': 0.7430378732744839, 'bagging_fraction': 0.809762700785465, 'min_child_samples': 10, 'min_child_weight': 126.45894113066656, 'feature_pre_filter': False, 'objective': 'binary', 'learning_rate': 0.01, 'bagging_freq': 1, 'force_row_wise': True, 'random_state': 1991}\n",
      "[LightGBM] [Info] Number of positive: 17383, number of negative: 458786\n",
      "[LightGBM] [Info] Total Bins 1555\n",
      "[LightGBM] [Info] Number of data points in the train set: 476169, number of used features: 217\n",
      "[LightGBM] [Info] [binary:BoostFromScore]: pavg=0.036506 -> initscore=-3.273091\n",
      "[LightGBM] [Info] Start training from score -3.273091\n",
      "지니계수: 0.2842759041022516\n",
      "\n",
      "| \u001b[0m 1       \u001b[0m | \u001b[0m 0.2843  \u001b[0m | \u001b[0m 0.8098  \u001b[0m | \u001b[0m 0.743   \u001b[0m | \u001b[0m 0.9603  \u001b[0m | \u001b[0m 0.9545  \u001b[0m | \u001b[0m 9.695   \u001b[0m | \u001b[0m 126.5   \u001b[0m | \u001b[0m 30.19   \u001b[0m |\n",
      "하이퍼 파라미터: {'num_leaves': 33, 'lambda_l1': 0.9383441518825778, 'lambda_l2': 0.9791725038082665, 'feature_fraction': 0.7927325521002059, 'bagging_fraction': 0.878354600156416, 'min_child_samples': 10, 'min_child_weight': 125.68044561093933, 'feature_pre_filter': False, 'objective': 'binary', 'learning_rate': 0.01, 'bagging_freq': 1, 'force_row_wise': True, 'random_state': 1991}\n",
      "[LightGBM] [Info] Number of positive: 17383, number of negative: 458786\n",
      "[LightGBM] [Info] Total Bins 1555\n",
      "[LightGBM] [Info] Number of data points in the train set: 476169, number of used features: 217\n",
      "[LightGBM] [Info] [binary:BoostFromScore]: pavg=0.036506 -> initscore=-3.273091\n",
      "[LightGBM] [Info] Start training from score -3.273091\n",
      "지니계수: 0.2836988146765887\n",
      "\n",
      "| \u001b[0m 2       \u001b[0m | \u001b[0m 0.2837  \u001b[0m | \u001b[0m 0.8784  \u001b[0m | \u001b[0m 0.7927  \u001b[0m | \u001b[0m 0.9383  \u001b[0m | \u001b[0m 0.9792  \u001b[0m | \u001b[0m 10.12   \u001b[0m | \u001b[0m 125.7   \u001b[0m | \u001b[0m 32.63   \u001b[0m |\n",
      "하이퍼 파라미터: {'num_leaves': 33, 'lambda_l1': 0.9020218397440326, 'lambda_l2': 0.9832619845547939, 'feature_fraction': 0.6174258599403081, 'bagging_fraction': 0.7142072116395773, 'min_child_samples': 11, 'min_child_weight': 128.7001214824682, 'feature_pre_filter': False, 'objective': 'binary', 'learning_rate': 0.01, 'bagging_freq': 1, 'force_row_wise': True, 'random_state': 1991}\n",
      "[LightGBM] [Info] Number of positive: 17383, number of negative: 458786\n",
      "[LightGBM] [Info] Total Bins 1555\n",
      "[LightGBM] [Info] Number of data points in the train set: 476169, number of used features: 217\n",
      "[LightGBM] [Info] [binary:BoostFromScore]: pavg=0.036506 -> initscore=-3.273091\n",
      "[LightGBM] [Info] Start training from score -3.273091\n",
      "지니계수: 0.28391443117248355\n",
      "\n",
      "| \u001b[0m 3       \u001b[0m | \u001b[0m 0.2839  \u001b[0m | \u001b[0m 0.7142  \u001b[0m | \u001b[0m 0.6174  \u001b[0m | \u001b[0m 0.902   \u001b[0m | \u001b[0m 0.9833  \u001b[0m | \u001b[0m 11.11   \u001b[0m | \u001b[0m 128.7   \u001b[0m | \u001b[0m 32.89   \u001b[0m |\n",
      "하이퍼 파라미터: {'num_leaves': 33, 'lambda_l1': 0.9780529176286455, 'lambda_l2': 0.9118274425868933, 'feature_fraction': 0.6922958724505863, 'bagging_fraction': 0.8598317128433447, 'min_child_samples': 11, 'min_child_weight': 121.43353287409046, 'feature_pre_filter': False, 'objective': 'binary', 'learning_rate': 0.01, 'bagging_freq': 1, 'force_row_wise': True, 'random_state': 1991}\n",
      "[LightGBM] [Info] Number of positive: 17383, number of negative: 458786\n",
      "[LightGBM] [Info] Total Bins 1555\n",
      "[LightGBM] [Info] Number of data points in the train set: 476169, number of used features: 217\n",
      "[LightGBM] [Info] [binary:BoostFromScore]: pavg=0.036506 -> initscore=-3.273091\n",
      "[LightGBM] [Info] Start training from score -3.273091\n",
      "지니계수: 0.2845046744053431\n",
      "\n",
      "| \u001b[95m 4       \u001b[0m | \u001b[95m 0.2845  \u001b[0m | \u001b[95m 0.8598  \u001b[0m | \u001b[95m 0.6923  \u001b[0m | \u001b[95m 0.9781  \u001b[0m | \u001b[95m 0.9118  \u001b[0m | \u001b[95m 10.56   \u001b[0m | \u001b[95m 121.4   \u001b[0m | \u001b[95m 32.72   \u001b[0m |\n",
      "하이퍼 파라미터: {'num_leaves': 28, 'lambda_l1': 0.9264555612104627, 'lambda_l2': 0.9774233689434216, 'feature_fraction': 0.6829323879981047, 'bagging_fraction': 0.8043696643500143, 'min_child_samples': 10, 'min_child_weight': 125.68433948868649, 'feature_pre_filter': False, 'objective': 'binary', 'learning_rate': 0.01, 'bagging_freq': 1, 'force_row_wise': True, 'random_state': 1991}\n",
      "[LightGBM] [Info] Number of positive: 17383, number of negative: 458786\n",
      "[LightGBM] [Info] Total Bins 1555\n",
      "[LightGBM] [Info] Number of data points in the train set: 476169, number of used features: 217\n",
      "[LightGBM] [Info] [binary:BoostFromScore]: pavg=0.036506 -> initscore=-3.273091\n",
      "[LightGBM] [Info] Start training from score -3.273091\n",
      "지니계수: 0.2853605897686769\n",
      "\n",
      "| \u001b[95m 5       \u001b[0m | \u001b[95m 0.2854  \u001b[0m | \u001b[95m 0.8044  \u001b[0m | \u001b[95m 0.6829  \u001b[0m | \u001b[95m 0.9265  \u001b[0m | \u001b[95m 0.9774  \u001b[0m | \u001b[95m 9.825   \u001b[0m | \u001b[95m 125.7   \u001b[0m | \u001b[95m 28.09   \u001b[0m |\n",
      "하이퍼 파라미터: {'num_leaves': 28, 'lambda_l1': 0.9518935616487411, 'lambda_l2': 0.96934215615996, 'feature_fraction': 0.6808824458321662, 'bagging_fraction': 0.8300748739266708, 'min_child_samples': 10, 'min_child_weight': 124.16951956609671, 'feature_pre_filter': False, 'objective': 'binary', 'learning_rate': 0.01, 'bagging_freq': 1, 'force_row_wise': True, 'random_state': 1991}\n",
      "[LightGBM] [Info] Number of positive: 17383, number of negative: 458786\n",
      "[LightGBM] [Info] Total Bins 1555\n",
      "[LightGBM] [Info] Number of data points in the train set: 476169, number of used features: 217\n",
      "[LightGBM] [Info] [binary:BoostFromScore]: pavg=0.036506 -> initscore=-3.273091\n",
      "[LightGBM] [Info] Start training from score -3.273091\n",
      "지니계수: 0.2842276599972215\n",
      "\n",
      "| \u001b[0m 6       \u001b[0m | \u001b[0m 0.2842  \u001b[0m | \u001b[0m 0.8301  \u001b[0m | \u001b[0m 0.6809  \u001b[0m | \u001b[0m 0.9519  \u001b[0m | \u001b[0m 0.9693  \u001b[0m | \u001b[0m 9.975   \u001b[0m | \u001b[0m 124.2   \u001b[0m | \u001b[0m 28.0    \u001b[0m |\n",
      "하이퍼 파라미터: {'num_leaves': 31, 'lambda_l1': 0.9369224665248994, 'lambda_l2': 0.9032695189818599, 'feature_fraction': 0.7212682128819454, 'bagging_fraction': 0.811114264329537, 'min_child_samples': 11, 'min_child_weight': 126.43539080712682, 'feature_pre_filter': False, 'objective': 'binary', 'learning_rate': 0.01, 'bagging_freq': 1, 'force_row_wise': True, 'random_state': 1991}\n",
      "[LightGBM] [Info] Number of positive: 17383, number of negative: 458786\n",
      "[LightGBM] [Info] Total Bins 1555\n",
      "[LightGBM] [Info] Number of data points in the train set: 476169, number of used features: 217\n",
      "[LightGBM] [Info] [binary:BoostFromScore]: pavg=0.036506 -> initscore=-3.273091\n",
      "[LightGBM] [Info] Start training from score -3.273091\n",
      "지니계수: 0.2829774781669648\n",
      "\n",
      "| \u001b[0m 7       \u001b[0m | \u001b[0m 0.283   \u001b[0m | \u001b[0m 0.8111  \u001b[0m | \u001b[0m 0.7213  \u001b[0m | \u001b[0m 0.9369  \u001b[0m | \u001b[0m 0.9033  \u001b[0m | \u001b[0m 10.77   \u001b[0m | \u001b[0m 126.4   \u001b[0m | \u001b[0m 31.3    \u001b[0m |\n",
      "하이퍼 파라미터: {'num_leaves': 28, 'lambda_l1': 0.9386614940661927, 'lambda_l2': 0.977468572300929, 'feature_fraction': 0.6965815866843761, 'bagging_fraction': 0.7917694608879337, 'min_child_samples': 9, 'min_child_weight': 126.21080322984122, 'feature_pre_filter': False, 'objective': 'binary', 'learning_rate': 0.01, 'bagging_freq': 1, 'force_row_wise': True, 'random_state': 1991}\n",
      "[LightGBM] [Info] Number of positive: 17383, number of negative: 458786\n",
      "[LightGBM] [Info] Total Bins 1555\n",
      "[LightGBM] [Info] Number of data points in the train set: 476169, number of used features: 217\n",
      "[LightGBM] [Info] [binary:BoostFromScore]: pavg=0.036506 -> initscore=-3.273091\n",
      "[LightGBM] [Info] Start training from score -3.273091\n",
      "지니계수: 0.2841068293588416\n",
      "\n",
      "| \u001b[0m 8       \u001b[0m | \u001b[0m 0.2841  \u001b[0m | \u001b[0m 0.7918  \u001b[0m | \u001b[0m 0.6966  \u001b[0m | \u001b[0m 0.9387  \u001b[0m | \u001b[0m 0.9775  \u001b[0m | \u001b[0m 9.187   \u001b[0m | \u001b[0m 126.2   \u001b[0m | \u001b[0m 28.39   \u001b[0m |\n",
      "하이퍼 파라미터: {'num_leaves': 33, 'lambda_l1': 0.9480755142444572, 'lambda_l2': 0.9355463193852314, 'feature_fraction': 0.6556094550215008, 'bagging_fraction': 0.8531985023606866, 'min_child_samples': 11, 'min_child_weight': 121.45702199625019, 'feature_pre_filter': False, 'objective': 'binary', 'learning_rate': 0.01, 'bagging_freq': 1, 'force_row_wise': True, 'random_state': 1991}\n",
      "[LightGBM] [Info] Number of positive: 17383, number of negative: 458786\n",
      "[LightGBM] [Info] Total Bins 1555\n",
      "[LightGBM] [Info] Number of data points in the train set: 476169, number of used features: 217\n",
      "[LightGBM] [Info] [binary:BoostFromScore]: pavg=0.036506 -> initscore=-3.273091\n",
      "[LightGBM] [Info] Start training from score -3.273091\n",
      "지니계수: 0.28505162289069125\n",
      "\n",
      "| \u001b[0m 9       \u001b[0m | \u001b[0m 0.2851  \u001b[0m | \u001b[0m 0.8532  \u001b[0m | \u001b[0m 0.6556  \u001b[0m | \u001b[0m 0.9481  \u001b[0m | \u001b[0m 0.9355  \u001b[0m | \u001b[0m 10.53   \u001b[0m | \u001b[0m 121.5   \u001b[0m | \u001b[0m 32.76   \u001b[0m |\n",
      "하이퍼 파라미터: {'num_leaves': 28, 'lambda_l1': 0.9576139053271895, 'lambda_l2': 0.9536059481546242, 'feature_fraction': 0.7252151288454692, 'bagging_fraction': 0.7972295965043527, 'min_child_samples': 10, 'min_child_weight': 125.67533886235528, 'feature_pre_filter': False, 'objective': 'binary', 'learning_rate': 0.01, 'bagging_freq': 1, 'force_row_wise': True, 'random_state': 1991}\n",
      "[LightGBM] [Info] Number of positive: 17383, number of negative: 458786\n",
      "[LightGBM] [Info] Total Bins 1555\n",
      "[LightGBM] [Info] Number of data points in the train set: 476169, number of used features: 217\n",
      "[LightGBM] [Info] [binary:BoostFromScore]: pavg=0.036506 -> initscore=-3.273091\n",
      "[LightGBM] [Info] Start training from score -3.273091\n",
      "지니계수: 0.28471130199456773\n",
      "\n",
      "| \u001b[0m 10      \u001b[0m | \u001b[0m 0.2847  \u001b[0m | \u001b[0m 0.7972  \u001b[0m | \u001b[0m 0.7252  \u001b[0m | \u001b[0m 0.9576  \u001b[0m | \u001b[0m 0.9536  \u001b[0m | \u001b[0m 9.8     \u001b[0m | \u001b[0m 125.7   \u001b[0m | \u001b[0m 28.02   \u001b[0m |\n",
      "하이퍼 파라미터: {'num_leaves': 28, 'lambda_l1': 0.943658397357584, 'lambda_l2': 0.9968661597281969, 'feature_fraction': 0.7885156553335033, 'bagging_fraction': 0.8173298168659664, 'min_child_samples': 10, 'min_child_weight': 125.64475222095318, 'feature_pre_filter': False, 'objective': 'binary', 'learning_rate': 0.01, 'bagging_freq': 1, 'force_row_wise': True, 'random_state': 1991}\n",
      "[LightGBM] [Info] Number of positive: 17383, number of negative: 458786\n",
      "[LightGBM] [Info] Total Bins 1555\n",
      "[LightGBM] [Info] Number of data points in the train set: 476169, number of used features: 217\n",
      "[LightGBM] [Info] [binary:BoostFromScore]: pavg=0.036506 -> initscore=-3.273091\n",
      "[LightGBM] [Info] Start training from score -3.273091\n",
      "지니계수: 0.28445322777485965\n",
      "\n",
      "| \u001b[0m 11      \u001b[0m | \u001b[0m 0.2845  \u001b[0m | \u001b[0m 0.8173  \u001b[0m | \u001b[0m 0.7885  \u001b[0m | \u001b[0m 0.9437  \u001b[0m | \u001b[0m 0.9969  \u001b[0m | \u001b[0m 9.808   \u001b[0m | \u001b[0m 125.6   \u001b[0m | \u001b[0m 28.18   \u001b[0m |\n",
      "하이퍼 파라미터: {'num_leaves': 30, 'lambda_l1': 0.9864234375301922, 'lambda_l2': 0.9373109984977455, 'feature_fraction': 0.6543342631269844, 'bagging_fraction': 0.7300029795689653, 'min_child_samples': 12, 'min_child_weight': 127.04673614102272, 'feature_pre_filter': False, 'objective': 'binary', 'learning_rate': 0.01, 'bagging_freq': 1, 'force_row_wise': True, 'random_state': 1991}\n",
      "[LightGBM] [Info] Number of positive: 17383, number of negative: 458786\n",
      "[LightGBM] [Info] Total Bins 1555\n",
      "[LightGBM] [Info] Number of data points in the train set: 476169, number of used features: 217\n",
      "[LightGBM] [Info] [binary:BoostFromScore]: pavg=0.036506 -> initscore=-3.273091\n",
      "[LightGBM] [Info] Start training from score -3.273091\n",
      "지니계수: 0.2841860918638119\n",
      "\n",
      "| \u001b[0m 12      \u001b[0m | \u001b[0m 0.2842  \u001b[0m | \u001b[0m 0.73    \u001b[0m | \u001b[0m 0.6543  \u001b[0m | \u001b[0m 0.9864  \u001b[0m | \u001b[0m 0.9373  \u001b[0m | \u001b[0m 11.79   \u001b[0m | \u001b[0m 127.0   \u001b[0m | \u001b[0m 29.97   \u001b[0m |\n",
      "하이퍼 파라미터: {'num_leaves': 33, 'lambda_l1': 0.9380458340847643, 'lambda_l2': 0.961202378636248, 'feature_fraction': 0.6744616315151691, 'bagging_fraction': 0.8365254931655592, 'min_child_samples': 10, 'min_child_weight': 125.09914708310042, 'feature_pre_filter': False, 'objective': 'binary', 'learning_rate': 0.01, 'bagging_freq': 1, 'force_row_wise': True, 'random_state': 1991}\n",
      "[LightGBM] [Info] Number of positive: 17383, number of negative: 458786\n",
      "[LightGBM] [Info] Total Bins 1555\n",
      "[LightGBM] [Info] Number of data points in the train set: 476169, number of used features: 217\n",
      "[LightGBM] [Info] [binary:BoostFromScore]: pavg=0.036506 -> initscore=-3.273091\n",
      "[LightGBM] [Info] Start training from score -3.273091\n",
      "지니계수: 0.2842043122927169\n",
      "\n",
      "| \u001b[0m 13      \u001b[0m | \u001b[0m 0.2842  \u001b[0m | \u001b[0m 0.8365  \u001b[0m | \u001b[0m 0.6745  \u001b[0m | \u001b[0m 0.938   \u001b[0m | \u001b[0m 0.9612  \u001b[0m | \u001b[0m 10.4    \u001b[0m | \u001b[0m 125.1   \u001b[0m | \u001b[0m 32.87   \u001b[0m |\n",
      "하이퍼 파라미터: {'num_leaves': 28, 'lambda_l1': 0.9074164128117759, 'lambda_l2': 0.9181716389862402, 'feature_fraction': 0.6651342729947742, 'bagging_fraction': 0.7639669923613932, 'min_child_samples': 10, 'min_child_weight': 125.77210372056366, 'feature_pre_filter': False, 'objective': 'binary', 'learning_rate': 0.01, 'bagging_freq': 1, 'force_row_wise': True, 'random_state': 1991}\n",
      "[LightGBM] [Info] Number of positive: 17383, number of negative: 458786\n",
      "[LightGBM] [Info] Total Bins 1555\n",
      "[LightGBM] [Info] Number of data points in the train set: 476169, number of used features: 217\n",
      "[LightGBM] [Info] [binary:BoostFromScore]: pavg=0.036506 -> initscore=-3.273091\n",
      "[LightGBM] [Info] Start training from score -3.273091\n",
      "지니계수: 0.2845146418614573\n",
      "\n",
      "| \u001b[0m 14      \u001b[0m | \u001b[0m 0.2845  \u001b[0m | \u001b[0m 0.764   \u001b[0m | \u001b[0m 0.6651  \u001b[0m | \u001b[0m 0.9074  \u001b[0m | \u001b[0m 0.9182  \u001b[0m | \u001b[0m 9.752   \u001b[0m | \u001b[0m 125.8   \u001b[0m | \u001b[0m 28.05   \u001b[0m |\n",
      "하이퍼 파라미터: {'num_leaves': 28, 'lambda_l1': 0.9597591096974845, 'lambda_l2': 0.9901014238646019, 'feature_fraction': 0.6149524696137846, 'bagging_fraction': 0.7831784558593953, 'min_child_samples': 10, 'min_child_weight': 125.81438662633944, 'feature_pre_filter': False, 'objective': 'binary', 'learning_rate': 0.01, 'bagging_freq': 1, 'force_row_wise': True, 'random_state': 1991}\n",
      "[LightGBM] [Info] Number of positive: 17383, number of negative: 458786\n",
      "[LightGBM] [Info] Total Bins 1555\n",
      "[LightGBM] [Info] Number of data points in the train set: 476169, number of used features: 217\n",
      "[LightGBM] [Info] [binary:BoostFromScore]: pavg=0.036506 -> initscore=-3.273091\n",
      "[LightGBM] [Info] Start training from score -3.273091\n",
      "지니계수: 0.2852337018283663\n",
      "\n",
      "| \u001b[0m 15      \u001b[0m | \u001b[0m 0.2852  \u001b[0m | \u001b[0m 0.7832  \u001b[0m | \u001b[0m 0.615   \u001b[0m | \u001b[0m 0.9598  \u001b[0m | \u001b[0m 0.9901  \u001b[0m | \u001b[0m 9.883   \u001b[0m | \u001b[0m 125.8   \u001b[0m | \u001b[0m 28.04   \u001b[0m |\n",
      "=============================================================================================================\n"
     ]
    }
   ],
   "source": [
    "# 베이지안 최적화 수행\n",
    "optimizer.maximize(init_points=5, n_iter=10)"
   ]
  },
  {
   "cell_type": "code",
   "execution_count": 18,
   "metadata": {
    "execution": {
     "iopub.execute_input": "2021-03-18T11:28:21.586317Z",
     "iopub.status.busy": "2021-03-18T11:28:21.585194Z",
     "iopub.status.idle": "2021-03-18T11:28:21.590018Z",
     "shell.execute_reply": "2021-03-18T11:28:21.589405Z"
    },
    "papermill": {
     "duration": 0.049544,
     "end_time": "2021-03-18T11:28:21.590166",
     "exception": false,
     "start_time": "2021-03-18T11:28:21.540622",
     "status": "completed"
    },
    "tags": []
   },
   "outputs": [
    {
     "data": {
      "text/plain": [
       "{'bagging_fraction': 0.8043696643500143,\n",
       " 'feature_fraction': 0.6829323879981047,\n",
       " 'lambda_l1': 0.9264555612104627,\n",
       " 'lambda_l2': 0.9774233689434216,\n",
       " 'min_child_samples': 9.824601328866194,\n",
       " 'min_child_weight': 125.68433948868649,\n",
       " 'num_leaves': 28.093949002181777}"
      ]
     },
     "execution_count": 18,
     "metadata": {},
     "output_type": "execute_result"
    }
   ],
   "source": [
    "# 평가함수 점수가 최대일 때 하이퍼 파라미터\n",
    "max_params = optimizer.max['params']\n",
    "max_params"
   ]
  },
  {
   "cell_type": "code",
   "execution_count": 19,
   "metadata": {
    "execution": {
     "iopub.execute_input": "2021-03-18T11:28:21.664785Z",
     "iopub.status.busy": "2021-03-18T11:28:21.664054Z",
     "iopub.status.idle": "2021-03-18T11:28:21.668649Z",
     "shell.execute_reply": "2021-03-18T11:28:21.667922Z"
    },
    "papermill": {
     "duration": 0.043727,
     "end_time": "2021-03-18T11:28:21.668820",
     "exception": false,
     "start_time": "2021-03-18T11:28:21.625093",
     "status": "completed"
    },
    "tags": []
   },
   "outputs": [],
   "source": [
    "# 정수형 하이퍼 파라미터 변환\n",
    "max_params['num_leaves'] = int(round(max_params['num_leaves']))\n",
    "max_params['min_child_samples'] = int(round(max_params['min_child_samples']))"
   ]
  },
  {
   "cell_type": "code",
   "execution_count": 20,
   "metadata": {
    "execution": {
     "iopub.execute_input": "2021-03-18T11:28:21.745354Z",
     "iopub.status.busy": "2021-03-18T11:28:21.744212Z",
     "iopub.status.idle": "2021-03-18T11:28:21.748525Z",
     "shell.execute_reply": "2021-03-18T11:28:21.749133Z"
    },
    "papermill": {
     "duration": 0.044584,
     "end_time": "2021-03-18T11:28:21.749342",
     "exception": false,
     "start_time": "2021-03-18T11:28:21.704758",
     "status": "completed"
    },
    "tags": []
   },
   "outputs": [
    {
     "data": {
      "text/plain": [
       "{'bagging_fraction': 0.8043696643500143,\n",
       " 'feature_fraction': 0.6829323879981047,\n",
       " 'lambda_l1': 0.9264555612104627,\n",
       " 'lambda_l2': 0.9774233689434216,\n",
       " 'min_child_samples': 10,\n",
       " 'min_child_weight': 125.68433948868649,\n",
       " 'num_leaves': 28}"
      ]
     },
     "execution_count": 20,
     "metadata": {},
     "output_type": "execute_result"
    }
   ],
   "source": [
    "max_params"
   ]
  },
  {
   "cell_type": "code",
   "execution_count": 21,
   "metadata": {
    "execution": {
     "iopub.execute_input": "2021-03-18T11:28:21.824643Z",
     "iopub.status.busy": "2021-03-18T11:28:21.823815Z",
     "iopub.status.idle": "2021-03-18T11:28:21.826915Z",
     "shell.execute_reply": "2021-03-18T11:28:21.826273Z"
    },
    "papermill": {
     "duration": 0.043034,
     "end_time": "2021-03-18T11:28:21.827063",
     "exception": false,
     "start_time": "2021-03-18T11:28:21.784029",
     "status": "completed"
    },
    "tags": []
   },
   "outputs": [],
   "source": [
    "# 고정된 하이퍼 파라미터 추가\n",
    "max_params.update(fixed_params)"
   ]
  },
  {
   "cell_type": "code",
   "execution_count": 22,
   "metadata": {
    "execution": {
     "iopub.execute_input": "2021-03-18T11:28:21.905250Z",
     "iopub.status.busy": "2021-03-18T11:28:21.904196Z",
     "iopub.status.idle": "2021-03-18T11:28:21.908842Z",
     "shell.execute_reply": "2021-03-18T11:28:21.908338Z"
    },
    "papermill": {
     "duration": 0.04696,
     "end_time": "2021-03-18T11:28:21.908987",
     "exception": false,
     "start_time": "2021-03-18T11:28:21.862027",
     "status": "completed"
    },
    "tags": []
   },
   "outputs": [
    {
     "data": {
      "text/plain": [
       "{'bagging_fraction': 0.8043696643500143,\n",
       " 'feature_fraction': 0.6829323879981047,\n",
       " 'lambda_l1': 0.9264555612104627,\n",
       " 'lambda_l2': 0.9774233689434216,\n",
       " 'min_child_samples': 10,\n",
       " 'min_child_weight': 125.68433948868649,\n",
       " 'num_leaves': 28,\n",
       " 'objective': 'binary',\n",
       " 'learning_rate': 0.01,\n",
       " 'bagging_freq': 1,\n",
       " 'force_row_wise': True,\n",
       " 'random_state': 1991}"
      ]
     },
     "execution_count": 22,
     "metadata": {},
     "output_type": "execute_result"
    }
   ],
   "source": [
    "max_params"
   ]
  },
  {
   "cell_type": "markdown",
   "metadata": {
    "papermill": {
     "duration": 0.036447,
     "end_time": "2021-03-18T11:28:21.982023",
     "exception": false,
     "start_time": "2021-03-18T11:28:21.945576",
     "status": "completed"
    },
    "tags": []
   },
   "source": [
    "## 훈련 및 제출"
   ]
  },
  {
   "cell_type": "code",
   "execution_count": 23,
   "metadata": {
    "execution": {
     "iopub.execute_input": "2021-03-18T11:28:22.068398Z",
     "iopub.status.busy": "2021-03-18T11:28:22.065942Z",
     "iopub.status.idle": "2021-03-18T11:42:01.822520Z",
     "shell.execute_reply": "2021-03-18T11:42:01.823259Z"
    },
    "papermill": {
     "duration": 819.803859,
     "end_time": "2021-03-18T11:42:01.823531",
     "exception": false,
     "start_time": "2021-03-18T11:28:22.019672",
     "status": "completed"
    },
    "tags": []
   },
   "outputs": [
    {
     "name": "stdout",
     "output_type": "stream",
     "text": [
      "######################################## 폴드 1 / 폴드 5 ########################################\n",
      "[LightGBM] [Info] Number of positive: 17355, number of negative: 458814\n",
      "[LightGBM] [Info] Total Bins 1554\n",
      "[LightGBM] [Info] Number of data points in the train set: 476169, number of used features: 216\n",
      "[LightGBM] [Info] [binary:BoostFromScore]: pavg=0.036447 -> initscore=-3.274764\n",
      "[LightGBM] [Info] Start training from score -3.274764\n",
      "Training until validation scores don't improve for 150 rounds\n",
      "[100]\tvalid_0's binary_logloss: 0.153315\tvalid_0's gini: 0.270034\n",
      "[200]\tvalid_0's binary_logloss: 0.152339\tvalid_0's gini: 0.280485\n",
      "[300]\tvalid_0's binary_logloss: 0.151922\tvalid_0's gini: 0.286543\n",
      "[400]\tvalid_0's binary_logloss: 0.15169\tvalid_0's gini: 0.291089\n",
      "[500]\tvalid_0's binary_logloss: 0.151544\tvalid_0's gini: 0.294535\n",
      "[600]\tvalid_0's binary_logloss: 0.151467\tvalid_0's gini: 0.296222\n",
      "[700]\tvalid_0's binary_logloss: 0.151405\tvalid_0's gini: 0.297658\n",
      "[800]\tvalid_0's binary_logloss: 0.151368\tvalid_0's gini: 0.298591\n",
      "[900]\tvalid_0's binary_logloss: 0.151337\tvalid_0's gini: 0.299329\n",
      "[1000]\tvalid_0's binary_logloss: 0.151325\tvalid_0's gini: 0.299571\n",
      "[1100]\tvalid_0's binary_logloss: 0.151312\tvalid_0's gini: 0.29987\n",
      "[1200]\tvalid_0's binary_logloss: 0.151309\tvalid_0's gini: 0.299973\n",
      "[1300]\tvalid_0's binary_logloss: 0.151309\tvalid_0's gini: 0.29986\n",
      "Early stopping, best iteration is:\n",
      "[1209]\tvalid_0's binary_logloss: 0.151306\tvalid_0's gini: 0.300053\n",
      "폴드 1 지니계수: 0.3000525641260156\n",
      "\n",
      "######################################## 폴드 2 / 폴드 5 ########################################\n",
      "[LightGBM] [Info] Number of positive: 17355, number of negative: 458814\n",
      "[LightGBM] [Info] Total Bins 1560\n",
      "[LightGBM] [Info] Number of data points in the train set: 476169, number of used features: 216\n",
      "[LightGBM] [Info] [binary:BoostFromScore]: pavg=0.036447 -> initscore=-3.274764\n",
      "[LightGBM] [Info] Start training from score -3.274764\n",
      "Training until validation scores don't improve for 150 rounds\n",
      "[100]\tvalid_0's binary_logloss: 0.153498\tvalid_0's gini: 0.258413\n",
      "[200]\tvalid_0's binary_logloss: 0.15262\tvalid_0's gini: 0.26765\n",
      "[300]\tvalid_0's binary_logloss: 0.152267\tvalid_0's gini: 0.273355\n",
      "[400]\tvalid_0's binary_logloss: 0.152086\tvalid_0's gini: 0.277154\n",
      "[500]\tvalid_0's binary_logloss: 0.151977\tvalid_0's gini: 0.279912\n",
      "[600]\tvalid_0's binary_logloss: 0.151912\tvalid_0's gini: 0.281631\n",
      "[700]\tvalid_0's binary_logloss: 0.151872\tvalid_0's gini: 0.28274\n",
      "[800]\tvalid_0's binary_logloss: 0.151831\tvalid_0's gini: 0.283899\n",
      "[900]\tvalid_0's binary_logloss: 0.15182\tvalid_0's gini: 0.284216\n",
      "[1000]\tvalid_0's binary_logloss: 0.151807\tvalid_0's gini: 0.284581\n",
      "[1100]\tvalid_0's binary_logloss: 0.151792\tvalid_0's gini: 0.285036\n",
      "[1200]\tvalid_0's binary_logloss: 0.151792\tvalid_0's gini: 0.285047\n",
      "[1300]\tvalid_0's binary_logloss: 0.151786\tvalid_0's gini: 0.285333\n",
      "[1400]\tvalid_0's binary_logloss: 0.151787\tvalid_0's gini: 0.285537\n",
      "[1500]\tvalid_0's binary_logloss: 0.151784\tvalid_0's gini: 0.285584\n",
      "Did not meet early stopping. Best iteration is:\n",
      "[1459]\tvalid_0's binary_logloss: 0.151783\tvalid_0's gini: 0.285681\n",
      "폴드 2 지니계수: 0.2856809897393425\n",
      "\n",
      "######################################## 폴드 3 / 폴드 5 ########################################\n",
      "[LightGBM] [Info] Number of positive: 17356, number of negative: 458814\n",
      "[LightGBM] [Info] Total Bins 1556\n",
      "[LightGBM] [Info] Number of data points in the train set: 476170, number of used features: 216\n",
      "[LightGBM] [Info] [binary:BoostFromScore]: pavg=0.036449 -> initscore=-3.274707\n",
      "[LightGBM] [Info] Start training from score -3.274707\n",
      "Training until validation scores don't improve for 150 rounds\n",
      "[100]\tvalid_0's binary_logloss: 0.153333\tvalid_0's gini: 0.26323\n",
      "[200]\tvalid_0's binary_logloss: 0.152367\tvalid_0's gini: 0.272493\n",
      "[300]\tvalid_0's binary_logloss: 0.151978\tvalid_0's gini: 0.277774\n",
      "[400]\tvalid_0's binary_logloss: 0.151784\tvalid_0's gini: 0.280881\n",
      "[500]\tvalid_0's binary_logloss: 0.151686\tvalid_0's gini: 0.282794\n",
      "[600]\tvalid_0's binary_logloss: 0.151638\tvalid_0's gini: 0.283821\n",
      "[700]\tvalid_0's binary_logloss: 0.151613\tvalid_0's gini: 0.284375\n",
      "[800]\tvalid_0's binary_logloss: 0.151606\tvalid_0's gini: 0.284532\n",
      "[900]\tvalid_0's binary_logloss: 0.151599\tvalid_0's gini: 0.284754\n",
      "[1000]\tvalid_0's binary_logloss: 0.151592\tvalid_0's gini: 0.284938\n",
      "[1100]\tvalid_0's binary_logloss: 0.151601\tvalid_0's gini: 0.284697\n",
      "Early stopping, best iteration is:\n",
      "[950]\tvalid_0's binary_logloss: 0.151592\tvalid_0's gini: 0.284989\n",
      "폴드 3 지니계수: 0.2849885601271959\n",
      "\n",
      "######################################## 폴드 4 / 폴드 5 ########################################\n",
      "[LightGBM] [Info] Number of positive: 17355, number of negative: 458815\n",
      "[LightGBM] [Info] Total Bins 1555\n",
      "[LightGBM] [Info] Number of data points in the train set: 476170, number of used features: 216\n",
      "[LightGBM] [Info] [binary:BoostFromScore]: pavg=0.036447 -> initscore=-3.274766\n",
      "[LightGBM] [Info] Start training from score -3.274766\n",
      "Training until validation scores don't improve for 150 rounds\n",
      "[100]\tvalid_0's binary_logloss: 0.153435\tvalid_0's gini: 0.256627\n",
      "[200]\tvalid_0's binary_logloss: 0.152524\tvalid_0's gini: 0.266658\n",
      "[300]\tvalid_0's binary_logloss: 0.152191\tvalid_0's gini: 0.271067\n",
      "[400]\tvalid_0's binary_logloss: 0.152034\tvalid_0's gini: 0.27396\n",
      "[500]\tvalid_0's binary_logloss: 0.151942\tvalid_0's gini: 0.27619\n",
      "[600]\tvalid_0's binary_logloss: 0.151882\tvalid_0's gini: 0.277677\n",
      "[700]\tvalid_0's binary_logloss: 0.151851\tvalid_0's gini: 0.278579\n",
      "[800]\tvalid_0's binary_logloss: 0.151819\tvalid_0's gini: 0.279461\n",
      "[900]\tvalid_0's binary_logloss: 0.151808\tvalid_0's gini: 0.279975\n",
      "[1000]\tvalid_0's binary_logloss: 0.151798\tvalid_0's gini: 0.280149\n",
      "[1100]\tvalid_0's binary_logloss: 0.151797\tvalid_0's gini: 0.280201\n",
      "[1200]\tvalid_0's binary_logloss: 0.151797\tvalid_0's gini: 0.280353\n",
      "Early stopping, best iteration is:\n",
      "[1128]\tvalid_0's binary_logloss: 0.151791\tvalid_0's gini: 0.280389\n",
      "폴드 4 지니계수: 0.2803887114157609\n",
      "\n",
      "######################################## 폴드 5 / 폴드 5 ########################################\n",
      "[LightGBM] [Info] Number of positive: 17355, number of negative: 458815\n",
      "[LightGBM] [Info] Total Bins 1556\n",
      "[LightGBM] [Info] Number of data points in the train set: 476170, number of used features: 216\n",
      "[LightGBM] [Info] [binary:BoostFromScore]: pavg=0.036447 -> initscore=-3.274766\n",
      "[LightGBM] [Info] Start training from score -3.274766\n",
      "Training until validation scores don't improve for 150 rounds\n",
      "[100]\tvalid_0's binary_logloss: 0.153534\tvalid_0's gini: 0.265252\n",
      "[200]\tvalid_0's binary_logloss: 0.152629\tvalid_0's gini: 0.274421\n",
      "[300]\tvalid_0's binary_logloss: 0.152249\tvalid_0's gini: 0.280526\n",
      "[400]\tvalid_0's binary_logloss: 0.152031\tvalid_0's gini: 0.285706\n",
      "[500]\tvalid_0's binary_logloss: 0.151906\tvalid_0's gini: 0.289104\n",
      "[600]\tvalid_0's binary_logloss: 0.151817\tvalid_0's gini: 0.29166\n",
      "[700]\tvalid_0's binary_logloss: 0.151771\tvalid_0's gini: 0.292958\n",
      "[800]\tvalid_0's binary_logloss: 0.15174\tvalid_0's gini: 0.293975\n",
      "[900]\tvalid_0's binary_logloss: 0.151721\tvalid_0's gini: 0.294603\n",
      "[1000]\tvalid_0's binary_logloss: 0.151709\tvalid_0's gini: 0.295097\n",
      "[1100]\tvalid_0's binary_logloss: 0.151689\tvalid_0's gini: 0.295655\n",
      "[1200]\tvalid_0's binary_logloss: 0.151685\tvalid_0's gini: 0.295904\n",
      "[1300]\tvalid_0's binary_logloss: 0.151685\tvalid_0's gini: 0.295988\n",
      "[1400]\tvalid_0's binary_logloss: 0.151683\tvalid_0's gini: 0.296066\n",
      "Early stopping, best iteration is:\n",
      "[1321]\tvalid_0's binary_logloss: 0.151681\tvalid_0's gini: 0.296151\n",
      "폴드 5 지니계수: 0.2961510502799241\n",
      "\n"
     ]
    }
   ],
   "source": [
    "from sklearn.model_selection import StratifiedKFold\n",
    "\n",
    "# Stratified K 폴드 교차검증기 생성\n",
    "folds = StratifiedKFold(n_splits=5, shuffle=True, random_state=1991)\n",
    "\n",
    "# OOF 방식으로 훈련된 모델로 검증 데이터 타깃 값을 예측한 확률을 담을 1차원 배열\n",
    "oof_val_preds = np.zeros(X.shape[0]) \n",
    "# OOF 방식으로 훈련된 모델로 테스트 데이터 타깃 값을 예측한 확률을 담을 1차원 배열\n",
    "oof_test_preds = np.zeros(X_test.shape[0]) \n",
    "\n",
    "# OOF 방식으로 모델 훈련, 검증, 예측\n",
    "for idx, (train_idx, valid_idx) in enumerate(folds.split(X, y)):\n",
    "    # 각 폴드를 구분하는 문구\n",
    "    print('#'*40, f'폴드 {idx+1} / 폴드 {folds.n_splits}', '#'*40)\n",
    "    \n",
    "    # 훈련용 데이터, 검증용 데이터 설정\n",
    "    X_train, y_train = X[train_idx], y[train_idx] # 훈련용 데이터\n",
    "    X_valid, y_valid = X[valid_idx], y[valid_idx] # 검증용 데이터\n",
    "\n",
    "    # lgb 데이터세트 생성\n",
    "    dtrain = lgb.Dataset(X_train, y_train) # lgb 훈련 데이터세트\n",
    "    dvalid = lgb.Dataset(X_valid, y_valid) # lgb 검증 데이터세트\n",
    "                          \n",
    "    # LightGBM 모델 훈련\n",
    "    lgb_model = lgb.train(params=max_params, # 최적 하이퍼 파라미터\n",
    "                           train_set=dtrain, # 훈련 데이터\n",
    "                           num_boost_round=1500, # 부스팅 반복 횟수\n",
    "                           valid_sets=dvalid, # 모델 성능 평가용 검증 데이터\n",
    "                           feval=gini, # 검증용 평가지표\n",
    "                           early_stopping_rounds=150, # 조기종료 조건\n",
    "                           verbose_eval=100)\n",
    "    \n",
    "    # 모델 성능이 가장 좋을 때의 부스팅 반복 횟수 저장\n",
    "    best_iter = lgb_model.best_iteration\n",
    "    # 테스트 데이터를 활용해 OOF 예측\n",
    "    oof_test_preds += lgb_model.predict(X_test, \n",
    "                                    num_iteration=best_iter)/folds.n_splits\n",
    "    # 모델 성능 평가를 위한 검증 데이터 타깃 값 예측 \n",
    "    oof_val_preds[valid_idx] += lgb_model.predict(X_valid, \n",
    "                                                  num_iteration=best_iter)\n",
    "    \n",
    "    # 검증 데이터 예측확률에 대한 정규화 지니계수\n",
    "    gini_score = eval_gini(y_valid, oof_val_preds[valid_idx])\n",
    "    print(f'폴드 {idx+1} 지니계수: {gini_score}\\n')"
   ]
  },
  {
   "cell_type": "code",
   "execution_count": 24,
   "metadata": {
    "execution": {
     "iopub.execute_input": "2021-03-18T11:42:01.951622Z",
     "iopub.status.busy": "2021-03-18T11:42:01.950913Z",
     "iopub.status.idle": "2021-03-18T11:42:02.069027Z",
     "shell.execute_reply": "2021-03-18T11:42:02.068379Z"
    },
    "papermill": {
     "duration": 0.182771,
     "end_time": "2021-03-18T11:42:02.069168",
     "exception": false,
     "start_time": "2021-03-18T11:42:01.886397",
     "status": "completed"
    },
    "tags": []
   },
   "outputs": [
    {
     "name": "stdout",
     "output_type": "stream",
     "text": [
      "OOF 검증 데이터 지니계수: 0.2893420267793303\n"
     ]
    }
   ],
   "source": [
    "print('OOF 검증 데이터 지니계수:', eval_gini(y, oof_val_preds))"
   ]
  },
  {
   "cell_type": "code",
   "execution_count": 25,
   "metadata": {
    "execution": {
     "iopub.execute_input": "2021-03-18T11:42:02.202837Z",
     "iopub.status.busy": "2021-03-18T11:42:02.202167Z",
     "iopub.status.idle": "2021-03-18T11:42:05.889133Z",
     "shell.execute_reply": "2021-03-18T11:42:05.888431Z"
    },
    "papermill": {
     "duration": 3.756771,
     "end_time": "2021-03-18T11:42:05.889280",
     "exception": false,
     "start_time": "2021-03-18T11:42:02.132509",
     "status": "completed"
    },
    "tags": []
   },
   "outputs": [],
   "source": [
    "submission['target'] = oof_test_preds\n",
    "submission.to_csv('submission.csv')"
   ]
  }
 ],
 "metadata": {
  "kernelspec": {
   "display_name": "Python 3",
   "language": "python",
   "name": "python3"
  },
  "language_info": {
   "codemirror_mode": {
    "name": "ipython",
    "version": 3
   },
   "file_extension": ".py",
   "mimetype": "text/x-python",
   "name": "python",
   "nbconvert_exporter": "python",
   "pygments_lexer": "ipython3",
   "version": "3.7.9"
  },
  "papermill": {
   "default_parameters": {},
   "duration": 2530.523795,
   "end_time": "2021-03-18T11:42:06.871998",
   "environment_variables": {},
   "exception": null,
   "input_path": "__notebook__.ipynb",
   "output_path": "__notebook__.ipynb",
   "parameters": {},
   "start_time": "2021-03-18T10:59:56.348203",
   "version": "2.2.2"
  }
 },
 "nbformat": 4,
 "nbformat_minor": 4
}
