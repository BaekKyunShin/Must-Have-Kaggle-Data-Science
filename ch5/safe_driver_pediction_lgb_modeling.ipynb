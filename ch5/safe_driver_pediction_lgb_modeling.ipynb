{
 "cells": [
  {
   "cell_type": "markdown",
   "id": "beginning-pennsylvania",
   "metadata": {
    "papermill": {
     "duration": 0.027453,
     "end_time": "2021-05-06T07:31:54.344695",
     "exception": false,
     "start_time": "2021-05-06T07:31:54.317242",
     "status": "completed"
    },
    "tags": []
   },
   "source": [
    "# 5.4 안전 운전자 예측 경진대회 성능 개선 I : LightGBM 모델"
   ]
  },
  {
   "cell_type": "markdown",
   "id": "meaningful-passing",
   "metadata": {
    "papermill": {
     "duration": 0.025046,
     "end_time": "2021-05-06T07:31:54.396456",
     "exception": false,
     "start_time": "2021-05-06T07:31:54.371410",
     "status": "completed"
    },
    "tags": []
   },
   "source": [
    "- [안전 운전자 예측 경진대회 링크](https://www.kaggle.com/c/porto-seguro-safe-driver-prediction)\n",
    "- [모델링 노트북 참고 링크](https://www.kaggle.com/xiaozhouwang/2nd-place-lightgbm-solution)"
   ]
  },
  {
   "cell_type": "code",
   "execution_count": 1,
   "id": "useful-providence",
   "metadata": {
    "execution": {
     "iopub.execute_input": "2021-05-06T07:31:54.451846Z",
     "iopub.status.busy": "2021-05-06T07:31:54.450639Z",
     "iopub.status.idle": "2021-05-06T07:32:05.877873Z",
     "shell.execute_reply": "2021-05-06T07:32:05.876677Z"
    },
    "papermill": {
     "duration": 11.456103,
     "end_time": "2021-05-06T07:32:05.878099",
     "exception": false,
     "start_time": "2021-05-06T07:31:54.421996",
     "status": "completed"
    },
    "tags": []
   },
   "outputs": [],
   "source": [
    "# ch5/safe_driver_prediction_lgb_modeling.ipynb\n",
    "\n",
    "import numpy as np\n",
    "import pandas as pd\n",
    "\n",
    "# 데이터 경로\n",
    "data_path = '/kaggle/input/porto-seguro-safe-driver-prediction/'\n",
    "\n",
    "train = pd.read_csv(data_path + 'train.csv', index_col='id')\n",
    "test = pd.read_csv(data_path + 'test.csv', index_col='id')\n",
    "submission = pd.read_csv(data_path + 'sample_submission.csv', index_col='id')"
   ]
  },
  {
   "cell_type": "markdown",
   "id": "diagnostic-manchester",
   "metadata": {
    "papermill": {
     "duration": 0.025013,
     "end_time": "2021-05-06T07:32:05.928943",
     "exception": false,
     "start_time": "2021-05-06T07:32:05.903930",
     "status": "completed"
    },
    "tags": []
   },
   "source": [
    "## 5.4.1 피처 엔지니어링"
   ]
  },
  {
   "cell_type": "markdown",
   "id": "unlimited-cuisine",
   "metadata": {
    "papermill": {
     "duration": 0.024837,
     "end_time": "2021-05-06T07:32:05.979160",
     "exception": false,
     "start_time": "2021-05-06T07:32:05.954323",
     "status": "completed"
    },
    "tags": []
   },
   "source": [
    "### 데이터 합치기"
   ]
  },
  {
   "cell_type": "code",
   "execution_count": 2,
   "id": "revised-decade",
   "metadata": {
    "execution": {
     "iopub.execute_input": "2021-05-06T07:32:06.037835Z",
     "iopub.status.busy": "2021-05-06T07:32:06.037081Z",
     "iopub.status.idle": "2021-05-06T07:32:07.481755Z",
     "shell.execute_reply": "2021-05-06T07:32:07.481174Z"
    },
    "papermill": {
     "duration": 1.477445,
     "end_time": "2021-05-06T07:32:07.481921",
     "exception": false,
     "start_time": "2021-05-06T07:32:06.004476",
     "status": "completed"
    },
    "tags": []
   },
   "outputs": [],
   "source": [
    "all_data = pd.concat([train, test], ignore_index=True)\n",
    "all_data = all_data.drop('target', axis=1) # 타깃 값 제거\n",
    "\n",
    "all_features = all_data.columns # 전체 피처"
   ]
  },
  {
   "cell_type": "markdown",
   "id": "fundamental-roller",
   "metadata": {
    "papermill": {
     "duration": 0.0257,
     "end_time": "2021-05-06T07:32:07.534358",
     "exception": false,
     "start_time": "2021-05-06T07:32:07.508658",
     "status": "completed"
    },
    "tags": []
   },
   "source": [
    "### 명목형 피처 원-핫 인코딩"
   ]
  },
  {
   "cell_type": "code",
   "execution_count": 3,
   "id": "essential-birmingham",
   "metadata": {
    "execution": {
     "iopub.execute_input": "2021-05-06T07:32:07.592074Z",
     "iopub.status.busy": "2021-05-06T07:32:07.590620Z",
     "iopub.status.idle": "2021-05-06T07:32:12.031415Z",
     "shell.execute_reply": "2021-05-06T07:32:12.033474Z"
    },
    "papermill": {
     "duration": 4.472719,
     "end_time": "2021-05-06T07:32:12.033966",
     "exception": false,
     "start_time": "2021-05-06T07:32:07.561247",
     "status": "completed"
    },
    "tags": []
   },
   "outputs": [],
   "source": [
    "from sklearn.preprocessing import OneHotEncoder\n",
    "\n",
    "# 명목형 피처\n",
    "cat_features = [feature for feature in all_features if 'cat' in feature] \n",
    "\n",
    "# 원-핫 인코딩 적용\n",
    "onehot_encoder = OneHotEncoder()\n",
    "encoded_cat_matrix = onehot_encoder.fit_transform(all_data[cat_features]) "
   ]
  },
  {
   "cell_type": "markdown",
   "id": "equipped-fitting",
   "metadata": {
    "papermill": {
     "duration": 0.096703,
     "end_time": "2021-05-06T07:32:12.223867",
     "exception": false,
     "start_time": "2021-05-06T07:32:12.127164",
     "status": "completed"
    },
    "tags": []
   },
   "source": [
    "### 파생 피처 추가"
   ]
  },
  {
   "cell_type": "code",
   "execution_count": 4,
   "id": "manufactured-express",
   "metadata": {
    "execution": {
     "iopub.execute_input": "2021-05-06T07:32:12.405387Z",
     "iopub.status.busy": "2021-05-06T07:32:12.403464Z",
     "iopub.status.idle": "2021-05-06T07:32:12.698910Z",
     "shell.execute_reply": "2021-05-06T07:32:12.698288Z"
    },
    "papermill": {
     "duration": 0.387567,
     "end_time": "2021-05-06T07:32:12.699093",
     "exception": false,
     "start_time": "2021-05-06T07:32:12.311526",
     "status": "completed"
    },
    "tags": []
   },
   "outputs": [],
   "source": [
    "# '데이터 하나당 결측값 개수'를 파생 변수로 추가\n",
    "all_data['num_missing'] = (all_data==-1).sum(axis=1)"
   ]
  },
  {
   "cell_type": "code",
   "execution_count": 5,
   "id": "opening-treaty",
   "metadata": {
    "execution": {
     "iopub.execute_input": "2021-05-06T07:32:12.758890Z",
     "iopub.status.busy": "2021-05-06T07:32:12.757836Z",
     "iopub.status.idle": "2021-05-06T07:32:12.761138Z",
     "shell.execute_reply": "2021-05-06T07:32:12.761691Z"
    },
    "papermill": {
     "duration": 0.036374,
     "end_time": "2021-05-06T07:32:12.761905",
     "exception": false,
     "start_time": "2021-05-06T07:32:12.725531",
     "status": "completed"
    },
    "tags": []
   },
   "outputs": [],
   "source": [
    "# 명목형 피처, calc 분류 피처를 제외한 피처\n",
    "remaining_features = [feature for feature in all_features\n",
    "                      if ('cat' not in feature and 'calc' not in feature)] \n",
    "# num_missing을 remaining_features에 추가\n",
    "remaining_features.append('num_missing')"
   ]
  },
  {
   "cell_type": "code",
   "execution_count": 6,
   "id": "saving-stamp",
   "metadata": {
    "execution": {
     "iopub.execute_input": "2021-05-06T07:32:12.828167Z",
     "iopub.status.busy": "2021-05-06T07:32:12.827109Z",
     "iopub.status.idle": "2021-05-06T07:33:03.042678Z",
     "shell.execute_reply": "2021-05-06T07:33:03.041129Z"
    },
    "papermill": {
     "duration": 50.25158,
     "end_time": "2021-05-06T07:33:03.043111",
     "exception": false,
     "start_time": "2021-05-06T07:32:12.791531",
     "status": "completed"
    },
    "tags": []
   },
   "outputs": [],
   "source": [
    "# 분류가 ind인 피처\n",
    "ind_features = [feature for feature in all_features if 'ind' in feature]\n",
    "\n",
    "is_first_feature=True\n",
    "for ind_feature in ind_features:\n",
    "    if is_first_feature:\n",
    "        all_data['mix_ind'] = all_data[ind_feature].astype(str)+'_'\n",
    "        is_first_feature = False\n",
    "    else:\n",
    "        all_data['mix_ind'] += all_data[ind_feature].astype(str)+'_'"
   ]
  },
  {
   "cell_type": "code",
   "execution_count": 7,
   "id": "noble-lancaster",
   "metadata": {
    "execution": {
     "iopub.execute_input": "2021-05-06T07:33:03.114462Z",
     "iopub.status.busy": "2021-05-06T07:33:03.110299Z",
     "iopub.status.idle": "2021-05-06T07:33:03.118834Z",
     "shell.execute_reply": "2021-05-06T07:33:03.119347Z"
    },
    "papermill": {
     "duration": 0.04599,
     "end_time": "2021-05-06T07:33:03.119549",
     "exception": false,
     "start_time": "2021-05-06T07:33:03.073559",
     "status": "completed"
    },
    "tags": []
   },
   "outputs": [
    {
     "data": {
      "text/plain": [
       "0          2_2_5_1_0_0_1_0_0_0_0_0_0_0_11_0_1_0_\n",
       "1           1_1_7_0_0_0_0_1_0_0_0_0_0_0_3_0_0_1_\n",
       "2          5_4_9_1_0_0_0_1_0_0_0_0_0_0_12_1_0_0_\n",
       "3           0_1_2_0_0_1_0_0_0_0_0_0_0_0_8_1_0_0_\n",
       "4           0_2_0_1_0_1_0_0_0_0_0_0_0_0_9_1_0_0_\n",
       "                           ...                  \n",
       "1488023     0_1_6_0_0_0_1_0_0_0_0_0_0_0_2_0_0_1_\n",
       "1488024    5_3_5_1_0_0_0_1_0_0_0_0_0_0_11_1_0_0_\n",
       "1488025     0_1_5_0_0_1_0_0_0_0_0_0_0_0_5_0_0_1_\n",
       "1488026    6_1_5_1_0_0_0_0_1_0_0_0_0_0_13_1_0_0_\n",
       "1488027    7_1_4_1_0_0_0_0_1_0_0_0_0_0_12_1_0_0_\n",
       "Name: mix_ind, Length: 1488028, dtype: object"
      ]
     },
     "execution_count": 7,
     "metadata": {},
     "output_type": "execute_result"
    }
   ],
   "source": [
    "all_data['mix_ind']"
   ]
  },
  {
   "cell_type": "code",
   "execution_count": 8,
   "id": "first-yesterday",
   "metadata": {
    "execution": {
     "iopub.execute_input": "2021-05-06T07:33:03.176398Z",
     "iopub.status.busy": "2021-05-06T07:33:03.175721Z",
     "iopub.status.idle": "2021-05-06T07:33:18.448299Z",
     "shell.execute_reply": "2021-05-06T07:33:18.448791Z"
    },
    "papermill": {
     "duration": 15.302429,
     "end_time": "2021-05-06T07:33:18.448991",
     "exception": false,
     "start_time": "2021-05-06T07:33:03.146562",
     "status": "completed"
    },
    "tags": []
   },
   "outputs": [],
   "source": [
    "cat_count_features = []\n",
    "for feature in cat_features+['mix_ind']:\n",
    "    val_counts_dict = all_data[feature].value_counts().to_dict()\n",
    "    all_data[f'{feature}_count'] = all_data[feature].apply(lambda x: \n",
    "                                                           val_counts_dict[x])\n",
    "    cat_count_features.append(f'{feature}_count')"
   ]
  },
  {
   "cell_type": "code",
   "execution_count": 9,
   "id": "random-chest",
   "metadata": {
    "execution": {
     "iopub.execute_input": "2021-05-06T07:33:18.506723Z",
     "iopub.status.busy": "2021-05-06T07:33:18.506103Z",
     "iopub.status.idle": "2021-05-06T07:33:18.511238Z",
     "shell.execute_reply": "2021-05-06T07:33:18.511769Z"
    },
    "papermill": {
     "duration": 0.03549,
     "end_time": "2021-05-06T07:33:18.511943",
     "exception": false,
     "start_time": "2021-05-06T07:33:18.476453",
     "status": "completed"
    },
    "tags": []
   },
   "outputs": [
    {
     "data": {
      "text/plain": [
       "['ps_ind_02_cat_count',\n",
       " 'ps_ind_04_cat_count',\n",
       " 'ps_ind_05_cat_count',\n",
       " 'ps_car_01_cat_count',\n",
       " 'ps_car_02_cat_count',\n",
       " 'ps_car_03_cat_count',\n",
       " 'ps_car_04_cat_count',\n",
       " 'ps_car_05_cat_count',\n",
       " 'ps_car_06_cat_count',\n",
       " 'ps_car_07_cat_count',\n",
       " 'ps_car_08_cat_count',\n",
       " 'ps_car_09_cat_count',\n",
       " 'ps_car_10_cat_count',\n",
       " 'ps_car_11_cat_count',\n",
       " 'mix_ind_count']"
      ]
     },
     "execution_count": 9,
     "metadata": {},
     "output_type": "execute_result"
    }
   ],
   "source": [
    "cat_count_features"
   ]
  },
  {
   "cell_type": "markdown",
   "id": "dramatic-nursery",
   "metadata": {
    "papermill": {
     "duration": 0.027179,
     "end_time": "2021-05-06T07:33:18.568393",
     "exception": false,
     "start_time": "2021-05-06T07:33:18.541214",
     "status": "completed"
    },
    "tags": []
   },
   "source": [
    "### 필요 없는 피처 제거"
   ]
  },
  {
   "cell_type": "code",
   "execution_count": 10,
   "id": "resistant-egyptian",
   "metadata": {
    "execution": {
     "iopub.execute_input": "2021-05-06T07:33:18.628208Z",
     "iopub.status.busy": "2021-05-06T07:33:18.627508Z",
     "iopub.status.idle": "2021-05-06T07:33:26.848200Z",
     "shell.execute_reply": "2021-05-06T07:33:26.847511Z"
    },
    "papermill": {
     "duration": 8.250895,
     "end_time": "2021-05-06T07:33:26.848346",
     "exception": false,
     "start_time": "2021-05-06T07:33:18.597451",
     "status": "completed"
    },
    "tags": []
   },
   "outputs": [],
   "source": [
    "from scipy import sparse\n",
    "\n",
    "# 필요 없는 피처들\n",
    "drop_features = ['ps_ind_14', 'ps_ind_10_bin','ps_ind_11_bin', \n",
    "                 'ps_ind_12_bin','ps_ind_13_bin','ps_car_14']\n",
    "\n",
    "# remaining_features, cat_count_features에서 drop_features를 제거한 데이터\n",
    "all_data_remaining = all_data[remaining_features+cat_count_features].drop(drop_features, axis=1)\n",
    "\n",
    "# 데이터 합치기\n",
    "all_data_sprs = sparse.hstack([sparse.csr_matrix(all_data_remaining),\n",
    "                               encoded_cat_matrix],\n",
    "                              format='csr')"
   ]
  },
  {
   "cell_type": "markdown",
   "id": "western-mixture",
   "metadata": {
    "papermill": {
     "duration": 0.027212,
     "end_time": "2021-05-06T07:33:26.903528",
     "exception": false,
     "start_time": "2021-05-06T07:33:26.876316",
     "status": "completed"
    },
    "tags": []
   },
   "source": [
    "### 데이터 나누기"
   ]
  },
  {
   "cell_type": "code",
   "execution_count": 11,
   "id": "ceramic-marina",
   "metadata": {
    "execution": {
     "iopub.execute_input": "2021-05-06T07:33:26.964357Z",
     "iopub.status.busy": "2021-05-06T07:33:26.963645Z",
     "iopub.status.idle": "2021-05-06T07:33:28.338728Z",
     "shell.execute_reply": "2021-05-06T07:33:28.339261Z"
    },
    "papermill": {
     "duration": 1.409356,
     "end_time": "2021-05-06T07:33:28.339465",
     "exception": false,
     "start_time": "2021-05-06T07:33:26.930109",
     "status": "completed"
    },
    "tags": []
   },
   "outputs": [],
   "source": [
    "num_train = train.shape[0] # 훈련 데이터 개수\n",
    "\n",
    "# 훈련 데이터와 테스트 데이터 나누기\n",
    "X = all_data_sprs[:num_train]\n",
    "X_test = all_data_sprs[num_train:]\n",
    "\n",
    "y = train['target'].values"
   ]
  },
  {
   "cell_type": "markdown",
   "id": "visible-contractor",
   "metadata": {
    "papermill": {
     "duration": 0.027946,
     "end_time": "2021-05-06T07:33:28.406513",
     "exception": false,
     "start_time": "2021-05-06T07:33:28.378567",
     "status": "completed"
    },
    "tags": []
   },
   "source": [
    "### 정규화 지니계수 계산 함수"
   ]
  },
  {
   "cell_type": "code",
   "execution_count": 12,
   "id": "israeli-privacy",
   "metadata": {
    "execution": {
     "iopub.execute_input": "2021-05-06T07:33:28.471439Z",
     "iopub.status.busy": "2021-05-06T07:33:28.470357Z",
     "iopub.status.idle": "2021-05-06T07:33:28.473696Z",
     "shell.execute_reply": "2021-05-06T07:33:28.474195Z"
    },
    "papermill": {
     "duration": 0.039985,
     "end_time": "2021-05-06T07:33:28.474403",
     "exception": false,
     "start_time": "2021-05-06T07:33:28.434418",
     "status": "completed"
    },
    "tags": []
   },
   "outputs": [],
   "source": [
    "def eval_gini(y_true, y_pred):\n",
    "    # 실제 값과 예측 값의 크기가 같은지 확인 (값이 다르면 오류 발생)\n",
    "    assert y_true.shape == y_pred.shape\n",
    "\n",
    "    n_samples = y_true.shape[0] # 데이터 개수\n",
    "    L_mid = np.linspace(1 / n_samples, 1, n_samples) # 대각선 값\n",
    "\n",
    "    # 1) 예측 값에 대한 지니계수\n",
    "    pred_order = y_true[y_pred.argsort()] # y_pred 크기순으로 y_true 값 정렬\n",
    "    L_pred = np.cumsum(pred_order) / np.sum(pred_order) # 로렌츠 곡선\n",
    "    G_pred = np.sum(L_mid - L_pred)# 예측 값에 대한 지니계수\n",
    "\n",
    "    # 2) 예측이 완벽할 때 지니계수\n",
    "    true_order = y_true[y_true.argsort()] # y_true 크기순으로 y_true 값 정렬\n",
    "    L_true = np.cumsum(true_order) / np.sum(true_order) # 로렌츠 곡선\n",
    "    G_true = np.sum(L_mid - L_true) # 예측이 완벽할 때 지니계수\n",
    "\n",
    "    # 정규화된 지니계수\n",
    "    return G_pred / G_true"
   ]
  },
  {
   "cell_type": "code",
   "execution_count": 13,
   "id": "greater-nation",
   "metadata": {
    "execution": {
     "iopub.execute_input": "2021-05-06T07:33:28.535877Z",
     "iopub.status.busy": "2021-05-06T07:33:28.535201Z",
     "iopub.status.idle": "2021-05-06T07:33:28.537798Z",
     "shell.execute_reply": "2021-05-06T07:33:28.538475Z"
    },
    "papermill": {
     "duration": 0.036864,
     "end_time": "2021-05-06T07:33:28.538673",
     "exception": false,
     "start_time": "2021-05-06T07:33:28.501809",
     "status": "completed"
    },
    "tags": []
   },
   "outputs": [],
   "source": [
    "def gini(preds, dtrain):\n",
    "    labels = dtrain.get_label()\n",
    "    return 'gini', eval_gini(labels, preds), True"
   ]
  },
  {
   "cell_type": "markdown",
   "id": "recreational-tracker",
   "metadata": {
    "papermill": {
     "duration": 0.027845,
     "end_time": "2021-05-06T07:33:28.594972",
     "exception": false,
     "start_time": "2021-05-06T07:33:28.567127",
     "status": "completed"
    },
    "tags": []
   },
   "source": [
    "## 5.4.2 하이퍼 파라미터 최적화"
   ]
  },
  {
   "cell_type": "markdown",
   "id": "after-comparison",
   "metadata": {
    "papermill": {
     "duration": 0.026963,
     "end_time": "2021-05-06T07:33:28.649600",
     "exception": false,
     "start_time": "2021-05-06T07:33:28.622637",
     "status": "completed"
    },
    "tags": []
   },
   "source": [
    "### 데이터 세트 준비"
   ]
  },
  {
   "cell_type": "code",
   "execution_count": 14,
   "id": "impressed-transportation",
   "metadata": {
    "execution": {
     "iopub.execute_input": "2021-05-06T07:33:28.708512Z",
     "iopub.status.busy": "2021-05-06T07:33:28.707764Z",
     "iopub.status.idle": "2021-05-06T07:33:30.403801Z",
     "shell.execute_reply": "2021-05-06T07:33:30.403215Z"
    },
    "papermill": {
     "duration": 1.726858,
     "end_time": "2021-05-06T07:33:30.403971",
     "exception": false,
     "start_time": "2021-05-06T07:33:28.677113",
     "status": "completed"
    },
    "tags": []
   },
   "outputs": [
    {
     "data": {
      "text/html": [
       "<style type='text/css'>\n",
       ".datatable table.frame { margin-bottom: 0; }\n",
       ".datatable table.frame thead { border-bottom: none; }\n",
       ".datatable table.frame tr.coltypes td {  color: #FFFFFF;  line-height: 6px;  padding: 0 0.5em;}\n",
       ".datatable .bool    { background: #DDDD99; }\n",
       ".datatable .object  { background: #565656; }\n",
       ".datatable .int     { background: #5D9E5D; }\n",
       ".datatable .float   { background: #4040CC; }\n",
       ".datatable .str     { background: #CC4040; }\n",
       ".datatable .row_index {  background: var(--jp-border-color3);  border-right: 1px solid var(--jp-border-color0);  color: var(--jp-ui-font-color3);  font-size: 9px;}\n",
       ".datatable .frame tr.coltypes .row_index {  background: var(--jp-border-color0);}\n",
       ".datatable th:nth-child(2) { padding-left: 12px; }\n",
       ".datatable .hellipsis {  color: var(--jp-cell-editor-border-color);}\n",
       ".datatable .vellipsis {  background: var(--jp-layout-color0);  color: var(--jp-cell-editor-border-color);}\n",
       ".datatable .na {  color: var(--jp-cell-editor-border-color);  font-size: 80%;}\n",
       ".datatable .footer { font-size: 9px; }\n",
       ".datatable .frame_dimensions {  background: var(--jp-border-color3);  border-top: 1px solid var(--jp-border-color0);  color: var(--jp-ui-font-color3);  display: inline-block;  opacity: 0.6;  padding: 1px 10px 1px 5px;}\n",
       "</style>\n"
      ],
      "text/plain": [
       "<IPython.core.display.HTML object>"
      ]
     },
     "metadata": {},
     "output_type": "display_data"
    }
   ],
   "source": [
    "import lightgbm as lgb\n",
    "from sklearn.model_selection import train_test_split\n",
    "\n",
    "# 8:2 비율로 훈련 데이터, 검증 데이터 분리 (베이지안 최적화 수행용)\n",
    "X_train, X_valid, y_train, y_valid = train_test_split(X, y, \n",
    "                                                      test_size=0.2, \n",
    "                                                      random_state=0)\n",
    "\n",
    "# 베이지안 최적화용 데이터 세트\n",
    "bayes_dtrain = lgb.Dataset(X_train, y_train)\n",
    "bayes_dvalid = lgb.Dataset(X_valid, y_valid)"
   ]
  },
  {
   "cell_type": "markdown",
   "id": "better-midwest",
   "metadata": {
    "papermill": {
     "duration": 0.027851,
     "end_time": "2021-05-06T07:33:30.462566",
     "exception": false,
     "start_time": "2021-05-06T07:33:30.434715",
     "status": "completed"
    },
    "tags": []
   },
   "source": [
    "### 하이퍼 파라미터 범위 설정"
   ]
  },
  {
   "cell_type": "code",
   "execution_count": 15,
   "id": "aboriginal-hybrid",
   "metadata": {
    "execution": {
     "iopub.execute_input": "2021-05-06T07:33:30.526407Z",
     "iopub.status.busy": "2021-05-06T07:33:30.525731Z",
     "iopub.status.idle": "2021-05-06T07:33:30.528675Z",
     "shell.execute_reply": "2021-05-06T07:33:30.529147Z"
    },
    "papermill": {
     "duration": 0.038517,
     "end_time": "2021-05-06T07:33:30.529347",
     "exception": false,
     "start_time": "2021-05-06T07:33:30.490830",
     "status": "completed"
    },
    "tags": []
   },
   "outputs": [],
   "source": [
    "# 베이지안 최적화를 위한 하이퍼 파라미터 범위\n",
    "param_bounds = {'num_leaves': (28, 33),\n",
    "                'lambda_l1': (0.9, 1),\n",
    "                'lambda_l2': (0.9, 1),\n",
    "                'feature_fraction': (0.6, 0.8),\n",
    "                'bagging_fraction': (0.7, 0.9),\n",
    "                'min_child_samples': (8, 12),\n",
    "                'min_child_weight': (120, 130)}\n",
    "\n",
    "# 값이 고정된 하이퍼 파라미터\n",
    "fixed_params = {'objective': 'binary',\n",
    "                'learning_rate': 0.01,\n",
    "                'bagging_freq': 1,\n",
    "                'force_row_wise': True,\n",
    "                'random_state': 1991}"
   ]
  },
  {
   "cell_type": "markdown",
   "id": "forced-bowling",
   "metadata": {
    "papermill": {
     "duration": 0.028071,
     "end_time": "2021-05-06T07:33:30.585672",
     "exception": false,
     "start_time": "2021-05-06T07:33:30.557601",
     "status": "completed"
    },
    "tags": []
   },
   "source": [
    "### (베이지안 최적화용) 평가지표 계산 함수 작성"
   ]
  },
  {
   "cell_type": "code",
   "execution_count": 16,
   "id": "ceramic-champagne",
   "metadata": {
    "execution": {
     "iopub.execute_input": "2021-05-06T07:33:30.651941Z",
     "iopub.status.busy": "2021-05-06T07:33:30.651132Z",
     "iopub.status.idle": "2021-05-06T07:33:30.655256Z",
     "shell.execute_reply": "2021-05-06T07:33:30.654623Z"
    },
    "papermill": {
     "duration": 0.041138,
     "end_time": "2021-05-06T07:33:30.655403",
     "exception": false,
     "start_time": "2021-05-06T07:33:30.614265",
     "status": "completed"
    },
    "tags": []
   },
   "outputs": [],
   "source": [
    "def eval_function(num_leaves, lambda_l1, lambda_l2, feature_fraction,\n",
    "                  bagging_fraction, min_child_samples, min_child_weight):\n",
    "    '''최적화하려는 평가지표(지니계수) 계산 함수'''\n",
    "    \n",
    "    # 베이지안 최적화를 수행할 하이퍼 파라미터 ---①\n",
    "    params = {'num_leaves': int(round(num_leaves)),\n",
    "              'lambda_l1': lambda_l1,\n",
    "              'lambda_l2': lambda_l2,\n",
    "              'feature_fraction': feature_fraction,\n",
    "              'bagging_fraction': bagging_fraction,\n",
    "              'min_child_samples': int(round(min_child_samples)),\n",
    "              'min_child_weight': min_child_weight,\n",
    "              'feature_pre_filter': False}\n",
    "    # 고정된 하이퍼 파라미터도 추가 ---②\n",
    "    params.update(fixed_params)\n",
    "    \n",
    "    print('하이퍼 파라미터:', params)    \n",
    "    \n",
    "    # LightGBM 모델 훈련\n",
    "    lgb_model = lgb.train(params=params, \n",
    "                           train_set=bayes_dtrain,\n",
    "                           num_boost_round=1500,\n",
    "                           valid_sets=bayes_dvalid,\n",
    "                           feval=gini,\n",
    "                           early_stopping_rounds=150,\n",
    "                           verbose_eval=False)\n",
    "    \n",
    "    best_iter = lgb_model.best_iteration # 최적 반복 횟수\n",
    "    \n",
    "    # 검증 데이터로 예측 수행\n",
    "    preds = lgb_model.predict(X_valid, num_iteration=best_iter) \n",
    "    \n",
    "    # 지니계수 계산\n",
    "    gini_score = eval_gini(y_valid, preds)\n",
    "    print(f'지니계수: {gini_score}\\n')\n",
    "    \n",
    "    return gini_score"
   ]
  },
  {
   "cell_type": "markdown",
   "id": "hundred-convention",
   "metadata": {
    "papermill": {
     "duration": 0.027866,
     "end_time": "2021-05-06T07:33:30.711622",
     "exception": false,
     "start_time": "2021-05-06T07:33:30.683756",
     "status": "completed"
    },
    "tags": []
   },
   "source": [
    "### 최적화 수행"
   ]
  },
  {
   "cell_type": "code",
   "execution_count": 17,
   "id": "nuclear-landscape",
   "metadata": {
    "execution": {
     "iopub.execute_input": "2021-05-06T07:33:30.774191Z",
     "iopub.status.busy": "2021-05-06T07:33:30.773459Z",
     "iopub.status.idle": "2021-05-06T07:33:30.802187Z",
     "shell.execute_reply": "2021-05-06T07:33:30.801535Z"
    },
    "papermill": {
     "duration": 0.062102,
     "end_time": "2021-05-06T07:33:30.802351",
     "exception": false,
     "start_time": "2021-05-06T07:33:30.740249",
     "status": "completed"
    },
    "tags": []
   },
   "outputs": [],
   "source": [
    "from bayes_opt import BayesianOptimization\n",
    "\n",
    "# 베이지안 최적화 객체 생성\n",
    "optimizer = BayesianOptimization(f=eval_function, # 평가지표 계산 함수\n",
    "                                 pbounds=param_bounds, # 하이퍼 파라미터 범위\n",
    "                                 random_state=0)"
   ]
  },
  {
   "cell_type": "code",
   "execution_count": 18,
   "id": "urban-position",
   "metadata": {
    "execution": {
     "iopub.execute_input": "2021-05-06T07:33:30.868838Z",
     "iopub.status.busy": "2021-05-06T07:33:30.868176Z",
     "iopub.status.idle": "2021-05-06T08:02:33.858619Z",
     "shell.execute_reply": "2021-05-06T08:02:33.859230Z"
    },
    "papermill": {
     "duration": 1743.028465,
     "end_time": "2021-05-06T08:02:33.859641",
     "exception": false,
     "start_time": "2021-05-06T07:33:30.831176",
     "status": "completed"
    },
    "tags": []
   },
   "outputs": [
    {
     "name": "stdout",
     "output_type": "stream",
     "text": [
      "|   iter    |  target   | baggin... | featur... | lambda_l1 | lambda_l2 | min_ch... | min_ch... | num_le... |\n",
      "-------------------------------------------------------------------------------------------------------------\n",
      "하이퍼 파라미터: {'num_leaves': 30, 'lambda_l1': 0.9602763376071644, 'lambda_l2': 0.9544883182996897, 'feature_fraction': 0.7430378732744839, 'bagging_fraction': 0.809762700785465, 'min_child_samples': 10, 'min_child_weight': 126.45894113066656, 'feature_pre_filter': False, 'objective': 'binary', 'learning_rate': 0.01, 'bagging_freq': 1, 'force_row_wise': True, 'random_state': 1991}\n",
      "[LightGBM] [Info] Number of positive: 17383, number of negative: 458786\n",
      "[LightGBM] [Info] Total Bins 1555\n",
      "[LightGBM] [Info] Number of data points in the train set: 476169, number of used features: 217\n",
      "[LightGBM] [Info] [binary:BoostFromScore]: pavg=0.036506 -> initscore=-3.273091\n",
      "[LightGBM] [Info] Start training from score -3.273091\n",
      "지니계수: 0.2842759041022516\n",
      "\n",
      "| \u001b[0m 1       \u001b[0m | \u001b[0m 0.2843  \u001b[0m | \u001b[0m 0.8098  \u001b[0m | \u001b[0m 0.743   \u001b[0m | \u001b[0m 0.9603  \u001b[0m | \u001b[0m 0.9545  \u001b[0m | \u001b[0m 9.695   \u001b[0m | \u001b[0m 126.5   \u001b[0m | \u001b[0m 30.19   \u001b[0m |\n",
      "하이퍼 파라미터: {'num_leaves': 33, 'lambda_l1': 0.9383441518825778, 'lambda_l2': 0.9791725038082665, 'feature_fraction': 0.7927325521002059, 'bagging_fraction': 0.878354600156416, 'min_child_samples': 10, 'min_child_weight': 125.68044561093933, 'feature_pre_filter': False, 'objective': 'binary', 'learning_rate': 0.01, 'bagging_freq': 1, 'force_row_wise': True, 'random_state': 1991}\n",
      "[LightGBM] [Info] Number of positive: 17383, number of negative: 458786\n",
      "[LightGBM] [Info] Total Bins 1555\n",
      "[LightGBM] [Info] Number of data points in the train set: 476169, number of used features: 217\n",
      "[LightGBM] [Info] [binary:BoostFromScore]: pavg=0.036506 -> initscore=-3.273091\n",
      "[LightGBM] [Info] Start training from score -3.273091\n",
      "지니계수: 0.2836988146765887\n",
      "\n",
      "| \u001b[0m 2       \u001b[0m | \u001b[0m 0.2837  \u001b[0m | \u001b[0m 0.8784  \u001b[0m | \u001b[0m 0.7927  \u001b[0m | \u001b[0m 0.9383  \u001b[0m | \u001b[0m 0.9792  \u001b[0m | \u001b[0m 10.12   \u001b[0m | \u001b[0m 125.7   \u001b[0m | \u001b[0m 32.63   \u001b[0m |\n",
      "하이퍼 파라미터: {'num_leaves': 33, 'lambda_l1': 0.9020218397440326, 'lambda_l2': 0.9832619845547939, 'feature_fraction': 0.6174258599403081, 'bagging_fraction': 0.7142072116395773, 'min_child_samples': 11, 'min_child_weight': 128.7001214824682, 'feature_pre_filter': False, 'objective': 'binary', 'learning_rate': 0.01, 'bagging_freq': 1, 'force_row_wise': True, 'random_state': 1991}\n",
      "[LightGBM] [Info] Number of positive: 17383, number of negative: 458786\n",
      "[LightGBM] [Info] Total Bins 1555\n",
      "[LightGBM] [Info] Number of data points in the train set: 476169, number of used features: 217\n",
      "[LightGBM] [Info] [binary:BoostFromScore]: pavg=0.036506 -> initscore=-3.273091\n",
      "[LightGBM] [Info] Start training from score -3.273091\n",
      "지니계수: 0.28391443117248355\n",
      "\n",
      "| \u001b[0m 3       \u001b[0m | \u001b[0m 0.2839  \u001b[0m | \u001b[0m 0.7142  \u001b[0m | \u001b[0m 0.6174  \u001b[0m | \u001b[0m 0.902   \u001b[0m | \u001b[0m 0.9833  \u001b[0m | \u001b[0m 11.11   \u001b[0m | \u001b[0m 128.7   \u001b[0m | \u001b[0m 32.89   \u001b[0m |\n",
      "하이퍼 파라미터: {'num_leaves': 33, 'lambda_l1': 0.9780529176286455, 'lambda_l2': 0.9118274425868933, 'feature_fraction': 0.6922958724505863, 'bagging_fraction': 0.8598317128433447, 'min_child_samples': 11, 'min_child_weight': 121.43353287409046, 'feature_pre_filter': False, 'objective': 'binary', 'learning_rate': 0.01, 'bagging_freq': 1, 'force_row_wise': True, 'random_state': 1991}\n",
      "[LightGBM] [Info] Number of positive: 17383, number of negative: 458786\n",
      "[LightGBM] [Info] Total Bins 1555\n",
      "[LightGBM] [Info] Number of data points in the train set: 476169, number of used features: 217\n",
      "[LightGBM] [Info] [binary:BoostFromScore]: pavg=0.036506 -> initscore=-3.273091\n",
      "[LightGBM] [Info] Start training from score -3.273091\n",
      "지니계수: 0.2845046744053431\n",
      "\n",
      "| \u001b[95m 4       \u001b[0m | \u001b[95m 0.2845  \u001b[0m | \u001b[95m 0.8598  \u001b[0m | \u001b[95m 0.6923  \u001b[0m | \u001b[95m 0.9781  \u001b[0m | \u001b[95m 0.9118  \u001b[0m | \u001b[95m 10.56   \u001b[0m | \u001b[95m 121.4   \u001b[0m | \u001b[95m 32.72   \u001b[0m |\n",
      "하이퍼 파라미터: {'num_leaves': 28, 'lambda_l1': 0.9264555612104627, 'lambda_l2': 0.9774233689434216, 'feature_fraction': 0.6829323879981047, 'bagging_fraction': 0.8043696643500143, 'min_child_samples': 10, 'min_child_weight': 125.68433948868649, 'feature_pre_filter': False, 'objective': 'binary', 'learning_rate': 0.01, 'bagging_freq': 1, 'force_row_wise': True, 'random_state': 1991}\n",
      "[LightGBM] [Info] Number of positive: 17383, number of negative: 458786\n",
      "[LightGBM] [Info] Total Bins 1555\n",
      "[LightGBM] [Info] Number of data points in the train set: 476169, number of used features: 217\n",
      "[LightGBM] [Info] [binary:BoostFromScore]: pavg=0.036506 -> initscore=-3.273091\n",
      "[LightGBM] [Info] Start training from score -3.273091\n",
      "지니계수: 0.2853605897686769\n",
      "\n",
      "| \u001b[95m 5       \u001b[0m | \u001b[95m 0.2854  \u001b[0m | \u001b[95m 0.8044  \u001b[0m | \u001b[95m 0.6829  \u001b[0m | \u001b[95m 0.9265  \u001b[0m | \u001b[95m 0.9774  \u001b[0m | \u001b[95m 9.825   \u001b[0m | \u001b[95m 125.7   \u001b[0m | \u001b[95m 28.09   \u001b[0m |\n",
      "하이퍼 파라미터: {'num_leaves': 28, 'lambda_l1': 0.9518989225838085, 'lambda_l2': 0.9693976658795659, 'feature_fraction': 0.6809171294343246, 'bagging_fraction': 0.8301449635021972, 'min_child_samples': 10, 'min_child_weight': 124.16955472890801, 'feature_pre_filter': False, 'objective': 'binary', 'learning_rate': 0.01, 'bagging_freq': 1, 'force_row_wise': True, 'random_state': 1991}\n",
      "[LightGBM] [Info] Number of positive: 17383, number of negative: 458786\n",
      "[LightGBM] [Info] Total Bins 1555\n",
      "[LightGBM] [Info] Number of data points in the train set: 476169, number of used features: 217\n",
      "[LightGBM] [Info] [binary:BoostFromScore]: pavg=0.036506 -> initscore=-3.273091\n",
      "[LightGBM] [Info] Start training from score -3.273091\n",
      "지니계수: 0.28379482169911247\n",
      "\n",
      "| \u001b[0m 6       \u001b[0m | \u001b[0m 0.2838  \u001b[0m | \u001b[0m 0.8301  \u001b[0m | \u001b[0m 0.6809  \u001b[0m | \u001b[0m 0.9519  \u001b[0m | \u001b[0m 0.9694  \u001b[0m | \u001b[0m 9.975   \u001b[0m | \u001b[0m 124.2   \u001b[0m | \u001b[0m 28.0    \u001b[0m |\n",
      "하이퍼 파라미터: {'num_leaves': 31, 'lambda_l1': 0.9369224665248994, 'lambda_l2': 0.9032695189818599, 'feature_fraction': 0.7212682128819454, 'bagging_fraction': 0.811114264329537, 'min_child_samples': 11, 'min_child_weight': 126.43539080712682, 'feature_pre_filter': False, 'objective': 'binary', 'learning_rate': 0.01, 'bagging_freq': 1, 'force_row_wise': True, 'random_state': 1991}\n",
      "[LightGBM] [Info] Number of positive: 17383, number of negative: 458786\n",
      "[LightGBM] [Info] Total Bins 1555\n",
      "[LightGBM] [Info] Number of data points in the train set: 476169, number of used features: 217\n",
      "[LightGBM] [Info] [binary:BoostFromScore]: pavg=0.036506 -> initscore=-3.273091\n",
      "[LightGBM] [Info] Start training from score -3.273091\n",
      "지니계수: 0.2829774781669648\n",
      "\n",
      "| \u001b[0m 7       \u001b[0m | \u001b[0m 0.283   \u001b[0m | \u001b[0m 0.8111  \u001b[0m | \u001b[0m 0.7213  \u001b[0m | \u001b[0m 0.9369  \u001b[0m | \u001b[0m 0.9033  \u001b[0m | \u001b[0m 10.77   \u001b[0m | \u001b[0m 126.4   \u001b[0m | \u001b[0m 31.3    \u001b[0m |\n",
      "하이퍼 파라미터: {'num_leaves': 28, 'lambda_l1': 0.9064676374563663, 'lambda_l2': 0.9802210520736965, 'feature_fraction': 0.773593276866254, 'bagging_fraction': 0.7281251999879889, 'min_child_samples': 10, 'min_child_weight': 125.74291905881115, 'feature_pre_filter': False, 'objective': 'binary', 'learning_rate': 0.01, 'bagging_freq': 1, 'force_row_wise': True, 'random_state': 1991}\n",
      "[LightGBM] [Info] Number of positive: 17383, number of negative: 458786\n",
      "[LightGBM] [Info] Total Bins 1555\n",
      "[LightGBM] [Info] Number of data points in the train set: 476169, number of used features: 217\n",
      "[LightGBM] [Info] [binary:BoostFromScore]: pavg=0.036506 -> initscore=-3.273091\n",
      "[LightGBM] [Info] Start training from score -3.273091\n",
      "지니계수: 0.28419941954549655\n",
      "\n",
      "| \u001b[0m 8       \u001b[0m | \u001b[0m 0.2842  \u001b[0m | \u001b[0m 0.7281  \u001b[0m | \u001b[0m 0.7736  \u001b[0m | \u001b[0m 0.9065  \u001b[0m | \u001b[0m 0.9802  \u001b[0m | \u001b[0m 9.801   \u001b[0m | \u001b[0m 125.7   \u001b[0m | \u001b[0m 28.01   \u001b[0m |\n",
      "하이퍼 파라미터: {'num_leaves': 31, 'lambda_l1': 0.9810462251109425, 'lambda_l2': 0.900511488097541, 'feature_fraction': 0.7112494871161906, 'bagging_fraction': 0.7824409284317898, 'min_child_samples': 10, 'min_child_weight': 122.26699918110148, 'feature_pre_filter': False, 'objective': 'binary', 'learning_rate': 0.01, 'bagging_freq': 1, 'force_row_wise': True, 'random_state': 1991}\n",
      "[LightGBM] [Info] Number of positive: 17383, number of negative: 458786\n",
      "[LightGBM] [Info] Total Bins 1555\n",
      "[LightGBM] [Info] Number of data points in the train set: 476169, number of used features: 217\n",
      "[LightGBM] [Info] [binary:BoostFromScore]: pavg=0.036506 -> initscore=-3.273091\n",
      "[LightGBM] [Info] Start training from score -3.273091\n",
      "지니계수: 0.28375394097646933\n",
      "\n",
      "| \u001b[0m 9       \u001b[0m | \u001b[0m 0.2838  \u001b[0m | \u001b[0m 0.7824  \u001b[0m | \u001b[0m 0.7112  \u001b[0m | \u001b[0m 0.981   \u001b[0m | \u001b[0m 0.9005  \u001b[0m | \u001b[0m 10.22   \u001b[0m | \u001b[0m 122.3   \u001b[0m | \u001b[0m 31.19   \u001b[0m |\n",
      "하이퍼 파라미터: {'num_leaves': 28, 'lambda_l1': 0.9576139053271895, 'lambda_l2': 0.9536059481546242, 'feature_fraction': 0.7252151288454692, 'bagging_fraction': 0.7972295965043527, 'min_child_samples': 10, 'min_child_weight': 125.67533886235528, 'feature_pre_filter': False, 'objective': 'binary', 'learning_rate': 0.01, 'bagging_freq': 1, 'force_row_wise': True, 'random_state': 1991}\n",
      "[LightGBM] [Info] Number of positive: 17383, number of negative: 458786\n",
      "[LightGBM] [Info] Total Bins 1555\n",
      "[LightGBM] [Info] Number of data points in the train set: 476169, number of used features: 217\n",
      "[LightGBM] [Info] [binary:BoostFromScore]: pavg=0.036506 -> initscore=-3.273091\n",
      "[LightGBM] [Info] Start training from score -3.273091\n",
      "지니계수: 0.28471130199456773\n",
      "\n",
      "| \u001b[0m 10      \u001b[0m | \u001b[0m 0.2847  \u001b[0m | \u001b[0m 0.7972  \u001b[0m | \u001b[0m 0.7252  \u001b[0m | \u001b[0m 0.9576  \u001b[0m | \u001b[0m 0.9536  \u001b[0m | \u001b[0m 9.8     \u001b[0m | \u001b[0m 125.7   \u001b[0m | \u001b[0m 28.02   \u001b[0m |\n",
      "하이퍼 파라미터: {'num_leaves': 28, 'lambda_l1': 0.943658397357584, 'lambda_l2': 0.9968661597281969, 'feature_fraction': 0.7885156553335033, 'bagging_fraction': 0.8173298168659664, 'min_child_samples': 10, 'min_child_weight': 125.64475222095318, 'feature_pre_filter': False, 'objective': 'binary', 'learning_rate': 0.01, 'bagging_freq': 1, 'force_row_wise': True, 'random_state': 1991}\n",
      "[LightGBM] [Info] Number of positive: 17383, number of negative: 458786\n",
      "[LightGBM] [Info] Total Bins 1555\n",
      "[LightGBM] [Info] Number of data points in the train set: 476169, number of used features: 217\n",
      "[LightGBM] [Info] [binary:BoostFromScore]: pavg=0.036506 -> initscore=-3.273091\n",
      "[LightGBM] [Info] Start training from score -3.273091\n",
      "지니계수: 0.28445322777485965\n",
      "\n",
      "| \u001b[0m 11      \u001b[0m | \u001b[0m 0.2845  \u001b[0m | \u001b[0m 0.8173  \u001b[0m | \u001b[0m 0.7885  \u001b[0m | \u001b[0m 0.9437  \u001b[0m | \u001b[0m 0.9969  \u001b[0m | \u001b[0m 9.808   \u001b[0m | \u001b[0m 125.6   \u001b[0m | \u001b[0m 28.18   \u001b[0m |\n",
      "하이퍼 파라미터: {'num_leaves': 30, 'lambda_l1': 0.9864234375301922, 'lambda_l2': 0.9373109984977455, 'feature_fraction': 0.6543342631269844, 'bagging_fraction': 0.7300029795689653, 'min_child_samples': 12, 'min_child_weight': 127.04673614102272, 'feature_pre_filter': False, 'objective': 'binary', 'learning_rate': 0.01, 'bagging_freq': 1, 'force_row_wise': True, 'random_state': 1991}\n",
      "[LightGBM] [Info] Number of positive: 17383, number of negative: 458786\n",
      "[LightGBM] [Info] Total Bins 1555\n",
      "[LightGBM] [Info] Number of data points in the train set: 476169, number of used features: 217\n",
      "[LightGBM] [Info] [binary:BoostFromScore]: pavg=0.036506 -> initscore=-3.273091\n",
      "[LightGBM] [Info] Start training from score -3.273091\n",
      "지니계수: 0.2841860918638119\n",
      "\n",
      "| \u001b[0m 12      \u001b[0m | \u001b[0m 0.2842  \u001b[0m | \u001b[0m 0.73    \u001b[0m | \u001b[0m 0.6543  \u001b[0m | \u001b[0m 0.9864  \u001b[0m | \u001b[0m 0.9373  \u001b[0m | \u001b[0m 11.79   \u001b[0m | \u001b[0m 127.0   \u001b[0m | \u001b[0m 29.97   \u001b[0m |\n",
      "하이퍼 파라미터: {'num_leaves': 33, 'lambda_l1': 0.9380458340847643, 'lambda_l2': 0.961202378636248, 'feature_fraction': 0.6744616315151691, 'bagging_fraction': 0.8365254931655592, 'min_child_samples': 10, 'min_child_weight': 125.09914708310042, 'feature_pre_filter': False, 'objective': 'binary', 'learning_rate': 0.01, 'bagging_freq': 1, 'force_row_wise': True, 'random_state': 1991}\n",
      "[LightGBM] [Info] Number of positive: 17383, number of negative: 458786\n",
      "[LightGBM] [Info] Total Bins 1555\n",
      "[LightGBM] [Info] Number of data points in the train set: 476169, number of used features: 217\n",
      "[LightGBM] [Info] [binary:BoostFromScore]: pavg=0.036506 -> initscore=-3.273091\n",
      "[LightGBM] [Info] Start training from score -3.273091\n",
      "지니계수: 0.2842043122927169\n",
      "\n",
      "| \u001b[0m 13      \u001b[0m | \u001b[0m 0.2842  \u001b[0m | \u001b[0m 0.8365  \u001b[0m | \u001b[0m 0.6745  \u001b[0m | \u001b[0m 0.938   \u001b[0m | \u001b[0m 0.9612  \u001b[0m | \u001b[0m 10.4    \u001b[0m | \u001b[0m 125.1   \u001b[0m | \u001b[0m 32.87   \u001b[0m |\n",
      "하이퍼 파라미터: {'num_leaves': 28, 'lambda_l1': 0.9074164128117759, 'lambda_l2': 0.9181716389862402, 'feature_fraction': 0.6651342729947742, 'bagging_fraction': 0.7639669923613932, 'min_child_samples': 10, 'min_child_weight': 125.77210372056366, 'feature_pre_filter': False, 'objective': 'binary', 'learning_rate': 0.01, 'bagging_freq': 1, 'force_row_wise': True, 'random_state': 1991}\n",
      "[LightGBM] [Info] Number of positive: 17383, number of negative: 458786\n",
      "[LightGBM] [Info] Total Bins 1555\n",
      "[LightGBM] [Info] Number of data points in the train set: 476169, number of used features: 217\n",
      "[LightGBM] [Info] [binary:BoostFromScore]: pavg=0.036506 -> initscore=-3.273091\n",
      "[LightGBM] [Info] Start training from score -3.273091\n",
      "지니계수: 0.2845146418614573\n",
      "\n",
      "| \u001b[0m 14      \u001b[0m | \u001b[0m 0.2845  \u001b[0m | \u001b[0m 0.764   \u001b[0m | \u001b[0m 0.6651  \u001b[0m | \u001b[0m 0.9074  \u001b[0m | \u001b[0m 0.9182  \u001b[0m | \u001b[0m 9.752   \u001b[0m | \u001b[0m 125.8   \u001b[0m | \u001b[0m 28.05   \u001b[0m |\n",
      "하이퍼 파라미터: {'num_leaves': 28, 'lambda_l1': 0.9717112679889867, 'lambda_l2': 0.9227046577156117, 'feature_fraction': 0.6041890659705956, 'bagging_fraction': 0.8588537547841266, 'min_child_samples': 10, 'min_child_weight': 125.74384784608316, 'feature_pre_filter': False, 'objective': 'binary', 'learning_rate': 0.01, 'bagging_freq': 1, 'force_row_wise': True, 'random_state': 1991}\n",
      "[LightGBM] [Info] Number of positive: 17383, number of negative: 458786\n",
      "[LightGBM] [Info] Total Bins 1555\n",
      "[LightGBM] [Info] Number of data points in the train set: 476169, number of used features: 217\n",
      "[LightGBM] [Info] [binary:BoostFromScore]: pavg=0.036506 -> initscore=-3.273091\n",
      "[LightGBM] [Info] Start training from score -3.273091\n",
      "지니계수: 0.2838406234741251\n",
      "\n",
      "| \u001b[0m 15      \u001b[0m | \u001b[0m 0.2838  \u001b[0m | \u001b[0m 0.8589  \u001b[0m | \u001b[0m 0.6042  \u001b[0m | \u001b[0m 0.9717  \u001b[0m | \u001b[0m 0.9227  \u001b[0m | \u001b[0m 9.73    \u001b[0m | \u001b[0m 125.7   \u001b[0m | \u001b[0m 28.16   \u001b[0m |\n",
      "=============================================================================================================\n"
     ]
    }
   ],
   "source": [
    "# 베이지안 최적화 수행\n",
    "optimizer.maximize(init_points=5, n_iter=10)"
   ]
  },
  {
   "cell_type": "markdown",
   "id": "proprietary-robert",
   "metadata": {
    "papermill": {
     "duration": 0.038765,
     "end_time": "2021-05-06T08:02:33.938430",
     "exception": false,
     "start_time": "2021-05-06T08:02:33.899665",
     "status": "completed"
    },
    "tags": []
   },
   "source": [
    "### 결과 확인"
   ]
  },
  {
   "cell_type": "code",
   "execution_count": 19,
   "id": "favorite-snake",
   "metadata": {
    "execution": {
     "iopub.execute_input": "2021-05-06T08:02:34.024689Z",
     "iopub.status.busy": "2021-05-06T08:02:34.023718Z",
     "iopub.status.idle": "2021-05-06T08:02:34.028477Z",
     "shell.execute_reply": "2021-05-06T08:02:34.027736Z"
    },
    "papermill": {
     "duration": 0.051136,
     "end_time": "2021-05-06T08:02:34.028686",
     "exception": false,
     "start_time": "2021-05-06T08:02:33.977550",
     "status": "completed"
    },
    "tags": []
   },
   "outputs": [
    {
     "data": {
      "text/plain": [
       "{'bagging_fraction': 0.8043696643500143,\n",
       " 'feature_fraction': 0.6829323879981047,\n",
       " 'lambda_l1': 0.9264555612104627,\n",
       " 'lambda_l2': 0.9774233689434216,\n",
       " 'min_child_samples': 9.824601328866194,\n",
       " 'min_child_weight': 125.68433948868649,\n",
       " 'num_leaves': 28.093949002181777}"
      ]
     },
     "execution_count": 19,
     "metadata": {},
     "output_type": "execute_result"
    }
   ],
   "source": [
    "# 평가함수 점수가 최대일 때 하이퍼 파라미터\n",
    "max_params = optimizer.max['params']\n",
    "max_params"
   ]
  },
  {
   "cell_type": "code",
   "execution_count": 20,
   "id": "urban-procurement",
   "metadata": {
    "execution": {
     "iopub.execute_input": "2021-05-06T08:02:34.118693Z",
     "iopub.status.busy": "2021-05-06T08:02:34.117881Z",
     "iopub.status.idle": "2021-05-06T08:02:34.121295Z",
     "shell.execute_reply": "2021-05-06T08:02:34.120565Z"
    },
    "papermill": {
     "duration": 0.050644,
     "end_time": "2021-05-06T08:02:34.121460",
     "exception": false,
     "start_time": "2021-05-06T08:02:34.070816",
     "status": "completed"
    },
    "tags": []
   },
   "outputs": [],
   "source": [
    "# 정수형 하이퍼 파라미터 변환\n",
    "max_params['num_leaves'] = int(round(max_params['num_leaves']))\n",
    "max_params['min_child_samples'] = int(round(max_params['min_child_samples']))"
   ]
  },
  {
   "cell_type": "code",
   "execution_count": 21,
   "id": "technical-translation",
   "metadata": {
    "execution": {
     "iopub.execute_input": "2021-05-06T08:02:34.208378Z",
     "iopub.status.busy": "2021-05-06T08:02:34.207371Z",
     "iopub.status.idle": "2021-05-06T08:02:34.210526Z",
     "shell.execute_reply": "2021-05-06T08:02:34.209987Z"
    },
    "papermill": {
     "duration": 0.04837,
     "end_time": "2021-05-06T08:02:34.210675",
     "exception": false,
     "start_time": "2021-05-06T08:02:34.162305",
     "status": "completed"
    },
    "tags": []
   },
   "outputs": [],
   "source": [
    "# 값이 고정된 하이퍼 파라미터 추가\n",
    "max_params.update(fixed_params)"
   ]
  },
  {
   "cell_type": "code",
   "execution_count": 22,
   "id": "weird-tablet",
   "metadata": {
    "execution": {
     "iopub.execute_input": "2021-05-06T08:02:34.302000Z",
     "iopub.status.busy": "2021-05-06T08:02:34.301154Z",
     "iopub.status.idle": "2021-05-06T08:02:34.305223Z",
     "shell.execute_reply": "2021-05-06T08:02:34.305780Z"
    },
    "papermill": {
     "duration": 0.052681,
     "end_time": "2021-05-06T08:02:34.305941",
     "exception": false,
     "start_time": "2021-05-06T08:02:34.253260",
     "status": "completed"
    },
    "tags": []
   },
   "outputs": [
    {
     "data": {
      "text/plain": [
       "{'bagging_fraction': 0.8043696643500143,\n",
       " 'feature_fraction': 0.6829323879981047,\n",
       " 'lambda_l1': 0.9264555612104627,\n",
       " 'lambda_l2': 0.9774233689434216,\n",
       " 'min_child_samples': 10,\n",
       " 'min_child_weight': 125.68433948868649,\n",
       " 'num_leaves': 28,\n",
       " 'objective': 'binary',\n",
       " 'learning_rate': 0.01,\n",
       " 'bagging_freq': 1,\n",
       " 'force_row_wise': True,\n",
       " 'random_state': 1991}"
      ]
     },
     "execution_count": 22,
     "metadata": {},
     "output_type": "execute_result"
    }
   ],
   "source": [
    "max_params"
   ]
  },
  {
   "cell_type": "markdown",
   "id": "chronic-divide",
   "metadata": {
    "papermill": {
     "duration": 0.040106,
     "end_time": "2021-05-06T08:02:34.387957",
     "exception": false,
     "start_time": "2021-05-06T08:02:34.347851",
     "status": "completed"
    },
    "tags": []
   },
   "source": [
    "## 5.4.3 훈련 및 예측"
   ]
  },
  {
   "cell_type": "code",
   "execution_count": 23,
   "id": "handy-laptop",
   "metadata": {
    "execution": {
     "iopub.execute_input": "2021-05-06T08:02:34.481990Z",
     "iopub.status.busy": "2021-05-06T08:02:34.480878Z",
     "iopub.status.idle": "2021-05-06T08:16:54.277885Z",
     "shell.execute_reply": "2021-05-06T08:16:54.278438Z"
    },
    "papermill": {
     "duration": 859.850255,
     "end_time": "2021-05-06T08:16:54.278670",
     "exception": false,
     "start_time": "2021-05-06T08:02:34.428415",
     "status": "completed"
    },
    "tags": []
   },
   "outputs": [
    {
     "name": "stdout",
     "output_type": "stream",
     "text": [
      "######################################## 폴드 1 / 폴드 5 ########################################\n",
      "[LightGBM] [Info] Number of positive: 17355, number of negative: 458814\n",
      "[LightGBM] [Info] Total Bins 1554\n",
      "[LightGBM] [Info] Number of data points in the train set: 476169, number of used features: 216\n",
      "[LightGBM] [Info] [binary:BoostFromScore]: pavg=0.036447 -> initscore=-3.274764\n",
      "[LightGBM] [Info] Start training from score -3.274764\n",
      "Training until validation scores don't improve for 150 rounds\n",
      "[100]\tvalid_0's binary_logloss: 0.153315\tvalid_0's gini: 0.270034\n",
      "[200]\tvalid_0's binary_logloss: 0.152339\tvalid_0's gini: 0.280485\n",
      "[300]\tvalid_0's binary_logloss: 0.151922\tvalid_0's gini: 0.286543\n",
      "[400]\tvalid_0's binary_logloss: 0.15169\tvalid_0's gini: 0.291089\n",
      "[500]\tvalid_0's binary_logloss: 0.151544\tvalid_0's gini: 0.294535\n",
      "[600]\tvalid_0's binary_logloss: 0.151467\tvalid_0's gini: 0.296222\n",
      "[700]\tvalid_0's binary_logloss: 0.151405\tvalid_0's gini: 0.297658\n",
      "[800]\tvalid_0's binary_logloss: 0.151368\tvalid_0's gini: 0.298591\n",
      "[900]\tvalid_0's binary_logloss: 0.151337\tvalid_0's gini: 0.299329\n",
      "[1000]\tvalid_0's binary_logloss: 0.151325\tvalid_0's gini: 0.299571\n",
      "[1100]\tvalid_0's binary_logloss: 0.151312\tvalid_0's gini: 0.29987\n",
      "[1200]\tvalid_0's binary_logloss: 0.151309\tvalid_0's gini: 0.299973\n",
      "[1300]\tvalid_0's binary_logloss: 0.151309\tvalid_0's gini: 0.29986\n",
      "Early stopping, best iteration is:\n",
      "[1209]\tvalid_0's binary_logloss: 0.151306\tvalid_0's gini: 0.300053\n",
      "폴드 1 지니계수: 0.3000525641260156\n",
      "\n",
      "######################################## 폴드 2 / 폴드 5 ########################################\n",
      "[LightGBM] [Info] Number of positive: 17355, number of negative: 458814\n",
      "[LightGBM] [Info] Total Bins 1560\n",
      "[LightGBM] [Info] Number of data points in the train set: 476169, number of used features: 216\n",
      "[LightGBM] [Info] [binary:BoostFromScore]: pavg=0.036447 -> initscore=-3.274764\n",
      "[LightGBM] [Info] Start training from score -3.274764\n",
      "Training until validation scores don't improve for 150 rounds\n",
      "[100]\tvalid_0's binary_logloss: 0.153498\tvalid_0's gini: 0.258413\n",
      "[200]\tvalid_0's binary_logloss: 0.15262\tvalid_0's gini: 0.26765\n",
      "[300]\tvalid_0's binary_logloss: 0.152267\tvalid_0's gini: 0.273355\n",
      "[400]\tvalid_0's binary_logloss: 0.152086\tvalid_0's gini: 0.277154\n",
      "[500]\tvalid_0's binary_logloss: 0.151977\tvalid_0's gini: 0.279912\n",
      "[600]\tvalid_0's binary_logloss: 0.151912\tvalid_0's gini: 0.281631\n",
      "[700]\tvalid_0's binary_logloss: 0.151872\tvalid_0's gini: 0.28274\n",
      "[800]\tvalid_0's binary_logloss: 0.151831\tvalid_0's gini: 0.283899\n",
      "[900]\tvalid_0's binary_logloss: 0.15182\tvalid_0's gini: 0.284216\n",
      "[1000]\tvalid_0's binary_logloss: 0.151807\tvalid_0's gini: 0.284581\n",
      "[1100]\tvalid_0's binary_logloss: 0.151792\tvalid_0's gini: 0.285036\n",
      "[1200]\tvalid_0's binary_logloss: 0.151792\tvalid_0's gini: 0.285047\n",
      "[1300]\tvalid_0's binary_logloss: 0.151786\tvalid_0's gini: 0.285333\n",
      "[1400]\tvalid_0's binary_logloss: 0.151787\tvalid_0's gini: 0.285537\n",
      "[1500]\tvalid_0's binary_logloss: 0.151784\tvalid_0's gini: 0.285584\n",
      "Did not meet early stopping. Best iteration is:\n",
      "[1459]\tvalid_0's binary_logloss: 0.151783\tvalid_0's gini: 0.285681\n",
      "폴드 2 지니계수: 0.2856809897393425\n",
      "\n",
      "######################################## 폴드 3 / 폴드 5 ########################################\n",
      "[LightGBM] [Info] Number of positive: 17356, number of negative: 458814\n",
      "[LightGBM] [Info] Total Bins 1556\n",
      "[LightGBM] [Info] Number of data points in the train set: 476170, number of used features: 216\n",
      "[LightGBM] [Info] [binary:BoostFromScore]: pavg=0.036449 -> initscore=-3.274707\n",
      "[LightGBM] [Info] Start training from score -3.274707\n",
      "Training until validation scores don't improve for 150 rounds\n",
      "[100]\tvalid_0's binary_logloss: 0.153333\tvalid_0's gini: 0.26323\n",
      "[200]\tvalid_0's binary_logloss: 0.152367\tvalid_0's gini: 0.272493\n",
      "[300]\tvalid_0's binary_logloss: 0.151978\tvalid_0's gini: 0.277774\n",
      "[400]\tvalid_0's binary_logloss: 0.151784\tvalid_0's gini: 0.280881\n",
      "[500]\tvalid_0's binary_logloss: 0.151686\tvalid_0's gini: 0.282794\n",
      "[600]\tvalid_0's binary_logloss: 0.151638\tvalid_0's gini: 0.283821\n",
      "[700]\tvalid_0's binary_logloss: 0.151613\tvalid_0's gini: 0.284375\n",
      "[800]\tvalid_0's binary_logloss: 0.151606\tvalid_0's gini: 0.284532\n",
      "[900]\tvalid_0's binary_logloss: 0.151599\tvalid_0's gini: 0.284754\n",
      "[1000]\tvalid_0's binary_logloss: 0.151592\tvalid_0's gini: 0.284938\n",
      "[1100]\tvalid_0's binary_logloss: 0.151601\tvalid_0's gini: 0.284697\n",
      "Early stopping, best iteration is:\n",
      "[950]\tvalid_0's binary_logloss: 0.151592\tvalid_0's gini: 0.284989\n",
      "폴드 3 지니계수: 0.2849885601271959\n",
      "\n",
      "######################################## 폴드 4 / 폴드 5 ########################################\n",
      "[LightGBM] [Info] Number of positive: 17355, number of negative: 458815\n",
      "[LightGBM] [Info] Total Bins 1555\n",
      "[LightGBM] [Info] Number of data points in the train set: 476170, number of used features: 216\n",
      "[LightGBM] [Info] [binary:BoostFromScore]: pavg=0.036447 -> initscore=-3.274766\n",
      "[LightGBM] [Info] Start training from score -3.274766\n",
      "Training until validation scores don't improve for 150 rounds\n",
      "[100]\tvalid_0's binary_logloss: 0.153435\tvalid_0's gini: 0.256627\n",
      "[200]\tvalid_0's binary_logloss: 0.152524\tvalid_0's gini: 0.266658\n",
      "[300]\tvalid_0's binary_logloss: 0.152191\tvalid_0's gini: 0.271067\n",
      "[400]\tvalid_0's binary_logloss: 0.152034\tvalid_0's gini: 0.27396\n",
      "[500]\tvalid_0's binary_logloss: 0.151942\tvalid_0's gini: 0.27619\n",
      "[600]\tvalid_0's binary_logloss: 0.151882\tvalid_0's gini: 0.277677\n",
      "[700]\tvalid_0's binary_logloss: 0.151851\tvalid_0's gini: 0.278579\n",
      "[800]\tvalid_0's binary_logloss: 0.151819\tvalid_0's gini: 0.279461\n",
      "[900]\tvalid_0's binary_logloss: 0.151808\tvalid_0's gini: 0.279975\n",
      "[1000]\tvalid_0's binary_logloss: 0.151798\tvalid_0's gini: 0.280149\n",
      "[1100]\tvalid_0's binary_logloss: 0.151797\tvalid_0's gini: 0.280201\n",
      "[1200]\tvalid_0's binary_logloss: 0.151797\tvalid_0's gini: 0.280353\n",
      "Early stopping, best iteration is:\n",
      "[1128]\tvalid_0's binary_logloss: 0.151791\tvalid_0's gini: 0.280389\n",
      "폴드 4 지니계수: 0.2803887114157609\n",
      "\n",
      "######################################## 폴드 5 / 폴드 5 ########################################\n",
      "[LightGBM] [Info] Number of positive: 17355, number of negative: 458815\n",
      "[LightGBM] [Info] Total Bins 1556\n",
      "[LightGBM] [Info] Number of data points in the train set: 476170, number of used features: 216\n",
      "[LightGBM] [Info] [binary:BoostFromScore]: pavg=0.036447 -> initscore=-3.274766\n",
      "[LightGBM] [Info] Start training from score -3.274766\n",
      "Training until validation scores don't improve for 150 rounds\n",
      "[100]\tvalid_0's binary_logloss: 0.153534\tvalid_0's gini: 0.265252\n",
      "[200]\tvalid_0's binary_logloss: 0.152629\tvalid_0's gini: 0.274421\n",
      "[300]\tvalid_0's binary_logloss: 0.152249\tvalid_0's gini: 0.280526\n",
      "[400]\tvalid_0's binary_logloss: 0.152031\tvalid_0's gini: 0.285706\n",
      "[500]\tvalid_0's binary_logloss: 0.151906\tvalid_0's gini: 0.289104\n",
      "[600]\tvalid_0's binary_logloss: 0.151817\tvalid_0's gini: 0.29166\n",
      "[700]\tvalid_0's binary_logloss: 0.151771\tvalid_0's gini: 0.292958\n",
      "[800]\tvalid_0's binary_logloss: 0.15174\tvalid_0's gini: 0.293975\n",
      "[900]\tvalid_0's binary_logloss: 0.151721\tvalid_0's gini: 0.294603\n",
      "[1000]\tvalid_0's binary_logloss: 0.151709\tvalid_0's gini: 0.295097\n",
      "[1100]\tvalid_0's binary_logloss: 0.151689\tvalid_0's gini: 0.295655\n",
      "[1200]\tvalid_0's binary_logloss: 0.151685\tvalid_0's gini: 0.295904\n",
      "[1300]\tvalid_0's binary_logloss: 0.151685\tvalid_0's gini: 0.295988\n",
      "[1400]\tvalid_0's binary_logloss: 0.151683\tvalid_0's gini: 0.296066\n",
      "Early stopping, best iteration is:\n",
      "[1321]\tvalid_0's binary_logloss: 0.151681\tvalid_0's gini: 0.296151\n",
      "폴드 5 지니계수: 0.2961510502799241\n",
      "\n"
     ]
    }
   ],
   "source": [
    "from sklearn.model_selection import StratifiedKFold\n",
    "\n",
    "# Stratified K 폴드 교차검증기 생성\n",
    "folds = StratifiedKFold(n_splits=5, shuffle=True, random_state=1991)\n",
    "\n",
    "# OOF 방식으로 훈련된 모델로 검증 데이터 타깃 값을 예측한 확률을 담을 1차원 배열\n",
    "oof_val_preds = np.zeros(X.shape[0]) \n",
    "# OOF 방식으로 훈련된 모델로 테스트 데이터 타깃 값을 예측한 확률을 담을 1차원 배열\n",
    "oof_test_preds = np.zeros(X_test.shape[0]) \n",
    "\n",
    "# OOF 방식으로 모델 훈련, 검증, 예측\n",
    "for idx, (train_idx, valid_idx) in enumerate(folds.split(X, y)):\n",
    "    # 각 폴드를 구분하는 문구\n",
    "    print('#'*40, f'폴드 {idx+1} / 폴드 {folds.n_splits}', '#'*40)\n",
    "    \n",
    "    # 훈련용 데이터, 검증용 데이터 설정\n",
    "    X_train, y_train = X[train_idx], y[train_idx] # 훈련용 데이터\n",
    "    X_valid, y_valid = X[valid_idx], y[valid_idx] # 검증용 데이터\n",
    "\n",
    "    # lgb 데이터세트 생성\n",
    "    dtrain = lgb.Dataset(X_train, y_train) # lgb 훈련 데이터세트\n",
    "    dvalid = lgb.Dataset(X_valid, y_valid) # lgb 검증 데이터세트\n",
    "                          \n",
    "    # LightGBM 모델 훈련\n",
    "    lgb_model = lgb.train(params=max_params, # 최적 하이퍼 파라미터\n",
    "                          train_set=dtrain, # 훈련 데이터\n",
    "                          num_boost_round=1500, # 부스팅 반복 횟수\n",
    "                          valid_sets=dvalid, # 모델 성능 평가용 검증 데이터\n",
    "                          feval=gini, # 검증용 평가지표\n",
    "                          early_stopping_rounds=150, # 조기종료 조건\n",
    "                          verbose_eval=100) # 100번째마다 점수 출력\n",
    "    \n",
    "    # 모델 성능이 가장 좋을 때의 부스팅 반복 횟수 저장\n",
    "    best_iter = lgb_model.best_iteration\n",
    "    # 테스트 데이터를 활용해 OOF 예측\n",
    "    oof_test_preds += lgb_model.predict(X_test, \n",
    "                                    num_iteration=best_iter)/folds.n_splits\n",
    "    \n",
    "    # 모델 성능 평가를 위한 검증 데이터 타깃 값 예측 \n",
    "    oof_val_preds[valid_idx] += lgb_model.predict(X_valid, \n",
    "                                                  num_iteration=best_iter)\n",
    "    \n",
    "    # 검증 데이터 예측확률에 대한 정규화 지니계수\n",
    "    gini_score = eval_gini(y_valid, oof_val_preds[valid_idx])\n",
    "    print(f'폴드 {idx+1} 지니계수: {gini_score}\\n')"
   ]
  },
  {
   "cell_type": "code",
   "execution_count": 24,
   "id": "refined-focus",
   "metadata": {
    "execution": {
     "iopub.execute_input": "2021-05-06T08:16:54.420303Z",
     "iopub.status.busy": "2021-05-06T08:16:54.419293Z",
     "iopub.status.idle": "2021-05-06T08:16:54.554229Z",
     "shell.execute_reply": "2021-05-06T08:16:54.554690Z"
    },
    "papermill": {
     "duration": 0.207654,
     "end_time": "2021-05-06T08:16:54.554892",
     "exception": false,
     "start_time": "2021-05-06T08:16:54.347238",
     "status": "completed"
    },
    "tags": []
   },
   "outputs": [
    {
     "name": "stdout",
     "output_type": "stream",
     "text": [
      "OOF 검증 데이터 지니계수: 0.2893420267793303\n"
     ]
    }
   ],
   "source": [
    "print('OOF 검증 데이터 지니계수:', eval_gini(y, oof_val_preds))"
   ]
  },
  {
   "cell_type": "markdown",
   "id": "geological-seller",
   "metadata": {
    "papermill": {
     "duration": 0.069115,
     "end_time": "2021-05-06T08:16:54.691809",
     "exception": false,
     "start_time": "2021-05-06T08:16:54.622694",
     "status": "completed"
    },
    "tags": []
   },
   "source": [
    "## 5.4.4 결과 제출"
   ]
  },
  {
   "cell_type": "code",
   "execution_count": 25,
   "id": "textile-repair",
   "metadata": {
    "execution": {
     "iopub.execute_input": "2021-05-06T08:16:54.836196Z",
     "iopub.status.busy": "2021-05-06T08:16:54.835183Z",
     "iopub.status.idle": "2021-05-06T08:16:58.604360Z",
     "shell.execute_reply": "2021-05-06T08:16:58.603472Z"
    },
    "papermill": {
     "duration": 3.843412,
     "end_time": "2021-05-06T08:16:58.604597",
     "exception": false,
     "start_time": "2021-05-06T08:16:54.761185",
     "status": "completed"
    },
    "tags": []
   },
   "outputs": [],
   "source": [
    "submission['target'] = oof_test_preds\n",
    "submission.to_csv('submission.csv')"
   ]
  }
 ],
 "metadata": {
  "kernelspec": {
   "display_name": "Python 3",
   "language": "python",
   "name": "python3"
  },
  "language_info": {
   "codemirror_mode": {
    "name": "ipython",
    "version": 3
   },
   "file_extension": ".py",
   "mimetype": "text/x-python",
   "name": "python",
   "nbconvert_exporter": "python",
   "pygments_lexer": "ipython3",
   "version": "3.7.10"
  },
  "papermill": {
   "default_parameters": {},
   "duration": 2714.784563,
   "end_time": "2021-05-06T08:16:59.989948",
   "environment_variables": {},
   "exception": null,
   "input_path": "__notebook__.ipynb",
   "output_path": "__notebook__.ipynb",
   "parameters": {},
   "start_time": "2021-05-06T07:31:45.205385",
   "version": "2.3.3"
  }
 },
 "nbformat": 4,
 "nbformat_minor": 5
}
