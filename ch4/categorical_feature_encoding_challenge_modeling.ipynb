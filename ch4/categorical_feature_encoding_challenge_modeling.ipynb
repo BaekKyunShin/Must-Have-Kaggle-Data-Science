{
 "cells": [
  {
   "cell_type": "markdown",
   "metadata": {
    "papermill": {
     "duration": 0.013294,
     "end_time": "2021-04-28T08:59:14.878755",
     "exception": false,
     "start_time": "2021-04-28T08:59:14.865461",
     "status": "completed"
    },
    "tags": []
   },
   "source": [
    "# 범주형 데이터 이진분류 경진대회 모델 성능 향상시키기"
   ]
  },
  {
   "cell_type": "markdown",
   "metadata": {
    "papermill": {
     "duration": 0.011687,
     "end_time": "2021-04-28T08:59:14.902689",
     "exception": false,
     "start_time": "2021-04-28T08:59:14.891002",
     "status": "completed"
    },
    "tags": []
   },
   "source": [
    "- [범주형 데이터 이진분류 경진대회 링크](https://www.kaggle.com/c/cat-in-the-dat/)\n",
    "- [모델링 노트북 참고 링크](https://www.kaggle.com/dkomyagin/cat-in-the-dat-0-80285-private-lb-solution)"
   ]
  },
  {
   "cell_type": "code",
   "execution_count": 1,
   "metadata": {
    "execution": {
     "iopub.execute_input": "2021-04-28T08:59:14.935589Z",
     "iopub.status.busy": "2021-04-28T08:59:14.934983Z",
     "iopub.status.idle": "2021-04-28T08:59:18.344017Z",
     "shell.execute_reply": "2021-04-28T08:59:18.343299Z"
    },
    "papermill": {
     "duration": 3.429467,
     "end_time": "2021-04-28T08:59:18.344137",
     "exception": false,
     "start_time": "2021-04-28T08:59:14.914670",
     "status": "completed"
    },
    "tags": []
   },
   "outputs": [],
   "source": [
    "import pandas as pd\n",
    "\n",
    "# 데이터 경로\n",
    "data_path = '/kaggle/input/cat-in-the-dat/'\n",
    "\n",
    "train = pd.read_csv(data_path + 'train.csv', index_col='id')\n",
    "test = pd.read_csv(data_path + 'test.csv', index_col='id')\n",
    "submission = pd.read_csv(data_path + 'sample_submission.csv', index_col='id')"
   ]
  },
  {
   "cell_type": "code",
   "execution_count": 2,
   "metadata": {
    "execution": {
     "iopub.execute_input": "2021-04-28T08:59:18.375012Z",
     "iopub.status.busy": "2021-04-28T08:59:18.374370Z",
     "iopub.status.idle": "2021-04-28T08:59:18.940479Z",
     "shell.execute_reply": "2021-04-28T08:59:18.940941Z"
    },
    "papermill": {
     "duration": 0.583957,
     "end_time": "2021-04-28T08:59:18.941098",
     "exception": false,
     "start_time": "2021-04-28T08:59:18.357141",
     "status": "completed"
    },
    "tags": []
   },
   "outputs": [],
   "source": [
    "# 훈련 데이터와 테스트 데이터 합치기\n",
    "all_data = pd.concat([train, test])\n",
    "all_data = all_data.drop('target', axis=1) # 타깃 값 제거"
   ]
  },
  {
   "cell_type": "markdown",
   "metadata": {
    "papermill": {
     "duration": 0.012098,
     "end_time": "2021-04-28T08:59:18.965610",
     "exception": false,
     "start_time": "2021-04-28T08:59:18.953512",
     "status": "completed"
    },
    "tags": []
   },
   "source": [
    "## 피처 특성에 맞는 인코딩 적용"
   ]
  },
  {
   "cell_type": "markdown",
   "metadata": {
    "papermill": {
     "duration": 0.012185,
     "end_time": "2021-04-28T08:59:18.990338",
     "exception": false,
     "start_time": "2021-04-28T08:59:18.978153",
     "status": "completed"
    },
    "tags": []
   },
   "source": [
    "### 이진 피처 인코딩"
   ]
  },
  {
   "cell_type": "code",
   "execution_count": 3,
   "metadata": {
    "execution": {
     "iopub.execute_input": "2021-04-28T08:59:19.018455Z",
     "iopub.status.busy": "2021-04-28T08:59:19.017792Z",
     "iopub.status.idle": "2021-04-28T08:59:19.195809Z",
     "shell.execute_reply": "2021-04-28T08:59:19.196328Z"
    },
    "papermill": {
     "duration": 0.193322,
     "end_time": "2021-04-28T08:59:19.196487",
     "exception": false,
     "start_time": "2021-04-28T08:59:19.003165",
     "status": "completed"
    },
    "tags": []
   },
   "outputs": [],
   "source": [
    "all_data = all_data.drop('bin_0', axis=1)\n",
    "all_data = all_data.drop('bin_3', axis=1)"
   ]
  },
  {
   "cell_type": "code",
   "execution_count": 4,
   "metadata": {
    "execution": {
     "iopub.execute_input": "2021-04-28T08:59:19.224444Z",
     "iopub.status.busy": "2021-04-28T08:59:19.223809Z",
     "iopub.status.idle": "2021-04-28T08:59:19.357216Z",
     "shell.execute_reply": "2021-04-28T08:59:19.357711Z"
    },
    "papermill": {
     "duration": 0.148855,
     "end_time": "2021-04-28T08:59:19.357853",
     "exception": false,
     "start_time": "2021-04-28T08:59:19.208998",
     "status": "completed"
    },
    "tags": []
   },
   "outputs": [],
   "source": [
    "# all_data['bin_3'] = all_data['bin_3'].map({'F':0, 'T':1})\n",
    "all_data['bin_4'] = all_data['bin_4'].map({'N':0, 'Y':1})"
   ]
  },
  {
   "cell_type": "markdown",
   "metadata": {
    "papermill": {
     "duration": 0.012021,
     "end_time": "2021-04-28T08:59:19.382320",
     "exception": false,
     "start_time": "2021-04-28T08:59:19.370299",
     "status": "completed"
    },
    "tags": []
   },
   "source": [
    "### 순서형 피처 인코딩"
   ]
  },
  {
   "cell_type": "code",
   "execution_count": 5,
   "metadata": {
    "execution": {
     "iopub.execute_input": "2021-04-28T08:59:19.410192Z",
     "iopub.status.busy": "2021-04-28T08:59:19.409610Z",
     "iopub.status.idle": "2021-04-28T08:59:19.679977Z",
     "shell.execute_reply": "2021-04-28T08:59:19.680445Z"
    },
    "papermill": {
     "duration": 0.285854,
     "end_time": "2021-04-28T08:59:19.680603",
     "exception": false,
     "start_time": "2021-04-28T08:59:19.394749",
     "status": "completed"
    },
    "tags": []
   },
   "outputs": [],
   "source": [
    "ord1dict = {'Novice':0, 'Contributor':1, \n",
    "            'Expert':2, 'Master':3, 'Grandmaster':4}\n",
    "ord2dict = {'Freezing':0, 'Cold':1, 'Warm':2, \n",
    "            'Hot':3, 'Boiling Hot':4, 'Lava Hot':5}\n",
    "\n",
    "all_data['ord_1'] = all_data['ord_1'].map(ord1dict)\n",
    "all_data['ord_2'] = all_data['ord_2'].map(ord2dict)"
   ]
  },
  {
   "cell_type": "code",
   "execution_count": 6,
   "metadata": {
    "execution": {
     "iopub.execute_input": "2021-04-28T08:59:19.709468Z",
     "iopub.status.busy": "2021-04-28T08:59:19.708771Z",
     "iopub.status.idle": "2021-04-28T08:59:21.441039Z",
     "shell.execute_reply": "2021-04-28T08:59:21.441794Z"
    },
    "papermill": {
     "duration": 1.748656,
     "end_time": "2021-04-28T08:59:21.442010",
     "exception": false,
     "start_time": "2021-04-28T08:59:19.693354",
     "status": "completed"
    },
    "tags": []
   },
   "outputs": [
    {
     "name": "stdout",
     "output_type": "stream",
     "text": [
      "ord_3\n",
      "['a' 'b' 'c' 'd' 'e' 'f' 'g' 'h' 'i' 'j' 'k' 'l' 'm' 'n' 'o']\n",
      "ord_4\n",
      "['A' 'B' 'C' 'D' 'E' 'F' 'G' 'H' 'I' 'J' 'K' 'L' 'M' 'N' 'O' 'P' 'Q' 'R'\n",
      " 'S' 'T' 'U' 'V' 'W' 'X' 'Y' 'Z']\n",
      "ord_5\n",
      "['AP' 'Ai' 'Aj' 'BA' 'BE' 'Bb' 'Bd' 'Bn' 'CL' 'CM' 'CU' 'CZ' 'Cl' 'DH'\n",
      " 'DN' 'Dc' 'Dx' 'Ed' 'Eg' 'Er' 'FI' 'Fd' 'Fo' 'GD' 'GJ' 'Gb' 'Gx' 'Hj'\n",
      " 'IK' 'Id' 'JX' 'Jc' 'Jf' 'Jt' 'KR' 'KZ' 'Kf' 'Kq' 'LE' 'MC' 'MO' 'MV'\n",
      " 'Mf' 'Ml' 'Mx' 'NV' 'Nf' 'Nk' 'OR' 'Ob' 'Os' 'PA' 'PQ' 'PZ' 'Ps' 'QM'\n",
      " 'Qb' 'Qh' 'Qo' 'RG' 'RL' 'RP' 'Rm' 'Ry' 'SB' 'Sc' 'TR' 'TZ' 'To' 'UO'\n",
      " 'Uk' 'Uu' 'Vf' 'Vx' 'WE' 'Wc' 'Wv' 'XI' 'Xh' 'Xi' 'YC' 'Yb' 'Ye' 'ZR'\n",
      " 'ZS' 'Zc' 'Zq' 'aF' 'aM' 'aO' 'aP' 'ac' 'av' 'bF' 'bJ' 'be' 'cA' 'cG'\n",
      " 'cW' 'ck' 'cp' 'dB' 'dE' 'dN' 'dO' 'dP' 'dQ' 'dZ' 'dh' 'eG' 'eQ' 'eb'\n",
      " 'eg' 'ek' 'ex' 'fO' 'fh' 'gJ' 'gM' 'hL' 'hT' 'hh' 'hp' 'iT' 'ih' 'jS'\n",
      " 'jV' 'je' 'jp' 'kC' 'kE' 'kK' 'kL' 'kU' 'kW' 'ke' 'kr' 'kw' 'lF' 'lL'\n",
      " 'll' 'lx' 'mb' 'mc' 'mm' 'nX' 'nh' 'oC' 'oG' 'oH' 'oK' 'od' 'on' 'pa'\n",
      " 'ps' 'qA' 'qJ' 'qK' 'qP' 'qX' 'qo' 'qv' 'qw' 'rZ' 'ri' 'rp' 'sD' 'sV'\n",
      " 'sY' 'sn' 'su' 'tM' 'tP' 'tv' 'uJ' 'uS' 'ud' 'us' 'ut' 'ux' 'uy' 'vK'\n",
      " 'vq' 'vy' 'wu' 'wy' 'xP' 'xy' 'yN' 'yY' 'yc' 'zU']\n"
     ]
    }
   ],
   "source": [
    "from sklearn.preprocessing import OrdinalEncoder\n",
    "\n",
    "ord_345 = ['ord_3', 'ord_4', 'ord_5']\n",
    "\n",
    "ord_encoder = OrdinalEncoder() # OrdinalEncoder 객체 생성\n",
    "# ordinal 인코딩 적용\n",
    "all_data[ord_345] = ord_encoder.fit_transform(all_data[ord_345])\n",
    "\n",
    "# 피처별 인코딩 순서 출력\n",
    "for feature, categories in zip(ord_345, ord_encoder.categories_):\n",
    "    print(feature)\n",
    "    print(categories)"
   ]
  },
  {
   "cell_type": "markdown",
   "metadata": {
    "papermill": {
     "duration": 0.012912,
     "end_time": "2021-04-28T08:59:21.470675",
     "exception": false,
     "start_time": "2021-04-28T08:59:21.457763",
     "status": "completed"
    },
    "tags": []
   },
   "source": [
    "### 명목형 피처 인코딩"
   ]
  },
  {
   "cell_type": "code",
   "execution_count": 7,
   "metadata": {
    "execution": {
     "iopub.execute_input": "2021-04-28T08:59:21.502641Z",
     "iopub.status.busy": "2021-04-28T08:59:21.502054Z",
     "iopub.status.idle": "2021-04-28T08:59:21.505640Z",
     "shell.execute_reply": "2021-04-28T08:59:21.505069Z"
    },
    "papermill": {
     "duration": 0.02199,
     "end_time": "2021-04-28T08:59:21.505754",
     "exception": false,
     "start_time": "2021-04-28T08:59:21.483764",
     "status": "completed"
    },
    "tags": []
   },
   "outputs": [],
   "source": [
    "nom_features = ['nom_' + str(i) for i in range(10)] # 명목형 피처"
   ]
  },
  {
   "cell_type": "code",
   "execution_count": 8,
   "metadata": {
    "execution": {
     "iopub.execute_input": "2021-04-28T08:59:21.536280Z",
     "iopub.status.busy": "2021-04-28T08:59:21.535297Z",
     "iopub.status.idle": "2021-04-28T08:59:23.089345Z",
     "shell.execute_reply": "2021-04-28T08:59:23.089830Z"
    },
    "papermill": {
     "duration": 1.570775,
     "end_time": "2021-04-28T08:59:23.089965",
     "exception": false,
     "start_time": "2021-04-28T08:59:21.519190",
     "status": "completed"
    },
    "tags": []
   },
   "outputs": [
    {
     "data": {
      "text/plain": [
       "<500000x16276 sparse matrix of type '<class 'numpy.float64'>'\n",
       "\twith 5000000 stored elements in Compressed Sparse Row format>"
      ]
     },
     "execution_count": 8,
     "metadata": {},
     "output_type": "execute_result"
    }
   ],
   "source": [
    "from sklearn.preprocessing import OneHotEncoder\n",
    "\n",
    "nom_onehot_encoder = OneHotEncoder() # OneHotEncoder 객체 생성\n",
    "# 원-핫 인코딩 적용\n",
    "encoded_nom_matrix = nom_onehot_encoder.fit_transform(all_data[nom_features])\n",
    "\n",
    "all_data = all_data.drop(nom_features, axis=1) # 기존 명목형 피처 삭제\n",
    "\n",
    "encoded_nom_matrix"
   ]
  },
  {
   "cell_type": "markdown",
   "metadata": {
    "papermill": {
     "duration": 0.013599,
     "end_time": "2021-04-28T08:59:23.117166",
     "exception": false,
     "start_time": "2021-04-28T08:59:23.103567",
     "status": "completed"
    },
    "tags": []
   },
   "source": [
    "### 날짜 피처 인코딩"
   ]
  },
  {
   "cell_type": "code",
   "execution_count": 9,
   "metadata": {
    "execution": {
     "iopub.execute_input": "2021-04-28T08:59:23.150090Z",
     "iopub.status.busy": "2021-04-28T08:59:23.149111Z",
     "iopub.status.idle": "2021-04-28T08:59:23.289045Z",
     "shell.execute_reply": "2021-04-28T08:59:23.288586Z"
    },
    "papermill": {
     "duration": 0.156921,
     "end_time": "2021-04-28T08:59:23.289155",
     "exception": false,
     "start_time": "2021-04-28T08:59:23.132234",
     "status": "completed"
    },
    "tags": []
   },
   "outputs": [
    {
     "data": {
      "text/plain": [
       "<500000x19 sparse matrix of type '<class 'numpy.float64'>'\n",
       "\twith 1000000 stored elements in Compressed Sparse Row format>"
      ]
     },
     "execution_count": 9,
     "metadata": {},
     "output_type": "execute_result"
    }
   ],
   "source": [
    "date_features  = ['day', 'month'] # 날짜 피처\n",
    "\n",
    "date_onehot_encoder = OneHotEncoder() # OneHotEncoder 객체 생성\n",
    "# 원-핫 인코딩 적용\n",
    "encoded_date_matrix = date_onehot_encoder.fit_transform(all_data[date_features])\n",
    "\n",
    "all_data = all_data.drop(date_features, axis=1) # 기존 날짜 피처 삭제\n",
    "\n",
    "encoded_date_matrix"
   ]
  },
  {
   "cell_type": "markdown",
   "metadata": {
    "papermill": {
     "duration": 0.014,
     "end_time": "2021-04-28T08:59:23.316943",
     "exception": false,
     "start_time": "2021-04-28T08:59:23.302943",
     "status": "completed"
    },
    "tags": []
   },
   "source": [
    "## 피처 스케일링"
   ]
  },
  {
   "cell_type": "markdown",
   "metadata": {
    "papermill": {
     "duration": 0.014053,
     "end_time": "2021-04-28T08:59:23.345043",
     "exception": false,
     "start_time": "2021-04-28T08:59:23.330990",
     "status": "completed"
    },
    "tags": []
   },
   "source": [
    "### 순서형 피처에 스케일링 적용"
   ]
  },
  {
   "cell_type": "code",
   "execution_count": 10,
   "metadata": {
    "execution": {
     "iopub.execute_input": "2021-04-28T08:59:23.387370Z",
     "iopub.status.busy": "2021-04-28T08:59:23.386733Z",
     "iopub.status.idle": "2021-04-28T08:59:23.864490Z",
     "shell.execute_reply": "2021-04-28T08:59:23.864916Z"
    },
    "papermill": {
     "duration": 0.505543,
     "end_time": "2021-04-28T08:59:23.865061",
     "exception": false,
     "start_time": "2021-04-28T08:59:23.359518",
     "status": "completed"
    },
    "tags": []
   },
   "outputs": [],
   "source": [
    "from sklearn.preprocessing import MinMaxScaler\n",
    "\n",
    "ord_features = ['ord_' + str(i) for i in range(6)] # 순서형 피처\n",
    "# min-max 정규화\n",
    "all_data[ord_features] = MinMaxScaler().fit_transform(all_data[ord_features])"
   ]
  },
  {
   "cell_type": "markdown",
   "metadata": {
    "papermill": {
     "duration": 0.013619,
     "end_time": "2021-04-28T08:59:23.892926",
     "exception": false,
     "start_time": "2021-04-28T08:59:23.879307",
     "status": "completed"
    },
    "tags": []
   },
   "source": [
    "### 인코딩, 피처 스케일링된 데이터 합치기"
   ]
  },
  {
   "cell_type": "code",
   "execution_count": 11,
   "metadata": {
    "execution": {
     "iopub.execute_input": "2021-04-28T08:59:23.924984Z",
     "iopub.status.busy": "2021-04-28T08:59:23.923999Z",
     "iopub.status.idle": "2021-04-28T08:59:24.423190Z",
     "shell.execute_reply": "2021-04-28T08:59:24.422555Z"
    },
    "papermill": {
     "duration": 0.516391,
     "end_time": "2021-04-28T08:59:24.423303",
     "exception": false,
     "start_time": "2021-04-28T08:59:23.906912",
     "status": "completed"
    },
    "tags": []
   },
   "outputs": [],
   "source": [
    "from scipy import sparse\n",
    "\n",
    "# 인코딩, 피처 스케일링된 데이터 합치기\n",
    "all_data_sprs = sparse.hstack([sparse.csr_matrix(all_data),\n",
    "                               encoded_nom_matrix,\n",
    "                               encoded_date_matrix],\n",
    "                              format='csr')"
   ]
  },
  {
   "cell_type": "code",
   "execution_count": 12,
   "metadata": {
    "execution": {
     "iopub.execute_input": "2021-04-28T08:59:24.456986Z",
     "iopub.status.busy": "2021-04-28T08:59:24.456342Z",
     "iopub.status.idle": "2021-04-28T08:59:24.460264Z",
     "shell.execute_reply": "2021-04-28T08:59:24.460714Z"
    },
    "papermill": {
     "duration": 0.023219,
     "end_time": "2021-04-28T08:59:24.460863",
     "exception": false,
     "start_time": "2021-04-28T08:59:24.437644",
     "status": "completed"
    },
    "tags": []
   },
   "outputs": [
    {
     "data": {
      "text/plain": [
       "<500000x16304 sparse matrix of type '<class 'numpy.float64'>'\n",
       "\twith 8844139 stored elements in Compressed Sparse Row format>"
      ]
     },
     "execution_count": 12,
     "metadata": {},
     "output_type": "execute_result"
    }
   ],
   "source": [
    "all_data_sprs"
   ]
  },
  {
   "cell_type": "markdown",
   "metadata": {
    "papermill": {
     "duration": 0.014112,
     "end_time": "2021-04-28T08:59:24.489524",
     "exception": false,
     "start_time": "2021-04-28T08:59:24.475412",
     "status": "completed"
    },
    "tags": []
   },
   "source": [
    "## 하이퍼 파라미터 최적화 및 모델 훈련/제출"
   ]
  },
  {
   "cell_type": "markdown",
   "metadata": {
    "papermill": {
     "duration": 0.014218,
     "end_time": "2021-04-28T08:59:24.518733",
     "exception": false,
     "start_time": "2021-04-28T08:59:24.504515",
     "status": "completed"
    },
    "tags": []
   },
   "source": [
    "### 훈련 데이터와 테스트 데이터 나누기"
   ]
  },
  {
   "cell_type": "code",
   "execution_count": 13,
   "metadata": {
    "execution": {
     "iopub.execute_input": "2021-04-28T08:59:24.552878Z",
     "iopub.status.busy": "2021-04-28T08:59:24.552232Z",
     "iopub.status.idle": "2021-04-28T08:59:24.654624Z",
     "shell.execute_reply": "2021-04-28T08:59:24.654075Z"
    },
    "papermill": {
     "duration": 0.121535,
     "end_time": "2021-04-28T08:59:24.654734",
     "exception": false,
     "start_time": "2021-04-28T08:59:24.533199",
     "status": "completed"
    },
    "tags": []
   },
   "outputs": [],
   "source": [
    "num_train = train.shape[0] # 훈련 데이터 개수\n",
    "\n",
    "# 훈련 데이터와 테스트 데이터 나누기\n",
    "X_train = all_data_sprs[:num_train]\n",
    "X_test = all_data_sprs[num_train:]\n",
    "\n",
    "y_train = train['target']"
   ]
  },
  {
   "cell_type": "markdown",
   "metadata": {
    "papermill": {
     "duration": 0.014309,
     "end_time": "2021-04-28T08:59:24.683848",
     "exception": false,
     "start_time": "2021-04-28T08:59:24.669539",
     "status": "completed"
    },
    "tags": []
   },
   "source": [
    "### 하이퍼 파라미터 최적화"
   ]
  },
  {
   "cell_type": "code",
   "execution_count": 14,
   "metadata": {
    "execution": {
     "iopub.execute_input": "2021-04-28T08:59:24.719460Z",
     "iopub.status.busy": "2021-04-28T08:59:24.718704Z",
     "iopub.status.idle": "2021-04-28T09:04:34.307557Z",
     "shell.execute_reply": "2021-04-28T09:04:34.308022Z"
    },
    "papermill": {
     "duration": 309.609617,
     "end_time": "2021-04-28T09:04:34.308159",
     "exception": false,
     "start_time": "2021-04-28T08:59:24.698542",
     "status": "completed"
    },
    "tags": []
   },
   "outputs": [
    {
     "name": "stdout",
     "output_type": "stream",
     "text": [
      "최적 하이퍼 파라미터: {'C': 0.125, 'max_iter': 800, 'random_state': 42, 'solver': 'liblinear'}\n",
      "CPU times: user 9min 59s, sys: 18.2 s, total: 10min 18s\n",
      "Wall time: 5min 9s\n"
     ]
    }
   ],
   "source": [
    "%%time\n",
    "\n",
    "from sklearn.model_selection import GridSearchCV\n",
    "from sklearn.linear_model import LogisticRegression\n",
    "\n",
    "# 로지스틱 회귀 모델 생성\n",
    "logistic_model = LogisticRegression()\n",
    "\n",
    "# 하이퍼 파라미터 값 목록\n",
    "lr_params = {'C':[0.1, 0.125, 0.2], 'max_iter':[800, 900, 1000], \n",
    "             'solver':['liblinear'], 'random_state':[42]}\n",
    "\n",
    "# 그리드서치 객체 생성\n",
    "gridsearch_logistic_model = GridSearchCV(estimator=logistic_model,\n",
    "                                         param_grid=lr_params,\n",
    "                                         scoring='roc_auc',\n",
    "                                         cv=5)\n",
    "# 그리드서치 수행\n",
    "gridsearch_logistic_model.fit(X_train, y_train)\n",
    "\n",
    "print('최적 하이퍼 파라미터:', gridsearch_logistic_model.best_params_)"
   ]
  },
  {
   "cell_type": "markdown",
   "metadata": {
    "papermill": {
     "duration": 0.014579,
     "end_time": "2021-04-28T09:04:34.337762",
     "exception": false,
     "start_time": "2021-04-28T09:04:34.323183",
     "status": "completed"
    },
    "tags": []
   },
   "source": [
    "### 예측 및 제출"
   ]
  },
  {
   "cell_type": "code",
   "execution_count": 15,
   "metadata": {
    "execution": {
     "iopub.execute_input": "2021-04-28T09:04:34.374019Z",
     "iopub.status.busy": "2021-04-28T09:04:34.372934Z",
     "iopub.status.idle": "2021-04-28T09:04:35.222206Z",
     "shell.execute_reply": "2021-04-28T09:04:35.221658Z"
    },
    "papermill": {
     "duration": 0.869515,
     "end_time": "2021-04-28T09:04:35.222317",
     "exception": false,
     "start_time": "2021-04-28T09:04:34.352802",
     "status": "completed"
    },
    "tags": []
   },
   "outputs": [],
   "source": [
    "# 타깃 값 1일 확률 예측\n",
    "y_preds = gridsearch_logistic_model.best_estimator_.predict_proba(X_test)[:,1]\n",
    "\n",
    "# 제출 파일 생성\n",
    "submission['target'] = y_preds\n",
    "submission.to_csv('submission.csv')"
   ]
  }
 ],
 "metadata": {
  "kernelspec": {
   "display_name": "Python 3",
   "language": "python",
   "name": "python3"
  },
  "language_info": {
   "codemirror_mode": {
    "name": "ipython",
    "version": 3
   },
   "file_extension": ".py",
   "mimetype": "text/x-python",
   "name": "python",
   "nbconvert_exporter": "python",
   "pygments_lexer": "ipython3",
   "version": "3.7.6"
  },
  "papermill": {
   "duration": 324.668152,
   "end_time": "2021-04-28T09:04:35.344641",
   "environment_variables": {},
   "exception": null,
   "input_path": "__notebook__.ipynb",
   "output_path": "__notebook__.ipynb",
   "parameters": {},
   "start_time": "2021-04-28T08:59:10.676489",
   "version": "2.1.0"
  }
 },
 "nbformat": 4,
 "nbformat_minor": 4
}
