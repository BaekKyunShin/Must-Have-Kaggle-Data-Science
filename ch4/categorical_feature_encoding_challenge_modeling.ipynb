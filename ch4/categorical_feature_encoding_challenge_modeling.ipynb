{
 "cells": [
  {
   "cell_type": "markdown",
   "metadata": {
    "papermill": {
     "duration": 0.017285,
     "end_time": "2021-01-28T14:13:06.491769",
     "exception": false,
     "start_time": "2021-01-28T14:13:06.474484",
     "status": "completed"
    },
    "tags": []
   },
   "source": [
    "# 범주형 데이터 이진분류 경진대회 모델 성능 향상시키기"
   ]
  },
  {
   "cell_type": "markdown",
   "metadata": {
    "papermill": {
     "duration": 0.016223,
     "end_time": "2021-01-28T14:13:06.524440",
     "exception": false,
     "start_time": "2021-01-28T14:13:06.508217",
     "status": "completed"
    },
    "tags": []
   },
   "source": [
    "- [범주형 데이터 이진분류 경진대회 링크](https://www.kaggle.com/c/cat-in-the-dat/)\n",
    "- [모델링 노트북 참고 링크](https://www.kaggle.com/dkomyagin/cat-in-the-dat-0-80285-private-lb-solution)"
   ]
  },
  {
   "cell_type": "code",
   "execution_count": 1,
   "metadata": {
    "execution": {
     "iopub.execute_input": "2021-01-28T14:13:06.565779Z",
     "iopub.status.busy": "2021-01-28T14:13:06.565033Z",
     "iopub.status.idle": "2021-01-28T14:13:09.312873Z",
     "shell.execute_reply": "2021-01-28T14:13:09.312188Z"
    },
    "papermill": {
     "duration": 2.772321,
     "end_time": "2021-01-28T14:13:09.313020",
     "exception": false,
     "start_time": "2021-01-28T14:13:06.540699",
     "status": "completed"
    },
    "tags": []
   },
   "outputs": [],
   "source": [
    "import pandas as pd\n",
    "\n",
    "train = pd.read_csv('/kaggle/input/cat-in-the-dat/train.csv', index_col='id')\n",
    "test = pd.read_csv('/kaggle/input/cat-in-the-dat/test.csv', index_col='id')\n",
    "submission = pd.read_csv('/kaggle/input/cat-in-the-dat/sample_submission.csv', index_col='id')"
   ]
  },
  {
   "cell_type": "code",
   "execution_count": 2,
   "metadata": {
    "execution": {
     "iopub.execute_input": "2021-01-28T14:13:09.356649Z",
     "iopub.status.busy": "2021-01-28T14:13:09.355895Z",
     "iopub.status.idle": "2021-01-28T14:13:09.918840Z",
     "shell.execute_reply": "2021-01-28T14:13:09.919398Z"
    },
    "papermill": {
     "duration": 0.589714,
     "end_time": "2021-01-28T14:13:09.919563",
     "exception": false,
     "start_time": "2021-01-28T14:13:09.329849",
     "status": "completed"
    },
    "tags": []
   },
   "outputs": [],
   "source": [
    "# 훈련 데이터와 테스트 데이터 합치기\n",
    "all_data = pd.concat([train, test], ignore_index=True)\n",
    "all_data = all_data.drop('target', axis=1) # 타깃 값 제거"
   ]
  },
  {
   "cell_type": "markdown",
   "metadata": {
    "papermill": {
     "duration": 0.016522,
     "end_time": "2021-01-28T14:13:09.952285",
     "exception": false,
     "start_time": "2021-01-28T14:13:09.935763",
     "status": "completed"
    },
    "tags": []
   },
   "source": [
    "## 피처 특성에 맞는 인코딩 적용"
   ]
  },
  {
   "cell_type": "markdown",
   "metadata": {
    "papermill": {
     "duration": 0.015829,
     "end_time": "2021-01-28T14:13:09.984443",
     "exception": false,
     "start_time": "2021-01-28T14:13:09.968614",
     "status": "completed"
    },
    "tags": []
   },
   "source": [
    "### 이진 피처 인코딩"
   ]
  },
  {
   "cell_type": "code",
   "execution_count": 3,
   "metadata": {
    "execution": {
     "iopub.execute_input": "2021-01-28T14:13:10.020435Z",
     "iopub.status.busy": "2021-01-28T14:13:10.019718Z",
     "iopub.status.idle": "2021-01-28T14:13:10.333646Z",
     "shell.execute_reply": "2021-01-28T14:13:10.334151Z"
    },
    "papermill": {
     "duration": 0.333659,
     "end_time": "2021-01-28T14:13:10.334338",
     "exception": false,
     "start_time": "2021-01-28T14:13:10.000679",
     "status": "completed"
    },
    "tags": []
   },
   "outputs": [],
   "source": [
    "all_data['bin_3'] = all_data['bin_3'].map({'F':0, 'T':1})\n",
    "all_data['bin_4'] = all_data['bin_4'].map({'N':0, 'Y':1})"
   ]
  },
  {
   "cell_type": "markdown",
   "metadata": {
    "papermill": {
     "duration": 0.016111,
     "end_time": "2021-01-28T14:13:10.366827",
     "exception": false,
     "start_time": "2021-01-28T14:13:10.350716",
     "status": "completed"
    },
    "tags": []
   },
   "source": [
    "### 순서형 피처 인코딩"
   ]
  },
  {
   "cell_type": "code",
   "execution_count": 4,
   "metadata": {
    "execution": {
     "iopub.execute_input": "2021-01-28T14:13:10.403087Z",
     "iopub.status.busy": "2021-01-28T14:13:10.402418Z",
     "iopub.status.idle": "2021-01-28T14:13:10.701755Z",
     "shell.execute_reply": "2021-01-28T14:13:10.701019Z"
    },
    "papermill": {
     "duration": 0.318767,
     "end_time": "2021-01-28T14:13:10.701872",
     "exception": false,
     "start_time": "2021-01-28T14:13:10.383105",
     "status": "completed"
    },
    "tags": []
   },
   "outputs": [],
   "source": [
    "ord1dict = {'Novice':0, 'Contributor':1, \n",
    "            'Expert':2, 'Master':3, 'Grandmaster':4}\n",
    "ord2dict = {'Freezing':0, 'Cold':1, 'Warm':2, \n",
    "            'Hot':3, 'Boiling Hot':4, 'Lava Hot':5}\n",
    "\n",
    "all_data['ord_1'] = all_data['ord_1'].map(ord1dict)\n",
    "all_data['ord_2'] = all_data['ord_2'].map(ord2dict)"
   ]
  },
  {
   "cell_type": "code",
   "execution_count": 5,
   "metadata": {
    "execution": {
     "iopub.execute_input": "2021-01-28T14:13:10.743626Z",
     "iopub.status.busy": "2021-01-28T14:13:10.742920Z",
     "iopub.status.idle": "2021-01-28T14:13:13.167929Z",
     "shell.execute_reply": "2021-01-28T14:13:13.168502Z"
    },
    "papermill": {
     "duration": 2.449827,
     "end_time": "2021-01-28T14:13:13.168651",
     "exception": false,
     "start_time": "2021-01-28T14:13:10.718824",
     "status": "completed"
    },
    "tags": []
   },
   "outputs": [
    {
     "name": "stdout",
     "output_type": "stream",
     "text": [
      "ord_3\n",
      "['a' 'b' 'c' 'd' 'e' 'f' 'g' 'h' 'i' 'j' 'k' 'l' 'm' 'n' 'o']\n",
      "ord_4\n",
      "['A' 'B' 'C' 'D' 'E' 'F' 'G' 'H' 'I' 'J' 'K' 'L' 'M' 'N' 'O' 'P' 'Q' 'R'\n",
      " 'S' 'T' 'U' 'V' 'W' 'X' 'Y' 'Z']\n",
      "ord_5\n",
      "['AP' 'Ai' 'Aj' 'BA' 'BE' 'Bb' 'Bd' 'Bn' 'CL' 'CM' 'CU' 'CZ' 'Cl' 'DH'\n",
      " 'DN' 'Dc' 'Dx' 'Ed' 'Eg' 'Er' 'FI' 'Fd' 'Fo' 'GD' 'GJ' 'Gb' 'Gx' 'Hj'\n",
      " 'IK' 'Id' 'JX' 'Jc' 'Jf' 'Jt' 'KR' 'KZ' 'Kf' 'Kq' 'LE' 'MC' 'MO' 'MV'\n",
      " 'Mf' 'Ml' 'Mx' 'NV' 'Nf' 'Nk' 'OR' 'Ob' 'Os' 'PA' 'PQ' 'PZ' 'Ps' 'QM'\n",
      " 'Qb' 'Qh' 'Qo' 'RG' 'RL' 'RP' 'Rm' 'Ry' 'SB' 'Sc' 'TR' 'TZ' 'To' 'UO'\n",
      " 'Uk' 'Uu' 'Vf' 'Vx' 'WE' 'Wc' 'Wv' 'XI' 'Xh' 'Xi' 'YC' 'Yb' 'Ye' 'ZR'\n",
      " 'ZS' 'Zc' 'Zq' 'aF' 'aM' 'aO' 'aP' 'ac' 'av' 'bF' 'bJ' 'be' 'cA' 'cG'\n",
      " 'cW' 'ck' 'cp' 'dB' 'dE' 'dN' 'dO' 'dP' 'dQ' 'dZ' 'dh' 'eG' 'eQ' 'eb'\n",
      " 'eg' 'ek' 'ex' 'fO' 'fh' 'gJ' 'gM' 'hL' 'hT' 'hh' 'hp' 'iT' 'ih' 'jS'\n",
      " 'jV' 'je' 'jp' 'kC' 'kE' 'kK' 'kL' 'kU' 'kW' 'ke' 'kr' 'kw' 'lF' 'lL'\n",
      " 'll' 'lx' 'mb' 'mc' 'mm' 'nX' 'nh' 'oC' 'oG' 'oH' 'oK' 'od' 'on' 'pa'\n",
      " 'ps' 'qA' 'qJ' 'qK' 'qP' 'qX' 'qo' 'qv' 'qw' 'rZ' 'ri' 'rp' 'sD' 'sV'\n",
      " 'sY' 'sn' 'su' 'tM' 'tP' 'tv' 'uJ' 'uS' 'ud' 'us' 'ut' 'ux' 'uy' 'vK'\n",
      " 'vq' 'vy' 'wu' 'wy' 'xP' 'xy' 'yN' 'yY' 'yc' 'zU']\n"
     ]
    }
   ],
   "source": [
    "from sklearn.preprocessing import OrdinalEncoder\n",
    "\n",
    "ord_345 = ['ord_3', 'ord_4', 'ord_5']\n",
    "\n",
    "ord_encoder = OrdinalEncoder() # OrdinalEncoder 객체 생성\n",
    "# ordinal 인코딩 적용\n",
    "all_data[ord_345] = ord_encoder.fit_transform(all_data[ord_345])\n",
    "\n",
    "# 피처별 인코딩 순서 출력\n",
    "for col, categories in zip(ord_345, ord_encoder.categories_):\n",
    "    print(col)\n",
    "    print(categories)"
   ]
  },
  {
   "cell_type": "markdown",
   "metadata": {
    "papermill": {
     "duration": 0.016829,
     "end_time": "2021-01-28T14:13:13.202993",
     "exception": false,
     "start_time": "2021-01-28T14:13:13.186164",
     "status": "completed"
    },
    "tags": []
   },
   "source": [
    "### 명목형 피처 인코딩"
   ]
  },
  {
   "cell_type": "code",
   "execution_count": 6,
   "metadata": {
    "execution": {
     "iopub.execute_input": "2021-01-28T14:13:13.244288Z",
     "iopub.status.busy": "2021-01-28T14:13:13.243231Z",
     "iopub.status.idle": "2021-01-28T14:13:13.246614Z",
     "shell.execute_reply": "2021-01-28T14:13:13.245960Z"
    },
    "papermill": {
     "duration": 0.026092,
     "end_time": "2021-01-28T14:13:13.246732",
     "exception": false,
     "start_time": "2021-01-28T14:13:13.220640",
     "status": "completed"
    },
    "tags": []
   },
   "outputs": [],
   "source": [
    "nom_cols = ['nom_' + str(i) for i in range(10)] # 명목형 피처"
   ]
  },
  {
   "cell_type": "code",
   "execution_count": 7,
   "metadata": {
    "execution": {
     "iopub.execute_input": "2021-01-28T14:13:13.288518Z",
     "iopub.status.busy": "2021-01-28T14:13:13.287724Z",
     "iopub.status.idle": "2021-01-28T14:13:16.073946Z",
     "shell.execute_reply": "2021-01-28T14:13:16.073334Z"
    },
    "papermill": {
     "duration": 2.810035,
     "end_time": "2021-01-28T14:13:16.074058",
     "exception": false,
     "start_time": "2021-01-28T14:13:13.264023",
     "status": "completed"
    },
    "tags": []
   },
   "outputs": [
    {
     "data": {
      "text/plain": [
       "<500000x16276 sparse matrix of type '<class 'numpy.float64'>'\n",
       "\twith 5000000 stored elements in Compressed Sparse Row format>"
      ]
     },
     "execution_count": 7,
     "metadata": {},
     "output_type": "execute_result"
    }
   ],
   "source": [
    "from sklearn.preprocessing import OneHotEncoder\n",
    "\n",
    "nom_onehot_encoder = OneHotEncoder() # OneHotEncoder 객체 생성\n",
    "# 원-핫 인코딩 적용\n",
    "encoded_nom_matrix = nom_onehot_encoder.fit_transform(all_data[nom_cols])\n",
    "\n",
    "all_data = all_data.drop(nom_cols, axis=1) # 기존 명목형 피처 삭제\n",
    "\n",
    "encoded_nom_matrix"
   ]
  },
  {
   "cell_type": "markdown",
   "metadata": {
    "papermill": {
     "duration": 0.01761,
     "end_time": "2021-01-28T14:13:16.109304",
     "exception": false,
     "start_time": "2021-01-28T14:13:16.091694",
     "status": "completed"
    },
    "tags": []
   },
   "source": [
    "### 날짜 피처 인코딩"
   ]
  },
  {
   "cell_type": "code",
   "execution_count": 8,
   "metadata": {
    "execution": {
     "iopub.execute_input": "2021-01-28T14:13:16.155293Z",
     "iopub.status.busy": "2021-01-28T14:13:16.154221Z",
     "iopub.status.idle": "2021-01-28T14:13:16.289257Z",
     "shell.execute_reply": "2021-01-28T14:13:16.288228Z"
    },
    "papermill": {
     "duration": 0.162251,
     "end_time": "2021-01-28T14:13:16.289379",
     "exception": false,
     "start_time": "2021-01-28T14:13:16.127128",
     "status": "completed"
    },
    "tags": []
   },
   "outputs": [
    {
     "data": {
      "text/plain": [
       "<500000x19 sparse matrix of type '<class 'numpy.float64'>'\n",
       "\twith 1000000 stored elements in Compressed Sparse Row format>"
      ]
     },
     "execution_count": 8,
     "metadata": {},
     "output_type": "execute_result"
    }
   ],
   "source": [
    "date_cols  = ['day', 'month'] # 날짜 피처\n",
    "\n",
    "date_onehot_encoder = OneHotEncoder() # OneHotEncoder 객체 생성\n",
    "# 원-핫 인코딩 적용\n",
    "encoded_date_matrix = date_onehot_encoder.fit_transform(all_data[date_cols])\n",
    "\n",
    "all_data = all_data.drop(date_cols, axis=1) # 기존 날짜 피처 삭제\n",
    "\n",
    "encoded_date_matrix"
   ]
  },
  {
   "cell_type": "markdown",
   "metadata": {
    "papermill": {
     "duration": 0.017857,
     "end_time": "2021-01-28T14:13:16.325295",
     "exception": false,
     "start_time": "2021-01-28T14:13:16.307438",
     "status": "completed"
    },
    "tags": []
   },
   "source": [
    "## 피처 스케일링"
   ]
  },
  {
   "cell_type": "markdown",
   "metadata": {
    "papermill": {
     "duration": 0.018301,
     "end_time": "2021-01-28T14:13:16.361738",
     "exception": false,
     "start_time": "2021-01-28T14:13:16.343437",
     "status": "completed"
    },
    "tags": []
   },
   "source": [
    "### 순서형 피처에 스케일링 적용"
   ]
  },
  {
   "cell_type": "code",
   "execution_count": 9,
   "metadata": {
    "execution": {
     "iopub.execute_input": "2021-01-28T14:13:16.414966Z",
     "iopub.status.busy": "2021-01-28T14:13:16.414213Z",
     "iopub.status.idle": "2021-01-28T14:13:17.283294Z",
     "shell.execute_reply": "2021-01-28T14:13:17.282671Z"
    },
    "papermill": {
     "duration": 0.90321,
     "end_time": "2021-01-28T14:13:17.283407",
     "exception": false,
     "start_time": "2021-01-28T14:13:16.380197",
     "status": "completed"
    },
    "tags": []
   },
   "outputs": [],
   "source": [
    "from sklearn.preprocessing import MinMaxScaler\n",
    "\n",
    "ord_cols = ['ord_' + str(i) for i in range(6)] # 순서형 피처\n",
    "# min-max 정규화\n",
    "all_data[ord_cols] = MinMaxScaler().fit_transform(all_data[ord_cols])"
   ]
  },
  {
   "cell_type": "markdown",
   "metadata": {
    "papermill": {
     "duration": 0.01803,
     "end_time": "2021-01-28T14:13:17.319900",
     "exception": false,
     "start_time": "2021-01-28T14:13:17.301870",
     "status": "completed"
    },
    "tags": []
   },
   "source": [
    "### 인코딩, 피처 스케일링된 데이터 합치기"
   ]
  },
  {
   "cell_type": "code",
   "execution_count": 10,
   "metadata": {
    "execution": {
     "iopub.execute_input": "2021-01-28T14:13:17.362316Z",
     "iopub.status.busy": "2021-01-28T14:13:17.361656Z",
     "iopub.status.idle": "2021-01-28T14:13:17.881477Z",
     "shell.execute_reply": "2021-01-28T14:13:17.880828Z"
    },
    "papermill": {
     "duration": 0.543625,
     "end_time": "2021-01-28T14:13:17.881656",
     "exception": false,
     "start_time": "2021-01-28T14:13:17.338031",
     "status": "completed"
    },
    "tags": []
   },
   "outputs": [],
   "source": [
    "import scipy\n",
    "\n",
    "# 인코딩, 피처 스케일링된 데이터 합치기\n",
    "all_data_sprs = scipy.sparse.hstack([scipy.sparse.csr_matrix(all_data),\n",
    "                                     encoded_nom_matrix,\n",
    "                                     encoded_date_matrix],\n",
    "                                    format='csr')"
   ]
  },
  {
   "cell_type": "code",
   "execution_count": 11,
   "metadata": {
    "execution": {
     "iopub.execute_input": "2021-01-28T14:13:17.925904Z",
     "iopub.status.busy": "2021-01-28T14:13:17.925162Z",
     "iopub.status.idle": "2021-01-28T14:13:17.929925Z",
     "shell.execute_reply": "2021-01-28T14:13:17.929394Z"
    },
    "papermill": {
     "duration": 0.029354,
     "end_time": "2021-01-28T14:13:17.930045",
     "exception": false,
     "start_time": "2021-01-28T14:13:17.900691",
     "status": "completed"
    },
    "tags": []
   },
   "outputs": [
    {
     "data": {
      "text/plain": [
       "<500000x16306 sparse matrix of type '<class 'numpy.float64'>'\n",
       "\twith 9163718 stored elements in Compressed Sparse Row format>"
      ]
     },
     "execution_count": 11,
     "metadata": {},
     "output_type": "execute_result"
    }
   ],
   "source": [
    "all_data_sprs"
   ]
  },
  {
   "cell_type": "markdown",
   "metadata": {
    "papermill": {
     "duration": 0.018882,
     "end_time": "2021-01-28T14:13:17.968595",
     "exception": false,
     "start_time": "2021-01-28T14:13:17.949713",
     "status": "completed"
    },
    "tags": []
   },
   "source": [
    "## 하이퍼 파라미터 튜닝 및 모델 훈련/제출"
   ]
  },
  {
   "cell_type": "markdown",
   "metadata": {
    "papermill": {
     "duration": 0.018645,
     "end_time": "2021-01-28T14:13:18.006122",
     "exception": false,
     "start_time": "2021-01-28T14:13:17.987477",
     "status": "completed"
    },
    "tags": []
   },
   "source": [
    "### 훈련 데이터와 테스트 데이터 나누기"
   ]
  },
  {
   "cell_type": "code",
   "execution_count": 12,
   "metadata": {
    "execution": {
     "iopub.execute_input": "2021-01-28T14:13:18.050038Z",
     "iopub.status.busy": "2021-01-28T14:13:18.049305Z",
     "iopub.status.idle": "2021-01-28T14:13:18.135195Z",
     "shell.execute_reply": "2021-01-28T14:13:18.134581Z"
    },
    "papermill": {
     "duration": 0.110243,
     "end_time": "2021-01-28T14:13:18.135330",
     "exception": false,
     "start_time": "2021-01-28T14:13:18.025087",
     "status": "completed"
    },
    "tags": []
   },
   "outputs": [],
   "source": [
    "num_train = train.shape[0] # 훈련 데이터 개수\n",
    "\n",
    "# 훈련 데이터와 테스트 데이터 나누기\n",
    "X_train = all_data_sprs[:num_train]\n",
    "X_test = all_data_sprs[num_train:]\n",
    "\n",
    "y_train = train['target']"
   ]
  },
  {
   "cell_type": "markdown",
   "metadata": {
    "papermill": {
     "duration": 0.018691,
     "end_time": "2021-01-28T14:13:18.173378",
     "exception": false,
     "start_time": "2021-01-28T14:13:18.154687",
     "status": "completed"
    },
    "tags": []
   },
   "source": [
    "### 하이퍼 파라미터 튜닝"
   ]
  },
  {
   "cell_type": "code",
   "execution_count": 13,
   "metadata": {
    "execution": {
     "iopub.execute_input": "2021-01-28T14:13:18.219611Z",
     "iopub.status.busy": "2021-01-28T14:13:18.218778Z",
     "iopub.status.idle": "2021-01-28T14:23:57.264548Z",
     "shell.execute_reply": "2021-01-28T14:23:57.265087Z"
    },
    "papermill": {
     "duration": 639.072754,
     "end_time": "2021-01-28T14:23:57.265268",
     "exception": false,
     "start_time": "2021-01-28T14:13:18.192514",
     "status": "completed"
    },
    "tags": []
   },
   "outputs": [
    {
     "name": "stdout",
     "output_type": "stream",
     "text": [
      "최적 하이퍼 파라미터: {'C': 0.125, 'max_iter': 800, 'random_state': 42, 'solver': 'lbfgs'}\n",
      "CPU times: user 20min 59s, sys: 17.4 s, total: 21min 17s\n",
      "Wall time: 10min 39s\n"
     ]
    }
   ],
   "source": [
    "%%time\n",
    "\n",
    "from sklearn.model_selection import GridSearchCV\n",
    "from sklearn.linear_model import LogisticRegression\n",
    "\n",
    "# 로지스틱 회귀 모델 생성\n",
    "logistic_model = LogisticRegression()\n",
    "\n",
    "# 하이퍼 파라미터 값 목록\n",
    "lr_params = {'C':[0.1, 0.125, 0.2], 'max_iter':[800, 900, 1000], \n",
    "             'solver':['lbfgs'], 'random_state':[42]}\n",
    "\n",
    "# 그리드서치 객체 생성\n",
    "gridsearch_logistic_model = GridSearchCV(estimator=logistic_model,\n",
    "                                         param_grid=lr_params,\n",
    "                                         scoring='roc_auc',\n",
    "                                         cv=5)\n",
    "# 그리드서치 수행\n",
    "gridsearch_logistic_model.fit(X_train, y_train)\n",
    "\n",
    "print('최적 하이퍼 파라미터:', gridsearch_logistic_model.best_params_)"
   ]
  },
  {
   "cell_type": "markdown",
   "metadata": {
    "papermill": {
     "duration": 0.019502,
     "end_time": "2021-01-28T14:23:57.304454",
     "exception": false,
     "start_time": "2021-01-28T14:23:57.284952",
     "status": "completed"
    },
    "tags": []
   },
   "source": [
    "### 예측 및 제출"
   ]
  },
  {
   "cell_type": "code",
   "execution_count": 14,
   "metadata": {
    "execution": {
     "iopub.execute_input": "2021-01-28T14:23:57.348125Z",
     "iopub.status.busy": "2021-01-28T14:23:57.347134Z",
     "iopub.status.idle": "2021-01-28T14:23:58.677716Z",
     "shell.execute_reply": "2021-01-28T14:23:58.677091Z"
    },
    "papermill": {
     "duration": 1.35354,
     "end_time": "2021-01-28T14:23:58.677854",
     "exception": false,
     "start_time": "2021-01-28T14:23:57.324314",
     "status": "completed"
    },
    "tags": []
   },
   "outputs": [],
   "source": [
    "# 타깃 값 1일 확률 예측\n",
    "y_preds = gridsearch_logistic_model.best_estimator_.predict_proba(X_test)[:,1]\n",
    "\n",
    "# 제출 파일 생성\n",
    "submission['target'] = y_preds\n",
    "submission.to_csv('submission.csv')"
   ]
  }
 ],
 "metadata": {
  "kernelspec": {
   "display_name": "Python 3",
   "language": "python",
   "name": "python3"
  },
  "language_info": {
   "codemirror_mode": {
    "name": "ipython",
    "version": 3
   },
   "file_extension": ".py",
   "mimetype": "text/x-python",
   "name": "python",
   "nbconvert_exporter": "python",
   "pygments_lexer": "ipython3",
   "version": "3.7.6"
  },
  "papermill": {
   "duration": 657.141598,
   "end_time": "2021-01-28T14:23:58.805673",
   "environment_variables": {},
   "exception": null,
   "input_path": "__notebook__.ipynb",
   "output_path": "__notebook__.ipynb",
   "parameters": {},
   "start_time": "2021-01-28T14:13:01.664075",
   "version": "2.1.0"
  }
 },
 "nbformat": 4,
 "nbformat_minor": 4
}
