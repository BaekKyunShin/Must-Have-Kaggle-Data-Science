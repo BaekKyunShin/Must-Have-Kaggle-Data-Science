{
 "cells": [
  {
   "cell_type": "markdown",
   "metadata": {
    "papermill": {
     "duration": 0.017434,
     "end_time": "2021-02-04T15:03:20.623760",
     "exception": false,
     "start_time": "2021-02-04T15:03:20.606326",
     "status": "completed"
    },
    "tags": []
   },
   "source": [
    "# 범주형 데이터 이진분류 경진대회 모델 성능 향상시키기"
   ]
  },
  {
   "cell_type": "markdown",
   "metadata": {
    "papermill": {
     "duration": 0.015554,
     "end_time": "2021-02-04T15:03:20.655371",
     "exception": false,
     "start_time": "2021-02-04T15:03:20.639817",
     "status": "completed"
    },
    "tags": []
   },
   "source": [
    "- [범주형 데이터 이진분류 경진대회 링크](https://www.kaggle.com/c/cat-in-the-dat/)\n",
    "- [모델링 노트북 참고 링크](https://www.kaggle.com/dkomyagin/cat-in-the-dat-0-80285-private-lb-solution)"
   ]
  },
  {
   "cell_type": "code",
   "execution_count": 1,
   "metadata": {
    "execution": {
     "iopub.execute_input": "2021-02-04T15:03:20.697707Z",
     "iopub.status.busy": "2021-02-04T15:03:20.696926Z",
     "iopub.status.idle": "2021-02-04T15:03:23.825764Z",
     "shell.execute_reply": "2021-02-04T15:03:23.824540Z"
    },
    "papermill": {
     "duration": 3.154257,
     "end_time": "2021-02-04T15:03:23.825922",
     "exception": false,
     "start_time": "2021-02-04T15:03:20.671665",
     "status": "completed"
    },
    "tags": []
   },
   "outputs": [],
   "source": [
    "import pandas as pd\n",
    "\n",
    "train = pd.read_csv('/kaggle/input/cat-in-the-dat/train.csv', index_col='id')\n",
    "test = pd.read_csv('/kaggle/input/cat-in-the-dat/test.csv', index_col='id')\n",
    "submission = pd.read_csv('/kaggle/input/cat-in-the-dat/sample_submission.csv', index_col='id')"
   ]
  },
  {
   "cell_type": "code",
   "execution_count": 2,
   "metadata": {
    "execution": {
     "iopub.execute_input": "2021-02-04T15:03:23.866130Z",
     "iopub.status.busy": "2021-02-04T15:03:23.864770Z",
     "iopub.status.idle": "2021-02-04T15:03:24.476102Z",
     "shell.execute_reply": "2021-02-04T15:03:24.475465Z"
    },
    "papermill": {
     "duration": 0.633733,
     "end_time": "2021-02-04T15:03:24.476221",
     "exception": false,
     "start_time": "2021-02-04T15:03:23.842488",
     "status": "completed"
    },
    "tags": []
   },
   "outputs": [],
   "source": [
    "# 훈련 데이터와 테스트 데이터 합치기\n",
    "all_data = pd.concat([train, test])\n",
    "all_data = all_data.drop('target', axis=1) # 타깃 값 제거"
   ]
  },
  {
   "cell_type": "markdown",
   "metadata": {
    "papermill": {
     "duration": 0.02306,
     "end_time": "2021-02-04T15:03:24.515678",
     "exception": false,
     "start_time": "2021-02-04T15:03:24.492618",
     "status": "completed"
    },
    "tags": []
   },
   "source": [
    "## 피처 특성에 맞는 인코딩 적용"
   ]
  },
  {
   "cell_type": "markdown",
   "metadata": {
    "papermill": {
     "duration": 0.02101,
     "end_time": "2021-02-04T15:03:24.559591",
     "exception": false,
     "start_time": "2021-02-04T15:03:24.538581",
     "status": "completed"
    },
    "tags": []
   },
   "source": [
    "### 이진 피처 인코딩"
   ]
  },
  {
   "cell_type": "code",
   "execution_count": 3,
   "metadata": {
    "execution": {
     "iopub.execute_input": "2021-02-04T15:03:24.669522Z",
     "iopub.status.busy": "2021-02-04T15:03:24.668748Z",
     "iopub.status.idle": "2021-02-04T15:03:24.941265Z",
     "shell.execute_reply": "2021-02-04T15:03:24.940624Z"
    },
    "papermill": {
     "duration": 0.353811,
     "end_time": "2021-02-04T15:03:24.941380",
     "exception": false,
     "start_time": "2021-02-04T15:03:24.587569",
     "status": "completed"
    },
    "tags": []
   },
   "outputs": [],
   "source": [
    "all_data['bin_3'] = all_data['bin_3'].map({'F':0, 'T':1})\n",
    "all_data['bin_4'] = all_data['bin_4'].map({'N':0, 'Y':1})"
   ]
  },
  {
   "cell_type": "markdown",
   "metadata": {
    "papermill": {
     "duration": 0.016291,
     "end_time": "2021-02-04T15:03:24.973969",
     "exception": false,
     "start_time": "2021-02-04T15:03:24.957678",
     "status": "completed"
    },
    "tags": []
   },
   "source": [
    "### 순서형 피처 인코딩"
   ]
  },
  {
   "cell_type": "code",
   "execution_count": 4,
   "metadata": {
    "execution": {
     "iopub.execute_input": "2021-02-04T15:03:25.010176Z",
     "iopub.status.busy": "2021-02-04T15:03:25.009528Z",
     "iopub.status.idle": "2021-02-04T15:03:25.320939Z",
     "shell.execute_reply": "2021-02-04T15:03:25.321453Z"
    },
    "papermill": {
     "duration": 0.331098,
     "end_time": "2021-02-04T15:03:25.321622",
     "exception": false,
     "start_time": "2021-02-04T15:03:24.990524",
     "status": "completed"
    },
    "tags": []
   },
   "outputs": [],
   "source": [
    "ord1dict = {'Novice':0, 'Contributor':1, \n",
    "            'Expert':2, 'Master':3, 'Grandmaster':4}\n",
    "ord2dict = {'Freezing':0, 'Cold':1, 'Warm':2, \n",
    "            'Hot':3, 'Boiling Hot':4, 'Lava Hot':5}\n",
    "\n",
    "all_data['ord_1'] = all_data['ord_1'].map(ord1dict)\n",
    "all_data['ord_2'] = all_data['ord_2'].map(ord2dict)"
   ]
  },
  {
   "cell_type": "code",
   "execution_count": 5,
   "metadata": {
    "execution": {
     "iopub.execute_input": "2021-02-04T15:03:25.358103Z",
     "iopub.status.busy": "2021-02-04T15:03:25.357449Z",
     "iopub.status.idle": "2021-02-04T15:03:27.914135Z",
     "shell.execute_reply": "2021-02-04T15:03:27.913438Z"
    },
    "papermill": {
     "duration": 2.576166,
     "end_time": "2021-02-04T15:03:27.914248",
     "exception": false,
     "start_time": "2021-02-04T15:03:25.338082",
     "status": "completed"
    },
    "tags": []
   },
   "outputs": [
    {
     "name": "stdout",
     "output_type": "stream",
     "text": [
      "ord_3\n",
      "['a' 'b' 'c' 'd' 'e' 'f' 'g' 'h' 'i' 'j' 'k' 'l' 'm' 'n' 'o']\n",
      "ord_4\n",
      "['A' 'B' 'C' 'D' 'E' 'F' 'G' 'H' 'I' 'J' 'K' 'L' 'M' 'N' 'O' 'P' 'Q' 'R'\n",
      " 'S' 'T' 'U' 'V' 'W' 'X' 'Y' 'Z']\n",
      "ord_5\n",
      "['AP' 'Ai' 'Aj' 'BA' 'BE' 'Bb' 'Bd' 'Bn' 'CL' 'CM' 'CU' 'CZ' 'Cl' 'DH'\n",
      " 'DN' 'Dc' 'Dx' 'Ed' 'Eg' 'Er' 'FI' 'Fd' 'Fo' 'GD' 'GJ' 'Gb' 'Gx' 'Hj'\n",
      " 'IK' 'Id' 'JX' 'Jc' 'Jf' 'Jt' 'KR' 'KZ' 'Kf' 'Kq' 'LE' 'MC' 'MO' 'MV'\n",
      " 'Mf' 'Ml' 'Mx' 'NV' 'Nf' 'Nk' 'OR' 'Ob' 'Os' 'PA' 'PQ' 'PZ' 'Ps' 'QM'\n",
      " 'Qb' 'Qh' 'Qo' 'RG' 'RL' 'RP' 'Rm' 'Ry' 'SB' 'Sc' 'TR' 'TZ' 'To' 'UO'\n",
      " 'Uk' 'Uu' 'Vf' 'Vx' 'WE' 'Wc' 'Wv' 'XI' 'Xh' 'Xi' 'YC' 'Yb' 'Ye' 'ZR'\n",
      " 'ZS' 'Zc' 'Zq' 'aF' 'aM' 'aO' 'aP' 'ac' 'av' 'bF' 'bJ' 'be' 'cA' 'cG'\n",
      " 'cW' 'ck' 'cp' 'dB' 'dE' 'dN' 'dO' 'dP' 'dQ' 'dZ' 'dh' 'eG' 'eQ' 'eb'\n",
      " 'eg' 'ek' 'ex' 'fO' 'fh' 'gJ' 'gM' 'hL' 'hT' 'hh' 'hp' 'iT' 'ih' 'jS'\n",
      " 'jV' 'je' 'jp' 'kC' 'kE' 'kK' 'kL' 'kU' 'kW' 'ke' 'kr' 'kw' 'lF' 'lL'\n",
      " 'll' 'lx' 'mb' 'mc' 'mm' 'nX' 'nh' 'oC' 'oG' 'oH' 'oK' 'od' 'on' 'pa'\n",
      " 'ps' 'qA' 'qJ' 'qK' 'qP' 'qX' 'qo' 'qv' 'qw' 'rZ' 'ri' 'rp' 'sD' 'sV'\n",
      " 'sY' 'sn' 'su' 'tM' 'tP' 'tv' 'uJ' 'uS' 'ud' 'us' 'ut' 'ux' 'uy' 'vK'\n",
      " 'vq' 'vy' 'wu' 'wy' 'xP' 'xy' 'yN' 'yY' 'yc' 'zU']\n"
     ]
    }
   ],
   "source": [
    "from sklearn.preprocessing import OrdinalEncoder\n",
    "\n",
    "ord_345 = ['ord_3', 'ord_4', 'ord_5']\n",
    "\n",
    "ord_encoder = OrdinalEncoder() # OrdinalEncoder 객체 생성\n",
    "# ordinal 인코딩 적용\n",
    "all_data[ord_345] = ord_encoder.fit_transform(all_data[ord_345])\n",
    "\n",
    "# 피처별 인코딩 순서 출력\n",
    "for col, categories in zip(ord_345, ord_encoder.categories_):\n",
    "    print(col)\n",
    "    print(categories)"
   ]
  },
  {
   "cell_type": "markdown",
   "metadata": {
    "papermill": {
     "duration": 0.016541,
     "end_time": "2021-02-04T15:03:27.948079",
     "exception": false,
     "start_time": "2021-02-04T15:03:27.931538",
     "status": "completed"
    },
    "tags": []
   },
   "source": [
    "### 명목형 피처 인코딩"
   ]
  },
  {
   "cell_type": "code",
   "execution_count": 6,
   "metadata": {
    "execution": {
     "iopub.execute_input": "2021-02-04T15:03:27.988837Z",
     "iopub.status.busy": "2021-02-04T15:03:27.987928Z",
     "iopub.status.idle": "2021-02-04T15:03:27.990358Z",
     "shell.execute_reply": "2021-02-04T15:03:27.990944Z"
    },
    "papermill": {
     "duration": 0.026005,
     "end_time": "2021-02-04T15:03:27.991101",
     "exception": false,
     "start_time": "2021-02-04T15:03:27.965096",
     "status": "completed"
    },
    "tags": []
   },
   "outputs": [],
   "source": [
    "nom_cols = ['nom_' + str(i) for i in range(10)] # 명목형 피처"
   ]
  },
  {
   "cell_type": "code",
   "execution_count": 7,
   "metadata": {
    "execution": {
     "iopub.execute_input": "2021-02-04T15:03:28.032778Z",
     "iopub.status.busy": "2021-02-04T15:03:28.032071Z",
     "iopub.status.idle": "2021-02-04T15:03:30.834175Z",
     "shell.execute_reply": "2021-02-04T15:03:30.834687Z"
    },
    "papermill": {
     "duration": 2.826605,
     "end_time": "2021-02-04T15:03:30.834906",
     "exception": false,
     "start_time": "2021-02-04T15:03:28.008301",
     "status": "completed"
    },
    "tags": []
   },
   "outputs": [
    {
     "data": {
      "text/plain": [
       "<500000x16276 sparse matrix of type '<class 'numpy.float64'>'\n",
       "\twith 5000000 stored elements in Compressed Sparse Row format>"
      ]
     },
     "execution_count": 7,
     "metadata": {},
     "output_type": "execute_result"
    }
   ],
   "source": [
    "from sklearn.preprocessing import OneHotEncoder\n",
    "\n",
    "nom_onehot_encoder = OneHotEncoder() # OneHotEncoder 객체 생성\n",
    "# 원-핫 인코딩 적용\n",
    "encoded_nom_matrix = nom_onehot_encoder.fit_transform(all_data[nom_cols])\n",
    "\n",
    "all_data = all_data.drop(nom_cols, axis=1) # 기존 명목형 피처 삭제\n",
    "\n",
    "encoded_nom_matrix"
   ]
  },
  {
   "cell_type": "markdown",
   "metadata": {
    "papermill": {
     "duration": 0.01807,
     "end_time": "2021-02-04T15:03:30.870954",
     "exception": false,
     "start_time": "2021-02-04T15:03:30.852884",
     "status": "completed"
    },
    "tags": []
   },
   "source": [
    "### 날짜 피처 인코딩"
   ]
  },
  {
   "cell_type": "code",
   "execution_count": 8,
   "metadata": {
    "execution": {
     "iopub.execute_input": "2021-02-04T15:03:30.909729Z",
     "iopub.status.busy": "2021-02-04T15:03:30.909049Z",
     "iopub.status.idle": "2021-02-04T15:03:31.054708Z",
     "shell.execute_reply": "2021-02-04T15:03:31.054154Z"
    },
    "papermill": {
     "duration": 0.166029,
     "end_time": "2021-02-04T15:03:31.054833",
     "exception": false,
     "start_time": "2021-02-04T15:03:30.888804",
     "status": "completed"
    },
    "tags": []
   },
   "outputs": [
    {
     "data": {
      "text/plain": [
       "<500000x19 sparse matrix of type '<class 'numpy.float64'>'\n",
       "\twith 1000000 stored elements in Compressed Sparse Row format>"
      ]
     },
     "execution_count": 8,
     "metadata": {},
     "output_type": "execute_result"
    }
   ],
   "source": [
    "date_cols  = ['day', 'month'] # 날짜 피처\n",
    "\n",
    "date_onehot_encoder = OneHotEncoder() # OneHotEncoder 객체 생성\n",
    "# 원-핫 인코딩 적용\n",
    "encoded_date_matrix = date_onehot_encoder.fit_transform(all_data[date_cols])\n",
    "\n",
    "all_data = all_data.drop(date_cols, axis=1) # 기존 날짜 피처 삭제\n",
    "\n",
    "encoded_date_matrix"
   ]
  },
  {
   "cell_type": "markdown",
   "metadata": {
    "papermill": {
     "duration": 0.017794,
     "end_time": "2021-02-04T15:03:31.090736",
     "exception": false,
     "start_time": "2021-02-04T15:03:31.072942",
     "status": "completed"
    },
    "tags": []
   },
   "source": [
    "## 피처 스케일링"
   ]
  },
  {
   "cell_type": "markdown",
   "metadata": {
    "papermill": {
     "duration": 0.017728,
     "end_time": "2021-02-04T15:03:31.126579",
     "exception": false,
     "start_time": "2021-02-04T15:03:31.108851",
     "status": "completed"
    },
    "tags": []
   },
   "source": [
    "### 순서형 피처에 스케일링 적용"
   ]
  },
  {
   "cell_type": "code",
   "execution_count": 9,
   "metadata": {
    "execution": {
     "iopub.execute_input": "2021-02-04T15:03:31.179510Z",
     "iopub.status.busy": "2021-02-04T15:03:31.178793Z",
     "iopub.status.idle": "2021-02-04T15:03:32.064176Z",
     "shell.execute_reply": "2021-02-04T15:03:32.063573Z"
    },
    "papermill": {
     "duration": 0.919528,
     "end_time": "2021-02-04T15:03:32.064292",
     "exception": false,
     "start_time": "2021-02-04T15:03:31.144764",
     "status": "completed"
    },
    "tags": []
   },
   "outputs": [],
   "source": [
    "from sklearn.preprocessing import MinMaxScaler\n",
    "\n",
    "ord_cols = ['ord_' + str(i) for i in range(6)] # 순서형 피처\n",
    "# min-max 정규화\n",
    "all_data[ord_cols] = MinMaxScaler().fit_transform(all_data[ord_cols])"
   ]
  },
  {
   "cell_type": "markdown",
   "metadata": {
    "papermill": {
     "duration": 0.017795,
     "end_time": "2021-02-04T15:03:32.100630",
     "exception": false,
     "start_time": "2021-02-04T15:03:32.082835",
     "status": "completed"
    },
    "tags": []
   },
   "source": [
    "### 인코딩, 피처 스케일링된 데이터 합치기"
   ]
  },
  {
   "cell_type": "code",
   "execution_count": 10,
   "metadata": {
    "execution": {
     "iopub.execute_input": "2021-02-04T15:03:32.143258Z",
     "iopub.status.busy": "2021-02-04T15:03:32.142581Z",
     "iopub.status.idle": "2021-02-04T15:03:32.681450Z",
     "shell.execute_reply": "2021-02-04T15:03:32.681960Z"
    },
    "papermill": {
     "duration": 0.563283,
     "end_time": "2021-02-04T15:03:32.682116",
     "exception": false,
     "start_time": "2021-02-04T15:03:32.118833",
     "status": "completed"
    },
    "tags": []
   },
   "outputs": [],
   "source": [
    "from scipy import sparse\n",
    "\n",
    "# 인코딩, 피처 스케일링된 데이터 합치기\n",
    "all_data_sprs = sparse.hstack([sparse.csr_matrix(all_data),\n",
    "                               encoded_nom_matrix,\n",
    "                               encoded_date_matrix],\n",
    "                              format='csr')"
   ]
  },
  {
   "cell_type": "code",
   "execution_count": 11,
   "metadata": {
    "execution": {
     "iopub.execute_input": "2021-02-04T15:03:32.724599Z",
     "iopub.status.busy": "2021-02-04T15:03:32.723717Z",
     "iopub.status.idle": "2021-02-04T15:03:32.728861Z",
     "shell.execute_reply": "2021-02-04T15:03:32.728323Z"
    },
    "papermill": {
     "duration": 0.028454,
     "end_time": "2021-02-04T15:03:32.728973",
     "exception": false,
     "start_time": "2021-02-04T15:03:32.700519",
     "status": "completed"
    },
    "tags": []
   },
   "outputs": [
    {
     "data": {
      "text/plain": [
       "<500000x16306 sparse matrix of type '<class 'numpy.float64'>'\n",
       "\twith 9163718 stored elements in Compressed Sparse Row format>"
      ]
     },
     "execution_count": 11,
     "metadata": {},
     "output_type": "execute_result"
    }
   ],
   "source": [
    "all_data_sprs"
   ]
  },
  {
   "cell_type": "markdown",
   "metadata": {
    "papermill": {
     "duration": 0.018454,
     "end_time": "2021-02-04T15:03:32.766367",
     "exception": false,
     "start_time": "2021-02-04T15:03:32.747913",
     "status": "completed"
    },
    "tags": []
   },
   "source": [
    "## 하이퍼 파라미터 튜닝 및 모델 훈련/제출"
   ]
  },
  {
   "cell_type": "markdown",
   "metadata": {
    "papermill": {
     "duration": 0.018529,
     "end_time": "2021-02-04T15:03:32.803760",
     "exception": false,
     "start_time": "2021-02-04T15:03:32.785231",
     "status": "completed"
    },
    "tags": []
   },
   "source": [
    "### 훈련 데이터와 테스트 데이터 나누기"
   ]
  },
  {
   "cell_type": "code",
   "execution_count": 12,
   "metadata": {
    "execution": {
     "iopub.execute_input": "2021-02-04T15:03:32.848464Z",
     "iopub.status.busy": "2021-02-04T15:03:32.847676Z",
     "iopub.status.idle": "2021-02-04T15:03:32.935072Z",
     "shell.execute_reply": "2021-02-04T15:03:32.934505Z"
    },
    "papermill": {
     "duration": 0.112368,
     "end_time": "2021-02-04T15:03:32.935195",
     "exception": false,
     "start_time": "2021-02-04T15:03:32.822827",
     "status": "completed"
    },
    "tags": []
   },
   "outputs": [],
   "source": [
    "num_train = train.shape[0] # 훈련 데이터 개수\n",
    "\n",
    "# 훈련 데이터와 테스트 데이터 나누기\n",
    "X_train = all_data_sprs[:num_train]\n",
    "X_test = all_data_sprs[num_train:]\n",
    "\n",
    "y_train = train['target']"
   ]
  },
  {
   "cell_type": "markdown",
   "metadata": {
    "papermill": {
     "duration": 0.019284,
     "end_time": "2021-02-04T15:03:32.973596",
     "exception": false,
     "start_time": "2021-02-04T15:03:32.954312",
     "status": "completed"
    },
    "tags": []
   },
   "source": [
    "### 하이퍼 파라미터 튜닝"
   ]
  },
  {
   "cell_type": "code",
   "execution_count": 13,
   "metadata": {
    "execution": {
     "iopub.execute_input": "2021-02-04T15:03:33.019686Z",
     "iopub.status.busy": "2021-02-04T15:03:33.018924Z",
     "iopub.status.idle": "2021-02-04T15:14:20.178698Z",
     "shell.execute_reply": "2021-02-04T15:14:20.179285Z"
    },
    "papermill": {
     "duration": 647.186328,
     "end_time": "2021-02-04T15:14:20.179473",
     "exception": false,
     "start_time": "2021-02-04T15:03:32.993145",
     "status": "completed"
    },
    "tags": []
   },
   "outputs": [
    {
     "name": "stdout",
     "output_type": "stream",
     "text": [
      "최적 하이퍼 파라미터: {'C': 0.125, 'max_iter': 800, 'random_state': 42, 'solver': 'lbfgs'}\n",
      "CPU times: user 21min 15s, sys: 18.3 s, total: 21min 33s\n",
      "Wall time: 10min 47s\n"
     ]
    }
   ],
   "source": [
    "%%time\n",
    "\n",
    "from sklearn.model_selection import GridSearchCV\n",
    "from sklearn.linear_model import LogisticRegression\n",
    "\n",
    "# 로지스틱 회귀 모델 생성\n",
    "logistic_model = LogisticRegression()\n",
    "\n",
    "# 하이퍼 파라미터 값 목록\n",
    "lr_params = {'C':[0.1, 0.125, 0.2], 'max_iter':[800, 900, 1000], \n",
    "             'solver':['lbfgs'], 'random_state':[42]}\n",
    "\n",
    "# 그리드서치 객체 생성\n",
    "gridsearch_logistic_model = GridSearchCV(estimator=logistic_model,\n",
    "                                         param_grid=lr_params,\n",
    "                                         scoring='roc_auc',\n",
    "                                         cv=5)\n",
    "# 그리드서치 수행\n",
    "gridsearch_logistic_model.fit(X_train, y_train)\n",
    "\n",
    "print('최적 하이퍼 파라미터:', gridsearch_logistic_model.best_params_)"
   ]
  },
  {
   "cell_type": "markdown",
   "metadata": {
    "papermill": {
     "duration": 0.019346,
     "end_time": "2021-02-04T15:14:20.218602",
     "exception": false,
     "start_time": "2021-02-04T15:14:20.199256",
     "status": "completed"
    },
    "tags": []
   },
   "source": [
    "### 예측 및 제출"
   ]
  },
  {
   "cell_type": "code",
   "execution_count": 14,
   "metadata": {
    "execution": {
     "iopub.execute_input": "2021-02-04T15:14:20.265103Z",
     "iopub.status.busy": "2021-02-04T15:14:20.263864Z",
     "iopub.status.idle": "2021-02-04T15:14:21.564118Z",
     "shell.execute_reply": "2021-02-04T15:14:21.563422Z"
    },
    "papermill": {
     "duration": 1.325744,
     "end_time": "2021-02-04T15:14:21.564234",
     "exception": false,
     "start_time": "2021-02-04T15:14:20.238490",
     "status": "completed"
    },
    "tags": []
   },
   "outputs": [],
   "source": [
    "# 타깃 값 1일 확률 예측\n",
    "y_preds = gridsearch_logistic_model.best_estimator_.predict_proba(X_test)[:,1]\n",
    "\n",
    "# 제출 파일 생성\n",
    "submission['target'] = y_preds\n",
    "submission.to_csv('submission.csv')"
   ]
  }
 ],
 "metadata": {
  "kernelspec": {
   "display_name": "Python 3",
   "language": "python",
   "name": "python3"
  },
  "language_info": {
   "codemirror_mode": {
    "name": "ipython",
    "version": 3
   },
   "file_extension": ".py",
   "mimetype": "text/x-python",
   "name": "python",
   "nbconvert_exporter": "python",
   "pygments_lexer": "ipython3",
   "version": "3.7.6"
  },
  "papermill": {
   "duration": 665.885878,
   "end_time": "2021-02-04T15:14:21.696855",
   "environment_variables": {},
   "exception": null,
   "input_path": "__notebook__.ipynb",
   "output_path": "__notebook__.ipynb",
   "parameters": {},
   "start_time": "2021-02-04T15:03:15.810977",
   "version": "2.1.0"
  }
 },
 "nbformat": 4,
 "nbformat_minor": 4
}
