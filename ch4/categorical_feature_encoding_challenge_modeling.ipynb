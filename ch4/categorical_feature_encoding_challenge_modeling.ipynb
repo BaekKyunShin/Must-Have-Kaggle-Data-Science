{
 "cells": [
  {
   "cell_type": "markdown",
   "id": "collective-choice",
   "metadata": {
    "papermill": {
     "duration": 0.026851,
     "end_time": "2021-05-08T08:04:48.135705",
     "exception": false,
     "start_time": "2021-05-08T08:04:48.108854",
     "status": "completed"
    },
    "tags": []
   },
   "source": [
    "# 4.4 범주형 데이터 이진분류 경진대회 성능 개선"
   ]
  },
  {
   "cell_type": "markdown",
   "id": "linear-timothy",
   "metadata": {
    "papermill": {
     "duration": 0.025953,
     "end_time": "2021-05-08T08:04:48.187334",
     "exception": false,
     "start_time": "2021-05-08T08:04:48.161381",
     "status": "completed"
    },
    "tags": []
   },
   "source": [
    "- [범주형 데이터 이진분류 경진대회 링크](https://www.kaggle.com/c/cat-in-the-dat/)\n",
    "- [모델링 노트북 참고 링크](https://www.kaggle.com/dkomyagin/cat-in-the-dat-0-80285-private-lb-solution)"
   ]
  },
  {
   "cell_type": "code",
   "execution_count": 1,
   "id": "racial-michigan",
   "metadata": {
    "execution": {
     "iopub.execute_input": "2021-05-08T08:04:48.253241Z",
     "iopub.status.busy": "2021-05-08T08:04:48.249767Z",
     "iopub.status.idle": "2021-05-08T08:04:50.918352Z",
     "shell.execute_reply": "2021-05-08T08:04:50.918779Z"
    },
    "papermill": {
     "duration": 2.705532,
     "end_time": "2021-05-08T08:04:50.919055",
     "exception": false,
     "start_time": "2021-05-08T08:04:48.213523",
     "status": "completed"
    },
    "tags": []
   },
   "outputs": [],
   "source": [
    "# ch4/categorical_feature_encoding_challenge_modeling.ipynb\n",
    "\n",
    "import pandas as pd\n",
    "\n",
    "# 데이터 경로\n",
    "data_path = '/kaggle/input/cat-in-the-dat/'\n",
    "\n",
    "train = pd.read_csv(data_path + 'train.csv', index_col='id')\n",
    "test = pd.read_csv(data_path + 'test.csv', index_col='id')\n",
    "submission = pd.read_csv(data_path + 'sample_submission.csv', index_col='id')"
   ]
  },
  {
   "cell_type": "markdown",
   "id": "heated-mechanism",
   "metadata": {
    "papermill": {
     "duration": 0.016524,
     "end_time": "2021-05-08T08:04:50.954949",
     "exception": false,
     "start_time": "2021-05-08T08:04:50.938425",
     "status": "completed"
    },
    "tags": []
   },
   "source": [
    "## 4.4.1 피처 엔지니어링 I : 피처 맞춤 인코딩"
   ]
  },
  {
   "cell_type": "markdown",
   "id": "collaborative-compilation",
   "metadata": {
    "papermill": {
     "duration": 0.016097,
     "end_time": "2021-05-08T08:04:50.988141",
     "exception": false,
     "start_time": "2021-05-08T08:04:50.972044",
     "status": "completed"
    },
    "tags": []
   },
   "source": [
    "### 데이터 합치기"
   ]
  },
  {
   "cell_type": "code",
   "execution_count": 2,
   "id": "distant-semester",
   "metadata": {
    "execution": {
     "iopub.execute_input": "2021-05-08T08:04:51.029868Z",
     "iopub.status.busy": "2021-05-08T08:04:51.029066Z",
     "iopub.status.idle": "2021-05-08T08:04:51.501798Z",
     "shell.execute_reply": "2021-05-08T08:04:51.501301Z"
    },
    "papermill": {
     "duration": 0.496458,
     "end_time": "2021-05-08T08:04:51.501923",
     "exception": false,
     "start_time": "2021-05-08T08:04:51.005465",
     "status": "completed"
    },
    "tags": []
   },
   "outputs": [],
   "source": [
    "# 훈련 데이터와 테스트 데이터 합치기\n",
    "all_data = pd.concat([train, test])\n",
    "all_data = all_data.drop('target', axis=1) # 타깃 값 제거"
   ]
  },
  {
   "cell_type": "markdown",
   "id": "little-sunday",
   "metadata": {
    "papermill": {
     "duration": 0.0167,
     "end_time": "2021-05-08T08:04:51.537585",
     "exception": false,
     "start_time": "2021-05-08T08:04:51.520885",
     "status": "completed"
    },
    "tags": []
   },
   "source": [
    "### 이진 피처 인코딩"
   ]
  },
  {
   "cell_type": "code",
   "execution_count": 3,
   "id": "blocked-component",
   "metadata": {
    "execution": {
     "iopub.execute_input": "2021-05-08T08:04:51.577172Z",
     "iopub.status.busy": "2021-05-08T08:04:51.574525Z",
     "iopub.status.idle": "2021-05-08T08:04:51.891521Z",
     "shell.execute_reply": "2021-05-08T08:04:51.890998Z"
    },
    "papermill": {
     "duration": 0.33712,
     "end_time": "2021-05-08T08:04:51.891665",
     "exception": false,
     "start_time": "2021-05-08T08:04:51.554545",
     "status": "completed"
    },
    "tags": []
   },
   "outputs": [],
   "source": [
    "all_data['bin_3'] = all_data['bin_3'].map({'F':0, 'T':1})\n",
    "all_data['bin_4'] = all_data['bin_4'].map({'N':0, 'Y':1})"
   ]
  },
  {
   "cell_type": "markdown",
   "id": "sporting-tulsa",
   "metadata": {
    "papermill": {
     "duration": 0.017855,
     "end_time": "2021-05-08T08:04:51.928044",
     "exception": false,
     "start_time": "2021-05-08T08:04:51.910189",
     "status": "completed"
    },
    "tags": []
   },
   "source": [
    "### 순서형 피처 인코딩"
   ]
  },
  {
   "cell_type": "code",
   "execution_count": 4,
   "id": "interim-friday",
   "metadata": {
    "execution": {
     "iopub.execute_input": "2021-05-08T08:04:51.993223Z",
     "iopub.status.busy": "2021-05-08T08:04:51.992529Z",
     "iopub.status.idle": "2021-05-08T08:04:52.310672Z",
     "shell.execute_reply": "2021-05-08T08:04:52.310162Z"
    },
    "papermill": {
     "duration": 0.366252,
     "end_time": "2021-05-08T08:04:52.310800",
     "exception": false,
     "start_time": "2021-05-08T08:04:51.944548",
     "status": "completed"
    },
    "tags": []
   },
   "outputs": [],
   "source": [
    "ord1dict = {'Novice':0, 'Contributor':1, \n",
    "            'Expert':2, 'Master':3, 'Grandmaster':4}\n",
    "ord2dict = {'Freezing':0, 'Cold':1, 'Warm':2, \n",
    "            'Hot':3, 'Boiling Hot':4, 'Lava Hot':5}\n",
    "\n",
    "all_data['ord_1'] = all_data['ord_1'].map(ord1dict)\n",
    "all_data['ord_2'] = all_data['ord_2'].map(ord2dict)"
   ]
  },
  {
   "cell_type": "code",
   "execution_count": 5,
   "id": "suited-violation",
   "metadata": {
    "execution": {
     "iopub.execute_input": "2021-05-08T08:04:52.352885Z",
     "iopub.status.busy": "2021-05-08T08:04:52.352204Z",
     "iopub.status.idle": "2021-05-08T08:04:55.245673Z",
     "shell.execute_reply": "2021-05-08T08:04:55.245077Z"
    },
    "papermill": {
     "duration": 2.917675,
     "end_time": "2021-05-08T08:04:55.245798",
     "exception": false,
     "start_time": "2021-05-08T08:04:52.328123",
     "status": "completed"
    },
    "tags": []
   },
   "outputs": [
    {
     "name": "stdout",
     "output_type": "stream",
     "text": [
      "ord_3\n",
      "['a' 'b' 'c' 'd' 'e' 'f' 'g' 'h' 'i' 'j' 'k' 'l' 'm' 'n' 'o']\n",
      "ord_4\n",
      "['A' 'B' 'C' 'D' 'E' 'F' 'G' 'H' 'I' 'J' 'K' 'L' 'M' 'N' 'O' 'P' 'Q' 'R'\n",
      " 'S' 'T' 'U' 'V' 'W' 'X' 'Y' 'Z']\n",
      "ord_5\n",
      "['AP' 'Ai' 'Aj' 'BA' 'BE' 'Bb' 'Bd' 'Bn' 'CL' 'CM' 'CU' 'CZ' 'Cl' 'DH'\n",
      " 'DN' 'Dc' 'Dx' 'Ed' 'Eg' 'Er' 'FI' 'Fd' 'Fo' 'GD' 'GJ' 'Gb' 'Gx' 'Hj'\n",
      " 'IK' 'Id' 'JX' 'Jc' 'Jf' 'Jt' 'KR' 'KZ' 'Kf' 'Kq' 'LE' 'MC' 'MO' 'MV'\n",
      " 'Mf' 'Ml' 'Mx' 'NV' 'Nf' 'Nk' 'OR' 'Ob' 'Os' 'PA' 'PQ' 'PZ' 'Ps' 'QM'\n",
      " 'Qb' 'Qh' 'Qo' 'RG' 'RL' 'RP' 'Rm' 'Ry' 'SB' 'Sc' 'TR' 'TZ' 'To' 'UO'\n",
      " 'Uk' 'Uu' 'Vf' 'Vx' 'WE' 'Wc' 'Wv' 'XI' 'Xh' 'Xi' 'YC' 'Yb' 'Ye' 'ZR'\n",
      " 'ZS' 'Zc' 'Zq' 'aF' 'aM' 'aO' 'aP' 'ac' 'av' 'bF' 'bJ' 'be' 'cA' 'cG'\n",
      " 'cW' 'ck' 'cp' 'dB' 'dE' 'dN' 'dO' 'dP' 'dQ' 'dZ' 'dh' 'eG' 'eQ' 'eb'\n",
      " 'eg' 'ek' 'ex' 'fO' 'fh' 'gJ' 'gM' 'hL' 'hT' 'hh' 'hp' 'iT' 'ih' 'jS'\n",
      " 'jV' 'je' 'jp' 'kC' 'kE' 'kK' 'kL' 'kU' 'kW' 'ke' 'kr' 'kw' 'lF' 'lL'\n",
      " 'll' 'lx' 'mb' 'mc' 'mm' 'nX' 'nh' 'oC' 'oG' 'oH' 'oK' 'od' 'on' 'pa'\n",
      " 'ps' 'qA' 'qJ' 'qK' 'qP' 'qX' 'qo' 'qv' 'qw' 'rZ' 'ri' 'rp' 'sD' 'sV'\n",
      " 'sY' 'sn' 'su' 'tM' 'tP' 'tv' 'uJ' 'uS' 'ud' 'us' 'ut' 'ux' 'uy' 'vK'\n",
      " 'vq' 'vy' 'wu' 'wy' 'xP' 'xy' 'yN' 'yY' 'yc' 'zU']\n"
     ]
    }
   ],
   "source": [
    "from sklearn.preprocessing import OrdinalEncoder\n",
    "\n",
    "ord_345 = ['ord_3', 'ord_4', 'ord_5']\n",
    "\n",
    "ord_encoder = OrdinalEncoder() # OrdinalEncoder 객체 생성\n",
    "# ordinal 인코딩 적용\n",
    "all_data[ord_345] = ord_encoder.fit_transform(all_data[ord_345])\n",
    "\n",
    "# 피처별 인코딩 순서 출력\n",
    "for feature, categories in zip(ord_345, ord_encoder.categories_):\n",
    "    print(feature)\n",
    "    print(categories)"
   ]
  },
  {
   "cell_type": "markdown",
   "id": "legitimate-intersection",
   "metadata": {
    "papermill": {
     "duration": 0.01755,
     "end_time": "2021-05-08T08:04:55.281330",
     "exception": false,
     "start_time": "2021-05-08T08:04:55.263780",
     "status": "completed"
    },
    "tags": []
   },
   "source": [
    "### 명목형 피처 인코딩"
   ]
  },
  {
   "cell_type": "code",
   "execution_count": 6,
   "id": "certain-richardson",
   "metadata": {
    "execution": {
     "iopub.execute_input": "2021-05-08T08:04:55.324559Z",
     "iopub.status.busy": "2021-05-08T08:04:55.324012Z",
     "iopub.status.idle": "2021-05-08T08:04:55.328315Z",
     "shell.execute_reply": "2021-05-08T08:04:55.327753Z"
    },
    "papermill": {
     "duration": 0.028604,
     "end_time": "2021-05-08T08:04:55.328436",
     "exception": false,
     "start_time": "2021-05-08T08:04:55.299832",
     "status": "completed"
    },
    "tags": []
   },
   "outputs": [],
   "source": [
    "nom_features = ['nom_' + str(i) for i in range(10)] # 명목형 피처"
   ]
  },
  {
   "cell_type": "code",
   "execution_count": 7,
   "id": "elegant-sellers",
   "metadata": {
    "execution": {
     "iopub.execute_input": "2021-05-08T08:04:55.373610Z",
     "iopub.status.busy": "2021-05-08T08:04:55.373069Z",
     "iopub.status.idle": "2021-05-08T08:04:58.670891Z",
     "shell.execute_reply": "2021-05-08T08:04:58.670315Z"
    },
    "papermill": {
     "duration": 3.324522,
     "end_time": "2021-05-08T08:04:58.671028",
     "exception": false,
     "start_time": "2021-05-08T08:04:55.346506",
     "status": "completed"
    },
    "tags": []
   },
   "outputs": [
    {
     "data": {
      "text/plain": [
       "<500000x16276 sparse matrix of type '<class 'numpy.float64'>'\n",
       "\twith 5000000 stored elements in Compressed Sparse Row format>"
      ]
     },
     "execution_count": 7,
     "metadata": {},
     "output_type": "execute_result"
    }
   ],
   "source": [
    "from sklearn.preprocessing import OneHotEncoder\n",
    "\n",
    "nom_onehot_encoder = OneHotEncoder() # OneHotEncoder 객체 생성\n",
    "# 원-핫 인코딩 적용\n",
    "encoded_nom_matrix = nom_onehot_encoder.fit_transform(all_data[nom_features])\n",
    "\n",
    "encoded_nom_matrix"
   ]
  },
  {
   "cell_type": "code",
   "execution_count": 8,
   "id": "recovered-accuracy",
   "metadata": {
    "execution": {
     "iopub.execute_input": "2021-05-08T08:04:58.744044Z",
     "iopub.status.busy": "2021-05-08T08:04:58.723653Z",
     "iopub.status.idle": "2021-05-08T08:04:58.750011Z",
     "shell.execute_reply": "2021-05-08T08:04:58.749182Z"
    },
    "papermill": {
     "duration": 0.059737,
     "end_time": "2021-05-08T08:04:58.750143",
     "exception": false,
     "start_time": "2021-05-08T08:04:58.690406",
     "status": "completed"
    },
    "tags": []
   },
   "outputs": [],
   "source": [
    "all_data = all_data.drop(nom_features, axis=1) # 기존 명목형 피처 삭제"
   ]
  },
  {
   "cell_type": "markdown",
   "id": "sensitive-uncle",
   "metadata": {
    "papermill": {
     "duration": 0.018534,
     "end_time": "2021-05-08T08:04:58.788242",
     "exception": false,
     "start_time": "2021-05-08T08:04:58.769708",
     "status": "completed"
    },
    "tags": []
   },
   "source": [
    "### 날짜 피처 인코딩"
   ]
  },
  {
   "cell_type": "code",
   "execution_count": 9,
   "id": "above-alfred",
   "metadata": {
    "execution": {
     "iopub.execute_input": "2021-05-08T08:04:58.836230Z",
     "iopub.status.busy": "2021-05-08T08:04:58.835557Z",
     "iopub.status.idle": "2021-05-08T08:04:58.956201Z",
     "shell.execute_reply": "2021-05-08T08:04:58.955707Z"
    },
    "papermill": {
     "duration": 0.148914,
     "end_time": "2021-05-08T08:04:58.956323",
     "exception": false,
     "start_time": "2021-05-08T08:04:58.807409",
     "status": "completed"
    },
    "tags": []
   },
   "outputs": [
    {
     "data": {
      "text/plain": [
       "<500000x19 sparse matrix of type '<class 'numpy.float64'>'\n",
       "\twith 1000000 stored elements in Compressed Sparse Row format>"
      ]
     },
     "execution_count": 9,
     "metadata": {},
     "output_type": "execute_result"
    }
   ],
   "source": [
    "date_features  = ['day', 'month'] # 날짜 피처\n",
    "\n",
    "date_onehot_encoder = OneHotEncoder() # OneHotEncoder 객체 생성\n",
    "# 원-핫 인코딩 적용\n",
    "encoded_date_matrix = date_onehot_encoder.fit_transform(all_data[date_features])\n",
    "\n",
    "all_data = all_data.drop(date_features, axis=1) # 기존 날짜 피처 삭제\n",
    "\n",
    "encoded_date_matrix"
   ]
  },
  {
   "cell_type": "markdown",
   "id": "worth-tragedy",
   "metadata": {
    "papermill": {
     "duration": 0.01891,
     "end_time": "2021-05-08T08:04:58.994365",
     "exception": false,
     "start_time": "2021-05-08T08:04:58.975455",
     "status": "completed"
    },
    "tags": []
   },
   "source": [
    "## 4.4.2 피처 엔지니어링 II : 피처 스케일링"
   ]
  },
  {
   "cell_type": "markdown",
   "id": "amino-darwin",
   "metadata": {
    "papermill": {
     "duration": 0.018329,
     "end_time": "2021-05-08T08:04:59.032284",
     "exception": false,
     "start_time": "2021-05-08T08:04:59.013955",
     "status": "completed"
    },
    "tags": []
   },
   "source": [
    "### 순서형 피처 스케일링"
   ]
  },
  {
   "cell_type": "code",
   "execution_count": 10,
   "id": "polish-complement",
   "metadata": {
    "execution": {
     "iopub.execute_input": "2021-05-08T08:04:59.084377Z",
     "iopub.status.busy": "2021-05-08T08:04:59.083761Z",
     "iopub.status.idle": "2021-05-08T08:04:59.493783Z",
     "shell.execute_reply": "2021-05-08T08:04:59.493036Z"
    },
    "papermill": {
     "duration": 0.442241,
     "end_time": "2021-05-08T08:04:59.493930",
     "exception": false,
     "start_time": "2021-05-08T08:04:59.051689",
     "status": "completed"
    },
    "tags": []
   },
   "outputs": [],
   "source": [
    "from sklearn.preprocessing import MinMaxScaler\n",
    "\n",
    "ord_features = ['ord_' + str(i) for i in range(6)] # 순서형 피처\n",
    "# min-max 정규화\n",
    "all_data[ord_features] = MinMaxScaler().fit_transform(all_data[ord_features])"
   ]
  },
  {
   "cell_type": "markdown",
   "id": "thrown-idaho",
   "metadata": {
    "papermill": {
     "duration": 0.028782,
     "end_time": "2021-05-08T08:04:59.550656",
     "exception": false,
     "start_time": "2021-05-08T08:04:59.521874",
     "status": "completed"
    },
    "tags": []
   },
   "source": [
    "### 인코딩 및 스케일링된 피처 합치기"
   ]
  },
  {
   "cell_type": "code",
   "execution_count": 11,
   "id": "incoming-color",
   "metadata": {
    "execution": {
     "iopub.execute_input": "2021-05-08T08:04:59.613259Z",
     "iopub.status.busy": "2021-05-08T08:04:59.612006Z",
     "iopub.status.idle": "2021-05-08T08:05:00.112199Z",
     "shell.execute_reply": "2021-05-08T08:05:00.111444Z"
    },
    "papermill": {
     "duration": 0.53355,
     "end_time": "2021-05-08T08:05:00.112349",
     "exception": false,
     "start_time": "2021-05-08T08:04:59.578799",
     "status": "completed"
    },
    "tags": []
   },
   "outputs": [],
   "source": [
    "from scipy import sparse\n",
    "\n",
    "# 인코딩 및 스케일링된 피처 합치기\n",
    "all_data_sprs = sparse.hstack([sparse.csr_matrix(all_data),\n",
    "                               encoded_nom_matrix,\n",
    "                               encoded_date_matrix],\n",
    "                              format='csr')"
   ]
  },
  {
   "cell_type": "code",
   "execution_count": 12,
   "id": "clinical-monte",
   "metadata": {
    "execution": {
     "iopub.execute_input": "2021-05-08T08:05:00.175754Z",
     "iopub.status.busy": "2021-05-08T08:05:00.174914Z",
     "iopub.status.idle": "2021-05-08T08:05:00.182278Z",
     "shell.execute_reply": "2021-05-08T08:05:00.181663Z"
    },
    "papermill": {
     "duration": 0.041446,
     "end_time": "2021-05-08T08:05:00.182428",
     "exception": false,
     "start_time": "2021-05-08T08:05:00.140982",
     "status": "completed"
    },
    "tags": []
   },
   "outputs": [
    {
     "data": {
      "text/plain": [
       "<500000x16306 sparse matrix of type '<class 'numpy.float64'>'\n",
       "\twith 9163718 stored elements in Compressed Sparse Row format>"
      ]
     },
     "execution_count": 12,
     "metadata": {},
     "output_type": "execute_result"
    }
   ],
   "source": [
    "all_data_sprs"
   ]
  },
  {
   "cell_type": "markdown",
   "id": "excellent-color",
   "metadata": {
    "papermill": {
     "duration": 0.029726,
     "end_time": "2021-05-08T08:05:00.242720",
     "exception": false,
     "start_time": "2021-05-08T08:05:00.212994",
     "status": "completed"
    },
    "tags": []
   },
   "source": [
    "### 데이터 나누기"
   ]
  },
  {
   "cell_type": "code",
   "execution_count": 13,
   "id": "complete-throat",
   "metadata": {
    "execution": {
     "iopub.execute_input": "2021-05-08T08:05:00.311548Z",
     "iopub.status.busy": "2021-05-08T08:05:00.311025Z",
     "iopub.status.idle": "2021-05-08T08:05:00.416421Z",
     "shell.execute_reply": "2021-05-08T08:05:00.415840Z"
    },
    "papermill": {
     "duration": 0.142839,
     "end_time": "2021-05-08T08:05:00.416542",
     "exception": false,
     "start_time": "2021-05-08T08:05:00.273703",
     "status": "completed"
    },
    "tags": []
   },
   "outputs": [],
   "source": [
    "num_train = train.shape[0] # 훈련 데이터 개수\n",
    "\n",
    "# 훈련 데이터와 테스트 데이터 나누기\n",
    "X_train = all_data_sprs[:num_train]\n",
    "X_test = all_data_sprs[num_train:]\n",
    "\n",
    "y = train['target']"
   ]
  },
  {
   "cell_type": "code",
   "execution_count": 14,
   "id": "funny-market",
   "metadata": {
    "execution": {
     "iopub.execute_input": "2021-05-08T08:05:00.462908Z",
     "iopub.status.busy": "2021-05-08T08:05:00.462242Z",
     "iopub.status.idle": "2021-05-08T08:05:00.942965Z",
     "shell.execute_reply": "2021-05-08T08:05:00.942321Z"
    },
    "papermill": {
     "duration": 0.506466,
     "end_time": "2021-05-08T08:05:00.943274",
     "exception": false,
     "start_time": "2021-05-08T08:05:00.436808",
     "status": "completed"
    },
    "tags": []
   },
   "outputs": [],
   "source": [
    "from sklearn.model_selection import train_test_split\n",
    "\n",
    "# 훈련 데이터, 검증 데이터 분리\n",
    "X_train, X_valid, y_train, y_valid = train_test_split(X_train, y,\n",
    "                                                      test_size=0.1,\n",
    "                                                      stratify=y,\n",
    "                                                      random_state=10)"
   ]
  },
  {
   "cell_type": "markdown",
   "id": "hourly-bhutan",
   "metadata": {
    "papermill": {
     "duration": 0.034686,
     "end_time": "2021-05-08T08:05:01.009355",
     "exception": false,
     "start_time": "2021-05-08T08:05:00.974669",
     "status": "completed"
    },
    "tags": []
   },
   "source": [
    "## 4.4.3 하이퍼 파라미터 최적화"
   ]
  },
  {
   "cell_type": "code",
   "execution_count": 15,
   "id": "departmental-motel",
   "metadata": {
    "execution": {
     "iopub.execute_input": "2021-05-08T08:05:01.084409Z",
     "iopub.status.busy": "2021-05-08T08:05:01.083727Z",
     "iopub.status.idle": "2021-05-08T08:11:10.104107Z",
     "shell.execute_reply": "2021-05-08T08:11:10.104501Z"
    },
    "papermill": {
     "duration": 369.061756,
     "end_time": "2021-05-08T08:11:10.104660",
     "exception": false,
     "start_time": "2021-05-08T08:05:01.042904",
     "status": "completed"
    },
    "tags": []
   },
   "outputs": [
    {
     "name": "stdout",
     "output_type": "stream",
     "text": [
      "최적 하이퍼 파라미터: {'C': 0.125, 'max_iter': 800, 'random_state': 42, 'solver': 'liblinear'}\n",
      "CPU times: user 8min 33s, sys: 15min 20s, total: 23min 53s\n",
      "Wall time: 6min 8s\n"
     ]
    }
   ],
   "source": [
    "%%time\n",
    "\n",
    "from sklearn.model_selection import GridSearchCV\n",
    "from sklearn.linear_model import LogisticRegression\n",
    "\n",
    "# 로지스틱 회귀 모델 생성\n",
    "logistic_model = LogisticRegression()\n",
    "\n",
    "# 하이퍼 파라미터 값 목록\n",
    "lr_params = {'C':[0.1, 0.125, 0.2], 'max_iter':[800, 900, 1000], \n",
    "             'solver':['liblinear'], 'random_state':[42]}\n",
    "\n",
    "# 그리드서치 객체 생성\n",
    "gridsearch_logistic_model = GridSearchCV(estimator=logistic_model,\n",
    "                                         param_grid=lr_params,\n",
    "                                         scoring='roc_auc',\n",
    "                                         cv=5)\n",
    "# 그리드서치 수행\n",
    "gridsearch_logistic_model.fit(X_train, y_train)\n",
    "\n",
    "print('최적 하이퍼 파라미터:', gridsearch_logistic_model.best_params_)"
   ]
  },
  {
   "cell_type": "markdown",
   "id": "continuous-fortune",
   "metadata": {
    "papermill": {
     "duration": 0.020618,
     "end_time": "2021-05-08T08:11:10.145520",
     "exception": false,
     "start_time": "2021-05-08T08:11:10.124902",
     "status": "completed"
    },
    "tags": []
   },
   "source": [
    "## 4.4.4 모델 성능 검증"
   ]
  },
  {
   "cell_type": "code",
   "execution_count": 16,
   "id": "complimentary-vancouver",
   "metadata": {
    "execution": {
     "iopub.execute_input": "2021-05-08T08:11:10.192821Z",
     "iopub.status.busy": "2021-05-08T08:11:10.192170Z",
     "iopub.status.idle": "2021-05-08T08:11:10.195346Z",
     "shell.execute_reply": "2021-05-08T08:11:10.194953Z"
    },
    "papermill": {
     "duration": 0.030302,
     "end_time": "2021-05-08T08:11:10.195457",
     "exception": false,
     "start_time": "2021-05-08T08:11:10.165155",
     "status": "completed"
    },
    "tags": []
   },
   "outputs": [],
   "source": [
    "y_valid_preds = gridsearch_logistic_model.predict_proba(X_valid)[:, 1]"
   ]
  },
  {
   "cell_type": "code",
   "execution_count": 17,
   "id": "broke-transparency",
   "metadata": {
    "execution": {
     "iopub.execute_input": "2021-05-08T08:11:10.239521Z",
     "iopub.status.busy": "2021-05-08T08:11:10.238911Z",
     "iopub.status.idle": "2021-05-08T08:11:10.256865Z",
     "shell.execute_reply": "2021-05-08T08:11:10.255953Z"
    },
    "papermill": {
     "duration": 0.042022,
     "end_time": "2021-05-08T08:11:10.257019",
     "exception": false,
     "start_time": "2021-05-08T08:11:10.214997",
     "status": "completed"
    },
    "tags": []
   },
   "outputs": [
    {
     "name": "stdout",
     "output_type": "stream",
     "text": [
      "검증 데이터 ROC AUC : 0.8045293812116059\n"
     ]
    }
   ],
   "source": [
    "from sklearn.metrics import roc_auc_score # ROC AUC 점수 계산 함수\n",
    "\n",
    "# 검증 데이터 ROC AUC\n",
    "roc_auc = roc_auc_score(y_valid, y_valid_preds)\n",
    "\n",
    "print(f'검증 데이터 ROC AUC : {roc_auc}')"
   ]
  },
  {
   "cell_type": "markdown",
   "id": "turkish-examination",
   "metadata": {
    "papermill": {
     "duration": 0.02992,
     "end_time": "2021-05-08T08:11:10.317933",
     "exception": false,
     "start_time": "2021-05-08T08:11:10.288013",
     "status": "completed"
    },
    "tags": []
   },
   "source": [
    "## 4.4.5 예측 및 결과 제출"
   ]
  },
  {
   "cell_type": "code",
   "execution_count": 18,
   "id": "convertible-chemistry",
   "metadata": {
    "execution": {
     "iopub.execute_input": "2021-05-08T08:11:10.384222Z",
     "iopub.status.busy": "2021-05-08T08:11:10.383670Z",
     "iopub.status.idle": "2021-05-08T08:11:11.137704Z",
     "shell.execute_reply": "2021-05-08T08:11:11.138120Z"
    },
    "papermill": {
     "duration": 0.789541,
     "end_time": "2021-05-08T08:11:11.138276",
     "exception": false,
     "start_time": "2021-05-08T08:11:10.348735",
     "status": "completed"
    },
    "tags": []
   },
   "outputs": [],
   "source": [
    "# 타깃 값 1일 확률 예측\n",
    "y_preds = gridsearch_logistic_model.best_estimator_.predict_proba(X_test)[:,1]\n",
    "\n",
    "# 제출 파일 생성\n",
    "submission['target'] = y_preds\n",
    "submission.to_csv('submission.csv')"
   ]
  }
 ],
 "metadata": {
  "kernelspec": {
   "display_name": "Python 3",
   "language": "python",
   "name": "python3"
  },
  "language_info": {
   "codemirror_mode": {
    "name": "ipython",
    "version": 3
   },
   "file_extension": ".py",
   "mimetype": "text/x-python",
   "name": "python",
   "nbconvert_exporter": "python",
   "pygments_lexer": "ipython3",
   "version": "3.7.10"
  },
  "papermill": {
   "default_parameters": {},
   "duration": 396.481533,
   "end_time": "2021-05-08T08:11:12.999349",
   "environment_variables": {},
   "exception": null,
   "input_path": "__notebook__.ipynb",
   "output_path": "__notebook__.ipynb",
   "parameters": {},
   "start_time": "2021-05-08T08:04:36.517816",
   "version": "2.3.3"
  }
 },
 "nbformat": 4,
 "nbformat_minor": 5
}
