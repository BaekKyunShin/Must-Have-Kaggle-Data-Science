{
 "cells": [
  {
   "cell_type": "markdown",
   "metadata": {
    "papermill": {
     "duration": 0.018575,
     "end_time": "2021-02-02T11:05:55.240234",
     "exception": false,
     "start_time": "2021-02-02T11:05:55.221659",
     "status": "completed"
    },
    "tags": []
   },
   "source": [
    "# 범주형 데이터 이진분류 경진대회 모델 성능 향상시키기"
   ]
  },
  {
   "cell_type": "markdown",
   "metadata": {
    "papermill": {
     "duration": 0.016126,
     "end_time": "2021-02-02T11:05:55.273312",
     "exception": false,
     "start_time": "2021-02-02T11:05:55.257186",
     "status": "completed"
    },
    "tags": []
   },
   "source": [
    "- [범주형 데이터 이진분류 경진대회 링크](https://www.kaggle.com/c/cat-in-the-dat/)\n",
    "- [모델링 노트북 참고 링크](https://www.kaggle.com/dkomyagin/cat-in-the-dat-0-80285-private-lb-solution)"
   ]
  },
  {
   "cell_type": "code",
   "execution_count": 1,
   "metadata": {
    "execution": {
     "iopub.execute_input": "2021-02-02T11:05:55.315052Z",
     "iopub.status.busy": "2021-02-02T11:05:55.314332Z",
     "iopub.status.idle": "2021-02-02T11:05:58.385459Z",
     "shell.execute_reply": "2021-02-02T11:05:58.386201Z"
    },
    "papermill": {
     "duration": 3.09696,
     "end_time": "2021-02-02T11:05:58.386460",
     "exception": false,
     "start_time": "2021-02-02T11:05:55.289500",
     "status": "completed"
    },
    "tags": []
   },
   "outputs": [],
   "source": [
    "import pandas as pd\n",
    "\n",
    "train = pd.read_csv('/kaggle/input/cat-in-the-dat/train.csv', index_col='id')\n",
    "test = pd.read_csv('/kaggle/input/cat-in-the-dat/test.csv', index_col='id')\n",
    "submission = pd.read_csv('/kaggle/input/cat-in-the-dat/sample_submission.csv', index_col='id')"
   ]
  },
  {
   "cell_type": "code",
   "execution_count": 2,
   "metadata": {
    "execution": {
     "iopub.execute_input": "2021-02-02T11:05:58.424318Z",
     "iopub.status.busy": "2021-02-02T11:05:58.423516Z",
     "iopub.status.idle": "2021-02-02T11:05:59.036427Z",
     "shell.execute_reply": "2021-02-02T11:05:59.035549Z"
    },
    "papermill": {
     "duration": 0.632585,
     "end_time": "2021-02-02T11:05:59.036570",
     "exception": false,
     "start_time": "2021-02-02T11:05:58.403985",
     "status": "completed"
    },
    "tags": []
   },
   "outputs": [],
   "source": [
    "# 훈련 데이터와 테스트 데이터 합치기\n",
    "all_data = pd.concat([train, test])\n",
    "all_data = all_data.drop('target', axis=1) # 타깃 값 제거"
   ]
  },
  {
   "cell_type": "markdown",
   "metadata": {
    "papermill": {
     "duration": 0.016306,
     "end_time": "2021-02-02T11:05:59.069410",
     "exception": false,
     "start_time": "2021-02-02T11:05:59.053104",
     "status": "completed"
    },
    "tags": []
   },
   "source": [
    "## 피처 특성에 맞는 인코딩 적용"
   ]
  },
  {
   "cell_type": "markdown",
   "metadata": {
    "papermill": {
     "duration": 0.016331,
     "end_time": "2021-02-02T11:05:59.102366",
     "exception": false,
     "start_time": "2021-02-02T11:05:59.086035",
     "status": "completed"
    },
    "tags": []
   },
   "source": [
    "### 이진 피처 인코딩"
   ]
  },
  {
   "cell_type": "code",
   "execution_count": 3,
   "metadata": {
    "execution": {
     "iopub.execute_input": "2021-02-02T11:05:59.198142Z",
     "iopub.status.busy": "2021-02-02T11:05:59.150593Z",
     "iopub.status.idle": "2021-02-02T11:05:59.452915Z",
     "shell.execute_reply": "2021-02-02T11:05:59.452235Z"
    },
    "papermill": {
     "duration": 0.333756,
     "end_time": "2021-02-02T11:05:59.453029",
     "exception": false,
     "start_time": "2021-02-02T11:05:59.119273",
     "status": "completed"
    },
    "tags": []
   },
   "outputs": [],
   "source": [
    "all_data['bin_3'] = all_data['bin_3'].map({'F':0, 'T':1})\n",
    "all_data['bin_4'] = all_data['bin_4'].map({'N':0, 'Y':1})"
   ]
  },
  {
   "cell_type": "markdown",
   "metadata": {
    "papermill": {
     "duration": 0.016307,
     "end_time": "2021-02-02T11:05:59.486401",
     "exception": false,
     "start_time": "2021-02-02T11:05:59.470094",
     "status": "completed"
    },
    "tags": []
   },
   "source": [
    "### 순서형 피처 인코딩"
   ]
  },
  {
   "cell_type": "code",
   "execution_count": 4,
   "metadata": {
    "execution": {
     "iopub.execute_input": "2021-02-02T11:05:59.590256Z",
     "iopub.status.busy": "2021-02-02T11:05:59.588917Z",
     "iopub.status.idle": "2021-02-02T11:05:59.841681Z",
     "shell.execute_reply": "2021-02-02T11:05:59.841066Z"
    },
    "papermill": {
     "duration": 0.338827,
     "end_time": "2021-02-02T11:05:59.841795",
     "exception": false,
     "start_time": "2021-02-02T11:05:59.502968",
     "status": "completed"
    },
    "tags": []
   },
   "outputs": [],
   "source": [
    "ord1dict = {'Novice':0, 'Contributor':1, \n",
    "            'Expert':2, 'Master':3, 'Grandmaster':4}\n",
    "ord2dict = {'Freezing':0, 'Cold':1, 'Warm':2, \n",
    "            'Hot':3, 'Boiling Hot':4, 'Lava Hot':5}\n",
    "\n",
    "all_data['ord_1'] = all_data['ord_1'].map(ord1dict)\n",
    "all_data['ord_2'] = all_data['ord_2'].map(ord2dict)"
   ]
  },
  {
   "cell_type": "code",
   "execution_count": 5,
   "metadata": {
    "execution": {
     "iopub.execute_input": "2021-02-02T11:05:59.883364Z",
     "iopub.status.busy": "2021-02-02T11:05:59.882433Z",
     "iopub.status.idle": "2021-02-02T11:06:02.384447Z",
     "shell.execute_reply": "2021-02-02T11:06:02.383776Z"
    },
    "papermill": {
     "duration": 2.525963,
     "end_time": "2021-02-02T11:06:02.384599",
     "exception": false,
     "start_time": "2021-02-02T11:05:59.858636",
     "status": "completed"
    },
    "tags": []
   },
   "outputs": [
    {
     "name": "stdout",
     "output_type": "stream",
     "text": [
      "ord_3\n",
      "['a' 'b' 'c' 'd' 'e' 'f' 'g' 'h' 'i' 'j' 'k' 'l' 'm' 'n' 'o']\n",
      "ord_4\n",
      "['A' 'B' 'C' 'D' 'E' 'F' 'G' 'H' 'I' 'J' 'K' 'L' 'M' 'N' 'O' 'P' 'Q' 'R'\n",
      " 'S' 'T' 'U' 'V' 'W' 'X' 'Y' 'Z']\n",
      "ord_5\n",
      "['AP' 'Ai' 'Aj' 'BA' 'BE' 'Bb' 'Bd' 'Bn' 'CL' 'CM' 'CU' 'CZ' 'Cl' 'DH'\n",
      " 'DN' 'Dc' 'Dx' 'Ed' 'Eg' 'Er' 'FI' 'Fd' 'Fo' 'GD' 'GJ' 'Gb' 'Gx' 'Hj'\n",
      " 'IK' 'Id' 'JX' 'Jc' 'Jf' 'Jt' 'KR' 'KZ' 'Kf' 'Kq' 'LE' 'MC' 'MO' 'MV'\n",
      " 'Mf' 'Ml' 'Mx' 'NV' 'Nf' 'Nk' 'OR' 'Ob' 'Os' 'PA' 'PQ' 'PZ' 'Ps' 'QM'\n",
      " 'Qb' 'Qh' 'Qo' 'RG' 'RL' 'RP' 'Rm' 'Ry' 'SB' 'Sc' 'TR' 'TZ' 'To' 'UO'\n",
      " 'Uk' 'Uu' 'Vf' 'Vx' 'WE' 'Wc' 'Wv' 'XI' 'Xh' 'Xi' 'YC' 'Yb' 'Ye' 'ZR'\n",
      " 'ZS' 'Zc' 'Zq' 'aF' 'aM' 'aO' 'aP' 'ac' 'av' 'bF' 'bJ' 'be' 'cA' 'cG'\n",
      " 'cW' 'ck' 'cp' 'dB' 'dE' 'dN' 'dO' 'dP' 'dQ' 'dZ' 'dh' 'eG' 'eQ' 'eb'\n",
      " 'eg' 'ek' 'ex' 'fO' 'fh' 'gJ' 'gM' 'hL' 'hT' 'hh' 'hp' 'iT' 'ih' 'jS'\n",
      " 'jV' 'je' 'jp' 'kC' 'kE' 'kK' 'kL' 'kU' 'kW' 'ke' 'kr' 'kw' 'lF' 'lL'\n",
      " 'll' 'lx' 'mb' 'mc' 'mm' 'nX' 'nh' 'oC' 'oG' 'oH' 'oK' 'od' 'on' 'pa'\n",
      " 'ps' 'qA' 'qJ' 'qK' 'qP' 'qX' 'qo' 'qv' 'qw' 'rZ' 'ri' 'rp' 'sD' 'sV'\n",
      " 'sY' 'sn' 'su' 'tM' 'tP' 'tv' 'uJ' 'uS' 'ud' 'us' 'ut' 'ux' 'uy' 'vK'\n",
      " 'vq' 'vy' 'wu' 'wy' 'xP' 'xy' 'yN' 'yY' 'yc' 'zU']\n"
     ]
    }
   ],
   "source": [
    "from sklearn.preprocessing import OrdinalEncoder\n",
    "\n",
    "ord_345 = ['ord_3', 'ord_4', 'ord_5']\n",
    "\n",
    "ord_encoder = OrdinalEncoder() # OrdinalEncoder 객체 생성\n",
    "# ordinal 인코딩 적용\n",
    "all_data[ord_345] = ord_encoder.fit_transform(all_data[ord_345])\n",
    "\n",
    "# 피처별 인코딩 순서 출력\n",
    "for col, categories in zip(ord_345, ord_encoder.categories_):\n",
    "    print(col)\n",
    "    print(categories)"
   ]
  },
  {
   "cell_type": "markdown",
   "metadata": {
    "papermill": {
     "duration": 0.017767,
     "end_time": "2021-02-02T11:06:02.420508",
     "exception": false,
     "start_time": "2021-02-02T11:06:02.402741",
     "status": "completed"
    },
    "tags": []
   },
   "source": [
    "### 명목형 피처 인코딩"
   ]
  },
  {
   "cell_type": "code",
   "execution_count": 6,
   "metadata": {
    "execution": {
     "iopub.execute_input": "2021-02-02T11:06:02.462483Z",
     "iopub.status.busy": "2021-02-02T11:06:02.461444Z",
     "iopub.status.idle": "2021-02-02T11:06:02.465244Z",
     "shell.execute_reply": "2021-02-02T11:06:02.464487Z"
    },
    "papermill": {
     "duration": 0.026913,
     "end_time": "2021-02-02T11:06:02.465374",
     "exception": false,
     "start_time": "2021-02-02T11:06:02.438461",
     "status": "completed"
    },
    "tags": []
   },
   "outputs": [],
   "source": [
    "nom_cols = ['nom_' + str(i) for i in range(10)] # 명목형 피처"
   ]
  },
  {
   "cell_type": "code",
   "execution_count": 7,
   "metadata": {
    "execution": {
     "iopub.execute_input": "2021-02-02T11:06:02.508689Z",
     "iopub.status.busy": "2021-02-02T11:06:02.507935Z",
     "iopub.status.idle": "2021-02-02T11:06:05.293762Z",
     "shell.execute_reply": "2021-02-02T11:06:05.294301Z"
    },
    "papermill": {
     "duration": 2.811162,
     "end_time": "2021-02-02T11:06:05.294449",
     "exception": false,
     "start_time": "2021-02-02T11:06:02.483287",
     "status": "completed"
    },
    "tags": []
   },
   "outputs": [
    {
     "data": {
      "text/plain": [
       "<500000x16276 sparse matrix of type '<class 'numpy.float64'>'\n",
       "\twith 5000000 stored elements in Compressed Sparse Row format>"
      ]
     },
     "execution_count": 7,
     "metadata": {},
     "output_type": "execute_result"
    }
   ],
   "source": [
    "from sklearn.preprocessing import OneHotEncoder\n",
    "\n",
    "nom_onehot_encoder = OneHotEncoder() # OneHotEncoder 객체 생성\n",
    "# 원-핫 인코딩 적용\n",
    "encoded_nom_matrix = nom_onehot_encoder.fit_transform(all_data[nom_cols])\n",
    "\n",
    "all_data = all_data.drop(nom_cols, axis=1) # 기존 명목형 피처 삭제\n",
    "\n",
    "encoded_nom_matrix"
   ]
  },
  {
   "cell_type": "markdown",
   "metadata": {
    "papermill": {
     "duration": 0.017419,
     "end_time": "2021-02-02T11:06:05.330156",
     "exception": false,
     "start_time": "2021-02-02T11:06:05.312737",
     "status": "completed"
    },
    "tags": []
   },
   "source": [
    "### 날짜 피처 인코딩"
   ]
  },
  {
   "cell_type": "code",
   "execution_count": 8,
   "metadata": {
    "execution": {
     "iopub.execute_input": "2021-02-02T11:06:05.375803Z",
     "iopub.status.busy": "2021-02-02T11:06:05.375049Z",
     "iopub.status.idle": "2021-02-02T11:06:05.516263Z",
     "shell.execute_reply": "2021-02-02T11:06:05.515710Z"
    },
    "papermill": {
     "duration": 0.168359,
     "end_time": "2021-02-02T11:06:05.516389",
     "exception": false,
     "start_time": "2021-02-02T11:06:05.348030",
     "status": "completed"
    },
    "tags": []
   },
   "outputs": [
    {
     "data": {
      "text/plain": [
       "<500000x19 sparse matrix of type '<class 'numpy.float64'>'\n",
       "\twith 1000000 stored elements in Compressed Sparse Row format>"
      ]
     },
     "execution_count": 8,
     "metadata": {},
     "output_type": "execute_result"
    }
   ],
   "source": [
    "date_cols  = ['day', 'month'] # 날짜 피처\n",
    "\n",
    "date_onehot_encoder = OneHotEncoder() # OneHotEncoder 객체 생성\n",
    "# 원-핫 인코딩 적용\n",
    "encoded_date_matrix = date_onehot_encoder.fit_transform(all_data[date_cols])\n",
    "\n",
    "all_data = all_data.drop(date_cols, axis=1) # 기존 날짜 피처 삭제\n",
    "\n",
    "encoded_date_matrix"
   ]
  },
  {
   "cell_type": "markdown",
   "metadata": {
    "papermill": {
     "duration": 0.018279,
     "end_time": "2021-02-02T11:06:05.553366",
     "exception": false,
     "start_time": "2021-02-02T11:06:05.535087",
     "status": "completed"
    },
    "tags": []
   },
   "source": [
    "## 피처 스케일링"
   ]
  },
  {
   "cell_type": "markdown",
   "metadata": {
    "papermill": {
     "duration": 0.01825,
     "end_time": "2021-02-02T11:06:05.590324",
     "exception": false,
     "start_time": "2021-02-02T11:06:05.572074",
     "status": "completed"
    },
    "tags": []
   },
   "source": [
    "### 순서형 피처에 스케일링 적용"
   ]
  },
  {
   "cell_type": "code",
   "execution_count": 9,
   "metadata": {
    "execution": {
     "iopub.execute_input": "2021-02-02T11:06:05.647983Z",
     "iopub.status.busy": "2021-02-02T11:06:05.646513Z",
     "iopub.status.idle": "2021-02-02T11:06:06.534105Z",
     "shell.execute_reply": "2021-02-02T11:06:06.533467Z"
    },
    "papermill": {
     "duration": 0.925516,
     "end_time": "2021-02-02T11:06:06.534224",
     "exception": false,
     "start_time": "2021-02-02T11:06:05.608708",
     "status": "completed"
    },
    "tags": []
   },
   "outputs": [],
   "source": [
    "from sklearn.preprocessing import MinMaxScaler\n",
    "\n",
    "ord_cols = ['ord_' + str(i) for i in range(6)] # 순서형 피처\n",
    "# min-max 정규화\n",
    "all_data[ord_cols] = MinMaxScaler().fit_transform(all_data[ord_cols])"
   ]
  },
  {
   "cell_type": "markdown",
   "metadata": {
    "papermill": {
     "duration": 0.018235,
     "end_time": "2021-02-02T11:06:06.571283",
     "exception": false,
     "start_time": "2021-02-02T11:06:06.553048",
     "status": "completed"
    },
    "tags": []
   },
   "source": [
    "### 인코딩, 피처 스케일링된 데이터 합치기"
   ]
  },
  {
   "cell_type": "code",
   "execution_count": 10,
   "metadata": {
    "execution": {
     "iopub.execute_input": "2021-02-02T11:06:06.617382Z",
     "iopub.status.busy": "2021-02-02T11:06:06.615154Z",
     "iopub.status.idle": "2021-02-02T11:06:07.169047Z",
     "shell.execute_reply": "2021-02-02T11:06:07.167761Z"
    },
    "papermill": {
     "duration": 0.579438,
     "end_time": "2021-02-02T11:06:07.169182",
     "exception": false,
     "start_time": "2021-02-02T11:06:06.589744",
     "status": "completed"
    },
    "tags": []
   },
   "outputs": [],
   "source": [
    "import scipy\n",
    "\n",
    "# 인코딩, 피처 스케일링된 데이터 합치기\n",
    "all_data_sprs = scipy.sparse.hstack([scipy.sparse.csr_matrix(all_data),\n",
    "                                     encoded_nom_matrix,\n",
    "                                     encoded_date_matrix],\n",
    "                                    format='csr')"
   ]
  },
  {
   "cell_type": "code",
   "execution_count": 11,
   "metadata": {
    "execution": {
     "iopub.execute_input": "2021-02-02T11:06:07.212492Z",
     "iopub.status.busy": "2021-02-02T11:06:07.211763Z",
     "iopub.status.idle": "2021-02-02T11:06:07.216497Z",
     "shell.execute_reply": "2021-02-02T11:06:07.215864Z"
    },
    "papermill": {
     "duration": 0.028775,
     "end_time": "2021-02-02T11:06:07.216621",
     "exception": false,
     "start_time": "2021-02-02T11:06:07.187846",
     "status": "completed"
    },
    "tags": []
   },
   "outputs": [
    {
     "data": {
      "text/plain": [
       "<500000x16306 sparse matrix of type '<class 'numpy.float64'>'\n",
       "\twith 9163718 stored elements in Compressed Sparse Row format>"
      ]
     },
     "execution_count": 11,
     "metadata": {},
     "output_type": "execute_result"
    }
   ],
   "source": [
    "all_data_sprs"
   ]
  },
  {
   "cell_type": "markdown",
   "metadata": {
    "papermill": {
     "duration": 0.018781,
     "end_time": "2021-02-02T11:06:07.254722",
     "exception": false,
     "start_time": "2021-02-02T11:06:07.235941",
     "status": "completed"
    },
    "tags": []
   },
   "source": [
    "## 하이퍼 파라미터 튜닝 및 모델 훈련/제출"
   ]
  },
  {
   "cell_type": "markdown",
   "metadata": {
    "papermill": {
     "duration": 0.018892,
     "end_time": "2021-02-02T11:06:07.292727",
     "exception": false,
     "start_time": "2021-02-02T11:06:07.273835",
     "status": "completed"
    },
    "tags": []
   },
   "source": [
    "### 훈련 데이터와 테스트 데이터 나누기"
   ]
  },
  {
   "cell_type": "code",
   "execution_count": 12,
   "metadata": {
    "execution": {
     "iopub.execute_input": "2021-02-02T11:06:07.336715Z",
     "iopub.status.busy": "2021-02-02T11:06:07.336038Z",
     "iopub.status.idle": "2021-02-02T11:06:07.422096Z",
     "shell.execute_reply": "2021-02-02T11:06:07.422654Z"
    },
    "papermill": {
     "duration": 0.111,
     "end_time": "2021-02-02T11:06:07.422823",
     "exception": false,
     "start_time": "2021-02-02T11:06:07.311823",
     "status": "completed"
    },
    "tags": []
   },
   "outputs": [],
   "source": [
    "num_train = train.shape[0] # 훈련 데이터 개수\n",
    "\n",
    "# 훈련 데이터와 테스트 데이터 나누기\n",
    "X_train = all_data_sprs[:num_train]\n",
    "X_test = all_data_sprs[num_train:]\n",
    "\n",
    "y_train = train['target']"
   ]
  },
  {
   "cell_type": "markdown",
   "metadata": {
    "papermill": {
     "duration": 0.019207,
     "end_time": "2021-02-02T11:06:07.462338",
     "exception": false,
     "start_time": "2021-02-02T11:06:07.443131",
     "status": "completed"
    },
    "tags": []
   },
   "source": [
    "### 하이퍼 파라미터 튜닝"
   ]
  },
  {
   "cell_type": "code",
   "execution_count": 13,
   "metadata": {
    "execution": {
     "iopub.execute_input": "2021-02-02T11:06:07.505345Z",
     "iopub.status.busy": "2021-02-02T11:06:07.504508Z",
     "iopub.status.idle": "2021-02-02T11:16:38.063502Z",
     "shell.execute_reply": "2021-02-02T11:16:38.064159Z"
    },
    "papermill": {
     "duration": 630.581741,
     "end_time": "2021-02-02T11:16:38.064337",
     "exception": false,
     "start_time": "2021-02-02T11:06:07.482596",
     "status": "completed"
    },
    "tags": []
   },
   "outputs": [
    {
     "name": "stdout",
     "output_type": "stream",
     "text": [
      "최적 하이퍼 파라미터: {'C': 0.125, 'max_iter': 800, 'random_state': 42, 'solver': 'lbfgs'}\n",
      "CPU times: user 20min 42s, sys: 17.6 s, total: 20min 59s\n",
      "Wall time: 10min 30s\n"
     ]
    }
   ],
   "source": [
    "%%time\n",
    "\n",
    "from sklearn.model_selection import GridSearchCV\n",
    "from sklearn.linear_model import LogisticRegression\n",
    "\n",
    "# 로지스틱 회귀 모델 생성\n",
    "logistic_model = LogisticRegression()\n",
    "\n",
    "# 하이퍼 파라미터 값 목록\n",
    "lr_params = {'C':[0.1, 0.125, 0.2], 'max_iter':[800, 900, 1000], \n",
    "             'solver':['lbfgs'], 'random_state':[42]}\n",
    "\n",
    "# 그리드서치 객체 생성\n",
    "gridsearch_logistic_model = GridSearchCV(estimator=logistic_model,\n",
    "                                         param_grid=lr_params,\n",
    "                                         scoring='roc_auc',\n",
    "                                         cv=5)\n",
    "# 그리드서치 수행\n",
    "gridsearch_logistic_model.fit(X_train, y_train)\n",
    "\n",
    "print('최적 하이퍼 파라미터:', gridsearch_logistic_model.best_params_)"
   ]
  },
  {
   "cell_type": "markdown",
   "metadata": {
    "papermill": {
     "duration": 0.019743,
     "end_time": "2021-02-02T11:16:38.104049",
     "exception": false,
     "start_time": "2021-02-02T11:16:38.084306",
     "status": "completed"
    },
    "tags": []
   },
   "source": [
    "### 예측 및 제출"
   ]
  },
  {
   "cell_type": "code",
   "execution_count": 14,
   "metadata": {
    "execution": {
     "iopub.execute_input": "2021-02-02T11:16:38.151421Z",
     "iopub.status.busy": "2021-02-02T11:16:38.150654Z",
     "iopub.status.idle": "2021-02-02T11:16:39.489072Z",
     "shell.execute_reply": "2021-02-02T11:16:39.489658Z"
    },
    "papermill": {
     "duration": 1.36544,
     "end_time": "2021-02-02T11:16:39.489811",
     "exception": false,
     "start_time": "2021-02-02T11:16:38.124371",
     "status": "completed"
    },
    "tags": []
   },
   "outputs": [],
   "source": [
    "# 타깃 값 1일 확률 예측\n",
    "y_preds = gridsearch_logistic_model.best_estimator_.predict_proba(X_test)[:,1]\n",
    "\n",
    "# 제출 파일 생성\n",
    "submission['target'] = y_preds\n",
    "submission.to_csv('submission.csv')"
   ]
  }
 ],
 "metadata": {
  "kernelspec": {
   "display_name": "Python 3",
   "language": "python",
   "name": "python3"
  },
  "language_info": {
   "codemirror_mode": {
    "name": "ipython",
    "version": 3
   },
   "file_extension": ".py",
   "mimetype": "text/x-python",
   "name": "python",
   "nbconvert_exporter": "python",
   "pygments_lexer": "ipython3",
   "version": "3.7.6"
  },
  "papermill": {
   "duration": 649.688589,
   "end_time": "2021-02-02T11:16:39.618824",
   "environment_variables": {},
   "exception": null,
   "input_path": "__notebook__.ipynb",
   "output_path": "__notebook__.ipynb",
   "parameters": {},
   "start_time": "2021-02-02T11:05:49.930235",
   "version": "2.1.0"
  }
 },
 "nbformat": 4,
 "nbformat_minor": 4
}
