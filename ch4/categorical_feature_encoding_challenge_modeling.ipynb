{
 "cells": [
  {
   "cell_type": "markdown",
   "metadata": {
    "papermill": {
     "duration": 0.017373,
     "end_time": "2021-03-11T14:59:54.287832",
     "exception": false,
     "start_time": "2021-03-11T14:59:54.270459",
     "status": "completed"
    },
    "tags": []
   },
   "source": [
    "# 범주형 데이터 이진분류 경진대회 모델 성능 향상시키기"
   ]
  },
  {
   "cell_type": "markdown",
   "metadata": {
    "papermill": {
     "duration": 0.01545,
     "end_time": "2021-03-11T14:59:54.320237",
     "exception": false,
     "start_time": "2021-03-11T14:59:54.304787",
     "status": "completed"
    },
    "tags": []
   },
   "source": [
    "- [범주형 데이터 이진분류 경진대회 링크](https://www.kaggle.com/c/cat-in-the-dat/)\n",
    "- [모델링 노트북 참고 링크](https://www.kaggle.com/dkomyagin/cat-in-the-dat-0-80285-private-lb-solution)"
   ]
  },
  {
   "cell_type": "code",
   "execution_count": 1,
   "metadata": {
    "execution": {
     "iopub.execute_input": "2021-03-11T14:59:54.361939Z",
     "iopub.status.busy": "2021-03-11T14:59:54.361121Z",
     "iopub.status.idle": "2021-03-11T14:59:57.477459Z",
     "shell.execute_reply": "2021-03-11T14:59:57.476621Z"
    },
    "papermill": {
     "duration": 3.141542,
     "end_time": "2021-03-11T14:59:57.477611",
     "exception": false,
     "start_time": "2021-03-11T14:59:54.336069",
     "status": "completed"
    },
    "tags": []
   },
   "outputs": [],
   "source": [
    "import pandas as pd\n",
    "\n",
    "train = pd.read_csv('/kaggle/input/cat-in-the-dat/train.csv', index_col='id')\n",
    "test = pd.read_csv('/kaggle/input/cat-in-the-dat/test.csv', index_col='id')\n",
    "submission = pd.read_csv('/kaggle/input/cat-in-the-dat/sample_submission.csv', index_col='id')"
   ]
  },
  {
   "cell_type": "code",
   "execution_count": 2,
   "metadata": {
    "execution": {
     "iopub.execute_input": "2021-03-11T14:59:57.517480Z",
     "iopub.status.busy": "2021-03-11T14:59:57.516309Z",
     "iopub.status.idle": "2021-03-11T14:59:58.234774Z",
     "shell.execute_reply": "2021-03-11T14:59:58.233653Z"
    },
    "papermill": {
     "duration": 0.740894,
     "end_time": "2021-03-11T14:59:58.234964",
     "exception": false,
     "start_time": "2021-03-11T14:59:57.494070",
     "status": "completed"
    },
    "tags": []
   },
   "outputs": [],
   "source": [
    "# 훈련 데이터와 테스트 데이터 합치기\n",
    "all_data = pd.concat([train, test])\n",
    "all_data = all_data.drop('target', axis=1) # 타깃 값 제거"
   ]
  },
  {
   "cell_type": "markdown",
   "metadata": {
    "papermill": {
     "duration": 0.015665,
     "end_time": "2021-03-11T14:59:58.267388",
     "exception": false,
     "start_time": "2021-03-11T14:59:58.251723",
     "status": "completed"
    },
    "tags": []
   },
   "source": [
    "## 피처 특성에 맞는 인코딩 적용"
   ]
  },
  {
   "cell_type": "markdown",
   "metadata": {
    "papermill": {
     "duration": 0.015603,
     "end_time": "2021-03-11T14:59:58.298955",
     "exception": false,
     "start_time": "2021-03-11T14:59:58.283352",
     "status": "completed"
    },
    "tags": []
   },
   "source": [
    "### 이진 피처 인코딩"
   ]
  },
  {
   "cell_type": "code",
   "execution_count": 3,
   "metadata": {
    "execution": {
     "iopub.execute_input": "2021-03-11T14:59:58.380493Z",
     "iopub.status.busy": "2021-03-11T14:59:58.353888Z",
     "iopub.status.idle": "2021-03-11T14:59:58.676558Z",
     "shell.execute_reply": "2021-03-11T14:59:58.675938Z"
    },
    "papermill": {
     "duration": 0.361847,
     "end_time": "2021-03-11T14:59:58.676685",
     "exception": false,
     "start_time": "2021-03-11T14:59:58.314838",
     "status": "completed"
    },
    "tags": []
   },
   "outputs": [],
   "source": [
    "all_data['bin_3'] = all_data['bin_3'].map({'F':0, 'T':1})\n",
    "all_data['bin_4'] = all_data['bin_4'].map({'N':0, 'Y':1})"
   ]
  },
  {
   "cell_type": "markdown",
   "metadata": {
    "papermill": {
     "duration": 0.015936,
     "end_time": "2021-03-11T14:59:58.709345",
     "exception": false,
     "start_time": "2021-03-11T14:59:58.693409",
     "status": "completed"
    },
    "tags": []
   },
   "source": [
    "### 순서형 피처 인코딩"
   ]
  },
  {
   "cell_type": "code",
   "execution_count": 4,
   "metadata": {
    "execution": {
     "iopub.execute_input": "2021-03-11T14:59:58.824832Z",
     "iopub.status.busy": "2021-03-11T14:59:58.823926Z",
     "iopub.status.idle": "2021-03-11T14:59:59.096424Z",
     "shell.execute_reply": "2021-03-11T14:59:59.095726Z"
    },
    "papermill": {
     "duration": 0.370993,
     "end_time": "2021-03-11T14:59:59.096562",
     "exception": false,
     "start_time": "2021-03-11T14:59:58.725569",
     "status": "completed"
    },
    "tags": []
   },
   "outputs": [],
   "source": [
    "ord1dict = {'Novice':0, 'Contributor':1, \n",
    "            'Expert':2, 'Master':3, 'Grandmaster':4}\n",
    "ord2dict = {'Freezing':0, 'Cold':1, 'Warm':2, \n",
    "            'Hot':3, 'Boiling Hot':4, 'Lava Hot':5}\n",
    "\n",
    "all_data['ord_1'] = all_data['ord_1'].map(ord1dict)\n",
    "all_data['ord_2'] = all_data['ord_2'].map(ord2dict)"
   ]
  },
  {
   "cell_type": "code",
   "execution_count": 5,
   "metadata": {
    "execution": {
     "iopub.execute_input": "2021-03-11T14:59:59.136863Z",
     "iopub.status.busy": "2021-03-11T14:59:59.136130Z",
     "iopub.status.idle": "2021-03-11T15:00:01.537702Z",
     "shell.execute_reply": "2021-03-11T15:00:01.538215Z"
    },
    "papermill": {
     "duration": 2.425276,
     "end_time": "2021-03-11T15:00:01.538373",
     "exception": false,
     "start_time": "2021-03-11T14:59:59.113097",
     "status": "completed"
    },
    "tags": []
   },
   "outputs": [
    {
     "name": "stdout",
     "output_type": "stream",
     "text": [
      "ord_3\n",
      "['a' 'b' 'c' 'd' 'e' 'f' 'g' 'h' 'i' 'j' 'k' 'l' 'm' 'n' 'o']\n",
      "ord_4\n",
      "['A' 'B' 'C' 'D' 'E' 'F' 'G' 'H' 'I' 'J' 'K' 'L' 'M' 'N' 'O' 'P' 'Q' 'R'\n",
      " 'S' 'T' 'U' 'V' 'W' 'X' 'Y' 'Z']\n",
      "ord_5\n",
      "['AP' 'Ai' 'Aj' 'BA' 'BE' 'Bb' 'Bd' 'Bn' 'CL' 'CM' 'CU' 'CZ' 'Cl' 'DH'\n",
      " 'DN' 'Dc' 'Dx' 'Ed' 'Eg' 'Er' 'FI' 'Fd' 'Fo' 'GD' 'GJ' 'Gb' 'Gx' 'Hj'\n",
      " 'IK' 'Id' 'JX' 'Jc' 'Jf' 'Jt' 'KR' 'KZ' 'Kf' 'Kq' 'LE' 'MC' 'MO' 'MV'\n",
      " 'Mf' 'Ml' 'Mx' 'NV' 'Nf' 'Nk' 'OR' 'Ob' 'Os' 'PA' 'PQ' 'PZ' 'Ps' 'QM'\n",
      " 'Qb' 'Qh' 'Qo' 'RG' 'RL' 'RP' 'Rm' 'Ry' 'SB' 'Sc' 'TR' 'TZ' 'To' 'UO'\n",
      " 'Uk' 'Uu' 'Vf' 'Vx' 'WE' 'Wc' 'Wv' 'XI' 'Xh' 'Xi' 'YC' 'Yb' 'Ye' 'ZR'\n",
      " 'ZS' 'Zc' 'Zq' 'aF' 'aM' 'aO' 'aP' 'ac' 'av' 'bF' 'bJ' 'be' 'cA' 'cG'\n",
      " 'cW' 'ck' 'cp' 'dB' 'dE' 'dN' 'dO' 'dP' 'dQ' 'dZ' 'dh' 'eG' 'eQ' 'eb'\n",
      " 'eg' 'ek' 'ex' 'fO' 'fh' 'gJ' 'gM' 'hL' 'hT' 'hh' 'hp' 'iT' 'ih' 'jS'\n",
      " 'jV' 'je' 'jp' 'kC' 'kE' 'kK' 'kL' 'kU' 'kW' 'ke' 'kr' 'kw' 'lF' 'lL'\n",
      " 'll' 'lx' 'mb' 'mc' 'mm' 'nX' 'nh' 'oC' 'oG' 'oH' 'oK' 'od' 'on' 'pa'\n",
      " 'ps' 'qA' 'qJ' 'qK' 'qP' 'qX' 'qo' 'qv' 'qw' 'rZ' 'ri' 'rp' 'sD' 'sV'\n",
      " 'sY' 'sn' 'su' 'tM' 'tP' 'tv' 'uJ' 'uS' 'ud' 'us' 'ut' 'ux' 'uy' 'vK'\n",
      " 'vq' 'vy' 'wu' 'wy' 'xP' 'xy' 'yN' 'yY' 'yc' 'zU']\n"
     ]
    }
   ],
   "source": [
    "from sklearn.preprocessing import OrdinalEncoder\n",
    "\n",
    "ord_345 = ['ord_3', 'ord_4', 'ord_5']\n",
    "\n",
    "ord_encoder = OrdinalEncoder() # OrdinalEncoder 객체 생성\n",
    "# ordinal 인코딩 적용\n",
    "all_data[ord_345] = ord_encoder.fit_transform(all_data[ord_345])\n",
    "\n",
    "# 피처별 인코딩 순서 출력\n",
    "for feature, categories in zip(ord_345, ord_encoder.categories_):\n",
    "    print(feature)\n",
    "    print(categories)"
   ]
  },
  {
   "cell_type": "markdown",
   "metadata": {
    "papermill": {
     "duration": 0.016703,
     "end_time": "2021-03-11T15:00:01.572312",
     "exception": false,
     "start_time": "2021-03-11T15:00:01.555609",
     "status": "completed"
    },
    "tags": []
   },
   "source": [
    "### 명목형 피처 인코딩"
   ]
  },
  {
   "cell_type": "code",
   "execution_count": 6,
   "metadata": {
    "execution": {
     "iopub.execute_input": "2021-03-11T15:00:01.613682Z",
     "iopub.status.busy": "2021-03-11T15:00:01.612951Z",
     "iopub.status.idle": "2021-03-11T15:00:01.616156Z",
     "shell.execute_reply": "2021-03-11T15:00:01.615554Z"
    },
    "papermill": {
     "duration": 0.026329,
     "end_time": "2021-03-11T15:00:01.616277",
     "exception": false,
     "start_time": "2021-03-11T15:00:01.589948",
     "status": "completed"
    },
    "tags": []
   },
   "outputs": [],
   "source": [
    "nom_features = ['nom_' + str(i) for i in range(10)] # 명목형 피처"
   ]
  },
  {
   "cell_type": "code",
   "execution_count": 7,
   "metadata": {
    "execution": {
     "iopub.execute_input": "2021-03-11T15:00:01.658721Z",
     "iopub.status.busy": "2021-03-11T15:00:01.658007Z",
     "iopub.status.idle": "2021-03-11T15:00:04.443783Z",
     "shell.execute_reply": "2021-03-11T15:00:04.443088Z"
    },
    "papermill": {
     "duration": 2.809594,
     "end_time": "2021-03-11T15:00:04.443904",
     "exception": false,
     "start_time": "2021-03-11T15:00:01.634310",
     "status": "completed"
    },
    "tags": []
   },
   "outputs": [
    {
     "data": {
      "text/plain": [
       "<500000x16276 sparse matrix of type '<class 'numpy.float64'>'\n",
       "\twith 5000000 stored elements in Compressed Sparse Row format>"
      ]
     },
     "execution_count": 7,
     "metadata": {},
     "output_type": "execute_result"
    }
   ],
   "source": [
    "from sklearn.preprocessing import OneHotEncoder\n",
    "\n",
    "nom_onehot_encoder = OneHotEncoder() # OneHotEncoder 객체 생성\n",
    "# 원-핫 인코딩 적용\n",
    "encoded_nom_matrix = nom_onehot_encoder.fit_transform(all_data[nom_features])\n",
    "\n",
    "all_data = all_data.drop(nom_features, axis=1) # 기존 명목형 피처 삭제\n",
    "\n",
    "encoded_nom_matrix"
   ]
  },
  {
   "cell_type": "markdown",
   "metadata": {
    "papermill": {
     "duration": 0.017227,
     "end_time": "2021-03-11T15:00:04.478738",
     "exception": false,
     "start_time": "2021-03-11T15:00:04.461511",
     "status": "completed"
    },
    "tags": []
   },
   "source": [
    "### 날짜 피처 인코딩"
   ]
  },
  {
   "cell_type": "code",
   "execution_count": 8,
   "metadata": {
    "execution": {
     "iopub.execute_input": "2021-03-11T15:00:04.524383Z",
     "iopub.status.busy": "2021-03-11T15:00:04.523618Z",
     "iopub.status.idle": "2021-03-11T15:00:04.661415Z",
     "shell.execute_reply": "2021-03-11T15:00:04.660764Z"
    },
    "papermill": {
     "duration": 0.165262,
     "end_time": "2021-03-11T15:00:04.661595",
     "exception": false,
     "start_time": "2021-03-11T15:00:04.496333",
     "status": "completed"
    },
    "tags": []
   },
   "outputs": [
    {
     "data": {
      "text/plain": [
       "<500000x19 sparse matrix of type '<class 'numpy.float64'>'\n",
       "\twith 1000000 stored elements in Compressed Sparse Row format>"
      ]
     },
     "execution_count": 8,
     "metadata": {},
     "output_type": "execute_result"
    }
   ],
   "source": [
    "date_features  = ['day', 'month'] # 날짜 피처\n",
    "\n",
    "date_onehot_encoder = OneHotEncoder() # OneHotEncoder 객체 생성\n",
    "# 원-핫 인코딩 적용\n",
    "encoded_date_matrix = date_onehot_encoder.fit_transform(all_data[date_features])\n",
    "\n",
    "all_data = all_data.drop(date_features, axis=1) # 기존 날짜 피처 삭제\n",
    "\n",
    "encoded_date_matrix"
   ]
  },
  {
   "cell_type": "markdown",
   "metadata": {
    "papermill": {
     "duration": 0.017721,
     "end_time": "2021-03-11T15:00:04.697544",
     "exception": false,
     "start_time": "2021-03-11T15:00:04.679823",
     "status": "completed"
    },
    "tags": []
   },
   "source": [
    "## 피처 스케일링"
   ]
  },
  {
   "cell_type": "markdown",
   "metadata": {
    "papermill": {
     "duration": 0.018106,
     "end_time": "2021-03-11T15:00:04.734117",
     "exception": false,
     "start_time": "2021-03-11T15:00:04.716011",
     "status": "completed"
    },
    "tags": []
   },
   "source": [
    "### 순서형 피처에 스케일링 적용"
   ]
  },
  {
   "cell_type": "code",
   "execution_count": 9,
   "metadata": {
    "execution": {
     "iopub.execute_input": "2021-03-11T15:00:04.779666Z",
     "iopub.status.busy": "2021-03-11T15:00:04.778892Z",
     "iopub.status.idle": "2021-03-11T15:00:05.654838Z",
     "shell.execute_reply": "2021-03-11T15:00:05.655411Z"
    },
    "papermill": {
     "duration": 0.903534,
     "end_time": "2021-03-11T15:00:05.655593",
     "exception": false,
     "start_time": "2021-03-11T15:00:04.752059",
     "status": "completed"
    },
    "tags": []
   },
   "outputs": [],
   "source": [
    "from sklearn.preprocessing import MinMaxScaler\n",
    "\n",
    "ord_features = ['ord_' + str(i) for i in range(6)] # 순서형 피처\n",
    "# min-max 정규화\n",
    "all_data[ord_features] = MinMaxScaler().fit_transform(all_data[ord_features])"
   ]
  },
  {
   "cell_type": "markdown",
   "metadata": {
    "papermill": {
     "duration": 0.01774,
     "end_time": "2021-03-11T15:00:05.691689",
     "exception": false,
     "start_time": "2021-03-11T15:00:05.673949",
     "status": "completed"
    },
    "tags": []
   },
   "source": [
    "### 인코딩, 피처 스케일링된 데이터 합치기"
   ]
  },
  {
   "cell_type": "code",
   "execution_count": 10,
   "metadata": {
    "execution": {
     "iopub.execute_input": "2021-03-11T15:00:05.731246Z",
     "iopub.status.busy": "2021-03-11T15:00:05.730513Z",
     "iopub.status.idle": "2021-03-11T15:00:06.287642Z",
     "shell.execute_reply": "2021-03-11T15:00:06.287046Z"
    },
    "papermill": {
     "duration": 0.578305,
     "end_time": "2021-03-11T15:00:06.287782",
     "exception": false,
     "start_time": "2021-03-11T15:00:05.709477",
     "status": "completed"
    },
    "tags": []
   },
   "outputs": [],
   "source": [
    "from scipy import sparse\n",
    "\n",
    "# 인코딩, 피처 스케일링된 데이터 합치기\n",
    "all_data_sprs = sparse.hstack([sparse.csr_matrix(all_data),\n",
    "                               encoded_nom_matrix,\n",
    "                               encoded_date_matrix],\n",
    "                              format='csr')"
   ]
  },
  {
   "cell_type": "code",
   "execution_count": 11,
   "metadata": {
    "execution": {
     "iopub.execute_input": "2021-03-11T15:00:06.330196Z",
     "iopub.status.busy": "2021-03-11T15:00:06.329381Z",
     "iopub.status.idle": "2021-03-11T15:00:06.333362Z",
     "shell.execute_reply": "2021-03-11T15:00:06.332760Z"
    },
    "papermill": {
     "duration": 0.027429,
     "end_time": "2021-03-11T15:00:06.333481",
     "exception": false,
     "start_time": "2021-03-11T15:00:06.306052",
     "status": "completed"
    },
    "tags": []
   },
   "outputs": [
    {
     "data": {
      "text/plain": [
       "<500000x16306 sparse matrix of type '<class 'numpy.float64'>'\n",
       "\twith 9163718 stored elements in Compressed Sparse Row format>"
      ]
     },
     "execution_count": 11,
     "metadata": {},
     "output_type": "execute_result"
    }
   ],
   "source": [
    "all_data_sprs"
   ]
  },
  {
   "cell_type": "markdown",
   "metadata": {
    "papermill": {
     "duration": 0.018677,
     "end_time": "2021-03-11T15:00:06.371387",
     "exception": false,
     "start_time": "2021-03-11T15:00:06.352710",
     "status": "completed"
    },
    "tags": []
   },
   "source": [
    "## 하이퍼 파라미터 최적화 및 모델 훈련/제출"
   ]
  },
  {
   "cell_type": "markdown",
   "metadata": {
    "papermill": {
     "duration": 0.018676,
     "end_time": "2021-03-11T15:00:06.409227",
     "exception": false,
     "start_time": "2021-03-11T15:00:06.390551",
     "status": "completed"
    },
    "tags": []
   },
   "source": [
    "### 훈련 데이터와 테스트 데이터 나누기"
   ]
  },
  {
   "cell_type": "code",
   "execution_count": 12,
   "metadata": {
    "execution": {
     "iopub.execute_input": "2021-03-11T15:00:06.454144Z",
     "iopub.status.busy": "2021-03-11T15:00:06.453397Z",
     "iopub.status.idle": "2021-03-11T15:00:06.546621Z",
     "shell.execute_reply": "2021-03-11T15:00:06.547293Z"
    },
    "papermill": {
     "duration": 0.119245,
     "end_time": "2021-03-11T15:00:06.547444",
     "exception": false,
     "start_time": "2021-03-11T15:00:06.428199",
     "status": "completed"
    },
    "tags": []
   },
   "outputs": [],
   "source": [
    "num_train = train.shape[0] # 훈련 데이터 개수\n",
    "\n",
    "# 훈련 데이터와 테스트 데이터 나누기\n",
    "X_train = all_data_sprs[:num_train]\n",
    "X_test = all_data_sprs[num_train:]\n",
    "\n",
    "y_train = train['target']"
   ]
  },
  {
   "cell_type": "markdown",
   "metadata": {
    "papermill": {
     "duration": 0.019268,
     "end_time": "2021-03-11T15:00:06.586139",
     "exception": false,
     "start_time": "2021-03-11T15:00:06.566871",
     "status": "completed"
    },
    "tags": []
   },
   "source": [
    "### 하이퍼 파라미터 최적화"
   ]
  },
  {
   "cell_type": "code",
   "execution_count": 13,
   "metadata": {
    "execution": {
     "iopub.execute_input": "2021-03-11T15:00:06.632886Z",
     "iopub.status.busy": "2021-03-11T15:00:06.632085Z",
     "iopub.status.idle": "2021-03-11T15:10:46.190191Z",
     "shell.execute_reply": "2021-03-11T15:10:46.190804Z"
    },
    "papermill": {
     "duration": 639.58503,
     "end_time": "2021-03-11T15:10:46.191133",
     "exception": false,
     "start_time": "2021-03-11T15:00:06.606103",
     "status": "completed"
    },
    "tags": []
   },
   "outputs": [
    {
     "name": "stdout",
     "output_type": "stream",
     "text": [
      "최적 하이퍼 파라미터: {'C': 0.125, 'max_iter': 800, 'random_state': 42, 'solver': 'lbfgs'}\n",
      "CPU times: user 20min 59s, sys: 18.1 s, total: 21min 17s\n",
      "Wall time: 10min 39s\n"
     ]
    }
   ],
   "source": [
    "%%time\n",
    "\n",
    "from sklearn.model_selection import GridSearchCV\n",
    "from sklearn.linear_model import LogisticRegression\n",
    "\n",
    "# 로지스틱 회귀 모델 생성\n",
    "logistic_model = LogisticRegression()\n",
    "\n",
    "# 하이퍼 파라미터 값 목록\n",
    "lr_params = {'C':[0.1, 0.125, 0.2], 'max_iter':[800, 900, 1000], \n",
    "             'solver':['lbfgs'], 'random_state':[42]}\n",
    "\n",
    "# 그리드서치 객체 생성\n",
    "gridsearch_logistic_model = GridSearchCV(estimator=logistic_model,\n",
    "                                         param_grid=lr_params,\n",
    "                                         scoring='roc_auc',\n",
    "                                         cv=5)\n",
    "# 그리드서치 수행\n",
    "gridsearch_logistic_model.fit(X_train, y_train)\n",
    "\n",
    "print('최적 하이퍼 파라미터:', gridsearch_logistic_model.best_params_)"
   ]
  },
  {
   "cell_type": "markdown",
   "metadata": {
    "papermill": {
     "duration": 0.019046,
     "end_time": "2021-03-11T15:10:46.229547",
     "exception": false,
     "start_time": "2021-03-11T15:10:46.210501",
     "status": "completed"
    },
    "tags": []
   },
   "source": [
    "### 예측 및 제출"
   ]
  },
  {
   "cell_type": "code",
   "execution_count": 14,
   "metadata": {
    "execution": {
     "iopub.execute_input": "2021-03-11T15:10:46.276671Z",
     "iopub.status.busy": "2021-03-11T15:10:46.275246Z",
     "iopub.status.idle": "2021-03-11T15:10:47.634791Z",
     "shell.execute_reply": "2021-03-11T15:10:47.634139Z"
    },
    "papermill": {
     "duration": 1.385883,
     "end_time": "2021-03-11T15:10:47.634917",
     "exception": false,
     "start_time": "2021-03-11T15:10:46.249034",
     "status": "completed"
    },
    "tags": []
   },
   "outputs": [],
   "source": [
    "# 타깃 값 1일 확률 예측\n",
    "y_preds = gridsearch_logistic_model.best_estimator_.predict_proba(X_test)[:,1]\n",
    "\n",
    "# 제출 파일 생성\n",
    "submission['target'] = y_preds\n",
    "submission.to_csv('submission.csv')"
   ]
  }
 ],
 "metadata": {
  "kernelspec": {
   "display_name": "Python 3",
   "language": "python",
   "name": "python3"
  },
  "language_info": {
   "codemirror_mode": {
    "name": "ipython",
    "version": 3
   },
   "file_extension": ".py",
   "mimetype": "text/x-python",
   "name": "python",
   "nbconvert_exporter": "python",
   "pygments_lexer": "ipython3",
   "version": "3.7.6"
  },
  "papermill": {
   "duration": 658.518257,
   "end_time": "2021-03-11T15:10:47.769397",
   "environment_variables": {},
   "exception": null,
   "input_path": "__notebook__.ipynb",
   "output_path": "__notebook__.ipynb",
   "parameters": {},
   "start_time": "2021-03-11T14:59:49.251140",
   "version": "2.1.0"
  }
 },
 "nbformat": 4,
 "nbformat_minor": 4
}
