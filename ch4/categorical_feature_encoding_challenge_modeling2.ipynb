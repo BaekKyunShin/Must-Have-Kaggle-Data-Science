{
 "cells": [
  {
   "cell_type": "markdown",
   "id": "close-eligibility",
   "metadata": {
    "papermill": {
     "duration": 0.018617,
     "end_time": "2021-05-08T08:04:46.097959",
     "exception": false,
     "start_time": "2021-05-08T08:04:46.079342",
     "status": "completed"
    },
    "tags": []
   },
   "source": [
    "# 4.5 범주형 데이터 이진분류 경진대회 성능 개선 II"
   ]
  },
  {
   "cell_type": "markdown",
   "id": "amazing-distributor",
   "metadata": {
    "papermill": {
     "duration": 0.017058,
     "end_time": "2021-05-08T08:04:46.132617",
     "exception": false,
     "start_time": "2021-05-08T08:04:46.115559",
     "status": "completed"
    },
    "tags": []
   },
   "source": [
    "- [범주형 데이터 이진분류 경진대회 링크](https://www.kaggle.com/c/cat-in-the-dat/)\n",
    "- [모델링 노트북 참고 링크](https://www.kaggle.com/dkomyagin/cat-in-the-dat-0-80285-private-lb-solution)"
   ]
  },
  {
   "cell_type": "code",
   "execution_count": 1,
   "id": "composed-worse",
   "metadata": {
    "execution": {
     "iopub.execute_input": "2021-05-08T08:04:46.181740Z",
     "iopub.status.busy": "2021-05-08T08:04:46.176652Z",
     "iopub.status.idle": "2021-05-08T08:04:49.187481Z",
     "shell.execute_reply": "2021-05-08T08:04:49.186595Z"
    },
    "papermill": {
     "duration": 3.037585,
     "end_time": "2021-05-08T08:04:49.187672",
     "exception": false,
     "start_time": "2021-05-08T08:04:46.150087",
     "status": "completed"
    },
    "tags": []
   },
   "outputs": [],
   "source": [
    "# ch4/categorical_feature_encoding_challenge_modeling2.ipynb\n",
    "\n",
    "import pandas as pd\n",
    "\n",
    "# 데이터 경로\n",
    "data_path = '/kaggle/input/cat-in-the-dat/'\n",
    "\n",
    "train = pd.read_csv(data_path + 'train.csv', index_col='id')\n",
    "test = pd.read_csv(data_path + 'test.csv', index_col='id')\n",
    "submission = pd.read_csv(data_path + 'sample_submission.csv', index_col='id')"
   ]
  },
  {
   "cell_type": "markdown",
   "id": "welsh-token",
   "metadata": {
    "papermill": {
     "duration": 0.017194,
     "end_time": "2021-05-08T08:04:49.222738",
     "exception": false,
     "start_time": "2021-05-08T08:04:49.205544",
     "status": "completed"
    },
    "tags": []
   },
   "source": [
    "## 피처 엔지니어링 I : 피처 맞춤 인코딩"
   ]
  },
  {
   "cell_type": "markdown",
   "id": "express-hardwood",
   "metadata": {
    "papermill": {
     "duration": 0.017431,
     "end_time": "2021-05-08T08:04:49.258656",
     "exception": false,
     "start_time": "2021-05-08T08:04:49.241225",
     "status": "completed"
    },
    "tags": []
   },
   "source": [
    "### 데이터 합치기"
   ]
  },
  {
   "cell_type": "code",
   "execution_count": 2,
   "id": "danish-legend",
   "metadata": {
    "execution": {
     "iopub.execute_input": "2021-05-08T08:04:49.302363Z",
     "iopub.status.busy": "2021-05-08T08:04:49.301026Z",
     "iopub.status.idle": "2021-05-08T08:04:49.894585Z",
     "shell.execute_reply": "2021-05-08T08:04:49.894032Z"
    },
    "papermill": {
     "duration": 0.617726,
     "end_time": "2021-05-08T08:04:49.894737",
     "exception": false,
     "start_time": "2021-05-08T08:04:49.277011",
     "status": "completed"
    },
    "tags": []
   },
   "outputs": [],
   "source": [
    "# 훈련 데이터와 테스트 데이터 합치기\n",
    "all_data = pd.concat([train, test])\n",
    "all_data = all_data.drop('target', axis=1) # 타깃 값 제거"
   ]
  },
  {
   "cell_type": "markdown",
   "id": "formed-designation",
   "metadata": {
    "papermill": {
     "duration": 0.017275,
     "end_time": "2021-05-08T08:04:49.930354",
     "exception": false,
     "start_time": "2021-05-08T08:04:49.913079",
     "status": "completed"
    },
    "tags": []
   },
   "source": [
    "### 이진 피처 인코딩"
   ]
  },
  {
   "cell_type": "code",
   "execution_count": 3,
   "id": "digital-market",
   "metadata": {
    "execution": {
     "iopub.execute_input": "2021-05-08T08:04:50.012363Z",
     "iopub.status.busy": "2021-05-08T08:04:50.011645Z",
     "iopub.status.idle": "2021-05-08T08:04:50.277681Z",
     "shell.execute_reply": "2021-05-08T08:04:50.277114Z"
    },
    "papermill": {
     "duration": 0.329767,
     "end_time": "2021-05-08T08:04:50.277834",
     "exception": false,
     "start_time": "2021-05-08T08:04:49.948067",
     "status": "completed"
    },
    "tags": []
   },
   "outputs": [],
   "source": [
    "all_data['bin_3'] = all_data['bin_3'].map({'F':0, 'T':1})\n",
    "all_data['bin_4'] = all_data['bin_4'].map({'N':0, 'Y':1})"
   ]
  },
  {
   "cell_type": "markdown",
   "id": "polished-jones",
   "metadata": {
    "papermill": {
     "duration": 0.017404,
     "end_time": "2021-05-08T08:04:50.313714",
     "exception": false,
     "start_time": "2021-05-08T08:04:50.296310",
     "status": "completed"
    },
    "tags": []
   },
   "source": [
    "### 순서형 피처 인코딩"
   ]
  },
  {
   "cell_type": "code",
   "execution_count": 4,
   "id": "shaped-bobby",
   "metadata": {
    "execution": {
     "iopub.execute_input": "2021-05-08T08:04:50.414336Z",
     "iopub.status.busy": "2021-05-08T08:04:50.362901Z",
     "iopub.status.idle": "2021-05-08T08:04:50.687571Z",
     "shell.execute_reply": "2021-05-08T08:04:50.686958Z"
    },
    "papermill": {
     "duration": 0.356284,
     "end_time": "2021-05-08T08:04:50.687722",
     "exception": false,
     "start_time": "2021-05-08T08:04:50.331438",
     "status": "completed"
    },
    "tags": []
   },
   "outputs": [],
   "source": [
    "ord1dict = {'Novice':0, 'Contributor':1, \n",
    "            'Expert':2, 'Master':3, 'Grandmaster':4}\n",
    "ord2dict = {'Freezing':0, 'Cold':1, 'Warm':2, \n",
    "            'Hot':3, 'Boiling Hot':4, 'Lava Hot':5}\n",
    "\n",
    "all_data['ord_1'] = all_data['ord_1'].map(ord1dict)\n",
    "all_data['ord_2'] = all_data['ord_2'].map(ord2dict)"
   ]
  },
  {
   "cell_type": "code",
   "execution_count": 5,
   "id": "functioning-upset",
   "metadata": {
    "execution": {
     "iopub.execute_input": "2021-05-08T08:04:50.730854Z",
     "iopub.status.busy": "2021-05-08T08:04:50.730178Z",
     "iopub.status.idle": "2021-05-08T08:04:53.112001Z",
     "shell.execute_reply": "2021-05-08T08:04:53.111241Z"
    },
    "papermill": {
     "duration": 2.406581,
     "end_time": "2021-05-08T08:04:53.112171",
     "exception": false,
     "start_time": "2021-05-08T08:04:50.705590",
     "status": "completed"
    },
    "tags": []
   },
   "outputs": [
    {
     "name": "stdout",
     "output_type": "stream",
     "text": [
      "ord_3\n",
      "['a' 'b' 'c' 'd' 'e' 'f' 'g' 'h' 'i' 'j' 'k' 'l' 'm' 'n' 'o']\n",
      "ord_4\n",
      "['A' 'B' 'C' 'D' 'E' 'F' 'G' 'H' 'I' 'J' 'K' 'L' 'M' 'N' 'O' 'P' 'Q' 'R'\n",
      " 'S' 'T' 'U' 'V' 'W' 'X' 'Y' 'Z']\n",
      "ord_5\n",
      "['AP' 'Ai' 'Aj' 'BA' 'BE' 'Bb' 'Bd' 'Bn' 'CL' 'CM' 'CU' 'CZ' 'Cl' 'DH'\n",
      " 'DN' 'Dc' 'Dx' 'Ed' 'Eg' 'Er' 'FI' 'Fd' 'Fo' 'GD' 'GJ' 'Gb' 'Gx' 'Hj'\n",
      " 'IK' 'Id' 'JX' 'Jc' 'Jf' 'Jt' 'KR' 'KZ' 'Kf' 'Kq' 'LE' 'MC' 'MO' 'MV'\n",
      " 'Mf' 'Ml' 'Mx' 'NV' 'Nf' 'Nk' 'OR' 'Ob' 'Os' 'PA' 'PQ' 'PZ' 'Ps' 'QM'\n",
      " 'Qb' 'Qh' 'Qo' 'RG' 'RL' 'RP' 'Rm' 'Ry' 'SB' 'Sc' 'TR' 'TZ' 'To' 'UO'\n",
      " 'Uk' 'Uu' 'Vf' 'Vx' 'WE' 'Wc' 'Wv' 'XI' 'Xh' 'Xi' 'YC' 'Yb' 'Ye' 'ZR'\n",
      " 'ZS' 'Zc' 'Zq' 'aF' 'aM' 'aO' 'aP' 'ac' 'av' 'bF' 'bJ' 'be' 'cA' 'cG'\n",
      " 'cW' 'ck' 'cp' 'dB' 'dE' 'dN' 'dO' 'dP' 'dQ' 'dZ' 'dh' 'eG' 'eQ' 'eb'\n",
      " 'eg' 'ek' 'ex' 'fO' 'fh' 'gJ' 'gM' 'hL' 'hT' 'hh' 'hp' 'iT' 'ih' 'jS'\n",
      " 'jV' 'je' 'jp' 'kC' 'kE' 'kK' 'kL' 'kU' 'kW' 'ke' 'kr' 'kw' 'lF' 'lL'\n",
      " 'll' 'lx' 'mb' 'mc' 'mm' 'nX' 'nh' 'oC' 'oG' 'oH' 'oK' 'od' 'on' 'pa'\n",
      " 'ps' 'qA' 'qJ' 'qK' 'qP' 'qX' 'qo' 'qv' 'qw' 'rZ' 'ri' 'rp' 'sD' 'sV'\n",
      " 'sY' 'sn' 'su' 'tM' 'tP' 'tv' 'uJ' 'uS' 'ud' 'us' 'ut' 'ux' 'uy' 'vK'\n",
      " 'vq' 'vy' 'wu' 'wy' 'xP' 'xy' 'yN' 'yY' 'yc' 'zU']\n"
     ]
    }
   ],
   "source": [
    "from sklearn.preprocessing import OrdinalEncoder\n",
    "\n",
    "ord_345 = ['ord_3', 'ord_4', 'ord_5']\n",
    "\n",
    "ord_encoder = OrdinalEncoder() # OrdinalEncoder 객체 생성\n",
    "# ordinal 인코딩 적용\n",
    "all_data[ord_345] = ord_encoder.fit_transform(all_data[ord_345])\n",
    "\n",
    "# 피처별 인코딩 순서 출력\n",
    "for feature, categories in zip(ord_345, ord_encoder.categories_):\n",
    "    print(feature)\n",
    "    print(categories)"
   ]
  },
  {
   "cell_type": "markdown",
   "id": "impressive-beatles",
   "metadata": {
    "papermill": {
     "duration": 0.019566,
     "end_time": "2021-05-08T08:04:53.153190",
     "exception": false,
     "start_time": "2021-05-08T08:04:53.133624",
     "status": "completed"
    },
    "tags": []
   },
   "source": [
    "### 명목형 피처 인코딩"
   ]
  },
  {
   "cell_type": "code",
   "execution_count": 6,
   "id": "tired-gabriel",
   "metadata": {
    "execution": {
     "iopub.execute_input": "2021-05-08T08:04:53.197427Z",
     "iopub.status.busy": "2021-05-08T08:04:53.196395Z",
     "iopub.status.idle": "2021-05-08T08:04:53.200153Z",
     "shell.execute_reply": "2021-05-08T08:04:53.199517Z"
    },
    "papermill": {
     "duration": 0.027973,
     "end_time": "2021-05-08T08:04:53.200304",
     "exception": false,
     "start_time": "2021-05-08T08:04:53.172331",
     "status": "completed"
    },
    "tags": []
   },
   "outputs": [],
   "source": [
    "nom_features = ['nom_' + str(i) for i in range(10)] # 명목형 피처"
   ]
  },
  {
   "cell_type": "code",
   "execution_count": 7,
   "id": "digital-gardening",
   "metadata": {
    "execution": {
     "iopub.execute_input": "2021-05-08T08:04:53.242575Z",
     "iopub.status.busy": "2021-05-08T08:04:53.241328Z",
     "iopub.status.idle": "2021-05-08T08:04:55.819829Z",
     "shell.execute_reply": "2021-05-08T08:04:55.819287Z"
    },
    "papermill": {
     "duration": 2.600684,
     "end_time": "2021-05-08T08:04:55.819999",
     "exception": false,
     "start_time": "2021-05-08T08:04:53.219315",
     "status": "completed"
    },
    "tags": []
   },
   "outputs": [
    {
     "data": {
      "text/plain": [
       "<500000x16276 sparse matrix of type '<class 'numpy.float64'>'\n",
       "\twith 5000000 stored elements in Compressed Sparse Row format>"
      ]
     },
     "execution_count": 7,
     "metadata": {},
     "output_type": "execute_result"
    }
   ],
   "source": [
    "from sklearn.preprocessing import OneHotEncoder\n",
    "\n",
    "nom_onehot_encoder = OneHotEncoder() # OneHotEncoder 객체 생성\n",
    "# 원-핫 인코딩 적용\n",
    "encoded_nom_matrix = nom_onehot_encoder.fit_transform(all_data[nom_features])\n",
    "\n",
    "encoded_nom_matrix"
   ]
  },
  {
   "cell_type": "code",
   "execution_count": 8,
   "id": "endangered-shield",
   "metadata": {
    "execution": {
     "iopub.execute_input": "2021-05-08T08:04:55.894322Z",
     "iopub.status.busy": "2021-05-08T08:04:55.893623Z",
     "iopub.status.idle": "2021-05-08T08:04:55.897949Z",
     "shell.execute_reply": "2021-05-08T08:04:55.897287Z"
    },
    "papermill": {
     "duration": 0.059,
     "end_time": "2021-05-08T08:04:55.898096",
     "exception": false,
     "start_time": "2021-05-08T08:04:55.839096",
     "status": "completed"
    },
    "tags": []
   },
   "outputs": [],
   "source": [
    "all_data = all_data.drop(nom_features, axis=1) # 기존 명목형 피처 삭제"
   ]
  },
  {
   "cell_type": "markdown",
   "id": "restricted-tomorrow",
   "metadata": {
    "papermill": {
     "duration": 0.020411,
     "end_time": "2021-05-08T08:04:55.937868",
     "exception": false,
     "start_time": "2021-05-08T08:04:55.917457",
     "status": "completed"
    },
    "tags": []
   },
   "source": [
    "### 날짜 피처 인코딩"
   ]
  },
  {
   "cell_type": "code",
   "execution_count": 9,
   "id": "municipal-extraction",
   "metadata": {
    "execution": {
     "iopub.execute_input": "2021-05-08T08:04:55.986645Z",
     "iopub.status.busy": "2021-05-08T08:04:55.985899Z",
     "iopub.status.idle": "2021-05-08T08:04:56.136040Z",
     "shell.execute_reply": "2021-05-08T08:04:56.135336Z"
    },
    "papermill": {
     "duration": 0.17879,
     "end_time": "2021-05-08T08:04:56.136201",
     "exception": false,
     "start_time": "2021-05-08T08:04:55.957411",
     "status": "completed"
    },
    "tags": []
   },
   "outputs": [
    {
     "data": {
      "text/plain": [
       "<500000x19 sparse matrix of type '<class 'numpy.float64'>'\n",
       "\twith 1000000 stored elements in Compressed Sparse Row format>"
      ]
     },
     "execution_count": 9,
     "metadata": {},
     "output_type": "execute_result"
    }
   ],
   "source": [
    "date_features  = ['day', 'month'] # 날짜 피처\n",
    "\n",
    "date_onehot_encoder = OneHotEncoder() # OneHotEncoder 객체 생성\n",
    "# 원-핫 인코딩 적용\n",
    "encoded_date_matrix = date_onehot_encoder.fit_transform(all_data[date_features])\n",
    "\n",
    "all_data = all_data.drop(date_features, axis=1) # 기존 날짜 피처 삭제\n",
    "\n",
    "encoded_date_matrix"
   ]
  },
  {
   "cell_type": "markdown",
   "id": "outside-pittsburgh",
   "metadata": {
    "papermill": {
     "duration": 0.019269,
     "end_time": "2021-05-08T08:04:56.175078",
     "exception": false,
     "start_time": "2021-05-08T08:04:56.155809",
     "status": "completed"
    },
    "tags": []
   },
   "source": [
    "## 피처 엔지니어링 II : 피처 스케일링"
   ]
  },
  {
   "cell_type": "markdown",
   "id": "dedicated-vietnamese",
   "metadata": {
    "papermill": {
     "duration": 0.019145,
     "end_time": "2021-05-08T08:04:56.214026",
     "exception": false,
     "start_time": "2021-05-08T08:04:56.194881",
     "status": "completed"
    },
    "tags": []
   },
   "source": [
    "### 순서형 피처 스케일링"
   ]
  },
  {
   "cell_type": "code",
   "execution_count": 10,
   "id": "shared-sigma",
   "metadata": {
    "execution": {
     "iopub.execute_input": "2021-05-08T08:04:56.271845Z",
     "iopub.status.busy": "2021-05-08T08:04:56.271145Z",
     "iopub.status.idle": "2021-05-08T08:04:57.146456Z",
     "shell.execute_reply": "2021-05-08T08:04:57.145863Z"
    },
    "papermill": {
     "duration": 0.913043,
     "end_time": "2021-05-08T08:04:57.146611",
     "exception": false,
     "start_time": "2021-05-08T08:04:56.233568",
     "status": "completed"
    },
    "tags": []
   },
   "outputs": [],
   "source": [
    "from sklearn.preprocessing import MinMaxScaler\n",
    "\n",
    "ord_features = ['ord_' + str(i) for i in range(6)] # 순서형 피처\n",
    "# min-max 정규화\n",
    "all_data[ord_features] = MinMaxScaler().fit_transform(all_data[ord_features])"
   ]
  },
  {
   "cell_type": "markdown",
   "id": "similar-thesis",
   "metadata": {
    "papermill": {
     "duration": 0.019751,
     "end_time": "2021-05-08T08:04:57.186317",
     "exception": false,
     "start_time": "2021-05-08T08:04:57.166566",
     "status": "completed"
    },
    "tags": []
   },
   "source": [
    "### 인코딩 및 스케일링된 피처 합치기"
   ]
  },
  {
   "cell_type": "code",
   "execution_count": 11,
   "id": "consolidated-latitude",
   "metadata": {
    "execution": {
     "iopub.execute_input": "2021-05-08T08:04:57.231594Z",
     "iopub.status.busy": "2021-05-08T08:04:57.230817Z",
     "iopub.status.idle": "2021-05-08T08:04:57.741179Z",
     "shell.execute_reply": "2021-05-08T08:04:57.740460Z"
    },
    "papermill": {
     "duration": 0.535102,
     "end_time": "2021-05-08T08:04:57.741324",
     "exception": false,
     "start_time": "2021-05-08T08:04:57.206222",
     "status": "completed"
    },
    "tags": []
   },
   "outputs": [],
   "source": [
    "from scipy import sparse\n",
    "\n",
    "# 인코딩 및 스케일링된 피처 합치기\n",
    "all_data_sprs = sparse.hstack([sparse.csr_matrix(all_data),\n",
    "                               encoded_nom_matrix,\n",
    "                               encoded_date_matrix],\n",
    "                              format='csr')"
   ]
  },
  {
   "cell_type": "code",
   "execution_count": 12,
   "id": "fundamental-portrait",
   "metadata": {
    "execution": {
     "iopub.execute_input": "2021-05-08T08:04:57.787090Z",
     "iopub.status.busy": "2021-05-08T08:04:57.786086Z",
     "iopub.status.idle": "2021-05-08T08:04:57.790121Z",
     "shell.execute_reply": "2021-05-08T08:04:57.790627Z"
    },
    "papermill": {
     "duration": 0.029413,
     "end_time": "2021-05-08T08:04:57.790807",
     "exception": false,
     "start_time": "2021-05-08T08:04:57.761394",
     "status": "completed"
    },
    "tags": []
   },
   "outputs": [
    {
     "data": {
      "text/plain": [
       "<500000x16306 sparse matrix of type '<class 'numpy.float64'>'\n",
       "\twith 9163718 stored elements in Compressed Sparse Row format>"
      ]
     },
     "execution_count": 12,
     "metadata": {},
     "output_type": "execute_result"
    }
   ],
   "source": [
    "all_data_sprs"
   ]
  },
  {
   "cell_type": "markdown",
   "id": "exposed-sewing",
   "metadata": {
    "papermill": {
     "duration": 0.020933,
     "end_time": "2021-05-08T08:04:57.831982",
     "exception": false,
     "start_time": "2021-05-08T08:04:57.811049",
     "status": "completed"
    },
    "tags": []
   },
   "source": [
    "### 데이터 나누기"
   ]
  },
  {
   "cell_type": "code",
   "execution_count": 13,
   "id": "selective-occasions",
   "metadata": {
    "execution": {
     "iopub.execute_input": "2021-05-08T08:04:57.895219Z",
     "iopub.status.busy": "2021-05-08T08:04:57.893993Z",
     "iopub.status.idle": "2021-05-08T08:04:58.002689Z",
     "shell.execute_reply": "2021-05-08T08:04:58.001972Z"
    },
    "papermill": {
     "duration": 0.140734,
     "end_time": "2021-05-08T08:04:58.002835",
     "exception": false,
     "start_time": "2021-05-08T08:04:57.862101",
     "status": "completed"
    },
    "tags": []
   },
   "outputs": [],
   "source": [
    "num_train = train.shape[0] # 훈련 데이터 개수\n",
    "\n",
    "# 훈련 데이터와 테스트 데이터 나누기\n",
    "X_train = all_data_sprs[:num_train]\n",
    "X_test = all_data_sprs[num_train:]\n",
    "\n",
    "y = train['target']"
   ]
  },
  {
   "cell_type": "markdown",
   "id": "retained-mediterranean",
   "metadata": {
    "papermill": {
     "duration": 0.020632,
     "end_time": "2021-05-08T08:04:58.044075",
     "exception": false,
     "start_time": "2021-05-08T08:04:58.023443",
     "status": "completed"
    },
    "tags": []
   },
   "source": [
    "## 하이퍼 파라미터 최적화"
   ]
  },
  {
   "cell_type": "code",
   "execution_count": 14,
   "id": "norman-silly",
   "metadata": {
    "execution": {
     "iopub.execute_input": "2021-05-08T08:04:58.093284Z",
     "iopub.status.busy": "2021-05-08T08:04:58.092471Z",
     "iopub.status.idle": "2021-05-08T08:12:29.981973Z",
     "shell.execute_reply": "2021-05-08T08:12:29.982525Z"
    },
    "papermill": {
     "duration": 451.917959,
     "end_time": "2021-05-08T08:12:29.982814",
     "exception": false,
     "start_time": "2021-05-08T08:04:58.064855",
     "status": "completed"
    },
    "tags": []
   },
   "outputs": [
    {
     "name": "stdout",
     "output_type": "stream",
     "text": [
      "최적 하이퍼 파라미터: {'C': 0.125, 'max_iter': 800, 'random_state': 42, 'solver': 'liblinear'}\n",
      "CPU times: user 14min 48s, sys: 14min 7s, total: 28min 56s\n",
      "Wall time: 7min 31s\n"
     ]
    }
   ],
   "source": [
    "%%time\n",
    "\n",
    "from sklearn.model_selection import GridSearchCV\n",
    "from sklearn.linear_model import LogisticRegression\n",
    "\n",
    "# 로지스틱 회귀 모델 생성\n",
    "logistic_model = LogisticRegression()\n",
    "\n",
    "# 하이퍼 파라미터 값 목록\n",
    "lr_params = {'C':[0.1, 0.125, 0.2], 'max_iter':[800, 900, 1000], \n",
    "             'solver':['liblinear'], 'random_state':[42]}\n",
    "\n",
    "# 그리드서치 객체 생성\n",
    "gridsearch_logistic_model = GridSearchCV(estimator=logistic_model,\n",
    "                                         param_grid=lr_params,\n",
    "                                         scoring='roc_auc',\n",
    "                                         cv=5)\n",
    "# 그리드서치 수행\n",
    "gridsearch_logistic_model.fit(X_train, y)\n",
    "\n",
    "print('최적 하이퍼 파라미터:', gridsearch_logistic_model.best_params_)"
   ]
  },
  {
   "cell_type": "markdown",
   "id": "spanish-layout",
   "metadata": {
    "papermill": {
     "duration": 0.021303,
     "end_time": "2021-05-08T08:12:30.025072",
     "exception": false,
     "start_time": "2021-05-08T08:12:30.003769",
     "status": "completed"
    },
    "tags": []
   },
   "source": [
    "## 예측 및 결과 제출"
   ]
  },
  {
   "cell_type": "code",
   "execution_count": 15,
   "id": "arctic-adoption",
   "metadata": {
    "execution": {
     "iopub.execute_input": "2021-05-08T08:12:30.074252Z",
     "iopub.status.busy": "2021-05-08T08:12:30.073451Z",
     "iopub.status.idle": "2021-05-08T08:12:30.914488Z",
     "shell.execute_reply": "2021-05-08T08:12:30.915164Z"
    },
    "papermill": {
     "duration": 0.86913,
     "end_time": "2021-05-08T08:12:30.915360",
     "exception": false,
     "start_time": "2021-05-08T08:12:30.046230",
     "status": "completed"
    },
    "tags": []
   },
   "outputs": [],
   "source": [
    "# 타깃 값 1일 확률 예측\n",
    "y_preds = gridsearch_logistic_model.best_estimator_.predict_proba(X_test)[:,1]\n",
    "\n",
    "# 제출 파일 생성\n",
    "submission['target'] = y_preds\n",
    "submission.to_csv('submission.csv')"
   ]
  }
 ],
 "metadata": {
  "kernelspec": {
   "display_name": "Python 3",
   "language": "python",
   "name": "python3"
  },
  "language_info": {
   "codemirror_mode": {
    "name": "ipython",
    "version": 3
   },
   "file_extension": ".py",
   "mimetype": "text/x-python",
   "name": "python",
   "nbconvert_exporter": "python",
   "pygments_lexer": "ipython3",
   "version": "3.7.10"
  },
  "papermill": {
   "default_parameters": {},
   "duration": 475.107409,
   "end_time": "2021-05-08T08:12:32.394353",
   "environment_variables": {},
   "exception": null,
   "input_path": "__notebook__.ipynb",
   "output_path": "__notebook__.ipynb",
   "parameters": {},
   "start_time": "2021-05-08T08:04:37.286944",
   "version": "2.3.3"
  }
 },
 "nbformat": 4,
 "nbformat_minor": 5
}
