{
 "cells": [
  {
   "cell_type": "markdown",
   "metadata": {
    "papermill": {
     "duration": 0.011497,
     "end_time": "2021-02-02T10:51:06.269835",
     "exception": false,
     "start_time": "2021-02-02T10:51:06.258338",
     "status": "completed"
    },
    "tags": []
   },
   "source": [
    "# 범주형 데이터 이진분류 경진대회 베이스라인 모델"
   ]
  },
  {
   "cell_type": "markdown",
   "metadata": {
    "papermill": {
     "duration": 0.008381,
     "end_time": "2021-02-02T10:51:06.287446",
     "exception": false,
     "start_time": "2021-02-02T10:51:06.279065",
     "status": "completed"
    },
    "tags": []
   },
   "source": [
    "- [범주형 데이터 이진분류 경진대회 링크](https://www.kaggle.com/c/cat-in-the-dat/)"
   ]
  },
  {
   "cell_type": "code",
   "execution_count": 1,
   "metadata": {
    "execution": {
     "iopub.execute_input": "2021-02-02T10:51:06.313007Z",
     "iopub.status.busy": "2021-02-02T10:51:06.312389Z",
     "iopub.status.idle": "2021-02-02T10:51:08.821924Z",
     "shell.execute_reply": "2021-02-02T10:51:08.820620Z"
    },
    "papermill": {
     "duration": 2.525775,
     "end_time": "2021-02-02T10:51:08.822062",
     "exception": false,
     "start_time": "2021-02-02T10:51:06.296287",
     "status": "completed"
    },
    "tags": []
   },
   "outputs": [],
   "source": [
    "import pandas as pd\n",
    "\n",
    "train = pd.read_csv('/kaggle/input/cat-in-the-dat/train.csv', index_col='id')\n",
    "test = pd.read_csv('/kaggle/input/cat-in-the-dat/test.csv', index_col='id')\n",
    "submission = pd.read_csv('/kaggle/input/cat-in-the-dat/sample_submission.csv', index_col='id')"
   ]
  },
  {
   "cell_type": "markdown",
   "metadata": {
    "papermill": {
     "duration": 0.008698,
     "end_time": "2021-02-02T10:51:08.840267",
     "exception": false,
     "start_time": "2021-02-02T10:51:08.831569",
     "status": "completed"
    },
    "tags": []
   },
   "source": [
    "## 훈련 데이터 테스트 데이터 합치기"
   ]
  },
  {
   "cell_type": "code",
   "execution_count": 2,
   "metadata": {
    "execution": {
     "iopub.execute_input": "2021-02-02T10:51:08.864821Z",
     "iopub.status.busy": "2021-02-02T10:51:08.863642Z",
     "iopub.status.idle": "2021-02-02T10:51:09.842282Z",
     "shell.execute_reply": "2021-02-02T10:51:09.842820Z"
    },
    "papermill": {
     "duration": 0.993659,
     "end_time": "2021-02-02T10:51:09.842963",
     "exception": false,
     "start_time": "2021-02-02T10:51:08.849304",
     "status": "completed"
    },
    "tags": []
   },
   "outputs": [
    {
     "data": {
      "text/html": [
       "<div>\n",
       "<style scoped>\n",
       "    .dataframe tbody tr th:only-of-type {\n",
       "        vertical-align: middle;\n",
       "    }\n",
       "\n",
       "    .dataframe tbody tr th {\n",
       "        vertical-align: top;\n",
       "    }\n",
       "\n",
       "    .dataframe thead th {\n",
       "        text-align: right;\n",
       "    }\n",
       "</style>\n",
       "<table border=\"1\" class=\"dataframe\">\n",
       "  <thead>\n",
       "    <tr style=\"text-align: right;\">\n",
       "      <th></th>\n",
       "      <th>bin_0</th>\n",
       "      <th>bin_1</th>\n",
       "      <th>bin_2</th>\n",
       "      <th>bin_3</th>\n",
       "      <th>bin_4</th>\n",
       "      <th>nom_0</th>\n",
       "      <th>nom_1</th>\n",
       "      <th>nom_2</th>\n",
       "      <th>nom_3</th>\n",
       "      <th>nom_4</th>\n",
       "      <th>...</th>\n",
       "      <th>nom_8</th>\n",
       "      <th>nom_9</th>\n",
       "      <th>ord_0</th>\n",
       "      <th>ord_1</th>\n",
       "      <th>ord_2</th>\n",
       "      <th>ord_3</th>\n",
       "      <th>ord_4</th>\n",
       "      <th>ord_5</th>\n",
       "      <th>day</th>\n",
       "      <th>month</th>\n",
       "    </tr>\n",
       "    <tr>\n",
       "      <th>id</th>\n",
       "      <th></th>\n",
       "      <th></th>\n",
       "      <th></th>\n",
       "      <th></th>\n",
       "      <th></th>\n",
       "      <th></th>\n",
       "      <th></th>\n",
       "      <th></th>\n",
       "      <th></th>\n",
       "      <th></th>\n",
       "      <th></th>\n",
       "      <th></th>\n",
       "      <th></th>\n",
       "      <th></th>\n",
       "      <th></th>\n",
       "      <th></th>\n",
       "      <th></th>\n",
       "      <th></th>\n",
       "      <th></th>\n",
       "      <th></th>\n",
       "      <th></th>\n",
       "    </tr>\n",
       "  </thead>\n",
       "  <tbody>\n",
       "    <tr>\n",
       "      <th>0</th>\n",
       "      <td>0</td>\n",
       "      <td>0</td>\n",
       "      <td>0</td>\n",
       "      <td>T</td>\n",
       "      <td>Y</td>\n",
       "      <td>Green</td>\n",
       "      <td>Triangle</td>\n",
       "      <td>Snake</td>\n",
       "      <td>Finland</td>\n",
       "      <td>Bassoon</td>\n",
       "      <td>...</td>\n",
       "      <td>c389000ab</td>\n",
       "      <td>2f4cb3d51</td>\n",
       "      <td>2</td>\n",
       "      <td>Grandmaster</td>\n",
       "      <td>Cold</td>\n",
       "      <td>h</td>\n",
       "      <td>D</td>\n",
       "      <td>kr</td>\n",
       "      <td>2</td>\n",
       "      <td>2</td>\n",
       "    </tr>\n",
       "    <tr>\n",
       "      <th>1</th>\n",
       "      <td>0</td>\n",
       "      <td>1</td>\n",
       "      <td>0</td>\n",
       "      <td>T</td>\n",
       "      <td>Y</td>\n",
       "      <td>Green</td>\n",
       "      <td>Trapezoid</td>\n",
       "      <td>Hamster</td>\n",
       "      <td>Russia</td>\n",
       "      <td>Piano</td>\n",
       "      <td>...</td>\n",
       "      <td>4cd920251</td>\n",
       "      <td>f83c56c21</td>\n",
       "      <td>1</td>\n",
       "      <td>Grandmaster</td>\n",
       "      <td>Hot</td>\n",
       "      <td>a</td>\n",
       "      <td>A</td>\n",
       "      <td>bF</td>\n",
       "      <td>7</td>\n",
       "      <td>8</td>\n",
       "    </tr>\n",
       "    <tr>\n",
       "      <th>2</th>\n",
       "      <td>0</td>\n",
       "      <td>0</td>\n",
       "      <td>0</td>\n",
       "      <td>F</td>\n",
       "      <td>Y</td>\n",
       "      <td>Blue</td>\n",
       "      <td>Trapezoid</td>\n",
       "      <td>Lion</td>\n",
       "      <td>Russia</td>\n",
       "      <td>Theremin</td>\n",
       "      <td>...</td>\n",
       "      <td>de9c9f684</td>\n",
       "      <td>ae6800dd0</td>\n",
       "      <td>1</td>\n",
       "      <td>Expert</td>\n",
       "      <td>Lava Hot</td>\n",
       "      <td>h</td>\n",
       "      <td>R</td>\n",
       "      <td>Jc</td>\n",
       "      <td>7</td>\n",
       "      <td>2</td>\n",
       "    </tr>\n",
       "    <tr>\n",
       "      <th>3</th>\n",
       "      <td>0</td>\n",
       "      <td>1</td>\n",
       "      <td>0</td>\n",
       "      <td>F</td>\n",
       "      <td>Y</td>\n",
       "      <td>Red</td>\n",
       "      <td>Trapezoid</td>\n",
       "      <td>Snake</td>\n",
       "      <td>Canada</td>\n",
       "      <td>Oboe</td>\n",
       "      <td>...</td>\n",
       "      <td>4ade6ab69</td>\n",
       "      <td>8270f0d71</td>\n",
       "      <td>1</td>\n",
       "      <td>Grandmaster</td>\n",
       "      <td>Boiling Hot</td>\n",
       "      <td>i</td>\n",
       "      <td>D</td>\n",
       "      <td>kW</td>\n",
       "      <td>2</td>\n",
       "      <td>1</td>\n",
       "    </tr>\n",
       "    <tr>\n",
       "      <th>4</th>\n",
       "      <td>0</td>\n",
       "      <td>0</td>\n",
       "      <td>0</td>\n",
       "      <td>F</td>\n",
       "      <td>N</td>\n",
       "      <td>Red</td>\n",
       "      <td>Trapezoid</td>\n",
       "      <td>Lion</td>\n",
       "      <td>Canada</td>\n",
       "      <td>Oboe</td>\n",
       "      <td>...</td>\n",
       "      <td>cb43ab175</td>\n",
       "      <td>b164b72a7</td>\n",
       "      <td>1</td>\n",
       "      <td>Grandmaster</td>\n",
       "      <td>Freezing</td>\n",
       "      <td>a</td>\n",
       "      <td>R</td>\n",
       "      <td>qP</td>\n",
       "      <td>7</td>\n",
       "      <td>8</td>\n",
       "    </tr>\n",
       "    <tr>\n",
       "      <th>...</th>\n",
       "      <td>...</td>\n",
       "      <td>...</td>\n",
       "      <td>...</td>\n",
       "      <td>...</td>\n",
       "      <td>...</td>\n",
       "      <td>...</td>\n",
       "      <td>...</td>\n",
       "      <td>...</td>\n",
       "      <td>...</td>\n",
       "      <td>...</td>\n",
       "      <td>...</td>\n",
       "      <td>...</td>\n",
       "      <td>...</td>\n",
       "      <td>...</td>\n",
       "      <td>...</td>\n",
       "      <td>...</td>\n",
       "      <td>...</td>\n",
       "      <td>...</td>\n",
       "      <td>...</td>\n",
       "      <td>...</td>\n",
       "      <td>...</td>\n",
       "    </tr>\n",
       "    <tr>\n",
       "      <th>499995</th>\n",
       "      <td>0</td>\n",
       "      <td>0</td>\n",
       "      <td>0</td>\n",
       "      <td>F</td>\n",
       "      <td>N</td>\n",
       "      <td>Green</td>\n",
       "      <td>Square</td>\n",
       "      <td>Lion</td>\n",
       "      <td>Canada</td>\n",
       "      <td>Theremin</td>\n",
       "      <td>...</td>\n",
       "      <td>9e4b23160</td>\n",
       "      <td>acc31291f</td>\n",
       "      <td>1</td>\n",
       "      <td>Novice</td>\n",
       "      <td>Lava Hot</td>\n",
       "      <td>j</td>\n",
       "      <td>A</td>\n",
       "      <td>Gb</td>\n",
       "      <td>1</td>\n",
       "      <td>3</td>\n",
       "    </tr>\n",
       "    <tr>\n",
       "      <th>499996</th>\n",
       "      <td>1</td>\n",
       "      <td>0</td>\n",
       "      <td>0</td>\n",
       "      <td>F</td>\n",
       "      <td>Y</td>\n",
       "      <td>Green</td>\n",
       "      <td>Trapezoid</td>\n",
       "      <td>Lion</td>\n",
       "      <td>China</td>\n",
       "      <td>Piano</td>\n",
       "      <td>...</td>\n",
       "      <td>cfbd87ed0</td>\n",
       "      <td>eae3446d0</td>\n",
       "      <td>1</td>\n",
       "      <td>Contributor</td>\n",
       "      <td>Lava Hot</td>\n",
       "      <td>f</td>\n",
       "      <td>S</td>\n",
       "      <td>Ed</td>\n",
       "      <td>2</td>\n",
       "      <td>2</td>\n",
       "    </tr>\n",
       "    <tr>\n",
       "      <th>499997</th>\n",
       "      <td>0</td>\n",
       "      <td>1</td>\n",
       "      <td>1</td>\n",
       "      <td>T</td>\n",
       "      <td>Y</td>\n",
       "      <td>Green</td>\n",
       "      <td>Trapezoid</td>\n",
       "      <td>Lion</td>\n",
       "      <td>Canada</td>\n",
       "      <td>Oboe</td>\n",
       "      <td>...</td>\n",
       "      <td>1108bcd6c</td>\n",
       "      <td>33dd3cf4b</td>\n",
       "      <td>1</td>\n",
       "      <td>Novice</td>\n",
       "      <td>Boiling Hot</td>\n",
       "      <td>g</td>\n",
       "      <td>V</td>\n",
       "      <td>TR</td>\n",
       "      <td>3</td>\n",
       "      <td>1</td>\n",
       "    </tr>\n",
       "    <tr>\n",
       "      <th>499998</th>\n",
       "      <td>1</td>\n",
       "      <td>0</td>\n",
       "      <td>0</td>\n",
       "      <td>T</td>\n",
       "      <td>Y</td>\n",
       "      <td>Blue</td>\n",
       "      <td>Star</td>\n",
       "      <td>Hamster</td>\n",
       "      <td>Costa Rica</td>\n",
       "      <td>Bassoon</td>\n",
       "      <td>...</td>\n",
       "      <td>606ac930b</td>\n",
       "      <td>d4cf587dd</td>\n",
       "      <td>2</td>\n",
       "      <td>Grandmaster</td>\n",
       "      <td>Boiling Hot</td>\n",
       "      <td>g</td>\n",
       "      <td>X</td>\n",
       "      <td>Ye</td>\n",
       "      <td>2</td>\n",
       "      <td>1</td>\n",
       "    </tr>\n",
       "    <tr>\n",
       "      <th>499999</th>\n",
       "      <td>0</td>\n",
       "      <td>0</td>\n",
       "      <td>0</td>\n",
       "      <td>T</td>\n",
       "      <td>Y</td>\n",
       "      <td>Green</td>\n",
       "      <td>Star</td>\n",
       "      <td>Lion</td>\n",
       "      <td>India</td>\n",
       "      <td>Piano</td>\n",
       "      <td>...</td>\n",
       "      <td>4ea576eb6</td>\n",
       "      <td>2d610f52c</td>\n",
       "      <td>2</td>\n",
       "      <td>Novice</td>\n",
       "      <td>Freezing</td>\n",
       "      <td>l</td>\n",
       "      <td>J</td>\n",
       "      <td>ex</td>\n",
       "      <td>2</td>\n",
       "      <td>2</td>\n",
       "    </tr>\n",
       "  </tbody>\n",
       "</table>\n",
       "<p>500000 rows × 23 columns</p>\n",
       "</div>"
      ],
      "text/plain": [
       "        bin_0  bin_1  bin_2 bin_3 bin_4  nom_0      nom_1    nom_2  \\\n",
       "id                                                                   \n",
       "0           0      0      0     T     Y  Green   Triangle    Snake   \n",
       "1           0      1      0     T     Y  Green  Trapezoid  Hamster   \n",
       "2           0      0      0     F     Y   Blue  Trapezoid     Lion   \n",
       "3           0      1      0     F     Y    Red  Trapezoid    Snake   \n",
       "4           0      0      0     F     N    Red  Trapezoid     Lion   \n",
       "...       ...    ...    ...   ...   ...    ...        ...      ...   \n",
       "499995      0      0      0     F     N  Green     Square     Lion   \n",
       "499996      1      0      0     F     Y  Green  Trapezoid     Lion   \n",
       "499997      0      1      1     T     Y  Green  Trapezoid     Lion   \n",
       "499998      1      0      0     T     Y   Blue       Star  Hamster   \n",
       "499999      0      0      0     T     Y  Green       Star     Lion   \n",
       "\n",
       "             nom_3     nom_4  ...      nom_8      nom_9 ord_0        ord_1  \\\n",
       "id                            ...                                            \n",
       "0          Finland   Bassoon  ...  c389000ab  2f4cb3d51     2  Grandmaster   \n",
       "1           Russia     Piano  ...  4cd920251  f83c56c21     1  Grandmaster   \n",
       "2           Russia  Theremin  ...  de9c9f684  ae6800dd0     1       Expert   \n",
       "3           Canada      Oboe  ...  4ade6ab69  8270f0d71     1  Grandmaster   \n",
       "4           Canada      Oboe  ...  cb43ab175  b164b72a7     1  Grandmaster   \n",
       "...            ...       ...  ...        ...        ...   ...          ...   \n",
       "499995      Canada  Theremin  ...  9e4b23160  acc31291f     1       Novice   \n",
       "499996       China     Piano  ...  cfbd87ed0  eae3446d0     1  Contributor   \n",
       "499997      Canada      Oboe  ...  1108bcd6c  33dd3cf4b     1       Novice   \n",
       "499998  Costa Rica   Bassoon  ...  606ac930b  d4cf587dd     2  Grandmaster   \n",
       "499999       India     Piano  ...  4ea576eb6  2d610f52c     2       Novice   \n",
       "\n",
       "              ord_2  ord_3 ord_4 ord_5 day month  \n",
       "id                                                \n",
       "0              Cold      h     D    kr   2     2  \n",
       "1               Hot      a     A    bF   7     8  \n",
       "2          Lava Hot      h     R    Jc   7     2  \n",
       "3       Boiling Hot      i     D    kW   2     1  \n",
       "4          Freezing      a     R    qP   7     8  \n",
       "...             ...    ...   ...   ...  ..   ...  \n",
       "499995     Lava Hot      j     A    Gb   1     3  \n",
       "499996     Lava Hot      f     S    Ed   2     2  \n",
       "499997  Boiling Hot      g     V    TR   3     1  \n",
       "499998  Boiling Hot      g     X    Ye   2     1  \n",
       "499999     Freezing      l     J    ex   2     2  \n",
       "\n",
       "[500000 rows x 23 columns]"
      ]
     },
     "execution_count": 2,
     "metadata": {},
     "output_type": "execute_result"
    }
   ],
   "source": [
    "# 훈련 데이터와 테스트 데이터 합치기 \n",
    "all_data = pd.concat([train, test])\n",
    "all_data = all_data.drop('target', axis=1) # 타깃 값 제거\n",
    "all_data"
   ]
  },
  {
   "cell_type": "markdown",
   "metadata": {
    "papermill": {
     "duration": 0.009729,
     "end_time": "2021-02-02T10:51:09.862958",
     "exception": false,
     "start_time": "2021-02-02T10:51:09.853229",
     "status": "completed"
    },
    "tags": []
   },
   "source": [
    "## 원-핫 인코딩 적용"
   ]
  },
  {
   "cell_type": "code",
   "execution_count": 3,
   "metadata": {
    "execution": {
     "iopub.execute_input": "2021-02-02T10:51:09.887775Z",
     "iopub.status.busy": "2021-02-02T10:51:09.886751Z",
     "iopub.status.idle": "2021-02-02T10:51:15.594217Z",
     "shell.execute_reply": "2021-02-02T10:51:15.594728Z"
    },
    "papermill": {
     "duration": 5.721507,
     "end_time": "2021-02-02T10:51:15.594891",
     "exception": false,
     "start_time": "2021-02-02T10:51:09.873384",
     "status": "completed"
    },
    "tags": []
   },
   "outputs": [],
   "source": [
    "from sklearn.preprocessing import OneHotEncoder\n",
    "\n",
    "encoder = OneHotEncoder() # 원-핫 인코더 객체 생성\n",
    "all_data_encoded = encoder.fit_transform(all_data) # 원-핫 인코딩 적용"
   ]
  },
  {
   "cell_type": "markdown",
   "metadata": {
    "papermill": {
     "duration": 0.010232,
     "end_time": "2021-02-02T10:51:15.615548",
     "exception": false,
     "start_time": "2021-02-02T10:51:15.605316",
     "status": "completed"
    },
    "tags": []
   },
   "source": [
    "## 훈련 데이터, 테스트 데이터 나누기"
   ]
  },
  {
   "cell_type": "code",
   "execution_count": 4,
   "metadata": {
    "execution": {
     "iopub.execute_input": "2021-02-02T10:51:15.640443Z",
     "iopub.status.busy": "2021-02-02T10:51:15.639437Z",
     "iopub.status.idle": "2021-02-02T10:51:15.805814Z",
     "shell.execute_reply": "2021-02-02T10:51:15.806356Z"
    },
    "papermill": {
     "duration": 0.180784,
     "end_time": "2021-02-02T10:51:15.806497",
     "exception": false,
     "start_time": "2021-02-02T10:51:15.625713",
     "status": "completed"
    },
    "tags": []
   },
   "outputs": [],
   "source": [
    "num_train = train.shape[0] # 훈련 데이터 개수\n",
    "\n",
    "# 훈련 데이터와 테스트 데이터 나누기\n",
    "X_train = all_data_encoded[:num_train]\n",
    "X_test = all_data_encoded[num_train:]\n",
    "\n",
    "y_train = train['target']"
   ]
  },
  {
   "cell_type": "markdown",
   "metadata": {
    "papermill": {
     "duration": 0.010507,
     "end_time": "2021-02-02T10:51:15.827419",
     "exception": false,
     "start_time": "2021-02-02T10:51:15.816912",
     "status": "completed"
    },
    "tags": []
   },
   "source": [
    "## 로지스틱 회귀 모델 생성 및 훈련"
   ]
  },
  {
   "cell_type": "code",
   "execution_count": 5,
   "metadata": {
    "execution": {
     "iopub.execute_input": "2021-02-02T10:51:15.852642Z",
     "iopub.status.busy": "2021-02-02T10:51:15.851630Z",
     "iopub.status.idle": "2021-02-02T10:51:21.749529Z",
     "shell.execute_reply": "2021-02-02T10:51:21.750129Z"
    },
    "papermill": {
     "duration": 5.912114,
     "end_time": "2021-02-02T10:51:21.750271",
     "exception": false,
     "start_time": "2021-02-02T10:51:15.838157",
     "status": "completed"
    },
    "tags": []
   },
   "outputs": [
    {
     "name": "stderr",
     "output_type": "stream",
     "text": [
      "/opt/conda/lib/python3.7/site-packages/sklearn/linear_model/_logistic.py:764: ConvergenceWarning: lbfgs failed to converge (status=1):\n",
      "STOP: TOTAL NO. of ITERATIONS REACHED LIMIT.\n",
      "\n",
      "Increase the number of iterations (max_iter) or scale the data as shown in:\n",
      "    https://scikit-learn.org/stable/modules/preprocessing.html\n",
      "Please also refer to the documentation for alternative solver options:\n",
      "    https://scikit-learn.org/stable/modules/linear_model.html#logistic-regression\n",
      "  extra_warning_msg=_LOGISTIC_SOLVER_CONVERGENCE_MSG)\n"
     ]
    },
    {
     "data": {
      "text/plain": [
       "LogisticRegression()"
      ]
     },
     "execution_count": 5,
     "metadata": {},
     "output_type": "execute_result"
    }
   ],
   "source": [
    "from sklearn.linear_model import LogisticRegression\n",
    "\n",
    "logistic_model = LogisticRegression() # 모델 생성\n",
    "logistic_model.fit(X_train, y_train) # 모델 훈련"
   ]
  },
  {
   "cell_type": "markdown",
   "metadata": {
    "papermill": {
     "duration": 0.01082,
     "end_time": "2021-02-02T10:51:21.772233",
     "exception": false,
     "start_time": "2021-02-02T10:51:21.761413",
     "status": "completed"
    },
    "tags": []
   },
   "source": [
    "## 예측"
   ]
  },
  {
   "cell_type": "code",
   "execution_count": 6,
   "metadata": {
    "execution": {
     "iopub.execute_input": "2021-02-02T10:51:21.798530Z",
     "iopub.status.busy": "2021-02-02T10:51:21.797393Z",
     "iopub.status.idle": "2021-02-02T10:51:21.818085Z",
     "shell.execute_reply": "2021-02-02T10:51:21.818654Z"
    },
    "papermill": {
     "duration": 0.035591,
     "end_time": "2021-02-02T10:51:21.818819",
     "exception": false,
     "start_time": "2021-02-02T10:51:21.783228",
     "status": "completed"
    },
    "tags": []
   },
   "outputs": [],
   "source": [
    "# 타깃 값 1일 확률 예측\n",
    "y_preds = logistic_model.predict_proba(X_test)[:,1]"
   ]
  },
  {
   "cell_type": "markdown",
   "metadata": {
    "papermill": {
     "duration": 0.011282,
     "end_time": "2021-02-02T10:51:21.841841",
     "exception": false,
     "start_time": "2021-02-02T10:51:21.830559",
     "status": "completed"
    },
    "tags": []
   },
   "source": [
    "## 제출"
   ]
  },
  {
   "cell_type": "code",
   "execution_count": 7,
   "metadata": {
    "execution": {
     "iopub.execute_input": "2021-02-02T10:51:21.868536Z",
     "iopub.status.busy": "2021-02-02T10:51:21.867553Z",
     "iopub.status.idle": "2021-02-02T10:51:23.116191Z",
     "shell.execute_reply": "2021-02-02T10:51:23.116836Z"
    },
    "papermill": {
     "duration": 1.263702,
     "end_time": "2021-02-02T10:51:23.117010",
     "exception": false,
     "start_time": "2021-02-02T10:51:21.853308",
     "status": "completed"
    },
    "tags": []
   },
   "outputs": [],
   "source": [
    "# 제출 파일 생성\n",
    "submission['target'] = y_preds\n",
    "submission.to_csv('submission.csv')"
   ]
  }
 ],
 "metadata": {
  "kernelspec": {
   "display_name": "Python 3",
   "language": "python",
   "name": "python3"
  },
  "language_info": {
   "codemirror_mode": {
    "name": "ipython",
    "version": 3
   },
   "file_extension": ".py",
   "mimetype": "text/x-python",
   "name": "python",
   "nbconvert_exporter": "python",
   "pygments_lexer": "ipython3",
   "version": "3.7.6"
  },
  "papermill": {
   "duration": 21.727316,
   "end_time": "2021-02-02T10:51:23.235749",
   "environment_variables": {},
   "exception": null,
   "input_path": "__notebook__.ipynb",
   "output_path": "__notebook__.ipynb",
   "parameters": {},
   "start_time": "2021-02-02T10:51:01.508433",
   "version": "2.1.0"
  }
 },
 "nbformat": 4,
 "nbformat_minor": 4
}
