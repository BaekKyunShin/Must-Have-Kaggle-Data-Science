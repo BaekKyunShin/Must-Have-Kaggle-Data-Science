{
 "cells": [
  {
   "cell_type": "markdown",
   "metadata": {
    "papermill": {
     "duration": 0.037908,
     "end_time": "2021-04-05T07:58:05.307973",
     "exception": false,
     "start_time": "2021-04-05T07:58:05.270065",
     "status": "completed"
    },
    "tags": []
   },
   "source": [
    "# 향후 판매량 예측 경진대회 모델링\n",
    "- [향후 판매량 예측 경진대회 링크](https://www.kaggle.com/c/competitive-data-science-predict-future-sales)\n",
    "- [모델링 코드 참고 링크](https://www.kaggle.com/dkomyagin/predict-future-sales-lightgbm-framework)"
   ]
  },
  {
   "cell_type": "code",
   "execution_count": 1,
   "metadata": {
    "execution": {
     "iopub.execute_input": "2021-04-05T07:58:05.389536Z",
     "iopub.status.busy": "2021-04-05T07:58:05.388848Z",
     "iopub.status.idle": "2021-04-05T07:58:08.550377Z",
     "shell.execute_reply": "2021-04-05T07:58:08.549533Z"
    },
    "papermill": {
     "duration": 3.204798,
     "end_time": "2021-04-05T07:58:08.550586",
     "exception": false,
     "start_time": "2021-04-05T07:58:05.345788",
     "status": "completed"
    },
    "tags": []
   },
   "outputs": [],
   "source": [
    "# ch6/predict_future_sales_modeling.ipynb\n",
    "\n",
    "import numpy as np\n",
    "import pandas as pd\n",
    "import warnings\n",
    "\n",
    "warnings.filterwarnings(action='ignore') # 경고 메시지 생략\n",
    "\n",
    "# 데이터 경로\n",
    "data_path = '/kaggle/input/competitive-data-science-predict-future-sales/'\n",
    "\n",
    "sales_train = pd.read_csv(data_path + 'sales_train.csv')\n",
    "shops = pd.read_csv(data_path + 'shops.csv')\n",
    "items = pd.read_csv(data_path + 'items.csv')\n",
    "item_categories = pd.read_csv(data_path + 'item_categories.csv')\n",
    "test = pd.read_csv(data_path + 'test.csv')\n",
    "submission = pd.read_csv(data_path + 'sample_submission.csv')"
   ]
  },
  {
   "cell_type": "markdown",
   "metadata": {
    "papermill": {
     "duration": 0.036809,
     "end_time": "2021-04-05T07:58:08.624239",
     "exception": false,
     "start_time": "2021-04-05T07:58:08.587430",
     "status": "completed"
    },
    "tags": []
   },
   "source": [
    "#### 피처명 한글로 변경"
   ]
  },
  {
   "cell_type": "code",
   "execution_count": 2,
   "metadata": {
    "execution": {
     "iopub.execute_input": "2021-04-05T07:58:08.704606Z",
     "iopub.status.busy": "2021-04-05T07:58:08.703871Z",
     "iopub.status.idle": "2021-04-05T07:58:08.794633Z",
     "shell.execute_reply": "2021-04-05T07:58:08.795166Z"
    },
    "papermill": {
     "duration": 0.134792,
     "end_time": "2021-04-05T07:58:08.795355",
     "exception": false,
     "start_time": "2021-04-05T07:58:08.660563",
     "status": "completed"
    },
    "tags": []
   },
   "outputs": [],
   "source": [
    "sales_train = sales_train.rename(columns={'date': '날짜', \n",
    "                                          'date_block_num': '날짜ID',\n",
    "                                          'shop_id': '상점ID',\n",
    "                                          'item_id': '상품ID',\n",
    "                                          'item_price': '판매가',\n",
    "                                          'item_cnt_day': '판매량'})\n",
    "\n",
    "shops = shops.rename(columns={'shop_name': '상점명',\n",
    "                              'shop_id': '상점ID'})\n",
    "\n",
    "items = items.rename(columns={'item_name': '상품명',\n",
    "                              'item_id': '상품ID',\n",
    "                              'item_category_id': '상품범주ID'})\n",
    "\n",
    "item_categories = item_categories.rename(columns=\n",
    "                                         {'item_category_name': '상품범주명',\n",
    "                                          'item_category_id': '상품범주ID'})\n",
    "\n",
    "test = test.rename(columns={'shop_id': '상점ID',\n",
    "                            'item_id': '상품ID'})"
   ]
  },
  {
   "cell_type": "markdown",
   "metadata": {
    "papermill": {
     "duration": 0.036574,
     "end_time": "2021-04-05T07:58:08.868675",
     "exception": false,
     "start_time": "2021-04-05T07:58:08.832101",
     "status": "completed"
    },
    "tags": []
   },
   "source": [
    "#### 데이터 형변환"
   ]
  },
  {
   "cell_type": "code",
   "execution_count": 3,
   "metadata": {
    "execution": {
     "iopub.execute_input": "2021-04-05T07:58:08.956612Z",
     "iopub.status.busy": "2021-04-05T07:58:08.955862Z",
     "iopub.status.idle": "2021-04-05T07:58:09.347876Z",
     "shell.execute_reply": "2021-04-05T07:58:09.347060Z"
    },
    "papermill": {
     "duration": 0.442388,
     "end_time": "2021-04-05T07:58:09.348055",
     "exception": false,
     "start_time": "2021-04-05T07:58:08.905667",
     "status": "completed"
    },
    "tags": []
   },
   "outputs": [
    {
     "name": "stdout",
     "output_type": "stream",
     "text": [
      "62.5% 압축됨\n",
      "38.6% 압축됨\n",
      "54.2% 압축됨\n",
      "39.9% 압축됨\n",
      "70.8% 압축됨\n"
     ]
    }
   ],
   "source": [
    "def downcast(df, verbose=True):\n",
    "    start_mem = df.memory_usage().sum() / 1024**2\n",
    "    for col in df.columns:\n",
    "        dtype_name = df[col].dtype.name\n",
    "        if dtype_name == 'object':\n",
    "            pass\n",
    "        elif dtype_name == 'bool':\n",
    "            df[col] = df[col].astype('int8')\n",
    "        elif dtype_name.startswith('int') or (df[col].round() == df[col]).all():\n",
    "            df[col] = pd.to_numeric(df[col], downcast='integer')\n",
    "        else:\n",
    "            df[col] = pd.to_numeric(df[col], downcast='float')\n",
    "    end_mem = df.memory_usage().sum() / 1024**2\n",
    "    if verbose:\n",
    "        print('{:.1f}% 압축됨'.format(100 * (start_mem - end_mem) / start_mem))\n",
    "    \n",
    "    return df\n",
    "\n",
    "all_df = [sales_train, shops, items, item_categories, test]\n",
    "for df in all_df:\n",
    "    df = downcast(df)"
   ]
  },
  {
   "cell_type": "markdown",
   "metadata": {
    "papermill": {
     "duration": 0.03721,
     "end_time": "2021-04-05T07:58:09.422885",
     "exception": false,
     "start_time": "2021-04-05T07:58:09.385675",
     "status": "completed"
    },
    "tags": []
   },
   "source": [
    "## 피처 엔지니어링 I - sales_train, shops, items, item_categories 처리"
   ]
  },
  {
   "cell_type": "markdown",
   "metadata": {
    "papermill": {
     "duration": 0.036515,
     "end_time": "2021-04-05T07:58:09.496174",
     "exception": false,
     "start_time": "2021-04-05T07:58:09.459659",
     "status": "completed"
    },
    "tags": []
   },
   "source": [
    "### sales_train 이상치 제거 및 전처리"
   ]
  },
  {
   "cell_type": "code",
   "execution_count": 4,
   "metadata": {
    "execution": {
     "iopub.execute_input": "2021-04-05T07:58:09.578172Z",
     "iopub.status.busy": "2021-04-05T07:58:09.577112Z",
     "iopub.status.idle": "2021-04-05T07:58:09.968643Z",
     "shell.execute_reply": "2021-04-05T07:58:09.968090Z"
    },
    "papermill": {
     "duration": 0.435543,
     "end_time": "2021-04-05T07:58:09.968817",
     "exception": false,
     "start_time": "2021-04-05T07:58:09.533274",
     "status": "completed"
    },
    "tags": []
   },
   "outputs": [],
   "source": [
    "# 판매가가 0보다 큰 데이터 추출\n",
    "sales_train = sales_train[sales_train['판매가'] > 0]\n",
    "# 판매가가 50,000보다 작은 데이터 추출\n",
    "sales_train = sales_train[sales_train['판매가'] < 50000]\n",
    "# 판매량이 0보다 큰 데이터 추출\n",
    "sales_train = sales_train[sales_train['판매량'] > 0]\n",
    "# 판매량이 1,000보다 작은 데이터 추출\n",
    "sales_train = sales_train[sales_train['판매량'] < 1000]"
   ]
  },
  {
   "cell_type": "code",
   "execution_count": 5,
   "metadata": {
    "execution": {
     "iopub.execute_input": "2021-04-05T07:58:10.056725Z",
     "iopub.status.busy": "2021-04-05T07:58:10.054896Z",
     "iopub.status.idle": "2021-04-05T07:58:10.059389Z",
     "shell.execute_reply": "2021-04-05T07:58:10.057382Z"
    },
    "papermill": {
     "duration": 0.052401,
     "end_time": "2021-04-05T07:58:10.059624",
     "exception": false,
     "start_time": "2021-04-05T07:58:10.007223",
     "status": "completed"
    },
    "tags": []
   },
   "outputs": [
    {
     "name": "stdout",
     "output_type": "stream",
     "text": [
      "!Якутск Орджоникидзе, 56 фран || Якутск Орджоникидзе, 56\n",
      "!Якутск ТЦ \"Центральный\" фран || Якутск ТЦ \"Центральный\"\n",
      "Жуковский ул. Чкалова 39м? || Жуковский ул. Чкалова 39м²\n",
      "РостовНаДону ТРК \"Мегацентр Горизонт\" || РостовНаДону ТРК \"Мегацентр Горизонт\" Островной\n"
     ]
    }
   ],
   "source": [
    "print(shops['상점명'][0], '||', shops['상점명'][57])\n",
    "print(shops['상점명'][1], '||', shops['상점명'][58])\n",
    "print(shops['상점명'][10], '||', shops['상점명'][11])\n",
    "print(shops['상점명'][39], '||', shops['상점명'][40])"
   ]
  },
  {
   "cell_type": "code",
   "execution_count": 6,
   "metadata": {
    "execution": {
     "iopub.execute_input": "2021-04-05T07:58:10.146177Z",
     "iopub.status.busy": "2021-04-05T07:58:10.145470Z",
     "iopub.status.idle": "2021-04-05T07:58:10.165877Z",
     "shell.execute_reply": "2021-04-05T07:58:10.165293Z"
    },
    "papermill": {
     "duration": 0.065144,
     "end_time": "2021-04-05T07:58:10.166047",
     "exception": false,
     "start_time": "2021-04-05T07:58:10.100903",
     "status": "completed"
    },
    "tags": []
   },
   "outputs": [],
   "source": [
    "# sales_train 데이터에서 상점ID 수정\n",
    "sales_train.loc[sales_train['상점ID'] == 0, '상점ID'] = 57\n",
    "sales_train.loc[sales_train['상점ID'] == 1, '상점ID'] = 58\n",
    "sales_train.loc[sales_train['상점ID'] == 10, '상점ID'] = 11\n",
    "sales_train.loc[sales_train['상점ID'] == 39, '상점ID'] = 40\n",
    "\n",
    "# test 데이터에서 상점ID 수정\n",
    "test.loc[test['상점ID'] == 0, '상점ID'] = 57\n",
    "test.loc[test['상점ID'] == 1, '상점ID'] = 58\n",
    "test.loc[test['상점ID'] == 10, '상점ID'] = 11\n",
    "test.loc[test['상점ID'] == 39, '상점ID'] = 40"
   ]
  },
  {
   "cell_type": "markdown",
   "metadata": {
    "papermill": {
     "duration": 0.038158,
     "end_time": "2021-04-05T07:58:10.242349",
     "exception": false,
     "start_time": "2021-04-05T07:58:10.204191",
     "status": "completed"
    },
    "tags": []
   },
   "source": [
    "### shops 파생 피처 생성 및 인코딩"
   ]
  },
  {
   "cell_type": "code",
   "execution_count": 7,
   "metadata": {
    "execution": {
     "iopub.execute_input": "2021-04-05T07:58:10.324991Z",
     "iopub.status.busy": "2021-04-05T07:58:10.324205Z",
     "iopub.status.idle": "2021-04-05T07:58:10.327440Z",
     "shell.execute_reply": "2021-04-05T07:58:10.326810Z"
    },
    "papermill": {
     "duration": 0.047458,
     "end_time": "2021-04-05T07:58:10.327638",
     "exception": false,
     "start_time": "2021-04-05T07:58:10.280180",
     "status": "completed"
    },
    "tags": []
   },
   "outputs": [],
   "source": [
    "shops['도시'] = shops['상점명'].apply(lambda x: x.split()[0])"
   ]
  },
  {
   "cell_type": "code",
   "execution_count": 8,
   "metadata": {
    "execution": {
     "iopub.execute_input": "2021-04-05T07:58:10.412537Z",
     "iopub.status.busy": "2021-04-05T07:58:10.411529Z",
     "iopub.status.idle": "2021-04-05T07:58:10.416121Z",
     "shell.execute_reply": "2021-04-05T07:58:10.415515Z"
    },
    "papermill": {
     "duration": 0.051052,
     "end_time": "2021-04-05T07:58:10.416260",
     "exception": false,
     "start_time": "2021-04-05T07:58:10.365208",
     "status": "completed"
    },
    "tags": []
   },
   "outputs": [
    {
     "data": {
      "text/plain": [
       "array(['!Якутск', 'Адыгея', 'Балашиха', 'Волжский', 'Вологда', 'Воронеж',\n",
       "       'Выездная', 'Жуковский', 'Интернет-магазин', 'Казань', 'Калуга',\n",
       "       'Коломна', 'Красноярск', 'Курск', 'Москва', 'Мытищи', 'Н.Новгород',\n",
       "       'Новосибирск', 'Омск', 'РостовНаДону', 'СПб', 'Самара', 'Сергиев',\n",
       "       'Сургут', 'Томск', 'Тюмень', 'Уфа', 'Химки', 'Цифровой', 'Чехов',\n",
       "       'Якутск', 'Ярославль'], dtype=object)"
      ]
     },
     "execution_count": 8,
     "metadata": {},
     "output_type": "execute_result"
    }
   ],
   "source": [
    "shops['도시'].unique()"
   ]
  },
  {
   "cell_type": "code",
   "execution_count": 9,
   "metadata": {
    "execution": {
     "iopub.execute_input": "2021-04-05T07:58:10.501235Z",
     "iopub.status.busy": "2021-04-05T07:58:10.500181Z",
     "iopub.status.idle": "2021-04-05T07:58:10.504195Z",
     "shell.execute_reply": "2021-04-05T07:58:10.503197Z"
    },
    "papermill": {
     "duration": 0.049836,
     "end_time": "2021-04-05T07:58:10.504454",
     "exception": false,
     "start_time": "2021-04-05T07:58:10.454618",
     "status": "completed"
    },
    "tags": []
   },
   "outputs": [],
   "source": [
    "shops.loc[shops['도시'] =='!Якутск', '도시'] = 'Якутск'"
   ]
  },
  {
   "cell_type": "code",
   "execution_count": 10,
   "metadata": {
    "execution": {
     "iopub.execute_input": "2021-04-05T07:58:10.586425Z",
     "iopub.status.busy": "2021-04-05T07:58:10.585387Z",
     "iopub.status.idle": "2021-04-05T07:58:11.649205Z",
     "shell.execute_reply": "2021-04-05T07:58:11.648405Z"
    },
    "papermill": {
     "duration": 1.105915,
     "end_time": "2021-04-05T07:58:11.649434",
     "exception": false,
     "start_time": "2021-04-05T07:58:10.543519",
     "status": "completed"
    },
    "tags": []
   },
   "outputs": [],
   "source": [
    "from sklearn.preprocessing import LabelEncoder\n",
    "\n",
    "# 레이블 인코더 생성\n",
    "label_encoder = LabelEncoder()\n",
    "# 도시 피처 레이블 인코딩\n",
    "shops['도시'] = label_encoder.fit_transform(shops['도시'])"
   ]
  },
  {
   "cell_type": "code",
   "execution_count": 11,
   "metadata": {
    "execution": {
     "iopub.execute_input": "2021-04-05T07:58:11.749650Z",
     "iopub.status.busy": "2021-04-05T07:58:11.749020Z",
     "iopub.status.idle": "2021-04-05T07:58:11.763201Z",
     "shell.execute_reply": "2021-04-05T07:58:11.762525Z"
    },
    "papermill": {
     "duration": 0.059353,
     "end_time": "2021-04-05T07:58:11.763359",
     "exception": false,
     "start_time": "2021-04-05T07:58:11.704006",
     "status": "completed"
    },
    "tags": []
   },
   "outputs": [
    {
     "data": {
      "text/html": [
       "<div>\n",
       "<style scoped>\n",
       "    .dataframe tbody tr th:only-of-type {\n",
       "        vertical-align: middle;\n",
       "    }\n",
       "\n",
       "    .dataframe tbody tr th {\n",
       "        vertical-align: top;\n",
       "    }\n",
       "\n",
       "    .dataframe thead th {\n",
       "        text-align: right;\n",
       "    }\n",
       "</style>\n",
       "<table border=\"1\" class=\"dataframe\">\n",
       "  <thead>\n",
       "    <tr style=\"text-align: right;\">\n",
       "      <th></th>\n",
       "      <th>상점ID</th>\n",
       "      <th>도시</th>\n",
       "    </tr>\n",
       "  </thead>\n",
       "  <tbody>\n",
       "    <tr>\n",
       "      <th>0</th>\n",
       "      <td>0</td>\n",
       "      <td>29</td>\n",
       "    </tr>\n",
       "    <tr>\n",
       "      <th>1</th>\n",
       "      <td>1</td>\n",
       "      <td>29</td>\n",
       "    </tr>\n",
       "    <tr>\n",
       "      <th>2</th>\n",
       "      <td>2</td>\n",
       "      <td>0</td>\n",
       "    </tr>\n",
       "    <tr>\n",
       "      <th>3</th>\n",
       "      <td>3</td>\n",
       "      <td>1</td>\n",
       "    </tr>\n",
       "    <tr>\n",
       "      <th>4</th>\n",
       "      <td>4</td>\n",
       "      <td>2</td>\n",
       "    </tr>\n",
       "  </tbody>\n",
       "</table>\n",
       "</div>"
      ],
      "text/plain": [
       "   상점ID  도시\n",
       "0     0  29\n",
       "1     1  29\n",
       "2     2   0\n",
       "3     3   1\n",
       "4     4   2"
      ]
     },
     "execution_count": 11,
     "metadata": {},
     "output_type": "execute_result"
    }
   ],
   "source": [
    "# 상점명 피처 제거\n",
    "shops = shops.drop('상점명', axis=1)\n",
    "\n",
    "shops.head()"
   ]
  },
  {
   "cell_type": "markdown",
   "metadata": {
    "papermill": {
     "duration": 0.039209,
     "end_time": "2021-04-05T07:58:11.843008",
     "exception": false,
     "start_time": "2021-04-05T07:58:11.803799",
     "status": "completed"
    },
    "tags": []
   },
   "source": [
    "### itmes 파생 피처 생성"
   ]
  },
  {
   "cell_type": "code",
   "execution_count": 12,
   "metadata": {
    "execution": {
     "iopub.execute_input": "2021-04-05T07:58:11.929355Z",
     "iopub.status.busy": "2021-04-05T07:58:11.928405Z",
     "iopub.status.idle": "2021-04-05T07:58:11.933077Z",
     "shell.execute_reply": "2021-04-05T07:58:11.932401Z"
    },
    "papermill": {
     "duration": 0.050547,
     "end_time": "2021-04-05T07:58:11.933226",
     "exception": false,
     "start_time": "2021-04-05T07:58:11.882679",
     "status": "completed"
    },
    "tags": []
   },
   "outputs": [],
   "source": [
    "# 상품명 피처 제거\n",
    "items = items.drop(['상품명'], axis=1)"
   ]
  },
  {
   "cell_type": "code",
   "execution_count": 13,
   "metadata": {
    "execution": {
     "iopub.execute_input": "2021-04-05T07:58:12.024856Z",
     "iopub.status.busy": "2021-04-05T07:58:12.024123Z",
     "iopub.status.idle": "2021-04-05T07:58:12.123997Z",
     "shell.execute_reply": "2021-04-05T07:58:12.123356Z"
    },
    "papermill": {
     "duration": 0.149743,
     "end_time": "2021-04-05T07:58:12.124148",
     "exception": false,
     "start_time": "2021-04-05T07:58:11.974405",
     "status": "completed"
    },
    "tags": []
   },
   "outputs": [
    {
     "data": {
      "text/html": [
       "<div>\n",
       "<style scoped>\n",
       "    .dataframe tbody tr th:only-of-type {\n",
       "        vertical-align: middle;\n",
       "    }\n",
       "\n",
       "    .dataframe tbody tr th {\n",
       "        vertical-align: top;\n",
       "    }\n",
       "\n",
       "    .dataframe thead th {\n",
       "        text-align: right;\n",
       "    }\n",
       "</style>\n",
       "<table border=\"1\" class=\"dataframe\">\n",
       "  <thead>\n",
       "    <tr style=\"text-align: right;\">\n",
       "      <th></th>\n",
       "      <th>상품ID</th>\n",
       "      <th>상품범주ID</th>\n",
       "      <th>첫 판매날짜</th>\n",
       "    </tr>\n",
       "  </thead>\n",
       "  <tbody>\n",
       "    <tr>\n",
       "      <th>0</th>\n",
       "      <td>0</td>\n",
       "      <td>40</td>\n",
       "      <td>20.0</td>\n",
       "    </tr>\n",
       "    <tr>\n",
       "      <th>1</th>\n",
       "      <td>1</td>\n",
       "      <td>76</td>\n",
       "      <td>15.0</td>\n",
       "    </tr>\n",
       "    <tr>\n",
       "      <th>2</th>\n",
       "      <td>2</td>\n",
       "      <td>40</td>\n",
       "      <td>19.0</td>\n",
       "    </tr>\n",
       "    <tr>\n",
       "      <th>3</th>\n",
       "      <td>3</td>\n",
       "      <td>40</td>\n",
       "      <td>18.0</td>\n",
       "    </tr>\n",
       "    <tr>\n",
       "      <th>4</th>\n",
       "      <td>4</td>\n",
       "      <td>40</td>\n",
       "      <td>20.0</td>\n",
       "    </tr>\n",
       "  </tbody>\n",
       "</table>\n",
       "</div>"
      ],
      "text/plain": [
       "   상품ID  상품범주ID  첫 판매날짜\n",
       "0     0      40    20.0\n",
       "1     1      76    15.0\n",
       "2     2      40    19.0\n",
       "3     3      40    18.0\n",
       "4     4      40    20.0"
      ]
     },
     "execution_count": 13,
     "metadata": {},
     "output_type": "execute_result"
    }
   ],
   "source": [
    "# 상품이 맨 처음 팔린 날을 피처로 추가\n",
    "items['첫 판매날짜'] = sales_train.groupby('상품ID').agg({'날짜ID': 'min'})['날짜ID']\n",
    "\n",
    "items.head()"
   ]
  },
  {
   "cell_type": "code",
   "execution_count": 14,
   "metadata": {
    "execution": {
     "iopub.execute_input": "2021-04-05T07:58:12.225134Z",
     "iopub.status.busy": "2021-04-05T07:58:12.224342Z",
     "iopub.status.idle": "2021-04-05T07:58:12.228158Z",
     "shell.execute_reply": "2021-04-05T07:58:12.227523Z"
    },
    "papermill": {
     "duration": 0.057355,
     "end_time": "2021-04-05T07:58:12.228297",
     "exception": false,
     "start_time": "2021-04-05T07:58:12.170942",
     "status": "completed"
    },
    "tags": []
   },
   "outputs": [
    {
     "data": {
      "text/html": [
       "<div>\n",
       "<style scoped>\n",
       "    .dataframe tbody tr th:only-of-type {\n",
       "        vertical-align: middle;\n",
       "    }\n",
       "\n",
       "    .dataframe tbody tr th {\n",
       "        vertical-align: top;\n",
       "    }\n",
       "\n",
       "    .dataframe thead th {\n",
       "        text-align: right;\n",
       "    }\n",
       "</style>\n",
       "<table border=\"1\" class=\"dataframe\">\n",
       "  <thead>\n",
       "    <tr style=\"text-align: right;\">\n",
       "      <th></th>\n",
       "      <th>상품ID</th>\n",
       "      <th>상품범주ID</th>\n",
       "      <th>첫 판매날짜</th>\n",
       "    </tr>\n",
       "  </thead>\n",
       "  <tbody>\n",
       "    <tr>\n",
       "      <th>83</th>\n",
       "      <td>83</td>\n",
       "      <td>40</td>\n",
       "      <td>NaN</td>\n",
       "    </tr>\n",
       "    <tr>\n",
       "      <th>140</th>\n",
       "      <td>140</td>\n",
       "      <td>45</td>\n",
       "      <td>NaN</td>\n",
       "    </tr>\n",
       "    <tr>\n",
       "      <th>168</th>\n",
       "      <td>168</td>\n",
       "      <td>44</td>\n",
       "      <td>NaN</td>\n",
       "    </tr>\n",
       "    <tr>\n",
       "      <th>173</th>\n",
       "      <td>173</td>\n",
       "      <td>45</td>\n",
       "      <td>NaN</td>\n",
       "    </tr>\n",
       "    <tr>\n",
       "      <th>204</th>\n",
       "      <td>204</td>\n",
       "      <td>44</td>\n",
       "      <td>NaN</td>\n",
       "    </tr>\n",
       "    <tr>\n",
       "      <th>...</th>\n",
       "      <td>...</td>\n",
       "      <td>...</td>\n",
       "      <td>...</td>\n",
       "    </tr>\n",
       "    <tr>\n",
       "      <th>21974</th>\n",
       "      <td>21974</td>\n",
       "      <td>61</td>\n",
       "      <td>NaN</td>\n",
       "    </tr>\n",
       "    <tr>\n",
       "      <th>21975</th>\n",
       "      <td>21975</td>\n",
       "      <td>61</td>\n",
       "      <td>NaN</td>\n",
       "    </tr>\n",
       "    <tr>\n",
       "      <th>22022</th>\n",
       "      <td>22022</td>\n",
       "      <td>40</td>\n",
       "      <td>NaN</td>\n",
       "    </tr>\n",
       "    <tr>\n",
       "      <th>22035</th>\n",
       "      <td>22035</td>\n",
       "      <td>40</td>\n",
       "      <td>NaN</td>\n",
       "    </tr>\n",
       "    <tr>\n",
       "      <th>22137</th>\n",
       "      <td>22137</td>\n",
       "      <td>40</td>\n",
       "      <td>NaN</td>\n",
       "    </tr>\n",
       "  </tbody>\n",
       "</table>\n",
       "<p>368 rows × 3 columns</p>\n",
       "</div>"
      ],
      "text/plain": [
       "        상품ID  상품범주ID  첫 판매날짜\n",
       "83        83      40     NaN\n",
       "140      140      45     NaN\n",
       "168      168      44     NaN\n",
       "173      173      45     NaN\n",
       "204      204      44     NaN\n",
       "...      ...     ...     ...\n",
       "21974  21974      61     NaN\n",
       "21975  21975      61     NaN\n",
       "22022  22022      40     NaN\n",
       "22035  22035      40     NaN\n",
       "22137  22137      40     NaN\n",
       "\n",
       "[368 rows x 3 columns]"
      ]
     },
     "execution_count": 14,
     "metadata": {},
     "output_type": "execute_result"
    }
   ],
   "source": [
    "items[items['첫 판매날짜'].isna()]"
   ]
  },
  {
   "cell_type": "code",
   "execution_count": 15,
   "metadata": {
    "execution": {
     "iopub.execute_input": "2021-04-05T07:58:12.312614Z",
     "iopub.status.busy": "2021-04-05T07:58:12.311981Z",
     "iopub.status.idle": "2021-04-05T07:58:12.316110Z",
     "shell.execute_reply": "2021-04-05T07:58:12.316621Z"
    },
    "papermill": {
     "duration": 0.047922,
     "end_time": "2021-04-05T07:58:12.316823",
     "exception": false,
     "start_time": "2021-04-05T07:58:12.268901",
     "status": "completed"
    },
    "tags": []
   },
   "outputs": [],
   "source": [
    "# 첫 판매날짜 피처의 결측값을 34로 대체\n",
    "items['첫 판매날짜'] = items['첫 판매날짜'].fillna(34)"
   ]
  },
  {
   "cell_type": "markdown",
   "metadata": {
    "papermill": {
     "duration": 0.04004,
     "end_time": "2021-04-05T07:58:12.397383",
     "exception": false,
     "start_time": "2021-04-05T07:58:12.357343",
     "status": "completed"
    },
    "tags": []
   },
   "source": [
    "### item_categories 파생 피처 생성 및 인코딩"
   ]
  },
  {
   "cell_type": "code",
   "execution_count": 16,
   "metadata": {
    "execution": {
     "iopub.execute_input": "2021-04-05T07:58:12.482533Z",
     "iopub.status.busy": "2021-04-05T07:58:12.481880Z",
     "iopub.status.idle": "2021-04-05T07:58:12.488240Z",
     "shell.execute_reply": "2021-04-05T07:58:12.487647Z"
    },
    "papermill": {
     "duration": 0.050838,
     "end_time": "2021-04-05T07:58:12.488401",
     "exception": false,
     "start_time": "2021-04-05T07:58:12.437563",
     "status": "completed"
    },
    "tags": []
   },
   "outputs": [],
   "source": [
    "# 상품범주명의 첫 단어를 범주분류로 추출\n",
    "item_categories['범주분류'] = item_categories['상품범주명'].apply(lambda x: x.split()[0])  "
   ]
  },
  {
   "cell_type": "code",
   "execution_count": 17,
   "metadata": {
    "execution": {
     "iopub.execute_input": "2021-04-05T07:58:12.573472Z",
     "iopub.status.busy": "2021-04-05T07:58:12.572502Z",
     "iopub.status.idle": "2021-04-05T07:58:12.583221Z",
     "shell.execute_reply": "2021-04-05T07:58:12.582691Z"
    },
    "papermill": {
     "duration": 0.054209,
     "end_time": "2021-04-05T07:58:12.583366",
     "exception": false,
     "start_time": "2021-04-05T07:58:12.529157",
     "status": "completed"
    },
    "tags": []
   },
   "outputs": [
    {
     "data": {
      "text/plain": [
       "Игры          14\n",
       "Книги         13\n",
       "Подарки       12\n",
       "Игровые        8\n",
       "Аксессуары     7\n",
       "Музыка         6\n",
       "Программы      6\n",
       "Карты          5\n",
       "Кино           5\n",
       "Служебные      2\n",
       "Чистые         2\n",
       "Билеты         1\n",
       "Элементы       1\n",
       "PC             1\n",
       "Доставка       1\n",
       "Name: 범주분류, dtype: int64"
      ]
     },
     "execution_count": 17,
     "metadata": {},
     "output_type": "execute_result"
    }
   ],
   "source": [
    "item_categories['범주분류'].value_counts()"
   ]
  },
  {
   "cell_type": "code",
   "execution_count": 18,
   "metadata": {
    "execution": {
     "iopub.execute_input": "2021-04-05T07:58:12.709936Z",
     "iopub.status.busy": "2021-04-05T07:58:12.709165Z",
     "iopub.status.idle": "2021-04-05T07:58:12.711254Z",
     "shell.execute_reply": "2021-04-05T07:58:12.711741Z"
    },
    "papermill": {
     "duration": 0.087082,
     "end_time": "2021-04-05T07:58:12.711919",
     "exception": false,
     "start_time": "2021-04-05T07:58:12.624837",
     "status": "completed"
    },
    "tags": []
   },
   "outputs": [],
   "source": [
    "def make_etc(x):\n",
    "    if len(item_categories[item_categories['범주분류']==x]) >= 5:\n",
    "        return x\n",
    "    else:\n",
    "        return 'etc'\n",
    "\n",
    "# 범주분류 개수가 5개 미만이면 'etc'로 바꾸기\n",
    "item_categories['범주분류'] = item_categories['범주분류'].apply(make_etc)"
   ]
  },
  {
   "cell_type": "code",
   "execution_count": 19,
   "metadata": {
    "execution": {
     "iopub.execute_input": "2021-04-05T07:58:12.799170Z",
     "iopub.status.busy": "2021-04-05T07:58:12.798528Z",
     "iopub.status.idle": "2021-04-05T07:58:12.809842Z",
     "shell.execute_reply": "2021-04-05T07:58:12.809297Z"
    },
    "papermill": {
     "duration": 0.055623,
     "end_time": "2021-04-05T07:58:12.809992",
     "exception": false,
     "start_time": "2021-04-05T07:58:12.754369",
     "status": "completed"
    },
    "tags": []
   },
   "outputs": [
    {
     "data": {
      "text/html": [
       "<div>\n",
       "<style scoped>\n",
       "    .dataframe tbody tr th:only-of-type {\n",
       "        vertical-align: middle;\n",
       "    }\n",
       "\n",
       "    .dataframe tbody tr th {\n",
       "        vertical-align: top;\n",
       "    }\n",
       "\n",
       "    .dataframe thead th {\n",
       "        text-align: right;\n",
       "    }\n",
       "</style>\n",
       "<table border=\"1\" class=\"dataframe\">\n",
       "  <thead>\n",
       "    <tr style=\"text-align: right;\">\n",
       "      <th></th>\n",
       "      <th>상품범주명</th>\n",
       "      <th>상품범주ID</th>\n",
       "      <th>범주분류</th>\n",
       "    </tr>\n",
       "  </thead>\n",
       "  <tbody>\n",
       "    <tr>\n",
       "      <th>0</th>\n",
       "      <td>PC - Гарнитуры/Наушники</td>\n",
       "      <td>0</td>\n",
       "      <td>etc</td>\n",
       "    </tr>\n",
       "    <tr>\n",
       "      <th>1</th>\n",
       "      <td>Аксессуары - PS2</td>\n",
       "      <td>1</td>\n",
       "      <td>Аксессуары</td>\n",
       "    </tr>\n",
       "    <tr>\n",
       "      <th>2</th>\n",
       "      <td>Аксессуары - PS3</td>\n",
       "      <td>2</td>\n",
       "      <td>Аксессуары</td>\n",
       "    </tr>\n",
       "    <tr>\n",
       "      <th>3</th>\n",
       "      <td>Аксессуары - PS4</td>\n",
       "      <td>3</td>\n",
       "      <td>Аксессуары</td>\n",
       "    </tr>\n",
       "    <tr>\n",
       "      <th>4</th>\n",
       "      <td>Аксессуары - PSP</td>\n",
       "      <td>4</td>\n",
       "      <td>Аксессуары</td>\n",
       "    </tr>\n",
       "  </tbody>\n",
       "</table>\n",
       "</div>"
      ],
      "text/plain": [
       "                     상품범주명  상품범주ID        범주분류\n",
       "0  PC - Гарнитуры/Наушники       0         etc\n",
       "1         Аксессуары - PS2       1  Аксессуары\n",
       "2         Аксессуары - PS3       2  Аксессуары\n",
       "3         Аксессуары - PS4       3  Аксессуары\n",
       "4         Аксессуары - PSP       4  Аксессуары"
      ]
     },
     "execution_count": 19,
     "metadata": {},
     "output_type": "execute_result"
    }
   ],
   "source": [
    "item_categories.head()"
   ]
  },
  {
   "cell_type": "code",
   "execution_count": 20,
   "metadata": {
    "execution": {
     "iopub.execute_input": "2021-04-05T07:58:12.901655Z",
     "iopub.status.busy": "2021-04-05T07:58:12.900951Z",
     "iopub.status.idle": "2021-04-05T07:58:12.905681Z",
     "shell.execute_reply": "2021-04-05T07:58:12.906263Z"
    },
    "papermill": {
     "duration": 0.054559,
     "end_time": "2021-04-05T07:58:12.906443",
     "exception": false,
     "start_time": "2021-04-05T07:58:12.851884",
     "status": "completed"
    },
    "tags": []
   },
   "outputs": [],
   "source": [
    "# 레이블 인코더 생성\n",
    "label_encoder = LabelEncoder()\n",
    "# 범주분류 피처 레이블 인코딩\n",
    "item_categories['범주분류'] = label_encoder.fit_transform(item_categories['범주분류'])\n",
    "\n",
    "# 상품범주명 피처 제거\n",
    "item_categories = item_categories.drop('상품범주명', axis=1)"
   ]
  },
  {
   "cell_type": "markdown",
   "metadata": {
    "papermill": {
     "duration": 0.041877,
     "end_time": "2021-04-05T07:58:12.990553",
     "exception": false,
     "start_time": "2021-04-05T07:58:12.948676",
     "status": "completed"
    },
    "tags": []
   },
   "source": [
    "### 데이터 조합 및 파생 피처 생성"
   ]
  },
  {
   "cell_type": "code",
   "execution_count": 21,
   "metadata": {
    "execution": {
     "iopub.execute_input": "2021-04-05T07:58:13.085142Z",
     "iopub.status.busy": "2021-04-05T07:58:13.084420Z",
     "iopub.status.idle": "2021-04-05T07:58:34.912901Z",
     "shell.execute_reply": "2021-04-05T07:58:34.913476Z"
    },
    "papermill": {
     "duration": 21.881151,
     "end_time": "2021-04-05T07:58:34.913677",
     "exception": false,
     "start_time": "2021-04-05T07:58:13.032526",
     "status": "completed"
    },
    "tags": []
   },
   "outputs": [],
   "source": [
    "from itertools import product\n",
    "\n",
    "train = []\n",
    "# 날짜ID, 상점ID, 상품ID 조합 생성\n",
    "for i in sales_train['날짜ID'].unique():\n",
    "    all_shop = sales_train.loc[sales_train['날짜ID']==i, '상점ID'].unique()\n",
    "    all_item = sales_train.loc[sales_train['날짜ID']==i, '상품ID'].unique()\n",
    "    train.append(np.array(list(product([i], all_shop, all_item))))\n",
    "\n",
    "idx_features = ['날짜ID', '상점ID', '상품ID'] # 기준 피처 # 기준 피처\n",
    "train = pd.DataFrame(np.vstack(train), columns=idx_features)"
   ]
  },
  {
   "cell_type": "code",
   "execution_count": 22,
   "metadata": {
    "execution": {
     "iopub.execute_input": "2021-04-05T07:58:35.002077Z",
     "iopub.status.busy": "2021-04-05T07:58:35.001388Z",
     "iopub.status.idle": "2021-04-05T07:58:40.096086Z",
     "shell.execute_reply": "2021-04-05T07:58:40.095410Z"
    },
    "papermill": {
     "duration": 5.139987,
     "end_time": "2021-04-05T07:58:40.096257",
     "exception": false,
     "start_time": "2021-04-05T07:58:34.956270",
     "status": "completed"
    },
    "tags": []
   },
   "outputs": [
    {
     "data": {
      "text/html": [
       "<div>\n",
       "<style scoped>\n",
       "    .dataframe tbody tr th:only-of-type {\n",
       "        vertical-align: middle;\n",
       "    }\n",
       "\n",
       "    .dataframe tbody tr th {\n",
       "        vertical-align: top;\n",
       "    }\n",
       "\n",
       "    .dataframe thead th {\n",
       "        text-align: right;\n",
       "    }\n",
       "</style>\n",
       "<table border=\"1\" class=\"dataframe\">\n",
       "  <thead>\n",
       "    <tr style=\"text-align: right;\">\n",
       "      <th></th>\n",
       "      <th>날짜ID</th>\n",
       "      <th>상점ID</th>\n",
       "      <th>상품ID</th>\n",
       "      <th>총 판매량</th>\n",
       "      <th>평균 판매가</th>\n",
       "    </tr>\n",
       "  </thead>\n",
       "  <tbody>\n",
       "    <tr>\n",
       "      <th>0</th>\n",
       "      <td>0</td>\n",
       "      <td>59</td>\n",
       "      <td>22154</td>\n",
       "      <td>1.0</td>\n",
       "      <td>999.0</td>\n",
       "    </tr>\n",
       "    <tr>\n",
       "      <th>1</th>\n",
       "      <td>0</td>\n",
       "      <td>59</td>\n",
       "      <td>2552</td>\n",
       "      <td>NaN</td>\n",
       "      <td>NaN</td>\n",
       "    </tr>\n",
       "    <tr>\n",
       "      <th>2</th>\n",
       "      <td>0</td>\n",
       "      <td>59</td>\n",
       "      <td>2554</td>\n",
       "      <td>NaN</td>\n",
       "      <td>NaN</td>\n",
       "    </tr>\n",
       "    <tr>\n",
       "      <th>3</th>\n",
       "      <td>0</td>\n",
       "      <td>59</td>\n",
       "      <td>2555</td>\n",
       "      <td>NaN</td>\n",
       "      <td>NaN</td>\n",
       "    </tr>\n",
       "    <tr>\n",
       "      <th>4</th>\n",
       "      <td>0</td>\n",
       "      <td>59</td>\n",
       "      <td>2564</td>\n",
       "      <td>NaN</td>\n",
       "      <td>NaN</td>\n",
       "    </tr>\n",
       "  </tbody>\n",
       "</table>\n",
       "</div>"
      ],
      "text/plain": [
       "   날짜ID  상점ID   상품ID  총 판매량  평균 판매가\n",
       "0     0    59  22154    1.0   999.0\n",
       "1     0    59   2552    NaN     NaN\n",
       "2     0    59   2554    NaN     NaN\n",
       "3     0    59   2555    NaN     NaN\n",
       "4     0    59   2564    NaN     NaN"
      ]
     },
     "execution_count": 22,
     "metadata": {},
     "output_type": "execute_result"
    }
   ],
   "source": [
    "group = sales_train.groupby(idx_features).agg({'판매량': 'sum',\n",
    "                                               '판매가': 'mean'})\n",
    "group = group.reset_index()\n",
    "group = group.rename(columns={'판매량': '총 판매량', '판매가': '평균 판매가'})\n",
    "\n",
    "train = train.merge(group, on=idx_features, how='left')\n",
    "\n",
    "train.head()"
   ]
  },
  {
   "cell_type": "code",
   "execution_count": 23,
   "metadata": {
    "execution": {
     "iopub.execute_input": "2021-04-05T07:58:40.270448Z",
     "iopub.status.busy": "2021-04-05T07:58:40.269620Z",
     "iopub.status.idle": "2021-04-05T07:58:40.273955Z",
     "shell.execute_reply": "2021-04-05T07:58:40.273280Z"
    },
    "papermill": {
     "duration": 0.133321,
     "end_time": "2021-04-05T07:58:40.274118",
     "exception": false,
     "start_time": "2021-04-05T07:58:40.140797",
     "status": "completed"
    },
    "tags": []
   },
   "outputs": [],
   "source": [
    "import gc\n",
    "\n",
    "# group 변수 가비지 컬렉션\n",
    "del group\n",
    "gc.collect();"
   ]
  },
  {
   "cell_type": "code",
   "execution_count": 24,
   "metadata": {
    "execution": {
     "iopub.execute_input": "2021-04-05T07:58:40.367888Z",
     "iopub.status.busy": "2021-04-05T07:58:40.366826Z",
     "iopub.status.idle": "2021-04-05T07:58:45.396272Z",
     "shell.execute_reply": "2021-04-05T07:58:45.396775Z"
    },
    "papermill": {
     "duration": 5.079417,
     "end_time": "2021-04-05T07:58:45.396962",
     "exception": false,
     "start_time": "2021-04-05T07:58:40.317545",
     "status": "completed"
    },
    "tags": []
   },
   "outputs": [
    {
     "data": {
      "text/html": [
       "<div>\n",
       "<style scoped>\n",
       "    .dataframe tbody tr th:only-of-type {\n",
       "        vertical-align: middle;\n",
       "    }\n",
       "\n",
       "    .dataframe tbody tr th {\n",
       "        vertical-align: top;\n",
       "    }\n",
       "\n",
       "    .dataframe thead th {\n",
       "        text-align: right;\n",
       "    }\n",
       "</style>\n",
       "<table border=\"1\" class=\"dataframe\">\n",
       "  <thead>\n",
       "    <tr style=\"text-align: right;\">\n",
       "      <th></th>\n",
       "      <th>날짜ID</th>\n",
       "      <th>상점ID</th>\n",
       "      <th>상품ID</th>\n",
       "      <th>총 판매량</th>\n",
       "      <th>평균 판매가</th>\n",
       "      <th>판매건수</th>\n",
       "    </tr>\n",
       "  </thead>\n",
       "  <tbody>\n",
       "    <tr>\n",
       "      <th>0</th>\n",
       "      <td>0</td>\n",
       "      <td>59</td>\n",
       "      <td>22154</td>\n",
       "      <td>1.0</td>\n",
       "      <td>999.0</td>\n",
       "      <td>1.0</td>\n",
       "    </tr>\n",
       "    <tr>\n",
       "      <th>1</th>\n",
       "      <td>0</td>\n",
       "      <td>59</td>\n",
       "      <td>2552</td>\n",
       "      <td>NaN</td>\n",
       "      <td>NaN</td>\n",
       "      <td>NaN</td>\n",
       "    </tr>\n",
       "    <tr>\n",
       "      <th>2</th>\n",
       "      <td>0</td>\n",
       "      <td>59</td>\n",
       "      <td>2554</td>\n",
       "      <td>NaN</td>\n",
       "      <td>NaN</td>\n",
       "      <td>NaN</td>\n",
       "    </tr>\n",
       "    <tr>\n",
       "      <th>3</th>\n",
       "      <td>0</td>\n",
       "      <td>59</td>\n",
       "      <td>2555</td>\n",
       "      <td>NaN</td>\n",
       "      <td>NaN</td>\n",
       "      <td>NaN</td>\n",
       "    </tr>\n",
       "    <tr>\n",
       "      <th>4</th>\n",
       "      <td>0</td>\n",
       "      <td>59</td>\n",
       "      <td>2564</td>\n",
       "      <td>NaN</td>\n",
       "      <td>NaN</td>\n",
       "      <td>NaN</td>\n",
       "    </tr>\n",
       "  </tbody>\n",
       "</table>\n",
       "</div>"
      ],
      "text/plain": [
       "   날짜ID  상점ID   상품ID  총 판매량  평균 판매가  판매건수\n",
       "0     0    59  22154    1.0   999.0   1.0\n",
       "1     0    59   2552    NaN     NaN   NaN\n",
       "2     0    59   2554    NaN     NaN   NaN\n",
       "3     0    59   2555    NaN     NaN   NaN\n",
       "4     0    59   2564    NaN     NaN   NaN"
      ]
     },
     "execution_count": 24,
     "metadata": {},
     "output_type": "execute_result"
    }
   ],
   "source": [
    "# 상품 판매건수 피처 추가\n",
    "group = sales_train.groupby(idx_features).agg({'판매량': 'count'})\n",
    "group = group.reset_index()\n",
    "group = group.rename(columns={'판매량': '판매건수'})\n",
    "\n",
    "train = train.merge(group, on=idx_features, how='left')\n",
    "\n",
    "# 가비지 컬렉션\n",
    "del group, sales_train\n",
    "gc.collect()\n",
    "\n",
    "train.head()"
   ]
  },
  {
   "cell_type": "markdown",
   "metadata": {
    "papermill": {
     "duration": 0.043808,
     "end_time": "2021-04-05T07:58:45.494240",
     "exception": false,
     "start_time": "2021-04-05T07:58:45.450432",
     "status": "completed"
    },
    "tags": []
   },
   "source": [
    "### 테스트 데이터 이어붙이기, 나머지 데이터 병합"
   ]
  },
  {
   "cell_type": "code",
   "execution_count": 25,
   "metadata": {
    "execution": {
     "iopub.execute_input": "2021-04-05T07:58:45.593360Z",
     "iopub.status.busy": "2021-04-05T07:58:45.592001Z",
     "iopub.status.idle": "2021-04-05T07:58:46.316274Z",
     "shell.execute_reply": "2021-04-05T07:58:46.315778Z"
    },
    "papermill": {
     "duration": 0.778042,
     "end_time": "2021-04-05T07:58:46.316418",
     "exception": false,
     "start_time": "2021-04-05T07:58:45.538376",
     "status": "completed"
    },
    "tags": []
   },
   "outputs": [
    {
     "data": {
      "text/html": [
       "<div>\n",
       "<style scoped>\n",
       "    .dataframe tbody tr th:only-of-type {\n",
       "        vertical-align: middle;\n",
       "    }\n",
       "\n",
       "    .dataframe tbody tr th {\n",
       "        vertical-align: top;\n",
       "    }\n",
       "\n",
       "    .dataframe thead th {\n",
       "        text-align: right;\n",
       "    }\n",
       "</style>\n",
       "<table border=\"1\" class=\"dataframe\">\n",
       "  <thead>\n",
       "    <tr style=\"text-align: right;\">\n",
       "      <th></th>\n",
       "      <th>날짜ID</th>\n",
       "      <th>상점ID</th>\n",
       "      <th>상품ID</th>\n",
       "      <th>총 판매량</th>\n",
       "      <th>평균 판매가</th>\n",
       "      <th>판매건수</th>\n",
       "    </tr>\n",
       "  </thead>\n",
       "  <tbody>\n",
       "    <tr>\n",
       "      <th>0</th>\n",
       "      <td>0</td>\n",
       "      <td>59</td>\n",
       "      <td>22154</td>\n",
       "      <td>1.0</td>\n",
       "      <td>999.0</td>\n",
       "      <td>1.0</td>\n",
       "    </tr>\n",
       "    <tr>\n",
       "      <th>1</th>\n",
       "      <td>0</td>\n",
       "      <td>59</td>\n",
       "      <td>2552</td>\n",
       "      <td>0.0</td>\n",
       "      <td>0.0</td>\n",
       "      <td>0.0</td>\n",
       "    </tr>\n",
       "    <tr>\n",
       "      <th>2</th>\n",
       "      <td>0</td>\n",
       "      <td>59</td>\n",
       "      <td>2554</td>\n",
       "      <td>0.0</td>\n",
       "      <td>0.0</td>\n",
       "      <td>0.0</td>\n",
       "    </tr>\n",
       "    <tr>\n",
       "      <th>3</th>\n",
       "      <td>0</td>\n",
       "      <td>59</td>\n",
       "      <td>2555</td>\n",
       "      <td>0.0</td>\n",
       "      <td>0.0</td>\n",
       "      <td>0.0</td>\n",
       "    </tr>\n",
       "    <tr>\n",
       "      <th>4</th>\n",
       "      <td>0</td>\n",
       "      <td>59</td>\n",
       "      <td>2564</td>\n",
       "      <td>0.0</td>\n",
       "      <td>0.0</td>\n",
       "      <td>0.0</td>\n",
       "    </tr>\n",
       "  </tbody>\n",
       "</table>\n",
       "</div>"
      ],
      "text/plain": [
       "   날짜ID  상점ID   상품ID  총 판매량  평균 판매가  판매건수\n",
       "0     0    59  22154    1.0   999.0   1.0\n",
       "1     0    59   2552    0.0     0.0   0.0\n",
       "2     0    59   2554    0.0     0.0   0.0\n",
       "3     0    59   2555    0.0     0.0   0.0\n",
       "4     0    59   2564    0.0     0.0   0.0"
      ]
     },
     "execution_count": 25,
     "metadata": {},
     "output_type": "execute_result"
    }
   ],
   "source": [
    "# 테스트 데이터 날짜ID를 34로 설정\n",
    "test['날짜ID'] = 34\n",
    "\n",
    "# train과 test 이어붙이기\n",
    "all_data = pd.concat([train, test.drop('ID', axis=1)],\n",
    "                     ignore_index=True,\n",
    "                     keys=idx_features)\n",
    "# 결측값을 0으로 대체\n",
    "all_data = all_data.fillna(0)\n",
    "\n",
    "all_data.head()"
   ]
  },
  {
   "cell_type": "code",
   "execution_count": 26,
   "metadata": {
    "execution": {
     "iopub.execute_input": "2021-04-05T07:58:46.415475Z",
     "iopub.status.busy": "2021-04-05T07:58:46.413981Z",
     "iopub.status.idle": "2021-04-05T07:58:53.025045Z",
     "shell.execute_reply": "2021-04-05T07:58:53.025512Z"
    },
    "papermill": {
     "duration": 6.665138,
     "end_time": "2021-04-05T07:58:53.025721",
     "exception": false,
     "start_time": "2021-04-05T07:58:46.360583",
     "status": "completed"
    },
    "tags": []
   },
   "outputs": [
    {
     "name": "stdout",
     "output_type": "stream",
     "text": [
      "64.6% 압축됨\n"
     ]
    }
   ],
   "source": [
    "# 나머지 데이터 병합\n",
    "all_data = all_data.merge(shops, on='상점ID', how='left')\n",
    "all_data = all_data.merge(items, on='상품ID', how='left')\n",
    "all_data = all_data.merge(item_categories, on='상품범주ID', how='left')\n",
    "\n",
    "# 데이터 형변환\n",
    "all_data = downcast(all_data)\n",
    "\n",
    "# 가비지 컬렉션\n",
    "del shops, items, item_categories\n",
    "gc.collect();"
   ]
  },
  {
   "cell_type": "markdown",
   "metadata": {
    "papermill": {
     "duration": 0.052378,
     "end_time": "2021-04-05T07:58:53.124195",
     "exception": false,
     "start_time": "2021-04-05T07:58:53.071817",
     "status": "completed"
    },
    "tags": []
   },
   "source": [
    "## 피처 엔지니어링 II - 시차 피처 생성"
   ]
  },
  {
   "cell_type": "markdown",
   "metadata": {
    "papermill": {
     "duration": 0.054988,
     "end_time": "2021-04-05T07:58:53.246613",
     "exception": false,
     "start_time": "2021-04-05T07:58:53.191625",
     "status": "completed"
    },
    "tags": []
   },
   "source": [
    "### 기준 피처별 월간 평균 판매량 파생 피처 생성"
   ]
  },
  {
   "cell_type": "code",
   "execution_count": 27,
   "metadata": {
    "execution": {
     "iopub.execute_input": "2021-04-05T07:58:53.344960Z",
     "iopub.status.busy": "2021-04-05T07:58:53.344156Z",
     "iopub.status.idle": "2021-04-05T07:58:53.347362Z",
     "shell.execute_reply": "2021-04-05T07:58:53.346866Z"
    },
    "papermill": {
     "duration": 0.056198,
     "end_time": "2021-04-05T07:58:53.347502",
     "exception": false,
     "start_time": "2021-04-05T07:58:53.291304",
     "status": "completed"
    },
    "tags": []
   },
   "outputs": [],
   "source": [
    "def add_mean_features(df, mean_features, idx_features):\n",
    "    # 기준 피처 확인 ---①\n",
    "    assert (idx_features[0] == '날짜ID') and \\\n",
    "           len(idx_features) in [2, 3]\n",
    "    \n",
    "    # 파생 피처명 설정 ---②\n",
    "    if len(idx_features) == 2:\n",
    "        feature_name = idx_features[1] + '별 평균 판매량'\n",
    "    else:\n",
    "        feature_name = idx_features[1] + ' ' + idx_features[2] + '별 평균 판매량'\n",
    "    \n",
    "    # 기준 피처를 토대로 그룹화해 월간 평균 판매량 구하기 ---③\n",
    "    group = df.groupby(idx_features).agg({'총 판매량': 'mean'})\n",
    "    group = group.reset_index()\n",
    "    group = group.rename(columns={'총 판매량': feature_name})\n",
    "    \n",
    "    # df와 group 병합 ---④\n",
    "    df = df.merge(group, on=idx_features, how='left')\n",
    "    # 데이터 형변환 ---⑤\n",
    "    df = downcast(df, False)\n",
    "    # 새로 만든 mean_feature_name 피처를 mean_features 리스트에 추가 ---⑥\n",
    "    mean_features.append(feature_name)\n",
    "    \n",
    "    # 가비지 컬렉션\n",
    "    del group\n",
    "    gc.collect()\n",
    "    \n",
    "    return df, mean_features"
   ]
  },
  {
   "cell_type": "code",
   "execution_count": 28,
   "metadata": {
    "execution": {
     "iopub.execute_input": "2021-04-05T07:58:53.444150Z",
     "iopub.status.busy": "2021-04-05T07:58:53.443462Z",
     "iopub.status.idle": "2021-04-05T07:59:07.611949Z",
     "shell.execute_reply": "2021-04-05T07:59:07.611171Z"
    },
    "papermill": {
     "duration": 14.220141,
     "end_time": "2021-04-05T07:59:07.612189",
     "exception": false,
     "start_time": "2021-04-05T07:58:53.392048",
     "status": "completed"
    },
    "tags": []
   },
   "outputs": [],
   "source": [
    "# 그룹화 기준 피처에 '상품ID'를 포함한 파생 피처를 담을 리스트\n",
    "item_mean_features = []\n",
    "\n",
    "# ['날짜ID', '상품ID']로 그룹화한 월간 평균 판매량 파생 피처 생성\n",
    "all_data, item_mean_features = add_mean_features(df=all_data,\n",
    "                                                 mean_features=item_mean_features,\n",
    "                                                 idx_features=['날짜ID', '상품ID'])\n",
    "\n",
    "# ['날짜ID', '상품ID', '도시']로 그룹화한 월간 평균 판매량 파생 피처 생성\n",
    "all_data, item_mean_features = add_mean_features(df=all_data,\n",
    "                                                 mean_features=item_mean_features,\n",
    "                                                 idx_features=['날짜ID', '상품ID', '도시'])"
   ]
  },
  {
   "cell_type": "code",
   "execution_count": 29,
   "metadata": {
    "execution": {
     "iopub.execute_input": "2021-04-05T07:59:07.709147Z",
     "iopub.status.busy": "2021-04-05T07:59:07.708491Z",
     "iopub.status.idle": "2021-04-05T07:59:07.711155Z",
     "shell.execute_reply": "2021-04-05T07:59:07.711590Z"
    },
    "papermill": {
     "duration": 0.053691,
     "end_time": "2021-04-05T07:59:07.711785",
     "exception": false,
     "start_time": "2021-04-05T07:59:07.658094",
     "status": "completed"
    },
    "tags": []
   },
   "outputs": [
    {
     "data": {
      "text/plain": [
       "['상품ID별 평균 판매량', '상품ID 도시별 평균 판매량']"
      ]
     },
     "execution_count": 29,
     "metadata": {},
     "output_type": "execute_result"
    }
   ],
   "source": [
    "item_mean_features"
   ]
  },
  {
   "cell_type": "code",
   "execution_count": 30,
   "metadata": {
    "execution": {
     "iopub.execute_input": "2021-04-05T07:59:07.807911Z",
     "iopub.status.busy": "2021-04-05T07:59:07.807146Z",
     "iopub.status.idle": "2021-04-05T07:59:11.282058Z",
     "shell.execute_reply": "2021-04-05T07:59:11.282578Z"
    },
    "papermill": {
     "duration": 3.524868,
     "end_time": "2021-04-05T07:59:11.282782",
     "exception": false,
     "start_time": "2021-04-05T07:59:07.757914",
     "status": "completed"
    },
    "tags": []
   },
   "outputs": [],
   "source": [
    "# 그룹화 기준 피처에 '상점ID'를 포함한 파생 피처를 담을 리스트\n",
    "shop_mean_features = []\n",
    "\n",
    "# ['날짜ID', '상점ID', '상품범주ID']로 그룹화한 월간 평균 판매량 파생 피처 생성\n",
    "all_data, shop_mean_features = add_mean_features(df=all_data, \n",
    "                                                 mean_features=shop_mean_features,\n",
    "                                                 idx_features=['날짜ID', '상점ID', '상품범주ID'])"
   ]
  },
  {
   "cell_type": "code",
   "execution_count": 31,
   "metadata": {
    "execution": {
     "iopub.execute_input": "2021-04-05T07:59:11.377464Z",
     "iopub.status.busy": "2021-04-05T07:59:11.376805Z",
     "iopub.status.idle": "2021-04-05T07:59:11.381352Z",
     "shell.execute_reply": "2021-04-05T07:59:11.381852Z"
    },
    "papermill": {
     "duration": 0.05384,
     "end_time": "2021-04-05T07:59:11.382020",
     "exception": false,
     "start_time": "2021-04-05T07:59:11.328180",
     "status": "completed"
    },
    "tags": []
   },
   "outputs": [
    {
     "data": {
      "text/plain": [
       "['상점ID 상품범주ID별 평균 판매량']"
      ]
     },
     "execution_count": 31,
     "metadata": {},
     "output_type": "execute_result"
    }
   ],
   "source": [
    "shop_mean_features"
   ]
  },
  {
   "cell_type": "markdown",
   "metadata": {
    "papermill": {
     "duration": 0.046221,
     "end_time": "2021-04-05T07:59:11.474384",
     "exception": false,
     "start_time": "2021-04-05T07:59:11.428163",
     "status": "completed"
    },
    "tags": []
   },
   "source": [
    "### 시차 파생 피처 만들기"
   ]
  },
  {
   "cell_type": "code",
   "execution_count": 32,
   "metadata": {
    "execution": {
     "iopub.execute_input": "2021-04-05T07:59:11.569353Z",
     "iopub.status.busy": "2021-04-05T07:59:11.568659Z",
     "iopub.status.idle": "2021-04-05T07:59:11.575660Z",
     "shell.execute_reply": "2021-04-05T07:59:11.576190Z"
    },
    "papermill": {
     "duration": 0.056191,
     "end_time": "2021-04-05T07:59:11.576369",
     "exception": false,
     "start_time": "2021-04-05T07:59:11.520178",
     "status": "completed"
    },
    "tags": []
   },
   "outputs": [],
   "source": [
    "def add_lag_features(df, lag_features_to_clip, idx_features, \n",
    "                     lag_feature, nlags=3, clip=False):\n",
    "    # 시차 피처 생성에 필요한 DataFrame 부분만 복사 ---①\n",
    "    df_temp = df[idx_features + [lag_feature]].copy() \n",
    "\n",
    "    # 시차 피처 생성 ---②\n",
    "    for i in range(1, nlags+1):\n",
    "        # 시차 피처명 ---③\n",
    "        lag_feature_name = lag_feature +'_시차' + str(i)\n",
    "        # df_temp 열 이름 설정 ---④\n",
    "        df_temp.columns = idx_features + [lag_feature_name]\n",
    "        # df_temp의 date_block_num 피처에 1 더하기 ---⑤\n",
    "        df_temp['날짜ID'] += i\n",
    "        # idx_feature를 기준으로 df와 df_temp 병합하기 ---⑥\n",
    "        df = df.merge(df_temp.drop_duplicates(), \n",
    "                      on=idx_features, \n",
    "                      how='left')\n",
    "        # 결측값 0으로 대체 ---⑦\n",
    "        df[lag_feature_name] = df[lag_feature_name].fillna(0)\n",
    "        # 0~20 사이로 제한할 시차 피처를 lag_features_to_clip에 추가 ---⑧\n",
    "        if clip: \n",
    "            lag_features_to_clip.append(lag_feature_name)\n",
    "    \n",
    "    # 데이터 형변환\n",
    "    df = downcast(df, False)\n",
    "    # 가비지 컬렉션\n",
    "    del df_temp\n",
    "    gc.collect()\n",
    "    \n",
    "    return df, lag_features_to_clip"
   ]
  },
  {
   "cell_type": "code",
   "execution_count": 33,
   "metadata": {
    "execution": {
     "iopub.execute_input": "2021-04-05T07:59:11.672286Z",
     "iopub.status.busy": "2021-04-05T07:59:11.671540Z",
     "iopub.status.idle": "2021-04-05T07:59:43.659065Z",
     "shell.execute_reply": "2021-04-05T07:59:43.658503Z"
    },
    "papermill": {
     "duration": 32.036616,
     "end_time": "2021-04-05T07:59:43.659232",
     "exception": false,
     "start_time": "2021-04-05T07:59:11.622616",
     "status": "completed"
    },
    "tags": []
   },
   "outputs": [],
   "source": [
    "lag_features_to_clip = [] # 0~20 사이로 제한할 시차 피처를 담을 리스트\n",
    "idx_features = ['날짜ID', '상점ID', '상품ID'] # 기준 피처\n",
    "\n",
    "# idx_features를 기준으로 총 판매량의 세 달치 시차 피처 생성\n",
    "all_data, lag_features_to_clip = add_lag_features(df=all_data, \n",
    "                                                  lag_features_to_clip=lag_features_to_clip,\n",
    "                                                  idx_features=idx_features,\n",
    "                                                  lag_feature='총 판매량', \n",
    "                                                  nlags=3,\n",
    "                                                  clip=True)"
   ]
  },
  {
   "cell_type": "code",
   "execution_count": 34,
   "metadata": {
    "execution": {
     "iopub.execute_input": "2021-04-05T07:59:43.769136Z",
     "iopub.status.busy": "2021-04-05T07:59:43.757955Z",
     "iopub.status.idle": "2021-04-05T07:59:43.774059Z",
     "shell.execute_reply": "2021-04-05T07:59:43.773506Z"
    },
    "papermill": {
     "duration": 0.068397,
     "end_time": "2021-04-05T07:59:43.774201",
     "exception": false,
     "start_time": "2021-04-05T07:59:43.705804",
     "status": "completed"
    },
    "tags": []
   },
   "outputs": [
    {
     "data": {
      "text/html": [
       "<div>\n",
       "<style scoped>\n",
       "    .dataframe tbody tr th:only-of-type {\n",
       "        vertical-align: middle;\n",
       "    }\n",
       "\n",
       "    .dataframe tbody tr th {\n",
       "        vertical-align: top;\n",
       "    }\n",
       "\n",
       "    .dataframe thead th {\n",
       "        text-align: right;\n",
       "    }\n",
       "</style>\n",
       "<table border=\"1\" class=\"dataframe\">\n",
       "  <thead>\n",
       "    <tr style=\"text-align: right;\">\n",
       "      <th></th>\n",
       "      <th>0</th>\n",
       "      <th>1</th>\n",
       "      <th>2</th>\n",
       "      <th>3</th>\n",
       "      <th>4</th>\n",
       "    </tr>\n",
       "  </thead>\n",
       "  <tbody>\n",
       "    <tr>\n",
       "      <th>날짜ID</th>\n",
       "      <td>0.000000</td>\n",
       "      <td>0.000000</td>\n",
       "      <td>0.000000</td>\n",
       "      <td>0.000000</td>\n",
       "      <td>0.000000</td>\n",
       "    </tr>\n",
       "    <tr>\n",
       "      <th>상점ID</th>\n",
       "      <td>59.000000</td>\n",
       "      <td>59.000000</td>\n",
       "      <td>59.000000</td>\n",
       "      <td>59.000000</td>\n",
       "      <td>59.000000</td>\n",
       "    </tr>\n",
       "    <tr>\n",
       "      <th>상품ID</th>\n",
       "      <td>22154.000000</td>\n",
       "      <td>2552.000000</td>\n",
       "      <td>2554.000000</td>\n",
       "      <td>2555.000000</td>\n",
       "      <td>2564.000000</td>\n",
       "    </tr>\n",
       "    <tr>\n",
       "      <th>총 판매량</th>\n",
       "      <td>1.000000</td>\n",
       "      <td>0.000000</td>\n",
       "      <td>0.000000</td>\n",
       "      <td>0.000000</td>\n",
       "      <td>0.000000</td>\n",
       "    </tr>\n",
       "    <tr>\n",
       "      <th>평균 판매가</th>\n",
       "      <td>999.000000</td>\n",
       "      <td>0.000000</td>\n",
       "      <td>0.000000</td>\n",
       "      <td>0.000000</td>\n",
       "      <td>0.000000</td>\n",
       "    </tr>\n",
       "    <tr>\n",
       "      <th>판매건수</th>\n",
       "      <td>1.000000</td>\n",
       "      <td>0.000000</td>\n",
       "      <td>0.000000</td>\n",
       "      <td>0.000000</td>\n",
       "      <td>0.000000</td>\n",
       "    </tr>\n",
       "    <tr>\n",
       "      <th>도시</th>\n",
       "      <td>30.000000</td>\n",
       "      <td>30.000000</td>\n",
       "      <td>30.000000</td>\n",
       "      <td>30.000000</td>\n",
       "      <td>30.000000</td>\n",
       "    </tr>\n",
       "    <tr>\n",
       "      <th>상품범주ID</th>\n",
       "      <td>37.000000</td>\n",
       "      <td>58.000000</td>\n",
       "      <td>58.000000</td>\n",
       "      <td>56.000000</td>\n",
       "      <td>59.000000</td>\n",
       "    </tr>\n",
       "    <tr>\n",
       "      <th>첫 판매날짜</th>\n",
       "      <td>0.000000</td>\n",
       "      <td>0.000000</td>\n",
       "      <td>0.000000</td>\n",
       "      <td>0.000000</td>\n",
       "      <td>0.000000</td>\n",
       "    </tr>\n",
       "    <tr>\n",
       "      <th>범주분류</th>\n",
       "      <td>5.000000</td>\n",
       "      <td>7.000000</td>\n",
       "      <td>7.000000</td>\n",
       "      <td>7.000000</td>\n",
       "      <td>7.000000</td>\n",
       "    </tr>\n",
       "    <tr>\n",
       "      <th>상품ID별 평균 판매량</th>\n",
       "      <td>0.400000</td>\n",
       "      <td>0.022222</td>\n",
       "      <td>0.022222</td>\n",
       "      <td>0.044444</td>\n",
       "      <td>0.111111</td>\n",
       "    </tr>\n",
       "    <tr>\n",
       "      <th>상품ID 도시별 평균 판매량</th>\n",
       "      <td>1.000000</td>\n",
       "      <td>0.000000</td>\n",
       "      <td>0.000000</td>\n",
       "      <td>0.000000</td>\n",
       "      <td>0.000000</td>\n",
       "    </tr>\n",
       "    <tr>\n",
       "      <th>상점ID 상품범주ID별 평균 판매량</th>\n",
       "      <td>0.088496</td>\n",
       "      <td>0.000000</td>\n",
       "      <td>0.000000</td>\n",
       "      <td>0.008333</td>\n",
       "      <td>0.011976</td>\n",
       "    </tr>\n",
       "    <tr>\n",
       "      <th>총 판매량_시차1</th>\n",
       "      <td>0.000000</td>\n",
       "      <td>0.000000</td>\n",
       "      <td>0.000000</td>\n",
       "      <td>0.000000</td>\n",
       "      <td>0.000000</td>\n",
       "    </tr>\n",
       "    <tr>\n",
       "      <th>총 판매량_시차2</th>\n",
       "      <td>0.000000</td>\n",
       "      <td>0.000000</td>\n",
       "      <td>0.000000</td>\n",
       "      <td>0.000000</td>\n",
       "      <td>0.000000</td>\n",
       "    </tr>\n",
       "    <tr>\n",
       "      <th>총 판매량_시차3</th>\n",
       "      <td>0.000000</td>\n",
       "      <td>0.000000</td>\n",
       "      <td>0.000000</td>\n",
       "      <td>0.000000</td>\n",
       "      <td>0.000000</td>\n",
       "    </tr>\n",
       "  </tbody>\n",
       "</table>\n",
       "</div>"
      ],
      "text/plain": [
       "                                0            1            2            3  \\\n",
       "날짜ID                     0.000000     0.000000     0.000000     0.000000   \n",
       "상점ID                    59.000000    59.000000    59.000000    59.000000   \n",
       "상품ID                 22154.000000  2552.000000  2554.000000  2555.000000   \n",
       "총 판매량                    1.000000     0.000000     0.000000     0.000000   \n",
       "평균 판매가                 999.000000     0.000000     0.000000     0.000000   \n",
       "판매건수                     1.000000     0.000000     0.000000     0.000000   \n",
       "도시                      30.000000    30.000000    30.000000    30.000000   \n",
       "상품범주ID                  37.000000    58.000000    58.000000    56.000000   \n",
       "첫 판매날짜                   0.000000     0.000000     0.000000     0.000000   \n",
       "범주분류                     5.000000     7.000000     7.000000     7.000000   \n",
       "상품ID별 평균 판매량             0.400000     0.022222     0.022222     0.044444   \n",
       "상품ID 도시별 평균 판매량          1.000000     0.000000     0.000000     0.000000   \n",
       "상점ID 상품범주ID별 평균 판매량      0.088496     0.000000     0.000000     0.008333   \n",
       "총 판매량_시차1                0.000000     0.000000     0.000000     0.000000   \n",
       "총 판매량_시차2                0.000000     0.000000     0.000000     0.000000   \n",
       "총 판매량_시차3                0.000000     0.000000     0.000000     0.000000   \n",
       "\n",
       "                               4  \n",
       "날짜ID                    0.000000  \n",
       "상점ID                   59.000000  \n",
       "상품ID                 2564.000000  \n",
       "총 판매량                   0.000000  \n",
       "평균 판매가                  0.000000  \n",
       "판매건수                    0.000000  \n",
       "도시                     30.000000  \n",
       "상품범주ID                 59.000000  \n",
       "첫 판매날짜                  0.000000  \n",
       "범주분류                    7.000000  \n",
       "상품ID별 평균 판매량            0.111111  \n",
       "상품ID 도시별 평균 판매량         0.000000  \n",
       "상점ID 상품범주ID별 평균 판매량     0.011976  \n",
       "총 판매량_시차1               0.000000  \n",
       "총 판매량_시차2               0.000000  \n",
       "총 판매량_시차3               0.000000  "
      ]
     },
     "execution_count": 34,
     "metadata": {},
     "output_type": "execute_result"
    }
   ],
   "source": [
    "all_data.head().T"
   ]
  },
  {
   "cell_type": "code",
   "execution_count": 35,
   "metadata": {
    "execution": {
     "iopub.execute_input": "2021-04-05T07:59:43.874635Z",
     "iopub.status.busy": "2021-04-05T07:59:43.873831Z",
     "iopub.status.idle": "2021-04-05T07:59:43.877544Z",
     "shell.execute_reply": "2021-04-05T07:59:43.878006Z"
    },
    "papermill": {
     "duration": 0.0571,
     "end_time": "2021-04-05T07:59:43.878188",
     "exception": false,
     "start_time": "2021-04-05T07:59:43.821088",
     "status": "completed"
    },
    "tags": []
   },
   "outputs": [
    {
     "data": {
      "text/plain": [
       "['총 판매량_시차1', '총 판매량_시차2', '총 판매량_시차3']"
      ]
     },
     "execution_count": 35,
     "metadata": {},
     "output_type": "execute_result"
    }
   ],
   "source": [
    "lag_features_to_clip"
   ]
  },
  {
   "cell_type": "code",
   "execution_count": 36,
   "metadata": {
    "execution": {
     "iopub.execute_input": "2021-04-05T07:59:43.982271Z",
     "iopub.status.busy": "2021-04-05T07:59:43.980463Z",
     "iopub.status.idle": "2021-04-05T08:00:58.044521Z",
     "shell.execute_reply": "2021-04-05T08:00:58.045107Z"
    },
    "papermill": {
     "duration": 74.119672,
     "end_time": "2021-04-05T08:00:58.045358",
     "exception": false,
     "start_time": "2021-04-05T07:59:43.925686",
     "status": "completed"
    },
    "tags": []
   },
   "outputs": [],
   "source": [
    "# idx_features를 기준으로 판매건수 피처의 세 달치 시차 피처 생성\n",
    "all_data, lag_features_to_clip = add_lag_features(df=all_data, \n",
    "                                                  lag_features_to_clip=lag_features_to_clip,\n",
    "                                                  idx_features=idx_features,\n",
    "                                                  lag_feature='판매건수', \n",
    "                                                  nlags=3)\n",
    "\n",
    "# idx_features를 기준으로 평균 판매가 피처의 세 달치 시차 피처 생성\n",
    "all_data, lag_features_to_clip = add_lag_features(df=all_data, \n",
    "                                                  lag_features_to_clip=lag_features_to_clip,\n",
    "                                                  idx_features=idx_features,\n",
    "                                                  lag_feature='평균 판매가', \n",
    "                                                  nlags=3)"
   ]
  },
  {
   "cell_type": "code",
   "execution_count": 37,
   "metadata": {
    "execution": {
     "iopub.execute_input": "2021-04-05T08:00:58.148497Z",
     "iopub.status.busy": "2021-04-05T08:00:58.147849Z",
     "iopub.status.idle": "2021-04-05T08:00:58.575134Z",
     "shell.execute_reply": "2021-04-05T08:00:58.574426Z"
    },
    "papermill": {
     "duration": 0.478678,
     "end_time": "2021-04-05T08:00:58.575289",
     "exception": false,
     "start_time": "2021-04-05T08:00:58.096611",
     "status": "completed"
    },
    "tags": []
   },
   "outputs": [
    {
     "data": {
      "text/plain": [
       "상품ID별 평균 판매량       0.0\n",
       "상품ID 도시별 평균 판매량    0.0\n",
       "dtype: float32"
      ]
     },
     "execution_count": 37,
     "metadata": {},
     "output_type": "execute_result"
    }
   ],
   "source": [
    "X_test_temp = all_data[all_data['날짜ID'] == 34]\n",
    "X_test_temp[item_mean_features].sum()"
   ]
  },
  {
   "cell_type": "code",
   "execution_count": 38,
   "metadata": {
    "execution": {
     "iopub.execute_input": "2021-04-05T08:00:58.725176Z",
     "iopub.status.busy": "2021-04-05T08:00:58.724398Z",
     "iopub.status.idle": "2021-04-05T08:02:09.745690Z",
     "shell.execute_reply": "2021-04-05T08:02:09.746441Z"
    },
    "papermill": {
     "duration": 71.123494,
     "end_time": "2021-04-05T08:02:09.746658",
     "exception": false,
     "start_time": "2021-04-05T08:00:58.623164",
     "status": "completed"
    },
    "tags": []
   },
   "outputs": [],
   "source": [
    "# idx_features를 기준으로 item_mean_features 요소별 시차 피처 생성\n",
    "for item_mean_feature in item_mean_features:\n",
    "    all_data, lag_features_to_clip = add_lag_features(df=all_data, \n",
    "                                                      lag_features_to_clip=lag_features_to_clip, \n",
    "                                                      idx_features=idx_features, \n",
    "                                                      lag_feature=item_mean_feature, \n",
    "                                                      nlags=3)\n",
    "# item_mean_features 피처 제거\n",
    "all_data = all_data.drop(item_mean_features, axis=1)"
   ]
  },
  {
   "cell_type": "code",
   "execution_count": 39,
   "metadata": {
    "execution": {
     "iopub.execute_input": "2021-04-05T08:02:09.855080Z",
     "iopub.status.busy": "2021-04-05T08:02:09.854354Z",
     "iopub.status.idle": "2021-04-05T08:02:09.860574Z",
     "shell.execute_reply": "2021-04-05T08:02:09.860047Z"
    },
    "papermill": {
     "duration": 0.061921,
     "end_time": "2021-04-05T08:02:09.860724",
     "exception": false,
     "start_time": "2021-04-05T08:02:09.798803",
     "status": "completed"
    },
    "tags": []
   },
   "outputs": [
    {
     "data": {
      "text/plain": [
       "['상점ID 상품범주ID별 평균 판매량']"
      ]
     },
     "execution_count": 39,
     "metadata": {},
     "output_type": "execute_result"
    }
   ],
   "source": [
    "shop_mean_features"
   ]
  },
  {
   "cell_type": "code",
   "execution_count": 40,
   "metadata": {
    "execution": {
     "iopub.execute_input": "2021-04-05T08:02:09.968280Z",
     "iopub.status.busy": "2021-04-05T08:02:09.967461Z",
     "iopub.status.idle": "2021-04-05T08:02:09.975181Z",
     "shell.execute_reply": "2021-04-05T08:02:09.974612Z"
    },
    "papermill": {
     "duration": 0.064185,
     "end_time": "2021-04-05T08:02:09.975339",
     "exception": false,
     "start_time": "2021-04-05T08:02:09.911154",
     "status": "completed"
    },
    "tags": []
   },
   "outputs": [
    {
     "data": {
      "text/plain": [
       "상점ID 상품범주ID별 평균 판매량    0.0\n",
       "dtype: float32"
      ]
     },
     "execution_count": 40,
     "metadata": {},
     "output_type": "execute_result"
    }
   ],
   "source": [
    "X_test_temp[shop_mean_features].sum()"
   ]
  },
  {
   "cell_type": "code",
   "execution_count": 41,
   "metadata": {
    "execution": {
     "iopub.execute_input": "2021-04-05T08:02:10.131397Z",
     "iopub.status.busy": "2021-04-05T08:02:10.130647Z",
     "iopub.status.idle": "2021-04-05T08:02:23.047879Z",
     "shell.execute_reply": "2021-04-05T08:02:23.048558Z"
    },
    "papermill": {
     "duration": 13.023853,
     "end_time": "2021-04-05T08:02:23.048789",
     "exception": false,
     "start_time": "2021-04-05T08:02:10.024936",
     "status": "completed"
    },
    "tags": []
   },
   "outputs": [],
   "source": [
    "# ['날짜ID', '상점ID', '상품범주ID']를 기준으로 shop_mean_features 요소별 시차 피처 생성\n",
    "for shop_mean_feature in shop_mean_features:\n",
    "    all_data, lag_features_to_clip = add_lag_features(df=all_data,\n",
    "                                                      lag_features_to_clip=lag_features_to_clip, \n",
    "                                                      idx_features=['날짜ID', '상점ID', '상품범주ID'], \n",
    "                                                      lag_feature=shop_mean_feature, \n",
    "                                                      nlags=3)\n",
    "# shop_mean_features 피처 제거\n",
    "all_data = all_data.drop(shop_mean_features, axis=1)"
   ]
  },
  {
   "cell_type": "code",
   "execution_count": 42,
   "metadata": {
    "execution": {
     "iopub.execute_input": "2021-04-05T08:02:23.153440Z",
     "iopub.status.busy": "2021-04-05T08:02:23.152804Z",
     "iopub.status.idle": "2021-04-05T08:02:25.601561Z",
     "shell.execute_reply": "2021-04-05T08:02:25.600974Z"
    },
    "papermill": {
     "duration": 2.501892,
     "end_time": "2021-04-05T08:02:25.601734",
     "exception": false,
     "start_time": "2021-04-05T08:02:23.099842",
     "status": "completed"
    },
    "tags": []
   },
   "outputs": [],
   "source": [
    "# 날짜 ID 3미만인 데이터 제거\n",
    "all_data = all_data.drop(all_data[all_data['날짜ID'] < 3].index)"
   ]
  },
  {
   "cell_type": "markdown",
   "metadata": {
    "papermill": {
     "duration": 0.050054,
     "end_time": "2021-04-05T08:02:25.701929",
     "exception": false,
     "start_time": "2021-04-05T08:02:25.651875",
     "status": "completed"
    },
    "tags": []
   },
   "source": [
    "### 기타 피처 엔지니어링"
   ]
  },
  {
   "cell_type": "code",
   "execution_count": 43,
   "metadata": {
    "execution": {
     "iopub.execute_input": "2021-04-05T08:02:25.844817Z",
     "iopub.status.busy": "2021-04-05T08:02:25.844111Z",
     "iopub.status.idle": "2021-04-05T08:02:25.971606Z",
     "shell.execute_reply": "2021-04-05T08:02:25.970989Z"
    },
    "papermill": {
     "duration": 0.219754,
     "end_time": "2021-04-05T08:02:25.971772",
     "exception": false,
     "start_time": "2021-04-05T08:02:25.752018",
     "status": "completed"
    },
    "tags": []
   },
   "outputs": [],
   "source": [
    "all_data['총 판매량 시차평균'] = all_data[['총 판매량_시차1',\n",
    "                                         '총 판매량_시차2', \n",
    "                                         '총 판매량_시차3']].mean(axis=1)"
   ]
  },
  {
   "cell_type": "code",
   "execution_count": 44,
   "metadata": {
    "execution": {
     "iopub.execute_input": "2021-04-05T08:02:26.172667Z",
     "iopub.status.busy": "2021-04-05T08:02:26.171984Z",
     "iopub.status.idle": "2021-04-05T08:02:27.252631Z",
     "shell.execute_reply": "2021-04-05T08:02:27.251936Z"
    },
    "papermill": {
     "duration": 1.230664,
     "end_time": "2021-04-05T08:02:27.252796",
     "exception": false,
     "start_time": "2021-04-05T08:02:26.022132",
     "status": "completed"
    },
    "tags": []
   },
   "outputs": [],
   "source": [
    "# 0~20 사이로 값 제한\n",
    "all_data[lag_features_to_clip + ['총 판매량', '총 판매량 시차평균']] = all_data[lag_features_to_clip +['총 판매량', '총 판매량 시차평균']].clip(0, 20)"
   ]
  },
  {
   "cell_type": "code",
   "execution_count": 45,
   "metadata": {
    "execution": {
     "iopub.execute_input": "2021-04-05T08:02:27.361294Z",
     "iopub.status.busy": "2021-04-05T08:02:27.360537Z",
     "iopub.status.idle": "2021-04-05T08:02:27.942934Z",
     "shell.execute_reply": "2021-04-05T08:02:27.942340Z"
    },
    "papermill": {
     "duration": 0.64044,
     "end_time": "2021-04-05T08:02:27.943094",
     "exception": false,
     "start_time": "2021-04-05T08:02:27.302654",
     "status": "completed"
    },
    "tags": []
   },
   "outputs": [],
   "source": [
    "all_data['시차변화량1'] = all_data['총 판매량_시차1']/all_data['총 판매량_시차2']\n",
    "all_data['시차변화량1'] = all_data['시차변화량1'].replace([np.inf, -np.inf], \n",
    "                                                        np.nan).fillna(0)\n",
    "\n",
    "all_data['시차변화량2'] = all_data['총 판매량_시차2']/all_data['총 판매량_시차3']\n",
    "all_data['시차변화량2'] = all_data['시차변화량2'].replace([np.inf, -np.inf], \n",
    "                                                        np.nan).fillna(0)"
   ]
  },
  {
   "cell_type": "code",
   "execution_count": 46,
   "metadata": {
    "execution": {
     "iopub.execute_input": "2021-04-05T08:02:28.048856Z",
     "iopub.status.busy": "2021-04-05T08:02:28.048145Z",
     "iopub.status.idle": "2021-04-05T08:02:28.058017Z",
     "shell.execute_reply": "2021-04-05T08:02:28.057237Z"
    },
    "papermill": {
     "duration": 0.065033,
     "end_time": "2021-04-05T08:02:28.058180",
     "exception": false,
     "start_time": "2021-04-05T08:02:27.993147",
     "status": "completed"
    },
    "tags": []
   },
   "outputs": [],
   "source": [
    "all_data['신상여부'] = all_data['첫 판매날짜'] == all_data['날짜ID']"
   ]
  },
  {
   "cell_type": "code",
   "execution_count": 47,
   "metadata": {
    "execution": {
     "iopub.execute_input": "2021-04-05T08:02:28.166730Z",
     "iopub.status.busy": "2021-04-05T08:02:28.165995Z",
     "iopub.status.idle": "2021-04-05T08:02:28.905072Z",
     "shell.execute_reply": "2021-04-05T08:02:28.904446Z"
    },
    "papermill": {
     "duration": 0.794996,
     "end_time": "2021-04-05T08:02:28.905244",
     "exception": false,
     "start_time": "2021-04-05T08:02:28.110248",
     "status": "completed"
    },
    "tags": []
   },
   "outputs": [],
   "source": [
    "all_data['첫 판매 후 기간'] = all_data['날짜ID'] - all_data['첫 판매날짜']\n",
    "all_data = all_data.drop('첫 판매날짜', axis=1)"
   ]
  },
  {
   "cell_type": "code",
   "execution_count": 48,
   "metadata": {
    "execution": {
     "iopub.execute_input": "2021-04-05T08:02:29.012672Z",
     "iopub.status.busy": "2021-04-05T08:02:29.012029Z",
     "iopub.status.idle": "2021-04-05T08:02:29.057057Z",
     "shell.execute_reply": "2021-04-05T08:02:29.056350Z"
    },
    "papermill": {
     "duration": 0.101759,
     "end_time": "2021-04-05T08:02:29.057206",
     "exception": false,
     "start_time": "2021-04-05T08:02:28.955447",
     "status": "completed"
    },
    "tags": []
   },
   "outputs": [],
   "source": [
    "all_data['월'] = all_data['날짜ID']%12"
   ]
  },
  {
   "cell_type": "code",
   "execution_count": 49,
   "metadata": {
    "execution": {
     "iopub.execute_input": "2021-04-05T08:02:29.165870Z",
     "iopub.status.busy": "2021-04-05T08:02:29.165193Z",
     "iopub.status.idle": "2021-04-05T08:02:31.392517Z",
     "shell.execute_reply": "2021-04-05T08:02:31.393089Z"
    },
    "papermill": {
     "duration": 2.284138,
     "end_time": "2021-04-05T08:02:31.393281",
     "exception": false,
     "start_time": "2021-04-05T08:02:29.109143",
     "status": "completed"
    },
    "tags": []
   },
   "outputs": [
    {
     "name": "stdout",
     "output_type": "stream",
     "text": [
      "<class 'pandas.core.frame.DataFrame'>\n",
      "Int64Index: 9904582 entries, 1122386 to 11026967\n",
      "Data columns (total 31 columns):\n",
      " #   Column                   Dtype  \n",
      "---  ------                   -----  \n",
      " 0   날짜ID                     int8   \n",
      " 1   상점ID                     int8   \n",
      " 2   상품ID                     int16  \n",
      " 3   총 판매량                    int8   \n",
      " 4   도시                       int8   \n",
      " 5   상품범주ID                   int8   \n",
      " 6   범주분류                     int8   \n",
      " 7   총 판매량_시차1                int8   \n",
      " 8   총 판매량_시차2                int8   \n",
      " 9   총 판매량_시차3                int8   \n",
      " 10  판매건수_시차1                 int8   \n",
      " 11  판매건수_시차2                 int8   \n",
      " 12  판매건수_시차3                 int8   \n",
      " 13  평균 판매가_시차1               float32\n",
      " 14  평균 판매가_시차2               float32\n",
      " 15  평균 판매가_시차3               float32\n",
      " 16  상품ID별 평균 판매량_시차1         float32\n",
      " 17  상품ID별 평균 판매량_시차2         float32\n",
      " 18  상품ID별 평균 판매량_시차3         float32\n",
      " 19  상품ID 도시별 평균 판매량_시차1      float32\n",
      " 20  상품ID 도시별 평균 판매량_시차2      float32\n",
      " 21  상품ID 도시별 평균 판매량_시차3      float32\n",
      " 22  상점ID 상품범주ID별 평균 판매량_시차1  float32\n",
      " 23  상점ID 상품범주ID별 평균 판매량_시차2  float32\n",
      " 24  상점ID 상품범주ID별 평균 판매량_시차3  float32\n",
      " 25  총 판매량 시차평균               float32\n",
      " 26  시차변화량1                   float32\n",
      " 27  시차변화량2                   float32\n",
      " 28  신상여부                     int8   \n",
      " 29  첫 판매 후 기간                int8   \n",
      " 30  월                        int8   \n",
      "dtypes: float32(15), int16(1), int8(15)\n",
      "memory usage: 802.9 MB\n"
     ]
    }
   ],
   "source": [
    "# 평균 판매가, 판매건수 피처 제거\n",
    "all_data = all_data.drop(['평균 판매가', '판매건수'], axis=1)\n",
    "all_data = downcast(all_data, False) # 데이터 행변환\n",
    "all_data.info()"
   ]
  },
  {
   "cell_type": "code",
   "execution_count": 50,
   "metadata": {
    "execution": {
     "iopub.execute_input": "2021-04-05T08:02:31.505996Z",
     "iopub.status.busy": "2021-04-05T08:02:31.504781Z",
     "iopub.status.idle": "2021-04-05T08:02:33.942790Z",
     "shell.execute_reply": "2021-04-05T08:02:33.942251Z"
    },
    "papermill": {
     "duration": 2.49798,
     "end_time": "2021-04-05T08:02:33.942953",
     "exception": false,
     "start_time": "2021-04-05T08:02:31.444973",
     "status": "completed"
    },
    "tags": []
   },
   "outputs": [],
   "source": [
    "# 훈련 데이터 (피처)\n",
    "X_train = all_data[all_data['날짜ID'] < 33]\n",
    "X_train = X_train.drop(['총 판매량'], axis=1)\n",
    "# 검증 데이터 (피처)\n",
    "X_valid = all_data[all_data['날짜ID'] == 33]\n",
    "X_valid = X_valid.drop(['총 판매량'], axis=1)\n",
    "# 테스트 데이터 (피처)\n",
    "X_test = all_data[all_data['날짜ID'] == 34]\n",
    "X_test = X_test.drop(['총 판매량'], axis=1)\n",
    "\n",
    "# 훈련 데이터 (타깃 값)\n",
    "y_train = all_data[all_data['날짜ID'] < 33]['총 판매량']\n",
    "# 검증 데이터 (타깃 값)\n",
    "y_valid = all_data[all_data['날짜ID'] == 33]['총 판매량']\n",
    "\n",
    "# 가비지 컬렉션\n",
    "del all_data\n",
    "gc.collect();"
   ]
  },
  {
   "cell_type": "markdown",
   "metadata": {
    "papermill": {
     "duration": 0.051329,
     "end_time": "2021-04-05T08:02:34.045381",
     "exception": false,
     "start_time": "2021-04-05T08:02:33.994052",
     "status": "completed"
    },
    "tags": []
   },
   "source": [
    "## 모델 훈련 및 제출"
   ]
  },
  {
   "cell_type": "code",
   "execution_count": 51,
   "metadata": {
    "execution": {
     "iopub.execute_input": "2021-04-05T08:02:34.157227Z",
     "iopub.status.busy": "2021-04-05T08:02:34.156494Z",
     "iopub.status.idle": "2021-04-05T08:18:53.495718Z",
     "shell.execute_reply": "2021-04-05T08:18:53.495025Z"
    },
    "papermill": {
     "duration": 979.399216,
     "end_time": "2021-04-05T08:18:53.495879",
     "exception": false,
     "start_time": "2021-04-05T08:02:34.096663",
     "status": "completed"
    },
    "tags": []
   },
   "outputs": [
    {
     "data": {
      "text/html": [
       "<style type='text/css'>\n",
       ".datatable table.frame { margin-bottom: 0; }\n",
       ".datatable table.frame thead { border-bottom: none; }\n",
       ".datatable table.frame tr.coltypes td {  color: #FFFFFF;  line-height: 6px;  padding: 0 0.5em;}\n",
       ".datatable .bool    { background: #DDDD99; }\n",
       ".datatable .object  { background: #565656; }\n",
       ".datatable .int     { background: #5D9E5D; }\n",
       ".datatable .float   { background: #4040CC; }\n",
       ".datatable .str     { background: #CC4040; }\n",
       ".datatable .row_index {  background: var(--jp-border-color3);  border-right: 1px solid var(--jp-border-color0);  color: var(--jp-ui-font-color3);  font-size: 9px;}\n",
       ".datatable .frame tr.coltypes .row_index {  background: var(--jp-border-color0);}\n",
       ".datatable th:nth-child(2) { padding-left: 12px; }\n",
       ".datatable .hellipsis {  color: var(--jp-cell-editor-border-color);}\n",
       ".datatable .vellipsis {  background: var(--jp-layout-color0);  color: var(--jp-cell-editor-border-color);}\n",
       ".datatable .na {  color: var(--jp-cell-editor-border-color);  font-size: 80%;}\n",
       ".datatable .footer { font-size: 9px; }\n",
       ".datatable .frame_dimensions {  background: var(--jp-border-color3);  border-top: 1px solid var(--jp-border-color0);  color: var(--jp-ui-font-color3);  display: inline-block;  opacity: 0.6;  padding: 1px 10px 1px 5px;}\n",
       "</style>\n"
      ],
      "text/plain": [
       "<IPython.core.display.HTML object>"
      ]
     },
     "metadata": {},
     "output_type": "display_data"
    },
    {
     "name": "stdout",
     "output_type": "stream",
     "text": [
      "[LightGBM] [Warning] Find whitespaces in feature_names, replace with underlines\n",
      "[LightGBM] [Info] Total Bins 4034\n",
      "[LightGBM] [Info] Number of data points in the train set: 9452298, number of used features: 30\n",
      "[LightGBM] [Warning] Find whitespaces in feature_names, replace with underlines\n",
      "[LightGBM] [Info] Start training from score 0.297707\n",
      "Training until validation scores don't improve for 150 rounds\n",
      "[100]\ttraining's rmse: 1.01226\tvalid_1's rmse: 0.98804\n",
      "[200]\ttraining's rmse: 0.91119\tvalid_1's rmse: 0.924923\n",
      "[300]\ttraining's rmse: 0.860293\tvalid_1's rmse: 0.900102\n",
      "[400]\ttraining's rmse: 0.832298\tvalid_1's rmse: 0.889985\n",
      "[500]\ttraining's rmse: 0.813863\tvalid_1's rmse: 0.886241\n",
      "[600]\ttraining's rmse: 0.800318\tvalid_1's rmse: 0.885718\n",
      "[700]\ttraining's rmse: 0.79032\tvalid_1's rmse: 0.885426\n",
      "[800]\ttraining's rmse: 0.782102\tvalid_1's rmse: 0.885614\n",
      "Early stopping, best iteration is:\n",
      "[749]\ttraining's rmse: 0.786149\tvalid_1's rmse: 0.885292\n"
     ]
    }
   ],
   "source": [
    "import lightgbm as lgb\n",
    "\n",
    "# lgb 하이퍼 파라미터\n",
    "params = {'metric': 'rmse',\n",
    "          'num_leaves': 255,\n",
    "          'learning_rate': 0.005,\n",
    "          'feature_fraction': 0.75,\n",
    "          'bagging_fraction': 0.75,\n",
    "          'bagging_freq': 5,\n",
    "          'force_col_wise' : True,\n",
    "          'random_state': 10}\n",
    "\n",
    "cat_features = ['상점ID', '도시', '상품범주ID', '범주분류', '월']\n",
    "\n",
    "# lgb 훈련 및 검증 데이터세트\n",
    "dtrain = lgb.Dataset(X_train, y_train)\n",
    "dvalid = lgb.Dataset(X_valid, y_valid)\n",
    " \n",
    "# LightGBM 모델 훈련\n",
    "lgb_model = lgb.train(params=params,\n",
    "                      train_set=dtrain,\n",
    "                      num_boost_round=1500,\n",
    "                      valid_sets=(dtrain, dvalid),\n",
    "                      early_stopping_rounds=150,\n",
    "                      categorical_feature=cat_features,\n",
    "                      verbose_eval=100)      "
   ]
  },
  {
   "cell_type": "code",
   "execution_count": 52,
   "metadata": {
    "execution": {
     "iopub.execute_input": "2021-04-05T08:18:53.615076Z",
     "iopub.status.busy": "2021-04-05T08:18:53.614353Z",
     "iopub.status.idle": "2021-04-05T08:19:04.641437Z",
     "shell.execute_reply": "2021-04-05T08:19:04.640288Z"
    },
    "papermill": {
     "duration": 11.089378,
     "end_time": "2021-04-05T08:19:04.641596",
     "exception": false,
     "start_time": "2021-04-05T08:18:53.552218",
     "status": "completed"
    },
    "tags": []
   },
   "outputs": [],
   "source": [
    "preds = lgb_model.predict(X_test).clip(0,20)\n",
    "\n",
    "submission['item_cnt_month'] = preds\n",
    "submission.to_csv('submission.csv', index=False)"
   ]
  },
  {
   "cell_type": "code",
   "execution_count": 53,
   "metadata": {
    "execution": {
     "iopub.execute_input": "2021-04-05T08:19:04.763000Z",
     "iopub.status.busy": "2021-04-05T08:19:04.762228Z",
     "iopub.status.idle": "2021-04-05T08:19:04.866926Z",
     "shell.execute_reply": "2021-04-05T08:19:04.866330Z"
    },
    "papermill": {
     "duration": 0.169157,
     "end_time": "2021-04-05T08:19:04.867083",
     "exception": false,
     "start_time": "2021-04-05T08:19:04.697926",
     "status": "completed"
    },
    "tags": []
   },
   "outputs": [],
   "source": [
    "del X_train, y_train, X_valid, y_valid, X_test, lgb_model, dtrain, dvalid\n",
    "gc.collect();"
   ]
  }
 ],
 "metadata": {
  "kernelspec": {
   "display_name": "Python 3",
   "language": "python",
   "name": "python3"
  },
  "language_info": {
   "codemirror_mode": {
    "name": "ipython",
    "version": 3
   },
   "file_extension": ".py",
   "mimetype": "text/x-python",
   "name": "python",
   "nbconvert_exporter": "python",
   "pygments_lexer": "ipython3",
   "version": "3.7.9"
  },
  "papermill": {
   "default_parameters": {},
   "duration": 1266.490339,
   "end_time": "2021-04-05T08:19:05.634716",
   "environment_variables": {},
   "exception": null,
   "input_path": "__notebook__.ipynb",
   "output_path": "__notebook__.ipynb",
   "parameters": {},
   "start_time": "2021-04-05T07:57:59.144377",
   "version": "2.2.2"
  }
 },
 "nbformat": 4,
 "nbformat_minor": 4
}
