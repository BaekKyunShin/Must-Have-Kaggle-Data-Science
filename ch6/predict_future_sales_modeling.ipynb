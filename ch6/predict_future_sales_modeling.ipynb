{
 "cells": [
  {
   "cell_type": "markdown",
   "metadata": {
    "papermill": {
     "duration": 0.037302,
     "end_time": "2021-04-14T12:07:49.721673",
     "exception": false,
     "start_time": "2021-04-14T12:07:49.684371",
     "status": "completed"
    },
    "tags": []
   },
   "source": [
    "# 향후 판매량 예측 경진대회 모델링\n",
    "- [향후 판매량 예측 경진대회 링크](https://www.kaggle.com/c/competitive-data-science-predict-future-sales)\n",
    "- [모델링 코드 참고 링크](https://www.kaggle.com/dkomyagin/predict-future-sales-lightgbm-framework)"
   ]
  },
  {
   "cell_type": "code",
   "execution_count": 1,
   "metadata": {
    "execution": {
     "iopub.execute_input": "2021-04-14T12:07:49.798846Z",
     "iopub.status.busy": "2021-04-14T12:07:49.797825Z",
     "iopub.status.idle": "2021-04-14T12:07:52.640670Z",
     "shell.execute_reply": "2021-04-14T12:07:52.639932Z"
    },
    "papermill": {
     "duration": 2.881861,
     "end_time": "2021-04-14T12:07:52.640876",
     "exception": false,
     "start_time": "2021-04-14T12:07:49.759015",
     "status": "completed"
    },
    "tags": []
   },
   "outputs": [],
   "source": [
    "# ch6/predict_future_sales_modeling.ipynb\n",
    "\n",
    "import numpy as np\n",
    "import pandas as pd\n",
    "import warnings\n",
    "\n",
    "warnings.filterwarnings(action='ignore') # 경고 메시지 생략\n",
    "\n",
    "# 데이터 경로\n",
    "data_path = '/kaggle/input/competitive-data-science-predict-future-sales/'\n",
    "\n",
    "sales_train = pd.read_csv(data_path + 'sales_train.csv')\n",
    "shops = pd.read_csv(data_path + 'shops.csv')\n",
    "items = pd.read_csv(data_path + 'items.csv')\n",
    "item_categories = pd.read_csv(data_path + 'item_categories.csv')\n",
    "test = pd.read_csv(data_path + 'test.csv')\n",
    "submission = pd.read_csv(data_path + 'sample_submission.csv')"
   ]
  },
  {
   "cell_type": "markdown",
   "metadata": {
    "papermill": {
     "duration": 0.035547,
     "end_time": "2021-04-14T12:07:52.712899",
     "exception": false,
     "start_time": "2021-04-14T12:07:52.677352",
     "status": "completed"
    },
    "tags": []
   },
   "source": [
    "#### 피처명 한글로 변경"
   ]
  },
  {
   "cell_type": "code",
   "execution_count": 2,
   "metadata": {
    "execution": {
     "iopub.execute_input": "2021-04-14T12:07:52.793374Z",
     "iopub.status.busy": "2021-04-14T12:07:52.792660Z",
     "iopub.status.idle": "2021-04-14T12:07:52.888632Z",
     "shell.execute_reply": "2021-04-14T12:07:52.887922Z"
    },
    "papermill": {
     "duration": 0.139932,
     "end_time": "2021-04-14T12:07:52.888778",
     "exception": false,
     "start_time": "2021-04-14T12:07:52.748846",
     "status": "completed"
    },
    "tags": []
   },
   "outputs": [],
   "source": [
    "sales_train = sales_train.rename(columns={'date': '날짜', \n",
    "                                          'date_block_num': '날짜ID',\n",
    "                                          'shop_id': '상점ID',\n",
    "                                          'item_id': '상품ID',\n",
    "                                          'item_price': '판매가',\n",
    "                                          'item_cnt_day': '판매량'})\n",
    "\n",
    "shops = shops.rename(columns={'shop_name': '상점명',\n",
    "                              'shop_id': '상점ID'})\n",
    "\n",
    "items = items.rename(columns={'item_name': '상품명',\n",
    "                              'item_id': '상품ID',\n",
    "                              'item_category_id': '상품범주ID'})\n",
    "\n",
    "item_categories = item_categories.rename(columns=\n",
    "                                         {'item_category_name': '상품범주명',\n",
    "                                          'item_category_id': '상품범주ID'})\n",
    "\n",
    "test = test.rename(columns={'shop_id': '상점ID',\n",
    "                            'item_id': '상품ID'})"
   ]
  },
  {
   "cell_type": "markdown",
   "metadata": {
    "papermill": {
     "duration": 0.035714,
     "end_time": "2021-04-14T12:07:52.960659",
     "exception": false,
     "start_time": "2021-04-14T12:07:52.924945",
     "status": "completed"
    },
    "tags": []
   },
   "source": [
    "#### 데이터 형변환"
   ]
  },
  {
   "cell_type": "code",
   "execution_count": 3,
   "metadata": {
    "execution": {
     "iopub.execute_input": "2021-04-14T12:07:53.047712Z",
     "iopub.status.busy": "2021-04-14T12:07:53.046539Z",
     "iopub.status.idle": "2021-04-14T12:07:53.436628Z",
     "shell.execute_reply": "2021-04-14T12:07:53.436027Z"
    },
    "papermill": {
     "duration": 0.439972,
     "end_time": "2021-04-14T12:07:53.436801",
     "exception": false,
     "start_time": "2021-04-14T12:07:52.996829",
     "status": "completed"
    },
    "tags": []
   },
   "outputs": [
    {
     "name": "stdout",
     "output_type": "stream",
     "text": [
      "62.5% 압축됨\n",
      "38.6% 압축됨\n",
      "54.2% 압축됨\n",
      "39.9% 압축됨\n",
      "70.8% 압축됨\n"
     ]
    }
   ],
   "source": [
    "def downcast(df, verbose=True):\n",
    "    start_mem = df.memory_usage().sum() / 1024**2\n",
    "    for col in df.columns:\n",
    "        dtype_name = df[col].dtype.name\n",
    "        if dtype_name == 'object':\n",
    "            pass\n",
    "        elif dtype_name == 'bool':\n",
    "            df[col] = df[col].astype('int8')\n",
    "        elif dtype_name.startswith('int') or (df[col].round() == df[col]).all():\n",
    "            df[col] = pd.to_numeric(df[col], downcast='integer')\n",
    "        else:\n",
    "            df[col] = pd.to_numeric(df[col], downcast='float')\n",
    "    end_mem = df.memory_usage().sum() / 1024**2\n",
    "    if verbose:\n",
    "        print('{:.1f}% 압축됨'.format(100 * (start_mem - end_mem) / start_mem))\n",
    "    \n",
    "    return df\n",
    "\n",
    "all_df = [sales_train, shops, items, item_categories, test]\n",
    "for df in all_df:\n",
    "    df = downcast(df)"
   ]
  },
  {
   "cell_type": "markdown",
   "metadata": {
    "papermill": {
     "duration": 0.036007,
     "end_time": "2021-04-14T12:07:53.510286",
     "exception": false,
     "start_time": "2021-04-14T12:07:53.474279",
     "status": "completed"
    },
    "tags": []
   },
   "source": [
    "## 피처 엔지니어링 I - sales_train, shops, items, item_categories 처리"
   ]
  },
  {
   "cell_type": "markdown",
   "metadata": {
    "papermill": {
     "duration": 0.035793,
     "end_time": "2021-04-14T12:07:53.582460",
     "exception": false,
     "start_time": "2021-04-14T12:07:53.546667",
     "status": "completed"
    },
    "tags": []
   },
   "source": [
    "### sales_train 이상치 제거 및 전처리"
   ]
  },
  {
   "cell_type": "code",
   "execution_count": 4,
   "metadata": {
    "execution": {
     "iopub.execute_input": "2021-04-14T12:07:53.658855Z",
     "iopub.status.busy": "2021-04-14T12:07:53.658136Z",
     "iopub.status.idle": "2021-04-14T12:07:54.060609Z",
     "shell.execute_reply": "2021-04-14T12:07:54.060020Z"
    },
    "papermill": {
     "duration": 0.441906,
     "end_time": "2021-04-14T12:07:54.060769",
     "exception": false,
     "start_time": "2021-04-14T12:07:53.618863",
     "status": "completed"
    },
    "tags": []
   },
   "outputs": [],
   "source": [
    "# 판매가가 0보다 큰 데이터 추출\n",
    "sales_train = sales_train[sales_train['판매가'] > 0]\n",
    "# 판매가가 50,000보다 작은 데이터 추출\n",
    "sales_train = sales_train[sales_train['판매가'] < 50000]\n",
    "# 판매량이 0보다 큰 데이터 추출\n",
    "sales_train = sales_train[sales_train['판매량'] > 0]\n",
    "# 판매량이 1,000보다 작은 데이터 추출\n",
    "sales_train = sales_train[sales_train['판매량'] < 1000]"
   ]
  },
  {
   "cell_type": "code",
   "execution_count": 5,
   "metadata": {
    "execution": {
     "iopub.execute_input": "2021-04-14T12:07:54.143820Z",
     "iopub.status.busy": "2021-04-14T12:07:54.143012Z",
     "iopub.status.idle": "2021-04-14T12:07:54.147919Z",
     "shell.execute_reply": "2021-04-14T12:07:54.149405Z"
    },
    "papermill": {
     "duration": 0.050782,
     "end_time": "2021-04-14T12:07:54.149671",
     "exception": false,
     "start_time": "2021-04-14T12:07:54.098889",
     "status": "completed"
    },
    "tags": []
   },
   "outputs": [
    {
     "name": "stdout",
     "output_type": "stream",
     "text": [
      "!Якутск Орджоникидзе, 56 фран || Якутск Орджоникидзе, 56\n",
      "!Якутск ТЦ \"Центральный\" фран || Якутск ТЦ \"Центральный\"\n",
      "Жуковский ул. Чкалова 39м? || Жуковский ул. Чкалова 39м²\n",
      "РостовНаДону ТРК \"Мегацентр Горизонт\" || РостовНаДону ТРК \"Мегацентр Горизонт\" Островной\n"
     ]
    }
   ],
   "source": [
    "print(shops['상점명'][0], '||', shops['상점명'][57])\n",
    "print(shops['상점명'][1], '||', shops['상점명'][58])\n",
    "print(shops['상점명'][10], '||', shops['상점명'][11])\n",
    "print(shops['상점명'][39], '||', shops['상점명'][40])"
   ]
  },
  {
   "cell_type": "code",
   "execution_count": 6,
   "metadata": {
    "execution": {
     "iopub.execute_input": "2021-04-14T12:07:54.232989Z",
     "iopub.status.busy": "2021-04-14T12:07:54.232272Z",
     "iopub.status.idle": "2021-04-14T12:07:54.252536Z",
     "shell.execute_reply": "2021-04-14T12:07:54.251813Z"
    },
    "papermill": {
     "duration": 0.065118,
     "end_time": "2021-04-14T12:07:54.252685",
     "exception": false,
     "start_time": "2021-04-14T12:07:54.187567",
     "status": "completed"
    },
    "tags": []
   },
   "outputs": [],
   "source": [
    "# sales_train 데이터에서 상점ID 수정\n",
    "sales_train.loc[sales_train['상점ID'] == 0, '상점ID'] = 57\n",
    "sales_train.loc[sales_train['상점ID'] == 1, '상점ID'] = 58\n",
    "sales_train.loc[sales_train['상점ID'] == 10, '상점ID'] = 11\n",
    "sales_train.loc[sales_train['상점ID'] == 39, '상점ID'] = 40\n",
    "\n",
    "# test 데이터에서 상점ID 수정\n",
    "test.loc[test['상점ID'] == 0, '상점ID'] = 57\n",
    "test.loc[test['상점ID'] == 1, '상점ID'] = 58\n",
    "test.loc[test['상점ID'] == 10, '상점ID'] = 11\n",
    "test.loc[test['상점ID'] == 39, '상점ID'] = 40"
   ]
  },
  {
   "cell_type": "markdown",
   "metadata": {
    "papermill": {
     "duration": 0.037171,
     "end_time": "2021-04-14T12:07:54.327312",
     "exception": false,
     "start_time": "2021-04-14T12:07:54.290141",
     "status": "completed"
    },
    "tags": []
   },
   "source": [
    "### shops 파생 피처 생성 및 인코딩"
   ]
  },
  {
   "cell_type": "code",
   "execution_count": 7,
   "metadata": {
    "execution": {
     "iopub.execute_input": "2021-04-14T12:07:54.409836Z",
     "iopub.status.busy": "2021-04-14T12:07:54.409077Z",
     "iopub.status.idle": "2021-04-14T12:07:54.412881Z",
     "shell.execute_reply": "2021-04-14T12:07:54.411910Z"
    },
    "papermill": {
     "duration": 0.04837,
     "end_time": "2021-04-14T12:07:54.413037",
     "exception": false,
     "start_time": "2021-04-14T12:07:54.364667",
     "status": "completed"
    },
    "tags": []
   },
   "outputs": [],
   "source": [
    "shops['도시'] = shops['상점명'].apply(lambda x: x.split()[0])"
   ]
  },
  {
   "cell_type": "code",
   "execution_count": 8,
   "metadata": {
    "execution": {
     "iopub.execute_input": "2021-04-14T12:07:54.497244Z",
     "iopub.status.busy": "2021-04-14T12:07:54.493531Z",
     "iopub.status.idle": "2021-04-14T12:07:54.502279Z",
     "shell.execute_reply": "2021-04-14T12:07:54.501705Z"
    },
    "papermill": {
     "duration": 0.051994,
     "end_time": "2021-04-14T12:07:54.502442",
     "exception": false,
     "start_time": "2021-04-14T12:07:54.450448",
     "status": "completed"
    },
    "tags": []
   },
   "outputs": [
    {
     "data": {
      "text/plain": [
       "array(['!Якутск', 'Адыгея', 'Балашиха', 'Волжский', 'Вологда', 'Воронеж',\n",
       "       'Выездная', 'Жуковский', 'Интернет-магазин', 'Казань', 'Калуга',\n",
       "       'Коломна', 'Красноярск', 'Курск', 'Москва', 'Мытищи', 'Н.Новгород',\n",
       "       'Новосибирск', 'Омск', 'РостовНаДону', 'СПб', 'Самара', 'Сергиев',\n",
       "       'Сургут', 'Томск', 'Тюмень', 'Уфа', 'Химки', 'Цифровой', 'Чехов',\n",
       "       'Якутск', 'Ярославль'], dtype=object)"
      ]
     },
     "execution_count": 8,
     "metadata": {},
     "output_type": "execute_result"
    }
   ],
   "source": [
    "shops['도시'].unique()"
   ]
  },
  {
   "cell_type": "code",
   "execution_count": 9,
   "metadata": {
    "execution": {
     "iopub.execute_input": "2021-04-14T12:07:54.585006Z",
     "iopub.status.busy": "2021-04-14T12:07:54.584315Z",
     "iopub.status.idle": "2021-04-14T12:07:54.587756Z",
     "shell.execute_reply": "2021-04-14T12:07:54.587123Z"
    },
    "papermill": {
     "duration": 0.047559,
     "end_time": "2021-04-14T12:07:54.587899",
     "exception": false,
     "start_time": "2021-04-14T12:07:54.540340",
     "status": "completed"
    },
    "tags": []
   },
   "outputs": [],
   "source": [
    "shops.loc[shops['도시'] =='!Якутск', '도시'] = 'Якутск'"
   ]
  },
  {
   "cell_type": "code",
   "execution_count": 10,
   "metadata": {
    "execution": {
     "iopub.execute_input": "2021-04-14T12:07:54.669521Z",
     "iopub.status.busy": "2021-04-14T12:07:54.668786Z",
     "iopub.status.idle": "2021-04-14T12:07:55.672860Z",
     "shell.execute_reply": "2021-04-14T12:07:55.672300Z"
    },
    "papermill": {
     "duration": 1.047047,
     "end_time": "2021-04-14T12:07:55.673009",
     "exception": false,
     "start_time": "2021-04-14T12:07:54.625962",
     "status": "completed"
    },
    "tags": []
   },
   "outputs": [],
   "source": [
    "from sklearn.preprocessing import LabelEncoder\n",
    "\n",
    "# 레이블 인코더 생성\n",
    "label_encoder = LabelEncoder()\n",
    "# 도시 피처 레이블 인코딩\n",
    "shops['도시'] = label_encoder.fit_transform(shops['도시'])"
   ]
  },
  {
   "cell_type": "code",
   "execution_count": 11,
   "metadata": {
    "execution": {
     "iopub.execute_input": "2021-04-14T12:07:55.756952Z",
     "iopub.status.busy": "2021-04-14T12:07:55.756288Z",
     "iopub.status.idle": "2021-04-14T12:07:55.768687Z",
     "shell.execute_reply": "2021-04-14T12:07:55.767976Z"
    },
    "papermill": {
     "duration": 0.057279,
     "end_time": "2021-04-14T12:07:55.768831",
     "exception": false,
     "start_time": "2021-04-14T12:07:55.711552",
     "status": "completed"
    },
    "tags": []
   },
   "outputs": [
    {
     "data": {
      "text/html": [
       "<div>\n",
       "<style scoped>\n",
       "    .dataframe tbody tr th:only-of-type {\n",
       "        vertical-align: middle;\n",
       "    }\n",
       "\n",
       "    .dataframe tbody tr th {\n",
       "        vertical-align: top;\n",
       "    }\n",
       "\n",
       "    .dataframe thead th {\n",
       "        text-align: right;\n",
       "    }\n",
       "</style>\n",
       "<table border=\"1\" class=\"dataframe\">\n",
       "  <thead>\n",
       "    <tr style=\"text-align: right;\">\n",
       "      <th></th>\n",
       "      <th>상점ID</th>\n",
       "      <th>도시</th>\n",
       "    </tr>\n",
       "  </thead>\n",
       "  <tbody>\n",
       "    <tr>\n",
       "      <th>0</th>\n",
       "      <td>0</td>\n",
       "      <td>29</td>\n",
       "    </tr>\n",
       "    <tr>\n",
       "      <th>1</th>\n",
       "      <td>1</td>\n",
       "      <td>29</td>\n",
       "    </tr>\n",
       "    <tr>\n",
       "      <th>2</th>\n",
       "      <td>2</td>\n",
       "      <td>0</td>\n",
       "    </tr>\n",
       "    <tr>\n",
       "      <th>3</th>\n",
       "      <td>3</td>\n",
       "      <td>1</td>\n",
       "    </tr>\n",
       "    <tr>\n",
       "      <th>4</th>\n",
       "      <td>4</td>\n",
       "      <td>2</td>\n",
       "    </tr>\n",
       "  </tbody>\n",
       "</table>\n",
       "</div>"
      ],
      "text/plain": [
       "   상점ID  도시\n",
       "0     0  29\n",
       "1     1  29\n",
       "2     2   0\n",
       "3     3   1\n",
       "4     4   2"
      ]
     },
     "execution_count": 11,
     "metadata": {},
     "output_type": "execute_result"
    }
   ],
   "source": [
    "# 상점명 피처 제거\n",
    "shops = shops.drop('상점명', axis=1)\n",
    "\n",
    "shops.head()"
   ]
  },
  {
   "cell_type": "markdown",
   "metadata": {
    "papermill": {
     "duration": 0.038717,
     "end_time": "2021-04-14T12:07:55.846179",
     "exception": false,
     "start_time": "2021-04-14T12:07:55.807462",
     "status": "completed"
    },
    "tags": []
   },
   "source": [
    "### itmes 파생 피처 생성"
   ]
  },
  {
   "cell_type": "code",
   "execution_count": 12,
   "metadata": {
    "execution": {
     "iopub.execute_input": "2021-04-14T12:07:55.929458Z",
     "iopub.status.busy": "2021-04-14T12:07:55.928800Z",
     "iopub.status.idle": "2021-04-14T12:07:55.931872Z",
     "shell.execute_reply": "2021-04-14T12:07:55.931323Z"
    },
    "papermill": {
     "duration": 0.047134,
     "end_time": "2021-04-14T12:07:55.932018",
     "exception": false,
     "start_time": "2021-04-14T12:07:55.884884",
     "status": "completed"
    },
    "tags": []
   },
   "outputs": [],
   "source": [
    "# 상품명 피처 제거\n",
    "items = items.drop(['상품명'], axis=1)"
   ]
  },
  {
   "cell_type": "code",
   "execution_count": 13,
   "metadata": {
    "execution": {
     "iopub.execute_input": "2021-04-14T12:07:56.012778Z",
     "iopub.status.busy": "2021-04-14T12:07:56.012168Z",
     "iopub.status.idle": "2021-04-14T12:07:56.114568Z",
     "shell.execute_reply": "2021-04-14T12:07:56.114005Z"
    },
    "papermill": {
     "duration": 0.143754,
     "end_time": "2021-04-14T12:07:56.114711",
     "exception": false,
     "start_time": "2021-04-14T12:07:55.970957",
     "status": "completed"
    },
    "tags": []
   },
   "outputs": [
    {
     "data": {
      "text/html": [
       "<div>\n",
       "<style scoped>\n",
       "    .dataframe tbody tr th:only-of-type {\n",
       "        vertical-align: middle;\n",
       "    }\n",
       "\n",
       "    .dataframe tbody tr th {\n",
       "        vertical-align: top;\n",
       "    }\n",
       "\n",
       "    .dataframe thead th {\n",
       "        text-align: right;\n",
       "    }\n",
       "</style>\n",
       "<table border=\"1\" class=\"dataframe\">\n",
       "  <thead>\n",
       "    <tr style=\"text-align: right;\">\n",
       "      <th></th>\n",
       "      <th>상품ID</th>\n",
       "      <th>상품범주ID</th>\n",
       "      <th>첫 판매날짜</th>\n",
       "    </tr>\n",
       "  </thead>\n",
       "  <tbody>\n",
       "    <tr>\n",
       "      <th>0</th>\n",
       "      <td>0</td>\n",
       "      <td>40</td>\n",
       "      <td>20.0</td>\n",
       "    </tr>\n",
       "    <tr>\n",
       "      <th>1</th>\n",
       "      <td>1</td>\n",
       "      <td>76</td>\n",
       "      <td>15.0</td>\n",
       "    </tr>\n",
       "    <tr>\n",
       "      <th>2</th>\n",
       "      <td>2</td>\n",
       "      <td>40</td>\n",
       "      <td>19.0</td>\n",
       "    </tr>\n",
       "    <tr>\n",
       "      <th>3</th>\n",
       "      <td>3</td>\n",
       "      <td>40</td>\n",
       "      <td>18.0</td>\n",
       "    </tr>\n",
       "    <tr>\n",
       "      <th>4</th>\n",
       "      <td>4</td>\n",
       "      <td>40</td>\n",
       "      <td>20.0</td>\n",
       "    </tr>\n",
       "  </tbody>\n",
       "</table>\n",
       "</div>"
      ],
      "text/plain": [
       "   상품ID  상품범주ID  첫 판매날짜\n",
       "0     0      40    20.0\n",
       "1     1      76    15.0\n",
       "2     2      40    19.0\n",
       "3     3      40    18.0\n",
       "4     4      40    20.0"
      ]
     },
     "execution_count": 13,
     "metadata": {},
     "output_type": "execute_result"
    }
   ],
   "source": [
    "# 상품이 맨 처음 팔린 날을 피처로 추가\n",
    "items['첫 판매날짜'] = sales_train.groupby('상품ID').agg({'날짜ID': 'min'})['날짜ID']\n",
    "\n",
    "items.head()"
   ]
  },
  {
   "cell_type": "code",
   "execution_count": 14,
   "metadata": {
    "execution": {
     "iopub.execute_input": "2021-04-14T12:07:56.207199Z",
     "iopub.status.busy": "2021-04-14T12:07:56.198714Z",
     "iopub.status.idle": "2021-04-14T12:07:56.212014Z",
     "shell.execute_reply": "2021-04-14T12:07:56.211477Z"
    },
    "papermill": {
     "duration": 0.058035,
     "end_time": "2021-04-14T12:07:56.212162",
     "exception": false,
     "start_time": "2021-04-14T12:07:56.154127",
     "status": "completed"
    },
    "tags": []
   },
   "outputs": [
    {
     "data": {
      "text/html": [
       "<div>\n",
       "<style scoped>\n",
       "    .dataframe tbody tr th:only-of-type {\n",
       "        vertical-align: middle;\n",
       "    }\n",
       "\n",
       "    .dataframe tbody tr th {\n",
       "        vertical-align: top;\n",
       "    }\n",
       "\n",
       "    .dataframe thead th {\n",
       "        text-align: right;\n",
       "    }\n",
       "</style>\n",
       "<table border=\"1\" class=\"dataframe\">\n",
       "  <thead>\n",
       "    <tr style=\"text-align: right;\">\n",
       "      <th></th>\n",
       "      <th>상품ID</th>\n",
       "      <th>상품범주ID</th>\n",
       "      <th>첫 판매날짜</th>\n",
       "    </tr>\n",
       "  </thead>\n",
       "  <tbody>\n",
       "    <tr>\n",
       "      <th>83</th>\n",
       "      <td>83</td>\n",
       "      <td>40</td>\n",
       "      <td>NaN</td>\n",
       "    </tr>\n",
       "    <tr>\n",
       "      <th>140</th>\n",
       "      <td>140</td>\n",
       "      <td>45</td>\n",
       "      <td>NaN</td>\n",
       "    </tr>\n",
       "    <tr>\n",
       "      <th>168</th>\n",
       "      <td>168</td>\n",
       "      <td>44</td>\n",
       "      <td>NaN</td>\n",
       "    </tr>\n",
       "    <tr>\n",
       "      <th>173</th>\n",
       "      <td>173</td>\n",
       "      <td>45</td>\n",
       "      <td>NaN</td>\n",
       "    </tr>\n",
       "    <tr>\n",
       "      <th>204</th>\n",
       "      <td>204</td>\n",
       "      <td>44</td>\n",
       "      <td>NaN</td>\n",
       "    </tr>\n",
       "    <tr>\n",
       "      <th>...</th>\n",
       "      <td>...</td>\n",
       "      <td>...</td>\n",
       "      <td>...</td>\n",
       "    </tr>\n",
       "    <tr>\n",
       "      <th>21974</th>\n",
       "      <td>21974</td>\n",
       "      <td>61</td>\n",
       "      <td>NaN</td>\n",
       "    </tr>\n",
       "    <tr>\n",
       "      <th>21975</th>\n",
       "      <td>21975</td>\n",
       "      <td>61</td>\n",
       "      <td>NaN</td>\n",
       "    </tr>\n",
       "    <tr>\n",
       "      <th>22022</th>\n",
       "      <td>22022</td>\n",
       "      <td>40</td>\n",
       "      <td>NaN</td>\n",
       "    </tr>\n",
       "    <tr>\n",
       "      <th>22035</th>\n",
       "      <td>22035</td>\n",
       "      <td>40</td>\n",
       "      <td>NaN</td>\n",
       "    </tr>\n",
       "    <tr>\n",
       "      <th>22137</th>\n",
       "      <td>22137</td>\n",
       "      <td>40</td>\n",
       "      <td>NaN</td>\n",
       "    </tr>\n",
       "  </tbody>\n",
       "</table>\n",
       "<p>368 rows × 3 columns</p>\n",
       "</div>"
      ],
      "text/plain": [
       "        상품ID  상품범주ID  첫 판매날짜\n",
       "83        83      40     NaN\n",
       "140      140      45     NaN\n",
       "168      168      44     NaN\n",
       "173      173      45     NaN\n",
       "204      204      44     NaN\n",
       "...      ...     ...     ...\n",
       "21974  21974      61     NaN\n",
       "21975  21975      61     NaN\n",
       "22022  22022      40     NaN\n",
       "22035  22035      40     NaN\n",
       "22137  22137      40     NaN\n",
       "\n",
       "[368 rows x 3 columns]"
      ]
     },
     "execution_count": 14,
     "metadata": {},
     "output_type": "execute_result"
    }
   ],
   "source": [
    "items[items['첫 판매날짜'].isna()]"
   ]
  },
  {
   "cell_type": "code",
   "execution_count": 15,
   "metadata": {
    "execution": {
     "iopub.execute_input": "2021-04-14T12:07:56.295917Z",
     "iopub.status.busy": "2021-04-14T12:07:56.295216Z",
     "iopub.status.idle": "2021-04-14T12:07:56.299323Z",
     "shell.execute_reply": "2021-04-14T12:07:56.299921Z"
    },
    "papermill": {
     "duration": 0.048048,
     "end_time": "2021-04-14T12:07:56.300104",
     "exception": false,
     "start_time": "2021-04-14T12:07:56.252056",
     "status": "completed"
    },
    "tags": []
   },
   "outputs": [],
   "source": [
    "# 첫 판매날짜 피처의 결측값을 34로 대체\n",
    "items['첫 판매날짜'] = items['첫 판매날짜'].fillna(34)"
   ]
  },
  {
   "cell_type": "markdown",
   "metadata": {
    "papermill": {
     "duration": 0.040182,
     "end_time": "2021-04-14T12:07:56.381720",
     "exception": false,
     "start_time": "2021-04-14T12:07:56.341538",
     "status": "completed"
    },
    "tags": []
   },
   "source": [
    "### item_categories 파생 피처 생성 및 인코딩"
   ]
  },
  {
   "cell_type": "code",
   "execution_count": 16,
   "metadata": {
    "execution": {
     "iopub.execute_input": "2021-04-14T12:07:56.467803Z",
     "iopub.status.busy": "2021-04-14T12:07:56.467083Z",
     "iopub.status.idle": "2021-04-14T12:07:56.472193Z",
     "shell.execute_reply": "2021-04-14T12:07:56.472736Z"
    },
    "papermill": {
     "duration": 0.049584,
     "end_time": "2021-04-14T12:07:56.472909",
     "exception": false,
     "start_time": "2021-04-14T12:07:56.423325",
     "status": "completed"
    },
    "tags": []
   },
   "outputs": [],
   "source": [
    "# 상품범주명의 첫 단어를 범주분류로 추출\n",
    "item_categories['범주분류'] = item_categories['상품범주명'].apply(lambda x: x.split()[0])  "
   ]
  },
  {
   "cell_type": "code",
   "execution_count": 17,
   "metadata": {
    "execution": {
     "iopub.execute_input": "2021-04-14T12:07:56.557185Z",
     "iopub.status.busy": "2021-04-14T12:07:56.556502Z",
     "iopub.status.idle": "2021-04-14T12:07:56.566962Z",
     "shell.execute_reply": "2021-04-14T12:07:56.566312Z"
    },
    "papermill": {
     "duration": 0.053613,
     "end_time": "2021-04-14T12:07:56.567103",
     "exception": false,
     "start_time": "2021-04-14T12:07:56.513490",
     "status": "completed"
    },
    "tags": []
   },
   "outputs": [
    {
     "data": {
      "text/plain": [
       "Игры          14\n",
       "Книги         13\n",
       "Подарки       12\n",
       "Игровые        8\n",
       "Аксессуары     7\n",
       "Программы      6\n",
       "Музыка         6\n",
       "Кино           5\n",
       "Карты          5\n",
       "Чистые         2\n",
       "Служебные      2\n",
       "Доставка       1\n",
       "Билеты         1\n",
       "Элементы       1\n",
       "PC             1\n",
       "Name: 범주분류, dtype: int64"
      ]
     },
     "execution_count": 17,
     "metadata": {},
     "output_type": "execute_result"
    }
   ],
   "source": [
    "item_categories['범주분류'].value_counts()"
   ]
  },
  {
   "cell_type": "code",
   "execution_count": 18,
   "metadata": {
    "execution": {
     "iopub.execute_input": "2021-04-14T12:07:56.691915Z",
     "iopub.status.busy": "2021-04-14T12:07:56.691100Z",
     "iopub.status.idle": "2021-04-14T12:07:56.693694Z",
     "shell.execute_reply": "2021-04-14T12:07:56.694159Z"
    },
    "papermill": {
     "duration": 0.086636,
     "end_time": "2021-04-14T12:07:56.694333",
     "exception": false,
     "start_time": "2021-04-14T12:07:56.607697",
     "status": "completed"
    },
    "tags": []
   },
   "outputs": [],
   "source": [
    "def make_etc(x):\n",
    "    if len(item_categories[item_categories['범주분류']==x]) >= 5:\n",
    "        return x\n",
    "    else:\n",
    "        return 'etc'\n",
    "\n",
    "# 범주분류 개수가 5개 미만이면 'etc'로 바꾸기\n",
    "item_categories['범주분류'] = item_categories['범주분류'].apply(make_etc)"
   ]
  },
  {
   "cell_type": "code",
   "execution_count": 19,
   "metadata": {
    "execution": {
     "iopub.execute_input": "2021-04-14T12:07:56.788043Z",
     "iopub.status.busy": "2021-04-14T12:07:56.784792Z",
     "iopub.status.idle": "2021-04-14T12:07:56.793219Z",
     "shell.execute_reply": "2021-04-14T12:07:56.792565Z"
    },
    "papermill": {
     "duration": 0.0575,
     "end_time": "2021-04-14T12:07:56.793364",
     "exception": false,
     "start_time": "2021-04-14T12:07:56.735864",
     "status": "completed"
    },
    "tags": []
   },
   "outputs": [
    {
     "data": {
      "text/html": [
       "<div>\n",
       "<style scoped>\n",
       "    .dataframe tbody tr th:only-of-type {\n",
       "        vertical-align: middle;\n",
       "    }\n",
       "\n",
       "    .dataframe tbody tr th {\n",
       "        vertical-align: top;\n",
       "    }\n",
       "\n",
       "    .dataframe thead th {\n",
       "        text-align: right;\n",
       "    }\n",
       "</style>\n",
       "<table border=\"1\" class=\"dataframe\">\n",
       "  <thead>\n",
       "    <tr style=\"text-align: right;\">\n",
       "      <th></th>\n",
       "      <th>상품범주명</th>\n",
       "      <th>상품범주ID</th>\n",
       "      <th>범주분류</th>\n",
       "    </tr>\n",
       "  </thead>\n",
       "  <tbody>\n",
       "    <tr>\n",
       "      <th>0</th>\n",
       "      <td>PC - Гарнитуры/Наушники</td>\n",
       "      <td>0</td>\n",
       "      <td>etc</td>\n",
       "    </tr>\n",
       "    <tr>\n",
       "      <th>1</th>\n",
       "      <td>Аксессуары - PS2</td>\n",
       "      <td>1</td>\n",
       "      <td>Аксессуары</td>\n",
       "    </tr>\n",
       "    <tr>\n",
       "      <th>2</th>\n",
       "      <td>Аксессуары - PS3</td>\n",
       "      <td>2</td>\n",
       "      <td>Аксессуары</td>\n",
       "    </tr>\n",
       "    <tr>\n",
       "      <th>3</th>\n",
       "      <td>Аксессуары - PS4</td>\n",
       "      <td>3</td>\n",
       "      <td>Аксессуары</td>\n",
       "    </tr>\n",
       "    <tr>\n",
       "      <th>4</th>\n",
       "      <td>Аксессуары - PSP</td>\n",
       "      <td>4</td>\n",
       "      <td>Аксессуары</td>\n",
       "    </tr>\n",
       "  </tbody>\n",
       "</table>\n",
       "</div>"
      ],
      "text/plain": [
       "                     상품범주명  상품범주ID        범주분류\n",
       "0  PC - Гарнитуры/Наушники       0         etc\n",
       "1         Аксессуары - PS2       1  Аксессуары\n",
       "2         Аксессуары - PS3       2  Аксессуары\n",
       "3         Аксессуары - PS4       3  Аксессуары\n",
       "4         Аксессуары - PSP       4  Аксессуары"
      ]
     },
     "execution_count": 19,
     "metadata": {},
     "output_type": "execute_result"
    }
   ],
   "source": [
    "item_categories.head()"
   ]
  },
  {
   "cell_type": "code",
   "execution_count": 20,
   "metadata": {
    "execution": {
     "iopub.execute_input": "2021-04-14T12:07:56.885860Z",
     "iopub.status.busy": "2021-04-14T12:07:56.884986Z",
     "iopub.status.idle": "2021-04-14T12:07:56.888027Z",
     "shell.execute_reply": "2021-04-14T12:07:56.887471Z"
    },
    "papermill": {
     "duration": 0.052094,
     "end_time": "2021-04-14T12:07:56.888170",
     "exception": false,
     "start_time": "2021-04-14T12:07:56.836076",
     "status": "completed"
    },
    "tags": []
   },
   "outputs": [],
   "source": [
    "# 레이블 인코더 생성\n",
    "label_encoder = LabelEncoder()\n",
    "# 범주분류 피처 레이블 인코딩\n",
    "item_categories['범주분류'] = label_encoder.fit_transform(item_categories['범주분류'])\n",
    "\n",
    "# 상품범주명 피처 제거\n",
    "item_categories = item_categories.drop('상품범주명', axis=1)"
   ]
  },
  {
   "cell_type": "markdown",
   "metadata": {
    "papermill": {
     "duration": 0.041463,
     "end_time": "2021-04-14T12:07:56.972105",
     "exception": false,
     "start_time": "2021-04-14T12:07:56.930642",
     "status": "completed"
    },
    "tags": []
   },
   "source": [
    "### 데이터 조합 및 파생 피처 생성"
   ]
  },
  {
   "cell_type": "code",
   "execution_count": 21,
   "metadata": {
    "execution": {
     "iopub.execute_input": "2021-04-14T12:07:57.064814Z",
     "iopub.status.busy": "2021-04-14T12:07:57.064085Z",
     "iopub.status.idle": "2021-04-14T12:08:19.116818Z",
     "shell.execute_reply": "2021-04-14T12:08:19.116099Z"
    },
    "papermill": {
     "duration": 22.103095,
     "end_time": "2021-04-14T12:08:19.117083",
     "exception": false,
     "start_time": "2021-04-14T12:07:57.013988",
     "status": "completed"
    },
    "tags": []
   },
   "outputs": [],
   "source": [
    "from itertools import product\n",
    "\n",
    "train = []\n",
    "# 날짜ID, 상점ID, 상품ID 조합 생성\n",
    "for i in sales_train['날짜ID'].unique():\n",
    "    all_shop = sales_train.loc[sales_train['날짜ID']==i, '상점ID'].unique()\n",
    "    all_item = sales_train.loc[sales_train['날짜ID']==i, '상품ID'].unique()\n",
    "    train.append(np.array(list(product([i], all_shop, all_item))))\n",
    "\n",
    "idx_features = ['날짜ID', '상점ID', '상품ID'] # 기준 피처 # 기준 피처\n",
    "train = pd.DataFrame(np.vstack(train), columns=idx_features)"
   ]
  },
  {
   "cell_type": "code",
   "execution_count": 22,
   "metadata": {
    "execution": {
     "iopub.execute_input": "2021-04-14T12:08:19.213307Z",
     "iopub.status.busy": "2021-04-14T12:08:19.212537Z",
     "iopub.status.idle": "2021-04-14T12:08:24.501745Z",
     "shell.execute_reply": "2021-04-14T12:08:24.501121Z"
    },
    "papermill": {
     "duration": 5.342051,
     "end_time": "2021-04-14T12:08:24.501899",
     "exception": false,
     "start_time": "2021-04-14T12:08:19.159848",
     "status": "completed"
    },
    "tags": []
   },
   "outputs": [
    {
     "data": {
      "text/html": [
       "<div>\n",
       "<style scoped>\n",
       "    .dataframe tbody tr th:only-of-type {\n",
       "        vertical-align: middle;\n",
       "    }\n",
       "\n",
       "    .dataframe tbody tr th {\n",
       "        vertical-align: top;\n",
       "    }\n",
       "\n",
       "    .dataframe thead th {\n",
       "        text-align: right;\n",
       "    }\n",
       "</style>\n",
       "<table border=\"1\" class=\"dataframe\">\n",
       "  <thead>\n",
       "    <tr style=\"text-align: right;\">\n",
       "      <th></th>\n",
       "      <th>날짜ID</th>\n",
       "      <th>상점ID</th>\n",
       "      <th>상품ID</th>\n",
       "      <th>총 판매량</th>\n",
       "      <th>평균 판매가</th>\n",
       "    </tr>\n",
       "  </thead>\n",
       "  <tbody>\n",
       "    <tr>\n",
       "      <th>0</th>\n",
       "      <td>0</td>\n",
       "      <td>59</td>\n",
       "      <td>22154</td>\n",
       "      <td>1.0</td>\n",
       "      <td>999.0</td>\n",
       "    </tr>\n",
       "    <tr>\n",
       "      <th>1</th>\n",
       "      <td>0</td>\n",
       "      <td>59</td>\n",
       "      <td>2552</td>\n",
       "      <td>NaN</td>\n",
       "      <td>NaN</td>\n",
       "    </tr>\n",
       "    <tr>\n",
       "      <th>2</th>\n",
       "      <td>0</td>\n",
       "      <td>59</td>\n",
       "      <td>2554</td>\n",
       "      <td>NaN</td>\n",
       "      <td>NaN</td>\n",
       "    </tr>\n",
       "    <tr>\n",
       "      <th>3</th>\n",
       "      <td>0</td>\n",
       "      <td>59</td>\n",
       "      <td>2555</td>\n",
       "      <td>NaN</td>\n",
       "      <td>NaN</td>\n",
       "    </tr>\n",
       "    <tr>\n",
       "      <th>4</th>\n",
       "      <td>0</td>\n",
       "      <td>59</td>\n",
       "      <td>2564</td>\n",
       "      <td>NaN</td>\n",
       "      <td>NaN</td>\n",
       "    </tr>\n",
       "  </tbody>\n",
       "</table>\n",
       "</div>"
      ],
      "text/plain": [
       "   날짜ID  상점ID   상품ID  총 판매량  평균 판매가\n",
       "0     0    59  22154    1.0   999.0\n",
       "1     0    59   2552    NaN     NaN\n",
       "2     0    59   2554    NaN     NaN\n",
       "3     0    59   2555    NaN     NaN\n",
       "4     0    59   2564    NaN     NaN"
      ]
     },
     "execution_count": 22,
     "metadata": {},
     "output_type": "execute_result"
    }
   ],
   "source": [
    "group = sales_train.groupby(idx_features).agg({'판매량': 'sum',\n",
    "                                               '판매가': 'mean'})\n",
    "group = group.reset_index()\n",
    "group = group.rename(columns={'판매량': '총 판매량', '판매가': '평균 판매가'})\n",
    "\n",
    "train = train.merge(group, on=idx_features, how='left')\n",
    "\n",
    "train.head()"
   ]
  },
  {
   "cell_type": "code",
   "execution_count": 23,
   "metadata": {
    "execution": {
     "iopub.execute_input": "2021-04-14T12:08:24.675057Z",
     "iopub.status.busy": "2021-04-14T12:08:24.674063Z",
     "iopub.status.idle": "2021-04-14T12:08:24.677569Z",
     "shell.execute_reply": "2021-04-14T12:08:24.676955Z"
    },
    "papermill": {
     "duration": 0.1322,
     "end_time": "2021-04-14T12:08:24.677735",
     "exception": false,
     "start_time": "2021-04-14T12:08:24.545535",
     "status": "completed"
    },
    "tags": []
   },
   "outputs": [],
   "source": [
    "import gc\n",
    "\n",
    "# group 변수 가비지 컬렉션\n",
    "del group\n",
    "gc.collect();"
   ]
  },
  {
   "cell_type": "code",
   "execution_count": 24,
   "metadata": {
    "execution": {
     "iopub.execute_input": "2021-04-14T12:08:24.772122Z",
     "iopub.status.busy": "2021-04-14T12:08:24.770924Z",
     "iopub.status.idle": "2021-04-14T12:08:29.923252Z",
     "shell.execute_reply": "2021-04-14T12:08:29.922650Z"
    },
    "papermill": {
     "duration": 5.202739,
     "end_time": "2021-04-14T12:08:29.923414",
     "exception": false,
     "start_time": "2021-04-14T12:08:24.720675",
     "status": "completed"
    },
    "tags": []
   },
   "outputs": [
    {
     "data": {
      "text/html": [
       "<div>\n",
       "<style scoped>\n",
       "    .dataframe tbody tr th:only-of-type {\n",
       "        vertical-align: middle;\n",
       "    }\n",
       "\n",
       "    .dataframe tbody tr th {\n",
       "        vertical-align: top;\n",
       "    }\n",
       "\n",
       "    .dataframe thead th {\n",
       "        text-align: right;\n",
       "    }\n",
       "</style>\n",
       "<table border=\"1\" class=\"dataframe\">\n",
       "  <thead>\n",
       "    <tr style=\"text-align: right;\">\n",
       "      <th></th>\n",
       "      <th>날짜ID</th>\n",
       "      <th>상점ID</th>\n",
       "      <th>상품ID</th>\n",
       "      <th>총 판매량</th>\n",
       "      <th>평균 판매가</th>\n",
       "      <th>판매건수</th>\n",
       "    </tr>\n",
       "  </thead>\n",
       "  <tbody>\n",
       "    <tr>\n",
       "      <th>0</th>\n",
       "      <td>0</td>\n",
       "      <td>59</td>\n",
       "      <td>22154</td>\n",
       "      <td>1.0</td>\n",
       "      <td>999.0</td>\n",
       "      <td>1.0</td>\n",
       "    </tr>\n",
       "    <tr>\n",
       "      <th>1</th>\n",
       "      <td>0</td>\n",
       "      <td>59</td>\n",
       "      <td>2552</td>\n",
       "      <td>NaN</td>\n",
       "      <td>NaN</td>\n",
       "      <td>NaN</td>\n",
       "    </tr>\n",
       "    <tr>\n",
       "      <th>2</th>\n",
       "      <td>0</td>\n",
       "      <td>59</td>\n",
       "      <td>2554</td>\n",
       "      <td>NaN</td>\n",
       "      <td>NaN</td>\n",
       "      <td>NaN</td>\n",
       "    </tr>\n",
       "    <tr>\n",
       "      <th>3</th>\n",
       "      <td>0</td>\n",
       "      <td>59</td>\n",
       "      <td>2555</td>\n",
       "      <td>NaN</td>\n",
       "      <td>NaN</td>\n",
       "      <td>NaN</td>\n",
       "    </tr>\n",
       "    <tr>\n",
       "      <th>4</th>\n",
       "      <td>0</td>\n",
       "      <td>59</td>\n",
       "      <td>2564</td>\n",
       "      <td>NaN</td>\n",
       "      <td>NaN</td>\n",
       "      <td>NaN</td>\n",
       "    </tr>\n",
       "  </tbody>\n",
       "</table>\n",
       "</div>"
      ],
      "text/plain": [
       "   날짜ID  상점ID   상품ID  총 판매량  평균 판매가  판매건수\n",
       "0     0    59  22154    1.0   999.0   1.0\n",
       "1     0    59   2552    NaN     NaN   NaN\n",
       "2     0    59   2554    NaN     NaN   NaN\n",
       "3     0    59   2555    NaN     NaN   NaN\n",
       "4     0    59   2564    NaN     NaN   NaN"
      ]
     },
     "execution_count": 24,
     "metadata": {},
     "output_type": "execute_result"
    }
   ],
   "source": [
    "# 상품 판매건수 피처 추가\n",
    "group = sales_train.groupby(idx_features).agg({'판매량': 'count'})\n",
    "group = group.reset_index()\n",
    "group = group.rename(columns={'판매량': '판매건수'})\n",
    "\n",
    "train = train.merge(group, on=idx_features, how='left')\n",
    "\n",
    "# 가비지 컬렉션\n",
    "del group, sales_train\n",
    "gc.collect()\n",
    "\n",
    "train.head()"
   ]
  },
  {
   "cell_type": "markdown",
   "metadata": {
    "papermill": {
     "duration": 0.04498,
     "end_time": "2021-04-14T12:08:30.017272",
     "exception": false,
     "start_time": "2021-04-14T12:08:29.972292",
     "status": "completed"
    },
    "tags": []
   },
   "source": [
    "### 테스트 데이터 이어붙이기, 나머지 데이터 병합"
   ]
  },
  {
   "cell_type": "code",
   "execution_count": 25,
   "metadata": {
    "execution": {
     "iopub.execute_input": "2021-04-14T12:08:30.116587Z",
     "iopub.status.busy": "2021-04-14T12:08:30.111098Z",
     "iopub.status.idle": "2021-04-14T12:08:30.868254Z",
     "shell.execute_reply": "2021-04-14T12:08:30.867653Z"
    },
    "papermill": {
     "duration": 0.806212,
     "end_time": "2021-04-14T12:08:30.868416",
     "exception": false,
     "start_time": "2021-04-14T12:08:30.062204",
     "status": "completed"
    },
    "tags": []
   },
   "outputs": [
    {
     "data": {
      "text/html": [
       "<div>\n",
       "<style scoped>\n",
       "    .dataframe tbody tr th:only-of-type {\n",
       "        vertical-align: middle;\n",
       "    }\n",
       "\n",
       "    .dataframe tbody tr th {\n",
       "        vertical-align: top;\n",
       "    }\n",
       "\n",
       "    .dataframe thead th {\n",
       "        text-align: right;\n",
       "    }\n",
       "</style>\n",
       "<table border=\"1\" class=\"dataframe\">\n",
       "  <thead>\n",
       "    <tr style=\"text-align: right;\">\n",
       "      <th></th>\n",
       "      <th>날짜ID</th>\n",
       "      <th>상점ID</th>\n",
       "      <th>상품ID</th>\n",
       "      <th>총 판매량</th>\n",
       "      <th>평균 판매가</th>\n",
       "      <th>판매건수</th>\n",
       "    </tr>\n",
       "  </thead>\n",
       "  <tbody>\n",
       "    <tr>\n",
       "      <th>0</th>\n",
       "      <td>0</td>\n",
       "      <td>59</td>\n",
       "      <td>22154</td>\n",
       "      <td>1.0</td>\n",
       "      <td>999.0</td>\n",
       "      <td>1.0</td>\n",
       "    </tr>\n",
       "    <tr>\n",
       "      <th>1</th>\n",
       "      <td>0</td>\n",
       "      <td>59</td>\n",
       "      <td>2552</td>\n",
       "      <td>0.0</td>\n",
       "      <td>0.0</td>\n",
       "      <td>0.0</td>\n",
       "    </tr>\n",
       "    <tr>\n",
       "      <th>2</th>\n",
       "      <td>0</td>\n",
       "      <td>59</td>\n",
       "      <td>2554</td>\n",
       "      <td>0.0</td>\n",
       "      <td>0.0</td>\n",
       "      <td>0.0</td>\n",
       "    </tr>\n",
       "    <tr>\n",
       "      <th>3</th>\n",
       "      <td>0</td>\n",
       "      <td>59</td>\n",
       "      <td>2555</td>\n",
       "      <td>0.0</td>\n",
       "      <td>0.0</td>\n",
       "      <td>0.0</td>\n",
       "    </tr>\n",
       "    <tr>\n",
       "      <th>4</th>\n",
       "      <td>0</td>\n",
       "      <td>59</td>\n",
       "      <td>2564</td>\n",
       "      <td>0.0</td>\n",
       "      <td>0.0</td>\n",
       "      <td>0.0</td>\n",
       "    </tr>\n",
       "  </tbody>\n",
       "</table>\n",
       "</div>"
      ],
      "text/plain": [
       "   날짜ID  상점ID   상품ID  총 판매량  평균 판매가  판매건수\n",
       "0     0    59  22154    1.0   999.0   1.0\n",
       "1     0    59   2552    0.0     0.0   0.0\n",
       "2     0    59   2554    0.0     0.0   0.0\n",
       "3     0    59   2555    0.0     0.0   0.0\n",
       "4     0    59   2564    0.0     0.0   0.0"
      ]
     },
     "execution_count": 25,
     "metadata": {},
     "output_type": "execute_result"
    }
   ],
   "source": [
    "# 테스트 데이터 날짜ID를 34로 설정\n",
    "test['날짜ID'] = 34\n",
    "\n",
    "# train과 test 이어붙이기\n",
    "all_data = pd.concat([train, test.drop('ID', axis=1)],\n",
    "                     ignore_index=True,\n",
    "                     keys=idx_features)\n",
    "# 결측값을 0으로 대체\n",
    "all_data = all_data.fillna(0)\n",
    "\n",
    "all_data.head()"
   ]
  },
  {
   "cell_type": "code",
   "execution_count": 26,
   "metadata": {
    "execution": {
     "iopub.execute_input": "2021-04-14T12:08:30.966690Z",
     "iopub.status.busy": "2021-04-14T12:08:30.965156Z",
     "iopub.status.idle": "2021-04-14T12:08:37.738468Z",
     "shell.execute_reply": "2021-04-14T12:08:37.737767Z"
    },
    "papermill": {
     "duration": 6.825949,
     "end_time": "2021-04-14T12:08:37.738617",
     "exception": false,
     "start_time": "2021-04-14T12:08:30.912668",
     "status": "completed"
    },
    "tags": []
   },
   "outputs": [
    {
     "name": "stdout",
     "output_type": "stream",
     "text": [
      "64.6% 압축됨\n"
     ]
    }
   ],
   "source": [
    "# 나머지 데이터 병합\n",
    "all_data = all_data.merge(shops, on='상점ID', how='left')\n",
    "all_data = all_data.merge(items, on='상품ID', how='left')\n",
    "all_data = all_data.merge(item_categories, on='상품범주ID', how='left')\n",
    "\n",
    "# 데이터 형변환\n",
    "all_data = downcast(all_data)\n",
    "\n",
    "# 가비지 컬렉션\n",
    "del shops, items, item_categories\n",
    "gc.collect();"
   ]
  },
  {
   "cell_type": "markdown",
   "metadata": {
    "papermill": {
     "duration": 0.044369,
     "end_time": "2021-04-14T12:08:37.827285",
     "exception": false,
     "start_time": "2021-04-14T12:08:37.782916",
     "status": "completed"
    },
    "tags": []
   },
   "source": [
    "## 피처 엔지니어링 II - 시차 피처 생성"
   ]
  },
  {
   "cell_type": "markdown",
   "metadata": {
    "papermill": {
     "duration": 0.044821,
     "end_time": "2021-04-14T12:08:37.916451",
     "exception": false,
     "start_time": "2021-04-14T12:08:37.871630",
     "status": "completed"
    },
    "tags": []
   },
   "source": [
    "### 기준 피처별 월간 평균 판매량 파생 피처 생성"
   ]
  },
  {
   "cell_type": "code",
   "execution_count": 27,
   "metadata": {
    "execution": {
     "iopub.execute_input": "2021-04-14T12:08:38.013987Z",
     "iopub.status.busy": "2021-04-14T12:08:38.013166Z",
     "iopub.status.idle": "2021-04-14T12:08:38.015723Z",
     "shell.execute_reply": "2021-04-14T12:08:38.016176Z"
    },
    "papermill": {
     "duration": 0.055492,
     "end_time": "2021-04-14T12:08:38.016348",
     "exception": false,
     "start_time": "2021-04-14T12:08:37.960856",
     "status": "completed"
    },
    "tags": []
   },
   "outputs": [],
   "source": [
    "def add_mean_features(df, mean_features, idx_features):\n",
    "    # 기준 피처 확인 ---①\n",
    "    assert (idx_features[0] == '날짜ID') and \\\n",
    "           len(idx_features) in [2, 3]\n",
    "    \n",
    "    # 파생 피처명 설정 ---②\n",
    "    if len(idx_features) == 2:\n",
    "        feature_name = idx_features[1] + '별 평균 판매량'\n",
    "    else:\n",
    "        feature_name = idx_features[1] + ' ' + idx_features[2] + '별 평균 판매량'\n",
    "    \n",
    "    # 기준 피처를 토대로 그룹화해 월간 평균 판매량 구하기 ---③\n",
    "    group = df.groupby(idx_features).agg({'총 판매량': 'mean'})\n",
    "    group = group.reset_index()\n",
    "    group = group.rename(columns={'총 판매량': feature_name})\n",
    "    \n",
    "    # df와 group 병합 ---④\n",
    "    df = df.merge(group, on=idx_features, how='left')\n",
    "    # 데이터 형변환 ---⑤\n",
    "    df = downcast(df, False)\n",
    "    # 새로 만든 mean_feature_name 피처를 mean_features 리스트에 추가 ---⑥\n",
    "    mean_features.append(feature_name)\n",
    "    \n",
    "    # 가비지 컬렉션\n",
    "    del group\n",
    "    gc.collect()\n",
    "    \n",
    "    return df, mean_features"
   ]
  },
  {
   "cell_type": "code",
   "execution_count": 28,
   "metadata": {
    "execution": {
     "iopub.execute_input": "2021-04-14T12:08:38.108852Z",
     "iopub.status.busy": "2021-04-14T12:08:38.108183Z",
     "iopub.status.idle": "2021-04-14T12:08:52.458709Z",
     "shell.execute_reply": "2021-04-14T12:08:52.458103Z"
    },
    "papermill": {
     "duration": 14.397855,
     "end_time": "2021-04-14T12:08:52.458868",
     "exception": false,
     "start_time": "2021-04-14T12:08:38.061013",
     "status": "completed"
    },
    "tags": []
   },
   "outputs": [],
   "source": [
    "# 그룹화 기준 피처에 '상품ID'를 포함한 파생 피처를 담을 리스트\n",
    "item_mean_features = []\n",
    "\n",
    "# ['날짜ID', '상품ID']로 그룹화한 월간 평균 판매량 파생 피처 생성\n",
    "all_data, item_mean_features = add_mean_features(df=all_data,\n",
    "                                                 mean_features=item_mean_features,\n",
    "                                                 idx_features=['날짜ID', '상품ID'])\n",
    "\n",
    "# ['날짜ID', '상품ID', '도시']로 그룹화한 월간 평균 판매량 파생 피처 생성\n",
    "all_data, item_mean_features = add_mean_features(df=all_data,\n",
    "                                                 mean_features=item_mean_features,\n",
    "                                                 idx_features=['날짜ID', '상품ID', '도시'])"
   ]
  },
  {
   "cell_type": "code",
   "execution_count": 29,
   "metadata": {
    "execution": {
     "iopub.execute_input": "2021-04-14T12:08:52.553739Z",
     "iopub.status.busy": "2021-04-14T12:08:52.552853Z",
     "iopub.status.idle": "2021-04-14T12:08:52.557276Z",
     "shell.execute_reply": "2021-04-14T12:08:52.556786Z"
    },
    "papermill": {
     "duration": 0.053977,
     "end_time": "2021-04-14T12:08:52.557445",
     "exception": false,
     "start_time": "2021-04-14T12:08:52.503468",
     "status": "completed"
    },
    "tags": []
   },
   "outputs": [
    {
     "data": {
      "text/plain": [
       "['상품ID별 평균 판매량', '상품ID 도시별 평균 판매량']"
      ]
     },
     "execution_count": 29,
     "metadata": {},
     "output_type": "execute_result"
    }
   ],
   "source": [
    "item_mean_features"
   ]
  },
  {
   "cell_type": "code",
   "execution_count": 30,
   "metadata": {
    "execution": {
     "iopub.execute_input": "2021-04-14T12:08:52.650835Z",
     "iopub.status.busy": "2021-04-14T12:08:52.650167Z",
     "iopub.status.idle": "2021-04-14T12:08:56.336333Z",
     "shell.execute_reply": "2021-04-14T12:08:56.335725Z"
    },
    "papermill": {
     "duration": 3.734181,
     "end_time": "2021-04-14T12:08:56.336500",
     "exception": false,
     "start_time": "2021-04-14T12:08:52.602319",
     "status": "completed"
    },
    "tags": []
   },
   "outputs": [],
   "source": [
    "# 그룹화 기준 피처에 '상점ID'를 포함한 파생 피처를 담을 리스트\n",
    "shop_mean_features = []\n",
    "\n",
    "# ['날짜ID', '상점ID', '상품범주ID']로 그룹화한 월간 평균 판매량 파생 피처 생성\n",
    "all_data, shop_mean_features = add_mean_features(df=all_data, \n",
    "                                                 mean_features=shop_mean_features,\n",
    "                                                 idx_features=['날짜ID', '상점ID', '상품범주ID'])"
   ]
  },
  {
   "cell_type": "code",
   "execution_count": 31,
   "metadata": {
    "execution": {
     "iopub.execute_input": "2021-04-14T12:08:56.433479Z",
     "iopub.status.busy": "2021-04-14T12:08:56.432632Z",
     "iopub.status.idle": "2021-04-14T12:08:56.436804Z",
     "shell.execute_reply": "2021-04-14T12:08:56.437246Z"
    },
    "papermill": {
     "duration": 0.055406,
     "end_time": "2021-04-14T12:08:56.437435",
     "exception": false,
     "start_time": "2021-04-14T12:08:56.382029",
     "status": "completed"
    },
    "tags": []
   },
   "outputs": [
    {
     "data": {
      "text/plain": [
       "['상점ID 상품범주ID별 평균 판매량']"
      ]
     },
     "execution_count": 31,
     "metadata": {},
     "output_type": "execute_result"
    }
   ],
   "source": [
    "shop_mean_features"
   ]
  },
  {
   "cell_type": "markdown",
   "metadata": {
    "papermill": {
     "duration": 0.04544,
     "end_time": "2021-04-14T12:08:56.528517",
     "exception": false,
     "start_time": "2021-04-14T12:08:56.483077",
     "status": "completed"
    },
    "tags": []
   },
   "source": [
    "### 시차 파생 피처 만들기"
   ]
  },
  {
   "cell_type": "code",
   "execution_count": 32,
   "metadata": {
    "execution": {
     "iopub.execute_input": "2021-04-14T12:08:56.629338Z",
     "iopub.status.busy": "2021-04-14T12:08:56.628682Z",
     "iopub.status.idle": "2021-04-14T12:08:56.631944Z",
     "shell.execute_reply": "2021-04-14T12:08:56.632438Z"
    },
    "papermill": {
     "duration": 0.05859,
     "end_time": "2021-04-14T12:08:56.632622",
     "exception": false,
     "start_time": "2021-04-14T12:08:56.574032",
     "status": "completed"
    },
    "tags": []
   },
   "outputs": [],
   "source": [
    "def add_lag_features(df, lag_features_to_clip, idx_features, \n",
    "                     lag_feature, nlags=3, clip=False):\n",
    "    # 시차 피처 생성에 필요한 DataFrame 부분만 복사 ---①\n",
    "    df_temp = df[idx_features + [lag_feature]].copy() \n",
    "\n",
    "    # 시차 피처 생성 ---②\n",
    "    for i in range(1, nlags+1):\n",
    "        # 시차 피처명 ---③\n",
    "        lag_feature_name = lag_feature +'_시차' + str(i)\n",
    "        # df_temp 열 이름 설정 ---④\n",
    "        df_temp.columns = idx_features + [lag_feature_name]\n",
    "        # df_temp의 date_block_num 피처에 1 더하기 ---⑤\n",
    "        df_temp['날짜ID'] += i\n",
    "        # idx_feature를 기준으로 df와 df_temp 병합하기 ---⑥\n",
    "        df = df.merge(df_temp.drop_duplicates(), \n",
    "                      on=idx_features, \n",
    "                      how='left')\n",
    "        # 결측값 0으로 대체 ---⑦\n",
    "        df[lag_feature_name] = df[lag_feature_name].fillna(0)\n",
    "        # 0~20 사이로 제한할 시차 피처를 lag_features_to_clip에 추가 ---⑧\n",
    "        if clip: \n",
    "            lag_features_to_clip.append(lag_feature_name)\n",
    "    \n",
    "    # 데이터 형변환\n",
    "    df = downcast(df, False)\n",
    "    # 가비지 컬렉션\n",
    "    del df_temp\n",
    "    gc.collect()\n",
    "    \n",
    "    return df, lag_features_to_clip"
   ]
  },
  {
   "cell_type": "code",
   "execution_count": 33,
   "metadata": {
    "execution": {
     "iopub.execute_input": "2021-04-14T12:08:56.732574Z",
     "iopub.status.busy": "2021-04-14T12:08:56.731852Z",
     "iopub.status.idle": "2021-04-14T12:09:29.465038Z",
     "shell.execute_reply": "2021-04-14T12:09:29.465603Z"
    },
    "papermill": {
     "duration": 32.785827,
     "end_time": "2021-04-14T12:09:29.465790",
     "exception": false,
     "start_time": "2021-04-14T12:08:56.679963",
     "status": "completed"
    },
    "tags": []
   },
   "outputs": [],
   "source": [
    "lag_features_to_clip = [] # 0~20 사이로 제한할 시차 피처를 담을 리스트\n",
    "idx_features = ['날짜ID', '상점ID', '상품ID'] # 기준 피처\n",
    "\n",
    "# idx_features를 기준으로 총 판매량의 세 달치 시차 피처 생성\n",
    "all_data, lag_features_to_clip = add_lag_features(df=all_data, \n",
    "                                                  lag_features_to_clip=lag_features_to_clip,\n",
    "                                                  idx_features=idx_features,\n",
    "                                                  lag_feature='총 판매량', \n",
    "                                                  nlags=3,\n",
    "                                                  clip=True)"
   ]
  },
  {
   "cell_type": "code",
   "execution_count": 34,
   "metadata": {
    "execution": {
     "iopub.execute_input": "2021-04-14T12:09:29.577666Z",
     "iopub.status.busy": "2021-04-14T12:09:29.566185Z",
     "iopub.status.idle": "2021-04-14T12:09:29.582782Z",
     "shell.execute_reply": "2021-04-14T12:09:29.582143Z"
    },
    "papermill": {
     "duration": 0.069083,
     "end_time": "2021-04-14T12:09:29.582935",
     "exception": false,
     "start_time": "2021-04-14T12:09:29.513852",
     "status": "completed"
    },
    "tags": []
   },
   "outputs": [
    {
     "data": {
      "text/html": [
       "<div>\n",
       "<style scoped>\n",
       "    .dataframe tbody tr th:only-of-type {\n",
       "        vertical-align: middle;\n",
       "    }\n",
       "\n",
       "    .dataframe tbody tr th {\n",
       "        vertical-align: top;\n",
       "    }\n",
       "\n",
       "    .dataframe thead th {\n",
       "        text-align: right;\n",
       "    }\n",
       "</style>\n",
       "<table border=\"1\" class=\"dataframe\">\n",
       "  <thead>\n",
       "    <tr style=\"text-align: right;\">\n",
       "      <th></th>\n",
       "      <th>0</th>\n",
       "      <th>1</th>\n",
       "      <th>2</th>\n",
       "      <th>3</th>\n",
       "      <th>4</th>\n",
       "    </tr>\n",
       "  </thead>\n",
       "  <tbody>\n",
       "    <tr>\n",
       "      <th>날짜ID</th>\n",
       "      <td>0.000000</td>\n",
       "      <td>0.000000</td>\n",
       "      <td>0.000000</td>\n",
       "      <td>0.000000</td>\n",
       "      <td>0.000000</td>\n",
       "    </tr>\n",
       "    <tr>\n",
       "      <th>상점ID</th>\n",
       "      <td>59.000000</td>\n",
       "      <td>59.000000</td>\n",
       "      <td>59.000000</td>\n",
       "      <td>59.000000</td>\n",
       "      <td>59.000000</td>\n",
       "    </tr>\n",
       "    <tr>\n",
       "      <th>상품ID</th>\n",
       "      <td>22154.000000</td>\n",
       "      <td>2552.000000</td>\n",
       "      <td>2554.000000</td>\n",
       "      <td>2555.000000</td>\n",
       "      <td>2564.000000</td>\n",
       "    </tr>\n",
       "    <tr>\n",
       "      <th>총 판매량</th>\n",
       "      <td>1.000000</td>\n",
       "      <td>0.000000</td>\n",
       "      <td>0.000000</td>\n",
       "      <td>0.000000</td>\n",
       "      <td>0.000000</td>\n",
       "    </tr>\n",
       "    <tr>\n",
       "      <th>평균 판매가</th>\n",
       "      <td>999.000000</td>\n",
       "      <td>0.000000</td>\n",
       "      <td>0.000000</td>\n",
       "      <td>0.000000</td>\n",
       "      <td>0.000000</td>\n",
       "    </tr>\n",
       "    <tr>\n",
       "      <th>판매건수</th>\n",
       "      <td>1.000000</td>\n",
       "      <td>0.000000</td>\n",
       "      <td>0.000000</td>\n",
       "      <td>0.000000</td>\n",
       "      <td>0.000000</td>\n",
       "    </tr>\n",
       "    <tr>\n",
       "      <th>도시</th>\n",
       "      <td>30.000000</td>\n",
       "      <td>30.000000</td>\n",
       "      <td>30.000000</td>\n",
       "      <td>30.000000</td>\n",
       "      <td>30.000000</td>\n",
       "    </tr>\n",
       "    <tr>\n",
       "      <th>상품범주ID</th>\n",
       "      <td>37.000000</td>\n",
       "      <td>58.000000</td>\n",
       "      <td>58.000000</td>\n",
       "      <td>56.000000</td>\n",
       "      <td>59.000000</td>\n",
       "    </tr>\n",
       "    <tr>\n",
       "      <th>첫 판매날짜</th>\n",
       "      <td>0.000000</td>\n",
       "      <td>0.000000</td>\n",
       "      <td>0.000000</td>\n",
       "      <td>0.000000</td>\n",
       "      <td>0.000000</td>\n",
       "    </tr>\n",
       "    <tr>\n",
       "      <th>범주분류</th>\n",
       "      <td>5.000000</td>\n",
       "      <td>7.000000</td>\n",
       "      <td>7.000000</td>\n",
       "      <td>7.000000</td>\n",
       "      <td>7.000000</td>\n",
       "    </tr>\n",
       "    <tr>\n",
       "      <th>상품ID별 평균 판매량</th>\n",
       "      <td>0.400000</td>\n",
       "      <td>0.022222</td>\n",
       "      <td>0.022222</td>\n",
       "      <td>0.044444</td>\n",
       "      <td>0.111111</td>\n",
       "    </tr>\n",
       "    <tr>\n",
       "      <th>상품ID 도시별 평균 판매량</th>\n",
       "      <td>1.000000</td>\n",
       "      <td>0.000000</td>\n",
       "      <td>0.000000</td>\n",
       "      <td>0.000000</td>\n",
       "      <td>0.000000</td>\n",
       "    </tr>\n",
       "    <tr>\n",
       "      <th>상점ID 상품범주ID별 평균 판매량</th>\n",
       "      <td>0.088496</td>\n",
       "      <td>0.000000</td>\n",
       "      <td>0.000000</td>\n",
       "      <td>0.008333</td>\n",
       "      <td>0.011976</td>\n",
       "    </tr>\n",
       "    <tr>\n",
       "      <th>총 판매량_시차1</th>\n",
       "      <td>0.000000</td>\n",
       "      <td>0.000000</td>\n",
       "      <td>0.000000</td>\n",
       "      <td>0.000000</td>\n",
       "      <td>0.000000</td>\n",
       "    </tr>\n",
       "    <tr>\n",
       "      <th>총 판매량_시차2</th>\n",
       "      <td>0.000000</td>\n",
       "      <td>0.000000</td>\n",
       "      <td>0.000000</td>\n",
       "      <td>0.000000</td>\n",
       "      <td>0.000000</td>\n",
       "    </tr>\n",
       "    <tr>\n",
       "      <th>총 판매량_시차3</th>\n",
       "      <td>0.000000</td>\n",
       "      <td>0.000000</td>\n",
       "      <td>0.000000</td>\n",
       "      <td>0.000000</td>\n",
       "      <td>0.000000</td>\n",
       "    </tr>\n",
       "  </tbody>\n",
       "</table>\n",
       "</div>"
      ],
      "text/plain": [
       "                                0            1            2            3  \\\n",
       "날짜ID                     0.000000     0.000000     0.000000     0.000000   \n",
       "상점ID                    59.000000    59.000000    59.000000    59.000000   \n",
       "상품ID                 22154.000000  2552.000000  2554.000000  2555.000000   \n",
       "총 판매량                    1.000000     0.000000     0.000000     0.000000   \n",
       "평균 판매가                 999.000000     0.000000     0.000000     0.000000   \n",
       "판매건수                     1.000000     0.000000     0.000000     0.000000   \n",
       "도시                      30.000000    30.000000    30.000000    30.000000   \n",
       "상품범주ID                  37.000000    58.000000    58.000000    56.000000   \n",
       "첫 판매날짜                   0.000000     0.000000     0.000000     0.000000   \n",
       "범주분류                     5.000000     7.000000     7.000000     7.000000   \n",
       "상품ID별 평균 판매량             0.400000     0.022222     0.022222     0.044444   \n",
       "상품ID 도시별 평균 판매량          1.000000     0.000000     0.000000     0.000000   \n",
       "상점ID 상품범주ID별 평균 판매량      0.088496     0.000000     0.000000     0.008333   \n",
       "총 판매량_시차1                0.000000     0.000000     0.000000     0.000000   \n",
       "총 판매량_시차2                0.000000     0.000000     0.000000     0.000000   \n",
       "총 판매량_시차3                0.000000     0.000000     0.000000     0.000000   \n",
       "\n",
       "                               4  \n",
       "날짜ID                    0.000000  \n",
       "상점ID                   59.000000  \n",
       "상품ID                 2564.000000  \n",
       "총 판매량                   0.000000  \n",
       "평균 판매가                  0.000000  \n",
       "판매건수                    0.000000  \n",
       "도시                     30.000000  \n",
       "상품범주ID                 59.000000  \n",
       "첫 판매날짜                  0.000000  \n",
       "범주분류                    7.000000  \n",
       "상품ID별 평균 판매량            0.111111  \n",
       "상품ID 도시별 평균 판매량         0.000000  \n",
       "상점ID 상품범주ID별 평균 판매량     0.011976  \n",
       "총 판매량_시차1               0.000000  \n",
       "총 판매량_시차2               0.000000  \n",
       "총 판매량_시차3               0.000000  "
      ]
     },
     "execution_count": 34,
     "metadata": {},
     "output_type": "execute_result"
    }
   ],
   "source": [
    "all_data.head().T"
   ]
  },
  {
   "cell_type": "code",
   "execution_count": 35,
   "metadata": {
    "execution": {
     "iopub.execute_input": "2021-04-14T12:09:29.681237Z",
     "iopub.status.busy": "2021-04-14T12:09:29.680522Z",
     "iopub.status.idle": "2021-04-14T12:09:29.685215Z",
     "shell.execute_reply": "2021-04-14T12:09:29.685738Z"
    },
    "papermill": {
     "duration": 0.056312,
     "end_time": "2021-04-14T12:09:29.685920",
     "exception": false,
     "start_time": "2021-04-14T12:09:29.629608",
     "status": "completed"
    },
    "tags": []
   },
   "outputs": [
    {
     "data": {
      "text/plain": [
       "['총 판매량_시차1', '총 판매량_시차2', '총 판매량_시차3']"
      ]
     },
     "execution_count": 35,
     "metadata": {},
     "output_type": "execute_result"
    }
   ],
   "source": [
    "lag_features_to_clip"
   ]
  },
  {
   "cell_type": "code",
   "execution_count": 36,
   "metadata": {
    "execution": {
     "iopub.execute_input": "2021-04-14T12:09:29.788064Z",
     "iopub.status.busy": "2021-04-14T12:09:29.786699Z",
     "iopub.status.idle": "2021-04-14T12:10:35.625857Z",
     "shell.execute_reply": "2021-04-14T12:10:35.626369Z"
    },
    "papermill": {
     "duration": 65.893572,
     "end_time": "2021-04-14T12:10:35.626615",
     "exception": false,
     "start_time": "2021-04-14T12:09:29.733043",
     "status": "completed"
    },
    "tags": []
   },
   "outputs": [],
   "source": [
    "# idx_features를 기준으로 판매건수 피처의 세 달치 시차 피처 생성\n",
    "all_data, lag_features_to_clip = add_lag_features(df=all_data, \n",
    "                                                  lag_features_to_clip=lag_features_to_clip,\n",
    "                                                  idx_features=idx_features,\n",
    "                                                  lag_feature='판매건수', \n",
    "                                                  nlags=3)\n",
    "\n",
    "# idx_features를 기준으로 평균 판매가 피처의 세 달치 시차 피처 생성\n",
    "all_data, lag_features_to_clip = add_lag_features(df=all_data, \n",
    "                                                  lag_features_to_clip=lag_features_to_clip,\n",
    "                                                  idx_features=idx_features,\n",
    "                                                  lag_feature='평균 판매가', \n",
    "                                                  nlags=3)"
   ]
  },
  {
   "cell_type": "code",
   "execution_count": 37,
   "metadata": {
    "execution": {
     "iopub.execute_input": "2021-04-14T12:10:35.725266Z",
     "iopub.status.busy": "2021-04-14T12:10:35.724474Z",
     "iopub.status.idle": "2021-04-14T12:10:36.152184Z",
     "shell.execute_reply": "2021-04-14T12:10:36.151472Z"
    },
    "papermill": {
     "duration": 0.478222,
     "end_time": "2021-04-14T12:10:36.152332",
     "exception": false,
     "start_time": "2021-04-14T12:10:35.674110",
     "status": "completed"
    },
    "tags": []
   },
   "outputs": [
    {
     "data": {
      "text/plain": [
       "상품ID별 평균 판매량       0.0\n",
       "상품ID 도시별 평균 판매량    0.0\n",
       "dtype: float32"
      ]
     },
     "execution_count": 37,
     "metadata": {},
     "output_type": "execute_result"
    }
   ],
   "source": [
    "X_test_temp = all_data[all_data['날짜ID'] == 34]\n",
    "X_test_temp[item_mean_features].sum()"
   ]
  },
  {
   "cell_type": "code",
   "execution_count": 38,
   "metadata": {
    "execution": {
     "iopub.execute_input": "2021-04-14T12:10:36.303046Z",
     "iopub.status.busy": "2021-04-14T12:10:36.302217Z",
     "iopub.status.idle": "2021-04-14T12:11:43.464758Z",
     "shell.execute_reply": "2021-04-14T12:11:43.464008Z"
    },
    "papermill": {
     "duration": 67.264476,
     "end_time": "2021-04-14T12:11:43.464916",
     "exception": false,
     "start_time": "2021-04-14T12:10:36.200440",
     "status": "completed"
    },
    "tags": []
   },
   "outputs": [],
   "source": [
    "# idx_features를 기준으로 item_mean_features 요소별 시차 피처 생성\n",
    "for item_mean_feature in item_mean_features:\n",
    "    all_data, lag_features_to_clip = add_lag_features(df=all_data, \n",
    "                                                      lag_features_to_clip=lag_features_to_clip, \n",
    "                                                      idx_features=idx_features, \n",
    "                                                      lag_feature=item_mean_feature, \n",
    "                                                      nlags=3)\n",
    "# item_mean_features 피처 제거\n",
    "all_data = all_data.drop(item_mean_features, axis=1)"
   ]
  },
  {
   "cell_type": "code",
   "execution_count": 39,
   "metadata": {
    "execution": {
     "iopub.execute_input": "2021-04-14T12:11:43.568142Z",
     "iopub.status.busy": "2021-04-14T12:11:43.567471Z",
     "iopub.status.idle": "2021-04-14T12:11:43.571629Z",
     "shell.execute_reply": "2021-04-14T12:11:43.570921Z"
    },
    "papermill": {
     "duration": 0.056932,
     "end_time": "2021-04-14T12:11:43.571774",
     "exception": false,
     "start_time": "2021-04-14T12:11:43.514842",
     "status": "completed"
    },
    "tags": []
   },
   "outputs": [
    {
     "data": {
      "text/plain": [
       "['상점ID 상품범주ID별 평균 판매량']"
      ]
     },
     "execution_count": 39,
     "metadata": {},
     "output_type": "execute_result"
    }
   ],
   "source": [
    "shop_mean_features"
   ]
  },
  {
   "cell_type": "code",
   "execution_count": 40,
   "metadata": {
    "execution": {
     "iopub.execute_input": "2021-04-14T12:11:43.714969Z",
     "iopub.status.busy": "2021-04-14T12:11:43.695480Z",
     "iopub.status.idle": "2021-04-14T12:11:56.636221Z",
     "shell.execute_reply": "2021-04-14T12:11:56.635450Z"
    },
    "papermill": {
     "duration": 13.016018,
     "end_time": "2021-04-14T12:11:56.636375",
     "exception": false,
     "start_time": "2021-04-14T12:11:43.620357",
     "status": "completed"
    },
    "tags": []
   },
   "outputs": [],
   "source": [
    "# ['날짜ID', '상점ID', '상품범주ID']를 기준으로 shop_mean_features 요소별 시차 피처 생성\n",
    "for shop_mean_feature in shop_mean_features:\n",
    "    all_data, lag_features_to_clip = add_lag_features(df=all_data,\n",
    "                                                      lag_features_to_clip=lag_features_to_clip, \n",
    "                                                      idx_features=['날짜ID', '상점ID', '상품범주ID'], \n",
    "                                                      lag_feature=shop_mean_feature, \n",
    "                                                      nlags=3)\n",
    "# shop_mean_features 피처 제거\n",
    "all_data = all_data.drop(shop_mean_features, axis=1)"
   ]
  },
  {
   "cell_type": "code",
   "execution_count": 41,
   "metadata": {
    "execution": {
     "iopub.execute_input": "2021-04-14T12:11:56.741238Z",
     "iopub.status.busy": "2021-04-14T12:11:56.740554Z",
     "iopub.status.idle": "2021-04-14T12:11:59.040686Z",
     "shell.execute_reply": "2021-04-14T12:11:59.041192Z"
    },
    "papermill": {
     "duration": 2.356054,
     "end_time": "2021-04-14T12:11:59.041400",
     "exception": false,
     "start_time": "2021-04-14T12:11:56.685346",
     "status": "completed"
    },
    "tags": []
   },
   "outputs": [],
   "source": [
    "# 날짜 ID 3미만인 데이터 제거\n",
    "all_data = all_data.drop(all_data[all_data['날짜ID'] < 3].index)"
   ]
  },
  {
   "cell_type": "markdown",
   "metadata": {
    "papermill": {
     "duration": 0.048762,
     "end_time": "2021-04-14T12:11:59.139704",
     "exception": false,
     "start_time": "2021-04-14T12:11:59.090942",
     "status": "completed"
    },
    "tags": []
   },
   "source": [
    "### 기타 피처 엔지니어링"
   ]
  },
  {
   "cell_type": "code",
   "execution_count": 42,
   "metadata": {
    "execution": {
     "iopub.execute_input": "2021-04-14T12:11:59.278786Z",
     "iopub.status.busy": "2021-04-14T12:11:59.278045Z",
     "iopub.status.idle": "2021-04-14T12:11:59.402091Z",
     "shell.execute_reply": "2021-04-14T12:11:59.401491Z"
    },
    "papermill": {
     "duration": 0.213805,
     "end_time": "2021-04-14T12:11:59.402258",
     "exception": false,
     "start_time": "2021-04-14T12:11:59.188453",
     "status": "completed"
    },
    "tags": []
   },
   "outputs": [],
   "source": [
    "all_data['총 판매량 시차평균'] = all_data[['총 판매량_시차1',\n",
    "                                         '총 판매량_시차2', \n",
    "                                         '총 판매량_시차3']].mean(axis=1)"
   ]
  },
  {
   "cell_type": "code",
   "execution_count": 43,
   "metadata": {
    "execution": {
     "iopub.execute_input": "2021-04-14T12:11:59.600542Z",
     "iopub.status.busy": "2021-04-14T12:11:59.599784Z",
     "iopub.status.idle": "2021-04-14T12:12:00.645788Z",
     "shell.execute_reply": "2021-04-14T12:12:00.646321Z"
    },
    "papermill": {
     "duration": 1.192942,
     "end_time": "2021-04-14T12:12:00.646522",
     "exception": false,
     "start_time": "2021-04-14T12:11:59.453580",
     "status": "completed"
    },
    "tags": []
   },
   "outputs": [],
   "source": [
    "# 0~20 사이로 값 제한\n",
    "all_data[lag_features_to_clip + ['총 판매량', '총 판매량 시차평균']] = all_data[lag_features_to_clip +['총 판매량', '총 판매량 시차평균']].clip(0, 20)"
   ]
  },
  {
   "cell_type": "code",
   "execution_count": 44,
   "metadata": {
    "execution": {
     "iopub.execute_input": "2021-04-14T12:12:00.754702Z",
     "iopub.status.busy": "2021-04-14T12:12:00.753419Z",
     "iopub.status.idle": "2021-04-14T12:12:01.314706Z",
     "shell.execute_reply": "2021-04-14T12:12:01.314117Z"
    },
    "papermill": {
     "duration": 0.618334,
     "end_time": "2021-04-14T12:12:01.314852",
     "exception": false,
     "start_time": "2021-04-14T12:12:00.696518",
     "status": "completed"
    },
    "tags": []
   },
   "outputs": [],
   "source": [
    "all_data['시차변화량1'] = all_data['총 판매량_시차1']/all_data['총 판매량_시차2']\n",
    "all_data['시차변화량1'] = all_data['시차변화량1'].replace([np.inf, -np.inf], \n",
    "                                                        np.nan).fillna(0)\n",
    "\n",
    "all_data['시차변화량2'] = all_data['총 판매량_시차2']/all_data['총 판매량_시차3']\n",
    "all_data['시차변화량2'] = all_data['시차변화량2'].replace([np.inf, -np.inf], \n",
    "                                                        np.nan).fillna(0)"
   ]
  },
  {
   "cell_type": "code",
   "execution_count": 45,
   "metadata": {
    "execution": {
     "iopub.execute_input": "2021-04-14T12:12:01.420000Z",
     "iopub.status.busy": "2021-04-14T12:12:01.418632Z",
     "iopub.status.idle": "2021-04-14T12:12:01.426808Z",
     "shell.execute_reply": "2021-04-14T12:12:01.427302Z"
    },
    "papermill": {
     "duration": 0.063586,
     "end_time": "2021-04-14T12:12:01.427512",
     "exception": false,
     "start_time": "2021-04-14T12:12:01.363926",
     "status": "completed"
    },
    "tags": []
   },
   "outputs": [],
   "source": [
    "all_data['신상여부'] = all_data['첫 판매날짜'] == all_data['날짜ID']"
   ]
  },
  {
   "cell_type": "code",
   "execution_count": 46,
   "metadata": {
    "execution": {
     "iopub.execute_input": "2021-04-14T12:12:01.534538Z",
     "iopub.status.busy": "2021-04-14T12:12:01.532960Z",
     "iopub.status.idle": "2021-04-14T12:12:01.541847Z",
     "shell.execute_reply": "2021-04-14T12:12:01.541136Z"
    },
    "papermill": {
     "duration": 0.065039,
     "end_time": "2021-04-14T12:12:01.541993",
     "exception": false,
     "start_time": "2021-04-14T12:12:01.476954",
     "status": "completed"
    },
    "tags": []
   },
   "outputs": [],
   "source": [
    "all_data['첫 판매 후 기간'] = all_data['날짜ID'] - all_data['첫 판매날짜']"
   ]
  },
  {
   "cell_type": "code",
   "execution_count": 47,
   "metadata": {
    "execution": {
     "iopub.execute_input": "2021-04-14T12:12:01.647554Z",
     "iopub.status.busy": "2021-04-14T12:12:01.646830Z",
     "iopub.status.idle": "2021-04-14T12:12:01.691758Z",
     "shell.execute_reply": "2021-04-14T12:12:01.691035Z"
    },
    "papermill": {
     "duration": 0.100569,
     "end_time": "2021-04-14T12:12:01.691904",
     "exception": false,
     "start_time": "2021-04-14T12:12:01.591335",
     "status": "completed"
    },
    "tags": []
   },
   "outputs": [],
   "source": [
    "all_data['월'] = all_data['날짜ID']%12"
   ]
  },
  {
   "cell_type": "code",
   "execution_count": 48,
   "metadata": {
    "execution": {
     "iopub.execute_input": "2021-04-14T12:12:01.799683Z",
     "iopub.status.busy": "2021-04-14T12:12:01.798996Z",
     "iopub.status.idle": "2021-04-14T12:12:04.210471Z",
     "shell.execute_reply": "2021-04-14T12:12:04.209718Z"
    },
    "papermill": {
     "duration": 2.467086,
     "end_time": "2021-04-14T12:12:04.210630",
     "exception": false,
     "start_time": "2021-04-14T12:12:01.743544",
     "status": "completed"
    },
    "tags": []
   },
   "outputs": [
    {
     "name": "stdout",
     "output_type": "stream",
     "text": [
      "<class 'pandas.core.frame.DataFrame'>\n",
      "Int64Index: 9904582 entries, 1122386 to 11026967\n",
      "Data columns (total 31 columns):\n",
      " #   Column                   Dtype  \n",
      "---  ------                   -----  \n",
      " 0   날짜ID                     int8   \n",
      " 1   상점ID                     int8   \n",
      " 2   상품ID                     int16  \n",
      " 3   총 판매량                    int8   \n",
      " 4   도시                       int8   \n",
      " 5   상품범주ID                   int8   \n",
      " 6   범주분류                     int8   \n",
      " 7   총 판매량_시차1                int8   \n",
      " 8   총 판매량_시차2                int8   \n",
      " 9   총 판매량_시차3                int8   \n",
      " 10  판매건수_시차1                 int8   \n",
      " 11  판매건수_시차2                 int8   \n",
      " 12  판매건수_시차3                 int8   \n",
      " 13  평균 판매가_시차1               float32\n",
      " 14  평균 판매가_시차2               float32\n",
      " 15  평균 판매가_시차3               float32\n",
      " 16  상품ID별 평균 판매량_시차1         float32\n",
      " 17  상품ID별 평균 판매량_시차2         float32\n",
      " 18  상품ID별 평균 판매량_시차3         float32\n",
      " 19  상품ID 도시별 평균 판매량_시차1      float32\n",
      " 20  상품ID 도시별 평균 판매량_시차2      float32\n",
      " 21  상품ID 도시별 평균 판매량_시차3      float32\n",
      " 22  상점ID 상품범주ID별 평균 판매량_시차1  float32\n",
      " 23  상점ID 상품범주ID별 평균 판매량_시차2  float32\n",
      " 24  상점ID 상품범주ID별 평균 판매량_시차3  float32\n",
      " 25  총 판매량 시차평균               float32\n",
      " 26  시차변화량1                   float32\n",
      " 27  시차변화량2                   float32\n",
      " 28  신상여부                     int8   \n",
      " 29  첫 판매 후 기간                int8   \n",
      " 30  월                        int8   \n",
      "dtypes: float32(15), int16(1), int8(15)\n",
      "memory usage: 802.9 MB\n"
     ]
    }
   ],
   "source": [
    "# 첫 판매날짜, 평균 판매가, 판매건수 피처 제거\n",
    "all_data = all_data.drop(['첫 판매날짜', '평균 판매가', '판매건수'], axis=1)\n",
    "all_data = downcast(all_data, False) # 데이터 형변환\n",
    "all_data.info()"
   ]
  },
  {
   "cell_type": "code",
   "execution_count": 49,
   "metadata": {
    "execution": {
     "iopub.execute_input": "2021-04-14T12:12:04.318944Z",
     "iopub.status.busy": "2021-04-14T12:12:04.318249Z",
     "iopub.status.idle": "2021-04-14T12:12:06.776906Z",
     "shell.execute_reply": "2021-04-14T12:12:06.777405Z"
    },
    "papermill": {
     "duration": 2.516877,
     "end_time": "2021-04-14T12:12:06.777595",
     "exception": false,
     "start_time": "2021-04-14T12:12:04.260718",
     "status": "completed"
    },
    "tags": []
   },
   "outputs": [],
   "source": [
    "# 훈련 데이터 (피처)\n",
    "X_train = all_data[all_data['날짜ID'] < 33]\n",
    "X_train = X_train.drop(['총 판매량'], axis=1)\n",
    "# 검증 데이터 (피처)\n",
    "X_valid = all_data[all_data['날짜ID'] == 33]\n",
    "X_valid = X_valid.drop(['총 판매량'], axis=1)\n",
    "# 테스트 데이터 (피처)\n",
    "X_test = all_data[all_data['날짜ID'] == 34]\n",
    "X_test = X_test.drop(['총 판매량'], axis=1)\n",
    "\n",
    "# 훈련 데이터 (타깃 값)\n",
    "y_train = all_data[all_data['날짜ID'] < 33]['총 판매량']\n",
    "# 검증 데이터 (타깃 값)\n",
    "y_valid = all_data[all_data['날짜ID'] == 33]['총 판매량']\n",
    "\n",
    "# 가비지 컬렉션\n",
    "del all_data\n",
    "gc.collect();"
   ]
  },
  {
   "cell_type": "markdown",
   "metadata": {
    "papermill": {
     "duration": 0.050995,
     "end_time": "2021-04-14T12:12:06.879599",
     "exception": false,
     "start_time": "2021-04-14T12:12:06.828604",
     "status": "completed"
    },
    "tags": []
   },
   "source": [
    "## 모델 훈련 및 제출"
   ]
  },
  {
   "cell_type": "code",
   "execution_count": 50,
   "metadata": {
    "execution": {
     "iopub.execute_input": "2021-04-14T12:12:06.988867Z",
     "iopub.status.busy": "2021-04-14T12:12:06.988121Z",
     "iopub.status.idle": "2021-04-14T12:28:32.866784Z",
     "shell.execute_reply": "2021-04-14T12:28:32.867525Z"
    },
    "papermill": {
     "duration": 985.937272,
     "end_time": "2021-04-14T12:28:32.867915",
     "exception": false,
     "start_time": "2021-04-14T12:12:06.930643",
     "status": "completed"
    },
    "tags": []
   },
   "outputs": [
    {
     "data": {
      "text/html": [
       "<style type='text/css'>\n",
       ".datatable table.frame { margin-bottom: 0; }\n",
       ".datatable table.frame thead { border-bottom: none; }\n",
       ".datatable table.frame tr.coltypes td {  color: #FFFFFF;  line-height: 6px;  padding: 0 0.5em;}\n",
       ".datatable .bool    { background: #DDDD99; }\n",
       ".datatable .object  { background: #565656; }\n",
       ".datatable .int     { background: #5D9E5D; }\n",
       ".datatable .float   { background: #4040CC; }\n",
       ".datatable .str     { background: #CC4040; }\n",
       ".datatable .row_index {  background: var(--jp-border-color3);  border-right: 1px solid var(--jp-border-color0);  color: var(--jp-ui-font-color3);  font-size: 9px;}\n",
       ".datatable .frame tr.coltypes .row_index {  background: var(--jp-border-color0);}\n",
       ".datatable th:nth-child(2) { padding-left: 12px; }\n",
       ".datatable .hellipsis {  color: var(--jp-cell-editor-border-color);}\n",
       ".datatable .vellipsis {  background: var(--jp-layout-color0);  color: var(--jp-cell-editor-border-color);}\n",
       ".datatable .na {  color: var(--jp-cell-editor-border-color);  font-size: 80%;}\n",
       ".datatable .footer { font-size: 9px; }\n",
       ".datatable .frame_dimensions {  background: var(--jp-border-color3);  border-top: 1px solid var(--jp-border-color0);  color: var(--jp-ui-font-color3);  display: inline-block;  opacity: 0.6;  padding: 1px 10px 1px 5px;}\n",
       "</style>\n"
      ],
      "text/plain": [
       "<IPython.core.display.HTML object>"
      ]
     },
     "metadata": {},
     "output_type": "display_data"
    },
    {
     "name": "stdout",
     "output_type": "stream",
     "text": [
      "[LightGBM] [Warning] Find whitespaces in feature_names, replace with underlines\n",
      "[LightGBM] [Info] Total Bins 4034\n",
      "[LightGBM] [Info] Number of data points in the train set: 9452298, number of used features: 30\n",
      "[LightGBM] [Warning] Find whitespaces in feature_names, replace with underlines\n",
      "[LightGBM] [Info] Start training from score 0.297707\n",
      "Training until validation scores don't improve for 150 rounds\n",
      "[100]\ttraining's rmse: 1.01226\tvalid_1's rmse: 0.98804\n",
      "[200]\ttraining's rmse: 0.91119\tvalid_1's rmse: 0.924923\n",
      "[300]\ttraining's rmse: 0.860293\tvalid_1's rmse: 0.900102\n",
      "[400]\ttraining's rmse: 0.832298\tvalid_1's rmse: 0.889985\n",
      "[500]\ttraining's rmse: 0.813863\tvalid_1's rmse: 0.886241\n",
      "[600]\ttraining's rmse: 0.800318\tvalid_1's rmse: 0.885718\n",
      "[700]\ttraining's rmse: 0.79032\tvalid_1's rmse: 0.885426\n",
      "[800]\ttraining's rmse: 0.782102\tvalid_1's rmse: 0.885614\n",
      "Early stopping, best iteration is:\n",
      "[749]\ttraining's rmse: 0.786149\tvalid_1's rmse: 0.885292\n"
     ]
    }
   ],
   "source": [
    "import lightgbm as lgb\n",
    "\n",
    "# lgb 하이퍼 파라미터\n",
    "params = {'metric': 'rmse',\n",
    "          'num_leaves': 255,\n",
    "          'learning_rate': 0.005,\n",
    "          'feature_fraction': 0.75,\n",
    "          'bagging_fraction': 0.75,\n",
    "          'bagging_freq': 5,\n",
    "          'force_col_wise' : True,\n",
    "          'random_state': 10}\n",
    "\n",
    "cat_features = ['상점ID', '도시', '상품범주ID', '범주분류', '월']\n",
    "\n",
    "# lgb 훈련 및 검증 데이터세트\n",
    "dtrain = lgb.Dataset(X_train, y_train)\n",
    "dvalid = lgb.Dataset(X_valid, y_valid)\n",
    " \n",
    "# LightGBM 모델 훈련\n",
    "lgb_model = lgb.train(params=params,\n",
    "                      train_set=dtrain,\n",
    "                      num_boost_round=1500,\n",
    "                      valid_sets=(dtrain, dvalid),\n",
    "                      early_stopping_rounds=150,\n",
    "                      categorical_feature=cat_features,\n",
    "                      verbose_eval=100)      "
   ]
  },
  {
   "cell_type": "code",
   "execution_count": 51,
   "metadata": {
    "execution": {
     "iopub.execute_input": "2021-04-14T12:28:32.982324Z",
     "iopub.status.busy": "2021-04-14T12:28:32.981329Z",
     "iopub.status.idle": "2021-04-14T12:28:44.083692Z",
     "shell.execute_reply": "2021-04-14T12:28:44.082909Z"
    },
    "papermill": {
     "duration": 11.161166,
     "end_time": "2021-04-14T12:28:44.083849",
     "exception": false,
     "start_time": "2021-04-14T12:28:32.922683",
     "status": "completed"
    },
    "tags": []
   },
   "outputs": [],
   "source": [
    "preds = lgb_model.predict(X_test).clip(0,20)\n",
    "\n",
    "submission['item_cnt_month'] = preds\n",
    "submission.to_csv('submission.csv', index=False)"
   ]
  },
  {
   "cell_type": "code",
   "execution_count": 52,
   "metadata": {
    "execution": {
     "iopub.execute_input": "2021-04-14T12:28:44.202464Z",
     "iopub.status.busy": "2021-04-14T12:28:44.201513Z",
     "iopub.status.idle": "2021-04-14T12:28:44.321156Z",
     "shell.execute_reply": "2021-04-14T12:28:44.320442Z"
    },
    "papermill": {
     "duration": 0.182223,
     "end_time": "2021-04-14T12:28:44.321296",
     "exception": false,
     "start_time": "2021-04-14T12:28:44.139073",
     "status": "completed"
    },
    "tags": []
   },
   "outputs": [],
   "source": [
    "del X_train, y_train, X_valid, y_valid, X_test, lgb_model, dtrain, dvalid\n",
    "gc.collect();"
   ]
  }
 ],
 "metadata": {
  "kernelspec": {
   "display_name": "Python 3",
   "language": "python",
   "name": "python3"
  },
  "language_info": {
   "codemirror_mode": {
    "name": "ipython",
    "version": 3
   },
   "file_extension": ".py",
   "mimetype": "text/x-python",
   "name": "python",
   "nbconvert_exporter": "python",
   "pygments_lexer": "ipython3",
   "version": "3.7.9"
  },
  "papermill": {
   "default_parameters": {},
   "duration": 1261.685526,
   "end_time": "2021-04-14T12:28:45.087778",
   "environment_variables": {},
   "exception": null,
   "input_path": "__notebook__.ipynb",
   "output_path": "__notebook__.ipynb",
   "parameters": {},
   "start_time": "2021-04-14T12:07:43.402252",
   "version": "2.2.2"
  }
 },
 "nbformat": 4,
 "nbformat_minor": 4
}
