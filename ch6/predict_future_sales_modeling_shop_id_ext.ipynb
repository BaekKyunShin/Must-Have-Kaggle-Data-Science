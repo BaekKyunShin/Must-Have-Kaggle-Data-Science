{
 "cells": [
  {
   "cell_type": "markdown",
   "metadata": {
    "papermill": {
     "duration": 0.038766,
     "end_time": "2021-04-14T12:07:47.745319",
     "exception": false,
     "start_time": "2021-04-14T12:07:47.706553",
     "status": "completed"
    },
    "tags": []
   },
   "source": [
    "# 향후 판매량 예측 경진대회 모델링\n",
    "## 훈련 데이터에서 테스트 데이터에 있는 상점ID만 추출\n",
    "\n",
    "- [향후 판매량 예측 경진대회 링크](https://www.kaggle.com/c/competitive-data-science-predict-future-sales)\n",
    "- [모델링 코드 참고 링크](https://www.kaggle.com/dkomyagin/predict-future-sales-lightgbm-framework)"
   ]
  },
  {
   "cell_type": "code",
   "execution_count": 1,
   "metadata": {
    "execution": {
     "iopub.execute_input": "2021-04-14T12:07:47.829687Z",
     "iopub.status.busy": "2021-04-14T12:07:47.828708Z",
     "iopub.status.idle": "2021-04-14T12:07:51.230894Z",
     "shell.execute_reply": "2021-04-14T12:07:51.230163Z"
    },
    "papermill": {
     "duration": 3.446596,
     "end_time": "2021-04-14T12:07:51.231127",
     "exception": false,
     "start_time": "2021-04-14T12:07:47.784531",
     "status": "completed"
    },
    "tags": []
   },
   "outputs": [],
   "source": [
    "# ch6/predict_future_sales_modeling.ipynb\n",
    "\n",
    "import numpy as np\n",
    "import pandas as pd\n",
    "import warnings\n",
    "\n",
    "warnings.filterwarnings(action='ignore') # 경고 메시지 생략\n",
    "\n",
    "# 데이터 경로\n",
    "data_path = '/kaggle/input/competitive-data-science-predict-future-sales/'\n",
    "\n",
    "sales_train = pd.read_csv(data_path + 'sales_train.csv')\n",
    "shops = pd.read_csv(data_path + 'shops.csv')\n",
    "items = pd.read_csv(data_path + 'items.csv')\n",
    "item_categories = pd.read_csv(data_path + 'item_categories.csv')\n",
    "test = pd.read_csv(data_path + 'test.csv')\n",
    "submission = pd.read_csv(data_path + 'sample_submission.csv')"
   ]
  },
  {
   "cell_type": "markdown",
   "metadata": {
    "papermill": {
     "duration": 0.036456,
     "end_time": "2021-04-14T12:07:51.304372",
     "exception": false,
     "start_time": "2021-04-14T12:07:51.267916",
     "status": "completed"
    },
    "tags": []
   },
   "source": [
    "#### 피처명 한글로 변경"
   ]
  },
  {
   "cell_type": "code",
   "execution_count": 2,
   "metadata": {
    "execution": {
     "iopub.execute_input": "2021-04-14T12:07:51.386301Z",
     "iopub.status.busy": "2021-04-14T12:07:51.385586Z",
     "iopub.status.idle": "2021-04-14T12:07:51.521171Z",
     "shell.execute_reply": "2021-04-14T12:07:51.520601Z"
    },
    "papermill": {
     "duration": 0.18002,
     "end_time": "2021-04-14T12:07:51.521339",
     "exception": false,
     "start_time": "2021-04-14T12:07:51.341319",
     "status": "completed"
    },
    "tags": []
   },
   "outputs": [],
   "source": [
    "sales_train = sales_train.rename(columns={'date': '날짜', \n",
    "                                          'date_block_num': '날짜ID',\n",
    "                                          'shop_id': '상점ID',\n",
    "                                          'item_id': '상품ID',\n",
    "                                          'item_price': '판매가',\n",
    "                                          'item_cnt_day': '판매량'})\n",
    "\n",
    "shops = shops.rename(columns={'shop_name': '상점명',\n",
    "                              'shop_id': '상점ID'})\n",
    "\n",
    "items = items.rename(columns={'item_name': '상품명',\n",
    "                              'item_id': '상품ID',\n",
    "                              'item_category_id': '상품범주ID'})\n",
    "\n",
    "item_categories = item_categories.rename(columns=\n",
    "                                         {'item_category_name': '상품범주명',\n",
    "                                          'item_category_id': '상품범주ID'})\n",
    "\n",
    "test = test.rename(columns={'shop_id': '상점ID',\n",
    "                            'item_id': '상품ID'})"
   ]
  },
  {
   "cell_type": "markdown",
   "metadata": {
    "papermill": {
     "duration": 0.035801,
     "end_time": "2021-04-14T12:07:51.593574",
     "exception": false,
     "start_time": "2021-04-14T12:07:51.557773",
     "status": "completed"
    },
    "tags": []
   },
   "source": [
    "#### 데이터 형변환"
   ]
  },
  {
   "cell_type": "code",
   "execution_count": 3,
   "metadata": {
    "execution": {
     "iopub.execute_input": "2021-04-14T12:07:51.682858Z",
     "iopub.status.busy": "2021-04-14T12:07:51.682166Z",
     "iopub.status.idle": "2021-04-14T12:07:52.205703Z",
     "shell.execute_reply": "2021-04-14T12:07:52.204723Z"
    },
    "papermill": {
     "duration": 0.575427,
     "end_time": "2021-04-14T12:07:52.205909",
     "exception": false,
     "start_time": "2021-04-14T12:07:51.630482",
     "status": "completed"
    },
    "tags": []
   },
   "outputs": [
    {
     "name": "stdout",
     "output_type": "stream",
     "text": [
      "62.5% 압축됨\n",
      "38.6% 압축됨\n",
      "54.2% 압축됨\n",
      "39.9% 압축됨\n",
      "70.8% 압축됨\n"
     ]
    }
   ],
   "source": [
    "def downcast(df, verbose=True):\n",
    "    start_mem = df.memory_usage().sum() / 1024**2\n",
    "    for col in df.columns:\n",
    "        dtype_name = df[col].dtype.name\n",
    "        if dtype_name == 'object':\n",
    "            pass\n",
    "        elif dtype_name == 'bool':\n",
    "            df[col] = df[col].astype('int8')\n",
    "        elif dtype_name.startswith('int') or (df[col].round() == df[col]).all():\n",
    "            df[col] = pd.to_numeric(df[col], downcast='integer')\n",
    "        else:\n",
    "            df[col] = pd.to_numeric(df[col], downcast='float')\n",
    "    end_mem = df.memory_usage().sum() / 1024**2\n",
    "    if verbose:\n",
    "        print('{:.1f}% 압축됨'.format(100 * (start_mem - end_mem) / start_mem))\n",
    "    \n",
    "    return df\n",
    "\n",
    "all_df = [sales_train, shops, items, item_categories, test]\n",
    "for df in all_df:\n",
    "    df = downcast(df)"
   ]
  },
  {
   "cell_type": "markdown",
   "metadata": {
    "papermill": {
     "duration": 0.038269,
     "end_time": "2021-04-14T12:07:52.282096",
     "exception": false,
     "start_time": "2021-04-14T12:07:52.243827",
     "status": "completed"
    },
    "tags": []
   },
   "source": [
    "## 피처 엔지니어링 I - sales_train, shops, items, item_categories 처리"
   ]
  },
  {
   "cell_type": "markdown",
   "metadata": {
    "papermill": {
     "duration": 0.037201,
     "end_time": "2021-04-14T12:07:52.357768",
     "exception": false,
     "start_time": "2021-04-14T12:07:52.320567",
     "status": "completed"
    },
    "tags": []
   },
   "source": [
    "### sales_train 이상치 제거 및 전처리"
   ]
  },
  {
   "cell_type": "code",
   "execution_count": 4,
   "metadata": {
    "execution": {
     "iopub.execute_input": "2021-04-14T12:07:52.441589Z",
     "iopub.status.busy": "2021-04-14T12:07:52.440562Z",
     "iopub.status.idle": "2021-04-14T12:07:52.929520Z",
     "shell.execute_reply": "2021-04-14T12:07:52.930281Z"
    },
    "papermill": {
     "duration": 0.53411,
     "end_time": "2021-04-14T12:07:52.930506",
     "exception": false,
     "start_time": "2021-04-14T12:07:52.396396",
     "status": "completed"
    },
    "tags": []
   },
   "outputs": [],
   "source": [
    "# 판매가가 0보다 큰 데이터 추출\n",
    "sales_train = sales_train[sales_train['판매가'] > 0]\n",
    "# 판매가가 50,000보다 작은 데이터 추출\n",
    "sales_train = sales_train[sales_train['판매가'] < 50000]\n",
    "# 판매량이 0보다 큰 데이터 추출\n",
    "sales_train = sales_train[sales_train['판매량'] > 0]\n",
    "# 판매량이 1,000보다 작은 데이터 추출\n",
    "sales_train = sales_train[sales_train['판매량'] < 1000]"
   ]
  },
  {
   "cell_type": "code",
   "execution_count": 5,
   "metadata": {
    "execution": {
     "iopub.execute_input": "2021-04-14T12:07:53.011128Z",
     "iopub.status.busy": "2021-04-14T12:07:53.010064Z",
     "iopub.status.idle": "2021-04-14T12:07:53.021555Z",
     "shell.execute_reply": "2021-04-14T12:07:53.020554Z"
    },
    "papermill": {
     "duration": 0.052506,
     "end_time": "2021-04-14T12:07:53.021782",
     "exception": false,
     "start_time": "2021-04-14T12:07:52.969276",
     "status": "completed"
    },
    "tags": []
   },
   "outputs": [
    {
     "name": "stdout",
     "output_type": "stream",
     "text": [
      "!Якутск Орджоникидзе, 56 фран || Якутск Орджоникидзе, 56\n",
      "!Якутск ТЦ \"Центральный\" фран || Якутск ТЦ \"Центральный\"\n",
      "Жуковский ул. Чкалова 39м? || Жуковский ул. Чкалова 39м²\n",
      "РостовНаДону ТРК \"Мегацентр Горизонт\" || РостовНаДону ТРК \"Мегацентр Горизонт\" Островной\n"
     ]
    }
   ],
   "source": [
    "print(shops['상점명'][0], '||', shops['상점명'][57])\n",
    "print(shops['상점명'][1], '||', shops['상점명'][58])\n",
    "print(shops['상점명'][10], '||', shops['상점명'][11])\n",
    "print(shops['상점명'][39], '||', shops['상점명'][40])"
   ]
  },
  {
   "cell_type": "code",
   "execution_count": 6,
   "metadata": {
    "execution": {
     "iopub.execute_input": "2021-04-14T12:07:53.108603Z",
     "iopub.status.busy": "2021-04-14T12:07:53.107172Z",
     "iopub.status.idle": "2021-04-14T12:07:53.137970Z",
     "shell.execute_reply": "2021-04-14T12:07:53.137231Z"
    },
    "papermill": {
     "duration": 0.077744,
     "end_time": "2021-04-14T12:07:53.138162",
     "exception": false,
     "start_time": "2021-04-14T12:07:53.060418",
     "status": "completed"
    },
    "tags": []
   },
   "outputs": [],
   "source": [
    "# sales_train 데이터에서 상점ID 수정\n",
    "sales_train.loc[sales_train['상점ID'] == 0, '상점ID'] = 57\n",
    "sales_train.loc[sales_train['상점ID'] == 1, '상점ID'] = 58\n",
    "sales_train.loc[sales_train['상점ID'] == 10, '상점ID'] = 11\n",
    "sales_train.loc[sales_train['상점ID'] == 39, '상점ID'] = 40\n",
    "\n",
    "# test 데이터에서 상점ID 수정\n",
    "test.loc[test['상점ID'] == 0, '상점ID'] = 57\n",
    "test.loc[test['상점ID'] == 1, '상점ID'] = 58\n",
    "test.loc[test['상점ID'] == 10, '상점ID'] = 11\n",
    "test.loc[test['상점ID'] == 39, '상점ID'] = 40"
   ]
  },
  {
   "cell_type": "code",
   "execution_count": 7,
   "metadata": {
    "execution": {
     "iopub.execute_input": "2021-04-14T12:07:53.220568Z",
     "iopub.status.busy": "2021-04-14T12:07:53.219906Z",
     "iopub.status.idle": "2021-04-14T12:07:53.337342Z",
     "shell.execute_reply": "2021-04-14T12:07:53.336753Z"
    },
    "papermill": {
     "duration": 0.160914,
     "end_time": "2021-04-14T12:07:53.337517",
     "exception": false,
     "start_time": "2021-04-14T12:07:53.176603",
     "status": "completed"
    },
    "tags": []
   },
   "outputs": [],
   "source": [
    "# 테스트 데이터에 있는 상점ID만 추출\n",
    "unique_test_shop_id = test['상점ID'].unique()\n",
    "sales_train = sales_train[sales_train['상점ID'].isin(unique_test_shop_id)]"
   ]
  },
  {
   "cell_type": "markdown",
   "metadata": {
    "papermill": {
     "duration": 0.037498,
     "end_time": "2021-04-14T12:07:53.412614",
     "exception": false,
     "start_time": "2021-04-14T12:07:53.375116",
     "status": "completed"
    },
    "tags": []
   },
   "source": [
    "### shops 파생 피처 생성 및 인코딩"
   ]
  },
  {
   "cell_type": "code",
   "execution_count": 8,
   "metadata": {
    "execution": {
     "iopub.execute_input": "2021-04-14T12:07:53.495916Z",
     "iopub.status.busy": "2021-04-14T12:07:53.494759Z",
     "iopub.status.idle": "2021-04-14T12:07:53.501813Z",
     "shell.execute_reply": "2021-04-14T12:07:53.500583Z"
    },
    "papermill": {
     "duration": 0.052261,
     "end_time": "2021-04-14T12:07:53.502148",
     "exception": false,
     "start_time": "2021-04-14T12:07:53.449887",
     "status": "completed"
    },
    "tags": []
   },
   "outputs": [],
   "source": [
    "shops['도시'] = shops['상점명'].apply(lambda x: x.split()[0])"
   ]
  },
  {
   "cell_type": "code",
   "execution_count": 9,
   "metadata": {
    "execution": {
     "iopub.execute_input": "2021-04-14T12:07:53.592000Z",
     "iopub.status.busy": "2021-04-14T12:07:53.591062Z",
     "iopub.status.idle": "2021-04-14T12:07:53.597483Z",
     "shell.execute_reply": "2021-04-14T12:07:53.596882Z"
    },
    "papermill": {
     "duration": 0.056552,
     "end_time": "2021-04-14T12:07:53.597658",
     "exception": false,
     "start_time": "2021-04-14T12:07:53.541106",
     "status": "completed"
    },
    "tags": []
   },
   "outputs": [
    {
     "data": {
      "text/plain": [
       "array(['!Якутск', 'Адыгея', 'Балашиха', 'Волжский', 'Вологда', 'Воронеж',\n",
       "       'Выездная', 'Жуковский', 'Интернет-магазин', 'Казань', 'Калуга',\n",
       "       'Коломна', 'Красноярск', 'Курск', 'Москва', 'Мытищи', 'Н.Новгород',\n",
       "       'Новосибирск', 'Омск', 'РостовНаДону', 'СПб', 'Самара', 'Сергиев',\n",
       "       'Сургут', 'Томск', 'Тюмень', 'Уфа', 'Химки', 'Цифровой', 'Чехов',\n",
       "       'Якутск', 'Ярославль'], dtype=object)"
      ]
     },
     "execution_count": 9,
     "metadata": {},
     "output_type": "execute_result"
    }
   ],
   "source": [
    "shops['도시'].unique()"
   ]
  },
  {
   "cell_type": "code",
   "execution_count": 10,
   "metadata": {
    "execution": {
     "iopub.execute_input": "2021-04-14T12:07:53.680715Z",
     "iopub.status.busy": "2021-04-14T12:07:53.679930Z",
     "iopub.status.idle": "2021-04-14T12:07:53.684891Z",
     "shell.execute_reply": "2021-04-14T12:07:53.685530Z"
    },
    "papermill": {
     "duration": 0.048328,
     "end_time": "2021-04-14T12:07:53.685733",
     "exception": false,
     "start_time": "2021-04-14T12:07:53.637405",
     "status": "completed"
    },
    "tags": []
   },
   "outputs": [],
   "source": [
    "shops.loc[shops['도시'] =='!Якутск', '도시'] = 'Якутск'"
   ]
  },
  {
   "cell_type": "code",
   "execution_count": 11,
   "metadata": {
    "execution": {
     "iopub.execute_input": "2021-04-14T12:07:53.768852Z",
     "iopub.status.busy": "2021-04-14T12:07:53.767876Z",
     "iopub.status.idle": "2021-04-14T12:07:54.908087Z",
     "shell.execute_reply": "2021-04-14T12:07:54.907277Z"
    },
    "papermill": {
     "duration": 1.18304,
     "end_time": "2021-04-14T12:07:54.908255",
     "exception": false,
     "start_time": "2021-04-14T12:07:53.725215",
     "status": "completed"
    },
    "tags": []
   },
   "outputs": [],
   "source": [
    "from sklearn.preprocessing import LabelEncoder\n",
    "\n",
    "# 레이블 인코더 생성\n",
    "label_encoder = LabelEncoder()\n",
    "# 도시 피처 레이블 인코딩\n",
    "shops['도시'] = label_encoder.fit_transform(shops['도시'])"
   ]
  },
  {
   "cell_type": "code",
   "execution_count": 12,
   "metadata": {
    "execution": {
     "iopub.execute_input": "2021-04-14T12:07:54.993446Z",
     "iopub.status.busy": "2021-04-14T12:07:54.992573Z",
     "iopub.status.idle": "2021-04-14T12:07:55.007506Z",
     "shell.execute_reply": "2021-04-14T12:07:55.006763Z"
    },
    "papermill": {
     "duration": 0.060704,
     "end_time": "2021-04-14T12:07:55.007661",
     "exception": false,
     "start_time": "2021-04-14T12:07:54.946957",
     "status": "completed"
    },
    "tags": []
   },
   "outputs": [
    {
     "data": {
      "text/html": [
       "<div>\n",
       "<style scoped>\n",
       "    .dataframe tbody tr th:only-of-type {\n",
       "        vertical-align: middle;\n",
       "    }\n",
       "\n",
       "    .dataframe tbody tr th {\n",
       "        vertical-align: top;\n",
       "    }\n",
       "\n",
       "    .dataframe thead th {\n",
       "        text-align: right;\n",
       "    }\n",
       "</style>\n",
       "<table border=\"1\" class=\"dataframe\">\n",
       "  <thead>\n",
       "    <tr style=\"text-align: right;\">\n",
       "      <th></th>\n",
       "      <th>상점ID</th>\n",
       "      <th>도시</th>\n",
       "    </tr>\n",
       "  </thead>\n",
       "  <tbody>\n",
       "    <tr>\n",
       "      <th>0</th>\n",
       "      <td>0</td>\n",
       "      <td>29</td>\n",
       "    </tr>\n",
       "    <tr>\n",
       "      <th>1</th>\n",
       "      <td>1</td>\n",
       "      <td>29</td>\n",
       "    </tr>\n",
       "    <tr>\n",
       "      <th>2</th>\n",
       "      <td>2</td>\n",
       "      <td>0</td>\n",
       "    </tr>\n",
       "    <tr>\n",
       "      <th>3</th>\n",
       "      <td>3</td>\n",
       "      <td>1</td>\n",
       "    </tr>\n",
       "    <tr>\n",
       "      <th>4</th>\n",
       "      <td>4</td>\n",
       "      <td>2</td>\n",
       "    </tr>\n",
       "  </tbody>\n",
       "</table>\n",
       "</div>"
      ],
      "text/plain": [
       "   상점ID  도시\n",
       "0     0  29\n",
       "1     1  29\n",
       "2     2   0\n",
       "3     3   1\n",
       "4     4   2"
      ]
     },
     "execution_count": 12,
     "metadata": {},
     "output_type": "execute_result"
    }
   ],
   "source": [
    "# 상점명 피처 제거\n",
    "shops = shops.drop('상점명', axis=1)\n",
    "\n",
    "shops.head()"
   ]
  },
  {
   "cell_type": "markdown",
   "metadata": {
    "papermill": {
     "duration": 0.039755,
     "end_time": "2021-04-14T12:07:55.086912",
     "exception": false,
     "start_time": "2021-04-14T12:07:55.047157",
     "status": "completed"
    },
    "tags": []
   },
   "source": [
    "### itmes 파생 피처 생성"
   ]
  },
  {
   "cell_type": "code",
   "execution_count": 13,
   "metadata": {
    "execution": {
     "iopub.execute_input": "2021-04-14T12:07:55.173667Z",
     "iopub.status.busy": "2021-04-14T12:07:55.172881Z",
     "iopub.status.idle": "2021-04-14T12:07:55.177462Z",
     "shell.execute_reply": "2021-04-14T12:07:55.176671Z"
    },
    "papermill": {
     "duration": 0.050819,
     "end_time": "2021-04-14T12:07:55.177631",
     "exception": false,
     "start_time": "2021-04-14T12:07:55.126812",
     "status": "completed"
    },
    "tags": []
   },
   "outputs": [],
   "source": [
    "# 상품명 피처 제거\n",
    "items = items.drop(['상품명'], axis=1)"
   ]
  },
  {
   "cell_type": "code",
   "execution_count": 14,
   "metadata": {
    "execution": {
     "iopub.execute_input": "2021-04-14T12:07:55.266629Z",
     "iopub.status.busy": "2021-04-14T12:07:55.265914Z",
     "iopub.status.idle": "2021-04-14T12:07:55.363997Z",
     "shell.execute_reply": "2021-04-14T12:07:55.363413Z"
    },
    "papermill": {
     "duration": 0.14695,
     "end_time": "2021-04-14T12:07:55.364163",
     "exception": false,
     "start_time": "2021-04-14T12:07:55.217213",
     "status": "completed"
    },
    "tags": []
   },
   "outputs": [
    {
     "data": {
      "text/html": [
       "<div>\n",
       "<style scoped>\n",
       "    .dataframe tbody tr th:only-of-type {\n",
       "        vertical-align: middle;\n",
       "    }\n",
       "\n",
       "    .dataframe tbody tr th {\n",
       "        vertical-align: top;\n",
       "    }\n",
       "\n",
       "    .dataframe thead th {\n",
       "        text-align: right;\n",
       "    }\n",
       "</style>\n",
       "<table border=\"1\" class=\"dataframe\">\n",
       "  <thead>\n",
       "    <tr style=\"text-align: right;\">\n",
       "      <th></th>\n",
       "      <th>상품ID</th>\n",
       "      <th>상품범주ID</th>\n",
       "      <th>첫 판매날짜</th>\n",
       "    </tr>\n",
       "  </thead>\n",
       "  <tbody>\n",
       "    <tr>\n",
       "      <th>0</th>\n",
       "      <td>0</td>\n",
       "      <td>40</td>\n",
       "      <td>NaN</td>\n",
       "    </tr>\n",
       "    <tr>\n",
       "      <th>1</th>\n",
       "      <td>1</td>\n",
       "      <td>76</td>\n",
       "      <td>15.0</td>\n",
       "    </tr>\n",
       "    <tr>\n",
       "      <th>2</th>\n",
       "      <td>2</td>\n",
       "      <td>40</td>\n",
       "      <td>NaN</td>\n",
       "    </tr>\n",
       "    <tr>\n",
       "      <th>3</th>\n",
       "      <td>3</td>\n",
       "      <td>40</td>\n",
       "      <td>NaN</td>\n",
       "    </tr>\n",
       "    <tr>\n",
       "      <th>4</th>\n",
       "      <td>4</td>\n",
       "      <td>40</td>\n",
       "      <td>NaN</td>\n",
       "    </tr>\n",
       "  </tbody>\n",
       "</table>\n",
       "</div>"
      ],
      "text/plain": [
       "   상품ID  상품범주ID  첫 판매날짜\n",
       "0     0      40     NaN\n",
       "1     1      76    15.0\n",
       "2     2      40     NaN\n",
       "3     3      40     NaN\n",
       "4     4      40     NaN"
      ]
     },
     "execution_count": 14,
     "metadata": {},
     "output_type": "execute_result"
    }
   ],
   "source": [
    "# 상품이 맨 처음 팔린 날을 피처로 추가\n",
    "items['첫 판매날짜'] = sales_train.groupby('상품ID').agg({'날짜ID': 'min'})['날짜ID']\n",
    "\n",
    "items.head()"
   ]
  },
  {
   "cell_type": "code",
   "execution_count": 15,
   "metadata": {
    "execution": {
     "iopub.execute_input": "2021-04-14T12:07:55.461939Z",
     "iopub.status.busy": "2021-04-14T12:07:55.460967Z",
     "iopub.status.idle": "2021-04-14T12:07:55.467156Z",
     "shell.execute_reply": "2021-04-14T12:07:55.466476Z"
    },
    "papermill": {
     "duration": 0.063008,
     "end_time": "2021-04-14T12:07:55.467308",
     "exception": false,
     "start_time": "2021-04-14T12:07:55.404300",
     "status": "completed"
    },
    "tags": []
   },
   "outputs": [
    {
     "data": {
      "text/html": [
       "<div>\n",
       "<style scoped>\n",
       "    .dataframe tbody tr th:only-of-type {\n",
       "        vertical-align: middle;\n",
       "    }\n",
       "\n",
       "    .dataframe tbody tr th {\n",
       "        vertical-align: top;\n",
       "    }\n",
       "\n",
       "    .dataframe thead th {\n",
       "        text-align: right;\n",
       "    }\n",
       "</style>\n",
       "<table border=\"1\" class=\"dataframe\">\n",
       "  <thead>\n",
       "    <tr style=\"text-align: right;\">\n",
       "      <th></th>\n",
       "      <th>상품ID</th>\n",
       "      <th>상품범주ID</th>\n",
       "      <th>첫 판매날짜</th>\n",
       "    </tr>\n",
       "  </thead>\n",
       "  <tbody>\n",
       "    <tr>\n",
       "      <th>0</th>\n",
       "      <td>0</td>\n",
       "      <td>40</td>\n",
       "      <td>NaN</td>\n",
       "    </tr>\n",
       "    <tr>\n",
       "      <th>2</th>\n",
       "      <td>2</td>\n",
       "      <td>40</td>\n",
       "      <td>NaN</td>\n",
       "    </tr>\n",
       "    <tr>\n",
       "      <th>3</th>\n",
       "      <td>3</td>\n",
       "      <td>40</td>\n",
       "      <td>NaN</td>\n",
       "    </tr>\n",
       "    <tr>\n",
       "      <th>4</th>\n",
       "      <td>4</td>\n",
       "      <td>40</td>\n",
       "      <td>NaN</td>\n",
       "    </tr>\n",
       "    <tr>\n",
       "      <th>5</th>\n",
       "      <td>5</td>\n",
       "      <td>40</td>\n",
       "      <td>NaN</td>\n",
       "    </tr>\n",
       "    <tr>\n",
       "      <th>...</th>\n",
       "      <td>...</td>\n",
       "      <td>...</td>\n",
       "      <td>...</td>\n",
       "    </tr>\n",
       "    <tr>\n",
       "      <th>21975</th>\n",
       "      <td>21975</td>\n",
       "      <td>61</td>\n",
       "      <td>NaN</td>\n",
       "    </tr>\n",
       "    <tr>\n",
       "      <th>22022</th>\n",
       "      <td>22022</td>\n",
       "      <td>40</td>\n",
       "      <td>NaN</td>\n",
       "    </tr>\n",
       "    <tr>\n",
       "      <th>22028</th>\n",
       "      <td>22028</td>\n",
       "      <td>40</td>\n",
       "      <td>NaN</td>\n",
       "    </tr>\n",
       "    <tr>\n",
       "      <th>22035</th>\n",
       "      <td>22035</td>\n",
       "      <td>40</td>\n",
       "      <td>NaN</td>\n",
       "    </tr>\n",
       "    <tr>\n",
       "      <th>22137</th>\n",
       "      <td>22137</td>\n",
       "      <td>40</td>\n",
       "      <td>NaN</td>\n",
       "    </tr>\n",
       "  </tbody>\n",
       "</table>\n",
       "<p>1090 rows × 3 columns</p>\n",
       "</div>"
      ],
      "text/plain": [
       "        상품ID  상품범주ID  첫 판매날짜\n",
       "0          0      40     NaN\n",
       "2          2      40     NaN\n",
       "3          3      40     NaN\n",
       "4          4      40     NaN\n",
       "5          5      40     NaN\n",
       "...      ...     ...     ...\n",
       "21975  21975      61     NaN\n",
       "22022  22022      40     NaN\n",
       "22028  22028      40     NaN\n",
       "22035  22035      40     NaN\n",
       "22137  22137      40     NaN\n",
       "\n",
       "[1090 rows x 3 columns]"
      ]
     },
     "execution_count": 15,
     "metadata": {},
     "output_type": "execute_result"
    }
   ],
   "source": [
    "items[items['첫 판매날짜'].isna()]"
   ]
  },
  {
   "cell_type": "code",
   "execution_count": 16,
   "metadata": {
    "execution": {
     "iopub.execute_input": "2021-04-14T12:07:55.556793Z",
     "iopub.status.busy": "2021-04-14T12:07:55.555867Z",
     "iopub.status.idle": "2021-04-14T12:07:55.561150Z",
     "shell.execute_reply": "2021-04-14T12:07:55.560475Z"
    },
    "papermill": {
     "duration": 0.051938,
     "end_time": "2021-04-14T12:07:55.561300",
     "exception": false,
     "start_time": "2021-04-14T12:07:55.509362",
     "status": "completed"
    },
    "tags": []
   },
   "outputs": [],
   "source": [
    "# 첫 판매날짜 피처의 결측값을 34로 대체\n",
    "items['첫 판매날짜'] = items['첫 판매날짜'].fillna(34)"
   ]
  },
  {
   "cell_type": "markdown",
   "metadata": {
    "papermill": {
     "duration": 0.040812,
     "end_time": "2021-04-14T12:07:55.643099",
     "exception": false,
     "start_time": "2021-04-14T12:07:55.602287",
     "status": "completed"
    },
    "tags": []
   },
   "source": [
    "### item_categories 파생 피처 생성 및 인코딩"
   ]
  },
  {
   "cell_type": "code",
   "execution_count": 17,
   "metadata": {
    "execution": {
     "iopub.execute_input": "2021-04-14T12:07:55.732428Z",
     "iopub.status.busy": "2021-04-14T12:07:55.731533Z",
     "iopub.status.idle": "2021-04-14T12:07:55.735777Z",
     "shell.execute_reply": "2021-04-14T12:07:55.736300Z"
    },
    "papermill": {
     "duration": 0.052721,
     "end_time": "2021-04-14T12:07:55.736488",
     "exception": false,
     "start_time": "2021-04-14T12:07:55.683767",
     "status": "completed"
    },
    "tags": []
   },
   "outputs": [],
   "source": [
    "# 상품범주명의 첫 단어를 범주분류로 추출\n",
    "item_categories['범주분류'] = item_categories['상품범주명'].apply(lambda x: x.split()[0])  "
   ]
  },
  {
   "cell_type": "code",
   "execution_count": 18,
   "metadata": {
    "execution": {
     "iopub.execute_input": "2021-04-14T12:07:55.827841Z",
     "iopub.status.busy": "2021-04-14T12:07:55.827063Z",
     "iopub.status.idle": "2021-04-14T12:07:55.833350Z",
     "shell.execute_reply": "2021-04-14T12:07:55.832692Z"
    },
    "papermill": {
     "duration": 0.056004,
     "end_time": "2021-04-14T12:07:55.833501",
     "exception": false,
     "start_time": "2021-04-14T12:07:55.777497",
     "status": "completed"
    },
    "tags": []
   },
   "outputs": [
    {
     "data": {
      "text/plain": [
       "Игры          14\n",
       "Книги         13\n",
       "Подарки       12\n",
       "Игровые        8\n",
       "Аксессуары     7\n",
       "Музыка         6\n",
       "Программы      6\n",
       "Кино           5\n",
       "Карты          5\n",
       "Служебные      2\n",
       "Чистые         2\n",
       "Элементы       1\n",
       "Доставка       1\n",
       "Билеты         1\n",
       "PC             1\n",
       "Name: 범주분류, dtype: int64"
      ]
     },
     "execution_count": 18,
     "metadata": {},
     "output_type": "execute_result"
    }
   ],
   "source": [
    "item_categories['범주분류'].value_counts()"
   ]
  },
  {
   "cell_type": "code",
   "execution_count": 19,
   "metadata": {
    "execution": {
     "iopub.execute_input": "2021-04-14T12:07:55.962478Z",
     "iopub.status.busy": "2021-04-14T12:07:55.961229Z",
     "iopub.status.idle": "2021-04-14T12:07:55.966263Z",
     "shell.execute_reply": "2021-04-14T12:07:55.966813Z"
    },
    "papermill": {
     "duration": 0.091743,
     "end_time": "2021-04-14T12:07:55.967000",
     "exception": false,
     "start_time": "2021-04-14T12:07:55.875257",
     "status": "completed"
    },
    "tags": []
   },
   "outputs": [],
   "source": [
    "def make_etc(x):\n",
    "    if len(item_categories[item_categories['범주분류']==x]) >= 5:\n",
    "        return x\n",
    "    else:\n",
    "        return 'etc'\n",
    "\n",
    "# 범주분류 개수가 5개 미만이면 'etc'로 바꾸기\n",
    "item_categories['범주분류'] = item_categories['범주분류'].apply(make_etc)"
   ]
  },
  {
   "cell_type": "code",
   "execution_count": 20,
   "metadata": {
    "execution": {
     "iopub.execute_input": "2021-04-14T12:07:56.062544Z",
     "iopub.status.busy": "2021-04-14T12:07:56.061320Z",
     "iopub.status.idle": "2021-04-14T12:07:56.064894Z",
     "shell.execute_reply": "2021-04-14T12:07:56.065420Z"
    },
    "papermill": {
     "duration": 0.057259,
     "end_time": "2021-04-14T12:07:56.065631",
     "exception": false,
     "start_time": "2021-04-14T12:07:56.008372",
     "status": "completed"
    },
    "tags": []
   },
   "outputs": [
    {
     "data": {
      "text/html": [
       "<div>\n",
       "<style scoped>\n",
       "    .dataframe tbody tr th:only-of-type {\n",
       "        vertical-align: middle;\n",
       "    }\n",
       "\n",
       "    .dataframe tbody tr th {\n",
       "        vertical-align: top;\n",
       "    }\n",
       "\n",
       "    .dataframe thead th {\n",
       "        text-align: right;\n",
       "    }\n",
       "</style>\n",
       "<table border=\"1\" class=\"dataframe\">\n",
       "  <thead>\n",
       "    <tr style=\"text-align: right;\">\n",
       "      <th></th>\n",
       "      <th>상품범주명</th>\n",
       "      <th>상품범주ID</th>\n",
       "      <th>범주분류</th>\n",
       "    </tr>\n",
       "  </thead>\n",
       "  <tbody>\n",
       "    <tr>\n",
       "      <th>0</th>\n",
       "      <td>PC - Гарнитуры/Наушники</td>\n",
       "      <td>0</td>\n",
       "      <td>etc</td>\n",
       "    </tr>\n",
       "    <tr>\n",
       "      <th>1</th>\n",
       "      <td>Аксессуары - PS2</td>\n",
       "      <td>1</td>\n",
       "      <td>Аксессуары</td>\n",
       "    </tr>\n",
       "    <tr>\n",
       "      <th>2</th>\n",
       "      <td>Аксессуары - PS3</td>\n",
       "      <td>2</td>\n",
       "      <td>Аксессуары</td>\n",
       "    </tr>\n",
       "    <tr>\n",
       "      <th>3</th>\n",
       "      <td>Аксессуары - PS4</td>\n",
       "      <td>3</td>\n",
       "      <td>Аксессуары</td>\n",
       "    </tr>\n",
       "    <tr>\n",
       "      <th>4</th>\n",
       "      <td>Аксессуары - PSP</td>\n",
       "      <td>4</td>\n",
       "      <td>Аксессуары</td>\n",
       "    </tr>\n",
       "  </tbody>\n",
       "</table>\n",
       "</div>"
      ],
      "text/plain": [
       "                     상품범주명  상품범주ID        범주분류\n",
       "0  PC - Гарнитуры/Наушники       0         etc\n",
       "1         Аксессуары - PS2       1  Аксессуары\n",
       "2         Аксессуары - PS3       2  Аксессуары\n",
       "3         Аксессуары - PS4       3  Аксессуары\n",
       "4         Аксессуары - PSP       4  Аксессуары"
      ]
     },
     "execution_count": 20,
     "metadata": {},
     "output_type": "execute_result"
    }
   ],
   "source": [
    "item_categories.head()"
   ]
  },
  {
   "cell_type": "code",
   "execution_count": 21,
   "metadata": {
    "execution": {
     "iopub.execute_input": "2021-04-14T12:07:56.160065Z",
     "iopub.status.busy": "2021-04-14T12:07:56.159317Z",
     "iopub.status.idle": "2021-04-14T12:07:56.163589Z",
     "shell.execute_reply": "2021-04-14T12:07:56.162986Z"
    },
    "papermill": {
     "duration": 0.054314,
     "end_time": "2021-04-14T12:07:56.163754",
     "exception": false,
     "start_time": "2021-04-14T12:07:56.109440",
     "status": "completed"
    },
    "tags": []
   },
   "outputs": [],
   "source": [
    "# 레이블 인코더 생성\n",
    "label_encoder = LabelEncoder()\n",
    "# 범주분류 피처 레이블 인코딩\n",
    "item_categories['범주분류'] = label_encoder.fit_transform(item_categories['범주분류'])\n",
    "\n",
    "# 상품범주명 피처 제거\n",
    "item_categories = item_categories.drop('상품범주명', axis=1)"
   ]
  },
  {
   "cell_type": "markdown",
   "metadata": {
    "papermill": {
     "duration": 0.042863,
     "end_time": "2021-04-14T12:07:56.250954",
     "exception": false,
     "start_time": "2021-04-14T12:07:56.208091",
     "status": "completed"
    },
    "tags": []
   },
   "source": [
    "### 데이터 조합 및 파생 피처 생성"
   ]
  },
  {
   "cell_type": "code",
   "execution_count": 22,
   "metadata": {
    "execution": {
     "iopub.execute_input": "2021-04-14T12:07:56.339168Z",
     "iopub.status.busy": "2021-04-14T12:07:56.338482Z",
     "iopub.status.idle": "2021-04-14T12:08:14.046474Z",
     "shell.execute_reply": "2021-04-14T12:08:14.047033Z"
    },
    "papermill": {
     "duration": 17.753802,
     "end_time": "2021-04-14T12:08:14.047246",
     "exception": false,
     "start_time": "2021-04-14T12:07:56.293444",
     "status": "completed"
    },
    "tags": []
   },
   "outputs": [],
   "source": [
    "from itertools import product\n",
    "\n",
    "train = []\n",
    "# 날짜ID, 상점ID, 상품ID 조합 생성\n",
    "for i in sales_train['날짜ID'].unique():\n",
    "    all_shop = sales_train.loc[sales_train['날짜ID']==i, '상점ID'].unique()\n",
    "    all_item = sales_train.loc[sales_train['날짜ID']==i, '상품ID'].unique()\n",
    "    train.append(np.array(list(product([i], all_shop, all_item))))\n",
    "\n",
    "idx_features = ['날짜ID', '상점ID', '상품ID'] # 기준 피처 # 기준 피처\n",
    "train = pd.DataFrame(np.vstack(train), columns=idx_features)"
   ]
  },
  {
   "cell_type": "code",
   "execution_count": 23,
   "metadata": {
    "execution": {
     "iopub.execute_input": "2021-04-14T12:08:14.137908Z",
     "iopub.status.busy": "2021-04-14T12:08:14.137248Z",
     "iopub.status.idle": "2021-04-14T12:08:18.476072Z",
     "shell.execute_reply": "2021-04-14T12:08:18.476649Z"
    },
    "papermill": {
     "duration": 4.385749,
     "end_time": "2021-04-14T12:08:18.476862",
     "exception": false,
     "start_time": "2021-04-14T12:08:14.091113",
     "status": "completed"
    },
    "tags": []
   },
   "outputs": [
    {
     "data": {
      "text/html": [
       "<div>\n",
       "<style scoped>\n",
       "    .dataframe tbody tr th:only-of-type {\n",
       "        vertical-align: middle;\n",
       "    }\n",
       "\n",
       "    .dataframe tbody tr th {\n",
       "        vertical-align: top;\n",
       "    }\n",
       "\n",
       "    .dataframe thead th {\n",
       "        text-align: right;\n",
       "    }\n",
       "</style>\n",
       "<table border=\"1\" class=\"dataframe\">\n",
       "  <thead>\n",
       "    <tr style=\"text-align: right;\">\n",
       "      <th></th>\n",
       "      <th>날짜ID</th>\n",
       "      <th>상점ID</th>\n",
       "      <th>상품ID</th>\n",
       "      <th>총 판매량</th>\n",
       "      <th>평균 판매가</th>\n",
       "    </tr>\n",
       "  </thead>\n",
       "  <tbody>\n",
       "    <tr>\n",
       "      <th>0</th>\n",
       "      <td>0</td>\n",
       "      <td>59</td>\n",
       "      <td>22154</td>\n",
       "      <td>1.0</td>\n",
       "      <td>999.0</td>\n",
       "    </tr>\n",
       "    <tr>\n",
       "      <th>1</th>\n",
       "      <td>0</td>\n",
       "      <td>59</td>\n",
       "      <td>2552</td>\n",
       "      <td>NaN</td>\n",
       "      <td>NaN</td>\n",
       "    </tr>\n",
       "    <tr>\n",
       "      <th>2</th>\n",
       "      <td>0</td>\n",
       "      <td>59</td>\n",
       "      <td>2554</td>\n",
       "      <td>NaN</td>\n",
       "      <td>NaN</td>\n",
       "    </tr>\n",
       "    <tr>\n",
       "      <th>3</th>\n",
       "      <td>0</td>\n",
       "      <td>59</td>\n",
       "      <td>2555</td>\n",
       "      <td>NaN</td>\n",
       "      <td>NaN</td>\n",
       "    </tr>\n",
       "    <tr>\n",
       "      <th>4</th>\n",
       "      <td>0</td>\n",
       "      <td>59</td>\n",
       "      <td>2564</td>\n",
       "      <td>NaN</td>\n",
       "      <td>NaN</td>\n",
       "    </tr>\n",
       "  </tbody>\n",
       "</table>\n",
       "</div>"
      ],
      "text/plain": [
       "   날짜ID  상점ID   상품ID  총 판매량  평균 판매가\n",
       "0     0    59  22154    1.0   999.0\n",
       "1     0    59   2552    NaN     NaN\n",
       "2     0    59   2554    NaN     NaN\n",
       "3     0    59   2555    NaN     NaN\n",
       "4     0    59   2564    NaN     NaN"
      ]
     },
     "execution_count": 23,
     "metadata": {},
     "output_type": "execute_result"
    }
   ],
   "source": [
    "group = sales_train.groupby(idx_features).agg({'판매량': 'sum',\n",
    "                                               '판매가': 'mean'})\n",
    "group = group.reset_index()\n",
    "group = group.rename(columns={'판매량': '총 판매량', '판매가': '평균 판매가'})\n",
    "\n",
    "train = train.merge(group, on=idx_features, how='left')\n",
    "\n",
    "train.head()"
   ]
  },
  {
   "cell_type": "code",
   "execution_count": 24,
   "metadata": {
    "execution": {
     "iopub.execute_input": "2021-04-14T12:08:18.571502Z",
     "iopub.status.busy": "2021-04-14T12:08:18.570795Z",
     "iopub.status.idle": "2021-04-14T12:08:18.669629Z",
     "shell.execute_reply": "2021-04-14T12:08:18.669038Z"
    },
    "papermill": {
     "duration": 0.14549,
     "end_time": "2021-04-14T12:08:18.669819",
     "exception": false,
     "start_time": "2021-04-14T12:08:18.524329",
     "status": "completed"
    },
    "tags": []
   },
   "outputs": [],
   "source": [
    "import gc\n",
    "\n",
    "# group 변수 가비지 컬렉션\n",
    "del group\n",
    "gc.collect();"
   ]
  },
  {
   "cell_type": "code",
   "execution_count": 25,
   "metadata": {
    "execution": {
     "iopub.execute_input": "2021-04-14T12:08:18.766482Z",
     "iopub.status.busy": "2021-04-14T12:08:18.765726Z",
     "iopub.status.idle": "2021-04-14T12:08:23.288370Z",
     "shell.execute_reply": "2021-04-14T12:08:23.287765Z"
    },
    "papermill": {
     "duration": 4.574958,
     "end_time": "2021-04-14T12:08:23.288545",
     "exception": false,
     "start_time": "2021-04-14T12:08:18.713587",
     "status": "completed"
    },
    "tags": []
   },
   "outputs": [
    {
     "data": {
      "text/html": [
       "<div>\n",
       "<style scoped>\n",
       "    .dataframe tbody tr th:only-of-type {\n",
       "        vertical-align: middle;\n",
       "    }\n",
       "\n",
       "    .dataframe tbody tr th {\n",
       "        vertical-align: top;\n",
       "    }\n",
       "\n",
       "    .dataframe thead th {\n",
       "        text-align: right;\n",
       "    }\n",
       "</style>\n",
       "<table border=\"1\" class=\"dataframe\">\n",
       "  <thead>\n",
       "    <tr style=\"text-align: right;\">\n",
       "      <th></th>\n",
       "      <th>날짜ID</th>\n",
       "      <th>상점ID</th>\n",
       "      <th>상품ID</th>\n",
       "      <th>총 판매량</th>\n",
       "      <th>평균 판매가</th>\n",
       "      <th>판매건수</th>\n",
       "    </tr>\n",
       "  </thead>\n",
       "  <tbody>\n",
       "    <tr>\n",
       "      <th>0</th>\n",
       "      <td>0</td>\n",
       "      <td>59</td>\n",
       "      <td>22154</td>\n",
       "      <td>1.0</td>\n",
       "      <td>999.0</td>\n",
       "      <td>1.0</td>\n",
       "    </tr>\n",
       "    <tr>\n",
       "      <th>1</th>\n",
       "      <td>0</td>\n",
       "      <td>59</td>\n",
       "      <td>2552</td>\n",
       "      <td>NaN</td>\n",
       "      <td>NaN</td>\n",
       "      <td>NaN</td>\n",
       "    </tr>\n",
       "    <tr>\n",
       "      <th>2</th>\n",
       "      <td>0</td>\n",
       "      <td>59</td>\n",
       "      <td>2554</td>\n",
       "      <td>NaN</td>\n",
       "      <td>NaN</td>\n",
       "      <td>NaN</td>\n",
       "    </tr>\n",
       "    <tr>\n",
       "      <th>3</th>\n",
       "      <td>0</td>\n",
       "      <td>59</td>\n",
       "      <td>2555</td>\n",
       "      <td>NaN</td>\n",
       "      <td>NaN</td>\n",
       "      <td>NaN</td>\n",
       "    </tr>\n",
       "    <tr>\n",
       "      <th>4</th>\n",
       "      <td>0</td>\n",
       "      <td>59</td>\n",
       "      <td>2564</td>\n",
       "      <td>NaN</td>\n",
       "      <td>NaN</td>\n",
       "      <td>NaN</td>\n",
       "    </tr>\n",
       "  </tbody>\n",
       "</table>\n",
       "</div>"
      ],
      "text/plain": [
       "   날짜ID  상점ID   상품ID  총 판매량  평균 판매가  판매건수\n",
       "0     0    59  22154    1.0   999.0   1.0\n",
       "1     0    59   2552    NaN     NaN   NaN\n",
       "2     0    59   2554    NaN     NaN   NaN\n",
       "3     0    59   2555    NaN     NaN   NaN\n",
       "4     0    59   2564    NaN     NaN   NaN"
      ]
     },
     "execution_count": 25,
     "metadata": {},
     "output_type": "execute_result"
    }
   ],
   "source": [
    "# 상품 판매건수 피처 추가\n",
    "group = sales_train.groupby(idx_features).agg({'판매량': 'count'})\n",
    "group = group.reset_index()\n",
    "group = group.rename(columns={'판매량': '판매건수'})\n",
    "\n",
    "train = train.merge(group, on=idx_features, how='left')\n",
    "\n",
    "# 가비지 컬렉션\n",
    "del group, sales_train\n",
    "gc.collect()\n",
    "\n",
    "train.head()"
   ]
  },
  {
   "cell_type": "markdown",
   "metadata": {
    "papermill": {
     "duration": 0.045654,
     "end_time": "2021-04-14T12:08:23.386423",
     "exception": false,
     "start_time": "2021-04-14T12:08:23.340769",
     "status": "completed"
    },
    "tags": []
   },
   "source": [
    "### 테스트 데이터 이어붙이기, 나머지 데이터 병합"
   ]
  },
  {
   "cell_type": "code",
   "execution_count": 26,
   "metadata": {
    "execution": {
     "iopub.execute_input": "2021-04-14T12:08:23.481897Z",
     "iopub.status.busy": "2021-04-14T12:08:23.481061Z",
     "iopub.status.idle": "2021-04-14T12:08:24.072304Z",
     "shell.execute_reply": "2021-04-14T12:08:24.072803Z"
    },
    "papermill": {
     "duration": 0.642098,
     "end_time": "2021-04-14T12:08:24.073048",
     "exception": false,
     "start_time": "2021-04-14T12:08:23.430950",
     "status": "completed"
    },
    "tags": []
   },
   "outputs": [
    {
     "data": {
      "text/html": [
       "<div>\n",
       "<style scoped>\n",
       "    .dataframe tbody tr th:only-of-type {\n",
       "        vertical-align: middle;\n",
       "    }\n",
       "\n",
       "    .dataframe tbody tr th {\n",
       "        vertical-align: top;\n",
       "    }\n",
       "\n",
       "    .dataframe thead th {\n",
       "        text-align: right;\n",
       "    }\n",
       "</style>\n",
       "<table border=\"1\" class=\"dataframe\">\n",
       "  <thead>\n",
       "    <tr style=\"text-align: right;\">\n",
       "      <th></th>\n",
       "      <th>날짜ID</th>\n",
       "      <th>상점ID</th>\n",
       "      <th>상품ID</th>\n",
       "      <th>총 판매량</th>\n",
       "      <th>평균 판매가</th>\n",
       "      <th>판매건수</th>\n",
       "    </tr>\n",
       "  </thead>\n",
       "  <tbody>\n",
       "    <tr>\n",
       "      <th>0</th>\n",
       "      <td>0</td>\n",
       "      <td>59</td>\n",
       "      <td>22154</td>\n",
       "      <td>1.0</td>\n",
       "      <td>999.0</td>\n",
       "      <td>1.0</td>\n",
       "    </tr>\n",
       "    <tr>\n",
       "      <th>1</th>\n",
       "      <td>0</td>\n",
       "      <td>59</td>\n",
       "      <td>2552</td>\n",
       "      <td>0.0</td>\n",
       "      <td>0.0</td>\n",
       "      <td>0.0</td>\n",
       "    </tr>\n",
       "    <tr>\n",
       "      <th>2</th>\n",
       "      <td>0</td>\n",
       "      <td>59</td>\n",
       "      <td>2554</td>\n",
       "      <td>0.0</td>\n",
       "      <td>0.0</td>\n",
       "      <td>0.0</td>\n",
       "    </tr>\n",
       "    <tr>\n",
       "      <th>3</th>\n",
       "      <td>0</td>\n",
       "      <td>59</td>\n",
       "      <td>2555</td>\n",
       "      <td>0.0</td>\n",
       "      <td>0.0</td>\n",
       "      <td>0.0</td>\n",
       "    </tr>\n",
       "    <tr>\n",
       "      <th>4</th>\n",
       "      <td>0</td>\n",
       "      <td>59</td>\n",
       "      <td>2564</td>\n",
       "      <td>0.0</td>\n",
       "      <td>0.0</td>\n",
       "      <td>0.0</td>\n",
       "    </tr>\n",
       "  </tbody>\n",
       "</table>\n",
       "</div>"
      ],
      "text/plain": [
       "   날짜ID  상점ID   상품ID  총 판매량  평균 판매가  판매건수\n",
       "0     0    59  22154    1.0   999.0   1.0\n",
       "1     0    59   2552    0.0     0.0   0.0\n",
       "2     0    59   2554    0.0     0.0   0.0\n",
       "3     0    59   2555    0.0     0.0   0.0\n",
       "4     0    59   2564    0.0     0.0   0.0"
      ]
     },
     "execution_count": 26,
     "metadata": {},
     "output_type": "execute_result"
    }
   ],
   "source": [
    "# 테스트 데이터 날짜ID를 34로 설정\n",
    "test['날짜ID'] = 34\n",
    "\n",
    "# train과 test 이어붙이기\n",
    "all_data = pd.concat([train, test.drop('ID', axis=1)],\n",
    "                     ignore_index=True,\n",
    "                     keys=idx_features)\n",
    "# 결측값을 0으로 대체\n",
    "all_data = all_data.fillna(0)\n",
    "\n",
    "all_data.head()"
   ]
  },
  {
   "cell_type": "code",
   "execution_count": 27,
   "metadata": {
    "execution": {
     "iopub.execute_input": "2021-04-14T12:08:24.173510Z",
     "iopub.status.busy": "2021-04-14T12:08:24.172688Z",
     "iopub.status.idle": "2021-04-14T12:08:29.738821Z",
     "shell.execute_reply": "2021-04-14T12:08:29.738077Z"
    },
    "papermill": {
     "duration": 5.620375,
     "end_time": "2021-04-14T12:08:29.739061",
     "exception": false,
     "start_time": "2021-04-14T12:08:24.118686",
     "status": "completed"
    },
    "tags": []
   },
   "outputs": [
    {
     "name": "stdout",
     "output_type": "stream",
     "text": [
      "64.6% 압축됨\n"
     ]
    }
   ],
   "source": [
    "# 나머지 데이터 병합\n",
    "all_data = all_data.merge(shops, on='상점ID', how='left')\n",
    "all_data = all_data.merge(items, on='상품ID', how='left')\n",
    "all_data = all_data.merge(item_categories, on='상품범주ID', how='left')\n",
    "\n",
    "# 데이터 형변환\n",
    "all_data = downcast(all_data)\n",
    "\n",
    "# 가비지 컬렉션\n",
    "del shops, items, item_categories\n",
    "gc.collect();"
   ]
  },
  {
   "cell_type": "markdown",
   "metadata": {
    "papermill": {
     "duration": 0.044439,
     "end_time": "2021-04-14T12:08:29.828574",
     "exception": false,
     "start_time": "2021-04-14T12:08:29.784135",
     "status": "completed"
    },
    "tags": []
   },
   "source": [
    "## 피처 엔지니어링 II - 시차 피처 생성"
   ]
  },
  {
   "cell_type": "markdown",
   "metadata": {
    "papermill": {
     "duration": 0.044499,
     "end_time": "2021-04-14T12:08:29.917875",
     "exception": false,
     "start_time": "2021-04-14T12:08:29.873376",
     "status": "completed"
    },
    "tags": []
   },
   "source": [
    "### 기준 피처별 월간 평균 판매량 파생 피처 생성"
   ]
  },
  {
   "cell_type": "code",
   "execution_count": 28,
   "metadata": {
    "execution": {
     "iopub.execute_input": "2021-04-14T12:08:30.014458Z",
     "iopub.status.busy": "2021-04-14T12:08:30.013481Z",
     "iopub.status.idle": "2021-04-14T12:08:30.021221Z",
     "shell.execute_reply": "2021-04-14T12:08:30.021764Z"
    },
    "papermill": {
     "duration": 0.057304,
     "end_time": "2021-04-14T12:08:30.021946",
     "exception": false,
     "start_time": "2021-04-14T12:08:29.964642",
     "status": "completed"
    },
    "tags": []
   },
   "outputs": [],
   "source": [
    "def add_mean_features(df, mean_features, idx_features):\n",
    "    # 기준 피처 확인 ---①\n",
    "    assert (idx_features[0] == '날짜ID') and \\\n",
    "           len(idx_features) in [2, 3]\n",
    "    \n",
    "    # 파생 피처명 설정 ---②\n",
    "    if len(idx_features) == 2:\n",
    "        feature_name = idx_features[1] + '별 평균 판매량'\n",
    "    else:\n",
    "        feature_name = idx_features[1] + ' ' + idx_features[2] + '별 평균 판매량'\n",
    "    \n",
    "    # 기준 피처를 토대로 그룹화해 월간 평균 판매량 구하기 ---③\n",
    "    group = df.groupby(idx_features).agg({'총 판매량': 'mean'})\n",
    "    group = group.reset_index()\n",
    "    group = group.rename(columns={'총 판매량': feature_name})\n",
    "    \n",
    "    # df와 group 병합 ---④\n",
    "    df = df.merge(group, on=idx_features, how='left')\n",
    "    # 데이터 형변환 ---⑤\n",
    "    df = downcast(df, False)\n",
    "    # 새로 만든 mean_feature_name 피처를 mean_features 리스트에 추가 ---⑥\n",
    "    mean_features.append(feature_name)\n",
    "    \n",
    "    # 가비지 컬렉션\n",
    "    del group\n",
    "    gc.collect()\n",
    "    \n",
    "    return df, mean_features"
   ]
  },
  {
   "cell_type": "code",
   "execution_count": 29,
   "metadata": {
    "execution": {
     "iopub.execute_input": "2021-04-14T12:08:30.120360Z",
     "iopub.status.busy": "2021-04-14T12:08:30.119386Z",
     "iopub.status.idle": "2021-04-14T12:08:42.721834Z",
     "shell.execute_reply": "2021-04-14T12:08:42.721158Z"
    },
    "papermill": {
     "duration": 12.655179,
     "end_time": "2021-04-14T12:08:42.721998",
     "exception": false,
     "start_time": "2021-04-14T12:08:30.066819",
     "status": "completed"
    },
    "tags": []
   },
   "outputs": [],
   "source": [
    "# 그룹화 기준 피처에 '상품ID'를 포함한 파생 피처를 담을 리스트\n",
    "item_mean_features = []\n",
    "\n",
    "# ['날짜ID', '상품ID']로 그룹화한 월간 평균 판매량 파생 피처 생성\n",
    "all_data, item_mean_features = add_mean_features(df=all_data,\n",
    "                                                 mean_features=item_mean_features,\n",
    "                                                 idx_features=['날짜ID', '상품ID'])\n",
    "\n",
    "# ['날짜ID', '상품ID', '도시']로 그룹화한 월간 평균 판매량 파생 피처 생성\n",
    "all_data, item_mean_features = add_mean_features(df=all_data,\n",
    "                                                 mean_features=item_mean_features,\n",
    "                                                 idx_features=['날짜ID', '상품ID', '도시'])"
   ]
  },
  {
   "cell_type": "code",
   "execution_count": 30,
   "metadata": {
    "execution": {
     "iopub.execute_input": "2021-04-14T12:08:42.817696Z",
     "iopub.status.busy": "2021-04-14T12:08:42.816999Z",
     "iopub.status.idle": "2021-04-14T12:08:42.821070Z",
     "shell.execute_reply": "2021-04-14T12:08:42.822234Z"
    },
    "papermill": {
     "duration": 0.054941,
     "end_time": "2021-04-14T12:08:42.822450",
     "exception": false,
     "start_time": "2021-04-14T12:08:42.767509",
     "status": "completed"
    },
    "tags": []
   },
   "outputs": [
    {
     "data": {
      "text/plain": [
       "['상품ID별 평균 판매량', '상품ID 도시별 평균 판매량']"
      ]
     },
     "execution_count": 30,
     "metadata": {},
     "output_type": "execute_result"
    }
   ],
   "source": [
    "item_mean_features"
   ]
  },
  {
   "cell_type": "code",
   "execution_count": 31,
   "metadata": {
    "execution": {
     "iopub.execute_input": "2021-04-14T12:08:42.922579Z",
     "iopub.status.busy": "2021-04-14T12:08:42.921776Z",
     "iopub.status.idle": "2021-04-14T12:08:45.864337Z",
     "shell.execute_reply": "2021-04-14T12:08:45.863670Z"
    },
    "papermill": {
     "duration": 2.995972,
     "end_time": "2021-04-14T12:08:45.864527",
     "exception": false,
     "start_time": "2021-04-14T12:08:42.868555",
     "status": "completed"
    },
    "tags": []
   },
   "outputs": [],
   "source": [
    "# 그룹화 기준 피처에 '상점ID'를 포함한 파생 피처를 담을 리스트\n",
    "shop_mean_features = []\n",
    "\n",
    "# ['날짜ID', '상점ID', '상품범주ID']로 그룹화한 월간 평균 판매량 파생 피처 생성\n",
    "all_data, shop_mean_features = add_mean_features(df=all_data, \n",
    "                                                 mean_features=shop_mean_features,\n",
    "                                                 idx_features=['날짜ID', '상점ID', '상품범주ID'])"
   ]
  },
  {
   "cell_type": "code",
   "execution_count": 32,
   "metadata": {
    "execution": {
     "iopub.execute_input": "2021-04-14T12:08:45.964032Z",
     "iopub.status.busy": "2021-04-14T12:08:45.963350Z",
     "iopub.status.idle": "2021-04-14T12:08:45.968194Z",
     "shell.execute_reply": "2021-04-14T12:08:45.967503Z"
    },
    "papermill": {
     "duration": 0.056203,
     "end_time": "2021-04-14T12:08:45.968348",
     "exception": false,
     "start_time": "2021-04-14T12:08:45.912145",
     "status": "completed"
    },
    "tags": []
   },
   "outputs": [
    {
     "data": {
      "text/plain": [
       "['상점ID 상품범주ID별 평균 판매량']"
      ]
     },
     "execution_count": 32,
     "metadata": {},
     "output_type": "execute_result"
    }
   ],
   "source": [
    "shop_mean_features"
   ]
  },
  {
   "cell_type": "markdown",
   "metadata": {
    "papermill": {
     "duration": 0.045759,
     "end_time": "2021-04-14T12:08:46.060499",
     "exception": false,
     "start_time": "2021-04-14T12:08:46.014740",
     "status": "completed"
    },
    "tags": []
   },
   "source": [
    "### 시차 파생 피처 만들기"
   ]
  },
  {
   "cell_type": "code",
   "execution_count": 33,
   "metadata": {
    "execution": {
     "iopub.execute_input": "2021-04-14T12:08:46.162848Z",
     "iopub.status.busy": "2021-04-14T12:08:46.162129Z",
     "iopub.status.idle": "2021-04-14T12:08:46.166731Z",
     "shell.execute_reply": "2021-04-14T12:08:46.166040Z"
    },
    "papermill": {
     "duration": 0.060495,
     "end_time": "2021-04-14T12:08:46.166893",
     "exception": false,
     "start_time": "2021-04-14T12:08:46.106398",
     "status": "completed"
    },
    "tags": []
   },
   "outputs": [],
   "source": [
    "def add_lag_features(df, lag_features_to_clip, idx_features, \n",
    "                     lag_feature, nlags=3, clip=False):\n",
    "    # 시차 피처 생성에 필요한 DataFrame 부분만 복사 ---①\n",
    "    df_temp = df[idx_features + [lag_feature]].copy() \n",
    "\n",
    "    # 시차 피처 생성 ---②\n",
    "    for i in range(1, nlags+1):\n",
    "        # 시차 피처명 ---③\n",
    "        lag_feature_name = lag_feature +'_시차' + str(i)\n",
    "        # df_temp 열 이름 설정 ---④\n",
    "        df_temp.columns = idx_features + [lag_feature_name]\n",
    "        # df_temp의 date_block_num 피처에 1 더하기 ---⑤\n",
    "        df_temp['날짜ID'] += i\n",
    "        # idx_feature를 기준으로 df와 df_temp 병합하기 ---⑥\n",
    "        df = df.merge(df_temp.drop_duplicates(), \n",
    "                      on=idx_features, \n",
    "                      how='left')\n",
    "        # 결측값 0으로 대체 ---⑦\n",
    "        df[lag_feature_name] = df[lag_feature_name].fillna(0)\n",
    "        # 0~20 사이로 제한할 시차 피처를 lag_features_to_clip에 추가 ---⑧\n",
    "        if clip: \n",
    "            lag_features_to_clip.append(lag_feature_name)\n",
    "    \n",
    "    # 데이터 형변환\n",
    "    df = downcast(df, False)\n",
    "    # 가비지 컬렉션\n",
    "    del df_temp\n",
    "    gc.collect()\n",
    "    \n",
    "    return df, lag_features_to_clip"
   ]
  },
  {
   "cell_type": "code",
   "execution_count": 34,
   "metadata": {
    "execution": {
     "iopub.execute_input": "2021-04-14T12:08:46.267841Z",
     "iopub.status.busy": "2021-04-14T12:08:46.266989Z",
     "iopub.status.idle": "2021-04-14T12:09:13.418216Z",
     "shell.execute_reply": "2021-04-14T12:09:13.417608Z"
    },
    "papermill": {
     "duration": 27.204881,
     "end_time": "2021-04-14T12:09:13.418370",
     "exception": false,
     "start_time": "2021-04-14T12:08:46.213489",
     "status": "completed"
    },
    "tags": []
   },
   "outputs": [],
   "source": [
    "lag_features_to_clip = [] # 0~20 사이로 제한할 시차 피처를 담을 리스트\n",
    "idx_features = ['날짜ID', '상점ID', '상품ID'] # 기준 피처\n",
    "\n",
    "# idx_features를 기준으로 총 판매량의 세 달치 시차 피처 생성\n",
    "all_data, lag_features_to_clip = add_lag_features(df=all_data, \n",
    "                                                  lag_features_to_clip=lag_features_to_clip,\n",
    "                                                  idx_features=idx_features,\n",
    "                                                  lag_feature='총 판매량', \n",
    "                                                  nlags=3,\n",
    "                                                  clip=True)"
   ]
  },
  {
   "cell_type": "code",
   "execution_count": 35,
   "metadata": {
    "execution": {
     "iopub.execute_input": "2021-04-14T12:09:13.529099Z",
     "iopub.status.busy": "2021-04-14T12:09:13.517535Z",
     "iopub.status.idle": "2021-04-14T12:09:13.534298Z",
     "shell.execute_reply": "2021-04-14T12:09:13.533744Z"
    },
    "papermill": {
     "duration": 0.069724,
     "end_time": "2021-04-14T12:09:13.534469",
     "exception": false,
     "start_time": "2021-04-14T12:09:13.464745",
     "status": "completed"
    },
    "tags": []
   },
   "outputs": [
    {
     "data": {
      "text/html": [
       "<div>\n",
       "<style scoped>\n",
       "    .dataframe tbody tr th:only-of-type {\n",
       "        vertical-align: middle;\n",
       "    }\n",
       "\n",
       "    .dataframe tbody tr th {\n",
       "        vertical-align: top;\n",
       "    }\n",
       "\n",
       "    .dataframe thead th {\n",
       "        text-align: right;\n",
       "    }\n",
       "</style>\n",
       "<table border=\"1\" class=\"dataframe\">\n",
       "  <thead>\n",
       "    <tr style=\"text-align: right;\">\n",
       "      <th></th>\n",
       "      <th>0</th>\n",
       "      <th>1</th>\n",
       "      <th>2</th>\n",
       "      <th>3</th>\n",
       "      <th>4</th>\n",
       "    </tr>\n",
       "  </thead>\n",
       "  <tbody>\n",
       "    <tr>\n",
       "      <th>날짜ID</th>\n",
       "      <td>0.000000</td>\n",
       "      <td>0.000000</td>\n",
       "      <td>0.000000</td>\n",
       "      <td>0.000000</td>\n",
       "      <td>0.000000</td>\n",
       "    </tr>\n",
       "    <tr>\n",
       "      <th>상점ID</th>\n",
       "      <td>59.000000</td>\n",
       "      <td>59.000000</td>\n",
       "      <td>59.000000</td>\n",
       "      <td>59.000000</td>\n",
       "      <td>59.000000</td>\n",
       "    </tr>\n",
       "    <tr>\n",
       "      <th>상품ID</th>\n",
       "      <td>22154.000000</td>\n",
       "      <td>2552.000000</td>\n",
       "      <td>2554.000000</td>\n",
       "      <td>2555.000000</td>\n",
       "      <td>2564.000000</td>\n",
       "    </tr>\n",
       "    <tr>\n",
       "      <th>총 판매량</th>\n",
       "      <td>1.000000</td>\n",
       "      <td>0.000000</td>\n",
       "      <td>0.000000</td>\n",
       "      <td>0.000000</td>\n",
       "      <td>0.000000</td>\n",
       "    </tr>\n",
       "    <tr>\n",
       "      <th>평균 판매가</th>\n",
       "      <td>999.000000</td>\n",
       "      <td>0.000000</td>\n",
       "      <td>0.000000</td>\n",
       "      <td>0.000000</td>\n",
       "      <td>0.000000</td>\n",
       "    </tr>\n",
       "    <tr>\n",
       "      <th>판매건수</th>\n",
       "      <td>1.000000</td>\n",
       "      <td>0.000000</td>\n",
       "      <td>0.000000</td>\n",
       "      <td>0.000000</td>\n",
       "      <td>0.000000</td>\n",
       "    </tr>\n",
       "    <tr>\n",
       "      <th>도시</th>\n",
       "      <td>30.000000</td>\n",
       "      <td>30.000000</td>\n",
       "      <td>30.000000</td>\n",
       "      <td>30.000000</td>\n",
       "      <td>30.000000</td>\n",
       "    </tr>\n",
       "    <tr>\n",
       "      <th>상품범주ID</th>\n",
       "      <td>37.000000</td>\n",
       "      <td>58.000000</td>\n",
       "      <td>58.000000</td>\n",
       "      <td>56.000000</td>\n",
       "      <td>59.000000</td>\n",
       "    </tr>\n",
       "    <tr>\n",
       "      <th>첫 판매날짜</th>\n",
       "      <td>0.000000</td>\n",
       "      <td>0.000000</td>\n",
       "      <td>0.000000</td>\n",
       "      <td>0.000000</td>\n",
       "      <td>0.000000</td>\n",
       "    </tr>\n",
       "    <tr>\n",
       "      <th>범주분류</th>\n",
       "      <td>5.000000</td>\n",
       "      <td>7.000000</td>\n",
       "      <td>7.000000</td>\n",
       "      <td>7.000000</td>\n",
       "      <td>7.000000</td>\n",
       "    </tr>\n",
       "    <tr>\n",
       "      <th>상품ID별 평균 판매량</th>\n",
       "      <td>0.457143</td>\n",
       "      <td>0.028571</td>\n",
       "      <td>0.028571</td>\n",
       "      <td>0.028571</td>\n",
       "      <td>0.142857</td>\n",
       "    </tr>\n",
       "    <tr>\n",
       "      <th>상품ID 도시별 평균 판매량</th>\n",
       "      <td>1.000000</td>\n",
       "      <td>0.000000</td>\n",
       "      <td>0.000000</td>\n",
       "      <td>0.000000</td>\n",
       "      <td>0.000000</td>\n",
       "    </tr>\n",
       "    <tr>\n",
       "      <th>상점ID 상품범주ID별 평균 판매량</th>\n",
       "      <td>0.096774</td>\n",
       "      <td>0.000000</td>\n",
       "      <td>0.000000</td>\n",
       "      <td>0.011494</td>\n",
       "      <td>0.013245</td>\n",
       "    </tr>\n",
       "    <tr>\n",
       "      <th>총 판매량_시차1</th>\n",
       "      <td>0.000000</td>\n",
       "      <td>0.000000</td>\n",
       "      <td>0.000000</td>\n",
       "      <td>0.000000</td>\n",
       "      <td>0.000000</td>\n",
       "    </tr>\n",
       "    <tr>\n",
       "      <th>총 판매량_시차2</th>\n",
       "      <td>0.000000</td>\n",
       "      <td>0.000000</td>\n",
       "      <td>0.000000</td>\n",
       "      <td>0.000000</td>\n",
       "      <td>0.000000</td>\n",
       "    </tr>\n",
       "    <tr>\n",
       "      <th>총 판매량_시차3</th>\n",
       "      <td>0.000000</td>\n",
       "      <td>0.000000</td>\n",
       "      <td>0.000000</td>\n",
       "      <td>0.000000</td>\n",
       "      <td>0.000000</td>\n",
       "    </tr>\n",
       "  </tbody>\n",
       "</table>\n",
       "</div>"
      ],
      "text/plain": [
       "                                0            1            2            3  \\\n",
       "날짜ID                     0.000000     0.000000     0.000000     0.000000   \n",
       "상점ID                    59.000000    59.000000    59.000000    59.000000   \n",
       "상품ID                 22154.000000  2552.000000  2554.000000  2555.000000   \n",
       "총 판매량                    1.000000     0.000000     0.000000     0.000000   \n",
       "평균 판매가                 999.000000     0.000000     0.000000     0.000000   \n",
       "판매건수                     1.000000     0.000000     0.000000     0.000000   \n",
       "도시                      30.000000    30.000000    30.000000    30.000000   \n",
       "상품범주ID                  37.000000    58.000000    58.000000    56.000000   \n",
       "첫 판매날짜                   0.000000     0.000000     0.000000     0.000000   \n",
       "범주분류                     5.000000     7.000000     7.000000     7.000000   \n",
       "상품ID별 평균 판매량             0.457143     0.028571     0.028571     0.028571   \n",
       "상품ID 도시별 평균 판매량          1.000000     0.000000     0.000000     0.000000   \n",
       "상점ID 상품범주ID별 평균 판매량      0.096774     0.000000     0.000000     0.011494   \n",
       "총 판매량_시차1                0.000000     0.000000     0.000000     0.000000   \n",
       "총 판매량_시차2                0.000000     0.000000     0.000000     0.000000   \n",
       "총 판매량_시차3                0.000000     0.000000     0.000000     0.000000   \n",
       "\n",
       "                               4  \n",
       "날짜ID                    0.000000  \n",
       "상점ID                   59.000000  \n",
       "상품ID                 2564.000000  \n",
       "총 판매량                   0.000000  \n",
       "평균 판매가                  0.000000  \n",
       "판매건수                    0.000000  \n",
       "도시                     30.000000  \n",
       "상품범주ID                 59.000000  \n",
       "첫 판매날짜                  0.000000  \n",
       "범주분류                    7.000000  \n",
       "상품ID별 평균 판매량            0.142857  \n",
       "상품ID 도시별 평균 판매량         0.000000  \n",
       "상점ID 상품범주ID별 평균 판매량     0.013245  \n",
       "총 판매량_시차1               0.000000  \n",
       "총 판매량_시차2               0.000000  \n",
       "총 판매량_시차3               0.000000  "
      ]
     },
     "execution_count": 35,
     "metadata": {},
     "output_type": "execute_result"
    }
   ],
   "source": [
    "all_data.head().T"
   ]
  },
  {
   "cell_type": "code",
   "execution_count": 36,
   "metadata": {
    "execution": {
     "iopub.execute_input": "2021-04-14T12:09:13.636742Z",
     "iopub.status.busy": "2021-04-14T12:09:13.636095Z",
     "iopub.status.idle": "2021-04-14T12:09:13.639838Z",
     "shell.execute_reply": "2021-04-14T12:09:13.640515Z"
    },
    "papermill": {
     "duration": 0.057472,
     "end_time": "2021-04-14T12:09:13.640715",
     "exception": false,
     "start_time": "2021-04-14T12:09:13.583243",
     "status": "completed"
    },
    "tags": []
   },
   "outputs": [
    {
     "data": {
      "text/plain": [
       "['총 판매량_시차1', '총 판매량_시차2', '총 판매량_시차3']"
      ]
     },
     "execution_count": 36,
     "metadata": {},
     "output_type": "execute_result"
    }
   ],
   "source": [
    "lag_features_to_clip"
   ]
  },
  {
   "cell_type": "code",
   "execution_count": 37,
   "metadata": {
    "execution": {
     "iopub.execute_input": "2021-04-14T12:09:13.740580Z",
     "iopub.status.busy": "2021-04-14T12:09:13.739882Z",
     "iopub.status.idle": "2021-04-14T12:10:06.964658Z",
     "shell.execute_reply": "2021-04-14T12:10:06.963887Z"
    },
    "papermill": {
     "duration": 53.275669,
     "end_time": "2021-04-14T12:10:06.964822",
     "exception": false,
     "start_time": "2021-04-14T12:09:13.689153",
     "status": "completed"
    },
    "tags": []
   },
   "outputs": [],
   "source": [
    "# idx_features를 기준으로 판매건수 피처의 세 달치 시차 피처 생성\n",
    "all_data, lag_features_to_clip = add_lag_features(df=all_data, \n",
    "                                                  lag_features_to_clip=lag_features_to_clip,\n",
    "                                                  idx_features=idx_features,\n",
    "                                                  lag_feature='판매건수', \n",
    "                                                  nlags=3)\n",
    "\n",
    "# idx_features를 기준으로 평균 판매가 피처의 세 달치 시차 피처 생성\n",
    "all_data, lag_features_to_clip = add_lag_features(df=all_data, \n",
    "                                                  lag_features_to_clip=lag_features_to_clip,\n",
    "                                                  idx_features=idx_features,\n",
    "                                                  lag_feature='평균 판매가', \n",
    "                                                  nlags=3)"
   ]
  },
  {
   "cell_type": "code",
   "execution_count": 38,
   "metadata": {
    "execution": {
     "iopub.execute_input": "2021-04-14T12:10:07.066900Z",
     "iopub.status.busy": "2021-04-14T12:10:07.066143Z",
     "iopub.status.idle": "2021-04-14T12:10:07.446802Z",
     "shell.execute_reply": "2021-04-14T12:10:07.445752Z"
    },
    "papermill": {
     "duration": 0.432071,
     "end_time": "2021-04-14T12:10:07.447055",
     "exception": false,
     "start_time": "2021-04-14T12:10:07.014984",
     "status": "completed"
    },
    "tags": []
   },
   "outputs": [
    {
     "data": {
      "text/plain": [
       "상품ID별 평균 판매량       0.0\n",
       "상품ID 도시별 평균 판매량    0.0\n",
       "dtype: float32"
      ]
     },
     "execution_count": 38,
     "metadata": {},
     "output_type": "execute_result"
    }
   ],
   "source": [
    "X_test_temp = all_data[all_data['날짜ID'] == 34]\n",
    "X_test_temp[item_mean_features].sum()"
   ]
  },
  {
   "cell_type": "code",
   "execution_count": 39,
   "metadata": {
    "execution": {
     "iopub.execute_input": "2021-04-14T12:10:07.579535Z",
     "iopub.status.busy": "2021-04-14T12:10:07.578417Z",
     "iopub.status.idle": "2021-04-14T12:11:04.046724Z",
     "shell.execute_reply": "2021-04-14T12:11:04.045953Z"
    },
    "papermill": {
     "duration": 56.530616,
     "end_time": "2021-04-14T12:11:04.046913",
     "exception": false,
     "start_time": "2021-04-14T12:10:07.516297",
     "status": "completed"
    },
    "tags": []
   },
   "outputs": [],
   "source": [
    "# idx_features를 기준으로 item_mean_features 요소별 시차 피처 생성\n",
    "for item_mean_feature in item_mean_features:\n",
    "    all_data, lag_features_to_clip = add_lag_features(df=all_data, \n",
    "                                                      lag_features_to_clip=lag_features_to_clip, \n",
    "                                                      idx_features=idx_features, \n",
    "                                                      lag_feature=item_mean_feature, \n",
    "                                                      nlags=3)\n",
    "# item_mean_features 피처 제거\n",
    "all_data = all_data.drop(item_mean_features, axis=1)"
   ]
  },
  {
   "cell_type": "code",
   "execution_count": 40,
   "metadata": {
    "execution": {
     "iopub.execute_input": "2021-04-14T12:11:04.151109Z",
     "iopub.status.busy": "2021-04-14T12:11:04.150379Z",
     "iopub.status.idle": "2021-04-14T12:11:04.154089Z",
     "shell.execute_reply": "2021-04-14T12:11:04.154599Z"
    },
    "papermill": {
     "duration": 0.058733,
     "end_time": "2021-04-14T12:11:04.154804",
     "exception": false,
     "start_time": "2021-04-14T12:11:04.096071",
     "status": "completed"
    },
    "tags": []
   },
   "outputs": [
    {
     "data": {
      "text/plain": [
       "['상점ID 상품범주ID별 평균 판매량']"
      ]
     },
     "execution_count": 40,
     "metadata": {},
     "output_type": "execute_result"
    }
   ],
   "source": [
    "shop_mean_features"
   ]
  },
  {
   "cell_type": "code",
   "execution_count": 41,
   "metadata": {
    "execution": {
     "iopub.execute_input": "2021-04-14T12:11:04.260411Z",
     "iopub.status.busy": "2021-04-14T12:11:04.259649Z",
     "iopub.status.idle": "2021-04-14T12:11:16.162945Z",
     "shell.execute_reply": "2021-04-14T12:11:16.162340Z"
    },
    "papermill": {
     "duration": 11.956689,
     "end_time": "2021-04-14T12:11:16.163174",
     "exception": false,
     "start_time": "2021-04-14T12:11:04.206485",
     "status": "completed"
    },
    "tags": []
   },
   "outputs": [],
   "source": [
    "# ['날짜ID', '상점ID', '상품범주ID']를 기준으로 shop_mean_features 요소별 시차 피처 생성\n",
    "for shop_mean_feature in shop_mean_features:\n",
    "    all_data, lag_features_to_clip = add_lag_features(df=all_data,\n",
    "                                                      lag_features_to_clip=lag_features_to_clip, \n",
    "                                                      idx_features=['날짜ID', '상점ID', '상품범주ID'], \n",
    "                                                      lag_feature=shop_mean_feature, \n",
    "                                                      nlags=3)\n",
    "# shop_mean_features 피처 제거\n",
    "all_data = all_data.drop(shop_mean_features, axis=1)"
   ]
  },
  {
   "cell_type": "code",
   "execution_count": 42,
   "metadata": {
    "execution": {
     "iopub.execute_input": "2021-04-14T12:11:16.269571Z",
     "iopub.status.busy": "2021-04-14T12:11:16.268879Z",
     "iopub.status.idle": "2021-04-14T12:11:18.232883Z",
     "shell.execute_reply": "2021-04-14T12:11:18.232333Z"
    },
    "papermill": {
     "duration": 2.019867,
     "end_time": "2021-04-14T12:11:18.233068",
     "exception": false,
     "start_time": "2021-04-14T12:11:16.213201",
     "status": "completed"
    },
    "tags": []
   },
   "outputs": [],
   "source": [
    "# 날짜 ID 3미만인 데이터 제거\n",
    "all_data = all_data.drop(all_data[all_data['날짜ID'] < 3].index)"
   ]
  },
  {
   "cell_type": "markdown",
   "metadata": {
    "papermill": {
     "duration": 0.048492,
     "end_time": "2021-04-14T12:11:18.330725",
     "exception": false,
     "start_time": "2021-04-14T12:11:18.282233",
     "status": "completed"
    },
    "tags": []
   },
   "source": [
    "### 기타 피처 엔지니어링"
   ]
  },
  {
   "cell_type": "code",
   "execution_count": 43,
   "metadata": {
    "execution": {
     "iopub.execute_input": "2021-04-14T12:11:18.473984Z",
     "iopub.status.busy": "2021-04-14T12:11:18.473319Z",
     "iopub.status.idle": "2021-04-14T12:11:18.615708Z",
     "shell.execute_reply": "2021-04-14T12:11:18.614981Z"
    },
    "papermill": {
     "duration": 0.236211,
     "end_time": "2021-04-14T12:11:18.615866",
     "exception": false,
     "start_time": "2021-04-14T12:11:18.379655",
     "status": "completed"
    },
    "tags": []
   },
   "outputs": [],
   "source": [
    "all_data['총 판매량 시차평균'] = all_data[['총 판매량_시차1',\n",
    "                                         '총 판매량_시차2', \n",
    "                                         '총 판매량_시차3']].mean(axis=1)"
   ]
  },
  {
   "cell_type": "code",
   "execution_count": 44,
   "metadata": {
    "execution": {
     "iopub.execute_input": "2021-04-14T12:11:18.815911Z",
     "iopub.status.busy": "2021-04-14T12:11:18.769774Z",
     "iopub.status.idle": "2021-04-14T12:11:19.758575Z",
     "shell.execute_reply": "2021-04-14T12:11:19.757951Z"
    },
    "papermill": {
     "duration": 1.093201,
     "end_time": "2021-04-14T12:11:19.758765",
     "exception": false,
     "start_time": "2021-04-14T12:11:18.665564",
     "status": "completed"
    },
    "tags": []
   },
   "outputs": [],
   "source": [
    "# 0~20 사이로 값 제한\n",
    "all_data[lag_features_to_clip + ['총 판매량', '총 판매량 시차평균']] = all_data[lag_features_to_clip +['총 판매량', '총 판매량 시차평균']].clip(0, 20)"
   ]
  },
  {
   "cell_type": "code",
   "execution_count": 45,
   "metadata": {
    "execution": {
     "iopub.execute_input": "2021-04-14T12:11:19.866944Z",
     "iopub.status.busy": "2021-04-14T12:11:19.865845Z",
     "iopub.status.idle": "2021-04-14T12:11:20.323597Z",
     "shell.execute_reply": "2021-04-14T12:11:20.322906Z"
    },
    "papermill": {
     "duration": 0.515081,
     "end_time": "2021-04-14T12:11:20.323795",
     "exception": false,
     "start_time": "2021-04-14T12:11:19.808714",
     "status": "completed"
    },
    "tags": []
   },
   "outputs": [],
   "source": [
    "all_data['시차변화량1'] = all_data['총 판매량_시차1']/all_data['총 판매량_시차2']\n",
    "all_data['시차변화량1'] = all_data['시차변화량1'].replace([np.inf, -np.inf], \n",
    "                                                        np.nan).fillna(0)\n",
    "\n",
    "all_data['시차변화량2'] = all_data['총 판매량_시차2']/all_data['총 판매량_시차3']\n",
    "all_data['시차변화량2'] = all_data['시차변화량2'].replace([np.inf, -np.inf], \n",
    "                                                        np.nan).fillna(0)"
   ]
  },
  {
   "cell_type": "code",
   "execution_count": 46,
   "metadata": {
    "execution": {
     "iopub.execute_input": "2021-04-14T12:11:20.430086Z",
     "iopub.status.busy": "2021-04-14T12:11:20.429423Z",
     "iopub.status.idle": "2021-04-14T12:11:20.437881Z",
     "shell.execute_reply": "2021-04-14T12:11:20.438473Z"
    },
    "papermill": {
     "duration": 0.064995,
     "end_time": "2021-04-14T12:11:20.438701",
     "exception": false,
     "start_time": "2021-04-14T12:11:20.373706",
     "status": "completed"
    },
    "tags": []
   },
   "outputs": [],
   "source": [
    "all_data['신상여부'] = all_data['첫 판매날짜'] == all_data['날짜ID']"
   ]
  },
  {
   "cell_type": "code",
   "execution_count": 47,
   "metadata": {
    "execution": {
     "iopub.execute_input": "2021-04-14T12:11:20.542846Z",
     "iopub.status.busy": "2021-04-14T12:11:20.542234Z",
     "iopub.status.idle": "2021-04-14T12:11:20.555989Z",
     "shell.execute_reply": "2021-04-14T12:11:20.556503Z"
    },
    "papermill": {
     "duration": 0.067093,
     "end_time": "2021-04-14T12:11:20.556688",
     "exception": false,
     "start_time": "2021-04-14T12:11:20.489595",
     "status": "completed"
    },
    "tags": []
   },
   "outputs": [],
   "source": [
    "all_data['첫 판매 후 기간'] = all_data['날짜ID'] - all_data['첫 판매날짜']"
   ]
  },
  {
   "cell_type": "code",
   "execution_count": 48,
   "metadata": {
    "execution": {
     "iopub.execute_input": "2021-04-14T12:11:20.661802Z",
     "iopub.status.busy": "2021-04-14T12:11:20.661186Z",
     "iopub.status.idle": "2021-04-14T12:11:20.700743Z",
     "shell.execute_reply": "2021-04-14T12:11:20.700176Z"
    },
    "papermill": {
     "duration": 0.09376,
     "end_time": "2021-04-14T12:11:20.700893",
     "exception": false,
     "start_time": "2021-04-14T12:11:20.607133",
     "status": "completed"
    },
    "tags": []
   },
   "outputs": [],
   "source": [
    "all_data['월'] = all_data['날짜ID']%12"
   ]
  },
  {
   "cell_type": "code",
   "execution_count": 49,
   "metadata": {
    "execution": {
     "iopub.execute_input": "2021-04-14T12:11:20.808131Z",
     "iopub.status.busy": "2021-04-14T12:11:20.807464Z",
     "iopub.status.idle": "2021-04-14T12:11:22.932554Z",
     "shell.execute_reply": "2021-04-14T12:11:22.931795Z"
    },
    "papermill": {
     "duration": 2.182124,
     "end_time": "2021-04-14T12:11:22.932743",
     "exception": false,
     "start_time": "2021-04-14T12:11:20.750619",
     "status": "completed"
    },
    "tags": []
   },
   "outputs": [
    {
     "name": "stdout",
     "output_type": "stream",
     "text": [
      "<class 'pandas.core.frame.DataFrame'>\n",
      "Int64Index: 8029765 entries, 827196 to 8856960\n",
      "Data columns (total 31 columns):\n",
      " #   Column                   Dtype  \n",
      "---  ------                   -----  \n",
      " 0   날짜ID                     int8   \n",
      " 1   상점ID                     int8   \n",
      " 2   상품ID                     int16  \n",
      " 3   총 판매량                    int8   \n",
      " 4   도시                       int8   \n",
      " 5   상품범주ID                   int8   \n",
      " 6   범주분류                     int8   \n",
      " 7   총 판매량_시차1                int8   \n",
      " 8   총 판매량_시차2                int8   \n",
      " 9   총 판매량_시차3                int8   \n",
      " 10  판매건수_시차1                 int8   \n",
      " 11  판매건수_시차2                 int8   \n",
      " 12  판매건수_시차3                 int8   \n",
      " 13  평균 판매가_시차1               float32\n",
      " 14  평균 판매가_시차2               float32\n",
      " 15  평균 판매가_시차3               float32\n",
      " 16  상품ID별 평균 판매량_시차1         float32\n",
      " 17  상품ID별 평균 판매량_시차2         float32\n",
      " 18  상품ID별 평균 판매량_시차3         float32\n",
      " 19  상품ID 도시별 평균 판매량_시차1      float32\n",
      " 20  상품ID 도시별 평균 판매량_시차2      float32\n",
      " 21  상품ID 도시별 평균 판매량_시차3      float32\n",
      " 22  상점ID 상품범주ID별 평균 판매량_시차1  float32\n",
      " 23  상점ID 상품범주ID별 평균 판매량_시차2  float32\n",
      " 24  상점ID 상품범주ID별 평균 판매량_시차3  float32\n",
      " 25  총 판매량 시차평균               float32\n",
      " 26  시차변화량1                   float32\n",
      " 27  시차변화량2                   float32\n",
      " 28  신상여부                     int8   \n",
      " 29  첫 판매 후 기간                int8   \n",
      " 30  월                        int8   \n",
      "dtypes: float32(15), int16(1), int8(15)\n",
      "memory usage: 650.9 MB\n"
     ]
    }
   ],
   "source": [
    "# 첫 판매날짜, 평균 판매가, 판매건수 피처 제거\n",
    "all_data = all_data.drop(['첫 판매날짜', '평균 판매가', '판매건수'], axis=1)\n",
    "all_data = downcast(all_data, False) # 데이터 행변환\n",
    "all_data.info()"
   ]
  },
  {
   "cell_type": "code",
   "execution_count": 50,
   "metadata": {
    "execution": {
     "iopub.execute_input": "2021-04-14T12:11:23.067618Z",
     "iopub.status.busy": "2021-04-14T12:11:23.066444Z",
     "iopub.status.idle": "2021-04-14T12:11:25.468914Z",
     "shell.execute_reply": "2021-04-14T12:11:25.468343Z"
    },
    "papermill": {
     "duration": 2.476456,
     "end_time": "2021-04-14T12:11:25.469238",
     "exception": false,
     "start_time": "2021-04-14T12:11:22.992782",
     "status": "completed"
    },
    "tags": []
   },
   "outputs": [],
   "source": [
    "# 훈련 데이터 (피처)\n",
    "X_train = all_data[all_data['날짜ID'] < 33]\n",
    "X_train = X_train.drop(['총 판매량'], axis=1)\n",
    "# 검증 데이터 (피처)\n",
    "X_valid = all_data[all_data['날짜ID'] == 33]\n",
    "X_valid = X_valid.drop(['총 판매량'], axis=1)\n",
    "# 테스트 데이터 (피처)\n",
    "X_test = all_data[all_data['날짜ID'] == 34]\n",
    "X_test = X_test.drop(['총 판매량'], axis=1)\n",
    "\n",
    "# 훈련 데이터 (타깃 값)\n",
    "y_train = all_data[all_data['날짜ID'] < 33]['총 판매량']\n",
    "# 검증 데이터 (타깃 값)\n",
    "y_valid = all_data[all_data['날짜ID'] == 33]['총 판매량']\n",
    "\n",
    "# 가비지 컬렉션\n",
    "del all_data\n",
    "gc.collect();"
   ]
  },
  {
   "cell_type": "markdown",
   "metadata": {
    "papermill": {
     "duration": 0.052285,
     "end_time": "2021-04-14T12:11:25.572961",
     "exception": false,
     "start_time": "2021-04-14T12:11:25.520676",
     "status": "completed"
    },
    "tags": []
   },
   "source": [
    "## 모델 훈련 및 제출"
   ]
  },
  {
   "cell_type": "code",
   "execution_count": 51,
   "metadata": {
    "execution": {
     "iopub.execute_input": "2021-04-14T12:11:25.692729Z",
     "iopub.status.busy": "2021-04-14T12:11:25.691976Z",
     "iopub.status.idle": "2021-04-14T12:27:44.233955Z",
     "shell.execute_reply": "2021-04-14T12:27:44.233372Z"
    },
    "papermill": {
     "duration": 978.605387,
     "end_time": "2021-04-14T12:27:44.234149",
     "exception": false,
     "start_time": "2021-04-14T12:11:25.628762",
     "status": "completed"
    },
    "tags": []
   },
   "outputs": [
    {
     "data": {
      "text/html": [
       "<style type='text/css'>\n",
       ".datatable table.frame { margin-bottom: 0; }\n",
       ".datatable table.frame thead { border-bottom: none; }\n",
       ".datatable table.frame tr.coltypes td {  color: #FFFFFF;  line-height: 6px;  padding: 0 0.5em;}\n",
       ".datatable .bool    { background: #DDDD99; }\n",
       ".datatable .object  { background: #565656; }\n",
       ".datatable .int     { background: #5D9E5D; }\n",
       ".datatable .float   { background: #4040CC; }\n",
       ".datatable .str     { background: #CC4040; }\n",
       ".datatable .row_index {  background: var(--jp-border-color3);  border-right: 1px solid var(--jp-border-color0);  color: var(--jp-ui-font-color3);  font-size: 9px;}\n",
       ".datatable .frame tr.coltypes .row_index {  background: var(--jp-border-color0);}\n",
       ".datatable th:nth-child(2) { padding-left: 12px; }\n",
       ".datatable .hellipsis {  color: var(--jp-cell-editor-border-color);}\n",
       ".datatable .vellipsis {  background: var(--jp-layout-color0);  color: var(--jp-cell-editor-border-color);}\n",
       ".datatable .na {  color: var(--jp-cell-editor-border-color);  font-size: 80%;}\n",
       ".datatable .footer { font-size: 9px; }\n",
       ".datatable .frame_dimensions {  background: var(--jp-border-color3);  border-top: 1px solid var(--jp-border-color0);  color: var(--jp-ui-font-color3);  display: inline-block;  opacity: 0.6;  padding: 1px 10px 1px 5px;}\n",
       "</style>\n"
      ],
      "text/plain": [
       "<IPython.core.display.HTML object>"
      ]
     },
     "metadata": {},
     "output_type": "display_data"
    },
    {
     "name": "stdout",
     "output_type": "stream",
     "text": [
      "[LightGBM] [Warning] Find whitespaces in feature_names, replace with underlines\n",
      "[LightGBM] [Info] Total Bins 3953\n",
      "[LightGBM] [Info] Number of data points in the train set: 7593847, number of used features: 30\n",
      "[LightGBM] [Warning] Find whitespaces in feature_names, replace with underlines\n",
      "[LightGBM] [Info] Start training from score 0.307756\n",
      "Training until validation scores don't improve for 150 rounds\n",
      "[100]\ttraining's rmse: 1.01924\tvalid_1's rmse: 0.913885\n",
      "[200]\ttraining's rmse: 0.914524\tvalid_1's rmse: 0.841624\n",
      "[300]\ttraining's rmse: 0.862191\tvalid_1's rmse: 0.812862\n",
      "[400]\ttraining's rmse: 0.83338\tvalid_1's rmse: 0.801447\n",
      "[500]\ttraining's rmse: 0.814076\tvalid_1's rmse: 0.797531\n",
      "[600]\ttraining's rmse: 0.800453\tvalid_1's rmse: 0.79689\n",
      "[700]\ttraining's rmse: 0.790068\tvalid_1's rmse: 0.796336\n",
      "[800]\ttraining's rmse: 0.781746\tvalid_1's rmse: 0.795874\n",
      "[900]\ttraining's rmse: 0.774625\tvalid_1's rmse: 0.795648\n",
      "[1000]\ttraining's rmse: 0.768645\tvalid_1's rmse: 0.795829\n",
      "Early stopping, best iteration is:\n",
      "[897]\ttraining's rmse: 0.774772\tvalid_1's rmse: 0.795568\n"
     ]
    }
   ],
   "source": [
    "import lightgbm as lgb\n",
    "\n",
    "# lgb 하이퍼 파라미터\n",
    "params = {'metric': 'rmse',\n",
    "          'num_leaves': 255,\n",
    "          'learning_rate': 0.005,\n",
    "          'feature_fraction': 0.75,\n",
    "          'bagging_fraction': 0.75,\n",
    "          'bagging_freq': 5,\n",
    "          'force_col_wise' : True,\n",
    "          'random_state': 10}\n",
    "\n",
    "cat_features = ['상점ID', '도시', '상품범주ID', '범주분류', '월']\n",
    "\n",
    "# lgb 훈련 및 검증 데이터세트\n",
    "dtrain = lgb.Dataset(X_train, y_train)\n",
    "dvalid = lgb.Dataset(X_valid, y_valid)\n",
    " \n",
    "# LightGBM 모델 훈련\n",
    "lgb_model = lgb.train(params=params,\n",
    "                      train_set=dtrain,\n",
    "                      num_boost_round=1500,\n",
    "                      valid_sets=(dtrain, dvalid),\n",
    "                      early_stopping_rounds=150,\n",
    "                      categorical_feature=cat_features,\n",
    "                      verbose_eval=100)      "
   ]
  },
  {
   "cell_type": "code",
   "execution_count": 52,
   "metadata": {
    "execution": {
     "iopub.execute_input": "2021-04-14T12:27:44.354163Z",
     "iopub.status.busy": "2021-04-14T12:27:44.352691Z",
     "iopub.status.idle": "2021-04-14T12:27:57.269297Z",
     "shell.execute_reply": "2021-04-14T12:27:57.267875Z"
    },
    "papermill": {
     "duration": 12.979356,
     "end_time": "2021-04-14T12:27:57.269493",
     "exception": false,
     "start_time": "2021-04-14T12:27:44.290137",
     "status": "completed"
    },
    "tags": []
   },
   "outputs": [],
   "source": [
    "preds = lgb_model.predict(X_test).clip(0,20)\n",
    "\n",
    "submission['item_cnt_month'] = preds\n",
    "submission.to_csv('submission.csv', index=False)"
   ]
  },
  {
   "cell_type": "code",
   "execution_count": 53,
   "metadata": {
    "execution": {
     "iopub.execute_input": "2021-04-14T12:27:57.391081Z",
     "iopub.status.busy": "2021-04-14T12:27:57.390230Z",
     "iopub.status.idle": "2021-04-14T12:27:57.487305Z",
     "shell.execute_reply": "2021-04-14T12:27:57.486634Z"
    },
    "papermill": {
     "duration": 0.161691,
     "end_time": "2021-04-14T12:27:57.487456",
     "exception": false,
     "start_time": "2021-04-14T12:27:57.325765",
     "status": "completed"
    },
    "tags": []
   },
   "outputs": [],
   "source": [
    "del X_train, y_train, X_valid, y_valid, X_test, lgb_model, dtrain, dvalid\n",
    "gc.collect();"
   ]
  }
 ],
 "metadata": {
  "kernelspec": {
   "display_name": "Python 3",
   "language": "python",
   "name": "python3"
  },
  "language_info": {
   "codemirror_mode": {
    "name": "ipython",
    "version": 3
   },
   "file_extension": ".py",
   "mimetype": "text/x-python",
   "name": "python",
   "nbconvert_exporter": "python",
   "pygments_lexer": "ipython3",
   "version": "3.7.9"
  },
  "papermill": {
   "default_parameters": {},
   "duration": 1216.731783,
   "end_time": "2021-04-14T12:27:58.255711",
   "environment_variables": {},
   "exception": null,
   "input_path": "__notebook__.ipynb",
   "output_path": "__notebook__.ipynb",
   "parameters": {},
   "start_time": "2021-04-14T12:07:41.523928",
   "version": "2.2.2"
  }
 },
 "nbformat": 4,
 "nbformat_minor": 4
}
