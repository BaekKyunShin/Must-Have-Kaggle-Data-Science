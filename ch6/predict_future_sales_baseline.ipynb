{
 "cells": [
  {
   "cell_type": "markdown",
   "metadata": {
    "papermill": {
     "duration": 0.020038,
     "end_time": "2021-03-28T10:44:58.557692",
     "exception": false,
     "start_time": "2021-03-28T10:44:58.537654",
     "status": "completed"
    },
    "tags": []
   },
   "source": [
    "# 향후 판매량 예측 경진대회 베이스라인 모델\n",
    "- [향후 판매량 예측 경진대회 링크](https://www.kaggle.com/c/competitive-data-science-predict-future-sales)\n",
    "- [베인스라인 코드 참고 링크](https://www.kaggle.com/dkomyagin/predict-future-sales-lightgbm-framework)"
   ]
  },
  {
   "cell_type": "code",
   "execution_count": 1,
   "metadata": {
    "execution": {
     "iopub.execute_input": "2021-03-28T10:44:58.603153Z",
     "iopub.status.busy": "2021-03-28T10:44:58.602161Z",
     "iopub.status.idle": "2021-03-28T10:45:01.783024Z",
     "shell.execute_reply": "2021-03-28T10:45:01.784069Z"
    },
    "papermill": {
     "duration": 3.208529,
     "end_time": "2021-03-28T10:45:01.784534",
     "exception": false,
     "start_time": "2021-03-28T10:44:58.576005",
     "status": "completed"
    },
    "tags": []
   },
   "outputs": [],
   "source": [
    "# ch6/predict_future_sales_baseline.ipynb\n",
    "\n",
    "import numpy as np\n",
    "import pandas as pd\n",
    "import warnings\n",
    "\n",
    "warnings.filterwarnings(action='ignore') # 경고 문구 생략\n",
    "\n",
    "# 데이터 경로\n",
    "data_path = '/kaggle/input/competitive-data-science-predict-future-sales/'\n",
    "\n",
    "sales_train = pd.read_csv(data_path + 'sales_train.csv')\n",
    "shops = pd.read_csv(data_path + 'shops.csv')\n",
    "items = pd.read_csv(data_path + 'items.csv')\n",
    "item_categories = pd.read_csv(data_path + 'item_categories.csv')\n",
    "test = pd.read_csv(data_path + 'test.csv')\n",
    "submission = pd.read_csv(data_path + 'sample_submission.csv')"
   ]
  },
  {
   "cell_type": "markdown",
   "metadata": {
    "papermill": {
     "duration": 0.018293,
     "end_time": "2021-03-28T10:45:01.822690",
     "exception": false,
     "start_time": "2021-03-28T10:45:01.804397",
     "status": "completed"
    },
    "tags": []
   },
   "source": [
    "## 피처명 한글로 변경"
   ]
  },
  {
   "cell_type": "code",
   "execution_count": 2,
   "metadata": {
    "execution": {
     "iopub.execute_input": "2021-03-28T10:45:01.868091Z",
     "iopub.status.busy": "2021-03-28T10:45:01.866541Z",
     "iopub.status.idle": "2021-03-28T10:45:01.979699Z",
     "shell.execute_reply": "2021-03-28T10:45:01.979040Z"
    },
    "papermill": {
     "duration": 0.138481,
     "end_time": "2021-03-28T10:45:01.979848",
     "exception": false,
     "start_time": "2021-03-28T10:45:01.841367",
     "status": "completed"
    },
    "tags": []
   },
   "outputs": [
    {
     "data": {
      "text/html": [
       "<div>\n",
       "<style scoped>\n",
       "    .dataframe tbody tr th:only-of-type {\n",
       "        vertical-align: middle;\n",
       "    }\n",
       "\n",
       "    .dataframe tbody tr th {\n",
       "        vertical-align: top;\n",
       "    }\n",
       "\n",
       "    .dataframe thead th {\n",
       "        text-align: right;\n",
       "    }\n",
       "</style>\n",
       "<table border=\"1\" class=\"dataframe\">\n",
       "  <thead>\n",
       "    <tr style=\"text-align: right;\">\n",
       "      <th></th>\n",
       "      <th>날짜</th>\n",
       "      <th>날짜ID</th>\n",
       "      <th>상점ID</th>\n",
       "      <th>상품ID</th>\n",
       "      <th>판매가</th>\n",
       "      <th>판매량</th>\n",
       "    </tr>\n",
       "  </thead>\n",
       "  <tbody>\n",
       "    <tr>\n",
       "      <th>0</th>\n",
       "      <td>02.01.2013</td>\n",
       "      <td>0</td>\n",
       "      <td>59</td>\n",
       "      <td>22154</td>\n",
       "      <td>999.00</td>\n",
       "      <td>1.0</td>\n",
       "    </tr>\n",
       "    <tr>\n",
       "      <th>1</th>\n",
       "      <td>03.01.2013</td>\n",
       "      <td>0</td>\n",
       "      <td>25</td>\n",
       "      <td>2552</td>\n",
       "      <td>899.00</td>\n",
       "      <td>1.0</td>\n",
       "    </tr>\n",
       "    <tr>\n",
       "      <th>2</th>\n",
       "      <td>05.01.2013</td>\n",
       "      <td>0</td>\n",
       "      <td>25</td>\n",
       "      <td>2552</td>\n",
       "      <td>899.00</td>\n",
       "      <td>-1.0</td>\n",
       "    </tr>\n",
       "    <tr>\n",
       "      <th>3</th>\n",
       "      <td>06.01.2013</td>\n",
       "      <td>0</td>\n",
       "      <td>25</td>\n",
       "      <td>2554</td>\n",
       "      <td>1709.05</td>\n",
       "      <td>1.0</td>\n",
       "    </tr>\n",
       "    <tr>\n",
       "      <th>4</th>\n",
       "      <td>15.01.2013</td>\n",
       "      <td>0</td>\n",
       "      <td>25</td>\n",
       "      <td>2555</td>\n",
       "      <td>1099.00</td>\n",
       "      <td>1.0</td>\n",
       "    </tr>\n",
       "  </tbody>\n",
       "</table>\n",
       "</div>"
      ],
      "text/plain": [
       "           날짜  날짜ID  상점ID   상품ID      판매가  판매량\n",
       "0  02.01.2013     0    59  22154   999.00  1.0\n",
       "1  03.01.2013     0    25   2552   899.00  1.0\n",
       "2  05.01.2013     0    25   2552   899.00 -1.0\n",
       "3  06.01.2013     0    25   2554  1709.05  1.0\n",
       "4  15.01.2013     0    25   2555  1099.00  1.0"
      ]
     },
     "execution_count": 2,
     "metadata": {},
     "output_type": "execute_result"
    }
   ],
   "source": [
    "sales_train = sales_train.rename(columns={'date': '날짜', \n",
    "                                          'date_block_num': '날짜ID',\n",
    "                                          'shop_id': '상점ID',\n",
    "                                          'item_id': '상품ID',\n",
    "                                          'item_price': '판매가',\n",
    "                                          'item_cnt_day': '판매량'})\n",
    "\n",
    "sales_train.head()"
   ]
  },
  {
   "cell_type": "code",
   "execution_count": 3,
   "metadata": {
    "execution": {
     "iopub.execute_input": "2021-03-28T10:45:02.028571Z",
     "iopub.status.busy": "2021-03-28T10:45:02.027876Z",
     "iopub.status.idle": "2021-03-28T10:45:02.032834Z",
     "shell.execute_reply": "2021-03-28T10:45:02.032315Z"
    },
    "papermill": {
     "duration": 0.033781,
     "end_time": "2021-03-28T10:45:02.033080",
     "exception": false,
     "start_time": "2021-03-28T10:45:01.999299",
     "status": "completed"
    },
    "tags": []
   },
   "outputs": [
    {
     "data": {
      "text/html": [
       "<div>\n",
       "<style scoped>\n",
       "    .dataframe tbody tr th:only-of-type {\n",
       "        vertical-align: middle;\n",
       "    }\n",
       "\n",
       "    .dataframe tbody tr th {\n",
       "        vertical-align: top;\n",
       "    }\n",
       "\n",
       "    .dataframe thead th {\n",
       "        text-align: right;\n",
       "    }\n",
       "</style>\n",
       "<table border=\"1\" class=\"dataframe\">\n",
       "  <thead>\n",
       "    <tr style=\"text-align: right;\">\n",
       "      <th></th>\n",
       "      <th>상점명</th>\n",
       "      <th>상점ID</th>\n",
       "    </tr>\n",
       "  </thead>\n",
       "  <tbody>\n",
       "    <tr>\n",
       "      <th>0</th>\n",
       "      <td>!Якутск Орджоникидзе, 56 фран</td>\n",
       "      <td>0</td>\n",
       "    </tr>\n",
       "    <tr>\n",
       "      <th>1</th>\n",
       "      <td>!Якутск ТЦ \"Центральный\" фран</td>\n",
       "      <td>1</td>\n",
       "    </tr>\n",
       "    <tr>\n",
       "      <th>2</th>\n",
       "      <td>Адыгея ТЦ \"Мега\"</td>\n",
       "      <td>2</td>\n",
       "    </tr>\n",
       "    <tr>\n",
       "      <th>3</th>\n",
       "      <td>Балашиха ТРК \"Октябрь-Киномир\"</td>\n",
       "      <td>3</td>\n",
       "    </tr>\n",
       "    <tr>\n",
       "      <th>4</th>\n",
       "      <td>Волжский ТЦ \"Волга Молл\"</td>\n",
       "      <td>4</td>\n",
       "    </tr>\n",
       "  </tbody>\n",
       "</table>\n",
       "</div>"
      ],
      "text/plain": [
       "                              상점명  상점ID\n",
       "0   !Якутск Орджоникидзе, 56 фран     0\n",
       "1   !Якутск ТЦ \"Центральный\" фран     1\n",
       "2                Адыгея ТЦ \"Мега\"     2\n",
       "3  Балашиха ТРК \"Октябрь-Киномир\"     3\n",
       "4        Волжский ТЦ \"Волга Молл\"     4"
      ]
     },
     "execution_count": 3,
     "metadata": {},
     "output_type": "execute_result"
    }
   ],
   "source": [
    "shops = shops.rename(columns={'shop_name': '상점명',\n",
    "                              'shop_id': '상점ID'})\n",
    "\n",
    "shops.head()"
   ]
  },
  {
   "cell_type": "code",
   "execution_count": 4,
   "metadata": {
    "execution": {
     "iopub.execute_input": "2021-03-28T10:45:02.078135Z",
     "iopub.status.busy": "2021-03-28T10:45:02.077449Z",
     "iopub.status.idle": "2021-03-28T10:45:02.088926Z",
     "shell.execute_reply": "2021-03-28T10:45:02.089462Z"
    },
    "papermill": {
     "duration": 0.036906,
     "end_time": "2021-03-28T10:45:02.089721",
     "exception": false,
     "start_time": "2021-03-28T10:45:02.052815",
     "status": "completed"
    },
    "tags": []
   },
   "outputs": [
    {
     "data": {
      "text/html": [
       "<div>\n",
       "<style scoped>\n",
       "    .dataframe tbody tr th:only-of-type {\n",
       "        vertical-align: middle;\n",
       "    }\n",
       "\n",
       "    .dataframe tbody tr th {\n",
       "        vertical-align: top;\n",
       "    }\n",
       "\n",
       "    .dataframe thead th {\n",
       "        text-align: right;\n",
       "    }\n",
       "</style>\n",
       "<table border=\"1\" class=\"dataframe\">\n",
       "  <thead>\n",
       "    <tr style=\"text-align: right;\">\n",
       "      <th></th>\n",
       "      <th>상품명</th>\n",
       "      <th>상품ID</th>\n",
       "      <th>상품범주ID</th>\n",
       "    </tr>\n",
       "  </thead>\n",
       "  <tbody>\n",
       "    <tr>\n",
       "      <th>0</th>\n",
       "      <td>! ВО ВЛАСТИ НАВАЖДЕНИЯ (ПЛАСТ.)         D</td>\n",
       "      <td>0</td>\n",
       "      <td>40</td>\n",
       "    </tr>\n",
       "    <tr>\n",
       "      <th>1</th>\n",
       "      <td>!ABBYY FineReader 12 Professional Edition Full...</td>\n",
       "      <td>1</td>\n",
       "      <td>76</td>\n",
       "    </tr>\n",
       "    <tr>\n",
       "      <th>2</th>\n",
       "      <td>***В ЛУЧАХ СЛАВЫ   (UNV)                    D</td>\n",
       "      <td>2</td>\n",
       "      <td>40</td>\n",
       "    </tr>\n",
       "    <tr>\n",
       "      <th>3</th>\n",
       "      <td>***ГОЛУБАЯ ВОЛНА  (Univ)                      D</td>\n",
       "      <td>3</td>\n",
       "      <td>40</td>\n",
       "    </tr>\n",
       "    <tr>\n",
       "      <th>4</th>\n",
       "      <td>***КОРОБКА (СТЕКЛО)                       D</td>\n",
       "      <td>4</td>\n",
       "      <td>40</td>\n",
       "    </tr>\n",
       "  </tbody>\n",
       "</table>\n",
       "</div>"
      ],
      "text/plain": [
       "                                                 상품명  상품ID  상품범주ID\n",
       "0          ! ВО ВЛАСТИ НАВАЖДЕНИЯ (ПЛАСТ.)         D     0      40\n",
       "1  !ABBYY FineReader 12 Professional Edition Full...     1      76\n",
       "2      ***В ЛУЧАХ СЛАВЫ   (UNV)                    D     2      40\n",
       "3    ***ГОЛУБАЯ ВОЛНА  (Univ)                      D     3      40\n",
       "4        ***КОРОБКА (СТЕКЛО)                       D     4      40"
      ]
     },
     "execution_count": 4,
     "metadata": {},
     "output_type": "execute_result"
    }
   ],
   "source": [
    "items = items.rename(columns={'item_name': '상품명',\n",
    "                              'item_id': '상품ID',\n",
    "                              'item_category_id': '상품범주ID'})\n",
    "\n",
    "items.head()"
   ]
  },
  {
   "cell_type": "code",
   "execution_count": 5,
   "metadata": {
    "execution": {
     "iopub.execute_input": "2021-03-28T10:45:02.143267Z",
     "iopub.status.busy": "2021-03-28T10:45:02.142205Z",
     "iopub.status.idle": "2021-03-28T10:45:02.146791Z",
     "shell.execute_reply": "2021-03-28T10:45:02.146231Z"
    },
    "papermill": {
     "duration": 0.035155,
     "end_time": "2021-03-28T10:45:02.146958",
     "exception": false,
     "start_time": "2021-03-28T10:45:02.111803",
     "status": "completed"
    },
    "tags": []
   },
   "outputs": [
    {
     "data": {
      "text/html": [
       "<div>\n",
       "<style scoped>\n",
       "    .dataframe tbody tr th:only-of-type {\n",
       "        vertical-align: middle;\n",
       "    }\n",
       "\n",
       "    .dataframe tbody tr th {\n",
       "        vertical-align: top;\n",
       "    }\n",
       "\n",
       "    .dataframe thead th {\n",
       "        text-align: right;\n",
       "    }\n",
       "</style>\n",
       "<table border=\"1\" class=\"dataframe\">\n",
       "  <thead>\n",
       "    <tr style=\"text-align: right;\">\n",
       "      <th></th>\n",
       "      <th>상품범주명</th>\n",
       "      <th>상품범주ID</th>\n",
       "    </tr>\n",
       "  </thead>\n",
       "  <tbody>\n",
       "    <tr>\n",
       "      <th>0</th>\n",
       "      <td>PC - Гарнитуры/Наушники</td>\n",
       "      <td>0</td>\n",
       "    </tr>\n",
       "    <tr>\n",
       "      <th>1</th>\n",
       "      <td>Аксессуары - PS2</td>\n",
       "      <td>1</td>\n",
       "    </tr>\n",
       "    <tr>\n",
       "      <th>2</th>\n",
       "      <td>Аксессуары - PS3</td>\n",
       "      <td>2</td>\n",
       "    </tr>\n",
       "    <tr>\n",
       "      <th>3</th>\n",
       "      <td>Аксессуары - PS4</td>\n",
       "      <td>3</td>\n",
       "    </tr>\n",
       "    <tr>\n",
       "      <th>4</th>\n",
       "      <td>Аксессуары - PSP</td>\n",
       "      <td>4</td>\n",
       "    </tr>\n",
       "  </tbody>\n",
       "</table>\n",
       "</div>"
      ],
      "text/plain": [
       "                     상품범주명  상품범주ID\n",
       "0  PC - Гарнитуры/Наушники       0\n",
       "1         Аксессуары - PS2       1\n",
       "2         Аксессуары - PS3       2\n",
       "3         Аксессуары - PS4       3\n",
       "4         Аксессуары - PSP       4"
      ]
     },
     "execution_count": 5,
     "metadata": {},
     "output_type": "execute_result"
    }
   ],
   "source": [
    "item_categories = item_categories.rename(columns=\n",
    "                                         {'item_category_name': '상품범주명',\n",
    "                                          'item_category_id': '상품범주ID'})\n",
    "\n",
    "item_categories.head()"
   ]
  },
  {
   "cell_type": "code",
   "execution_count": 6,
   "metadata": {
    "execution": {
     "iopub.execute_input": "2021-03-28T10:45:02.195896Z",
     "iopub.status.busy": "2021-03-28T10:45:02.194773Z",
     "iopub.status.idle": "2021-03-28T10:45:02.206267Z",
     "shell.execute_reply": "2021-03-28T10:45:02.205573Z"
    },
    "papermill": {
     "duration": 0.038007,
     "end_time": "2021-03-28T10:45:02.206420",
     "exception": false,
     "start_time": "2021-03-28T10:45:02.168413",
     "status": "completed"
    },
    "tags": []
   },
   "outputs": [
    {
     "data": {
      "text/html": [
       "<div>\n",
       "<style scoped>\n",
       "    .dataframe tbody tr th:only-of-type {\n",
       "        vertical-align: middle;\n",
       "    }\n",
       "\n",
       "    .dataframe tbody tr th {\n",
       "        vertical-align: top;\n",
       "    }\n",
       "\n",
       "    .dataframe thead th {\n",
       "        text-align: right;\n",
       "    }\n",
       "</style>\n",
       "<table border=\"1\" class=\"dataframe\">\n",
       "  <thead>\n",
       "    <tr style=\"text-align: right;\">\n",
       "      <th></th>\n",
       "      <th>ID</th>\n",
       "      <th>상점ID</th>\n",
       "      <th>상품ID</th>\n",
       "    </tr>\n",
       "  </thead>\n",
       "  <tbody>\n",
       "    <tr>\n",
       "      <th>0</th>\n",
       "      <td>0</td>\n",
       "      <td>5</td>\n",
       "      <td>5037</td>\n",
       "    </tr>\n",
       "    <tr>\n",
       "      <th>1</th>\n",
       "      <td>1</td>\n",
       "      <td>5</td>\n",
       "      <td>5320</td>\n",
       "    </tr>\n",
       "    <tr>\n",
       "      <th>2</th>\n",
       "      <td>2</td>\n",
       "      <td>5</td>\n",
       "      <td>5233</td>\n",
       "    </tr>\n",
       "    <tr>\n",
       "      <th>3</th>\n",
       "      <td>3</td>\n",
       "      <td>5</td>\n",
       "      <td>5232</td>\n",
       "    </tr>\n",
       "    <tr>\n",
       "      <th>4</th>\n",
       "      <td>4</td>\n",
       "      <td>5</td>\n",
       "      <td>5268</td>\n",
       "    </tr>\n",
       "  </tbody>\n",
       "</table>\n",
       "</div>"
      ],
      "text/plain": [
       "   ID  상점ID  상품ID\n",
       "0   0     5  5037\n",
       "1   1     5  5320\n",
       "2   2     5  5233\n",
       "3   3     5  5232\n",
       "4   4     5  5268"
      ]
     },
     "execution_count": 6,
     "metadata": {},
     "output_type": "execute_result"
    }
   ],
   "source": [
    "test = test.rename(columns={'shop_id': '상점ID',\n",
    "                            'item_id': '상품ID'})\n",
    "\n",
    "test.head()"
   ]
  },
  {
   "cell_type": "markdown",
   "metadata": {
    "papermill": {
     "duration": 0.025943,
     "end_time": "2021-03-28T10:45:02.255502",
     "exception": false,
     "start_time": "2021-03-28T10:45:02.229559",
     "status": "completed"
    },
    "tags": []
   },
   "source": [
    "## 데이터 형변환"
   ]
  },
  {
   "cell_type": "code",
   "execution_count": 7,
   "metadata": {
    "execution": {
     "iopub.execute_input": "2021-03-28T10:45:02.332071Z",
     "iopub.status.busy": "2021-03-28T10:45:02.331189Z",
     "iopub.status.idle": "2021-03-28T10:45:02.336152Z",
     "shell.execute_reply": "2021-03-28T10:45:02.335426Z"
    },
    "papermill": {
     "duration": 0.052108,
     "end_time": "2021-03-28T10:45:02.336307",
     "exception": false,
     "start_time": "2021-03-28T10:45:02.284199",
     "status": "completed"
    },
    "tags": []
   },
   "outputs": [],
   "source": [
    "def downcast(df, verbose=True):\n",
    "    start_mem = df.memory_usage().sum() / 1024**2\n",
    "    for col in df.columns:\n",
    "        dtype_name = df[col].dtype.name\n",
    "        if dtype_name == 'object':\n",
    "            pass\n",
    "        elif dtype_name == 'bool':\n",
    "            df[col] = df[col].astype('int8')\n",
    "        elif dtype_name.startswith('int') or (df[col].round() == df[col]).all():\n",
    "            df[col] = pd.to_numeric(df[col], downcast='integer')\n",
    "        else:\n",
    "            df[col] = pd.to_numeric(df[col], downcast='float')\n",
    "    end_mem = df.memory_usage().sum() / 1024**2\n",
    "    if verbose:\n",
    "        print('{:.1f}% 압축됨'.format(100 * (start_mem - end_mem) / start_mem))\n",
    "    \n",
    "    return df"
   ]
  },
  {
   "cell_type": "code",
   "execution_count": 8,
   "metadata": {
    "execution": {
     "iopub.execute_input": "2021-03-28T10:45:02.408592Z",
     "iopub.status.busy": "2021-03-28T10:45:02.407763Z",
     "iopub.status.idle": "2021-03-28T10:45:02.808458Z",
     "shell.execute_reply": "2021-03-28T10:45:02.807630Z"
    },
    "papermill": {
     "duration": 0.445478,
     "end_time": "2021-03-28T10:45:02.808632",
     "exception": false,
     "start_time": "2021-03-28T10:45:02.363154",
     "status": "completed"
    },
    "tags": []
   },
   "outputs": [
    {
     "name": "stdout",
     "output_type": "stream",
     "text": [
      "62.5% 압축됨\n",
      "38.6% 압축됨\n",
      "54.2% 압축됨\n",
      "39.9% 압축됨\n",
      "70.8% 압축됨\n"
     ]
    }
   ],
   "source": [
    "all_df = [sales_train, shops, items, item_categories, test]\n",
    "for df in all_df:\n",
    "    df = downcast(df)"
   ]
  },
  {
   "cell_type": "markdown",
   "metadata": {
    "papermill": {
     "duration": 0.02243,
     "end_time": "2021-03-28T10:45:02.854922",
     "exception": false,
     "start_time": "2021-03-28T10:45:02.832492",
     "status": "completed"
    },
    "tags": []
   },
   "source": [
    "## 데이터 준비"
   ]
  },
  {
   "cell_type": "markdown",
   "metadata": {
    "papermill": {
     "duration": 0.021559,
     "end_time": "2021-03-28T10:45:02.898474",
     "exception": false,
     "start_time": "2021-03-28T10:45:02.876915",
     "status": "completed"
    },
    "tags": []
   },
   "source": [
    "### 데이터 조합 생성"
   ]
  },
  {
   "cell_type": "code",
   "execution_count": 9,
   "metadata": {
    "execution": {
     "iopub.execute_input": "2021-03-28T10:45:02.951395Z",
     "iopub.status.busy": "2021-03-28T10:45:02.950196Z",
     "iopub.status.idle": "2021-03-28T10:45:24.912615Z",
     "shell.execute_reply": "2021-03-28T10:45:24.911823Z"
    },
    "papermill": {
     "duration": 21.992259,
     "end_time": "2021-03-28T10:45:24.912767",
     "exception": false,
     "start_time": "2021-03-28T10:45:02.920508",
     "status": "completed"
    },
    "tags": []
   },
   "outputs": [
    {
     "data": {
      "text/html": [
       "<div>\n",
       "<style scoped>\n",
       "    .dataframe tbody tr th:only-of-type {\n",
       "        vertical-align: middle;\n",
       "    }\n",
       "\n",
       "    .dataframe tbody tr th {\n",
       "        vertical-align: top;\n",
       "    }\n",
       "\n",
       "    .dataframe thead th {\n",
       "        text-align: right;\n",
       "    }\n",
       "</style>\n",
       "<table border=\"1\" class=\"dataframe\">\n",
       "  <thead>\n",
       "    <tr style=\"text-align: right;\">\n",
       "      <th></th>\n",
       "      <th>날짜ID</th>\n",
       "      <th>상점ID</th>\n",
       "      <th>상품ID</th>\n",
       "    </tr>\n",
       "  </thead>\n",
       "  <tbody>\n",
       "    <tr>\n",
       "      <th>0</th>\n",
       "      <td>0</td>\n",
       "      <td>59</td>\n",
       "      <td>22154</td>\n",
       "    </tr>\n",
       "    <tr>\n",
       "      <th>1</th>\n",
       "      <td>0</td>\n",
       "      <td>59</td>\n",
       "      <td>2552</td>\n",
       "    </tr>\n",
       "    <tr>\n",
       "      <th>2</th>\n",
       "      <td>0</td>\n",
       "      <td>59</td>\n",
       "      <td>2554</td>\n",
       "    </tr>\n",
       "    <tr>\n",
       "      <th>3</th>\n",
       "      <td>0</td>\n",
       "      <td>59</td>\n",
       "      <td>2555</td>\n",
       "    </tr>\n",
       "    <tr>\n",
       "      <th>4</th>\n",
       "      <td>0</td>\n",
       "      <td>59</td>\n",
       "      <td>2564</td>\n",
       "    </tr>\n",
       "    <tr>\n",
       "      <th>...</th>\n",
       "      <td>...</td>\n",
       "      <td>...</td>\n",
       "      <td>...</td>\n",
       "    </tr>\n",
       "    <tr>\n",
       "      <th>10913845</th>\n",
       "      <td>33</td>\n",
       "      <td>21</td>\n",
       "      <td>7635</td>\n",
       "    </tr>\n",
       "    <tr>\n",
       "      <th>10913846</th>\n",
       "      <td>33</td>\n",
       "      <td>21</td>\n",
       "      <td>7638</td>\n",
       "    </tr>\n",
       "    <tr>\n",
       "      <th>10913847</th>\n",
       "      <td>33</td>\n",
       "      <td>21</td>\n",
       "      <td>7640</td>\n",
       "    </tr>\n",
       "    <tr>\n",
       "      <th>10913848</th>\n",
       "      <td>33</td>\n",
       "      <td>21</td>\n",
       "      <td>7632</td>\n",
       "    </tr>\n",
       "    <tr>\n",
       "      <th>10913849</th>\n",
       "      <td>33</td>\n",
       "      <td>21</td>\n",
       "      <td>7440</td>\n",
       "    </tr>\n",
       "  </tbody>\n",
       "</table>\n",
       "<p>10913850 rows × 3 columns</p>\n",
       "</div>"
      ],
      "text/plain": [
       "          날짜ID  상점ID   상품ID\n",
       "0            0    59  22154\n",
       "1            0    59   2552\n",
       "2            0    59   2554\n",
       "3            0    59   2555\n",
       "4            0    59   2564\n",
       "...        ...   ...    ...\n",
       "10913845    33    21   7635\n",
       "10913846    33    21   7638\n",
       "10913847    33    21   7640\n",
       "10913848    33    21   7632\n",
       "10913849    33    21   7440\n",
       "\n",
       "[10913850 rows x 3 columns]"
      ]
     },
     "execution_count": 9,
     "metadata": {},
     "output_type": "execute_result"
    }
   ],
   "source": [
    "from itertools import product\n",
    "\n",
    "train = []\n",
    "# 날짜ID, 상점ID, 상품ID 조합 생성 ---①\n",
    "for i in sales_train['날짜ID'].unique():\n",
    "    all_shop = sales_train.loc[sales_train['날짜ID']==i, '상점ID'].unique()\n",
    "    all_item = sales_train.loc[sales_train['날짜ID']==i, '상품ID'].unique()\n",
    "    train.append(np.array(list(product([i], all_shop, all_item))))\n",
    "\n",
    "idx_features = ['날짜ID', '상점ID', '상품ID']\n",
    "# 리스트 타입인 train을 DataFrame 타입으로 변환 ---②\n",
    "train = pd.DataFrame(np.vstack(train), columns=idx_features)\n",
    "\n",
    "train"
   ]
  },
  {
   "cell_type": "markdown",
   "metadata": {
    "papermill": {
     "duration": 0.022218,
     "end_time": "2021-03-28T10:45:24.957754",
     "exception": false,
     "start_time": "2021-03-28T10:45:24.935536",
     "status": "completed"
    },
    "tags": []
   },
   "source": [
    "### 타깃 값을 월간 총 판매량으로 변경"
   ]
  },
  {
   "cell_type": "code",
   "execution_count": 10,
   "metadata": {
    "execution": {
     "iopub.execute_input": "2021-03-28T10:45:25.013235Z",
     "iopub.status.busy": "2021-03-28T10:45:25.012418Z",
     "iopub.status.idle": "2021-03-28T10:45:25.806187Z",
     "shell.execute_reply": "2021-03-28T10:45:25.806736Z"
    },
    "papermill": {
     "duration": 0.826651,
     "end_time": "2021-03-28T10:45:25.806940",
     "exception": false,
     "start_time": "2021-03-28T10:45:24.980289",
     "status": "completed"
    },
    "tags": []
   },
   "outputs": [
    {
     "data": {
      "text/html": [
       "<div>\n",
       "<style scoped>\n",
       "    .dataframe tbody tr th:only-of-type {\n",
       "        vertical-align: middle;\n",
       "    }\n",
       "\n",
       "    .dataframe tbody tr th {\n",
       "        vertical-align: top;\n",
       "    }\n",
       "\n",
       "    .dataframe thead th {\n",
       "        text-align: right;\n",
       "    }\n",
       "</style>\n",
       "<table border=\"1\" class=\"dataframe\">\n",
       "  <thead>\n",
       "    <tr style=\"text-align: right;\">\n",
       "      <th></th>\n",
       "      <th>날짜ID</th>\n",
       "      <th>상점ID</th>\n",
       "      <th>상품ID</th>\n",
       "      <th>총 판매량</th>\n",
       "    </tr>\n",
       "  </thead>\n",
       "  <tbody>\n",
       "    <tr>\n",
       "      <th>0</th>\n",
       "      <td>0</td>\n",
       "      <td>0</td>\n",
       "      <td>32</td>\n",
       "      <td>6</td>\n",
       "    </tr>\n",
       "    <tr>\n",
       "      <th>1</th>\n",
       "      <td>0</td>\n",
       "      <td>0</td>\n",
       "      <td>33</td>\n",
       "      <td>3</td>\n",
       "    </tr>\n",
       "    <tr>\n",
       "      <th>2</th>\n",
       "      <td>0</td>\n",
       "      <td>0</td>\n",
       "      <td>35</td>\n",
       "      <td>1</td>\n",
       "    </tr>\n",
       "    <tr>\n",
       "      <th>3</th>\n",
       "      <td>0</td>\n",
       "      <td>0</td>\n",
       "      <td>43</td>\n",
       "      <td>1</td>\n",
       "    </tr>\n",
       "    <tr>\n",
       "      <th>4</th>\n",
       "      <td>0</td>\n",
       "      <td>0</td>\n",
       "      <td>51</td>\n",
       "      <td>2</td>\n",
       "    </tr>\n",
       "    <tr>\n",
       "      <th>...</th>\n",
       "      <td>...</td>\n",
       "      <td>...</td>\n",
       "      <td>...</td>\n",
       "      <td>...</td>\n",
       "    </tr>\n",
       "    <tr>\n",
       "      <th>1609119</th>\n",
       "      <td>33</td>\n",
       "      <td>59</td>\n",
       "      <td>22087</td>\n",
       "      <td>6</td>\n",
       "    </tr>\n",
       "    <tr>\n",
       "      <th>1609120</th>\n",
       "      <td>33</td>\n",
       "      <td>59</td>\n",
       "      <td>22088</td>\n",
       "      <td>2</td>\n",
       "    </tr>\n",
       "    <tr>\n",
       "      <th>1609121</th>\n",
       "      <td>33</td>\n",
       "      <td>59</td>\n",
       "      <td>22091</td>\n",
       "      <td>1</td>\n",
       "    </tr>\n",
       "    <tr>\n",
       "      <th>1609122</th>\n",
       "      <td>33</td>\n",
       "      <td>59</td>\n",
       "      <td>22100</td>\n",
       "      <td>1</td>\n",
       "    </tr>\n",
       "    <tr>\n",
       "      <th>1609123</th>\n",
       "      <td>33</td>\n",
       "      <td>59</td>\n",
       "      <td>22102</td>\n",
       "      <td>1</td>\n",
       "    </tr>\n",
       "  </tbody>\n",
       "</table>\n",
       "<p>1609124 rows × 4 columns</p>\n",
       "</div>"
      ],
      "text/plain": [
       "         날짜ID  상점ID   상품ID  총 판매량\n",
       "0           0     0     32      6\n",
       "1           0     0     33      3\n",
       "2           0     0     35      1\n",
       "3           0     0     43      1\n",
       "4           0     0     51      2\n",
       "...       ...   ...    ...    ...\n",
       "1609119    33    59  22087      6\n",
       "1609120    33    59  22088      2\n",
       "1609121    33    59  22091      1\n",
       "1609122    33    59  22100      1\n",
       "1609123    33    59  22102      1\n",
       "\n",
       "[1609124 rows x 4 columns]"
      ]
     },
     "execution_count": 10,
     "metadata": {},
     "output_type": "execute_result"
    }
   ],
   "source": [
    "# idx_features를 기준으로 그룹화해 판매량 합 구하기 ---①\n",
    "group = sales_train.groupby(idx_features).agg({'판매량': 'sum'})\n",
    "# 인덱스 재설정\n",
    "group = group.reset_index()\n",
    "# 피처명을 '판매량'에서 '총 판매량'으로 변경\n",
    "group = group.rename(columns={'판매량': '총 판매량'})\n",
    "\n",
    "group"
   ]
  },
  {
   "cell_type": "code",
   "execution_count": 11,
   "metadata": {
    "execution": {
     "iopub.execute_input": "2021-03-28T10:45:25.863534Z",
     "iopub.status.busy": "2021-03-28T10:45:25.861206Z",
     "iopub.status.idle": "2021-03-28T10:45:30.146375Z",
     "shell.execute_reply": "2021-03-28T10:45:30.145740Z"
    },
    "papermill": {
     "duration": 4.316301,
     "end_time": "2021-03-28T10:45:30.146542",
     "exception": false,
     "start_time": "2021-03-28T10:45:25.830241",
     "status": "completed"
    },
    "tags": []
   },
   "outputs": [
    {
     "data": {
      "text/html": [
       "<div>\n",
       "<style scoped>\n",
       "    .dataframe tbody tr th:only-of-type {\n",
       "        vertical-align: middle;\n",
       "    }\n",
       "\n",
       "    .dataframe tbody tr th {\n",
       "        vertical-align: top;\n",
       "    }\n",
       "\n",
       "    .dataframe thead th {\n",
       "        text-align: right;\n",
       "    }\n",
       "</style>\n",
       "<table border=\"1\" class=\"dataframe\">\n",
       "  <thead>\n",
       "    <tr style=\"text-align: right;\">\n",
       "      <th></th>\n",
       "      <th>날짜ID</th>\n",
       "      <th>상점ID</th>\n",
       "      <th>상품ID</th>\n",
       "      <th>총 판매량</th>\n",
       "    </tr>\n",
       "  </thead>\n",
       "  <tbody>\n",
       "    <tr>\n",
       "      <th>0</th>\n",
       "      <td>0</td>\n",
       "      <td>59</td>\n",
       "      <td>22154</td>\n",
       "      <td>1.0</td>\n",
       "    </tr>\n",
       "    <tr>\n",
       "      <th>1</th>\n",
       "      <td>0</td>\n",
       "      <td>59</td>\n",
       "      <td>2552</td>\n",
       "      <td>NaN</td>\n",
       "    </tr>\n",
       "    <tr>\n",
       "      <th>2</th>\n",
       "      <td>0</td>\n",
       "      <td>59</td>\n",
       "      <td>2554</td>\n",
       "      <td>NaN</td>\n",
       "    </tr>\n",
       "    <tr>\n",
       "      <th>3</th>\n",
       "      <td>0</td>\n",
       "      <td>59</td>\n",
       "      <td>2555</td>\n",
       "      <td>NaN</td>\n",
       "    </tr>\n",
       "    <tr>\n",
       "      <th>4</th>\n",
       "      <td>0</td>\n",
       "      <td>59</td>\n",
       "      <td>2564</td>\n",
       "      <td>NaN</td>\n",
       "    </tr>\n",
       "    <tr>\n",
       "      <th>...</th>\n",
       "      <td>...</td>\n",
       "      <td>...</td>\n",
       "      <td>...</td>\n",
       "      <td>...</td>\n",
       "    </tr>\n",
       "    <tr>\n",
       "      <th>10913845</th>\n",
       "      <td>33</td>\n",
       "      <td>21</td>\n",
       "      <td>7635</td>\n",
       "      <td>NaN</td>\n",
       "    </tr>\n",
       "    <tr>\n",
       "      <th>10913846</th>\n",
       "      <td>33</td>\n",
       "      <td>21</td>\n",
       "      <td>7638</td>\n",
       "      <td>NaN</td>\n",
       "    </tr>\n",
       "    <tr>\n",
       "      <th>10913847</th>\n",
       "      <td>33</td>\n",
       "      <td>21</td>\n",
       "      <td>7640</td>\n",
       "      <td>NaN</td>\n",
       "    </tr>\n",
       "    <tr>\n",
       "      <th>10913848</th>\n",
       "      <td>33</td>\n",
       "      <td>21</td>\n",
       "      <td>7632</td>\n",
       "      <td>NaN</td>\n",
       "    </tr>\n",
       "    <tr>\n",
       "      <th>10913849</th>\n",
       "      <td>33</td>\n",
       "      <td>21</td>\n",
       "      <td>7440</td>\n",
       "      <td>NaN</td>\n",
       "    </tr>\n",
       "  </tbody>\n",
       "</table>\n",
       "<p>10913850 rows × 4 columns</p>\n",
       "</div>"
      ],
      "text/plain": [
       "          날짜ID  상점ID   상품ID  총 판매량\n",
       "0            0    59  22154    1.0\n",
       "1            0    59   2552    NaN\n",
       "2            0    59   2554    NaN\n",
       "3            0    59   2555    NaN\n",
       "4            0    59   2564    NaN\n",
       "...        ...   ...    ...    ...\n",
       "10913845    33    21   7635    NaN\n",
       "10913846    33    21   7638    NaN\n",
       "10913847    33    21   7640    NaN\n",
       "10913848    33    21   7632    NaN\n",
       "10913849    33    21   7440    NaN\n",
       "\n",
       "[10913850 rows x 4 columns]"
      ]
     },
     "execution_count": 11,
     "metadata": {},
     "output_type": "execute_result"
    }
   ],
   "source": [
    "# train과 group 병합하기\n",
    "train = train.merge(group, on=idx_features, how='left')\n",
    "\n",
    "train"
   ]
  },
  {
   "cell_type": "code",
   "execution_count": 12,
   "metadata": {
    "execution": {
     "iopub.execute_input": "2021-03-28T10:45:30.276778Z",
     "iopub.status.busy": "2021-03-28T10:45:30.276086Z",
     "iopub.status.idle": "2021-03-28T10:45:30.279703Z",
     "shell.execute_reply": "2021-03-28T10:45:30.279001Z"
    },
    "papermill": {
     "duration": 0.108165,
     "end_time": "2021-03-28T10:45:30.279882",
     "exception": false,
     "start_time": "2021-03-28T10:45:30.171717",
     "status": "completed"
    },
    "tags": []
   },
   "outputs": [],
   "source": [
    "import gc\n",
    "\n",
    "# group 가비지 컬렉션\n",
    "del group\n",
    "gc.collect();"
   ]
  },
  {
   "cell_type": "markdown",
   "metadata": {
    "papermill": {
     "duration": 0.023866,
     "end_time": "2021-03-28T10:45:30.327842",
     "exception": false,
     "start_time": "2021-03-28T10:45:30.303976",
     "status": "completed"
    },
    "tags": []
   },
   "source": [
    "### 테스트 데이터 이어붙이기"
   ]
  },
  {
   "cell_type": "code",
   "execution_count": 13,
   "metadata": {
    "execution": {
     "iopub.execute_input": "2021-03-28T10:45:30.380263Z",
     "iopub.status.busy": "2021-03-28T10:45:30.379262Z",
     "iopub.status.idle": "2021-03-28T10:45:30.385180Z",
     "shell.execute_reply": "2021-03-28T10:45:30.385755Z"
    },
    "papermill": {
     "duration": 0.033898,
     "end_time": "2021-03-28T10:45:30.385957",
     "exception": false,
     "start_time": "2021-03-28T10:45:30.352059",
     "status": "completed"
    },
    "tags": []
   },
   "outputs": [],
   "source": [
    "test['날짜ID'] = 34"
   ]
  },
  {
   "cell_type": "code",
   "execution_count": 14,
   "metadata": {
    "execution": {
     "iopub.execute_input": "2021-03-28T10:45:30.449701Z",
     "iopub.status.busy": "2021-03-28T10:45:30.448661Z",
     "iopub.status.idle": "2021-03-28T10:45:30.452697Z",
     "shell.execute_reply": "2021-03-28T10:45:30.453296Z"
    },
    "papermill": {
     "duration": 0.042965,
     "end_time": "2021-03-28T10:45:30.453474",
     "exception": false,
     "start_time": "2021-03-28T10:45:30.410509",
     "status": "completed"
    },
    "tags": []
   },
   "outputs": [
    {
     "data": {
      "text/html": [
       "<div>\n",
       "<style scoped>\n",
       "    .dataframe tbody tr th:only-of-type {\n",
       "        vertical-align: middle;\n",
       "    }\n",
       "\n",
       "    .dataframe tbody tr th {\n",
       "        vertical-align: top;\n",
       "    }\n",
       "\n",
       "    .dataframe thead th {\n",
       "        text-align: right;\n",
       "    }\n",
       "</style>\n",
       "<table border=\"1\" class=\"dataframe\">\n",
       "  <thead>\n",
       "    <tr style=\"text-align: right;\">\n",
       "      <th></th>\n",
       "      <th>날짜ID</th>\n",
       "      <th>상점ID</th>\n",
       "      <th>상품ID</th>\n",
       "      <th>총 판매량</th>\n",
       "    </tr>\n",
       "  </thead>\n",
       "  <tbody>\n",
       "    <tr>\n",
       "      <th>0</th>\n",
       "      <td>0</td>\n",
       "      <td>59</td>\n",
       "      <td>22154</td>\n",
       "      <td>1.0</td>\n",
       "    </tr>\n",
       "    <tr>\n",
       "      <th>1</th>\n",
       "      <td>0</td>\n",
       "      <td>59</td>\n",
       "      <td>2552</td>\n",
       "      <td>NaN</td>\n",
       "    </tr>\n",
       "    <tr>\n",
       "      <th>2</th>\n",
       "      <td>0</td>\n",
       "      <td>59</td>\n",
       "      <td>2554</td>\n",
       "      <td>NaN</td>\n",
       "    </tr>\n",
       "    <tr>\n",
       "      <th>3</th>\n",
       "      <td>0</td>\n",
       "      <td>59</td>\n",
       "      <td>2555</td>\n",
       "      <td>NaN</td>\n",
       "    </tr>\n",
       "    <tr>\n",
       "      <th>4</th>\n",
       "      <td>0</td>\n",
       "      <td>59</td>\n",
       "      <td>2564</td>\n",
       "      <td>NaN</td>\n",
       "    </tr>\n",
       "    <tr>\n",
       "      <th>...</th>\n",
       "      <td>...</td>\n",
       "      <td>...</td>\n",
       "      <td>...</td>\n",
       "      <td>...</td>\n",
       "    </tr>\n",
       "    <tr>\n",
       "      <th>10913845</th>\n",
       "      <td>33</td>\n",
       "      <td>21</td>\n",
       "      <td>7635</td>\n",
       "      <td>NaN</td>\n",
       "    </tr>\n",
       "    <tr>\n",
       "      <th>10913846</th>\n",
       "      <td>33</td>\n",
       "      <td>21</td>\n",
       "      <td>7638</td>\n",
       "      <td>NaN</td>\n",
       "    </tr>\n",
       "    <tr>\n",
       "      <th>10913847</th>\n",
       "      <td>33</td>\n",
       "      <td>21</td>\n",
       "      <td>7640</td>\n",
       "      <td>NaN</td>\n",
       "    </tr>\n",
       "    <tr>\n",
       "      <th>10913848</th>\n",
       "      <td>33</td>\n",
       "      <td>21</td>\n",
       "      <td>7632</td>\n",
       "      <td>NaN</td>\n",
       "    </tr>\n",
       "    <tr>\n",
       "      <th>10913849</th>\n",
       "      <td>33</td>\n",
       "      <td>21</td>\n",
       "      <td>7440</td>\n",
       "      <td>NaN</td>\n",
       "    </tr>\n",
       "  </tbody>\n",
       "</table>\n",
       "<p>10913850 rows × 4 columns</p>\n",
       "</div>"
      ],
      "text/plain": [
       "          날짜ID  상점ID   상품ID  총 판매량\n",
       "0            0    59  22154    1.0\n",
       "1            0    59   2552    NaN\n",
       "2            0    59   2554    NaN\n",
       "3            0    59   2555    NaN\n",
       "4            0    59   2564    NaN\n",
       "...        ...   ...    ...    ...\n",
       "10913845    33    21   7635    NaN\n",
       "10913846    33    21   7638    NaN\n",
       "10913847    33    21   7640    NaN\n",
       "10913848    33    21   7632    NaN\n",
       "10913849    33    21   7440    NaN\n",
       "\n",
       "[10913850 rows x 4 columns]"
      ]
     },
     "execution_count": 14,
     "metadata": {},
     "output_type": "execute_result"
    }
   ],
   "source": [
    "train"
   ]
  },
  {
   "cell_type": "code",
   "execution_count": 15,
   "metadata": {
    "execution": {
     "iopub.execute_input": "2021-03-28T10:45:30.508042Z",
     "iopub.status.busy": "2021-03-28T10:45:30.506981Z",
     "iopub.status.idle": "2021-03-28T10:45:30.521670Z",
     "shell.execute_reply": "2021-03-28T10:45:30.521077Z"
    },
    "papermill": {
     "duration": 0.04319,
     "end_time": "2021-03-28T10:45:30.521818",
     "exception": false,
     "start_time": "2021-03-28T10:45:30.478628",
     "status": "completed"
    },
    "tags": []
   },
   "outputs": [
    {
     "data": {
      "text/html": [
       "<div>\n",
       "<style scoped>\n",
       "    .dataframe tbody tr th:only-of-type {\n",
       "        vertical-align: middle;\n",
       "    }\n",
       "\n",
       "    .dataframe tbody tr th {\n",
       "        vertical-align: top;\n",
       "    }\n",
       "\n",
       "    .dataframe thead th {\n",
       "        text-align: right;\n",
       "    }\n",
       "</style>\n",
       "<table border=\"1\" class=\"dataframe\">\n",
       "  <thead>\n",
       "    <tr style=\"text-align: right;\">\n",
       "      <th></th>\n",
       "      <th>ID</th>\n",
       "      <th>상점ID</th>\n",
       "      <th>상품ID</th>\n",
       "      <th>날짜ID</th>\n",
       "    </tr>\n",
       "  </thead>\n",
       "  <tbody>\n",
       "    <tr>\n",
       "      <th>0</th>\n",
       "      <td>0</td>\n",
       "      <td>5</td>\n",
       "      <td>5037</td>\n",
       "      <td>34</td>\n",
       "    </tr>\n",
       "    <tr>\n",
       "      <th>1</th>\n",
       "      <td>1</td>\n",
       "      <td>5</td>\n",
       "      <td>5320</td>\n",
       "      <td>34</td>\n",
       "    </tr>\n",
       "    <tr>\n",
       "      <th>2</th>\n",
       "      <td>2</td>\n",
       "      <td>5</td>\n",
       "      <td>5233</td>\n",
       "      <td>34</td>\n",
       "    </tr>\n",
       "    <tr>\n",
       "      <th>3</th>\n",
       "      <td>3</td>\n",
       "      <td>5</td>\n",
       "      <td>5232</td>\n",
       "      <td>34</td>\n",
       "    </tr>\n",
       "    <tr>\n",
       "      <th>4</th>\n",
       "      <td>4</td>\n",
       "      <td>5</td>\n",
       "      <td>5268</td>\n",
       "      <td>34</td>\n",
       "    </tr>\n",
       "    <tr>\n",
       "      <th>...</th>\n",
       "      <td>...</td>\n",
       "      <td>...</td>\n",
       "      <td>...</td>\n",
       "      <td>...</td>\n",
       "    </tr>\n",
       "    <tr>\n",
       "      <th>214195</th>\n",
       "      <td>214195</td>\n",
       "      <td>45</td>\n",
       "      <td>18454</td>\n",
       "      <td>34</td>\n",
       "    </tr>\n",
       "    <tr>\n",
       "      <th>214196</th>\n",
       "      <td>214196</td>\n",
       "      <td>45</td>\n",
       "      <td>16188</td>\n",
       "      <td>34</td>\n",
       "    </tr>\n",
       "    <tr>\n",
       "      <th>214197</th>\n",
       "      <td>214197</td>\n",
       "      <td>45</td>\n",
       "      <td>15757</td>\n",
       "      <td>34</td>\n",
       "    </tr>\n",
       "    <tr>\n",
       "      <th>214198</th>\n",
       "      <td>214198</td>\n",
       "      <td>45</td>\n",
       "      <td>19648</td>\n",
       "      <td>34</td>\n",
       "    </tr>\n",
       "    <tr>\n",
       "      <th>214199</th>\n",
       "      <td>214199</td>\n",
       "      <td>45</td>\n",
       "      <td>969</td>\n",
       "      <td>34</td>\n",
       "    </tr>\n",
       "  </tbody>\n",
       "</table>\n",
       "<p>214200 rows × 4 columns</p>\n",
       "</div>"
      ],
      "text/plain": [
       "            ID  상점ID   상품ID  날짜ID\n",
       "0            0     5   5037    34\n",
       "1            1     5   5320    34\n",
       "2            2     5   5233    34\n",
       "3            3     5   5232    34\n",
       "4            4     5   5268    34\n",
       "...        ...   ...    ...   ...\n",
       "214195  214195    45  18454    34\n",
       "214196  214196    45  16188    34\n",
       "214197  214197    45  15757    34\n",
       "214198  214198    45  19648    34\n",
       "214199  214199    45    969    34\n",
       "\n",
       "[214200 rows x 4 columns]"
      ]
     },
     "execution_count": 15,
     "metadata": {},
     "output_type": "execute_result"
    }
   ],
   "source": [
    "test"
   ]
  },
  {
   "cell_type": "code",
   "execution_count": 16,
   "metadata": {
    "execution": {
     "iopub.execute_input": "2021-03-28T10:45:30.587097Z",
     "iopub.status.busy": "2021-03-28T10:45:30.585478Z",
     "iopub.status.idle": "2021-03-28T10:45:30.826067Z",
     "shell.execute_reply": "2021-03-28T10:45:30.825366Z"
    },
    "papermill": {
     "duration": 0.276532,
     "end_time": "2021-03-28T10:45:30.826211",
     "exception": false,
     "start_time": "2021-03-28T10:45:30.549679",
     "status": "completed"
    },
    "tags": []
   },
   "outputs": [
    {
     "data": {
      "text/html": [
       "<div>\n",
       "<style scoped>\n",
       "    .dataframe tbody tr th:only-of-type {\n",
       "        vertical-align: middle;\n",
       "    }\n",
       "\n",
       "    .dataframe tbody tr th {\n",
       "        vertical-align: top;\n",
       "    }\n",
       "\n",
       "    .dataframe thead th {\n",
       "        text-align: right;\n",
       "    }\n",
       "</style>\n",
       "<table border=\"1\" class=\"dataframe\">\n",
       "  <thead>\n",
       "    <tr style=\"text-align: right;\">\n",
       "      <th></th>\n",
       "      <th>날짜ID</th>\n",
       "      <th>상점ID</th>\n",
       "      <th>상품ID</th>\n",
       "      <th>총 판매량</th>\n",
       "    </tr>\n",
       "  </thead>\n",
       "  <tbody>\n",
       "    <tr>\n",
       "      <th>0</th>\n",
       "      <td>0</td>\n",
       "      <td>59</td>\n",
       "      <td>22154</td>\n",
       "      <td>1.0</td>\n",
       "    </tr>\n",
       "    <tr>\n",
       "      <th>1</th>\n",
       "      <td>0</td>\n",
       "      <td>59</td>\n",
       "      <td>2552</td>\n",
       "      <td>0.0</td>\n",
       "    </tr>\n",
       "    <tr>\n",
       "      <th>2</th>\n",
       "      <td>0</td>\n",
       "      <td>59</td>\n",
       "      <td>2554</td>\n",
       "      <td>0.0</td>\n",
       "    </tr>\n",
       "    <tr>\n",
       "      <th>3</th>\n",
       "      <td>0</td>\n",
       "      <td>59</td>\n",
       "      <td>2555</td>\n",
       "      <td>0.0</td>\n",
       "    </tr>\n",
       "    <tr>\n",
       "      <th>4</th>\n",
       "      <td>0</td>\n",
       "      <td>59</td>\n",
       "      <td>2564</td>\n",
       "      <td>0.0</td>\n",
       "    </tr>\n",
       "    <tr>\n",
       "      <th>...</th>\n",
       "      <td>...</td>\n",
       "      <td>...</td>\n",
       "      <td>...</td>\n",
       "      <td>...</td>\n",
       "    </tr>\n",
       "    <tr>\n",
       "      <th>11128045</th>\n",
       "      <td>34</td>\n",
       "      <td>45</td>\n",
       "      <td>18454</td>\n",
       "      <td>0.0</td>\n",
       "    </tr>\n",
       "    <tr>\n",
       "      <th>11128046</th>\n",
       "      <td>34</td>\n",
       "      <td>45</td>\n",
       "      <td>16188</td>\n",
       "      <td>0.0</td>\n",
       "    </tr>\n",
       "    <tr>\n",
       "      <th>11128047</th>\n",
       "      <td>34</td>\n",
       "      <td>45</td>\n",
       "      <td>15757</td>\n",
       "      <td>0.0</td>\n",
       "    </tr>\n",
       "    <tr>\n",
       "      <th>11128048</th>\n",
       "      <td>34</td>\n",
       "      <td>45</td>\n",
       "      <td>19648</td>\n",
       "      <td>0.0</td>\n",
       "    </tr>\n",
       "    <tr>\n",
       "      <th>11128049</th>\n",
       "      <td>34</td>\n",
       "      <td>45</td>\n",
       "      <td>969</td>\n",
       "      <td>0.0</td>\n",
       "    </tr>\n",
       "  </tbody>\n",
       "</table>\n",
       "<p>11128050 rows × 4 columns</p>\n",
       "</div>"
      ],
      "text/plain": [
       "          날짜ID  상점ID   상품ID  총 판매량\n",
       "0            0    59  22154    1.0\n",
       "1            0    59   2552    0.0\n",
       "2            0    59   2554    0.0\n",
       "3            0    59   2555    0.0\n",
       "4            0    59   2564    0.0\n",
       "...        ...   ...    ...    ...\n",
       "11128045    34    45  18454    0.0\n",
       "11128046    34    45  16188    0.0\n",
       "11128047    34    45  15757    0.0\n",
       "11128048    34    45  19648    0.0\n",
       "11128049    34    45    969    0.0\n",
       "\n",
       "[11128050 rows x 4 columns]"
      ]
     },
     "execution_count": 16,
     "metadata": {},
     "output_type": "execute_result"
    }
   ],
   "source": [
    "# train과 test 이어붙이기\n",
    "all_data = pd.concat([train, test.drop('ID', axis=1)],\n",
    "                     ignore_index=True,\n",
    "                     keys=idx_features)\n",
    "# 결측값을 0으로 대체\n",
    "all_data = all_data.fillna(0)\n",
    "\n",
    "all_data"
   ]
  },
  {
   "cell_type": "markdown",
   "metadata": {
    "papermill": {
     "duration": 0.026279,
     "end_time": "2021-03-28T10:45:30.879732",
     "exception": false,
     "start_time": "2021-03-28T10:45:30.853453",
     "status": "completed"
    },
    "tags": []
   },
   "source": [
    "### 나머지 데이터 병합"
   ]
  },
  {
   "cell_type": "code",
   "execution_count": 17,
   "metadata": {
    "execution": {
     "iopub.execute_input": "2021-03-28T10:45:30.942300Z",
     "iopub.status.busy": "2021-03-28T10:45:30.940758Z",
     "iopub.status.idle": "2021-03-28T10:45:37.611931Z",
     "shell.execute_reply": "2021-03-28T10:45:37.610656Z"
    },
    "papermill": {
     "duration": 6.705316,
     "end_time": "2021-03-28T10:45:37.612158",
     "exception": false,
     "start_time": "2021-03-28T10:45:30.906842",
     "status": "completed"
    },
    "tags": []
   },
   "outputs": [
    {
     "name": "stdout",
     "output_type": "stream",
     "text": [
      "26.4% 압축됨\n"
     ]
    }
   ],
   "source": [
    "# 나머지 데이터 병합\n",
    "all_data = all_data.merge(shops, on='상점ID', how='left')\n",
    "all_data = all_data.merge(items, on='상품ID', how='left')\n",
    "all_data = all_data.merge(item_categories, on='상품범주ID', how='left')\n",
    "\n",
    "# 데이터 형변환\n",
    "all_data = downcast(all_data)\n",
    "\n",
    "# 가비지 컬렉션\n",
    "del shops, items, item_categories\n",
    "gc.collect();"
   ]
  },
  {
   "cell_type": "code",
   "execution_count": 18,
   "metadata": {
    "execution": {
     "iopub.execute_input": "2021-03-28T10:45:37.679935Z",
     "iopub.status.busy": "2021-03-28T10:45:37.678892Z",
     "iopub.status.idle": "2021-03-28T10:45:37.682899Z",
     "shell.execute_reply": "2021-03-28T10:45:37.683433Z"
    },
    "papermill": {
     "duration": 0.044251,
     "end_time": "2021-03-28T10:45:37.683601",
     "exception": false,
     "start_time": "2021-03-28T10:45:37.639350",
     "status": "completed"
    },
    "tags": []
   },
   "outputs": [
    {
     "data": {
      "text/html": [
       "<div>\n",
       "<style scoped>\n",
       "    .dataframe tbody tr th:only-of-type {\n",
       "        vertical-align: middle;\n",
       "    }\n",
       "\n",
       "    .dataframe tbody tr th {\n",
       "        vertical-align: top;\n",
       "    }\n",
       "\n",
       "    .dataframe thead th {\n",
       "        text-align: right;\n",
       "    }\n",
       "</style>\n",
       "<table border=\"1\" class=\"dataframe\">\n",
       "  <thead>\n",
       "    <tr style=\"text-align: right;\">\n",
       "      <th></th>\n",
       "      <th>날짜ID</th>\n",
       "      <th>상점ID</th>\n",
       "      <th>상품ID</th>\n",
       "      <th>총 판매량</th>\n",
       "      <th>상점명</th>\n",
       "      <th>상품명</th>\n",
       "      <th>상품범주ID</th>\n",
       "      <th>상품범주명</th>\n",
       "    </tr>\n",
       "  </thead>\n",
       "  <tbody>\n",
       "    <tr>\n",
       "      <th>0</th>\n",
       "      <td>0</td>\n",
       "      <td>59</td>\n",
       "      <td>22154</td>\n",
       "      <td>1</td>\n",
       "      <td>Ярославль ТЦ \"Альтаир\"</td>\n",
       "      <td>ЯВЛЕНИЕ 2012 (BD)</td>\n",
       "      <td>37</td>\n",
       "      <td>Кино - Blu-Ray</td>\n",
       "    </tr>\n",
       "    <tr>\n",
       "      <th>1</th>\n",
       "      <td>0</td>\n",
       "      <td>59</td>\n",
       "      <td>2552</td>\n",
       "      <td>0</td>\n",
       "      <td>Ярославль ТЦ \"Альтаир\"</td>\n",
       "      <td>DEEP PURPLE  The House Of Blue Light  LP</td>\n",
       "      <td>58</td>\n",
       "      <td>Музыка - Винил</td>\n",
       "    </tr>\n",
       "    <tr>\n",
       "      <th>2</th>\n",
       "      <td>0</td>\n",
       "      <td>59</td>\n",
       "      <td>2554</td>\n",
       "      <td>0</td>\n",
       "      <td>Ярославль ТЦ \"Альтаир\"</td>\n",
       "      <td>DEEP PURPLE  Who Do You Think We Are  LP</td>\n",
       "      <td>58</td>\n",
       "      <td>Музыка - Винил</td>\n",
       "    </tr>\n",
       "    <tr>\n",
       "      <th>3</th>\n",
       "      <td>0</td>\n",
       "      <td>59</td>\n",
       "      <td>2555</td>\n",
       "      <td>0</td>\n",
       "      <td>Ярославль ТЦ \"Альтаир\"</td>\n",
       "      <td>DEEP PURPLE 30 Very Best Of 2CD (Фирм.)</td>\n",
       "      <td>56</td>\n",
       "      <td>Музыка - CD фирменного производства</td>\n",
       "    </tr>\n",
       "    <tr>\n",
       "      <th>4</th>\n",
       "      <td>0</td>\n",
       "      <td>59</td>\n",
       "      <td>2564</td>\n",
       "      <td>0</td>\n",
       "      <td>Ярославль ТЦ \"Альтаир\"</td>\n",
       "      <td>DEEP PURPLE Perihelion: Live In Concert DVD (К...</td>\n",
       "      <td>59</td>\n",
       "      <td>Музыка - Музыкальное видео</td>\n",
       "    </tr>\n",
       "  </tbody>\n",
       "</table>\n",
       "</div>"
      ],
      "text/plain": [
       "   날짜ID  상점ID   상품ID  총 판매량                     상점명  \\\n",
       "0     0    59  22154      1  Ярославль ТЦ \"Альтаир\"   \n",
       "1     0    59   2552      0  Ярославль ТЦ \"Альтаир\"   \n",
       "2     0    59   2554      0  Ярославль ТЦ \"Альтаир\"   \n",
       "3     0    59   2555      0  Ярославль ТЦ \"Альтаир\"   \n",
       "4     0    59   2564      0  Ярославль ТЦ \"Альтаир\"   \n",
       "\n",
       "                                                 상품명  상품범주ID  \\\n",
       "0                                  ЯВЛЕНИЕ 2012 (BD)      37   \n",
       "1           DEEP PURPLE  The House Of Blue Light  LP      58   \n",
       "2           DEEP PURPLE  Who Do You Think We Are  LP      58   \n",
       "3            DEEP PURPLE 30 Very Best Of 2CD (Фирм.)      56   \n",
       "4  DEEP PURPLE Perihelion: Live In Concert DVD (К...      59   \n",
       "\n",
       "                                 상품범주명  \n",
       "0                       Кино - Blu-Ray  \n",
       "1                       Музыка - Винил  \n",
       "2                       Музыка - Винил  \n",
       "3  Музыка - CD фирменного производства  \n",
       "4           Музыка - Музыкальное видео  "
      ]
     },
     "execution_count": 18,
     "metadata": {},
     "output_type": "execute_result"
    }
   ],
   "source": [
    "all_data.head()"
   ]
  },
  {
   "cell_type": "code",
   "execution_count": 19,
   "metadata": {
    "execution": {
     "iopub.execute_input": "2021-03-28T10:45:37.741506Z",
     "iopub.status.busy": "2021-03-28T10:45:37.740478Z",
     "iopub.status.idle": "2021-03-28T10:45:38.775768Z",
     "shell.execute_reply": "2021-03-28T10:45:38.775108Z"
    },
    "papermill": {
     "duration": 1.065361,
     "end_time": "2021-03-28T10:45:38.775924",
     "exception": false,
     "start_time": "2021-03-28T10:45:37.710563",
     "status": "completed"
    },
    "tags": []
   },
   "outputs": [],
   "source": [
    "all_data = all_data.drop(['상점명', '상품명', '상품범주명'], axis=1)"
   ]
  },
  {
   "cell_type": "code",
   "execution_count": 20,
   "metadata": {
    "execution": {
     "iopub.execute_input": "2021-03-28T10:45:38.840939Z",
     "iopub.status.busy": "2021-03-28T10:45:38.839683Z",
     "iopub.status.idle": "2021-03-28T10:45:39.398933Z",
     "shell.execute_reply": "2021-03-28T10:45:39.398218Z"
    },
    "papermill": {
     "duration": 0.595882,
     "end_time": "2021-03-28T10:45:39.399092",
     "exception": false,
     "start_time": "2021-03-28T10:45:38.803210",
     "status": "completed"
    },
    "tags": []
   },
   "outputs": [],
   "source": [
    "# 훈련 데이터 (피처)\n",
    "X_train = all_data[all_data['날짜ID'] < 33]\n",
    "X_train = X_train.drop(['총 판매량'], axis=1)\n",
    "# 검증 데이터 (피처)\n",
    "X_valid = all_data[all_data['날짜ID'] == 33]\n",
    "X_valid = X_valid.drop(['총 판매량'], axis=1)\n",
    "# 테스트 데이터 (피처)\n",
    "X_test = all_data[all_data['날짜ID'] == 34]\n",
    "X_test = X_test.drop(['총 판매량'], axis=1)\n",
    "\n",
    "# 훈련 데이터 (타깃 값)\n",
    "y_train = all_data[all_data['날짜ID'] < 33]['총 판매량']\n",
    "y_train = y_train.clip(0, 20) # 타깃 값을 0~20로 제한\n",
    "# 검증 데이터 (타깃 값)\n",
    "y_valid = all_data[all_data['날짜ID'] == 33]['총 판매량']\n",
    "y_valid = y_valid.clip(0, 20)"
   ]
  },
  {
   "cell_type": "code",
   "execution_count": 21,
   "metadata": {
    "execution": {
     "iopub.execute_input": "2021-03-28T10:45:39.528736Z",
     "iopub.status.busy": "2021-03-28T10:45:39.528068Z",
     "iopub.status.idle": "2021-03-28T10:45:39.531354Z",
     "shell.execute_reply": "2021-03-28T10:45:39.530722Z"
    },
    "papermill": {
     "duration": 0.104826,
     "end_time": "2021-03-28T10:45:39.531500",
     "exception": false,
     "start_time": "2021-03-28T10:45:39.426674",
     "status": "completed"
    },
    "tags": []
   },
   "outputs": [],
   "source": [
    "del all_data\n",
    "gc.collect();"
   ]
  },
  {
   "cell_type": "markdown",
   "metadata": {
    "papermill": {
     "duration": 0.032094,
     "end_time": "2021-03-28T10:45:39.591194",
     "exception": false,
     "start_time": "2021-03-28T10:45:39.559100",
     "status": "completed"
    },
    "tags": []
   },
   "source": [
    "## 베이스라인 모델 훈련 및 제출"
   ]
  },
  {
   "cell_type": "code",
   "execution_count": 22,
   "metadata": {
    "execution": {
     "iopub.execute_input": "2021-03-28T10:45:39.667517Z",
     "iopub.status.busy": "2021-03-28T10:45:39.666869Z",
     "iopub.status.idle": "2021-03-28T10:48:13.590777Z",
     "shell.execute_reply": "2021-03-28T10:48:13.591572Z"
    },
    "papermill": {
     "duration": 153.964094,
     "end_time": "2021-03-28T10:48:13.591765",
     "exception": false,
     "start_time": "2021-03-28T10:45:39.627671",
     "status": "completed"
    },
    "tags": []
   },
   "outputs": [
    {
     "data": {
      "text/html": [
       "<style type='text/css'>\n",
       ".datatable table.frame { margin-bottom: 0; }\n",
       ".datatable table.frame thead { border-bottom: none; }\n",
       ".datatable table.frame tr.coltypes td {  color: #FFFFFF;  line-height: 6px;  padding: 0 0.5em;}\n",
       ".datatable .bool    { background: #DDDD99; }\n",
       ".datatable .object  { background: #565656; }\n",
       ".datatable .int     { background: #5D9E5D; }\n",
       ".datatable .float   { background: #4040CC; }\n",
       ".datatable .str     { background: #CC4040; }\n",
       ".datatable .row_index {  background: var(--jp-border-color3);  border-right: 1px solid var(--jp-border-color0);  color: var(--jp-ui-font-color3);  font-size: 9px;}\n",
       ".datatable .frame tr.coltypes .row_index {  background: var(--jp-border-color0);}\n",
       ".datatable th:nth-child(2) { padding-left: 12px; }\n",
       ".datatable .hellipsis {  color: var(--jp-cell-editor-border-color);}\n",
       ".datatable .vellipsis {  background: var(--jp-layout-color0);  color: var(--jp-cell-editor-border-color);}\n",
       ".datatable .na {  color: var(--jp-cell-editor-border-color);  font-size: 80%;}\n",
       ".datatable .footer { font-size: 9px; }\n",
       ".datatable .frame_dimensions {  background: var(--jp-border-color3);  border-top: 1px solid var(--jp-border-color0);  color: var(--jp-ui-font-color3);  display: inline-block;  opacity: 0.6;  padding: 1px 10px 1px 5px;}\n",
       "</style>\n"
      ],
      "text/plain": [
       "<IPython.core.display.HTML object>"
      ]
     },
     "metadata": {},
     "output_type": "display_data"
    },
    {
     "name": "stdout",
     "output_type": "stream",
     "text": [
      "[LightGBM] [Info] Total Bins 427\n",
      "[LightGBM] [Info] Number of data points in the train set: 10675678, number of used features: 4\n",
      "[LightGBM] [Info] Start training from score 0.299125\n",
      "[50]\tvalid_0's rmse: 1.06765\n",
      "[100]\tvalid_0's rmse: 1.03754\n",
      "[150]\tvalid_0's rmse: 1.0249\n",
      "[200]\tvalid_0's rmse: 1.01814\n",
      "[250]\tvalid_0's rmse: 1.01409\n",
      "[300]\tvalid_0's rmse: 1.01057\n",
      "[350]\tvalid_0's rmse: 1.00801\n",
      "[400]\tvalid_0's rmse: 1.00604\n",
      "[450]\tvalid_0's rmse: 1.00506\n",
      "[500]\tvalid_0's rmse: 1.00408\n"
     ]
    }
   ],
   "source": [
    "import lightgbm as lgb\n",
    "\n",
    "# lgb 하이퍼 파라미터\n",
    "params = {'metric': 'rmse',\n",
    "          'num_leaves': 255,\n",
    "          'learning_rate': 0.01,\n",
    "          'force_col_wise': True,\n",
    "          'random_state': 50}\n",
    "\n",
    "# 범주형 피처 설정\n",
    "cat_features = ['상점ID', '상품범주ID']\n",
    "\n",
    "# lgb 훈련 및 검증 데이터세트\n",
    "dtrain = lgb.Dataset(X_train, y_train)\n",
    "dvalid = lgb.Dataset(X_valid, y_valid)\n",
    "\n",
    "# LightGBM 모델 훈련\n",
    "lgb_model = lgb.train(params=params,\n",
    "                      train_set=dtrain,\n",
    "                      num_boost_round=500,\n",
    "                      valid_sets=dvalid,\n",
    "                      categorical_feature=cat_features,\n",
    "                      verbose_eval=50)  "
   ]
  },
  {
   "cell_type": "code",
   "execution_count": 23,
   "metadata": {
    "execution": {
     "iopub.execute_input": "2021-03-28T10:48:13.659374Z",
     "iopub.status.busy": "2021-03-28T10:48:13.658409Z",
     "iopub.status.idle": "2021-03-28T10:48:20.629795Z",
     "shell.execute_reply": "2021-03-28T10:48:20.629077Z"
    },
    "papermill": {
     "duration": 7.006425,
     "end_time": "2021-03-28T10:48:20.629965",
     "exception": false,
     "start_time": "2021-03-28T10:48:13.623540",
     "status": "completed"
    },
    "tags": []
   },
   "outputs": [],
   "source": [
    "preds = lgb_model.predict(X_test).clip(0,20)\n",
    "\n",
    "submission['item_cnt_month'] = preds\n",
    "submission.to_csv('submission.csv', index=False)"
   ]
  },
  {
   "cell_type": "code",
   "execution_count": 24,
   "metadata": {
    "execution": {
     "iopub.execute_input": "2021-03-28T10:48:20.702885Z",
     "iopub.status.busy": "2021-03-28T10:48:20.702217Z",
     "iopub.status.idle": "2021-03-28T10:48:20.793629Z",
     "shell.execute_reply": "2021-03-28T10:48:20.793077Z"
    },
    "papermill": {
     "duration": 0.130419,
     "end_time": "2021-03-28T10:48:20.793779",
     "exception": false,
     "start_time": "2021-03-28T10:48:20.663360",
     "status": "completed"
    },
    "tags": []
   },
   "outputs": [],
   "source": [
    "del X_train, y_train, X_valid, y_valid, X_test, lgb_model, dtrain, dvalid\n",
    "gc.collect();"
   ]
  }
 ],
 "metadata": {
  "kernelspec": {
   "display_name": "Python 3",
   "language": "python",
   "name": "python3"
  },
  "language_info": {
   "codemirror_mode": {
    "name": "ipython",
    "version": 3
   },
   "file_extension": ".py",
   "mimetype": "text/x-python",
   "name": "python",
   "nbconvert_exporter": "python",
   "pygments_lexer": "ipython3",
   "version": "3.7.9"
  },
  "papermill": {
   "default_parameters": {},
   "duration": 209.361237,
   "end_time": "2021-03-28T10:48:21.536412",
   "environment_variables": {},
   "exception": null,
   "input_path": "__notebook__.ipynb",
   "output_path": "__notebook__.ipynb",
   "parameters": {},
   "start_time": "2021-03-28T10:44:52.175175",
   "version": "2.2.2"
  }
 },
 "nbformat": 4,
 "nbformat_minor": 4
}
