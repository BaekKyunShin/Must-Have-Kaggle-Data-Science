{
 "cells": [
  {
   "cell_type": "markdown",
   "id": "threatened-error",
   "metadata": {
    "papermill": {
     "duration": 0.012295,
     "end_time": "2021-05-11T02:40:04.665675",
     "exception": false,
     "start_time": "2021-05-11T02:40:04.653380",
     "status": "completed"
    },
    "tags": []
   },
   "source": [
    "# 3.4 자전거 대여 수요 예측 경진대회 베이스라인"
   ]
  },
  {
   "cell_type": "markdown",
   "id": "infectious-purse",
   "metadata": {
    "papermill": {
     "duration": 0.01092,
     "end_time": "2021-05-11T02:40:04.687740",
     "exception": false,
     "start_time": "2021-05-11T02:40:04.676820",
     "status": "completed"
    },
    "tags": []
   },
   "source": [
    "- [자전거 대여 수요 예측 경진대회 링크](https://www.kaggle.com/c/bike-sharing-demand)\n",
    "\n",
    "- [모델링 노트북 참고 링크](https://www.kaggle.com/viveksrinivasan/eda-ensemble-model-top-10-percentile)"
   ]
  },
  {
   "cell_type": "code",
   "execution_count": 1,
   "id": "excellent-driver",
   "metadata": {
    "_cell_guid": "057b1690-5b93-9f14-eafe-fad12c00da69",
    "execution": {
     "iopub.execute_input": "2021-05-11T02:40:04.714009Z",
     "iopub.status.busy": "2021-05-11T02:40:04.712886Z",
     "iopub.status.idle": "2021-05-11T02:40:04.788020Z",
     "shell.execute_reply": "2021-05-11T02:40:04.787365Z"
    },
    "papermill": {
     "duration": 0.08948,
     "end_time": "2021-05-11T02:40:04.788221",
     "exception": false,
     "start_time": "2021-05-11T02:40:04.698741",
     "status": "completed"
    },
    "tags": []
   },
   "outputs": [],
   "source": [
    "import pandas as pd\n",
    "\n",
    "# 데이터 경로\n",
    "data_path = '/kaggle/input/bike-sharing-demand/'\n",
    "\n",
    "train = pd.read_csv(data_path + 'train.csv')\n",
    "test = pd.read_csv(data_path + 'test.csv')\n",
    "submission = pd.read_csv(data_path + 'sampleSubmission.csv')"
   ]
  },
  {
   "cell_type": "markdown",
   "id": "incident-catalyst",
   "metadata": {
    "papermill": {
     "duration": 0.011054,
     "end_time": "2021-05-11T02:40:04.812179",
     "exception": false,
     "start_time": "2021-05-11T02:40:04.801125",
     "status": "completed"
    },
    "tags": []
   },
   "source": [
    "## 3.4.1 피처 엔지니어링"
   ]
  },
  {
   "cell_type": "markdown",
   "id": "governmental-spyware",
   "metadata": {
    "papermill": {
     "duration": 0.010953,
     "end_time": "2021-05-11T02:40:04.834636",
     "exception": false,
     "start_time": "2021-05-11T02:40:04.823683",
     "status": "completed"
    },
    "tags": []
   },
   "source": [
    "### 데이터 합치기"
   ]
  },
  {
   "cell_type": "code",
   "execution_count": 2,
   "id": "electrical-inspection",
   "metadata": {
    "execution": {
     "iopub.execute_input": "2021-05-11T02:40:04.873061Z",
     "iopub.status.busy": "2021-05-11T02:40:04.872397Z",
     "iopub.status.idle": "2021-05-11T02:40:04.906360Z",
     "shell.execute_reply": "2021-05-11T02:40:04.906818Z"
    },
    "papermill": {
     "duration": 0.061106,
     "end_time": "2021-05-11T02:40:04.906988",
     "exception": false,
     "start_time": "2021-05-11T02:40:04.845882",
     "status": "completed"
    },
    "tags": []
   },
   "outputs": [
    {
     "data": {
      "text/html": [
       "<div>\n",
       "<style scoped>\n",
       "    .dataframe tbody tr th:only-of-type {\n",
       "        vertical-align: middle;\n",
       "    }\n",
       "\n",
       "    .dataframe tbody tr th {\n",
       "        vertical-align: top;\n",
       "    }\n",
       "\n",
       "    .dataframe thead th {\n",
       "        text-align: right;\n",
       "    }\n",
       "</style>\n",
       "<table border=\"1\" class=\"dataframe\">\n",
       "  <thead>\n",
       "    <tr style=\"text-align: right;\">\n",
       "      <th></th>\n",
       "      <th>datetime</th>\n",
       "      <th>season</th>\n",
       "      <th>holiday</th>\n",
       "      <th>workingday</th>\n",
       "      <th>weather</th>\n",
       "      <th>temp</th>\n",
       "      <th>atemp</th>\n",
       "      <th>humidity</th>\n",
       "      <th>windspeed</th>\n",
       "      <th>casual</th>\n",
       "      <th>registered</th>\n",
       "      <th>count</th>\n",
       "    </tr>\n",
       "  </thead>\n",
       "  <tbody>\n",
       "    <tr>\n",
       "      <th>0</th>\n",
       "      <td>2011-01-01 00:00:00</td>\n",
       "      <td>1</td>\n",
       "      <td>0</td>\n",
       "      <td>0</td>\n",
       "      <td>1</td>\n",
       "      <td>9.84</td>\n",
       "      <td>14.395</td>\n",
       "      <td>81</td>\n",
       "      <td>0.0000</td>\n",
       "      <td>3.0</td>\n",
       "      <td>13.0</td>\n",
       "      <td>16.0</td>\n",
       "    </tr>\n",
       "    <tr>\n",
       "      <th>1</th>\n",
       "      <td>2011-01-01 01:00:00</td>\n",
       "      <td>1</td>\n",
       "      <td>0</td>\n",
       "      <td>0</td>\n",
       "      <td>1</td>\n",
       "      <td>9.02</td>\n",
       "      <td>13.635</td>\n",
       "      <td>80</td>\n",
       "      <td>0.0000</td>\n",
       "      <td>8.0</td>\n",
       "      <td>32.0</td>\n",
       "      <td>40.0</td>\n",
       "    </tr>\n",
       "    <tr>\n",
       "      <th>2</th>\n",
       "      <td>2011-01-01 02:00:00</td>\n",
       "      <td>1</td>\n",
       "      <td>0</td>\n",
       "      <td>0</td>\n",
       "      <td>1</td>\n",
       "      <td>9.02</td>\n",
       "      <td>13.635</td>\n",
       "      <td>80</td>\n",
       "      <td>0.0000</td>\n",
       "      <td>5.0</td>\n",
       "      <td>27.0</td>\n",
       "      <td>32.0</td>\n",
       "    </tr>\n",
       "    <tr>\n",
       "      <th>3</th>\n",
       "      <td>2011-01-01 03:00:00</td>\n",
       "      <td>1</td>\n",
       "      <td>0</td>\n",
       "      <td>0</td>\n",
       "      <td>1</td>\n",
       "      <td>9.84</td>\n",
       "      <td>14.395</td>\n",
       "      <td>75</td>\n",
       "      <td>0.0000</td>\n",
       "      <td>3.0</td>\n",
       "      <td>10.0</td>\n",
       "      <td>13.0</td>\n",
       "    </tr>\n",
       "    <tr>\n",
       "      <th>4</th>\n",
       "      <td>2011-01-01 04:00:00</td>\n",
       "      <td>1</td>\n",
       "      <td>0</td>\n",
       "      <td>0</td>\n",
       "      <td>1</td>\n",
       "      <td>9.84</td>\n",
       "      <td>14.395</td>\n",
       "      <td>75</td>\n",
       "      <td>0.0000</td>\n",
       "      <td>0.0</td>\n",
       "      <td>1.0</td>\n",
       "      <td>1.0</td>\n",
       "    </tr>\n",
       "    <tr>\n",
       "      <th>...</th>\n",
       "      <td>...</td>\n",
       "      <td>...</td>\n",
       "      <td>...</td>\n",
       "      <td>...</td>\n",
       "      <td>...</td>\n",
       "      <td>...</td>\n",
       "      <td>...</td>\n",
       "      <td>...</td>\n",
       "      <td>...</td>\n",
       "      <td>...</td>\n",
       "      <td>...</td>\n",
       "      <td>...</td>\n",
       "    </tr>\n",
       "    <tr>\n",
       "      <th>6488</th>\n",
       "      <td>2012-12-31 19:00:00</td>\n",
       "      <td>1</td>\n",
       "      <td>0</td>\n",
       "      <td>1</td>\n",
       "      <td>2</td>\n",
       "      <td>10.66</td>\n",
       "      <td>12.880</td>\n",
       "      <td>60</td>\n",
       "      <td>11.0014</td>\n",
       "      <td>NaN</td>\n",
       "      <td>NaN</td>\n",
       "      <td>NaN</td>\n",
       "    </tr>\n",
       "    <tr>\n",
       "      <th>6489</th>\n",
       "      <td>2012-12-31 20:00:00</td>\n",
       "      <td>1</td>\n",
       "      <td>0</td>\n",
       "      <td>1</td>\n",
       "      <td>2</td>\n",
       "      <td>10.66</td>\n",
       "      <td>12.880</td>\n",
       "      <td>60</td>\n",
       "      <td>11.0014</td>\n",
       "      <td>NaN</td>\n",
       "      <td>NaN</td>\n",
       "      <td>NaN</td>\n",
       "    </tr>\n",
       "    <tr>\n",
       "      <th>6490</th>\n",
       "      <td>2012-12-31 21:00:00</td>\n",
       "      <td>1</td>\n",
       "      <td>0</td>\n",
       "      <td>1</td>\n",
       "      <td>1</td>\n",
       "      <td>10.66</td>\n",
       "      <td>12.880</td>\n",
       "      <td>60</td>\n",
       "      <td>11.0014</td>\n",
       "      <td>NaN</td>\n",
       "      <td>NaN</td>\n",
       "      <td>NaN</td>\n",
       "    </tr>\n",
       "    <tr>\n",
       "      <th>6491</th>\n",
       "      <td>2012-12-31 22:00:00</td>\n",
       "      <td>1</td>\n",
       "      <td>0</td>\n",
       "      <td>1</td>\n",
       "      <td>1</td>\n",
       "      <td>10.66</td>\n",
       "      <td>13.635</td>\n",
       "      <td>56</td>\n",
       "      <td>8.9981</td>\n",
       "      <td>NaN</td>\n",
       "      <td>NaN</td>\n",
       "      <td>NaN</td>\n",
       "    </tr>\n",
       "    <tr>\n",
       "      <th>6492</th>\n",
       "      <td>2012-12-31 23:00:00</td>\n",
       "      <td>1</td>\n",
       "      <td>0</td>\n",
       "      <td>1</td>\n",
       "      <td>1</td>\n",
       "      <td>10.66</td>\n",
       "      <td>13.635</td>\n",
       "      <td>65</td>\n",
       "      <td>8.9981</td>\n",
       "      <td>NaN</td>\n",
       "      <td>NaN</td>\n",
       "      <td>NaN</td>\n",
       "    </tr>\n",
       "  </tbody>\n",
       "</table>\n",
       "<p>17379 rows × 12 columns</p>\n",
       "</div>"
      ],
      "text/plain": [
       "                 datetime  season  holiday  workingday  weather   temp  \\\n",
       "0     2011-01-01 00:00:00       1        0           0        1   9.84   \n",
       "1     2011-01-01 01:00:00       1        0           0        1   9.02   \n",
       "2     2011-01-01 02:00:00       1        0           0        1   9.02   \n",
       "3     2011-01-01 03:00:00       1        0           0        1   9.84   \n",
       "4     2011-01-01 04:00:00       1        0           0        1   9.84   \n",
       "...                   ...     ...      ...         ...      ...    ...   \n",
       "6488  2012-12-31 19:00:00       1        0           1        2  10.66   \n",
       "6489  2012-12-31 20:00:00       1        0           1        2  10.66   \n",
       "6490  2012-12-31 21:00:00       1        0           1        1  10.66   \n",
       "6491  2012-12-31 22:00:00       1        0           1        1  10.66   \n",
       "6492  2012-12-31 23:00:00       1        0           1        1  10.66   \n",
       "\n",
       "       atemp  humidity  windspeed  casual  registered  count  \n",
       "0     14.395        81     0.0000     3.0        13.0   16.0  \n",
       "1     13.635        80     0.0000     8.0        32.0   40.0  \n",
       "2     13.635        80     0.0000     5.0        27.0   32.0  \n",
       "3     14.395        75     0.0000     3.0        10.0   13.0  \n",
       "4     14.395        75     0.0000     0.0         1.0    1.0  \n",
       "...      ...       ...        ...     ...         ...    ...  \n",
       "6488  12.880        60    11.0014     NaN         NaN    NaN  \n",
       "6489  12.880        60    11.0014     NaN         NaN    NaN  \n",
       "6490  12.880        60    11.0014     NaN         NaN    NaN  \n",
       "6491  13.635        56     8.9981     NaN         NaN    NaN  \n",
       "6492  13.635        65     8.9981     NaN         NaN    NaN  \n",
       "\n",
       "[17379 rows x 12 columns]"
      ]
     },
     "execution_count": 2,
     "metadata": {},
     "output_type": "execute_result"
    }
   ],
   "source": [
    "all_data_temp = pd.concat([train, test])\n",
    "all_data_temp"
   ]
  },
  {
   "cell_type": "code",
   "execution_count": 3,
   "id": "fatal-debate",
   "metadata": {
    "execution": {
     "iopub.execute_input": "2021-05-11T02:40:04.935009Z",
     "iopub.status.busy": "2021-05-11T02:40:04.934123Z",
     "iopub.status.idle": "2021-05-11T02:40:04.963093Z",
     "shell.execute_reply": "2021-05-11T02:40:04.963548Z"
    },
    "papermill": {
     "duration": 0.044656,
     "end_time": "2021-05-11T02:40:04.963724",
     "exception": false,
     "start_time": "2021-05-11T02:40:04.919068",
     "status": "completed"
    },
    "tags": []
   },
   "outputs": [
    {
     "data": {
      "text/html": [
       "<div>\n",
       "<style scoped>\n",
       "    .dataframe tbody tr th:only-of-type {\n",
       "        vertical-align: middle;\n",
       "    }\n",
       "\n",
       "    .dataframe tbody tr th {\n",
       "        vertical-align: top;\n",
       "    }\n",
       "\n",
       "    .dataframe thead th {\n",
       "        text-align: right;\n",
       "    }\n",
       "</style>\n",
       "<table border=\"1\" class=\"dataframe\">\n",
       "  <thead>\n",
       "    <tr style=\"text-align: right;\">\n",
       "      <th></th>\n",
       "      <th>datetime</th>\n",
       "      <th>season</th>\n",
       "      <th>holiday</th>\n",
       "      <th>workingday</th>\n",
       "      <th>weather</th>\n",
       "      <th>temp</th>\n",
       "      <th>atemp</th>\n",
       "      <th>humidity</th>\n",
       "      <th>windspeed</th>\n",
       "      <th>casual</th>\n",
       "      <th>registered</th>\n",
       "      <th>count</th>\n",
       "    </tr>\n",
       "  </thead>\n",
       "  <tbody>\n",
       "    <tr>\n",
       "      <th>0</th>\n",
       "      <td>2011-01-01 00:00:00</td>\n",
       "      <td>1</td>\n",
       "      <td>0</td>\n",
       "      <td>0</td>\n",
       "      <td>1</td>\n",
       "      <td>9.84</td>\n",
       "      <td>14.395</td>\n",
       "      <td>81</td>\n",
       "      <td>0.0000</td>\n",
       "      <td>3.0</td>\n",
       "      <td>13.0</td>\n",
       "      <td>16.0</td>\n",
       "    </tr>\n",
       "    <tr>\n",
       "      <th>1</th>\n",
       "      <td>2011-01-01 01:00:00</td>\n",
       "      <td>1</td>\n",
       "      <td>0</td>\n",
       "      <td>0</td>\n",
       "      <td>1</td>\n",
       "      <td>9.02</td>\n",
       "      <td>13.635</td>\n",
       "      <td>80</td>\n",
       "      <td>0.0000</td>\n",
       "      <td>8.0</td>\n",
       "      <td>32.0</td>\n",
       "      <td>40.0</td>\n",
       "    </tr>\n",
       "    <tr>\n",
       "      <th>2</th>\n",
       "      <td>2011-01-01 02:00:00</td>\n",
       "      <td>1</td>\n",
       "      <td>0</td>\n",
       "      <td>0</td>\n",
       "      <td>1</td>\n",
       "      <td>9.02</td>\n",
       "      <td>13.635</td>\n",
       "      <td>80</td>\n",
       "      <td>0.0000</td>\n",
       "      <td>5.0</td>\n",
       "      <td>27.0</td>\n",
       "      <td>32.0</td>\n",
       "    </tr>\n",
       "    <tr>\n",
       "      <th>3</th>\n",
       "      <td>2011-01-01 03:00:00</td>\n",
       "      <td>1</td>\n",
       "      <td>0</td>\n",
       "      <td>0</td>\n",
       "      <td>1</td>\n",
       "      <td>9.84</td>\n",
       "      <td>14.395</td>\n",
       "      <td>75</td>\n",
       "      <td>0.0000</td>\n",
       "      <td>3.0</td>\n",
       "      <td>10.0</td>\n",
       "      <td>13.0</td>\n",
       "    </tr>\n",
       "    <tr>\n",
       "      <th>4</th>\n",
       "      <td>2011-01-01 04:00:00</td>\n",
       "      <td>1</td>\n",
       "      <td>0</td>\n",
       "      <td>0</td>\n",
       "      <td>1</td>\n",
       "      <td>9.84</td>\n",
       "      <td>14.395</td>\n",
       "      <td>75</td>\n",
       "      <td>0.0000</td>\n",
       "      <td>0.0</td>\n",
       "      <td>1.0</td>\n",
       "      <td>1.0</td>\n",
       "    </tr>\n",
       "    <tr>\n",
       "      <th>...</th>\n",
       "      <td>...</td>\n",
       "      <td>...</td>\n",
       "      <td>...</td>\n",
       "      <td>...</td>\n",
       "      <td>...</td>\n",
       "      <td>...</td>\n",
       "      <td>...</td>\n",
       "      <td>...</td>\n",
       "      <td>...</td>\n",
       "      <td>...</td>\n",
       "      <td>...</td>\n",
       "      <td>...</td>\n",
       "    </tr>\n",
       "    <tr>\n",
       "      <th>17374</th>\n",
       "      <td>2012-12-31 19:00:00</td>\n",
       "      <td>1</td>\n",
       "      <td>0</td>\n",
       "      <td>1</td>\n",
       "      <td>2</td>\n",
       "      <td>10.66</td>\n",
       "      <td>12.880</td>\n",
       "      <td>60</td>\n",
       "      <td>11.0014</td>\n",
       "      <td>NaN</td>\n",
       "      <td>NaN</td>\n",
       "      <td>NaN</td>\n",
       "    </tr>\n",
       "    <tr>\n",
       "      <th>17375</th>\n",
       "      <td>2012-12-31 20:00:00</td>\n",
       "      <td>1</td>\n",
       "      <td>0</td>\n",
       "      <td>1</td>\n",
       "      <td>2</td>\n",
       "      <td>10.66</td>\n",
       "      <td>12.880</td>\n",
       "      <td>60</td>\n",
       "      <td>11.0014</td>\n",
       "      <td>NaN</td>\n",
       "      <td>NaN</td>\n",
       "      <td>NaN</td>\n",
       "    </tr>\n",
       "    <tr>\n",
       "      <th>17376</th>\n",
       "      <td>2012-12-31 21:00:00</td>\n",
       "      <td>1</td>\n",
       "      <td>0</td>\n",
       "      <td>1</td>\n",
       "      <td>1</td>\n",
       "      <td>10.66</td>\n",
       "      <td>12.880</td>\n",
       "      <td>60</td>\n",
       "      <td>11.0014</td>\n",
       "      <td>NaN</td>\n",
       "      <td>NaN</td>\n",
       "      <td>NaN</td>\n",
       "    </tr>\n",
       "    <tr>\n",
       "      <th>17377</th>\n",
       "      <td>2012-12-31 22:00:00</td>\n",
       "      <td>1</td>\n",
       "      <td>0</td>\n",
       "      <td>1</td>\n",
       "      <td>1</td>\n",
       "      <td>10.66</td>\n",
       "      <td>13.635</td>\n",
       "      <td>56</td>\n",
       "      <td>8.9981</td>\n",
       "      <td>NaN</td>\n",
       "      <td>NaN</td>\n",
       "      <td>NaN</td>\n",
       "    </tr>\n",
       "    <tr>\n",
       "      <th>17378</th>\n",
       "      <td>2012-12-31 23:00:00</td>\n",
       "      <td>1</td>\n",
       "      <td>0</td>\n",
       "      <td>1</td>\n",
       "      <td>1</td>\n",
       "      <td>10.66</td>\n",
       "      <td>13.635</td>\n",
       "      <td>65</td>\n",
       "      <td>8.9981</td>\n",
       "      <td>NaN</td>\n",
       "      <td>NaN</td>\n",
       "      <td>NaN</td>\n",
       "    </tr>\n",
       "  </tbody>\n",
       "</table>\n",
       "<p>17379 rows × 12 columns</p>\n",
       "</div>"
      ],
      "text/plain": [
       "                  datetime  season  holiday  workingday  weather   temp  \\\n",
       "0      2011-01-01 00:00:00       1        0           0        1   9.84   \n",
       "1      2011-01-01 01:00:00       1        0           0        1   9.02   \n",
       "2      2011-01-01 02:00:00       1        0           0        1   9.02   \n",
       "3      2011-01-01 03:00:00       1        0           0        1   9.84   \n",
       "4      2011-01-01 04:00:00       1        0           0        1   9.84   \n",
       "...                    ...     ...      ...         ...      ...    ...   \n",
       "17374  2012-12-31 19:00:00       1        0           1        2  10.66   \n",
       "17375  2012-12-31 20:00:00       1        0           1        2  10.66   \n",
       "17376  2012-12-31 21:00:00       1        0           1        1  10.66   \n",
       "17377  2012-12-31 22:00:00       1        0           1        1  10.66   \n",
       "17378  2012-12-31 23:00:00       1        0           1        1  10.66   \n",
       "\n",
       "        atemp  humidity  windspeed  casual  registered  count  \n",
       "0      14.395        81     0.0000     3.0        13.0   16.0  \n",
       "1      13.635        80     0.0000     8.0        32.0   40.0  \n",
       "2      13.635        80     0.0000     5.0        27.0   32.0  \n",
       "3      14.395        75     0.0000     3.0        10.0   13.0  \n",
       "4      14.395        75     0.0000     0.0         1.0    1.0  \n",
       "...       ...       ...        ...     ...         ...    ...  \n",
       "17374  12.880        60    11.0014     NaN         NaN    NaN  \n",
       "17375  12.880        60    11.0014     NaN         NaN    NaN  \n",
       "17376  12.880        60    11.0014     NaN         NaN    NaN  \n",
       "17377  13.635        56     8.9981     NaN         NaN    NaN  \n",
       "17378  13.635        65     8.9981     NaN         NaN    NaN  \n",
       "\n",
       "[17379 rows x 12 columns]"
      ]
     },
     "execution_count": 3,
     "metadata": {},
     "output_type": "execute_result"
    }
   ],
   "source": [
    "all_data = pd.concat([train, test], ignore_index=True)\n",
    "all_data"
   ]
  },
  {
   "cell_type": "markdown",
   "id": "mature-giving",
   "metadata": {
    "papermill": {
     "duration": 0.01321,
     "end_time": "2021-05-11T02:40:04.989368",
     "exception": false,
     "start_time": "2021-05-11T02:40:04.976158",
     "status": "completed"
    },
    "tags": []
   },
   "source": [
    "### 파생 변수(피처) 추가"
   ]
  },
  {
   "cell_type": "code",
   "execution_count": 4,
   "id": "decimal-regression",
   "metadata": {
    "_cell_guid": "18f7c3fc-ffdf-4bc6-1d4c-c455fb4e0141",
    "execution": {
     "iopub.execute_input": "2021-05-11T02:40:05.018944Z",
     "iopub.status.busy": "2021-05-11T02:40:05.017953Z",
     "iopub.status.idle": "2021-05-11T02:40:05.202147Z",
     "shell.execute_reply": "2021-05-11T02:40:05.202633Z"
    },
    "papermill": {
     "duration": 0.200783,
     "end_time": "2021-05-11T02:40:05.202822",
     "exception": false,
     "start_time": "2021-05-11T02:40:05.002039",
     "status": "completed"
    },
    "tags": []
   },
   "outputs": [],
   "source": [
    "from datetime import datetime\n",
    "\n",
    "all_data['date'] = all_data['datetime'].apply(lambda x: x.split()[0]) # 날짜 피처 생성\n",
    "all_data['year'] = all_data['datetime'].apply(lambda x: x.split()[0].split('-')[0]) # 연도 피처 생성\n",
    "all_data['month'] = all_data['datetime'].apply(lambda x: x.split()[0].split('-')[1]) # 월 피처 생성\n",
    "all_data['hour'] = all_data['datetime'].apply(lambda x: x.split()[1].split(':')[0]) # 시 피처 생성\n",
    "all_data[\"weekday\"] = all_data['date'].apply(lambda dateString : datetime.strptime(dateString,\"%Y-%m-%d\").weekday()) # 요일 피처 생성"
   ]
  },
  {
   "cell_type": "markdown",
   "id": "departmental-jordan",
   "metadata": {
    "papermill": {
     "duration": 0.012399,
     "end_time": "2021-05-11T02:40:05.227800",
     "exception": false,
     "start_time": "2021-05-11T02:40:05.215401",
     "status": "completed"
    },
    "tags": []
   },
   "source": [
    "### 필요 없는 피처 제거"
   ]
  },
  {
   "cell_type": "code",
   "execution_count": 5,
   "id": "ancient-addiction",
   "metadata": {
    "execution": {
     "iopub.execute_input": "2021-05-11T02:40:05.257137Z",
     "iopub.status.busy": "2021-05-11T02:40:05.256172Z",
     "iopub.status.idle": "2021-05-11T02:40:05.267818Z",
     "shell.execute_reply": "2021-05-11T02:40:05.268264Z"
    },
    "papermill": {
     "duration": 0.027827,
     "end_time": "2021-05-11T02:40:05.268441",
     "exception": false,
     "start_time": "2021-05-11T02:40:05.240614",
     "status": "completed"
    },
    "tags": []
   },
   "outputs": [],
   "source": [
    "drop_features = ['casual', 'registered', 'datetime', 'date', 'datetime', 'windspeed', 'month']\n",
    "\n",
    "all_data = all_data.drop(drop_features, axis=1)"
   ]
  },
  {
   "cell_type": "markdown",
   "id": "varying-newcastle",
   "metadata": {
    "papermill": {
     "duration": 0.01249,
     "end_time": "2021-05-11T02:40:05.293592",
     "exception": false,
     "start_time": "2021-05-11T02:40:05.281102",
     "status": "completed"
    },
    "tags": []
   },
   "source": [
    "### 데이터 나누기"
   ]
  },
  {
   "cell_type": "code",
   "execution_count": 6,
   "id": "mediterranean-phone",
   "metadata": {
    "execution": {
     "iopub.execute_input": "2021-05-11T02:40:05.325038Z",
     "iopub.status.busy": "2021-05-11T02:40:05.324074Z",
     "iopub.status.idle": "2021-05-11T02:40:05.338239Z",
     "shell.execute_reply": "2021-05-11T02:40:05.338984Z"
    },
    "papermill": {
     "duration": 0.032846,
     "end_time": "2021-05-11T02:40:05.339369",
     "exception": false,
     "start_time": "2021-05-11T02:40:05.306523",
     "status": "completed"
    },
    "tags": []
   },
   "outputs": [],
   "source": [
    "X_train = all_data[pd.notnull(all_data['count'])]\n",
    "X_test = all_data[~pd.notnull(all_data['count'])]\n",
    "\n",
    "# 타깃 값 count 제거\n",
    "X_train = X_train.drop(['count'], axis=1)\n",
    "X_test = X_test.drop(['count'], axis=1)\n",
    "\n",
    "y = train['count']"
   ]
  },
  {
   "cell_type": "code",
   "execution_count": 7,
   "id": "gross-monitoring",
   "metadata": {
    "execution": {
     "iopub.execute_input": "2021-05-11T02:40:05.374227Z",
     "iopub.status.busy": "2021-05-11T02:40:05.373234Z",
     "iopub.status.idle": "2021-05-11T02:40:05.391770Z",
     "shell.execute_reply": "2021-05-11T02:40:05.390986Z"
    },
    "papermill": {
     "duration": 0.037263,
     "end_time": "2021-05-11T02:40:05.391997",
     "exception": false,
     "start_time": "2021-05-11T02:40:05.354734",
     "status": "completed"
    },
    "tags": []
   },
   "outputs": [
    {
     "data": {
      "text/html": [
       "<div>\n",
       "<style scoped>\n",
       "    .dataframe tbody tr th:only-of-type {\n",
       "        vertical-align: middle;\n",
       "    }\n",
       "\n",
       "    .dataframe tbody tr th {\n",
       "        vertical-align: top;\n",
       "    }\n",
       "\n",
       "    .dataframe thead th {\n",
       "        text-align: right;\n",
       "    }\n",
       "</style>\n",
       "<table border=\"1\" class=\"dataframe\">\n",
       "  <thead>\n",
       "    <tr style=\"text-align: right;\">\n",
       "      <th></th>\n",
       "      <th>season</th>\n",
       "      <th>holiday</th>\n",
       "      <th>workingday</th>\n",
       "      <th>weather</th>\n",
       "      <th>temp</th>\n",
       "      <th>atemp</th>\n",
       "      <th>humidity</th>\n",
       "      <th>year</th>\n",
       "      <th>hour</th>\n",
       "      <th>weekday</th>\n",
       "    </tr>\n",
       "  </thead>\n",
       "  <tbody>\n",
       "    <tr>\n",
       "      <th>0</th>\n",
       "      <td>1</td>\n",
       "      <td>0</td>\n",
       "      <td>0</td>\n",
       "      <td>1</td>\n",
       "      <td>9.84</td>\n",
       "      <td>14.395</td>\n",
       "      <td>81</td>\n",
       "      <td>2011</td>\n",
       "      <td>00</td>\n",
       "      <td>5</td>\n",
       "    </tr>\n",
       "    <tr>\n",
       "      <th>1</th>\n",
       "      <td>1</td>\n",
       "      <td>0</td>\n",
       "      <td>0</td>\n",
       "      <td>1</td>\n",
       "      <td>9.02</td>\n",
       "      <td>13.635</td>\n",
       "      <td>80</td>\n",
       "      <td>2011</td>\n",
       "      <td>01</td>\n",
       "      <td>5</td>\n",
       "    </tr>\n",
       "    <tr>\n",
       "      <th>2</th>\n",
       "      <td>1</td>\n",
       "      <td>0</td>\n",
       "      <td>0</td>\n",
       "      <td>1</td>\n",
       "      <td>9.02</td>\n",
       "      <td>13.635</td>\n",
       "      <td>80</td>\n",
       "      <td>2011</td>\n",
       "      <td>02</td>\n",
       "      <td>5</td>\n",
       "    </tr>\n",
       "    <tr>\n",
       "      <th>3</th>\n",
       "      <td>1</td>\n",
       "      <td>0</td>\n",
       "      <td>0</td>\n",
       "      <td>1</td>\n",
       "      <td>9.84</td>\n",
       "      <td>14.395</td>\n",
       "      <td>75</td>\n",
       "      <td>2011</td>\n",
       "      <td>03</td>\n",
       "      <td>5</td>\n",
       "    </tr>\n",
       "    <tr>\n",
       "      <th>4</th>\n",
       "      <td>1</td>\n",
       "      <td>0</td>\n",
       "      <td>0</td>\n",
       "      <td>1</td>\n",
       "      <td>9.84</td>\n",
       "      <td>14.395</td>\n",
       "      <td>75</td>\n",
       "      <td>2011</td>\n",
       "      <td>04</td>\n",
       "      <td>5</td>\n",
       "    </tr>\n",
       "  </tbody>\n",
       "</table>\n",
       "</div>"
      ],
      "text/plain": [
       "   season  holiday  workingday  weather  temp   atemp  humidity  year hour  \\\n",
       "0       1        0           0        1  9.84  14.395        81  2011   00   \n",
       "1       1        0           0        1  9.02  13.635        80  2011   01   \n",
       "2       1        0           0        1  9.02  13.635        80  2011   02   \n",
       "3       1        0           0        1  9.84  14.395        75  2011   03   \n",
       "4       1        0           0        1  9.84  14.395        75  2011   04   \n",
       "\n",
       "   weekday  \n",
       "0        5  \n",
       "1        5  \n",
       "2        5  \n",
       "3        5  \n",
       "4        5  "
      ]
     },
     "execution_count": 7,
     "metadata": {},
     "output_type": "execute_result"
    }
   ],
   "source": [
    "X_train.head()"
   ]
  },
  {
   "cell_type": "markdown",
   "id": "tropical-happiness",
   "metadata": {
    "papermill": {
     "duration": 0.018166,
     "end_time": "2021-05-11T02:40:05.428251",
     "exception": false,
     "start_time": "2021-05-11T02:40:05.410085",
     "status": "completed"
    },
    "tags": []
   },
   "source": [
    "## 3.4.2 평가지표 계산 함수 작성"
   ]
  },
  {
   "cell_type": "code",
   "execution_count": 8,
   "id": "sorted-headquarters",
   "metadata": {
    "execution": {
     "iopub.execute_input": "2021-05-11T02:40:05.463115Z",
     "iopub.status.busy": "2021-05-11T02:40:05.462490Z",
     "iopub.status.idle": "2021-05-11T02:40:05.465679Z",
     "shell.execute_reply": "2021-05-11T02:40:05.465023Z"
    },
    "papermill": {
     "duration": 0.023702,
     "end_time": "2021-05-11T02:40:05.465849",
     "exception": false,
     "start_time": "2021-05-11T02:40:05.442147",
     "status": "completed"
    },
    "tags": []
   },
   "outputs": [],
   "source": [
    "import numpy as np\n",
    "\n",
    "def rmsle(y_true, y_pred, convertExp=True):\n",
    "    # 지수변\n",
    "    if convertExp:\n",
    "        y_true = np.exp(y_true)\n",
    "        y_pred = np.exp(y_pred)\n",
    "        \n",
    "    # 로그변환 후 결측값을 0으로 변환\n",
    "    log_true = np.nan_to_num(np.array([np.log(y+1) for y in y_true]))\n",
    "    log_pred = np.nan_to_num(np.array([np.log(y+1) for y in y_pred]))\n",
    "    \n",
    "    # RMSLE 계산\n",
    "    output = np.sqrt(np.mean((log_true - log_pred)**2))\n",
    "    return output"
   ]
  },
  {
   "cell_type": "markdown",
   "id": "global-frequency",
   "metadata": {
    "papermill": {
     "duration": 0.014287,
     "end_time": "2021-05-11T02:40:05.494670",
     "exception": false,
     "start_time": "2021-05-11T02:40:05.480383",
     "status": "completed"
    },
    "tags": []
   },
   "source": [
    "## 3.4.3 모델 훈련"
   ]
  },
  {
   "cell_type": "code",
   "execution_count": 9,
   "id": "overall-invasion",
   "metadata": {
    "execution": {
     "iopub.execute_input": "2021-05-11T02:40:05.527491Z",
     "iopub.status.busy": "2021-05-11T02:40:05.526791Z",
     "iopub.status.idle": "2021-05-11T02:40:06.701280Z",
     "shell.execute_reply": "2021-05-11T02:40:06.700680Z"
    },
    "papermill": {
     "duration": 1.19295,
     "end_time": "2021-05-11T02:40:06.701531",
     "exception": false,
     "start_time": "2021-05-11T02:40:05.508581",
     "status": "completed"
    },
    "tags": []
   },
   "outputs": [],
   "source": [
    "from sklearn.linear_model import LinearRegression\n",
    "\n",
    "linear_reg_model = LinearRegression()"
   ]
  },
  {
   "cell_type": "code",
   "execution_count": 10,
   "id": "copyrighted-consolidation",
   "metadata": {
    "execution": {
     "iopub.execute_input": "2021-05-11T02:40:06.734170Z",
     "iopub.status.busy": "2021-05-11T02:40:06.733543Z",
     "iopub.status.idle": "2021-05-11T02:40:06.769052Z",
     "shell.execute_reply": "2021-05-11T02:40:06.768536Z"
    },
    "papermill": {
     "duration": 0.053559,
     "end_time": "2021-05-11T02:40:06.769215",
     "exception": false,
     "start_time": "2021-05-11T02:40:06.715656",
     "status": "completed"
    },
    "tags": []
   },
   "outputs": [
    {
     "data": {
      "text/plain": [
       "LinearRegression()"
      ]
     },
     "execution_count": 10,
     "metadata": {},
     "output_type": "execute_result"
    }
   ],
   "source": [
    "log_y = np.log1p(y)  # 타깃 값 로그변환\n",
    "linear_reg_model.fit(X_train, log_y) # 훈련"
   ]
  },
  {
   "cell_type": "markdown",
   "id": "seasonal-polyester",
   "metadata": {
    "papermill": {
     "duration": 0.013625,
     "end_time": "2021-05-11T02:40:06.796927",
     "exception": false,
     "start_time": "2021-05-11T02:40:06.783302",
     "status": "completed"
    },
    "tags": []
   },
   "source": [
    "## 3.4.4 모델 성능 검증"
   ]
  },
  {
   "cell_type": "code",
   "execution_count": 11,
   "id": "explicit-cross",
   "metadata": {
    "execution": {
     "iopub.execute_input": "2021-05-11T02:40:06.828677Z",
     "iopub.status.busy": "2021-05-11T02:40:06.827781Z",
     "iopub.status.idle": "2021-05-11T02:40:06.847903Z",
     "shell.execute_reply": "2021-05-11T02:40:06.848895Z"
    },
    "papermill": {
     "duration": 0.038485,
     "end_time": "2021-05-11T02:40:06.849160",
     "exception": false,
     "start_time": "2021-05-11T02:40:06.810675",
     "status": "completed"
    },
    "tags": []
   },
   "outputs": [],
   "source": [
    "preds = linear_reg_model.predict(X_train)"
   ]
  },
  {
   "cell_type": "code",
   "execution_count": 12,
   "id": "dedicated-massachusetts",
   "metadata": {
    "execution": {
     "iopub.execute_input": "2021-05-11T02:40:06.926950Z",
     "iopub.status.busy": "2021-05-11T02:40:06.926058Z",
     "iopub.status.idle": "2021-05-11T02:40:06.979189Z",
     "shell.execute_reply": "2021-05-11T02:40:06.979824Z"
    },
    "papermill": {
     "duration": 0.097171,
     "end_time": "2021-05-11T02:40:06.980058",
     "exception": false,
     "start_time": "2021-05-11T02:40:06.882887",
     "status": "completed"
    },
    "tags": []
   },
   "outputs": [
    {
     "name": "stdout",
     "output_type": "stream",
     "text": [
      "선형회귀의 RMSLE 값: 0.9803697923313486\n"
     ]
    }
   ],
   "source": [
    "print ('선형회귀의 RMSLE 값:', rmsle(log_y, preds, True))"
   ]
  },
  {
   "cell_type": "markdown",
   "id": "broke-breakfast",
   "metadata": {
    "papermill": {
     "duration": 0.013939,
     "end_time": "2021-05-11T02:40:07.009028",
     "exception": false,
     "start_time": "2021-05-11T02:40:06.995089",
     "status": "completed"
    },
    "tags": []
   },
   "source": [
    "## 3.4.5 예측 및 결과 제출"
   ]
  },
  {
   "cell_type": "code",
   "execution_count": 13,
   "id": "absent-financing",
   "metadata": {
    "execution": {
     "iopub.execute_input": "2021-05-11T02:40:07.045393Z",
     "iopub.status.busy": "2021-05-11T02:40:07.044638Z",
     "iopub.status.idle": "2021-05-11T02:40:07.093987Z",
     "shell.execute_reply": "2021-05-11T02:40:07.094725Z"
    },
    "papermill": {
     "duration": 0.071958,
     "end_time": "2021-05-11T02:40:07.095023",
     "exception": false,
     "start_time": "2021-05-11T02:40:07.023065",
     "status": "completed"
    },
    "tags": []
   },
   "outputs": [],
   "source": [
    "linearreg_preds = linear_reg_model.predict(X_test) # 테스트 데이터로 예측\n",
    "\n",
    "submission['count'] = np.exp(linearreg_preds) # 지수변환\n",
    "submission.to_csv('submission.csv', index=False) # 파일로 저장"
   ]
  }
 ],
 "metadata": {
  "kernelspec": {
   "display_name": "Python 3",
   "language": "python",
   "name": "python3"
  },
  "language_info": {
   "codemirror_mode": {
    "name": "ipython",
    "version": 3
   },
   "file_extension": ".py",
   "mimetype": "text/x-python",
   "name": "python",
   "nbconvert_exporter": "python",
   "pygments_lexer": "ipython3",
   "version": "3.7.10"
  },
  "papermill": {
   "default_parameters": {},
   "duration": 11.899245,
   "end_time": "2021-05-11T02:40:08.716560",
   "environment_variables": {},
   "exception": null,
   "input_path": "__notebook__.ipynb",
   "output_path": "__notebook__.ipynb",
   "parameters": {},
   "start_time": "2021-05-11T02:39:56.817315",
   "version": "2.3.3"
  }
 },
 "nbformat": 4,
 "nbformat_minor": 5
}
