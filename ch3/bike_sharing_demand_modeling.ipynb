{
 "cells": [
  {
   "cell_type": "markdown",
   "metadata": {
    "papermill": {
     "duration": 0.021693,
     "end_time": "2020-12-19T08:18:35.068862",
     "exception": false,
     "start_time": "2020-12-19T08:18:35.047169",
     "status": "completed"
    },
    "tags": []
   },
   "source": [
    "# 자전거 대여 수요 예측 경진대회 모델링"
   ]
  },
  {
   "cell_type": "markdown",
   "metadata": {
    "papermill": {
     "duration": 0.019509,
     "end_time": "2020-12-19T08:18:35.107078",
     "exception": false,
     "start_time": "2020-12-19T08:18:35.087569",
     "status": "completed"
    },
    "tags": []
   },
   "source": [
    "- [자전거 대여 수요 예측 경진대회 링크](https://www.kaggle.com/c/bike-sharing-demand)\n",
    "\n",
    "- [모델링 노트북 참고 링크](https://www.kaggle.com/viveksrinivasan/eda-ensemble-model-top-10-percentile)"
   ]
  },
  {
   "cell_type": "code",
   "execution_count": 1,
   "metadata": {
    "_cell_guid": "057b1690-5b93-9f14-eafe-fad12c00da69",
    "execution": {
     "iopub.execute_input": "2020-12-19T08:18:35.147951Z",
     "iopub.status.busy": "2020-12-19T08:18:35.147212Z",
     "iopub.status.idle": "2020-12-19T08:18:35.233929Z",
     "shell.execute_reply": "2020-12-19T08:18:35.233331Z"
    },
    "papermill": {
     "duration": 0.108281,
     "end_time": "2020-12-19T08:18:35.234056",
     "exception": false,
     "start_time": "2020-12-19T08:18:35.125775",
     "status": "completed"
    },
    "tags": []
   },
   "outputs": [],
   "source": [
    "import numpy as np\n",
    "import pandas as pd\n",
    "\n",
    "train = pd.read_csv(\"/kaggle/input/train.csv\")\n",
    "test = pd.read_csv(\"/kaggle/input/test.csv\")\n",
    "submission = pd.read_csv(\"/kaggle/input/sampleSubmission.csv\")"
   ]
  },
  {
   "cell_type": "code",
   "execution_count": 2,
   "metadata": {
    "execution": {
     "iopub.execute_input": "2020-12-19T08:18:35.278415Z",
     "iopub.status.busy": "2020-12-19T08:18:35.277751Z",
     "iopub.status.idle": "2020-12-19T08:18:35.283355Z",
     "shell.execute_reply": "2020-12-19T08:18:35.282782Z"
    },
    "papermill": {
     "duration": 0.030597,
     "end_time": "2020-12-19T08:18:35.283507",
     "exception": false,
     "start_time": "2020-12-19T08:18:35.252910",
     "status": "completed"
    },
    "tags": []
   },
   "outputs": [
    {
     "data": {
      "text/plain": [
       "((10886, 12), (6493, 9))"
      ]
     },
     "execution_count": 2,
     "metadata": {},
     "output_type": "execute_result"
    }
   ],
   "source": [
    "train.shape, test.shape"
   ]
  },
  {
   "cell_type": "code",
   "execution_count": 3,
   "metadata": {
    "execution": {
     "iopub.execute_input": "2020-12-19T08:18:35.326547Z",
     "iopub.status.busy": "2020-12-19T08:18:35.325490Z",
     "iopub.status.idle": "2020-12-19T08:18:35.368724Z",
     "shell.execute_reply": "2020-12-19T08:18:35.368173Z"
    },
    "papermill": {
     "duration": 0.065359,
     "end_time": "2020-12-19T08:18:35.368858",
     "exception": false,
     "start_time": "2020-12-19T08:18:35.303499",
     "status": "completed"
    },
    "tags": []
   },
   "outputs": [
    {
     "data": {
      "text/html": [
       "<div>\n",
       "<style scoped>\n",
       "    .dataframe tbody tr th:only-of-type {\n",
       "        vertical-align: middle;\n",
       "    }\n",
       "\n",
       "    .dataframe tbody tr th {\n",
       "        vertical-align: top;\n",
       "    }\n",
       "\n",
       "    .dataframe thead th {\n",
       "        text-align: right;\n",
       "    }\n",
       "</style>\n",
       "<table border=\"1\" class=\"dataframe\">\n",
       "  <thead>\n",
       "    <tr style=\"text-align: right;\">\n",
       "      <th></th>\n",
       "      <th>datetime</th>\n",
       "      <th>season</th>\n",
       "      <th>holiday</th>\n",
       "      <th>workingday</th>\n",
       "      <th>weather</th>\n",
       "      <th>temp</th>\n",
       "      <th>atemp</th>\n",
       "      <th>humidity</th>\n",
       "      <th>windspeed</th>\n",
       "      <th>casual</th>\n",
       "      <th>registered</th>\n",
       "      <th>count</th>\n",
       "    </tr>\n",
       "  </thead>\n",
       "  <tbody>\n",
       "    <tr>\n",
       "      <th>0</th>\n",
       "      <td>2011-01-01 00:00:00</td>\n",
       "      <td>1</td>\n",
       "      <td>0</td>\n",
       "      <td>0</td>\n",
       "      <td>1</td>\n",
       "      <td>9.84</td>\n",
       "      <td>14.395</td>\n",
       "      <td>81</td>\n",
       "      <td>0.0000</td>\n",
       "      <td>3.0</td>\n",
       "      <td>13.0</td>\n",
       "      <td>16.0</td>\n",
       "    </tr>\n",
       "    <tr>\n",
       "      <th>1</th>\n",
       "      <td>2011-01-01 01:00:00</td>\n",
       "      <td>1</td>\n",
       "      <td>0</td>\n",
       "      <td>0</td>\n",
       "      <td>1</td>\n",
       "      <td>9.02</td>\n",
       "      <td>13.635</td>\n",
       "      <td>80</td>\n",
       "      <td>0.0000</td>\n",
       "      <td>8.0</td>\n",
       "      <td>32.0</td>\n",
       "      <td>40.0</td>\n",
       "    </tr>\n",
       "    <tr>\n",
       "      <th>2</th>\n",
       "      <td>2011-01-01 02:00:00</td>\n",
       "      <td>1</td>\n",
       "      <td>0</td>\n",
       "      <td>0</td>\n",
       "      <td>1</td>\n",
       "      <td>9.02</td>\n",
       "      <td>13.635</td>\n",
       "      <td>80</td>\n",
       "      <td>0.0000</td>\n",
       "      <td>5.0</td>\n",
       "      <td>27.0</td>\n",
       "      <td>32.0</td>\n",
       "    </tr>\n",
       "    <tr>\n",
       "      <th>3</th>\n",
       "      <td>2011-01-01 03:00:00</td>\n",
       "      <td>1</td>\n",
       "      <td>0</td>\n",
       "      <td>0</td>\n",
       "      <td>1</td>\n",
       "      <td>9.84</td>\n",
       "      <td>14.395</td>\n",
       "      <td>75</td>\n",
       "      <td>0.0000</td>\n",
       "      <td>3.0</td>\n",
       "      <td>10.0</td>\n",
       "      <td>13.0</td>\n",
       "    </tr>\n",
       "    <tr>\n",
       "      <th>4</th>\n",
       "      <td>2011-01-01 04:00:00</td>\n",
       "      <td>1</td>\n",
       "      <td>0</td>\n",
       "      <td>0</td>\n",
       "      <td>1</td>\n",
       "      <td>9.84</td>\n",
       "      <td>14.395</td>\n",
       "      <td>75</td>\n",
       "      <td>0.0000</td>\n",
       "      <td>0.0</td>\n",
       "      <td>1.0</td>\n",
       "      <td>1.0</td>\n",
       "    </tr>\n",
       "    <tr>\n",
       "      <th>...</th>\n",
       "      <td>...</td>\n",
       "      <td>...</td>\n",
       "      <td>...</td>\n",
       "      <td>...</td>\n",
       "      <td>...</td>\n",
       "      <td>...</td>\n",
       "      <td>...</td>\n",
       "      <td>...</td>\n",
       "      <td>...</td>\n",
       "      <td>...</td>\n",
       "      <td>...</td>\n",
       "      <td>...</td>\n",
       "    </tr>\n",
       "    <tr>\n",
       "      <th>6488</th>\n",
       "      <td>2012-12-31 19:00:00</td>\n",
       "      <td>1</td>\n",
       "      <td>0</td>\n",
       "      <td>1</td>\n",
       "      <td>2</td>\n",
       "      <td>10.66</td>\n",
       "      <td>12.880</td>\n",
       "      <td>60</td>\n",
       "      <td>11.0014</td>\n",
       "      <td>NaN</td>\n",
       "      <td>NaN</td>\n",
       "      <td>NaN</td>\n",
       "    </tr>\n",
       "    <tr>\n",
       "      <th>6489</th>\n",
       "      <td>2012-12-31 20:00:00</td>\n",
       "      <td>1</td>\n",
       "      <td>0</td>\n",
       "      <td>1</td>\n",
       "      <td>2</td>\n",
       "      <td>10.66</td>\n",
       "      <td>12.880</td>\n",
       "      <td>60</td>\n",
       "      <td>11.0014</td>\n",
       "      <td>NaN</td>\n",
       "      <td>NaN</td>\n",
       "      <td>NaN</td>\n",
       "    </tr>\n",
       "    <tr>\n",
       "      <th>6490</th>\n",
       "      <td>2012-12-31 21:00:00</td>\n",
       "      <td>1</td>\n",
       "      <td>0</td>\n",
       "      <td>1</td>\n",
       "      <td>1</td>\n",
       "      <td>10.66</td>\n",
       "      <td>12.880</td>\n",
       "      <td>60</td>\n",
       "      <td>11.0014</td>\n",
       "      <td>NaN</td>\n",
       "      <td>NaN</td>\n",
       "      <td>NaN</td>\n",
       "    </tr>\n",
       "    <tr>\n",
       "      <th>6491</th>\n",
       "      <td>2012-12-31 22:00:00</td>\n",
       "      <td>1</td>\n",
       "      <td>0</td>\n",
       "      <td>1</td>\n",
       "      <td>1</td>\n",
       "      <td>10.66</td>\n",
       "      <td>13.635</td>\n",
       "      <td>56</td>\n",
       "      <td>8.9981</td>\n",
       "      <td>NaN</td>\n",
       "      <td>NaN</td>\n",
       "      <td>NaN</td>\n",
       "    </tr>\n",
       "    <tr>\n",
       "      <th>6492</th>\n",
       "      <td>2012-12-31 23:00:00</td>\n",
       "      <td>1</td>\n",
       "      <td>0</td>\n",
       "      <td>1</td>\n",
       "      <td>1</td>\n",
       "      <td>10.66</td>\n",
       "      <td>13.635</td>\n",
       "      <td>65</td>\n",
       "      <td>8.9981</td>\n",
       "      <td>NaN</td>\n",
       "      <td>NaN</td>\n",
       "      <td>NaN</td>\n",
       "    </tr>\n",
       "  </tbody>\n",
       "</table>\n",
       "<p>17379 rows × 12 columns</p>\n",
       "</div>"
      ],
      "text/plain": [
       "                 datetime  season  holiday  workingday  weather   temp  \\\n",
       "0     2011-01-01 00:00:00       1        0           0        1   9.84   \n",
       "1     2011-01-01 01:00:00       1        0           0        1   9.02   \n",
       "2     2011-01-01 02:00:00       1        0           0        1   9.02   \n",
       "3     2011-01-01 03:00:00       1        0           0        1   9.84   \n",
       "4     2011-01-01 04:00:00       1        0           0        1   9.84   \n",
       "...                   ...     ...      ...         ...      ...    ...   \n",
       "6488  2012-12-31 19:00:00       1        0           1        2  10.66   \n",
       "6489  2012-12-31 20:00:00       1        0           1        2  10.66   \n",
       "6490  2012-12-31 21:00:00       1        0           1        1  10.66   \n",
       "6491  2012-12-31 22:00:00       1        0           1        1  10.66   \n",
       "6492  2012-12-31 23:00:00       1        0           1        1  10.66   \n",
       "\n",
       "       atemp  humidity  windspeed  casual  registered  count  \n",
       "0     14.395        81     0.0000     3.0        13.0   16.0  \n",
       "1     13.635        80     0.0000     8.0        32.0   40.0  \n",
       "2     13.635        80     0.0000     5.0        27.0   32.0  \n",
       "3     14.395        75     0.0000     3.0        10.0   13.0  \n",
       "4     14.395        75     0.0000     0.0         1.0    1.0  \n",
       "...      ...       ...        ...     ...         ...    ...  \n",
       "6488  12.880        60    11.0014     NaN         NaN    NaN  \n",
       "6489  12.880        60    11.0014     NaN         NaN    NaN  \n",
       "6490  12.880        60    11.0014     NaN         NaN    NaN  \n",
       "6491  13.635        56     8.9981     NaN         NaN    NaN  \n",
       "6492  13.635        65     8.9981     NaN         NaN    NaN  \n",
       "\n",
       "[17379 rows x 12 columns]"
      ]
     },
     "execution_count": 3,
     "metadata": {},
     "output_type": "execute_result"
    }
   ],
   "source": [
    "all_data_temp = pd.concat([train, test], ignore_index=False)\n",
    "all_data_temp"
   ]
  },
  {
   "cell_type": "code",
   "execution_count": 4,
   "metadata": {
    "execution": {
     "iopub.execute_input": "2020-12-19T08:18:35.415654Z",
     "iopub.status.busy": "2020-12-19T08:18:35.414616Z",
     "iopub.status.idle": "2020-12-19T08:18:35.442220Z",
     "shell.execute_reply": "2020-12-19T08:18:35.442889Z"
    },
    "papermill": {
     "duration": 0.054166,
     "end_time": "2020-12-19T08:18:35.443046",
     "exception": false,
     "start_time": "2020-12-19T08:18:35.388880",
     "status": "completed"
    },
    "tags": []
   },
   "outputs": [
    {
     "data": {
      "text/html": [
       "<div>\n",
       "<style scoped>\n",
       "    .dataframe tbody tr th:only-of-type {\n",
       "        vertical-align: middle;\n",
       "    }\n",
       "\n",
       "    .dataframe tbody tr th {\n",
       "        vertical-align: top;\n",
       "    }\n",
       "\n",
       "    .dataframe thead th {\n",
       "        text-align: right;\n",
       "    }\n",
       "</style>\n",
       "<table border=\"1\" class=\"dataframe\">\n",
       "  <thead>\n",
       "    <tr style=\"text-align: right;\">\n",
       "      <th></th>\n",
       "      <th>datetime</th>\n",
       "      <th>season</th>\n",
       "      <th>holiday</th>\n",
       "      <th>workingday</th>\n",
       "      <th>weather</th>\n",
       "      <th>temp</th>\n",
       "      <th>atemp</th>\n",
       "      <th>humidity</th>\n",
       "      <th>windspeed</th>\n",
       "      <th>casual</th>\n",
       "      <th>registered</th>\n",
       "      <th>count</th>\n",
       "    </tr>\n",
       "  </thead>\n",
       "  <tbody>\n",
       "    <tr>\n",
       "      <th>0</th>\n",
       "      <td>2011-01-01 00:00:00</td>\n",
       "      <td>1</td>\n",
       "      <td>0</td>\n",
       "      <td>0</td>\n",
       "      <td>1</td>\n",
       "      <td>9.84</td>\n",
       "      <td>14.395</td>\n",
       "      <td>81</td>\n",
       "      <td>0.0000</td>\n",
       "      <td>3.0</td>\n",
       "      <td>13.0</td>\n",
       "      <td>16.0</td>\n",
       "    </tr>\n",
       "    <tr>\n",
       "      <th>1</th>\n",
       "      <td>2011-01-01 01:00:00</td>\n",
       "      <td>1</td>\n",
       "      <td>0</td>\n",
       "      <td>0</td>\n",
       "      <td>1</td>\n",
       "      <td>9.02</td>\n",
       "      <td>13.635</td>\n",
       "      <td>80</td>\n",
       "      <td>0.0000</td>\n",
       "      <td>8.0</td>\n",
       "      <td>32.0</td>\n",
       "      <td>40.0</td>\n",
       "    </tr>\n",
       "    <tr>\n",
       "      <th>2</th>\n",
       "      <td>2011-01-01 02:00:00</td>\n",
       "      <td>1</td>\n",
       "      <td>0</td>\n",
       "      <td>0</td>\n",
       "      <td>1</td>\n",
       "      <td>9.02</td>\n",
       "      <td>13.635</td>\n",
       "      <td>80</td>\n",
       "      <td>0.0000</td>\n",
       "      <td>5.0</td>\n",
       "      <td>27.0</td>\n",
       "      <td>32.0</td>\n",
       "    </tr>\n",
       "    <tr>\n",
       "      <th>3</th>\n",
       "      <td>2011-01-01 03:00:00</td>\n",
       "      <td>1</td>\n",
       "      <td>0</td>\n",
       "      <td>0</td>\n",
       "      <td>1</td>\n",
       "      <td>9.84</td>\n",
       "      <td>14.395</td>\n",
       "      <td>75</td>\n",
       "      <td>0.0000</td>\n",
       "      <td>3.0</td>\n",
       "      <td>10.0</td>\n",
       "      <td>13.0</td>\n",
       "    </tr>\n",
       "    <tr>\n",
       "      <th>4</th>\n",
       "      <td>2011-01-01 04:00:00</td>\n",
       "      <td>1</td>\n",
       "      <td>0</td>\n",
       "      <td>0</td>\n",
       "      <td>1</td>\n",
       "      <td>9.84</td>\n",
       "      <td>14.395</td>\n",
       "      <td>75</td>\n",
       "      <td>0.0000</td>\n",
       "      <td>0.0</td>\n",
       "      <td>1.0</td>\n",
       "      <td>1.0</td>\n",
       "    </tr>\n",
       "    <tr>\n",
       "      <th>...</th>\n",
       "      <td>...</td>\n",
       "      <td>...</td>\n",
       "      <td>...</td>\n",
       "      <td>...</td>\n",
       "      <td>...</td>\n",
       "      <td>...</td>\n",
       "      <td>...</td>\n",
       "      <td>...</td>\n",
       "      <td>...</td>\n",
       "      <td>...</td>\n",
       "      <td>...</td>\n",
       "      <td>...</td>\n",
       "    </tr>\n",
       "    <tr>\n",
       "      <th>17374</th>\n",
       "      <td>2012-12-31 19:00:00</td>\n",
       "      <td>1</td>\n",
       "      <td>0</td>\n",
       "      <td>1</td>\n",
       "      <td>2</td>\n",
       "      <td>10.66</td>\n",
       "      <td>12.880</td>\n",
       "      <td>60</td>\n",
       "      <td>11.0014</td>\n",
       "      <td>NaN</td>\n",
       "      <td>NaN</td>\n",
       "      <td>NaN</td>\n",
       "    </tr>\n",
       "    <tr>\n",
       "      <th>17375</th>\n",
       "      <td>2012-12-31 20:00:00</td>\n",
       "      <td>1</td>\n",
       "      <td>0</td>\n",
       "      <td>1</td>\n",
       "      <td>2</td>\n",
       "      <td>10.66</td>\n",
       "      <td>12.880</td>\n",
       "      <td>60</td>\n",
       "      <td>11.0014</td>\n",
       "      <td>NaN</td>\n",
       "      <td>NaN</td>\n",
       "      <td>NaN</td>\n",
       "    </tr>\n",
       "    <tr>\n",
       "      <th>17376</th>\n",
       "      <td>2012-12-31 21:00:00</td>\n",
       "      <td>1</td>\n",
       "      <td>0</td>\n",
       "      <td>1</td>\n",
       "      <td>1</td>\n",
       "      <td>10.66</td>\n",
       "      <td>12.880</td>\n",
       "      <td>60</td>\n",
       "      <td>11.0014</td>\n",
       "      <td>NaN</td>\n",
       "      <td>NaN</td>\n",
       "      <td>NaN</td>\n",
       "    </tr>\n",
       "    <tr>\n",
       "      <th>17377</th>\n",
       "      <td>2012-12-31 22:00:00</td>\n",
       "      <td>1</td>\n",
       "      <td>0</td>\n",
       "      <td>1</td>\n",
       "      <td>1</td>\n",
       "      <td>10.66</td>\n",
       "      <td>13.635</td>\n",
       "      <td>56</td>\n",
       "      <td>8.9981</td>\n",
       "      <td>NaN</td>\n",
       "      <td>NaN</td>\n",
       "      <td>NaN</td>\n",
       "    </tr>\n",
       "    <tr>\n",
       "      <th>17378</th>\n",
       "      <td>2012-12-31 23:00:00</td>\n",
       "      <td>1</td>\n",
       "      <td>0</td>\n",
       "      <td>1</td>\n",
       "      <td>1</td>\n",
       "      <td>10.66</td>\n",
       "      <td>13.635</td>\n",
       "      <td>65</td>\n",
       "      <td>8.9981</td>\n",
       "      <td>NaN</td>\n",
       "      <td>NaN</td>\n",
       "      <td>NaN</td>\n",
       "    </tr>\n",
       "  </tbody>\n",
       "</table>\n",
       "<p>17379 rows × 12 columns</p>\n",
       "</div>"
      ],
      "text/plain": [
       "                  datetime  season  holiday  workingday  weather   temp  \\\n",
       "0      2011-01-01 00:00:00       1        0           0        1   9.84   \n",
       "1      2011-01-01 01:00:00       1        0           0        1   9.02   \n",
       "2      2011-01-01 02:00:00       1        0           0        1   9.02   \n",
       "3      2011-01-01 03:00:00       1        0           0        1   9.84   \n",
       "4      2011-01-01 04:00:00       1        0           0        1   9.84   \n",
       "...                    ...     ...      ...         ...      ...    ...   \n",
       "17374  2012-12-31 19:00:00       1        0           1        2  10.66   \n",
       "17375  2012-12-31 20:00:00       1        0           1        2  10.66   \n",
       "17376  2012-12-31 21:00:00       1        0           1        1  10.66   \n",
       "17377  2012-12-31 22:00:00       1        0           1        1  10.66   \n",
       "17378  2012-12-31 23:00:00       1        0           1        1  10.66   \n",
       "\n",
       "        atemp  humidity  windspeed  casual  registered  count  \n",
       "0      14.395        81     0.0000     3.0        13.0   16.0  \n",
       "1      13.635        80     0.0000     8.0        32.0   40.0  \n",
       "2      13.635        80     0.0000     5.0        27.0   32.0  \n",
       "3      14.395        75     0.0000     3.0        10.0   13.0  \n",
       "4      14.395        75     0.0000     0.0         1.0    1.0  \n",
       "...       ...       ...        ...     ...         ...    ...  \n",
       "17374  12.880        60    11.0014     NaN         NaN    NaN  \n",
       "17375  12.880        60    11.0014     NaN         NaN    NaN  \n",
       "17376  12.880        60    11.0014     NaN         NaN    NaN  \n",
       "17377  13.635        56     8.9981     NaN         NaN    NaN  \n",
       "17378  13.635        65     8.9981     NaN         NaN    NaN  \n",
       "\n",
       "[17379 rows x 12 columns]"
      ]
     },
     "execution_count": 4,
     "metadata": {},
     "output_type": "execute_result"
    }
   ],
   "source": [
    "all_data = pd.concat([train, test], ignore_index=True)\n",
    "all_data"
   ]
  },
  {
   "cell_type": "markdown",
   "metadata": {
    "_cell_guid": "25e226ba-1c12-3fd3-08d8-fe69f9748b73",
    "papermill": {
     "duration": 0.0206,
     "end_time": "2020-12-19T08:18:35.485347",
     "exception": false,
     "start_time": "2020-12-19T08:18:35.464747",
     "status": "completed"
    },
    "tags": []
   },
   "source": [
    "## 피처 엔지니어링"
   ]
  },
  {
   "cell_type": "code",
   "execution_count": 5,
   "metadata": {
    "_cell_guid": "18f7c3fc-ffdf-4bc6-1d4c-c455fb4e0141",
    "execution": {
     "iopub.execute_input": "2020-12-19T08:18:35.531458Z",
     "iopub.status.busy": "2020-12-19T08:18:35.530770Z",
     "iopub.status.idle": "2020-12-19T08:18:35.835583Z",
     "shell.execute_reply": "2020-12-19T08:18:35.834004Z"
    },
    "papermill": {
     "duration": 0.328675,
     "end_time": "2020-12-19T08:18:35.835742",
     "exception": false,
     "start_time": "2020-12-19T08:18:35.507067",
     "status": "completed"
    },
    "tags": []
   },
   "outputs": [],
   "source": [
    "from datetime import datetime\n",
    "\n",
    "all_data['date'] = all_data['datetime'].apply(lambda x: x.split()[0]) # 날짜 피처 생성\n",
    "all_data['year'] = all_data['datetime'].apply(lambda x: x.split()[0].split('-')[0]) # 연도 피처 생성\n",
    "all_data['month'] = all_data['datetime'].apply(lambda x: x.split()[0].split('-')[1]) # 월 피처 생성\n",
    "all_data['hour'] = all_data['datetime'].apply(lambda x: x.split()[1].split(':')[0]) # 시 피처 생성\n",
    "all_data[\"weekday\"] = all_data['date'].apply(lambda dateString : datetime.strptime(dateString,\"%Y-%m-%d\").weekday()) # 요일 피처 생성"
   ]
  },
  {
   "cell_type": "markdown",
   "metadata": {
    "papermill": {
     "duration": 0.020856,
     "end_time": "2020-12-19T08:18:35.877874",
     "exception": false,
     "start_time": "2020-12-19T08:18:35.857018",
     "status": "completed"
    },
    "tags": []
   },
   "source": [
    "#### 범주형 데이터 타입 변경"
   ]
  },
  {
   "cell_type": "code",
   "execution_count": 6,
   "metadata": {
    "execution": {
     "iopub.execute_input": "2020-12-19T08:18:35.928660Z",
     "iopub.status.busy": "2020-12-19T08:18:35.927550Z",
     "iopub.status.idle": "2020-12-19T08:18:35.944173Z",
     "shell.execute_reply": "2020-12-19T08:18:35.943545Z"
    },
    "papermill": {
     "duration": 0.045332,
     "end_time": "2020-12-19T08:18:35.944297",
     "exception": false,
     "start_time": "2020-12-19T08:18:35.898965",
     "status": "completed"
    },
    "tags": []
   },
   "outputs": [],
   "source": [
    "categorical_features = ['season', 'holiday', 'workingday', 'weather', 'weekday', 'month', 'year', 'hour']\n",
    "\n",
    "for feature in categorical_features:\n",
    "    all_data[feature] = all_data[feature].astype(\"category\")"
   ]
  },
  {
   "cell_type": "code",
   "execution_count": 7,
   "metadata": {
    "execution": {
     "iopub.execute_input": "2020-12-19T08:18:35.996464Z",
     "iopub.status.busy": "2020-12-19T08:18:35.995251Z",
     "iopub.status.idle": "2020-12-19T08:18:36.027082Z",
     "shell.execute_reply": "2020-12-19T08:18:36.026331Z"
    },
    "papermill": {
     "duration": 0.061393,
     "end_time": "2020-12-19T08:18:36.027202",
     "exception": false,
     "start_time": "2020-12-19T08:18:35.965809",
     "status": "completed"
    },
    "tags": []
   },
   "outputs": [],
   "source": [
    "train = all_data[pd.notnull(all_data['count'])].sort_values(by=['datetime'])\n",
    "test = all_data[~pd.notnull(all_data['count'])].sort_values(by=['datetime'])\n",
    "\n",
    "y = train['count']"
   ]
  },
  {
   "cell_type": "code",
   "execution_count": 8,
   "metadata": {
    "execution": {
     "iopub.execute_input": "2020-12-19T08:18:36.078595Z",
     "iopub.status.busy": "2020-12-19T08:18:36.077882Z",
     "iopub.status.idle": "2020-12-19T08:18:36.081107Z",
     "shell.execute_reply": "2020-12-19T08:18:36.080563Z"
    },
    "papermill": {
     "duration": 0.03258,
     "end_time": "2020-12-19T08:18:36.081215",
     "exception": false,
     "start_time": "2020-12-19T08:18:36.048635",
     "status": "completed"
    },
    "tags": []
   },
   "outputs": [],
   "source": [
    "drop_features = ['count', 'casual', 'registered', 'datetime', 'date', 'windspeed', 'month']\n",
    "\n",
    "X_train = train.drop(drop_features, axis=1)\n",
    "X_test = test.drop(drop_features, axis=1)"
   ]
  },
  {
   "cell_type": "code",
   "execution_count": 9,
   "metadata": {
    "execution": {
     "iopub.execute_input": "2020-12-19T08:18:36.132561Z",
     "iopub.status.busy": "2020-12-19T08:18:36.131842Z",
     "iopub.status.idle": "2020-12-19T08:18:36.145959Z",
     "shell.execute_reply": "2020-12-19T08:18:36.145337Z"
    },
    "papermill": {
     "duration": 0.043013,
     "end_time": "2020-12-19T08:18:36.146073",
     "exception": false,
     "start_time": "2020-12-19T08:18:36.103060",
     "status": "completed"
    },
    "tags": []
   },
   "outputs": [
    {
     "data": {
      "text/html": [
       "<div>\n",
       "<style scoped>\n",
       "    .dataframe tbody tr th:only-of-type {\n",
       "        vertical-align: middle;\n",
       "    }\n",
       "\n",
       "    .dataframe tbody tr th {\n",
       "        vertical-align: top;\n",
       "    }\n",
       "\n",
       "    .dataframe thead th {\n",
       "        text-align: right;\n",
       "    }\n",
       "</style>\n",
       "<table border=\"1\" class=\"dataframe\">\n",
       "  <thead>\n",
       "    <tr style=\"text-align: right;\">\n",
       "      <th></th>\n",
       "      <th>season</th>\n",
       "      <th>holiday</th>\n",
       "      <th>workingday</th>\n",
       "      <th>weather</th>\n",
       "      <th>temp</th>\n",
       "      <th>atemp</th>\n",
       "      <th>humidity</th>\n",
       "      <th>year</th>\n",
       "      <th>hour</th>\n",
       "      <th>weekday</th>\n",
       "    </tr>\n",
       "  </thead>\n",
       "  <tbody>\n",
       "    <tr>\n",
       "      <th>0</th>\n",
       "      <td>1</td>\n",
       "      <td>0</td>\n",
       "      <td>0</td>\n",
       "      <td>1</td>\n",
       "      <td>9.84</td>\n",
       "      <td>14.395</td>\n",
       "      <td>81</td>\n",
       "      <td>2011</td>\n",
       "      <td>00</td>\n",
       "      <td>5</td>\n",
       "    </tr>\n",
       "    <tr>\n",
       "      <th>1</th>\n",
       "      <td>1</td>\n",
       "      <td>0</td>\n",
       "      <td>0</td>\n",
       "      <td>1</td>\n",
       "      <td>9.02</td>\n",
       "      <td>13.635</td>\n",
       "      <td>80</td>\n",
       "      <td>2011</td>\n",
       "      <td>01</td>\n",
       "      <td>5</td>\n",
       "    </tr>\n",
       "    <tr>\n",
       "      <th>2</th>\n",
       "      <td>1</td>\n",
       "      <td>0</td>\n",
       "      <td>0</td>\n",
       "      <td>1</td>\n",
       "      <td>9.02</td>\n",
       "      <td>13.635</td>\n",
       "      <td>80</td>\n",
       "      <td>2011</td>\n",
       "      <td>02</td>\n",
       "      <td>5</td>\n",
       "    </tr>\n",
       "    <tr>\n",
       "      <th>3</th>\n",
       "      <td>1</td>\n",
       "      <td>0</td>\n",
       "      <td>0</td>\n",
       "      <td>1</td>\n",
       "      <td>9.84</td>\n",
       "      <td>14.395</td>\n",
       "      <td>75</td>\n",
       "      <td>2011</td>\n",
       "      <td>03</td>\n",
       "      <td>5</td>\n",
       "    </tr>\n",
       "    <tr>\n",
       "      <th>4</th>\n",
       "      <td>1</td>\n",
       "      <td>0</td>\n",
       "      <td>0</td>\n",
       "      <td>1</td>\n",
       "      <td>9.84</td>\n",
       "      <td>14.395</td>\n",
       "      <td>75</td>\n",
       "      <td>2011</td>\n",
       "      <td>04</td>\n",
       "      <td>5</td>\n",
       "    </tr>\n",
       "  </tbody>\n",
       "</table>\n",
       "</div>"
      ],
      "text/plain": [
       "  season holiday workingday weather  temp   atemp  humidity  year hour weekday\n",
       "0      1       0          0       1  9.84  14.395        81  2011   00       5\n",
       "1      1       0          0       1  9.02  13.635        80  2011   01       5\n",
       "2      1       0          0       1  9.02  13.635        80  2011   02       5\n",
       "3      1       0          0       1  9.84  14.395        75  2011   03       5\n",
       "4      1       0          0       1  9.84  14.395        75  2011   04       5"
      ]
     },
     "execution_count": 9,
     "metadata": {},
     "output_type": "execute_result"
    }
   ],
   "source": [
    "X_train.head()"
   ]
  },
  {
   "cell_type": "markdown",
   "metadata": {
    "papermill": {
     "duration": 0.021898,
     "end_time": "2020-12-19T08:18:36.190216",
     "exception": false,
     "start_time": "2020-12-19T08:18:36.168318",
     "status": "completed"
    },
    "tags": []
   },
   "source": [
    "## 모델 훈련\n"
   ]
  },
  {
   "cell_type": "markdown",
   "metadata": {
    "papermill": {
     "duration": 0.021831,
     "end_time": "2020-12-19T08:18:36.234378",
     "exception": false,
     "start_time": "2020-12-19T08:18:36.212547",
     "status": "completed"
    },
    "tags": []
   },
   "source": [
    "#### 평가척도(RMSLE) 계산 함수"
   ]
  },
  {
   "cell_type": "code",
   "execution_count": 10,
   "metadata": {
    "execution": {
     "iopub.execute_input": "2020-12-19T08:18:36.287998Z",
     "iopub.status.busy": "2020-12-19T08:18:36.287019Z",
     "iopub.status.idle": "2020-12-19T08:18:36.290023Z",
     "shell.execute_reply": "2020-12-19T08:18:36.289293Z"
    },
    "papermill": {
     "duration": 0.033781,
     "end_time": "2020-12-19T08:18:36.290148",
     "exception": false,
     "start_time": "2020-12-19T08:18:36.256367",
     "status": "completed"
    },
    "tags": []
   },
   "outputs": [],
   "source": [
    "def rmsle(y_true, y_pred, convertExp=True):\n",
    "    # 지수함수 적용 ---①\n",
    "    if convertExp:\n",
    "        y_true = np.exp(y_true)\n",
    "        y_pred = np.exp(y_pred)\n",
    "    # 로그함수를 취하고 결측값을 0으로 변환 ---②\n",
    "    log_true = np.nan_to_num(np.array([np.log(y+1) for y in y_true]))\n",
    "    log_pred = np.nan_to_num(np.array([np.log(y+1) for y in y_pred]))\n",
    "    # RMSLE 계산 ---③\n",
    "    output = np.sqrt(np.mean((log_true - log_pred)**2))\n",
    "    return output"
   ]
  },
  {
   "cell_type": "markdown",
   "metadata": {
    "papermill": {
     "duration": 0.022055,
     "end_time": "2020-12-19T08:18:36.334636",
     "exception": false,
     "start_time": "2020-12-19T08:18:36.312581",
     "status": "completed"
    },
    "tags": []
   },
   "source": [
    "#### 선형회귀모델"
   ]
  },
  {
   "cell_type": "code",
   "execution_count": 11,
   "metadata": {
    "execution": {
     "iopub.execute_input": "2020-12-19T08:18:36.387777Z",
     "iopub.status.busy": "2020-12-19T08:18:36.386986Z",
     "iopub.status.idle": "2020-12-19T08:18:37.742902Z",
     "shell.execute_reply": "2020-12-19T08:18:37.743924Z"
    },
    "papermill": {
     "duration": 1.385686,
     "end_time": "2020-12-19T08:18:37.744131",
     "exception": false,
     "start_time": "2020-12-19T08:18:36.358445",
     "status": "completed"
    },
    "tags": []
   },
   "outputs": [
    {
     "name": "stdout",
     "output_type": "stream",
     "text": [
      "RMSLE Value For Linear Regression:  0.9803697923313502\n"
     ]
    }
   ],
   "source": [
    "from sklearn.linear_model import LinearRegression\n",
    "\n",
    "# 선형회귀모델 생성 ---①\n",
    "linear_reg_model = LinearRegression() \n",
    "\n",
    "# 타깃 값 로그변환 ---②\n",
    "log_y = np.log1p(y)\n",
    "\n",
    "# 모델 학습 ---③\n",
    "linear_reg_model.fit(X_train, log_y) \n",
    "\n",
    "# 결과 예측 ---④\n",
    "preds = linear_reg_model.predict(X_train) \n",
    "print ('RMSLE Value For Linear Regression: ', rmsle(log_y, preds, True))"
   ]
  },
  {
   "cell_type": "markdown",
   "metadata": {
    "papermill": {
     "duration": 0.024697,
     "end_time": "2020-12-19T08:18:37.797998",
     "exception": false,
     "start_time": "2020-12-19T08:18:37.773301",
     "status": "completed"
    },
    "tags": []
   },
   "source": [
    "#### 릿지 모델 (그리드서치 적용)"
   ]
  },
  {
   "cell_type": "code",
   "execution_count": 12,
   "metadata": {
    "execution": {
     "iopub.execute_input": "2020-12-19T08:18:37.855905Z",
     "iopub.status.busy": "2020-12-19T08:18:37.854918Z",
     "iopub.status.idle": "2020-12-19T08:18:40.699187Z",
     "shell.execute_reply": "2020-12-19T08:18:40.697908Z"
    },
    "papermill": {
     "duration": 2.878482,
     "end_time": "2020-12-19T08:18:40.699319",
     "exception": false,
     "start_time": "2020-12-19T08:18:37.820837",
     "status": "completed"
    },
    "tags": []
   },
   "outputs": [
    {
     "name": "stdout",
     "output_type": "stream",
     "text": [
      "{'alpha': 0.1, 'max_iter': 3000}\n",
      "RMSLE Value For Ridge Regression:  0.9803697718301232\n"
     ]
    }
   ],
   "source": [
    "from sklearn.linear_model import Ridge\n",
    "from sklearn.model_selection import GridSearchCV\n",
    "from sklearn import metrics\n",
    "\n",
    "ridge_model = Ridge()\n",
    "ridge_params = {'max_iter':[3000], 'alpha':[0.1, 1, 2, 3, 4, 10, 30, 100, 200, 300, 400, 800, 900, 1000]}\n",
    "# RMSLE 점수 계산기 생성 ---①\n",
    "rmsle_scorer = metrics.make_scorer(rmsle, greater_is_better=False) \n",
    "\n",
    "# GridSearchCV 객체 생성 ---②\n",
    "gridsearch_ridge_model = GridSearchCV(estimator=ridge_model,\n",
    "                                      param_grid=ridge_params,\n",
    "                                      scoring=rmsle_scorer,\n",
    "                                      cv=5)\n",
    "log_y = np.log1p(y)\n",
    "# 그리드서치 수행 ---③\n",
    "gridsearch_ridge_model.fit(X_train, log_y)\n",
    "ridge_best_estimator = gridsearch_ridge_model.best_estimator_\n",
    "# 최적 estimator로 예측 ---④\n",
    "preds = ridge_best_estimator.predict(X_train)\n",
    "\n",
    "# 최적 파라미터 출력\n",
    "print (gridsearch_ridge_model.best_params_)\n",
    "# RMSLE 값 출력\n",
    "print('RMSLE Value For Ridge Regression: ', rmsle(log_y, preds, True))"
   ]
  },
  {
   "cell_type": "markdown",
   "metadata": {
    "papermill": {
     "duration": 0.023662,
     "end_time": "2020-12-19T08:18:40.747686",
     "exception": false,
     "start_time": "2020-12-19T08:18:40.724024",
     "status": "completed"
    },
    "tags": []
   },
   "source": [
    "#### 라쏘 모델 (그리드서치 적용)"
   ]
  },
  {
   "cell_type": "code",
   "execution_count": 13,
   "metadata": {
    "execution": {
     "iopub.execute_input": "2020-12-19T08:18:40.805885Z",
     "iopub.status.busy": "2020-12-19T08:18:40.804745Z",
     "iopub.status.idle": "2020-12-19T08:18:44.523141Z",
     "shell.execute_reply": "2020-12-19T08:18:44.524139Z"
    },
    "papermill": {
     "duration": 3.753213,
     "end_time": "2020-12-19T08:18:44.524450",
     "exception": false,
     "start_time": "2020-12-19T08:18:40.771237",
     "status": "completed"
    },
    "tags": []
   },
   "outputs": [
    {
     "name": "stdout",
     "output_type": "stream",
     "text": [
      "{'alpha': 0.00125, 'max_iter': 3000}\n",
      "RMSLE Value For Lasso Regression:  0.9803727847762398\n"
     ]
    }
   ],
   "source": [
    "from sklearn.linear_model import Lasso\n",
    "\n",
    "lasso_model = Lasso()\n",
    "\n",
    "lasso_alpha  = 1/np.array([0.1, 1, 2, 3, 4, 10, 30, 100, 200, 300, 400, 800, 900, 1000])\n",
    "lasso_params = {'max_iter':[3000], 'alpha':lasso_alpha}\n",
    "gridsearch_lasso_model = GridSearchCV(estimator=lasso_model,\n",
    "                                      param_grid=lasso_params,\n",
    "                                      scoring=rmsle_scorer,\n",
    "                                      cv=5)\n",
    "log_y = np.log1p(y)\n",
    "gridsearch_lasso_model.fit(X_train, log_y)\n",
    "lasso_best_estimator = gridsearch_lasso_model.best_estimator_\n",
    "preds = lasso_best_estimator.predict(X_train)\n",
    "\n",
    "print (gridsearch_lasso_model.best_params_)\n",
    "print ('RMSLE Value For Lasso Regression: ', rmsle(log_y, preds, True))"
   ]
  },
  {
   "cell_type": "markdown",
   "metadata": {
    "papermill": {
     "duration": 0.023469,
     "end_time": "2020-12-19T08:18:44.573189",
     "exception": false,
     "start_time": "2020-12-19T08:18:44.549720",
     "status": "completed"
    },
    "tags": []
   },
   "source": [
    "#### 랜덤 포레스트 회귀모델 (그리드서치 적용)"
   ]
  },
  {
   "cell_type": "code",
   "execution_count": 14,
   "metadata": {
    "execution": {
     "iopub.execute_input": "2020-12-19T08:18:44.624974Z",
     "iopub.status.busy": "2020-12-19T08:18:44.623964Z",
     "iopub.status.idle": "2020-12-19T08:19:41.793303Z",
     "shell.execute_reply": "2020-12-19T08:19:41.794151Z"
    },
    "papermill": {
     "duration": 57.197015,
     "end_time": "2020-12-19T08:19:41.794346",
     "exception": false,
     "start_time": "2020-12-19T08:18:44.597331",
     "status": "completed"
    },
    "tags": []
   },
   "outputs": [
    {
     "name": "stdout",
     "output_type": "stream",
     "text": [
      "{'n_estimators': 140, 'random_state': 42}\n",
      "RMSLE Value For Random Forest Regression:  0.10582398124046954\n"
     ]
    }
   ],
   "source": [
    "from sklearn.ensemble import RandomForestRegressor\n",
    "\n",
    "randomforest_model = RandomForestRegressor()\n",
    "\n",
    "rf_params = {'random_state':[42], 'n_estimators':[100, 120, 140]}\n",
    "gridsearch_random_forest_model = GridSearchCV(estimator=randomforest_model,\n",
    "                                              param_grid=rf_params,\n",
    "                                              scoring=rmsle_scorer,\n",
    "                                              cv=5)\n",
    "log_y = np.log1p(y)\n",
    "gridsearch_random_forest_model.fit(X_train, log_y)\n",
    "rf_best_estimator = gridsearch_random_forest_model.best_estimator_\n",
    "preds = rf_best_estimator.predict(X_train)\n",
    "\n",
    "print (gridsearch_random_forest_model.best_params_)\n",
    "print ('RMSLE Value For Random Forest Regression: ', rmsle(log_y, preds, True))"
   ]
  },
  {
   "cell_type": "markdown",
   "metadata": {
    "papermill": {
     "duration": 0.025867,
     "end_time": "2020-12-19T08:19:41.844637",
     "exception": false,
     "start_time": "2020-12-19T08:19:41.818770",
     "status": "completed"
    },
    "tags": []
   },
   "source": [
    "## 예측 및 제출"
   ]
  },
  {
   "cell_type": "markdown",
   "metadata": {
    "papermill": {
     "duration": 0.025464,
     "end_time": "2020-12-19T08:19:41.896922",
     "exception": false,
     "start_time": "2020-12-19T08:19:41.871458",
     "status": "completed"
    },
    "tags": []
   },
   "source": [
    "#### 훈련 데이터 vs 테스트 데이터 분포"
   ]
  },
  {
   "cell_type": "code",
   "execution_count": 15,
   "metadata": {
    "execution": {
     "iopub.execute_input": "2020-12-19T08:19:41.956193Z",
     "iopub.status.busy": "2020-12-19T08:19:41.955510Z",
     "iopub.status.idle": "2020-12-19T08:19:42.857234Z",
     "shell.execute_reply": "2020-12-19T08:19:42.857892Z"
    },
    "papermill": {
     "duration": 0.935377,
     "end_time": "2020-12-19T08:19:42.858073",
     "exception": false,
     "start_time": "2020-12-19T08:19:41.922696",
     "status": "completed"
    },
    "tags": []
   },
   "outputs": [
    {
     "data": {
      "image/png": "[encoded data removed]",
      "text/plain": [
       "<Figure size 720x288 with 2 Axes>"
      ]
     },
     "metadata": {
      "needs_background": "light"
     },
     "output_type": "display_data"
    }
   ],
   "source": [
    "import seaborn as sns\n",
    "import matplotlib.pyplot as plt\n",
    "\n",
    "randomforest_preds = rf_best_estimator.predict(X_test)\n",
    "\n",
    "figure, axes = plt.subplots(ncols=2)\n",
    "figure.set_size_inches(10, 4)\n",
    "\n",
    "sns.distplot(y, ax=axes[0], bins=50)\n",
    "axes[0].set_title('Train Data Distribution')\n",
    "sns.distplot(np.exp(randomforest_preds), ax=axes[1], bins=50)\n",
    "axes[1].set_title('Predicted Test Data Distribution');"
   ]
  },
  {
   "cell_type": "markdown",
   "metadata": {
    "papermill": {
     "duration": 0.025295,
     "end_time": "2020-12-19T08:19:42.911184",
     "exception": false,
     "start_time": "2020-12-19T08:19:42.885889",
     "status": "completed"
    },
    "tags": []
   },
   "source": [
    "#### 제출 파일 생성"
   ]
  },
  {
   "cell_type": "code",
   "execution_count": 16,
   "metadata": {
    "execution": {
     "iopub.execute_input": "2020-12-19T08:19:42.968561Z",
     "iopub.status.busy": "2020-12-19T08:19:42.967793Z",
     "iopub.status.idle": "2020-12-19T08:19:43.335901Z",
     "shell.execute_reply": "2020-12-19T08:19:43.335257Z"
    },
    "papermill": {
     "duration": 0.398787,
     "end_time": "2020-12-19T08:19:43.336038",
     "exception": false,
     "start_time": "2020-12-19T08:19:42.937251",
     "status": "completed"
    },
    "tags": []
   },
   "outputs": [],
   "source": [
    "submission['count'] = np.exp(randomforest_preds)\n",
    "submission.to_csv('submission.csv', index=False)"
   ]
  }
 ],
 "metadata": {
  "kernelspec": {
   "display_name": "Python 3",
   "language": "python",
   "name": "python3"
  },
  "language_info": {
   "codemirror_mode": {
    "name": "ipython",
    "version": 3
   },
   "file_extension": ".py",
   "mimetype": "text/x-python",
   "name": "python",
   "nbconvert_exporter": "python",
   "pygments_lexer": "ipython3",
   "version": "3.7.3"
  },
  "papermill": {
   "duration": 73.876164,
   "end_time": "2020-12-19T08:19:43.696583",
   "environment_variables": {},
   "exception": null,
   "input_path": "__notebook__.ipynb",
   "output_path": "__notebook__.ipynb",
   "parameters": {},
   "start_time": "2020-12-19T08:18:29.820419",
   "version": "2.1.0"
  }
 },
 "nbformat": 4,
 "nbformat_minor": 4
}
