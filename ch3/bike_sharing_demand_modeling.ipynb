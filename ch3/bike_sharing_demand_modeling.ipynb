{
 "cells": [
  {
   "cell_type": "markdown",
   "id": "chicken-boutique",
   "metadata": {
    "papermill": {
     "duration": 0.01608,
     "end_time": "2021-05-11T04:55:36.034827",
     "exception": false,
     "start_time": "2021-05-11T04:55:36.018747",
     "status": "completed"
    },
    "tags": []
   },
   "source": [
    "# 3.5~3.7 자전거 대여 수요 예측 경진대회 성능 개선"
   ]
  },
  {
   "cell_type": "markdown",
   "id": "employed-plain",
   "metadata": {
    "papermill": {
     "duration": 0.0145,
     "end_time": "2021-05-11T04:55:36.064406",
     "exception": false,
     "start_time": "2021-05-11T04:55:36.049906",
     "status": "completed"
    },
    "tags": []
   },
   "source": [
    "- [자전거 대여 수요 예측 경진대회 링크](https://www.kaggle.com/c/bike-sharing-demand)\n",
    "\n",
    "- [모델링 노트북 참고 링크](https://www.kaggle.com/viveksrinivasan/eda-ensemble-model-top-10-percentile)"
   ]
  },
  {
   "cell_type": "code",
   "execution_count": 1,
   "id": "agricultural-dinner",
   "metadata": {
    "_cell_guid": "057b1690-5b93-9f14-eafe-fad12c00da69",
    "execution": {
     "iopub.execute_input": "2021-05-11T04:55:36.097816Z",
     "iopub.status.busy": "2021-05-11T04:55:36.096824Z",
     "iopub.status.idle": "2021-05-11T04:55:36.164663Z",
     "shell.execute_reply": "2021-05-11T04:55:36.164056Z"
    },
    "papermill": {
     "duration": 0.08558,
     "end_time": "2021-05-11T04:55:36.164836",
     "exception": false,
     "start_time": "2021-05-11T04:55:36.079256",
     "status": "completed"
    },
    "tags": []
   },
   "outputs": [],
   "source": [
    "import pandas as pd\n",
    "\n",
    "# 데이터 경로\n",
    "data_path = '/kaggle/input/bike-sharing-demand/'\n",
    "\n",
    "train = pd.read_csv(data_path + 'train.csv')\n",
    "test = pd.read_csv(data_path + 'test.csv')\n",
    "submission = pd.read_csv(data_path + 'sampleSubmission.csv')"
   ]
  },
  {
   "cell_type": "markdown",
   "id": "homeless-newport",
   "metadata": {
    "papermill": {
     "duration": 0.015301,
     "end_time": "2021-05-11T04:55:36.195357",
     "exception": false,
     "start_time": "2021-05-11T04:55:36.180056",
     "status": "completed"
    },
    "tags": []
   },
   "source": [
    "### 데이터 합치기"
   ]
  },
  {
   "cell_type": "code",
   "execution_count": 2,
   "id": "geographic-paint",
   "metadata": {
    "execution": {
     "iopub.execute_input": "2021-05-11T04:55:36.237635Z",
     "iopub.status.busy": "2021-05-11T04:55:36.234062Z",
     "iopub.status.idle": "2021-05-11T04:55:36.270372Z",
     "shell.execute_reply": "2021-05-11T04:55:36.270833Z"
    },
    "papermill": {
     "duration": 0.060852,
     "end_time": "2021-05-11T04:55:36.271002",
     "exception": false,
     "start_time": "2021-05-11T04:55:36.210150",
     "status": "completed"
    },
    "tags": []
   },
   "outputs": [
    {
     "data": {
      "text/html": [
       "<div>\n",
       "<style scoped>\n",
       "    .dataframe tbody tr th:only-of-type {\n",
       "        vertical-align: middle;\n",
       "    }\n",
       "\n",
       "    .dataframe tbody tr th {\n",
       "        vertical-align: top;\n",
       "    }\n",
       "\n",
       "    .dataframe thead th {\n",
       "        text-align: right;\n",
       "    }\n",
       "</style>\n",
       "<table border=\"1\" class=\"dataframe\">\n",
       "  <thead>\n",
       "    <tr style=\"text-align: right;\">\n",
       "      <th></th>\n",
       "      <th>datetime</th>\n",
       "      <th>season</th>\n",
       "      <th>holiday</th>\n",
       "      <th>workingday</th>\n",
       "      <th>weather</th>\n",
       "      <th>temp</th>\n",
       "      <th>atemp</th>\n",
       "      <th>humidity</th>\n",
       "      <th>windspeed</th>\n",
       "      <th>casual</th>\n",
       "      <th>registered</th>\n",
       "      <th>count</th>\n",
       "    </tr>\n",
       "  </thead>\n",
       "  <tbody>\n",
       "    <tr>\n",
       "      <th>0</th>\n",
       "      <td>2011-01-01 00:00:00</td>\n",
       "      <td>1</td>\n",
       "      <td>0</td>\n",
       "      <td>0</td>\n",
       "      <td>1</td>\n",
       "      <td>9.84</td>\n",
       "      <td>14.395</td>\n",
       "      <td>81</td>\n",
       "      <td>0.0000</td>\n",
       "      <td>3.0</td>\n",
       "      <td>13.0</td>\n",
       "      <td>16.0</td>\n",
       "    </tr>\n",
       "    <tr>\n",
       "      <th>1</th>\n",
       "      <td>2011-01-01 01:00:00</td>\n",
       "      <td>1</td>\n",
       "      <td>0</td>\n",
       "      <td>0</td>\n",
       "      <td>1</td>\n",
       "      <td>9.02</td>\n",
       "      <td>13.635</td>\n",
       "      <td>80</td>\n",
       "      <td>0.0000</td>\n",
       "      <td>8.0</td>\n",
       "      <td>32.0</td>\n",
       "      <td>40.0</td>\n",
       "    </tr>\n",
       "    <tr>\n",
       "      <th>2</th>\n",
       "      <td>2011-01-01 02:00:00</td>\n",
       "      <td>1</td>\n",
       "      <td>0</td>\n",
       "      <td>0</td>\n",
       "      <td>1</td>\n",
       "      <td>9.02</td>\n",
       "      <td>13.635</td>\n",
       "      <td>80</td>\n",
       "      <td>0.0000</td>\n",
       "      <td>5.0</td>\n",
       "      <td>27.0</td>\n",
       "      <td>32.0</td>\n",
       "    </tr>\n",
       "    <tr>\n",
       "      <th>3</th>\n",
       "      <td>2011-01-01 03:00:00</td>\n",
       "      <td>1</td>\n",
       "      <td>0</td>\n",
       "      <td>0</td>\n",
       "      <td>1</td>\n",
       "      <td>9.84</td>\n",
       "      <td>14.395</td>\n",
       "      <td>75</td>\n",
       "      <td>0.0000</td>\n",
       "      <td>3.0</td>\n",
       "      <td>10.0</td>\n",
       "      <td>13.0</td>\n",
       "    </tr>\n",
       "    <tr>\n",
       "      <th>4</th>\n",
       "      <td>2011-01-01 04:00:00</td>\n",
       "      <td>1</td>\n",
       "      <td>0</td>\n",
       "      <td>0</td>\n",
       "      <td>1</td>\n",
       "      <td>9.84</td>\n",
       "      <td>14.395</td>\n",
       "      <td>75</td>\n",
       "      <td>0.0000</td>\n",
       "      <td>0.0</td>\n",
       "      <td>1.0</td>\n",
       "      <td>1.0</td>\n",
       "    </tr>\n",
       "    <tr>\n",
       "      <th>...</th>\n",
       "      <td>...</td>\n",
       "      <td>...</td>\n",
       "      <td>...</td>\n",
       "      <td>...</td>\n",
       "      <td>...</td>\n",
       "      <td>...</td>\n",
       "      <td>...</td>\n",
       "      <td>...</td>\n",
       "      <td>...</td>\n",
       "      <td>...</td>\n",
       "      <td>...</td>\n",
       "      <td>...</td>\n",
       "    </tr>\n",
       "    <tr>\n",
       "      <th>17374</th>\n",
       "      <td>2012-12-31 19:00:00</td>\n",
       "      <td>1</td>\n",
       "      <td>0</td>\n",
       "      <td>1</td>\n",
       "      <td>2</td>\n",
       "      <td>10.66</td>\n",
       "      <td>12.880</td>\n",
       "      <td>60</td>\n",
       "      <td>11.0014</td>\n",
       "      <td>NaN</td>\n",
       "      <td>NaN</td>\n",
       "      <td>NaN</td>\n",
       "    </tr>\n",
       "    <tr>\n",
       "      <th>17375</th>\n",
       "      <td>2012-12-31 20:00:00</td>\n",
       "      <td>1</td>\n",
       "      <td>0</td>\n",
       "      <td>1</td>\n",
       "      <td>2</td>\n",
       "      <td>10.66</td>\n",
       "      <td>12.880</td>\n",
       "      <td>60</td>\n",
       "      <td>11.0014</td>\n",
       "      <td>NaN</td>\n",
       "      <td>NaN</td>\n",
       "      <td>NaN</td>\n",
       "    </tr>\n",
       "    <tr>\n",
       "      <th>17376</th>\n",
       "      <td>2012-12-31 21:00:00</td>\n",
       "      <td>1</td>\n",
       "      <td>0</td>\n",
       "      <td>1</td>\n",
       "      <td>1</td>\n",
       "      <td>10.66</td>\n",
       "      <td>12.880</td>\n",
       "      <td>60</td>\n",
       "      <td>11.0014</td>\n",
       "      <td>NaN</td>\n",
       "      <td>NaN</td>\n",
       "      <td>NaN</td>\n",
       "    </tr>\n",
       "    <tr>\n",
       "      <th>17377</th>\n",
       "      <td>2012-12-31 22:00:00</td>\n",
       "      <td>1</td>\n",
       "      <td>0</td>\n",
       "      <td>1</td>\n",
       "      <td>1</td>\n",
       "      <td>10.66</td>\n",
       "      <td>13.635</td>\n",
       "      <td>56</td>\n",
       "      <td>8.9981</td>\n",
       "      <td>NaN</td>\n",
       "      <td>NaN</td>\n",
       "      <td>NaN</td>\n",
       "    </tr>\n",
       "    <tr>\n",
       "      <th>17378</th>\n",
       "      <td>2012-12-31 23:00:00</td>\n",
       "      <td>1</td>\n",
       "      <td>0</td>\n",
       "      <td>1</td>\n",
       "      <td>1</td>\n",
       "      <td>10.66</td>\n",
       "      <td>13.635</td>\n",
       "      <td>65</td>\n",
       "      <td>8.9981</td>\n",
       "      <td>NaN</td>\n",
       "      <td>NaN</td>\n",
       "      <td>NaN</td>\n",
       "    </tr>\n",
       "  </tbody>\n",
       "</table>\n",
       "<p>17379 rows × 12 columns</p>\n",
       "</div>"
      ],
      "text/plain": [
       "                  datetime  season  holiday  workingday  weather   temp  \\\n",
       "0      2011-01-01 00:00:00       1        0           0        1   9.84   \n",
       "1      2011-01-01 01:00:00       1        0           0        1   9.02   \n",
       "2      2011-01-01 02:00:00       1        0           0        1   9.02   \n",
       "3      2011-01-01 03:00:00       1        0           0        1   9.84   \n",
       "4      2011-01-01 04:00:00       1        0           0        1   9.84   \n",
       "...                    ...     ...      ...         ...      ...    ...   \n",
       "17374  2012-12-31 19:00:00       1        0           1        2  10.66   \n",
       "17375  2012-12-31 20:00:00       1        0           1        2  10.66   \n",
       "17376  2012-12-31 21:00:00       1        0           1        1  10.66   \n",
       "17377  2012-12-31 22:00:00       1        0           1        1  10.66   \n",
       "17378  2012-12-31 23:00:00       1        0           1        1  10.66   \n",
       "\n",
       "        atemp  humidity  windspeed  casual  registered  count  \n",
       "0      14.395        81     0.0000     3.0        13.0   16.0  \n",
       "1      13.635        80     0.0000     8.0        32.0   40.0  \n",
       "2      13.635        80     0.0000     5.0        27.0   32.0  \n",
       "3      14.395        75     0.0000     3.0        10.0   13.0  \n",
       "4      14.395        75     0.0000     0.0         1.0    1.0  \n",
       "...       ...       ...        ...     ...         ...    ...  \n",
       "17374  12.880        60    11.0014     NaN         NaN    NaN  \n",
       "17375  12.880        60    11.0014     NaN         NaN    NaN  \n",
       "17376  12.880        60    11.0014     NaN         NaN    NaN  \n",
       "17377  13.635        56     8.9981     NaN         NaN    NaN  \n",
       "17378  13.635        65     8.9981     NaN         NaN    NaN  \n",
       "\n",
       "[17379 rows x 12 columns]"
      ]
     },
     "execution_count": 2,
     "metadata": {},
     "output_type": "execute_result"
    }
   ],
   "source": [
    "all_data = pd.concat([train, test], ignore_index=True)\n",
    "all_data"
   ]
  },
  {
   "cell_type": "markdown",
   "id": "standard-college",
   "metadata": {
    "papermill": {
     "duration": 0.015748,
     "end_time": "2021-05-11T04:55:36.302824",
     "exception": false,
     "start_time": "2021-05-11T04:55:36.287076",
     "status": "completed"
    },
    "tags": []
   },
   "source": [
    "### 파생 변수(피처) 추가"
   ]
  },
  {
   "cell_type": "code",
   "execution_count": 3,
   "id": "young-wiring",
   "metadata": {
    "_cell_guid": "18f7c3fc-ffdf-4bc6-1d4c-c455fb4e0141",
    "execution": {
     "iopub.execute_input": "2021-05-11T04:55:36.346479Z",
     "iopub.status.busy": "2021-05-11T04:55:36.345861Z",
     "iopub.status.idle": "2021-05-11T04:55:36.511248Z",
     "shell.execute_reply": "2021-05-11T04:55:36.510757Z"
    },
    "papermill": {
     "duration": 0.192642,
     "end_time": "2021-05-11T04:55:36.511391",
     "exception": false,
     "start_time": "2021-05-11T04:55:36.318749",
     "status": "completed"
    },
    "tags": []
   },
   "outputs": [],
   "source": [
    "from datetime import datetime\n",
    "\n",
    "all_data['date'] = all_data['datetime'].apply(lambda x: x.split()[0]) # 날짜 피처 생성\n",
    "all_data['year'] = all_data['datetime'].apply(lambda x: x.split()[0].split('-')[0]) # 연도 피처 생성\n",
    "all_data['month'] = all_data['datetime'].apply(lambda x: x.split()[0].split('-')[1]) # 월 피처 생성\n",
    "all_data['hour'] = all_data['datetime'].apply(lambda x: x.split()[1].split(':')[0]) # 시 피처 생성\n",
    "all_data[\"weekday\"] = all_data['date'].apply(lambda dateString : datetime.strptime(dateString,\"%Y-%m-%d\").weekday()) # 요일 피처 생성"
   ]
  },
  {
   "cell_type": "markdown",
   "id": "geological-destiny",
   "metadata": {
    "papermill": {
     "duration": 0.015652,
     "end_time": "2021-05-11T04:55:36.543106",
     "exception": false,
     "start_time": "2021-05-11T04:55:36.527454",
     "status": "completed"
    },
    "tags": []
   },
   "source": [
    "### 필요 없는 피처 제거"
   ]
  },
  {
   "cell_type": "code",
   "execution_count": 4,
   "id": "effective-cherry",
   "metadata": {
    "execution": {
     "iopub.execute_input": "2021-05-11T04:55:36.579808Z",
     "iopub.status.busy": "2021-05-11T04:55:36.579220Z",
     "iopub.status.idle": "2021-05-11T04:55:36.587950Z",
     "shell.execute_reply": "2021-05-11T04:55:36.588390Z"
    },
    "papermill": {
     "duration": 0.029568,
     "end_time": "2021-05-11T04:55:36.588548",
     "exception": false,
     "start_time": "2021-05-11T04:55:36.558980",
     "status": "completed"
    },
    "tags": []
   },
   "outputs": [],
   "source": [
    "drop_features = ['casual', 'registered', 'datetime', 'date', 'datetime', 'windspeed', 'month']\n",
    "\n",
    "all_data = all_data.drop(drop_features, axis=1)"
   ]
  },
  {
   "cell_type": "markdown",
   "id": "formed-halifax",
   "metadata": {
    "papermill": {
     "duration": 0.015334,
     "end_time": "2021-05-11T04:55:36.619638",
     "exception": false,
     "start_time": "2021-05-11T04:55:36.604304",
     "status": "completed"
    },
    "tags": []
   },
   "source": [
    "### 데이터 나누기"
   ]
  },
  {
   "cell_type": "code",
   "execution_count": 5,
   "id": "rough-binary",
   "metadata": {
    "execution": {
     "iopub.execute_input": "2021-05-11T04:55:36.653917Z",
     "iopub.status.busy": "2021-05-11T04:55:36.653358Z",
     "iopub.status.idle": "2021-05-11T04:55:36.666458Z",
     "shell.execute_reply": "2021-05-11T04:55:36.665893Z"
    },
    "papermill": {
     "duration": 0.031188,
     "end_time": "2021-05-11T04:55:36.666583",
     "exception": false,
     "start_time": "2021-05-11T04:55:36.635395",
     "status": "completed"
    },
    "tags": []
   },
   "outputs": [],
   "source": [
    "X_train = all_data[pd.notnull(all_data['count'])]\n",
    "X_test = all_data[~pd.notnull(all_data['count'])]\n",
    "\n",
    "# 타깃 값 count 제거\n",
    "X_train = X_train.drop(['count'], axis=1)\n",
    "X_test = X_test.drop(['count'], axis=1)\n",
    "\n",
    "y = train['count']"
   ]
  },
  {
   "cell_type": "markdown",
   "id": "digital-picking",
   "metadata": {
    "papermill": {
     "duration": 0.01588,
     "end_time": "2021-05-11T04:55:36.698443",
     "exception": false,
     "start_time": "2021-05-11T04:55:36.682563",
     "status": "completed"
    },
    "tags": []
   },
   "source": [
    "## 평가지표 계산 함수 작성"
   ]
  },
  {
   "cell_type": "code",
   "execution_count": 6,
   "id": "hybrid-night",
   "metadata": {
    "execution": {
     "iopub.execute_input": "2021-05-11T04:55:36.736385Z",
     "iopub.status.busy": "2021-05-11T04:55:36.735853Z",
     "iopub.status.idle": "2021-05-11T04:55:36.738596Z",
     "shell.execute_reply": "2021-05-11T04:55:36.738140Z"
    },
    "papermill": {
     "duration": 0.024359,
     "end_time": "2021-05-11T04:55:36.738760",
     "exception": false,
     "start_time": "2021-05-11T04:55:36.714401",
     "status": "completed"
    },
    "tags": []
   },
   "outputs": [],
   "source": [
    "import numpy as np\n",
    "\n",
    "def rmsle(y_true, y_pred, convertExp=True):\n",
    "    # 지수변환\n",
    "    if convertExp:\n",
    "        y_true = np.exp(y_true)\n",
    "        y_pred = np.exp(y_pred)\n",
    "        \n",
    "    # 로그변환 후 결측값을 0으로 변환\n",
    "    log_true = np.nan_to_num(np.array([np.log(y+1) for y in y_true]))\n",
    "    log_pred = np.nan_to_num(np.array([np.log(y+1) for y in y_pred]))\n",
    "    \n",
    "    # RMSLE 계산\n",
    "    output = np.sqrt(np.mean((log_true - log_pred)**2))\n",
    "    return output"
   ]
  },
  {
   "cell_type": "markdown",
   "id": "virgin-reservoir",
   "metadata": {
    "papermill": {
     "duration": 0.015398,
     "end_time": "2021-05-11T04:55:36.770306",
     "exception": false,
     "start_time": "2021-05-11T04:55:36.754908",
     "status": "completed"
    },
    "tags": []
   },
   "source": [
    "# 3.5 성능 개선 I : 릿지 회귀 모델"
   ]
  },
  {
   "cell_type": "markdown",
   "id": "extended-comfort",
   "metadata": {
    "papermill": {
     "duration": 0.015523,
     "end_time": "2021-05-11T04:55:36.801829",
     "exception": false,
     "start_time": "2021-05-11T04:55:36.786306",
     "status": "completed"
    },
    "tags": []
   },
   "source": [
    "## 3.5.2 하이퍼 파라미터 최적화"
   ]
  },
  {
   "cell_type": "markdown",
   "id": "tracked-suffering",
   "metadata": {
    "papermill": {
     "duration": 0.015485,
     "end_time": "2021-05-11T04:55:36.833227",
     "exception": false,
     "start_time": "2021-05-11T04:55:36.817742",
     "status": "completed"
    },
    "tags": []
   },
   "source": [
    "### 모델 생성"
   ]
  },
  {
   "cell_type": "code",
   "execution_count": 7,
   "id": "ignored-closing",
   "metadata": {
    "execution": {
     "iopub.execute_input": "2021-05-11T04:55:36.869916Z",
     "iopub.status.busy": "2021-05-11T04:55:36.869145Z",
     "iopub.status.idle": "2021-05-11T04:55:37.887497Z",
     "shell.execute_reply": "2021-05-11T04:55:37.887029Z"
    },
    "papermill": {
     "duration": 1.038228,
     "end_time": "2021-05-11T04:55:37.887633",
     "exception": false,
     "start_time": "2021-05-11T04:55:36.849405",
     "status": "completed"
    },
    "tags": []
   },
   "outputs": [],
   "source": [
    "from sklearn.linear_model import Ridge\n",
    "from sklearn.model_selection import GridSearchCV\n",
    "from sklearn import metrics\n",
    "\n",
    "ridge_model = Ridge()"
   ]
  },
  {
   "cell_type": "markdown",
   "id": "arctic-mention",
   "metadata": {
    "papermill": {
     "duration": 0.015775,
     "end_time": "2021-05-11T04:55:37.919732",
     "exception": false,
     "start_time": "2021-05-11T04:55:37.903957",
     "status": "completed"
    },
    "tags": []
   },
   "source": [
    "### 그리드서치 객체 생성"
   ]
  },
  {
   "cell_type": "code",
   "execution_count": 8,
   "id": "minute-skiing",
   "metadata": {
    "execution": {
     "iopub.execute_input": "2021-05-11T04:55:37.957524Z",
     "iopub.status.busy": "2021-05-11T04:55:37.956948Z",
     "iopub.status.idle": "2021-05-11T04:55:37.958682Z",
     "shell.execute_reply": "2021-05-11T04:55:37.959064Z"
    },
    "papermill": {
     "duration": 0.023425,
     "end_time": "2021-05-11T04:55:37.959216",
     "exception": false,
     "start_time": "2021-05-11T04:55:37.935791",
     "status": "completed"
    },
    "tags": []
   },
   "outputs": [],
   "source": [
    "# 하이퍼 파라미터 값 목록\n",
    "ridge_params = {'max_iter':[3000], 'alpha':[0.1, 1, 2, 3, 4, 10, 30, 100, 200, 300, 400, 800, 900, 1000]}\n",
    "# 교차 검증용 평가 함수(RMSLE 점수 계산)\n",
    "rmsle_scorer = metrics.make_scorer(rmsle, greater_is_better=False)\n",
    "\n",
    "# 그리드서치(with 릿지) 객체 생성\n",
    "gridsearch_ridge_model = GridSearchCV(estimator=ridge_model,\n",
    "                                      param_grid=ridge_params,\n",
    "                                      scoring=rmsle_scorer,\n",
    "                                      cv=5)"
   ]
  },
  {
   "cell_type": "markdown",
   "id": "respected-lincoln",
   "metadata": {
    "papermill": {
     "duration": 0.015652,
     "end_time": "2021-05-11T04:55:37.990935",
     "exception": false,
     "start_time": "2021-05-11T04:55:37.975283",
     "status": "completed"
    },
    "tags": []
   },
   "source": [
    "### 그리드서치 수행"
   ]
  },
  {
   "cell_type": "code",
   "execution_count": 9,
   "id": "wireless-climate",
   "metadata": {
    "execution": {
     "iopub.execute_input": "2021-05-11T04:55:38.026408Z",
     "iopub.status.busy": "2021-05-11T04:55:38.025887Z",
     "iopub.status.idle": "2021-05-11T04:55:40.795334Z",
     "shell.execute_reply": "2021-05-11T04:55:40.796067Z"
    },
    "papermill": {
     "duration": 2.788735,
     "end_time": "2021-05-11T04:55:40.796311",
     "exception": false,
     "start_time": "2021-05-11T04:55:38.007576",
     "status": "completed"
    },
    "tags": []
   },
   "outputs": [
    {
     "data": {
      "text/plain": [
       "GridSearchCV(cv=5, estimator=Ridge(),\n",
       "             param_grid={'alpha': [0.1, 1, 2, 3, 4, 10, 30, 100, 200, 300, 400,\n",
       "                                   800, 900, 1000],\n",
       "                         'max_iter': [3000]},\n",
       "             scoring=make_scorer(rmsle, greater_is_better=False))"
      ]
     },
     "execution_count": 9,
     "metadata": {},
     "output_type": "execute_result"
    }
   ],
   "source": [
    "log_y = np.log1p(y) # 타깃 값 로그변환\n",
    "gridsearch_ridge_model.fit(X_train, log_y) # 훈련(그리드서치)"
   ]
  },
  {
   "cell_type": "code",
   "execution_count": 10,
   "id": "familiar-parent",
   "metadata": {
    "execution": {
     "iopub.execute_input": "2021-05-11T04:55:40.868941Z",
     "iopub.status.busy": "2021-05-11T04:55:40.867974Z",
     "iopub.status.idle": "2021-05-11T04:55:40.871821Z",
     "shell.execute_reply": "2021-05-11T04:55:40.872492Z"
    },
    "papermill": {
     "duration": 0.043637,
     "end_time": "2021-05-11T04:55:40.872733",
     "exception": false,
     "start_time": "2021-05-11T04:55:40.829096",
     "status": "completed"
    },
    "tags": []
   },
   "outputs": [
    {
     "name": "stdout",
     "output_type": "stream",
     "text": [
      "최적 파라미터: {'alpha': 0.1, 'max_iter': 3000}\n"
     ]
    }
   ],
   "source": [
    "print('최적 파라미터:', gridsearch_ridge_model.best_params_)"
   ]
  },
  {
   "cell_type": "markdown",
   "id": "realistic-hungary",
   "metadata": {
    "papermill": {
     "duration": 0.01641,
     "end_time": "2021-05-11T04:55:40.920587",
     "exception": false,
     "start_time": "2021-05-11T04:55:40.904177",
     "status": "completed"
    },
    "tags": []
   },
   "source": [
    "## 3.5.3 성능 검증"
   ]
  },
  {
   "cell_type": "code",
   "execution_count": 11,
   "id": "together-electron",
   "metadata": {
    "execution": {
     "iopub.execute_input": "2021-05-11T04:55:40.958886Z",
     "iopub.status.busy": "2021-05-11T04:55:40.958296Z",
     "iopub.status.idle": "2021-05-11T04:55:41.048072Z",
     "shell.execute_reply": "2021-05-11T04:55:41.048916Z"
    },
    "papermill": {
     "duration": 0.111013,
     "end_time": "2021-05-11T04:55:41.049166",
     "exception": false,
     "start_time": "2021-05-11T04:55:40.938153",
     "status": "completed"
    },
    "tags": []
   },
   "outputs": [
    {
     "name": "stdout",
     "output_type": "stream",
     "text": [
      "릿지 회귀 RMSLE 값: 0.9803697718301275\n"
     ]
    }
   ],
   "source": [
    "preds = gridsearch_ridge_model.best_estimator_.predict(X_train) # 예측\n",
    "\n",
    "print('릿지 회귀 RMSLE 값:', rmsle(log_y, preds, True)) # 평가"
   ]
  },
  {
   "cell_type": "markdown",
   "id": "pediatric-bunny",
   "metadata": {
    "papermill": {
     "duration": 0.017805,
     "end_time": "2021-05-11T04:55:41.100523",
     "exception": false,
     "start_time": "2021-05-11T04:55:41.082718",
     "status": "completed"
    },
    "tags": []
   },
   "source": [
    "# 3.6 성능 개선 II : 라쏘 회귀 모델"
   ]
  },
  {
   "cell_type": "markdown",
   "id": "cooperative-logging",
   "metadata": {
    "papermill": {
     "duration": 0.016914,
     "end_time": "2021-05-11T04:55:41.134812",
     "exception": false,
     "start_time": "2021-05-11T04:55:41.117898",
     "status": "completed"
    },
    "tags": []
   },
   "source": [
    "## 3.6.1 하이퍼 파라미터 최적화"
   ]
  },
  {
   "cell_type": "code",
   "execution_count": 12,
   "id": "virgin-fields",
   "metadata": {
    "execution": {
     "iopub.execute_input": "2021-05-11T04:55:41.176071Z",
     "iopub.status.busy": "2021-05-11T04:55:41.175487Z",
     "iopub.status.idle": "2021-05-11T04:55:46.455813Z",
     "shell.execute_reply": "2021-05-11T04:55:46.457109Z"
    },
    "papermill": {
     "duration": 5.304669,
     "end_time": "2021-05-11T04:55:46.457429",
     "exception": false,
     "start_time": "2021-05-11T04:55:41.152760",
     "status": "completed"
    },
    "tags": []
   },
   "outputs": [
    {
     "name": "stdout",
     "output_type": "stream",
     "text": [
      "최적 파라미터: {'alpha': 0.00125, 'max_iter': 3000}\n"
     ]
    }
   ],
   "source": [
    "from sklearn.linear_model import Lasso\n",
    "\n",
    "# 모델 생성\n",
    "lasso_model = Lasso()\n",
    "# 그리드서치 객체 생성\n",
    "lasso_alpha = 1/np.array([0.1, 1, 2, 3, 4, 10, 30, 100, 200, 300, 400, 800, 900, 1000])\n",
    "lasso_params = {'max_iter':[3000], 'alpha':lasso_alpha}\n",
    "gridsearch_lasso_model = GridSearchCV(estimator=lasso_model,\n",
    "                                      param_grid=lasso_params,\n",
    "                                      scoring=rmsle_scorer,\n",
    "                                      cv=5)\n",
    "# 그리드서치 수행\n",
    "log_y = np.log1p(y)\n",
    "gridsearch_lasso_model.fit(X_train, log_y)\n",
    "print('최적 파라미터:', gridsearch_lasso_model.best_params_)"
   ]
  },
  {
   "cell_type": "markdown",
   "id": "surrounded-vertex",
   "metadata": {
    "papermill": {
     "duration": 0.032765,
     "end_time": "2021-05-11T04:55:46.532801",
     "exception": false,
     "start_time": "2021-05-11T04:55:46.500036",
     "status": "completed"
    },
    "tags": []
   },
   "source": [
    "## 3.6.2 성능 검증"
   ]
  },
  {
   "cell_type": "code",
   "execution_count": 13,
   "id": "accredited-harassment",
   "metadata": {
    "execution": {
     "iopub.execute_input": "2021-05-11T04:55:46.590372Z",
     "iopub.status.busy": "2021-05-11T04:55:46.589455Z",
     "iopub.status.idle": "2021-05-11T04:55:46.673062Z",
     "shell.execute_reply": "2021-05-11T04:55:46.673585Z"
    },
    "papermill": {
     "duration": 0.107964,
     "end_time": "2021-05-11T04:55:46.673797",
     "exception": false,
     "start_time": "2021-05-11T04:55:46.565833",
     "status": "completed"
    },
    "tags": []
   },
   "outputs": [
    {
     "name": "stdout",
     "output_type": "stream",
     "text": [
      "라쏘 회귀 RMSLE 값: 0.9803727847762306\n"
     ]
    }
   ],
   "source": [
    "# 예측\n",
    "preds = gridsearch_lasso_model.best_estimator_.predict(X_train)\n",
    "\n",
    "# 평가\n",
    "print('라쏘 회귀 RMSLE 값:', rmsle(log_y, preds, True))"
   ]
  },
  {
   "cell_type": "markdown",
   "id": "derived-letters",
   "metadata": {
    "papermill": {
     "duration": 0.019469,
     "end_time": "2021-05-11T04:55:46.726958",
     "exception": false,
     "start_time": "2021-05-11T04:55:46.707489",
     "status": "completed"
    },
    "tags": []
   },
   "source": [
    "# 3.7 성능 개선 III : 랜덤 포레스트 회귀 모델"
   ]
  },
  {
   "cell_type": "markdown",
   "id": "great-register",
   "metadata": {
    "papermill": {
     "duration": 0.017815,
     "end_time": "2021-05-11T04:55:46.762990",
     "exception": false,
     "start_time": "2021-05-11T04:55:46.745175",
     "status": "completed"
    },
    "tags": []
   },
   "source": [
    "## 3.7.1 하이퍼 파라미터 최적화"
   ]
  },
  {
   "cell_type": "code",
   "execution_count": 14,
   "id": "discrete-hunger",
   "metadata": {
    "execution": {
     "iopub.execute_input": "2021-05-11T04:55:46.805182Z",
     "iopub.status.busy": "2021-05-11T04:55:46.804485Z",
     "iopub.status.idle": "2021-05-11T04:56:34.427303Z",
     "shell.execute_reply": "2021-05-11T04:56:34.427946Z"
    },
    "papermill": {
     "duration": 47.647016,
     "end_time": "2021-05-11T04:56:34.428155",
     "exception": false,
     "start_time": "2021-05-11T04:55:46.781139",
     "status": "completed"
    },
    "tags": []
   },
   "outputs": [
    {
     "name": "stdout",
     "output_type": "stream",
     "text": [
      "최적 파라미터: {'n_estimators': 140, 'random_state': 42}\n"
     ]
    }
   ],
   "source": [
    "from sklearn.ensemble import RandomForestRegressor\n",
    "\n",
    "# 모델 생성\n",
    "randomforest_model = RandomForestRegressor()\n",
    "# 그리드서치 객체 생성\n",
    "rf_params = {'random_state':[42], 'n_estimators':[100, 120, 140]}\n",
    "\n",
    "gridsearch_random_forest_model = GridSearchCV(estimator=randomforest_model,\n",
    "                                              param_grid=rf_params,\n",
    "                                              scoring=rmsle_scorer,\n",
    "                                              cv=5)\n",
    "\n",
    "# 그리드서치 수행\n",
    "log_y = np.log1p(y)\n",
    "gridsearch_random_forest_model.fit(X_train, log_y)\n",
    "\n",
    "print('최적 파라미터:', gridsearch_random_forest_model.best_params_)"
   ]
  },
  {
   "cell_type": "markdown",
   "id": "pursuant-county",
   "metadata": {
    "papermill": {
     "duration": 0.017625,
     "end_time": "2021-05-11T04:56:34.464929",
     "exception": false,
     "start_time": "2021-05-11T04:56:34.447304",
     "status": "completed"
    },
    "tags": []
   },
   "source": [
    "## 3.7.2 모델 성능 검증"
   ]
  },
  {
   "cell_type": "code",
   "execution_count": 15,
   "id": "electrical-cabinet",
   "metadata": {
    "execution": {
     "iopub.execute_input": "2021-05-11T04:56:34.503813Z",
     "iopub.status.busy": "2021-05-11T04:56:34.502961Z",
     "iopub.status.idle": "2021-05-11T04:56:34.809643Z",
     "shell.execute_reply": "2021-05-11T04:56:34.809217Z"
    },
    "papermill": {
     "duration": 0.327195,
     "end_time": "2021-05-11T04:56:34.809829",
     "exception": false,
     "start_time": "2021-05-11T04:56:34.482634",
     "status": "completed"
    },
    "tags": []
   },
   "outputs": [
    {
     "name": "stdout",
     "output_type": "stream",
     "text": [
      "랜덤 포레스트 회귀의 RMSLE 값: 0.10582398124046954\n"
     ]
    }
   ],
   "source": [
    "# 예측\n",
    "preds = gridsearch_random_forest_model.best_estimator_.predict(X_train)\n",
    "\n",
    "# 평가\n",
    "print('랜덤 포레스트 회귀의 RMSLE 값:', rmsle(log_y, preds, True))"
   ]
  },
  {
   "cell_type": "markdown",
   "id": "spread-chocolate",
   "metadata": {
    "papermill": {
     "duration": 0.018287,
     "end_time": "2021-05-11T04:56:34.846639",
     "exception": false,
     "start_time": "2021-05-11T04:56:34.828352",
     "status": "completed"
    },
    "tags": []
   },
   "source": [
    "## 3.7.3 예측 및 결과 제출"
   ]
  },
  {
   "cell_type": "code",
   "execution_count": 16,
   "id": "bright-scoop",
   "metadata": {
    "execution": {
     "iopub.execute_input": "2021-05-11T04:56:34.886313Z",
     "iopub.status.busy": "2021-05-11T04:56:34.885755Z",
     "iopub.status.idle": "2021-05-11T04:56:35.675948Z",
     "shell.execute_reply": "2021-05-11T04:56:35.675360Z"
    },
    "papermill": {
     "duration": 0.81119,
     "end_time": "2021-05-11T04:56:35.676082",
     "exception": false,
     "start_time": "2021-05-11T04:56:34.864892",
     "status": "completed"
    },
    "tags": []
   },
   "outputs": [
    {
     "data": {
      "image/png": "[encoded data removed]",
      "text/plain": [
       "<Figure size 720x288 with 2 Axes>"
      ]
     },
     "metadata": {
      "needs_background": "light"
     },
     "output_type": "display_data"
    }
   ],
   "source": [
    "import seaborn as sns\n",
    "import matplotlib.pyplot as plt\n",
    "\n",
    "randomforest_preds = gridsearch_random_forest_model.best_estimator_.predict(X_test)\n",
    "\n",
    "figure, axes = plt.subplots(ncols=2)\n",
    "figure.set_size_inches(10, 4)\n",
    "\n",
    "sns.histplot(y, bins=50, ax=axes[0])\n",
    "axes[0].set_title('Train Data Distribution')\n",
    "sns.histplot(np.exp(randomforest_preds), bins=50, ax=axes[1])\n",
    "axes[1].set_title('Predicted Test Data Distribution');"
   ]
  },
  {
   "cell_type": "code",
   "execution_count": 17,
   "id": "curious-gazette",
   "metadata": {
    "execution": {
     "iopub.execute_input": "2021-05-11T04:56:35.721255Z",
     "iopub.status.busy": "2021-05-11T04:56:35.720480Z",
     "iopub.status.idle": "2021-05-11T04:56:35.743064Z",
     "shell.execute_reply": "2021-05-11T04:56:35.742564Z"
    },
    "papermill": {
     "duration": 0.046451,
     "end_time": "2021-05-11T04:56:35.743200",
     "exception": false,
     "start_time": "2021-05-11T04:56:35.696749",
     "status": "completed"
    },
    "tags": []
   },
   "outputs": [],
   "source": [
    "submission['count'] = np.exp(randomforest_preds) # 지수변환\n",
    "submission.to_csv('submission.csv', index=False)"
   ]
  }
 ],
 "metadata": {
  "kernelspec": {
   "display_name": "Python 3",
   "language": "python",
   "name": "python3"
  },
  "language_info": {
   "codemirror_mode": {
    "name": "ipython",
    "version": 3
   },
   "file_extension": ".py",
   "mimetype": "text/x-python",
   "name": "python",
   "nbconvert_exporter": "python",
   "pygments_lexer": "ipython3",
   "version": "3.7.10"
  },
  "papermill": {
   "default_parameters": {},
   "duration": 67.804485,
   "end_time": "2021-05-11T04:56:37.215138",
   "environment_variables": {},
   "exception": null,
   "input_path": "__notebook__.ipynb",
   "output_path": "__notebook__.ipynb",
   "parameters": {},
   "start_time": "2021-05-11T04:55:29.410653",
   "version": "2.3.3"
  }
 },
 "nbformat": 4,
 "nbformat_minor": 5
}
