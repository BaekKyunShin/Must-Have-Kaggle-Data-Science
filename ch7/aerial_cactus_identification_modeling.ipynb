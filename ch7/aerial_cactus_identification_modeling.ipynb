{
 "cells": [
  {
   "cell_type": "markdown",
   "id": "distinct-calculation",
   "metadata": {
    "papermill": {
     "duration": 0.015594,
     "end_time": "2021-06-02T07:10:03.830982",
     "exception": false,
     "start_time": "2021-06-02T07:10:03.815388",
     "status": "completed"
    },
    "tags": []
   },
   "source": [
    "# 7.4 항공 사진 내 선인장 식별 경진대회 모델 성능 개선\n",
    "- [항공 사진 내 선인장 식별 경진대회 링크](https://www.kaggle.com/c/aerial-cactus-identification)\n",
    "- [모델링 노트북 참고 링크](https://www.kaggle.com/bonhart/simple-cnn-on-pytorch-for-beginers)\n"
   ]
  },
  {
   "cell_type": "code",
   "execution_count": 1,
   "id": "loaded-vocabulary",
   "metadata": {
    "execution": {
     "iopub.execute_input": "2021-06-02T07:10:03.866928Z",
     "iopub.status.busy": "2021-06-02T07:10:03.866412Z",
     "iopub.status.idle": "2021-06-02T07:10:03.916629Z",
     "shell.execute_reply": "2021-06-02T07:10:03.915621Z",
     "shell.execute_reply.started": "2021-06-02T06:47:51.867101Z"
    },
    "papermill": {
     "duration": 0.070862,
     "end_time": "2021-06-02T07:10:03.916776",
     "exception": false,
     "start_time": "2021-06-02T07:10:03.845914",
     "status": "completed"
    },
    "tags": []
   },
   "outputs": [],
   "source": [
    "import pandas as pd\n",
    "\n",
    "# 데이터 경로\n",
    "data_path = '/kaggle/input/aerial-cactus-identification/'\n",
    "\n",
    "labels = pd.read_csv(data_path + 'train.csv')\n",
    "submission = pd.read_csv(data_path + 'sample_submission.csv')"
   ]
  },
  {
   "cell_type": "code",
   "execution_count": 2,
   "id": "extraordinary-stationery",
   "metadata": {
    "execution": {
     "iopub.execute_input": "2021-06-02T07:10:03.949923Z",
     "iopub.status.busy": "2021-06-02T07:10:03.949408Z",
     "iopub.status.idle": "2021-06-02T07:10:07.080530Z",
     "shell.execute_reply": "2021-06-02T07:10:07.080011Z",
     "shell.execute_reply.started": "2021-06-02T06:47:51.918861Z"
    },
    "papermill": {
     "duration": 3.149231,
     "end_time": "2021-06-02T07:10:07.080667",
     "exception": false,
     "start_time": "2021-06-02T07:10:03.931436",
     "status": "completed"
    },
    "tags": []
   },
   "outputs": [],
   "source": [
    "from zipfile import ZipFile\n",
    "\n",
    "# 훈련 이미지 데이터 압축 풀기\n",
    "with ZipFile(data_path + 'train.zip') as zipper:\n",
    "    zipper.extractall()\n",
    "    \n",
    "# 테스트 이미지 데이터 압 풀기\n",
    "with ZipFile(data_path + 'test.zip') as zipper:\n",
    "    zipper.extractall()"
   ]
  },
  {
   "cell_type": "code",
   "execution_count": 3,
   "id": "fifty-tucson",
   "metadata": {
    "execution": {
     "iopub.execute_input": "2021-06-02T07:10:07.116930Z",
     "iopub.status.busy": "2021-06-02T07:10:07.116262Z",
     "iopub.status.idle": "2021-06-02T07:10:08.435700Z",
     "shell.execute_reply": "2021-06-02T07:10:08.434659Z",
     "shell.execute_reply.started": "2021-06-02T06:47:55.172720Z"
    },
    "papermill": {
     "duration": 1.339014,
     "end_time": "2021-06-02T07:10:08.435835",
     "exception": false,
     "start_time": "2021-06-02T07:10:07.096821",
     "status": "completed"
    },
    "tags": []
   },
   "outputs": [],
   "source": [
    "import torch # 파이토치 \n",
    "import random\n",
    "import numpy as np\n",
    "\n",
    "# 시드 값 고정\n",
    "def set_seed(seed):\n",
    "#     torch.use_deterministic_algorithms(True)\n",
    "    torch.backends.cudnn.deterministic = True\n",
    "    torch.backends.cudnn.benchmark = False\n",
    "    torch.manual_seed(seed)\n",
    "    torch.cuda.manual_seed_all(seed)\n",
    "    np.random.seed(seed)\n",
    "    random.seed(seed)\n",
    "\n",
    "set_seed(10)"
   ]
  },
  {
   "cell_type": "code",
   "execution_count": 4,
   "id": "functioning-event",
   "metadata": {
    "execution": {
     "iopub.execute_input": "2021-06-02T07:10:08.506345Z",
     "iopub.status.busy": "2021-06-02T07:10:08.505767Z",
     "iopub.status.idle": "2021-06-02T07:10:08.509883Z",
     "shell.execute_reply": "2021-06-02T07:10:08.509467Z",
     "shell.execute_reply.started": "2021-06-02T06:47:56.523486Z"
    },
    "papermill": {
     "duration": 0.059324,
     "end_time": "2021-06-02T07:10:08.510001",
     "exception": false,
     "start_time": "2021-06-02T07:10:08.450677",
     "status": "completed"
    },
    "tags": []
   },
   "outputs": [],
   "source": [
    "device = torch.device('cuda' if torch.cuda.is_available() else 'cpu')"
   ]
  },
  {
   "cell_type": "code",
   "execution_count": 5,
   "id": "obvious-hepatitis",
   "metadata": {
    "_uuid": "c07eab67e573c7de05e11065b5bafc1bbff284fb",
    "execution": {
     "iopub.execute_input": "2021-06-02T07:10:08.544967Z",
     "iopub.status.busy": "2021-06-02T07:10:08.544348Z",
     "iopub.status.idle": "2021-06-02T07:10:09.394815Z",
     "shell.execute_reply": "2021-06-02T07:10:09.393804Z",
     "shell.execute_reply.started": "2021-06-02T06:47:56.591524Z"
    },
    "papermill": {
     "duration": 0.870312,
     "end_time": "2021-06-02T07:10:09.394952",
     "exception": false,
     "start_time": "2021-06-02T07:10:08.524640",
     "status": "completed"
    },
    "tags": []
   },
   "outputs": [],
   "source": [
    "from sklearn.model_selection import train_test_split\n",
    "\n",
    "# 훈련 데이터, 검증 데이터 분리\n",
    "train, valid = train_test_split(labels, \n",
    "                                test_size=0.1,\n",
    "                                stratify=labels['has_cactus'],\n",
    "                                random_state=10)"
   ]
  },
  {
   "cell_type": "code",
   "execution_count": 6,
   "id": "painted-excerpt",
   "metadata": {
    "_uuid": "1b05af8d59d9d5b092e96f72dfebb19591416de9",
    "execution": {
     "iopub.execute_input": "2021-06-02T07:10:09.446877Z",
     "iopub.status.busy": "2021-06-02T07:10:09.446196Z",
     "iopub.status.idle": "2021-06-02T07:10:09.677238Z",
     "shell.execute_reply": "2021-06-02T07:10:09.676711Z",
     "shell.execute_reply.started": "2021-06-02T06:47:57.381808Z"
    },
    "papermill": {
     "duration": 0.266612,
     "end_time": "2021-06-02T07:10:09.677369",
     "exception": false,
     "start_time": "2021-06-02T07:10:09.410757",
     "status": "completed"
    },
    "tags": []
   },
   "outputs": [],
   "source": [
    "import cv2\n",
    "from torch.utils.data import Dataset # 데이터 생성을 위한 클래스\n",
    "\n",
    "class ImageDataset(Dataset):\n",
    "    # 초기화 메서드(생성자)\n",
    "    def __init__(self, df, img_dir = './', transform=None):\n",
    "        super().__init__() # 상속받은 Dataset의 __init__() 메서드 호출 \n",
    "        self.df = df\n",
    "        self.img_dir = img_dir\n",
    "        self.transform = transform\n",
    "    \n",
    "    # 데이터 세트 크기 반환 메서드 \n",
    "    def __len__(self):\n",
    "        return len(self.df)\n",
    "    \n",
    "    # 인덱스(idx)에 해당하는 데이터 반환 메서드 \n",
    "    def __getitem__(self, idx):\n",
    "        img_path = self.img_dir + self.df.iloc[idx, 0] # 이미지 파일 경로 \n",
    "        image = cv2.imread(img_path) # 이미지 파일 읽기 \n",
    "        image = cv2.cvtColor(image, cv2.COLOR_BGR2RGB) # 이미지 색상 보정\n",
    "        label = self.df.iloc[idx, 1] # 이미지 레이블(타깃 값)\n",
    "        # 이미지 변환\n",
    "        if self.transform is not None:\n",
    "            image = self.transform(image)\n",
    "        return image, label"
   ]
  },
  {
   "cell_type": "code",
   "execution_count": 7,
   "id": "difficult-disney",
   "metadata": {
    "execution": {
     "iopub.execute_input": "2021-06-02T07:10:09.712913Z",
     "iopub.status.busy": "2021-06-02T07:10:09.712382Z",
     "iopub.status.idle": "2021-06-02T07:10:09.843900Z",
     "shell.execute_reply": "2021-06-02T07:10:09.842639Z",
     "shell.execute_reply.started": "2021-06-02T06:47:57.684384Z"
    },
    "papermill": {
     "duration": 0.151814,
     "end_time": "2021-06-02T07:10:09.844034",
     "exception": false,
     "start_time": "2021-06-02T07:10:09.692220",
     "status": "completed"
    },
    "tags": []
   },
   "outputs": [],
   "source": [
    "from torchvision import transforms # 이미지 변환을 위한 모듈\n",
    "\n",
    "# 훈련 데이터용 변환기\n",
    "transform_train = transforms.Compose([transforms.ToPILImage(),\n",
    "                                      transforms.Pad(32, padding_mode='symmetric'),\n",
    "                                      transforms.RandomHorizontalFlip(),\n",
    "                                      transforms.RandomVerticalFlip(),\n",
    "                                      transforms.RandomRotation(10),\n",
    "                                      transforms.ToTensor(),\n",
    "                                      transforms.Normalize(mean=[0.5, 0.5, 0.5],\n",
    "                                                           std=[0.2, 0.2, 0.2])])\n",
    "# 검증 및 테스트 데이터용 변환기\n",
    "transform_test= transforms.Compose([transforms.ToPILImage(),\n",
    "                                    transforms.Pad(32, padding_mode='symmetric'),\n",
    "                                    transforms.ToTensor(),\n",
    "                                    transforms.Normalize(mean=[0.5, 0.5, 0.5],\n",
    "                                                         std=[0.2, 0.2, 0.2])])"
   ]
  },
  {
   "cell_type": "code",
   "execution_count": 8,
   "id": "normal-mistake",
   "metadata": {
    "execution": {
     "iopub.execute_input": "2021-06-02T07:10:09.879516Z",
     "iopub.status.busy": "2021-06-02T07:10:09.877673Z",
     "iopub.status.idle": "2021-06-02T07:10:09.880082Z",
     "shell.execute_reply": "2021-06-02T07:10:09.880556Z",
     "shell.execute_reply.started": "2021-06-02T06:47:57.821680Z"
    },
    "papermill": {
     "duration": 0.021676,
     "end_time": "2021-06-02T07:10:09.880695",
     "exception": false,
     "start_time": "2021-06-02T07:10:09.859019",
     "status": "completed"
    },
    "tags": []
   },
   "outputs": [],
   "source": [
    "dataset_train = ImageDataset(df=train, img_dir='train/', transform=transform_train)\n",
    "dataset_valid = ImageDataset(df=valid, img_dir='train/', transform=transform_test)"
   ]
  },
  {
   "cell_type": "code",
   "execution_count": 9,
   "id": "weekly-guyana",
   "metadata": {
    "_uuid": "c247391c28497ad35c72f5218398ea71f2d0d5ff",
    "execution": {
     "iopub.execute_input": "2021-06-02T07:10:09.914359Z",
     "iopub.status.busy": "2021-06-02T07:10:09.913765Z",
     "iopub.status.idle": "2021-06-02T07:10:09.917614Z",
     "shell.execute_reply": "2021-06-02T07:10:09.917144Z",
     "shell.execute_reply.started": "2021-06-02T06:47:57.827287Z"
    },
    "papermill": {
     "duration": 0.022645,
     "end_time": "2021-06-02T07:10:09.917716",
     "exception": false,
     "start_time": "2021-06-02T07:10:09.895071",
     "status": "completed"
    },
    "tags": []
   },
   "outputs": [],
   "source": [
    "from torch.utils.data import DataLoader # 데이터 로더 생성을 위한 클래스\n",
    "\n",
    "loader_train = DataLoader(dataset=dataset_train, batch_size=32, \n",
    "                          shuffle=True)\n",
    "loader_valid = DataLoader(dataset=dataset_valid, batch_size=32, \n",
    "                          shuffle=False)"
   ]
  },
  {
   "cell_type": "code",
   "execution_count": 10,
   "id": "still-ukraine",
   "metadata": {
    "_uuid": "0a2d5600bc2eb915ec0bdf5b52ba11e25096f7d0",
    "execution": {
     "iopub.execute_input": "2021-06-02T07:10:09.960321Z",
     "iopub.status.busy": "2021-06-02T07:10:09.959627Z",
     "iopub.status.idle": "2021-06-02T07:10:09.962848Z",
     "shell.execute_reply": "2021-06-02T07:10:09.962420Z",
     "shell.execute_reply.started": "2021-06-02T06:47:57.841373Z"
    },
    "papermill": {
     "duration": 0.030744,
     "end_time": "2021-06-02T07:10:09.962952",
     "exception": false,
     "start_time": "2021-06-02T07:10:09.932208",
     "status": "completed"
    },
    "tags": []
   },
   "outputs": [],
   "source": [
    "import torch.nn as nn # 신경망 모듈\n",
    "import torch.nn.functional as F # 신경망 모듈에서 자주 사용되는 함수\n",
    "\n",
    "class Model(nn.Module):\n",
    "    # 신경망 계층 정의\n",
    "    def __init__(self):\n",
    "        super().__init__() # 상속받은 nn.Module의 __init__() 메서드 호출\n",
    "        # 첫 번째 ~ 다섯 번째 합성곱, 배치 정규화, 최대 풀링 계층 \n",
    "        self.layer1 = nn.Sequential(nn.Conv2d(in_channels=3, out_channels=32,\n",
    "                                              kernel_size=3, padding=2),\n",
    "                                    nn.BatchNorm2d(32), # 배치 정규화 ---①\n",
    "                                    nn.LeakyReLU(), # LeakyReLU 활성화 함수 ---②\n",
    "                                    nn.MaxPool2d(kernel_size=2))\n",
    "\n",
    "        self.layer2 = nn.Sequential(nn.Conv2d(in_channels=32, out_channels=64,\n",
    "                                              kernel_size=3, padding=2),\n",
    "                                    nn.BatchNorm2d(64),\n",
    "                                    nn.LeakyReLU(),\n",
    "                                    nn.MaxPool2d(kernel_size=2))\n",
    "        \n",
    "        self.layer3 = nn.Sequential(nn.Conv2d(in_channels=64, out_channels=128,\n",
    "                                              kernel_size=3, padding=2),\n",
    "                                    nn.BatchNorm2d(128),\n",
    "                                    nn.LeakyReLU(),\n",
    "                                    nn.MaxPool2d(kernel_size=2))\n",
    "        \n",
    "        self.layer4 = nn.Sequential(nn.Conv2d(in_channels=128, out_channels=256,\n",
    "                                              kernel_size=3, padding=2),\n",
    "                                    nn.BatchNorm2d(256),\n",
    "                                    nn.LeakyReLU(),\n",
    "                                    nn.MaxPool2d(kernel_size=2))\n",
    "        \n",
    "        self.layer5 = nn.Sequential(nn.Conv2d(in_channels=256, out_channels=512,\n",
    "                                              kernel_size=3, padding=2),\n",
    "                                    nn.BatchNorm2d(512),\n",
    "                                    nn.LeakyReLU(),\n",
    "                                    nn.MaxPool2d(kernel_size=2))\n",
    "        # 평균 풀링 계층 \n",
    "        self.avg_pool = nn.AvgPool2d(kernel_size=4) \n",
    "        # 전결합 계층 ---③\n",
    "        self.fc1 = nn.Linear(in_features=512 * 1 * 1, out_features=64)\n",
    "        self.fc2 = nn.Linear(in_features=64, out_features=2)\n",
    "\n",
    "    # 순전파 출력 정의 \n",
    "    def forward(self, x):\n",
    "        x = self.layer1(x)\n",
    "        x = self.layer2(x)\n",
    "        x = self.layer3(x)\n",
    "        x = self.layer4(x)\n",
    "        x = self.layer5(x)\n",
    "        x = self.avg_pool(x)\n",
    "        x = x.view(-1, 512 * 1 * 1) # 평탄화\n",
    "        x = self.fc1(x)\n",
    "        x = self.fc2(x)\n",
    "        return x"
   ]
  },
  {
   "cell_type": "code",
   "execution_count": 11,
   "id": "floral-newspaper",
   "metadata": {
    "_cell_guid": "79c7e3d0-c299-4dcb-8224-4455121ee9b0",
    "_uuid": "d629ff2d2480ee46fbb7e2d37f6b5fab8052498a",
    "execution": {
     "iopub.execute_input": "2021-06-02T07:10:09.995556Z",
     "iopub.status.busy": "2021-06-02T07:10:09.995034Z",
     "iopub.status.idle": "2021-06-02T07:10:13.773265Z",
     "shell.execute_reply": "2021-06-02T07:10:13.772338Z",
     "shell.execute_reply.started": "2021-06-02T06:47:57.858901Z"
    },
    "papermill": {
     "duration": 3.795823,
     "end_time": "2021-06-02T07:10:13.773400",
     "exception": false,
     "start_time": "2021-06-02T07:10:09.977577",
     "status": "completed"
    },
    "tags": []
   },
   "outputs": [
    {
     "data": {
      "text/plain": [
       "Model(\n",
       "  (layer1): Sequential(\n",
       "    (0): Conv2d(3, 32, kernel_size=(3, 3), stride=(1, 1), padding=(2, 2))\n",
       "    (1): BatchNorm2d(32, eps=1e-05, momentum=0.1, affine=True, track_running_stats=True)\n",
       "    (2): LeakyReLU(negative_slope=0.01)\n",
       "    (3): MaxPool2d(kernel_size=2, stride=2, padding=0, dilation=1, ceil_mode=False)\n",
       "  )\n",
       "  (layer2): Sequential(\n",
       "    (0): Conv2d(32, 64, kernel_size=(3, 3), stride=(1, 1), padding=(2, 2))\n",
       "    (1): BatchNorm2d(64, eps=1e-05, momentum=0.1, affine=True, track_running_stats=True)\n",
       "    (2): LeakyReLU(negative_slope=0.01)\n",
       "    (3): MaxPool2d(kernel_size=2, stride=2, padding=0, dilation=1, ceil_mode=False)\n",
       "  )\n",
       "  (layer3): Sequential(\n",
       "    (0): Conv2d(64, 128, kernel_size=(3, 3), stride=(1, 1), padding=(2, 2))\n",
       "    (1): BatchNorm2d(128, eps=1e-05, momentum=0.1, affine=True, track_running_stats=True)\n",
       "    (2): LeakyReLU(negative_slope=0.01)\n",
       "    (3): MaxPool2d(kernel_size=2, stride=2, padding=0, dilation=1, ceil_mode=False)\n",
       "  )\n",
       "  (layer4): Sequential(\n",
       "    (0): Conv2d(128, 256, kernel_size=(3, 3), stride=(1, 1), padding=(2, 2))\n",
       "    (1): BatchNorm2d(256, eps=1e-05, momentum=0.1, affine=True, track_running_stats=True)\n",
       "    (2): LeakyReLU(negative_slope=0.01)\n",
       "    (3): MaxPool2d(kernel_size=2, stride=2, padding=0, dilation=1, ceil_mode=False)\n",
       "  )\n",
       "  (layer5): Sequential(\n",
       "    (0): Conv2d(256, 512, kernel_size=(3, 3), stride=(1, 1), padding=(2, 2))\n",
       "    (1): BatchNorm2d(512, eps=1e-05, momentum=0.1, affine=True, track_running_stats=True)\n",
       "    (2): LeakyReLU(negative_slope=0.01)\n",
       "    (3): MaxPool2d(kernel_size=2, stride=2, padding=0, dilation=1, ceil_mode=False)\n",
       "  )\n",
       "  (avg_pool): AvgPool2d(kernel_size=4, stride=4, padding=0)\n",
       "  (fc1): Linear(in_features=512, out_features=64, bias=True)\n",
       "  (fc2): Linear(in_features=64, out_features=2, bias=True)\n",
       ")"
      ]
     },
     "execution_count": 11,
     "metadata": {},
     "output_type": "execute_result"
    }
   ],
   "source": [
    "model = Model().to(device)\n",
    "\n",
    "model"
   ]
  },
  {
   "cell_type": "code",
   "execution_count": 12,
   "id": "olympic-juvenile",
   "metadata": {
    "execution": {
     "iopub.execute_input": "2021-06-02T07:10:13.810555Z",
     "iopub.status.busy": "2021-06-02T07:10:13.809826Z",
     "iopub.status.idle": "2021-06-02T07:10:13.812967Z",
     "shell.execute_reply": "2021-06-02T07:10:13.812515Z",
     "shell.execute_reply.started": "2021-06-02T06:48:01.765012Z"
    },
    "papermill": {
     "duration": 0.022957,
     "end_time": "2021-06-02T07:10:13.813077",
     "exception": false,
     "start_time": "2021-06-02T07:10:13.790120",
     "status": "completed"
    },
    "tags": []
   },
   "outputs": [],
   "source": [
    "# 손실함수\n",
    "criterion = nn.CrossEntropyLoss()"
   ]
  },
  {
   "cell_type": "code",
   "execution_count": 13,
   "id": "fresh-beijing",
   "metadata": {
    "_uuid": "fceb2929d8750acb2de745cd9ff3d2d458820df8",
    "execution": {
     "iopub.execute_input": "2021-06-02T07:10:13.850306Z",
     "iopub.status.busy": "2021-06-02T07:10:13.849600Z",
     "iopub.status.idle": "2021-06-02T07:10:13.852607Z",
     "shell.execute_reply": "2021-06-02T07:10:13.852125Z",
     "shell.execute_reply.started": "2021-06-02T06:48:01.772447Z"
    },
    "papermill": {
     "duration": 0.023784,
     "end_time": "2021-06-02T07:10:13.852725",
     "exception": false,
     "start_time": "2021-06-02T07:10:13.828941",
     "status": "completed"
    },
    "tags": []
   },
   "outputs": [],
   "source": [
    "# 옵티마이저\n",
    "optimizer = torch.optim.Adamax(model.parameters(), lr=0.0001)"
   ]
  },
  {
   "cell_type": "code",
   "execution_count": 14,
   "id": "initial-scene",
   "metadata": {
    "_uuid": "2c37417ae6b62ab4551bc8a888916ca1e591d284",
    "execution": {
     "iopub.execute_input": "2021-06-02T07:10:13.893539Z",
     "iopub.status.busy": "2021-06-02T07:10:13.892955Z",
     "iopub.status.idle": "2021-06-02T07:31:28.098463Z",
     "shell.execute_reply": "2021-06-02T07:31:28.098888Z",
     "shell.execute_reply.started": "2021-06-02T06:48:01.783900Z"
    },
    "papermill": {
     "duration": 1274.230456,
     "end_time": "2021-06-02T07:31:28.099062",
     "exception": false,
     "start_time": "2021-06-02T07:10:13.868606",
     "status": "completed"
    },
    "tags": []
   },
   "outputs": [
    {
     "name": "stdout",
     "output_type": "stream",
     "text": [
      "에폭: [1/50], 손실값: 0.1068\n",
      "에폭: [2/50], 손실값: 0.0558\n",
      "에폭: [3/50], 손실값: 0.0446\n",
      "에폭: [4/50], 손실값: 0.0349\n",
      "에폭: [5/50], 손실값: 0.0322\n",
      "에폭: [6/50], 손실값: 0.0290\n",
      "에폭: [7/50], 손실값: 0.0257\n",
      "에폭: [8/50], 손실값: 0.0235\n",
      "에폭: [9/50], 손실값: 0.0227\n",
      "에폭: [10/50], 손실값: 0.0196\n",
      "에폭: [11/50], 손실값: 0.0198\n",
      "에폭: [12/50], 손실값: 0.0185\n",
      "에폭: [13/50], 손실값: 0.0159\n",
      "에폭: [14/50], 손실값: 0.0165\n",
      "에폭: [15/50], 손실값: 0.0164\n",
      "에폭: [16/50], 손실값: 0.0129\n",
      "에폭: [17/50], 손실값: 0.0127\n",
      "에폭: [18/50], 손실값: 0.0126\n",
      "에폭: [19/50], 손실값: 0.0116\n",
      "에폭: [20/50], 손실값: 0.0102\n",
      "에폭: [21/50], 손실값: 0.0113\n",
      "에폭: [22/50], 손실값: 0.0101\n",
      "에폭: [23/50], 손실값: 0.0082\n",
      "에폭: [24/50], 손실값: 0.0096\n",
      "에폭: [25/50], 손실값: 0.0080\n",
      "에폭: [26/50], 손실값: 0.0097\n",
      "에폭: [27/50], 손실값: 0.0088\n",
      "에폭: [28/50], 손실값: 0.0089\n",
      "에폭: [29/50], 손실값: 0.0102\n",
      "에폭: [30/50], 손실값: 0.0067\n",
      "에폭: [31/50], 손실값: 0.0076\n",
      "에폭: [32/50], 손실값: 0.0072\n",
      "에폭: [33/50], 손실값: 0.0065\n",
      "에폭: [34/50], 손실값: 0.0053\n",
      "에폭: [35/50], 손실값: 0.0053\n",
      "에폭: [36/50], 손실값: 0.0062\n",
      "에폭: [37/50], 손실값: 0.0051\n",
      "에폭: [38/50], 손실값: 0.0073\n",
      "에폭: [39/50], 손실값: 0.0059\n",
      "에폭: [40/50], 손실값: 0.0053\n",
      "에폭: [41/50], 손실값: 0.0046\n",
      "에폭: [42/50], 손실값: 0.0064\n",
      "에폭: [43/50], 손실값: 0.0034\n",
      "에폭: [44/50], 손실값: 0.0043\n",
      "에폭: [45/50], 손실값: 0.0036\n",
      "에폭: [46/50], 손실값: 0.0041\n",
      "에폭: [47/50], 손실값: 0.0046\n",
      "에폭: [48/50], 손실값: 0.0045\n",
      "에폭: [49/50], 손실값: 0.0038\n",
      "에폭: [50/50], 손실값: 0.0043\n"
     ]
    }
   ],
   "source": [
    "epochs = 50 # 총 에폭\n",
    "\n",
    "# 총 에폭만큼 훈련\n",
    "for epoch in range(epochs):\n",
    "    epoch_loss = 0 # 에폭별 손실값 초기화\n",
    "    # 미니배치 크기만큼 데이터를 추출하는 작업을 '반복 횟수'만큼 반복 \n",
    "    for images, labels in loader_train:\n",
    "        # 이미지, 레이블 데이터 미니배치를 장비에 할당 \n",
    "        images = images.to(device)\n",
    "        labels = labels.to(device)\n",
    "        \n",
    "        # 옵티마이저 내 기울기 초기화\n",
    "        optimizer.zero_grad()\n",
    "        # 이미지 데이터를 신경망 모델의 입력값으로 사용해 출력값 계산\n",
    "        outputs = model(images)\n",
    "        # 손실함수를 활용해 outputs와 labels의 손실값 계산\n",
    "        loss = criterion(outputs, labels)\n",
    "        # 역전파 수행\n",
    "        loss.backward()\n",
    "        # 가중치 갱신\n",
    "        optimizer.step()\n",
    "        \n",
    "        epoch_loss += loss.item() # 현재 배치에서의 손실 추가\n",
    "        \n",
    "    print(f'에폭: [{epoch+1}/{epochs}], 손실값: {epoch_loss/len(loader_train):.4f}')"
   ]
  },
  {
   "cell_type": "code",
   "execution_count": 15,
   "id": "vocational-cooler",
   "metadata": {
    "execution": {
     "iopub.execute_input": "2021-06-02T07:31:28.160645Z",
     "iopub.status.busy": "2021-06-02T07:31:28.159784Z",
     "iopub.status.idle": "2021-06-02T07:31:29.884601Z",
     "shell.execute_reply": "2021-06-02T07:31:29.885007Z",
     "shell.execute_reply.started": "2021-06-02T07:08:42.474692Z"
    },
    "papermill": {
     "duration": 1.758979,
     "end_time": "2021-06-02T07:31:29.885149",
     "exception": false,
     "start_time": "2021-06-02T07:31:28.126170",
     "status": "completed"
    },
    "tags": []
   },
   "outputs": [
    {
     "name": "stdout",
     "output_type": "stream",
     "text": [
      "검증 데이터 ROC AUC : 0.9999\n"
     ]
    }
   ],
   "source": [
    "from sklearn.metrics import roc_auc_score # ROC AUC 점수 계산 함수\n",
    "\n",
    "# 예측 확률값과 실제값을 담을 리스트 초기화\n",
    "true_list = []\n",
    "preds_list = []\n",
    "\n",
    "model.eval() # 모델을 평가 상태로 설정 \n",
    "\n",
    "with torch.no_grad(): # 기울기 계산 비활성 -\n",
    "    for images, labels in loader_valid:\n",
    "        # 이미지, 레이블 데이터 미니배치를 장비에 할당 \n",
    "        images = images.to(device)\n",
    "        labels = labels.to(device)\n",
    "        # 이미지 데이터를 신경망 모델의 입력값으로 사용해 출력값 계산\n",
    "        outputs = model(images)\n",
    "        preds = torch.softmax(outputs.cpu(), dim=1)[:, 1] # 예측 확률값 \n",
    "        true = labels.cpu() # 실제값 \n",
    "        # 예측 확률값과 실제값을 리스트에 추가\n",
    "        preds_list.extend(preds)\n",
    "        true_list.extend(true)\n",
    "        \n",
    "    # 검증 데이터 ROC AUC 점수 계산 \n",
    "    print(f'검증 데이터 ROC AUC : {roc_auc_score(true_list, preds_list):.4f}')"
   ]
  },
  {
   "cell_type": "code",
   "execution_count": 16,
   "id": "effective-huntington",
   "metadata": {
    "_uuid": "870413a60281e0c4115fbc7cf192508e15a9e269",
    "execution": {
     "iopub.execute_input": "2021-06-02T07:31:29.944697Z",
     "iopub.status.busy": "2021-06-02T07:31:29.944116Z",
     "iopub.status.idle": "2021-06-02T07:31:29.948239Z",
     "shell.execute_reply": "2021-06-02T07:31:29.947719Z",
     "shell.execute_reply.started": "2021-06-02T07:08:44.190736Z"
    },
    "papermill": {
     "duration": 0.0355,
     "end_time": "2021-06-02T07:31:29.948411",
     "exception": false,
     "start_time": "2021-06-02T07:31:29.912911",
     "status": "completed"
    },
    "tags": []
   },
   "outputs": [],
   "source": [
    "dataset_test = ImageDataset(df=submission, img_dir='test/', transform=transform_test)\n",
    "loader_test = DataLoader(dataset=dataset_test, batch_size=32, \n",
    "                         shuffle=False)"
   ]
  },
  {
   "cell_type": "code",
   "execution_count": 17,
   "id": "three-communications",
   "metadata": {
    "execution": {
     "iopub.execute_input": "2021-06-02T07:31:30.009495Z",
     "iopub.status.busy": "2021-06-02T07:31:30.008842Z",
     "iopub.status.idle": "2021-06-02T07:31:33.890278Z",
     "shell.execute_reply": "2021-06-02T07:31:33.888903Z",
     "shell.execute_reply.started": "2021-06-02T07:08:44.197461Z"
    },
    "papermill": {
     "duration": 3.91428,
     "end_time": "2021-06-02T07:31:33.890421",
     "exception": false,
     "start_time": "2021-06-02T07:31:29.976141",
     "status": "completed"
    },
    "tags": []
   },
   "outputs": [],
   "source": [
    "model.eval() # 모델을 평가 상태로 설정\n",
    "\n",
    "preds = [] # 타깃 예측 값 저장용 변수 초기화\n",
    "\n",
    "with torch.no_grad(): # 기울기 계산 비활성\n",
    "    for images, _ in loader_test:\n",
    "        # 이미지 데이터 미니배치를 장비에 할당\n",
    "        images = images.to(device)\n",
    "        # 이미지 데이터를 신경망 모델의 입력값으로 사용해 출력값 계산\n",
    "        outputs = model(images)\n",
    "        # 타깃 값이 1일 확률(예측 값)\n",
    "        preds_part = torch.softmax(outputs.cpu(), dim=1)[:, 1].tolist()\n",
    "        # preds에 preds_part 이어붙이기\n",
    "        preds.extend(preds_part)"
   ]
  },
  {
   "cell_type": "code",
   "execution_count": 18,
   "id": "helpful-bosnia",
   "metadata": {
    "execution": {
     "iopub.execute_input": "2021-06-02T07:31:33.951689Z",
     "iopub.status.busy": "2021-06-02T07:31:33.950974Z",
     "iopub.status.idle": "2021-06-02T07:31:34.115662Z",
     "shell.execute_reply": "2021-06-02T07:31:34.115122Z",
     "shell.execute_reply.started": "2021-06-02T07:08:48.237514Z"
    },
    "papermill": {
     "duration": 0.197477,
     "end_time": "2021-06-02T07:31:34.115783",
     "exception": false,
     "start_time": "2021-06-02T07:31:33.918306",
     "status": "completed"
    },
    "tags": []
   },
   "outputs": [],
   "source": [
    "submission['has_cactus'] = preds\n",
    "submission.to_csv('submission.csv', index=False)"
   ]
  },
  {
   "cell_type": "code",
   "execution_count": 19,
   "id": "technological-lesson",
   "metadata": {
    "execution": {
     "iopub.execute_input": "2021-06-02T07:31:34.180871Z",
     "iopub.status.busy": "2021-06-02T07:31:34.180102Z",
     "iopub.status.idle": "2021-06-02T07:31:34.188037Z",
     "shell.execute_reply": "2021-06-02T07:31:34.187621Z",
     "shell.execute_reply.started": "2021-06-02T07:08:48.529197Z"
    },
    "papermill": {
     "duration": 0.044427,
     "end_time": "2021-06-02T07:31:34.188145",
     "exception": false,
     "start_time": "2021-06-02T07:31:34.143718",
     "status": "completed"
    },
    "tags": []
   },
   "outputs": [
    {
     "data": {
      "text/html": [
       "<div>\n",
       "<style scoped>\n",
       "    .dataframe tbody tr th:only-of-type {\n",
       "        vertical-align: middle;\n",
       "    }\n",
       "\n",
       "    .dataframe tbody tr th {\n",
       "        vertical-align: top;\n",
       "    }\n",
       "\n",
       "    .dataframe thead th {\n",
       "        text-align: right;\n",
       "    }\n",
       "</style>\n",
       "<table border=\"1\" class=\"dataframe\">\n",
       "  <thead>\n",
       "    <tr style=\"text-align: right;\">\n",
       "      <th></th>\n",
       "      <th>id</th>\n",
       "      <th>has_cactus</th>\n",
       "    </tr>\n",
       "  </thead>\n",
       "  <tbody>\n",
       "    <tr>\n",
       "      <th>0</th>\n",
       "      <td>000940378805c44108d287872b2f04ce.jpg</td>\n",
       "      <td>1.000000</td>\n",
       "    </tr>\n",
       "    <tr>\n",
       "      <th>1</th>\n",
       "      <td>0017242f54ececa4512b4d7937d1e21e.jpg</td>\n",
       "      <td>1.000000</td>\n",
       "    </tr>\n",
       "    <tr>\n",
       "      <th>2</th>\n",
       "      <td>001ee6d8564003107853118ab87df407.jpg</td>\n",
       "      <td>0.000005</td>\n",
       "    </tr>\n",
       "    <tr>\n",
       "      <th>3</th>\n",
       "      <td>002e175c3c1e060769475f52182583d0.jpg</td>\n",
       "      <td>0.000009</td>\n",
       "    </tr>\n",
       "    <tr>\n",
       "      <th>4</th>\n",
       "      <td>0036e44a7e8f7218e9bc7bf8137e4943.jpg</td>\n",
       "      <td>0.934871</td>\n",
       "    </tr>\n",
       "    <tr>\n",
       "      <th>...</th>\n",
       "      <td>...</td>\n",
       "      <td>...</td>\n",
       "    </tr>\n",
       "    <tr>\n",
       "      <th>3995</th>\n",
       "      <td>ffaafd0c9f2f0e73172848463bc2e523.jpg</td>\n",
       "      <td>0.999999</td>\n",
       "    </tr>\n",
       "    <tr>\n",
       "      <th>3996</th>\n",
       "      <td>ffae37344310a1549162493237d25d3f.jpg</td>\n",
       "      <td>1.000000</td>\n",
       "    </tr>\n",
       "    <tr>\n",
       "      <th>3997</th>\n",
       "      <td>ffbd469c56873d064326204aac546e0d.jpg</td>\n",
       "      <td>1.000000</td>\n",
       "    </tr>\n",
       "    <tr>\n",
       "      <th>3998</th>\n",
       "      <td>ffcb76b7d47f29ece11c751e5f763f52.jpg</td>\n",
       "      <td>1.000000</td>\n",
       "    </tr>\n",
       "    <tr>\n",
       "      <th>3999</th>\n",
       "      <td>fffed17d1a8e0433a934db518d7f532c.jpg</td>\n",
       "      <td>1.000000</td>\n",
       "    </tr>\n",
       "  </tbody>\n",
       "</table>\n",
       "<p>4000 rows × 2 columns</p>\n",
       "</div>"
      ],
      "text/plain": [
       "                                        id  has_cactus\n",
       "0     000940378805c44108d287872b2f04ce.jpg    1.000000\n",
       "1     0017242f54ececa4512b4d7937d1e21e.jpg    1.000000\n",
       "2     001ee6d8564003107853118ab87df407.jpg    0.000005\n",
       "3     002e175c3c1e060769475f52182583d0.jpg    0.000009\n",
       "4     0036e44a7e8f7218e9bc7bf8137e4943.jpg    0.934871\n",
       "...                                    ...         ...\n",
       "3995  ffaafd0c9f2f0e73172848463bc2e523.jpg    0.999999\n",
       "3996  ffae37344310a1549162493237d25d3f.jpg    1.000000\n",
       "3997  ffbd469c56873d064326204aac546e0d.jpg    1.000000\n",
       "3998  ffcb76b7d47f29ece11c751e5f763f52.jpg    1.000000\n",
       "3999  fffed17d1a8e0433a934db518d7f532c.jpg    1.000000\n",
       "\n",
       "[4000 rows x 2 columns]"
      ]
     },
     "execution_count": 19,
     "metadata": {},
     "output_type": "execute_result"
    }
   ],
   "source": [
    "submission"
   ]
  },
  {
   "cell_type": "code",
   "execution_count": 20,
   "id": "precise-europe",
   "metadata": {
    "execution": {
     "iopub.execute_input": "2021-06-02T07:31:34.247797Z",
     "iopub.status.busy": "2021-06-02T07:31:34.247065Z",
     "iopub.status.idle": "2021-06-02T07:31:34.799902Z",
     "shell.execute_reply": "2021-06-02T07:31:34.799114Z",
     "shell.execute_reply.started": "2021-06-02T07:08:48.546951Z"
    },
    "papermill": {
     "duration": 0.583834,
     "end_time": "2021-06-02T07:31:34.800053",
     "exception": false,
     "start_time": "2021-06-02T07:31:34.216219",
     "status": "completed"
    },
    "tags": []
   },
   "outputs": [],
   "source": [
    "import shutil\n",
    "\n",
    "shutil.rmtree('./train')\n",
    "shutil.rmtree('./test')"
   ]
  }
 ],
 "metadata": {
  "kernelspec": {
   "display_name": "Python 3",
   "language": "python",
   "name": "python3"
  },
  "language_info": {
   "codemirror_mode": {
    "name": "ipython",
    "version": 3
   },
   "file_extension": ".py",
   "mimetype": "text/x-python",
   "name": "python",
   "nbconvert_exporter": "python",
   "pygments_lexer": "ipython3",
   "version": "3.7.9"
  },
  "papermill": {
   "default_parameters": {},
   "duration": 1296.795187,
   "end_time": "2021-06-02T07:31:35.737503",
   "environment_variables": {},
   "exception": null,
   "input_path": "__notebook__.ipynb",
   "output_path": "__notebook__.ipynb",
   "parameters": {},
   "start_time": "2021-06-02T07:09:58.942316",
   "version": "2.3.2"
  }
 },
 "nbformat": 4,
 "nbformat_minor": 5
}
