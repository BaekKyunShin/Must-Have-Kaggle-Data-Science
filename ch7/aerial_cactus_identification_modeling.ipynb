{
 "cells": [
  {
   "cell_type": "markdown",
   "id": "alternative-boutique",
   "metadata": {
    "papermill": {
     "duration": 0.018321,
     "end_time": "2021-05-13T10:56:45.222084",
     "exception": false,
     "start_time": "2021-05-13T10:56:45.203763",
     "status": "completed"
    },
    "tags": []
   },
   "source": [
    "# 7.4 항공 사진 내 선인장 식별 경진대회 모델 성능 개선"
   ]
  },
  {
   "cell_type": "markdown",
   "id": "protecting-finger",
   "metadata": {
    "papermill": {
     "duration": 0.016541,
     "end_time": "2021-05-13T10:56:45.256182",
     "exception": false,
     "start_time": "2021-05-13T10:56:45.239641",
     "status": "completed"
    },
    "tags": []
   },
   "source": [
    "- [항공 사진 내 선인장 식별 경진대회 링크](https://www.kaggle.com/c/aerial-cactus-identification)\n",
    "- [모델링 노트북 참고 링크](https://www.kaggle.com/bonhart/simple-cnn-on-pytorch-for-beginers)"
   ]
  },
  {
   "cell_type": "code",
   "execution_count": 1,
   "id": "incoming-representation",
   "metadata": {
    "_uuid": "001d0b8a8b818c57a55fa4e20b5cae060a749cdc",
    "execution": {
     "iopub.execute_input": "2021-05-13T10:56:45.297310Z",
     "iopub.status.busy": "2021-05-13T10:56:45.295182Z",
     "iopub.status.idle": "2021-05-13T10:56:45.357416Z",
     "shell.execute_reply": "2021-05-13T10:56:45.356667Z"
    },
    "papermill": {
     "duration": 0.084878,
     "end_time": "2021-05-13T10:56:45.357700",
     "exception": false,
     "start_time": "2021-05-13T10:56:45.272822",
     "status": "completed"
    },
    "tags": []
   },
   "outputs": [],
   "source": [
    "import pandas as pd\n",
    "\n",
    "# 데이터 경로\n",
    "data_path = '/kaggle/input/aerial-cactus-identification/'\n",
    "\n",
    "labels = pd.read_csv(data_path + 'train.csv')\n",
    "submission = pd.read_csv(data_path + 'sample_submission.csv')"
   ]
  },
  {
   "cell_type": "code",
   "execution_count": 2,
   "id": "focused-appraisal",
   "metadata": {
    "execution": {
     "iopub.execute_input": "2021-05-13T10:56:45.397605Z",
     "iopub.status.busy": "2021-05-13T10:56:45.396739Z",
     "iopub.status.idle": "2021-05-13T10:56:50.769169Z",
     "shell.execute_reply": "2021-05-13T10:56:50.767863Z"
    },
    "papermill": {
     "duration": 5.393804,
     "end_time": "2021-05-13T10:56:50.769331",
     "exception": false,
     "start_time": "2021-05-13T10:56:45.375527",
     "status": "completed"
    },
    "tags": []
   },
   "outputs": [],
   "source": [
    "from zipfile import ZipFile\n",
    "\n",
    "# 훈련 이미지 데이터 압축 풀기\n",
    "with ZipFile(data_path + 'train.zip') as zipper:\n",
    "    zipper.extractall()\n",
    "    \n",
    "# 테스트 이미지 데이터 압 풀기\n",
    "with ZipFile(data_path + 'test.zip') as zipper:\n",
    "    zipper.extractall()"
   ]
  },
  {
   "cell_type": "code",
   "execution_count": 3,
   "id": "empty-mistake",
   "metadata": {
    "execution": {
     "iopub.execute_input": "2021-05-13T10:56:50.810386Z",
     "iopub.status.busy": "2021-05-13T10:56:50.809517Z",
     "iopub.status.idle": "2021-05-13T10:56:52.549802Z",
     "shell.execute_reply": "2021-05-13T10:56:52.548518Z"
    },
    "papermill": {
     "duration": 1.763555,
     "end_time": "2021-05-13T10:56:52.549981",
     "exception": false,
     "start_time": "2021-05-13T10:56:50.786426",
     "status": "completed"
    },
    "tags": []
   },
   "outputs": [],
   "source": [
    "import torch # 파이토치 \n",
    "import random\n",
    "import numpy as np\n",
    "\n",
    "# 시드 값 고정\n",
    "def set_seed(seed):\n",
    "#     torch.use_deterministic_algorithms(True)\n",
    "    torch.backends.cudnn.deterministic = True\n",
    "    torch.backends.cudnn.benchmark = False\n",
    "    torch.manual_seed(seed)\n",
    "    torch.cuda.manual_seed_all(seed)\n",
    "    np.random.seed(seed)\n",
    "    random.seed(seed)\n",
    "\n",
    "set_seed(10)"
   ]
  },
  {
   "cell_type": "code",
   "execution_count": 4,
   "id": "frozen-ending",
   "metadata": {
    "execution": {
     "iopub.execute_input": "2021-05-13T10:56:52.652721Z",
     "iopub.status.busy": "2021-05-13T10:56:52.651673Z",
     "iopub.status.idle": "2021-05-13T10:56:52.655722Z",
     "shell.execute_reply": "2021-05-13T10:56:52.654677Z"
    },
    "papermill": {
     "duration": 0.088201,
     "end_time": "2021-05-13T10:56:52.655926",
     "exception": false,
     "start_time": "2021-05-13T10:56:52.567725",
     "status": "completed"
    },
    "tags": []
   },
   "outputs": [],
   "source": [
    "device = torch.device('cuda' if torch.cuda.is_available() else 'cpu')"
   ]
  },
  {
   "cell_type": "code",
   "execution_count": 5,
   "id": "becoming-surgeon",
   "metadata": {
    "_uuid": "c07eab67e573c7de05e11065b5bafc1bbff284fb",
    "execution": {
     "iopub.execute_input": "2021-05-13T10:56:52.699098Z",
     "iopub.status.busy": "2021-05-13T10:56:52.698280Z",
     "iopub.status.idle": "2021-05-13T10:56:53.755017Z",
     "shell.execute_reply": "2021-05-13T10:56:53.753798Z"
    },
    "papermill": {
     "duration": 1.081244,
     "end_time": "2021-05-13T10:56:53.755200",
     "exception": false,
     "start_time": "2021-05-13T10:56:52.673956",
     "status": "completed"
    },
    "tags": []
   },
   "outputs": [],
   "source": [
    "from sklearn.model_selection import train_test_split\n",
    "\n",
    "# 훈련 데이터, 검증 데이터 분리\n",
    "train, valid = train_test_split(labels, \n",
    "                                test_size=0.1,\n",
    "                                stratify=labels['has_cactus'],\n",
    "                                random_state=10)"
   ]
  },
  {
   "cell_type": "code",
   "execution_count": 6,
   "id": "unlike-nerve",
   "metadata": {
    "_uuid": "1b05af8d59d9d5b092e96f72dfebb19591416de9",
    "execution": {
     "iopub.execute_input": "2021-05-13T10:56:53.798021Z",
     "iopub.status.busy": "2021-05-13T10:56:53.797184Z",
     "iopub.status.idle": "2021-05-13T10:56:54.080273Z",
     "shell.execute_reply": "2021-05-13T10:56:54.079187Z"
    },
    "papermill": {
     "duration": 0.307775,
     "end_time": "2021-05-13T10:56:54.080430",
     "exception": false,
     "start_time": "2021-05-13T10:56:53.772655",
     "status": "completed"
    },
    "tags": []
   },
   "outputs": [],
   "source": [
    "import cv2\n",
    "from torch.utils.data import Dataset # 데이터 생성을 위한 클래스\n",
    "\n",
    "class ImageDataset(Dataset):\n",
    "    # 초기화 메서드(생성자)\n",
    "    def __init__(self, df, img_dir = './', transform=None):\n",
    "        super().__init__() # 상속받은 Dataset의 __init__() 메서드 호출 \n",
    "        self.df = df\n",
    "        self.img_dir = img_dir\n",
    "        self.transform = transform\n",
    "    \n",
    "    # 데이터 세트 크기 반환 메서드 \n",
    "    def __len__(self):\n",
    "        return len(self.df)\n",
    "    \n",
    "    # 인덱스(idx)에 해당하는 데이터 반환 메서드 \n",
    "    def __getitem__(self, idx):\n",
    "        img_path = self.img_dir + self.df.iloc[idx, 0] # 이미지 파일 경로 \n",
    "        image = cv2.imread(img_path) # 이미지 파일 읽기 \n",
    "        label = self.df.iloc[idx, 1] # 이미지 레이블(타깃 값)\n",
    "        # 이미지 변환\n",
    "        if self.transform:\n",
    "            image = self.transform(image)\n",
    "        return image, label"
   ]
  },
  {
   "cell_type": "code",
   "execution_count": 7,
   "id": "descending-trinidad",
   "metadata": {
    "execution": {
     "iopub.execute_input": "2021-05-13T10:56:54.121435Z",
     "iopub.status.busy": "2021-05-13T10:56:54.120548Z",
     "iopub.status.idle": "2021-05-13T10:56:54.291160Z",
     "shell.execute_reply": "2021-05-13T10:56:54.290509Z"
    },
    "papermill": {
     "duration": 0.193576,
     "end_time": "2021-05-13T10:56:54.291338",
     "exception": false,
     "start_time": "2021-05-13T10:56:54.097762",
     "status": "completed"
    },
    "tags": []
   },
   "outputs": [],
   "source": [
    "import torchvision.transforms as transforms # 이미지 변환을 위한 모듈\n",
    "\n",
    "transform = transforms.Compose([transforms.ToPILImage(),\n",
    "                                transforms.Pad(32, padding_mode='symmetric'),\n",
    "                                transforms.RandomHorizontalFlip(),\n",
    "                                transforms.RandomVerticalFlip(),\n",
    "                                transforms.RandomRotation(10),\n",
    "                                transforms.ToTensor(),\n",
    "                                transforms.Normalize(mean=[0.5, 0.5, 0.5],\n",
    "                                                     std=[0.2, 0.2, 0.2])])"
   ]
  },
  {
   "cell_type": "code",
   "execution_count": 8,
   "id": "physical-brooklyn",
   "metadata": {
    "execution": {
     "iopub.execute_input": "2021-05-13T10:56:54.333494Z",
     "iopub.status.busy": "2021-05-13T10:56:54.332564Z",
     "iopub.status.idle": "2021-05-13T10:56:54.336464Z",
     "shell.execute_reply": "2021-05-13T10:56:54.335929Z"
    },
    "papermill": {
     "duration": 0.026706,
     "end_time": "2021-05-13T10:56:54.336623",
     "exception": false,
     "start_time": "2021-05-13T10:56:54.309917",
     "status": "completed"
    },
    "tags": []
   },
   "outputs": [],
   "source": [
    "dataset_train = ImageDataset(df=train, img_dir='train/', transform=transform)\n",
    "dataset_valid = ImageDataset(df=valid, img_dir='train/', transform=transform)"
   ]
  },
  {
   "cell_type": "code",
   "execution_count": 9,
   "id": "elegant-mission",
   "metadata": {
    "_uuid": "c247391c28497ad35c72f5218398ea71f2d0d5ff",
    "execution": {
     "iopub.execute_input": "2021-05-13T10:56:54.378074Z",
     "iopub.status.busy": "2021-05-13T10:56:54.377057Z",
     "iopub.status.idle": "2021-05-13T10:56:54.380977Z",
     "shell.execute_reply": "2021-05-13T10:56:54.380349Z"
    },
    "papermill": {
     "duration": 0.026908,
     "end_time": "2021-05-13T10:56:54.381117",
     "exception": false,
     "start_time": "2021-05-13T10:56:54.354209",
     "status": "completed"
    },
    "tags": []
   },
   "outputs": [],
   "source": [
    "from torch.utils.data import DataLoader # 데이터 로더 생성을 위한 클래스\n",
    "\n",
    "loader_train = DataLoader(dataset=dataset_train, batch_size=64, \n",
    "                          shuffle=True)\n",
    "loader_valid = DataLoader(dataset=dataset_valid, batch_size=64, \n",
    "                          shuffle=False)"
   ]
  },
  {
   "cell_type": "code",
   "execution_count": 10,
   "id": "exotic-belle",
   "metadata": {
    "_uuid": "0a2d5600bc2eb915ec0bdf5b52ba11e25096f7d0",
    "execution": {
     "iopub.execute_input": "2021-05-13T10:56:54.432493Z",
     "iopub.status.busy": "2021-05-13T10:56:54.431564Z",
     "iopub.status.idle": "2021-05-13T10:56:54.435217Z",
     "shell.execute_reply": "2021-05-13T10:56:54.435746Z"
    },
    "papermill": {
     "duration": 0.03699,
     "end_time": "2021-05-13T10:56:54.435930",
     "exception": false,
     "start_time": "2021-05-13T10:56:54.398940",
     "status": "completed"
    },
    "tags": []
   },
   "outputs": [],
   "source": [
    "import torch.nn as nn # 신경망 모듈\n",
    "import torch.nn.functional as F # 신경망 모듈에서 자주 사용되는 함수\n",
    "\n",
    "class Model(nn.Module):\n",
    "    # 신경망 계층 정의\n",
    "    def __init__(self):\n",
    "        super().__init__() # 상속받은 nn.Module의 __init__() 메서드 호출\n",
    "        # 첫 번째 ~ 다섯 번째 합성곱, 배치 정규화, 최대 풀링 계층 \n",
    "        self.layer1 = nn.Sequential(nn.Conv2d(in_channels=3, out_channels=32,\n",
    "                                              kernel_size=3, padding=2),\n",
    "                                    nn.BatchNorm2d(32), # 배치 정규화 ---①\n",
    "                                    nn.LeakyReLU(), # LeakyReLU 활성화 함수 ---②\n",
    "                                    nn.MaxPool2d(kernel_size=2))\n",
    "\n",
    "        self.layer2 = nn.Sequential(nn.Conv2d(in_channels=32, out_channels=64,\n",
    "                                              kernel_size=3, padding=2),\n",
    "                                    nn.BatchNorm2d(64),\n",
    "                                    nn.LeakyReLU(),\n",
    "                                    nn.MaxPool2d(kernel_size=2))\n",
    "        \n",
    "        self.layer3 = nn.Sequential(nn.Conv2d(in_channels=64, out_channels=128,\n",
    "                                              kernel_size=3, padding=2),\n",
    "                                    nn.BatchNorm2d(128),\n",
    "                                    nn.LeakyReLU(),\n",
    "                                    nn.MaxPool2d(kernel_size=2))\n",
    "        \n",
    "        self.layer4 = nn.Sequential(nn.Conv2d(in_channels=128, out_channels=256,\n",
    "                                              kernel_size=3, padding=2),\n",
    "                                    nn.BatchNorm2d(256),\n",
    "                                    nn.LeakyReLU(),\n",
    "                                    nn.MaxPool2d(kernel_size=2))\n",
    "        \n",
    "        self.layer5 = nn.Sequential(nn.Conv2d(in_channels=256, out_channels=512,\n",
    "                                              kernel_size=3, padding=2),\n",
    "                                    nn.BatchNorm2d(512),\n",
    "                                    nn.LeakyReLU(),\n",
    "                                    nn.MaxPool2d(kernel_size=2))\n",
    "        # 평균 풀링 계층 \n",
    "        self.avg_pool = nn.AvgPool2d(kernel_size=4) \n",
    "        # 전결합 계층 ---③\n",
    "        self.fc1 = nn.Linear(in_features=512 * 1 * 1, out_features=64)\n",
    "        self.fc2 = nn.Linear(in_features=64, out_features=2)\n",
    "\n",
    "    # 순전파 출력 정의 \n",
    "    def forward(self, x):\n",
    "        x = self.layer1(x)\n",
    "        x = self.layer2(x)\n",
    "        x = self.layer3(x)\n",
    "        x = self.layer4(x)\n",
    "        x = self.layer5(x)\n",
    "        x = self.avg_pool(x)\n",
    "        x = x.view(-1, 512 * 1 * 1) # 평탄화\n",
    "        x = self.fc1(x)\n",
    "        x = self.fc2(x)\n",
    "        return x"
   ]
  },
  {
   "cell_type": "code",
   "execution_count": 11,
   "id": "collected-christmas",
   "metadata": {
    "_cell_guid": "79c7e3d0-c299-4dcb-8224-4455121ee9b0",
    "_uuid": "d629ff2d2480ee46fbb7e2d37f6b5fab8052498a",
    "execution": {
     "iopub.execute_input": "2021-05-13T10:56:54.476651Z",
     "iopub.status.busy": "2021-05-13T10:56:54.475733Z",
     "iopub.status.idle": "2021-05-13T10:56:59.461060Z",
     "shell.execute_reply": "2021-05-13T10:56:59.462899Z"
    },
    "papermill": {
     "duration": 5.009247,
     "end_time": "2021-05-13T10:56:59.463098",
     "exception": false,
     "start_time": "2021-05-13T10:56:54.453851",
     "status": "completed"
    },
    "tags": []
   },
   "outputs": [
    {
     "data": {
      "text/plain": [
       "Model(\n",
       "  (layer1): Sequential(\n",
       "    (0): Conv2d(3, 32, kernel_size=(3, 3), stride=(1, 1), padding=(2, 2))\n",
       "    (1): BatchNorm2d(32, eps=1e-05, momentum=0.1, affine=True, track_running_stats=True)\n",
       "    (2): LeakyReLU(negative_slope=0.01)\n",
       "    (3): MaxPool2d(kernel_size=2, stride=2, padding=0, dilation=1, ceil_mode=False)\n",
       "  )\n",
       "  (layer2): Sequential(\n",
       "    (0): Conv2d(32, 64, kernel_size=(3, 3), stride=(1, 1), padding=(2, 2))\n",
       "    (1): BatchNorm2d(64, eps=1e-05, momentum=0.1, affine=True, track_running_stats=True)\n",
       "    (2): LeakyReLU(negative_slope=0.01)\n",
       "    (3): MaxPool2d(kernel_size=2, stride=2, padding=0, dilation=1, ceil_mode=False)\n",
       "  )\n",
       "  (layer3): Sequential(\n",
       "    (0): Conv2d(64, 128, kernel_size=(3, 3), stride=(1, 1), padding=(2, 2))\n",
       "    (1): BatchNorm2d(128, eps=1e-05, momentum=0.1, affine=True, track_running_stats=True)\n",
       "    (2): LeakyReLU(negative_slope=0.01)\n",
       "    (3): MaxPool2d(kernel_size=2, stride=2, padding=0, dilation=1, ceil_mode=False)\n",
       "  )\n",
       "  (layer4): Sequential(\n",
       "    (0): Conv2d(128, 256, kernel_size=(3, 3), stride=(1, 1), padding=(2, 2))\n",
       "    (1): BatchNorm2d(256, eps=1e-05, momentum=0.1, affine=True, track_running_stats=True)\n",
       "    (2): LeakyReLU(negative_slope=0.01)\n",
       "    (3): MaxPool2d(kernel_size=2, stride=2, padding=0, dilation=1, ceil_mode=False)\n",
       "  )\n",
       "  (layer5): Sequential(\n",
       "    (0): Conv2d(256, 512, kernel_size=(3, 3), stride=(1, 1), padding=(2, 2))\n",
       "    (1): BatchNorm2d(512, eps=1e-05, momentum=0.1, affine=True, track_running_stats=True)\n",
       "    (2): LeakyReLU(negative_slope=0.01)\n",
       "    (3): MaxPool2d(kernel_size=2, stride=2, padding=0, dilation=1, ceil_mode=False)\n",
       "  )\n",
       "  (avg_pool): AvgPool2d(kernel_size=4, stride=4, padding=0)\n",
       "  (fc1): Linear(in_features=512, out_features=64, bias=True)\n",
       "  (fc2): Linear(in_features=64, out_features=2, bias=True)\n",
       ")"
      ]
     },
     "execution_count": 11,
     "metadata": {},
     "output_type": "execute_result"
    }
   ],
   "source": [
    "model = Model().to(device)\n",
    "\n",
    "model"
   ]
  },
  {
   "cell_type": "code",
   "execution_count": 12,
   "id": "shaped-origin",
   "metadata": {
    "execution": {
     "iopub.execute_input": "2021-05-13T10:56:59.563702Z",
     "iopub.status.busy": "2021-05-13T10:56:59.561343Z",
     "iopub.status.idle": "2021-05-13T10:56:59.564768Z",
     "shell.execute_reply": "2021-05-13T10:56:59.562486Z"
    },
    "papermill": {
     "duration": 0.056069,
     "end_time": "2021-05-13T10:56:59.565077",
     "exception": false,
     "start_time": "2021-05-13T10:56:59.509008",
     "status": "completed"
    },
    "tags": []
   },
   "outputs": [],
   "source": [
    "# 손실함수\n",
    "criterion = nn.CrossEntropyLoss()"
   ]
  },
  {
   "cell_type": "code",
   "execution_count": 13,
   "id": "hollywood-velvet",
   "metadata": {
    "_uuid": "fceb2929d8750acb2de745cd9ff3d2d458820df8",
    "execution": {
     "iopub.execute_input": "2021-05-13T10:56:59.644482Z",
     "iopub.status.busy": "2021-05-13T10:56:59.642675Z",
     "iopub.status.idle": "2021-05-13T10:56:59.646370Z",
     "shell.execute_reply": "2021-05-13T10:56:59.647688Z"
    },
    "papermill": {
     "duration": 0.049682,
     "end_time": "2021-05-13T10:56:59.648167",
     "exception": false,
     "start_time": "2021-05-13T10:56:59.598485",
     "status": "completed"
    },
    "tags": []
   },
   "outputs": [],
   "source": [
    "# 옵티마이저\n",
    "optimizer = torch.optim.Adamax(model.parameters(), lr=0.0002)"
   ]
  },
  {
   "cell_type": "code",
   "execution_count": 14,
   "id": "catholic-recall",
   "metadata": {
    "_uuid": "2c37417ae6b62ab4551bc8a888916ca1e591d284",
    "execution": {
     "iopub.execute_input": "2021-05-13T10:56:59.749933Z",
     "iopub.status.busy": "2021-05-13T10:56:59.748882Z",
     "iopub.status.idle": "2021-05-13T11:12:00.094805Z",
     "shell.execute_reply": "2021-05-13T11:12:00.094238Z"
    },
    "papermill": {
     "duration": 900.398679,
     "end_time": "2021-05-13T11:12:00.094987",
     "exception": false,
     "start_time": "2021-05-13T10:56:59.696308",
     "status": "completed"
    },
    "tags": []
   },
   "outputs": [
    {
     "name": "stdout",
     "output_type": "stream",
     "text": [
      "에폭: [1/35], 손실값: 0.1571\n",
      "에폭: [2/35], 손실값: 0.0014\n",
      "에폭: [3/35], 손실값: 0.0248\n",
      "에폭: [4/35], 손실값: 0.1070\n",
      "에폭: [5/35], 손실값: 0.0004\n",
      "에폭: [6/35], 손실값: 0.0008\n",
      "에폭: [7/35], 손실값: 0.0001\n",
      "에폭: [8/35], 손실값: 0.0002\n",
      "에폭: [9/35], 손실값: 0.0007\n",
      "에폭: [10/35], 손실값: 0.0060\n",
      "에폭: [11/35], 손실값: 0.1186\n",
      "에폭: [12/35], 손실값: 0.0082\n",
      "에폭: [13/35], 손실값: 0.0006\n",
      "에폭: [14/35], 손실값: 0.0001\n",
      "에폭: [15/35], 손실값: 0.0328\n",
      "에폭: [16/35], 손실값: 0.0001\n",
      "에폭: [17/35], 손실값: 0.0440\n",
      "에폭: [18/35], 손실값: 0.0000\n",
      "에폭: [19/35], 손실값: 0.0824\n",
      "에폭: [20/35], 손실값: 0.0707\n",
      "에폭: [21/35], 손실값: 0.0178\n",
      "에폭: [22/35], 손실값: 0.0001\n",
      "에폭: [23/35], 손실값: 0.0000\n",
      "에폭: [24/35], 손실값: 0.2162\n",
      "에폭: [25/35], 손실값: 0.0006\n",
      "에폭: [26/35], 손실값: 0.0023\n",
      "에폭: [27/35], 손실값: 0.0017\n",
      "에폭: [28/35], 손실값: 0.0000\n",
      "에폭: [29/35], 손실값: 0.0000\n",
      "에폭: [30/35], 손실값: 0.0000\n",
      "에폭: [31/35], 손실값: 0.0000\n",
      "에폭: [32/35], 손실값: 0.4657\n",
      "에폭: [33/35], 손실값: 0.0000\n",
      "에폭: [34/35], 손실값: 0.0223\n",
      "에폭: [35/35], 손실값: 0.0000\n"
     ]
    }
   ],
   "source": [
    "epochs = 35 # 총 에폭\n",
    "\n",
    "# 총 35에폭만큼 훈련\n",
    "for epoch in range(epochs):\n",
    "    # 미니배치 크기만큼 데이터를 추출하는 작업을 '반복 횟수'만큼 반복 \n",
    "    for i, (images, labels) in enumerate(loader_train):\n",
    "        # 이미지, 레이블 데이터 미니배치를 장비에 할당 \n",
    "        images = images.to(device)\n",
    "        labels = labels.to(device)\n",
    "        \n",
    "        # 옵티마이저 내 기울기 초기화\n",
    "        optimizer.zero_grad()\n",
    "        # 이미지 데이터를 신경망 모델의 입력값으로 사용해 출력값 계산\n",
    "        outputs = model(images)\n",
    "        # 기존에 정의한 손실함수를 활용해 outputs와 labels의 손실값 계산\n",
    "        loss = criterion(outputs, labels)\n",
    "        # 오차 역전파 수행\n",
    "        loss.backward()\n",
    "        # 가중치 갱신\n",
    "        optimizer.step()\n",
    "        \n",
    "    print (f'에폭: [{epoch+1}/{epochs}], 손실값: {loss.item():.4f}')"
   ]
  },
  {
   "cell_type": "code",
   "execution_count": 15,
   "id": "unlike-survey",
   "metadata": {
    "execution": {
     "iopub.execute_input": "2021-05-13T11:12:00.165110Z",
     "iopub.status.busy": "2021-05-13T11:12:00.163956Z",
     "iopub.status.idle": "2021-05-13T11:12:03.108668Z",
     "shell.execute_reply": "2021-05-13T11:12:03.108112Z"
    },
    "papermill": {
     "duration": 2.983386,
     "end_time": "2021-05-13T11:12:03.108874",
     "exception": false,
     "start_time": "2021-05-13T11:12:00.125488",
     "status": "completed"
    },
    "tags": []
   },
   "outputs": [
    {
     "name": "stdout",
     "output_type": "stream",
     "text": [
      "검증 데이터 ROC AUC : 0.9999999999999997\n"
     ]
    }
   ],
   "source": [
    "from sklearn.metrics import roc_auc_score # ROC AUC 점수 계산 함수\n",
    "\n",
    "roc_auc = 0 # ROC AUC 초기화\n",
    "\n",
    "model.eval() # 모델을 평가 상태로 설정 \n",
    "\n",
    "with torch.no_grad(): # 기울기 계산 비활성\n",
    "    for images, labels in loader_valid:\n",
    "        # 이미지, 레이블 데이터 미니배치를 장비에 할당 \n",
    "        images = images.to(device)\n",
    "        labels = labels.to(device)\n",
    "        # 이미지 데이터를 신경망 모델의 입력값으로 사용해 출력값 계산\n",
    "        outputs = model(images)\n",
    "        preds = torch.softmax(outputs.cpu(), dim=1)[:, 1] # 예측 확률값\n",
    "        true = labels.cpu() # 실제값\n",
    "        # 검증 데이터 ROC AUC 점수 계산 \n",
    "        roc_auc += roc_auc_score(true, preds) / len(loader_valid)\n",
    "\n",
    "    print(f'검증 데이터 ROC AUC : {roc_auc}')"
   ]
  },
  {
   "cell_type": "code",
   "execution_count": 16,
   "id": "assigned-signal",
   "metadata": {
    "_uuid": "870413a60281e0c4115fbc7cf192508e15a9e269",
    "execution": {
     "iopub.execute_input": "2021-05-13T11:12:03.181815Z",
     "iopub.status.busy": "2021-05-13T11:12:03.180186Z",
     "iopub.status.idle": "2021-05-13T11:12:03.182559Z",
     "shell.execute_reply": "2021-05-13T11:12:03.183138Z"
    },
    "papermill": {
     "duration": 0.041604,
     "end_time": "2021-05-13T11:12:03.183306",
     "exception": false,
     "start_time": "2021-05-13T11:12:03.141702",
     "status": "completed"
    },
    "tags": []
   },
   "outputs": [],
   "source": [
    "dataset_test = ImageDataset(df=submission, img_dir='test/', transform=transform)\n",
    "loader_test = DataLoader(dataset=dataset_test, batch_size=64, \n",
    "                         shuffle=False)"
   ]
  },
  {
   "cell_type": "code",
   "execution_count": 17,
   "id": "changing-repair",
   "metadata": {
    "execution": {
     "iopub.execute_input": "2021-05-13T11:12:03.254656Z",
     "iopub.status.busy": "2021-05-13T11:12:03.253398Z",
     "iopub.status.idle": "2021-05-13T11:12:09.821794Z",
     "shell.execute_reply": "2021-05-13T11:12:09.822748Z"
    },
    "papermill": {
     "duration": 6.607831,
     "end_time": "2021-05-13T11:12:09.822958",
     "exception": false,
     "start_time": "2021-05-13T11:12:03.215127",
     "status": "completed"
    },
    "tags": []
   },
   "outputs": [],
   "source": [
    "model.eval() # 모델을 평가 상태로 설정\n",
    "\n",
    "preds = [] # 타깃 예측 값 저장용 변수 초기화\n",
    "\n",
    "with torch.no_grad(): # 기울기 계산 비활성\n",
    "    for images, _ in loader_test:\n",
    "        # 이미지 데이터 미니배치를 장비에 할당\n",
    "        images = images.to(device)\n",
    "        # 이미지 데이터를 신경망 모델의 입력값으로 사용해 출력값 계산\n",
    "        outputs = model(images)\n",
    "        # 타깃 값이 1일 확률(예측 값)\n",
    "        preds_temp = torch.softmax(outputs.cpu(), dim=1)[:, 1].tolist()\n",
    "        # preds에 preds_temp 이어붙이기\n",
    "        preds.extend(preds_temp)"
   ]
  },
  {
   "cell_type": "code",
   "execution_count": 18,
   "id": "brazilian-ivory",
   "metadata": {
    "execution": {
     "iopub.execute_input": "2021-05-13T11:12:09.892725Z",
     "iopub.status.busy": "2021-05-13T11:12:09.891797Z",
     "iopub.status.idle": "2021-05-13T11:12:10.091666Z",
     "shell.execute_reply": "2021-05-13T11:12:10.091067Z"
    },
    "papermill": {
     "duration": 0.237096,
     "end_time": "2021-05-13T11:12:10.091818",
     "exception": false,
     "start_time": "2021-05-13T11:12:09.854722",
     "status": "completed"
    },
    "tags": []
   },
   "outputs": [],
   "source": [
    "submission['has_cactus'] = preds\n",
    "submission.to_csv('submission.csv', index=False)"
   ]
  },
  {
   "cell_type": "code",
   "execution_count": 19,
   "id": "spoken-cooper",
   "metadata": {
    "execution": {
     "iopub.execute_input": "2021-05-13T11:12:10.168673Z",
     "iopub.status.busy": "2021-05-13T11:12:10.167955Z",
     "iopub.status.idle": "2021-05-13T11:12:10.180753Z",
     "shell.execute_reply": "2021-05-13T11:12:10.180086Z"
    },
    "papermill": {
     "duration": 0.057249,
     "end_time": "2021-05-13T11:12:10.180921",
     "exception": false,
     "start_time": "2021-05-13T11:12:10.123672",
     "status": "completed"
    },
    "tags": []
   },
   "outputs": [
    {
     "data": {
      "text/html": [
       "<div>\n",
       "<style scoped>\n",
       "    .dataframe tbody tr th:only-of-type {\n",
       "        vertical-align: middle;\n",
       "    }\n",
       "\n",
       "    .dataframe tbody tr th {\n",
       "        vertical-align: top;\n",
       "    }\n",
       "\n",
       "    .dataframe thead th {\n",
       "        text-align: right;\n",
       "    }\n",
       "</style>\n",
       "<table border=\"1\" class=\"dataframe\">\n",
       "  <thead>\n",
       "    <tr style=\"text-align: right;\">\n",
       "      <th></th>\n",
       "      <th>id</th>\n",
       "      <th>has_cactus</th>\n",
       "    </tr>\n",
       "  </thead>\n",
       "  <tbody>\n",
       "    <tr>\n",
       "      <th>0</th>\n",
       "      <td>000940378805c44108d287872b2f04ce.jpg</td>\n",
       "      <td>0.999992</td>\n",
       "    </tr>\n",
       "    <tr>\n",
       "      <th>1</th>\n",
       "      <td>0017242f54ececa4512b4d7937d1e21e.jpg</td>\n",
       "      <td>1.000000</td>\n",
       "    </tr>\n",
       "    <tr>\n",
       "      <th>2</th>\n",
       "      <td>001ee6d8564003107853118ab87df407.jpg</td>\n",
       "      <td>0.000003</td>\n",
       "    </tr>\n",
       "    <tr>\n",
       "      <th>3</th>\n",
       "      <td>002e175c3c1e060769475f52182583d0.jpg</td>\n",
       "      <td>0.000003</td>\n",
       "    </tr>\n",
       "    <tr>\n",
       "      <th>4</th>\n",
       "      <td>0036e44a7e8f7218e9bc7bf8137e4943.jpg</td>\n",
       "      <td>0.037364</td>\n",
       "    </tr>\n",
       "    <tr>\n",
       "      <th>...</th>\n",
       "      <td>...</td>\n",
       "      <td>...</td>\n",
       "    </tr>\n",
       "    <tr>\n",
       "      <th>3995</th>\n",
       "      <td>ffaafd0c9f2f0e73172848463bc2e523.jpg</td>\n",
       "      <td>0.999968</td>\n",
       "    </tr>\n",
       "    <tr>\n",
       "      <th>3996</th>\n",
       "      <td>ffae37344310a1549162493237d25d3f.jpg</td>\n",
       "      <td>1.000000</td>\n",
       "    </tr>\n",
       "    <tr>\n",
       "      <th>3997</th>\n",
       "      <td>ffbd469c56873d064326204aac546e0d.jpg</td>\n",
       "      <td>1.000000</td>\n",
       "    </tr>\n",
       "    <tr>\n",
       "      <th>3998</th>\n",
       "      <td>ffcb76b7d47f29ece11c751e5f763f52.jpg</td>\n",
       "      <td>1.000000</td>\n",
       "    </tr>\n",
       "    <tr>\n",
       "      <th>3999</th>\n",
       "      <td>fffed17d1a8e0433a934db518d7f532c.jpg</td>\n",
       "      <td>0.999999</td>\n",
       "    </tr>\n",
       "  </tbody>\n",
       "</table>\n",
       "<p>4000 rows × 2 columns</p>\n",
       "</div>"
      ],
      "text/plain": [
       "                                        id  has_cactus\n",
       "0     000940378805c44108d287872b2f04ce.jpg    0.999992\n",
       "1     0017242f54ececa4512b4d7937d1e21e.jpg    1.000000\n",
       "2     001ee6d8564003107853118ab87df407.jpg    0.000003\n",
       "3     002e175c3c1e060769475f52182583d0.jpg    0.000003\n",
       "4     0036e44a7e8f7218e9bc7bf8137e4943.jpg    0.037364\n",
       "...                                    ...         ...\n",
       "3995  ffaafd0c9f2f0e73172848463bc2e523.jpg    0.999968\n",
       "3996  ffae37344310a1549162493237d25d3f.jpg    1.000000\n",
       "3997  ffbd469c56873d064326204aac546e0d.jpg    1.000000\n",
       "3998  ffcb76b7d47f29ece11c751e5f763f52.jpg    1.000000\n",
       "3999  fffed17d1a8e0433a934db518d7f532c.jpg    0.999999\n",
       "\n",
       "[4000 rows x 2 columns]"
      ]
     },
     "execution_count": 19,
     "metadata": {},
     "output_type": "execute_result"
    }
   ],
   "source": [
    "submission"
   ]
  },
  {
   "cell_type": "code",
   "execution_count": 20,
   "id": "consecutive-joshua",
   "metadata": {
    "execution": {
     "iopub.execute_input": "2021-05-13T11:12:10.252045Z",
     "iopub.status.busy": "2021-05-13T11:12:10.250960Z",
     "iopub.status.idle": "2021-05-13T11:12:10.972212Z",
     "shell.execute_reply": "2021-05-13T11:12:10.971454Z"
    },
    "papermill": {
     "duration": 0.75846,
     "end_time": "2021-05-13T11:12:10.972494",
     "exception": false,
     "start_time": "2021-05-13T11:12:10.214034",
     "status": "completed"
    },
    "tags": []
   },
   "outputs": [],
   "source": [
    "import shutil\n",
    "\n",
    "shutil.rmtree('./train')\n",
    "shutil.rmtree('./test')"
   ]
  }
 ],
 "metadata": {
  "kernelspec": {
   "display_name": "Python 3",
   "language": "python",
   "name": "python3"
  },
  "language_info": {
   "codemirror_mode": {
    "name": "ipython",
    "version": 3
   },
   "file_extension": ".py",
   "mimetype": "text/x-python",
   "name": "python",
   "nbconvert_exporter": "python",
   "pygments_lexer": "ipython3",
   "version": "3.7.9"
  },
  "papermill": {
   "default_parameters": {},
   "duration": 933.456883,
   "end_time": "2021-05-13T11:12:12.018247",
   "environment_variables": {},
   "exception": null,
   "input_path": "__notebook__.ipynb",
   "output_path": "__notebook__.ipynb",
   "parameters": {},
   "start_time": "2021-05-13T10:56:38.561364",
   "version": "2.3.2"
  }
 },
 "nbformat": 4,
 "nbformat_minor": 5
}
