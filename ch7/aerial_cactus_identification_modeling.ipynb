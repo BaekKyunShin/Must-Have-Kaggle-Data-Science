{
 "cells": [
  {
   "cell_type": "markdown",
   "id": "flush-science",
   "metadata": {
    "papermill": {
     "duration": 0.018578,
     "end_time": "2021-06-30T00:52:50.273068",
     "exception": false,
     "start_time": "2021-06-30T00:52:50.254490",
     "status": "completed"
    },
    "tags": []
   },
   "source": [
    "# 7.4 항공 사진 내 선인장 식별 경진대회 모델 성능 개선\n",
    "- [항공 사진 내 선인장 식별 경진대회 링크](https://www.kaggle.com/c/aerial-cactus-identification)\n",
    "- [모델링 코드 참고 링크](https://www.kaggle.com/bonhart/simple-cnn-on-pytorch-for-beginers)\n"
   ]
  },
  {
   "cell_type": "code",
   "execution_count": 1,
   "id": "august-illinois",
   "metadata": {
    "execution": {
     "iopub.execute_input": "2021-06-30T00:52:50.315762Z",
     "iopub.status.busy": "2021-06-30T00:52:50.315202Z",
     "iopub.status.idle": "2021-06-30T00:52:50.363742Z",
     "shell.execute_reply": "2021-06-30T00:52:50.362624Z",
     "shell.execute_reply.started": "2021-06-30T00:19:22.968289Z"
    },
    "papermill": {
     "duration": 0.073449,
     "end_time": "2021-06-30T00:52:50.363892",
     "exception": false,
     "start_time": "2021-06-30T00:52:50.290443",
     "status": "completed"
    },
    "tags": []
   },
   "outputs": [],
   "source": [
    "import pandas as pd\n",
    "\n",
    "# 데이터 경로\n",
    "data_path = '/kaggle/input/aerial-cactus-identification/'\n",
    "\n",
    "labels = pd.read_csv(data_path + 'train.csv')\n",
    "submission = pd.read_csv(data_path + 'sample_submission.csv')"
   ]
  },
  {
   "cell_type": "code",
   "execution_count": 2,
   "id": "rotary-torture",
   "metadata": {
    "execution": {
     "iopub.execute_input": "2021-06-30T00:52:50.402158Z",
     "iopub.status.busy": "2021-06-30T00:52:50.401299Z",
     "iopub.status.idle": "2021-06-30T00:52:53.135543Z",
     "shell.execute_reply": "2021-06-30T00:52:53.134541Z",
     "shell.execute_reply.started": "2021-06-30T00:19:23.019039Z"
    },
    "papermill": {
     "duration": 2.754805,
     "end_time": "2021-06-30T00:52:53.135684",
     "exception": false,
     "start_time": "2021-06-30T00:52:50.380879",
     "status": "completed"
    },
    "tags": []
   },
   "outputs": [],
   "source": [
    "from zipfile import ZipFile\n",
    "\n",
    "# 훈련 이미지 데이터 압축 풀기\n",
    "with ZipFile(data_path + 'train.zip') as zipper:\n",
    "    zipper.extractall()\n",
    "    \n",
    "# 테스트 이미지 데이터 압 풀기\n",
    "with ZipFile(data_path + 'test.zip') as zipper:\n",
    "    zipper.extractall()"
   ]
  },
  {
   "cell_type": "code",
   "execution_count": 3,
   "id": "premium-gathering",
   "metadata": {
    "execution": {
     "iopub.execute_input": "2021-06-30T00:52:53.171440Z",
     "iopub.status.busy": "2021-06-30T00:52:53.170696Z",
     "iopub.status.idle": "2021-06-30T00:52:54.576295Z",
     "shell.execute_reply": "2021-06-30T00:52:54.575305Z",
     "shell.execute_reply.started": "2021-06-30T00:19:25.675330Z"
    },
    "papermill": {
     "duration": 1.425763,
     "end_time": "2021-06-30T00:52:54.576441",
     "exception": false,
     "start_time": "2021-06-30T00:52:53.150678",
     "status": "completed"
    },
    "tags": []
   },
   "outputs": [],
   "source": [
    "import torch # 파이토치 \n",
    "import random\n",
    "import numpy as np\n",
    "import os\n",
    "\n",
    "# 시드 값 고정\n",
    "seed = 10\n",
    "\n",
    "os.environ['PYTHONHASHSEED'] = str(seed)\n",
    "random.seed(seed)\n",
    "np.random.seed(seed)\n",
    "torch.manual_seed(seed)\n",
    "torch.cuda.manual_seed(seed)\n",
    "torch.cuda.manual_seed_all(seed)\n",
    "torch.backends.cudnn.deterministic = True\n",
    "torch.backends.cudnn.benchmark = False\n",
    "torch.backends.cudnn.enabled = False"
   ]
  },
  {
   "cell_type": "code",
   "execution_count": 4,
   "id": "hungry-husband",
   "metadata": {
    "execution": {
     "iopub.execute_input": "2021-06-30T00:52:54.646480Z",
     "iopub.status.busy": "2021-06-30T00:52:54.645731Z",
     "iopub.status.idle": "2021-06-30T00:52:54.649510Z",
     "shell.execute_reply": "2021-06-30T00:52:54.649078Z",
     "shell.execute_reply.started": "2021-06-30T00:19:27.275782Z"
    },
    "papermill": {
     "duration": 0.058089,
     "end_time": "2021-06-30T00:52:54.649621",
     "exception": false,
     "start_time": "2021-06-30T00:52:54.591532",
     "status": "completed"
    },
    "tags": []
   },
   "outputs": [],
   "source": [
    "device = torch.device('cuda' if torch.cuda.is_available() else 'cpu')"
   ]
  },
  {
   "cell_type": "code",
   "execution_count": 5,
   "id": "expanded-street",
   "metadata": {
    "_uuid": "c07eab67e573c7de05e11065b5bafc1bbff284fb",
    "execution": {
     "iopub.execute_input": "2021-06-30T00:52:54.684752Z",
     "iopub.status.busy": "2021-06-30T00:52:54.684202Z",
     "iopub.status.idle": "2021-06-30T00:52:55.504090Z",
     "shell.execute_reply": "2021-06-30T00:52:55.503193Z",
     "shell.execute_reply.started": "2021-06-30T00:19:27.345751Z"
    },
    "papermill": {
     "duration": 0.839627,
     "end_time": "2021-06-30T00:52:55.504226",
     "exception": false,
     "start_time": "2021-06-30T00:52:54.664599",
     "status": "completed"
    },
    "tags": []
   },
   "outputs": [],
   "source": [
    "from sklearn.model_selection import train_test_split\n",
    "\n",
    "# 훈련 데이터, 검증 데이터 분리\n",
    "train, valid = train_test_split(labels, \n",
    "                                test_size=0.1,\n",
    "                                stratify=labels['has_cactus'],\n",
    "                                random_state=10)"
   ]
  },
  {
   "cell_type": "code",
   "execution_count": 6,
   "id": "inside-lunch",
   "metadata": {
    "_uuid": "1b05af8d59d9d5b092e96f72dfebb19591416de9",
    "execution": {
     "iopub.execute_input": "2021-06-30T00:52:55.555802Z",
     "iopub.status.busy": "2021-06-30T00:52:55.554534Z",
     "iopub.status.idle": "2021-06-30T00:52:55.831248Z",
     "shell.execute_reply": "2021-06-30T00:52:55.829987Z",
     "shell.execute_reply.started": "2021-06-30T00:19:28.186046Z"
    },
    "papermill": {
     "duration": 0.311292,
     "end_time": "2021-06-30T00:52:55.831447",
     "exception": false,
     "start_time": "2021-06-30T00:52:55.520155",
     "status": "completed"
    },
    "tags": []
   },
   "outputs": [],
   "source": [
    "import cv2\n",
    "from torch.utils.data import Dataset # 데이터 생성을 위한 클래스\n",
    "\n",
    "class ImageDataset(Dataset):\n",
    "    # 초기화 메서드(생성자)\n",
    "    def __init__(self, df, img_dir = './', transform=None):\n",
    "        super().__init__() # 상속받은 Dataset의 __init__() 메서드 호출 \n",
    "        self.df = df\n",
    "        self.img_dir = img_dir\n",
    "        self.transform = transform\n",
    "    \n",
    "    # 데이터 세트 크기 반환 메서드 \n",
    "    def __len__(self):\n",
    "        return len(self.df)\n",
    "    \n",
    "    # 인덱스(idx)에 해당하는 데이터 반환 메서드 \n",
    "    def __getitem__(self, idx):\n",
    "        img_path = self.img_dir + self.df.iloc[idx, 0] # 이미지 파일 경로 \n",
    "        image = cv2.imread(img_path) # 이미지 파일 읽기 \n",
    "        image = cv2.cvtColor(image, cv2.COLOR_BGR2RGB) # 이미지 색상 보정\n",
    "        label = self.df.iloc[idx, 1] # 이미지 레이블(타깃 값)\n",
    "        # 이미지 변환\n",
    "        if self.transform is not None:\n",
    "            image = self.transform(image)\n",
    "        return image, label"
   ]
  },
  {
   "cell_type": "code",
   "execution_count": 7,
   "id": "tough-contrary",
   "metadata": {
    "execution": {
     "iopub.execute_input": "2021-06-30T00:52:55.892501Z",
     "iopub.status.busy": "2021-06-30T00:52:55.891680Z",
     "iopub.status.idle": "2021-06-30T00:52:56.081029Z",
     "shell.execute_reply": "2021-06-30T00:52:56.079885Z",
     "shell.execute_reply.started": "2021-06-30T00:19:28.434843Z"
    },
    "papermill": {
     "duration": 0.223272,
     "end_time": "2021-06-30T00:52:56.081193",
     "exception": false,
     "start_time": "2021-06-30T00:52:55.857921",
     "status": "completed"
    },
    "tags": []
   },
   "outputs": [],
   "source": [
    "from torchvision import transforms # 이미지 변환을 위한 모듈\n",
    "\n",
    "# 훈련 데이터용 변환기\n",
    "transform_train = transforms.Compose([transforms.ToPILImage(),\n",
    "                                      transforms.Pad(32, padding_mode='symmetric'),\n",
    "                                      transforms.RandomHorizontalFlip(),\n",
    "                                      transforms.RandomVerticalFlip(),\n",
    "                                      transforms.RandomRotation(10),\n",
    "                                      transforms.ToTensor(),\n",
    "                                      transforms.Normalize(mean=[0.5, 0.5, 0.5],\n",
    "                                                           std=[0.2, 0.2, 0.2])])\n",
    "# 검증 및 테스트 데이터용 변환기\n",
    "transform_test= transforms.Compose([transforms.ToPILImage(),\n",
    "                                    transforms.Pad(32, padding_mode='symmetric'),\n",
    "                                    transforms.ToTensor(),\n",
    "                                    transforms.Normalize(mean=[0.5, 0.5, 0.5],\n",
    "                                                         std=[0.2, 0.2, 0.2])])"
   ]
  },
  {
   "cell_type": "code",
   "execution_count": 8,
   "id": "exempt-sharing",
   "metadata": {
    "execution": {
     "iopub.execute_input": "2021-06-30T00:52:56.117015Z",
     "iopub.status.busy": "2021-06-30T00:52:56.115377Z",
     "iopub.status.idle": "2021-06-30T00:52:56.117667Z",
     "shell.execute_reply": "2021-06-30T00:52:56.118076Z",
     "shell.execute_reply.started": "2021-06-30T00:19:28.575462Z"
    },
    "papermill": {
     "duration": 0.021722,
     "end_time": "2021-06-30T00:52:56.118197",
     "exception": false,
     "start_time": "2021-06-30T00:52:56.096475",
     "status": "completed"
    },
    "tags": []
   },
   "outputs": [],
   "source": [
    "dataset_train = ImageDataset(df=train, img_dir='train/', transform=transform_train)\n",
    "dataset_valid = ImageDataset(df=valid, img_dir='train/', transform=transform_test)"
   ]
  },
  {
   "cell_type": "code",
   "execution_count": 9,
   "id": "structured-convenience",
   "metadata": {
    "execution": {
     "iopub.execute_input": "2021-06-30T00:52:56.154756Z",
     "iopub.status.busy": "2021-06-30T00:52:56.153938Z",
     "iopub.status.idle": "2021-06-30T00:52:56.158325Z",
     "shell.execute_reply": "2021-06-30T00:52:56.157911Z",
     "shell.execute_reply.started": "2021-06-30T00:19:28.586859Z"
    },
    "papermill": {
     "duration": 0.025397,
     "end_time": "2021-06-30T00:52:56.158427",
     "exception": false,
     "start_time": "2021-06-30T00:52:56.133030",
     "status": "completed"
    },
    "tags": []
   },
   "outputs": [
    {
     "data": {
      "text/plain": [
       "<torch._C.Generator at 0x7f7e55712930>"
      ]
     },
     "execution_count": 9,
     "metadata": {},
     "output_type": "execute_result"
    }
   ],
   "source": [
    "def seed_worker(worker_id):\n",
    "    worker_seed = torch.initial_seed() % 2**32\n",
    "    np.random.seed(worker_seed)\n",
    "    random.seed(worker_seed)\n",
    "    \n",
    "g = torch.Generator()\n",
    "g.manual_seed(0)"
   ]
  },
  {
   "cell_type": "code",
   "execution_count": 10,
   "id": "broken-craps",
   "metadata": {
    "_uuid": "c247391c28497ad35c72f5218398ea71f2d0d5ff",
    "execution": {
     "iopub.execute_input": "2021-06-30T00:52:56.194505Z",
     "iopub.status.busy": "2021-06-30T00:52:56.193376Z",
     "iopub.status.idle": "2021-06-30T00:52:56.196292Z",
     "shell.execute_reply": "2021-06-30T00:52:56.195849Z",
     "shell.execute_reply.started": "2021-06-30T00:19:28.599907Z"
    },
    "papermill": {
     "duration": 0.022679,
     "end_time": "2021-06-30T00:52:56.196391",
     "exception": false,
     "start_time": "2021-06-30T00:52:56.173712",
     "status": "completed"
    },
    "tags": []
   },
   "outputs": [],
   "source": [
    "from torch.utils.data import DataLoader # 데이터 로더 생성을 위한 클래스\n",
    "\n",
    "loader_train = DataLoader(dataset=dataset_train, batch_size=32, \n",
    "                          shuffle=True, worker_init_fn=seed_worker,\n",
    "                          generator=g)\n",
    "loader_valid = DataLoader(dataset=dataset_valid, batch_size=32, \n",
    "                          shuffle=False, worker_init_fn=seed_worker,\n",
    "                          generator=g)"
   ]
  },
  {
   "cell_type": "code",
   "execution_count": 11,
   "id": "consistent-effectiveness",
   "metadata": {
    "_uuid": "0a2d5600bc2eb915ec0bdf5b52ba11e25096f7d0",
    "execution": {
     "iopub.execute_input": "2021-06-30T00:52:56.238939Z",
     "iopub.status.busy": "2021-06-30T00:52:56.238432Z",
     "iopub.status.idle": "2021-06-30T00:52:56.242511Z",
     "shell.execute_reply": "2021-06-30T00:52:56.242082Z",
     "shell.execute_reply.started": "2021-06-30T00:19:28.609335Z"
    },
    "papermill": {
     "duration": 0.031243,
     "end_time": "2021-06-30T00:52:56.242612",
     "exception": false,
     "start_time": "2021-06-30T00:52:56.211369",
     "status": "completed"
    },
    "tags": []
   },
   "outputs": [],
   "source": [
    "import torch.nn as nn # 신경망 모듈\n",
    "import torch.nn.functional as F # 신경망 모듈에서 자주 사용되는 함수\n",
    "\n",
    "class Model(nn.Module):\n",
    "    # 신경망 계층 정의\n",
    "    def __init__(self):\n",
    "        super().__init__() # 상속받은 nn.Module의 __init__() 메서드 호출\n",
    "        # 첫 번째 ~ 다섯 번째 합성곱, 배치 정규화, 최대 풀링 계층 \n",
    "        self.layer1 = nn.Sequential(nn.Conv2d(in_channels=3, out_channels=32,\n",
    "                                              kernel_size=3, padding=2),\n",
    "                                    nn.BatchNorm2d(32), # 배치 정규화 ---①\n",
    "                                    nn.LeakyReLU(), # LeakyReLU 활성화 함수 ---②\n",
    "                                    nn.MaxPool2d(kernel_size=2))\n",
    "\n",
    "        self.layer2 = nn.Sequential(nn.Conv2d(in_channels=32, out_channels=64,\n",
    "                                              kernel_size=3, padding=2),\n",
    "                                    nn.BatchNorm2d(64),\n",
    "                                    nn.LeakyReLU(),\n",
    "                                    nn.MaxPool2d(kernel_size=2))\n",
    "        \n",
    "        self.layer3 = nn.Sequential(nn.Conv2d(in_channels=64, out_channels=128,\n",
    "                                              kernel_size=3, padding=2),\n",
    "                                    nn.BatchNorm2d(128),\n",
    "                                    nn.LeakyReLU(),\n",
    "                                    nn.MaxPool2d(kernel_size=2))\n",
    "        \n",
    "        self.layer4 = nn.Sequential(nn.Conv2d(in_channels=128, out_channels=256,\n",
    "                                              kernel_size=3, padding=2),\n",
    "                                    nn.BatchNorm2d(256),\n",
    "                                    nn.LeakyReLU(),\n",
    "                                    nn.MaxPool2d(kernel_size=2))\n",
    "        \n",
    "        self.layer5 = nn.Sequential(nn.Conv2d(in_channels=256, out_channels=512,\n",
    "                                              kernel_size=3, padding=2),\n",
    "                                    nn.BatchNorm2d(512),\n",
    "                                    nn.LeakyReLU(),\n",
    "                                    nn.MaxPool2d(kernel_size=2))\n",
    "        # 평균 풀링 계층 \n",
    "        self.avg_pool = nn.AvgPool2d(kernel_size=4) \n",
    "        # 전결합 계층 ---③\n",
    "        self.fc1 = nn.Linear(in_features=512 * 1 * 1, out_features=64)\n",
    "        self.fc2 = nn.Linear(in_features=64, out_features=2)\n",
    "\n",
    "    # 순전파 출력 정의 \n",
    "    def forward(self, x):\n",
    "        x = self.layer1(x)\n",
    "        x = self.layer2(x)\n",
    "        x = self.layer3(x)\n",
    "        x = self.layer4(x)\n",
    "        x = self.layer5(x)\n",
    "        x = self.avg_pool(x)\n",
    "        x = x.view(-1, 512 * 1 * 1) # 평탄화\n",
    "        x = self.fc1(x)\n",
    "        x = self.fc2(x)\n",
    "        return x"
   ]
  },
  {
   "cell_type": "code",
   "execution_count": 12,
   "id": "organized-trailer",
   "metadata": {
    "_cell_guid": "79c7e3d0-c299-4dcb-8224-4455121ee9b0",
    "_uuid": "d629ff2d2480ee46fbb7e2d37f6b5fab8052498a",
    "execution": {
     "iopub.execute_input": "2021-06-30T00:52:56.275785Z",
     "iopub.status.busy": "2021-06-30T00:52:56.275309Z",
     "iopub.status.idle": "2021-06-30T00:53:00.050533Z",
     "shell.execute_reply": "2021-06-30T00:53:00.051091Z",
     "shell.execute_reply.started": "2021-06-30T00:19:28.625955Z"
    },
    "papermill": {
     "duration": 3.793804,
     "end_time": "2021-06-30T00:53:00.051263",
     "exception": false,
     "start_time": "2021-06-30T00:52:56.257459",
     "status": "completed"
    },
    "tags": []
   },
   "outputs": [
    {
     "data": {
      "text/plain": [
       "Model(\n",
       "  (layer1): Sequential(\n",
       "    (0): Conv2d(3, 32, kernel_size=(3, 3), stride=(1, 1), padding=(2, 2))\n",
       "    (1): BatchNorm2d(32, eps=1e-05, momentum=0.1, affine=True, track_running_stats=True)\n",
       "    (2): LeakyReLU(negative_slope=0.01)\n",
       "    (3): MaxPool2d(kernel_size=2, stride=2, padding=0, dilation=1, ceil_mode=False)\n",
       "  )\n",
       "  (layer2): Sequential(\n",
       "    (0): Conv2d(32, 64, kernel_size=(3, 3), stride=(1, 1), padding=(2, 2))\n",
       "    (1): BatchNorm2d(64, eps=1e-05, momentum=0.1, affine=True, track_running_stats=True)\n",
       "    (2): LeakyReLU(negative_slope=0.01)\n",
       "    (3): MaxPool2d(kernel_size=2, stride=2, padding=0, dilation=1, ceil_mode=False)\n",
       "  )\n",
       "  (layer3): Sequential(\n",
       "    (0): Conv2d(64, 128, kernel_size=(3, 3), stride=(1, 1), padding=(2, 2))\n",
       "    (1): BatchNorm2d(128, eps=1e-05, momentum=0.1, affine=True, track_running_stats=True)\n",
       "    (2): LeakyReLU(negative_slope=0.01)\n",
       "    (3): MaxPool2d(kernel_size=2, stride=2, padding=0, dilation=1, ceil_mode=False)\n",
       "  )\n",
       "  (layer4): Sequential(\n",
       "    (0): Conv2d(128, 256, kernel_size=(3, 3), stride=(1, 1), padding=(2, 2))\n",
       "    (1): BatchNorm2d(256, eps=1e-05, momentum=0.1, affine=True, track_running_stats=True)\n",
       "    (2): LeakyReLU(negative_slope=0.01)\n",
       "    (3): MaxPool2d(kernel_size=2, stride=2, padding=0, dilation=1, ceil_mode=False)\n",
       "  )\n",
       "  (layer5): Sequential(\n",
       "    (0): Conv2d(256, 512, kernel_size=(3, 3), stride=(1, 1), padding=(2, 2))\n",
       "    (1): BatchNorm2d(512, eps=1e-05, momentum=0.1, affine=True, track_running_stats=True)\n",
       "    (2): LeakyReLU(negative_slope=0.01)\n",
       "    (3): MaxPool2d(kernel_size=2, stride=2, padding=0, dilation=1, ceil_mode=False)\n",
       "  )\n",
       "  (avg_pool): AvgPool2d(kernel_size=4, stride=4, padding=0)\n",
       "  (fc1): Linear(in_features=512, out_features=64, bias=True)\n",
       "  (fc2): Linear(in_features=64, out_features=2, bias=True)\n",
       ")"
      ]
     },
     "execution_count": 12,
     "metadata": {},
     "output_type": "execute_result"
    }
   ],
   "source": [
    "model = Model().to(device)\n",
    "\n",
    "model"
   ]
  },
  {
   "cell_type": "code",
   "execution_count": 13,
   "id": "mounted-census",
   "metadata": {
    "execution": {
     "iopub.execute_input": "2021-06-30T00:53:00.088024Z",
     "iopub.status.busy": "2021-06-30T00:53:00.087362Z",
     "iopub.status.idle": "2021-06-30T00:53:00.090045Z",
     "shell.execute_reply": "2021-06-30T00:53:00.090430Z",
     "shell.execute_reply.started": "2021-06-30T00:19:32.605927Z"
    },
    "papermill": {
     "duration": 0.022184,
     "end_time": "2021-06-30T00:53:00.090555",
     "exception": false,
     "start_time": "2021-06-30T00:53:00.068371",
     "status": "completed"
    },
    "tags": []
   },
   "outputs": [],
   "source": [
    "# 손실함수\n",
    "criterion = nn.CrossEntropyLoss()"
   ]
  },
  {
   "cell_type": "code",
   "execution_count": 14,
   "id": "uniform-medline",
   "metadata": {
    "_uuid": "fceb2929d8750acb2de745cd9ff3d2d458820df8",
    "execution": {
     "iopub.execute_input": "2021-06-30T00:53:00.126145Z",
     "iopub.status.busy": "2021-06-30T00:53:00.125467Z",
     "iopub.status.idle": "2021-06-30T00:53:00.128415Z",
     "shell.execute_reply": "2021-06-30T00:53:00.127940Z",
     "shell.execute_reply.started": "2021-06-30T00:19:32.612253Z"
    },
    "papermill": {
     "duration": 0.02237,
     "end_time": "2021-06-30T00:53:00.128516",
     "exception": false,
     "start_time": "2021-06-30T00:53:00.106146",
     "status": "completed"
    },
    "tags": []
   },
   "outputs": [],
   "source": [
    "# 옵티마이저\n",
    "optimizer = torch.optim.Adamax(model.parameters(), lr=0.0001)"
   ]
  },
  {
   "cell_type": "code",
   "execution_count": 15,
   "id": "beautiful-pencil",
   "metadata": {
    "_uuid": "2c37417ae6b62ab4551bc8a888916ca1e591d284",
    "execution": {
     "iopub.execute_input": "2021-06-30T00:53:00.167289Z",
     "iopub.status.busy": "2021-06-30T00:53:00.166682Z",
     "iopub.status.idle": "2021-06-30T01:25:22.745594Z",
     "shell.execute_reply": "2021-06-30T01:25:22.746304Z",
     "shell.execute_reply.started": "2021-06-30T00:19:32.621259Z"
    },
    "papermill": {
     "duration": 1942.602564,
     "end_time": "2021-06-30T01:25:22.746544",
     "exception": false,
     "start_time": "2021-06-30T00:53:00.143980",
     "status": "completed"
    },
    "tags": []
   },
   "outputs": [
    {
     "name": "stdout",
     "output_type": "stream",
     "text": [
      "에폭 [1/50] - 손실값: 0.1093\n",
      "에폭 [2/50] - 손실값: 0.0559\n",
      "에폭 [3/50] - 손실값: 0.0455\n",
      "에폭 [4/50] - 손실값: 0.0356\n",
      "에폭 [5/50] - 손실값: 0.0321\n",
      "에폭 [6/50] - 손실값: 0.0257\n",
      "에폭 [7/50] - 손실값: 0.0239\n",
      "에폭 [8/50] - 손실값: 0.0222\n",
      "에폭 [9/50] - 손실값: 0.0234\n",
      "에폭 [10/50] - 손실값: 0.0198\n",
      "에폭 [11/50] - 손실값: 0.0301\n",
      "에폭 [12/50] - 손실값: 0.0155\n",
      "에폭 [13/50] - 손실값: 0.0171\n",
      "에폭 [14/50] - 손실값: 0.0141\n",
      "에폭 [15/50] - 손실값: 0.0139\n",
      "에폭 [16/50] - 손실값: 0.0147\n",
      "에폭 [17/50] - 손실값: 0.0135\n",
      "에폭 [18/50] - 손실값: 0.0149\n",
      "에폭 [19/50] - 손실값: 0.0130\n",
      "에폭 [20/50] - 손실값: 0.0130\n",
      "에폭 [21/50] - 손실값: 0.0119\n",
      "에폭 [22/50] - 손실값: 0.0118\n",
      "에폭 [23/50] - 손실값: 0.0100\n",
      "에폭 [24/50] - 손실값: 0.0092\n",
      "에폭 [25/50] - 손실값: 0.0099\n",
      "에폭 [26/50] - 손실값: 0.0090\n",
      "에폭 [27/50] - 손실값: 0.0091\n",
      "에폭 [28/50] - 손실값: 0.0075\n",
      "에폭 [29/50] - 손실값: 0.0092\n",
      "에폭 [30/50] - 손실값: 0.0073\n",
      "에폭 [31/50] - 손실값: 0.0079\n",
      "에폭 [32/50] - 손실값: 0.0077\n",
      "에폭 [33/50] - 손실값: 0.0066\n",
      "에폭 [34/50] - 손실값: 0.0072\n",
      "에폭 [35/50] - 손실값: 0.0065\n",
      "에폭 [36/50] - 손실값: 0.0057\n",
      "에폭 [37/50] - 손실값: 0.0055\n",
      "에폭 [38/50] - 손실값: 0.0052\n",
      "에폭 [39/50] - 손실값: 0.0048\n",
      "에폭 [40/50] - 손실값: 0.0060\n",
      "에폭 [41/50] - 손실값: 0.0063\n",
      "에폭 [42/50] - 손실값: 0.0062\n",
      "에폭 [43/50] - 손실값: 0.0052\n",
      "에폭 [44/50] - 손실값: 0.0047\n",
      "에폭 [45/50] - 손실값: 0.0054\n",
      "에폭 [46/50] - 손실값: 0.0047\n",
      "에폭 [47/50] - 손실값: 0.0043\n",
      "에폭 [48/50] - 손실값: 0.0042\n",
      "에폭 [49/50] - 손실값: 0.0046\n",
      "에폭 [50/50] - 손실값: 0.0043\n"
     ]
    }
   ],
   "source": [
    "epochs = 50 # 총 에폭\n",
    "\n",
    "# 총 에폭만큼 훈련\n",
    "for epoch in range(epochs):\n",
    "    epoch_loss = 0 # 에폭별 손실값 초기화\n",
    "    # 미니배치 크기만큼 데이터를 추출하는 작업을 '반복 횟수'만큼 반복 \n",
    "    for images, labels in loader_train:\n",
    "        # 이미지, 레이블 데이터 미니배치를 장비에 할당 \n",
    "        images = images.to(device)\n",
    "        labels = labels.to(device)\n",
    "        \n",
    "        # 옵티마이저 내 기울기 초기화\n",
    "        optimizer.zero_grad()\n",
    "        # 이미지 데이터를 신경망 모델의 입력값으로 사용해 출력값 계산\n",
    "        outputs = model(images)\n",
    "        # 손실함수를 활용해 outputs와 labels의 손실값 계산\n",
    "        loss = criterion(outputs, labels)\n",
    "        # 역전파 수행\n",
    "        loss.backward()\n",
    "        # 가중치 갱신\n",
    "        optimizer.step()\n",
    "        \n",
    "        epoch_loss += loss.item() # 현재 배치에서의 손실 추가\n",
    "    # 훈련 데이터 손실값 출력\n",
    "    print(f'에폭 [{epoch+1}/{epochs}] - 손실값: {epoch_loss/len(loader_train):.4f}')    "
   ]
  },
  {
   "cell_type": "code",
   "execution_count": 16,
   "id": "violent-breathing",
   "metadata": {
    "execution": {
     "iopub.execute_input": "2021-06-30T01:25:22.847698Z",
     "iopub.status.busy": "2021-06-30T01:25:22.846893Z",
     "iopub.status.idle": "2021-06-30T01:25:25.206613Z",
     "shell.execute_reply": "2021-06-30T01:25:25.207099Z",
     "shell.execute_reply.started": "2021-06-30T00:51:51.640046Z"
    },
    "papermill": {
     "duration": 2.41483,
     "end_time": "2021-06-30T01:25:25.207264",
     "exception": false,
     "start_time": "2021-06-30T01:25:22.792434",
     "status": "completed"
    },
    "tags": []
   },
   "outputs": [
    {
     "name": "stdout",
     "output_type": "stream",
     "text": [
      "검증 데이터 ROC AUC : 0.9999\n"
     ]
    }
   ],
   "source": [
    "from sklearn.metrics import roc_auc_score # ROC AUC 점수 계산 함수\n",
    "\n",
    "# 예측 확률값과 실제값을 담을 리스트 초기화\n",
    "true_list = []\n",
    "preds_list = []\n",
    "\n",
    "model.eval() # 모델을 평가 상태로 설정 \n",
    "\n",
    "with torch.no_grad(): # 기울기 계산 비활성 -\n",
    "    for images, labels in loader_valid:\n",
    "        # 이미지, 레이블 데이터 미니배치를 장비에 할당 \n",
    "        images = images.to(device)\n",
    "        labels = labels.to(device)\n",
    "        # 이미지 데이터를 신경망 모델의 입력값으로 사용해 출력값 계산\n",
    "        outputs = model(images)\n",
    "        preds = torch.softmax(outputs.cpu(), dim=1)[:, 1] # 예측 확률값 \n",
    "        true = labels.cpu() # 실제값 \n",
    "        # 예측 확률값과 실제값을 리스트에 추가\n",
    "        preds_list.extend(preds)\n",
    "        true_list.extend(true)\n",
    "        \n",
    "    # 검증 데이터 ROC AUC 점수 출력 \n",
    "    print(f'검증 데이터 ROC AUC : {roc_auc_score(true_list, preds_list):.4f}')    "
   ]
  },
  {
   "cell_type": "code",
   "execution_count": 17,
   "id": "automated-spread",
   "metadata": {
    "_uuid": "870413a60281e0c4115fbc7cf192508e15a9e269",
    "execution": {
     "iopub.execute_input": "2021-06-30T01:25:25.275861Z",
     "iopub.status.busy": "2021-06-30T01:25:25.275292Z",
     "iopub.status.idle": "2021-06-30T01:25:25.279419Z",
     "shell.execute_reply": "2021-06-30T01:25:25.279008Z",
     "shell.execute_reply.started": "2021-06-30T00:51:54.154969Z"
    },
    "papermill": {
     "duration": 0.040117,
     "end_time": "2021-06-30T01:25:25.279555",
     "exception": false,
     "start_time": "2021-06-30T01:25:25.239438",
     "status": "completed"
    },
    "tags": []
   },
   "outputs": [],
   "source": [
    "dataset_test = ImageDataset(df=submission, img_dir='test/', transform=transform_test)\n",
    "loader_test = DataLoader(dataset=dataset_test, batch_size=32, \n",
    "                         shuffle=False, worker_init_fn=seed_worker,\n",
    "                         generator=g)"
   ]
  },
  {
   "cell_type": "code",
   "execution_count": 18,
   "id": "contrary-rough",
   "metadata": {
    "execution": {
     "iopub.execute_input": "2021-06-30T01:25:25.346894Z",
     "iopub.status.busy": "2021-06-30T01:25:25.346330Z",
     "iopub.status.idle": "2021-06-30T01:25:30.570740Z",
     "shell.execute_reply": "2021-06-30T01:25:30.570303Z",
     "shell.execute_reply.started": "2021-06-30T00:51:54.172944Z"
    },
    "papermill": {
     "duration": 5.260422,
     "end_time": "2021-06-30T01:25:30.570865",
     "exception": false,
     "start_time": "2021-06-30T01:25:25.310443",
     "status": "completed"
    },
    "tags": []
   },
   "outputs": [],
   "source": [
    "model.eval() # 모델을 평가 상태로 설정\n",
    "\n",
    "preds = [] # 타깃 예측 값 저장용 변수 초기화\n",
    "\n",
    "with torch.no_grad(): # 기울기 계산 비활성\n",
    "    for images, _ in loader_test:\n",
    "        # 이미지 데이터 미니배치를 장비에 할당\n",
    "        images = images.to(device)\n",
    "        # 이미지 데이터를 신경망 모델의 입력값으로 사용해 출력값 계산\n",
    "        outputs = model(images)\n",
    "        # 타깃 값이 1일 확률(예측 값)\n",
    "        preds_part = torch.softmax(outputs.cpu(), dim=1)[:, 1].tolist()\n",
    "        # preds에 preds_part 이어붙이기\n",
    "        preds.extend(preds_part)"
   ]
  },
  {
   "cell_type": "code",
   "execution_count": 19,
   "id": "large-court",
   "metadata": {
    "execution": {
     "iopub.execute_input": "2021-06-30T01:25:30.633474Z",
     "iopub.status.busy": "2021-06-30T01:25:30.632927Z",
     "iopub.status.idle": "2021-06-30T01:25:30.788623Z",
     "shell.execute_reply": "2021-06-30T01:25:30.788161Z",
     "shell.execute_reply.started": "2021-06-30T00:51:59.468021Z"
    },
    "papermill": {
     "duration": 0.189306,
     "end_time": "2021-06-30T01:25:30.788753",
     "exception": false,
     "start_time": "2021-06-30T01:25:30.599447",
     "status": "completed"
    },
    "tags": []
   },
   "outputs": [],
   "source": [
    "submission['has_cactus'] = preds\n",
    "submission.to_csv('submission.csv', index=False)"
   ]
  },
  {
   "cell_type": "code",
   "execution_count": 20,
   "id": "ambient-routine",
   "metadata": {
    "execution": {
     "iopub.execute_input": "2021-06-30T01:25:30.849263Z",
     "iopub.status.busy": "2021-06-30T01:25:30.848524Z",
     "iopub.status.idle": "2021-06-30T01:25:31.409519Z",
     "shell.execute_reply": "2021-06-30T01:25:31.408814Z",
     "shell.execute_reply.started": "2021-06-30T00:51:59.758436Z"
    },
    "papermill": {
     "duration": 0.592523,
     "end_time": "2021-06-30T01:25:31.409694",
     "exception": false,
     "start_time": "2021-06-30T01:25:30.817171",
     "status": "completed"
    },
    "tags": []
   },
   "outputs": [],
   "source": [
    "import shutil\n",
    "\n",
    "shutil.rmtree('./train')\n",
    "shutil.rmtree('./test')"
   ]
  }
 ],
 "metadata": {
  "kernelspec": {
   "display_name": "Python 3",
   "language": "python",
   "name": "python3"
  },
  "language_info": {
   "codemirror_mode": {
    "name": "ipython",
    "version": 3
   },
   "file_extension": ".py",
   "mimetype": "text/x-python",
   "name": "python",
   "nbconvert_exporter": "python",
   "pygments_lexer": "ipython3",
   "version": "3.7.9"
  },
  "papermill": {
   "default_parameters": {},
   "duration": 1968.185064,
   "end_time": "2021-06-30T01:25:33.262240",
   "environment_variables": {},
   "exception": null,
   "input_path": "__notebook__.ipynb",
   "output_path": "__notebook__.ipynb",
   "parameters": {},
   "start_time": "2021-06-30T00:52:45.077176",
   "version": "2.3.2"
  }
 },
 "nbformat": 4,
 "nbformat_minor": 5
}
