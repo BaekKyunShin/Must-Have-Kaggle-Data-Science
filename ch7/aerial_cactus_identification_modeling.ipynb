{
 "cells": [
  {
   "cell_type": "markdown",
   "id": "trying-hierarchy",
   "metadata": {
    "papermill": {
     "duration": 0.017081,
     "end_time": "2021-05-18T03:44:36.741307",
     "exception": false,
     "start_time": "2021-05-18T03:44:36.724226",
     "status": "completed"
    },
    "tags": []
   },
   "source": [
    "# 7.4 항공 사진 내 선인장 식별 경진대회 모델 성능 개선"
   ]
  },
  {
   "cell_type": "markdown",
   "id": "committed-singles",
   "metadata": {
    "papermill": {
     "duration": 0.01609,
     "end_time": "2021-05-18T03:44:36.773438",
     "exception": false,
     "start_time": "2021-05-18T03:44:36.757348",
     "status": "completed"
    },
    "tags": []
   },
   "source": [
    "- [항공 사진 내 선인장 식별 경진대회 링크](https://www.kaggle.com/c/aerial-cactus-identification)\n",
    "- [모델링 노트북 참고 링크](https://www.kaggle.com/bonhart/simple-cnn-on-pytorch-for-beginers)"
   ]
  },
  {
   "cell_type": "code",
   "execution_count": 1,
   "id": "identical-centre",
   "metadata": {
    "_uuid": "001d0b8a8b818c57a55fa4e20b5cae060a749cdc",
    "execution": {
     "iopub.execute_input": "2021-05-18T03:44:36.817395Z",
     "iopub.status.busy": "2021-05-18T03:44:36.816630Z",
     "iopub.status.idle": "2021-05-18T03:44:36.872368Z",
     "shell.execute_reply": "2021-05-18T03:44:36.871459Z"
    },
    "papermill": {
     "duration": 0.082773,
     "end_time": "2021-05-18T03:44:36.872549",
     "exception": false,
     "start_time": "2021-05-18T03:44:36.789776",
     "status": "completed"
    },
    "tags": []
   },
   "outputs": [],
   "source": [
    "import pandas as pd\n",
    "\n",
    "# 데이터 경로\n",
    "data_path = '/kaggle/input/aerial-cactus-identification/'\n",
    "\n",
    "labels = pd.read_csv(data_path + 'train.csv')\n",
    "submission = pd.read_csv(data_path + 'sample_submission.csv')"
   ]
  },
  {
   "cell_type": "code",
   "execution_count": 2,
   "id": "arabic-hazard",
   "metadata": {
    "execution": {
     "iopub.execute_input": "2021-05-18T03:44:36.912126Z",
     "iopub.status.busy": "2021-05-18T03:44:36.911528Z",
     "iopub.status.idle": "2021-05-18T03:44:41.138943Z",
     "shell.execute_reply": "2021-05-18T03:44:41.139680Z"
    },
    "papermill": {
     "duration": 4.248298,
     "end_time": "2021-05-18T03:44:41.139913",
     "exception": false,
     "start_time": "2021-05-18T03:44:36.891615",
     "status": "completed"
    },
    "tags": []
   },
   "outputs": [],
   "source": [
    "from zipfile import ZipFile\n",
    "\n",
    "# 훈련 이미지 데이터 압축 풀기\n",
    "with ZipFile(data_path + 'train.zip') as zipper:\n",
    "    zipper.extractall()\n",
    "    \n",
    "# 테스트 이미지 데이터 압 풀기\n",
    "with ZipFile(data_path + 'test.zip') as zipper:\n",
    "    zipper.extractall()"
   ]
  },
  {
   "cell_type": "code",
   "execution_count": 3,
   "id": "split-founder",
   "metadata": {
    "execution": {
     "iopub.execute_input": "2021-05-18T03:44:41.180079Z",
     "iopub.status.busy": "2021-05-18T03:44:41.179217Z",
     "iopub.status.idle": "2021-05-18T03:44:42.914421Z",
     "shell.execute_reply": "2021-05-18T03:44:42.913776Z"
    },
    "papermill": {
     "duration": 1.757178,
     "end_time": "2021-05-18T03:44:42.914599",
     "exception": false,
     "start_time": "2021-05-18T03:44:41.157421",
     "status": "completed"
    },
    "tags": []
   },
   "outputs": [],
   "source": [
    "import torch # 파이토치 \n",
    "import random\n",
    "import numpy as np\n",
    "\n",
    "# 시드 값 고정\n",
    "def set_seed(seed):\n",
    "#     torch.use_deterministic_algorithms(True)\n",
    "    torch.backends.cudnn.deterministic = True\n",
    "    torch.backends.cudnn.benchmark = False\n",
    "    torch.manual_seed(seed)\n",
    "    torch.cuda.manual_seed_all(seed)\n",
    "    np.random.seed(seed)\n",
    "    random.seed(seed)\n",
    "\n",
    "set_seed(10)"
   ]
  },
  {
   "cell_type": "code",
   "execution_count": 4,
   "id": "headed-basic",
   "metadata": {
    "execution": {
     "iopub.execute_input": "2021-05-18T03:44:42.995876Z",
     "iopub.status.busy": "2021-05-18T03:44:42.994843Z",
     "iopub.status.idle": "2021-05-18T03:44:42.998111Z",
     "shell.execute_reply": "2021-05-18T03:44:42.997532Z"
    },
    "papermill": {
     "duration": 0.067604,
     "end_time": "2021-05-18T03:44:42.998294",
     "exception": false,
     "start_time": "2021-05-18T03:44:42.930690",
     "status": "completed"
    },
    "tags": []
   },
   "outputs": [],
   "source": [
    "device = torch.device('cuda' if torch.cuda.is_available() else 'cpu')"
   ]
  },
  {
   "cell_type": "code",
   "execution_count": 5,
   "id": "flying-responsibility",
   "metadata": {
    "_uuid": "c07eab67e573c7de05e11065b5bafc1bbff284fb",
    "execution": {
     "iopub.execute_input": "2021-05-18T03:44:43.038666Z",
     "iopub.status.busy": "2021-05-18T03:44:43.037810Z",
     "iopub.status.idle": "2021-05-18T03:44:44.023339Z",
     "shell.execute_reply": "2021-05-18T03:44:44.022664Z"
    },
    "papermill": {
     "duration": 1.008003,
     "end_time": "2021-05-18T03:44:44.023499",
     "exception": false,
     "start_time": "2021-05-18T03:44:43.015496",
     "status": "completed"
    },
    "tags": []
   },
   "outputs": [],
   "source": [
    "from sklearn.model_selection import train_test_split\n",
    "\n",
    "# 훈련 데이터, 검증 데이터 분리\n",
    "train, valid = train_test_split(labels, \n",
    "                                test_size=0.1,\n",
    "                                stratify=labels['has_cactus'],\n",
    "                                random_state=10)"
   ]
  },
  {
   "cell_type": "code",
   "execution_count": 6,
   "id": "solved-concord",
   "metadata": {
    "_uuid": "1b05af8d59d9d5b092e96f72dfebb19591416de9",
    "execution": {
     "iopub.execute_input": "2021-05-18T03:44:44.066309Z",
     "iopub.status.busy": "2021-05-18T03:44:44.065499Z",
     "iopub.status.idle": "2021-05-18T03:44:44.339306Z",
     "shell.execute_reply": "2021-05-18T03:44:44.337717Z"
    },
    "papermill": {
     "duration": 0.298715,
     "end_time": "2021-05-18T03:44:44.339483",
     "exception": false,
     "start_time": "2021-05-18T03:44:44.040768",
     "status": "completed"
    },
    "tags": []
   },
   "outputs": [],
   "source": [
    "import cv2\n",
    "from torch.utils.data import Dataset # 데이터 생성을 위한 클래스\n",
    "\n",
    "class ImageDataset(Dataset):\n",
    "    # 초기화 메서드(생성자)\n",
    "    def __init__(self, df, img_dir = './', transform=None):\n",
    "        super().__init__() # 상속받은 Dataset의 __init__() 메서드 호출 \n",
    "        self.df = df\n",
    "        self.img_dir = img_dir\n",
    "        self.transform = transform\n",
    "    \n",
    "    # 데이터 세트 크기 반환 메서드 \n",
    "    def __len__(self):\n",
    "        return len(self.df)\n",
    "    \n",
    "    # 인덱스(idx)에 해당하는 데이터 반환 메서드 \n",
    "    def __getitem__(self, idx):\n",
    "        img_path = self.img_dir + self.df.iloc[idx, 0] # 이미지 파일 경로 \n",
    "        image = cv2.imread(img_path) # 이미지 파일 읽기 \n",
    "        image = cv2.cvtColor(image, cv2.COLOR_BGR2RGB) # 이미지 색상 보정\n",
    "        label = self.df.iloc[idx, 1] # 이미지 레이블(타깃 값)\n",
    "        # 이미지 변환\n",
    "        if self.transform is not None:\n",
    "            image = self.transform(image)\n",
    "        return image, label"
   ]
  },
  {
   "cell_type": "code",
   "execution_count": 7,
   "id": "impressed-january",
   "metadata": {
    "execution": {
     "iopub.execute_input": "2021-05-18T03:44:44.380630Z",
     "iopub.status.busy": "2021-05-18T03:44:44.379672Z",
     "iopub.status.idle": "2021-05-18T03:44:44.541348Z",
     "shell.execute_reply": "2021-05-18T03:44:44.540710Z"
    },
    "papermill": {
     "duration": 0.184533,
     "end_time": "2021-05-18T03:44:44.541488",
     "exception": false,
     "start_time": "2021-05-18T03:44:44.356955",
     "status": "completed"
    },
    "tags": []
   },
   "outputs": [],
   "source": [
    "import torchvision.transforms as transforms # 이미지 변환을 위한 모듈\n",
    "\n",
    "transform = transforms.Compose([transforms.ToPILImage(),\n",
    "                                transforms.Pad(32, padding_mode='symmetric'),\n",
    "                                transforms.RandomHorizontalFlip(),\n",
    "                                transforms.RandomVerticalFlip(),\n",
    "                                transforms.RandomRotation(10),\n",
    "                                transforms.ToTensor(),\n",
    "                                transforms.Normalize(mean=[0.5, 0.5, 0.5],\n",
    "                                                     std=[0.2, 0.2, 0.2])])"
   ]
  },
  {
   "cell_type": "code",
   "execution_count": 8,
   "id": "wrong-hours",
   "metadata": {
    "execution": {
     "iopub.execute_input": "2021-05-18T03:44:44.581017Z",
     "iopub.status.busy": "2021-05-18T03:44:44.580311Z",
     "iopub.status.idle": "2021-05-18T03:44:44.585053Z",
     "shell.execute_reply": "2021-05-18T03:44:44.584473Z"
    },
    "papermill": {
     "duration": 0.026219,
     "end_time": "2021-05-18T03:44:44.585193",
     "exception": false,
     "start_time": "2021-05-18T03:44:44.558974",
     "status": "completed"
    },
    "tags": []
   },
   "outputs": [],
   "source": [
    "dataset_train = ImageDataset(df=train, img_dir='train/', transform=transform)\n",
    "dataset_valid = ImageDataset(df=valid, img_dir='train/', transform=transform)"
   ]
  },
  {
   "cell_type": "code",
   "execution_count": 9,
   "id": "contained-reservoir",
   "metadata": {
    "_uuid": "c247391c28497ad35c72f5218398ea71f2d0d5ff",
    "execution": {
     "iopub.execute_input": "2021-05-18T03:44:44.629586Z",
     "iopub.status.busy": "2021-05-18T03:44:44.627156Z",
     "iopub.status.idle": "2021-05-18T03:44:44.630427Z",
     "shell.execute_reply": "2021-05-18T03:44:44.631000Z"
    },
    "papermill": {
     "duration": 0.027427,
     "end_time": "2021-05-18T03:44:44.631163",
     "exception": false,
     "start_time": "2021-05-18T03:44:44.603736",
     "status": "completed"
    },
    "tags": []
   },
   "outputs": [],
   "source": [
    "from torch.utils.data import DataLoader # 데이터 로더 생성을 위한 클래스\n",
    "\n",
    "loader_train = DataLoader(dataset=dataset_train, batch_size=64, \n",
    "                          shuffle=True)\n",
    "loader_valid = DataLoader(dataset=dataset_valid, batch_size=64, \n",
    "                          shuffle=False)"
   ]
  },
  {
   "cell_type": "code",
   "execution_count": 10,
   "id": "confident-beatles",
   "metadata": {
    "_uuid": "0a2d5600bc2eb915ec0bdf5b52ba11e25096f7d0",
    "execution": {
     "iopub.execute_input": "2021-05-18T03:44:44.682937Z",
     "iopub.status.busy": "2021-05-18T03:44:44.682029Z",
     "iopub.status.idle": "2021-05-18T03:44:44.685941Z",
     "shell.execute_reply": "2021-05-18T03:44:44.685379Z"
    },
    "papermill": {
     "duration": 0.037127,
     "end_time": "2021-05-18T03:44:44.686082",
     "exception": false,
     "start_time": "2021-05-18T03:44:44.648955",
     "status": "completed"
    },
    "tags": []
   },
   "outputs": [],
   "source": [
    "import torch.nn as nn # 신경망 모듈\n",
    "import torch.nn.functional as F # 신경망 모듈에서 자주 사용되는 함수\n",
    "\n",
    "class Model(nn.Module):\n",
    "    # 신경망 계층 정의\n",
    "    def __init__(self):\n",
    "        super().__init__() # 상속받은 nn.Module의 __init__() 메서드 호출\n",
    "        # 첫 번째 ~ 다섯 번째 합성곱, 배치 정규화, 최대 풀링 계층 \n",
    "        self.layer1 = nn.Sequential(nn.Conv2d(in_channels=3, out_channels=32,\n",
    "                                              kernel_size=3, padding=2),\n",
    "                                    nn.BatchNorm2d(32), # 배치 정규화 ---①\n",
    "                                    nn.LeakyReLU(), # LeakyReLU 활성화 함수 ---②\n",
    "                                    nn.MaxPool2d(kernel_size=2))\n",
    "\n",
    "        self.layer2 = nn.Sequential(nn.Conv2d(in_channels=32, out_channels=64,\n",
    "                                              kernel_size=3, padding=2),\n",
    "                                    nn.BatchNorm2d(64),\n",
    "                                    nn.LeakyReLU(),\n",
    "                                    nn.MaxPool2d(kernel_size=2))\n",
    "        \n",
    "        self.layer3 = nn.Sequential(nn.Conv2d(in_channels=64, out_channels=128,\n",
    "                                              kernel_size=3, padding=2),\n",
    "                                    nn.BatchNorm2d(128),\n",
    "                                    nn.LeakyReLU(),\n",
    "                                    nn.MaxPool2d(kernel_size=2))\n",
    "        \n",
    "        self.layer4 = nn.Sequential(nn.Conv2d(in_channels=128, out_channels=256,\n",
    "                                              kernel_size=3, padding=2),\n",
    "                                    nn.BatchNorm2d(256),\n",
    "                                    nn.LeakyReLU(),\n",
    "                                    nn.MaxPool2d(kernel_size=2))\n",
    "        \n",
    "        self.layer5 = nn.Sequential(nn.Conv2d(in_channels=256, out_channels=512,\n",
    "                                              kernel_size=3, padding=2),\n",
    "                                    nn.BatchNorm2d(512),\n",
    "                                    nn.LeakyReLU(),\n",
    "                                    nn.MaxPool2d(kernel_size=2))\n",
    "        # 평균 풀링 계층 \n",
    "        self.avg_pool = nn.AvgPool2d(kernel_size=4) \n",
    "        # 전결합 계층 ---③\n",
    "        self.fc1 = nn.Linear(in_features=512 * 1 * 1, out_features=64)\n",
    "        self.fc2 = nn.Linear(in_features=64, out_features=2)\n",
    "\n",
    "    # 순전파 출력 정의 \n",
    "    def forward(self, x):\n",
    "        x = self.layer1(x)\n",
    "        x = self.layer2(x)\n",
    "        x = self.layer3(x)\n",
    "        x = self.layer4(x)\n",
    "        x = self.layer5(x)\n",
    "        x = self.avg_pool(x)\n",
    "        x = x.view(-1, 512 * 1 * 1) # 평탄화\n",
    "        x = self.fc1(x)\n",
    "        x = self.fc2(x)\n",
    "        return x"
   ]
  },
  {
   "cell_type": "code",
   "execution_count": 11,
   "id": "special-illness",
   "metadata": {
    "_cell_guid": "79c7e3d0-c299-4dcb-8224-4455121ee9b0",
    "_uuid": "d629ff2d2480ee46fbb7e2d37f6b5fab8052498a",
    "execution": {
     "iopub.execute_input": "2021-05-18T03:44:44.724788Z",
     "iopub.status.busy": "2021-05-18T03:44:44.724083Z",
     "iopub.status.idle": "2021-05-18T03:44:49.483389Z",
     "shell.execute_reply": "2021-05-18T03:44:49.482836Z"
    },
    "papermill": {
     "duration": 4.780943,
     "end_time": "2021-05-18T03:44:49.483530",
     "exception": false,
     "start_time": "2021-05-18T03:44:44.702587",
     "status": "completed"
    },
    "tags": []
   },
   "outputs": [
    {
     "data": {
      "text/plain": [
       "Model(\n",
       "  (layer1): Sequential(\n",
       "    (0): Conv2d(3, 32, kernel_size=(3, 3), stride=(1, 1), padding=(2, 2))\n",
       "    (1): BatchNorm2d(32, eps=1e-05, momentum=0.1, affine=True, track_running_stats=True)\n",
       "    (2): LeakyReLU(negative_slope=0.01)\n",
       "    (3): MaxPool2d(kernel_size=2, stride=2, padding=0, dilation=1, ceil_mode=False)\n",
       "  )\n",
       "  (layer2): Sequential(\n",
       "    (0): Conv2d(32, 64, kernel_size=(3, 3), stride=(1, 1), padding=(2, 2))\n",
       "    (1): BatchNorm2d(64, eps=1e-05, momentum=0.1, affine=True, track_running_stats=True)\n",
       "    (2): LeakyReLU(negative_slope=0.01)\n",
       "    (3): MaxPool2d(kernel_size=2, stride=2, padding=0, dilation=1, ceil_mode=False)\n",
       "  )\n",
       "  (layer3): Sequential(\n",
       "    (0): Conv2d(64, 128, kernel_size=(3, 3), stride=(1, 1), padding=(2, 2))\n",
       "    (1): BatchNorm2d(128, eps=1e-05, momentum=0.1, affine=True, track_running_stats=True)\n",
       "    (2): LeakyReLU(negative_slope=0.01)\n",
       "    (3): MaxPool2d(kernel_size=2, stride=2, padding=0, dilation=1, ceil_mode=False)\n",
       "  )\n",
       "  (layer4): Sequential(\n",
       "    (0): Conv2d(128, 256, kernel_size=(3, 3), stride=(1, 1), padding=(2, 2))\n",
       "    (1): BatchNorm2d(256, eps=1e-05, momentum=0.1, affine=True, track_running_stats=True)\n",
       "    (2): LeakyReLU(negative_slope=0.01)\n",
       "    (3): MaxPool2d(kernel_size=2, stride=2, padding=0, dilation=1, ceil_mode=False)\n",
       "  )\n",
       "  (layer5): Sequential(\n",
       "    (0): Conv2d(256, 512, kernel_size=(3, 3), stride=(1, 1), padding=(2, 2))\n",
       "    (1): BatchNorm2d(512, eps=1e-05, momentum=0.1, affine=True, track_running_stats=True)\n",
       "    (2): LeakyReLU(negative_slope=0.01)\n",
       "    (3): MaxPool2d(kernel_size=2, stride=2, padding=0, dilation=1, ceil_mode=False)\n",
       "  )\n",
       "  (avg_pool): AvgPool2d(kernel_size=4, stride=4, padding=0)\n",
       "  (fc1): Linear(in_features=512, out_features=64, bias=True)\n",
       "  (fc2): Linear(in_features=64, out_features=2, bias=True)\n",
       ")"
      ]
     },
     "execution_count": 11,
     "metadata": {},
     "output_type": "execute_result"
    }
   ],
   "source": [
    "model = Model().to(device)\n",
    "\n",
    "model"
   ]
  },
  {
   "cell_type": "code",
   "execution_count": 12,
   "id": "chubby-registration",
   "metadata": {
    "execution": {
     "iopub.execute_input": "2021-05-18T03:44:49.525417Z",
     "iopub.status.busy": "2021-05-18T03:44:49.524525Z",
     "iopub.status.idle": "2021-05-18T03:44:49.528321Z",
     "shell.execute_reply": "2021-05-18T03:44:49.527742Z"
    },
    "papermill": {
     "duration": 0.026443,
     "end_time": "2021-05-18T03:44:49.528465",
     "exception": false,
     "start_time": "2021-05-18T03:44:49.502022",
     "status": "completed"
    },
    "tags": []
   },
   "outputs": [],
   "source": [
    "# 손실함수\n",
    "criterion = nn.CrossEntropyLoss()"
   ]
  },
  {
   "cell_type": "code",
   "execution_count": 13,
   "id": "mature-conference",
   "metadata": {
    "_uuid": "fceb2929d8750acb2de745cd9ff3d2d458820df8",
    "execution": {
     "iopub.execute_input": "2021-05-18T03:44:49.570600Z",
     "iopub.status.busy": "2021-05-18T03:44:49.569648Z",
     "iopub.status.idle": "2021-05-18T03:44:49.573368Z",
     "shell.execute_reply": "2021-05-18T03:44:49.572631Z"
    },
    "papermill": {
     "duration": 0.026683,
     "end_time": "2021-05-18T03:44:49.573515",
     "exception": false,
     "start_time": "2021-05-18T03:44:49.546832",
     "status": "completed"
    },
    "tags": []
   },
   "outputs": [],
   "source": [
    "# 옵티마이저\n",
    "optimizer = torch.optim.Adamax(model.parameters(), lr=0.0002)"
   ]
  },
  {
   "cell_type": "code",
   "execution_count": 14,
   "id": "graduate-manufacturer",
   "metadata": {
    "_uuid": "2c37417ae6b62ab4551bc8a888916ca1e591d284",
    "execution": {
     "iopub.execute_input": "2021-05-18T03:44:49.619508Z",
     "iopub.status.busy": "2021-05-18T03:44:49.618842Z",
     "iopub.status.idle": "2021-05-18T03:59:32.338720Z",
     "shell.execute_reply": "2021-05-18T03:59:32.339651Z"
    },
    "papermill": {
     "duration": 882.748144,
     "end_time": "2021-05-18T03:59:32.340013",
     "exception": false,
     "start_time": "2021-05-18T03:44:49.591869",
     "status": "completed"
    },
    "tags": []
   },
   "outputs": [
    {
     "name": "stdout",
     "output_type": "stream",
     "text": [
      "에폭: [1/35], 손실값: 0.0898\n",
      "에폭: [2/35], 손실값: 0.0013\n",
      "에폭: [3/35], 손실값: 0.0969\n",
      "에폭: [4/35], 손실값: 0.1665\n",
      "에폭: [5/35], 손실값: 0.0006\n",
      "에폭: [6/35], 손실값: 0.0001\n",
      "에폭: [7/35], 손실값: 0.0001\n",
      "에폭: [8/35], 손실값: 0.0003\n",
      "에폭: [9/35], 손실값: 0.0004\n",
      "에폭: [10/35], 손실값: 0.0041\n",
      "에폭: [11/35], 손실값: 0.2281\n",
      "에폭: [12/35], 손실값: 0.0131\n",
      "에폭: [13/35], 손실값: 0.0006\n",
      "에폭: [14/35], 손실값: 0.0002\n",
      "에폭: [15/35], 손실값: 0.0124\n",
      "에폭: [16/35], 손실값: 0.0000\n",
      "에폭: [17/35], 손실값: 0.0225\n",
      "에폭: [18/35], 손실값: 0.0001\n",
      "에폭: [19/35], 손실값: 0.2915\n",
      "에폭: [20/35], 손실값: 0.0269\n",
      "에폭: [21/35], 손실값: 0.0238\n",
      "에폭: [22/35], 손실값: 0.0004\n",
      "에폭: [23/35], 손실값: 0.0000\n",
      "에폭: [24/35], 손실값: 0.1327\n",
      "에폭: [25/35], 손실값: 0.0011\n",
      "에폭: [26/35], 손실값: 0.0005\n",
      "에폭: [27/35], 손실값: 0.0011\n",
      "에폭: [28/35], 손실값: 0.0000\n",
      "에폭: [29/35], 손실값: 0.0001\n",
      "에폭: [30/35], 손실값: 0.0000\n",
      "에폭: [31/35], 손실값: 0.0000\n",
      "에폭: [32/35], 손실값: 0.4040\n",
      "에폭: [33/35], 손실값: 0.0003\n",
      "에폭: [34/35], 손실값: 0.0374\n",
      "에폭: [35/35], 손실값: 0.0000\n"
     ]
    }
   ],
   "source": [
    "epochs = 35 # 총 에폭\n",
    "\n",
    "# 총 35에폭만큼 훈련\n",
    "for epoch in range(epochs):\n",
    "    # 미니배치 크기만큼 데이터를 추출하는 작업을 '반복 횟수'만큼 반복 \n",
    "    for i, (images, labels) in enumerate(loader_train):\n",
    "        # 이미지, 레이블 데이터 미니배치를 장비에 할당 \n",
    "        images = images.to(device)\n",
    "        labels = labels.to(device)\n",
    "        \n",
    "        # 옵티마이저 내 기울기 초기화\n",
    "        optimizer.zero_grad()\n",
    "        # 이미지 데이터를 신경망 모델의 입력값으로 사용해 출력값 계산\n",
    "        outputs = model(images)\n",
    "        # 기존에 정의한 손실함수를 활용해 outputs와 labels의 손실값 계산\n",
    "        loss = criterion(outputs, labels)\n",
    "        # 오차 역전파 수행\n",
    "        loss.backward()\n",
    "        # 가중치 갱신\n",
    "        optimizer.step()\n",
    "        \n",
    "    print (f'에폭: [{epoch+1}/{epochs}], 손실값: {loss.item():.4f}')"
   ]
  },
  {
   "cell_type": "code",
   "execution_count": 15,
   "id": "found-voltage",
   "metadata": {
    "execution": {
     "iopub.execute_input": "2021-05-18T03:59:32.409092Z",
     "iopub.status.busy": "2021-05-18T03:59:32.407837Z",
     "iopub.status.idle": "2021-05-18T03:59:35.096926Z",
     "shell.execute_reply": "2021-05-18T03:59:35.097485Z"
    },
    "papermill": {
     "duration": 2.726935,
     "end_time": "2021-05-18T03:59:35.097691",
     "exception": false,
     "start_time": "2021-05-18T03:59:32.370756",
     "status": "completed"
    },
    "tags": []
   },
   "outputs": [
    {
     "name": "stdout",
     "output_type": "stream",
     "text": [
      "검증 데이터 ROC AUC : 0.9999999999999997\n"
     ]
    }
   ],
   "source": [
    "from sklearn.metrics import roc_auc_score # ROC AUC 점수 계산 함수\n",
    "\n",
    "roc_auc = 0 # ROC AUC 초기화\n",
    "\n",
    "model.eval() # 모델을 평가 상태로 설정 \n",
    "\n",
    "with torch.no_grad(): # 기울기 계산 비활성\n",
    "    for images, labels in loader_valid:\n",
    "        # 이미지, 레이블 데이터 미니배치를 장비에 할당 \n",
    "        images = images.to(device)\n",
    "        labels = labels.to(device)\n",
    "        # 이미지 데이터를 신경망 모델의 입력값으로 사용해 출력값 계산\n",
    "        outputs = model(images)\n",
    "        preds = torch.softmax(outputs.cpu(), dim=1)[:, 1] # 예측 확률값\n",
    "        true = labels.cpu() # 실제값\n",
    "        # 검증 데이터 ROC AUC 점수 계산 \n",
    "        roc_auc += roc_auc_score(true, preds) / len(loader_valid)\n",
    "\n",
    "    print(f'검증 데이터 ROC AUC : {roc_auc}')"
   ]
  },
  {
   "cell_type": "code",
   "execution_count": 16,
   "id": "discrete-given",
   "metadata": {
    "_uuid": "870413a60281e0c4115fbc7cf192508e15a9e269",
    "execution": {
     "iopub.execute_input": "2021-05-18T03:59:35.164876Z",
     "iopub.status.busy": "2021-05-18T03:59:35.163044Z",
     "iopub.status.idle": "2021-05-18T03:59:35.165558Z",
     "shell.execute_reply": "2021-05-18T03:59:35.166053Z"
    },
    "papermill": {
     "duration": 0.038039,
     "end_time": "2021-05-18T03:59:35.166207",
     "exception": false,
     "start_time": "2021-05-18T03:59:35.128168",
     "status": "completed"
    },
    "tags": []
   },
   "outputs": [],
   "source": [
    "dataset_test = ImageDataset(df=submission, img_dir='test/', transform=transform)\n",
    "loader_test = DataLoader(dataset=dataset_test, batch_size=64, \n",
    "                         shuffle=False)"
   ]
  },
  {
   "cell_type": "code",
   "execution_count": 17,
   "id": "neural-reggae",
   "metadata": {
    "execution": {
     "iopub.execute_input": "2021-05-18T03:59:35.232188Z",
     "iopub.status.busy": "2021-05-18T03:59:35.231027Z",
     "iopub.status.idle": "2021-05-18T03:59:41.239352Z",
     "shell.execute_reply": "2021-05-18T03:59:41.238750Z"
    },
    "papermill": {
     "duration": 6.044146,
     "end_time": "2021-05-18T03:59:41.239527",
     "exception": false,
     "start_time": "2021-05-18T03:59:35.195381",
     "status": "completed"
    },
    "tags": []
   },
   "outputs": [],
   "source": [
    "model.eval() # 모델을 평가 상태로 설정\n",
    "\n",
    "preds = [] # 타깃 예측 값 저장용 변수 초기화\n",
    "\n",
    "with torch.no_grad(): # 기울기 계산 비활성\n",
    "    for images, _ in loader_test:\n",
    "        # 이미지 데이터 미니배치를 장비에 할당\n",
    "        images = images.to(device)\n",
    "        # 이미지 데이터를 신경망 모델의 입력값으로 사용해 출력값 계산\n",
    "        outputs = model(images)\n",
    "        # 타깃 값이 1일 확률(예측 값)\n",
    "        preds_temp = torch.softmax(outputs.cpu(), dim=1)[:, 1].tolist()\n",
    "        # preds에 preds_temp 이어붙이기\n",
    "        preds.extend(preds_temp)"
   ]
  },
  {
   "cell_type": "code",
   "execution_count": 18,
   "id": "quiet-thickness",
   "metadata": {
    "execution": {
     "iopub.execute_input": "2021-05-18T03:59:41.310053Z",
     "iopub.status.busy": "2021-05-18T03:59:41.309285Z",
     "iopub.status.idle": "2021-05-18T03:59:41.504612Z",
     "shell.execute_reply": "2021-05-18T03:59:41.504056Z"
    },
    "papermill": {
     "duration": 0.233296,
     "end_time": "2021-05-18T03:59:41.504754",
     "exception": false,
     "start_time": "2021-05-18T03:59:41.271458",
     "status": "completed"
    },
    "tags": []
   },
   "outputs": [],
   "source": [
    "submission['has_cactus'] = preds\n",
    "submission.to_csv('submission.csv', index=False)"
   ]
  },
  {
   "cell_type": "code",
   "execution_count": 19,
   "id": "normal-powell",
   "metadata": {
    "execution": {
     "iopub.execute_input": "2021-05-18T03:59:41.645217Z",
     "iopub.status.busy": "2021-05-18T03:59:41.644199Z",
     "iopub.status.idle": "2021-05-18T03:59:41.660082Z",
     "shell.execute_reply": "2021-05-18T03:59:41.656247Z"
    },
    "papermill": {
     "duration": 0.101657,
     "end_time": "2021-05-18T03:59:41.660287",
     "exception": false,
     "start_time": "2021-05-18T03:59:41.558630",
     "status": "completed"
    },
    "tags": []
   },
   "outputs": [
    {
     "data": {
      "text/html": [
       "<div>\n",
       "<style scoped>\n",
       "    .dataframe tbody tr th:only-of-type {\n",
       "        vertical-align: middle;\n",
       "    }\n",
       "\n",
       "    .dataframe tbody tr th {\n",
       "        vertical-align: top;\n",
       "    }\n",
       "\n",
       "    .dataframe thead th {\n",
       "        text-align: right;\n",
       "    }\n",
       "</style>\n",
       "<table border=\"1\" class=\"dataframe\">\n",
       "  <thead>\n",
       "    <tr style=\"text-align: right;\">\n",
       "      <th></th>\n",
       "      <th>id</th>\n",
       "      <th>has_cactus</th>\n",
       "    </tr>\n",
       "  </thead>\n",
       "  <tbody>\n",
       "    <tr>\n",
       "      <th>0</th>\n",
       "      <td>000940378805c44108d287872b2f04ce.jpg</td>\n",
       "      <td>0.999959</td>\n",
       "    </tr>\n",
       "    <tr>\n",
       "      <th>1</th>\n",
       "      <td>0017242f54ececa4512b4d7937d1e21e.jpg</td>\n",
       "      <td>1.000000</td>\n",
       "    </tr>\n",
       "    <tr>\n",
       "      <th>2</th>\n",
       "      <td>001ee6d8564003107853118ab87df407.jpg</td>\n",
       "      <td>0.000002</td>\n",
       "    </tr>\n",
       "    <tr>\n",
       "      <th>3</th>\n",
       "      <td>002e175c3c1e060769475f52182583d0.jpg</td>\n",
       "      <td>0.000004</td>\n",
       "    </tr>\n",
       "    <tr>\n",
       "      <th>4</th>\n",
       "      <td>0036e44a7e8f7218e9bc7bf8137e4943.jpg</td>\n",
       "      <td>0.228355</td>\n",
       "    </tr>\n",
       "    <tr>\n",
       "      <th>...</th>\n",
       "      <td>...</td>\n",
       "      <td>...</td>\n",
       "    </tr>\n",
       "    <tr>\n",
       "      <th>3995</th>\n",
       "      <td>ffaafd0c9f2f0e73172848463bc2e523.jpg</td>\n",
       "      <td>0.999995</td>\n",
       "    </tr>\n",
       "    <tr>\n",
       "      <th>3996</th>\n",
       "      <td>ffae37344310a1549162493237d25d3f.jpg</td>\n",
       "      <td>1.000000</td>\n",
       "    </tr>\n",
       "    <tr>\n",
       "      <th>3997</th>\n",
       "      <td>ffbd469c56873d064326204aac546e0d.jpg</td>\n",
       "      <td>1.000000</td>\n",
       "    </tr>\n",
       "    <tr>\n",
       "      <th>3998</th>\n",
       "      <td>ffcb76b7d47f29ece11c751e5f763f52.jpg</td>\n",
       "      <td>1.000000</td>\n",
       "    </tr>\n",
       "    <tr>\n",
       "      <th>3999</th>\n",
       "      <td>fffed17d1a8e0433a934db518d7f532c.jpg</td>\n",
       "      <td>1.000000</td>\n",
       "    </tr>\n",
       "  </tbody>\n",
       "</table>\n",
       "<p>4000 rows × 2 columns</p>\n",
       "</div>"
      ],
      "text/plain": [
       "                                        id  has_cactus\n",
       "0     000940378805c44108d287872b2f04ce.jpg    0.999959\n",
       "1     0017242f54ececa4512b4d7937d1e21e.jpg    1.000000\n",
       "2     001ee6d8564003107853118ab87df407.jpg    0.000002\n",
       "3     002e175c3c1e060769475f52182583d0.jpg    0.000004\n",
       "4     0036e44a7e8f7218e9bc7bf8137e4943.jpg    0.228355\n",
       "...                                    ...         ...\n",
       "3995  ffaafd0c9f2f0e73172848463bc2e523.jpg    0.999995\n",
       "3996  ffae37344310a1549162493237d25d3f.jpg    1.000000\n",
       "3997  ffbd469c56873d064326204aac546e0d.jpg    1.000000\n",
       "3998  ffcb76b7d47f29ece11c751e5f763f52.jpg    1.000000\n",
       "3999  fffed17d1a8e0433a934db518d7f532c.jpg    1.000000\n",
       "\n",
       "[4000 rows x 2 columns]"
      ]
     },
     "execution_count": 19,
     "metadata": {},
     "output_type": "execute_result"
    }
   ],
   "source": [
    "submission"
   ]
  },
  {
   "cell_type": "code",
   "execution_count": 20,
   "id": "reasonable-trouble",
   "metadata": {
    "execution": {
     "iopub.execute_input": "2021-05-18T03:59:41.801341Z",
     "iopub.status.busy": "2021-05-18T03:59:41.800294Z",
     "iopub.status.idle": "2021-05-18T03:59:43.190446Z",
     "shell.execute_reply": "2021-05-18T03:59:43.188626Z"
    },
    "papermill": {
     "duration": 1.474893,
     "end_time": "2021-05-18T03:59:43.190618",
     "exception": false,
     "start_time": "2021-05-18T03:59:41.715725",
     "status": "completed"
    },
    "tags": []
   },
   "outputs": [],
   "source": [
    "import shutil\n",
    "\n",
    "shutil.rmtree('./train')\n",
    "shutil.rmtree('./test')"
   ]
  }
 ],
 "metadata": {
  "kernelspec": {
   "display_name": "Python 3",
   "language": "python",
   "name": "python3"
  },
  "language_info": {
   "codemirror_mode": {
    "name": "ipython",
    "version": 3
   },
   "file_extension": ".py",
   "mimetype": "text/x-python",
   "name": "python",
   "nbconvert_exporter": "python",
   "pygments_lexer": "ipython3",
   "version": "3.7.9"
  },
  "papermill": {
   "default_parameters": {},
   "duration": 913.786798,
   "end_time": "2021-05-18T03:59:44.336420",
   "environment_variables": {},
   "exception": null,
   "input_path": "__notebook__.ipynb",
   "output_path": "__notebook__.ipynb",
   "parameters": {},
   "start_time": "2021-05-18T03:44:30.549622",
   "version": "2.3.2"
  }
 },
 "nbformat": 4,
 "nbformat_minor": 5
}
