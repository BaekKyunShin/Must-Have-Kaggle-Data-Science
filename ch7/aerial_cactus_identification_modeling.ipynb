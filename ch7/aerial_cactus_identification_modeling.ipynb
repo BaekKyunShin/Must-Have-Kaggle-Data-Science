{
 "cells": [
  {
   "cell_type": "markdown",
   "id": "alone-moses",
   "metadata": {
    "papermill": {
     "duration": 0.016422,
     "end_time": "2021-05-20T11:56:17.025684",
     "exception": false,
     "start_time": "2021-05-20T11:56:17.009262",
     "status": "completed"
    },
    "tags": []
   },
   "source": [
    "# 7.4 항공 사진 내 선인장 식별 경진대회 모델 성능 개선"
   ]
  },
  {
   "cell_type": "markdown",
   "id": "typical-contributor",
   "metadata": {
    "papermill": {
     "duration": 0.014603,
     "end_time": "2021-05-20T11:56:17.055372",
     "exception": false,
     "start_time": "2021-05-20T11:56:17.040769",
     "status": "completed"
    },
    "tags": []
   },
   "source": [
    "- [항공 사진 내 선인장 식별 경진대회 링크](https://www.kaggle.com/c/aerial-cactus-identification)\n",
    "- [모델링 노트북 참고 링크](https://www.kaggle.com/bonhart/simple-cnn-on-pytorch-for-beginers)"
   ]
  },
  {
   "cell_type": "code",
   "execution_count": 1,
   "id": "extended-track",
   "metadata": {
    "_uuid": "001d0b8a8b818c57a55fa4e20b5cae060a749cdc",
    "execution": {
     "iopub.execute_input": "2021-05-20T11:56:17.093649Z",
     "iopub.status.busy": "2021-05-20T11:56:17.093087Z",
     "iopub.status.idle": "2021-05-20T11:56:17.141962Z",
     "shell.execute_reply": "2021-05-20T11:56:17.141327Z",
     "shell.execute_reply.started": "2021-05-20T11:34:39.059876Z"
    },
    "papermill": {
     "duration": 0.071381,
     "end_time": "2021-05-20T11:56:17.142119",
     "exception": false,
     "start_time": "2021-05-20T11:56:17.070738",
     "status": "completed"
    },
    "tags": []
   },
   "outputs": [],
   "source": [
    "import pandas as pd\n",
    "\n",
    "# 데이터 경로\n",
    "data_path = '/kaggle/input/aerial-cactus-identification/'\n",
    "\n",
    "labels = pd.read_csv(data_path + 'train.csv')\n",
    "submission = pd.read_csv(data_path + 'sample_submission.csv')"
   ]
  },
  {
   "cell_type": "code",
   "execution_count": 2,
   "id": "satisfactory-complexity",
   "metadata": {
    "execution": {
     "iopub.execute_input": "2021-05-20T11:56:17.175921Z",
     "iopub.status.busy": "2021-05-20T11:56:17.175386Z",
     "iopub.status.idle": "2021-05-20T11:56:19.887587Z",
     "shell.execute_reply": "2021-05-20T11:56:19.886801Z",
     "shell.execute_reply.started": "2021-05-20T11:34:39.132022Z"
    },
    "papermill": {
     "duration": 2.730753,
     "end_time": "2021-05-20T11:56:19.887756",
     "exception": false,
     "start_time": "2021-05-20T11:56:17.157003",
     "status": "completed"
    },
    "tags": []
   },
   "outputs": [],
   "source": [
    "from zipfile import ZipFile\n",
    "\n",
    "# 훈련 이미지 데이터 압축 풀기\n",
    "with ZipFile(data_path + 'train.zip') as zipper:\n",
    "    zipper.extractall()\n",
    "    \n",
    "# 테스트 이미지 데이터 압 풀기\n",
    "with ZipFile(data_path + 'test.zip') as zipper:\n",
    "    zipper.extractall()"
   ]
  },
  {
   "cell_type": "code",
   "execution_count": 3,
   "id": "after-concentrate",
   "metadata": {
    "execution": {
     "iopub.execute_input": "2021-05-20T11:56:19.923718Z",
     "iopub.status.busy": "2021-05-20T11:56:19.923207Z",
     "iopub.status.idle": "2021-05-20T11:56:21.487043Z",
     "shell.execute_reply": "2021-05-20T11:56:21.483740Z",
     "shell.execute_reply.started": "2021-05-20T11:34:43.533544Z"
    },
    "papermill": {
     "duration": 1.583382,
     "end_time": "2021-05-20T11:56:21.487184",
     "exception": false,
     "start_time": "2021-05-20T11:56:19.903802",
     "status": "completed"
    },
    "tags": []
   },
   "outputs": [],
   "source": [
    "import torch # 파이토치 \n",
    "import random\n",
    "import numpy as np\n",
    "\n",
    "# 시드 값 고정\n",
    "def set_seed(seed):\n",
    "#     torch.use_deterministic_algorithms(True)\n",
    "    torch.backends.cudnn.deterministic = True\n",
    "    torch.backends.cudnn.benchmark = False\n",
    "    torch.manual_seed(seed)\n",
    "    torch.cuda.manual_seed_all(seed)\n",
    "    np.random.seed(seed)\n",
    "    random.seed(seed)\n",
    "\n",
    "set_seed(10)"
   ]
  },
  {
   "cell_type": "code",
   "execution_count": 4,
   "id": "deluxe-veteran",
   "metadata": {
    "execution": {
     "iopub.execute_input": "2021-05-20T11:56:21.595618Z",
     "iopub.status.busy": "2021-05-20T11:56:21.594919Z",
     "iopub.status.idle": "2021-05-20T11:56:21.599690Z",
     "shell.execute_reply": "2021-05-20T11:56:21.598873Z",
     "shell.execute_reply.started": "2021-05-20T11:34:45.328713Z"
    },
    "papermill": {
     "duration": 0.095999,
     "end_time": "2021-05-20T11:56:21.599809",
     "exception": false,
     "start_time": "2021-05-20T11:56:21.503810",
     "status": "completed"
    },
    "tags": []
   },
   "outputs": [],
   "source": [
    "device = torch.device('cuda' if torch.cuda.is_available() else 'cpu')"
   ]
  },
  {
   "cell_type": "code",
   "execution_count": 5,
   "id": "identical-orange",
   "metadata": {
    "_uuid": "c07eab67e573c7de05e11065b5bafc1bbff284fb",
    "execution": {
     "iopub.execute_input": "2021-05-20T11:56:21.634239Z",
     "iopub.status.busy": "2021-05-20T11:56:21.633614Z",
     "iopub.status.idle": "2021-05-20T11:56:22.454936Z",
     "shell.execute_reply": "2021-05-20T11:56:22.455378Z",
     "shell.execute_reply.started": "2021-05-20T11:34:45.420029Z"
    },
    "papermill": {
     "duration": 0.840612,
     "end_time": "2021-05-20T11:56:22.455538",
     "exception": false,
     "start_time": "2021-05-20T11:56:21.614926",
     "status": "completed"
    },
    "tags": []
   },
   "outputs": [],
   "source": [
    "from sklearn.model_selection import train_test_split\n",
    "\n",
    "# 훈련 데이터, 검증 데이터 분리\n",
    "train, valid = train_test_split(labels, \n",
    "                                test_size=0.1,\n",
    "                                stratify=labels['has_cactus'],\n",
    "                                random_state=10)"
   ]
  },
  {
   "cell_type": "code",
   "execution_count": 6,
   "id": "equivalent-respect",
   "metadata": {
    "_uuid": "1b05af8d59d9d5b092e96f72dfebb19591416de9",
    "execution": {
     "iopub.execute_input": "2021-05-20T11:56:22.502955Z",
     "iopub.status.busy": "2021-05-20T11:56:22.502097Z",
     "iopub.status.idle": "2021-05-20T11:56:22.771347Z",
     "shell.execute_reply": "2021-05-20T11:56:22.770523Z",
     "shell.execute_reply.started": "2021-05-20T11:34:46.489873Z"
    },
    "papermill": {
     "duration": 0.299148,
     "end_time": "2021-05-20T11:56:22.771477",
     "exception": false,
     "start_time": "2021-05-20T11:56:22.472329",
     "status": "completed"
    },
    "tags": []
   },
   "outputs": [],
   "source": [
    "import cv2\n",
    "from torch.utils.data import Dataset # 데이터 생성을 위한 클래스\n",
    "\n",
    "class ImageDataset(Dataset):\n",
    "    # 초기화 메서드(생성자)\n",
    "    def __init__(self, df, img_dir = './', transform=None):\n",
    "        super().__init__() # 상속받은 Dataset의 __init__() 메서드 호출 \n",
    "        self.df = df\n",
    "        self.img_dir = img_dir\n",
    "        self.transform = transform\n",
    "    \n",
    "    # 데이터 세트 크기 반환 메서드 \n",
    "    def __len__(self):\n",
    "        return len(self.df)\n",
    "    \n",
    "    # 인덱스(idx)에 해당하는 데이터 반환 메서드 \n",
    "    def __getitem__(self, idx):\n",
    "        img_path = self.img_dir + self.df.iloc[idx, 0] # 이미지 파일 경로 \n",
    "        image = cv2.imread(img_path) # 이미지 파일 읽기 \n",
    "        image = cv2.cvtColor(image, cv2.COLOR_BGR2RGB) # 이미지 색상 보정\n",
    "        label = self.df.iloc[idx, 1] # 이미지 레이블(타깃 값)\n",
    "        # 이미지 변환\n",
    "        if self.transform is not None:\n",
    "            image = self.transform(image)\n",
    "        return image, label"
   ]
  },
  {
   "cell_type": "code",
   "execution_count": 7,
   "id": "noted-edward",
   "metadata": {
    "execution": {
     "iopub.execute_input": "2021-05-20T11:56:22.808184Z",
     "iopub.status.busy": "2021-05-20T11:56:22.807519Z",
     "iopub.status.idle": "2021-05-20T11:56:22.945417Z",
     "shell.execute_reply": "2021-05-20T11:56:22.944973Z",
     "shell.execute_reply.started": "2021-05-20T11:34:46.829954Z"
    },
    "papermill": {
     "duration": 0.158597,
     "end_time": "2021-05-20T11:56:22.945537",
     "exception": false,
     "start_time": "2021-05-20T11:56:22.786940",
     "status": "completed"
    },
    "tags": []
   },
   "outputs": [],
   "source": [
    "from torchvision import transforms # 이미지 변환을 위한 모듈\n",
    "\n",
    "# 훈련 데이터용 변환기\n",
    "transform_train = transforms.Compose([transforms.ToPILImage(),\n",
    "                                      transforms.Pad(32, padding_mode='symmetric'),\n",
    "                                      transforms.RandomHorizontalFlip(),\n",
    "                                      transforms.RandomVerticalFlip(),\n",
    "                                      transforms.RandomRotation(10),\n",
    "                                      transforms.ToTensor(),\n",
    "                                      transforms.Normalize(mean=[0.5, 0.5, 0.5],\n",
    "                                                           std=[0.2, 0.2, 0.2])])\n",
    "# 검증 및 테스트 데이터용 변환기\n",
    "transform_test= transforms.Compose([transforms.ToPILImage(),\n",
    "                                    transforms.Pad(32, padding_mode='symmetric'),\n",
    "                                    transforms.ToTensor(),\n",
    "                                    transforms.Normalize(mean=[0.5, 0.5, 0.5],\n",
    "                                                         std=[0.2, 0.2, 0.2])])"
   ]
  },
  {
   "cell_type": "code",
   "execution_count": 8,
   "id": "greater-canyon",
   "metadata": {
    "execution": {
     "iopub.execute_input": "2021-05-20T11:56:22.979261Z",
     "iopub.status.busy": "2021-05-20T11:56:22.978726Z",
     "iopub.status.idle": "2021-05-20T11:56:22.982533Z",
     "shell.execute_reply": "2021-05-20T11:56:22.982145Z",
     "shell.execute_reply.started": "2021-05-20T11:34:47.016040Z"
    },
    "papermill": {
     "duration": 0.022136,
     "end_time": "2021-05-20T11:56:22.982637",
     "exception": false,
     "start_time": "2021-05-20T11:56:22.960501",
     "status": "completed"
    },
    "tags": []
   },
   "outputs": [],
   "source": [
    "dataset_train = ImageDataset(df=train, img_dir='train/', transform=transform_train)\n",
    "dataset_valid = ImageDataset(df=valid, img_dir='train/', transform=transform_test)"
   ]
  },
  {
   "cell_type": "code",
   "execution_count": 9,
   "id": "decreased-preview",
   "metadata": {
    "_uuid": "c247391c28497ad35c72f5218398ea71f2d0d5ff",
    "execution": {
     "iopub.execute_input": "2021-05-20T11:56:23.015842Z",
     "iopub.status.busy": "2021-05-20T11:56:23.015351Z",
     "iopub.status.idle": "2021-05-20T11:56:23.019117Z",
     "shell.execute_reply": "2021-05-20T11:56:23.018692Z",
     "shell.execute_reply.started": "2021-05-20T11:34:47.026573Z"
    },
    "papermill": {
     "duration": 0.02195,
     "end_time": "2021-05-20T11:56:23.019220",
     "exception": false,
     "start_time": "2021-05-20T11:56:22.997270",
     "status": "completed"
    },
    "tags": []
   },
   "outputs": [],
   "source": [
    "from torch.utils.data import DataLoader # 데이터 로더 생성을 위한 클래스\n",
    "\n",
    "loader_train = DataLoader(dataset=dataset_train, batch_size=64, \n",
    "                          shuffle=True)\n",
    "loader_valid = DataLoader(dataset=dataset_valid, batch_size=64, \n",
    "                          shuffle=False)"
   ]
  },
  {
   "cell_type": "code",
   "execution_count": 10,
   "id": "diagnostic-montreal",
   "metadata": {
    "_uuid": "0a2d5600bc2eb915ec0bdf5b52ba11e25096f7d0",
    "execution": {
     "iopub.execute_input": "2021-05-20T11:56:23.056454Z",
     "iopub.status.busy": "2021-05-20T11:56:23.055939Z",
     "iopub.status.idle": "2021-05-20T11:56:23.063305Z",
     "shell.execute_reply": "2021-05-20T11:56:23.063727Z",
     "shell.execute_reply.started": "2021-05-20T11:34:47.038745Z"
    },
    "papermill": {
     "duration": 0.029744,
     "end_time": "2021-05-20T11:56:23.063837",
     "exception": false,
     "start_time": "2021-05-20T11:56:23.034093",
     "status": "completed"
    },
    "tags": []
   },
   "outputs": [],
   "source": [
    "import torch.nn as nn # 신경망 모듈\n",
    "import torch.nn.functional as F # 신경망 모듈에서 자주 사용되는 함수\n",
    "\n",
    "class Model(nn.Module):\n",
    "    # 신경망 계층 정의\n",
    "    def __init__(self):\n",
    "        super().__init__() # 상속받은 nn.Module의 __init__() 메서드 호출\n",
    "        # 첫 번째 ~ 다섯 번째 합성곱, 배치 정규화, 최대 풀링 계층 \n",
    "        self.layer1 = nn.Sequential(nn.Conv2d(in_channels=3, out_channels=32,\n",
    "                                              kernel_size=3, padding=2),\n",
    "                                    nn.BatchNorm2d(32), # 배치 정규화 ---①\n",
    "                                    nn.LeakyReLU(), # LeakyReLU 활성화 함수 ---②\n",
    "                                    nn.MaxPool2d(kernel_size=2))\n",
    "\n",
    "        self.layer2 = nn.Sequential(nn.Conv2d(in_channels=32, out_channels=64,\n",
    "                                              kernel_size=3, padding=2),\n",
    "                                    nn.BatchNorm2d(64),\n",
    "                                    nn.LeakyReLU(),\n",
    "                                    nn.MaxPool2d(kernel_size=2))\n",
    "        \n",
    "        self.layer3 = nn.Sequential(nn.Conv2d(in_channels=64, out_channels=128,\n",
    "                                              kernel_size=3, padding=2),\n",
    "                                    nn.BatchNorm2d(128),\n",
    "                                    nn.LeakyReLU(),\n",
    "                                    nn.MaxPool2d(kernel_size=2))\n",
    "        \n",
    "        self.layer4 = nn.Sequential(nn.Conv2d(in_channels=128, out_channels=256,\n",
    "                                              kernel_size=3, padding=2),\n",
    "                                    nn.BatchNorm2d(256),\n",
    "                                    nn.LeakyReLU(),\n",
    "                                    nn.MaxPool2d(kernel_size=2))\n",
    "        \n",
    "        self.layer5 = nn.Sequential(nn.Conv2d(in_channels=256, out_channels=512,\n",
    "                                              kernel_size=3, padding=2),\n",
    "                                    nn.BatchNorm2d(512),\n",
    "                                    nn.LeakyReLU(),\n",
    "                                    nn.MaxPool2d(kernel_size=2))\n",
    "        # 평균 풀링 계층 \n",
    "        self.avg_pool = nn.AvgPool2d(kernel_size=4) \n",
    "        # 전결합 계층 ---③\n",
    "        self.fc1 = nn.Linear(in_features=512 * 1 * 1, out_features=64)\n",
    "        self.fc2 = nn.Linear(in_features=64, out_features=2)\n",
    "\n",
    "    # 순전파 출력 정의 \n",
    "    def forward(self, x):\n",
    "        x = self.layer1(x)\n",
    "        x = self.layer2(x)\n",
    "        x = self.layer3(x)\n",
    "        x = self.layer4(x)\n",
    "        x = self.layer5(x)\n",
    "        x = self.avg_pool(x)\n",
    "        x = x.view(-1, 512 * 1 * 1) # 평탄화\n",
    "        x = self.fc1(x)\n",
    "        x = self.fc2(x)\n",
    "        return x"
   ]
  },
  {
   "cell_type": "code",
   "execution_count": 11,
   "id": "black-reserve",
   "metadata": {
    "_cell_guid": "79c7e3d0-c299-4dcb-8224-4455121ee9b0",
    "_uuid": "d629ff2d2480ee46fbb7e2d37f6b5fab8052498a",
    "execution": {
     "iopub.execute_input": "2021-05-20T11:56:23.097751Z",
     "iopub.status.busy": "2021-05-20T11:56:23.097259Z",
     "iopub.status.idle": "2021-05-20T11:56:26.722179Z",
     "shell.execute_reply": "2021-05-20T11:56:26.721744Z",
     "shell.execute_reply.started": "2021-05-20T11:34:47.059758Z"
    },
    "papermill": {
     "duration": 3.643158,
     "end_time": "2021-05-20T11:56:26.722302",
     "exception": false,
     "start_time": "2021-05-20T11:56:23.079144",
     "status": "completed"
    },
    "tags": []
   },
   "outputs": [
    {
     "data": {
      "text/plain": [
       "Model(\n",
       "  (layer1): Sequential(\n",
       "    (0): Conv2d(3, 32, kernel_size=(3, 3), stride=(1, 1), padding=(2, 2))\n",
       "    (1): BatchNorm2d(32, eps=1e-05, momentum=0.1, affine=True, track_running_stats=True)\n",
       "    (2): LeakyReLU(negative_slope=0.01)\n",
       "    (3): MaxPool2d(kernel_size=2, stride=2, padding=0, dilation=1, ceil_mode=False)\n",
       "  )\n",
       "  (layer2): Sequential(\n",
       "    (0): Conv2d(32, 64, kernel_size=(3, 3), stride=(1, 1), padding=(2, 2))\n",
       "    (1): BatchNorm2d(64, eps=1e-05, momentum=0.1, affine=True, track_running_stats=True)\n",
       "    (2): LeakyReLU(negative_slope=0.01)\n",
       "    (3): MaxPool2d(kernel_size=2, stride=2, padding=0, dilation=1, ceil_mode=False)\n",
       "  )\n",
       "  (layer3): Sequential(\n",
       "    (0): Conv2d(64, 128, kernel_size=(3, 3), stride=(1, 1), padding=(2, 2))\n",
       "    (1): BatchNorm2d(128, eps=1e-05, momentum=0.1, affine=True, track_running_stats=True)\n",
       "    (2): LeakyReLU(negative_slope=0.01)\n",
       "    (3): MaxPool2d(kernel_size=2, stride=2, padding=0, dilation=1, ceil_mode=False)\n",
       "  )\n",
       "  (layer4): Sequential(\n",
       "    (0): Conv2d(128, 256, kernel_size=(3, 3), stride=(1, 1), padding=(2, 2))\n",
       "    (1): BatchNorm2d(256, eps=1e-05, momentum=0.1, affine=True, track_running_stats=True)\n",
       "    (2): LeakyReLU(negative_slope=0.01)\n",
       "    (3): MaxPool2d(kernel_size=2, stride=2, padding=0, dilation=1, ceil_mode=False)\n",
       "  )\n",
       "  (layer5): Sequential(\n",
       "    (0): Conv2d(256, 512, kernel_size=(3, 3), stride=(1, 1), padding=(2, 2))\n",
       "    (1): BatchNorm2d(512, eps=1e-05, momentum=0.1, affine=True, track_running_stats=True)\n",
       "    (2): LeakyReLU(negative_slope=0.01)\n",
       "    (3): MaxPool2d(kernel_size=2, stride=2, padding=0, dilation=1, ceil_mode=False)\n",
       "  )\n",
       "  (avg_pool): AvgPool2d(kernel_size=4, stride=4, padding=0)\n",
       "  (fc1): Linear(in_features=512, out_features=64, bias=True)\n",
       "  (fc2): Linear(in_features=64, out_features=2, bias=True)\n",
       ")"
      ]
     },
     "execution_count": 11,
     "metadata": {},
     "output_type": "execute_result"
    }
   ],
   "source": [
    "model = Model().to(device)\n",
    "\n",
    "model"
   ]
  },
  {
   "cell_type": "code",
   "execution_count": 12,
   "id": "neural-desktop",
   "metadata": {
    "execution": {
     "iopub.execute_input": "2021-05-20T11:56:26.757961Z",
     "iopub.status.busy": "2021-05-20T11:56:26.757030Z",
     "iopub.status.idle": "2021-05-20T11:56:26.760094Z",
     "shell.execute_reply": "2021-05-20T11:56:26.759568Z",
     "shell.execute_reply.started": "2021-05-20T11:34:51.895218Z"
    },
    "papermill": {
     "duration": 0.022034,
     "end_time": "2021-05-20T11:56:26.760200",
     "exception": false,
     "start_time": "2021-05-20T11:56:26.738166",
     "status": "completed"
    },
    "tags": []
   },
   "outputs": [],
   "source": [
    "# 손실함수\n",
    "criterion = nn.CrossEntropyLoss()"
   ]
  },
  {
   "cell_type": "code",
   "execution_count": 13,
   "id": "congressional-trader",
   "metadata": {
    "_uuid": "fceb2929d8750acb2de745cd9ff3d2d458820df8",
    "execution": {
     "iopub.execute_input": "2021-05-20T11:56:26.794795Z",
     "iopub.status.busy": "2021-05-20T11:56:26.794126Z",
     "iopub.status.idle": "2021-05-20T11:56:26.796661Z",
     "shell.execute_reply": "2021-05-20T11:56:26.797080Z",
     "shell.execute_reply.started": "2021-05-20T11:34:51.903177Z"
    },
    "papermill": {
     "duration": 0.021744,
     "end_time": "2021-05-20T11:56:26.797197",
     "exception": false,
     "start_time": "2021-05-20T11:56:26.775453",
     "status": "completed"
    },
    "tags": []
   },
   "outputs": [],
   "source": [
    "# 옵티마이저\n",
    "optimizer = torch.optim.Adamax(model.parameters(), lr=0.0002)"
   ]
  },
  {
   "cell_type": "code",
   "execution_count": 14,
   "id": "palestinian-compiler",
   "metadata": {
    "_uuid": "2c37417ae6b62ab4551bc8a888916ca1e591d284",
    "execution": {
     "iopub.execute_input": "2021-05-20T11:56:26.835743Z",
     "iopub.status.busy": "2021-05-20T11:56:26.835125Z",
     "iopub.status.idle": "2021-05-20T12:10:34.104013Z",
     "shell.execute_reply": "2021-05-20T12:10:34.103192Z",
     "shell.execute_reply.started": "2021-05-20T11:34:51.917797Z"
    },
    "papermill": {
     "duration": 847.291679,
     "end_time": "2021-05-20T12:10:34.104149",
     "exception": false,
     "start_time": "2021-05-20T11:56:26.812470",
     "status": "completed"
    },
    "tags": []
   },
   "outputs": [
    {
     "name": "stdout",
     "output_type": "stream",
     "text": [
      "에폭: [1/35], 손실값: 0.0953\n",
      "에폭: [2/35], 손실값: 0.0508\n",
      "에폭: [3/35], 손실값: 0.0414\n",
      "에폭: [4/35], 손실값: 0.0317\n",
      "에폭: [5/35], 손실값: 0.0274\n",
      "에폭: [6/35], 손실값: 0.0251\n",
      "에폭: [7/35], 손실값: 0.0217\n",
      "에폭: [8/35], 손실값: 0.0216\n",
      "에폭: [9/35], 손실값: 0.0209\n",
      "에폭: [10/35], 손실값: 0.0160\n",
      "에폭: [11/35], 손실값: 0.0171\n",
      "에폭: [12/35], 손실값: 0.0146\n",
      "에폭: [13/35], 손실값: 0.0113\n",
      "에폭: [14/35], 손실값: 0.0135\n",
      "에폭: [15/35], 손실값: 0.0121\n",
      "에폭: [16/35], 손실값: 0.0117\n",
      "에폭: [17/35], 손실값: 0.0119\n",
      "에폭: [18/35], 손실값: 0.0090\n",
      "에폭: [19/35], 손실값: 0.0108\n",
      "에폭: [20/35], 손실값: 0.0086\n",
      "에폭: [21/35], 손실값: 0.0071\n",
      "에폭: [22/35], 손실값: 0.0072\n",
      "에폭: [23/35], 손실값: 0.0067\n",
      "에폭: [24/35], 손실값: 0.0069\n",
      "에폭: [25/35], 손실값: 0.0074\n",
      "에폭: [26/35], 손실값: 0.0047\n",
      "에폭: [27/35], 손실값: 0.0067\n",
      "에폭: [28/35], 손실값: 0.0081\n",
      "에폭: [29/35], 손실값: 0.0090\n",
      "에폭: [30/35], 손실값: 0.0049\n",
      "에폭: [31/35], 손실값: 0.0059\n",
      "에폭: [32/35], 손실값: 0.0065\n",
      "에폭: [33/35], 손실값: 0.0049\n",
      "에폭: [34/35], 손실값: 0.0024\n",
      "에폭: [35/35], 손실값: 0.0028\n"
     ]
    }
   ],
   "source": [
    "epochs = 35 # 총 에폭\n",
    "\n",
    "# 총 35에폭만큼 훈련\n",
    "for epoch in range(epochs):\n",
    "    epoch_loss = 0 # 에폭별 손실값 초기화\n",
    "    # 미니배치 크기만큼 데이터를 추출하는 작업을 '반복 횟수'만큼 반복 \n",
    "    for images, labels in loader_train:\n",
    "        # 이미지, 레이블 데이터 미니배치를 장비에 할당 \n",
    "        images = images.to(device)\n",
    "        labels = labels.to(device)\n",
    "        \n",
    "        # 옵티마이저 내 기울기 초기화\n",
    "        optimizer.zero_grad()\n",
    "        # 이미지 데이터를 신경망 모델의 입력값으로 사용해 출력값 계산\n",
    "        outputs = model(images)\n",
    "        # 손실함수를 활용해 outputs와 labels의 손실값 계산\n",
    "        loss = criterion(outputs, labels)\n",
    "        # 역전파 수행\n",
    "        loss.backward()\n",
    "        # 가중치 갱신\n",
    "        optimizer.step()\n",
    "        \n",
    "        epoch_loss += loss.item() # 현재 배치에서의 손실 추가\n",
    "        \n",
    "    print(f'에폭: [{epoch+1}/{epochs}], 손실값: {epoch_loss/len(loader_train):.4f}')"
   ]
  },
  {
   "cell_type": "code",
   "execution_count": 15,
   "id": "architectural-liabilities",
   "metadata": {
    "execution": {
     "iopub.execute_input": "2021-05-20T12:10:34.158980Z",
     "iopub.status.busy": "2021-05-20T12:10:34.158061Z",
     "iopub.status.idle": "2021-05-20T12:10:35.904552Z",
     "shell.execute_reply": "2021-05-20T12:10:35.905157Z",
     "shell.execute_reply.started": "2021-05-20T11:52:14.218985Z"
    },
    "papermill": {
     "duration": 1.777139,
     "end_time": "2021-05-20T12:10:35.905351",
     "exception": false,
     "start_time": "2021-05-20T12:10:34.128212",
     "status": "completed"
    },
    "tags": []
   },
   "outputs": [
    {
     "name": "stdout",
     "output_type": "stream",
     "text": [
      "검증 데이터 ROC AUC : 1.0000\n"
     ]
    }
   ],
   "source": [
    "from sklearn.metrics import roc_auc_score # ROC AUC 점수 계산 함수\n",
    "\n",
    "# 예측 확률값과 실제값을 담을 리스트 초기화\n",
    "true_list = []\n",
    "preds_list = []\n",
    "\n",
    "model.eval() # 모델을 평가 상태로 설정 \n",
    "\n",
    "with torch.no_grad(): # 기울기 계산 비활성 \n",
    "    for images, labels in loader_valid:\n",
    "        # 이미지, 레이블 데이터 미니배치를 장비에 할당 \n",
    "        images = images.to(device)\n",
    "        labels = labels.to(device)\n",
    "        # 이미지 데이터를 신경망 모델의 입력값으로 사용해 출력값 계산\n",
    "        outputs = model(images)\n",
    "        preds = torch.softmax(outputs.cpu(), dim=1)[:, 1] # 예측 확률값 \n",
    "        true = labels.cpu() # 실제값 \n",
    "        # 예측 확률값과 실제값을 리스트에 추가\n",
    "        preds_list.extend(preds)\n",
    "        true_list.extend(true)\n",
    "        \n",
    "    # 검증 데이터 ROC AUC 점수 계산 \n",
    "    print(f'검증 데이터 ROC AUC : {roc_auc_score(true_list, preds_list):.4f}')"
   ]
  },
  {
   "cell_type": "code",
   "execution_count": 16,
   "id": "acute-inclusion",
   "metadata": {
    "_uuid": "870413a60281e0c4115fbc7cf192508e15a9e269",
    "execution": {
     "iopub.execute_input": "2021-05-20T12:10:35.958760Z",
     "iopub.status.busy": "2021-05-20T12:10:35.958271Z",
     "iopub.status.idle": "2021-05-20T12:10:35.961909Z",
     "shell.execute_reply": "2021-05-20T12:10:35.961461Z",
     "shell.execute_reply.started": "2021-05-20T11:52:16.399416Z"
    },
    "papermill": {
     "duration": 0.03188,
     "end_time": "2021-05-20T12:10:35.962070",
     "exception": false,
     "start_time": "2021-05-20T12:10:35.930190",
     "status": "completed"
    },
    "tags": []
   },
   "outputs": [],
   "source": [
    "dataset_test = ImageDataset(df=submission, img_dir='test/', transform=transform_test)\n",
    "loader_test = DataLoader(dataset=dataset_test, batch_size=64, \n",
    "                         shuffle=False)"
   ]
  },
  {
   "cell_type": "code",
   "execution_count": 17,
   "id": "tutorial-federal",
   "metadata": {
    "execution": {
     "iopub.execute_input": "2021-05-20T12:10:36.016073Z",
     "iopub.status.busy": "2021-05-20T12:10:36.015211Z",
     "iopub.status.idle": "2021-05-20T12:10:40.145267Z",
     "shell.execute_reply": "2021-05-20T12:10:40.144251Z",
     "shell.execute_reply.started": "2021-05-20T11:52:16.408009Z"
    },
    "papermill": {
     "duration": 4.159381,
     "end_time": "2021-05-20T12:10:40.145420",
     "exception": false,
     "start_time": "2021-05-20T12:10:35.986039",
     "status": "completed"
    },
    "tags": []
   },
   "outputs": [],
   "source": [
    "model.eval() # 모델을 평가 상태로 설정\n",
    "\n",
    "preds = [] # 타깃 예측 값 저장용 변수 초기화\n",
    "\n",
    "with torch.no_grad(): # 기울기 계산 비활성\n",
    "    for images, _ in loader_test:\n",
    "        # 이미지 데이터 미니배치를 장비에 할당\n",
    "        images = images.to(device)\n",
    "        # 이미지 데이터를 신경망 모델의 입력값으로 사용해 출력값 계산\n",
    "        outputs = model(images)\n",
    "        # 타깃 값이 1일 확률(예측 값)\n",
    "        preds_part = torch.softmax(outputs.cpu(), dim=1)[:, 1].tolist()\n",
    "        # preds에 preds_part 이어붙이기\n",
    "        preds.extend(preds_part)"
   ]
  },
  {
   "cell_type": "code",
   "execution_count": 18,
   "id": "postal-smart",
   "metadata": {
    "execution": {
     "iopub.execute_input": "2021-05-20T12:10:40.199827Z",
     "iopub.status.busy": "2021-05-20T12:10:40.199086Z",
     "iopub.status.idle": "2021-05-20T12:10:40.354560Z",
     "shell.execute_reply": "2021-05-20T12:10:40.354082Z",
     "shell.execute_reply.started": "2021-05-20T11:52:21.447000Z"
    },
    "papermill": {
     "duration": 0.18474,
     "end_time": "2021-05-20T12:10:40.354679",
     "exception": false,
     "start_time": "2021-05-20T12:10:40.169939",
     "status": "completed"
    },
    "tags": []
   },
   "outputs": [],
   "source": [
    "submission['has_cactus'] = preds\n",
    "submission.to_csv('submission.csv', index=False)"
   ]
  },
  {
   "cell_type": "code",
   "execution_count": 19,
   "id": "wired-browser",
   "metadata": {
    "execution": {
     "iopub.execute_input": "2021-05-20T12:10:40.412786Z",
     "iopub.status.busy": "2021-05-20T12:10:40.411978Z",
     "iopub.status.idle": "2021-05-20T12:10:40.419519Z",
     "shell.execute_reply": "2021-05-20T12:10:40.419940Z",
     "shell.execute_reply.started": "2021-05-20T11:52:21.814473Z"
    },
    "papermill": {
     "duration": 0.041135,
     "end_time": "2021-05-20T12:10:40.420070",
     "exception": false,
     "start_time": "2021-05-20T12:10:40.378935",
     "status": "completed"
    },
    "tags": []
   },
   "outputs": [
    {
     "data": {
      "text/html": [
       "<div>\n",
       "<style scoped>\n",
       "    .dataframe tbody tr th:only-of-type {\n",
       "        vertical-align: middle;\n",
       "    }\n",
       "\n",
       "    .dataframe tbody tr th {\n",
       "        vertical-align: top;\n",
       "    }\n",
       "\n",
       "    .dataframe thead th {\n",
       "        text-align: right;\n",
       "    }\n",
       "</style>\n",
       "<table border=\"1\" class=\"dataframe\">\n",
       "  <thead>\n",
       "    <tr style=\"text-align: right;\">\n",
       "      <th></th>\n",
       "      <th>id</th>\n",
       "      <th>has_cactus</th>\n",
       "    </tr>\n",
       "  </thead>\n",
       "  <tbody>\n",
       "    <tr>\n",
       "      <th>0</th>\n",
       "      <td>000940378805c44108d287872b2f04ce.jpg</td>\n",
       "      <td>1.000000</td>\n",
       "    </tr>\n",
       "    <tr>\n",
       "      <th>1</th>\n",
       "      <td>0017242f54ececa4512b4d7937d1e21e.jpg</td>\n",
       "      <td>1.000000</td>\n",
       "    </tr>\n",
       "    <tr>\n",
       "      <th>2</th>\n",
       "      <td>001ee6d8564003107853118ab87df407.jpg</td>\n",
       "      <td>0.000002</td>\n",
       "    </tr>\n",
       "    <tr>\n",
       "      <th>3</th>\n",
       "      <td>002e175c3c1e060769475f52182583d0.jpg</td>\n",
       "      <td>0.000013</td>\n",
       "    </tr>\n",
       "    <tr>\n",
       "      <th>4</th>\n",
       "      <td>0036e44a7e8f7218e9bc7bf8137e4943.jpg</td>\n",
       "      <td>0.097327</td>\n",
       "    </tr>\n",
       "    <tr>\n",
       "      <th>...</th>\n",
       "      <td>...</td>\n",
       "      <td>...</td>\n",
       "    </tr>\n",
       "    <tr>\n",
       "      <th>3995</th>\n",
       "      <td>ffaafd0c9f2f0e73172848463bc2e523.jpg</td>\n",
       "      <td>0.999974</td>\n",
       "    </tr>\n",
       "    <tr>\n",
       "      <th>3996</th>\n",
       "      <td>ffae37344310a1549162493237d25d3f.jpg</td>\n",
       "      <td>1.000000</td>\n",
       "    </tr>\n",
       "    <tr>\n",
       "      <th>3997</th>\n",
       "      <td>ffbd469c56873d064326204aac546e0d.jpg</td>\n",
       "      <td>1.000000</td>\n",
       "    </tr>\n",
       "    <tr>\n",
       "      <th>3998</th>\n",
       "      <td>ffcb76b7d47f29ece11c751e5f763f52.jpg</td>\n",
       "      <td>1.000000</td>\n",
       "    </tr>\n",
       "    <tr>\n",
       "      <th>3999</th>\n",
       "      <td>fffed17d1a8e0433a934db518d7f532c.jpg</td>\n",
       "      <td>1.000000</td>\n",
       "    </tr>\n",
       "  </tbody>\n",
       "</table>\n",
       "<p>4000 rows × 2 columns</p>\n",
       "</div>"
      ],
      "text/plain": [
       "                                        id  has_cactus\n",
       "0     000940378805c44108d287872b2f04ce.jpg    1.000000\n",
       "1     0017242f54ececa4512b4d7937d1e21e.jpg    1.000000\n",
       "2     001ee6d8564003107853118ab87df407.jpg    0.000002\n",
       "3     002e175c3c1e060769475f52182583d0.jpg    0.000013\n",
       "4     0036e44a7e8f7218e9bc7bf8137e4943.jpg    0.097327\n",
       "...                                    ...         ...\n",
       "3995  ffaafd0c9f2f0e73172848463bc2e523.jpg    0.999974\n",
       "3996  ffae37344310a1549162493237d25d3f.jpg    1.000000\n",
       "3997  ffbd469c56873d064326204aac546e0d.jpg    1.000000\n",
       "3998  ffcb76b7d47f29ece11c751e5f763f52.jpg    1.000000\n",
       "3999  fffed17d1a8e0433a934db518d7f532c.jpg    1.000000\n",
       "\n",
       "[4000 rows x 2 columns]"
      ]
     },
     "execution_count": 19,
     "metadata": {},
     "output_type": "execute_result"
    }
   ],
   "source": [
    "submission"
   ]
  },
  {
   "cell_type": "code",
   "execution_count": 20,
   "id": "monthly-clear",
   "metadata": {
    "execution": {
     "iopub.execute_input": "2021-05-20T12:10:40.473173Z",
     "iopub.status.busy": "2021-05-20T12:10:40.472398Z",
     "iopub.status.idle": "2021-05-20T12:10:41.011904Z",
     "shell.execute_reply": "2021-05-20T12:10:41.011317Z",
     "shell.execute_reply.started": "2021-05-20T11:52:21.841496Z"
    },
    "papermill": {
     "duration": 0.567106,
     "end_time": "2021-05-20T12:10:41.012036",
     "exception": false,
     "start_time": "2021-05-20T12:10:40.444930",
     "status": "completed"
    },
    "tags": []
   },
   "outputs": [],
   "source": [
    "import shutil\n",
    "\n",
    "shutil.rmtree('./train')\n",
    "shutil.rmtree('./test')"
   ]
  }
 ],
 "metadata": {
  "kernelspec": {
   "display_name": "Python 3",
   "language": "python",
   "name": "python3"
  },
  "language_info": {
   "codemirror_mode": {
    "name": "ipython",
    "version": 3
   },
   "file_extension": ".py",
   "mimetype": "text/x-python",
   "name": "python",
   "nbconvert_exporter": "python",
   "pygments_lexer": "ipython3",
   "version": "3.7.9"
  },
  "papermill": {
   "default_parameters": {},
   "duration": 870.071196,
   "end_time": "2021-05-20T12:10:41.945465",
   "environment_variables": {},
   "exception": null,
   "input_path": "__notebook__.ipynb",
   "output_path": "__notebook__.ipynb",
   "parameters": {},
   "start_time": "2021-05-20T11:56:11.874269",
   "version": "2.3.2"
  }
 },
 "nbformat": 4,
 "nbformat_minor": 5
}
