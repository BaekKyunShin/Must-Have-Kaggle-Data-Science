{
 "cells": [
  {
   "cell_type": "code",
   "execution_count": 1,
   "id": "unlimited-savings",
   "metadata": {
    "_uuid": "001d0b8a8b818c57a55fa4e20b5cae060a749cdc",
    "execution": {
     "iopub.execute_input": "2021-05-04T07:20:45.760639Z",
     "iopub.status.busy": "2021-05-04T07:20:45.759904Z",
     "iopub.status.idle": "2021-05-04T07:20:45.817555Z",
     "shell.execute_reply": "2021-05-04T07:20:45.816322Z"
    },
    "papermill": {
     "duration": 0.086023,
     "end_time": "2021-05-04T07:20:45.817772",
     "exception": false,
     "start_time": "2021-05-04T07:20:45.731749",
     "status": "completed"
    },
    "tags": []
   },
   "outputs": [],
   "source": [
    "import pandas as pd\n",
    "\n",
    "# 데이터 경로\n",
    "data_path = '/kaggle/input/aerial-cactus-identification/'\n",
    "\n",
    "labels = pd.read_csv(data_path + 'train.csv')\n",
    "submission = pd.read_csv(data_path + 'sample_submission.csv')"
   ]
  },
  {
   "cell_type": "code",
   "execution_count": 2,
   "id": "foreign-peter",
   "metadata": {
    "execution": {
     "iopub.execute_input": "2021-05-04T07:20:45.856072Z",
     "iopub.status.busy": "2021-05-04T07:20:45.855292Z",
     "iopub.status.idle": "2021-05-04T07:20:51.339262Z",
     "shell.execute_reply": "2021-05-04T07:20:51.338166Z"
    },
    "papermill": {
     "duration": 5.505089,
     "end_time": "2021-05-04T07:20:51.339428",
     "exception": false,
     "start_time": "2021-05-04T07:20:45.834339",
     "status": "completed"
    },
    "tags": []
   },
   "outputs": [],
   "source": [
    "from zipfile import ZipFile\n",
    "\n",
    "# 훈련 이미지 데이터 압축 풀기\n",
    "with ZipFile(data_path + 'train.zip') as zipper:\n",
    "    zipper.extractall()\n",
    "    \n",
    "# 테스트 이미지 데이터 압 풀기\n",
    "with ZipFile(data_path + 'test.zip') as zipper:\n",
    "    zipper.extractall()"
   ]
  },
  {
   "cell_type": "code",
   "execution_count": 3,
   "id": "operational-carry",
   "metadata": {
    "execution": {
     "iopub.execute_input": "2021-05-04T07:20:51.378553Z",
     "iopub.status.busy": "2021-05-04T07:20:51.377601Z",
     "iopub.status.idle": "2021-05-04T07:20:53.133612Z",
     "shell.execute_reply": "2021-05-04T07:20:53.132345Z"
    },
    "papermill": {
     "duration": 1.778617,
     "end_time": "2021-05-04T07:20:53.133795",
     "exception": false,
     "start_time": "2021-05-04T07:20:51.355178",
     "status": "completed"
    },
    "tags": []
   },
   "outputs": [],
   "source": [
    "import torch # 파이토치 \n",
    "import random\n",
    "import numpy as np\n",
    "\n",
    "# 시드 값 고정\n",
    "def set_seed(seed):\n",
    "#     torch.use_deterministic_algorithms(True)\n",
    "    torch.backends.cudnn.deterministic = True\n",
    "    torch.backends.cudnn.benchmark = False\n",
    "    torch.manual_seed(seed)\n",
    "    torch.cuda.manual_seed_all(seed)\n",
    "    np.random.seed(seed)\n",
    "    random.seed(seed)\n",
    "\n",
    "set_seed(10)"
   ]
  },
  {
   "cell_type": "code",
   "execution_count": 4,
   "id": "committed-destruction",
   "metadata": {
    "execution": {
     "iopub.execute_input": "2021-05-04T07:20:53.568720Z",
     "iopub.status.busy": "2021-05-04T07:20:53.567685Z",
     "iopub.status.idle": "2021-05-04T07:20:53.574786Z",
     "shell.execute_reply": "2021-05-04T07:20:53.576267Z"
    },
    "papermill": {
     "duration": 0.426206,
     "end_time": "2021-05-04T07:20:53.576523",
     "exception": false,
     "start_time": "2021-05-04T07:20:53.150317",
     "status": "completed"
    },
    "tags": []
   },
   "outputs": [],
   "source": [
    "device = torch.device('cuda' if torch.cuda.is_available() else 'cpu')"
   ]
  },
  {
   "cell_type": "code",
   "execution_count": 5,
   "id": "champion-alcohol",
   "metadata": {
    "_uuid": "c07eab67e573c7de05e11065b5bafc1bbff284fb",
    "execution": {
     "iopub.execute_input": "2021-05-04T07:20:53.647005Z",
     "iopub.status.busy": "2021-05-04T07:20:53.644886Z",
     "iopub.status.idle": "2021-05-04T07:20:54.712630Z",
     "shell.execute_reply": "2021-05-04T07:20:54.711348Z"
    },
    "papermill": {
     "duration": 1.104605,
     "end_time": "2021-05-04T07:20:54.712825",
     "exception": false,
     "start_time": "2021-05-04T07:20:53.608220",
     "status": "completed"
    },
    "tags": []
   },
   "outputs": [],
   "source": [
    "from sklearn.model_selection import train_test_split\n",
    "\n",
    "# 훈련 데이터, 검증 데이터 분리\n",
    "train, valid = train_test_split(labels, \n",
    "                                test_size=0.1,\n",
    "                                stratify=labels['has_cactus'],\n",
    "                                random_state=10)"
   ]
  },
  {
   "cell_type": "code",
   "execution_count": 6,
   "id": "japanese-motivation",
   "metadata": {
    "_uuid": "1b05af8d59d9d5b092e96f72dfebb19591416de9",
    "execution": {
     "iopub.execute_input": "2021-05-04T07:20:54.762171Z",
     "iopub.status.busy": "2021-05-04T07:20:54.760517Z",
     "iopub.status.idle": "2021-05-04T07:20:55.140320Z",
     "shell.execute_reply": "2021-05-04T07:20:55.139742Z"
    },
    "papermill": {
     "duration": 0.411472,
     "end_time": "2021-05-04T07:20:55.140504",
     "exception": false,
     "start_time": "2021-05-04T07:20:54.729032",
     "status": "completed"
    },
    "tags": []
   },
   "outputs": [],
   "source": [
    "import cv2\n",
    "from torch.utils.data import Dataset # 데이터 생성을 위한 클래스\n",
    "\n",
    "class ImageDataset(Dataset):\n",
    "    # 초기화 메서드(생성자)\n",
    "    def __init__(self, df, img_dir = './', transform=None):\n",
    "        super().__init__() # 상속받은 Dataset의 __init__() 메서드 호출 \n",
    "        self.df = df\n",
    "        self.img_dir = img_dir\n",
    "        self.transform = transform\n",
    "    \n",
    "    # 데이터 세트 크기 반환 메서드 \n",
    "    def __len__(self):\n",
    "        return len(self.df)\n",
    "    \n",
    "    # 인덱스(idx)에 해당하는 데이터 반환 메서드 \n",
    "    def __getitem__(self, idx):\n",
    "        img_path = self.img_dir + self.df.iloc[idx, 0] # 이미지 파일 경로 \n",
    "        image = cv2.imread(img_path) # 이미지 파일 읽기 \n",
    "        label = self.df.iloc[idx, 1] # 이미지 레이블(타깃 값)\n",
    "        # 이미지 변환\n",
    "        if self.transform:\n",
    "            image = self.transform(image)\n",
    "        return image, label"
   ]
  },
  {
   "cell_type": "code",
   "execution_count": 7,
   "id": "killing-combining",
   "metadata": {
    "execution": {
     "iopub.execute_input": "2021-05-04T07:20:55.179661Z",
     "iopub.status.busy": "2021-05-04T07:20:55.178953Z",
     "iopub.status.idle": "2021-05-04T07:20:55.360561Z",
     "shell.execute_reply": "2021-05-04T07:20:55.359961Z"
    },
    "papermill": {
     "duration": 0.203528,
     "end_time": "2021-05-04T07:20:55.360765",
     "exception": false,
     "start_time": "2021-05-04T07:20:55.157237",
     "status": "completed"
    },
    "tags": []
   },
   "outputs": [],
   "source": [
    "import torchvision.transforms as transforms # 이미지 변환을 위한 모듈\n",
    "\n",
    "transform = transforms.Compose([transforms.ToPILImage(),\n",
    "                                transforms.Pad(32, padding_mode='symmetric'),\n",
    "                                transforms.RandomHorizontalFlip(),\n",
    "                                transforms.RandomVerticalFlip(),\n",
    "                                transforms.RandomRotation(10),\n",
    "                                transforms.ToTensor(),\n",
    "                                transforms.Normalize(mean=[0.5, 0.5, 0.5],\n",
    "                                                     std=[0.2, 0.2, 0.2])])"
   ]
  },
  {
   "cell_type": "code",
   "execution_count": 8,
   "id": "immune-refrigerator",
   "metadata": {
    "execution": {
     "iopub.execute_input": "2021-05-04T07:20:55.403375Z",
     "iopub.status.busy": "2021-05-04T07:20:55.400920Z",
     "iopub.status.idle": "2021-05-04T07:20:55.404104Z",
     "shell.execute_reply": "2021-05-04T07:20:55.404653Z"
    },
    "papermill": {
     "duration": 0.025827,
     "end_time": "2021-05-04T07:20:55.404808",
     "exception": false,
     "start_time": "2021-05-04T07:20:55.378981",
     "status": "completed"
    },
    "tags": []
   },
   "outputs": [],
   "source": [
    "dataset_train = ImageDataset(df=train, img_dir='train/', transform=transform)\n",
    "dataset_valid = ImageDataset(df=valid, img_dir='train/', transform=transform)\n",
    "dataset_all = ImageDataset(df=labels, img_dir='train/', transform=transform)"
   ]
  },
  {
   "cell_type": "code",
   "execution_count": 9,
   "id": "auburn-story",
   "metadata": {
    "_uuid": "c247391c28497ad35c72f5218398ea71f2d0d5ff",
    "execution": {
     "iopub.execute_input": "2021-05-04T07:20:55.443125Z",
     "iopub.status.busy": "2021-05-04T07:20:55.442260Z",
     "iopub.status.idle": "2021-05-04T07:20:55.447180Z",
     "shell.execute_reply": "2021-05-04T07:20:55.446604Z"
    },
    "papermill": {
     "duration": 0.026241,
     "end_time": "2021-05-04T07:20:55.447311",
     "exception": false,
     "start_time": "2021-05-04T07:20:55.421070",
     "status": "completed"
    },
    "tags": []
   },
   "outputs": [],
   "source": [
    "from torch.utils.data import DataLoader # 데이터 로더 생성을 위한 클래스\n",
    "\n",
    "loader_train = DataLoader(dataset=dataset_train, batch_size=64, \n",
    "                          shuffle=True)\n",
    "loader_valid = DataLoader(dataset=dataset_valid, batch_size=64, \n",
    "                          shuffle=False)\n",
    "loader_all = DataLoader(dataset=dataset_all, batch_size=64, \n",
    "                          shuffle=True)"
   ]
  },
  {
   "cell_type": "code",
   "execution_count": 10,
   "id": "northern-mediterranean",
   "metadata": {
    "_uuid": "0a2d5600bc2eb915ec0bdf5b52ba11e25096f7d0",
    "execution": {
     "iopub.execute_input": "2021-05-04T07:20:55.499551Z",
     "iopub.status.busy": "2021-05-04T07:20:55.496795Z",
     "iopub.status.idle": "2021-05-04T07:20:55.500374Z",
     "shell.execute_reply": "2021-05-04T07:20:55.500900Z"
    },
    "papermill": {
     "duration": 0.037532,
     "end_time": "2021-05-04T07:20:55.501057",
     "exception": false,
     "start_time": "2021-05-04T07:20:55.463525",
     "status": "completed"
    },
    "tags": []
   },
   "outputs": [],
   "source": [
    "import torch.nn as nn # 신경망 모듈\n",
    "import torch.nn.functional as F # 신경망 모듈에서 자주 사용되는 함수\n",
    "\n",
    "class Model(nn.Module):\n",
    "    # 신경망 계층 정의\n",
    "    def __init__(self):\n",
    "        super().__init__() # 상속받은 nn.Module의 __init__() 메서드 호출\n",
    "        # 첫 번째 ~ 다섯 번째 합성곱, 배치 정규화, 최대 풀링 계층 \n",
    "        self.layer1 = nn.Sequential(nn.Conv2d(in_channels=3, out_channels=32,\n",
    "                                              kernel_size=3, padding=2),\n",
    "                                    nn.BatchNorm2d(32), # 배치 정규화 ---①\n",
    "                                    nn.LeakyReLU(), # LeakyReLU 활성화 함수 ---②\n",
    "                                    nn.MaxPool2d(kernel_size=2))\n",
    "\n",
    "        self.layer2 = nn.Sequential(nn.Conv2d(in_channels=32, out_channels=64,\n",
    "                                              kernel_size=3, padding=2),\n",
    "                                    nn.BatchNorm2d(64),\n",
    "                                    nn.LeakyReLU(),\n",
    "                                    nn.MaxPool2d(kernel_size=2))\n",
    "        \n",
    "        self.layer3 = nn.Sequential(nn.Conv2d(in_channels=64, out_channels=128,\n",
    "                                              kernel_size=3, padding=2),\n",
    "                                    nn.BatchNorm2d(128),\n",
    "                                    nn.LeakyReLU(),\n",
    "                                    nn.MaxPool2d(kernel_size=2))\n",
    "        \n",
    "        self.layer4 = nn.Sequential(nn.Conv2d(in_channels=128, out_channels=256,\n",
    "                                              kernel_size=3, padding=2),\n",
    "                                    nn.BatchNorm2d(256),\n",
    "                                    nn.LeakyReLU(),\n",
    "                                    nn.MaxPool2d(kernel_size=2))\n",
    "        \n",
    "        self.layer5 = nn.Sequential(nn.Conv2d(in_channels=256, out_channels=512,\n",
    "                                              kernel_size=3, padding=2),\n",
    "                                    nn.BatchNorm2d(512),\n",
    "                                    nn.LeakyReLU(),\n",
    "                                    nn.MaxPool2d(kernel_size=2))\n",
    "        # 평균 풀링 계층 \n",
    "        self.avg_pool = nn.AvgPool2d(kernel_size=4) \n",
    "        # 전결합 계층 ---③\n",
    "        self.fc1 = nn.Linear(in_features=512 * 1 * 1, out_features=64)\n",
    "        self.fc2 = nn.Linear(in_features=64, out_features=2)\n",
    "\n",
    "    # 순전파 출력 정의 \n",
    "    def forward(self, x):\n",
    "        x = self.layer1(x)\n",
    "        x = self.layer2(x)\n",
    "        x = self.layer3(x)\n",
    "        x = self.layer4(x)\n",
    "        x = self.layer5(x)\n",
    "        x = self.avg_pool(x)\n",
    "        x = x.view(-1, 512 * 1 * 1) # 평탄화\n",
    "        x = self.fc1(x)\n",
    "        x = self.fc2(x)\n",
    "        return x"
   ]
  },
  {
   "cell_type": "code",
   "execution_count": 11,
   "id": "medium-comfort",
   "metadata": {
    "_cell_guid": "79c7e3d0-c299-4dcb-8224-4455121ee9b0",
    "_uuid": "d629ff2d2480ee46fbb7e2d37f6b5fab8052498a",
    "execution": {
     "iopub.execute_input": "2021-05-04T07:20:55.539775Z",
     "iopub.status.busy": "2021-05-04T07:20:55.538949Z",
     "iopub.status.idle": "2021-05-04T07:21:00.334443Z",
     "shell.execute_reply": "2021-05-04T07:21:00.335984Z"
    },
    "papermill": {
     "duration": 4.818502,
     "end_time": "2021-05-04T07:21:00.336515",
     "exception": false,
     "start_time": "2021-05-04T07:20:55.518013",
     "status": "completed"
    },
    "tags": []
   },
   "outputs": [
    {
     "data": {
      "text/plain": [
       "Model(\n",
       "  (layer1): Sequential(\n",
       "    (0): Conv2d(3, 32, kernel_size=(3, 3), stride=(1, 1), padding=(2, 2))\n",
       "    (1): BatchNorm2d(32, eps=1e-05, momentum=0.1, affine=True, track_running_stats=True)\n",
       "    (2): LeakyReLU(negative_slope=0.01)\n",
       "    (3): MaxPool2d(kernel_size=2, stride=2, padding=0, dilation=1, ceil_mode=False)\n",
       "  )\n",
       "  (layer2): Sequential(\n",
       "    (0): Conv2d(32, 64, kernel_size=(3, 3), stride=(1, 1), padding=(2, 2))\n",
       "    (1): BatchNorm2d(64, eps=1e-05, momentum=0.1, affine=True, track_running_stats=True)\n",
       "    (2): LeakyReLU(negative_slope=0.01)\n",
       "    (3): MaxPool2d(kernel_size=2, stride=2, padding=0, dilation=1, ceil_mode=False)\n",
       "  )\n",
       "  (layer3): Sequential(\n",
       "    (0): Conv2d(64, 128, kernel_size=(3, 3), stride=(1, 1), padding=(2, 2))\n",
       "    (1): BatchNorm2d(128, eps=1e-05, momentum=0.1, affine=True, track_running_stats=True)\n",
       "    (2): LeakyReLU(negative_slope=0.01)\n",
       "    (3): MaxPool2d(kernel_size=2, stride=2, padding=0, dilation=1, ceil_mode=False)\n",
       "  )\n",
       "  (layer4): Sequential(\n",
       "    (0): Conv2d(128, 256, kernel_size=(3, 3), stride=(1, 1), padding=(2, 2))\n",
       "    (1): BatchNorm2d(256, eps=1e-05, momentum=0.1, affine=True, track_running_stats=True)\n",
       "    (2): LeakyReLU(negative_slope=0.01)\n",
       "    (3): MaxPool2d(kernel_size=2, stride=2, padding=0, dilation=1, ceil_mode=False)\n",
       "  )\n",
       "  (layer5): Sequential(\n",
       "    (0): Conv2d(256, 512, kernel_size=(3, 3), stride=(1, 1), padding=(2, 2))\n",
       "    (1): BatchNorm2d(512, eps=1e-05, momentum=0.1, affine=True, track_running_stats=True)\n",
       "    (2): LeakyReLU(negative_slope=0.01)\n",
       "    (3): MaxPool2d(kernel_size=2, stride=2, padding=0, dilation=1, ceil_mode=False)\n",
       "  )\n",
       "  (avg_pool): AvgPool2d(kernel_size=4, stride=4, padding=0)\n",
       "  (fc1): Linear(in_features=512, out_features=64, bias=True)\n",
       "  (fc2): Linear(in_features=64, out_features=2, bias=True)\n",
       ")"
      ]
     },
     "execution_count": 11,
     "metadata": {},
     "output_type": "execute_result"
    }
   ],
   "source": [
    "model = Model().to(device)\n",
    "\n",
    "model"
   ]
  },
  {
   "cell_type": "code",
   "execution_count": 12,
   "id": "described-composer",
   "metadata": {
    "execution": {
     "iopub.execute_input": "2021-05-04T07:21:00.427214Z",
     "iopub.status.busy": "2021-05-04T07:21:00.425903Z",
     "iopub.status.idle": "2021-05-04T07:21:00.429323Z",
     "shell.execute_reply": "2021-05-04T07:21:00.428224Z"
    },
    "papermill": {
     "duration": 0.052986,
     "end_time": "2021-05-04T07:21:00.429544",
     "exception": false,
     "start_time": "2021-05-04T07:21:00.376558",
     "status": "completed"
    },
    "tags": []
   },
   "outputs": [],
   "source": [
    "# 손실함수\n",
    "criterion = nn.CrossEntropyLoss()"
   ]
  },
  {
   "cell_type": "code",
   "execution_count": 13,
   "id": "square-charity",
   "metadata": {
    "_uuid": "fceb2929d8750acb2de745cd9ff3d2d458820df8",
    "execution": {
     "iopub.execute_input": "2021-05-04T07:21:00.522472Z",
     "iopub.status.busy": "2021-05-04T07:21:00.521494Z",
     "iopub.status.idle": "2021-05-04T07:21:00.527548Z",
     "shell.execute_reply": "2021-05-04T07:21:00.528330Z"
    },
    "papermill": {
     "duration": 0.056334,
     "end_time": "2021-05-04T07:21:00.528603",
     "exception": false,
     "start_time": "2021-05-04T07:21:00.472269",
     "status": "completed"
    },
    "tags": []
   },
   "outputs": [],
   "source": [
    "# 옵티마이저\n",
    "optimizer = torch.optim.Adamax(model.parameters(), lr=0.0002)"
   ]
  },
  {
   "cell_type": "code",
   "execution_count": 14,
   "id": "white-mapping",
   "metadata": {
    "_uuid": "2c37417ae6b62ab4551bc8a888916ca1e591d284",
    "execution": {
     "iopub.execute_input": "2021-05-04T07:21:00.597927Z",
     "iopub.status.busy": "2021-05-04T07:21:00.596907Z",
     "iopub.status.idle": "2021-05-04T07:35:52.823682Z",
     "shell.execute_reply": "2021-05-04T07:35:52.824531Z"
    },
    "papermill": {
     "duration": 892.266653,
     "end_time": "2021-05-04T07:35:52.824870",
     "exception": false,
     "start_time": "2021-05-04T07:21:00.558217",
     "status": "completed"
    },
    "tags": []
   },
   "outputs": [
    {
     "name": "stdout",
     "output_type": "stream",
     "text": [
      "에폭: [1/35], 손실값: 0.1571\n",
      "에폭: [2/35], 손실값: 0.0014\n",
      "에폭: [3/35], 손실값: 0.0248\n",
      "에폭: [4/35], 손실값: 0.1070\n",
      "에폭: [5/35], 손실값: 0.0004\n",
      "에폭: [6/35], 손실값: 0.0008\n",
      "에폭: [7/35], 손실값: 0.0001\n",
      "에폭: [8/35], 손실값: 0.0002\n",
      "에폭: [9/35], 손실값: 0.0007\n",
      "에폭: [10/35], 손실값: 0.0060\n",
      "에폭: [11/35], 손실값: 0.1186\n",
      "에폭: [12/35], 손실값: 0.0082\n",
      "에폭: [13/35], 손실값: 0.0006\n",
      "에폭: [14/35], 손실값: 0.0001\n",
      "에폭: [15/35], 손실값: 0.0328\n",
      "에폭: [16/35], 손실값: 0.0001\n",
      "에폭: [17/35], 손실값: 0.0440\n",
      "에폭: [18/35], 손실값: 0.0000\n",
      "에폭: [19/35], 손실값: 0.0824\n",
      "에폭: [20/35], 손실값: 0.0707\n",
      "에폭: [21/35], 손실값: 0.0178\n",
      "에폭: [22/35], 손실값: 0.0001\n",
      "에폭: [23/35], 손실값: 0.0000\n",
      "에폭: [24/35], 손실값: 0.2162\n",
      "에폭: [25/35], 손실값: 0.0006\n",
      "에폭: [26/35], 손실값: 0.0023\n",
      "에폭: [27/35], 손실값: 0.0017\n",
      "에폭: [28/35], 손실값: 0.0000\n",
      "에폭: [29/35], 손실값: 0.0000\n",
      "에폭: [30/35], 손실값: 0.0000\n",
      "에폭: [31/35], 손실값: 0.0000\n",
      "에폭: [32/35], 손실값: 0.4657\n",
      "에폭: [33/35], 손실값: 0.0000\n",
      "에폭: [34/35], 손실값: 0.0223\n",
      "에폭: [35/35], 손실값: 0.0000\n"
     ]
    }
   ],
   "source": [
    "epochs = 35 # 총 에폭\n",
    "\n",
    "# 총 35에폭만큼 훈련\n",
    "for epoch in range(epochs):\n",
    "    # 미니배치 크기만큼 데이터를 추출하는 작업을 '반복 횟수'만큼 반복 \n",
    "    for i, (images, labels) in enumerate(loader_train):\n",
    "        # 이미지, 레이블 데이터 미니배치를 장비에 할당 \n",
    "        images = images.to(device)\n",
    "        labels = labels.to(device)\n",
    "        \n",
    "        # 옵티마이저 내 기울기 초기화\n",
    "        optimizer.zero_grad()\n",
    "        # 이미지 데이터를 신경망 모델의 입력값으로 사용해 출력값 계산\n",
    "        outputs = model(images)\n",
    "        # 기존에 정의한 손실함수를 활용해 outputs와 labels의 손실값 계산\n",
    "        loss = criterion(outputs, labels)\n",
    "        # 오차 역전파 수행\n",
    "        loss.backward()\n",
    "        # 가중치 갱신\n",
    "        optimizer.step()\n",
    "        \n",
    "    print (f'에폭: [{epoch+1}/{epochs}], 손실값: {loss.item():.4f}')"
   ]
  },
  {
   "cell_type": "code",
   "execution_count": 15,
   "id": "greatest-accounting",
   "metadata": {
    "execution": {
     "iopub.execute_input": "2021-05-04T07:35:52.893683Z",
     "iopub.status.busy": "2021-05-04T07:35:52.892602Z",
     "iopub.status.idle": "2021-05-04T07:35:55.611506Z",
     "shell.execute_reply": "2021-05-04T07:35:55.612395Z"
    },
    "papermill": {
     "duration": 2.756938,
     "end_time": "2021-05-04T07:35:55.612682",
     "exception": false,
     "start_time": "2021-05-04T07:35:52.855744",
     "status": "completed"
    },
    "tags": []
   },
   "outputs": [
    {
     "name": "stdout",
     "output_type": "stream",
     "text": [
      "검증 데이터 ROC AUC : 0.9999999999999997\n"
     ]
    }
   ],
   "source": [
    "from sklearn.metrics import roc_auc_score # ROC AUC 점수 계산 함수\n",
    "\n",
    "roc_auc = 0 # ROC AUC 초기화\n",
    "\n",
    "model.eval() # 모델을 평가 상태로 설정 \n",
    "\n",
    "with torch.no_grad(): # 기울기 계산 비활성\n",
    "    for images, labels in loader_valid:\n",
    "        # 이미지, 레이블 데이터 미니배치를 장비에 할당 \n",
    "        images = images.to(device)\n",
    "        labels = labels.to(device)\n",
    "        # 이미지 데이터를 신경망 모델의 입력값으로 사용해 출력값 계산\n",
    "        outputs = model(images)\n",
    "        preds = torch.softmax(outputs.cpu(), dim=1)[:, 1] # 예측 확률값\n",
    "        true = labels.cpu() # 실제값\n",
    "        # 검증 데이터 ROC AUC 점수 계산 \n",
    "        roc_auc += roc_auc_score(true, preds) / len(loader_valid)\n",
    "\n",
    "    print(f'검증 데이터 ROC AUC : {roc_auc}')"
   ]
  },
  {
   "cell_type": "code",
   "execution_count": 16,
   "id": "green-northeast",
   "metadata": {
    "_uuid": "870413a60281e0c4115fbc7cf192508e15a9e269",
    "execution": {
     "iopub.execute_input": "2021-05-04T07:35:55.678855Z",
     "iopub.status.busy": "2021-05-04T07:35:55.677916Z",
     "iopub.status.idle": "2021-05-04T07:35:55.682274Z",
     "shell.execute_reply": "2021-05-04T07:35:55.681795Z"
    },
    "papermill": {
     "duration": 0.039717,
     "end_time": "2021-05-04T07:35:55.682417",
     "exception": false,
     "start_time": "2021-05-04T07:35:55.642700",
     "status": "completed"
    },
    "tags": []
   },
   "outputs": [],
   "source": [
    "dataset_test = ImageDataset(df=submission, img_dir='test/', transform=transform)\n",
    "loader_test = DataLoader(dataset=dataset_test, batch_size=64, \n",
    "                         shuffle=False)"
   ]
  },
  {
   "cell_type": "code",
   "execution_count": 17,
   "id": "powered-startup",
   "metadata": {
    "execution": {
     "iopub.execute_input": "2021-05-04T07:35:55.748973Z",
     "iopub.status.busy": "2021-05-04T07:35:55.747836Z",
     "iopub.status.idle": "2021-05-04T07:36:01.895766Z",
     "shell.execute_reply": "2021-05-04T07:36:01.895145Z"
    },
    "papermill": {
     "duration": 6.184366,
     "end_time": "2021-05-04T07:36:01.895936",
     "exception": false,
     "start_time": "2021-05-04T07:35:55.711570",
     "status": "completed"
    },
    "tags": []
   },
   "outputs": [],
   "source": [
    "model.eval() # 모델을 평가 상태로 설정\n",
    "\n",
    "preds = [] # 타깃 예측 값 저장용 변수 초기화\n",
    "\n",
    "with torch.no_grad(): # 기울기 계산 비활성\n",
    "    for images, _ in loader_test:\n",
    "        # 이미지 데이터 미니배치를 장비에 할당\n",
    "        images = images.to(device)\n",
    "        # 이미지 데이터를 신경망 모델의 입력값으로 사용해 출력값 계산\n",
    "        outputs = model(images)\n",
    "        # 타깃 값이 1일 확률(예측 값)\n",
    "        preds_temp = torch.softmax(outputs.cpu(), dim=1)[:, 1].tolist()\n",
    "        # preds에 preds_temp 이어붙이기\n",
    "        preds.extend(preds_temp)"
   ]
  },
  {
   "cell_type": "code",
   "execution_count": 18,
   "id": "thirty-developer",
   "metadata": {
    "execution": {
     "iopub.execute_input": "2021-05-04T07:36:01.962766Z",
     "iopub.status.busy": "2021-05-04T07:36:01.962029Z",
     "iopub.status.idle": "2021-05-04T07:36:02.159593Z",
     "shell.execute_reply": "2021-05-04T07:36:02.158990Z"
    },
    "papermill": {
     "duration": 0.234042,
     "end_time": "2021-05-04T07:36:02.159789",
     "exception": false,
     "start_time": "2021-05-04T07:36:01.925747",
     "status": "completed"
    },
    "tags": []
   },
   "outputs": [],
   "source": [
    "submission['has_cactus'] = preds\n",
    "submission.to_csv('submission.csv', index=False)"
   ]
  },
  {
   "cell_type": "code",
   "execution_count": 19,
   "id": "civil-grade",
   "metadata": {
    "execution": {
     "iopub.execute_input": "2021-05-04T07:36:02.232461Z",
     "iopub.status.busy": "2021-05-04T07:36:02.231580Z",
     "iopub.status.idle": "2021-05-04T07:36:02.242168Z",
     "shell.execute_reply": "2021-05-04T07:36:02.241634Z"
    },
    "papermill": {
     "duration": 0.053053,
     "end_time": "2021-05-04T07:36:02.242311",
     "exception": false,
     "start_time": "2021-05-04T07:36:02.189258",
     "status": "completed"
    },
    "tags": []
   },
   "outputs": [
    {
     "data": {
      "text/html": [
       "<div>\n",
       "<style scoped>\n",
       "    .dataframe tbody tr th:only-of-type {\n",
       "        vertical-align: middle;\n",
       "    }\n",
       "\n",
       "    .dataframe tbody tr th {\n",
       "        vertical-align: top;\n",
       "    }\n",
       "\n",
       "    .dataframe thead th {\n",
       "        text-align: right;\n",
       "    }\n",
       "</style>\n",
       "<table border=\"1\" class=\"dataframe\">\n",
       "  <thead>\n",
       "    <tr style=\"text-align: right;\">\n",
       "      <th></th>\n",
       "      <th>id</th>\n",
       "      <th>has_cactus</th>\n",
       "    </tr>\n",
       "  </thead>\n",
       "  <tbody>\n",
       "    <tr>\n",
       "      <th>0</th>\n",
       "      <td>000940378805c44108d287872b2f04ce.jpg</td>\n",
       "      <td>0.999992</td>\n",
       "    </tr>\n",
       "    <tr>\n",
       "      <th>1</th>\n",
       "      <td>0017242f54ececa4512b4d7937d1e21e.jpg</td>\n",
       "      <td>1.000000</td>\n",
       "    </tr>\n",
       "    <tr>\n",
       "      <th>2</th>\n",
       "      <td>001ee6d8564003107853118ab87df407.jpg</td>\n",
       "      <td>0.000003</td>\n",
       "    </tr>\n",
       "    <tr>\n",
       "      <th>3</th>\n",
       "      <td>002e175c3c1e060769475f52182583d0.jpg</td>\n",
       "      <td>0.000003</td>\n",
       "    </tr>\n",
       "    <tr>\n",
       "      <th>4</th>\n",
       "      <td>0036e44a7e8f7218e9bc7bf8137e4943.jpg</td>\n",
       "      <td>0.037364</td>\n",
       "    </tr>\n",
       "    <tr>\n",
       "      <th>...</th>\n",
       "      <td>...</td>\n",
       "      <td>...</td>\n",
       "    </tr>\n",
       "    <tr>\n",
       "      <th>3995</th>\n",
       "      <td>ffaafd0c9f2f0e73172848463bc2e523.jpg</td>\n",
       "      <td>0.999968</td>\n",
       "    </tr>\n",
       "    <tr>\n",
       "      <th>3996</th>\n",
       "      <td>ffae37344310a1549162493237d25d3f.jpg</td>\n",
       "      <td>1.000000</td>\n",
       "    </tr>\n",
       "    <tr>\n",
       "      <th>3997</th>\n",
       "      <td>ffbd469c56873d064326204aac546e0d.jpg</td>\n",
       "      <td>1.000000</td>\n",
       "    </tr>\n",
       "    <tr>\n",
       "      <th>3998</th>\n",
       "      <td>ffcb76b7d47f29ece11c751e5f763f52.jpg</td>\n",
       "      <td>1.000000</td>\n",
       "    </tr>\n",
       "    <tr>\n",
       "      <th>3999</th>\n",
       "      <td>fffed17d1a8e0433a934db518d7f532c.jpg</td>\n",
       "      <td>0.999999</td>\n",
       "    </tr>\n",
       "  </tbody>\n",
       "</table>\n",
       "<p>4000 rows × 2 columns</p>\n",
       "</div>"
      ],
      "text/plain": [
       "                                        id  has_cactus\n",
       "0     000940378805c44108d287872b2f04ce.jpg    0.999992\n",
       "1     0017242f54ececa4512b4d7937d1e21e.jpg    1.000000\n",
       "2     001ee6d8564003107853118ab87df407.jpg    0.000003\n",
       "3     002e175c3c1e060769475f52182583d0.jpg    0.000003\n",
       "4     0036e44a7e8f7218e9bc7bf8137e4943.jpg    0.037364\n",
       "...                                    ...         ...\n",
       "3995  ffaafd0c9f2f0e73172848463bc2e523.jpg    0.999968\n",
       "3996  ffae37344310a1549162493237d25d3f.jpg    1.000000\n",
       "3997  ffbd469c56873d064326204aac546e0d.jpg    1.000000\n",
       "3998  ffcb76b7d47f29ece11c751e5f763f52.jpg    1.000000\n",
       "3999  fffed17d1a8e0433a934db518d7f532c.jpg    0.999999\n",
       "\n",
       "[4000 rows x 2 columns]"
      ]
     },
     "execution_count": 19,
     "metadata": {},
     "output_type": "execute_result"
    }
   ],
   "source": [
    "submission"
   ]
  },
  {
   "cell_type": "code",
   "execution_count": 20,
   "id": "bronze-helping",
   "metadata": {
    "execution": {
     "iopub.execute_input": "2021-05-04T07:36:02.350998Z",
     "iopub.status.busy": "2021-05-04T07:36:02.349905Z",
     "iopub.status.idle": "2021-05-04T07:36:03.260933Z",
     "shell.execute_reply": "2021-05-04T07:36:03.259508Z"
    },
    "papermill": {
     "duration": 0.976302,
     "end_time": "2021-05-04T07:36:03.261189",
     "exception": false,
     "start_time": "2021-05-04T07:36:02.284887",
     "status": "completed"
    },
    "tags": []
   },
   "outputs": [],
   "source": [
    "import shutil\n",
    "\n",
    "shutil.rmtree('./train')\n",
    "shutil.rmtree('./test')"
   ]
  }
 ],
 "metadata": {
  "kernelspec": {
   "display_name": "Python 3",
   "language": "python",
   "name": "python3"
  },
  "language_info": {
   "codemirror_mode": {
    "name": "ipython",
    "version": 3
   },
   "file_extension": ".py",
   "mimetype": "text/x-python",
   "name": "python",
   "nbconvert_exporter": "python",
   "pygments_lexer": "ipython3",
   "version": "3.7.9"
  },
  "papermill": {
   "default_parameters": {},
   "duration": 926.116887,
   "end_time": "2021-05-04T07:36:05.659199",
   "environment_variables": {},
   "exception": null,
   "input_path": "__notebook__.ipynb",
   "output_path": "__notebook__.ipynb",
   "parameters": {},
   "start_time": "2021-05-04T07:20:39.542312",
   "version": "2.3.2"
  }
 },
 "nbformat": 4,
 "nbformat_minor": 5
}
