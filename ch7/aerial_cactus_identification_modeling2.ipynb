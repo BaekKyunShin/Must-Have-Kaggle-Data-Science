{
 "cells": [
  {
   "cell_type": "markdown",
   "id": "correct-burton",
   "metadata": {
    "papermill": {
     "duration": 0.017116,
     "end_time": "2021-06-29T10:13:47.263317",
     "exception": false,
     "start_time": "2021-06-29T10:13:47.246201",
     "status": "completed"
    },
    "tags": []
   },
   "source": [
    "# 7.4 항공 사진 내 선인장 식별 경진대회 모델 성능 개선\n",
    "- [항공 사진 내 선인장 식별 경진대회 링크](https://www.kaggle.com/c/aerial-cactus-identification)\n",
    "- [모델링 노트북 참고 링크](https://www.kaggle.com/bonhart/simple-cnn-on-pytorch-for-beginers)\n"
   ]
  },
  {
   "cell_type": "code",
   "execution_count": 1,
   "id": "heated-training",
   "metadata": {
    "execution": {
     "iopub.execute_input": "2021-06-29T10:13:47.304211Z",
     "iopub.status.busy": "2021-06-29T10:13:47.303680Z",
     "iopub.status.idle": "2021-06-29T10:13:47.374111Z",
     "shell.execute_reply": "2021-06-29T10:13:47.372968Z",
     "shell.execute_reply.started": "2021-06-29T07:27:57.759332Z"
    },
    "papermill": {
     "duration": 0.095409,
     "end_time": "2021-06-29T10:13:47.374259",
     "exception": false,
     "start_time": "2021-06-29T10:13:47.278850",
     "status": "completed"
    },
    "tags": []
   },
   "outputs": [],
   "source": [
    "import pandas as pd\n",
    "\n",
    "# 데이터 경로\n",
    "data_path = '/kaggle/input/aerial-cactus-identification/'\n",
    "\n",
    "labels = pd.read_csv(data_path + 'train.csv')\n",
    "submission = pd.read_csv(data_path + 'sample_submission.csv')"
   ]
  },
  {
   "cell_type": "code",
   "execution_count": 2,
   "id": "continuous-founder",
   "metadata": {
    "execution": {
     "iopub.execute_input": "2021-06-29T10:13:47.409480Z",
     "iopub.status.busy": "2021-06-29T10:13:47.408932Z",
     "iopub.status.idle": "2021-06-29T10:13:50.659465Z",
     "shell.execute_reply": "2021-06-29T10:13:50.658420Z",
     "shell.execute_reply.started": "2021-06-29T07:27:57.817949Z"
    },
    "papermill": {
     "duration": 3.26971,
     "end_time": "2021-06-29T10:13:50.659616",
     "exception": false,
     "start_time": "2021-06-29T10:13:47.389906",
     "status": "completed"
    },
    "tags": []
   },
   "outputs": [],
   "source": [
    "from zipfile import ZipFile\n",
    "\n",
    "# 훈련 이미지 데이터 압축 풀기\n",
    "with ZipFile(data_path + 'train.zip') as zipper:\n",
    "    zipper.extractall()\n",
    "    \n",
    "# 테스트 이미지 데이터 압 풀기\n",
    "with ZipFile(data_path + 'test.zip') as zipper:\n",
    "    zipper.extractall()"
   ]
  },
  {
   "cell_type": "code",
   "execution_count": 3,
   "id": "valued-snapshot",
   "metadata": {
    "execution": {
     "iopub.execute_input": "2021-06-29T10:13:50.695080Z",
     "iopub.status.busy": "2021-06-29T10:13:50.694372Z",
     "iopub.status.idle": "2021-06-29T10:13:52.144309Z",
     "shell.execute_reply": "2021-06-29T10:13:52.143772Z",
     "shell.execute_reply.started": "2021-06-29T07:28:00.348265Z"
    },
    "papermill": {
     "duration": 1.469002,
     "end_time": "2021-06-29T10:13:52.144428",
     "exception": false,
     "start_time": "2021-06-29T10:13:50.675426",
     "status": "completed"
    },
    "tags": []
   },
   "outputs": [],
   "source": [
    "import torch # 파이토치 \n",
    "import random\n",
    "import numpy as np\n",
    "import os\n",
    "\n",
    "# 시드 값 고정\n",
    "seed = 10\n",
    "\n",
    "os.environ['PYTHONHASHSEED'] = str(seed)\n",
    "random.seed(seed)\n",
    "np.random.seed(seed)\n",
    "torch.manual_seed(seed)\n",
    "torch.cuda.manual_seed(seed)\n",
    "torch.cuda.manual_seed_all(seed)\n",
    "torch.backends.cudnn.deterministic = True"
   ]
  },
  {
   "cell_type": "code",
   "execution_count": 4,
   "id": "temporal-movement",
   "metadata": {
    "execution": {
     "iopub.execute_input": "2021-06-29T10:13:52.221536Z",
     "iopub.status.busy": "2021-06-29T10:13:52.220907Z",
     "iopub.status.idle": "2021-06-29T10:13:52.225401Z",
     "shell.execute_reply": "2021-06-29T10:13:52.224520Z",
     "shell.execute_reply.started": "2021-06-29T07:28:01.927964Z"
    },
    "papermill": {
     "duration": 0.065888,
     "end_time": "2021-06-29T10:13:52.225541",
     "exception": false,
     "start_time": "2021-06-29T10:13:52.159653",
     "status": "completed"
    },
    "tags": []
   },
   "outputs": [],
   "source": [
    "device = torch.device('cuda' if torch.cuda.is_available() else 'cpu')"
   ]
  },
  {
   "cell_type": "code",
   "execution_count": 5,
   "id": "young-guarantee",
   "metadata": {
    "_uuid": "c07eab67e573c7de05e11065b5bafc1bbff284fb",
    "execution": {
     "iopub.execute_input": "2021-06-29T10:13:52.261746Z",
     "iopub.status.busy": "2021-06-29T10:13:52.261132Z",
     "iopub.status.idle": "2021-06-29T10:13:53.224677Z",
     "shell.execute_reply": "2021-06-29T10:13:53.225835Z",
     "shell.execute_reply.started": "2021-06-29T07:28:02.006975Z"
    },
    "papermill": {
     "duration": 0.984395,
     "end_time": "2021-06-29T10:13:53.226049",
     "exception": false,
     "start_time": "2021-06-29T10:13:52.241654",
     "status": "completed"
    },
    "tags": []
   },
   "outputs": [],
   "source": [
    "from sklearn.model_selection import train_test_split\n",
    "\n",
    "# 훈련 데이터, 검증 데이터 분리\n",
    "_, valid = train_test_split(labels, \n",
    "                            test_size=0.1,\n",
    "                            stratify=labels['has_cactus'],\n",
    "                            random_state=10)"
   ]
  },
  {
   "cell_type": "code",
   "execution_count": 6,
   "id": "undefined-shadow",
   "metadata": {
    "_uuid": "1b05af8d59d9d5b092e96f72dfebb19591416de9",
    "execution": {
     "iopub.execute_input": "2021-06-29T10:13:53.291093Z",
     "iopub.status.busy": "2021-06-29T10:13:53.289772Z",
     "iopub.status.idle": "2021-06-29T10:13:53.549999Z",
     "shell.execute_reply": "2021-06-29T10:13:53.548974Z",
     "shell.execute_reply.started": "2021-06-29T07:28:02.895154Z"
    },
    "papermill": {
     "duration": 0.296755,
     "end_time": "2021-06-29T10:13:53.550133",
     "exception": false,
     "start_time": "2021-06-29T10:13:53.253378",
     "status": "completed"
    },
    "tags": []
   },
   "outputs": [],
   "source": [
    "import cv2\n",
    "from torch.utils.data import Dataset # 데이터 생성을 위한 클래스\n",
    "\n",
    "class ImageDataset(Dataset):\n",
    "    # 초기화 메서드(생성자)\n",
    "    def __init__(self, df, img_dir = './', transform=None):\n",
    "        super().__init__() # 상속받은 Dataset의 __init__() 메서드 호출 \n",
    "        self.df = df\n",
    "        self.img_dir = img_dir\n",
    "        self.transform = transform\n",
    "    \n",
    "    # 데이터 세트 크기 반환 메서드 \n",
    "    def __len__(self):\n",
    "        return len(self.df)\n",
    "    \n",
    "    # 인덱스(idx)에 해당하는 데이터 반환 메서드 \n",
    "    def __getitem__(self, idx):\n",
    "        img_path = self.img_dir + self.df.iloc[idx, 0] # 이미지 파일 경로 \n",
    "        image = cv2.imread(img_path) # 이미지 파일 읽기 \n",
    "        image = cv2.cvtColor(image, cv2.COLOR_BGR2RGB) # 이미지 색상 보정\n",
    "        label = self.df.iloc[idx, 1] # 이미지 레이블(타깃 값)\n",
    "        # 이미지 변환\n",
    "        if self.transform is not None:\n",
    "            image = self.transform(image)\n",
    "        return image, label"
   ]
  },
  {
   "cell_type": "code",
   "execution_count": 7,
   "id": "balanced-wilson",
   "metadata": {
    "execution": {
     "iopub.execute_input": "2021-06-29T10:13:53.585799Z",
     "iopub.status.busy": "2021-06-29T10:13:53.585193Z",
     "iopub.status.idle": "2021-06-29T10:13:53.723066Z",
     "shell.execute_reply": "2021-06-29T10:13:53.722584Z",
     "shell.execute_reply.started": "2021-06-29T07:28:03.181197Z"
    },
    "papermill": {
     "duration": 0.158291,
     "end_time": "2021-06-29T10:13:53.723182",
     "exception": false,
     "start_time": "2021-06-29T10:13:53.564891",
     "status": "completed"
    },
    "tags": []
   },
   "outputs": [],
   "source": [
    "from torchvision import transforms # 이미지 변환을 위한 모듈\n",
    "\n",
    "# 훈련 데이터용 변환기\n",
    "transform_train = transforms.Compose([transforms.ToPILImage(),\n",
    "                                      transforms.Pad(32, padding_mode='symmetric'),\n",
    "                                      transforms.RandomHorizontalFlip(),\n",
    "                                      transforms.RandomVerticalFlip(),\n",
    "                                      transforms.RandomRotation(10),\n",
    "                                      transforms.ToTensor(),\n",
    "                                      transforms.Normalize(mean=[0.5, 0.5, 0.5],\n",
    "                                                           std=[0.2, 0.2, 0.2])])\n",
    "# 검증 및 테스트 데이터용 변환기\n",
    "transform_test= transforms.Compose([transforms.ToPILImage(),\n",
    "                                    transforms.Pad(32, padding_mode='symmetric'),\n",
    "                                    transforms.ToTensor(),\n",
    "                                    transforms.Normalize(mean=[0.5, 0.5, 0.5],\n",
    "                                                         std=[0.2, 0.2, 0.2])])"
   ]
  },
  {
   "cell_type": "code",
   "execution_count": 8,
   "id": "furnished-latex",
   "metadata": {
    "execution": {
     "iopub.execute_input": "2021-06-29T10:13:53.756244Z",
     "iopub.status.busy": "2021-06-29T10:13:53.755744Z",
     "iopub.status.idle": "2021-06-29T10:13:53.759534Z",
     "shell.execute_reply": "2021-06-29T10:13:53.759121Z",
     "shell.execute_reply.started": "2021-06-29T07:28:03.359022Z"
    },
    "papermill": {
     "duration": 0.021774,
     "end_time": "2021-06-29T10:13:53.759642",
     "exception": false,
     "start_time": "2021-06-29T10:13:53.737868",
     "status": "completed"
    },
    "tags": []
   },
   "outputs": [],
   "source": [
    "dataset_train = ImageDataset(df=labels, img_dir='train/', transform=transform_train)\n",
    "dataset_valid = ImageDataset(df=valid, img_dir='train/', transform=transform_test)"
   ]
  },
  {
   "cell_type": "code",
   "execution_count": 9,
   "id": "contemporary-fraction",
   "metadata": {
    "_uuid": "c247391c28497ad35c72f5218398ea71f2d0d5ff",
    "execution": {
     "iopub.execute_input": "2021-06-29T10:13:53.792670Z",
     "iopub.status.busy": "2021-06-29T10:13:53.792122Z",
     "iopub.status.idle": "2021-06-29T10:13:53.795748Z",
     "shell.execute_reply": "2021-06-29T10:13:53.795326Z",
     "shell.execute_reply.started": "2021-06-29T07:28:03.369051Z"
    },
    "papermill": {
     "duration": 0.021967,
     "end_time": "2021-06-29T10:13:53.795854",
     "exception": false,
     "start_time": "2021-06-29T10:13:53.773887",
     "status": "completed"
    },
    "tags": []
   },
   "outputs": [],
   "source": [
    "from torch.utils.data import DataLoader # 데이터 로더 생성을 위한 클래스\n",
    "\n",
    "loader_train = DataLoader(dataset=dataset_train, batch_size=32, \n",
    "                          shuffle=True)\n",
    "loader_valid = DataLoader(dataset=dataset_valid, batch_size=32, \n",
    "                          shuffle=False)"
   ]
  },
  {
   "cell_type": "code",
   "execution_count": 10,
   "id": "underlying-spray",
   "metadata": {
    "_uuid": "0a2d5600bc2eb915ec0bdf5b52ba11e25096f7d0",
    "execution": {
     "iopub.execute_input": "2021-06-29T10:13:53.838558Z",
     "iopub.status.busy": "2021-06-29T10:13:53.832739Z",
     "iopub.status.idle": "2021-06-29T10:13:53.841100Z",
     "shell.execute_reply": "2021-06-29T10:13:53.840686Z",
     "shell.execute_reply.started": "2021-06-29T07:28:03.390715Z"
    },
    "papermill": {
     "duration": 0.030455,
     "end_time": "2021-06-29T10:13:53.841201",
     "exception": false,
     "start_time": "2021-06-29T10:13:53.810746",
     "status": "completed"
    },
    "tags": []
   },
   "outputs": [],
   "source": [
    "import torch.nn as nn # 신경망 모듈\n",
    "import torch.nn.functional as F # 신경망 모듈에서 자주 사용되는 함수\n",
    "\n",
    "class Model(nn.Module):\n",
    "    # 신경망 계층 정의\n",
    "    def __init__(self):\n",
    "        super().__init__() # 상속받은 nn.Module의 __init__() 메서드 호출\n",
    "        # 첫 번째 ~ 다섯 번째 합성곱, 배치 정규화, 최대 풀링 계층 \n",
    "        self.layer1 = nn.Sequential(nn.Conv2d(in_channels=3, out_channels=32,\n",
    "                                              kernel_size=3, padding=2),\n",
    "                                    nn.BatchNorm2d(32), # 배치 정규화 ---①\n",
    "                                    nn.LeakyReLU(), # LeakyReLU 활성화 함수 ---②\n",
    "                                    nn.MaxPool2d(kernel_size=2))\n",
    "\n",
    "        self.layer2 = nn.Sequential(nn.Conv2d(in_channels=32, out_channels=64,\n",
    "                                              kernel_size=3, padding=2),\n",
    "                                    nn.BatchNorm2d(64),\n",
    "                                    nn.LeakyReLU(),\n",
    "                                    nn.MaxPool2d(kernel_size=2))\n",
    "        \n",
    "        self.layer3 = nn.Sequential(nn.Conv2d(in_channels=64, out_channels=128,\n",
    "                                              kernel_size=3, padding=2),\n",
    "                                    nn.BatchNorm2d(128),\n",
    "                                    nn.LeakyReLU(),\n",
    "                                    nn.MaxPool2d(kernel_size=2))\n",
    "        \n",
    "        self.layer4 = nn.Sequential(nn.Conv2d(in_channels=128, out_channels=256,\n",
    "                                              kernel_size=3, padding=2),\n",
    "                                    nn.BatchNorm2d(256),\n",
    "                                    nn.LeakyReLU(),\n",
    "                                    nn.MaxPool2d(kernel_size=2))\n",
    "        \n",
    "        self.layer5 = nn.Sequential(nn.Conv2d(in_channels=256, out_channels=512,\n",
    "                                              kernel_size=3, padding=2),\n",
    "                                    nn.BatchNorm2d(512),\n",
    "                                    nn.LeakyReLU(),\n",
    "                                    nn.MaxPool2d(kernel_size=2))\n",
    "        # 평균 풀링 계층 \n",
    "        self.avg_pool = nn.AvgPool2d(kernel_size=4) \n",
    "        # 전결합 계층 ---③\n",
    "        self.fc1 = nn.Linear(in_features=512 * 1 * 1, out_features=64)\n",
    "        self.fc2 = nn.Linear(in_features=64, out_features=2)\n",
    "\n",
    "    # 순전파 출력 정의 \n",
    "    def forward(self, x):\n",
    "        x = self.layer1(x)\n",
    "        x = self.layer2(x)\n",
    "        x = self.layer3(x)\n",
    "        x = self.layer4(x)\n",
    "        x = self.layer5(x)\n",
    "        x = self.avg_pool(x)\n",
    "        x = x.view(-1, 512 * 1 * 1) # 평탄화\n",
    "        x = self.fc1(x)\n",
    "        x = self.fc2(x)\n",
    "        return x"
   ]
  },
  {
   "cell_type": "code",
   "execution_count": 11,
   "id": "disciplinary-patrol",
   "metadata": {
    "_cell_guid": "79c7e3d0-c299-4dcb-8224-4455121ee9b0",
    "_uuid": "d629ff2d2480ee46fbb7e2d37f6b5fab8052498a",
    "execution": {
     "iopub.execute_input": "2021-06-29T10:13:53.873680Z",
     "iopub.status.busy": "2021-06-29T10:13:53.873148Z",
     "iopub.status.idle": "2021-06-29T10:13:57.803347Z",
     "shell.execute_reply": "2021-06-29T10:13:57.802936Z",
     "shell.execute_reply.started": "2021-06-29T07:28:03.414201Z"
    },
    "papermill": {
     "duration": 3.947895,
     "end_time": "2021-06-29T10:13:57.803489",
     "exception": false,
     "start_time": "2021-06-29T10:13:53.855594",
     "status": "completed"
    },
    "tags": []
   },
   "outputs": [
    {
     "data": {
      "text/plain": [
       "Model(\n",
       "  (layer1): Sequential(\n",
       "    (0): Conv2d(3, 32, kernel_size=(3, 3), stride=(1, 1), padding=(2, 2))\n",
       "    (1): BatchNorm2d(32, eps=1e-05, momentum=0.1, affine=True, track_running_stats=True)\n",
       "    (2): LeakyReLU(negative_slope=0.01)\n",
       "    (3): MaxPool2d(kernel_size=2, stride=2, padding=0, dilation=1, ceil_mode=False)\n",
       "  )\n",
       "  (layer2): Sequential(\n",
       "    (0): Conv2d(32, 64, kernel_size=(3, 3), stride=(1, 1), padding=(2, 2))\n",
       "    (1): BatchNorm2d(64, eps=1e-05, momentum=0.1, affine=True, track_running_stats=True)\n",
       "    (2): LeakyReLU(negative_slope=0.01)\n",
       "    (3): MaxPool2d(kernel_size=2, stride=2, padding=0, dilation=1, ceil_mode=False)\n",
       "  )\n",
       "  (layer3): Sequential(\n",
       "    (0): Conv2d(64, 128, kernel_size=(3, 3), stride=(1, 1), padding=(2, 2))\n",
       "    (1): BatchNorm2d(128, eps=1e-05, momentum=0.1, affine=True, track_running_stats=True)\n",
       "    (2): LeakyReLU(negative_slope=0.01)\n",
       "    (3): MaxPool2d(kernel_size=2, stride=2, padding=0, dilation=1, ceil_mode=False)\n",
       "  )\n",
       "  (layer4): Sequential(\n",
       "    (0): Conv2d(128, 256, kernel_size=(3, 3), stride=(1, 1), padding=(2, 2))\n",
       "    (1): BatchNorm2d(256, eps=1e-05, momentum=0.1, affine=True, track_running_stats=True)\n",
       "    (2): LeakyReLU(negative_slope=0.01)\n",
       "    (3): MaxPool2d(kernel_size=2, stride=2, padding=0, dilation=1, ceil_mode=False)\n",
       "  )\n",
       "  (layer5): Sequential(\n",
       "    (0): Conv2d(256, 512, kernel_size=(3, 3), stride=(1, 1), padding=(2, 2))\n",
       "    (1): BatchNorm2d(512, eps=1e-05, momentum=0.1, affine=True, track_running_stats=True)\n",
       "    (2): LeakyReLU(negative_slope=0.01)\n",
       "    (3): MaxPool2d(kernel_size=2, stride=2, padding=0, dilation=1, ceil_mode=False)\n",
       "  )\n",
       "  (avg_pool): AvgPool2d(kernel_size=4, stride=4, padding=0)\n",
       "  (fc1): Linear(in_features=512, out_features=64, bias=True)\n",
       "  (fc2): Linear(in_features=64, out_features=2, bias=True)\n",
       ")"
      ]
     },
     "execution_count": 11,
     "metadata": {},
     "output_type": "execute_result"
    }
   ],
   "source": [
    "model = Model().to(device)\n",
    "\n",
    "model"
   ]
  },
  {
   "cell_type": "code",
   "execution_count": 12,
   "id": "apparent-works",
   "metadata": {
    "execution": {
     "iopub.execute_input": "2021-06-29T10:13:57.838190Z",
     "iopub.status.busy": "2021-06-29T10:13:57.837517Z",
     "iopub.status.idle": "2021-06-29T10:13:57.840402Z",
     "shell.execute_reply": "2021-06-29T10:13:57.840013Z",
     "shell.execute_reply.started": "2021-06-29T07:28:07.511351Z"
    },
    "papermill": {
     "duration": 0.021726,
     "end_time": "2021-06-29T10:13:57.840538",
     "exception": false,
     "start_time": "2021-06-29T10:13:57.818812",
     "status": "completed"
    },
    "tags": []
   },
   "outputs": [],
   "source": [
    "# 손실함수\n",
    "criterion = nn.CrossEntropyLoss()"
   ]
  },
  {
   "cell_type": "code",
   "execution_count": 13,
   "id": "sixth-redhead",
   "metadata": {
    "_uuid": "fceb2929d8750acb2de745cd9ff3d2d458820df8",
    "execution": {
     "iopub.execute_input": "2021-06-29T10:13:57.875093Z",
     "iopub.status.busy": "2021-06-29T10:13:57.874288Z",
     "iopub.status.idle": "2021-06-29T10:13:57.877164Z",
     "shell.execute_reply": "2021-06-29T10:13:57.876765Z",
     "shell.execute_reply.started": "2021-06-29T07:28:07.520537Z"
    },
    "papermill": {
     "duration": 0.021652,
     "end_time": "2021-06-29T10:13:57.877272",
     "exception": false,
     "start_time": "2021-06-29T10:13:57.855620",
     "status": "completed"
    },
    "tags": []
   },
   "outputs": [],
   "source": [
    "# 옵티마이저\n",
    "optimizer = torch.optim.Adamax(model.parameters(), lr=0.0001)"
   ]
  },
  {
   "cell_type": "code",
   "execution_count": 14,
   "id": "fancy-detection",
   "metadata": {
    "_uuid": "2c37417ae6b62ab4551bc8a888916ca1e591d284",
    "execution": {
     "iopub.execute_input": "2021-06-29T10:13:57.914724Z",
     "iopub.status.busy": "2021-06-29T10:13:57.913398Z",
     "iopub.status.idle": "2021-06-29T10:37:11.898066Z",
     "shell.execute_reply": "2021-06-29T10:37:11.898562Z",
     "shell.execute_reply.started": "2021-06-29T07:28:07.528071Z"
    },
    "papermill": {
     "duration": 1394.006671,
     "end_time": "2021-06-29T10:37:11.898744",
     "exception": false,
     "start_time": "2021-06-29T10:13:57.892073",
     "status": "completed"
    },
    "tags": []
   },
   "outputs": [
    {
     "name": "stdout",
     "output_type": "stream",
     "text": [
      "에폭: [1/50], 손실값: 0.1086574530755076\n",
      "에폭: [2/50], 손실값: 0.05804724411032685\n",
      "에폭: [3/50], 손실값: 0.043110862700779407\n",
      "에폭: [4/50], 손실값: 0.03675261308081317\n",
      "에폭: [5/50], 손실값: 0.030205570332507196\n",
      "에폭: [6/50], 손실값: 0.02575980902030567\n",
      "에폭: [7/50], 손실값: 0.022373778547458388\n",
      "에폭: [8/50], 손실값: 0.0209674963421817\n",
      "에폭: [9/50], 손실값: 0.019303887756216814\n",
      "에폭: [10/50], 손실값: 0.01934895049176184\n",
      "에폭: [11/50], 손실값: 0.017283474925955056\n",
      "에폭: [12/50], 손실값: 0.016964421172612643\n",
      "에폭: [13/50], 손실값: 0.014153039533096304\n",
      "에폭: [14/50], 손실값: 0.015826131744056785\n",
      "에폭: [15/50], 손실값: 0.014254071956306846\n",
      "에폭: [16/50], 손실값: 0.011525362329093713\n",
      "에폭: [17/50], 손실값: 0.011935787669279663\n",
      "에폭: [18/50], 손실값: 0.01256652732749159\n",
      "에폭: [19/50], 손실값: 0.009528253359871123\n",
      "에폭: [20/50], 손실값: 0.009387395167918365\n",
      "에폭: [21/50], 손실값: 0.01006486846292495\n",
      "에폭: [22/50], 손실값: 0.009579915464773693\n",
      "에폭: [23/50], 손실값: 0.010873781835885174\n",
      "에폭: [24/50], 손실값: 0.008641142771886379\n",
      "에폭: [25/50], 손실값: 0.007643915784983603\n",
      "에폭: [26/50], 손실값: 0.007838625616110699\n",
      "에폭: [27/50], 손실값: 0.008068021674749296\n",
      "에폭: [28/50], 손실값: 0.007590054489920165\n",
      "에폭: [29/50], 손실값: 0.007093481029974674\n",
      "에폭: [30/50], 손실값: 0.006566228213405022\n",
      "에폭: [31/50], 손실값: 0.007044989421994658\n",
      "에폭: [32/50], 손실값: 0.005764379188683053\n",
      "에폭: [33/50], 손실값: 0.00680315555005117\n",
      "에폭: [34/50], 손실값: 0.006892869476115088\n",
      "에폭: [35/50], 손실값: 0.004879859258717444\n",
      "에폭: [36/50], 손실값: 0.006250101364843135\n",
      "에폭: [37/50], 손실값: 0.004557751885233544\n",
      "에폭: [38/50], 손실값: 0.005464286684058477\n",
      "에폭: [39/50], 손실값: 0.004514226325849827\n",
      "에폭: [40/50], 손실값: 0.0038762953874390675\n",
      "에폭: [41/50], 손실값: 0.003661364172542384\n",
      "에폭: [42/50], 손실값: 0.00458620547516531\n",
      "에폭: [43/50], 손실값: 0.004417877178716073\n",
      "에폭: [44/50], 손실값: 0.00395834301818962\n",
      "에폭: [45/50], 손실값: 0.003462865967974884\n",
      "에폭: [46/50], 손실값: 0.0034695185497154316\n",
      "에폭: [47/50], 손실값: 0.0024545712806966122\n",
      "에폭: [48/50], 손실값: 0.004656575876925947\n",
      "에폭: [49/50], 손실값: 0.0032017685044825024\n",
      "에폭: [50/50], 손실값: 0.0041929486260099055\n"
     ]
    }
   ],
   "source": [
    "epochs = 50 # 총 에폭\n",
    "\n",
    "# 총 에폭만큼 훈련\n",
    "for epoch in range(epochs):\n",
    "    epoch_loss = 0 # 에폭별 손실값 초기화\n",
    "    # 미니배치 크기만큼 데이터를 추출하는 작업을 '반복 횟수'만큼 반복 \n",
    "    for images, labels in loader_train:\n",
    "        # 이미지, 레이블 데이터 미니배치를 장비에 할당 \n",
    "        images = images.to(device)\n",
    "        labels = labels.to(device)\n",
    "        \n",
    "        # 옵티마이저 내 기울기 초기화\n",
    "        optimizer.zero_grad()\n",
    "        # 이미지 데이터를 신경망 모델의 입력값으로 사용해 출력값 계산\n",
    "        outputs = model(images)\n",
    "        # 손실함수를 활용해 outputs와 labels의 손실값 계산\n",
    "        loss = criterion(outputs, labels)\n",
    "        # 역전파 수행\n",
    "        loss.backward()\n",
    "        # 가중치 갱신\n",
    "        optimizer.step()\n",
    "        \n",
    "        epoch_loss += loss.item() # 현재 배치에서의 손실 추가\n",
    "        \n",
    "    print(f'에폭: [{epoch+1}/{epochs}], 손실값: {epoch_loss/len(loader_train)}')\n",
    "#     print(f'에폭: [{epoch+1}/{epochs}], 손실값: {epoch_loss/len(loader_train):.4f}')    "
   ]
  },
  {
   "cell_type": "code",
   "execution_count": 15,
   "id": "geographic-senate",
   "metadata": {
    "execution": {
     "iopub.execute_input": "2021-06-29T10:37:11.962887Z",
     "iopub.status.busy": "2021-06-29T10:37:11.962035Z",
     "iopub.status.idle": "2021-06-29T10:37:13.730603Z",
     "shell.execute_reply": "2021-06-29T10:37:13.731027Z",
     "shell.execute_reply.started": "2021-06-29T07:51:21.408677Z"
    },
    "papermill": {
     "duration": 1.804125,
     "end_time": "2021-06-29T10:37:13.731177",
     "exception": false,
     "start_time": "2021-06-29T10:37:11.927052",
     "status": "completed"
    },
    "tags": []
   },
   "outputs": [
    {
     "name": "stdout",
     "output_type": "stream",
     "text": [
      "검증 데이터 ROC AUC : 1.0\n"
     ]
    }
   ],
   "source": [
    "from sklearn.metrics import roc_auc_score # ROC AUC 점수 계산 함수\n",
    "\n",
    "# 예측 확률값과 실제값을 담을 리스트 초기화\n",
    "true_list = []\n",
    "preds_list = []\n",
    "\n",
    "model.eval() # 모델을 평가 상태로 설정 \n",
    "\n",
    "with torch.no_grad(): # 기울기 계산 비활성 -\n",
    "    for images, labels in loader_valid:\n",
    "        # 이미지, 레이블 데이터 미니배치를 장비에 할당 \n",
    "        images = images.to(device)\n",
    "        labels = labels.to(device)\n",
    "        # 이미지 데이터를 신경망 모델의 입력값으로 사용해 출력값 계산\n",
    "        outputs = model(images)\n",
    "        preds = torch.softmax(outputs.cpu(), dim=1)[:, 1] # 예측 확률값 \n",
    "        true = labels.cpu() # 실제값 \n",
    "        # 예측 확률값과 실제값을 리스트에 추가\n",
    "        preds_list.extend(preds)\n",
    "        true_list.extend(true)\n",
    "        \n",
    "    # 검증 데이터 ROC AUC 점수 계산 \n",
    "    print(f'검증 데이터 ROC AUC : {roc_auc_score(true_list, preds_list)}')\n",
    "#     print(f'검증 데이터 ROC AUC : {roc_auc_score(true_list, preds_list):.4f}')    "
   ]
  },
  {
   "cell_type": "code",
   "execution_count": 16,
   "id": "supported-kansas",
   "metadata": {
    "_uuid": "870413a60281e0c4115fbc7cf192508e15a9e269",
    "execution": {
     "iopub.execute_input": "2021-06-29T10:37:13.794253Z",
     "iopub.status.busy": "2021-06-29T10:37:13.792498Z",
     "iopub.status.idle": "2021-06-29T10:37:13.794856Z",
     "shell.execute_reply": "2021-06-29T10:37:13.795244Z",
     "shell.execute_reply.started": "2021-06-29T07:51:23.114477Z"
    },
    "papermill": {
     "duration": 0.035553,
     "end_time": "2021-06-29T10:37:13.795374",
     "exception": false,
     "start_time": "2021-06-29T10:37:13.759821",
     "status": "completed"
    },
    "tags": []
   },
   "outputs": [],
   "source": [
    "dataset_test = ImageDataset(df=submission, img_dir='test/', transform=transform_test)\n",
    "loader_test = DataLoader(dataset=dataset_test, batch_size=32, \n",
    "                         shuffle=False)"
   ]
  },
  {
   "cell_type": "code",
   "execution_count": 17,
   "id": "deadly-jackson",
   "metadata": {
    "execution": {
     "iopub.execute_input": "2021-06-29T10:37:13.861625Z",
     "iopub.status.busy": "2021-06-29T10:37:13.860578Z",
     "iopub.status.idle": "2021-06-29T10:37:17.800739Z",
     "shell.execute_reply": "2021-06-29T10:37:17.801142Z",
     "shell.execute_reply.started": "2021-06-29T07:51:23.122574Z"
    },
    "papermill": {
     "duration": 3.976826,
     "end_time": "2021-06-29T10:37:17.801299",
     "exception": false,
     "start_time": "2021-06-29T10:37:13.824473",
     "status": "completed"
    },
    "tags": []
   },
   "outputs": [],
   "source": [
    "model.eval() # 모델을 평가 상태로 설정\n",
    "\n",
    "preds = [] # 타깃 예측 값 저장용 변수 초기화\n",
    "\n",
    "with torch.no_grad(): # 기울기 계산 비활성\n",
    "    for images, _ in loader_test:\n",
    "        # 이미지 데이터 미니배치를 장비에 할당\n",
    "        images = images.to(device)\n",
    "        # 이미지 데이터를 신경망 모델의 입력값으로 사용해 출력값 계산\n",
    "        outputs = model(images)\n",
    "        # 타깃 값이 1일 확률(예측 값)\n",
    "        preds_part = torch.softmax(outputs.cpu(), dim=1)[:, 1].tolist()\n",
    "        # preds에 preds_part 이어붙이기\n",
    "        preds.extend(preds_part)"
   ]
  },
  {
   "cell_type": "code",
   "execution_count": 18,
   "id": "intelligent-rogers",
   "metadata": {
    "execution": {
     "iopub.execute_input": "2021-06-29T10:37:17.862163Z",
     "iopub.status.busy": "2021-06-29T10:37:17.861633Z",
     "iopub.status.idle": "2021-06-29T10:37:18.015594Z",
     "shell.execute_reply": "2021-06-29T10:37:18.015117Z",
     "shell.execute_reply.started": "2021-06-29T07:51:27.073005Z"
    },
    "papermill": {
     "duration": 0.186021,
     "end_time": "2021-06-29T10:37:18.015714",
     "exception": false,
     "start_time": "2021-06-29T10:37:17.829693",
     "status": "completed"
    },
    "tags": []
   },
   "outputs": [],
   "source": [
    "submission['has_cactus'] = preds\n",
    "submission.to_csv('submission.csv', index=False)"
   ]
  },
  {
   "cell_type": "code",
   "execution_count": 19,
   "id": "animated-keyboard",
   "metadata": {
    "execution": {
     "iopub.execute_input": "2021-06-29T10:37:18.076498Z",
     "iopub.status.busy": "2021-06-29T10:37:18.075704Z",
     "iopub.status.idle": "2021-06-29T10:37:18.087378Z",
     "shell.execute_reply": "2021-06-29T10:37:18.086758Z",
     "shell.execute_reply.started": "2021-06-29T07:51:27.365987Z"
    },
    "papermill": {
     "duration": 0.044211,
     "end_time": "2021-06-29T10:37:18.087531",
     "exception": false,
     "start_time": "2021-06-29T10:37:18.043320",
     "status": "completed"
    },
    "tags": []
   },
   "outputs": [
    {
     "data": {
      "text/html": [
       "<div>\n",
       "<style scoped>\n",
       "    .dataframe tbody tr th:only-of-type {\n",
       "        vertical-align: middle;\n",
       "    }\n",
       "\n",
       "    .dataframe tbody tr th {\n",
       "        vertical-align: top;\n",
       "    }\n",
       "\n",
       "    .dataframe thead th {\n",
       "        text-align: right;\n",
       "    }\n",
       "</style>\n",
       "<table border=\"1\" class=\"dataframe\">\n",
       "  <thead>\n",
       "    <tr style=\"text-align: right;\">\n",
       "      <th></th>\n",
       "      <th>id</th>\n",
       "      <th>has_cactus</th>\n",
       "    </tr>\n",
       "  </thead>\n",
       "  <tbody>\n",
       "    <tr>\n",
       "      <th>0</th>\n",
       "      <td>000940378805c44108d287872b2f04ce.jpg</td>\n",
       "      <td>1.000000</td>\n",
       "    </tr>\n",
       "    <tr>\n",
       "      <th>1</th>\n",
       "      <td>0017242f54ececa4512b4d7937d1e21e.jpg</td>\n",
       "      <td>1.000000</td>\n",
       "    </tr>\n",
       "    <tr>\n",
       "      <th>2</th>\n",
       "      <td>001ee6d8564003107853118ab87df407.jpg</td>\n",
       "      <td>0.000003</td>\n",
       "    </tr>\n",
       "    <tr>\n",
       "      <th>3</th>\n",
       "      <td>002e175c3c1e060769475f52182583d0.jpg</td>\n",
       "      <td>0.000048</td>\n",
       "    </tr>\n",
       "    <tr>\n",
       "      <th>4</th>\n",
       "      <td>0036e44a7e8f7218e9bc7bf8137e4943.jpg</td>\n",
       "      <td>0.384290</td>\n",
       "    </tr>\n",
       "    <tr>\n",
       "      <th>...</th>\n",
       "      <td>...</td>\n",
       "      <td>...</td>\n",
       "    </tr>\n",
       "    <tr>\n",
       "      <th>3995</th>\n",
       "      <td>ffaafd0c9f2f0e73172848463bc2e523.jpg</td>\n",
       "      <td>1.000000</td>\n",
       "    </tr>\n",
       "    <tr>\n",
       "      <th>3996</th>\n",
       "      <td>ffae37344310a1549162493237d25d3f.jpg</td>\n",
       "      <td>1.000000</td>\n",
       "    </tr>\n",
       "    <tr>\n",
       "      <th>3997</th>\n",
       "      <td>ffbd469c56873d064326204aac546e0d.jpg</td>\n",
       "      <td>1.000000</td>\n",
       "    </tr>\n",
       "    <tr>\n",
       "      <th>3998</th>\n",
       "      <td>ffcb76b7d47f29ece11c751e5f763f52.jpg</td>\n",
       "      <td>1.000000</td>\n",
       "    </tr>\n",
       "    <tr>\n",
       "      <th>3999</th>\n",
       "      <td>fffed17d1a8e0433a934db518d7f532c.jpg</td>\n",
       "      <td>1.000000</td>\n",
       "    </tr>\n",
       "  </tbody>\n",
       "</table>\n",
       "<p>4000 rows × 2 columns</p>\n",
       "</div>"
      ],
      "text/plain": [
       "                                        id  has_cactus\n",
       "0     000940378805c44108d287872b2f04ce.jpg    1.000000\n",
       "1     0017242f54ececa4512b4d7937d1e21e.jpg    1.000000\n",
       "2     001ee6d8564003107853118ab87df407.jpg    0.000003\n",
       "3     002e175c3c1e060769475f52182583d0.jpg    0.000048\n",
       "4     0036e44a7e8f7218e9bc7bf8137e4943.jpg    0.384290\n",
       "...                                    ...         ...\n",
       "3995  ffaafd0c9f2f0e73172848463bc2e523.jpg    1.000000\n",
       "3996  ffae37344310a1549162493237d25d3f.jpg    1.000000\n",
       "3997  ffbd469c56873d064326204aac546e0d.jpg    1.000000\n",
       "3998  ffcb76b7d47f29ece11c751e5f763f52.jpg    1.000000\n",
       "3999  fffed17d1a8e0433a934db518d7f532c.jpg    1.000000\n",
       "\n",
       "[4000 rows x 2 columns]"
      ]
     },
     "execution_count": 19,
     "metadata": {},
     "output_type": "execute_result"
    }
   ],
   "source": [
    "submission"
   ]
  },
  {
   "cell_type": "code",
   "execution_count": 20,
   "id": "plain-capitol",
   "metadata": {
    "execution": {
     "iopub.execute_input": "2021-06-29T10:37:18.147044Z",
     "iopub.status.busy": "2021-06-29T10:37:18.146279Z",
     "iopub.status.idle": "2021-06-29T10:37:18.695721Z",
     "shell.execute_reply": "2021-06-29T10:37:18.695127Z",
     "shell.execute_reply.started": "2021-06-29T07:51:27.383710Z"
    },
    "papermill": {
     "duration": 0.580606,
     "end_time": "2021-06-29T10:37:18.695883",
     "exception": false,
     "start_time": "2021-06-29T10:37:18.115277",
     "status": "completed"
    },
    "tags": []
   },
   "outputs": [],
   "source": [
    "import shutil\n",
    "\n",
    "shutil.rmtree('./train')\n",
    "shutil.rmtree('./test')"
   ]
  }
 ],
 "metadata": {
  "kernelspec": {
   "display_name": "Python 3",
   "language": "python",
   "name": "python3"
  },
  "language_info": {
   "codemirror_mode": {
    "name": "ipython",
    "version": 3
   },
   "file_extension": ".py",
   "mimetype": "text/x-python",
   "name": "python",
   "nbconvert_exporter": "python",
   "pygments_lexer": "ipython3",
   "version": "3.7.9"
  },
  "papermill": {
   "default_parameters": {},
   "duration": 1417.275508,
   "end_time": "2021-06-29T10:37:19.633425",
   "environment_variables": {},
   "exception": null,
   "input_path": "__notebook__.ipynb",
   "output_path": "__notebook__.ipynb",
   "parameters": {},
   "start_time": "2021-06-29T10:13:42.357917",
   "version": "2.3.2"
  }
 },
 "nbformat": 4,
 "nbformat_minor": 5
}
