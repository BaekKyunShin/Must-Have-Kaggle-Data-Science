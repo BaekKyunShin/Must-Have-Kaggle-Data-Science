{
 "cells": [
  {
   "cell_type": "markdown",
   "id": "immediate-keyboard",
   "metadata": {
    "papermill": {
     "duration": 0.01548,
     "end_time": "2021-06-01T03:41:27.306103",
     "exception": false,
     "start_time": "2021-06-01T03:41:27.290623",
     "status": "completed"
    },
    "tags": []
   },
   "source": [
    "# 7.4 항공 사진 내 선인장 식별 경진대회 모델 성능 개선II\n",
    "- [항공 사진 내 선인장 식별 경진대회 링크](https://www.kaggle.com/c/aerial-cactus-identification)\n",
    "- [모델링 노트북 참고 링크](https://www.kaggle.com/bonhart/simple-cnn-on-pytorch-for-beginers)\n"
   ]
  },
  {
   "cell_type": "code",
   "execution_count": 1,
   "id": "material-redhead",
   "metadata": {
    "execution": {
     "iopub.execute_input": "2021-06-01T03:41:27.340042Z",
     "iopub.status.busy": "2021-06-01T03:41:27.338607Z",
     "iopub.status.idle": "2021-06-01T03:41:27.393949Z",
     "shell.execute_reply": "2021-06-01T03:41:27.392969Z",
     "shell.execute_reply.started": "2021-06-01T03:14:53.528324Z"
    },
    "papermill": {
     "duration": 0.073388,
     "end_time": "2021-06-01T03:41:27.394084",
     "exception": false,
     "start_time": "2021-06-01T03:41:27.320696",
     "status": "completed"
    },
    "tags": []
   },
   "outputs": [],
   "source": [
    "import pandas as pd\n",
    "\n",
    "# 데이터 경로\n",
    "data_path = '/kaggle/input/aerial-cactus-identification/'\n",
    "\n",
    "labels = pd.read_csv(data_path + 'train.csv')\n",
    "submission = pd.read_csv(data_path + 'sample_submission.csv')"
   ]
  },
  {
   "cell_type": "code",
   "execution_count": 2,
   "id": "established-ability",
   "metadata": {
    "execution": {
     "iopub.execute_input": "2021-06-01T03:41:27.427253Z",
     "iopub.status.busy": "2021-06-01T03:41:27.426730Z",
     "iopub.status.idle": "2021-06-01T03:41:30.881548Z",
     "shell.execute_reply": "2021-06-01T03:41:30.880683Z",
     "shell.execute_reply.started": "2021-06-01T03:14:53.584115Z"
    },
    "papermill": {
     "duration": 3.473189,
     "end_time": "2021-06-01T03:41:30.881703",
     "exception": false,
     "start_time": "2021-06-01T03:41:27.408514",
     "status": "completed"
    },
    "tags": []
   },
   "outputs": [],
   "source": [
    "from zipfile import ZipFile\n",
    "\n",
    "# 훈련 이미지 데이터 압축 풀기\n",
    "with ZipFile(data_path + 'train.zip') as zipper:\n",
    "    zipper.extractall()\n",
    "    \n",
    "# 테스트 이미지 데이터 압 풀기\n",
    "with ZipFile(data_path + 'test.zip') as zipper:\n",
    "    zipper.extractall()"
   ]
  },
  {
   "cell_type": "code",
   "execution_count": 3,
   "id": "global-definition",
   "metadata": {
    "execution": {
     "iopub.execute_input": "2021-06-01T03:41:30.917298Z",
     "iopub.status.busy": "2021-06-01T03:41:30.916641Z",
     "iopub.status.idle": "2021-06-01T03:41:32.313028Z",
     "shell.execute_reply": "2021-06-01T03:41:32.312040Z",
     "shell.execute_reply.started": "2021-06-01T03:14:56.813886Z"
    },
    "papermill": {
     "duration": 1.415673,
     "end_time": "2021-06-01T03:41:32.313158",
     "exception": false,
     "start_time": "2021-06-01T03:41:30.897485",
     "status": "completed"
    },
    "tags": []
   },
   "outputs": [],
   "source": [
    "import torch # 파이토치 \n",
    "import random\n",
    "import numpy as np\n",
    "\n",
    "# 시드 값 고정\n",
    "def set_seed(seed):\n",
    "#     torch.use_deterministic_algorithms(True)\n",
    "    torch.backends.cudnn.deterministic = True\n",
    "    torch.backends.cudnn.benchmark = False\n",
    "    torch.manual_seed(seed)\n",
    "    torch.cuda.manual_seed_all(seed)\n",
    "    np.random.seed(seed)\n",
    "    random.seed(seed)\n",
    "\n",
    "set_seed(10)"
   ]
  },
  {
   "cell_type": "code",
   "execution_count": 4,
   "id": "democratic-table",
   "metadata": {
    "execution": {
     "iopub.execute_input": "2021-06-01T03:41:32.389380Z",
     "iopub.status.busy": "2021-06-01T03:41:32.388631Z",
     "iopub.status.idle": "2021-06-01T03:41:32.391473Z",
     "shell.execute_reply": "2021-06-01T03:41:32.391049Z",
     "shell.execute_reply.started": "2021-06-01T03:14:58.192362Z"
    },
    "papermill": {
     "duration": 0.063462,
     "end_time": "2021-06-01T03:41:32.391588",
     "exception": false,
     "start_time": "2021-06-01T03:41:32.328126",
     "status": "completed"
    },
    "tags": []
   },
   "outputs": [],
   "source": [
    "device = torch.device('cuda' if torch.cuda.is_available() else 'cpu')"
   ]
  },
  {
   "cell_type": "code",
   "execution_count": 5,
   "id": "automotive-intro",
   "metadata": {
    "_uuid": "c07eab67e573c7de05e11065b5bafc1bbff284fb",
    "execution": {
     "iopub.execute_input": "2021-06-01T03:41:32.434722Z",
     "iopub.status.busy": "2021-06-01T03:41:32.433003Z",
     "iopub.status.idle": "2021-06-01T03:41:33.292183Z",
     "shell.execute_reply": "2021-06-01T03:41:33.293120Z",
     "shell.execute_reply.started": "2021-06-01T03:14:58.263423Z"
    },
    "papermill": {
     "duration": 0.88579,
     "end_time": "2021-06-01T03:41:33.293324",
     "exception": false,
     "start_time": "2021-06-01T03:41:32.407534",
     "status": "completed"
    },
    "tags": []
   },
   "outputs": [],
   "source": [
    "from sklearn.model_selection import train_test_split\n",
    "\n",
    "# 훈련 데이터, 검증 데이터 분리\n",
    "train, valid = train_test_split(labels, \n",
    "                                test_size=0.1,\n",
    "                                stratify=labels['has_cactus'],\n",
    "                                random_state=10)"
   ]
  },
  {
   "cell_type": "code",
   "execution_count": 6,
   "id": "czech-geography",
   "metadata": {
    "_uuid": "1b05af8d59d9d5b092e96f72dfebb19591416de9",
    "execution": {
     "iopub.execute_input": "2021-06-01T03:41:33.360776Z",
     "iopub.status.busy": "2021-06-01T03:41:33.359767Z",
     "iopub.status.idle": "2021-06-01T03:41:33.615122Z",
     "shell.execute_reply": "2021-06-01T03:41:33.614536Z",
     "shell.execute_reply.started": "2021-06-01T03:14:59.063182Z"
    },
    "papermill": {
     "duration": 0.292025,
     "end_time": "2021-06-01T03:41:33.615261",
     "exception": false,
     "start_time": "2021-06-01T03:41:33.323236",
     "status": "completed"
    },
    "tags": []
   },
   "outputs": [],
   "source": [
    "import cv2\n",
    "from torch.utils.data import Dataset # 데이터 생성을 위한 클래스\n",
    "\n",
    "class ImageDataset(Dataset):\n",
    "    # 초기화 메서드(생성자)\n",
    "    def __init__(self, df, img_dir = './', transform=None):\n",
    "        super().__init__() # 상속받은 Dataset의 __init__() 메서드 호출 \n",
    "        self.df = df\n",
    "        self.img_dir = img_dir\n",
    "        self.transform = transform\n",
    "    \n",
    "    # 데이터 세트 크기 반환 메서드 \n",
    "    def __len__(self):\n",
    "        return len(self.df)\n",
    "    \n",
    "    # 인덱스(idx)에 해당하는 데이터 반환 메서드 \n",
    "    def __getitem__(self, idx):\n",
    "        img_path = self.img_dir + self.df.iloc[idx, 0] # 이미지 파일 경로 \n",
    "        image = cv2.imread(img_path) # 이미지 파일 읽기 \n",
    "        image = cv2.cvtColor(image, cv2.COLOR_BGR2RGB) # 이미지 색상 보정\n",
    "        label = self.df.iloc[idx, 1] # 이미지 레이블(타깃 값)\n",
    "        # 이미지 변환\n",
    "        if self.transform is not None:\n",
    "            image = self.transform(image)\n",
    "        return image, label"
   ]
  },
  {
   "cell_type": "code",
   "execution_count": 7,
   "id": "limiting-tension",
   "metadata": {
    "execution": {
     "iopub.execute_input": "2021-06-01T03:41:33.650531Z",
     "iopub.status.busy": "2021-06-01T03:41:33.649900Z",
     "iopub.status.idle": "2021-06-01T03:41:33.772898Z",
     "shell.execute_reply": "2021-06-01T03:41:33.772467Z",
     "shell.execute_reply.started": "2021-06-01T03:14:59.326241Z"
    },
    "papermill": {
     "duration": 0.143045,
     "end_time": "2021-06-01T03:41:33.773034",
     "exception": false,
     "start_time": "2021-06-01T03:41:33.629989",
     "status": "completed"
    },
    "tags": []
   },
   "outputs": [],
   "source": [
    "from torchvision import transforms # 이미지 변환을 위한 모듈\n",
    "\n",
    "# 훈련 데이터용 변환기\n",
    "transform_train = transforms.Compose([transforms.ToPILImage(),\n",
    "                                      transforms.Pad(32, padding_mode='symmetric'),\n",
    "                                      transforms.RandomHorizontalFlip(),\n",
    "                                      transforms.RandomVerticalFlip(),\n",
    "                                      transforms.RandomRotation(10),\n",
    "                                      transforms.ToTensor(),\n",
    "                                      transforms.Normalize(mean=[0.5, 0.5, 0.5],\n",
    "                                                           std=[0.2, 0.2, 0.2])])\n",
    "# 검증 및 테스트 데이터용 변환기\n",
    "transform_test= transforms.Compose([transforms.ToPILImage(),\n",
    "                                    transforms.Pad(32, padding_mode='symmetric'),\n",
    "                                    transforms.ToTensor(),\n",
    "                                    transforms.Normalize(mean=[0.5, 0.5, 0.5],\n",
    "                                                         std=[0.2, 0.2, 0.2])])"
   ]
  },
  {
   "cell_type": "code",
   "execution_count": 8,
   "id": "fourth-trademark",
   "metadata": {
    "execution": {
     "iopub.execute_input": "2021-06-01T03:41:33.805312Z",
     "iopub.status.busy": "2021-06-01T03:41:33.804779Z",
     "iopub.status.idle": "2021-06-01T03:41:33.808145Z",
     "shell.execute_reply": "2021-06-01T03:41:33.808521Z",
     "shell.execute_reply.started": "2021-06-01T03:14:59.464582Z"
    },
    "papermill": {
     "duration": 0.021289,
     "end_time": "2021-06-01T03:41:33.808637",
     "exception": false,
     "start_time": "2021-06-01T03:41:33.787348",
     "status": "completed"
    },
    "tags": []
   },
   "outputs": [],
   "source": [
    "dataset_all = ImageDataset(df=labels, img_dir='train/', transform=transform_train)\n",
    "dataset_valid = ImageDataset(df=valid, img_dir='train/', transform=transform_test)"
   ]
  },
  {
   "cell_type": "code",
   "execution_count": 9,
   "id": "awful-possibility",
   "metadata": {
    "_uuid": "c247391c28497ad35c72f5218398ea71f2d0d5ff",
    "execution": {
     "iopub.execute_input": "2021-06-01T03:41:33.843004Z",
     "iopub.status.busy": "2021-06-01T03:41:33.841324Z",
     "iopub.status.idle": "2021-06-01T03:41:33.843546Z",
     "shell.execute_reply": "2021-06-01T03:41:33.843943Z",
     "shell.execute_reply.started": "2021-06-01T03:14:59.471580Z"
    },
    "papermill": {
     "duration": 0.02097,
     "end_time": "2021-06-01T03:41:33.844067",
     "exception": false,
     "start_time": "2021-06-01T03:41:33.823097",
     "status": "completed"
    },
    "tags": []
   },
   "outputs": [],
   "source": [
    "from torch.utils.data import DataLoader # 데이터 로더 생성을 위한 클래스\n",
    "\n",
    "loader_all = DataLoader(dataset=dataset_all, batch_size=32, \n",
    "                          shuffle=True)\n",
    "loader_valid = DataLoader(dataset=dataset_valid, batch_size=32, \n",
    "                          shuffle=False)"
   ]
  },
  {
   "cell_type": "code",
   "execution_count": 10,
   "id": "focal-newark",
   "metadata": {
    "_uuid": "0a2d5600bc2eb915ec0bdf5b52ba11e25096f7d0",
    "execution": {
     "iopub.execute_input": "2021-06-01T03:41:33.884731Z",
     "iopub.status.busy": "2021-06-01T03:41:33.879817Z",
     "iopub.status.idle": "2021-06-01T03:41:33.887718Z",
     "shell.execute_reply": "2021-06-01T03:41:33.887238Z",
     "shell.execute_reply.started": "2021-06-01T03:14:59.480456Z"
    },
    "papermill": {
     "duration": 0.029616,
     "end_time": "2021-06-01T03:41:33.887812",
     "exception": false,
     "start_time": "2021-06-01T03:41:33.858196",
     "status": "completed"
    },
    "tags": []
   },
   "outputs": [],
   "source": [
    "import torch.nn as nn # 신경망 모듈\n",
    "import torch.nn.functional as F # 신경망 모듈에서 자주 사용되는 함수\n",
    "\n",
    "class Model(nn.Module):\n",
    "    # 신경망 계층 정의\n",
    "    def __init__(self):\n",
    "        super().__init__() # 상속받은 nn.Module의 __init__() 메서드 호출\n",
    "        # 첫 번째 ~ 다섯 번째 합성곱, 배치 정규화, 최대 풀링 계층 \n",
    "        self.layer1 = nn.Sequential(nn.Conv2d(in_channels=3, out_channels=32,\n",
    "                                              kernel_size=3, padding=2),\n",
    "                                    nn.BatchNorm2d(32), # 배치 정규화 ---①\n",
    "                                    nn.LeakyReLU(), # LeakyReLU 활성화 함수 ---②\n",
    "                                    nn.MaxPool2d(kernel_size=2))\n",
    "\n",
    "        self.layer2 = nn.Sequential(nn.Conv2d(in_channels=32, out_channels=64,\n",
    "                                              kernel_size=3, padding=2),\n",
    "                                    nn.BatchNorm2d(64),\n",
    "                                    nn.LeakyReLU(),\n",
    "                                    nn.MaxPool2d(kernel_size=2))\n",
    "        \n",
    "        self.layer3 = nn.Sequential(nn.Conv2d(in_channels=64, out_channels=128,\n",
    "                                              kernel_size=3, padding=2),\n",
    "                                    nn.BatchNorm2d(128),\n",
    "                                    nn.LeakyReLU(),\n",
    "                                    nn.MaxPool2d(kernel_size=2))\n",
    "        \n",
    "        self.layer4 = nn.Sequential(nn.Conv2d(in_channels=128, out_channels=256,\n",
    "                                              kernel_size=3, padding=2),\n",
    "                                    nn.BatchNorm2d(256),\n",
    "                                    nn.LeakyReLU(),\n",
    "                                    nn.MaxPool2d(kernel_size=2))\n",
    "        \n",
    "        self.layer5 = nn.Sequential(nn.Conv2d(in_channels=256, out_channels=512,\n",
    "                                              kernel_size=3, padding=2),\n",
    "                                    nn.BatchNorm2d(512),\n",
    "                                    nn.LeakyReLU(),\n",
    "                                    nn.MaxPool2d(kernel_size=2))\n",
    "        # 평균 풀링 계층 \n",
    "        self.avg_pool = nn.AvgPool2d(kernel_size=4) \n",
    "        # 전결합 계층 ---③\n",
    "        self.fc1 = nn.Linear(in_features=512 * 1 * 1, out_features=64)\n",
    "        self.fc2 = nn.Linear(in_features=64, out_features=2)\n",
    "\n",
    "    # 순전파 출력 정의 \n",
    "    def forward(self, x):\n",
    "        x = self.layer1(x)\n",
    "        x = self.layer2(x)\n",
    "        x = self.layer3(x)\n",
    "        x = self.layer4(x)\n",
    "        x = self.layer5(x)\n",
    "        x = self.avg_pool(x)\n",
    "        x = x.view(-1, 512 * 1 * 1) # 평탄화\n",
    "        x = self.fc1(x)\n",
    "        x = self.fc2(x)\n",
    "        return x"
   ]
  },
  {
   "cell_type": "code",
   "execution_count": 11,
   "id": "controlled-integration",
   "metadata": {
    "_cell_guid": "79c7e3d0-c299-4dcb-8224-4455121ee9b0",
    "_uuid": "d629ff2d2480ee46fbb7e2d37f6b5fab8052498a",
    "execution": {
     "iopub.execute_input": "2021-06-01T03:41:33.919849Z",
     "iopub.status.busy": "2021-06-01T03:41:33.919373Z",
     "iopub.status.idle": "2021-06-01T03:41:37.935467Z",
     "shell.execute_reply": "2021-06-01T03:41:37.937025Z",
     "shell.execute_reply.started": "2021-06-01T03:14:59.499329Z"
    },
    "papermill": {
     "duration": 4.035038,
     "end_time": "2021-06-01T03:41:37.937422",
     "exception": false,
     "start_time": "2021-06-01T03:41:33.902384",
     "status": "completed"
    },
    "tags": []
   },
   "outputs": [
    {
     "data": {
      "text/plain": [
       "Model(\n",
       "  (layer1): Sequential(\n",
       "    (0): Conv2d(3, 32, kernel_size=(3, 3), stride=(1, 1), padding=(2, 2))\n",
       "    (1): BatchNorm2d(32, eps=1e-05, momentum=0.1, affine=True, track_running_stats=True)\n",
       "    (2): LeakyReLU(negative_slope=0.01)\n",
       "    (3): MaxPool2d(kernel_size=2, stride=2, padding=0, dilation=1, ceil_mode=False)\n",
       "  )\n",
       "  (layer2): Sequential(\n",
       "    (0): Conv2d(32, 64, kernel_size=(3, 3), stride=(1, 1), padding=(2, 2))\n",
       "    (1): BatchNorm2d(64, eps=1e-05, momentum=0.1, affine=True, track_running_stats=True)\n",
       "    (2): LeakyReLU(negative_slope=0.01)\n",
       "    (3): MaxPool2d(kernel_size=2, stride=2, padding=0, dilation=1, ceil_mode=False)\n",
       "  )\n",
       "  (layer3): Sequential(\n",
       "    (0): Conv2d(64, 128, kernel_size=(3, 3), stride=(1, 1), padding=(2, 2))\n",
       "    (1): BatchNorm2d(128, eps=1e-05, momentum=0.1, affine=True, track_running_stats=True)\n",
       "    (2): LeakyReLU(negative_slope=0.01)\n",
       "    (3): MaxPool2d(kernel_size=2, stride=2, padding=0, dilation=1, ceil_mode=False)\n",
       "  )\n",
       "  (layer4): Sequential(\n",
       "    (0): Conv2d(128, 256, kernel_size=(3, 3), stride=(1, 1), padding=(2, 2))\n",
       "    (1): BatchNorm2d(256, eps=1e-05, momentum=0.1, affine=True, track_running_stats=True)\n",
       "    (2): LeakyReLU(negative_slope=0.01)\n",
       "    (3): MaxPool2d(kernel_size=2, stride=2, padding=0, dilation=1, ceil_mode=False)\n",
       "  )\n",
       "  (layer5): Sequential(\n",
       "    (0): Conv2d(256, 512, kernel_size=(3, 3), stride=(1, 1), padding=(2, 2))\n",
       "    (1): BatchNorm2d(512, eps=1e-05, momentum=0.1, affine=True, track_running_stats=True)\n",
       "    (2): LeakyReLU(negative_slope=0.01)\n",
       "    (3): MaxPool2d(kernel_size=2, stride=2, padding=0, dilation=1, ceil_mode=False)\n",
       "  )\n",
       "  (avg_pool): AvgPool2d(kernel_size=4, stride=4, padding=0)\n",
       "  (fc1): Linear(in_features=512, out_features=64, bias=True)\n",
       "  (fc2): Linear(in_features=64, out_features=2, bias=True)\n",
       ")"
      ]
     },
     "execution_count": 11,
     "metadata": {},
     "output_type": "execute_result"
    }
   ],
   "source": [
    "model = Model().to(device)\n",
    "\n",
    "model"
   ]
  },
  {
   "cell_type": "code",
   "execution_count": 12,
   "id": "weird-shareware",
   "metadata": {
    "execution": {
     "iopub.execute_input": "2021-06-01T03:41:38.023210Z",
     "iopub.status.busy": "2021-06-01T03:41:38.022528Z",
     "iopub.status.idle": "2021-06-01T03:41:38.025302Z",
     "shell.execute_reply": "2021-06-01T03:41:38.025787Z",
     "shell.execute_reply.started": "2021-06-01T03:15:03.397786Z"
    },
    "papermill": {
     "duration": 0.047895,
     "end_time": "2021-06-01T03:41:38.025915",
     "exception": false,
     "start_time": "2021-06-01T03:41:37.978020",
     "status": "completed"
    },
    "tags": []
   },
   "outputs": [],
   "source": [
    "# 손실함수\n",
    "criterion = nn.CrossEntropyLoss()"
   ]
  },
  {
   "cell_type": "code",
   "execution_count": 13,
   "id": "effective-auckland",
   "metadata": {
    "_uuid": "fceb2929d8750acb2de745cd9ff3d2d458820df8",
    "execution": {
     "iopub.execute_input": "2021-06-01T03:41:38.063695Z",
     "iopub.status.busy": "2021-06-01T03:41:38.063068Z",
     "iopub.status.idle": "2021-06-01T03:41:38.065852Z",
     "shell.execute_reply": "2021-06-01T03:41:38.065451Z",
     "shell.execute_reply.started": "2021-06-01T03:15:03.404570Z"
    },
    "papermill": {
     "duration": 0.021397,
     "end_time": "2021-06-01T03:41:38.065975",
     "exception": false,
     "start_time": "2021-06-01T03:41:38.044578",
     "status": "completed"
    },
    "tags": []
   },
   "outputs": [],
   "source": [
    "# 옵티마이저\n",
    "optimizer = torch.optim.Adamax(model.parameters(), lr=0.0001)"
   ]
  },
  {
   "cell_type": "code",
   "execution_count": 14,
   "id": "amber-picnic",
   "metadata": {
    "_uuid": "2c37417ae6b62ab4551bc8a888916ca1e591d284",
    "execution": {
     "iopub.execute_input": "2021-06-01T03:41:38.105115Z",
     "iopub.status.busy": "2021-06-01T03:41:38.103728Z",
     "iopub.status.idle": "2021-06-01T04:04:20.934867Z",
     "shell.execute_reply": "2021-06-01T04:04:20.935323Z",
     "shell.execute_reply.started": "2021-06-01T03:15:03.413876Z"
    },
    "papermill": {
     "duration": 1362.854677,
     "end_time": "2021-06-01T04:04:20.935491",
     "exception": false,
     "start_time": "2021-06-01T03:41:38.080814",
     "status": "completed"
    },
    "tags": []
   },
   "outputs": [
    {
     "name": "stdout",
     "output_type": "stream",
     "text": [
      "에폭: [1/50], 손실값: 0.1087\n",
      "에폭: [2/50], 손실값: 0.0580\n",
      "에폭: [3/50], 손실값: 0.0431\n",
      "에폭: [4/50], 손실값: 0.0368\n",
      "에폭: [5/50], 손실값: 0.0302\n",
      "에폭: [6/50], 손실값: 0.0258\n",
      "에폭: [7/50], 손실값: 0.0224\n",
      "에폭: [8/50], 손실값: 0.0210\n",
      "에폭: [9/50], 손실값: 0.0193\n",
      "에폭: [10/50], 손실값: 0.0193\n",
      "에폭: [11/50], 손실값: 0.0173\n",
      "에폭: [12/50], 손실값: 0.0170\n",
      "에폭: [13/50], 손실값: 0.0142\n",
      "에폭: [14/50], 손실값: 0.0158\n",
      "에폭: [15/50], 손실값: 0.0143\n",
      "에폭: [16/50], 손실값: 0.0115\n",
      "에폭: [17/50], 손실값: 0.0119\n",
      "에폭: [18/50], 손실값: 0.0126\n",
      "에폭: [19/50], 손실값: 0.0095\n",
      "에폭: [20/50], 손실값: 0.0094\n",
      "에폭: [21/50], 손실값: 0.0101\n",
      "에폭: [22/50], 손실값: 0.0096\n",
      "에폭: [23/50], 손실값: 0.0109\n",
      "에폭: [24/50], 손실값: 0.0086\n",
      "에폭: [25/50], 손실값: 0.0076\n",
      "에폭: [26/50], 손실값: 0.0078\n",
      "에폭: [27/50], 손실값: 0.0081\n",
      "에폭: [28/50], 손실값: 0.0076\n",
      "에폭: [29/50], 손실값: 0.0071\n",
      "에폭: [30/50], 손실값: 0.0066\n",
      "에폭: [31/50], 손실값: 0.0070\n",
      "에폭: [32/50], 손실값: 0.0058\n",
      "에폭: [33/50], 손실값: 0.0068\n",
      "에폭: [34/50], 손실값: 0.0069\n",
      "에폭: [35/50], 손실값: 0.0049\n",
      "에폭: [36/50], 손실값: 0.0063\n",
      "에폭: [37/50], 손실값: 0.0046\n",
      "에폭: [38/50], 손실값: 0.0055\n",
      "에폭: [39/50], 손실값: 0.0045\n",
      "에폭: [40/50], 손실값: 0.0039\n",
      "에폭: [41/50], 손실값: 0.0037\n",
      "에폭: [42/50], 손실값: 0.0046\n",
      "에폭: [43/50], 손실값: 0.0044\n",
      "에폭: [44/50], 손실값: 0.0040\n",
      "에폭: [45/50], 손실값: 0.0035\n",
      "에폭: [46/50], 손실값: 0.0035\n",
      "에폭: [47/50], 손실값: 0.0025\n",
      "에폭: [48/50], 손실값: 0.0047\n",
      "에폭: [49/50], 손실값: 0.0032\n",
      "에폭: [50/50], 손실값: 0.0042\n"
     ]
    }
   ],
   "source": [
    "epochs = 50 # 총 에폭\n",
    "\n",
    "# 총 에폭만큼 훈련\n",
    "for epoch in range(epochs):\n",
    "    epoch_loss = 0 # 에폭별 손실값 초기화\n",
    "    # 미니배치 크기만큼 데이터를 추출하는 작업을 '반복 횟수'만큼 반복 \n",
    "    for images, labels in loader_all:\n",
    "        # 이미지, 레이블 데이터 미니배치를 장비에 할당 \n",
    "        images = images.to(device)\n",
    "        labels = labels.to(device)\n",
    "        \n",
    "        # 옵티마이저 내 기울기 초기화\n",
    "        optimizer.zero_grad()\n",
    "        # 이미지 데이터를 신경망 모델의 입력값으로 사용해 출력값 계산\n",
    "        outputs = model(images)\n",
    "        # 손실함수를 활용해 outputs와 labels의 손실값 계산\n",
    "        loss = criterion(outputs, labels)\n",
    "        # 역전파 수행\n",
    "        loss.backward()\n",
    "        # 가중치 갱신\n",
    "        optimizer.step()\n",
    "        \n",
    "        epoch_loss += loss.item() # 현재 배치에서의 손실 추가\n",
    "        \n",
    "    print(f'에폭: [{epoch+1}/{epochs}], 손실값: {epoch_loss/len(loader_all):.4f}')"
   ]
  },
  {
   "cell_type": "code",
   "execution_count": 15,
   "id": "miniature-particle",
   "metadata": {
    "execution": {
     "iopub.execute_input": "2021-06-01T04:04:20.996404Z",
     "iopub.status.busy": "2021-06-01T04:04:20.995568Z",
     "iopub.status.idle": "2021-06-01T04:04:22.686465Z",
     "shell.execute_reply": "2021-06-01T04:04:22.687009Z",
     "shell.execute_reply.started": "2021-06-01T03:37:50.936172Z"
    },
    "papermill": {
     "duration": 1.724709,
     "end_time": "2021-06-01T04:04:22.687204",
     "exception": false,
     "start_time": "2021-06-01T04:04:20.962495",
     "status": "completed"
    },
    "tags": []
   },
   "outputs": [
    {
     "name": "stdout",
     "output_type": "stream",
     "text": [
      "검증 데이터 ROC AUC : 1.0000\n"
     ]
    }
   ],
   "source": [
    "from sklearn.metrics import roc_auc_score # ROC AUC 점수 계산 함수\n",
    "\n",
    "# 예측 확률값과 실제값을 담을 리스트 초기화\n",
    "true_list = []\n",
    "preds_list = []\n",
    "\n",
    "model.eval() # 모델을 평가 상태로 설정 \n",
    "\n",
    "with torch.no_grad(): # 기울기 계산 비활성 -\n",
    "    for images, labels in loader_valid:\n",
    "        # 이미지, 레이블 데이터 미니배치를 장비에 할당 \n",
    "        images = images.to(device)\n",
    "        labels = labels.to(device)\n",
    "        # 이미지 데이터를 신경망 모델의 입력값으로 사용해 출력값 계산\n",
    "        outputs = model(images)\n",
    "        preds = torch.softmax(outputs.cpu(), dim=1)[:, 1] # 예측 확률값 \n",
    "        true = labels.cpu() # 실제값 \n",
    "        # 예측 확률값과 실제값을 리스트에 추가\n",
    "        preds_list.extend(preds)\n",
    "        true_list.extend(true)\n",
    "        \n",
    "    # 검증 데이터 ROC AUC 점수 계산 \n",
    "    print(f'검증 데이터 ROC AUC : {roc_auc_score(true_list, preds_list):.4f}')"
   ]
  },
  {
   "cell_type": "code",
   "execution_count": 16,
   "id": "floppy-brick",
   "metadata": {
    "_uuid": "870413a60281e0c4115fbc7cf192508e15a9e269",
    "execution": {
     "iopub.execute_input": "2021-06-01T04:04:22.746895Z",
     "iopub.status.busy": "2021-06-01T04:04:22.746410Z",
     "iopub.status.idle": "2021-06-01T04:04:22.749937Z",
     "shell.execute_reply": "2021-06-01T04:04:22.749510Z",
     "shell.execute_reply.started": "2021-06-01T03:37:52.618069Z"
    },
    "papermill": {
     "duration": 0.034672,
     "end_time": "2021-06-01T04:04:22.750084",
     "exception": false,
     "start_time": "2021-06-01T04:04:22.715412",
     "status": "completed"
    },
    "tags": []
   },
   "outputs": [],
   "source": [
    "dataset_test = ImageDataset(df=submission, img_dir='test/', transform=transform_test)\n",
    "loader_test = DataLoader(dataset=dataset_test, batch_size=32, \n",
    "                         shuffle=False)"
   ]
  },
  {
   "cell_type": "code",
   "execution_count": 17,
   "id": "psychological-rating",
   "metadata": {
    "execution": {
     "iopub.execute_input": "2021-06-01T04:04:22.810079Z",
     "iopub.status.busy": "2021-06-01T04:04:22.809180Z",
     "iopub.status.idle": "2021-06-01T04:04:26.792394Z",
     "shell.execute_reply": "2021-06-01T04:04:26.791398Z",
     "shell.execute_reply.started": "2021-06-01T03:37:52.625307Z"
    },
    "papermill": {
     "duration": 4.015365,
     "end_time": "2021-06-01T04:04:26.792531",
     "exception": false,
     "start_time": "2021-06-01T04:04:22.777166",
     "status": "completed"
    },
    "tags": []
   },
   "outputs": [],
   "source": [
    "model.eval() # 모델을 평가 상태로 설정\n",
    "\n",
    "preds = [] # 타깃 예측 값 저장용 변수 초기화\n",
    "\n",
    "with torch.no_grad(): # 기울기 계산 비활성\n",
    "    for images, _ in loader_test:\n",
    "        # 이미지 데이터 미니배치를 장비에 할당\n",
    "        images = images.to(device)\n",
    "        # 이미지 데이터를 신경망 모델의 입력값으로 사용해 출력값 계산\n",
    "        outputs = model(images)\n",
    "        # 타깃 값이 1일 확률(예측 값)\n",
    "        preds_part = torch.softmax(outputs.cpu(), dim=1)[:, 1].tolist()\n",
    "        # preds에 preds_part 이어붙이기\n",
    "        preds.extend(preds_part)"
   ]
  },
  {
   "cell_type": "code",
   "execution_count": 18,
   "id": "oriented-diversity",
   "metadata": {
    "execution": {
     "iopub.execute_input": "2021-06-01T04:04:26.852208Z",
     "iopub.status.busy": "2021-06-01T04:04:26.851572Z",
     "iopub.status.idle": "2021-06-01T04:04:27.008674Z",
     "shell.execute_reply": "2021-06-01T04:04:27.008231Z",
     "shell.execute_reply.started": "2021-06-01T03:37:56.369377Z"
    },
    "papermill": {
     "duration": 0.188704,
     "end_time": "2021-06-01T04:04:27.008794",
     "exception": false,
     "start_time": "2021-06-01T04:04:26.820090",
     "status": "completed"
    },
    "tags": []
   },
   "outputs": [],
   "source": [
    "submission['has_cactus'] = preds\n",
    "submission.to_csv('submission.csv', index=False)"
   ]
  },
  {
   "cell_type": "code",
   "execution_count": 19,
   "id": "infrared-cotton",
   "metadata": {
    "execution": {
     "iopub.execute_input": "2021-06-01T04:04:27.073006Z",
     "iopub.status.busy": "2021-06-01T04:04:27.072468Z",
     "iopub.status.idle": "2021-06-01T04:04:27.080839Z",
     "shell.execute_reply": "2021-06-01T04:04:27.081289Z",
     "shell.execute_reply.started": "2021-06-01T03:37:56.652334Z"
    },
    "papermill": {
     "duration": 0.044867,
     "end_time": "2021-06-01T04:04:27.081414",
     "exception": false,
     "start_time": "2021-06-01T04:04:27.036547",
     "status": "completed"
    },
    "tags": []
   },
   "outputs": [
    {
     "data": {
      "text/html": [
       "<div>\n",
       "<style scoped>\n",
       "    .dataframe tbody tr th:only-of-type {\n",
       "        vertical-align: middle;\n",
       "    }\n",
       "\n",
       "    .dataframe tbody tr th {\n",
       "        vertical-align: top;\n",
       "    }\n",
       "\n",
       "    .dataframe thead th {\n",
       "        text-align: right;\n",
       "    }\n",
       "</style>\n",
       "<table border=\"1\" class=\"dataframe\">\n",
       "  <thead>\n",
       "    <tr style=\"text-align: right;\">\n",
       "      <th></th>\n",
       "      <th>id</th>\n",
       "      <th>has_cactus</th>\n",
       "    </tr>\n",
       "  </thead>\n",
       "  <tbody>\n",
       "    <tr>\n",
       "      <th>0</th>\n",
       "      <td>000940378805c44108d287872b2f04ce.jpg</td>\n",
       "      <td>1.000000</td>\n",
       "    </tr>\n",
       "    <tr>\n",
       "      <th>1</th>\n",
       "      <td>0017242f54ececa4512b4d7937d1e21e.jpg</td>\n",
       "      <td>1.000000</td>\n",
       "    </tr>\n",
       "    <tr>\n",
       "      <th>2</th>\n",
       "      <td>001ee6d8564003107853118ab87df407.jpg</td>\n",
       "      <td>0.000003</td>\n",
       "    </tr>\n",
       "    <tr>\n",
       "      <th>3</th>\n",
       "      <td>002e175c3c1e060769475f52182583d0.jpg</td>\n",
       "      <td>0.000048</td>\n",
       "    </tr>\n",
       "    <tr>\n",
       "      <th>4</th>\n",
       "      <td>0036e44a7e8f7218e9bc7bf8137e4943.jpg</td>\n",
       "      <td>0.384290</td>\n",
       "    </tr>\n",
       "    <tr>\n",
       "      <th>...</th>\n",
       "      <td>...</td>\n",
       "      <td>...</td>\n",
       "    </tr>\n",
       "    <tr>\n",
       "      <th>3995</th>\n",
       "      <td>ffaafd0c9f2f0e73172848463bc2e523.jpg</td>\n",
       "      <td>1.000000</td>\n",
       "    </tr>\n",
       "    <tr>\n",
       "      <th>3996</th>\n",
       "      <td>ffae37344310a1549162493237d25d3f.jpg</td>\n",
       "      <td>1.000000</td>\n",
       "    </tr>\n",
       "    <tr>\n",
       "      <th>3997</th>\n",
       "      <td>ffbd469c56873d064326204aac546e0d.jpg</td>\n",
       "      <td>1.000000</td>\n",
       "    </tr>\n",
       "    <tr>\n",
       "      <th>3998</th>\n",
       "      <td>ffcb76b7d47f29ece11c751e5f763f52.jpg</td>\n",
       "      <td>1.000000</td>\n",
       "    </tr>\n",
       "    <tr>\n",
       "      <th>3999</th>\n",
       "      <td>fffed17d1a8e0433a934db518d7f532c.jpg</td>\n",
       "      <td>1.000000</td>\n",
       "    </tr>\n",
       "  </tbody>\n",
       "</table>\n",
       "<p>4000 rows × 2 columns</p>\n",
       "</div>"
      ],
      "text/plain": [
       "                                        id  has_cactus\n",
       "0     000940378805c44108d287872b2f04ce.jpg    1.000000\n",
       "1     0017242f54ececa4512b4d7937d1e21e.jpg    1.000000\n",
       "2     001ee6d8564003107853118ab87df407.jpg    0.000003\n",
       "3     002e175c3c1e060769475f52182583d0.jpg    0.000048\n",
       "4     0036e44a7e8f7218e9bc7bf8137e4943.jpg    0.384290\n",
       "...                                    ...         ...\n",
       "3995  ffaafd0c9f2f0e73172848463bc2e523.jpg    1.000000\n",
       "3996  ffae37344310a1549162493237d25d3f.jpg    1.000000\n",
       "3997  ffbd469c56873d064326204aac546e0d.jpg    1.000000\n",
       "3998  ffcb76b7d47f29ece11c751e5f763f52.jpg    1.000000\n",
       "3999  fffed17d1a8e0433a934db518d7f532c.jpg    1.000000\n",
       "\n",
       "[4000 rows x 2 columns]"
      ]
     },
     "execution_count": 19,
     "metadata": {},
     "output_type": "execute_result"
    }
   ],
   "source": [
    "submission"
   ]
  },
  {
   "cell_type": "code",
   "execution_count": 20,
   "id": "historical-concord",
   "metadata": {
    "execution": {
     "iopub.execute_input": "2021-06-01T04:04:27.140577Z",
     "iopub.status.busy": "2021-06-01T04:04:27.139850Z",
     "iopub.status.idle": "2021-06-01T04:04:27.690840Z",
     "shell.execute_reply": "2021-06-01T04:04:27.690378Z",
     "shell.execute_reply.started": "2021-06-01T03:37:56.670171Z"
    },
    "papermill": {
     "duration": 0.581804,
     "end_time": "2021-06-01T04:04:27.691003",
     "exception": false,
     "start_time": "2021-06-01T04:04:27.109199",
     "status": "completed"
    },
    "tags": []
   },
   "outputs": [],
   "source": [
    "import shutil\n",
    "\n",
    "shutil.rmtree('./train')\n",
    "shutil.rmtree('./test')"
   ]
  }
 ],
 "metadata": {
  "kernelspec": {
   "display_name": "Python 3",
   "language": "python",
   "name": "python3"
  },
  "language_info": {
   "codemirror_mode": {
    "name": "ipython",
    "version": 3
   },
   "file_extension": ".py",
   "mimetype": "text/x-python",
   "name": "python",
   "nbconvert_exporter": "python",
   "pygments_lexer": "ipython3",
   "version": "3.7.9"
  },
  "papermill": {
   "default_parameters": {},
   "duration": 1386.405731,
   "end_time": "2021-06-01T04:04:28.729040",
   "environment_variables": {},
   "exception": null,
   "input_path": "__notebook__.ipynb",
   "output_path": "__notebook__.ipynb",
   "parameters": {},
   "start_time": "2021-06-01T03:41:22.323309",
   "version": "2.3.2"
  }
 },
 "nbformat": 4,
 "nbformat_minor": 5
}
