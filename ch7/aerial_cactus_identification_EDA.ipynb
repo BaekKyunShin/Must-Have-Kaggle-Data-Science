{
 "cells": [
  {
   "cell_type": "code",
   "execution_count": 1,
   "id": "explicit-vaccine",
   "metadata": {
    "_uuid": "001d0b8a8b818c57a55fa4e20b5cae060a749cdc",
    "execution": {
     "iopub.execute_input": "2021-04-29T05:12:54.113040Z",
     "iopub.status.busy": "2021-04-29T05:12:54.112392Z",
     "iopub.status.idle": "2021-04-29T05:12:54.162357Z",
     "shell.execute_reply": "2021-04-29T05:12:54.161618Z"
    },
    "papermill": {
     "duration": 0.065797,
     "end_time": "2021-04-29T05:12:54.162536",
     "exception": false,
     "start_time": "2021-04-29T05:12:54.096739",
     "status": "completed"
    },
    "tags": []
   },
   "outputs": [],
   "source": [
    "import pandas as pd\n",
    "\n",
    "# 데이터 경로\n",
    "data_path = '/kaggle/input/aerial-cactus-identification/'\n",
    "\n",
    "labels = pd.read_csv(data_path + 'train.csv')\n",
    "submission = pd.read_csv(data_path + 'sample_submission.csv')"
   ]
  },
  {
   "cell_type": "code",
   "execution_count": 2,
   "id": "adjustable-murder",
   "metadata": {
    "execution": {
     "iopub.execute_input": "2021-04-29T05:12:54.191105Z",
     "iopub.status.busy": "2021-04-29T05:12:54.190141Z",
     "iopub.status.idle": "2021-04-29T05:12:54.209316Z",
     "shell.execute_reply": "2021-04-29T05:12:54.209851Z"
    },
    "papermill": {
     "duration": 0.039603,
     "end_time": "2021-04-29T05:12:54.210020",
     "exception": false,
     "start_time": "2021-04-29T05:12:54.170417",
     "status": "completed"
    },
    "tags": []
   },
   "outputs": [
    {
     "data": {
      "text/html": [
       "<div>\n",
       "<style scoped>\n",
       "    .dataframe tbody tr th:only-of-type {\n",
       "        vertical-align: middle;\n",
       "    }\n",
       "\n",
       "    .dataframe tbody tr th {\n",
       "        vertical-align: top;\n",
       "    }\n",
       "\n",
       "    .dataframe thead th {\n",
       "        text-align: right;\n",
       "    }\n",
       "</style>\n",
       "<table border=\"1\" class=\"dataframe\">\n",
       "  <thead>\n",
       "    <tr style=\"text-align: right;\">\n",
       "      <th></th>\n",
       "      <th>id</th>\n",
       "      <th>has_cactus</th>\n",
       "    </tr>\n",
       "  </thead>\n",
       "  <tbody>\n",
       "    <tr>\n",
       "      <th>0</th>\n",
       "      <td>0004be2cfeaba1c0361d39e2b000257b.jpg</td>\n",
       "      <td>1</td>\n",
       "    </tr>\n",
       "    <tr>\n",
       "      <th>1</th>\n",
       "      <td>000c8a36845c0208e833c79c1bffedd1.jpg</td>\n",
       "      <td>1</td>\n",
       "    </tr>\n",
       "    <tr>\n",
       "      <th>2</th>\n",
       "      <td>000d1e9a533f62e55c289303b072733d.jpg</td>\n",
       "      <td>1</td>\n",
       "    </tr>\n",
       "    <tr>\n",
       "      <th>3</th>\n",
       "      <td>0011485b40695e9138e92d0b3fb55128.jpg</td>\n",
       "      <td>1</td>\n",
       "    </tr>\n",
       "    <tr>\n",
       "      <th>4</th>\n",
       "      <td>0014d7a11e90b62848904c1418fc8cf2.jpg</td>\n",
       "      <td>1</td>\n",
       "    </tr>\n",
       "  </tbody>\n",
       "</table>\n",
       "</div>"
      ],
      "text/plain": [
       "                                     id  has_cactus\n",
       "0  0004be2cfeaba1c0361d39e2b000257b.jpg           1\n",
       "1  000c8a36845c0208e833c79c1bffedd1.jpg           1\n",
       "2  000d1e9a533f62e55c289303b072733d.jpg           1\n",
       "3  0011485b40695e9138e92d0b3fb55128.jpg           1\n",
       "4  0014d7a11e90b62848904c1418fc8cf2.jpg           1"
      ]
     },
     "execution_count": 2,
     "metadata": {},
     "output_type": "execute_result"
    }
   ],
   "source": [
    "labels.head()"
   ]
  },
  {
   "cell_type": "code",
   "execution_count": 3,
   "id": "illegal-abraham",
   "metadata": {
    "execution": {
     "iopub.execute_input": "2021-04-29T05:12:54.237113Z",
     "iopub.status.busy": "2021-04-29T05:12:54.236126Z",
     "iopub.status.idle": "2021-04-29T05:12:54.241036Z",
     "shell.execute_reply": "2021-04-29T05:12:54.240487Z"
    },
    "papermill": {
     "duration": 0.022776,
     "end_time": "2021-04-29T05:12:54.241187",
     "exception": false,
     "start_time": "2021-04-29T05:12:54.218411",
     "status": "completed"
    },
    "tags": []
   },
   "outputs": [
    {
     "data": {
      "text/html": [
       "<div>\n",
       "<style scoped>\n",
       "    .dataframe tbody tr th:only-of-type {\n",
       "        vertical-align: middle;\n",
       "    }\n",
       "\n",
       "    .dataframe tbody tr th {\n",
       "        vertical-align: top;\n",
       "    }\n",
       "\n",
       "    .dataframe thead th {\n",
       "        text-align: right;\n",
       "    }\n",
       "</style>\n",
       "<table border=\"1\" class=\"dataframe\">\n",
       "  <thead>\n",
       "    <tr style=\"text-align: right;\">\n",
       "      <th></th>\n",
       "      <th>id</th>\n",
       "      <th>has_cactus</th>\n",
       "    </tr>\n",
       "  </thead>\n",
       "  <tbody>\n",
       "    <tr>\n",
       "      <th>0</th>\n",
       "      <td>000940378805c44108d287872b2f04ce.jpg</td>\n",
       "      <td>0.5</td>\n",
       "    </tr>\n",
       "    <tr>\n",
       "      <th>1</th>\n",
       "      <td>0017242f54ececa4512b4d7937d1e21e.jpg</td>\n",
       "      <td>0.5</td>\n",
       "    </tr>\n",
       "    <tr>\n",
       "      <th>2</th>\n",
       "      <td>001ee6d8564003107853118ab87df407.jpg</td>\n",
       "      <td>0.5</td>\n",
       "    </tr>\n",
       "    <tr>\n",
       "      <th>3</th>\n",
       "      <td>002e175c3c1e060769475f52182583d0.jpg</td>\n",
       "      <td>0.5</td>\n",
       "    </tr>\n",
       "    <tr>\n",
       "      <th>4</th>\n",
       "      <td>0036e44a7e8f7218e9bc7bf8137e4943.jpg</td>\n",
       "      <td>0.5</td>\n",
       "    </tr>\n",
       "  </tbody>\n",
       "</table>\n",
       "</div>"
      ],
      "text/plain": [
       "                                     id  has_cactus\n",
       "0  000940378805c44108d287872b2f04ce.jpg         0.5\n",
       "1  0017242f54ececa4512b4d7937d1e21e.jpg         0.5\n",
       "2  001ee6d8564003107853118ab87df407.jpg         0.5\n",
       "3  002e175c3c1e060769475f52182583d0.jpg         0.5\n",
       "4  0036e44a7e8f7218e9bc7bf8137e4943.jpg         0.5"
      ]
     },
     "execution_count": 3,
     "metadata": {},
     "output_type": "execute_result"
    }
   ],
   "source": [
    "submission.head()"
   ]
  },
  {
   "cell_type": "code",
   "execution_count": 4,
   "id": "composite-invasion",
   "metadata": {
    "execution": {
     "iopub.execute_input": "2021-04-29T05:12:54.271557Z",
     "iopub.status.busy": "2021-04-29T05:12:54.270522Z",
     "iopub.status.idle": "2021-04-29T05:12:54.405264Z",
     "shell.execute_reply": "2021-04-29T05:12:54.405788Z"
    },
    "papermill": {
     "duration": 0.156099,
     "end_time": "2021-04-29T05:12:54.405960",
     "exception": false,
     "start_time": "2021-04-29T05:12:54.249861",
     "status": "completed"
    },
    "tags": []
   },
   "outputs": [
    {
     "data": {
      "image/png": "[encoded data removed]",
      "text/plain": [
       "<Figure size 504x504 with 1 Axes>"
      ]
     },
     "metadata": {},
     "output_type": "display_data"
    }
   ],
   "source": [
    "import matplotlib as mpl\n",
    "import matplotlib.pyplot as plt\n",
    "%matplotlib inline\n",
    "\n",
    "mpl.rc('font', size=15)\n",
    "plt.figure(figsize=(7,7))\n",
    "\n",
    "label = ['Has cactus', 'Hasn\\'t cactus'] # 타깃 값 레이블\n",
    "# 타깃 값 분포 파이 그래프\n",
    "plt.pie(labels['has_cactus'].value_counts(), labels=label, autopct='%1.1f%%');"
   ]
  },
  {
   "cell_type": "code",
   "execution_count": 5,
   "id": "accessible-sponsorship",
   "metadata": {
    "execution": {
     "iopub.execute_input": "2021-04-29T05:12:54.431751Z",
     "iopub.status.busy": "2021-04-29T05:12:54.430868Z",
     "iopub.status.idle": "2021-04-29T05:12:57.591451Z",
     "shell.execute_reply": "2021-04-29T05:12:57.591989Z"
    },
    "papermill": {
     "duration": 3.176096,
     "end_time": "2021-04-29T05:12:57.592186",
     "exception": false,
     "start_time": "2021-04-29T05:12:54.416090",
     "status": "completed"
    },
    "tags": []
   },
   "outputs": [],
   "source": [
    "from zipfile import ZipFile\n",
    "\n",
    "# 훈련 이미지 데이터 압출 풀기\n",
    "with ZipFile(data_path + 'train.zip') as zipper:\n",
    "    zipper.extractall()\n",
    "    \n",
    "# 테스트 이미지 데이터 압출 풀기\n",
    "with ZipFile(data_path + 'test.zip') as zipper:\n",
    "    zipper.extractall()"
   ]
  },
  {
   "cell_type": "code",
   "execution_count": 6,
   "id": "norman-genome",
   "metadata": {
    "_uuid": "e3014c4a14b3ef03c7c031f04ae7a338102f3264",
    "execution": {
     "iopub.execute_input": "2021-04-29T05:12:57.615869Z",
     "iopub.status.busy": "2021-04-29T05:12:57.615158Z",
     "iopub.status.idle": "2021-04-29T05:12:57.636996Z",
     "shell.execute_reply": "2021-04-29T05:12:57.636274Z"
    },
    "papermill": {
     "duration": 0.034872,
     "end_time": "2021-04-29T05:12:57.637143",
     "exception": false,
     "start_time": "2021-04-29T05:12:57.602271",
     "status": "completed"
    },
    "tags": []
   },
   "outputs": [
    {
     "name": "stdout",
     "output_type": "stream",
     "text": [
      "훈련 데이터 개수: 17500\n",
      "테스트 데이터 개수: 4000\n"
     ]
    }
   ],
   "source": [
    "import os\n",
    "\n",
    "num_train = len(os.listdir('train/'))\n",
    "num_test = len(os.listdir('test/'))\n",
    "\n",
    "print(f'훈련 데이터 개수: {num_train}')\n",
    "print(f'테스트 데이터 개수: {num_test}')"
   ]
  },
  {
   "cell_type": "code",
   "execution_count": 7,
   "id": "stopped-exposure",
   "metadata": {
    "execution": {
     "iopub.execute_input": "2021-04-29T05:12:57.664873Z",
     "iopub.status.busy": "2021-04-29T05:12:57.664049Z",
     "iopub.status.idle": "2021-04-29T05:12:58.599617Z",
     "shell.execute_reply": "2021-04-29T05:12:58.599087Z"
    },
    "papermill": {
     "duration": 0.952145,
     "end_time": "2021-04-29T05:12:58.599772",
     "exception": false,
     "start_time": "2021-04-29T05:12:57.647627",
     "status": "completed"
    },
    "tags": []
   },
   "outputs": [
    {
     "data": {
      "image/png": "[encoded data removed]",
      "text/plain": [
       "<Figure size 1080x216 with 7 Axes>"
      ]
     },
     "metadata": {
      "needs_background": "light"
     },
     "output_type": "display_data"
    }
   ],
   "source": [
    "import cv2 # OpenCV 라이브러리\n",
    "\n",
    "mpl.rc('font', size=7)\n",
    "fig, axes = plt.subplots(1, 7, figsize=(15, 3))\n",
    "\n",
    "# 선인장을 포함하는 이미지 파일명 (마지막 7개) ---①\n",
    "last_has_cactus_img_name = labels[labels['has_cactus']==1]['id'][-7:]\n",
    "\n",
    "# 이미지 출력 ---②\n",
    "for idx, img_name in enumerate(last_has_cactus_img_name):\n",
    "    path = 'train/' + img_name # 이미지 파일 경로 ---③\n",
    "    img = cv2.imread(path) # 이미지 파일 읽기 ---④\n",
    "    axes[idx].imshow(img) # 이미지 출력 ---⑤"
   ]
  },
  {
   "cell_type": "code",
   "execution_count": 8,
   "id": "democratic-performer",
   "metadata": {
    "execution": {
     "iopub.execute_input": "2021-04-29T05:12:58.731554Z",
     "iopub.status.busy": "2021-04-29T05:12:58.725427Z",
     "iopub.status.idle": "2021-04-29T05:12:59.333852Z",
     "shell.execute_reply": "2021-04-29T05:12:59.333201Z"
    },
    "papermill": {
     "duration": 0.721934,
     "end_time": "2021-04-29T05:12:59.334013",
     "exception": false,
     "start_time": "2021-04-29T05:12:58.612079",
     "status": "completed"
    },
    "tags": []
   },
   "outputs": [
    {
     "data": {
      "image/png": "[encoded data removed]",
      "text/plain": [
       "<Figure size 1080x216 with 7 Axes>"
      ]
     },
     "metadata": {
      "needs_background": "light"
     },
     "output_type": "display_data"
    }
   ],
   "source": [
    "fig, axes = plt.subplots(1, 7, figsize=(15, 3))\n",
    "\n",
    "# 선인장을 포함하지 않는 이미지 파일명 (마지막 7개) \n",
    "last_hasnt_cactus_img_name = labels[labels['has_cactus']==0]['id'][-7:]\n",
    "\n",
    "# 이미지 출력\n",
    "for idx, img_name in enumerate(last_hasnt_cactus_img_name):\n",
    "    path = 'train/' + img_name # 이미지 파일 경로 \n",
    "    img = cv2.imread(path) # 이미지 파일 읽기 \n",
    "    axes[idx].imshow(img) # 이미지 출력 "
   ]
  },
  {
   "cell_type": "code",
   "execution_count": 9,
   "id": "flying-audience",
   "metadata": {
    "execution": {
     "iopub.execute_input": "2021-04-29T05:12:59.367757Z",
     "iopub.status.busy": "2021-04-29T05:12:59.366987Z",
     "iopub.status.idle": "2021-04-29T05:12:59.372557Z",
     "shell.execute_reply": "2021-04-29T05:12:59.371931Z"
    },
    "papermill": {
     "duration": 0.024001,
     "end_time": "2021-04-29T05:12:59.372705",
     "exception": false,
     "start_time": "2021-04-29T05:12:59.348704",
     "status": "completed"
    },
    "tags": []
   },
   "outputs": [
    {
     "data": {
      "text/plain": [
       "(32, 32, 3)"
      ]
     },
     "execution_count": 9,
     "metadata": {},
     "output_type": "execute_result"
    }
   ],
   "source": [
    "img.shape"
   ]
  }
 ],
 "metadata": {
  "kernelspec": {
   "display_name": "Python 3",
   "language": "python",
   "name": "python3"
  },
  "language_info": {
   "codemirror_mode": {
    "name": "ipython",
    "version": 3
   },
   "file_extension": ".py",
   "mimetype": "text/x-python",
   "name": "python",
   "nbconvert_exporter": "python",
   "pygments_lexer": "ipython3",
   "version": "3.7.9"
  },
  "papermill": {
   "default_parameters": {},
   "duration": 12.375565,
   "end_time": "2021-04-29T05:12:59.997936",
   "environment_variables": {},
   "exception": null,
   "input_path": "__notebook__.ipynb",
   "output_path": "__notebook__.ipynb",
   "parameters": {},
   "start_time": "2021-04-29T05:12:47.622371",
   "version": "2.3.2"
  }
 },
 "nbformat": 4,
 "nbformat_minor": 5
}
