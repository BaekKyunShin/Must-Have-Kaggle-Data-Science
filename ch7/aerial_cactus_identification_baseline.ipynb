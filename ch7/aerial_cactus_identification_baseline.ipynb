{
 "cells": [
  {
   "cell_type": "markdown",
   "id": "saved-syndication",
   "metadata": {
    "papermill": {
     "duration": 0.031981,
     "end_time": "2021-06-27T04:01:08.237673",
     "exception": false,
     "start_time": "2021-06-27T04:01:08.205692",
     "status": "completed"
    },
    "tags": []
   },
   "source": [
    "# 7.3 항공 사진 내 선인장 식별 경진대회 베이스라인 모델\n",
    "- [항공 사진 내 선인장 식별 경진대회 링크](https://www.kaggle.com/c/aerial-cactus-identification)\n",
    "- [베이스라인 모델 코드 참고 링크](https://www.kaggle.com/bonhart/simple-cnn-on-pytorch-for-beginers)"
   ]
  },
  {
   "cell_type": "code",
   "execution_count": 1,
   "id": "coastal-budget",
   "metadata": {
    "execution": {
     "iopub.execute_input": "2021-06-27T04:01:08.309632Z",
     "iopub.status.busy": "2021-06-27T04:01:08.308914Z",
     "iopub.status.idle": "2021-06-27T04:01:08.361585Z",
     "shell.execute_reply": "2021-06-27T04:01:08.360478Z",
     "shell.execute_reply.started": "2021-06-27T03:56:57.284923Z"
    },
    "papermill": {
     "duration": 0.093421,
     "end_time": "2021-06-27T04:01:08.361800",
     "exception": false,
     "start_time": "2021-06-27T04:01:08.268379",
     "status": "completed"
    },
    "tags": []
   },
   "outputs": [],
   "source": [
    "import pandas as pd\n",
    "\n",
    "# 데이터 경로\n",
    "data_path = '/kaggle/input/aerial-cactus-identification/'\n",
    "\n",
    "labels = pd.read_csv(data_path + 'train.csv')\n",
    "submission = pd.read_csv(data_path + 'sample_submission.csv')"
   ]
  },
  {
   "cell_type": "code",
   "execution_count": 2,
   "id": "scenic-imperial",
   "metadata": {
    "execution": {
     "iopub.execute_input": "2021-06-27T04:01:08.425728Z",
     "iopub.status.busy": "2021-06-27T04:01:08.424578Z",
     "iopub.status.idle": "2021-06-27T04:01:13.300053Z",
     "shell.execute_reply": "2021-06-27T04:01:13.298946Z",
     "shell.execute_reply.started": "2021-06-27T03:56:57.400762Z"
    },
    "papermill": {
     "duration": 4.909979,
     "end_time": "2021-06-27T04:01:13.300296",
     "exception": false,
     "start_time": "2021-06-27T04:01:08.390317",
     "status": "completed"
    },
    "tags": []
   },
   "outputs": [],
   "source": [
    "from zipfile import ZipFile\n",
    "\n",
    "# 훈련 이미지 데이터 압축 풀기\n",
    "with ZipFile(data_path + 'train.zip') as zipper:\n",
    "    zipper.extractall()\n",
    "    \n",
    "# 테스트 이미지 데이터 압축 풀기\n",
    "with ZipFile(data_path + 'test.zip') as zipper:\n",
    "    zipper.extractall()"
   ]
  },
  {
   "cell_type": "markdown",
   "id": "incoming-center",
   "metadata": {
    "papermill": {
     "duration": 0.030982,
     "end_time": "2021-06-27T04:01:13.362180",
     "exception": false,
     "start_time": "2021-06-27T04:01:13.331198",
     "status": "completed"
    },
    "tags": []
   },
   "source": [
    "## 7.3.1 시드 값 고정 및 GPU 장비 설정"
   ]
  },
  {
   "cell_type": "markdown",
   "id": "disturbed-straight",
   "metadata": {
    "papermill": {
     "duration": 0.030591,
     "end_time": "2021-06-27T04:01:13.423148",
     "exception": false,
     "start_time": "2021-06-27T04:01:13.392557",
     "status": "completed"
    },
    "tags": []
   },
   "source": [
    "### 시드 값 고정"
   ]
  },
  {
   "cell_type": "code",
   "execution_count": 3,
   "id": "chemical-anthropology",
   "metadata": {
    "execution": {
     "iopub.execute_input": "2021-06-27T04:01:13.492348Z",
     "iopub.status.busy": "2021-06-27T04:01:13.491417Z",
     "iopub.status.idle": "2021-06-27T04:01:15.209356Z",
     "shell.execute_reply": "2021-06-27T04:01:15.208773Z",
     "shell.execute_reply.started": "2021-06-27T03:57:01.868294Z"
    },
    "papermill": {
     "duration": 1.755587,
     "end_time": "2021-06-27T04:01:15.209548",
     "exception": false,
     "start_time": "2021-06-27T04:01:13.453961",
     "status": "completed"
    },
    "tags": []
   },
   "outputs": [],
   "source": [
    "import torch # 파이토치 \n",
    "import random\n",
    "import numpy as np\n",
    "import os\n",
    "\n",
    "# 시드 값 고정\n",
    "seed = 10\n",
    "\n",
    "os.environ['PYTHONHASHSEED'] = str(seed)\n",
    "random.seed(seed)\n",
    "np.random.seed(seed)\n",
    "torch.manual_seed(seed)\n",
    "torch.cuda.manual_seed(seed)\n",
    "torch.cuda.manual_seed_all(seed)\n",
    "torch.backends.cudnn.deterministic = True\n",
    "torch.backends.cudnn.benchmark = False\n",
    "torch.backends.cudnn.enabled = False"
   ]
  },
  {
   "cell_type": "markdown",
   "id": "progressive-former",
   "metadata": {
    "papermill": {
     "duration": 0.029467,
     "end_time": "2021-06-27T04:01:15.269355",
     "exception": false,
     "start_time": "2021-06-27T04:01:15.239888",
     "status": "completed"
    },
    "tags": []
   },
   "source": [
    "### GPU 장비 설정"
   ]
  },
  {
   "cell_type": "code",
   "execution_count": 4,
   "id": "thirty-syntax",
   "metadata": {
    "execution": {
     "iopub.execute_input": "2021-06-27T04:01:15.383330Z",
     "iopub.status.busy": "2021-06-27T04:01:15.382363Z",
     "iopub.status.idle": "2021-06-27T04:01:15.386282Z",
     "shell.execute_reply": "2021-06-27T04:01:15.385424Z",
     "shell.execute_reply.started": "2021-06-27T03:57:03.718897Z"
    },
    "papermill": {
     "duration": 0.08716,
     "end_time": "2021-06-27T04:01:15.386422",
     "exception": false,
     "start_time": "2021-06-27T04:01:15.299262",
     "status": "completed"
    },
    "tags": []
   },
   "outputs": [],
   "source": [
    "if torch.cuda.is_available():\n",
    "    device = torch.device('cuda')\n",
    "else:\n",
    "    device = torch.device('cpu')"
   ]
  },
  {
   "cell_type": "code",
   "execution_count": 5,
   "id": "married-smooth",
   "metadata": {
    "execution": {
     "iopub.execute_input": "2021-06-27T04:01:15.457579Z",
     "iopub.status.busy": "2021-06-27T04:01:15.456634Z",
     "iopub.status.idle": "2021-06-27T04:01:15.461820Z",
     "shell.execute_reply": "2021-06-27T04:01:15.462336Z",
     "shell.execute_reply.started": "2021-06-27T03:57:03.807846Z"
    },
    "papermill": {
     "duration": 0.045832,
     "end_time": "2021-06-27T04:01:15.462484",
     "exception": false,
     "start_time": "2021-06-27T04:01:15.416652",
     "status": "completed"
    },
    "tags": []
   },
   "outputs": [
    {
     "data": {
      "text/plain": [
       "device(type='cuda')"
      ]
     },
     "execution_count": 5,
     "metadata": {},
     "output_type": "execute_result"
    }
   ],
   "source": [
    "device"
   ]
  },
  {
   "cell_type": "markdown",
   "id": "checked-scholarship",
   "metadata": {
    "papermill": {
     "duration": 0.030086,
     "end_time": "2021-06-27T04:01:15.522067",
     "exception": false,
     "start_time": "2021-06-27T04:01:15.491981",
     "status": "completed"
    },
    "tags": []
   },
   "source": [
    "## 7.3.2 데이터 준비하기"
   ]
  },
  {
   "cell_type": "markdown",
   "id": "express-profile",
   "metadata": {
    "papermill": {
     "duration": 0.029174,
     "end_time": "2021-06-27T04:01:15.581488",
     "exception": false,
     "start_time": "2021-06-27T04:01:15.552314",
     "status": "completed"
    },
    "tags": []
   },
   "source": [
    "### 훈련 데이터, 검증 데이터 분리"
   ]
  },
  {
   "cell_type": "code",
   "execution_count": 6,
   "id": "buried-marriage",
   "metadata": {
    "_uuid": "c07eab67e573c7de05e11065b5bafc1bbff284fb",
    "execution": {
     "iopub.execute_input": "2021-06-27T04:01:15.647970Z",
     "iopub.status.busy": "2021-06-27T04:01:15.647244Z",
     "iopub.status.idle": "2021-06-27T04:01:16.671986Z",
     "shell.execute_reply": "2021-06-27T04:01:16.672483Z",
     "shell.execute_reply.started": "2021-06-27T03:57:03.833228Z"
    },
    "papermill": {
     "duration": 1.060741,
     "end_time": "2021-06-27T04:01:16.672744",
     "exception": false,
     "start_time": "2021-06-27T04:01:15.612003",
     "status": "completed"
    },
    "tags": []
   },
   "outputs": [],
   "source": [
    "from sklearn.model_selection import train_test_split\n",
    "\n",
    "# 훈련 데이터, 검증 데이터 분리\n",
    "train, valid = train_test_split(labels, \n",
    "                                test_size=0.1,\n",
    "                                stratify=labels['has_cactus'],\n",
    "                                random_state=10)"
   ]
  },
  {
   "cell_type": "code",
   "execution_count": 7,
   "id": "proprietary-korean",
   "metadata": {
    "execution": {
     "iopub.execute_input": "2021-06-27T04:01:16.740573Z",
     "iopub.status.busy": "2021-06-27T04:01:16.739435Z",
     "iopub.status.idle": "2021-06-27T04:01:16.744906Z",
     "shell.execute_reply": "2021-06-27T04:01:16.744371Z",
     "shell.execute_reply.started": "2021-06-27T03:57:04.912021Z"
    },
    "papermill": {
     "duration": 0.041346,
     "end_time": "2021-06-27T04:01:16.745041",
     "exception": false,
     "start_time": "2021-06-27T04:01:16.703695",
     "status": "completed"
    },
    "tags": []
   },
   "outputs": [
    {
     "name": "stdout",
     "output_type": "stream",
     "text": [
      "훈련 데이터 개수: 15750\n",
      "검증 데이터 개수: 1750\n"
     ]
    }
   ],
   "source": [
    "print('훈련 데이터 개수:', len(train))\n",
    "print('검증 데이터 개수:', len(valid))"
   ]
  },
  {
   "cell_type": "markdown",
   "id": "applicable-annex",
   "metadata": {
    "papermill": {
     "duration": 0.030895,
     "end_time": "2021-06-27T04:01:16.806517",
     "exception": false,
     "start_time": "2021-06-27T04:01:16.775622",
     "status": "completed"
    },
    "tags": []
   },
   "source": [
    "### 데이터 세트 정의"
   ]
  },
  {
   "cell_type": "code",
   "execution_count": 8,
   "id": "painful-economics",
   "metadata": {
    "_uuid": "1b05af8d59d9d5b092e96f72dfebb19591416de9",
    "execution": {
     "iopub.execute_input": "2021-06-27T04:01:16.876283Z",
     "iopub.status.busy": "2021-06-27T04:01:16.875477Z",
     "iopub.status.idle": "2021-06-27T04:01:17.155180Z",
     "shell.execute_reply": "2021-06-27T04:01:17.154538Z",
     "shell.execute_reply.started": "2021-06-27T03:57:04.923343Z"
    },
    "papermill": {
     "duration": 0.318591,
     "end_time": "2021-06-27T04:01:17.155344",
     "exception": false,
     "start_time": "2021-06-27T04:01:16.836753",
     "status": "completed"
    },
    "tags": []
   },
   "outputs": [],
   "source": [
    "import cv2 # OpenCV 라이브러리\n",
    "from torch.utils.data import Dataset # 데이터 생성을 위한 클래스\n",
    "\n",
    "class ImageDataset(Dataset):\n",
    "    # 초기화 메서드(생성자) \n",
    "    def __init__(self, df, img_dir = './', transform=None):\n",
    "        super().__init__() # 상속받은 Dataset의 __init__() 메서드 호출 \n",
    "        self.df = df\n",
    "        self.img_dir = img_dir\n",
    "        self.transform = transform\n",
    "    \n",
    "    # 데이터 세트 크기 반환 메서드 \n",
    "    def __len__(self):\n",
    "        return len(self.df)\n",
    "    \n",
    "    # 인덱스(idx)에 해당하는 데이터 반환 메서드 \n",
    "    def __getitem__(self, idx):\n",
    "        img_path = self.img_dir + self.df.iloc[idx, 0] # 이미지 파일 경로 \n",
    "        image = cv2.imread(img_path) # 이미지 파일 읽기 \n",
    "        image = cv2.cvtColor(image, cv2.COLOR_BGR2RGB) # 이미지 색상 보정\n",
    "        label = self.df.iloc[idx, 1] # 이미지 레이블(타깃 값)\n",
    "        # 이미지 변환\n",
    "        if self.transform is not None:\n",
    "            image = self.transform(image)\n",
    "        return image, label"
   ]
  },
  {
   "cell_type": "markdown",
   "id": "weighted-organic",
   "metadata": {
    "papermill": {
     "duration": 0.029526,
     "end_time": "2021-06-27T04:01:17.215315",
     "exception": false,
     "start_time": "2021-06-27T04:01:17.185789",
     "status": "completed"
    },
    "tags": []
   },
   "source": [
    "### 데이터 세트 및 데이터 로더 생성"
   ]
  },
  {
   "cell_type": "code",
   "execution_count": 9,
   "id": "durable-venice",
   "metadata": {
    "execution": {
     "iopub.execute_input": "2021-06-27T04:01:17.282850Z",
     "iopub.status.busy": "2021-06-27T04:01:17.282076Z",
     "iopub.status.idle": "2021-06-27T04:01:17.442447Z",
     "shell.execute_reply": "2021-06-27T04:01:17.441835Z",
     "shell.execute_reply.started": "2021-06-27T03:57:05.210259Z"
    },
    "papermill": {
     "duration": 0.195874,
     "end_time": "2021-06-27T04:01:17.442603",
     "exception": false,
     "start_time": "2021-06-27T04:01:17.246729",
     "status": "completed"
    },
    "tags": []
   },
   "outputs": [],
   "source": [
    "from torchvision import transforms # 이미지 변환을 위한 모듈\n",
    "\n",
    "transform = transforms.ToTensor()"
   ]
  },
  {
   "cell_type": "code",
   "execution_count": 10,
   "id": "detected-exclusion",
   "metadata": {
    "execution": {
     "iopub.execute_input": "2021-06-27T04:01:17.508798Z",
     "iopub.status.busy": "2021-06-27T04:01:17.507763Z",
     "iopub.status.idle": "2021-06-27T04:01:17.511484Z",
     "shell.execute_reply": "2021-06-27T04:01:17.510987Z",
     "shell.execute_reply.started": "2021-06-27T03:57:05.382544Z"
    },
    "papermill": {
     "duration": 0.038737,
     "end_time": "2021-06-27T04:01:17.511633",
     "exception": false,
     "start_time": "2021-06-27T04:01:17.472896",
     "status": "completed"
    },
    "tags": []
   },
   "outputs": [],
   "source": [
    "dataset_train = ImageDataset(df=train, img_dir='train/', transform=transform)\n",
    "dataset_valid = ImageDataset(df=valid, img_dir='train/', transform=transform)"
   ]
  },
  {
   "cell_type": "code",
   "execution_count": 11,
   "id": "surgical-revolution",
   "metadata": {
    "_uuid": "c247391c28497ad35c72f5218398ea71f2d0d5ff",
    "execution": {
     "iopub.execute_input": "2021-06-27T04:01:17.576360Z",
     "iopub.status.busy": "2021-06-27T04:01:17.575552Z",
     "iopub.status.idle": "2021-06-27T04:01:17.579274Z",
     "shell.execute_reply": "2021-06-27T04:01:17.578789Z",
     "shell.execute_reply.started": "2021-06-27T03:57:05.393188Z"
    },
    "papermill": {
     "duration": 0.03813,
     "end_time": "2021-06-27T04:01:17.579396",
     "exception": false,
     "start_time": "2021-06-27T04:01:17.541266",
     "status": "completed"
    },
    "tags": []
   },
   "outputs": [],
   "source": [
    "from torch.utils.data import DataLoader # 데이터 로더 생성을 위한 클래스\n",
    "\n",
    "loader_train = DataLoader(dataset=dataset_train, batch_size=32, \n",
    "                          shuffle=True)\n",
    "loader_valid = DataLoader(dataset=dataset_valid, batch_size=32, \n",
    "                          shuffle=False)"
   ]
  },
  {
   "cell_type": "markdown",
   "id": "lucky-scanning",
   "metadata": {
    "papermill": {
     "duration": 0.030166,
     "end_time": "2021-06-27T04:01:17.640150",
     "exception": false,
     "start_time": "2021-06-27T04:01:17.609984",
     "status": "completed"
    },
    "tags": []
   },
   "source": [
    "## 7.3.3 모델 생성"
   ]
  },
  {
   "cell_type": "code",
   "execution_count": 12,
   "id": "connected-fellowship",
   "metadata": {
    "_uuid": "0a2d5600bc2eb915ec0bdf5b52ba11e25096f7d0",
    "execution": {
     "iopub.execute_input": "2021-06-27T04:01:17.710484Z",
     "iopub.status.busy": "2021-06-27T04:01:17.709336Z",
     "iopub.status.idle": "2021-06-27T04:01:17.713333Z",
     "shell.execute_reply": "2021-06-27T04:01:17.712783Z",
     "shell.execute_reply.started": "2021-06-27T03:57:05.408787Z"
    },
    "papermill": {
     "duration": 0.0431,
     "end_time": "2021-06-27T04:01:17.713515",
     "exception": false,
     "start_time": "2021-06-27T04:01:17.670415",
     "status": "completed"
    },
    "tags": []
   },
   "outputs": [],
   "source": [
    "import torch.nn as nn # 신경망 모듈\n",
    "import torch.nn.functional as F # 신경망 모듈에서 자주 사용되는 함수\n",
    "\n",
    "class Model(nn.Module):\n",
    "    # 신경망 계층 정의 \n",
    "    def __init__(self):\n",
    "        super().__init__() # 상속받은 nn.Module의 __init__() 메서드 호출\n",
    "        # 첫 번째 합성곱 계층 \n",
    "        self.conv1 = nn.Conv2d(in_channels=3, out_channels=32, \n",
    "                               kernel_size=3, padding=2) \n",
    "        # 두 번째 합성곱 계층 \n",
    "        self.conv2 = nn.Conv2d(in_channels=32, out_channels=64, \n",
    "                               kernel_size=3, padding=2) \n",
    "        # 최대 풀링 계층 \n",
    "        self.max_pool = nn.MaxPool2d(kernel_size=2) \n",
    "        # 평균 풀링 계층 \n",
    "        self.avg_pool = nn.AvgPool2d(kernel_size=2) \n",
    "        # 전결합 계층 \n",
    "        self.fc = nn.Linear(in_features=64 * 4 * 4, out_features=2)\n",
    "        \n",
    "    # 순전파 출력 정의 \n",
    "    def forward(self, x):\n",
    "        x = self.max_pool(F.relu(self.conv1(x)))\n",
    "        x = self.max_pool(F.relu(self.conv2(x)))\n",
    "        x = self.avg_pool(x)\n",
    "        x = x.view(-1, 64 * 4 * 4) # 평탄화\n",
    "        x = self.fc(x)\n",
    "        return x"
   ]
  },
  {
   "cell_type": "code",
   "execution_count": 13,
   "id": "passive-target",
   "metadata": {
    "execution": {
     "iopub.execute_input": "2021-06-27T04:01:17.780006Z",
     "iopub.status.busy": "2021-06-27T04:01:17.779053Z",
     "iopub.status.idle": "2021-06-27T04:01:17.782159Z",
     "shell.execute_reply": "2021-06-27T04:01:17.782834Z",
     "shell.execute_reply.started": "2021-06-27T03:57:05.427020Z"
    },
    "papermill": {
     "duration": 0.038823,
     "end_time": "2021-06-27T04:01:17.783060",
     "exception": false,
     "start_time": "2021-06-27T04:01:17.744237",
     "status": "completed"
    },
    "tags": []
   },
   "outputs": [],
   "source": [
    "# class Model(nn.Module):\n",
    "#     def __init__(self):\n",
    "#         super().__init__() \n",
    "#         # 첫 번째 합성곱, 최대 풀링 계층\n",
    "#         self.layer1 = nn.Sequential(nn.Conv2d(in_channels=3, \n",
    "#                                               out_channels=32, \n",
    "#                                               kernel_size=3, \n",
    "#                                               padding=2),\n",
    "#                                     nn.ReLU(),\n",
    "#                                     nn.MaxPool2d(kernel_size=2))\n",
    "#         # 두 번째 합성곱, 최대 풀링 계층\n",
    "#         self.layer2 = nn.Sequential(nn.Conv2d(in_channels=32, \n",
    "#                                               out_channels=64, \n",
    "#                                               kernel_size=3, \n",
    "#                                               padding=2),\n",
    "#                                     nn.ReLU(),\n",
    "#                                     nn.MaxPool2d(kernel_size=2))\n",
    "#         # 평균 풀링 계층\n",
    "#         self.avg_pool = nn.AvgPool2d(kernel_size=2) \n",
    "#         # 전결합 계층\n",
    "#         self.fc = nn.Linear(in_features=64 * 4 * 4, out_features=2)\n",
    "        \n",
    "#     # 순전파 출력 정의\n",
    "#     def forward(self, x):\n",
    "#         x = self.layer1(x)\n",
    "#         x = self.layer2(x)\n",
    "#         x = self.avg_pool(x)\n",
    "#         x = x.view(-1, 64 * 4 * 4) # 평탄화\n",
    "#         x = self.fc(x)\n",
    "#         return x"
   ]
  },
  {
   "cell_type": "code",
   "execution_count": 14,
   "id": "sporting-budapest",
   "metadata": {
    "_cell_guid": "79c7e3d0-c299-4dcb-8224-4455121ee9b0",
    "_uuid": "d629ff2d2480ee46fbb7e2d37f6b5fab8052498a",
    "execution": {
     "iopub.execute_input": "2021-06-27T04:01:17.848015Z",
     "iopub.status.busy": "2021-06-27T04:01:17.847216Z",
     "iopub.status.idle": "2021-06-27T04:01:22.370491Z",
     "shell.execute_reply": "2021-06-27T04:01:22.369577Z",
     "shell.execute_reply.started": "2021-06-27T03:57:05.439080Z"
    },
    "papermill": {
     "duration": 4.55719,
     "end_time": "2021-06-27T04:01:22.370639",
     "exception": false,
     "start_time": "2021-06-27T04:01:17.813449",
     "status": "completed"
    },
    "tags": []
   },
   "outputs": [
    {
     "data": {
      "text/plain": [
       "Model(\n",
       "  (conv1): Conv2d(3, 32, kernel_size=(3, 3), stride=(1, 1), padding=(2, 2))\n",
       "  (conv2): Conv2d(32, 64, kernel_size=(3, 3), stride=(1, 1), padding=(2, 2))\n",
       "  (max_pool): MaxPool2d(kernel_size=2, stride=2, padding=0, dilation=1, ceil_mode=False)\n",
       "  (avg_pool): AvgPool2d(kernel_size=2, stride=2, padding=0)\n",
       "  (fc): Linear(in_features=1024, out_features=2, bias=True)\n",
       ")"
      ]
     },
     "execution_count": 14,
     "metadata": {},
     "output_type": "execute_result"
    }
   ],
   "source": [
    "model = Model().to(device)\n",
    "\n",
    "model"
   ]
  },
  {
   "cell_type": "markdown",
   "id": "together-sixth",
   "metadata": {
    "papermill": {
     "duration": 0.030587,
     "end_time": "2021-06-27T04:01:22.432701",
     "exception": false,
     "start_time": "2021-06-27T04:01:22.402114",
     "status": "completed"
    },
    "tags": []
   },
   "source": [
    "## 7.3.4 모델 훈련"
   ]
  },
  {
   "cell_type": "markdown",
   "id": "rotary-fleece",
   "metadata": {
    "papermill": {
     "duration": 0.030961,
     "end_time": "2021-06-27T04:01:22.494910",
     "exception": false,
     "start_time": "2021-06-27T04:01:22.463949",
     "status": "completed"
    },
    "tags": []
   },
   "source": [
    "### 손실 함수와 옵티마이저 설정"
   ]
  },
  {
   "cell_type": "code",
   "execution_count": 15,
   "id": "female-registration",
   "metadata": {
    "execution": {
     "iopub.execute_input": "2021-06-27T04:01:22.564467Z",
     "iopub.status.busy": "2021-06-27T04:01:22.561884Z",
     "iopub.status.idle": "2021-06-27T04:01:22.565268Z",
     "shell.execute_reply": "2021-06-27T04:01:22.565848Z",
     "shell.execute_reply.started": "2021-06-27T03:57:10.184408Z"
    },
    "papermill": {
     "duration": 0.040017,
     "end_time": "2021-06-27T04:01:22.565998",
     "exception": false,
     "start_time": "2021-06-27T04:01:22.525981",
     "status": "completed"
    },
    "tags": []
   },
   "outputs": [],
   "source": [
    "# 손실함수\n",
    "criterion = nn.CrossEntropyLoss()"
   ]
  },
  {
   "cell_type": "code",
   "execution_count": 16,
   "id": "sacred-diesel",
   "metadata": {
    "_uuid": "fceb2929d8750acb2de745cd9ff3d2d458820df8",
    "execution": {
     "iopub.execute_input": "2021-06-27T04:01:22.632395Z",
     "iopub.status.busy": "2021-06-27T04:01:22.631723Z",
     "iopub.status.idle": "2021-06-27T04:01:22.636628Z",
     "shell.execute_reply": "2021-06-27T04:01:22.636041Z",
     "shell.execute_reply.started": "2021-06-27T03:57:10.194788Z"
    },
    "papermill": {
     "duration": 0.040046,
     "end_time": "2021-06-27T04:01:22.636762",
     "exception": false,
     "start_time": "2021-06-27T04:01:22.596716",
     "status": "completed"
    },
    "tags": []
   },
   "outputs": [],
   "source": [
    "# 옵티마이저\n",
    "optimizer = torch.optim.SGD(model.parameters(), lr=0.01)"
   ]
  },
  {
   "cell_type": "markdown",
   "id": "trained-occasions",
   "metadata": {
    "papermill": {
     "duration": 0.030502,
     "end_time": "2021-06-27T04:01:22.697861",
     "exception": false,
     "start_time": "2021-06-27T04:01:22.667359",
     "status": "completed"
    },
    "tags": []
   },
   "source": [
    "### 모델 훈련"
   ]
  },
  {
   "cell_type": "code",
   "execution_count": 17,
   "id": "interracial-prompt",
   "metadata": {
    "execution": {
     "iopub.execute_input": "2021-06-27T04:01:22.763814Z",
     "iopub.status.busy": "2021-06-27T04:01:22.763066Z",
     "iopub.status.idle": "2021-06-27T04:01:22.769325Z",
     "shell.execute_reply": "2021-06-27T04:01:22.769899Z",
     "shell.execute_reply.started": "2021-06-27T03:57:10.210569Z"
    },
    "papermill": {
     "duration": 0.041766,
     "end_time": "2021-06-27T04:01:22.770057",
     "exception": false,
     "start_time": "2021-06-27T04:01:22.728291",
     "status": "completed"
    },
    "tags": []
   },
   "outputs": [
    {
     "data": {
      "text/plain": [
       "493"
      ]
     },
     "execution_count": 17,
     "metadata": {},
     "output_type": "execute_result"
    }
   ],
   "source": [
    "import math\n",
    "\n",
    "math.ceil(len(train) / 32)"
   ]
  },
  {
   "cell_type": "code",
   "execution_count": 18,
   "id": "illegal-country",
   "metadata": {
    "execution": {
     "iopub.execute_input": "2021-06-27T04:01:22.837731Z",
     "iopub.status.busy": "2021-06-27T04:01:22.836586Z",
     "iopub.status.idle": "2021-06-27T04:01:22.842584Z",
     "shell.execute_reply": "2021-06-27T04:01:22.841670Z",
     "shell.execute_reply.started": "2021-06-27T03:57:10.224610Z"
    },
    "papermill": {
     "duration": 0.04113,
     "end_time": "2021-06-27T04:01:22.842834",
     "exception": false,
     "start_time": "2021-06-27T04:01:22.801704",
     "status": "completed"
    },
    "tags": []
   },
   "outputs": [
    {
     "data": {
      "text/plain": [
       "493"
      ]
     },
     "execution_count": 18,
     "metadata": {},
     "output_type": "execute_result"
    }
   ],
   "source": [
    "len(loader_train)"
   ]
  },
  {
   "cell_type": "code",
   "execution_count": 19,
   "id": "dimensional-programmer",
   "metadata": {
    "_uuid": "2c37417ae6b62ab4551bc8a888916ca1e591d284",
    "execution": {
     "iopub.execute_input": "2021-06-27T04:01:22.978524Z",
     "iopub.status.busy": "2021-06-27T04:01:22.977346Z",
     "iopub.status.idle": "2021-06-27T04:02:57.240866Z",
     "shell.execute_reply": "2021-06-27T04:02:57.242145Z",
     "shell.execute_reply.started": "2021-06-27T03:57:10.239382Z"
    },
    "papermill": {
     "duration": 94.342023,
     "end_time": "2021-06-27T04:02:57.242344",
     "exception": false,
     "start_time": "2021-06-27T04:01:22.900321",
     "status": "completed"
    },
    "tags": []
   },
   "outputs": [
    {
     "name": "stdout",
     "output_type": "stream",
     "text": [
      "에폭: [1/10], 손실값: 0.5164\n",
      "에폭: [2/10], 손실값: 0.3245\n",
      "에폭: [3/10], 손실값: 0.2424\n",
      "에폭: [4/10], 손실값: 0.1951\n",
      "에폭: [5/10], 손실값: 0.1710\n",
      "에폭: [6/10], 손실값: 0.1552\n",
      "에폭: [7/10], 손실값: 0.1449\n",
      "에폭: [8/10], 손실값: 0.1338\n",
      "에폭: [9/10], 손실값: 0.1258\n",
      "에폭: [10/10], 손실값: 0.1200\n"
     ]
    }
   ],
   "source": [
    "epochs = 10 # 총 에폭\n",
    "\n",
    "# 총 10에폭만큼 훈련 \n",
    "for epoch in range(epochs):\n",
    "    epoch_loss = 0 # 에폭별 손실값 초기화\n",
    "    # 미니배치 크기만큼 데이터를 추출하는 작업을 '반복 횟수'만큼 반복 \n",
    "    for images, labels in loader_train:\n",
    "        # 이미지, 레이블 데이터 미니배치를 장비에 할당 \n",
    "        images = images.to(device)\n",
    "        labels = labels.to(device)\n",
    "\n",
    "        # 옵티마이저 내 기울기 초기화 -\n",
    "        optimizer.zero_grad()\n",
    "        # 이미지 데이터를 신경망 모델의 입력값으로 사용해 출력값 계산 \n",
    "        outputs = model(images)\n",
    "        # 손실함수를 활용해 outputs와 labels의 손실값 계산 \n",
    "        loss = criterion(outputs, labels)\n",
    "        # 역전파 수행 \n",
    "        loss.backward()\n",
    "        # 가중치 갱신 \n",
    "        optimizer.step()\n",
    "        \n",
    "        epoch_loss += loss.item() # 현재 배치에서의 손실 추가\n",
    "        \n",
    "    print(f'에폭: [{epoch+1}/{epochs}], 손실값: {epoch_loss/len(loader_train):.4f}')"
   ]
  },
  {
   "cell_type": "markdown",
   "id": "transparent-referral",
   "metadata": {
    "papermill": {
     "duration": 0.033202,
     "end_time": "2021-06-27T04:02:57.309589",
     "exception": false,
     "start_time": "2021-06-27T04:02:57.276387",
     "status": "completed"
    },
    "tags": []
   },
   "source": [
    "## 7.3.5 모델 성능 검증"
   ]
  },
  {
   "cell_type": "code",
   "execution_count": 20,
   "id": "nonprofit-fighter",
   "metadata": {
    "execution": {
     "iopub.execute_input": "2021-06-27T04:02:57.387180Z",
     "iopub.status.busy": "2021-06-27T04:02:57.386021Z",
     "iopub.status.idle": "2021-06-27T04:02:58.152553Z",
     "shell.execute_reply": "2021-06-27T04:02:58.151672Z",
     "shell.execute_reply.started": "2021-06-27T03:58:45.593595Z"
    },
    "papermill": {
     "duration": 0.808891,
     "end_time": "2021-06-27T04:02:58.152744",
     "exception": false,
     "start_time": "2021-06-27T04:02:57.343853",
     "status": "completed"
    },
    "tags": []
   },
   "outputs": [
    {
     "name": "stdout",
     "output_type": "stream",
     "text": [
      "검증 데이터 ROC AUC : 0.9931\n"
     ]
    }
   ],
   "source": [
    "from sklearn.metrics import roc_auc_score # ROC AUC 점수 계산 함수\n",
    "\n",
    "# 예측 확률값과 실제값을 담을 리스트 초기화\n",
    "true_list = []\n",
    "preds_list = []\n",
    "\n",
    "model.eval() # 모델을 평가 상태로 설정 \n",
    "\n",
    "with torch.no_grad(): # 기울기 계산 비활성화\n",
    "    for images, labels in loader_valid:\n",
    "        # 이미지, 레이블 데이터 미니배치를 장비에 할당 \n",
    "        images = images.to(device)\n",
    "        labels = labels.to(device)\n",
    "        \n",
    "        # 이미지 데이터를 신경망 모델의 입력값으로 사용해 출력값 계산\n",
    "        outputs = model(images)\n",
    "        preds = torch.softmax(outputs.cpu(), dim=1)[:, 1] # 예측 확률값 \n",
    "        true = labels.cpu() # 실제값 \n",
    "        # 예측 확률값과 실제값을 리스트에 추가\n",
    "        preds_list.extend(preds)\n",
    "        true_list.extend(true)\n",
    "        \n",
    "    # 검증 데이터 ROC AUC 점수 계산 \n",
    "    print(f'검증 데이터 ROC AUC : {roc_auc_score(true_list, preds_list):.4f}')"
   ]
  },
  {
   "cell_type": "markdown",
   "id": "compound-peoples",
   "metadata": {
    "papermill": {
     "duration": 0.034258,
     "end_time": "2021-06-27T04:02:58.222576",
     "exception": false,
     "start_time": "2021-06-27T04:02:58.188318",
     "status": "completed"
    },
    "tags": []
   },
   "source": [
    "## 7.3.6 예측 및 결과 제출"
   ]
  },
  {
   "cell_type": "code",
   "execution_count": 21,
   "id": "israeli-consciousness",
   "metadata": {
    "_uuid": "870413a60281e0c4115fbc7cf192508e15a9e269",
    "execution": {
     "iopub.execute_input": "2021-06-27T04:02:58.296116Z",
     "iopub.status.busy": "2021-06-27T04:02:58.295461Z",
     "iopub.status.idle": "2021-06-27T04:02:58.300295Z",
     "shell.execute_reply": "2021-06-27T04:02:58.299407Z",
     "shell.execute_reply.started": "2021-06-27T03:58:46.388975Z"
    },
    "papermill": {
     "duration": 0.043349,
     "end_time": "2021-06-27T04:02:58.300426",
     "exception": false,
     "start_time": "2021-06-27T04:02:58.257077",
     "status": "completed"
    },
    "tags": []
   },
   "outputs": [],
   "source": [
    "dataset_test = ImageDataset(df=submission, img_dir='test/', transform=transform)\n",
    "loader_test = DataLoader(dataset=dataset_test, batch_size=32, \n",
    "                         shuffle=False)"
   ]
  },
  {
   "cell_type": "markdown",
   "id": "terminal-calvin",
   "metadata": {
    "papermill": {
     "duration": 0.034354,
     "end_time": "2021-06-27T04:02:58.368081",
     "exception": false,
     "start_time": "2021-06-27T04:02:58.333727",
     "status": "completed"
    },
    "tags": []
   },
   "source": [
    "### 예측"
   ]
  },
  {
   "cell_type": "code",
   "execution_count": 22,
   "id": "impaired-chocolate",
   "metadata": {
    "execution": {
     "iopub.execute_input": "2021-06-27T04:02:58.445676Z",
     "iopub.status.busy": "2021-06-27T04:02:58.444516Z",
     "iopub.status.idle": "2021-06-27T04:03:00.078767Z",
     "shell.execute_reply": "2021-06-27T04:03:00.077262Z",
     "shell.execute_reply.started": "2021-06-27T03:58:46.398654Z"
    },
    "papermill": {
     "duration": 1.674929,
     "end_time": "2021-06-27T04:03:00.078938",
     "exception": false,
     "start_time": "2021-06-27T04:02:58.404009",
     "status": "completed"
    },
    "tags": []
   },
   "outputs": [],
   "source": [
    "model.eval() # 모델을 평가 상태로 설정\n",
    "\n",
    "preds = [] # 타깃 예측 값 저장용 변수 초기화 \n",
    "\n",
    "with torch.no_grad(): # 기울기 계산 비활성화\n",
    "    for images, _ in loader_test:\n",
    "        # 이미지 데이터 미니배치를 장비에 할당\n",
    "        images = images.to(device)\n",
    "        \n",
    "        # 이미지 데이터를 신경망 모델의 입력값으로 사용해 출력값 계산\n",
    "        outputs = model(images)\n",
    "        # 타깃 값이 1일 확률(예측 값) \n",
    "        preds_part = torch.softmax(outputs.cpu(), dim=1)[:, 1].tolist()\n",
    "        # preds에 preds_part 이어붙이기 \n",
    "        preds.extend(preds_part)"
   ]
  },
  {
   "cell_type": "markdown",
   "id": "still-hungarian",
   "metadata": {
    "papermill": {
     "duration": 0.033645,
     "end_time": "2021-06-27T04:03:00.147682",
     "exception": false,
     "start_time": "2021-06-27T04:03:00.114037",
     "status": "completed"
    },
    "tags": []
   },
   "source": [
    "### 결과 제출"
   ]
  },
  {
   "cell_type": "code",
   "execution_count": 23,
   "id": "distinct-briefing",
   "metadata": {
    "execution": {
     "iopub.execute_input": "2021-06-27T04:03:00.221060Z",
     "iopub.status.busy": "2021-06-27T04:03:00.220043Z",
     "iopub.status.idle": "2021-06-27T04:03:00.410742Z",
     "shell.execute_reply": "2021-06-27T04:03:00.410179Z",
     "shell.execute_reply.started": "2021-06-27T03:58:48.056869Z"
    },
    "papermill": {
     "duration": 0.230047,
     "end_time": "2021-06-27T04:03:00.410885",
     "exception": false,
     "start_time": "2021-06-27T04:03:00.180838",
     "status": "completed"
    },
    "tags": []
   },
   "outputs": [],
   "source": [
    "submission['has_cactus'] = preds\n",
    "submission.to_csv('submission.csv', index=False)"
   ]
  },
  {
   "cell_type": "code",
   "execution_count": 24,
   "id": "greater-rings",
   "metadata": {
    "execution": {
     "iopub.execute_input": "2021-06-27T04:03:00.485793Z",
     "iopub.status.busy": "2021-06-27T04:03:00.484810Z",
     "iopub.status.idle": "2021-06-27T04:03:01.161514Z",
     "shell.execute_reply": "2021-06-27T04:03:01.160875Z",
     "shell.execute_reply.started": "2021-06-27T03:58:48.406391Z"
    },
    "papermill": {
     "duration": 0.716408,
     "end_time": "2021-06-27T04:03:01.161696",
     "exception": false,
     "start_time": "2021-06-27T04:03:00.445288",
     "status": "completed"
    },
    "tags": []
   },
   "outputs": [],
   "source": [
    "import shutil\n",
    "\n",
    "shutil.rmtree('./train')\n",
    "shutil.rmtree('./test')"
   ]
  }
 ],
 "metadata": {
  "kernelspec": {
   "display_name": "Python 3",
   "language": "python",
   "name": "python3"
  },
  "language_info": {
   "codemirror_mode": {
    "name": "ipython",
    "version": 3
   },
   "file_extension": ".py",
   "mimetype": "text/x-python",
   "name": "python",
   "nbconvert_exporter": "python",
   "pygments_lexer": "ipython3",
   "version": "3.7.9"
  },
  "papermill": {
   "default_parameters": {},
   "duration": 120.861918,
   "end_time": "2021-06-27T04:03:03.009085",
   "environment_variables": {},
   "exception": null,
   "input_path": "__notebook__.ipynb",
   "output_path": "__notebook__.ipynb",
   "parameters": {},
   "start_time": "2021-06-27T04:01:02.147167",
   "version": "2.3.2"
  }
 },
 "nbformat": 4,
 "nbformat_minor": 5
}
