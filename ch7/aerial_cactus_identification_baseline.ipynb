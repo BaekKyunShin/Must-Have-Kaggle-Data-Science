{
 "cells": [
  {
   "cell_type": "code",
   "execution_count": 1,
   "id": "herbal-organic",
   "metadata": {
    "_uuid": "001d0b8a8b818c57a55fa4e20b5cae060a749cdc",
    "execution": {
     "iopub.execute_input": "2021-04-29T12:13:33.097740Z",
     "iopub.status.busy": "2021-04-29T12:13:33.097098Z",
     "iopub.status.idle": "2021-04-29T12:13:33.160849Z",
     "shell.execute_reply": "2021-04-29T12:13:33.160066Z"
    },
    "papermill": {
     "duration": 0.089529,
     "end_time": "2021-04-29T12:13:33.161007",
     "exception": false,
     "start_time": "2021-04-29T12:13:33.071478",
     "status": "completed"
    },
    "tags": []
   },
   "outputs": [],
   "source": [
    "import pandas as pd\n",
    "\n",
    "# 데이터 경로\n",
    "data_path = '/kaggle/input/aerial-cactus-identification/'\n",
    "\n",
    "labels = pd.read_csv(data_path + 'train.csv')\n",
    "submission = pd.read_csv(data_path + 'sample_submission.csv')"
   ]
  },
  {
   "cell_type": "code",
   "execution_count": 2,
   "id": "efficient-glucose",
   "metadata": {
    "execution": {
     "iopub.execute_input": "2021-04-29T12:13:33.202918Z",
     "iopub.status.busy": "2021-04-29T12:13:33.202302Z",
     "iopub.status.idle": "2021-04-29T12:13:36.358623Z",
     "shell.execute_reply": "2021-04-29T12:13:36.359115Z"
    },
    "papermill": {
     "duration": 3.178679,
     "end_time": "2021-04-29T12:13:36.359355",
     "exception": false,
     "start_time": "2021-04-29T12:13:33.180676",
     "status": "completed"
    },
    "tags": []
   },
   "outputs": [],
   "source": [
    "from zipfile import ZipFile\n",
    "\n",
    "# 훈련 이미지 데이터 압출 풀기\n",
    "with ZipFile(data_path + 'train.zip') as zipper:\n",
    "    zipper.extractall()\n",
    "    \n",
    "# 테스트 이미지 데이터 압출 풀기\n",
    "with ZipFile(data_path + 'test.zip') as zipper:\n",
    "    zipper.extractall()"
   ]
  },
  {
   "cell_type": "code",
   "execution_count": 3,
   "id": "suitable-conservation",
   "metadata": {
    "execution": {
     "iopub.execute_input": "2021-04-29T12:13:36.397036Z",
     "iopub.status.busy": "2021-04-29T12:13:36.396410Z",
     "iopub.status.idle": "2021-04-29T12:13:37.580675Z",
     "shell.execute_reply": "2021-04-29T12:13:37.580158Z"
    },
    "papermill": {
     "duration": 1.204009,
     "end_time": "2021-04-29T12:13:37.580817",
     "exception": false,
     "start_time": "2021-04-29T12:13:36.376808",
     "status": "completed"
    },
    "tags": []
   },
   "outputs": [
    {
     "data": {
      "text/plain": [
       "<torch._C.Generator at 0x7fe90b5f72b0>"
      ]
     },
     "execution_count": 3,
     "metadata": {},
     "output_type": "execute_result"
    }
   ],
   "source": [
    "import torch # 파이토치 \n",
    "\n",
    "torch.manual_seed(0)"
   ]
  },
  {
   "cell_type": "code",
   "execution_count": 4,
   "id": "fourth-spain",
   "metadata": {
    "execution": {
     "iopub.execute_input": "2021-04-29T12:13:37.622116Z",
     "iopub.status.busy": "2021-04-29T12:13:37.621346Z",
     "iopub.status.idle": "2021-04-29T12:13:37.623781Z",
     "shell.execute_reply": "2021-04-29T12:13:37.624260Z"
    },
    "papermill": {
     "duration": 0.025726,
     "end_time": "2021-04-29T12:13:37.624430",
     "exception": false,
     "start_time": "2021-04-29T12:13:37.598704",
     "status": "completed"
    },
    "tags": []
   },
   "outputs": [],
   "source": [
    "if torch.cuda.is_available():\n",
    "    device = torch.device('cuda')\n",
    "else:\n",
    "    device = torch.device('cpu')"
   ]
  },
  {
   "cell_type": "code",
   "execution_count": 5,
   "id": "wireless-rolling",
   "metadata": {
    "execution": {
     "iopub.execute_input": "2021-04-29T12:13:37.667430Z",
     "iopub.status.busy": "2021-04-29T12:13:37.666530Z",
     "iopub.status.idle": "2021-04-29T12:13:37.670755Z",
     "shell.execute_reply": "2021-04-29T12:13:37.670217Z"
    },
    "papermill": {
     "duration": 0.027353,
     "end_time": "2021-04-29T12:13:37.670890",
     "exception": false,
     "start_time": "2021-04-29T12:13:37.643537",
     "status": "completed"
    },
    "tags": []
   },
   "outputs": [
    {
     "data": {
      "text/plain": [
       "device(type='cpu')"
      ]
     },
     "execution_count": 5,
     "metadata": {},
     "output_type": "execute_result"
    }
   ],
   "source": [
    "device"
   ]
  },
  {
   "cell_type": "code",
   "execution_count": 6,
   "id": "legal-terrorism",
   "metadata": {
    "_uuid": "c07eab67e573c7de05e11065b5bafc1bbff284fb",
    "execution": {
     "iopub.execute_input": "2021-04-29T12:13:37.712040Z",
     "iopub.status.busy": "2021-04-29T12:13:37.711434Z",
     "iopub.status.idle": "2021-04-29T12:13:38.774428Z",
     "shell.execute_reply": "2021-04-29T12:13:38.773857Z"
    },
    "papermill": {
     "duration": 1.085293,
     "end_time": "2021-04-29T12:13:38.774579",
     "exception": false,
     "start_time": "2021-04-29T12:13:37.689286",
     "status": "completed"
    },
    "tags": []
   },
   "outputs": [],
   "source": [
    "from sklearn.model_selection import train_test_split\n",
    "\n",
    "# 훈련 데이터, 검증 데이터 분리\n",
    "train, valid = train_test_split(labels, \n",
    "                                test_size=0.1,\n",
    "                                stratify=labels['has_cactus'],\n",
    "                                random_state=10)"
   ]
  },
  {
   "cell_type": "code",
   "execution_count": 7,
   "id": "international-macintosh",
   "metadata": {
    "execution": {
     "iopub.execute_input": "2021-04-29T12:13:38.823162Z",
     "iopub.status.busy": "2021-04-29T12:13:38.822473Z",
     "iopub.status.idle": "2021-04-29T12:13:38.828597Z",
     "shell.execute_reply": "2021-04-29T12:13:38.827781Z"
    },
    "papermill": {
     "duration": 0.033653,
     "end_time": "2021-04-29T12:13:38.828800",
     "exception": false,
     "start_time": "2021-04-29T12:13:38.795147",
     "status": "completed"
    },
    "tags": []
   },
   "outputs": [
    {
     "name": "stdout",
     "output_type": "stream",
     "text": [
      "훈련 데이터 개수: 15750\n",
      "검증 데이터 개수: 1750\n"
     ]
    }
   ],
   "source": [
    "print('훈련 데이터 개수:', len(train))\n",
    "print('검증 데이터 개수:', len(valid))"
   ]
  },
  {
   "cell_type": "code",
   "execution_count": 8,
   "id": "korean-attempt",
   "metadata": {
    "_uuid": "1b05af8d59d9d5b092e96f72dfebb19591416de9",
    "execution": {
     "iopub.execute_input": "2021-04-29T12:13:38.918989Z",
     "iopub.status.busy": "2021-04-29T12:13:38.918314Z",
     "iopub.status.idle": "2021-04-29T12:13:39.214262Z",
     "shell.execute_reply": "2021-04-29T12:13:39.213698Z"
    },
    "papermill": {
     "duration": 0.322916,
     "end_time": "2021-04-29T12:13:39.214416",
     "exception": false,
     "start_time": "2021-04-29T12:13:38.891500",
     "status": "completed"
    },
    "tags": []
   },
   "outputs": [],
   "source": [
    "import cv2\n",
    "from torch.utils.data import Dataset # 데이터 생성을 위한 클래스\n",
    "\n",
    "class ImageDataset(Dataset):\n",
    "    # 초기화 메서드(생성자) ---①\n",
    "    def __init__(self, df, img_dir = './', transform=None):\n",
    "        super().__init__() # 상속받은 Dataset의 __init__() 메서드 호출 ---②\n",
    "        self.df = df\n",
    "        self.img_dir = img_dir\n",
    "        self.transform = transform\n",
    "    \n",
    "    # 데이터 세트 크기 반환 메서드 ---③\n",
    "    def __len__(self):\n",
    "        return len(self.df)\n",
    "    \n",
    "    # 인덱스(idx)에 해당하는 데이터 반환 메서드 ---④\n",
    "    def __getitem__(self, idx):\n",
    "        img_path = self.img_dir + self.df.iloc[idx, 0] # 이미지 파일 경로 \n",
    "        image = cv2.imread(img_path) # 이미지 파일 읽기 \n",
    "        label = self.df.iloc[idx, 1] # 이미지 레이블(타깃 값)\n",
    "        # 이미지 변환\n",
    "        if self.transform:\n",
    "            image = self.transform(image)\n",
    "        return image, label"
   ]
  },
  {
   "cell_type": "code",
   "execution_count": 9,
   "id": "dress-morning",
   "metadata": {
    "execution": {
     "iopub.execute_input": "2021-04-29T12:13:39.257607Z",
     "iopub.status.busy": "2021-04-29T12:13:39.256883Z",
     "iopub.status.idle": "2021-04-29T12:13:39.427238Z",
     "shell.execute_reply": "2021-04-29T12:13:39.426677Z"
    },
    "papermill": {
     "duration": 0.193956,
     "end_time": "2021-04-29T12:13:39.427394",
     "exception": false,
     "start_time": "2021-04-29T12:13:39.233438",
     "status": "completed"
    },
    "tags": []
   },
   "outputs": [],
   "source": [
    "import torchvision.transforms as transforms # 이미지 변환을 위한 모듈\n",
    "\n",
    "transform = transforms.ToTensor()"
   ]
  },
  {
   "cell_type": "code",
   "execution_count": 10,
   "id": "plain-active",
   "metadata": {
    "execution": {
     "iopub.execute_input": "2021-04-29T12:13:39.471238Z",
     "iopub.status.busy": "2021-04-29T12:13:39.470588Z",
     "iopub.status.idle": "2021-04-29T12:13:39.473866Z",
     "shell.execute_reply": "2021-04-29T12:13:39.473383Z"
    },
    "papermill": {
     "duration": 0.02734,
     "end_time": "2021-04-29T12:13:39.474005",
     "exception": false,
     "start_time": "2021-04-29T12:13:39.446665",
     "status": "completed"
    },
    "tags": []
   },
   "outputs": [],
   "source": [
    "dataset_train = ImageDataset(df=train, img_dir='train/', transform=transform)\n",
    "dataset_valid = ImageDataset(df=valid, img_dir='train/', transform=transform)"
   ]
  },
  {
   "cell_type": "code",
   "execution_count": 11,
   "id": "scheduled-stuart",
   "metadata": {
    "_uuid": "c247391c28497ad35c72f5218398ea71f2d0d5ff",
    "execution": {
     "iopub.execute_input": "2021-04-29T12:13:39.517950Z",
     "iopub.status.busy": "2021-04-29T12:13:39.517336Z",
     "iopub.status.idle": "2021-04-29T12:13:39.520653Z",
     "shell.execute_reply": "2021-04-29T12:13:39.520026Z"
    },
    "papermill": {
     "duration": 0.02775,
     "end_time": "2021-04-29T12:13:39.520807",
     "exception": false,
     "start_time": "2021-04-29T12:13:39.493057",
     "status": "completed"
    },
    "tags": []
   },
   "outputs": [],
   "source": [
    "from torch.utils.data import DataLoader # 데이터 로더 생성을 위한 클래스\n",
    "\n",
    "loader_train = DataLoader(dataset=dataset_train, batch_size=128, \n",
    "                          shuffle=True)\n",
    "loader_valid = DataLoader(dataset=dataset_valid, batch_size=64, \n",
    "                          shuffle=False)"
   ]
  },
  {
   "cell_type": "code",
   "execution_count": 12,
   "id": "floppy-money",
   "metadata": {
    "_uuid": "0a2d5600bc2eb915ec0bdf5b52ba11e25096f7d0",
    "execution": {
     "iopub.execute_input": "2021-04-29T12:13:39.570566Z",
     "iopub.status.busy": "2021-04-29T12:13:39.569881Z",
     "iopub.status.idle": "2021-04-29T12:13:39.571824Z",
     "shell.execute_reply": "2021-04-29T12:13:39.572285Z"
    },
    "papermill": {
     "duration": 0.032368,
     "end_time": "2021-04-29T12:13:39.572454",
     "exception": false,
     "start_time": "2021-04-29T12:13:39.540086",
     "status": "completed"
    },
    "tags": []
   },
   "outputs": [],
   "source": [
    "import torch.nn as nn # 신경망 모듈\n",
    "import torch.nn.functional as F # 신경망 모듈에서 자주 사용되는 함수\n",
    "\n",
    "class Model(nn.Module):\n",
    "    # 신경망 계층 정의 ---①\n",
    "    def __init__(self):\n",
    "        super().__init__() # 상속받은 nn.Module의 __init__() 메서드 호출\n",
    "        # 첫 번째 합성곱 계층 ---②\n",
    "        self.conv1 = nn.Conv2d(in_channels=3, out_channels=32, \n",
    "                               kernel_size=3, padding=2) \n",
    "        # 두 번째 합성곱 계층 ---③\n",
    "        self.conv2 = nn.Conv2d(in_channels=32, out_channels=64, \n",
    "                               kernel_size=3, padding=2) \n",
    "        # 최대 풀링 계층 ---④\n",
    "        self.max_pool = nn.MaxPool2d(kernel_size=2) \n",
    "        # 평균 풀링 계층 ---⑤\n",
    "        self.avg_pool = nn.AvgPool2d(kernel_size=2) \n",
    "        # 전결합 계층 ---⑥\n",
    "        self.fc = nn.Linear(in_features=64 * 4 * 4, out_features=2)\n",
    "        \n",
    "    # 순전파 출력 정의 ---⑦\n",
    "    def forward(self, x):\n",
    "        x = self.max_pool(F.relu(self.conv1(x)))\n",
    "        x = self.max_pool(F.relu(self.conv2(x)))\n",
    "        x = self.avg_pool(x)\n",
    "        x = x.view(-1, 64 * 4 * 4) # 평탄화\n",
    "        x = self.fc(x)\n",
    "        return x"
   ]
  },
  {
   "cell_type": "code",
   "execution_count": 13,
   "id": "informational-class",
   "metadata": {
    "_cell_guid": "79c7e3d0-c299-4dcb-8224-4455121ee9b0",
    "_uuid": "d629ff2d2480ee46fbb7e2d37f6b5fab8052498a",
    "execution": {
     "iopub.execute_input": "2021-04-29T12:13:39.614655Z",
     "iopub.status.busy": "2021-04-29T12:13:39.613918Z",
     "iopub.status.idle": "2021-04-29T12:13:39.660781Z",
     "shell.execute_reply": "2021-04-29T12:13:39.660183Z"
    },
    "papermill": {
     "duration": 0.068888,
     "end_time": "2021-04-29T12:13:39.660925",
     "exception": false,
     "start_time": "2021-04-29T12:13:39.592037",
     "status": "completed"
    },
    "tags": []
   },
   "outputs": [
    {
     "data": {
      "text/plain": [
       "Model(\n",
       "  (conv1): Conv2d(3, 32, kernel_size=(3, 3), stride=(1, 1), padding=(2, 2))\n",
       "  (conv2): Conv2d(32, 64, kernel_size=(3, 3), stride=(1, 1), padding=(2, 2))\n",
       "  (max_pool): MaxPool2d(kernel_size=2, stride=2, padding=0, dilation=1, ceil_mode=False)\n",
       "  (avg_pool): AvgPool2d(kernel_size=2, stride=2, padding=0)\n",
       "  (fc): Linear(in_features=1024, out_features=2, bias=True)\n",
       ")"
      ]
     },
     "execution_count": 13,
     "metadata": {},
     "output_type": "execute_result"
    }
   ],
   "source": [
    "model = Model().to(device)\n",
    "\n",
    "model"
   ]
  },
  {
   "cell_type": "code",
   "execution_count": 14,
   "id": "starting-addiction",
   "metadata": {
    "execution": {
     "iopub.execute_input": "2021-04-29T12:13:39.704148Z",
     "iopub.status.busy": "2021-04-29T12:13:39.703510Z",
     "iopub.status.idle": "2021-04-29T12:13:39.707001Z",
     "shell.execute_reply": "2021-04-29T12:13:39.707607Z"
    },
    "papermill": {
     "duration": 0.026712,
     "end_time": "2021-04-29T12:13:39.707771",
     "exception": false,
     "start_time": "2021-04-29T12:13:39.681059",
     "status": "completed"
    },
    "tags": []
   },
   "outputs": [],
   "source": [
    "# 손실함수\n",
    "criterion = nn.CrossEntropyLoss()"
   ]
  },
  {
   "cell_type": "code",
   "execution_count": 15,
   "id": "satisfied-deviation",
   "metadata": {
    "_uuid": "fceb2929d8750acb2de745cd9ff3d2d458820df8",
    "execution": {
     "iopub.execute_input": "2021-04-29T12:13:39.753182Z",
     "iopub.status.busy": "2021-04-29T12:13:39.752496Z",
     "iopub.status.idle": "2021-04-29T12:13:39.755286Z",
     "shell.execute_reply": "2021-04-29T12:13:39.754785Z"
    },
    "papermill": {
     "duration": 0.027352,
     "end_time": "2021-04-29T12:13:39.755423",
     "exception": false,
     "start_time": "2021-04-29T12:13:39.728071",
     "status": "completed"
    },
    "tags": []
   },
   "outputs": [],
   "source": [
    "# 옵티마이저\n",
    "optimizer = torch.optim.SGD(model.parameters(), lr=0.01)"
   ]
  },
  {
   "cell_type": "code",
   "execution_count": 16,
   "id": "characteristic-stuff",
   "metadata": {
    "execution": {
     "iopub.execute_input": "2021-04-29T12:13:39.799575Z",
     "iopub.status.busy": "2021-04-29T12:13:39.798896Z",
     "iopub.status.idle": "2021-04-29T12:13:39.803855Z",
     "shell.execute_reply": "2021-04-29T12:13:39.804385Z"
    },
    "papermill": {
     "duration": 0.028891,
     "end_time": "2021-04-29T12:13:39.804564",
     "exception": false,
     "start_time": "2021-04-29T12:13:39.775673",
     "status": "completed"
    },
    "tags": []
   },
   "outputs": [
    {
     "data": {
      "text/plain": [
       "124"
      ]
     },
     "execution_count": 16,
     "metadata": {},
     "output_type": "execute_result"
    }
   ],
   "source": [
    "import math\n",
    "\n",
    "math.ceil(len(train) / 128)"
   ]
  },
  {
   "cell_type": "code",
   "execution_count": 17,
   "id": "virgin-fundamental",
   "metadata": {
    "execution": {
     "iopub.execute_input": "2021-04-29T12:13:39.850299Z",
     "iopub.status.busy": "2021-04-29T12:13:39.849661Z",
     "iopub.status.idle": "2021-04-29T12:13:39.854437Z",
     "shell.execute_reply": "2021-04-29T12:13:39.855001Z"
    },
    "papermill": {
     "duration": 0.029801,
     "end_time": "2021-04-29T12:13:39.855174",
     "exception": false,
     "start_time": "2021-04-29T12:13:39.825373",
     "status": "completed"
    },
    "tags": []
   },
   "outputs": [
    {
     "data": {
      "text/plain": [
       "124"
      ]
     },
     "execution_count": 17,
     "metadata": {},
     "output_type": "execute_result"
    }
   ],
   "source": [
    "len(loader_train)"
   ]
  },
  {
   "cell_type": "code",
   "execution_count": 18,
   "id": "seasonal-barcelona",
   "metadata": {
    "_uuid": "2c37417ae6b62ab4551bc8a888916ca1e591d284",
    "execution": {
     "iopub.execute_input": "2021-04-29T12:13:39.900952Z",
     "iopub.status.busy": "2021-04-29T12:13:39.900292Z",
     "iopub.status.idle": "2021-04-29T12:20:18.804889Z",
     "shell.execute_reply": "2021-04-29T12:20:18.805522Z"
    },
    "papermill": {
     "duration": 398.929355,
     "end_time": "2021-04-29T12:20:18.805752",
     "exception": false,
     "start_time": "2021-04-29T12:13:39.876397",
     "status": "completed"
    },
    "tags": []
   },
   "outputs": [
    {
     "name": "stdout",
     "output_type": "stream",
     "text": [
      "에폭: [1/25], 훈련 스텝: [100/124], 손실값: 0.5834\n",
      "에폭: [2/25], 훈련 스텝: [100/124], 손실값: 0.5793\n",
      "에폭: [3/25], 훈련 스텝: [100/124], 손실값: 0.4803\n",
      "에폭: [4/25], 훈련 스텝: [100/124], 손실값: 0.4559\n",
      "에폭: [5/25], 훈련 스텝: [100/124], 손실값: 0.3587\n",
      "에폭: [6/25], 훈련 스텝: [100/124], 손실값: 0.3317\n",
      "에폭: [7/25], 훈련 스텝: [100/124], 손실값: 0.2644\n",
      "에폭: [8/25], 훈련 스텝: [100/124], 손실값: 0.2713\n",
      "에폭: [9/25], 훈련 스텝: [100/124], 손실값: 0.2338\n",
      "에폭: [10/25], 훈련 스텝: [100/124], 손실값: 0.1700\n",
      "에폭: [11/25], 훈련 스텝: [100/124], 손실값: 0.2169\n",
      "에폭: [12/25], 훈련 스텝: [100/124], 손실값: 0.2276\n",
      "에폭: [13/25], 훈련 스텝: [100/124], 손실값: 0.2217\n",
      "에폭: [14/25], 훈련 스텝: [100/124], 손실값: 0.1505\n",
      "에폭: [15/25], 훈련 스텝: [100/124], 손실값: 0.1525\n",
      "에폭: [16/25], 훈련 스텝: [100/124], 손실값: 0.2738\n",
      "에폭: [17/25], 훈련 스텝: [100/124], 손실값: 0.2214\n",
      "에폭: [18/25], 훈련 스텝: [100/124], 손실값: 0.1654\n",
      "에폭: [19/25], 훈련 스텝: [100/124], 손실값: 0.1677\n",
      "에폭: [20/25], 훈련 스텝: [100/124], 손실값: 0.1870\n",
      "에폭: [21/25], 훈련 스텝: [100/124], 손실값: 0.1547\n",
      "에폭: [22/25], 훈련 스텝: [100/124], 손실값: 0.1791\n",
      "에폭: [23/25], 훈련 스텝: [100/124], 손실값: 0.1519\n",
      "에폭: [24/25], 훈련 스텝: [100/124], 손실값: 0.1010\n",
      "에폭: [25/25], 훈련 스텝: [100/124], 손실값: 0.1498\n"
     ]
    }
   ],
   "source": [
    "iters = len(loader_train) # 반복 횟수\n",
    "epochs = 25 # 총 에폭\n",
    "\n",
    "# 총 25에폭만큼 훈련 ---①\n",
    "for epoch in range(epochs):\n",
    "    # 미니배치 크기만큼 데이터를 추출하는 작업을 '반복 횟수'만큼 반복 ---②\n",
    "    for i, (images, labels) in enumerate(loader_train):\n",
    "        # 이미지, 레이블 데이터 미니배치를 장비에 할당 ---③\n",
    "        images = images.to(device)\n",
    "        labels = labels.to(device)\n",
    "\n",
    "        # 옵티마이저 내 기울기 초기화 ---④\n",
    "        optimizer.zero_grad()\n",
    "        # 이미지 데이터를 신경망 모델의 입력값으로 사용해 출력값 계산 ---⑤\n",
    "        outputs = model(images)\n",
    "        # 기존에 정의한 손실함수를 활용해 outputs와 labels의 손실값 계산 ---⑥\n",
    "        loss = criterion(outputs, labels)\n",
    "        # 오차 역전파 수행 ---⑦\n",
    "        loss.backward()\n",
    "        # 가중치 갱신 ---⑧\n",
    "        optimizer.step()\n",
    "        \n",
    "        if (i+1) % 100 == 0:\n",
    "            print (f'에폭: [{epoch+1}/{epochs}], 훈련 스텝: [{i+1}/{iters}], 손실값: {loss.item():.4f}')"
   ]
  },
  {
   "cell_type": "code",
   "execution_count": 19,
   "id": "through-living",
   "metadata": {
    "execution": {
     "iopub.execute_input": "2021-04-29T12:20:18.870490Z",
     "iopub.status.busy": "2021-04-29T12:20:18.869548Z",
     "iopub.status.idle": "2021-04-29T12:20:20.001876Z",
     "shell.execute_reply": "2021-04-29T12:20:20.001247Z"
    },
    "papermill": {
     "duration": 1.164102,
     "end_time": "2021-04-29T12:20:20.002014",
     "exception": false,
     "start_time": "2021-04-29T12:20:18.837912",
     "status": "completed"
    },
    "tags": []
   },
   "outputs": [
    {
     "name": "stdout",
     "output_type": "stream",
     "text": [
      "검증 데이터 ROC AUC : 0.9901276463302303\n"
     ]
    }
   ],
   "source": [
    "from sklearn.metrics import roc_auc_score # ROC AUC 점수 계산 함수\n",
    "\n",
    "roc_auc = 0 # ROC AUC 초기화\n",
    "\n",
    "model.eval() # 모델을 평가 상태로 설정 ---①\n",
    "\n",
    "with torch.no_grad(): # 기울기 계산 비활성 ---②\n",
    "    for images, labels in loader_valid:\n",
    "        # 이미지, 레이블 데이터 미니배치를 장비에 할당 \n",
    "        images = images.to(device)\n",
    "        labels = labels.to(device)\n",
    "        # 이미지 데이터를 신경망 모델의 입력값으로 사용해 출력값 계산\n",
    "        outputs = model(images)\n",
    "        preds = torch.softmax(outputs.cpu(), dim=1)[:, 1] # 예측 확률값 ---③\n",
    "        true = labels.cpu() # 실제 값 ---④\n",
    "        # 검증 데이터 ROC AUC 점수 계산 ---⑤\n",
    "        roc_auc += roc_auc_score(true, preds) / len(loader_valid)\n",
    "\n",
    "    print(f'검증 데이터 ROC AUC : {roc_auc}')"
   ]
  },
  {
   "cell_type": "code",
   "execution_count": 20,
   "id": "instrumental-collect",
   "metadata": {
    "_uuid": "870413a60281e0c4115fbc7cf192508e15a9e269",
    "execution": {
     "iopub.execute_input": "2021-04-29T12:20:20.066254Z",
     "iopub.status.busy": "2021-04-29T12:20:20.065621Z",
     "iopub.status.idle": "2021-04-29T12:20:20.068442Z",
     "shell.execute_reply": "2021-04-29T12:20:20.067782Z"
    },
    "papermill": {
     "duration": 0.037547,
     "end_time": "2021-04-29T12:20:20.068601",
     "exception": false,
     "start_time": "2021-04-29T12:20:20.031054",
     "status": "completed"
    },
    "tags": []
   },
   "outputs": [],
   "source": [
    "dataset_test = ImageDataset(df=submission, img_dir='test/', transform=transform)\n",
    "loader_test = DataLoader(dataset=dataset_test, batch_size=32, shuffle=False)"
   ]
  },
  {
   "cell_type": "code",
   "execution_count": 21,
   "id": "fuzzy-upper",
   "metadata": {
    "execution": {
     "iopub.execute_input": "2021-04-29T12:20:20.134330Z",
     "iopub.status.busy": "2021-04-29T12:20:20.133689Z",
     "iopub.status.idle": "2021-04-29T12:20:22.639225Z",
     "shell.execute_reply": "2021-04-29T12:20:22.638475Z"
    },
    "papermill": {
     "duration": 2.5413,
     "end_time": "2021-04-29T12:20:22.639385",
     "exception": false,
     "start_time": "2021-04-29T12:20:20.098085",
     "status": "completed"
    },
    "tags": []
   },
   "outputs": [],
   "source": [
    "model.eval() # 모델을 평가 상태로 설정\n",
    "\n",
    "preds = [] # 타깃 예측 값 저장용 변수 초기화 ---①\n",
    "\n",
    "with torch.no_grad(): # 기울기 계산 비활성\n",
    "    for images, _ in loader_test:\n",
    "        # 이미지 데이터 미니배치를 장비에 할당\n",
    "        images = images.to(device)\n",
    "        # 이미지 데이터를 신경망 모델의 입력값으로 사용해 출력값 계산\n",
    "        outputs = model(images)\n",
    "        # 타깃 값이 1일 확률(예측 값) ---②\n",
    "        preds_temp = torch.softmax(outputs.cpu(), dim=1)[:, 1].tolist()\n",
    "        # preds에 preds_temp 이어붙이기 ---③\n",
    "        preds.extend(preds_temp)"
   ]
  },
  {
   "cell_type": "code",
   "execution_count": 22,
   "id": "entire-parker",
   "metadata": {
    "execution": {
     "iopub.execute_input": "2021-04-29T12:20:22.706585Z",
     "iopub.status.busy": "2021-04-29T12:20:22.705905Z",
     "iopub.status.idle": "2021-04-29T12:20:22.732768Z",
     "shell.execute_reply": "2021-04-29T12:20:22.732040Z"
    },
    "papermill": {
     "duration": 0.06189,
     "end_time": "2021-04-29T12:20:22.732914",
     "exception": false,
     "start_time": "2021-04-29T12:20:22.671024",
     "status": "completed"
    },
    "tags": []
   },
   "outputs": [],
   "source": [
    "submission['has_cactus'] = preds\n",
    "submission.to_csv('submission.csv', index=False)"
   ]
  },
  {
   "cell_type": "code",
   "execution_count": 23,
   "id": "textile-nightlife",
   "metadata": {
    "execution": {
     "iopub.execute_input": "2021-04-29T12:20:22.799232Z",
     "iopub.status.busy": "2021-04-29T12:20:22.798573Z",
     "iopub.status.idle": "2021-04-29T12:20:22.812991Z",
     "shell.execute_reply": "2021-04-29T12:20:22.812503Z"
    },
    "papermill": {
     "duration": 0.05062,
     "end_time": "2021-04-29T12:20:22.813141",
     "exception": false,
     "start_time": "2021-04-29T12:20:22.762521",
     "status": "completed"
    },
    "tags": []
   },
   "outputs": [
    {
     "data": {
      "text/html": [
       "<div>\n",
       "<style scoped>\n",
       "    .dataframe tbody tr th:only-of-type {\n",
       "        vertical-align: middle;\n",
       "    }\n",
       "\n",
       "    .dataframe tbody tr th {\n",
       "        vertical-align: top;\n",
       "    }\n",
       "\n",
       "    .dataframe thead th {\n",
       "        text-align: right;\n",
       "    }\n",
       "</style>\n",
       "<table border=\"1\" class=\"dataframe\">\n",
       "  <thead>\n",
       "    <tr style=\"text-align: right;\">\n",
       "      <th></th>\n",
       "      <th>id</th>\n",
       "      <th>has_cactus</th>\n",
       "    </tr>\n",
       "  </thead>\n",
       "  <tbody>\n",
       "    <tr>\n",
       "      <th>0</th>\n",
       "      <td>000940378805c44108d287872b2f04ce.jpg</td>\n",
       "      <td>0.948558</td>\n",
       "    </tr>\n",
       "    <tr>\n",
       "      <th>1</th>\n",
       "      <td>0017242f54ececa4512b4d7937d1e21e.jpg</td>\n",
       "      <td>0.999325</td>\n",
       "    </tr>\n",
       "    <tr>\n",
       "      <th>2</th>\n",
       "      <td>001ee6d8564003107853118ab87df407.jpg</td>\n",
       "      <td>0.028275</td>\n",
       "    </tr>\n",
       "    <tr>\n",
       "      <th>3</th>\n",
       "      <td>002e175c3c1e060769475f52182583d0.jpg</td>\n",
       "      <td>0.092357</td>\n",
       "    </tr>\n",
       "    <tr>\n",
       "      <th>4</th>\n",
       "      <td>0036e44a7e8f7218e9bc7bf8137e4943.jpg</td>\n",
       "      <td>0.832344</td>\n",
       "    </tr>\n",
       "    <tr>\n",
       "      <th>...</th>\n",
       "      <td>...</td>\n",
       "      <td>...</td>\n",
       "    </tr>\n",
       "    <tr>\n",
       "      <th>3995</th>\n",
       "      <td>ffaafd0c9f2f0e73172848463bc2e523.jpg</td>\n",
       "      <td>0.984172</td>\n",
       "    </tr>\n",
       "    <tr>\n",
       "      <th>3996</th>\n",
       "      <td>ffae37344310a1549162493237d25d3f.jpg</td>\n",
       "      <td>0.999856</td>\n",
       "    </tr>\n",
       "    <tr>\n",
       "      <th>3997</th>\n",
       "      <td>ffbd469c56873d064326204aac546e0d.jpg</td>\n",
       "      <td>0.997739</td>\n",
       "    </tr>\n",
       "    <tr>\n",
       "      <th>3998</th>\n",
       "      <td>ffcb76b7d47f29ece11c751e5f763f52.jpg</td>\n",
       "      <td>0.969420</td>\n",
       "    </tr>\n",
       "    <tr>\n",
       "      <th>3999</th>\n",
       "      <td>fffed17d1a8e0433a934db518d7f532c.jpg</td>\n",
       "      <td>0.896636</td>\n",
       "    </tr>\n",
       "  </tbody>\n",
       "</table>\n",
       "<p>4000 rows × 2 columns</p>\n",
       "</div>"
      ],
      "text/plain": [
       "                                        id  has_cactus\n",
       "0     000940378805c44108d287872b2f04ce.jpg    0.948558\n",
       "1     0017242f54ececa4512b4d7937d1e21e.jpg    0.999325\n",
       "2     001ee6d8564003107853118ab87df407.jpg    0.028275\n",
       "3     002e175c3c1e060769475f52182583d0.jpg    0.092357\n",
       "4     0036e44a7e8f7218e9bc7bf8137e4943.jpg    0.832344\n",
       "...                                    ...         ...\n",
       "3995  ffaafd0c9f2f0e73172848463bc2e523.jpg    0.984172\n",
       "3996  ffae37344310a1549162493237d25d3f.jpg    0.999856\n",
       "3997  ffbd469c56873d064326204aac546e0d.jpg    0.997739\n",
       "3998  ffcb76b7d47f29ece11c751e5f763f52.jpg    0.969420\n",
       "3999  fffed17d1a8e0433a934db518d7f532c.jpg    0.896636\n",
       "\n",
       "[4000 rows x 2 columns]"
      ]
     },
     "execution_count": 23,
     "metadata": {},
     "output_type": "execute_result"
    }
   ],
   "source": [
    "submission"
   ]
  },
  {
   "cell_type": "code",
   "execution_count": 24,
   "id": "willing-crystal",
   "metadata": {
    "execution": {
     "iopub.execute_input": "2021-04-29T12:20:22.878729Z",
     "iopub.status.busy": "2021-04-29T12:20:22.878008Z",
     "iopub.status.idle": "2021-04-29T12:20:23.552237Z",
     "shell.execute_reply": "2021-04-29T12:20:23.552887Z"
    },
    "papermill": {
     "duration": 0.709742,
     "end_time": "2021-04-29T12:20:23.553102",
     "exception": false,
     "start_time": "2021-04-29T12:20:22.843360",
     "status": "completed"
    },
    "tags": []
   },
   "outputs": [],
   "source": [
    "import shutil\n",
    "\n",
    "shutil.rmtree('./train')\n",
    "shutil.rmtree('./test')"
   ]
  }
 ],
 "metadata": {
  "kernelspec": {
   "display_name": "Python 3",
   "language": "python",
   "name": "python3"
  },
  "language_info": {
   "codemirror_mode": {
    "name": "ipython",
    "version": 3
   },
   "file_extension": ".py",
   "mimetype": "text/x-python",
   "name": "python",
   "nbconvert_exporter": "python",
   "pygments_lexer": "ipython3",
   "version": "3.7.9"
  },
  "papermill": {
   "default_parameters": {},
   "duration": 417.597951,
   "end_time": "2021-04-29T12:20:24.394715",
   "environment_variables": {},
   "exception": null,
   "input_path": "__notebook__.ipynb",
   "output_path": "__notebook__.ipynb",
   "parameters": {},
   "start_time": "2021-04-29T12:13:26.796764",
   "version": "2.3.2"
  }
 },
 "nbformat": 4,
 "nbformat_minor": 5
}
