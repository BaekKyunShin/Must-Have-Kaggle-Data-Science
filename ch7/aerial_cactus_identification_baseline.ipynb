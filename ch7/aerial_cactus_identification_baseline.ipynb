{
 "cells": [
  {
   "cell_type": "markdown",
   "id": "patient-photograph",
   "metadata": {
    "papermill": {
     "duration": 0.023708,
     "end_time": "2021-06-30T00:16:53.469075",
     "exception": false,
     "start_time": "2021-06-30T00:16:53.445367",
     "status": "completed"
    },
    "tags": []
   },
   "source": [
    "# 7.3 항공 사진 내 선인장 식별 경진대회 베이스라인 모델\n",
    "- [항공 사진 내 선인장 식별 경진대회 링크](https://www.kaggle.com/c/aerial-cactus-identification)\n",
    "- [베이스라인 코드 참고 링크](https://www.kaggle.com/bonhart/simple-cnn-on-pytorch-for-beginers)"
   ]
  },
  {
   "cell_type": "code",
   "execution_count": 1,
   "id": "peaceful-allergy",
   "metadata": {
    "execution": {
     "iopub.execute_input": "2021-06-30T00:16:53.521928Z",
     "iopub.status.busy": "2021-06-30T00:16:53.521411Z",
     "iopub.status.idle": "2021-06-30T00:16:53.574941Z",
     "shell.execute_reply": "2021-06-30T00:16:53.574446Z",
     "shell.execute_reply.started": "2021-06-30T00:15:01.622370Z"
    },
    "papermill": {
     "duration": 0.083679,
     "end_time": "2021-06-30T00:16:53.575067",
     "exception": false,
     "start_time": "2021-06-30T00:16:53.491388",
     "status": "completed"
    },
    "tags": []
   },
   "outputs": [],
   "source": [
    "import pandas as pd\n",
    "\n",
    "# 데이터 경로\n",
    "data_path = '/kaggle/input/aerial-cactus-identification/'\n",
    "\n",
    "labels = pd.read_csv(data_path + 'train.csv')\n",
    "submission = pd.read_csv(data_path + 'sample_submission.csv')"
   ]
  },
  {
   "cell_type": "code",
   "execution_count": 2,
   "id": "scheduled-grade",
   "metadata": {
    "execution": {
     "iopub.execute_input": "2021-06-30T00:16:53.623535Z",
     "iopub.status.busy": "2021-06-30T00:16:53.622993Z",
     "iopub.status.idle": "2021-06-30T00:16:56.285273Z",
     "shell.execute_reply": "2021-06-30T00:16:56.284211Z",
     "shell.execute_reply.started": "2021-06-30T00:15:01.681095Z"
    },
    "papermill": {
     "duration": 2.687804,
     "end_time": "2021-06-30T00:16:56.285422",
     "exception": false,
     "start_time": "2021-06-30T00:16:53.597618",
     "status": "completed"
    },
    "tags": []
   },
   "outputs": [],
   "source": [
    "from zipfile import ZipFile\n",
    "\n",
    "# 훈련 이미지 데이터 압축 풀기\n",
    "with ZipFile(data_path + 'train.zip') as zipper:\n",
    "    zipper.extractall()\n",
    "    \n",
    "# 테스트 이미지 데이터 압 풀기\n",
    "with ZipFile(data_path + 'test.zip') as zipper:\n",
    "    zipper.extractall()"
   ]
  },
  {
   "cell_type": "markdown",
   "id": "every-nepal",
   "metadata": {
    "papermill": {
     "duration": 0.022258,
     "end_time": "2021-06-30T00:16:56.330701",
     "exception": false,
     "start_time": "2021-06-30T00:16:56.308443",
     "status": "completed"
    },
    "tags": []
   },
   "source": [
    "## 7.3.1 시드 값 고정 및 GPU 장비 설정"
   ]
  },
  {
   "cell_type": "markdown",
   "id": "athletic-georgia",
   "metadata": {
    "papermill": {
     "duration": 0.022128,
     "end_time": "2021-06-30T00:16:56.375687",
     "exception": false,
     "start_time": "2021-06-30T00:16:56.353559",
     "status": "completed"
    },
    "tags": []
   },
   "source": [
    "### 시드 값 고정"
   ]
  },
  {
   "cell_type": "code",
   "execution_count": 3,
   "id": "regulation-compatibility",
   "metadata": {
    "execution": {
     "iopub.execute_input": "2021-06-30T00:16:56.425872Z",
     "iopub.status.busy": "2021-06-30T00:16:56.425213Z",
     "iopub.status.idle": "2021-06-30T00:16:57.778624Z",
     "shell.execute_reply": "2021-06-30T00:16:57.777356Z",
     "shell.execute_reply.started": "2021-06-30T00:15:04.720984Z"
    },
    "papermill": {
     "duration": 1.38089,
     "end_time": "2021-06-30T00:16:57.778759",
     "exception": false,
     "start_time": "2021-06-30T00:16:56.397869",
     "status": "completed"
    },
    "tags": []
   },
   "outputs": [],
   "source": [
    "import torch # 파이토치 \n",
    "import random\n",
    "import numpy as np\n",
    "import os\n",
    "\n",
    "# 시드 값 고정\n",
    "seed = 10\n",
    "\n",
    "os.environ['PYTHONHASHSEED'] = str(seed)\n",
    "random.seed(seed)\n",
    "np.random.seed(seed)\n",
    "torch.manual_seed(seed)\n",
    "torch.cuda.manual_seed(seed)\n",
    "torch.cuda.manual_seed_all(seed)\n",
    "torch.backends.cudnn.deterministic = True\n",
    "torch.backends.cudnn.benchmark = False\n",
    "torch.backends.cudnn.enabled = False"
   ]
  },
  {
   "cell_type": "markdown",
   "id": "figured-postage",
   "metadata": {
    "papermill": {
     "duration": 0.036755,
     "end_time": "2021-06-30T00:16:57.845739",
     "exception": false,
     "start_time": "2021-06-30T00:16:57.808984",
     "status": "completed"
    },
    "tags": []
   },
   "source": [
    "### GPU 장비 설정"
   ]
  },
  {
   "cell_type": "code",
   "execution_count": 4,
   "id": "weird-november",
   "metadata": {
    "execution": {
     "iopub.execute_input": "2021-06-30T00:16:57.949899Z",
     "iopub.status.busy": "2021-06-30T00:16:57.949246Z",
     "iopub.status.idle": "2021-06-30T00:16:57.952627Z",
     "shell.execute_reply": "2021-06-30T00:16:57.952190Z",
     "shell.execute_reply.started": "2021-06-30T00:15:06.361755Z"
    },
    "papermill": {
     "duration": 0.071068,
     "end_time": "2021-06-30T00:16:57.952744",
     "exception": false,
     "start_time": "2021-06-30T00:16:57.881676",
     "status": "completed"
    },
    "tags": []
   },
   "outputs": [],
   "source": [
    "device = torch.device('cuda' if torch.cuda.is_available() else 'cpu')"
   ]
  },
  {
   "cell_type": "code",
   "execution_count": 5,
   "id": "saving-brooks",
   "metadata": {
    "execution": {
     "iopub.execute_input": "2021-06-30T00:16:58.003259Z",
     "iopub.status.busy": "2021-06-30T00:16:58.002632Z",
     "iopub.status.idle": "2021-06-30T00:16:58.007630Z",
     "shell.execute_reply": "2021-06-30T00:16:58.008026Z",
     "shell.execute_reply.started": "2021-06-30T00:15:06.433415Z"
    },
    "papermill": {
     "duration": 0.033125,
     "end_time": "2021-06-30T00:16:58.008159",
     "exception": false,
     "start_time": "2021-06-30T00:16:57.975034",
     "status": "completed"
    },
    "tags": []
   },
   "outputs": [
    {
     "data": {
      "text/plain": [
       "device(type='cuda')"
      ]
     },
     "execution_count": 5,
     "metadata": {},
     "output_type": "execute_result"
    }
   ],
   "source": [
    "device"
   ]
  },
  {
   "cell_type": "markdown",
   "id": "accurate-burst",
   "metadata": {
    "papermill": {
     "duration": 0.022933,
     "end_time": "2021-06-30T00:16:58.053998",
     "exception": false,
     "start_time": "2021-06-30T00:16:58.031065",
     "status": "completed"
    },
    "tags": []
   },
   "source": [
    "## 7.3.2 데이터 준비하기"
   ]
  },
  {
   "cell_type": "markdown",
   "id": "animal-defendant",
   "metadata": {
    "papermill": {
     "duration": 0.022539,
     "end_time": "2021-06-30T00:16:58.099193",
     "exception": false,
     "start_time": "2021-06-30T00:16:58.076654",
     "status": "completed"
    },
    "tags": []
   },
   "source": [
    "### 훈련 데이터, 검증 데이터 분리"
   ]
  },
  {
   "cell_type": "code",
   "execution_count": 6,
   "id": "royal-relation",
   "metadata": {
    "_uuid": "c07eab67e573c7de05e11065b5bafc1bbff284fb",
    "execution": {
     "iopub.execute_input": "2021-06-30T00:16:58.149268Z",
     "iopub.status.busy": "2021-06-30T00:16:58.148637Z",
     "iopub.status.idle": "2021-06-30T00:16:58.918514Z",
     "shell.execute_reply": "2021-06-30T00:16:58.919201Z",
     "shell.execute_reply.started": "2021-06-30T00:15:06.449634Z"
    },
    "papermill": {
     "duration": 0.797513,
     "end_time": "2021-06-30T00:16:58.919415",
     "exception": false,
     "start_time": "2021-06-30T00:16:58.121902",
     "status": "completed"
    },
    "tags": []
   },
   "outputs": [],
   "source": [
    "from sklearn.model_selection import train_test_split\n",
    "\n",
    "# 훈련 데이터, 검증 데이터 분리\n",
    "train, valid = train_test_split(labels, \n",
    "                                test_size=0.1,\n",
    "                                stratify=labels['has_cactus'],\n",
    "                                random_state=10)"
   ]
  },
  {
   "cell_type": "code",
   "execution_count": 7,
   "id": "controlling-valentine",
   "metadata": {
    "execution": {
     "iopub.execute_input": "2021-06-30T00:16:58.972624Z",
     "iopub.status.busy": "2021-06-30T00:16:58.971753Z",
     "iopub.status.idle": "2021-06-30T00:16:58.976605Z",
     "shell.execute_reply": "2021-06-30T00:16:58.975895Z",
     "shell.execute_reply.started": "2021-06-30T00:15:07.325098Z"
    },
    "papermill": {
     "duration": 0.031711,
     "end_time": "2021-06-30T00:16:58.976724",
     "exception": false,
     "start_time": "2021-06-30T00:16:58.945013",
     "status": "completed"
    },
    "tags": []
   },
   "outputs": [
    {
     "name": "stdout",
     "output_type": "stream",
     "text": [
      "훈련 데이터 개수: 15750\n",
      "검증 데이터 개수: 1750\n"
     ]
    }
   ],
   "source": [
    "print('훈련 데이터 개수:', len(train))\n",
    "print('검증 데이터 개수:', len(valid))"
   ]
  },
  {
   "cell_type": "markdown",
   "id": "preliminary-protocol",
   "metadata": {
    "papermill": {
     "duration": 0.022786,
     "end_time": "2021-06-30T00:16:59.022208",
     "exception": false,
     "start_time": "2021-06-30T00:16:58.999422",
     "status": "completed"
    },
    "tags": []
   },
   "source": [
    "### 데이터 세트 정의"
   ]
  },
  {
   "cell_type": "code",
   "execution_count": 8,
   "id": "contained-tiger",
   "metadata": {
    "_uuid": "1b05af8d59d9d5b092e96f72dfebb19591416de9",
    "execution": {
     "iopub.execute_input": "2021-06-30T00:16:59.075554Z",
     "iopub.status.busy": "2021-06-30T00:16:59.074976Z",
     "iopub.status.idle": "2021-06-30T00:16:59.294336Z",
     "shell.execute_reply": "2021-06-30T00:16:59.293829Z",
     "shell.execute_reply.started": "2021-06-30T00:15:07.337622Z"
    },
    "papermill": {
     "duration": 0.24893,
     "end_time": "2021-06-30T00:16:59.294471",
     "exception": false,
     "start_time": "2021-06-30T00:16:59.045541",
     "status": "completed"
    },
    "tags": []
   },
   "outputs": [],
   "source": [
    "import cv2 # OpenCV 라이브러리\n",
    "from torch.utils.data import Dataset # 데이터 생성을 위한 클래스\n",
    "\n",
    "class ImageDataset(Dataset):\n",
    "    # 초기화 메서드(생성자)\n",
    "    def __init__(self, df, img_dir = './', transform=None):\n",
    "        super().__init__() # 상속받은 Dataset의 __init__() 메서드 호출 \n",
    "        self.df = df\n",
    "        self.img_dir = img_dir\n",
    "        self.transform = transform\n",
    "    \n",
    "    # 데이터 세트 크기 반환 메서드 \n",
    "    def __len__(self):\n",
    "        return len(self.df)\n",
    "    \n",
    "    # 인덱스(idx)에 해당하는 데이터 반환 메서드 \n",
    "    def __getitem__(self, idx):\n",
    "        img_path = self.img_dir + self.df.iloc[idx, 0] # 이미지 파일 경로 \n",
    "        image = cv2.imread(img_path) # 이미지 파일 읽기 \n",
    "        image = cv2.cvtColor(image, cv2.COLOR_BGR2RGB) # 이미지 색상 보정\n",
    "        label = self.df.iloc[idx, 1] # 이미지 레이블(타깃 값)\n",
    "        # 이미지 변환\n",
    "        if self.transform is not None:\n",
    "            image = self.transform(image)\n",
    "        return image, label"
   ]
  },
  {
   "cell_type": "markdown",
   "id": "meaning-burke",
   "metadata": {
    "papermill": {
     "duration": 0.034918,
     "end_time": "2021-06-30T00:16:59.353176",
     "exception": false,
     "start_time": "2021-06-30T00:16:59.318258",
     "status": "completed"
    },
    "tags": []
   },
   "source": [
    "### 데이터 세트 및 데이터 로더 생성"
   ]
  },
  {
   "cell_type": "code",
   "execution_count": 9,
   "id": "academic-calculation",
   "metadata": {
    "execution": {
     "iopub.execute_input": "2021-06-30T00:16:59.437288Z",
     "iopub.status.busy": "2021-06-30T00:16:59.435425Z",
     "iopub.status.idle": "2021-06-30T00:16:59.598022Z",
     "shell.execute_reply": "2021-06-30T00:16:59.597524Z",
     "shell.execute_reply.started": "2021-06-30T00:15:07.624493Z"
    },
    "papermill": {
     "duration": 0.204679,
     "end_time": "2021-06-30T00:16:59.598169",
     "exception": false,
     "start_time": "2021-06-30T00:16:59.393490",
     "status": "completed"
    },
    "tags": []
   },
   "outputs": [],
   "source": [
    "from torchvision import transforms # 이미지 변환을 위한 모듈\n",
    "\n",
    "transform = transforms.ToTensor()"
   ]
  },
  {
   "cell_type": "code",
   "execution_count": 10,
   "id": "naughty-fighter",
   "metadata": {
    "execution": {
     "iopub.execute_input": "2021-06-30T00:16:59.678989Z",
     "iopub.status.busy": "2021-06-30T00:16:59.677080Z",
     "iopub.status.idle": "2021-06-30T00:16:59.679824Z",
     "shell.execute_reply": "2021-06-30T00:16:59.680433Z",
     "shell.execute_reply.started": "2021-06-30T00:15:07.819580Z"
    },
    "papermill": {
     "duration": 0.04511,
     "end_time": "2021-06-30T00:16:59.680605",
     "exception": false,
     "start_time": "2021-06-30T00:16:59.635495",
     "status": "completed"
    },
    "tags": []
   },
   "outputs": [],
   "source": [
    "dataset_train = ImageDataset(df=train, img_dir='train/', transform=transform)\n",
    "dataset_valid = ImageDataset(df=valid, img_dir='train/', transform=transform)"
   ]
  },
  {
   "cell_type": "code",
   "execution_count": 11,
   "id": "graduate-opinion",
   "metadata": {
    "execution": {
     "iopub.execute_input": "2021-06-30T00:16:59.760888Z",
     "iopub.status.busy": "2021-06-30T00:16:59.760128Z",
     "iopub.status.idle": "2021-06-30T00:16:59.766628Z",
     "shell.execute_reply": "2021-06-30T00:16:59.765969Z",
     "shell.execute_reply.started": "2021-06-30T00:15:07.829653Z"
    },
    "papermill": {
     "duration": 0.049133,
     "end_time": "2021-06-30T00:16:59.766768",
     "exception": false,
     "start_time": "2021-06-30T00:16:59.717635",
     "status": "completed"
    },
    "tags": []
   },
   "outputs": [
    {
     "data": {
      "text/plain": [
       "<torch._C.Generator at 0x7f5066790910>"
      ]
     },
     "execution_count": 11,
     "metadata": {},
     "output_type": "execute_result"
    }
   ],
   "source": [
    "def seed_worker(worker_id):\n",
    "    worker_seed = torch.initial_seed() % 2**32\n",
    "    np.random.seed(worker_seed)\n",
    "    random.seed(worker_seed)\n",
    "    \n",
    "g = torch.Generator()\n",
    "g.manual_seed(0)"
   ]
  },
  {
   "cell_type": "code",
   "execution_count": 12,
   "id": "potential-prompt",
   "metadata": {
    "_uuid": "c247391c28497ad35c72f5218398ea71f2d0d5ff",
    "execution": {
     "iopub.execute_input": "2021-06-30T00:16:59.847410Z",
     "iopub.status.busy": "2021-06-30T00:16:59.845869Z",
     "iopub.status.idle": "2021-06-30T00:16:59.848023Z",
     "shell.execute_reply": "2021-06-30T00:16:59.848467Z",
     "shell.execute_reply.started": "2021-06-30T00:15:07.842595Z"
    },
    "papermill": {
     "duration": 0.044067,
     "end_time": "2021-06-30T00:16:59.848587",
     "exception": false,
     "start_time": "2021-06-30T00:16:59.804520",
     "status": "completed"
    },
    "tags": []
   },
   "outputs": [],
   "source": [
    "from torch.utils.data import DataLoader # 데이터 로더 생성을 위한 클래스\n",
    "\n",
    "loader_train = DataLoader(dataset=dataset_train, batch_size=32, \n",
    "                          shuffle=True, worker_init_fn=seed_worker,\n",
    "                          generator=g)\n",
    "loader_valid = DataLoader(dataset=dataset_valid, batch_size=32, \n",
    "                          shuffle=False, worker_init_fn=seed_worker,\n",
    "                          generator=g)"
   ]
  },
  {
   "cell_type": "markdown",
   "id": "dirty-muslim",
   "metadata": {
    "papermill": {
     "duration": 0.022862,
     "end_time": "2021-06-30T00:16:59.895529",
     "exception": false,
     "start_time": "2021-06-30T00:16:59.872667",
     "status": "completed"
    },
    "tags": []
   },
   "source": [
    "## 7.3.3 모델 생성"
   ]
  },
  {
   "cell_type": "code",
   "execution_count": 13,
   "id": "adjustable-directory",
   "metadata": {
    "_uuid": "0a2d5600bc2eb915ec0bdf5b52ba11e25096f7d0",
    "execution": {
     "iopub.execute_input": "2021-06-30T00:16:59.949503Z",
     "iopub.status.busy": "2021-06-30T00:16:59.948831Z",
     "iopub.status.idle": "2021-06-30T00:16:59.952186Z",
     "shell.execute_reply": "2021-06-30T00:16:59.952598Z",
     "shell.execute_reply.started": "2021-06-30T00:15:07.851084Z"
    },
    "papermill": {
     "duration": 0.034139,
     "end_time": "2021-06-30T00:16:59.952717",
     "exception": false,
     "start_time": "2021-06-30T00:16:59.918578",
     "status": "completed"
    },
    "tags": []
   },
   "outputs": [],
   "source": [
    "import torch.nn as nn # 신경망 모듈\n",
    "import torch.nn.functional as F # 신경망 모듈에서 자주 사용되는 함수\n",
    "\n",
    "class Model(nn.Module):\n",
    "    # 신경망 계층 정의 \n",
    "    def __init__(self):\n",
    "        super().__init__() # 상속받은 nn.Module의 __init__() 메서드 호출\n",
    "        # 첫 번째 합성곱 계층 \n",
    "        self.conv1 = nn.Conv2d(in_channels=3, out_channels=32, \n",
    "                               kernel_size=3, padding=2) \n",
    "        # 두 번째 합성곱 계층 \n",
    "        self.conv2 = nn.Conv2d(in_channels=32, out_channels=64, \n",
    "                               kernel_size=3, padding=2) \n",
    "        # 최대 풀링 계층 \n",
    "        self.max_pool = nn.MaxPool2d(kernel_size=2) \n",
    "        # 평균 풀링 계층 \n",
    "        self.avg_pool = nn.AvgPool2d(kernel_size=2) \n",
    "        # 전결합 계층 \n",
    "        self.fc = nn.Linear(in_features=64 * 4 * 4, out_features=2)\n",
    "        \n",
    "    # 순전파 출력 정의 \n",
    "    def forward(self, x):\n",
    "        x = self.max_pool(F.relu(self.conv1(x)))\n",
    "        x = self.max_pool(F.relu(self.conv2(x)))\n",
    "        x = self.avg_pool(x)\n",
    "        x = x.view(-1, 64 * 4 * 4) # 평탄화\n",
    "        x = self.fc(x)\n",
    "        return x"
   ]
  },
  {
   "cell_type": "code",
   "execution_count": 14,
   "id": "otherwise-amino",
   "metadata": {
    "execution": {
     "iopub.execute_input": "2021-06-30T00:17:00.002598Z",
     "iopub.status.busy": "2021-06-30T00:17:00.001919Z",
     "iopub.status.idle": "2021-06-30T00:17:00.005704Z",
     "shell.execute_reply": "2021-06-30T00:17:00.005294Z",
     "shell.execute_reply.started": "2021-06-30T00:15:07.863912Z"
    },
    "papermill": {
     "duration": 0.030011,
     "end_time": "2021-06-30T00:17:00.005801",
     "exception": false,
     "start_time": "2021-06-30T00:16:59.975790",
     "status": "completed"
    },
    "tags": []
   },
   "outputs": [],
   "source": [
    "# class Model(nn.Module):\n",
    "#     def __init__(self):\n",
    "#         super().__init__() \n",
    "#         # 첫 번째 합성곱, 최대 풀링 계층\n",
    "#         self.layer1 = nn.Sequential(nn.Conv2d(in_channels=3, \n",
    "#                                               out_channels=32, \n",
    "#                                               kernel_size=3, \n",
    "#                                               padding=2),\n",
    "#                                     nn.ReLU(),\n",
    "#                                     nn.MaxPool2d(kernel_size=2))\n",
    "#         # 두 번째 합성곱, 최대 풀링 계층\n",
    "#         self.layer2 = nn.Sequential(nn.Conv2d(in_channels=32, \n",
    "#                                               out_channels=64, \n",
    "#                                               kernel_size=3, \n",
    "#                                               padding=2),\n",
    "#                                     nn.ReLU(),\n",
    "#                                     nn.MaxPool2d(kernel_size=2))\n",
    "#         # 평균 풀링 계층\n",
    "#         self.avg_pool = nn.AvgPool2d(kernel_size=2) \n",
    "#         # 전결합 계층\n",
    "#         self.fc = nn.Linear(in_features=64 * 4 * 4, out_features=2)\n",
    "        \n",
    "#     # 순전파 출력 정의\n",
    "#     def forward(self, x):\n",
    "#         x = self.layer1(x)\n",
    "#         x = self.layer2(x)\n",
    "#         x = self.avg_pool(x)\n",
    "#         x = x.view(-1, 64 * 4 * 4) # 평탄화\n",
    "#         x = self.fc(x)\n",
    "#         return x"
   ]
  },
  {
   "cell_type": "code",
   "execution_count": 15,
   "id": "behind-hierarchy",
   "metadata": {
    "_cell_guid": "79c7e3d0-c299-4dcb-8224-4455121ee9b0",
    "_uuid": "d629ff2d2480ee46fbb7e2d37f6b5fab8052498a",
    "execution": {
     "iopub.execute_input": "2021-06-30T00:17:00.055291Z",
     "iopub.status.busy": "2021-06-30T00:17:00.054740Z",
     "iopub.status.idle": "2021-06-30T00:17:03.842285Z",
     "shell.execute_reply": "2021-06-30T00:17:03.841446Z",
     "shell.execute_reply.started": "2021-06-30T00:15:07.877067Z"
    },
    "papermill": {
     "duration": 3.813832,
     "end_time": "2021-06-30T00:17:03.842412",
     "exception": false,
     "start_time": "2021-06-30T00:17:00.028580",
     "status": "completed"
    },
    "tags": []
   },
   "outputs": [
    {
     "data": {
      "text/plain": [
       "Model(\n",
       "  (conv1): Conv2d(3, 32, kernel_size=(3, 3), stride=(1, 1), padding=(2, 2))\n",
       "  (conv2): Conv2d(32, 64, kernel_size=(3, 3), stride=(1, 1), padding=(2, 2))\n",
       "  (max_pool): MaxPool2d(kernel_size=2, stride=2, padding=0, dilation=1, ceil_mode=False)\n",
       "  (avg_pool): AvgPool2d(kernel_size=2, stride=2, padding=0)\n",
       "  (fc): Linear(in_features=1024, out_features=2, bias=True)\n",
       ")"
      ]
     },
     "execution_count": 15,
     "metadata": {},
     "output_type": "execute_result"
    }
   ],
   "source": [
    "model = Model().to(device)\n",
    "\n",
    "model"
   ]
  },
  {
   "cell_type": "markdown",
   "id": "union-object",
   "metadata": {
    "papermill": {
     "duration": 0.023159,
     "end_time": "2021-06-30T00:17:03.889675",
     "exception": false,
     "start_time": "2021-06-30T00:17:03.866516",
     "status": "completed"
    },
    "tags": []
   },
   "source": [
    "## 7.3.4 모델 훈련"
   ]
  },
  {
   "cell_type": "markdown",
   "id": "transparent-trauma",
   "metadata": {
    "papermill": {
     "duration": 0.023422,
     "end_time": "2021-06-30T00:17:03.936909",
     "exception": false,
     "start_time": "2021-06-30T00:17:03.913487",
     "status": "completed"
    },
    "tags": []
   },
   "source": [
    "### 손실 함수와 옵티마이저 설정"
   ]
  },
  {
   "cell_type": "code",
   "execution_count": 16,
   "id": "strange-plumbing",
   "metadata": {
    "execution": {
     "iopub.execute_input": "2021-06-30T00:17:03.989359Z",
     "iopub.status.busy": "2021-06-30T00:17:03.987713Z",
     "iopub.status.idle": "2021-06-30T00:17:03.989983Z",
     "shell.execute_reply": "2021-06-30T00:17:03.990394Z",
     "shell.execute_reply.started": "2021-06-30T00:15:11.981227Z"
    },
    "papermill": {
     "duration": 0.030201,
     "end_time": "2021-06-30T00:17:03.990519",
     "exception": false,
     "start_time": "2021-06-30T00:17:03.960318",
     "status": "completed"
    },
    "tags": []
   },
   "outputs": [],
   "source": [
    "# 손실함수\n",
    "criterion = nn.CrossEntropyLoss()"
   ]
  },
  {
   "cell_type": "code",
   "execution_count": 17,
   "id": "sharing-classification",
   "metadata": {
    "_uuid": "fceb2929d8750acb2de745cd9ff3d2d458820df8",
    "execution": {
     "iopub.execute_input": "2021-06-30T00:17:04.041439Z",
     "iopub.status.busy": "2021-06-30T00:17:04.040798Z",
     "iopub.status.idle": "2021-06-30T00:17:04.043595Z",
     "shell.execute_reply": "2021-06-30T00:17:04.043173Z",
     "shell.execute_reply.started": "2021-06-30T00:15:11.988940Z"
    },
    "papermill": {
     "duration": 0.029915,
     "end_time": "2021-06-30T00:17:04.043695",
     "exception": false,
     "start_time": "2021-06-30T00:17:04.013780",
     "status": "completed"
    },
    "tags": []
   },
   "outputs": [],
   "source": [
    "# 옵티마이저\n",
    "optimizer = torch.optim.SGD(model.parameters(), lr=0.01)"
   ]
  },
  {
   "cell_type": "markdown",
   "id": "pleased-cosmetic",
   "metadata": {
    "papermill": {
     "duration": 0.023018,
     "end_time": "2021-06-30T00:17:04.089999",
     "exception": false,
     "start_time": "2021-06-30T00:17:04.066981",
     "status": "completed"
    },
    "tags": []
   },
   "source": [
    "### 모델 훈련"
   ]
  },
  {
   "cell_type": "code",
   "execution_count": 18,
   "id": "departmental-divorce",
   "metadata": {
    "execution": {
     "iopub.execute_input": "2021-06-30T00:17:04.141278Z",
     "iopub.status.busy": "2021-06-30T00:17:04.140558Z",
     "iopub.status.idle": "2021-06-30T00:17:04.144010Z",
     "shell.execute_reply": "2021-06-30T00:17:04.143612Z",
     "shell.execute_reply.started": "2021-06-30T00:15:12.004281Z"
    },
    "papermill": {
     "duration": 0.0305,
     "end_time": "2021-06-30T00:17:04.144112",
     "exception": false,
     "start_time": "2021-06-30T00:17:04.113612",
     "status": "completed"
    },
    "tags": []
   },
   "outputs": [
    {
     "data": {
      "text/plain": [
       "493"
      ]
     },
     "execution_count": 18,
     "metadata": {},
     "output_type": "execute_result"
    }
   ],
   "source": [
    "import math\n",
    "\n",
    "math.ceil(len(train) / 32)"
   ]
  },
  {
   "cell_type": "code",
   "execution_count": 19,
   "id": "successful-buyer",
   "metadata": {
    "execution": {
     "iopub.execute_input": "2021-06-30T00:17:04.195122Z",
     "iopub.status.busy": "2021-06-30T00:17:04.194356Z",
     "iopub.status.idle": "2021-06-30T00:17:04.197995Z",
     "shell.execute_reply": "2021-06-30T00:17:04.197600Z",
     "shell.execute_reply.started": "2021-06-30T00:15:12.016265Z"
    },
    "papermill": {
     "duration": 0.030274,
     "end_time": "2021-06-30T00:17:04.198096",
     "exception": false,
     "start_time": "2021-06-30T00:17:04.167822",
     "status": "completed"
    },
    "tags": []
   },
   "outputs": [
    {
     "data": {
      "text/plain": [
       "493"
      ]
     },
     "execution_count": 19,
     "metadata": {},
     "output_type": "execute_result"
    }
   ],
   "source": [
    "len(loader_train)"
   ]
  },
  {
   "cell_type": "code",
   "execution_count": 20,
   "id": "protective-hebrew",
   "metadata": {
    "_uuid": "2c37417ae6b62ab4551bc8a888916ca1e591d284",
    "execution": {
     "iopub.execute_input": "2021-06-30T00:17:04.252742Z",
     "iopub.status.busy": "2021-06-30T00:17:04.252156Z",
     "iopub.status.idle": "2021-06-30T00:18:20.254303Z",
     "shell.execute_reply": "2021-06-30T00:18:20.254693Z",
     "shell.execute_reply.started": "2021-06-30T00:15:12.025898Z"
    },
    "papermill": {
     "duration": 76.033135,
     "end_time": "2021-06-30T00:18:20.254857",
     "exception": false,
     "start_time": "2021-06-30T00:17:04.221722",
     "status": "completed"
    },
    "tags": []
   },
   "outputs": [
    {
     "name": "stdout",
     "output_type": "stream",
     "text": [
      "에폭 [1/10] - 손실값: 0.5154\n",
      "에폭 [2/10] - 손실값: 0.3285\n",
      "에폭 [3/10] - 손실값: 0.2359\n",
      "에폭 [4/10] - 손실값: 0.1958\n",
      "에폭 [5/10] - 손실값: 0.1723\n",
      "에폭 [6/10] - 손실값: 0.1554\n",
      "에폭 [7/10] - 손실값: 0.1465\n",
      "에폭 [8/10] - 손실값: 0.1348\n",
      "에폭 [9/10] - 손실값: 0.1234\n",
      "에폭 [10/10] - 손실값: 0.1211\n"
     ]
    }
   ],
   "source": [
    "epochs = 10 # 총 에폭\n",
    "\n",
    "# 총 에폭만큼 훈련\n",
    "for epoch in range(epochs):\n",
    "    epoch_loss = 0 # 에폭별 손실값 초기화\n",
    "    # 미니배치 크기만큼 데이터를 추출하는 작업을 '반복 횟수'만큼 반복 \n",
    "    for images, labels in loader_train:\n",
    "        # 이미지, 레이블 데이터 미니배치를 장비에 할당 \n",
    "        images = images.to(device)\n",
    "        labels = labels.to(device)\n",
    "        \n",
    "        # 옵티마이저 내 기울기 초기화\n",
    "        optimizer.zero_grad()\n",
    "        # 이미지 데이터를 신경망 모델의 입력값으로 사용해 출력값 계산\n",
    "        outputs = model(images)\n",
    "        # 손실함수를 활용해 outputs와 labels의 손실값 계산\n",
    "        loss = criterion(outputs, labels)\n",
    "        # 역전파 수행\n",
    "        loss.backward()\n",
    "        # 가중치 갱신\n",
    "        optimizer.step()\n",
    "        \n",
    "        epoch_loss += loss.item() # 현재 배치에서의 손실 추가\n",
    "    # 훈련 데이터 손실값 출력\n",
    "    print(f'에폭 [{epoch+1}/{epochs}] - 손실값: {epoch_loss/len(loader_train):.4f}')    "
   ]
  },
  {
   "cell_type": "markdown",
   "id": "coastal-electric",
   "metadata": {
    "papermill": {
     "duration": 0.026138,
     "end_time": "2021-06-30T00:18:20.308107",
     "exception": false,
     "start_time": "2021-06-30T00:18:20.281969",
     "status": "completed"
    },
    "tags": []
   },
   "source": [
    "## 7.3.5 모델 성능 검증"
   ]
  },
  {
   "cell_type": "code",
   "execution_count": 21,
   "id": "running-calgary",
   "metadata": {
    "execution": {
     "iopub.execute_input": "2021-06-30T00:18:20.368327Z",
     "iopub.status.busy": "2021-06-30T00:18:20.367483Z",
     "iopub.status.idle": "2021-06-30T00:18:20.934233Z",
     "shell.execute_reply": "2021-06-30T00:18:20.934677Z",
     "shell.execute_reply.started": "2021-06-30T00:16:28.706029Z"
    },
    "papermill": {
     "duration": 0.600101,
     "end_time": "2021-06-30T00:18:20.934821",
     "exception": false,
     "start_time": "2021-06-30T00:18:20.334720",
     "status": "completed"
    },
    "tags": []
   },
   "outputs": [
    {
     "name": "stdout",
     "output_type": "stream",
     "text": [
      "검증 데이터 ROC AUC : 0.9918\n"
     ]
    }
   ],
   "source": [
    "from sklearn.metrics import roc_auc_score # ROC AUC 점수 계산 함수\n",
    "\n",
    "# 예측 확률값과 실제값을 담을 리스트 초기화\n",
    "true_list = []\n",
    "preds_list = []\n",
    "\n",
    "model.eval() # 모델을 평가 상태로 설정 \n",
    "\n",
    "with torch.no_grad(): # 기울기 계산 비활성 -\n",
    "    for images, labels in loader_valid:\n",
    "        # 이미지, 레이블 데이터 미니배치를 장비에 할당 \n",
    "        images = images.to(device)\n",
    "        labels = labels.to(device)   \n",
    "        # 이미지 데이터를 신경망 모델의 입력값으로 사용해 출력값 계산\n",
    "        outputs = model(images)\n",
    "        preds = torch.softmax(outputs.cpu(), dim=1)[:, 1] # 예측 확률값  \n",
    "        true = labels.cpu() # 실제값 \n",
    "        # 예측 확률값과 실제값을 리스트에 추가\n",
    "        preds_list.extend(preds)\n",
    "        true_list.extend(true)\n",
    "        \n",
    "    # 검증 데이터 ROC AUC 점수 출력 \n",
    "    print(f'검증 데이터 ROC AUC : {roc_auc_score(true_list, preds_list):.4f}')    "
   ]
  },
  {
   "cell_type": "code",
   "execution_count": 22,
   "id": "medical-century",
   "metadata": {
    "_uuid": "870413a60281e0c4115fbc7cf192508e15a9e269",
    "execution": {
     "iopub.execute_input": "2021-06-30T00:18:20.992933Z",
     "iopub.status.busy": "2021-06-30T00:18:20.992419Z",
     "iopub.status.idle": "2021-06-30T00:18:20.996025Z",
     "shell.execute_reply": "2021-06-30T00:18:20.995637Z",
     "shell.execute_reply.started": "2021-06-30T00:16:29.303040Z"
    },
    "papermill": {
     "duration": 0.034436,
     "end_time": "2021-06-30T00:18:20.996133",
     "exception": false,
     "start_time": "2021-06-30T00:18:20.961697",
     "status": "completed"
    },
    "tags": []
   },
   "outputs": [],
   "source": [
    "dataset_test = ImageDataset(df=submission, img_dir='test/', transform=transform)\n",
    "loader_test = DataLoader(dataset=dataset_test, batch_size=32, \n",
    "                         shuffle=False, worker_init_fn=seed_worker,\n",
    "                         generator=g)"
   ]
  },
  {
   "cell_type": "code",
   "execution_count": 23,
   "id": "established-hometown",
   "metadata": {
    "execution": {
     "iopub.execute_input": "2021-06-30T00:18:21.059248Z",
     "iopub.status.busy": "2021-06-30T00:18:21.058370Z",
     "iopub.status.idle": "2021-06-30T00:18:22.256770Z",
     "shell.execute_reply": "2021-06-30T00:18:22.256254Z",
     "shell.execute_reply.started": "2021-06-30T00:16:29.313146Z"
    },
    "papermill": {
     "duration": 1.232767,
     "end_time": "2021-06-30T00:18:22.256891",
     "exception": false,
     "start_time": "2021-06-30T00:18:21.024124",
     "status": "completed"
    },
    "tags": []
   },
   "outputs": [],
   "source": [
    "model.eval() # 모델을 평가 상태로 설정\n",
    "\n",
    "preds = [] # 타깃 예측 값 저장용 변수 초기화\n",
    "\n",
    "with torch.no_grad(): # 기울기 계산 비활성\n",
    "    for images, _ in loader_test:\n",
    "        # 이미지 데이터 미니배치를 장비에 할당\n",
    "        images = images.to(device)\n",
    "        # 이미지 데이터를 신경망 모델의 입력값으로 사용해 출력값 계산\n",
    "        outputs = model(images)\n",
    "        # 타깃 값이 1일 확률(예측 값)\n",
    "        preds_part = torch.softmax(outputs.cpu(), dim=1)[:, 1].tolist()\n",
    "        # preds에 preds_part 이어붙이기\n",
    "        preds.extend(preds_part)"
   ]
  },
  {
   "cell_type": "markdown",
   "id": "spiritual-edgar",
   "metadata": {
    "papermill": {
     "duration": 0.02661,
     "end_time": "2021-06-30T00:18:22.311315",
     "exception": false,
     "start_time": "2021-06-30T00:18:22.284705",
     "status": "completed"
    },
    "tags": []
   },
   "source": [
    "### 결과 제출"
   ]
  },
  {
   "cell_type": "code",
   "execution_count": 24,
   "id": "mobile-dressing",
   "metadata": {
    "execution": {
     "iopub.execute_input": "2021-06-30T00:18:22.369636Z",
     "iopub.status.busy": "2021-06-30T00:18:22.369070Z",
     "iopub.status.idle": "2021-06-30T00:18:22.522910Z",
     "shell.execute_reply": "2021-06-30T00:18:22.522409Z",
     "shell.execute_reply.started": "2021-06-30T00:16:30.833174Z"
    },
    "papermill": {
     "duration": 0.185045,
     "end_time": "2021-06-30T00:18:22.523038",
     "exception": false,
     "start_time": "2021-06-30T00:18:22.337993",
     "status": "completed"
    },
    "tags": []
   },
   "outputs": [],
   "source": [
    "submission['has_cactus'] = preds\n",
    "submission.to_csv('submission.csv', index=False)"
   ]
  },
  {
   "cell_type": "code",
   "execution_count": 25,
   "id": "federal-wallpaper",
   "metadata": {
    "execution": {
     "iopub.execute_input": "2021-06-30T00:18:22.581496Z",
     "iopub.status.busy": "2021-06-30T00:18:22.580749Z",
     "iopub.status.idle": "2021-06-30T00:18:23.131151Z",
     "shell.execute_reply": "2021-06-30T00:18:23.130442Z",
     "shell.execute_reply.started": "2021-06-30T00:16:31.279277Z"
    },
    "papermill": {
     "duration": 0.581109,
     "end_time": "2021-06-30T00:18:23.131327",
     "exception": false,
     "start_time": "2021-06-30T00:18:22.550218",
     "status": "completed"
    },
    "tags": []
   },
   "outputs": [],
   "source": [
    "import shutil\n",
    "\n",
    "shutil.rmtree('./train')\n",
    "shutil.rmtree('./test')"
   ]
  }
 ],
 "metadata": {
  "kernelspec": {
   "display_name": "Python 3",
   "language": "python",
   "name": "python3"
  },
  "language_info": {
   "codemirror_mode": {
    "name": "ipython",
    "version": 3
   },
   "file_extension": ".py",
   "mimetype": "text/x-python",
   "name": "python",
   "nbconvert_exporter": "python",
   "pygments_lexer": "ipython3",
   "version": "3.7.9"
  },
  "papermill": {
   "default_parameters": {},
   "duration": 95.497047,
   "end_time": "2021-06-30T00:18:24.067546",
   "environment_variables": {},
   "exception": null,
   "input_path": "__notebook__.ipynb",
   "output_path": "__notebook__.ipynb",
   "parameters": {},
   "start_time": "2021-06-30T00:16:48.570499",
   "version": "2.3.2"
  }
 },
 "nbformat": 4,
 "nbformat_minor": 5
}
