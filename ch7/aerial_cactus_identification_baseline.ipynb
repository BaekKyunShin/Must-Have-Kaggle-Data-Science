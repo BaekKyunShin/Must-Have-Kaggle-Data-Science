{
 "cells": [
  {
   "cell_type": "markdown",
   "id": "independent-process",
   "metadata": {
    "papermill": {
     "duration": 0.02458,
     "end_time": "2021-06-26T13:52:18.011643",
     "exception": false,
     "start_time": "2021-06-26T13:52:17.987063",
     "status": "completed"
    },
    "tags": []
   },
   "source": [
    "# 7.3 항공 사진 내 선인장 식별 경진대회 베이스라인 모델\n",
    "- [항공 사진 내 선인장 식별 경진대회 링크](https://www.kaggle.com/c/aerial-cactus-identification)\n",
    "- [베이스라인 모델 코드 참고 링크](https://www.kaggle.com/bonhart/simple-cnn-on-pytorch-for-beginers)"
   ]
  },
  {
   "cell_type": "code",
   "execution_count": 1,
   "id": "superb-bulgarian",
   "metadata": {
    "execution": {
     "iopub.execute_input": "2021-06-26T13:52:18.070963Z",
     "iopub.status.busy": "2021-06-26T13:52:18.070421Z",
     "iopub.status.idle": "2021-06-26T13:52:18.121740Z",
     "shell.execute_reply": "2021-06-26T13:52:18.122428Z",
     "shell.execute_reply.started": "2021-06-26T13:44:07.136173Z"
    },
    "papermill": {
     "duration": 0.08781,
     "end_time": "2021-06-26T13:52:18.122671",
     "exception": false,
     "start_time": "2021-06-26T13:52:18.034861",
     "status": "completed"
    },
    "tags": []
   },
   "outputs": [],
   "source": [
    "import pandas as pd\n",
    "\n",
    "# 데이터 경로\n",
    "data_path = '/kaggle/input/aerial-cactus-identification/'\n",
    "\n",
    "labels = pd.read_csv(data_path + 'train.csv')\n",
    "submission = pd.read_csv(data_path + 'sample_submission.csv')"
   ]
  },
  {
   "cell_type": "code",
   "execution_count": 2,
   "id": "latin-shell",
   "metadata": {
    "execution": {
     "iopub.execute_input": "2021-06-26T13:52:18.173246Z",
     "iopub.status.busy": "2021-06-26T13:52:18.172757Z",
     "iopub.status.idle": "2021-06-26T13:52:21.086676Z",
     "shell.execute_reply": "2021-06-26T13:52:21.085772Z",
     "shell.execute_reply.started": "2021-06-26T13:44:07.194409Z"
    },
    "papermill": {
     "duration": 2.940574,
     "end_time": "2021-06-26T13:52:21.086818",
     "exception": false,
     "start_time": "2021-06-26T13:52:18.146244",
     "status": "completed"
    },
    "tags": []
   },
   "outputs": [],
   "source": [
    "from zipfile import ZipFile\n",
    "\n",
    "# 훈련 이미지 데이터 압축 풀기\n",
    "with ZipFile(data_path + 'train.zip') as zipper:\n",
    "    zipper.extractall()\n",
    "    \n",
    "# 테스트 이미지 데이터 압축 풀기\n",
    "with ZipFile(data_path + 'test.zip') as zipper:\n",
    "    zipper.extractall()"
   ]
  },
  {
   "cell_type": "markdown",
   "id": "accessory-turning",
   "metadata": {
    "papermill": {
     "duration": 0.023036,
     "end_time": "2021-06-26T13:52:21.133633",
     "exception": false,
     "start_time": "2021-06-26T13:52:21.110597",
     "status": "completed"
    },
    "tags": []
   },
   "source": [
    "## 7.3.1 시드 값 고정 및 GPU 장비 설정"
   ]
  },
  {
   "cell_type": "markdown",
   "id": "opened-kazakhstan",
   "metadata": {
    "papermill": {
     "duration": 0.024147,
     "end_time": "2021-06-26T13:52:21.180890",
     "exception": false,
     "start_time": "2021-06-26T13:52:21.156743",
     "status": "completed"
    },
    "tags": []
   },
   "source": [
    "### 시드 값 고정"
   ]
  },
  {
   "cell_type": "code",
   "execution_count": 3,
   "id": "settled-nebraska",
   "metadata": {
    "execution": {
     "iopub.execute_input": "2021-06-26T13:52:21.248726Z",
     "iopub.status.busy": "2021-06-26T13:52:21.248035Z",
     "iopub.status.idle": "2021-06-26T13:52:22.514730Z",
     "shell.execute_reply": "2021-06-26T13:52:22.513833Z",
     "shell.execute_reply.started": "2021-06-26T13:44:09.901004Z"
    },
    "papermill": {
     "duration": 1.295766,
     "end_time": "2021-06-26T13:52:22.514874",
     "exception": false,
     "start_time": "2021-06-26T13:52:21.219108",
     "status": "completed"
    },
    "tags": []
   },
   "outputs": [],
   "source": [
    "import torch # 파이토치 \n",
    "import random\n",
    "import numpy as np\n",
    "import os\n",
    "\n",
    "# 시드 값 고정\n",
    "seed = 10\n",
    "\n",
    "os.environ['PYTHONHASHSEED'] = str(seed)\n",
    "random.seed(seed)\n",
    "np.random.seed(seed)\n",
    "torch.manual_seed(seed)\n",
    "torch.cuda.manual_seed(seed)\n",
    "torch.cuda.manual_seed_all(seed)\n",
    "torch.backends.cudnn.deterministic = True\n",
    "torch.backends.cudnn.benchmark = False\n",
    "torch.backends.cudnn.enabled = False"
   ]
  },
  {
   "cell_type": "markdown",
   "id": "clean-redhead",
   "metadata": {
    "papermill": {
     "duration": 0.022772,
     "end_time": "2021-06-26T13:52:22.561059",
     "exception": false,
     "start_time": "2021-06-26T13:52:22.538287",
     "status": "completed"
    },
    "tags": []
   },
   "source": [
    "### GPU 장비 설정"
   ]
  },
  {
   "cell_type": "code",
   "execution_count": 4,
   "id": "parallel-placement",
   "metadata": {
    "execution": {
     "iopub.execute_input": "2021-06-26T13:52:22.653090Z",
     "iopub.status.busy": "2021-06-26T13:52:22.652384Z",
     "iopub.status.idle": "2021-06-26T13:52:22.655769Z",
     "shell.execute_reply": "2021-06-26T13:52:22.655351Z",
     "shell.execute_reply.started": "2021-06-26T13:44:11.487883Z"
    },
    "papermill": {
     "duration": 0.071559,
     "end_time": "2021-06-26T13:52:22.655879",
     "exception": false,
     "start_time": "2021-06-26T13:52:22.584320",
     "status": "completed"
    },
    "tags": []
   },
   "outputs": [],
   "source": [
    "if torch.cuda.is_available():\n",
    "    device = torch.device('cuda')\n",
    "else:\n",
    "    device = torch.device('cpu')"
   ]
  },
  {
   "cell_type": "code",
   "execution_count": 5,
   "id": "european-demonstration",
   "metadata": {
    "execution": {
     "iopub.execute_input": "2021-06-26T13:52:22.708919Z",
     "iopub.status.busy": "2021-06-26T13:52:22.708172Z",
     "iopub.status.idle": "2021-06-26T13:52:22.711371Z",
     "shell.execute_reply": "2021-06-26T13:52:22.711805Z",
     "shell.execute_reply.started": "2021-06-26T13:44:11.563640Z"
    },
    "papermill": {
     "duration": 0.033059,
     "end_time": "2021-06-26T13:52:22.711925",
     "exception": false,
     "start_time": "2021-06-26T13:52:22.678866",
     "status": "completed"
    },
    "tags": []
   },
   "outputs": [
    {
     "data": {
      "text/plain": [
       "device(type='cuda')"
      ]
     },
     "execution_count": 5,
     "metadata": {},
     "output_type": "execute_result"
    }
   ],
   "source": [
    "device"
   ]
  },
  {
   "cell_type": "markdown",
   "id": "tired-homeless",
   "metadata": {
    "papermill": {
     "duration": 0.023734,
     "end_time": "2021-06-26T13:52:22.760902",
     "exception": false,
     "start_time": "2021-06-26T13:52:22.737168",
     "status": "completed"
    },
    "tags": []
   },
   "source": [
    "## 7.3.2 데이터 준비하기"
   ]
  },
  {
   "cell_type": "markdown",
   "id": "concrete-latino",
   "metadata": {
    "papermill": {
     "duration": 0.023255,
     "end_time": "2021-06-26T13:52:22.807617",
     "exception": false,
     "start_time": "2021-06-26T13:52:22.784362",
     "status": "completed"
    },
    "tags": []
   },
   "source": [
    "### 훈련 데이터, 검증 데이터 분리"
   ]
  },
  {
   "cell_type": "code",
   "execution_count": 6,
   "id": "included-rider",
   "metadata": {
    "_uuid": "c07eab67e573c7de05e11065b5bafc1bbff284fb",
    "execution": {
     "iopub.execute_input": "2021-06-26T13:52:22.858446Z",
     "iopub.status.busy": "2021-06-26T13:52:22.857922Z",
     "iopub.status.idle": "2021-06-26T13:52:23.819427Z",
     "shell.execute_reply": "2021-06-26T13:52:23.818901Z",
     "shell.execute_reply.started": "2021-06-26T13:44:11.580752Z"
    },
    "papermill": {
     "duration": 0.988443,
     "end_time": "2021-06-26T13:52:23.819593",
     "exception": false,
     "start_time": "2021-06-26T13:52:22.831150",
     "status": "completed"
    },
    "tags": []
   },
   "outputs": [],
   "source": [
    "from sklearn.model_selection import train_test_split\n",
    "\n",
    "# 훈련 데이터, 검증 데이터 분리\n",
    "train, valid = train_test_split(labels, \n",
    "                                test_size=0.1,\n",
    "                                stratify=labels['has_cactus'],\n",
    "                                random_state=10)"
   ]
  },
  {
   "cell_type": "code",
   "execution_count": 7,
   "id": "quiet-narrative",
   "metadata": {
    "execution": {
     "iopub.execute_input": "2021-06-26T13:52:23.871699Z",
     "iopub.status.busy": "2021-06-26T13:52:23.870990Z",
     "iopub.status.idle": "2021-06-26T13:52:23.876359Z",
     "shell.execute_reply": "2021-06-26T13:52:23.876897Z",
     "shell.execute_reply.started": "2021-06-26T13:44:12.539740Z"
    },
    "papermill": {
     "duration": 0.033208,
     "end_time": "2021-06-26T13:52:23.877070",
     "exception": false,
     "start_time": "2021-06-26T13:52:23.843862",
     "status": "completed"
    },
    "tags": []
   },
   "outputs": [
    {
     "name": "stdout",
     "output_type": "stream",
     "text": [
      "훈련 데이터 개수: 15750\n",
      "검증 데이터 개수: 1750\n"
     ]
    }
   ],
   "source": [
    "print('훈련 데이터 개수:', len(train))\n",
    "print('검증 데이터 개수:', len(valid))"
   ]
  },
  {
   "cell_type": "markdown",
   "id": "stable-forum",
   "metadata": {
    "papermill": {
     "duration": 0.023848,
     "end_time": "2021-06-26T13:52:23.925246",
     "exception": false,
     "start_time": "2021-06-26T13:52:23.901398",
     "status": "completed"
    },
    "tags": []
   },
   "source": [
    "### 데이터 세트 정의"
   ]
  },
  {
   "cell_type": "code",
   "execution_count": 8,
   "id": "manufactured-constraint",
   "metadata": {
    "_uuid": "1b05af8d59d9d5b092e96f72dfebb19591416de9",
    "execution": {
     "iopub.execute_input": "2021-06-26T13:52:23.980347Z",
     "iopub.status.busy": "2021-06-26T13:52:23.979765Z",
     "iopub.status.idle": "2021-06-26T13:52:24.164710Z",
     "shell.execute_reply": "2021-06-26T13:52:24.165168Z",
     "shell.execute_reply.started": "2021-06-26T13:44:12.549855Z"
    },
    "papermill": {
     "duration": 0.215945,
     "end_time": "2021-06-26T13:52:24.165311",
     "exception": false,
     "start_time": "2021-06-26T13:52:23.949366",
     "status": "completed"
    },
    "tags": []
   },
   "outputs": [],
   "source": [
    "import cv2 # OpenCV 라이브러리\n",
    "from torch.utils.data import Dataset # 데이터 생성을 위한 클래스\n",
    "\n",
    "class ImageDataset(Dataset):\n",
    "    # 초기화 메서드(생성자) \n",
    "    def __init__(self, df, img_dir = './', transform=None):\n",
    "        super().__init__() # 상속받은 Dataset의 __init__() 메서드 호출 \n",
    "        self.df = df\n",
    "        self.img_dir = img_dir\n",
    "        self.transform = transform\n",
    "    \n",
    "    # 데이터 세트 크기 반환 메서드 \n",
    "    def __len__(self):\n",
    "        return len(self.df)\n",
    "    \n",
    "    # 인덱스(idx)에 해당하는 데이터 반환 메서드 \n",
    "    def __getitem__(self, idx):\n",
    "        img_path = self.img_dir + self.df.iloc[idx, 0] # 이미지 파일 경로 \n",
    "        image = cv2.imread(img_path) # 이미지 파일 읽기 \n",
    "        image = cv2.cvtColor(image, cv2.COLOR_BGR2RGB) # 이미지 색상 보정\n",
    "        label = self.df.iloc[idx, 1] # 이미지 레이블(타깃 값)\n",
    "        # 이미지 변환\n",
    "        if self.transform is not None:\n",
    "            image = self.transform(image)\n",
    "        return image, label"
   ]
  },
  {
   "cell_type": "markdown",
   "id": "broadband-enclosure",
   "metadata": {
    "papermill": {
     "duration": 0.026173,
     "end_time": "2021-06-26T13:52:24.216549",
     "exception": false,
     "start_time": "2021-06-26T13:52:24.190376",
     "status": "completed"
    },
    "tags": []
   },
   "source": [
    "### 데이터 세트 및 데이터 로더 생성"
   ]
  },
  {
   "cell_type": "code",
   "execution_count": 9,
   "id": "normal-toilet",
   "metadata": {
    "execution": {
     "iopub.execute_input": "2021-06-26T13:52:24.275816Z",
     "iopub.status.busy": "2021-06-26T13:52:24.275106Z",
     "iopub.status.idle": "2021-06-26T13:52:24.448329Z",
     "shell.execute_reply": "2021-06-26T13:52:24.447887Z",
     "shell.execute_reply.started": "2021-06-26T13:44:12.811015Z"
    },
    "papermill": {
     "duration": 0.204016,
     "end_time": "2021-06-26T13:52:24.448448",
     "exception": false,
     "start_time": "2021-06-26T13:52:24.244432",
     "status": "completed"
    },
    "tags": []
   },
   "outputs": [],
   "source": [
    "from torchvision import transforms # 이미지 변환을 위한 모듈\n",
    "\n",
    "transform = transforms.ToTensor()"
   ]
  },
  {
   "cell_type": "code",
   "execution_count": 10,
   "id": "diagnostic-kentucky",
   "metadata": {
    "execution": {
     "iopub.execute_input": "2021-06-26T13:52:24.503850Z",
     "iopub.status.busy": "2021-06-26T13:52:24.503150Z",
     "iopub.status.idle": "2021-06-26T13:52:24.506008Z",
     "shell.execute_reply": "2021-06-26T13:52:24.505597Z",
     "shell.execute_reply.started": "2021-06-26T13:44:12.966229Z"
    },
    "papermill": {
     "duration": 0.032004,
     "end_time": "2021-06-26T13:52:24.506117",
     "exception": false,
     "start_time": "2021-06-26T13:52:24.474113",
     "status": "completed"
    },
    "tags": []
   },
   "outputs": [],
   "source": [
    "dataset_train = ImageDataset(df=train, img_dir='train/', transform=transform)\n",
    "dataset_valid = ImageDataset(df=valid, img_dir='train/', transform=transform)"
   ]
  },
  {
   "cell_type": "code",
   "execution_count": 11,
   "id": "going-cleaner",
   "metadata": {
    "_uuid": "c247391c28497ad35c72f5218398ea71f2d0d5ff",
    "execution": {
     "iopub.execute_input": "2021-06-26T13:52:24.559909Z",
     "iopub.status.busy": "2021-06-26T13:52:24.559153Z",
     "iopub.status.idle": "2021-06-26T13:52:24.562029Z",
     "shell.execute_reply": "2021-06-26T13:52:24.561614Z",
     "shell.execute_reply.started": "2021-06-26T13:44:12.974036Z"
    },
    "papermill": {
     "duration": 0.030933,
     "end_time": "2021-06-26T13:52:24.562124",
     "exception": false,
     "start_time": "2021-06-26T13:52:24.531191",
     "status": "completed"
    },
    "tags": []
   },
   "outputs": [],
   "source": [
    "from torch.utils.data import DataLoader # 데이터 로더 생성을 위한 클래스\n",
    "\n",
    "loader_train = DataLoader(dataset=dataset_train, batch_size=32, \n",
    "                          shuffle=True)\n",
    "loader_valid = DataLoader(dataset=dataset_valid, batch_size=32, \n",
    "                          shuffle=False)"
   ]
  },
  {
   "cell_type": "markdown",
   "id": "acknowledged-barrier",
   "metadata": {
    "papermill": {
     "duration": 0.024066,
     "end_time": "2021-06-26T13:52:24.610188",
     "exception": false,
     "start_time": "2021-06-26T13:52:24.586122",
     "status": "completed"
    },
    "tags": []
   },
   "source": [
    "## 7.3.3 모델 생성"
   ]
  },
  {
   "cell_type": "code",
   "execution_count": 12,
   "id": "parliamentary-shame",
   "metadata": {
    "_uuid": "0a2d5600bc2eb915ec0bdf5b52ba11e25096f7d0",
    "execution": {
     "iopub.execute_input": "2021-06-26T13:52:24.666322Z",
     "iopub.status.busy": "2021-06-26T13:52:24.665722Z",
     "iopub.status.idle": "2021-06-26T13:52:24.668609Z",
     "shell.execute_reply": "2021-06-26T13:52:24.668076Z",
     "shell.execute_reply.started": "2021-06-26T13:44:12.983452Z"
    },
    "papermill": {
     "duration": 0.034914,
     "end_time": "2021-06-26T13:52:24.668714",
     "exception": false,
     "start_time": "2021-06-26T13:52:24.633800",
     "status": "completed"
    },
    "tags": []
   },
   "outputs": [],
   "source": [
    "import torch.nn as nn # 신경망 모듈\n",
    "import torch.nn.functional as F # 신경망 모듈에서 자주 사용되는 함수\n",
    "\n",
    "class Model(nn.Module):\n",
    "    # 신경망 계층 정의 \n",
    "    def __init__(self):\n",
    "        super().__init__() # 상속받은 nn.Module의 __init__() 메서드 호출\n",
    "        # 첫 번째 합성곱 계층 \n",
    "        self.conv1 = nn.Conv2d(in_channels=3, out_channels=32, \n",
    "                               kernel_size=3, padding=2) \n",
    "        # 두 번째 합성곱 계층 \n",
    "        self.conv2 = nn.Conv2d(in_channels=32, out_channels=64, \n",
    "                               kernel_size=3, padding=2) \n",
    "        # 최대 풀링 계층 \n",
    "        self.max_pool = nn.MaxPool2d(kernel_size=2) \n",
    "        # 평균 풀링 계층 \n",
    "        self.avg_pool = nn.AvgPool2d(kernel_size=2) \n",
    "        # 전결합 계층 \n",
    "        self.fc = nn.Linear(in_features=64 * 4 * 4, out_features=2)\n",
    "        \n",
    "    # 순전파 출력 정의 \n",
    "    def forward(self, x):\n",
    "        x = self.max_pool(F.relu(self.conv1(x)))\n",
    "        x = self.max_pool(F.relu(self.conv2(x)))\n",
    "        x = self.avg_pool(x)\n",
    "        x = x.view(-1, 64 * 4 * 4) # 평탄화\n",
    "        x = self.fc(x)\n",
    "        return x"
   ]
  },
  {
   "cell_type": "code",
   "execution_count": 13,
   "id": "innocent-swing",
   "metadata": {
    "execution": {
     "iopub.execute_input": "2021-06-26T13:52:24.720642Z",
     "iopub.status.busy": "2021-06-26T13:52:24.719926Z",
     "iopub.status.idle": "2021-06-26T13:52:24.722255Z",
     "shell.execute_reply": "2021-06-26T13:52:24.722724Z",
     "shell.execute_reply.started": "2021-06-26T13:44:12.995566Z"
    },
    "papermill": {
     "duration": 0.029801,
     "end_time": "2021-06-26T13:52:24.722840",
     "exception": false,
     "start_time": "2021-06-26T13:52:24.693039",
     "status": "completed"
    },
    "tags": []
   },
   "outputs": [],
   "source": [
    "# class Model(nn.Module):\n",
    "#     def __init__(self):\n",
    "#         super().__init__() \n",
    "#         # 첫 번째 합성곱, 최대 풀링 계층\n",
    "#         self.layer1 = nn.Sequential(nn.Conv2d(in_channels=3, \n",
    "#                                               out_channels=32, \n",
    "#                                               kernel_size=3, \n",
    "#                                               padding=2),\n",
    "#                                     nn.ReLU(),\n",
    "#                                     nn.MaxPool2d(kernel_size=2))\n",
    "#         # 두 번째 합성곱, 최대 풀링 계층\n",
    "#         self.layer2 = nn.Sequential(nn.Conv2d(in_channels=32, \n",
    "#                                               out_channels=64, \n",
    "#                                               kernel_size=3, \n",
    "#                                               padding=2),\n",
    "#                                     nn.ReLU(),\n",
    "#                                     nn.MaxPool2d(kernel_size=2))\n",
    "#         # 평균 풀링 계층\n",
    "#         self.avg_pool = nn.AvgPool2d(kernel_size=2) \n",
    "#         # 전결합 계층\n",
    "#         self.fc = nn.Linear(in_features=64 * 4 * 4, out_features=2)\n",
    "        \n",
    "#     # 순전파 출력 정의\n",
    "#     def forward(self, x):\n",
    "#         x = self.layer1(x)\n",
    "#         x = self.layer2(x)\n",
    "#         x = self.avg_pool(x)\n",
    "#         x = x.view(-1, 64 * 4 * 4) # 평탄화\n",
    "#         x = self.fc(x)\n",
    "#         return x"
   ]
  },
  {
   "cell_type": "code",
   "execution_count": 14,
   "id": "hired-julian",
   "metadata": {
    "_cell_guid": "79c7e3d0-c299-4dcb-8224-4455121ee9b0",
    "_uuid": "d629ff2d2480ee46fbb7e2d37f6b5fab8052498a",
    "execution": {
     "iopub.execute_input": "2021-06-26T13:52:24.773576Z",
     "iopub.status.busy": "2021-06-26T13:52:24.773030Z",
     "iopub.status.idle": "2021-06-26T13:52:30.288911Z",
     "shell.execute_reply": "2021-06-26T13:52:30.289333Z",
     "shell.execute_reply.started": "2021-06-26T13:44:13.007659Z"
    },
    "papermill": {
     "duration": 5.542896,
     "end_time": "2021-06-26T13:52:30.289476",
     "exception": false,
     "start_time": "2021-06-26T13:52:24.746580",
     "status": "completed"
    },
    "tags": []
   },
   "outputs": [
    {
     "data": {
      "text/plain": [
       "Model(\n",
       "  (conv1): Conv2d(3, 32, kernel_size=(3, 3), stride=(1, 1), padding=(2, 2))\n",
       "  (conv2): Conv2d(32, 64, kernel_size=(3, 3), stride=(1, 1), padding=(2, 2))\n",
       "  (max_pool): MaxPool2d(kernel_size=2, stride=2, padding=0, dilation=1, ceil_mode=False)\n",
       "  (avg_pool): AvgPool2d(kernel_size=2, stride=2, padding=0)\n",
       "  (fc): Linear(in_features=1024, out_features=2, bias=True)\n",
       ")"
      ]
     },
     "execution_count": 14,
     "metadata": {},
     "output_type": "execute_result"
    }
   ],
   "source": [
    "model = Model().to(device)\n",
    "\n",
    "model"
   ]
  },
  {
   "cell_type": "markdown",
   "id": "english-identity",
   "metadata": {
    "papermill": {
     "duration": 0.024171,
     "end_time": "2021-06-26T13:52:30.338376",
     "exception": false,
     "start_time": "2021-06-26T13:52:30.314205",
     "status": "completed"
    },
    "tags": []
   },
   "source": [
    "## 7.3.4 모델 훈련"
   ]
  },
  {
   "cell_type": "markdown",
   "id": "incorrect-trash",
   "metadata": {
    "papermill": {
     "duration": 0.023854,
     "end_time": "2021-06-26T13:52:30.386414",
     "exception": false,
     "start_time": "2021-06-26T13:52:30.362560",
     "status": "completed"
    },
    "tags": []
   },
   "source": [
    "### 손실 함수와 옵티마이저 설정"
   ]
  },
  {
   "cell_type": "code",
   "execution_count": 15,
   "id": "silent-saskatchewan",
   "metadata": {
    "execution": {
     "iopub.execute_input": "2021-06-26T13:52:30.441603Z",
     "iopub.status.busy": "2021-06-26T13:52:30.439886Z",
     "iopub.status.idle": "2021-06-26T13:52:30.442346Z",
     "shell.execute_reply": "2021-06-26T13:52:30.442840Z",
     "shell.execute_reply.started": "2021-06-26T13:44:17.820779Z"
    },
    "papermill": {
     "duration": 0.032399,
     "end_time": "2021-06-26T13:52:30.442973",
     "exception": false,
     "start_time": "2021-06-26T13:52:30.410574",
     "status": "completed"
    },
    "tags": []
   },
   "outputs": [],
   "source": [
    "# 손실함수\n",
    "criterion = nn.CrossEntropyLoss()"
   ]
  },
  {
   "cell_type": "code",
   "execution_count": 16,
   "id": "scientific-retrieval",
   "metadata": {
    "_uuid": "fceb2929d8750acb2de745cd9ff3d2d458820df8",
    "execution": {
     "iopub.execute_input": "2021-06-26T13:52:30.495890Z",
     "iopub.status.busy": "2021-06-26T13:52:30.495233Z",
     "iopub.status.idle": "2021-06-26T13:52:30.501192Z",
     "shell.execute_reply": "2021-06-26T13:52:30.501699Z",
     "shell.execute_reply.started": "2021-06-26T13:44:17.829366Z"
    },
    "papermill": {
     "duration": 0.034681,
     "end_time": "2021-06-26T13:52:30.501887",
     "exception": false,
     "start_time": "2021-06-26T13:52:30.467206",
     "status": "completed"
    },
    "tags": []
   },
   "outputs": [],
   "source": [
    "# 옵티마이저\n",
    "optimizer = torch.optim.SGD(model.parameters(), lr=0.01)"
   ]
  },
  {
   "cell_type": "markdown",
   "id": "lesbian-morris",
   "metadata": {
    "papermill": {
     "duration": 0.048012,
     "end_time": "2021-06-26T13:52:30.593314",
     "exception": false,
     "start_time": "2021-06-26T13:52:30.545302",
     "status": "completed"
    },
    "tags": []
   },
   "source": [
    "### 모델 훈련"
   ]
  },
  {
   "cell_type": "code",
   "execution_count": 17,
   "id": "fiscal-russell",
   "metadata": {
    "execution": {
     "iopub.execute_input": "2021-06-26T13:52:30.685780Z",
     "iopub.status.busy": "2021-06-26T13:52:30.684723Z",
     "iopub.status.idle": "2021-06-26T13:52:30.688303Z",
     "shell.execute_reply": "2021-06-26T13:52:30.688930Z",
     "shell.execute_reply.started": "2021-06-26T13:44:17.843047Z"
    },
    "papermill": {
     "duration": 0.05123,
     "end_time": "2021-06-26T13:52:30.689137",
     "exception": false,
     "start_time": "2021-06-26T13:52:30.637907",
     "status": "completed"
    },
    "tags": []
   },
   "outputs": [
    {
     "data": {
      "text/plain": [
       "493"
      ]
     },
     "execution_count": 17,
     "metadata": {},
     "output_type": "execute_result"
    }
   ],
   "source": [
    "import math\n",
    "\n",
    "math.ceil(len(train) / 32)"
   ]
  },
  {
   "cell_type": "code",
   "execution_count": 18,
   "id": "beautiful-dividend",
   "metadata": {
    "execution": {
     "iopub.execute_input": "2021-06-26T13:52:30.782601Z",
     "iopub.status.busy": "2021-06-26T13:52:30.781223Z",
     "iopub.status.idle": "2021-06-26T13:52:30.785167Z",
     "shell.execute_reply": "2021-06-26T13:52:30.785777Z",
     "shell.execute_reply.started": "2021-06-26T13:44:17.855342Z"
    },
    "papermill": {
     "duration": 0.053477,
     "end_time": "2021-06-26T13:52:30.786092",
     "exception": false,
     "start_time": "2021-06-26T13:52:30.732615",
     "status": "completed"
    },
    "tags": []
   },
   "outputs": [
    {
     "data": {
      "text/plain": [
       "493"
      ]
     },
     "execution_count": 18,
     "metadata": {},
     "output_type": "execute_result"
    }
   ],
   "source": [
    "len(loader_train)"
   ]
  },
  {
   "cell_type": "code",
   "execution_count": 19,
   "id": "municipal-spine",
   "metadata": {
    "_uuid": "2c37417ae6b62ab4551bc8a888916ca1e591d284",
    "execution": {
     "iopub.execute_input": "2021-06-26T13:52:30.882711Z",
     "iopub.status.busy": "2021-06-26T13:52:30.882099Z",
     "iopub.status.idle": "2021-06-26T13:53:49.590966Z",
     "shell.execute_reply": "2021-06-26T13:53:49.591659Z",
     "shell.execute_reply.started": "2021-06-26T13:44:17.866336Z"
    },
    "papermill": {
     "duration": 78.762592,
     "end_time": "2021-06-26T13:53:49.591891",
     "exception": false,
     "start_time": "2021-06-26T13:52:30.829299",
     "status": "completed"
    },
    "tags": []
   },
   "outputs": [
    {
     "name": "stdout",
     "output_type": "stream",
     "text": [
      "에폭: [1/10], 손실값: 0.5164\n",
      "에폭: [2/10], 손실값: 0.3245\n",
      "에폭: [3/10], 손실값: 0.2424\n",
      "에폭: [4/10], 손실값: 0.1951\n",
      "에폭: [5/10], 손실값: 0.1710\n",
      "에폭: [6/10], 손실값: 0.1552\n",
      "에폭: [7/10], 손실값: 0.1449\n",
      "에폭: [8/10], 손실값: 0.1338\n",
      "에폭: [9/10], 손실값: 0.1258\n",
      "에폭: [10/10], 손실값: 0.1200\n"
     ]
    }
   ],
   "source": [
    "epochs = 10 # 총 에폭\n",
    "\n",
    "# 총 10에폭만큼 훈련 \n",
    "for epoch in range(epochs):\n",
    "    epoch_loss = 0 # 에폭별 손실값 초기화\n",
    "    # 미니배치 크기만큼 데이터를 추출하는 작업을 '반복 횟수'만큼 반복 \n",
    "    for images, labels in loader_train:\n",
    "        # 이미지, 레이블 데이터 미니배치를 장비에 할당 \n",
    "        images = images.to(device)\n",
    "        labels = labels.to(device)\n",
    "\n",
    "        # 옵티마이저 내 기울기 초기화 -\n",
    "        optimizer.zero_grad()\n",
    "        # 이미지 데이터를 신경망 모델의 입력값으로 사용해 출력값 계산 \n",
    "        outputs = model(images)\n",
    "        # 손실함수를 활용해 outputs와 labels의 손실값 계산 \n",
    "        loss = criterion(outputs, labels)\n",
    "        # 역전파 수행 \n",
    "        loss.backward()\n",
    "        # 가중치 갱신 \n",
    "        optimizer.step()\n",
    "        \n",
    "        epoch_loss += loss.item() # 현재 배치에서의 손실 추가\n",
    "        \n",
    "    print(f'에폭: [{epoch+1}/{epochs}], 손실값: {epoch_loss/len(loader_train):.4f}')"
   ]
  },
  {
   "cell_type": "markdown",
   "id": "emerging-equality",
   "metadata": {
    "papermill": {
     "duration": 0.028315,
     "end_time": "2021-06-26T13:53:49.650154",
     "exception": false,
     "start_time": "2021-06-26T13:53:49.621839",
     "status": "completed"
    },
    "tags": []
   },
   "source": [
    "## 7.3.5 모델 성능 검증"
   ]
  },
  {
   "cell_type": "code",
   "execution_count": 20,
   "id": "light-gateway",
   "metadata": {
    "execution": {
     "iopub.execute_input": "2021-06-26T13:53:49.713524Z",
     "iopub.status.busy": "2021-06-26T13:53:49.712999Z",
     "iopub.status.idle": "2021-06-26T13:53:50.337227Z",
     "shell.execute_reply": "2021-06-26T13:53:50.336422Z",
     "shell.execute_reply.started": "2021-06-26T13:45:33.908359Z"
    },
    "papermill": {
     "duration": 0.658451,
     "end_time": "2021-06-26T13:53:50.337361",
     "exception": false,
     "start_time": "2021-06-26T13:53:49.678910",
     "status": "completed"
    },
    "tags": []
   },
   "outputs": [
    {
     "name": "stdout",
     "output_type": "stream",
     "text": [
      "검증 데이터 ROC AUC : 0.9931\n"
     ]
    }
   ],
   "source": [
    "from sklearn.metrics import roc_auc_score # ROC AUC 점수 계산 함수\n",
    "\n",
    "# 예측 확률값과 실제값을 담을 리스트 초기화\n",
    "true_list = []\n",
    "preds_list = []\n",
    "\n",
    "model.eval() # 모델을 평가 상태로 설정 \n",
    "\n",
    "with torch.no_grad(): # 기울기 계산 비활성화\n",
    "    for images, labels in loader_valid:\n",
    "        # 이미지, 레이블 데이터 미니배치를 장비에 할당 \n",
    "        images = images.to(device)\n",
    "        labels = labels.to(device)\n",
    "        \n",
    "        # 이미지 데이터를 신경망 모델의 입력값으로 사용해 출력값 계산\n",
    "        outputs = model(images)\n",
    "        preds = torch.softmax(outputs.cpu(), dim=1)[:, 1] # 예측 확률값 \n",
    "        true = labels.cpu() # 실제값 \n",
    "        # 예측 확률값과 실제값을 리스트에 추가\n",
    "        preds_list.extend(preds)\n",
    "        true_list.extend(true)\n",
    "        \n",
    "    # 검증 데이터 ROC AUC 점수 계산 \n",
    "    print(f'검증 데이터 ROC AUC : {roc_auc_score(true_list, preds_list):.4f}')"
   ]
  },
  {
   "cell_type": "markdown",
   "id": "limiting-communications",
   "metadata": {
    "papermill": {
     "duration": 0.029071,
     "end_time": "2021-06-26T13:53:50.396049",
     "exception": false,
     "start_time": "2021-06-26T13:53:50.366978",
     "status": "completed"
    },
    "tags": []
   },
   "source": [
    "## 7.3.6 예측 및 결과 제출"
   ]
  },
  {
   "cell_type": "code",
   "execution_count": 21,
   "id": "exciting-worth",
   "metadata": {
    "_uuid": "870413a60281e0c4115fbc7cf192508e15a9e269",
    "execution": {
     "iopub.execute_input": "2021-06-26T13:53:50.459655Z",
     "iopub.status.busy": "2021-06-26T13:53:50.458231Z",
     "iopub.status.idle": "2021-06-26T13:53:50.460622Z",
     "shell.execute_reply": "2021-06-26T13:53:50.461044Z",
     "shell.execute_reply.started": "2021-06-26T13:45:34.529184Z"
    },
    "papermill": {
     "duration": 0.035779,
     "end_time": "2021-06-26T13:53:50.461170",
     "exception": false,
     "start_time": "2021-06-26T13:53:50.425391",
     "status": "completed"
    },
    "tags": []
   },
   "outputs": [],
   "source": [
    "dataset_test = ImageDataset(df=submission, img_dir='test/', transform=transform)\n",
    "loader_test = DataLoader(dataset=dataset_test, batch_size=32, \n",
    "                         shuffle=False)"
   ]
  },
  {
   "cell_type": "markdown",
   "id": "ordinary-negotiation",
   "metadata": {
    "papermill": {
     "duration": 0.028794,
     "end_time": "2021-06-26T13:53:50.519062",
     "exception": false,
     "start_time": "2021-06-26T13:53:50.490268",
     "status": "completed"
    },
    "tags": []
   },
   "source": [
    "### 예측"
   ]
  },
  {
   "cell_type": "code",
   "execution_count": 22,
   "id": "incident-jackson",
   "metadata": {
    "execution": {
     "iopub.execute_input": "2021-06-26T13:53:50.581710Z",
     "iopub.status.busy": "2021-06-26T13:53:50.580842Z",
     "iopub.status.idle": "2021-06-26T13:53:51.849200Z",
     "shell.execute_reply": "2021-06-26T13:53:51.848738Z",
     "shell.execute_reply.started": "2021-06-26T13:45:34.535832Z"
    },
    "papermill": {
     "duration": 1.30248,
     "end_time": "2021-06-26T13:53:51.849331",
     "exception": false,
     "start_time": "2021-06-26T13:53:50.546851",
     "status": "completed"
    },
    "tags": []
   },
   "outputs": [],
   "source": [
    "model.eval() # 모델을 평가 상태로 설정\n",
    "\n",
    "preds = [] # 타깃 예측 값 저장용 변수 초기화 \n",
    "\n",
    "with torch.no_grad(): # 기울기 계산 비활성화\n",
    "    for images, _ in loader_test:\n",
    "        # 이미지 데이터 미니배치를 장비에 할당\n",
    "        images = images.to(device)\n",
    "        \n",
    "        # 이미지 데이터를 신경망 모델의 입력값으로 사용해 출력값 계산\n",
    "        outputs = model(images)\n",
    "        # 타깃 값이 1일 확률(예측 값) \n",
    "        preds_part = torch.softmax(outputs.cpu(), dim=1)[:, 1].tolist()\n",
    "        # preds에 preds_part 이어붙이기 \n",
    "        preds.extend(preds_part)"
   ]
  },
  {
   "cell_type": "markdown",
   "id": "ranking-enforcement",
   "metadata": {
    "papermill": {
     "duration": 0.027108,
     "end_time": "2021-06-26T13:53:51.904079",
     "exception": false,
     "start_time": "2021-06-26T13:53:51.876971",
     "status": "completed"
    },
    "tags": []
   },
   "source": [
    "### 결과 제출"
   ]
  },
  {
   "cell_type": "code",
   "execution_count": 23,
   "id": "metallic-circuit",
   "metadata": {
    "execution": {
     "iopub.execute_input": "2021-06-26T13:53:51.963471Z",
     "iopub.status.busy": "2021-06-26T13:53:51.962976Z",
     "iopub.status.idle": "2021-06-26T13:53:52.108088Z",
     "shell.execute_reply": "2021-06-26T13:53:52.107571Z",
     "shell.execute_reply.started": "2021-06-26T13:45:35.731839Z"
    },
    "papermill": {
     "duration": 0.177063,
     "end_time": "2021-06-26T13:53:52.108214",
     "exception": false,
     "start_time": "2021-06-26T13:53:51.931151",
     "status": "completed"
    },
    "tags": []
   },
   "outputs": [],
   "source": [
    "submission['has_cactus'] = preds\n",
    "submission.to_csv('submission.csv', index=False)"
   ]
  },
  {
   "cell_type": "code",
   "execution_count": 24,
   "id": "blond-template",
   "metadata": {
    "execution": {
     "iopub.execute_input": "2021-06-26T13:53:52.173263Z",
     "iopub.status.busy": "2021-06-26T13:53:52.172705Z",
     "iopub.status.idle": "2021-06-26T13:53:52.180909Z",
     "shell.execute_reply": "2021-06-26T13:53:52.180430Z",
     "shell.execute_reply.started": "2021-06-26T13:45:36.047192Z"
    },
    "papermill": {
     "duration": 0.044575,
     "end_time": "2021-06-26T13:53:52.181042",
     "exception": false,
     "start_time": "2021-06-26T13:53:52.136467",
     "status": "completed"
    },
    "tags": []
   },
   "outputs": [
    {
     "data": {
      "text/html": [
       "<div>\n",
       "<style scoped>\n",
       "    .dataframe tbody tr th:only-of-type {\n",
       "        vertical-align: middle;\n",
       "    }\n",
       "\n",
       "    .dataframe tbody tr th {\n",
       "        vertical-align: top;\n",
       "    }\n",
       "\n",
       "    .dataframe thead th {\n",
       "        text-align: right;\n",
       "    }\n",
       "</style>\n",
       "<table border=\"1\" class=\"dataframe\">\n",
       "  <thead>\n",
       "    <tr style=\"text-align: right;\">\n",
       "      <th></th>\n",
       "      <th>id</th>\n",
       "      <th>has_cactus</th>\n",
       "    </tr>\n",
       "  </thead>\n",
       "  <tbody>\n",
       "    <tr>\n",
       "      <th>0</th>\n",
       "      <td>000940378805c44108d287872b2f04ce.jpg</td>\n",
       "      <td>0.973238</td>\n",
       "    </tr>\n",
       "    <tr>\n",
       "      <th>1</th>\n",
       "      <td>0017242f54ececa4512b4d7937d1e21e.jpg</td>\n",
       "      <td>0.999869</td>\n",
       "    </tr>\n",
       "    <tr>\n",
       "      <th>2</th>\n",
       "      <td>001ee6d8564003107853118ab87df407.jpg</td>\n",
       "      <td>0.055010</td>\n",
       "    </tr>\n",
       "    <tr>\n",
       "      <th>3</th>\n",
       "      <td>002e175c3c1e060769475f52182583d0.jpg</td>\n",
       "      <td>0.070971</td>\n",
       "    </tr>\n",
       "    <tr>\n",
       "      <th>4</th>\n",
       "      <td>0036e44a7e8f7218e9bc7bf8137e4943.jpg</td>\n",
       "      <td>0.817651</td>\n",
       "    </tr>\n",
       "    <tr>\n",
       "      <th>...</th>\n",
       "      <td>...</td>\n",
       "      <td>...</td>\n",
       "    </tr>\n",
       "    <tr>\n",
       "      <th>3995</th>\n",
       "      <td>ffaafd0c9f2f0e73172848463bc2e523.jpg</td>\n",
       "      <td>0.994829</td>\n",
       "    </tr>\n",
       "    <tr>\n",
       "      <th>3996</th>\n",
       "      <td>ffae37344310a1549162493237d25d3f.jpg</td>\n",
       "      <td>0.999979</td>\n",
       "    </tr>\n",
       "    <tr>\n",
       "      <th>3997</th>\n",
       "      <td>ffbd469c56873d064326204aac546e0d.jpg</td>\n",
       "      <td>0.999305</td>\n",
       "    </tr>\n",
       "    <tr>\n",
       "      <th>3998</th>\n",
       "      <td>ffcb76b7d47f29ece11c751e5f763f52.jpg</td>\n",
       "      <td>0.989998</td>\n",
       "    </tr>\n",
       "    <tr>\n",
       "      <th>3999</th>\n",
       "      <td>fffed17d1a8e0433a934db518d7f532c.jpg</td>\n",
       "      <td>0.905993</td>\n",
       "    </tr>\n",
       "  </tbody>\n",
       "</table>\n",
       "<p>4000 rows × 2 columns</p>\n",
       "</div>"
      ],
      "text/plain": [
       "                                        id  has_cactus\n",
       "0     000940378805c44108d287872b2f04ce.jpg    0.973238\n",
       "1     0017242f54ececa4512b4d7937d1e21e.jpg    0.999869\n",
       "2     001ee6d8564003107853118ab87df407.jpg    0.055010\n",
       "3     002e175c3c1e060769475f52182583d0.jpg    0.070971\n",
       "4     0036e44a7e8f7218e9bc7bf8137e4943.jpg    0.817651\n",
       "...                                    ...         ...\n",
       "3995  ffaafd0c9f2f0e73172848463bc2e523.jpg    0.994829\n",
       "3996  ffae37344310a1549162493237d25d3f.jpg    0.999979\n",
       "3997  ffbd469c56873d064326204aac546e0d.jpg    0.999305\n",
       "3998  ffcb76b7d47f29ece11c751e5f763f52.jpg    0.989998\n",
       "3999  fffed17d1a8e0433a934db518d7f532c.jpg    0.905993\n",
       "\n",
       "[4000 rows x 2 columns]"
      ]
     },
     "execution_count": 24,
     "metadata": {},
     "output_type": "execute_result"
    }
   ],
   "source": [
    "submission"
   ]
  },
  {
   "cell_type": "code",
   "execution_count": 25,
   "id": "physical-commons",
   "metadata": {
    "execution": {
     "iopub.execute_input": "2021-06-26T13:53:52.243329Z",
     "iopub.status.busy": "2021-06-26T13:53:52.242614Z",
     "iopub.status.idle": "2021-06-26T13:53:52.786813Z",
     "shell.execute_reply": "2021-06-26T13:53:52.786233Z",
     "shell.execute_reply.started": "2021-06-26T13:45:36.065299Z"
    },
    "papermill": {
     "duration": 0.576188,
     "end_time": "2021-06-26T13:53:52.786952",
     "exception": false,
     "start_time": "2021-06-26T13:53:52.210764",
     "status": "completed"
    },
    "tags": []
   },
   "outputs": [],
   "source": [
    "import shutil\n",
    "\n",
    "shutil.rmtree('./train')\n",
    "shutil.rmtree('./test')"
   ]
  }
 ],
 "metadata": {
  "kernelspec": {
   "display_name": "Python 3",
   "language": "python",
   "name": "python3"
  },
  "language_info": {
   "codemirror_mode": {
    "name": "ipython",
    "version": 3
   },
   "file_extension": ".py",
   "mimetype": "text/x-python",
   "name": "python",
   "nbconvert_exporter": "python",
   "pygments_lexer": "ipython3",
   "version": "3.7.10"
  },
  "papermill": {
   "default_parameters": {},
   "duration": 103.793919,
   "end_time": "2021-06-26T13:53:54.680800",
   "environment_variables": {},
   "exception": null,
   "input_path": "__notebook__.ipynb",
   "output_path": "__notebook__.ipynb",
   "parameters": {},
   "start_time": "2021-06-26T13:52:10.886881",
   "version": "2.3.3"
  }
 },
 "nbformat": 4,
 "nbformat_minor": 5
}
