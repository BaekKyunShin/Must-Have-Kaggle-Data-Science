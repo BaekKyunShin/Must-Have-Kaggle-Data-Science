{
 "cells": [
  {
   "cell_type": "code",
   "execution_count": 1,
   "id": "diagnostic-armenia",
   "metadata": {
    "_uuid": "001d0b8a8b818c57a55fa4e20b5cae060a749cdc",
    "execution": {
     "iopub.execute_input": "2021-05-20T11:22:11.543203Z",
     "iopub.status.busy": "2021-05-20T11:22:11.542688Z",
     "iopub.status.idle": "2021-05-20T11:22:11.582792Z",
     "shell.execute_reply": "2021-05-20T11:22:11.582247Z",
     "shell.execute_reply.started": "2021-05-20T11:20:01.350106Z"
    },
    "papermill": {
     "duration": 0.06713,
     "end_time": "2021-05-20T11:22:11.582939",
     "exception": false,
     "start_time": "2021-05-20T11:22:11.515809",
     "status": "completed"
    },
    "tags": []
   },
   "outputs": [],
   "source": [
    "import pandas as pd\n",
    "\n",
    "# 데이터 경로\n",
    "data_path = '/kaggle/input/aerial-cactus-identification/'\n",
    "\n",
    "labels = pd.read_csv(data_path + 'train.csv')\n",
    "submission = pd.read_csv(data_path + 'sample_submission.csv')"
   ]
  },
  {
   "cell_type": "code",
   "execution_count": 2,
   "id": "continued-bottom",
   "metadata": {
    "execution": {
     "iopub.execute_input": "2021-05-20T11:22:11.622138Z",
     "iopub.status.busy": "2021-05-20T11:22:11.621514Z",
     "iopub.status.idle": "2021-05-20T11:22:14.301470Z",
     "shell.execute_reply": "2021-05-20T11:22:14.300952Z",
     "shell.execute_reply.started": "2021-05-20T11:20:01.432171Z"
    },
    "papermill": {
     "duration": 2.700691,
     "end_time": "2021-05-20T11:22:14.301615",
     "exception": false,
     "start_time": "2021-05-20T11:22:11.600924",
     "status": "completed"
    },
    "tags": []
   },
   "outputs": [],
   "source": [
    "from zipfile import ZipFile\n",
    "\n",
    "# 훈련 이미지 데이터 압축 풀기\n",
    "with ZipFile(data_path + 'train.zip') as zipper:\n",
    "    zipper.extractall()\n",
    "    \n",
    "# 테스트 이미지 데이터 압축 풀기\n",
    "with ZipFile(data_path + 'test.zip') as zipper:\n",
    "    zipper.extractall()"
   ]
  },
  {
   "cell_type": "code",
   "execution_count": 3,
   "id": "mighty-winter",
   "metadata": {
    "execution": {
     "iopub.execute_input": "2021-05-20T11:22:14.342064Z",
     "iopub.status.busy": "2021-05-20T11:22:14.341360Z",
     "iopub.status.idle": "2021-05-20T11:22:15.753717Z",
     "shell.execute_reply": "2021-05-20T11:22:15.752353Z",
     "shell.execute_reply.started": "2021-05-20T11:20:05.546433Z"
    },
    "papermill": {
     "duration": 1.434334,
     "end_time": "2021-05-20T11:22:15.753857",
     "exception": false,
     "start_time": "2021-05-20T11:22:14.319523",
     "status": "completed"
    },
    "tags": []
   },
   "outputs": [],
   "source": [
    "import torch # 파이토치 \n",
    "import random\n",
    "import numpy as np\n",
    "\n",
    "# 시드 값 고정\n",
    "def set_seed(seed):\n",
    "#     torch.use_deterministic_algorithms(True)\n",
    "    torch.backends.cudnn.deterministic = True\n",
    "    torch.backends.cudnn.benchmark = False\n",
    "    torch.manual_seed(seed)\n",
    "    torch.cuda.manual_seed_all(seed)\n",
    "    np.random.seed(seed)\n",
    "    random.seed(seed)\n",
    "\n",
    "set_seed(10)"
   ]
  },
  {
   "cell_type": "code",
   "execution_count": 4,
   "id": "received-corruption",
   "metadata": {
    "execution": {
     "iopub.execute_input": "2021-05-20T11:22:15.859258Z",
     "iopub.status.busy": "2021-05-20T11:22:15.858584Z",
     "iopub.status.idle": "2021-05-20T11:22:15.862104Z",
     "shell.execute_reply": "2021-05-20T11:22:15.861208Z",
     "shell.execute_reply.started": "2021-05-20T11:20:07.624605Z"
    },
    "papermill": {
     "duration": 0.090389,
     "end_time": "2021-05-20T11:22:15.862221",
     "exception": false,
     "start_time": "2021-05-20T11:22:15.771832",
     "status": "completed"
    },
    "tags": []
   },
   "outputs": [],
   "source": [
    "if torch.cuda.is_available():\n",
    "    device = torch.device('cuda')\n",
    "else:\n",
    "    device = torch.device('cpu')"
   ]
  },
  {
   "cell_type": "code",
   "execution_count": 5,
   "id": "coupled-respondent",
   "metadata": {
    "execution": {
     "iopub.execute_input": "2021-05-20T11:22:15.902878Z",
     "iopub.status.busy": "2021-05-20T11:22:15.902065Z",
     "iopub.status.idle": "2021-05-20T11:22:15.905490Z",
     "shell.execute_reply": "2021-05-20T11:22:15.905983Z",
     "shell.execute_reply.started": "2021-05-20T11:20:07.724862Z"
    },
    "papermill": {
     "duration": 0.026523,
     "end_time": "2021-05-20T11:22:15.906102",
     "exception": false,
     "start_time": "2021-05-20T11:22:15.879579",
     "status": "completed"
    },
    "tags": []
   },
   "outputs": [
    {
     "data": {
      "text/plain": [
       "device(type='cuda')"
      ]
     },
     "execution_count": 5,
     "metadata": {},
     "output_type": "execute_result"
    }
   ],
   "source": [
    "device"
   ]
  },
  {
   "cell_type": "code",
   "execution_count": 6,
   "id": "civic-philosophy",
   "metadata": {
    "_uuid": "c07eab67e573c7de05e11065b5bafc1bbff284fb",
    "execution": {
     "iopub.execute_input": "2021-05-20T11:22:15.947090Z",
     "iopub.status.busy": "2021-05-20T11:22:15.946434Z",
     "iopub.status.idle": "2021-05-20T11:22:16.844129Z",
     "shell.execute_reply": "2021-05-20T11:22:16.843679Z",
     "shell.execute_reply.started": "2021-05-20T11:20:07.751473Z"
    },
    "papermill": {
     "duration": 0.91912,
     "end_time": "2021-05-20T11:22:16.844269",
     "exception": false,
     "start_time": "2021-05-20T11:22:15.925149",
     "status": "completed"
    },
    "tags": []
   },
   "outputs": [],
   "source": [
    "from sklearn.model_selection import train_test_split\n",
    "\n",
    "# 훈련 데이터, 검증 데이터 분리\n",
    "train, valid = train_test_split(labels, \n",
    "                                test_size=0.1,\n",
    "                                stratify=labels['has_cactus'],\n",
    "                                random_state=10)"
   ]
  },
  {
   "cell_type": "code",
   "execution_count": 7,
   "id": "inside-dependence",
   "metadata": {
    "execution": {
     "iopub.execute_input": "2021-05-20T11:22:16.892865Z",
     "iopub.status.busy": "2021-05-20T11:22:16.892083Z",
     "iopub.status.idle": "2021-05-20T11:22:16.898009Z",
     "shell.execute_reply": "2021-05-20T11:22:16.897340Z",
     "shell.execute_reply.started": "2021-05-20T11:20:08.779387Z"
    },
    "papermill": {
     "duration": 0.03585,
     "end_time": "2021-05-20T11:22:16.898165",
     "exception": false,
     "start_time": "2021-05-20T11:22:16.862315",
     "status": "completed"
    },
    "tags": []
   },
   "outputs": [
    {
     "name": "stdout",
     "output_type": "stream",
     "text": [
      "훈련 데이터 개수: 15750\n",
      "검증 데이터 개수: 1750\n"
     ]
    }
   ],
   "source": [
    "print('훈련 데이터 개수:', len(train))\n",
    "print('검증 데이터 개수:', len(valid))"
   ]
  },
  {
   "cell_type": "code",
   "execution_count": 8,
   "id": "bridal-alloy",
   "metadata": {
    "_uuid": "1b05af8d59d9d5b092e96f72dfebb19591416de9",
    "execution": {
     "iopub.execute_input": "2021-05-20T11:22:17.002255Z",
     "iopub.status.busy": "2021-05-20T11:22:17.001665Z",
     "iopub.status.idle": "2021-05-20T11:22:17.240655Z",
     "shell.execute_reply": "2021-05-20T11:22:17.240139Z",
     "shell.execute_reply.started": "2021-05-20T11:20:08.789448Z"
    },
    "papermill": {
     "duration": 0.265352,
     "end_time": "2021-05-20T11:22:17.240782",
     "exception": false,
     "start_time": "2021-05-20T11:22:16.975430",
     "status": "completed"
    },
    "tags": []
   },
   "outputs": [],
   "source": [
    "import cv2 # OpenCV 라이브러리\n",
    "from torch.utils.data import Dataset # 데이터 생성을 위한 클래스\n",
    "\n",
    "class ImageDataset(Dataset):\n",
    "    # 초기화 메서드(생성자) ---①\n",
    "    def __init__(self, df, img_dir = './', transform=None):\n",
    "        super().__init__() # 상속받은 Dataset의 __init__() 메서드 호출 ---②\n",
    "        self.df = df\n",
    "        self.img_dir = img_dir\n",
    "        self.transform = transform\n",
    "    \n",
    "    # 데이터 세트 크기 반환 메서드 ---③\n",
    "    def __len__(self):\n",
    "        return len(self.df)\n",
    "    \n",
    "    # 인덱스(idx)에 해당하는 데이터 반환 메서드 ---④\n",
    "    def __getitem__(self, idx):\n",
    "        img_path = self.img_dir + self.df.iloc[idx, 0] # 이미지 파일 경로 \n",
    "        image = cv2.imread(img_path) # 이미지 파일 읽기 \n",
    "        image = cv2.cvtColor(image, cv2.COLOR_BGR2RGB) # 이미지 색상 보정\n",
    "        label = self.df.iloc[idx, 1] # 이미지 레이블(타깃 값)\n",
    "        # 이미지 변환\n",
    "        if self.transform is not None:\n",
    "            image = self.transform(image)\n",
    "        return image, label"
   ]
  },
  {
   "cell_type": "code",
   "execution_count": 9,
   "id": "cardiac-orleans",
   "metadata": {
    "execution": {
     "iopub.execute_input": "2021-05-20T11:22:17.282129Z",
     "iopub.status.busy": "2021-05-20T11:22:17.281461Z",
     "iopub.status.idle": "2021-05-20T11:22:17.412982Z",
     "shell.execute_reply": "2021-05-20T11:22:17.412484Z",
     "shell.execute_reply.started": "2021-05-20T11:20:09.251384Z"
    },
    "papermill": {
     "duration": 0.153098,
     "end_time": "2021-05-20T11:22:17.413101",
     "exception": false,
     "start_time": "2021-05-20T11:22:17.260003",
     "status": "completed"
    },
    "tags": []
   },
   "outputs": [],
   "source": [
    "from torchvision import transforms # 이미지 변환을 위한 모듈\n",
    "\n",
    "transform = transforms.ToTensor()"
   ]
  },
  {
   "cell_type": "code",
   "execution_count": 10,
   "id": "biological-analysis",
   "metadata": {
    "execution": {
     "iopub.execute_input": "2021-05-20T11:22:17.453274Z",
     "iopub.status.busy": "2021-05-20T11:22:17.452619Z",
     "iopub.status.idle": "2021-05-20T11:22:17.455492Z",
     "shell.execute_reply": "2021-05-20T11:22:17.455100Z",
     "shell.execute_reply.started": "2021-05-20T11:20:09.428526Z"
    },
    "papermill": {
     "duration": 0.024492,
     "end_time": "2021-05-20T11:22:17.455614",
     "exception": false,
     "start_time": "2021-05-20T11:22:17.431122",
     "status": "completed"
    },
    "tags": []
   },
   "outputs": [],
   "source": [
    "dataset_train = ImageDataset(df=train, img_dir='train/', transform=transform)\n",
    "dataset_valid = ImageDataset(df=valid, img_dir='train/', transform=transform)"
   ]
  },
  {
   "cell_type": "code",
   "execution_count": 11,
   "id": "copyrighted-beijing",
   "metadata": {
    "_uuid": "c247391c28497ad35c72f5218398ea71f2d0d5ff",
    "execution": {
     "iopub.execute_input": "2021-05-20T11:22:17.495328Z",
     "iopub.status.busy": "2021-05-20T11:22:17.494683Z",
     "iopub.status.idle": "2021-05-20T11:22:17.496992Z",
     "shell.execute_reply": "2021-05-20T11:22:17.497475Z",
     "shell.execute_reply.started": "2021-05-20T11:20:09.437868Z"
    },
    "papermill": {
     "duration": 0.0244,
     "end_time": "2021-05-20T11:22:17.497601",
     "exception": false,
     "start_time": "2021-05-20T11:22:17.473201",
     "status": "completed"
    },
    "tags": []
   },
   "outputs": [],
   "source": [
    "from torch.utils.data import DataLoader # 데이터 로더 생성을 위한 클래스\n",
    "\n",
    "loader_train = DataLoader(dataset=dataset_train, batch_size=64, \n",
    "                          shuffle=True)\n",
    "loader_valid = DataLoader(dataset=dataset_valid, batch_size=64, \n",
    "                          shuffle=False)"
   ]
  },
  {
   "cell_type": "code",
   "execution_count": 12,
   "id": "understanding-skirt",
   "metadata": {
    "_uuid": "0a2d5600bc2eb915ec0bdf5b52ba11e25096f7d0",
    "execution": {
     "iopub.execute_input": "2021-05-20T11:22:17.540825Z",
     "iopub.status.busy": "2021-05-20T11:22:17.540201Z",
     "iopub.status.idle": "2021-05-20T11:22:17.543015Z",
     "shell.execute_reply": "2021-05-20T11:22:17.542618Z",
     "shell.execute_reply.started": "2021-05-20T11:20:09.450796Z"
    },
    "papermill": {
     "duration": 0.027809,
     "end_time": "2021-05-20T11:22:17.543116",
     "exception": false,
     "start_time": "2021-05-20T11:22:17.515307",
     "status": "completed"
    },
    "tags": []
   },
   "outputs": [],
   "source": [
    "import torch.nn as nn # 신경망 모듈\n",
    "import torch.nn.functional as F # 신경망 모듈에서 자주 사용되는 함수\n",
    "\n",
    "class Model(nn.Module):\n",
    "    # 신경망 계층 정의 ---①\n",
    "    def __init__(self):\n",
    "        super().__init__() # 상속받은 nn.Module의 __init__() 메서드 호출\n",
    "        # 첫 번째 합성곱 계층 ---②\n",
    "        self.conv1 = nn.Conv2d(in_channels=3, out_channels=32, \n",
    "                               kernel_size=3, padding=2) \n",
    "        # 두 번째 합성곱 계층 ---③\n",
    "        self.conv2 = nn.Conv2d(in_channels=32, out_channels=64, \n",
    "                               kernel_size=3, padding=2) \n",
    "        # 최대 풀링 계층 ---④\n",
    "        self.max_pool = nn.MaxPool2d(kernel_size=2) \n",
    "        # 평균 풀링 계층 ---⑤\n",
    "        self.avg_pool = nn.AvgPool2d(kernel_size=2) \n",
    "        # 전결합 계층 ---⑥\n",
    "        self.fc = nn.Linear(in_features=64 * 4 * 4, out_features=2)\n",
    "        \n",
    "    # 순전파 출력 정의 ---⑦\n",
    "    def forward(self, x):\n",
    "        x = self.max_pool(F.relu(self.conv1(x)))\n",
    "        x = self.max_pool(F.relu(self.conv2(x)))\n",
    "        x = self.avg_pool(x)\n",
    "        x = x.view(-1, 64 * 4 * 4) # 평탄화\n",
    "        x = self.fc(x)\n",
    "        return x"
   ]
  },
  {
   "cell_type": "code",
   "execution_count": 13,
   "id": "textile-tulsa",
   "metadata": {
    "execution": {
     "iopub.execute_input": "2021-05-20T11:22:17.582770Z",
     "iopub.status.busy": "2021-05-20T11:22:17.582094Z",
     "iopub.status.idle": "2021-05-20T11:22:17.584959Z",
     "shell.execute_reply": "2021-05-20T11:22:17.584375Z",
     "shell.execute_reply.started": "2021-05-20T11:20:09.467132Z"
    },
    "papermill": {
     "duration": 0.024275,
     "end_time": "2021-05-20T11:22:17.585078",
     "exception": false,
     "start_time": "2021-05-20T11:22:17.560803",
     "status": "completed"
    },
    "tags": []
   },
   "outputs": [],
   "source": [
    "# class Model(nn.Module):\n",
    "#     def __init__(self):\n",
    "#         super().__init__() \n",
    "#         # 첫 번째 합성곱, 최대 풀링 계층\n",
    "#         self.layer1 = nn.Sequential(nn.Conv2d(in_channels=3, \n",
    "#                                               out_channels=32, \n",
    "#                                               kernel_size=3, \n",
    "#                                               padding=2),\n",
    "#                                     nn.ReLU(),\n",
    "#                                     nn.MaxPool2d(kernel_size=2))\n",
    "#         # 두 번째 합성곱, 최대 풀링 계층\n",
    "#         self.layer2 = nn.Sequential(nn.Conv2d(in_channels=32, \n",
    "#                                               out_channels=64, \n",
    "#                                               kernel_size=3, \n",
    "#                                               padding=2),\n",
    "#                                     nn.ReLU(),\n",
    "#                                     nn.MaxPool2d(kernel_size=2))\n",
    "#         # 평균 풀링 계층\n",
    "#         self.avg_pool = nn.AvgPool2d(kernel_size=2) \n",
    "#         # 전결합 계층\n",
    "#         self.fc = nn.Linear(in_features=64 * 4 * 4, out_features=2)\n",
    "        \n",
    "#     # 순전파 출력 정의\n",
    "#     def forward(self, x):\n",
    "#         x = self.layer1(x)\n",
    "#         x = self.layer2(x)\n",
    "#         x = self.avg_pool(x)\n",
    "#         x = x.view(-1, 64 * 4 * 4) # 평탄화\n",
    "#         x = self.fc(x)\n",
    "#         return x"
   ]
  },
  {
   "cell_type": "code",
   "execution_count": 14,
   "id": "sweet-lease",
   "metadata": {
    "_cell_guid": "79c7e3d0-c299-4dcb-8224-4455121ee9b0",
    "_uuid": "d629ff2d2480ee46fbb7e2d37f6b5fab8052498a",
    "execution": {
     "iopub.execute_input": "2021-05-20T11:22:17.624440Z",
     "iopub.status.busy": "2021-05-20T11:22:17.623879Z",
     "iopub.status.idle": "2021-05-20T11:22:21.523708Z",
     "shell.execute_reply": "2021-05-20T11:22:21.524100Z",
     "shell.execute_reply.started": "2021-05-20T11:20:09.481609Z"
    },
    "papermill": {
     "duration": 3.921324,
     "end_time": "2021-05-20T11:22:21.524258",
     "exception": false,
     "start_time": "2021-05-20T11:22:17.602934",
     "status": "completed"
    },
    "tags": []
   },
   "outputs": [
    {
     "data": {
      "text/plain": [
       "Model(\n",
       "  (conv1): Conv2d(3, 32, kernel_size=(3, 3), stride=(1, 1), padding=(2, 2))\n",
       "  (conv2): Conv2d(32, 64, kernel_size=(3, 3), stride=(1, 1), padding=(2, 2))\n",
       "  (max_pool): MaxPool2d(kernel_size=2, stride=2, padding=0, dilation=1, ceil_mode=False)\n",
       "  (avg_pool): AvgPool2d(kernel_size=2, stride=2, padding=0)\n",
       "  (fc): Linear(in_features=1024, out_features=2, bias=True)\n",
       ")"
      ]
     },
     "execution_count": 14,
     "metadata": {},
     "output_type": "execute_result"
    }
   ],
   "source": [
    "model = Model().to(device)\n",
    "\n",
    "model"
   ]
  },
  {
   "cell_type": "code",
   "execution_count": 15,
   "id": "concerned-february",
   "metadata": {
    "execution": {
     "iopub.execute_input": "2021-05-20T11:22:21.565129Z",
     "iopub.status.busy": "2021-05-20T11:22:21.564388Z",
     "iopub.status.idle": "2021-05-20T11:22:21.567206Z",
     "shell.execute_reply": "2021-05-20T11:22:21.566798Z",
     "shell.execute_reply.started": "2021-05-20T11:20:14.160688Z"
    },
    "papermill": {
     "duration": 0.024504,
     "end_time": "2021-05-20T11:22:21.567317",
     "exception": false,
     "start_time": "2021-05-20T11:22:21.542813",
     "status": "completed"
    },
    "tags": []
   },
   "outputs": [],
   "source": [
    "# 손실함수\n",
    "criterion = nn.CrossEntropyLoss()"
   ]
  },
  {
   "cell_type": "code",
   "execution_count": 16,
   "id": "alone-norfolk",
   "metadata": {
    "_uuid": "fceb2929d8750acb2de745cd9ff3d2d458820df8",
    "execution": {
     "iopub.execute_input": "2021-05-20T11:22:21.606833Z",
     "iopub.status.busy": "2021-05-20T11:22:21.606211Z",
     "iopub.status.idle": "2021-05-20T11:22:21.608699Z",
     "shell.execute_reply": "2021-05-20T11:22:21.609092Z",
     "shell.execute_reply.started": "2021-05-20T11:20:14.169495Z"
    },
    "papermill": {
     "duration": 0.02407,
     "end_time": "2021-05-20T11:22:21.609206",
     "exception": false,
     "start_time": "2021-05-20T11:22:21.585136",
     "status": "completed"
    },
    "tags": []
   },
   "outputs": [],
   "source": [
    "# 옵티마이저\n",
    "optimizer = torch.optim.SGD(model.parameters(), lr=0.01)"
   ]
  },
  {
   "cell_type": "code",
   "execution_count": 17,
   "id": "played-credits",
   "metadata": {
    "execution": {
     "iopub.execute_input": "2021-05-20T11:22:21.649237Z",
     "iopub.status.busy": "2021-05-20T11:22:21.648515Z",
     "iopub.status.idle": "2021-05-20T11:22:21.651977Z",
     "shell.execute_reply": "2021-05-20T11:22:21.651578Z",
     "shell.execute_reply.started": "2021-05-20T11:20:14.187120Z"
    },
    "papermill": {
     "duration": 0.02488,
     "end_time": "2021-05-20T11:22:21.652080",
     "exception": false,
     "start_time": "2021-05-20T11:22:21.627200",
     "status": "completed"
    },
    "tags": []
   },
   "outputs": [
    {
     "data": {
      "text/plain": [
       "247"
      ]
     },
     "execution_count": 17,
     "metadata": {},
     "output_type": "execute_result"
    }
   ],
   "source": [
    "import math\n",
    "\n",
    "math.ceil(len(train) / 64)"
   ]
  },
  {
   "cell_type": "code",
   "execution_count": 18,
   "id": "piano-challenge",
   "metadata": {
    "execution": {
     "iopub.execute_input": "2021-05-20T11:22:21.692745Z",
     "iopub.status.busy": "2021-05-20T11:22:21.691951Z",
     "iopub.status.idle": "2021-05-20T11:22:21.695571Z",
     "shell.execute_reply": "2021-05-20T11:22:21.695175Z",
     "shell.execute_reply.started": "2021-05-20T11:20:14.203530Z"
    },
    "papermill": {
     "duration": 0.025424,
     "end_time": "2021-05-20T11:22:21.695678",
     "exception": false,
     "start_time": "2021-05-20T11:22:21.670254",
     "status": "completed"
    },
    "tags": []
   },
   "outputs": [
    {
     "data": {
      "text/plain": [
       "247"
      ]
     },
     "execution_count": 18,
     "metadata": {},
     "output_type": "execute_result"
    }
   ],
   "source": [
    "len(loader_train)"
   ]
  },
  {
   "cell_type": "code",
   "execution_count": 19,
   "id": "configured-california",
   "metadata": {
    "_uuid": "2c37417ae6b62ab4551bc8a888916ca1e591d284",
    "execution": {
     "iopub.execute_input": "2021-05-20T11:22:21.740442Z",
     "iopub.status.busy": "2021-05-20T11:22:21.739805Z",
     "iopub.status.idle": "2021-05-20T11:23:04.480625Z",
     "shell.execute_reply": "2021-05-20T11:23:04.479267Z",
     "shell.execute_reply.started": "2021-05-20T11:20:14.215117Z"
    },
    "papermill": {
     "duration": 42.76635,
     "end_time": "2021-05-20T11:23:04.480787",
     "exception": false,
     "start_time": "2021-05-20T11:22:21.714437",
     "status": "completed"
    },
    "tags": []
   },
   "outputs": [
    {
     "name": "stdout",
     "output_type": "stream",
     "text": [
      "에폭: [1/10], 손실값: 0.5462\n",
      "에폭: [2/10], 손실값: 0.4818\n",
      "에폭: [3/10], 손실값: 0.3522\n",
      "에폭: [4/10], 손실값: 0.2784\n",
      "에폭: [5/10], 손실값: 0.2467\n",
      "에폭: [6/10], 손실값: 0.2138\n",
      "에폭: [7/10], 손실값: 0.1910\n",
      "에폭: [8/10], 손실값: 0.1827\n",
      "에폭: [9/10], 손실값: 0.1729\n",
      "에폭: [10/10], 손실값: 0.1583\n"
     ]
    }
   ],
   "source": [
    "epochs = 10 # 총 에폭\n",
    "\n",
    "# 총 10에폭만큼 훈련 ---①\n",
    "for epoch in range(epochs):\n",
    "    epoch_loss = 0 # 에폭별 손실값 초기화\n",
    "    # 미니배치 크기만큼 데이터를 추출하는 작업을 '반복 횟수'만큼 반복 ---②\n",
    "    for images, labels in loader_train:\n",
    "        # 이미지, 레이블 데이터 미니배치를 장비에 할당 ---③\n",
    "        images = images.to(device)\n",
    "        labels = labels.to(device)\n",
    "\n",
    "        # 옵티마이저 내 기울기 초기화 ---④\n",
    "        optimizer.zero_grad()\n",
    "        # 이미지 데이터를 신경망 모델의 입력값으로 사용해 출력값 계산 ---⑤\n",
    "        outputs = model(images)\n",
    "        # 손실함수를 활용해 outputs와 labels의 손실값 계산 ---⑥\n",
    "        loss = criterion(outputs, labels)\n",
    "        # 역전파 수행 ---⑦\n",
    "        loss.backward()\n",
    "        # 가중치 갱신 ---⑧\n",
    "        optimizer.step()\n",
    "        \n",
    "        epoch_loss += loss.item() # 현재 배치에서의 손실 추가\n",
    "        \n",
    "    print(f'에폭: [{epoch+1}/{epochs}], 손실값: {epoch_loss/len(loader_train):.4f}')"
   ]
  },
  {
   "cell_type": "code",
   "execution_count": 20,
   "id": "strategic-comparative",
   "metadata": {
    "execution": {
     "iopub.execute_input": "2021-05-20T11:23:04.530697Z",
     "iopub.status.busy": "2021-05-20T11:23:04.529869Z",
     "iopub.status.idle": "2021-05-20T11:23:04.981262Z",
     "shell.execute_reply": "2021-05-20T11:23:04.981702Z",
     "shell.execute_reply.started": "2021-05-20T11:21:14.880568Z"
    },
    "papermill": {
     "duration": 0.47941,
     "end_time": "2021-05-20T11:23:04.981851",
     "exception": false,
     "start_time": "2021-05-20T11:23:04.502441",
     "status": "completed"
    },
    "tags": []
   },
   "outputs": [
    {
     "name": "stdout",
     "output_type": "stream",
     "text": [
      "검증 데이터 ROC AUC : 0.9867\n"
     ]
    }
   ],
   "source": [
    "from sklearn.metrics import roc_auc_score # ROC AUC 점수 계산 함수\n",
    "\n",
    "# 예측 확률값과 실제값을 담을 리스트 초기화\n",
    "true_list = []\n",
    "preds_list = []\n",
    "\n",
    "model.eval() # 모델을 평가 상태로 설정 ---①\n",
    "\n",
    "with torch.no_grad(): # 기울기 계산 비활성 ---②\n",
    "    for images, labels in loader_valid:\n",
    "        # 이미지, 레이블 데이터 미니배치를 장비에 할당 \n",
    "        images = images.to(device)\n",
    "        labels = labels.to(device)\n",
    "        # 이미지 데이터를 신경망 모델의 입력값으로 사용해 출력값 계산\n",
    "        outputs = model(images)\n",
    "        preds = torch.softmax(outputs.cpu(), dim=1)[:, 1] # 예측 확률값 ---③\n",
    "        true = labels.cpu() # 실제값 ---④\n",
    "        # 예측 확률값과 실제값을 리스트에 추가\n",
    "        preds_list.extend(preds)\n",
    "        true_list.extend(true)\n",
    "        \n",
    "    # 검증 데이터 ROC AUC 점수 계산 ---⑤\n",
    "    print(f'검증 데이터 ROC AUC : {roc_auc_score(true_list, preds_list):.4f}')"
   ]
  },
  {
   "cell_type": "code",
   "execution_count": 21,
   "id": "upset-stupid",
   "metadata": {
    "_uuid": "870413a60281e0c4115fbc7cf192508e15a9e269",
    "execution": {
     "iopub.execute_input": "2021-05-20T11:23:05.029354Z",
     "iopub.status.busy": "2021-05-20T11:23:05.028800Z",
     "iopub.status.idle": "2021-05-20T11:23:05.032537Z",
     "shell.execute_reply": "2021-05-20T11:23:05.032151Z",
     "shell.execute_reply.started": "2021-05-20T11:21:15.524269Z"
    },
    "papermill": {
     "duration": 0.029503,
     "end_time": "2021-05-20T11:23:05.032717",
     "exception": false,
     "start_time": "2021-05-20T11:23:05.003214",
     "status": "completed"
    },
    "tags": []
   },
   "outputs": [],
   "source": [
    "dataset_test = ImageDataset(df=submission, img_dir='test/', transform=transform)\n",
    "loader_test = DataLoader(dataset=dataset_test, batch_size=64, \n",
    "                         shuffle=False)"
   ]
  },
  {
   "cell_type": "code",
   "execution_count": 22,
   "id": "collaborative-description",
   "metadata": {
    "execution": {
     "iopub.execute_input": "2021-05-20T11:23:05.081866Z",
     "iopub.status.busy": "2021-05-20T11:23:05.081303Z",
     "iopub.status.idle": "2021-05-20T11:23:06.002081Z",
     "shell.execute_reply": "2021-05-20T11:23:06.001067Z",
     "shell.execute_reply.started": "2021-05-20T11:21:15.533281Z"
    },
    "papermill": {
     "duration": 0.947715,
     "end_time": "2021-05-20T11:23:06.002222",
     "exception": false,
     "start_time": "2021-05-20T11:23:05.054507",
     "status": "completed"
    },
    "tags": []
   },
   "outputs": [],
   "source": [
    "model.eval() # 모델을 평가 상태로 설정\n",
    "\n",
    "preds = [] # 타깃 예측 값 저장용 변수 초기화 ---①\n",
    "\n",
    "with torch.no_grad(): # 기울기 계산 비활성\n",
    "    for images, _ in loader_test:\n",
    "        # 이미지 데이터 미니배치를 장비에 할당\n",
    "        images = images.to(device)\n",
    "        # 이미지 데이터를 신경망 모델의 입력값으로 사용해 출력값 계산\n",
    "        outputs = model(images)\n",
    "        # 타깃 값이 1일 확률(예측 값) ---②\n",
    "        preds_part = torch.softmax(outputs.cpu(), dim=1)[:, 1].tolist()\n",
    "        # preds에 preds_part 이어붙이기 ---③\n",
    "        preds.extend(preds_part)"
   ]
  },
  {
   "cell_type": "code",
   "execution_count": 23,
   "id": "center-allocation",
   "metadata": {
    "execution": {
     "iopub.execute_input": "2021-05-20T11:23:06.050154Z",
     "iopub.status.busy": "2021-05-20T11:23:06.049647Z",
     "iopub.status.idle": "2021-05-20T11:23:06.203612Z",
     "shell.execute_reply": "2021-05-20T11:23:06.202744Z",
     "shell.execute_reply.started": "2021-05-20T11:21:16.860198Z"
    },
    "papermill": {
     "duration": 0.179728,
     "end_time": "2021-05-20T11:23:06.203762",
     "exception": false,
     "start_time": "2021-05-20T11:23:06.024034",
     "status": "completed"
    },
    "tags": []
   },
   "outputs": [],
   "source": [
    "submission['has_cactus'] = preds\n",
    "submission.to_csv('submission.csv', index=False)"
   ]
  },
  {
   "cell_type": "code",
   "execution_count": 24,
   "id": "heavy-concept",
   "metadata": {
    "execution": {
     "iopub.execute_input": "2021-05-20T11:23:06.256229Z",
     "iopub.status.busy": "2021-05-20T11:23:06.255634Z",
     "iopub.status.idle": "2021-05-20T11:23:06.263783Z",
     "shell.execute_reply": "2021-05-20T11:23:06.264209Z",
     "shell.execute_reply.started": "2021-05-20T11:21:17.225874Z"
    },
    "papermill": {
     "duration": 0.039044,
     "end_time": "2021-05-20T11:23:06.264346",
     "exception": false,
     "start_time": "2021-05-20T11:23:06.225302",
     "status": "completed"
    },
    "tags": []
   },
   "outputs": [
    {
     "data": {
      "text/html": [
       "<div>\n",
       "<style scoped>\n",
       "    .dataframe tbody tr th:only-of-type {\n",
       "        vertical-align: middle;\n",
       "    }\n",
       "\n",
       "    .dataframe tbody tr th {\n",
       "        vertical-align: top;\n",
       "    }\n",
       "\n",
       "    .dataframe thead th {\n",
       "        text-align: right;\n",
       "    }\n",
       "</style>\n",
       "<table border=\"1\" class=\"dataframe\">\n",
       "  <thead>\n",
       "    <tr style=\"text-align: right;\">\n",
       "      <th></th>\n",
       "      <th>id</th>\n",
       "      <th>has_cactus</th>\n",
       "    </tr>\n",
       "  </thead>\n",
       "  <tbody>\n",
       "    <tr>\n",
       "      <th>0</th>\n",
       "      <td>000940378805c44108d287872b2f04ce.jpg</td>\n",
       "      <td>0.982228</td>\n",
       "    </tr>\n",
       "    <tr>\n",
       "      <th>1</th>\n",
       "      <td>0017242f54ececa4512b4d7937d1e21e.jpg</td>\n",
       "      <td>0.999730</td>\n",
       "    </tr>\n",
       "    <tr>\n",
       "      <th>2</th>\n",
       "      <td>001ee6d8564003107853118ab87df407.jpg</td>\n",
       "      <td>0.113825</td>\n",
       "    </tr>\n",
       "    <tr>\n",
       "      <th>3</th>\n",
       "      <td>002e175c3c1e060769475f52182583d0.jpg</td>\n",
       "      <td>0.364750</td>\n",
       "    </tr>\n",
       "    <tr>\n",
       "      <th>4</th>\n",
       "      <td>0036e44a7e8f7218e9bc7bf8137e4943.jpg</td>\n",
       "      <td>0.949532</td>\n",
       "    </tr>\n",
       "    <tr>\n",
       "      <th>...</th>\n",
       "      <td>...</td>\n",
       "      <td>...</td>\n",
       "    </tr>\n",
       "    <tr>\n",
       "      <th>3995</th>\n",
       "      <td>ffaafd0c9f2f0e73172848463bc2e523.jpg</td>\n",
       "      <td>0.989928</td>\n",
       "    </tr>\n",
       "    <tr>\n",
       "      <th>3996</th>\n",
       "      <td>ffae37344310a1549162493237d25d3f.jpg</td>\n",
       "      <td>0.999928</td>\n",
       "    </tr>\n",
       "    <tr>\n",
       "      <th>3997</th>\n",
       "      <td>ffbd469c56873d064326204aac546e0d.jpg</td>\n",
       "      <td>0.998974</td>\n",
       "    </tr>\n",
       "    <tr>\n",
       "      <th>3998</th>\n",
       "      <td>ffcb76b7d47f29ece11c751e5f763f52.jpg</td>\n",
       "      <td>0.990885</td>\n",
       "    </tr>\n",
       "    <tr>\n",
       "      <th>3999</th>\n",
       "      <td>fffed17d1a8e0433a934db518d7f532c.jpg</td>\n",
       "      <td>0.960124</td>\n",
       "    </tr>\n",
       "  </tbody>\n",
       "</table>\n",
       "<p>4000 rows × 2 columns</p>\n",
       "</div>"
      ],
      "text/plain": [
       "                                        id  has_cactus\n",
       "0     000940378805c44108d287872b2f04ce.jpg    0.982228\n",
       "1     0017242f54ececa4512b4d7937d1e21e.jpg    0.999730\n",
       "2     001ee6d8564003107853118ab87df407.jpg    0.113825\n",
       "3     002e175c3c1e060769475f52182583d0.jpg    0.364750\n",
       "4     0036e44a7e8f7218e9bc7bf8137e4943.jpg    0.949532\n",
       "...                                    ...         ...\n",
       "3995  ffaafd0c9f2f0e73172848463bc2e523.jpg    0.989928\n",
       "3996  ffae37344310a1549162493237d25d3f.jpg    0.999928\n",
       "3997  ffbd469c56873d064326204aac546e0d.jpg    0.998974\n",
       "3998  ffcb76b7d47f29ece11c751e5f763f52.jpg    0.990885\n",
       "3999  fffed17d1a8e0433a934db518d7f532c.jpg    0.960124\n",
       "\n",
       "[4000 rows x 2 columns]"
      ]
     },
     "execution_count": 24,
     "metadata": {},
     "output_type": "execute_result"
    }
   ],
   "source": [
    "submission"
   ]
  },
  {
   "cell_type": "code",
   "execution_count": 25,
   "id": "attached-hayes",
   "metadata": {
    "execution": {
     "iopub.execute_input": "2021-05-20T11:23:06.312390Z",
     "iopub.status.busy": "2021-05-20T11:23:06.311648Z",
     "iopub.status.idle": "2021-05-20T11:23:06.870454Z",
     "shell.execute_reply": "2021-05-20T11:23:06.869884Z",
     "shell.execute_reply.started": "2021-05-20T11:21:17.251840Z"
    },
    "papermill": {
     "duration": 0.584075,
     "end_time": "2021-05-20T11:23:06.870604",
     "exception": false,
     "start_time": "2021-05-20T11:23:06.286529",
     "status": "completed"
    },
    "tags": []
   },
   "outputs": [],
   "source": [
    "import shutil\n",
    "\n",
    "shutil.rmtree('./train')\n",
    "shutil.rmtree('./test')"
   ]
  }
 ],
 "metadata": {
  "kernelspec": {
   "display_name": "Python 3",
   "language": "python",
   "name": "python3"
  },
  "language_info": {
   "codemirror_mode": {
    "name": "ipython",
    "version": 3
   },
   "file_extension": ".py",
   "mimetype": "text/x-python",
   "name": "python",
   "nbconvert_exporter": "python",
   "pygments_lexer": "ipython3",
   "version": "3.7.9"
  },
  "papermill": {
   "default_parameters": {},
   "duration": 61.200892,
   "end_time": "2021-05-20T11:23:07.801797",
   "environment_variables": {},
   "exception": null,
   "input_path": "__notebook__.ipynb",
   "output_path": "__notebook__.ipynb",
   "parameters": {},
   "start_time": "2021-05-20T11:22:06.600905",
   "version": "2.3.2"
  }
 },
 "nbformat": 4,
 "nbformat_minor": 5
}
