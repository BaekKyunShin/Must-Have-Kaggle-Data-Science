{
 "cells": [
  {
   "cell_type": "code",
   "execution_count": 1,
   "id": "vietnamese-island",
   "metadata": {
    "_uuid": "001d0b8a8b818c57a55fa4e20b5cae060a749cdc",
    "execution": {
     "iopub.execute_input": "2021-05-02T11:40:30.222075Z",
     "iopub.status.busy": "2021-05-02T11:40:30.221327Z",
     "iopub.status.idle": "2021-05-02T11:40:30.275341Z",
     "shell.execute_reply": "2021-05-02T11:40:30.274479Z"
    },
    "papermill": {
     "duration": 0.08208,
     "end_time": "2021-05-02T11:40:30.275552",
     "exception": false,
     "start_time": "2021-05-02T11:40:30.193472",
     "status": "completed"
    },
    "tags": []
   },
   "outputs": [],
   "source": [
    "import pandas as pd\n",
    "\n",
    "# 데이터 경로\n",
    "data_path = '/kaggle/input/aerial-cactus-identification/'\n",
    "\n",
    "labels = pd.read_csv(data_path + 'train.csv')\n",
    "submission = pd.read_csv(data_path + 'sample_submission.csv')"
   ]
  },
  {
   "cell_type": "code",
   "execution_count": 2,
   "id": "classical-consent",
   "metadata": {
    "execution": {
     "iopub.execute_input": "2021-05-02T11:40:30.322451Z",
     "iopub.status.busy": "2021-05-02T11:40:30.321504Z",
     "iopub.status.idle": "2021-05-02T11:40:33.868666Z",
     "shell.execute_reply": "2021-05-02T11:40:33.869280Z"
    },
    "papermill": {
     "duration": 3.571227,
     "end_time": "2021-05-02T11:40:33.869476",
     "exception": false,
     "start_time": "2021-05-02T11:40:30.298249",
     "status": "completed"
    },
    "tags": []
   },
   "outputs": [],
   "source": [
    "from zipfile import ZipFile\n",
    "\n",
    "# 훈련 이미지 데이터 압축 풀기\n",
    "with ZipFile(data_path + 'train.zip') as zipper:\n",
    "    zipper.extractall()\n",
    "    \n",
    "# 테스트 이미지 데이터 압축 풀기\n",
    "with ZipFile(data_path + 'test.zip') as zipper:\n",
    "    zipper.extractall()"
   ]
  },
  {
   "cell_type": "code",
   "execution_count": 3,
   "id": "later-desktop",
   "metadata": {
    "execution": {
     "iopub.execute_input": "2021-05-02T11:40:33.918914Z",
     "iopub.status.busy": "2021-05-02T11:40:33.918012Z",
     "iopub.status.idle": "2021-05-02T11:40:35.233391Z",
     "shell.execute_reply": "2021-05-02T11:40:35.232674Z"
    },
    "papermill": {
     "duration": 1.343377,
     "end_time": "2021-05-02T11:40:35.233549",
     "exception": false,
     "start_time": "2021-05-02T11:40:33.890172",
     "status": "completed"
    },
    "tags": []
   },
   "outputs": [],
   "source": [
    "import torch # 파이토치 \n",
    "import random\n",
    "import numpy as np\n",
    "\n",
    "# 시드 값 고정\n",
    "def set_seed(seed):\n",
    "#     torch.use_deterministic_algorithms(True)\n",
    "    torch.backends.cudnn.deterministic = True\n",
    "    torch.backends.cudnn.benchmark = False\n",
    "    torch.manual_seed(seed)\n",
    "    torch.cuda.manual_seed_all(seed)\n",
    "    np.random.seed(seed)\n",
    "    random.seed(seed)\n",
    "\n",
    "set_seed(0)"
   ]
  },
  {
   "cell_type": "code",
   "execution_count": 4,
   "id": "interior-finland",
   "metadata": {
    "execution": {
     "iopub.execute_input": "2021-05-02T11:40:35.285169Z",
     "iopub.status.busy": "2021-05-02T11:40:35.284383Z",
     "iopub.status.idle": "2021-05-02T11:40:35.286860Z",
     "shell.execute_reply": "2021-05-02T11:40:35.287400Z"
    },
    "papermill": {
     "duration": 0.035375,
     "end_time": "2021-05-02T11:40:35.287591",
     "exception": false,
     "start_time": "2021-05-02T11:40:35.252216",
     "status": "completed"
    },
    "tags": []
   },
   "outputs": [],
   "source": [
    "if torch.cuda.is_available():\n",
    "    device = torch.device('cuda')\n",
    "else:\n",
    "    device = torch.device('cpu')"
   ]
  },
  {
   "cell_type": "code",
   "execution_count": 5,
   "id": "diagnostic-mercury",
   "metadata": {
    "execution": {
     "iopub.execute_input": "2021-05-02T11:40:35.447295Z",
     "iopub.status.busy": "2021-05-02T11:40:35.446425Z",
     "iopub.status.idle": "2021-05-02T11:40:35.454323Z",
     "shell.execute_reply": "2021-05-02T11:40:35.454988Z"
    },
    "papermill": {
     "duration": 0.030738,
     "end_time": "2021-05-02T11:40:35.455183",
     "exception": false,
     "start_time": "2021-05-02T11:40:35.424445",
     "status": "completed"
    },
    "tags": []
   },
   "outputs": [
    {
     "data": {
      "text/plain": [
       "device(type='cpu')"
      ]
     },
     "execution_count": 5,
     "metadata": {},
     "output_type": "execute_result"
    }
   ],
   "source": [
    "device"
   ]
  },
  {
   "cell_type": "code",
   "execution_count": 6,
   "id": "wireless-messaging",
   "metadata": {
    "_uuid": "c07eab67e573c7de05e11065b5bafc1bbff284fb",
    "execution": {
     "iopub.execute_input": "2021-05-02T11:40:35.497808Z",
     "iopub.status.busy": "2021-05-02T11:40:35.497140Z",
     "iopub.status.idle": "2021-05-02T11:40:36.683889Z",
     "shell.execute_reply": "2021-05-02T11:40:36.684495Z"
    },
    "papermill": {
     "duration": 1.210221,
     "end_time": "2021-05-02T11:40:36.684723",
     "exception": false,
     "start_time": "2021-05-02T11:40:35.474502",
     "status": "completed"
    },
    "tags": []
   },
   "outputs": [],
   "source": [
    "from sklearn.model_selection import train_test_split\n",
    "\n",
    "# 훈련 데이터, 검증 데이터 분리\n",
    "train, valid = train_test_split(labels, \n",
    "                                test_size=0.1,\n",
    "                                stratify=labels['has_cactus'],\n",
    "                                random_state=10)"
   ]
  },
  {
   "cell_type": "code",
   "execution_count": 7,
   "id": "random-ticket",
   "metadata": {
    "execution": {
     "iopub.execute_input": "2021-05-02T11:40:36.727104Z",
     "iopub.status.busy": "2021-05-02T11:40:36.726419Z",
     "iopub.status.idle": "2021-05-02T11:40:36.732513Z",
     "shell.execute_reply": "2021-05-02T11:40:36.733042Z"
    },
    "papermill": {
     "duration": 0.028136,
     "end_time": "2021-05-02T11:40:36.733233",
     "exception": false,
     "start_time": "2021-05-02T11:40:36.705097",
     "status": "completed"
    },
    "tags": []
   },
   "outputs": [
    {
     "name": "stdout",
     "output_type": "stream",
     "text": [
      "훈련 데이터 개수: 15750\n",
      "검증 데이터 개수: 1750\n"
     ]
    }
   ],
   "source": [
    "print('훈련 데이터 개수:', len(train))\n",
    "print('검증 데이터 개수:', len(valid))"
   ]
  },
  {
   "cell_type": "code",
   "execution_count": 8,
   "id": "dressed-gazette",
   "metadata": {
    "_uuid": "1b05af8d59d9d5b092e96f72dfebb19591416de9",
    "execution": {
     "iopub.execute_input": "2021-05-02T11:40:36.782956Z",
     "iopub.status.busy": "2021-05-02T11:40:36.782135Z",
     "iopub.status.idle": "2021-05-02T11:40:37.104279Z",
     "shell.execute_reply": "2021-05-02T11:40:37.103483Z"
    },
    "papermill": {
     "duration": 0.351096,
     "end_time": "2021-05-02T11:40:37.104451",
     "exception": false,
     "start_time": "2021-05-02T11:40:36.753355",
     "status": "completed"
    },
    "tags": []
   },
   "outputs": [],
   "source": [
    "import cv2 # OpenCV 라이브러리\n",
    "from torch.utils.data import Dataset # 데이터 생성을 위한 클래스\n",
    "\n",
    "class ImageDataset(Dataset):\n",
    "    # 초기화 메서드(생성자) ---①\n",
    "    def __init__(self, df, img_dir = './', transform=None):\n",
    "        super().__init__() # 상속받은 Dataset의 __init__() 메서드 호출 ---②\n",
    "        self.df = df\n",
    "        self.img_dir = img_dir\n",
    "        self.transform = transform\n",
    "    \n",
    "    # 데이터 세트 크기 반환 메서드 ---③\n",
    "    def __len__(self):\n",
    "        return len(self.df)\n",
    "    \n",
    "    # 인덱스(idx)에 해당하는 데이터 반환 메서드 ---④\n",
    "    def __getitem__(self, idx):\n",
    "        img_path = self.img_dir + self.df.iloc[idx, 0] # 이미지 파일 경로 \n",
    "        image = cv2.imread(img_path) # 이미지 파일 읽기 \n",
    "        label = self.df.iloc[idx, 1] # 이미지 레이블(타깃 값)\n",
    "        # 이미지 변환\n",
    "        if self.transform:\n",
    "            image = self.transform(image)\n",
    "        return image, label"
   ]
  },
  {
   "cell_type": "code",
   "execution_count": 9,
   "id": "collect-emperor",
   "metadata": {
    "execution": {
     "iopub.execute_input": "2021-05-02T11:40:37.150060Z",
     "iopub.status.busy": "2021-05-02T11:40:37.149251Z",
     "iopub.status.idle": "2021-05-02T11:40:37.334326Z",
     "shell.execute_reply": "2021-05-02T11:40:37.333744Z"
    },
    "papermill": {
     "duration": 0.21024,
     "end_time": "2021-05-02T11:40:37.334478",
     "exception": false,
     "start_time": "2021-05-02T11:40:37.124238",
     "status": "completed"
    },
    "tags": []
   },
   "outputs": [],
   "source": [
    "import torchvision.transforms as transforms # 이미지 변환을 위한 모듈\n",
    "\n",
    "transform = transforms.ToTensor()"
   ]
  },
  {
   "cell_type": "code",
   "execution_count": 10,
   "id": "lined-catering",
   "metadata": {
    "execution": {
     "iopub.execute_input": "2021-05-02T11:40:37.381711Z",
     "iopub.status.busy": "2021-05-02T11:40:37.381059Z",
     "iopub.status.idle": "2021-05-02T11:40:37.384483Z",
     "shell.execute_reply": "2021-05-02T11:40:37.385075Z"
    },
    "papermill": {
     "duration": 0.030849,
     "end_time": "2021-05-02T11:40:37.385289",
     "exception": false,
     "start_time": "2021-05-02T11:40:37.354440",
     "status": "completed"
    },
    "tags": []
   },
   "outputs": [],
   "source": [
    "dataset_train = ImageDataset(df=train, img_dir='train/', transform=transform)\n",
    "dataset_valid = ImageDataset(df=valid, img_dir='train/', transform=transform)"
   ]
  },
  {
   "cell_type": "code",
   "execution_count": 11,
   "id": "controversial-instruction",
   "metadata": {
    "_uuid": "c247391c28497ad35c72f5218398ea71f2d0d5ff",
    "execution": {
     "iopub.execute_input": "2021-05-02T11:40:37.436085Z",
     "iopub.status.busy": "2021-05-02T11:40:37.435334Z",
     "iopub.status.idle": "2021-05-02T11:40:37.438685Z",
     "shell.execute_reply": "2021-05-02T11:40:37.438032Z"
    },
    "papermill": {
     "duration": 0.031364,
     "end_time": "2021-05-02T11:40:37.438834",
     "exception": false,
     "start_time": "2021-05-02T11:40:37.407470",
     "status": "completed"
    },
    "tags": []
   },
   "outputs": [],
   "source": [
    "from torch.utils.data import DataLoader # 데이터 로더 생성을 위한 클래스\n",
    "\n",
    "loader_train = DataLoader(dataset=dataset_train, batch_size=128, \n",
    "                          shuffle=True)\n",
    "loader_valid = DataLoader(dataset=dataset_valid, batch_size=64, \n",
    "                          shuffle=False)"
   ]
  },
  {
   "cell_type": "code",
   "execution_count": 12,
   "id": "fundamental-search",
   "metadata": {
    "_uuid": "0a2d5600bc2eb915ec0bdf5b52ba11e25096f7d0",
    "execution": {
     "iopub.execute_input": "2021-05-02T11:40:37.494266Z",
     "iopub.status.busy": "2021-05-02T11:40:37.493352Z",
     "iopub.status.idle": "2021-05-02T11:40:37.496682Z",
     "shell.execute_reply": "2021-05-02T11:40:37.497193Z"
    },
    "papermill": {
     "duration": 0.038151,
     "end_time": "2021-05-02T11:40:37.497377",
     "exception": false,
     "start_time": "2021-05-02T11:40:37.459226",
     "status": "completed"
    },
    "tags": []
   },
   "outputs": [],
   "source": [
    "import torch.nn as nn # 신경망 모듈\n",
    "import torch.nn.functional as F # 신경망 모듈에서 자주 사용되는 함수\n",
    "\n",
    "class Model(nn.Module):\n",
    "    # 신경망 계층 정의 ---①\n",
    "    def __init__(self):\n",
    "        super().__init__() # 상속받은 nn.Module의 __init__() 메서드 호출\n",
    "        # 첫 번째 합성곱 계층 ---②\n",
    "        self.conv1 = nn.Conv2d(in_channels=3, out_channels=32, \n",
    "                               kernel_size=3, padding=2) \n",
    "        # 두 번째 합성곱 계층 ---③\n",
    "        self.conv2 = nn.Conv2d(in_channels=32, out_channels=64, \n",
    "                               kernel_size=3, padding=2) \n",
    "        # 최대 풀링 계층 ---④\n",
    "        self.max_pool = nn.MaxPool2d(kernel_size=2) \n",
    "        # 평균 풀링 계층 ---⑤\n",
    "        self.avg_pool = nn.AvgPool2d(kernel_size=2) \n",
    "        # 전결합 계층 ---⑥\n",
    "        self.fc = nn.Linear(in_features=64 * 4 * 4, out_features=2)\n",
    "        \n",
    "    # 순전파 출력 정의 ---⑦\n",
    "    def forward(self, x):\n",
    "        x = self.max_pool(F.relu(self.conv1(x)))\n",
    "        x = self.max_pool(F.relu(self.conv2(x)))\n",
    "        x = self.avg_pool(x)\n",
    "        x = x.view(-1, 64 * 4 * 4) # 평탄화\n",
    "        x = self.fc(x)\n",
    "        return x"
   ]
  },
  {
   "cell_type": "code",
   "execution_count": 13,
   "id": "continuous-latin",
   "metadata": {
    "execution": {
     "iopub.execute_input": "2021-05-02T11:40:37.544425Z",
     "iopub.status.busy": "2021-05-02T11:40:37.543533Z",
     "iopub.status.idle": "2021-05-02T11:40:37.546752Z",
     "shell.execute_reply": "2021-05-02T11:40:37.547249Z"
    },
    "papermill": {
     "duration": 0.029338,
     "end_time": "2021-05-02T11:40:37.547432",
     "exception": false,
     "start_time": "2021-05-02T11:40:37.518094",
     "status": "completed"
    },
    "tags": []
   },
   "outputs": [],
   "source": [
    "# class Model(nn.Module):\n",
    "#     def __init__(self):\n",
    "#         super().__init__() \n",
    "#         # 첫 번째 합성곱, 최대 풀링 계층\n",
    "#         self.layer1 = nn.Sequential(nn.Conv2d(in_channels=3, \n",
    "#                                               out_channels=32, \n",
    "#                                               kernel_size=3, \n",
    "#                                               padding=2),\n",
    "#                                     nn.ReLU(),\n",
    "#                                     nn.MaxPool2d(kernel_size=2))\n",
    "#         # 두 번째 합성곱, 최대 풀링 계층\n",
    "#         self.layer2 = nn.Sequential(nn.Conv2d(in_channels=32, \n",
    "#                                               out_channels=64, \n",
    "#                                               kernel_size=3, \n",
    "#                                               padding=2),\n",
    "#                                     nn.ReLU(),\n",
    "#                                     nn.MaxPool2d(kernel_size=2))\n",
    "#         # 평균 풀링 계층\n",
    "#         self.avg_pool = nn.AvgPool2d(kernel_size=2) \n",
    "#         # 전결합 계층\n",
    "#         self.fc = nn.Linear(in_features=64 * 4 * 4, out_features=2)\n",
    "        \n",
    "#     # 순전파 출력 정의\n",
    "#     def forward(self, x):\n",
    "#         x = self.layer1(x)\n",
    "#         x = self.layer2(x)\n",
    "#         x = self.avg_pool(x)\n",
    "#         x = x.view(-1, 64 * 4 * 4) # 평탄화\n",
    "#         x = self.fc(x)\n",
    "#         return x"
   ]
  },
  {
   "cell_type": "code",
   "execution_count": 14,
   "id": "associate-helicopter",
   "metadata": {
    "_cell_guid": "79c7e3d0-c299-4dcb-8224-4455121ee9b0",
    "_uuid": "d629ff2d2480ee46fbb7e2d37f6b5fab8052498a",
    "execution": {
     "iopub.execute_input": "2021-05-02T11:40:37.595191Z",
     "iopub.status.busy": "2021-05-02T11:40:37.594491Z",
     "iopub.status.idle": "2021-05-02T11:40:37.635975Z",
     "shell.execute_reply": "2021-05-02T11:40:37.635443Z"
    },
    "papermill": {
     "duration": 0.066683,
     "end_time": "2021-05-02T11:40:37.636124",
     "exception": false,
     "start_time": "2021-05-02T11:40:37.569441",
     "status": "completed"
    },
    "tags": []
   },
   "outputs": [
    {
     "data": {
      "text/plain": [
       "Model(\n",
       "  (conv1): Conv2d(3, 32, kernel_size=(3, 3), stride=(1, 1), padding=(2, 2))\n",
       "  (conv2): Conv2d(32, 64, kernel_size=(3, 3), stride=(1, 1), padding=(2, 2))\n",
       "  (max_pool): MaxPool2d(kernel_size=2, stride=2, padding=0, dilation=1, ceil_mode=False)\n",
       "  (avg_pool): AvgPool2d(kernel_size=2, stride=2, padding=0)\n",
       "  (fc): Linear(in_features=1024, out_features=2, bias=True)\n",
       ")"
      ]
     },
     "execution_count": 14,
     "metadata": {},
     "output_type": "execute_result"
    }
   ],
   "source": [
    "model = Model().to(device)\n",
    "\n",
    "model"
   ]
  },
  {
   "cell_type": "code",
   "execution_count": 15,
   "id": "juvenile-youth",
   "metadata": {
    "execution": {
     "iopub.execute_input": "2021-05-02T11:40:37.682868Z",
     "iopub.status.busy": "2021-05-02T11:40:37.682238Z",
     "iopub.status.idle": "2021-05-02T11:40:37.685001Z",
     "shell.execute_reply": "2021-05-02T11:40:37.685517Z"
    },
    "papermill": {
     "duration": 0.029184,
     "end_time": "2021-05-02T11:40:37.685764",
     "exception": false,
     "start_time": "2021-05-02T11:40:37.656580",
     "status": "completed"
    },
    "tags": []
   },
   "outputs": [],
   "source": [
    "# 손실함수\n",
    "criterion = nn.CrossEntropyLoss()"
   ]
  },
  {
   "cell_type": "code",
   "execution_count": 16,
   "id": "unknown-calvin",
   "metadata": {
    "_uuid": "fceb2929d8750acb2de745cd9ff3d2d458820df8",
    "execution": {
     "iopub.execute_input": "2021-05-02T11:40:37.732336Z",
     "iopub.status.busy": "2021-05-02T11:40:37.731499Z",
     "iopub.status.idle": "2021-05-02T11:40:37.737154Z",
     "shell.execute_reply": "2021-05-02T11:40:37.736589Z"
    },
    "papermill": {
     "duration": 0.029937,
     "end_time": "2021-05-02T11:40:37.737299",
     "exception": false,
     "start_time": "2021-05-02T11:40:37.707362",
     "status": "completed"
    },
    "tags": []
   },
   "outputs": [],
   "source": [
    "# 옵티마이저\n",
    "optimizer = torch.optim.SGD(model.parameters(), lr=0.01)"
   ]
  },
  {
   "cell_type": "code",
   "execution_count": 17,
   "id": "occupied-public",
   "metadata": {
    "execution": {
     "iopub.execute_input": "2021-05-02T11:40:37.787011Z",
     "iopub.status.busy": "2021-05-02T11:40:37.786183Z",
     "iopub.status.idle": "2021-05-02T11:40:37.791329Z",
     "shell.execute_reply": "2021-05-02T11:40:37.790732Z"
    },
    "papermill": {
     "duration": 0.032691,
     "end_time": "2021-05-02T11:40:37.791477",
     "exception": false,
     "start_time": "2021-05-02T11:40:37.758786",
     "status": "completed"
    },
    "tags": []
   },
   "outputs": [
    {
     "data": {
      "text/plain": [
       "124"
      ]
     },
     "execution_count": 17,
     "metadata": {},
     "output_type": "execute_result"
    }
   ],
   "source": [
    "import math\n",
    "\n",
    "math.ceil(len(train) / 128)"
   ]
  },
  {
   "cell_type": "code",
   "execution_count": 18,
   "id": "devoted-combine",
   "metadata": {
    "execution": {
     "iopub.execute_input": "2021-05-02T11:40:37.845098Z",
     "iopub.status.busy": "2021-05-02T11:40:37.844378Z",
     "iopub.status.idle": "2021-05-02T11:40:37.847703Z",
     "shell.execute_reply": "2021-05-02T11:40:37.848239Z"
    },
    "papermill": {
     "duration": 0.033023,
     "end_time": "2021-05-02T11:40:37.848415",
     "exception": false,
     "start_time": "2021-05-02T11:40:37.815392",
     "status": "completed"
    },
    "tags": []
   },
   "outputs": [
    {
     "data": {
      "text/plain": [
       "124"
      ]
     },
     "execution_count": 18,
     "metadata": {},
     "output_type": "execute_result"
    }
   ],
   "source": [
    "len(loader_train)"
   ]
  },
  {
   "cell_type": "code",
   "execution_count": 19,
   "id": "lasting-accordance",
   "metadata": {
    "_uuid": "2c37417ae6b62ab4551bc8a888916ca1e591d284",
    "execution": {
     "iopub.execute_input": "2021-05-02T11:40:37.898713Z",
     "iopub.status.busy": "2021-05-02T11:40:37.897978Z",
     "iopub.status.idle": "2021-05-02T11:43:31.254495Z",
     "shell.execute_reply": "2021-05-02T11:43:31.255194Z"
    },
    "papermill": {
     "duration": 173.384303,
     "end_time": "2021-05-02T11:43:31.255419",
     "exception": false,
     "start_time": "2021-05-02T11:40:37.871116",
     "status": "completed"
    },
    "tags": []
   },
   "outputs": [
    {
     "name": "stdout",
     "output_type": "stream",
     "text": [
      "에폭: [1/10], 손실값: 0.8205\n",
      "에폭: [2/10], 손실값: 0.2726\n",
      "에폭: [3/10], 손실값: 0.4237\n",
      "에폭: [4/10], 손실값: 0.1971\n",
      "에폭: [5/10], 손실값: 0.2929\n",
      "에폭: [6/10], 손실값: 0.2321\n",
      "에폭: [7/10], 손실값: 0.3712\n",
      "에폭: [8/10], 손실값: 0.1189\n",
      "에폭: [9/10], 손실값: 0.1483\n",
      "에폭: [10/10], 손실값: 0.1749\n"
     ]
    }
   ],
   "source": [
    "epochs = 10 # 총 에폭\n",
    "\n",
    "# 총 10에폭만큼 훈련 ---①\n",
    "for epoch in range(epochs):\n",
    "    # 미니배치 크기만큼 데이터를 추출하는 작업을 '반복 횟수'만큼 반복 ---②\n",
    "    for i, (images, labels) in enumerate(loader_train):\n",
    "        # 이미지, 레이블 데이터 미니배치를 장비에 할당 ---③\n",
    "        images = images.to(device)\n",
    "        labels = labels.to(device)\n",
    "\n",
    "        # 옵티마이저 내 기울기 초기화 ---④\n",
    "        optimizer.zero_grad()\n",
    "        # 이미지 데이터를 신경망 모델의 입력값으로 사용해 출력값 계산 ---⑤\n",
    "        outputs = model(images)\n",
    "        # 기존에 정의한 손실함수를 활용해 outputs와 labels의 손실값 계산 ---⑥\n",
    "        loss = criterion(outputs, labels)\n",
    "        # 오차 역전파 수행 ---⑦\n",
    "        loss.backward()\n",
    "        # 가중치 갱신 ---⑧\n",
    "        optimizer.step()\n",
    "        \n",
    "    print (f'에폭: [{epoch+1}/{epochs}], 손실값: {loss.item():.4f}')"
   ]
  },
  {
   "cell_type": "code",
   "execution_count": 20,
   "id": "convenient-median",
   "metadata": {
    "execution": {
     "iopub.execute_input": "2021-05-02T11:43:31.322164Z",
     "iopub.status.busy": "2021-05-02T11:43:31.320835Z",
     "iopub.status.idle": "2021-05-02T11:43:32.547058Z",
     "shell.execute_reply": "2021-05-02T11:43:32.546412Z"
    },
    "papermill": {
     "duration": 1.264865,
     "end_time": "2021-05-02T11:43:32.547242",
     "exception": false,
     "start_time": "2021-05-02T11:43:31.282377",
     "status": "completed"
    },
    "tags": []
   },
   "outputs": [
    {
     "name": "stdout",
     "output_type": "stream",
     "text": [
      "검증 데이터 ROC AUC : 0.9724738058484134\n"
     ]
    }
   ],
   "source": [
    "from sklearn.metrics import roc_auc_score # ROC AUC 점수 계산 함수\n",
    "\n",
    "roc_auc = 0 # ROC AUC 초기화\n",
    "\n",
    "model.eval() # 모델을 평가 상태로 설정 ---①\n",
    "\n",
    "with torch.no_grad(): # 기울기 계산 비활성 ---②\n",
    "    for images, labels in loader_valid:\n",
    "        # 이미지, 레이블 데이터 미니배치를 장비에 할당 \n",
    "        images = images.to(device)\n",
    "        labels = labels.to(device)\n",
    "        # 이미지 데이터를 신경망 모델의 입력값으로 사용해 출력값 계산\n",
    "        outputs = model(images)\n",
    "        preds = torch.softmax(outputs.cpu(), dim=1)[:, 1] # 예측 확률값 ---③\n",
    "        true = labels.cpu() # 실제 값 ---④\n",
    "        # 검증 데이터 ROC AUC 점수 계산 ---⑤\n",
    "        roc_auc += roc_auc_score(true, preds) / len(loader_valid)\n",
    "\n",
    "    print(f'검증 데이터 ROC AUC : {roc_auc}')"
   ]
  },
  {
   "cell_type": "code",
   "execution_count": 21,
   "id": "artificial-springfield",
   "metadata": {
    "_uuid": "870413a60281e0c4115fbc7cf192508e15a9e269",
    "execution": {
     "iopub.execute_input": "2021-05-02T11:43:32.613954Z",
     "iopub.status.busy": "2021-05-02T11:43:32.611963Z",
     "iopub.status.idle": "2021-05-02T11:43:32.615076Z",
     "shell.execute_reply": "2021-05-02T11:43:32.615681Z"
    },
    "papermill": {
     "duration": 0.037957,
     "end_time": "2021-05-02T11:43:32.615927",
     "exception": false,
     "start_time": "2021-05-02T11:43:32.577970",
     "status": "completed"
    },
    "tags": []
   },
   "outputs": [],
   "source": [
    "dataset_test = ImageDataset(df=submission, img_dir='test/', transform=transform)\n",
    "loader_test = DataLoader(dataset=dataset_test, batch_size=32, \n",
    "                         shuffle=False)"
   ]
  },
  {
   "cell_type": "code",
   "execution_count": 22,
   "id": "biological-chapter",
   "metadata": {
    "execution": {
     "iopub.execute_input": "2021-05-02T11:43:32.679413Z",
     "iopub.status.busy": "2021-05-02T11:43:32.678681Z",
     "iopub.status.idle": "2021-05-02T11:43:35.494327Z",
     "shell.execute_reply": "2021-05-02T11:43:35.494880Z"
    },
    "papermill": {
     "duration": 2.853041,
     "end_time": "2021-05-02T11:43:35.495119",
     "exception": false,
     "start_time": "2021-05-02T11:43:32.642078",
     "status": "completed"
    },
    "tags": []
   },
   "outputs": [],
   "source": [
    "model.eval() # 모델을 평가 상태로 설정\n",
    "\n",
    "preds = [] # 타깃 예측 값 저장용 변수 초기화 ---①\n",
    "\n",
    "with torch.no_grad(): # 기울기 계산 비활성\n",
    "    for images, _ in loader_test:\n",
    "        # 이미지 데이터 미니배치를 장비에 할당\n",
    "        images = images.to(device)\n",
    "        # 이미지 데이터를 신경망 모델의 입력값으로 사용해 출력값 계산\n",
    "        outputs = model(images)\n",
    "        # 타깃 값이 1일 확률(예측 값) ---②\n",
    "        preds_temp = torch.softmax(outputs.cpu(), dim=1)[:, 1].tolist()\n",
    "        # preds에 preds_temp 이어붙이기 ---③\n",
    "        preds.extend(preds_temp)"
   ]
  },
  {
   "cell_type": "code",
   "execution_count": 23,
   "id": "healthy-threshold",
   "metadata": {
    "execution": {
     "iopub.execute_input": "2021-05-02T11:43:35.578960Z",
     "iopub.status.busy": "2021-05-02T11:43:35.577867Z",
     "iopub.status.idle": "2021-05-02T11:43:35.608811Z",
     "shell.execute_reply": "2021-05-02T11:43:35.608220Z"
    },
    "papermill": {
     "duration": 0.082978,
     "end_time": "2021-05-02T11:43:35.609025",
     "exception": false,
     "start_time": "2021-05-02T11:43:35.526047",
     "status": "completed"
    },
    "tags": []
   },
   "outputs": [],
   "source": [
    "submission['has_cactus'] = preds\n",
    "submission.to_csv('submission.csv', index=False)"
   ]
  },
  {
   "cell_type": "code",
   "execution_count": 24,
   "id": "intellectual-impossible",
   "metadata": {
    "execution": {
     "iopub.execute_input": "2021-05-02T11:43:35.672150Z",
     "iopub.status.busy": "2021-05-02T11:43:35.670855Z",
     "iopub.status.idle": "2021-05-02T11:43:35.696460Z",
     "shell.execute_reply": "2021-05-02T11:43:35.697329Z"
    },
    "papermill": {
     "duration": 0.060317,
     "end_time": "2021-05-02T11:43:35.697568",
     "exception": false,
     "start_time": "2021-05-02T11:43:35.637251",
     "status": "completed"
    },
    "tags": []
   },
   "outputs": [
    {
     "data": {
      "text/html": [
       "<div>\n",
       "<style scoped>\n",
       "    .dataframe tbody tr th:only-of-type {\n",
       "        vertical-align: middle;\n",
       "    }\n",
       "\n",
       "    .dataframe tbody tr th {\n",
       "        vertical-align: top;\n",
       "    }\n",
       "\n",
       "    .dataframe thead th {\n",
       "        text-align: right;\n",
       "    }\n",
       "</style>\n",
       "<table border=\"1\" class=\"dataframe\">\n",
       "  <thead>\n",
       "    <tr style=\"text-align: right;\">\n",
       "      <th></th>\n",
       "      <th>id</th>\n",
       "      <th>has_cactus</th>\n",
       "    </tr>\n",
       "  </thead>\n",
       "  <tbody>\n",
       "    <tr>\n",
       "      <th>0</th>\n",
       "      <td>000940378805c44108d287872b2f04ce.jpg</td>\n",
       "      <td>0.991958</td>\n",
       "    </tr>\n",
       "    <tr>\n",
       "      <th>1</th>\n",
       "      <td>0017242f54ececa4512b4d7937d1e21e.jpg</td>\n",
       "      <td>0.998793</td>\n",
       "    </tr>\n",
       "    <tr>\n",
       "      <th>2</th>\n",
       "      <td>001ee6d8564003107853118ab87df407.jpg</td>\n",
       "      <td>0.539933</td>\n",
       "    </tr>\n",
       "    <tr>\n",
       "      <th>3</th>\n",
       "      <td>002e175c3c1e060769475f52182583d0.jpg</td>\n",
       "      <td>0.946666</td>\n",
       "    </tr>\n",
       "    <tr>\n",
       "      <th>4</th>\n",
       "      <td>0036e44a7e8f7218e9bc7bf8137e4943.jpg</td>\n",
       "      <td>0.982142</td>\n",
       "    </tr>\n",
       "    <tr>\n",
       "      <th>...</th>\n",
       "      <td>...</td>\n",
       "      <td>...</td>\n",
       "    </tr>\n",
       "    <tr>\n",
       "      <th>3995</th>\n",
       "      <td>ffaafd0c9f2f0e73172848463bc2e523.jpg</td>\n",
       "      <td>0.995182</td>\n",
       "    </tr>\n",
       "    <tr>\n",
       "      <th>3996</th>\n",
       "      <td>ffae37344310a1549162493237d25d3f.jpg</td>\n",
       "      <td>0.999762</td>\n",
       "    </tr>\n",
       "    <tr>\n",
       "      <th>3997</th>\n",
       "      <td>ffbd469c56873d064326204aac546e0d.jpg</td>\n",
       "      <td>0.998172</td>\n",
       "    </tr>\n",
       "    <tr>\n",
       "      <th>3998</th>\n",
       "      <td>ffcb76b7d47f29ece11c751e5f763f52.jpg</td>\n",
       "      <td>0.992326</td>\n",
       "    </tr>\n",
       "    <tr>\n",
       "      <th>3999</th>\n",
       "      <td>fffed17d1a8e0433a934db518d7f532c.jpg</td>\n",
       "      <td>0.991943</td>\n",
       "    </tr>\n",
       "  </tbody>\n",
       "</table>\n",
       "<p>4000 rows × 2 columns</p>\n",
       "</div>"
      ],
      "text/plain": [
       "                                        id  has_cactus\n",
       "0     000940378805c44108d287872b2f04ce.jpg    0.991958\n",
       "1     0017242f54ececa4512b4d7937d1e21e.jpg    0.998793\n",
       "2     001ee6d8564003107853118ab87df407.jpg    0.539933\n",
       "3     002e175c3c1e060769475f52182583d0.jpg    0.946666\n",
       "4     0036e44a7e8f7218e9bc7bf8137e4943.jpg    0.982142\n",
       "...                                    ...         ...\n",
       "3995  ffaafd0c9f2f0e73172848463bc2e523.jpg    0.995182\n",
       "3996  ffae37344310a1549162493237d25d3f.jpg    0.999762\n",
       "3997  ffbd469c56873d064326204aac546e0d.jpg    0.998172\n",
       "3998  ffcb76b7d47f29ece11c751e5f763f52.jpg    0.992326\n",
       "3999  fffed17d1a8e0433a934db518d7f532c.jpg    0.991943\n",
       "\n",
       "[4000 rows x 2 columns]"
      ]
     },
     "execution_count": 24,
     "metadata": {},
     "output_type": "execute_result"
    }
   ],
   "source": [
    "submission"
   ]
  },
  {
   "cell_type": "code",
   "execution_count": 25,
   "id": "respective-entertainment",
   "metadata": {
    "execution": {
     "iopub.execute_input": "2021-05-02T11:43:35.766041Z",
     "iopub.status.busy": "2021-05-02T11:43:35.764562Z",
     "iopub.status.idle": "2021-05-02T11:43:36.478487Z",
     "shell.execute_reply": "2021-05-02T11:43:36.477711Z"
    },
    "papermill": {
     "duration": 0.748908,
     "end_time": "2021-05-02T11:43:36.478642",
     "exception": false,
     "start_time": "2021-05-02T11:43:35.729734",
     "status": "completed"
    },
    "tags": []
   },
   "outputs": [],
   "source": [
    "import shutil\n",
    "\n",
    "shutil.rmtree('./train')\n",
    "shutil.rmtree('./test')"
   ]
  }
 ],
 "metadata": {
  "kernelspec": {
   "display_name": "Python 3",
   "language": "python",
   "name": "python3"
  },
  "language_info": {
   "codemirror_mode": {
    "name": "ipython",
    "version": 3
   },
   "file_extension": ".py",
   "mimetype": "text/x-python",
   "name": "python",
   "nbconvert_exporter": "python",
   "pygments_lexer": "ipython3",
   "version": "3.7.9"
  },
  "papermill": {
   "default_parameters": {},
   "duration": 194.667301,
   "end_time": "2021-05-02T11:43:37.319588",
   "environment_variables": {},
   "exception": null,
   "input_path": "__notebook__.ipynb",
   "output_path": "__notebook__.ipynb",
   "parameters": {},
   "start_time": "2021-05-02T11:40:22.652287",
   "version": "2.3.2"
  }
 },
 "nbformat": 4,
 "nbformat_minor": 5
}
