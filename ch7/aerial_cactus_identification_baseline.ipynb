{
 "cells": [
  {
   "cell_type": "code",
   "execution_count": 1,
   "id": "sublime-induction",
   "metadata": {
    "_uuid": "001d0b8a8b818c57a55fa4e20b5cae060a749cdc",
    "execution": {
     "iopub.execute_input": "2021-05-18T02:27:14.918003Z",
     "iopub.status.busy": "2021-05-18T02:27:14.917231Z",
     "iopub.status.idle": "2021-05-18T02:27:14.964754Z",
     "shell.execute_reply": "2021-05-18T02:27:14.963338Z"
    },
    "papermill": {
     "duration": 0.078403,
     "end_time": "2021-05-18T02:27:14.964939",
     "exception": false,
     "start_time": "2021-05-18T02:27:14.886536",
     "status": "completed"
    },
    "tags": []
   },
   "outputs": [],
   "source": [
    "import pandas as pd\n",
    "\n",
    "# 데이터 경로\n",
    "data_path = '/kaggle/input/aerial-cactus-identification/'\n",
    "\n",
    "labels = pd.read_csv(data_path + 'train.csv')\n",
    "submission = pd.read_csv(data_path + 'sample_submission.csv')"
   ]
  },
  {
   "cell_type": "code",
   "execution_count": 2,
   "id": "foster-robertson",
   "metadata": {
    "execution": {
     "iopub.execute_input": "2021-05-18T02:27:15.010667Z",
     "iopub.status.busy": "2021-05-18T02:27:15.009722Z",
     "iopub.status.idle": "2021-05-18T02:27:19.129270Z",
     "shell.execute_reply": "2021-05-18T02:27:19.130583Z"
    },
    "papermill": {
     "duration": 4.145515,
     "end_time": "2021-05-18T02:27:19.130885",
     "exception": false,
     "start_time": "2021-05-18T02:27:14.985370",
     "status": "completed"
    },
    "tags": []
   },
   "outputs": [],
   "source": [
    "from zipfile import ZipFile\n",
    "\n",
    "# 훈련 이미지 데이터 압축 풀기\n",
    "with ZipFile(data_path + 'train.zip') as zipper:\n",
    "    zipper.extractall()\n",
    "    \n",
    "# 테스트 이미지 데이터 압축 풀기\n",
    "with ZipFile(data_path + 'test.zip') as zipper:\n",
    "    zipper.extractall()"
   ]
  },
  {
   "cell_type": "code",
   "execution_count": 3,
   "id": "gorgeous-player",
   "metadata": {
    "execution": {
     "iopub.execute_input": "2021-05-18T02:27:19.210123Z",
     "iopub.status.busy": "2021-05-18T02:27:19.209147Z",
     "iopub.status.idle": "2021-05-18T02:27:20.928041Z",
     "shell.execute_reply": "2021-05-18T02:27:20.927267Z"
    },
    "papermill": {
     "duration": 1.762037,
     "end_time": "2021-05-18T02:27:20.928256",
     "exception": false,
     "start_time": "2021-05-18T02:27:19.166219",
     "status": "completed"
    },
    "tags": []
   },
   "outputs": [],
   "source": [
    "import torch # 파이토치 \n",
    "import random\n",
    "import numpy as np\n",
    "\n",
    "# 시드 값 고정\n",
    "def set_seed(seed):\n",
    "#     torch.use_deterministic_algorithms(True)\n",
    "    torch.backends.cudnn.deterministic = True\n",
    "    torch.backends.cudnn.benchmark = False\n",
    "    torch.manual_seed(seed)\n",
    "    torch.cuda.manual_seed_all(seed)\n",
    "    np.random.seed(seed)\n",
    "    random.seed(seed)\n",
    "\n",
    "set_seed(10)"
   ]
  },
  {
   "cell_type": "code",
   "execution_count": 4,
   "id": "vanilla-boston",
   "metadata": {
    "execution": {
     "iopub.execute_input": "2021-05-18T02:27:21.020680Z",
     "iopub.status.busy": "2021-05-18T02:27:21.019617Z",
     "iopub.status.idle": "2021-05-18T02:27:21.022850Z",
     "shell.execute_reply": "2021-05-18T02:27:21.023367Z"
    },
    "papermill": {
     "duration": 0.074406,
     "end_time": "2021-05-18T02:27:21.023601",
     "exception": false,
     "start_time": "2021-05-18T02:27:20.949195",
     "status": "completed"
    },
    "tags": []
   },
   "outputs": [],
   "source": [
    "if torch.cuda.is_available():\n",
    "    device = torch.device('cuda')\n",
    "else:\n",
    "    device = torch.device('cpu')"
   ]
  },
  {
   "cell_type": "code",
   "execution_count": 5,
   "id": "certified-grade",
   "metadata": {
    "execution": {
     "iopub.execute_input": "2021-05-18T02:27:21.075859Z",
     "iopub.status.busy": "2021-05-18T02:27:21.074075Z",
     "iopub.status.idle": "2021-05-18T02:27:21.079325Z",
     "shell.execute_reply": "2021-05-18T02:27:21.079905Z"
    },
    "papermill": {
     "duration": 0.035899,
     "end_time": "2021-05-18T02:27:21.080063",
     "exception": false,
     "start_time": "2021-05-18T02:27:21.044164",
     "status": "completed"
    },
    "tags": []
   },
   "outputs": [
    {
     "data": {
      "text/plain": [
       "device(type='cuda')"
      ]
     },
     "execution_count": 5,
     "metadata": {},
     "output_type": "execute_result"
    }
   ],
   "source": [
    "device"
   ]
  },
  {
   "cell_type": "code",
   "execution_count": 6,
   "id": "intended-period",
   "metadata": {
    "_uuid": "c07eab67e573c7de05e11065b5bafc1bbff284fb",
    "execution": {
     "iopub.execute_input": "2021-05-18T02:27:21.128873Z",
     "iopub.status.busy": "2021-05-18T02:27:21.127981Z",
     "iopub.status.idle": "2021-05-18T02:27:22.139827Z",
     "shell.execute_reply": "2021-05-18T02:27:22.140407Z"
    },
    "papermill": {
     "duration": 1.03982,
     "end_time": "2021-05-18T02:27:22.140637",
     "exception": false,
     "start_time": "2021-05-18T02:27:21.100817",
     "status": "completed"
    },
    "tags": []
   },
   "outputs": [],
   "source": [
    "from sklearn.model_selection import train_test_split\n",
    "\n",
    "# 훈련 데이터, 검증 데이터 분리\n",
    "train, valid = train_test_split(labels, \n",
    "                                test_size=0.1,\n",
    "                                stratify=labels['has_cactus'],\n",
    "                                random_state=10)"
   ]
  },
  {
   "cell_type": "code",
   "execution_count": 7,
   "id": "instructional-baptist",
   "metadata": {
    "execution": {
     "iopub.execute_input": "2021-05-18T02:27:22.188619Z",
     "iopub.status.busy": "2021-05-18T02:27:22.187491Z",
     "iopub.status.idle": "2021-05-18T02:27:22.194231Z",
     "shell.execute_reply": "2021-05-18T02:27:22.193433Z"
    },
    "papermill": {
     "duration": 0.031943,
     "end_time": "2021-05-18T02:27:22.194417",
     "exception": false,
     "start_time": "2021-05-18T02:27:22.162474",
     "status": "completed"
    },
    "tags": []
   },
   "outputs": [
    {
     "name": "stdout",
     "output_type": "stream",
     "text": [
      "훈련 데이터 개수: 15750\n",
      "검증 데이터 개수: 1750\n"
     ]
    }
   ],
   "source": [
    "print('훈련 데이터 개수:', len(train))\n",
    "print('검증 데이터 개수:', len(valid))"
   ]
  },
  {
   "cell_type": "code",
   "execution_count": 8,
   "id": "parliamentary-abuse",
   "metadata": {
    "_uuid": "1b05af8d59d9d5b092e96f72dfebb19591416de9",
    "execution": {
     "iopub.execute_input": "2021-05-18T02:27:22.246047Z",
     "iopub.status.busy": "2021-05-18T02:27:22.245280Z",
     "iopub.status.idle": "2021-05-18T02:27:22.529091Z",
     "shell.execute_reply": "2021-05-18T02:27:22.528411Z"
    },
    "papermill": {
     "duration": 0.313461,
     "end_time": "2021-05-18T02:27:22.529276",
     "exception": false,
     "start_time": "2021-05-18T02:27:22.215815",
     "status": "completed"
    },
    "tags": []
   },
   "outputs": [],
   "source": [
    "import cv2 # OpenCV 라이브러리\n",
    "from torch.utils.data import Dataset # 데이터 생성을 위한 클래스\n",
    "\n",
    "class ImageDataset(Dataset):\n",
    "    # 초기화 메서드(생성자) ---①\n",
    "    def __init__(self, df, img_dir = './', transform=None):\n",
    "        super().__init__() # 상속받은 Dataset의 __init__() 메서드 호출 ---②\n",
    "        self.df = df\n",
    "        self.img_dir = img_dir\n",
    "        self.transform = transform\n",
    "    \n",
    "    # 데이터 세트 크기 반환 메서드 ---③\n",
    "    def __len__(self):\n",
    "        return len(self.df)\n",
    "    \n",
    "    # 인덱스(idx)에 해당하는 데이터 반환 메서드 ---④\n",
    "    def __getitem__(self, idx):\n",
    "        img_path = self.img_dir + self.df.iloc[idx, 0] # 이미지 파일 경로 \n",
    "        image = cv2.imread(img_path) # 이미지 파일 읽기 \n",
    "        image = cv2.cvtColor(image, cv2.COLOR_BGR2RGB) # 이미지 색상 보정\n",
    "        label = self.df.iloc[idx, 1] # 이미지 레이블(타깃 값)\n",
    "        # 이미지 변환\n",
    "        if self.transform is not None:\n",
    "            image = self.transform(image)\n",
    "        return image, label"
   ]
  },
  {
   "cell_type": "code",
   "execution_count": 9,
   "id": "quiet-strain",
   "metadata": {
    "execution": {
     "iopub.execute_input": "2021-05-18T02:27:22.577781Z",
     "iopub.status.busy": "2021-05-18T02:27:22.576881Z",
     "iopub.status.idle": "2021-05-18T02:27:22.751912Z",
     "shell.execute_reply": "2021-05-18T02:27:22.750955Z"
    },
    "papermill": {
     "duration": 0.201061,
     "end_time": "2021-05-18T02:27:22.752084",
     "exception": false,
     "start_time": "2021-05-18T02:27:22.551023",
     "status": "completed"
    },
    "tags": []
   },
   "outputs": [],
   "source": [
    "import torchvision.transforms as transforms # 이미지 변환을 위한 모듈\n",
    "\n",
    "transform = transforms.ToTensor()"
   ]
  },
  {
   "cell_type": "code",
   "execution_count": 10,
   "id": "bearing-luxembourg",
   "metadata": {
    "execution": {
     "iopub.execute_input": "2021-05-18T02:27:22.801829Z",
     "iopub.status.busy": "2021-05-18T02:27:22.800937Z",
     "iopub.status.idle": "2021-05-18T02:27:22.804366Z",
     "shell.execute_reply": "2021-05-18T02:27:22.804890Z"
    },
    "papermill": {
     "duration": 0.030673,
     "end_time": "2021-05-18T02:27:22.805048",
     "exception": false,
     "start_time": "2021-05-18T02:27:22.774375",
     "status": "completed"
    },
    "tags": []
   },
   "outputs": [],
   "source": [
    "dataset_train = ImageDataset(df=train, img_dir='train/', transform=transform)\n",
    "dataset_valid = ImageDataset(df=valid, img_dir='train/', transform=transform)"
   ]
  },
  {
   "cell_type": "code",
   "execution_count": 11,
   "id": "critical-driver",
   "metadata": {
    "_uuid": "c247391c28497ad35c72f5218398ea71f2d0d5ff",
    "execution": {
     "iopub.execute_input": "2021-05-18T02:27:22.854656Z",
     "iopub.status.busy": "2021-05-18T02:27:22.853550Z",
     "iopub.status.idle": "2021-05-18T02:27:22.857357Z",
     "shell.execute_reply": "2021-05-18T02:27:22.856775Z"
    },
    "papermill": {
     "duration": 0.030762,
     "end_time": "2021-05-18T02:27:22.857517",
     "exception": false,
     "start_time": "2021-05-18T02:27:22.826755",
     "status": "completed"
    },
    "tags": []
   },
   "outputs": [],
   "source": [
    "from torch.utils.data import DataLoader # 데이터 로더 생성을 위한 클래스\n",
    "\n",
    "loader_train = DataLoader(dataset=dataset_train, batch_size=64, \n",
    "                          shuffle=True)\n",
    "loader_valid = DataLoader(dataset=dataset_valid, batch_size=64, \n",
    "                          shuffle=False)"
   ]
  },
  {
   "cell_type": "code",
   "execution_count": 12,
   "id": "native-secret",
   "metadata": {
    "_uuid": "0a2d5600bc2eb915ec0bdf5b52ba11e25096f7d0",
    "execution": {
     "iopub.execute_input": "2021-05-18T02:27:22.912026Z",
     "iopub.status.busy": "2021-05-18T02:27:22.910943Z",
     "iopub.status.idle": "2021-05-18T02:27:22.914709Z",
     "shell.execute_reply": "2021-05-18T02:27:22.914111Z"
    },
    "papermill": {
     "duration": 0.035776,
     "end_time": "2021-05-18T02:27:22.914865",
     "exception": false,
     "start_time": "2021-05-18T02:27:22.879089",
     "status": "completed"
    },
    "tags": []
   },
   "outputs": [],
   "source": [
    "import torch.nn as nn # 신경망 모듈\n",
    "import torch.nn.functional as F # 신경망 모듈에서 자주 사용되는 함수\n",
    "\n",
    "class Model(nn.Module):\n",
    "    # 신경망 계층 정의 ---①\n",
    "    def __init__(self):\n",
    "        super().__init__() # 상속받은 nn.Module의 __init__() 메서드 호출\n",
    "        # 첫 번째 합성곱 계층 ---②\n",
    "        self.conv1 = nn.Conv2d(in_channels=3, out_channels=32, \n",
    "                               kernel_size=3, padding=2) \n",
    "        # 두 번째 합성곱 계층 ---③\n",
    "        self.conv2 = nn.Conv2d(in_channels=32, out_channels=64, \n",
    "                               kernel_size=3, padding=2) \n",
    "        # 최대 풀링 계층 ---④\n",
    "        self.max_pool = nn.MaxPool2d(kernel_size=2) \n",
    "        # 평균 풀링 계층 ---⑤\n",
    "        self.avg_pool = nn.AvgPool2d(kernel_size=2) \n",
    "        # 전결합 계층 ---⑥\n",
    "        self.fc = nn.Linear(in_features=64 * 4 * 4, out_features=2)\n",
    "        \n",
    "    # 순전파 출력 정의 ---⑦\n",
    "    def forward(self, x):\n",
    "        x = self.max_pool(F.relu(self.conv1(x)))\n",
    "        x = self.max_pool(F.relu(self.conv2(x)))\n",
    "        x = self.avg_pool(x)\n",
    "        x = x.view(-1, 64 * 4 * 4) # 평탄화\n",
    "        x = self.fc(x)\n",
    "        return x"
   ]
  },
  {
   "cell_type": "code",
   "execution_count": 13,
   "id": "dietary-rally",
   "metadata": {
    "execution": {
     "iopub.execute_input": "2021-05-18T02:27:22.964541Z",
     "iopub.status.busy": "2021-05-18T02:27:22.963404Z",
     "iopub.status.idle": "2021-05-18T02:27:22.967323Z",
     "shell.execute_reply": "2021-05-18T02:27:22.966648Z"
    },
    "papermill": {
     "duration": 0.030483,
     "end_time": "2021-05-18T02:27:22.967491",
     "exception": false,
     "start_time": "2021-05-18T02:27:22.937008",
     "status": "completed"
    },
    "tags": []
   },
   "outputs": [],
   "source": [
    "# class Model(nn.Module):\n",
    "#     def __init__(self):\n",
    "#         super().__init__() \n",
    "#         # 첫 번째 합성곱, 최대 풀링 계층\n",
    "#         self.layer1 = nn.Sequential(nn.Conv2d(in_channels=3, \n",
    "#                                               out_channels=32, \n",
    "#                                               kernel_size=3, \n",
    "#                                               padding=2),\n",
    "#                                     nn.ReLU(),\n",
    "#                                     nn.MaxPool2d(kernel_size=2))\n",
    "#         # 두 번째 합성곱, 최대 풀링 계층\n",
    "#         self.layer2 = nn.Sequential(nn.Conv2d(in_channels=32, \n",
    "#                                               out_channels=64, \n",
    "#                                               kernel_size=3, \n",
    "#                                               padding=2),\n",
    "#                                     nn.ReLU(),\n",
    "#                                     nn.MaxPool2d(kernel_size=2))\n",
    "#         # 평균 풀링 계층\n",
    "#         self.avg_pool = nn.AvgPool2d(kernel_size=2) \n",
    "#         # 전결합 계층\n",
    "#         self.fc = nn.Linear(in_features=64 * 4 * 4, out_features=2)\n",
    "        \n",
    "#     # 순전파 출력 정의\n",
    "#     def forward(self, x):\n",
    "#         x = self.layer1(x)\n",
    "#         x = self.layer2(x)\n",
    "#         x = self.avg_pool(x)\n",
    "#         x = x.view(-1, 64 * 4 * 4) # 평탄화\n",
    "#         x = self.fc(x)\n",
    "#         return x"
   ]
  },
  {
   "cell_type": "code",
   "execution_count": 14,
   "id": "equipped-democracy",
   "metadata": {
    "_cell_guid": "79c7e3d0-c299-4dcb-8224-4455121ee9b0",
    "_uuid": "d629ff2d2480ee46fbb7e2d37f6b5fab8052498a",
    "execution": {
     "iopub.execute_input": "2021-05-18T02:27:23.016804Z",
     "iopub.status.busy": "2021-05-18T02:27:23.015893Z",
     "iopub.status.idle": "2021-05-18T02:27:27.888878Z",
     "shell.execute_reply": "2021-05-18T02:27:27.887928Z"
    },
    "papermill": {
     "duration": 4.899482,
     "end_time": "2021-05-18T02:27:27.889028",
     "exception": false,
     "start_time": "2021-05-18T02:27:22.989546",
     "status": "completed"
    },
    "tags": []
   },
   "outputs": [
    {
     "data": {
      "text/plain": [
       "Model(\n",
       "  (conv1): Conv2d(3, 32, kernel_size=(3, 3), stride=(1, 1), padding=(2, 2))\n",
       "  (conv2): Conv2d(32, 64, kernel_size=(3, 3), stride=(1, 1), padding=(2, 2))\n",
       "  (max_pool): MaxPool2d(kernel_size=2, stride=2, padding=0, dilation=1, ceil_mode=False)\n",
       "  (avg_pool): AvgPool2d(kernel_size=2, stride=2, padding=0)\n",
       "  (fc): Linear(in_features=1024, out_features=2, bias=True)\n",
       ")"
      ]
     },
     "execution_count": 14,
     "metadata": {},
     "output_type": "execute_result"
    }
   ],
   "source": [
    "model = Model().to(device)\n",
    "\n",
    "model"
   ]
  },
  {
   "cell_type": "code",
   "execution_count": 15,
   "id": "fiscal-boulder",
   "metadata": {
    "execution": {
     "iopub.execute_input": "2021-05-18T02:27:27.938895Z",
     "iopub.status.busy": "2021-05-18T02:27:27.937874Z",
     "iopub.status.idle": "2021-05-18T02:27:27.941775Z",
     "shell.execute_reply": "2021-05-18T02:27:27.941159Z"
    },
    "papermill": {
     "duration": 0.030355,
     "end_time": "2021-05-18T02:27:27.941940",
     "exception": false,
     "start_time": "2021-05-18T02:27:27.911585",
     "status": "completed"
    },
    "tags": []
   },
   "outputs": [],
   "source": [
    "# 손실함수\n",
    "criterion = nn.CrossEntropyLoss()"
   ]
  },
  {
   "cell_type": "code",
   "execution_count": 16,
   "id": "noted-register",
   "metadata": {
    "_uuid": "fceb2929d8750acb2de745cd9ff3d2d458820df8",
    "execution": {
     "iopub.execute_input": "2021-05-18T02:27:27.991371Z",
     "iopub.status.busy": "2021-05-18T02:27:27.990482Z",
     "iopub.status.idle": "2021-05-18T02:27:27.994313Z",
     "shell.execute_reply": "2021-05-18T02:27:27.993695Z"
    },
    "papermill": {
     "duration": 0.030564,
     "end_time": "2021-05-18T02:27:27.994469",
     "exception": false,
     "start_time": "2021-05-18T02:27:27.963905",
     "status": "completed"
    },
    "tags": []
   },
   "outputs": [],
   "source": [
    "# 옵티마이저\n",
    "optimizer = torch.optim.SGD(model.parameters(), lr=0.01)"
   ]
  },
  {
   "cell_type": "code",
   "execution_count": 17,
   "id": "selective-sarah",
   "metadata": {
    "execution": {
     "iopub.execute_input": "2021-05-18T02:27:28.046705Z",
     "iopub.status.busy": "2021-05-18T02:27:28.045507Z",
     "iopub.status.idle": "2021-05-18T02:27:28.050702Z",
     "shell.execute_reply": "2021-05-18T02:27:28.049972Z"
    },
    "papermill": {
     "duration": 0.033128,
     "end_time": "2021-05-18T02:27:28.050839",
     "exception": false,
     "start_time": "2021-05-18T02:27:28.017711",
     "status": "completed"
    },
    "tags": []
   },
   "outputs": [
    {
     "data": {
      "text/plain": [
       "247"
      ]
     },
     "execution_count": 17,
     "metadata": {},
     "output_type": "execute_result"
    }
   ],
   "source": [
    "import math\n",
    "\n",
    "math.ceil(len(train) / 64)"
   ]
  },
  {
   "cell_type": "code",
   "execution_count": 18,
   "id": "sized-horror",
   "metadata": {
    "execution": {
     "iopub.execute_input": "2021-05-18T02:27:28.102609Z",
     "iopub.status.busy": "2021-05-18T02:27:28.101350Z",
     "iopub.status.idle": "2021-05-18T02:27:28.106464Z",
     "shell.execute_reply": "2021-05-18T02:27:28.105760Z"
    },
    "papermill": {
     "duration": 0.032369,
     "end_time": "2021-05-18T02:27:28.106620",
     "exception": false,
     "start_time": "2021-05-18T02:27:28.074251",
     "status": "completed"
    },
    "tags": []
   },
   "outputs": [
    {
     "data": {
      "text/plain": [
       "247"
      ]
     },
     "execution_count": 18,
     "metadata": {},
     "output_type": "execute_result"
    }
   ],
   "source": [
    "len(loader_train)"
   ]
  },
  {
   "cell_type": "code",
   "execution_count": 19,
   "id": "bearing-probability",
   "metadata": {
    "_uuid": "2c37417ae6b62ab4551bc8a888916ca1e591d284",
    "execution": {
     "iopub.execute_input": "2021-05-18T02:27:28.163602Z",
     "iopub.status.busy": "2021-05-18T02:27:28.162816Z",
     "iopub.status.idle": "2021-05-18T02:28:28.759041Z",
     "shell.execute_reply": "2021-05-18T02:28:28.759705Z"
    },
    "papermill": {
     "duration": 60.629927,
     "end_time": "2021-05-18T02:28:28.759920",
     "exception": false,
     "start_time": "2021-05-18T02:27:28.129993",
     "status": "completed"
    },
    "tags": []
   },
   "outputs": [
    {
     "name": "stdout",
     "output_type": "stream",
     "text": [
      "에폭: [1/10], 손실값: 0.5219\n",
      "에폭: [2/10], 손실값: 0.2068\n",
      "에폭: [3/10], 손실값: 0.1034\n",
      "에폭: [4/10], 손실값: 0.2362\n",
      "에폭: [5/10], 손실값: 0.5990\n",
      "에폭: [6/10], 손실값: 0.2044\n",
      "에폭: [7/10], 손실값: 0.1423\n",
      "에폭: [8/10], 손실값: 0.1765\n",
      "에폭: [9/10], 손실값: 0.5285\n",
      "에폭: [10/10], 손실값: 0.0410\n"
     ]
    }
   ],
   "source": [
    "epochs = 10 # 총 에폭\n",
    "\n",
    "# 총 10에폭만큼 훈련 ---①\n",
    "for epoch in range(epochs):\n",
    "    # 미니배치 크기만큼 데이터를 추출하는 작업을 '반복 횟수'만큼 반복 ---②\n",
    "    for i, (images, labels) in enumerate(loader_train):\n",
    "        # 이미지, 레이블 데이터 미니배치를 장비에 할당 ---③\n",
    "        images = images.to(device)\n",
    "        labels = labels.to(device)\n",
    "\n",
    "        # 옵티마이저 내 기울기 초기화 ---④\n",
    "        optimizer.zero_grad()\n",
    "        # 이미지 데이터를 신경망 모델의 입력값으로 사용해 출력값 계산 ---⑤\n",
    "        outputs = model(images)\n",
    "        # 기존에 정의한 손실함수를 활용해 outputs와 labels의 손실값 계산 ---⑥\n",
    "        loss = criterion(outputs, labels)\n",
    "        # 오차 역전파 수행 ---⑦\n",
    "        loss.backward()\n",
    "        # 가중치 갱신 ---⑧\n",
    "        optimizer.step()\n",
    "        \n",
    "    print (f'에폭: [{epoch+1}/{epochs}], 손실값: {loss.item():.4f}')"
   ]
  },
  {
   "cell_type": "code",
   "execution_count": 20,
   "id": "focused-exclusive",
   "metadata": {
    "execution": {
     "iopub.execute_input": "2021-05-18T02:28:28.824920Z",
     "iopub.status.busy": "2021-05-18T02:28:28.823651Z",
     "iopub.status.idle": "2021-05-18T02:28:29.476739Z",
     "shell.execute_reply": "2021-05-18T02:28:29.477314Z"
    },
    "papermill": {
     "duration": 0.689817,
     "end_time": "2021-05-18T02:28:29.477539",
     "exception": false,
     "start_time": "2021-05-18T02:28:28.787722",
     "status": "completed"
    },
    "tags": []
   },
   "outputs": [
    {
     "name": "stdout",
     "output_type": "stream",
     "text": [
      "검증 데이터 ROC AUC : 0.9862551315167987\n"
     ]
    }
   ],
   "source": [
    "from sklearn.metrics import roc_auc_score # ROC AUC 점수 계산 함수\n",
    "\n",
    "roc_auc = 0 # ROC AUC 초기화\n",
    "\n",
    "model.eval() # 모델을 평가 상태로 설정 ---①\n",
    "\n",
    "with torch.no_grad(): # 기울기 계산 비활성 ---②\n",
    "    for images, labels in loader_valid:\n",
    "        # 이미지, 레이블 데이터 미니배치를 장비에 할당 \n",
    "        images = images.to(device)\n",
    "        labels = labels.to(device)\n",
    "        # 이미지 데이터를 신경망 모델의 입력값으로 사용해 출력값 계산\n",
    "        outputs = model(images)\n",
    "        preds = torch.softmax(outputs.cpu(), dim=1)[:, 1] # 예측 확률값 ---③\n",
    "        true = labels.cpu() # 실제 값 ---④\n",
    "        # 검증 데이터 ROC AUC 점수 계산 ---⑤\n",
    "        roc_auc += roc_auc_score(true, preds) / len(loader_valid)\n",
    "\n",
    "    print(f'검증 데이터 ROC AUC : {roc_auc}')"
   ]
  },
  {
   "cell_type": "code",
   "execution_count": 21,
   "id": "excellent-corps",
   "metadata": {
    "_uuid": "870413a60281e0c4115fbc7cf192508e15a9e269",
    "execution": {
     "iopub.execute_input": "2021-05-18T02:28:29.539417Z",
     "iopub.status.busy": "2021-05-18T02:28:29.538532Z",
     "iopub.status.idle": "2021-05-18T02:28:29.543075Z",
     "shell.execute_reply": "2021-05-18T02:28:29.542497Z"
    },
    "papermill": {
     "duration": 0.037131,
     "end_time": "2021-05-18T02:28:29.543217",
     "exception": false,
     "start_time": "2021-05-18T02:28:29.506086",
     "status": "completed"
    },
    "tags": []
   },
   "outputs": [],
   "source": [
    "dataset_test = ImageDataset(df=submission, img_dir='test/', transform=transform)\n",
    "loader_test = DataLoader(dataset=dataset_test, batch_size=64, \n",
    "                         shuffle=False)"
   ]
  },
  {
   "cell_type": "code",
   "execution_count": 22,
   "id": "obvious-delivery",
   "metadata": {
    "execution": {
     "iopub.execute_input": "2021-05-18T02:28:29.606890Z",
     "iopub.status.busy": "2021-05-18T02:28:29.605542Z",
     "iopub.status.idle": "2021-05-18T02:28:30.953028Z",
     "shell.execute_reply": "2021-05-18T02:28:30.952391Z"
    },
    "papermill": {
     "duration": 1.382048,
     "end_time": "2021-05-18T02:28:30.953277",
     "exception": false,
     "start_time": "2021-05-18T02:28:29.571229",
     "status": "completed"
    },
    "tags": []
   },
   "outputs": [],
   "source": [
    "model.eval() # 모델을 평가 상태로 설정\n",
    "\n",
    "preds = [] # 타깃 예측 값 저장용 변수 초기화 ---①\n",
    "\n",
    "with torch.no_grad(): # 기울기 계산 비활성\n",
    "    for images, _ in loader_test:\n",
    "        # 이미지 데이터 미니배치를 장비에 할당\n",
    "        images = images.to(device)\n",
    "        # 이미지 데이터를 신경망 모델의 입력값으로 사용해 출력값 계산\n",
    "        outputs = model(images)\n",
    "        # 타깃 값이 1일 확률(예측 값) ---②\n",
    "        preds_temp = torch.softmax(outputs.cpu(), dim=1)[:, 1].tolist()\n",
    "        # preds에 preds_temp 이어붙이기 ---③\n",
    "        preds.extend(preds_temp)"
   ]
  },
  {
   "cell_type": "code",
   "execution_count": 23,
   "id": "commercial-spray",
   "metadata": {
    "execution": {
     "iopub.execute_input": "2021-05-18T02:28:31.016779Z",
     "iopub.status.busy": "2021-05-18T02:28:31.015943Z",
     "iopub.status.idle": "2021-05-18T02:28:31.216696Z",
     "shell.execute_reply": "2021-05-18T02:28:31.216022Z"
    },
    "papermill": {
     "duration": 0.234754,
     "end_time": "2021-05-18T02:28:31.216874",
     "exception": false,
     "start_time": "2021-05-18T02:28:30.982120",
     "status": "completed"
    },
    "tags": []
   },
   "outputs": [],
   "source": [
    "submission['has_cactus'] = preds\n",
    "submission.to_csv('submission.csv', index=False)"
   ]
  },
  {
   "cell_type": "code",
   "execution_count": 24,
   "id": "established-advocate",
   "metadata": {
    "execution": {
     "iopub.execute_input": "2021-05-18T02:28:31.286536Z",
     "iopub.status.busy": "2021-05-18T02:28:31.282936Z",
     "iopub.status.idle": "2021-05-18T02:28:31.297801Z",
     "shell.execute_reply": "2021-05-18T02:28:31.298346Z"
    },
    "papermill": {
     "duration": 0.052445,
     "end_time": "2021-05-18T02:28:31.298537",
     "exception": false,
     "start_time": "2021-05-18T02:28:31.246092",
     "status": "completed"
    },
    "tags": []
   },
   "outputs": [
    {
     "data": {
      "text/html": [
       "<div>\n",
       "<style scoped>\n",
       "    .dataframe tbody tr th:only-of-type {\n",
       "        vertical-align: middle;\n",
       "    }\n",
       "\n",
       "    .dataframe tbody tr th {\n",
       "        vertical-align: top;\n",
       "    }\n",
       "\n",
       "    .dataframe thead th {\n",
       "        text-align: right;\n",
       "    }\n",
       "</style>\n",
       "<table border=\"1\" class=\"dataframe\">\n",
       "  <thead>\n",
       "    <tr style=\"text-align: right;\">\n",
       "      <th></th>\n",
       "      <th>id</th>\n",
       "      <th>has_cactus</th>\n",
       "    </tr>\n",
       "  </thead>\n",
       "  <tbody>\n",
       "    <tr>\n",
       "      <th>0</th>\n",
       "      <td>000940378805c44108d287872b2f04ce.jpg</td>\n",
       "      <td>0.982228</td>\n",
       "    </tr>\n",
       "    <tr>\n",
       "      <th>1</th>\n",
       "      <td>0017242f54ececa4512b4d7937d1e21e.jpg</td>\n",
       "      <td>0.999730</td>\n",
       "    </tr>\n",
       "    <tr>\n",
       "      <th>2</th>\n",
       "      <td>001ee6d8564003107853118ab87df407.jpg</td>\n",
       "      <td>0.113825</td>\n",
       "    </tr>\n",
       "    <tr>\n",
       "      <th>3</th>\n",
       "      <td>002e175c3c1e060769475f52182583d0.jpg</td>\n",
       "      <td>0.364750</td>\n",
       "    </tr>\n",
       "    <tr>\n",
       "      <th>4</th>\n",
       "      <td>0036e44a7e8f7218e9bc7bf8137e4943.jpg</td>\n",
       "      <td>0.949532</td>\n",
       "    </tr>\n",
       "    <tr>\n",
       "      <th>...</th>\n",
       "      <td>...</td>\n",
       "      <td>...</td>\n",
       "    </tr>\n",
       "    <tr>\n",
       "      <th>3995</th>\n",
       "      <td>ffaafd0c9f2f0e73172848463bc2e523.jpg</td>\n",
       "      <td>0.989928</td>\n",
       "    </tr>\n",
       "    <tr>\n",
       "      <th>3996</th>\n",
       "      <td>ffae37344310a1549162493237d25d3f.jpg</td>\n",
       "      <td>0.999928</td>\n",
       "    </tr>\n",
       "    <tr>\n",
       "      <th>3997</th>\n",
       "      <td>ffbd469c56873d064326204aac546e0d.jpg</td>\n",
       "      <td>0.998974</td>\n",
       "    </tr>\n",
       "    <tr>\n",
       "      <th>3998</th>\n",
       "      <td>ffcb76b7d47f29ece11c751e5f763f52.jpg</td>\n",
       "      <td>0.990885</td>\n",
       "    </tr>\n",
       "    <tr>\n",
       "      <th>3999</th>\n",
       "      <td>fffed17d1a8e0433a934db518d7f532c.jpg</td>\n",
       "      <td>0.960124</td>\n",
       "    </tr>\n",
       "  </tbody>\n",
       "</table>\n",
       "<p>4000 rows × 2 columns</p>\n",
       "</div>"
      ],
      "text/plain": [
       "                                        id  has_cactus\n",
       "0     000940378805c44108d287872b2f04ce.jpg    0.982228\n",
       "1     0017242f54ececa4512b4d7937d1e21e.jpg    0.999730\n",
       "2     001ee6d8564003107853118ab87df407.jpg    0.113825\n",
       "3     002e175c3c1e060769475f52182583d0.jpg    0.364750\n",
       "4     0036e44a7e8f7218e9bc7bf8137e4943.jpg    0.949532\n",
       "...                                    ...         ...\n",
       "3995  ffaafd0c9f2f0e73172848463bc2e523.jpg    0.989928\n",
       "3996  ffae37344310a1549162493237d25d3f.jpg    0.999928\n",
       "3997  ffbd469c56873d064326204aac546e0d.jpg    0.998974\n",
       "3998  ffcb76b7d47f29ece11c751e5f763f52.jpg    0.990885\n",
       "3999  fffed17d1a8e0433a934db518d7f532c.jpg    0.960124\n",
       "\n",
       "[4000 rows x 2 columns]"
      ]
     },
     "execution_count": 24,
     "metadata": {},
     "output_type": "execute_result"
    }
   ],
   "source": [
    "submission"
   ]
  },
  {
   "cell_type": "code",
   "execution_count": 25,
   "id": "deluxe-spray",
   "metadata": {
    "execution": {
     "iopub.execute_input": "2021-05-18T02:28:31.364347Z",
     "iopub.status.busy": "2021-05-18T02:28:31.363259Z",
     "iopub.status.idle": "2021-05-18T02:28:32.069006Z",
     "shell.execute_reply": "2021-05-18T02:28:32.068352Z"
    },
    "papermill": {
     "duration": 0.740514,
     "end_time": "2021-05-18T02:28:32.069202",
     "exception": false,
     "start_time": "2021-05-18T02:28:31.328688",
     "status": "completed"
    },
    "tags": []
   },
   "outputs": [],
   "source": [
    "import shutil\n",
    "\n",
    "shutil.rmtree('./train')\n",
    "shutil.rmtree('./test')"
   ]
  }
 ],
 "metadata": {
  "kernelspec": {
   "display_name": "Python 3",
   "language": "python",
   "name": "python3"
  },
  "language_info": {
   "codemirror_mode": {
    "name": "ipython",
    "version": 3
   },
   "file_extension": ".py",
   "mimetype": "text/x-python",
   "name": "python",
   "nbconvert_exporter": "python",
   "pygments_lexer": "ipython3",
   "version": "3.7.9"
  },
  "papermill": {
   "default_parameters": {},
   "duration": 84.314051,
   "end_time": "2021-05-18T02:28:33.110520",
   "environment_variables": {},
   "exception": null,
   "input_path": "__notebook__.ipynb",
   "output_path": "__notebook__.ipynb",
   "parameters": {},
   "start_time": "2021-05-18T02:27:08.796469",
   "version": "2.3.2"
  }
 },
 "nbformat": 4,
 "nbformat_minor": 5
}
