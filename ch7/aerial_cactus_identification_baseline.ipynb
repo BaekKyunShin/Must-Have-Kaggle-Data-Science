{
 "cells": [
  {
   "cell_type": "markdown",
   "id": "established-guatemala",
   "metadata": {
    "papermill": {
     "duration": 0.024292,
     "end_time": "2021-06-29T14:29:10.678835",
     "exception": false,
     "start_time": "2021-06-29T14:29:10.654543",
     "status": "completed"
    },
    "tags": []
   },
   "source": [
    "# 7.3 항공 사진 내 선인장 식별 경진대회 베이스라인 모델\n",
    "- [항공 사진 내 선인장 식별 경진대회 링크](https://www.kaggle.com/c/aerial-cactus-identification)\n",
    "- [베이스라인 코드 참고 링크](https://www.kaggle.com/bonhart/simple-cnn-on-pytorch-for-beginers)"
   ]
  },
  {
   "cell_type": "code",
   "execution_count": 1,
   "id": "split-silence",
   "metadata": {
    "execution": {
     "iopub.execute_input": "2021-06-29T14:29:10.734771Z",
     "iopub.status.busy": "2021-06-29T14:29:10.734232Z",
     "iopub.status.idle": "2021-06-29T14:29:10.780546Z",
     "shell.execute_reply": "2021-06-29T14:29:10.779848Z",
     "shell.execute_reply.started": "2021-06-29T13:50:58.481495Z"
    },
    "papermill": {
     "duration": 0.079095,
     "end_time": "2021-06-29T14:29:10.780715",
     "exception": false,
     "start_time": "2021-06-29T14:29:10.701620",
     "status": "completed"
    },
    "tags": []
   },
   "outputs": [],
   "source": [
    "import pandas as pd\n",
    "\n",
    "# 데이터 경로\n",
    "data_path = '/kaggle/input/aerial-cactus-identification/'\n",
    "\n",
    "labels = pd.read_csv(data_path + 'train.csv')\n",
    "submission = pd.read_csv(data_path + 'sample_submission.csv')"
   ]
  },
  {
   "cell_type": "code",
   "execution_count": 2,
   "id": "cubic-right",
   "metadata": {
    "execution": {
     "iopub.execute_input": "2021-06-29T14:29:10.832692Z",
     "iopub.status.busy": "2021-06-29T14:29:10.832103Z",
     "iopub.status.idle": "2021-06-29T14:29:13.574484Z",
     "shell.execute_reply": "2021-06-29T14:29:13.573570Z",
     "shell.execute_reply.started": "2021-06-29T13:50:58.555253Z"
    },
    "papermill": {
     "duration": 2.769569,
     "end_time": "2021-06-29T14:29:13.574619",
     "exception": false,
     "start_time": "2021-06-29T14:29:10.805050",
     "status": "completed"
    },
    "tags": []
   },
   "outputs": [],
   "source": [
    "from zipfile import ZipFile\n",
    "\n",
    "# 훈련 이미지 데이터 압축 풀기\n",
    "with ZipFile(data_path + 'train.zip') as zipper:\n",
    "    zipper.extractall()\n",
    "    \n",
    "# 테스트 이미지 데이터 압 풀기\n",
    "with ZipFile(data_path + 'test.zip') as zipper:\n",
    "    zipper.extractall()"
   ]
  },
  {
   "cell_type": "markdown",
   "id": "driving-point",
   "metadata": {
    "papermill": {
     "duration": 0.023107,
     "end_time": "2021-06-29T14:29:13.620972",
     "exception": false,
     "start_time": "2021-06-29T14:29:13.597865",
     "status": "completed"
    },
    "tags": []
   },
   "source": [
    "## 7.3.1 시드 값 고정 및 GPU 장비 설정"
   ]
  },
  {
   "cell_type": "markdown",
   "id": "consecutive-spread",
   "metadata": {
    "papermill": {
     "duration": 0.023927,
     "end_time": "2021-06-29T14:29:13.668056",
     "exception": false,
     "start_time": "2021-06-29T14:29:13.644129",
     "status": "completed"
    },
    "tags": []
   },
   "source": [
    "### 시드 값 고정"
   ]
  },
  {
   "cell_type": "code",
   "execution_count": 3,
   "id": "stainless-alert",
   "metadata": {
    "execution": {
     "iopub.execute_input": "2021-06-29T14:29:13.719038Z",
     "iopub.status.busy": "2021-06-29T14:29:13.718403Z",
     "iopub.status.idle": "2021-06-29T14:29:14.678407Z",
     "shell.execute_reply": "2021-06-29T14:29:14.679627Z",
     "shell.execute_reply.started": "2021-06-29T13:51:01.271798Z"
    },
    "papermill": {
     "duration": 0.989298,
     "end_time": "2021-06-29T14:29:14.679998",
     "exception": false,
     "start_time": "2021-06-29T14:29:13.690700",
     "status": "completed"
    },
    "tags": []
   },
   "outputs": [],
   "source": [
    "import torch # 파이토치 \n",
    "import random\n",
    "import numpy as np\n",
    "import os\n",
    "\n",
    "# 시드 값 고정\n",
    "seed = 10\n",
    "\n",
    "os.environ['PYTHONHASHSEED'] = str(seed)\n",
    "random.seed(seed)\n",
    "np.random.seed(seed)\n",
    "torch.manual_seed(seed)\n",
    "torch.cuda.manual_seed(seed)\n",
    "torch.cuda.manual_seed_all(seed)\n",
    "torch.backends.cudnn.deterministic = True\n",
    "torch.backends.cudnn.benchmark = False\n",
    "torch.backends.cudnn.enabled = False"
   ]
  },
  {
   "cell_type": "markdown",
   "id": "magnetic-offset",
   "metadata": {
    "papermill": {
     "duration": 0.04485,
     "end_time": "2021-06-29T14:29:14.766807",
     "exception": false,
     "start_time": "2021-06-29T14:29:14.721957",
     "status": "completed"
    },
    "tags": []
   },
   "source": [
    "### GPU 장비 설정"
   ]
  },
  {
   "cell_type": "code",
   "execution_count": 4,
   "id": "established-building",
   "metadata": {
    "execution": {
     "iopub.execute_input": "2021-06-29T14:29:14.925420Z",
     "iopub.status.busy": "2021-06-29T14:29:14.924622Z",
     "iopub.status.idle": "2021-06-29T14:29:14.930888Z",
     "shell.execute_reply": "2021-06-29T14:29:14.931879Z",
     "shell.execute_reply.started": "2021-06-29T13:51:02.886777Z"
    },
    "papermill": {
     "duration": 0.121979,
     "end_time": "2021-06-29T14:29:14.932544",
     "exception": false,
     "start_time": "2021-06-29T14:29:14.810565",
     "status": "completed"
    },
    "tags": []
   },
   "outputs": [],
   "source": [
    "device = torch.device('cuda' if torch.cuda.is_available() else 'cpu')"
   ]
  },
  {
   "cell_type": "code",
   "execution_count": 5,
   "id": "objective-destruction",
   "metadata": {
    "execution": {
     "iopub.execute_input": "2021-06-29T14:29:15.024399Z",
     "iopub.status.busy": "2021-06-29T14:29:15.023190Z",
     "iopub.status.idle": "2021-06-29T14:29:15.028782Z",
     "shell.execute_reply": "2021-06-29T14:29:15.029404Z",
     "shell.execute_reply.started": "2021-06-29T13:51:02.963033Z"
    },
    "papermill": {
     "duration": 0.055528,
     "end_time": "2021-06-29T14:29:15.029706",
     "exception": false,
     "start_time": "2021-06-29T14:29:14.974178",
     "status": "completed"
    },
    "tags": []
   },
   "outputs": [
    {
     "data": {
      "text/plain": [
       "device(type='cuda')"
      ]
     },
     "execution_count": 5,
     "metadata": {},
     "output_type": "execute_result"
    }
   ],
   "source": [
    "device"
   ]
  },
  {
   "cell_type": "markdown",
   "id": "protective-composite",
   "metadata": {
    "papermill": {
     "duration": 0.040544,
     "end_time": "2021-06-29T14:29:15.111754",
     "exception": false,
     "start_time": "2021-06-29T14:29:15.071210",
     "status": "completed"
    },
    "tags": []
   },
   "source": [
    "## 7.3.2 데이터 준비하기"
   ]
  },
  {
   "cell_type": "markdown",
   "id": "streaming-framework",
   "metadata": {
    "papermill": {
     "duration": 0.039897,
     "end_time": "2021-06-29T14:29:15.191244",
     "exception": false,
     "start_time": "2021-06-29T14:29:15.151347",
     "status": "completed"
    },
    "tags": []
   },
   "source": [
    "### 훈련 데이터, 검증 데이터 분리"
   ]
  },
  {
   "cell_type": "code",
   "execution_count": 6,
   "id": "cordless-applicant",
   "metadata": {
    "_uuid": "c07eab67e573c7de05e11065b5bafc1bbff284fb",
    "execution": {
     "iopub.execute_input": "2021-06-29T14:29:15.246197Z",
     "iopub.status.busy": "2021-06-29T14:29:15.245598Z",
     "iopub.status.idle": "2021-06-29T14:29:15.971297Z",
     "shell.execute_reply": "2021-06-29T14:29:15.970833Z",
     "shell.execute_reply.started": "2021-06-29T13:51:02.975829Z"
    },
    "papermill": {
     "duration": 0.752486,
     "end_time": "2021-06-29T14:29:15.971422",
     "exception": false,
     "start_time": "2021-06-29T14:29:15.218936",
     "status": "completed"
    },
    "tags": []
   },
   "outputs": [],
   "source": [
    "from sklearn.model_selection import train_test_split\n",
    "\n",
    "# 훈련 데이터, 검증 데이터 분리\n",
    "train, valid = train_test_split(labels, \n",
    "                                test_size=0.1,\n",
    "                                stratify=labels['has_cactus'],\n",
    "                                random_state=10)"
   ]
  },
  {
   "cell_type": "code",
   "execution_count": 7,
   "id": "increased-prague",
   "metadata": {
    "execution": {
     "iopub.execute_input": "2021-06-29T14:29:16.035451Z",
     "iopub.status.busy": "2021-06-29T14:29:16.033728Z",
     "iopub.status.idle": "2021-06-29T14:29:16.038174Z",
     "shell.execute_reply": "2021-06-29T14:29:16.037513Z",
     "shell.execute_reply.started": "2021-06-29T13:51:03.901829Z"
    },
    "papermill": {
     "duration": 0.042138,
     "end_time": "2021-06-29T14:29:16.038339",
     "exception": false,
     "start_time": "2021-06-29T14:29:15.996201",
     "status": "completed"
    },
    "tags": []
   },
   "outputs": [
    {
     "name": "stdout",
     "output_type": "stream",
     "text": [
      "훈련 데이터 개수: 15750\n",
      "검증 데이터 개수: 1750\n"
     ]
    }
   ],
   "source": [
    "print('훈련 데이터 개수:', len(train))\n",
    "print('검증 데이터 개수:', len(valid))"
   ]
  },
  {
   "cell_type": "markdown",
   "id": "answering-stand",
   "metadata": {
    "papermill": {
     "duration": 0.02425,
     "end_time": "2021-06-29T14:29:16.087935",
     "exception": false,
     "start_time": "2021-06-29T14:29:16.063685",
     "status": "completed"
    },
    "tags": []
   },
   "source": [
    "### 데이터 세트 정의"
   ]
  },
  {
   "cell_type": "code",
   "execution_count": 8,
   "id": "basic-confirmation",
   "metadata": {
    "_uuid": "1b05af8d59d9d5b092e96f72dfebb19591416de9",
    "execution": {
     "iopub.execute_input": "2021-06-29T14:29:16.143442Z",
     "iopub.status.busy": "2021-06-29T14:29:16.142754Z",
     "iopub.status.idle": "2021-06-29T14:29:16.269456Z",
     "shell.execute_reply": "2021-06-29T14:29:16.268970Z",
     "shell.execute_reply.started": "2021-06-29T13:51:03.916989Z"
    },
    "papermill": {
     "duration": 0.158091,
     "end_time": "2021-06-29T14:29:16.269584",
     "exception": false,
     "start_time": "2021-06-29T14:29:16.111493",
     "status": "completed"
    },
    "tags": []
   },
   "outputs": [],
   "source": [
    "import cv2 # OpenCV 라이브러리\n",
    "from torch.utils.data import Dataset # 데이터 생성을 위한 클래스\n",
    "\n",
    "class ImageDataset(Dataset):\n",
    "    # 초기화 메서드(생성자)\n",
    "    def __init__(self, df, img_dir = './', transform=None):\n",
    "        super().__init__() # 상속받은 Dataset의 __init__() 메서드 호출 \n",
    "        self.df = df\n",
    "        self.img_dir = img_dir\n",
    "        self.transform = transform\n",
    "    \n",
    "    # 데이터 세트 크기 반환 메서드 \n",
    "    def __len__(self):\n",
    "        return len(self.df)\n",
    "    \n",
    "    # 인덱스(idx)에 해당하는 데이터 반환 메서드 \n",
    "    def __getitem__(self, idx):\n",
    "        img_path = self.img_dir + self.df.iloc[idx, 0] # 이미지 파일 경로 \n",
    "        image = cv2.imread(img_path) # 이미지 파일 읽기 \n",
    "        image = cv2.cvtColor(image, cv2.COLOR_BGR2RGB) # 이미지 색상 보정\n",
    "        label = self.df.iloc[idx, 1] # 이미지 레이블(타깃 값)\n",
    "        # 이미지 변환\n",
    "        if self.transform is not None:\n",
    "            image = self.transform(image)\n",
    "        return image, label"
   ]
  },
  {
   "cell_type": "markdown",
   "id": "stock-liberty",
   "metadata": {
    "papermill": {
     "duration": 0.023554,
     "end_time": "2021-06-29T14:29:16.317048",
     "exception": false,
     "start_time": "2021-06-29T14:29:16.293494",
     "status": "completed"
    },
    "tags": []
   },
   "source": [
    "### 데이터 세트 및 데이터 로더 생성"
   ]
  },
  {
   "cell_type": "code",
   "execution_count": 9,
   "id": "offensive-spice",
   "metadata": {
    "execution": {
     "iopub.execute_input": "2021-06-29T14:29:16.369149Z",
     "iopub.status.busy": "2021-06-29T14:29:16.368460Z",
     "iopub.status.idle": "2021-06-29T14:29:16.502597Z",
     "shell.execute_reply": "2021-06-29T14:29:16.502079Z",
     "shell.execute_reply.started": "2021-06-29T13:51:04.234022Z"
    },
    "papermill": {
     "duration": 0.161381,
     "end_time": "2021-06-29T14:29:16.502724",
     "exception": false,
     "start_time": "2021-06-29T14:29:16.341343",
     "status": "completed"
    },
    "tags": []
   },
   "outputs": [],
   "source": [
    "from torchvision import transforms # 이미지 변환을 위한 모듈\n",
    "\n",
    "transform = transforms.ToTensor()"
   ]
  },
  {
   "cell_type": "code",
   "execution_count": 10,
   "id": "specific-kernel",
   "metadata": {
    "execution": {
     "iopub.execute_input": "2021-06-29T14:29:16.555132Z",
     "iopub.status.busy": "2021-06-29T14:29:16.553918Z",
     "iopub.status.idle": "2021-06-29T14:29:16.556202Z",
     "shell.execute_reply": "2021-06-29T14:29:16.556656Z",
     "shell.execute_reply.started": "2021-06-29T13:51:04.402191Z"
    },
    "papermill": {
     "duration": 0.030235,
     "end_time": "2021-06-29T14:29:16.556821",
     "exception": false,
     "start_time": "2021-06-29T14:29:16.526586",
     "status": "completed"
    },
    "tags": []
   },
   "outputs": [],
   "source": [
    "dataset_train = ImageDataset(df=train, img_dir='train/', transform=transform)\n",
    "dataset_valid = ImageDataset(df=valid, img_dir='train/', transform=transform)"
   ]
  },
  {
   "cell_type": "code",
   "execution_count": 11,
   "id": "junior-prospect",
   "metadata": {
    "execution": {
     "iopub.execute_input": "2021-06-29T14:29:16.608997Z",
     "iopub.status.busy": "2021-06-29T14:29:16.608516Z",
     "iopub.status.idle": "2021-06-29T14:29:16.614093Z",
     "shell.execute_reply": "2021-06-29T14:29:16.613685Z",
     "shell.execute_reply.started": "2021-06-29T13:51:04.412061Z"
    },
    "papermill": {
     "duration": 0.033604,
     "end_time": "2021-06-29T14:29:16.614192",
     "exception": false,
     "start_time": "2021-06-29T14:29:16.580588",
     "status": "completed"
    },
    "tags": []
   },
   "outputs": [
    {
     "data": {
      "text/plain": [
       "<torch._C.Generator at 0x7f371ed87c50>"
      ]
     },
     "execution_count": 11,
     "metadata": {},
     "output_type": "execute_result"
    }
   ],
   "source": [
    "def seed_worker(worker_id):\n",
    "    worker_seed = torch.initial_seed() % 2**32\n",
    "    np.random.seed(worker_seed)\n",
    "    random.seed(worker_seed)\n",
    "    \n",
    "g = torch.Generator()\n",
    "g.manual_seed(0)"
   ]
  },
  {
   "cell_type": "code",
   "execution_count": 12,
   "id": "variable-requirement",
   "metadata": {
    "_uuid": "c247391c28497ad35c72f5218398ea71f2d0d5ff",
    "execution": {
     "iopub.execute_input": "2021-06-29T14:29:16.667910Z",
     "iopub.status.busy": "2021-06-29T14:29:16.666690Z",
     "iopub.status.idle": "2021-06-29T14:29:16.668892Z",
     "shell.execute_reply": "2021-06-29T14:29:16.669388Z",
     "shell.execute_reply.started": "2021-06-29T13:51:04.421285Z"
    },
    "papermill": {
     "duration": 0.031625,
     "end_time": "2021-06-29T14:29:16.669511",
     "exception": false,
     "start_time": "2021-06-29T14:29:16.637886",
     "status": "completed"
    },
    "tags": []
   },
   "outputs": [],
   "source": [
    "from torch.utils.data import DataLoader # 데이터 로더 생성을 위한 클래스\n",
    "\n",
    "loader_train = DataLoader(dataset=dataset_train, batch_size=32, \n",
    "                          shuffle=True, worker_init_fn=seed_worker,\n",
    "                          generator=g)\n",
    "loader_valid = DataLoader(dataset=dataset_valid, batch_size=32, \n",
    "                          shuffle=False, worker_init_fn=seed_worker,\n",
    "                          generator=g)"
   ]
  },
  {
   "cell_type": "markdown",
   "id": "sought-utility",
   "metadata": {
    "papermill": {
     "duration": 0.024362,
     "end_time": "2021-06-29T14:29:16.717707",
     "exception": false,
     "start_time": "2021-06-29T14:29:16.693345",
     "status": "completed"
    },
    "tags": []
   },
   "source": [
    "## 7.3.3 모델 생성"
   ]
  },
  {
   "cell_type": "code",
   "execution_count": 13,
   "id": "amateur-sauce",
   "metadata": {
    "_uuid": "0a2d5600bc2eb915ec0bdf5b52ba11e25096f7d0",
    "execution": {
     "iopub.execute_input": "2021-06-29T14:29:16.774882Z",
     "iopub.status.busy": "2021-06-29T14:29:16.774062Z",
     "iopub.status.idle": "2021-06-29T14:29:16.777626Z",
     "shell.execute_reply": "2021-06-29T14:29:16.777201Z",
     "shell.execute_reply.started": "2021-06-29T13:51:04.430007Z"
    },
    "papermill": {
     "duration": 0.036157,
     "end_time": "2021-06-29T14:29:16.777734",
     "exception": false,
     "start_time": "2021-06-29T14:29:16.741577",
     "status": "completed"
    },
    "tags": []
   },
   "outputs": [],
   "source": [
    "import torch.nn as nn # 신경망 모듈\n",
    "import torch.nn.functional as F # 신경망 모듈에서 자주 사용되는 함수\n",
    "\n",
    "class Model(nn.Module):\n",
    "    # 신경망 계층 정의 \n",
    "    def __init__(self):\n",
    "        super().__init__() # 상속받은 nn.Module의 __init__() 메서드 호출\n",
    "        # 첫 번째 합성곱 계층 \n",
    "        self.conv1 = nn.Conv2d(in_channels=3, out_channels=32, \n",
    "                               kernel_size=3, padding=2) \n",
    "        # 두 번째 합성곱 계층 \n",
    "        self.conv2 = nn.Conv2d(in_channels=32, out_channels=64, \n",
    "                               kernel_size=3, padding=2) \n",
    "        # 최대 풀링 계층 \n",
    "        self.max_pool = nn.MaxPool2d(kernel_size=2) \n",
    "        # 평균 풀링 계층 \n",
    "        self.avg_pool = nn.AvgPool2d(kernel_size=2) \n",
    "        # 전결합 계층 \n",
    "        self.fc = nn.Linear(in_features=64 * 4 * 4, out_features=2)\n",
    "        \n",
    "    # 순전파 출력 정의 \n",
    "    def forward(self, x):\n",
    "        x = self.max_pool(F.relu(self.conv1(x)))\n",
    "        x = self.max_pool(F.relu(self.conv2(x)))\n",
    "        x = self.avg_pool(x)\n",
    "        x = x.view(-1, 64 * 4 * 4) # 평탄화\n",
    "        x = self.fc(x)\n",
    "        return x"
   ]
  },
  {
   "cell_type": "code",
   "execution_count": 14,
   "id": "fresh-ballot",
   "metadata": {
    "execution": {
     "iopub.execute_input": "2021-06-29T14:29:16.829382Z",
     "iopub.status.busy": "2021-06-29T14:29:16.828142Z",
     "iopub.status.idle": "2021-06-29T14:29:16.830871Z",
     "shell.execute_reply": "2021-06-29T14:29:16.830478Z",
     "shell.execute_reply.started": "2021-06-29T13:51:04.441333Z"
    },
    "papermill": {
     "duration": 0.029776,
     "end_time": "2021-06-29T14:29:16.830973",
     "exception": false,
     "start_time": "2021-06-29T14:29:16.801197",
     "status": "completed"
    },
    "tags": []
   },
   "outputs": [],
   "source": [
    "# class Model(nn.Module):\n",
    "#     def __init__(self):\n",
    "#         super().__init__() \n",
    "#         # 첫 번째 합성곱, 최대 풀링 계층\n",
    "#         self.layer1 = nn.Sequential(nn.Conv2d(in_channels=3, \n",
    "#                                               out_channels=32, \n",
    "#                                               kernel_size=3, \n",
    "#                                               padding=2),\n",
    "#                                     nn.ReLU(),\n",
    "#                                     nn.MaxPool2d(kernel_size=2))\n",
    "#         # 두 번째 합성곱, 최대 풀링 계층\n",
    "#         self.layer2 = nn.Sequential(nn.Conv2d(in_channels=32, \n",
    "#                                               out_channels=64, \n",
    "#                                               kernel_size=3, \n",
    "#                                               padding=2),\n",
    "#                                     nn.ReLU(),\n",
    "#                                     nn.MaxPool2d(kernel_size=2))\n",
    "#         # 평균 풀링 계층\n",
    "#         self.avg_pool = nn.AvgPool2d(kernel_size=2) \n",
    "#         # 전결합 계층\n",
    "#         self.fc = nn.Linear(in_features=64 * 4 * 4, out_features=2)\n",
    "        \n",
    "#     # 순전파 출력 정의\n",
    "#     def forward(self, x):\n",
    "#         x = self.layer1(x)\n",
    "#         x = self.layer2(x)\n",
    "#         x = self.avg_pool(x)\n",
    "#         x = x.view(-1, 64 * 4 * 4) # 평탄화\n",
    "#         x = self.fc(x)\n",
    "#         return x"
   ]
  },
  {
   "cell_type": "code",
   "execution_count": 15,
   "id": "political-quebec",
   "metadata": {
    "_cell_guid": "79c7e3d0-c299-4dcb-8224-4455121ee9b0",
    "_uuid": "d629ff2d2480ee46fbb7e2d37f6b5fab8052498a",
    "execution": {
     "iopub.execute_input": "2021-06-29T14:29:16.881168Z",
     "iopub.status.busy": "2021-06-29T14:29:16.880571Z",
     "iopub.status.idle": "2021-06-29T14:29:21.034861Z",
     "shell.execute_reply": "2021-06-29T14:29:21.034445Z",
     "shell.execute_reply.started": "2021-06-29T13:51:04.452634Z"
    },
    "papermill": {
     "duration": 4.180643,
     "end_time": "2021-06-29T14:29:21.034975",
     "exception": false,
     "start_time": "2021-06-29T14:29:16.854332",
     "status": "completed"
    },
    "tags": []
   },
   "outputs": [
    {
     "data": {
      "text/plain": [
       "Model(\n",
       "  (conv1): Conv2d(3, 32, kernel_size=(3, 3), stride=(1, 1), padding=(2, 2))\n",
       "  (conv2): Conv2d(32, 64, kernel_size=(3, 3), stride=(1, 1), padding=(2, 2))\n",
       "  (max_pool): MaxPool2d(kernel_size=2, stride=2, padding=0, dilation=1, ceil_mode=False)\n",
       "  (avg_pool): AvgPool2d(kernel_size=2, stride=2, padding=0)\n",
       "  (fc): Linear(in_features=1024, out_features=2, bias=True)\n",
       ")"
      ]
     },
     "execution_count": 15,
     "metadata": {},
     "output_type": "execute_result"
    }
   ],
   "source": [
    "model = Model().to(device)\n",
    "\n",
    "model"
   ]
  },
  {
   "cell_type": "markdown",
   "id": "selected-paragraph",
   "metadata": {
    "papermill": {
     "duration": 0.025727,
     "end_time": "2021-06-29T14:29:21.084777",
     "exception": false,
     "start_time": "2021-06-29T14:29:21.059050",
     "status": "completed"
    },
    "tags": []
   },
   "source": [
    "## 7.3.4 모델 훈련"
   ]
  },
  {
   "cell_type": "markdown",
   "id": "passing-twenty",
   "metadata": {
    "papermill": {
     "duration": 0.023591,
     "end_time": "2021-06-29T14:29:21.132557",
     "exception": false,
     "start_time": "2021-06-29T14:29:21.108966",
     "status": "completed"
    },
    "tags": []
   },
   "source": [
    "### 손실 함수와 옵티마이저 설정"
   ]
  },
  {
   "cell_type": "code",
   "execution_count": 16,
   "id": "static-fancy",
   "metadata": {
    "execution": {
     "iopub.execute_input": "2021-06-29T14:29:21.185693Z",
     "iopub.status.busy": "2021-06-29T14:29:21.184990Z",
     "iopub.status.idle": "2021-06-29T14:29:21.187796Z",
     "shell.execute_reply": "2021-06-29T14:29:21.187394Z",
     "shell.execute_reply.started": "2021-06-29T13:51:08.884834Z"
    },
    "papermill": {
     "duration": 0.031723,
     "end_time": "2021-06-29T14:29:21.187904",
     "exception": false,
     "start_time": "2021-06-29T14:29:21.156181",
     "status": "completed"
    },
    "tags": []
   },
   "outputs": [],
   "source": [
    "# 손실함수\n",
    "criterion = nn.CrossEntropyLoss()"
   ]
  },
  {
   "cell_type": "code",
   "execution_count": 17,
   "id": "advised-guess",
   "metadata": {
    "_uuid": "fceb2929d8750acb2de745cd9ff3d2d458820df8",
    "execution": {
     "iopub.execute_input": "2021-06-29T14:29:21.239477Z",
     "iopub.status.busy": "2021-06-29T14:29:21.238779Z",
     "iopub.status.idle": "2021-06-29T14:29:21.241569Z",
     "shell.execute_reply": "2021-06-29T14:29:21.241137Z",
     "shell.execute_reply.started": "2021-06-29T13:51:08.892682Z"
    },
    "papermill": {
     "duration": 0.029783,
     "end_time": "2021-06-29T14:29:21.241676",
     "exception": false,
     "start_time": "2021-06-29T14:29:21.211893",
     "status": "completed"
    },
    "tags": []
   },
   "outputs": [],
   "source": [
    "# 옵티마이저\n",
    "optimizer = torch.optim.SGD(model.parameters(), lr=0.01)"
   ]
  },
  {
   "cell_type": "markdown",
   "id": "compound-ukraine",
   "metadata": {
    "papermill": {
     "duration": 0.023634,
     "end_time": "2021-06-29T14:29:21.289203",
     "exception": false,
     "start_time": "2021-06-29T14:29:21.265569",
     "status": "completed"
    },
    "tags": []
   },
   "source": [
    "### 모델 훈련"
   ]
  },
  {
   "cell_type": "code",
   "execution_count": 18,
   "id": "auburn-reserve",
   "metadata": {
    "execution": {
     "iopub.execute_input": "2021-06-29T14:29:21.340786Z",
     "iopub.status.busy": "2021-06-29T14:29:21.340058Z",
     "iopub.status.idle": "2021-06-29T14:29:21.343628Z",
     "shell.execute_reply": "2021-06-29T14:29:21.343033Z",
     "shell.execute_reply.started": "2021-06-29T13:51:08.909199Z"
    },
    "papermill": {
     "duration": 0.030823,
     "end_time": "2021-06-29T14:29:21.343744",
     "exception": false,
     "start_time": "2021-06-29T14:29:21.312921",
     "status": "completed"
    },
    "tags": []
   },
   "outputs": [
    {
     "data": {
      "text/plain": [
       "493"
      ]
     },
     "execution_count": 18,
     "metadata": {},
     "output_type": "execute_result"
    }
   ],
   "source": [
    "import math\n",
    "\n",
    "math.ceil(len(train) / 32)"
   ]
  },
  {
   "cell_type": "code",
   "execution_count": 19,
   "id": "silent-running",
   "metadata": {
    "execution": {
     "iopub.execute_input": "2021-06-29T14:29:21.396436Z",
     "iopub.status.busy": "2021-06-29T14:29:21.395747Z",
     "iopub.status.idle": "2021-06-29T14:29:21.399087Z",
     "shell.execute_reply": "2021-06-29T14:29:21.398689Z",
     "shell.execute_reply.started": "2021-06-29T13:51:08.919584Z"
    },
    "papermill": {
     "duration": 0.031089,
     "end_time": "2021-06-29T14:29:21.399191",
     "exception": false,
     "start_time": "2021-06-29T14:29:21.368102",
     "status": "completed"
    },
    "tags": []
   },
   "outputs": [
    {
     "data": {
      "text/plain": [
       "493"
      ]
     },
     "execution_count": 19,
     "metadata": {},
     "output_type": "execute_result"
    }
   ],
   "source": [
    "len(loader_train)"
   ]
  },
  {
   "cell_type": "code",
   "execution_count": 20,
   "id": "fresh-theory",
   "metadata": {
    "_uuid": "2c37417ae6b62ab4551bc8a888916ca1e591d284",
    "execution": {
     "iopub.execute_input": "2021-06-29T14:29:21.456053Z",
     "iopub.status.busy": "2021-06-29T14:29:21.455445Z",
     "iopub.status.idle": "2021-06-29T14:30:39.235893Z",
     "shell.execute_reply": "2021-06-29T14:30:39.236608Z",
     "shell.execute_reply.started": "2021-06-29T13:51:08.929749Z"
    },
    "papermill": {
     "duration": 77.813134,
     "end_time": "2021-06-29T14:30:39.236769",
     "exception": false,
     "start_time": "2021-06-29T14:29:21.423635",
     "status": "completed"
    },
    "tags": []
   },
   "outputs": [
    {
     "name": "stdout",
     "output_type": "stream",
     "text": [
      "에폭 [1/10] - 손실값: 0.5154\n",
      "에폭 [2/10] - 손실값: 0.3285\n",
      "에폭 [3/10] - 손실값: 0.2359\n",
      "에폭 [4/10] - 손실값: 0.1958\n",
      "에폭 [5/10] - 손실값: 0.1723\n",
      "에폭 [6/10] - 손실값: 0.1554\n",
      "에폭 [7/10] - 손실값: 0.1465\n",
      "에폭 [8/10] - 손실값: 0.1348\n",
      "에폭 [9/10] - 손실값: 0.1234\n",
      "에폭 [10/10] - 손실값: 0.1210\n"
     ]
    }
   ],
   "source": [
    "epochs = 10 # 총 에폭\n",
    "\n",
    "# 총 에폭만큼 훈련\n",
    "for epoch in range(epochs):\n",
    "    epoch_loss = 0 # 에폭별 손실값 초기화\n",
    "    # 미니배치 크기만큼 데이터를 추출하는 작업을 '반복 횟수'만큼 반복 \n",
    "    for images, labels in loader_train:\n",
    "        # 이미지, 레이블 데이터 미니배치를 장비에 할당 \n",
    "        images = images.to(device)\n",
    "        labels = labels.to(device)\n",
    "        \n",
    "        # 옵티마이저 내 기울기 초기화\n",
    "        optimizer.zero_grad()\n",
    "        # 이미지 데이터를 신경망 모델의 입력값으로 사용해 출력값 계산\n",
    "        outputs = model(images)\n",
    "        # 손실함수를 활용해 outputs와 labels의 손실값 계산\n",
    "        loss = criterion(outputs, labels)\n",
    "        # 역전파 수행\n",
    "        loss.backward()\n",
    "        # 가중치 갱신\n",
    "        optimizer.step()\n",
    "        \n",
    "        epoch_loss += loss.item() # 현재 배치에서의 손실 추가\n",
    "    # 훈련 데이터 손실값 출력\n",
    "    print(f'에폭 [{epoch+1}/{epochs}] - 손실값: {epoch_loss/len(loader_train):.4f}')    "
   ]
  },
  {
   "cell_type": "markdown",
   "id": "level-interview",
   "metadata": {
    "papermill": {
     "duration": 0.026658,
     "end_time": "2021-06-29T14:30:39.291033",
     "exception": false,
     "start_time": "2021-06-29T14:30:39.264375",
     "status": "completed"
    },
    "tags": []
   },
   "source": [
    "## 7.3.5 모델 성능 검증"
   ]
  },
  {
   "cell_type": "code",
   "execution_count": 21,
   "id": "bright-economics",
   "metadata": {
    "execution": {
     "iopub.execute_input": "2021-06-29T14:30:39.351907Z",
     "iopub.status.busy": "2021-06-29T14:30:39.351063Z",
     "iopub.status.idle": "2021-06-29T14:30:39.932013Z",
     "shell.execute_reply": "2021-06-29T14:30:39.932611Z",
     "shell.execute_reply.started": "2021-06-29T13:52:24.240454Z"
    },
    "papermill": {
     "duration": 0.614696,
     "end_time": "2021-06-29T14:30:39.932797",
     "exception": false,
     "start_time": "2021-06-29T14:30:39.318101",
     "status": "completed"
    },
    "tags": []
   },
   "outputs": [
    {
     "name": "stdout",
     "output_type": "stream",
     "text": [
      "검증 데이터 ROC AUC : 0.9918\n"
     ]
    }
   ],
   "source": [
    "from sklearn.metrics import roc_auc_score # ROC AUC 점수 계산 함수\n",
    "\n",
    "# 예측 확률값과 실제값을 담을 리스트 초기화\n",
    "true_list = []\n",
    "preds_list = []\n",
    "\n",
    "model.eval() # 모델을 평가 상태로 설정 \n",
    "\n",
    "with torch.no_grad(): # 기울기 계산 비활성 -\n",
    "    for images, labels in loader_valid:\n",
    "        # 이미지, 레이블 데이터 미니배치를 장비에 할당 \n",
    "        images = images.to(device)\n",
    "        labels = labels.to(device)   \n",
    "        # 이미지 데이터를 신경망 모델의 입력값으로 사용해 출력값 계산\n",
    "        outputs = model(images)\n",
    "        preds = torch.softmax(outputs.cpu(), dim=1)[:, 1] # 예측 확률값  \n",
    "        true = labels.cpu() # 실제값 \n",
    "        # 예측 확률값과 실제값을 리스트에 추가\n",
    "        preds_list.extend(preds)\n",
    "        true_list.extend(true)\n",
    "        \n",
    "    # 검증 데이터 ROC AUC 점수 출력 \n",
    "    print(f'검증 데이터 ROC AUC : {roc_auc_score(true_list, preds_list):.4f}')    "
   ]
  },
  {
   "cell_type": "code",
   "execution_count": 22,
   "id": "spiritual-tamil",
   "metadata": {
    "_uuid": "870413a60281e0c4115fbc7cf192508e15a9e269",
    "execution": {
     "iopub.execute_input": "2021-06-29T14:30:39.995117Z",
     "iopub.status.busy": "2021-06-29T14:30:39.994574Z",
     "iopub.status.idle": "2021-06-29T14:30:39.998725Z",
     "shell.execute_reply": "2021-06-29T14:30:39.998231Z",
     "shell.execute_reply.started": "2021-06-29T13:52:24.811862Z"
    },
    "papermill": {
     "duration": 0.036937,
     "end_time": "2021-06-29T14:30:39.998838",
     "exception": false,
     "start_time": "2021-06-29T14:30:39.961901",
     "status": "completed"
    },
    "tags": []
   },
   "outputs": [],
   "source": [
    "dataset_test = ImageDataset(df=submission, img_dir='test/', transform=transform)\n",
    "loader_test = DataLoader(dataset=dataset_test, batch_size=32, \n",
    "                         shuffle=False, worker_init_fn=seed_worker,\n",
    "                         generator=g)"
   ]
  },
  {
   "cell_type": "code",
   "execution_count": 23,
   "id": "overall-cabin",
   "metadata": {
    "execution": {
     "iopub.execute_input": "2021-06-29T14:30:40.062925Z",
     "iopub.status.busy": "2021-06-29T14:30:40.062086Z",
     "iopub.status.idle": "2021-06-29T14:30:41.274903Z",
     "shell.execute_reply": "2021-06-29T14:30:41.274461Z",
     "shell.execute_reply.started": "2021-06-29T13:52:24.818357Z"
    },
    "papermill": {
     "duration": 1.246968,
     "end_time": "2021-06-29T14:30:41.275023",
     "exception": false,
     "start_time": "2021-06-29T14:30:40.028055",
     "status": "completed"
    },
    "tags": []
   },
   "outputs": [],
   "source": [
    "model.eval() # 모델을 평가 상태로 설정\n",
    "\n",
    "preds = [] # 타깃 예측 값 저장용 변수 초기화\n",
    "\n",
    "with torch.no_grad(): # 기울기 계산 비활성\n",
    "    for images, _ in loader_test:\n",
    "        # 이미지 데이터 미니배치를 장비에 할당\n",
    "        images = images.to(device)\n",
    "        # 이미지 데이터를 신경망 모델의 입력값으로 사용해 출력값 계산\n",
    "        outputs = model(images)\n",
    "        # 타깃 값이 1일 확률(예측 값)\n",
    "        preds_part = torch.softmax(outputs.cpu(), dim=1)[:, 1].tolist()\n",
    "        # preds에 preds_part 이어붙이기\n",
    "        preds.extend(preds_part)"
   ]
  },
  {
   "cell_type": "markdown",
   "id": "featured-omega",
   "metadata": {
    "papermill": {
     "duration": 0.026665,
     "end_time": "2021-06-29T14:30:41.329237",
     "exception": false,
     "start_time": "2021-06-29T14:30:41.302572",
     "status": "completed"
    },
    "tags": []
   },
   "source": [
    "### 결과 제출"
   ]
  },
  {
   "cell_type": "code",
   "execution_count": 24,
   "id": "impossible-active",
   "metadata": {
    "execution": {
     "iopub.execute_input": "2021-06-29T14:30:41.388115Z",
     "iopub.status.busy": "2021-06-29T14:30:41.387575Z",
     "iopub.status.idle": "2021-06-29T14:30:41.530317Z",
     "shell.execute_reply": "2021-06-29T14:30:41.529692Z",
     "shell.execute_reply.started": "2021-06-29T13:52:26.034372Z"
    },
    "papermill": {
     "duration": 0.174242,
     "end_time": "2021-06-29T14:30:41.530461",
     "exception": false,
     "start_time": "2021-06-29T14:30:41.356219",
     "status": "completed"
    },
    "tags": []
   },
   "outputs": [],
   "source": [
    "submission['has_cactus'] = preds\n",
    "submission.to_csv('submission.csv', index=False)"
   ]
  },
  {
   "cell_type": "code",
   "execution_count": 25,
   "id": "talented-origin",
   "metadata": {
    "execution": {
     "iopub.execute_input": "2021-06-29T14:30:41.588972Z",
     "iopub.status.busy": "2021-06-29T14:30:41.588230Z",
     "iopub.status.idle": "2021-06-29T14:30:42.141209Z",
     "shell.execute_reply": "2021-06-29T14:30:42.140710Z",
     "shell.execute_reply.started": "2021-06-29T13:52:26.354740Z"
    },
    "papermill": {
     "duration": 0.583509,
     "end_time": "2021-06-29T14:30:42.141358",
     "exception": false,
     "start_time": "2021-06-29T14:30:41.557849",
     "status": "completed"
    },
    "tags": []
   },
   "outputs": [],
   "source": [
    "import shutil\n",
    "\n",
    "shutil.rmtree('./train')\n",
    "shutil.rmtree('./test')"
   ]
  }
 ],
 "metadata": {
  "kernelspec": {
   "display_name": "Python 3",
   "language": "python",
   "name": "python3"
  },
  "language_info": {
   "codemirror_mode": {
    "name": "ipython",
    "version": 3
   },
   "file_extension": ".py",
   "mimetype": "text/x-python",
   "name": "python",
   "nbconvert_exporter": "python",
   "pygments_lexer": "ipython3",
   "version": "3.7.10"
  },
  "papermill": {
   "default_parameters": {},
   "duration": 99.573067,
   "end_time": "2021-06-29T14:30:44.199351",
   "environment_variables": {},
   "exception": null,
   "input_path": "__notebook__.ipynb",
   "output_path": "__notebook__.ipynb",
   "parameters": {},
   "start_time": "2021-06-29T14:29:04.626284",
   "version": "2.3.3"
  }
 },
 "nbformat": 4,
 "nbformat_minor": 5
}
