{
 "cells": [
  {
   "cell_type": "markdown",
   "id": "certified-zoning",
   "metadata": {
    "papermill": {
     "duration": 0.024749,
     "end_time": "2021-06-02T13:27:22.886687",
     "exception": false,
     "start_time": "2021-06-02T13:27:22.861938",
     "status": "completed"
    },
    "tags": []
   },
   "source": [
    "# 7.3 항공 사진 내 선인장 식별 경진대회 베이스라인 모델\n",
    "- [항공 사진 내 선인장 식별 경진대회 링크](https://www.kaggle.com/c/aerial-cactus-identification)\n",
    "- [베이스라인 모델 코드 참고 링크](https://www.kaggle.com/bonhart/simple-cnn-on-pytorch-for-beginers)"
   ]
  },
  {
   "cell_type": "code",
   "execution_count": 1,
   "id": "disturbed-reproduction",
   "metadata": {
    "execution": {
     "iopub.execute_input": "2021-06-02T13:27:22.940155Z",
     "iopub.status.busy": "2021-06-02T13:27:22.939639Z",
     "iopub.status.idle": "2021-06-02T13:27:22.996964Z",
     "shell.execute_reply": "2021-06-02T13:27:22.996005Z",
     "shell.execute_reply.started": "2021-06-02T13:25:52.794843Z"
    },
    "papermill": {
     "duration": 0.08725,
     "end_time": "2021-06-02T13:27:22.997093",
     "exception": false,
     "start_time": "2021-06-02T13:27:22.909843",
     "status": "completed"
    },
    "tags": []
   },
   "outputs": [],
   "source": [
    "import pandas as pd\n",
    "\n",
    "# 데이터 경로\n",
    "data_path = '/kaggle/input/aerial-cactus-identification/'\n",
    "\n",
    "labels = pd.read_csv(data_path + 'train.csv')\n",
    "submission = pd.read_csv(data_path + 'sample_submission.csv')"
   ]
  },
  {
   "cell_type": "code",
   "execution_count": 2,
   "id": "passing-workplace",
   "metadata": {
    "execution": {
     "iopub.execute_input": "2021-06-02T13:27:23.046928Z",
     "iopub.status.busy": "2021-06-02T13:27:23.046422Z",
     "iopub.status.idle": "2021-06-02T13:27:26.387994Z",
     "shell.execute_reply": "2021-06-02T13:27:26.386909Z",
     "shell.execute_reply.started": "2021-06-02T13:25:52.854215Z"
    },
    "papermill": {
     "duration": 3.367987,
     "end_time": "2021-06-02T13:27:26.388146",
     "exception": false,
     "start_time": "2021-06-02T13:27:23.020159",
     "status": "completed"
    },
    "tags": []
   },
   "outputs": [],
   "source": [
    "from zipfile import ZipFile\n",
    "\n",
    "# 훈련 이미지 데이터 압축 풀기\n",
    "with ZipFile(data_path + 'train.zip') as zipper:\n",
    "    zipper.extractall()\n",
    "    \n",
    "# 테스트 이미지 데이터 압축 풀기\n",
    "with ZipFile(data_path + 'test.zip') as zipper:\n",
    "    zipper.extractall()"
   ]
  },
  {
   "cell_type": "markdown",
   "id": "viral-allergy",
   "metadata": {
    "papermill": {
     "duration": 0.023027,
     "end_time": "2021-06-02T13:27:26.435357",
     "exception": false,
     "start_time": "2021-06-02T13:27:26.412330",
     "status": "completed"
    },
    "tags": []
   },
   "source": [
    "## 7.3.1 시드 값 고정 및 GPU 장비 설정"
   ]
  },
  {
   "cell_type": "markdown",
   "id": "instrumental-ratio",
   "metadata": {
    "papermill": {
     "duration": 0.022587,
     "end_time": "2021-06-02T13:27:26.481031",
     "exception": false,
     "start_time": "2021-06-02T13:27:26.458444",
     "status": "completed"
    },
    "tags": []
   },
   "source": [
    "### 시드 값 고정"
   ]
  },
  {
   "cell_type": "code",
   "execution_count": 3,
   "id": "lyric-confidentiality",
   "metadata": {
    "execution": {
     "iopub.execute_input": "2021-06-02T13:27:26.533854Z",
     "iopub.status.busy": "2021-06-02T13:27:26.533137Z",
     "iopub.status.idle": "2021-06-02T13:27:28.070038Z",
     "shell.execute_reply": "2021-06-02T13:27:28.069016Z",
     "shell.execute_reply.started": "2021-06-02T13:25:55.425291Z"
    },
    "papermill": {
     "duration": 1.565157,
     "end_time": "2021-06-02T13:27:28.070175",
     "exception": false,
     "start_time": "2021-06-02T13:27:26.505018",
     "status": "completed"
    },
    "tags": []
   },
   "outputs": [],
   "source": [
    "import torch # 파이토치 \n",
    "import random\n",
    "import numpy as np\n",
    "\n",
    "# 시드 값 고정\n",
    "def set_seed(seed):\n",
    "#     torch.use_deterministic_algorithms(True)\n",
    "    torch.backends.cudnn.deterministic = True\n",
    "    torch.backends.cudnn.benchmark = False\n",
    "    torch.manual_seed(seed)\n",
    "    torch.cuda.manual_seed_all(seed)\n",
    "    np.random.seed(seed)\n",
    "    random.seed(seed)\n",
    "\n",
    "set_seed(10)"
   ]
  },
  {
   "cell_type": "markdown",
   "id": "median-heater",
   "metadata": {
    "papermill": {
     "duration": 0.036955,
     "end_time": "2021-06-02T13:27:28.131300",
     "exception": false,
     "start_time": "2021-06-02T13:27:28.094345",
     "status": "completed"
    },
    "tags": []
   },
   "source": [
    "### GPU 장비 설정"
   ]
  },
  {
   "cell_type": "code",
   "execution_count": 4,
   "id": "demographic-certification",
   "metadata": {
    "execution": {
     "iopub.execute_input": "2021-06-02T13:27:28.223627Z",
     "iopub.status.busy": "2021-06-02T13:27:28.222921Z",
     "iopub.status.idle": "2021-06-02T13:27:28.226816Z",
     "shell.execute_reply": "2021-06-02T13:27:28.225918Z",
     "shell.execute_reply.started": "2021-06-02T13:25:56.794003Z"
    },
    "papermill": {
     "duration": 0.072601,
     "end_time": "2021-06-02T13:27:28.226933",
     "exception": false,
     "start_time": "2021-06-02T13:27:28.154332",
     "status": "completed"
    },
    "tags": []
   },
   "outputs": [],
   "source": [
    "if torch.cuda.is_available():\n",
    "    device = torch.device('cuda')\n",
    "else:\n",
    "    device = torch.device('cpu')"
   ]
  },
  {
   "cell_type": "code",
   "execution_count": 5,
   "id": "listed-singing",
   "metadata": {
    "execution": {
     "iopub.execute_input": "2021-06-02T13:27:28.280258Z",
     "iopub.status.busy": "2021-06-02T13:27:28.279647Z",
     "iopub.status.idle": "2021-06-02T13:27:28.283305Z",
     "shell.execute_reply": "2021-06-02T13:27:28.283691Z",
     "shell.execute_reply.started": "2021-06-02T13:25:56.860714Z"
    },
    "papermill": {
     "duration": 0.033836,
     "end_time": "2021-06-02T13:27:28.283823",
     "exception": false,
     "start_time": "2021-06-02T13:27:28.249987",
     "status": "completed"
    },
    "tags": []
   },
   "outputs": [
    {
     "data": {
      "text/plain": [
       "device(type='cuda')"
      ]
     },
     "execution_count": 5,
     "metadata": {},
     "output_type": "execute_result"
    }
   ],
   "source": [
    "device"
   ]
  },
  {
   "cell_type": "markdown",
   "id": "static-found",
   "metadata": {
    "papermill": {
     "duration": 0.022942,
     "end_time": "2021-06-02T13:27:28.330553",
     "exception": false,
     "start_time": "2021-06-02T13:27:28.307611",
     "status": "completed"
    },
    "tags": []
   },
   "source": [
    "## 7.3.2 데이터 준비하기"
   ]
  },
  {
   "cell_type": "markdown",
   "id": "unique-sector",
   "metadata": {
    "papermill": {
     "duration": 0.022963,
     "end_time": "2021-06-02T13:27:28.376707",
     "exception": false,
     "start_time": "2021-06-02T13:27:28.353744",
     "status": "completed"
    },
    "tags": []
   },
   "source": [
    "### 훈련 데이터, 검증 데이터 분리"
   ]
  },
  {
   "cell_type": "code",
   "execution_count": 6,
   "id": "interior-aberdeen",
   "metadata": {
    "_uuid": "c07eab67e573c7de05e11065b5bafc1bbff284fb",
    "execution": {
     "iopub.execute_input": "2021-06-02T13:27:28.428034Z",
     "iopub.status.busy": "2021-06-02T13:27:28.427388Z",
     "iopub.status.idle": "2021-06-02T13:27:29.257604Z",
     "shell.execute_reply": "2021-06-02T13:27:29.257124Z",
     "shell.execute_reply.started": "2021-06-02T13:25:56.871914Z"
    },
    "papermill": {
     "duration": 0.857419,
     "end_time": "2021-06-02T13:27:29.257732",
     "exception": false,
     "start_time": "2021-06-02T13:27:28.400313",
     "status": "completed"
    },
    "tags": []
   },
   "outputs": [],
   "source": [
    "from sklearn.model_selection import train_test_split\n",
    "\n",
    "# 훈련 데이터, 검증 데이터 분리\n",
    "train, valid = train_test_split(labels, \n",
    "                                test_size=0.1,\n",
    "                                stratify=labels['has_cactus'],\n",
    "                                random_state=10)"
   ]
  },
  {
   "cell_type": "code",
   "execution_count": 7,
   "id": "revolutionary-leader",
   "metadata": {
    "execution": {
     "iopub.execute_input": "2021-06-02T13:27:29.309373Z",
     "iopub.status.busy": "2021-06-02T13:27:29.308409Z",
     "iopub.status.idle": "2021-06-02T13:27:29.313988Z",
     "shell.execute_reply": "2021-06-02T13:27:29.313251Z",
     "shell.execute_reply.started": "2021-06-02T13:25:57.699401Z"
    },
    "papermill": {
     "duration": 0.033059,
     "end_time": "2021-06-02T13:27:29.314129",
     "exception": false,
     "start_time": "2021-06-02T13:27:29.281070",
     "status": "completed"
    },
    "tags": []
   },
   "outputs": [
    {
     "name": "stdout",
     "output_type": "stream",
     "text": [
      "훈련 데이터 개수: 15750\n",
      "검증 데이터 개수: 1750\n"
     ]
    }
   ],
   "source": [
    "print('훈련 데이터 개수:', len(train))\n",
    "print('검증 데이터 개수:', len(valid))"
   ]
  },
  {
   "cell_type": "markdown",
   "id": "ongoing-barbados",
   "metadata": {
    "papermill": {
     "duration": 0.023173,
     "end_time": "2021-06-02T13:27:29.360904",
     "exception": false,
     "start_time": "2021-06-02T13:27:29.337731",
     "status": "completed"
    },
    "tags": []
   },
   "source": [
    "### 데이터 세트 정의"
   ]
  },
  {
   "cell_type": "code",
   "execution_count": 8,
   "id": "medieval-spray",
   "metadata": {
    "_uuid": "1b05af8d59d9d5b092e96f72dfebb19591416de9",
    "execution": {
     "iopub.execute_input": "2021-06-02T13:27:29.414237Z",
     "iopub.status.busy": "2021-06-02T13:27:29.413650Z",
     "iopub.status.idle": "2021-06-02T13:27:29.651302Z",
     "shell.execute_reply": "2021-06-02T13:27:29.650821Z",
     "shell.execute_reply.started": "2021-06-02T13:25:57.709811Z"
    },
    "papermill": {
     "duration": 0.267257,
     "end_time": "2021-06-02T13:27:29.651437",
     "exception": false,
     "start_time": "2021-06-02T13:27:29.384180",
     "status": "completed"
    },
    "tags": []
   },
   "outputs": [],
   "source": [
    "import cv2 # OpenCV 라이브러리\n",
    "from torch.utils.data import Dataset # 데이터 생성을 위한 클래스\n",
    "\n",
    "class ImageDataset(Dataset):\n",
    "    # 초기화 메서드(생성자) \n",
    "    def __init__(self, df, img_dir = './', transform=None):\n",
    "        super().__init__() # 상속받은 Dataset의 __init__() 메서드 호출 \n",
    "        self.df = df\n",
    "        self.img_dir = img_dir\n",
    "        self.transform = transform\n",
    "    \n",
    "    # 데이터 세트 크기 반환 메서드 \n",
    "    def __len__(self):\n",
    "        return len(self.df)\n",
    "    \n",
    "    # 인덱스(idx)에 해당하는 데이터 반환 메서드 \n",
    "    def __getitem__(self, idx):\n",
    "        img_path = self.img_dir + self.df.iloc[idx, 0] # 이미지 파일 경로 \n",
    "        image = cv2.imread(img_path) # 이미지 파일 읽기 \n",
    "        image = cv2.cvtColor(image, cv2.COLOR_BGR2RGB) # 이미지 색상 보정\n",
    "        label = self.df.iloc[idx, 1] # 이미지 레이블(타깃 값)\n",
    "        # 이미지 변환\n",
    "        if self.transform is not None:\n",
    "            image = self.transform(image)\n",
    "        return image, label"
   ]
  },
  {
   "cell_type": "markdown",
   "id": "prime-greensboro",
   "metadata": {
    "papermill": {
     "duration": 0.023418,
     "end_time": "2021-06-02T13:27:29.698603",
     "exception": false,
     "start_time": "2021-06-02T13:27:29.675185",
     "status": "completed"
    },
    "tags": []
   },
   "source": [
    "### 데이터 세트 및 데이터 로더 생성"
   ]
  },
  {
   "cell_type": "code",
   "execution_count": 9,
   "id": "infrared-startup",
   "metadata": {
    "execution": {
     "iopub.execute_input": "2021-06-02T13:27:29.749753Z",
     "iopub.status.busy": "2021-06-02T13:27:29.749090Z",
     "iopub.status.idle": "2021-06-02T13:27:29.885759Z",
     "shell.execute_reply": "2021-06-02T13:27:29.884704Z",
     "shell.execute_reply.started": "2021-06-02T13:25:57.964543Z"
    },
    "papermill": {
     "duration": 0.163391,
     "end_time": "2021-06-02T13:27:29.885887",
     "exception": false,
     "start_time": "2021-06-02T13:27:29.722496",
     "status": "completed"
    },
    "tags": []
   },
   "outputs": [],
   "source": [
    "from torchvision import transforms # 이미지 변환을 위한 모듈\n",
    "\n",
    "transform = transforms.ToTensor()"
   ]
  },
  {
   "cell_type": "code",
   "execution_count": 10,
   "id": "likely-mainstream",
   "metadata": {
    "execution": {
     "iopub.execute_input": "2021-06-02T13:27:29.937233Z",
     "iopub.status.busy": "2021-06-02T13:27:29.936386Z",
     "iopub.status.idle": "2021-06-02T13:27:29.939256Z",
     "shell.execute_reply": "2021-06-02T13:27:29.938836Z",
     "shell.execute_reply.started": "2021-06-02T13:25:58.118383Z"
    },
    "papermill": {
     "duration": 0.029932,
     "end_time": "2021-06-02T13:27:29.939369",
     "exception": false,
     "start_time": "2021-06-02T13:27:29.909437",
     "status": "completed"
    },
    "tags": []
   },
   "outputs": [],
   "source": [
    "dataset_train = ImageDataset(df=train, img_dir='train/', transform=transform)\n",
    "dataset_valid = ImageDataset(df=valid, img_dir='train/', transform=transform)"
   ]
  },
  {
   "cell_type": "code",
   "execution_count": 11,
   "id": "corporate-segment",
   "metadata": {
    "_uuid": "c247391c28497ad35c72f5218398ea71f2d0d5ff",
    "execution": {
     "iopub.execute_input": "2021-06-02T13:27:29.991311Z",
     "iopub.status.busy": "2021-06-02T13:27:29.990632Z",
     "iopub.status.idle": "2021-06-02T13:27:29.993505Z",
     "shell.execute_reply": "2021-06-02T13:27:29.993080Z",
     "shell.execute_reply.started": "2021-06-02T13:25:58.132031Z"
    },
    "papermill": {
     "duration": 0.030476,
     "end_time": "2021-06-02T13:27:29.993609",
     "exception": false,
     "start_time": "2021-06-02T13:27:29.963133",
     "status": "completed"
    },
    "tags": []
   },
   "outputs": [],
   "source": [
    "from torch.utils.data import DataLoader # 데이터 로더 생성을 위한 클래스\n",
    "\n",
    "loader_train = DataLoader(dataset=dataset_train, batch_size=32, \n",
    "                          shuffle=True)\n",
    "loader_valid = DataLoader(dataset=dataset_valid, batch_size=32, \n",
    "                          shuffle=False)"
   ]
  },
  {
   "cell_type": "markdown",
   "id": "exclusive-transition",
   "metadata": {
    "papermill": {
     "duration": 0.023735,
     "end_time": "2021-06-02T13:27:30.040448",
     "exception": false,
     "start_time": "2021-06-02T13:27:30.016713",
     "status": "completed"
    },
    "tags": []
   },
   "source": [
    "## 7.3.3 모델 생성"
   ]
  },
  {
   "cell_type": "code",
   "execution_count": 12,
   "id": "united-surface",
   "metadata": {
    "_uuid": "0a2d5600bc2eb915ec0bdf5b52ba11e25096f7d0",
    "execution": {
     "iopub.execute_input": "2021-06-02T13:27:30.094780Z",
     "iopub.status.busy": "2021-06-02T13:27:30.094080Z",
     "iopub.status.idle": "2021-06-02T13:27:30.096433Z",
     "shell.execute_reply": "2021-06-02T13:27:30.096922Z",
     "shell.execute_reply.started": "2021-06-02T13:25:58.149187Z"
    },
    "papermill": {
     "duration": 0.033342,
     "end_time": "2021-06-02T13:27:30.097033",
     "exception": false,
     "start_time": "2021-06-02T13:27:30.063691",
     "status": "completed"
    },
    "tags": []
   },
   "outputs": [],
   "source": [
    "import torch.nn as nn # 신경망 모듈\n",
    "import torch.nn.functional as F # 신경망 모듈에서 자주 사용되는 함수\n",
    "\n",
    "class Model(nn.Module):\n",
    "    # 신경망 계층 정의 \n",
    "    def __init__(self):\n",
    "        super().__init__() # 상속받은 nn.Module의 __init__() 메서드 호출\n",
    "        # 첫 번째 합성곱 계층 \n",
    "        self.conv1 = nn.Conv2d(in_channels=3, out_channels=32, \n",
    "                               kernel_size=3, padding=2) \n",
    "        # 두 번째 합성곱 계층 \n",
    "        self.conv2 = nn.Conv2d(in_channels=32, out_channels=64, \n",
    "                               kernel_size=3, padding=2) \n",
    "        # 최대 풀링 계층 \n",
    "        self.max_pool = nn.MaxPool2d(kernel_size=2) \n",
    "        # 평균 풀링 계층 \n",
    "        self.avg_pool = nn.AvgPool2d(kernel_size=2) \n",
    "        # 전결합 계층 \n",
    "        self.fc = nn.Linear(in_features=64 * 4 * 4, out_features=2)\n",
    "        \n",
    "    # 순전파 출력 정의 \n",
    "    def forward(self, x):\n",
    "        x = self.max_pool(F.relu(self.conv1(x)))\n",
    "        x = self.max_pool(F.relu(self.conv2(x)))\n",
    "        x = self.avg_pool(x)\n",
    "        x = x.view(-1, 64 * 4 * 4) # 평탄화\n",
    "        x = self.fc(x)\n",
    "        return x"
   ]
  },
  {
   "cell_type": "code",
   "execution_count": 13,
   "id": "instrumental-washington",
   "metadata": {
    "execution": {
     "iopub.execute_input": "2021-06-02T13:27:30.147605Z",
     "iopub.status.busy": "2021-06-02T13:27:30.146922Z",
     "iopub.status.idle": "2021-06-02T13:27:30.149305Z",
     "shell.execute_reply": "2021-06-02T13:27:30.149672Z",
     "shell.execute_reply.started": "2021-06-02T13:25:58.177031Z"
    },
    "papermill": {
     "duration": 0.029125,
     "end_time": "2021-06-02T13:27:30.149784",
     "exception": false,
     "start_time": "2021-06-02T13:27:30.120659",
     "status": "completed"
    },
    "tags": []
   },
   "outputs": [],
   "source": [
    "# class Model(nn.Module):\n",
    "#     def __init__(self):\n",
    "#         super().__init__() \n",
    "#         # 첫 번째 합성곱, 최대 풀링 계층\n",
    "#         self.layer1 = nn.Sequential(nn.Conv2d(in_channels=3, \n",
    "#                                               out_channels=32, \n",
    "#                                               kernel_size=3, \n",
    "#                                               padding=2),\n",
    "#                                     nn.ReLU(),\n",
    "#                                     nn.MaxPool2d(kernel_size=2))\n",
    "#         # 두 번째 합성곱, 최대 풀링 계층\n",
    "#         self.layer2 = nn.Sequential(nn.Conv2d(in_channels=32, \n",
    "#                                               out_channels=64, \n",
    "#                                               kernel_size=3, \n",
    "#                                               padding=2),\n",
    "#                                     nn.ReLU(),\n",
    "#                                     nn.MaxPool2d(kernel_size=2))\n",
    "#         # 평균 풀링 계층\n",
    "#         self.avg_pool = nn.AvgPool2d(kernel_size=2) \n",
    "#         # 전결합 계층\n",
    "#         self.fc = nn.Linear(in_features=64 * 4 * 4, out_features=2)\n",
    "        \n",
    "#     # 순전파 출력 정의\n",
    "#     def forward(self, x):\n",
    "#         x = self.layer1(x)\n",
    "#         x = self.layer2(x)\n",
    "#         x = self.avg_pool(x)\n",
    "#         x = x.view(-1, 64 * 4 * 4) # 평탄화\n",
    "#         x = self.fc(x)\n",
    "#         return x"
   ]
  },
  {
   "cell_type": "code",
   "execution_count": 14,
   "id": "retained-receipt",
   "metadata": {
    "_cell_guid": "79c7e3d0-c299-4dcb-8224-4455121ee9b0",
    "_uuid": "d629ff2d2480ee46fbb7e2d37f6b5fab8052498a",
    "execution": {
     "iopub.execute_input": "2021-06-02T13:27:30.200013Z",
     "iopub.status.busy": "2021-06-02T13:27:30.199500Z",
     "iopub.status.idle": "2021-06-02T13:27:33.952291Z",
     "shell.execute_reply": "2021-06-02T13:27:33.951357Z",
     "shell.execute_reply.started": "2021-06-02T13:25:58.187928Z"
    },
    "papermill": {
     "duration": 3.779085,
     "end_time": "2021-06-02T13:27:33.952420",
     "exception": false,
     "start_time": "2021-06-02T13:27:30.173335",
     "status": "completed"
    },
    "tags": []
   },
   "outputs": [
    {
     "data": {
      "text/plain": [
       "Model(\n",
       "  (conv1): Conv2d(3, 32, kernel_size=(3, 3), stride=(1, 1), padding=(2, 2))\n",
       "  (conv2): Conv2d(32, 64, kernel_size=(3, 3), stride=(1, 1), padding=(2, 2))\n",
       "  (max_pool): MaxPool2d(kernel_size=2, stride=2, padding=0, dilation=1, ceil_mode=False)\n",
       "  (avg_pool): AvgPool2d(kernel_size=2, stride=2, padding=0)\n",
       "  (fc): Linear(in_features=1024, out_features=2, bias=True)\n",
       ")"
      ]
     },
     "execution_count": 14,
     "metadata": {},
     "output_type": "execute_result"
    }
   ],
   "source": [
    "model = Model().to(device)\n",
    "\n",
    "model"
   ]
  },
  {
   "cell_type": "markdown",
   "id": "ahead-flight",
   "metadata": {
    "papermill": {
     "duration": 0.023456,
     "end_time": "2021-06-02T13:27:33.999792",
     "exception": false,
     "start_time": "2021-06-02T13:27:33.976336",
     "status": "completed"
    },
    "tags": []
   },
   "source": [
    "## 7.3.4 모델 훈련"
   ]
  },
  {
   "cell_type": "markdown",
   "id": "supreme-design",
   "metadata": {
    "papermill": {
     "duration": 0.023432,
     "end_time": "2021-06-02T13:27:34.046773",
     "exception": false,
     "start_time": "2021-06-02T13:27:34.023341",
     "status": "completed"
    },
    "tags": []
   },
   "source": [
    "### 손실 함수와 옵티마이저 설정"
   ]
  },
  {
   "cell_type": "code",
   "execution_count": 15,
   "id": "collective-resident",
   "metadata": {
    "execution": {
     "iopub.execute_input": "2021-06-02T13:27:34.099782Z",
     "iopub.status.busy": "2021-06-02T13:27:34.098003Z",
     "iopub.status.idle": "2021-06-02T13:27:34.100400Z",
     "shell.execute_reply": "2021-06-02T13:27:34.100809Z",
     "shell.execute_reply.started": "2021-06-02T13:26:02.182415Z"
    },
    "papermill": {
     "duration": 0.030624,
     "end_time": "2021-06-02T13:27:34.100937",
     "exception": false,
     "start_time": "2021-06-02T13:27:34.070313",
     "status": "completed"
    },
    "tags": []
   },
   "outputs": [],
   "source": [
    "# 손실함수\n",
    "criterion = nn.CrossEntropyLoss()"
   ]
  },
  {
   "cell_type": "code",
   "execution_count": 16,
   "id": "related-detector",
   "metadata": {
    "_uuid": "fceb2929d8750acb2de745cd9ff3d2d458820df8",
    "execution": {
     "iopub.execute_input": "2021-06-02T13:27:34.153589Z",
     "iopub.status.busy": "2021-06-02T13:27:34.152426Z",
     "iopub.status.idle": "2021-06-02T13:27:34.154976Z",
     "shell.execute_reply": "2021-06-02T13:27:34.155356Z",
     "shell.execute_reply.started": "2021-06-02T13:26:02.190542Z"
    },
    "papermill": {
     "duration": 0.030399,
     "end_time": "2021-06-02T13:27:34.155476",
     "exception": false,
     "start_time": "2021-06-02T13:27:34.125077",
     "status": "completed"
    },
    "tags": []
   },
   "outputs": [],
   "source": [
    "# 옵티마이저\n",
    "optimizer = torch.optim.SGD(model.parameters(), lr=0.01)"
   ]
  },
  {
   "cell_type": "markdown",
   "id": "social-tracy",
   "metadata": {
    "papermill": {
     "duration": 0.023704,
     "end_time": "2021-06-02T13:27:34.202712",
     "exception": false,
     "start_time": "2021-06-02T13:27:34.179008",
     "status": "completed"
    },
    "tags": []
   },
   "source": [
    "### 모델 훈련"
   ]
  },
  {
   "cell_type": "code",
   "execution_count": 17,
   "id": "stock-aaron",
   "metadata": {
    "execution": {
     "iopub.execute_input": "2021-06-02T13:27:34.255783Z",
     "iopub.status.busy": "2021-06-02T13:27:34.255132Z",
     "iopub.status.idle": "2021-06-02T13:27:34.258370Z",
     "shell.execute_reply": "2021-06-02T13:27:34.258766Z",
     "shell.execute_reply.started": "2021-06-02T13:26:02.206591Z"
    },
    "papermill": {
     "duration": 0.032087,
     "end_time": "2021-06-02T13:27:34.258888",
     "exception": false,
     "start_time": "2021-06-02T13:27:34.226801",
     "status": "completed"
    },
    "tags": []
   },
   "outputs": [
    {
     "data": {
      "text/plain": [
       "493"
      ]
     },
     "execution_count": 17,
     "metadata": {},
     "output_type": "execute_result"
    }
   ],
   "source": [
    "import math\n",
    "\n",
    "math.ceil(len(train) / 32)"
   ]
  },
  {
   "cell_type": "code",
   "execution_count": 18,
   "id": "dramatic-replica",
   "metadata": {
    "execution": {
     "iopub.execute_input": "2021-06-02T13:27:34.310393Z",
     "iopub.status.busy": "2021-06-02T13:27:34.309868Z",
     "iopub.status.idle": "2021-06-02T13:27:34.314744Z",
     "shell.execute_reply": "2021-06-02T13:27:34.315253Z",
     "shell.execute_reply.started": "2021-06-02T13:26:02.218951Z"
    },
    "papermill": {
     "duration": 0.032657,
     "end_time": "2021-06-02T13:27:34.315373",
     "exception": false,
     "start_time": "2021-06-02T13:27:34.282716",
     "status": "completed"
    },
    "tags": []
   },
   "outputs": [
    {
     "data": {
      "text/plain": [
       "493"
      ]
     },
     "execution_count": 18,
     "metadata": {},
     "output_type": "execute_result"
    }
   ],
   "source": [
    "len(loader_train)"
   ]
  },
  {
   "cell_type": "code",
   "execution_count": 19,
   "id": "governmental-plenty",
   "metadata": {
    "_uuid": "2c37417ae6b62ab4551bc8a888916ca1e591d284",
    "execution": {
     "iopub.execute_input": "2021-06-02T13:27:34.371992Z",
     "iopub.status.busy": "2021-06-02T13:27:34.371421Z",
     "iopub.status.idle": "2021-06-02T13:28:20.488937Z",
     "shell.execute_reply": "2021-06-02T13:28:20.487788Z",
     "shell.execute_reply.started": "2021-06-02T13:26:02.228595Z"
    },
    "papermill": {
     "duration": 46.149205,
     "end_time": "2021-06-02T13:28:20.489063",
     "exception": false,
     "start_time": "2021-06-02T13:27:34.339858",
     "status": "completed"
    },
    "tags": []
   },
   "outputs": [
    {
     "name": "stdout",
     "output_type": "stream",
     "text": [
      "에폭: [1/10], 손실값: 0.5164\n",
      "에폭: [2/10], 손실값: 0.3245\n",
      "에폭: [3/10], 손실값: 0.2424\n",
      "에폭: [4/10], 손실값: 0.1951\n",
      "에폭: [5/10], 손실값: 0.1710\n",
      "에폭: [6/10], 손실값: 0.1552\n",
      "에폭: [7/10], 손실값: 0.1449\n",
      "에폭: [8/10], 손실값: 0.1338\n",
      "에폭: [9/10], 손실값: 0.1258\n",
      "에폭: [10/10], 손실값: 0.1200\n"
     ]
    }
   ],
   "source": [
    "epochs = 10 # 총 에폭\n",
    "\n",
    "# 총 10에폭만큼 훈련 \n",
    "for epoch in range(epochs):\n",
    "    epoch_loss = 0 # 에폭별 손실값 초기화\n",
    "    # 미니배치 크기만큼 데이터를 추출하는 작업을 '반복 횟수'만큼 반복 \n",
    "    for images, labels in loader_train:\n",
    "        # 이미지, 레이블 데이터 미니배치를 장비에 할당 \n",
    "        images = images.to(device)\n",
    "        labels = labels.to(device)\n",
    "\n",
    "        # 옵티마이저 내 기울기 초기화 -\n",
    "        optimizer.zero_grad()\n",
    "        # 이미지 데이터를 신경망 모델의 입력값으로 사용해 출력값 계산 \n",
    "        outputs = model(images)\n",
    "        # 손실함수를 활용해 outputs와 labels의 손실값 계산 \n",
    "        loss = criterion(outputs, labels)\n",
    "        # 역전파 수행 \n",
    "        loss.backward()\n",
    "        # 가중치 갱신 \n",
    "        optimizer.step()\n",
    "        \n",
    "        epoch_loss += loss.item() # 현재 배치에서의 손실 추가\n",
    "        \n",
    "    print(f'에폭: [{epoch+1}/{epochs}], 손실값: {epoch_loss/len(loader_train):.4f}')"
   ]
  },
  {
   "cell_type": "markdown",
   "id": "through-algeria",
   "metadata": {
    "papermill": {
     "duration": 0.027346,
     "end_time": "2021-06-02T13:28:20.543371",
     "exception": false,
     "start_time": "2021-06-02T13:28:20.516025",
     "status": "completed"
    },
    "tags": []
   },
   "source": [
    "## 7.3.5 모델 성능 검증"
   ]
  },
  {
   "cell_type": "code",
   "execution_count": 20,
   "id": "collect-syndrome",
   "metadata": {
    "execution": {
     "iopub.execute_input": "2021-06-02T13:28:20.605068Z",
     "iopub.status.busy": "2021-06-02T13:28:20.604183Z",
     "iopub.status.idle": "2021-06-02T13:28:21.073482Z",
     "shell.execute_reply": "2021-06-02T13:28:21.074313Z",
     "shell.execute_reply.started": "2021-06-02T13:26:49.514978Z"
    },
    "papermill": {
     "duration": 0.504064,
     "end_time": "2021-06-02T13:28:21.074515",
     "exception": false,
     "start_time": "2021-06-02T13:28:20.570451",
     "status": "completed"
    },
    "tags": []
   },
   "outputs": [
    {
     "name": "stdout",
     "output_type": "stream",
     "text": [
      "검증 데이터 ROC AUC : 0.9931\n"
     ]
    }
   ],
   "source": [
    "from sklearn.metrics import roc_auc_score # ROC AUC 점수 계산 함수\n",
    "\n",
    "# 예측 확률값과 실제값을 담을 리스트 초기화\n",
    "true_list = []\n",
    "preds_list = []\n",
    "\n",
    "model.eval() # 모델을 평가 상태로 설정 \n",
    "\n",
    "with torch.no_grad(): # 기울기 계산 비활성화\n",
    "    for images, labels in loader_valid:\n",
    "        # 이미지, 레이블 데이터 미니배치를 장비에 할당 \n",
    "        images = images.to(device)\n",
    "        labels = labels.to(device)\n",
    "        \n",
    "        # 이미지 데이터를 신경망 모델의 입력값으로 사용해 출력값 계산\n",
    "        outputs = model(images)\n",
    "        preds = torch.softmax(outputs.cpu(), dim=1)[:, 1] # 예측 확률값 \n",
    "        true = labels.cpu() # 실제값 \n",
    "        # 예측 확률값과 실제값을 리스트에 추가\n",
    "        preds_list.extend(preds)\n",
    "        true_list.extend(true)\n",
    "        \n",
    "    # 검증 데이터 ROC AUC 점수 계산 \n",
    "    print(f'검증 데이터 ROC AUC : {roc_auc_score(true_list, preds_list):.4f}')"
   ]
  },
  {
   "cell_type": "markdown",
   "id": "cordless-minute",
   "metadata": {
    "papermill": {
     "duration": 0.027934,
     "end_time": "2021-06-02T13:28:21.130874",
     "exception": false,
     "start_time": "2021-06-02T13:28:21.102940",
     "status": "completed"
    },
    "tags": []
   },
   "source": [
    "## 7.3.6 예측 및 결과 제출"
   ]
  },
  {
   "cell_type": "code",
   "execution_count": 21,
   "id": "innocent-democrat",
   "metadata": {
    "_uuid": "870413a60281e0c4115fbc7cf192508e15a9e269",
    "execution": {
     "iopub.execute_input": "2021-06-02T13:28:21.189790Z",
     "iopub.status.busy": "2021-06-02T13:28:21.189015Z",
     "iopub.status.idle": "2021-06-02T13:28:21.191185Z",
     "shell.execute_reply": "2021-06-02T13:28:21.191837Z",
     "shell.execute_reply.started": "2021-06-02T13:26:49.989794Z"
    },
    "papermill": {
     "duration": 0.033831,
     "end_time": "2021-06-02T13:28:21.191966",
     "exception": false,
     "start_time": "2021-06-02T13:28:21.158135",
     "status": "completed"
    },
    "tags": []
   },
   "outputs": [],
   "source": [
    "dataset_test = ImageDataset(df=submission, img_dir='test/', transform=transform)\n",
    "loader_test = DataLoader(dataset=dataset_test, batch_size=32, \n",
    "                         shuffle=False)"
   ]
  },
  {
   "cell_type": "markdown",
   "id": "educational-hungarian",
   "metadata": {
    "papermill": {
     "duration": 0.027293,
     "end_time": "2021-06-02T13:28:21.246340",
     "exception": false,
     "start_time": "2021-06-02T13:28:21.219047",
     "status": "completed"
    },
    "tags": []
   },
   "source": [
    "### 예측"
   ]
  },
  {
   "cell_type": "code",
   "execution_count": 22,
   "id": "downtown-polymer",
   "metadata": {
    "execution": {
     "iopub.execute_input": "2021-06-02T13:28:21.309405Z",
     "iopub.status.busy": "2021-06-02T13:28:21.308560Z",
     "iopub.status.idle": "2021-06-02T13:28:22.242181Z",
     "shell.execute_reply": "2021-06-02T13:28:22.241699Z",
     "shell.execute_reply.started": "2021-06-02T13:26:49.996561Z"
    },
    "papermill": {
     "duration": 0.968616,
     "end_time": "2021-06-02T13:28:22.242350",
     "exception": false,
     "start_time": "2021-06-02T13:28:21.273734",
     "status": "completed"
    },
    "tags": []
   },
   "outputs": [],
   "source": [
    "model.eval() # 모델을 평가 상태로 설정\n",
    "\n",
    "preds = [] # 타깃 예측 값 저장용 변수 초기화 \n",
    "\n",
    "with torch.no_grad(): # 기울기 계산 비활성화\n",
    "    for images, _ in loader_test:\n",
    "        # 이미지 데이터 미니배치를 장비에 할당\n",
    "        images = images.to(device)\n",
    "        \n",
    "        # 이미지 데이터를 신경망 모델의 입력값으로 사용해 출력값 계산\n",
    "        outputs = model(images)\n",
    "        # 타깃 값이 1일 확률(예측 값) \n",
    "        preds_part = torch.softmax(outputs.cpu(), dim=1)[:, 1].tolist()\n",
    "        # preds에 preds_part 이어붙이기 \n",
    "        preds.extend(preds_part)"
   ]
  },
  {
   "cell_type": "markdown",
   "id": "median-exercise",
   "metadata": {
    "papermill": {
     "duration": 0.026794,
     "end_time": "2021-06-02T13:28:22.296560",
     "exception": false,
     "start_time": "2021-06-02T13:28:22.269766",
     "status": "completed"
    },
    "tags": []
   },
   "source": [
    "### 결과 제출"
   ]
  },
  {
   "cell_type": "code",
   "execution_count": 23,
   "id": "mounted-check",
   "metadata": {
    "execution": {
     "iopub.execute_input": "2021-06-02T13:28:22.356347Z",
     "iopub.status.busy": "2021-06-02T13:28:22.355784Z",
     "iopub.status.idle": "2021-06-02T13:28:22.510312Z",
     "shell.execute_reply": "2021-06-02T13:28:22.509771Z",
     "shell.execute_reply.started": "2021-06-02T13:26:50.950225Z"
    },
    "papermill": {
     "duration": 0.186002,
     "end_time": "2021-06-02T13:28:22.510446",
     "exception": false,
     "start_time": "2021-06-02T13:28:22.324444",
     "status": "completed"
    },
    "tags": []
   },
   "outputs": [],
   "source": [
    "submission['has_cactus'] = preds\n",
    "submission.to_csv('submission.csv', index=False)"
   ]
  },
  {
   "cell_type": "code",
   "execution_count": 24,
   "id": "computational-pledge",
   "metadata": {
    "execution": {
     "iopub.execute_input": "2021-06-02T13:28:22.640403Z",
     "iopub.status.busy": "2021-06-02T13:28:22.639518Z",
     "iopub.status.idle": "2021-06-02T13:28:22.648187Z",
     "shell.execute_reply": "2021-06-02T13:28:22.649502Z",
     "shell.execute_reply.started": "2021-06-02T13:26:51.238225Z"
    },
    "papermill": {
     "duration": 0.081838,
     "end_time": "2021-06-02T13:28:22.649678",
     "exception": false,
     "start_time": "2021-06-02T13:28:22.567840",
     "status": "completed"
    },
    "tags": []
   },
   "outputs": [
    {
     "data": {
      "text/html": [
       "<div>\n",
       "<style scoped>\n",
       "    .dataframe tbody tr th:only-of-type {\n",
       "        vertical-align: middle;\n",
       "    }\n",
       "\n",
       "    .dataframe tbody tr th {\n",
       "        vertical-align: top;\n",
       "    }\n",
       "\n",
       "    .dataframe thead th {\n",
       "        text-align: right;\n",
       "    }\n",
       "</style>\n",
       "<table border=\"1\" class=\"dataframe\">\n",
       "  <thead>\n",
       "    <tr style=\"text-align: right;\">\n",
       "      <th></th>\n",
       "      <th>id</th>\n",
       "      <th>has_cactus</th>\n",
       "    </tr>\n",
       "  </thead>\n",
       "  <tbody>\n",
       "    <tr>\n",
       "      <th>0</th>\n",
       "      <td>000940378805c44108d287872b2f04ce.jpg</td>\n",
       "      <td>0.973219</td>\n",
       "    </tr>\n",
       "    <tr>\n",
       "      <th>1</th>\n",
       "      <td>0017242f54ececa4512b4d7937d1e21e.jpg</td>\n",
       "      <td>0.999869</td>\n",
       "    </tr>\n",
       "    <tr>\n",
       "      <th>2</th>\n",
       "      <td>001ee6d8564003107853118ab87df407.jpg</td>\n",
       "      <td>0.055072</td>\n",
       "    </tr>\n",
       "    <tr>\n",
       "      <th>3</th>\n",
       "      <td>002e175c3c1e060769475f52182583d0.jpg</td>\n",
       "      <td>0.070975</td>\n",
       "    </tr>\n",
       "    <tr>\n",
       "      <th>4</th>\n",
       "      <td>0036e44a7e8f7218e9bc7bf8137e4943.jpg</td>\n",
       "      <td>0.817590</td>\n",
       "    </tr>\n",
       "    <tr>\n",
       "      <th>...</th>\n",
       "      <td>...</td>\n",
       "      <td>...</td>\n",
       "    </tr>\n",
       "    <tr>\n",
       "      <th>3995</th>\n",
       "      <td>ffaafd0c9f2f0e73172848463bc2e523.jpg</td>\n",
       "      <td>0.994826</td>\n",
       "    </tr>\n",
       "    <tr>\n",
       "      <th>3996</th>\n",
       "      <td>ffae37344310a1549162493237d25d3f.jpg</td>\n",
       "      <td>0.999979</td>\n",
       "    </tr>\n",
       "    <tr>\n",
       "      <th>3997</th>\n",
       "      <td>ffbd469c56873d064326204aac546e0d.jpg</td>\n",
       "      <td>0.999305</td>\n",
       "    </tr>\n",
       "    <tr>\n",
       "      <th>3998</th>\n",
       "      <td>ffcb76b7d47f29ece11c751e5f763f52.jpg</td>\n",
       "      <td>0.989992</td>\n",
       "    </tr>\n",
       "    <tr>\n",
       "      <th>3999</th>\n",
       "      <td>fffed17d1a8e0433a934db518d7f532c.jpg</td>\n",
       "      <td>0.905966</td>\n",
       "    </tr>\n",
       "  </tbody>\n",
       "</table>\n",
       "<p>4000 rows × 2 columns</p>\n",
       "</div>"
      ],
      "text/plain": [
       "                                        id  has_cactus\n",
       "0     000940378805c44108d287872b2f04ce.jpg    0.973219\n",
       "1     0017242f54ececa4512b4d7937d1e21e.jpg    0.999869\n",
       "2     001ee6d8564003107853118ab87df407.jpg    0.055072\n",
       "3     002e175c3c1e060769475f52182583d0.jpg    0.070975\n",
       "4     0036e44a7e8f7218e9bc7bf8137e4943.jpg    0.817590\n",
       "...                                    ...         ...\n",
       "3995  ffaafd0c9f2f0e73172848463bc2e523.jpg    0.994826\n",
       "3996  ffae37344310a1549162493237d25d3f.jpg    0.999979\n",
       "3997  ffbd469c56873d064326204aac546e0d.jpg    0.999305\n",
       "3998  ffcb76b7d47f29ece11c751e5f763f52.jpg    0.989992\n",
       "3999  fffed17d1a8e0433a934db518d7f532c.jpg    0.905966\n",
       "\n",
       "[4000 rows x 2 columns]"
      ]
     },
     "execution_count": 24,
     "metadata": {},
     "output_type": "execute_result"
    }
   ],
   "source": [
    "submission"
   ]
  },
  {
   "cell_type": "code",
   "execution_count": 25,
   "id": "younger-pendant",
   "metadata": {
    "execution": {
     "iopub.execute_input": "2021-06-02T13:28:22.771245Z",
     "iopub.status.busy": "2021-06-02T13:28:22.770496Z",
     "iopub.status.idle": "2021-06-02T13:28:23.380314Z",
     "shell.execute_reply": "2021-06-02T13:28:23.378845Z",
     "shell.execute_reply.started": "2021-06-02T13:26:51.257071Z"
    },
    "papermill": {
     "duration": 0.667909,
     "end_time": "2021-06-02T13:28:23.380450",
     "exception": false,
     "start_time": "2021-06-02T13:28:22.712541",
     "status": "completed"
    },
    "tags": []
   },
   "outputs": [],
   "source": [
    "import shutil\n",
    "\n",
    "shutil.rmtree('./train')\n",
    "shutil.rmtree('./test')"
   ]
  }
 ],
 "metadata": {
  "kernelspec": {
   "display_name": "Python 3",
   "language": "python",
   "name": "python3"
  },
  "language_info": {
   "codemirror_mode": {
    "name": "ipython",
    "version": 3
   },
   "file_extension": ".py",
   "mimetype": "text/x-python",
   "name": "python",
   "nbconvert_exporter": "python",
   "pygments_lexer": "ipython3",
   "version": "3.7.9"
  },
  "papermill": {
   "default_parameters": {},
   "duration": 66.533364,
   "end_time": "2021-06-02T13:28:24.216954",
   "environment_variables": {},
   "exception": null,
   "input_path": "__notebook__.ipynb",
   "output_path": "__notebook__.ipynb",
   "parameters": {},
   "start_time": "2021-06-02T13:27:17.683590",
   "version": "2.3.2"
  }
 },
 "nbformat": 4,
 "nbformat_minor": 5
}
