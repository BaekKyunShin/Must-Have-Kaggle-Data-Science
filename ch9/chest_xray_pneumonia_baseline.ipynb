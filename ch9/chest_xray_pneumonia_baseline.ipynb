{
 "cells": [
  {
   "cell_type": "markdown",
   "id": "f609effe",
   "metadata": {
    "id": "LgPw8VXFaXAz",
    "papermill": {
     "duration": 0.02512,
     "end_time": "2021-07-14T14:45:05.901249",
     "exception": false,
     "start_time": "2021-07-14T14:45:05.876129",
     "status": "completed"
    },
    "tags": []
   },
   "source": [
    "# 9.3 흉부 엑스선을 기반으로 폐렴 진단 베이스라인 모델\n",
    "[흉부 엑스선 기반 폐렴 진단 데이터 세트 링크](https://www.kaggle.com/paultimothymooney/chest-xray-pneumonia)"
   ]
  },
  {
   "cell_type": "code",
   "execution_count": 1,
   "id": "1afa449a",
   "metadata": {
    "execution": {
     "iopub.execute_input": "2021-07-14T14:45:06.031725Z",
     "iopub.status.busy": "2021-07-14T14:45:06.029450Z",
     "iopub.status.idle": "2021-07-14T14:45:06.032570Z",
     "shell.execute_reply": "2021-07-14T14:45:06.033156Z",
     "shell.execute_reply.started": "2021-07-14T14:15:59.608723Z"
    },
    "id": "X7_nIWRQeNJl",
    "outputId": "8e55199d-0a5c-4d9c-c0aa-7223177d814c",
    "papermill": {
     "duration": 0.107989,
     "end_time": "2021-07-14T14:45:06.033489",
     "exception": false,
     "start_time": "2021-07-14T14:45:05.925500",
     "status": "completed"
    },
    "tags": []
   },
   "outputs": [],
   "source": [
    "# 데이터 경로\n",
    "data_path = '/kaggle/input/chest-xray-pneumonia/chest_xray/'\n",
    "\n",
    "# 훈련, 검증, 테스트 데이터 경로 설정\n",
    "train_path = data_path + 'train/'\n",
    "valid_path = data_path + 'val/'\n",
    "test_path = data_path + 'test/'"
   ]
  },
  {
   "cell_type": "markdown",
   "id": "5df046ab",
   "metadata": {
    "papermill": {
     "duration": 0.024501,
     "end_time": "2021-07-14T14:45:06.083450",
     "exception": false,
     "start_time": "2021-07-14T14:45:06.058949",
     "status": "completed"
    },
    "tags": []
   },
   "source": [
    "## 9.3.1 시드 값 고정 및 GPU 장비 설정"
   ]
  },
  {
   "cell_type": "markdown",
   "id": "c0721c09",
   "metadata": {
    "papermill": {
     "duration": 0.024672,
     "end_time": "2021-07-14T14:45:06.133412",
     "exception": false,
     "start_time": "2021-07-14T14:45:06.108740",
     "status": "completed"
    },
    "tags": []
   },
   "source": [
    "### 시드 값 고정"
   ]
  },
  {
   "cell_type": "code",
   "execution_count": 2,
   "id": "13c04e84",
   "metadata": {
    "execution": {
     "iopub.execute_input": "2021-07-14T14:45:06.190370Z",
     "iopub.status.busy": "2021-07-14T14:45:06.189658Z",
     "iopub.status.idle": "2021-07-14T14:45:07.729557Z",
     "shell.execute_reply": "2021-07-14T14:45:07.728875Z",
     "shell.execute_reply.started": "2021-07-14T14:15:59.622483Z"
    },
    "papermill": {
     "duration": 1.571491,
     "end_time": "2021-07-14T14:45:07.729765",
     "exception": false,
     "start_time": "2021-07-14T14:45:06.158274",
     "status": "completed"
    },
    "tags": []
   },
   "outputs": [],
   "source": [
    "import torch # 파이토치 \n",
    "import random\n",
    "import numpy as np\n",
    "import os\n",
    "\n",
    "# 시드 값 고정\n",
    "seed = 10\n",
    "\n",
    "os.environ['PYTHONHASHSEED'] = str(seed)\n",
    "random.seed(seed)\n",
    "np.random.seed(seed)\n",
    "torch.manual_seed(seed)\n",
    "torch.cuda.manual_seed(seed)\n",
    "torch.cuda.manual_seed_all(seed)\n",
    "torch.backends.cudnn.deterministic = True\n",
    "torch.backends.cudnn.benchmark = False\n",
    "torch.backends.cudnn.enabled = False"
   ]
  },
  {
   "cell_type": "markdown",
   "id": "ad973967",
   "metadata": {
    "papermill": {
     "duration": 0.023494,
     "end_time": "2021-07-14T14:45:07.777697",
     "exception": false,
     "start_time": "2021-07-14T14:45:07.754203",
     "status": "completed"
    },
    "tags": []
   },
   "source": [
    "### GPU 장비 설정"
   ]
  },
  {
   "cell_type": "code",
   "execution_count": 3,
   "id": "8204dd11",
   "metadata": {
    "execution": {
     "iopub.execute_input": "2021-07-14T14:45:07.886084Z",
     "iopub.status.busy": "2021-07-14T14:45:07.885226Z",
     "iopub.status.idle": "2021-07-14T14:45:07.889117Z",
     "shell.execute_reply": "2021-07-14T14:45:07.888573Z",
     "shell.execute_reply.started": "2021-07-14T14:16:00.895086Z"
    },
    "id": "awnsaF1oX31Q",
    "papermill": {
     "duration": 0.087785,
     "end_time": "2021-07-14T14:45:07.889270",
     "exception": false,
     "start_time": "2021-07-14T14:45:07.801485",
     "status": "completed"
    },
    "tags": []
   },
   "outputs": [],
   "source": [
    "device = torch.device('cuda' if torch.cuda.is_available() else 'cpu')"
   ]
  },
  {
   "cell_type": "markdown",
   "id": "e9551ebc",
   "metadata": {
    "papermill": {
     "duration": 0.025253,
     "end_time": "2021-07-14T14:45:07.939011",
     "exception": false,
     "start_time": "2021-07-14T14:45:07.913758",
     "status": "completed"
    },
    "tags": []
   },
   "source": [
    "## 9.3.2 데이터 준비하기"
   ]
  },
  {
   "cell_type": "markdown",
   "id": "fe6cad16",
   "metadata": {
    "papermill": {
     "duration": 0.024601,
     "end_time": "2021-07-14T14:45:07.988456",
     "exception": false,
     "start_time": "2021-07-14T14:45:07.963855",
     "status": "completed"
    },
    "tags": []
   },
   "source": [
    "### 데이터 증강을 위한 이미지 변환기 정의"
   ]
  },
  {
   "cell_type": "code",
   "execution_count": 4,
   "id": "db929927",
   "metadata": {
    "execution": {
     "iopub.execute_input": "2021-07-14T14:45:08.044784Z",
     "iopub.status.busy": "2021-07-14T14:45:08.044044Z",
     "iopub.status.idle": "2021-07-14T14:45:08.225366Z",
     "shell.execute_reply": "2021-07-14T14:45:08.224752Z",
     "shell.execute_reply.started": "2021-07-14T14:16:00.961785Z"
    },
    "id": "44_8AKyqasl9",
    "papermill": {
     "duration": 0.212505,
     "end_time": "2021-07-14T14:45:08.225513",
     "exception": false,
     "start_time": "2021-07-14T14:45:08.013008",
     "status": "completed"
    },
    "tags": []
   },
   "outputs": [],
   "source": [
    "from torchvision import transforms\n",
    "\n",
    "# 훈련 데이터용 변환기\n",
    "transform_train = transforms.Compose([\n",
    "                          transforms.Resize((224, 224)), # 이미지 크기 조정 \n",
    "                          transforms.CenterCrop(180), # 중앙 이미지 확대\n",
    "                          transforms.RandomHorizontalFlip(), # 좌우 대칭\n",
    "                          transforms.RandomVerticalFlip(), # 상하 대칭\n",
    "                          transforms.RandomRotation(20), # 이미지 회전\n",
    "                          transforms.ToTensor(), # 텐서 객체로 변환\n",
    "                          transforms.Normalize((0.485, 0.456, 0.406), \n",
    "                                               (0.229, 0.224, 0.225))]) # 정규화\n",
    "\n",
    "# 테스트 데이터용 변환기\n",
    "transform_test = transforms.Compose([\n",
    "                          transforms.Resize((224, 224)),\n",
    "                          transforms.ToTensor(),\n",
    "                          transforms.Normalize((0.485, 0.456, 0.406), \n",
    "                                               (0.229, 0.224, 0.225))])"
   ]
  },
  {
   "cell_type": "markdown",
   "id": "2a80c67f",
   "metadata": {
    "papermill": {
     "duration": 0.024175,
     "end_time": "2021-07-14T14:45:08.275641",
     "exception": false,
     "start_time": "2021-07-14T14:45:08.251466",
     "status": "completed"
    },
    "tags": []
   },
   "source": [
    "### 데이터 세트 및 데이터 로더 생성"
   ]
  },
  {
   "cell_type": "code",
   "execution_count": 5,
   "id": "0fd4f7f2",
   "metadata": {
    "execution": {
     "iopub.execute_input": "2021-07-14T14:45:08.330146Z",
     "iopub.status.busy": "2021-07-14T14:45:08.329359Z",
     "iopub.status.idle": "2021-07-14T14:45:10.580544Z",
     "shell.execute_reply": "2021-07-14T14:45:10.579843Z",
     "shell.execute_reply.started": "2021-07-14T14:16:01.114254Z"
    },
    "id": "p_OqCRWUasi7",
    "papermill": {
     "duration": 2.280388,
     "end_time": "2021-07-14T14:45:10.580780",
     "exception": false,
     "start_time": "2021-07-14T14:45:08.300392",
     "status": "completed"
    },
    "tags": []
   },
   "outputs": [],
   "source": [
    "from torchvision.datasets import ImageFolder\n",
    "\n",
    "# 훈련 데이터 세트\n",
    "datasets_train = ImageFolder(root=train_path, transform=transform_train)\n",
    "# 검증 데이터 세트\n",
    "datasets_valid = ImageFolder(root=valid_path, transform=transform_test) "
   ]
  },
  {
   "cell_type": "code",
   "execution_count": 6,
   "id": "89de6169",
   "metadata": {
    "execution": {
     "iopub.execute_input": "2021-07-14T14:45:10.641660Z",
     "iopub.status.busy": "2021-07-14T14:45:10.640677Z",
     "iopub.status.idle": "2021-07-14T14:45:10.645058Z",
     "shell.execute_reply": "2021-07-14T14:45:10.645589Z",
     "shell.execute_reply.started": "2021-07-14T14:16:03.756244Z"
    },
    "papermill": {
     "duration": 0.039289,
     "end_time": "2021-07-14T14:45:10.645746",
     "exception": false,
     "start_time": "2021-07-14T14:45:10.606457",
     "status": "completed"
    },
    "tags": []
   },
   "outputs": [
    {
     "data": {
      "text/plain": [
       "<torch._C.Generator at 0x7ff07a7f9850>"
      ]
     },
     "execution_count": 6,
     "metadata": {},
     "output_type": "execute_result"
    }
   ],
   "source": [
    "def seed_worker(worker_id):\n",
    "    worker_seed = torch.initial_seed() % 2**32\n",
    "    np.random.seed(worker_seed)\n",
    "    random.seed(worker_seed)\n",
    "\n",
    "# 제너레이터 시드 값 고정\n",
    "g = torch.Generator()\n",
    "g.manual_seed(0)"
   ]
  },
  {
   "cell_type": "code",
   "execution_count": 7,
   "id": "17d80123",
   "metadata": {
    "execution": {
     "iopub.execute_input": "2021-07-14T14:45:10.702356Z",
     "iopub.status.busy": "2021-07-14T14:45:10.701297Z",
     "iopub.status.idle": "2021-07-14T14:45:10.704532Z",
     "shell.execute_reply": "2021-07-14T14:45:10.703905Z",
     "shell.execute_reply.started": "2021-07-14T14:16:03.771489Z"
    },
    "id": "ayOpa8ntasfx",
    "papermill": {
     "duration": 0.033659,
     "end_time": "2021-07-14T14:45:10.704675",
     "exception": false,
     "start_time": "2021-07-14T14:45:10.671016",
     "status": "completed"
    },
    "tags": []
   },
   "outputs": [],
   "source": [
    "from torch.utils.data import DataLoader\n",
    "\n",
    "batch_size = 16\n",
    "\n",
    "loader_train = DataLoader(dataset=datasets_train, batch_size=batch_size, \n",
    "                          shuffle=True, worker_init_fn=seed_worker,\n",
    "                          generator=g)\n",
    "loader_valid = DataLoader(dataset=datasets_valid, batch_size=batch_size, \n",
    "                          shuffle=False, worker_init_fn=seed_worker,\n",
    "                          generator=g)"
   ]
  },
  {
   "cell_type": "markdown",
   "id": "2c918d89",
   "metadata": {
    "papermill": {
     "duration": 0.024311,
     "end_time": "2021-07-14T14:45:10.753711",
     "exception": false,
     "start_time": "2021-07-14T14:45:10.729400",
     "status": "completed"
    },
    "tags": []
   },
   "source": [
    "## 9.3.3 모델 생성 및 훈련"
   ]
  },
  {
   "cell_type": "markdown",
   "id": "d6edb763",
   "metadata": {
    "papermill": {
     "duration": 0.02482,
     "end_time": "2021-07-14T14:45:10.803072",
     "exception": false,
     "start_time": "2021-07-14T14:45:10.778252",
     "status": "completed"
    },
    "tags": []
   },
   "source": [
    "### 모델 생성"
   ]
  },
  {
   "cell_type": "code",
   "execution_count": 8,
   "id": "4b131bec",
   "metadata": {
    "execution": {
     "iopub.execute_input": "2021-07-14T14:45:10.858430Z",
     "iopub.status.busy": "2021-07-14T14:45:10.857722Z",
     "iopub.status.idle": "2021-07-14T14:45:23.231050Z",
     "shell.execute_reply": "2021-07-14T14:45:23.230452Z",
     "shell.execute_reply.started": "2021-07-14T14:16:03.782531Z"
    },
    "id": "6U2VyXs62YYI",
    "outputId": "e1f4233c-8f73-49cb-bee1-7336e8367420",
    "papermill": {
     "duration": 12.403822,
     "end_time": "2021-07-14T14:45:23.231243",
     "exception": false,
     "start_time": "2021-07-14T14:45:10.827421",
     "status": "completed"
    },
    "tags": []
   },
   "outputs": [
    {
     "name": "stdout",
     "output_type": "stream",
     "text": [
      "Collecting efficientnet-pytorch==0.7.1\r\n",
      "  Downloading efficientnet_pytorch-0.7.1.tar.gz (21 kB)\r\n",
      "Requirement already satisfied: torch in /opt/conda/lib/python3.7/site-packages (from efficientnet-pytorch==0.7.1) (1.7.0)\r\n",
      "Requirement already satisfied: future in /opt/conda/lib/python3.7/site-packages (from torch->efficientnet-pytorch==0.7.1) (0.18.2)\r\n",
      "Requirement already satisfied: typing_extensions in /opt/conda/lib/python3.7/site-packages (from torch->efficientnet-pytorch==0.7.1) (3.7.4.3)\r\n",
      "Requirement already satisfied: dataclasses in /opt/conda/lib/python3.7/site-packages (from torch->efficientnet-pytorch==0.7.1) (0.6)\r\n",
      "Requirement already satisfied: numpy in /opt/conda/lib/python3.7/site-packages (from torch->efficientnet-pytorch==0.7.1) (1.19.5)\r\n",
      "Building wheels for collected packages: efficientnet-pytorch\r\n",
      "  Building wheel for efficientnet-pytorch (setup.py) ... \u001b[?25l-\b \b\\\b \bdone\r\n",
      "\u001b[?25h  Created wheel for efficientnet-pytorch: filename=efficientnet_pytorch-0.7.1-py3-none-any.whl size=16446 sha256=c39c022a24dc79c3289c2c1f4bc70d75354016f9979c892bfa7ad6ce36066159\r\n",
      "  Stored in directory: /root/.cache/pip/wheels/0e/cc/b2/49e74588263573ff778da58cc99b9c6349b496636a7e165be6\r\n",
      "Successfully built efficientnet-pytorch\r\n",
      "Installing collected packages: efficientnet-pytorch\r\n",
      "Successfully installed efficientnet-pytorch-0.7.1\r\n",
      "\u001b[33mWARNING: Running pip as root will break packages and permissions. You should install packages reliably by using venv: https://pip.pypa.io/warnings/venv\u001b[0m\r\n"
     ]
    }
   ],
   "source": [
    "!pip install efficientnet-pytorch==0.7.1"
   ]
  },
  {
   "cell_type": "code",
   "execution_count": 9,
   "id": "9cbbf1a3",
   "metadata": {
    "execution": {
     "iopub.execute_input": "2021-07-14T14:45:23.295448Z",
     "iopub.status.busy": "2021-07-14T14:45:23.294463Z",
     "iopub.status.idle": "2021-07-14T14:45:36.260748Z",
     "shell.execute_reply": "2021-07-14T14:45:36.259700Z",
     "shell.execute_reply.started": "2021-07-14T14:16:13.262362Z"
    },
    "id": "TIo26t7vs_Sy",
    "outputId": "8a9e6a19-33d9-46bc-ce9e-c73e59ea8c21",
    "papermill": {
     "duration": 13.000578,
     "end_time": "2021-07-14T14:45:36.260986",
     "exception": false,
     "start_time": "2021-07-14T14:45:23.260408",
     "status": "completed"
    },
    "tags": []
   },
   "outputs": [
    {
     "name": "stderr",
     "output_type": "stream",
     "text": [
      "Downloading: \"https://github.com/lukemelas/EfficientNet-PyTorch/releases/download/1.0/efficientnet-b7-dcc49843.pth\" to /root/.cache/torch/hub/checkpoints/efficientnet-b7-dcc49843.pth\n"
     ]
    },
    {
     "data": {
      "application/vnd.jupyter.widget-view+json": {
       "model_id": "6d81ed6b60b641cdbb6c37adf3f5201d",
       "version_major": 2,
       "version_minor": 0
      },
      "text/plain": [
       "  0%|          | 0.00/254M [00:00<?, ?B/s]"
      ]
     },
     "metadata": {},
     "output_type": "display_data"
    },
    {
     "name": "stdout",
     "output_type": "stream",
     "text": [
      "Loaded pretrained weights for efficientnet-b7\n"
     ]
    }
   ],
   "source": [
    "from efficientnet_pytorch import EfficientNet\n",
    "\n",
    "model = EfficientNet.from_pretrained('efficientnet-b7', num_classes=2) \n",
    "\n",
    "model = model.to(device)"
   ]
  },
  {
   "cell_type": "code",
   "execution_count": 10,
   "id": "e72295d3",
   "metadata": {
    "execution": {
     "iopub.execute_input": "2021-07-14T14:45:36.367527Z",
     "iopub.status.busy": "2021-07-14T14:45:36.364110Z",
     "iopub.status.idle": "2021-07-14T14:45:36.371844Z",
     "shell.execute_reply": "2021-07-14T14:45:36.372755Z",
     "shell.execute_reply.started": "2021-07-14T14:16:22.690125Z"
    },
    "id": "3x6zjb-z2iRg",
    "outputId": "641172f9-ee0f-4409-d39d-7964eed1d8c1",
    "papermill": {
     "duration": 0.05536,
     "end_time": "2021-07-14T14:45:36.372994",
     "exception": false,
     "start_time": "2021-07-14T14:45:36.317634",
     "status": "completed"
    },
    "tags": []
   },
   "outputs": [
    {
     "name": "stdout",
     "output_type": "stream",
     "text": [
      "모델 파라미터 개수 : 63792082\n"
     ]
    }
   ],
   "source": [
    "print('모델 파라미터 개수 :', sum(param.numel() for param in model.parameters()))"
   ]
  },
  {
   "cell_type": "markdown",
   "id": "0e566764",
   "metadata": {
    "papermill": {
     "duration": 0.033422,
     "end_time": "2021-07-14T14:45:36.440743",
     "exception": false,
     "start_time": "2021-07-14T14:45:36.407321",
     "status": "completed"
    },
    "tags": []
   },
   "source": [
    "### 손실 함수, 옵티마이저"
   ]
  },
  {
   "cell_type": "code",
   "execution_count": 11,
   "id": "205c40ee",
   "metadata": {
    "execution": {
     "iopub.execute_input": "2021-07-14T14:45:36.511877Z",
     "iopub.status.busy": "2021-07-14T14:45:36.511173Z",
     "iopub.status.idle": "2021-07-14T14:45:36.516363Z",
     "shell.execute_reply": "2021-07-14T14:45:36.515733Z",
     "shell.execute_reply.started": "2021-07-14T14:16:22.705587Z"
    },
    "papermill": {
     "duration": 0.043697,
     "end_time": "2021-07-14T14:45:36.516672",
     "exception": false,
     "start_time": "2021-07-14T14:45:36.472975",
     "status": "completed"
    },
    "tags": []
   },
   "outputs": [],
   "source": [
    "import torch.nn as nn\n",
    "\n",
    "criterion = nn.CrossEntropyLoss()"
   ]
  },
  {
   "cell_type": "code",
   "execution_count": 12,
   "id": "28ceb9ee",
   "metadata": {
    "execution": {
     "iopub.execute_input": "2021-07-14T14:45:36.603706Z",
     "iopub.status.busy": "2021-07-14T14:45:36.601832Z",
     "iopub.status.idle": "2021-07-14T14:45:36.606400Z",
     "shell.execute_reply": "2021-07-14T14:45:36.605380Z",
     "shell.execute_reply.started": "2021-07-14T14:16:22.721829Z"
    },
    "papermill": {
     "duration": 0.057309,
     "end_time": "2021-07-14T14:45:36.606664",
     "exception": false,
     "start_time": "2021-07-14T14:45:36.549355",
     "status": "completed"
    },
    "tags": []
   },
   "outputs": [],
   "source": [
    "optimizer = torch.optim.AdamW(model.parameters(), lr=0.0005, weight_decay=0.001)"
   ]
  },
  {
   "cell_type": "markdown",
   "id": "2dfe9bfc",
   "metadata": {
    "papermill": {
     "duration": 0.033591,
     "end_time": "2021-07-14T14:45:36.672749",
     "exception": false,
     "start_time": "2021-07-14T14:45:36.639158",
     "status": "completed"
    },
    "tags": []
   },
   "source": [
    "### 모델 훈련 및 성능 검증"
   ]
  },
  {
   "cell_type": "code",
   "execution_count": 13,
   "id": "4ffaccc2",
   "metadata": {
    "execution": {
     "iopub.execute_input": "2021-07-14T14:45:36.759000Z",
     "iopub.status.busy": "2021-07-14T14:45:36.758066Z",
     "iopub.status.idle": "2021-07-14T14:45:37.928650Z",
     "shell.execute_reply": "2021-07-14T14:45:37.922219Z",
     "shell.execute_reply.started": "2021-07-14T14:16:22.742177Z"
    },
    "papermill": {
     "duration": 1.220375,
     "end_time": "2021-07-14T14:45:37.928840",
     "exception": false,
     "start_time": "2021-07-14T14:45:36.708465",
     "status": "completed"
    },
    "tags": []
   },
   "outputs": [],
   "source": [
    "from sklearn.metrics import accuracy_score # 정확도 계산 함수\n",
    "from sklearn.metrics import recall_score # 재현율 계산 함수\n",
    "from sklearn.metrics import f1_score # F1 점수 계산 함수\n",
    "\n",
    "def train(model, loader_train, loader_valid, criterion, optimizer, \n",
    "          scheduler=None, epochs=5, save_file='model_state_dict.pth'):\n",
    "    \n",
    "    valid_loss_min = np.inf # 최소 손실값 초기화 (검증 데이터용) ---①\n",
    "\n",
    "    # 총 에폭만큼 훈련\n",
    "    for epoch in range(epochs):\n",
    "        print(f'에폭 [{epoch+1}/{epochs}] \\n-----------------------------')\n",
    "        model.train() # 모델을 훈련 상태로 설정\n",
    "        epoch_train_loss = 0 # 에폭별 손실값 초기화 (훈련 데이터용)\n",
    "        # 미니배치 크기만큼 데이터를 추출하는 작업을 '반복 횟수'만큼 반복 \n",
    "        for images, labels in loader_train:\n",
    "            # 이미지, 레이블(타깃 값) 데이터 미니배치를 장비에 할당 \n",
    "            images = images.to(device)\n",
    "            labels = labels.to(device)\n",
    "            \n",
    "            # 옵티마이저 내 기울기 초기화\n",
    "            optimizer.zero_grad()\n",
    "            # 이미지 데이터를 신경망 모델의 입력값으로 사용해 출력값 계산\n",
    "            outputs = model(images)\n",
    "            # 손실함수를 활용해 outputs와 labels의 손실값 계산\n",
    "            loss = criterion(outputs, labels)\n",
    "            loss.backward() # 역전파 수행\n",
    "            optimizer.step() # 가중치 갱신\n",
    "            if scheduler != None: # 스케줄러 학습률 갱신 ---②\n",
    "                scheduler.step() \n",
    "            # 현재 배치에서의 손실 추가 (훈련 데이터용)\n",
    "            epoch_train_loss += loss.item() \n",
    "        # 훈련 데이터 손실값 출력\n",
    "        print(f'\\t훈련 데이터 손실값 : {epoch_train_loss/len(loader_train):.4f}')\n",
    "\n",
    "        model.eval() # 모델을 평가 상태로 설정 \n",
    "        epoch_valid_loss = 0 # 에폭별 손실값 초기화 (검증 데이터용)\n",
    "        all_preds = [] # 예측값 저장용 리스트 초기화\n",
    "        all_true = [] # 실제값 저장용 리스트 초기화\n",
    "        \n",
    "        with torch.no_grad(): # 기울기 계산 비활성\n",
    "            for images, labels in loader_valid:\n",
    "                images = images.to(device)\n",
    "                labels = labels.to(device)\n",
    "                \n",
    "                outputs = model(images)\n",
    "                loss = criterion(outputs, labels)\n",
    "                epoch_valid_loss += loss.item()\n",
    "                \n",
    "                # 예측값 및 실제값 ---③\n",
    "                preds = torch.max(outputs.cpu(), dim=1)[1].numpy() \n",
    "                true = labels.cpu().numpy() \n",
    "    \n",
    "                all_preds.extend(preds)\n",
    "                all_true.extend(true)\n",
    "                \n",
    "            # 정확도, 재현율, F1 점수 ---④\n",
    "            val_accuracy = accuracy_score(all_true, all_preds)\n",
    "            val_recall = recall_score(all_true, all_preds)\n",
    "            val_f1_score = f1_score(all_true, all_preds)\n",
    "\n",
    "            # 검증 데이터 손실값 및 정확도, 재현율, F1점수 출력\n",
    "            print(f'\\t검증 데이터 손실값 : {epoch_valid_loss/len(loader_valid):.4f}')\n",
    "            print(f'\\t정확도 : {val_accuracy:.4f} / 재현율 : {val_recall:.4f} / F1 점수 : {val_f1_score:.4f}')\n",
    "\n",
    "            # 현 에폭에서의 손실값이 최소 손실값 이하면 모델 가중치 저장 ---⑤\n",
    "            if epoch_valid_loss <= valid_loss_min: \n",
    "                print(f'\\t### 검증 데이터 손실값 감소 ({valid_loss_min:.4f} --> {epoch_valid_loss:.4f}). 모델 저장')\n",
    "                # 모델 가중치를 파일로 저장 ---⑥\n",
    "                torch.save(model.state_dict(), save_file) \n",
    "                valid_loss_min = epoch_valid_loss # 최소 손실값 갱신 ---⑦\n",
    "    return torch.load(save_file) # 저장한 모델 가중치를 불러와 반환"
   ]
  },
  {
   "cell_type": "code",
   "execution_count": 14,
   "id": "8bc14bbc",
   "metadata": {
    "execution": {
     "iopub.execute_input": "2021-07-14T14:45:38.112829Z",
     "iopub.status.busy": "2021-07-14T14:45:38.110220Z",
     "iopub.status.idle": "2021-07-14T15:15:05.150224Z",
     "shell.execute_reply": "2021-07-14T15:15:05.149540Z",
     "shell.execute_reply.started": "2021-07-14T14:16:23.636308Z"
    },
    "id": "VAcOrdRLWQcm",
    "outputId": "a5ad7a7e-8b4d-4fc7-9567-426417174248",
    "papermill": {
     "duration": 1767.148511,
     "end_time": "2021-07-14T15:15:05.150390",
     "exception": false,
     "start_time": "2021-07-14T14:45:38.001879",
     "status": "completed"
    },
    "tags": []
   },
   "outputs": [
    {
     "name": "stdout",
     "output_type": "stream",
     "text": [
      "에폭 [1/5] \n",
      "-----------------------------\n",
      "\t훈련 데이터 손실값 : 0.2011\n",
      "\t검증 데이터 손실값 : 2.1317\n",
      "\t정확도 : 0.5000 / 재현율 : 1.0000 / F1 점수 : 0.6667\n",
      "\t### 검증 데이터 손실값 감소 (inf --> 2.1317). 모델 저장\n",
      "에폭 [2/5] \n",
      "-----------------------------\n",
      "\t훈련 데이터 손실값 : 0.1084\n",
      "\t검증 데이터 손실값 : 1.6576\n",
      "\t정확도 : 0.5000 / 재현율 : 1.0000 / F1 점수 : 0.6667\n",
      "\t### 검증 데이터 손실값 감소 (2.1317 --> 1.6576). 모델 저장\n",
      "에폭 [3/5] \n",
      "-----------------------------\n",
      "\t훈련 데이터 손실값 : 0.0960\n",
      "\t검증 데이터 손실값 : 1.0366\n",
      "\t정확도 : 0.5625 / 재현율 : 1.0000 / F1 점수 : 0.6957\n",
      "\t### 검증 데이터 손실값 감소 (1.6576 --> 1.0366). 모델 저장\n",
      "에폭 [4/5] \n",
      "-----------------------------\n",
      "\t훈련 데이터 손실값 : 0.0765\n",
      "\t검증 데이터 손실값 : 0.7975\n",
      "\t정확도 : 0.5625 / 재현율 : 1.0000 / F1 점수 : 0.6957\n",
      "\t### 검증 데이터 손실값 감소 (1.0366 --> 0.7975). 모델 저장\n",
      "에폭 [5/5] \n",
      "-----------------------------\n",
      "\t훈련 데이터 손실값 : 0.0626\n",
      "\t검증 데이터 손실값 : 1.1829\n",
      "\t정확도 : 0.5000 / 재현율 : 1.0000 / F1 점수 : 0.6667\n"
     ]
    }
   ],
   "source": [
    "# 모델 훈련\n",
    "model_state_dict = train(model=model,\n",
    "                         loader_train=loader_train, \n",
    "                         loader_valid=loader_valid,\n",
    "                         criterion=criterion, \n",
    "                         optimizer=optimizer)"
   ]
  },
  {
   "cell_type": "code",
   "execution_count": 15,
   "id": "020d392e",
   "metadata": {
    "execution": {
     "iopub.execute_input": "2021-07-14T15:15:05.225722Z",
     "iopub.status.busy": "2021-07-14T15:15:05.224554Z",
     "iopub.status.idle": "2021-07-14T15:15:05.455863Z",
     "shell.execute_reply": "2021-07-14T15:15:05.456380Z",
     "shell.execute_reply.started": "2021-07-14T14:42:59.547867Z"
    },
    "papermill": {
     "duration": 0.271913,
     "end_time": "2021-07-14T15:15:05.456570",
     "exception": false,
     "start_time": "2021-07-14T15:15:05.184657",
     "status": "completed"
    },
    "tags": []
   },
   "outputs": [
    {
     "data": {
      "text/plain": [
       "<All keys matched successfully>"
      ]
     },
     "execution_count": 15,
     "metadata": {},
     "output_type": "execute_result"
    }
   ],
   "source": [
    "# 최적 가중치 불러오기\n",
    "model.load_state_dict(model_state_dict)"
   ]
  },
  {
   "cell_type": "markdown",
   "id": "6bbada11",
   "metadata": {
    "papermill": {
     "duration": 0.034292,
     "end_time": "2021-07-14T15:15:05.524969",
     "exception": false,
     "start_time": "2021-07-14T15:15:05.490677",
     "status": "completed"
    },
    "tags": []
   },
   "source": [
    "## 9.3.4 예측 및 평가 결과"
   ]
  },
  {
   "cell_type": "code",
   "execution_count": 16,
   "id": "be709dee",
   "metadata": {
    "execution": {
     "iopub.execute_input": "2021-07-14T15:15:05.598608Z",
     "iopub.status.busy": "2021-07-14T15:15:05.597950Z",
     "iopub.status.idle": "2021-07-14T15:15:05.648126Z",
     "shell.execute_reply": "2021-07-14T15:15:05.647573Z",
     "shell.execute_reply.started": "2021-07-14T14:42:59.733604Z"
    },
    "id": "-M7jC7VDWps5",
    "papermill": {
     "duration": 0.08908,
     "end_time": "2021-07-14T15:15:05.648258",
     "exception": false,
     "start_time": "2021-07-14T15:15:05.559178",
     "status": "completed"
    },
    "tags": []
   },
   "outputs": [],
   "source": [
    "datasets_test = ImageFolder(root=test_path, transform=transform_test)\n",
    "\n",
    "loader_test = DataLoader(dataset=datasets_test, batch_size=batch_size, \n",
    "                         shuffle=False, worker_init_fn=seed_worker,\n",
    "                         generator=g)"
   ]
  },
  {
   "cell_type": "markdown",
   "id": "7a87dcee",
   "metadata": {
    "papermill": {
     "duration": 0.035099,
     "end_time": "2021-07-14T15:15:05.718143",
     "exception": false,
     "start_time": "2021-07-14T15:15:05.683044",
     "status": "completed"
    },
    "tags": []
   },
   "source": [
    "### 예측"
   ]
  },
  {
   "cell_type": "code",
   "execution_count": 17,
   "id": "cf26ab56",
   "metadata": {
    "execution": {
     "iopub.execute_input": "2021-07-14T15:15:05.795127Z",
     "iopub.status.busy": "2021-07-14T15:15:05.794022Z",
     "iopub.status.idle": "2021-07-14T15:15:05.797676Z",
     "shell.execute_reply": "2021-07-14T15:15:05.797158Z",
     "shell.execute_reply.started": "2021-07-14T14:42:59.779651Z"
    },
    "id": "wlXs1BTQWQ4B",
    "papermill": {
     "duration": 0.044681,
     "end_time": "2021-07-14T15:15:05.797816",
     "exception": false,
     "start_time": "2021-07-14T15:15:05.753135",
     "status": "completed"
    },
    "tags": []
   },
   "outputs": [],
   "source": [
    "def test(model, loader_test, return_true=False):\n",
    "    model.eval() # 모델을 평가 상태로 설정\n",
    "    all_preds = [] # 예측값 저장용 리스트 초기화\n",
    "    all_true = [] # 실제값 저장용 리스트 초기화\n",
    "\n",
    "    with torch.no_grad(): # 기울기 계산 비활성\n",
    "        for images, labels in loader_test:\n",
    "            images = images.to(device)\n",
    "            labels = labels.to(device)\n",
    "            \n",
    "            outputs = model(images)\n",
    "            \n",
    "            preds = torch.max(outputs.cpu(), dim=1)[1].numpy() # 예측값\n",
    "            true = labels.cpu().numpy() # 실제값 \n",
    "\n",
    "            all_preds.extend(preds)\n",
    "            all_true.extend(true)\n",
    "\n",
    "    if return_true:\n",
    "        return all_true, all_preds\n",
    "    else:\n",
    "        return all_preds"
   ]
  },
  {
   "cell_type": "code",
   "execution_count": 18,
   "id": "34dc3c8d",
   "metadata": {
    "execution": {
     "iopub.execute_input": "2021-07-14T15:15:05.876247Z",
     "iopub.status.busy": "2021-07-14T15:15:05.875384Z",
     "iopub.status.idle": "2021-07-14T15:15:30.161448Z",
     "shell.execute_reply": "2021-07-14T15:15:30.160449Z",
     "shell.execute_reply.started": "2021-07-14T14:42:59.789081Z"
    },
    "id": "LK7en69lbfFa",
    "papermill": {
     "duration": 24.330312,
     "end_time": "2021-07-14T15:15:30.161642",
     "exception": false,
     "start_time": "2021-07-14T15:15:05.831330",
     "status": "completed"
    },
    "tags": []
   },
   "outputs": [],
   "source": [
    "all_true, all_preds = test(model=model, \n",
    "                           loader_test=loader_test, \n",
    "                           return_true=True)"
   ]
  },
  {
   "cell_type": "markdown",
   "id": "f29cf223",
   "metadata": {
    "papermill": {
     "duration": 0.03557,
     "end_time": "2021-07-14T15:15:30.233898",
     "exception": false,
     "start_time": "2021-07-14T15:15:30.198328",
     "status": "completed"
    },
    "tags": []
   },
   "source": [
    "### 평가 결과"
   ]
  },
  {
   "cell_type": "code",
   "execution_count": 19,
   "id": "4b1a739f",
   "metadata": {
    "execution": {
     "iopub.execute_input": "2021-07-14T15:15:30.314192Z",
     "iopub.status.busy": "2021-07-14T15:15:30.313128Z",
     "iopub.status.idle": "2021-07-14T15:15:30.323736Z",
     "shell.execute_reply": "2021-07-14T15:15:30.323222Z",
     "shell.execute_reply.started": "2021-07-14T14:43:20.889636Z"
    },
    "id": "i53_y8PBwLxp",
    "papermill": {
     "duration": 0.054361,
     "end_time": "2021-07-14T15:15:30.323867",
     "exception": false,
     "start_time": "2021-07-14T15:15:30.269506",
     "status": "completed"
    },
    "tags": []
   },
   "outputs": [
    {
     "name": "stdout",
     "output_type": "stream",
     "text": [
      "##### 최종 예측 결과 평가 점수 #####\n",
      "정확도 : 0.7628\n",
      "재현율 : 0.9923\n",
      "F1 점수 : 0.8395\n"
     ]
    }
   ],
   "source": [
    "print('#'*5, '최종 예측 결과 평가 점수', '#'*5)\n",
    "print(f'정확도 : {accuracy_score(all_true, all_preds):.4f}')\n",
    "print(f'재현율 : {recall_score(all_true, all_preds):.4f}')\n",
    "print(f'F1 점수 : {f1_score(all_true, all_preds):.4f}')"
   ]
  }
 ],
 "metadata": {
  "kernelspec": {
   "display_name": "Python 3",
   "language": "python",
   "name": "python3"
  },
  "language_info": {
   "codemirror_mode": {
    "name": "ipython",
    "version": 3
   },
   "file_extension": ".py",
   "mimetype": "text/x-python",
   "name": "python",
   "nbconvert_exporter": "python",
   "pygments_lexer": "ipython3",
   "version": "3.7.10"
  },
  "papermill": {
   "default_parameters": {},
   "duration": 1835.383524,
   "end_time": "2021-07-14T15:15:32.363083",
   "environment_variables": {},
   "exception": null,
   "input_path": "__notebook__.ipynb",
   "output_path": "__notebook__.ipynb",
   "parameters": {},
   "start_time": "2021-07-14T14:44:56.979559",
   "version": "2.3.3"
  },
  "widgets": {
   "application/vnd.jupyter.widget-state+json": {
    "state": {
     "29b7c10158334282a4cfdec5db3ae08b": {
      "model_module": "@jupyter-widgets/controls",
      "model_module_version": "1.5.0",
      "model_name": "HTMLModel",
      "state": {
       "_dom_classes": [],
       "_model_module": "@jupyter-widgets/controls",
       "_model_module_version": "1.5.0",
       "_model_name": "HTMLModel",
       "_view_count": null,
       "_view_module": "@jupyter-widgets/controls",
       "_view_module_version": "1.5.0",
       "_view_name": "HTMLView",
       "description": "",
       "description_tooltip": null,
       "layout": "IPY_MODEL_9da4d57608ac4e21bb5dceaf3633b99a",
       "placeholder": "​",
       "style": "IPY_MODEL_ce37790287514e70bd28034c0ea04c7a",
       "value": " 254M/254M [00:05&lt;00:00, 54.5MB/s]"
      }
     },
     "34dd7a2eef4e46b8b0a08489363da654": {
      "model_module": "@jupyter-widgets/controls",
      "model_module_version": "1.5.0",
      "model_name": "DescriptionStyleModel",
      "state": {
       "_model_module": "@jupyter-widgets/controls",
       "_model_module_version": "1.5.0",
       "_model_name": "DescriptionStyleModel",
       "_view_count": null,
       "_view_module": "@jupyter-widgets/base",
       "_view_module_version": "1.2.0",
       "_view_name": "StyleView",
       "description_width": ""
      }
     },
     "6942ced855354155871c44f87fc4445c": {
      "model_module": "@jupyter-widgets/base",
      "model_module_version": "1.2.0",
      "model_name": "LayoutModel",
      "state": {
       "_model_module": "@jupyter-widgets/base",
       "_model_module_version": "1.2.0",
       "_model_name": "LayoutModel",
       "_view_count": null,
       "_view_module": "@jupyter-widgets/base",
       "_view_module_version": "1.2.0",
       "_view_name": "LayoutView",
       "align_content": null,
       "align_items": null,
       "align_self": null,
       "border": null,
       "bottom": null,
       "display": null,
       "flex": null,
       "flex_flow": null,
       "grid_area": null,
       "grid_auto_columns": null,
       "grid_auto_flow": null,
       "grid_auto_rows": null,
       "grid_column": null,
       "grid_gap": null,
       "grid_row": null,
       "grid_template_areas": null,
       "grid_template_columns": null,
       "grid_template_rows": null,
       "height": null,
       "justify_content": null,
       "justify_items": null,
       "left": null,
       "margin": null,
       "max_height": null,
       "max_width": null,
       "min_height": null,
       "min_width": null,
       "object_fit": null,
       "object_position": null,
       "order": null,
       "overflow": null,
       "overflow_x": null,
       "overflow_y": null,
       "padding": null,
       "right": null,
       "top": null,
       "visibility": null,
       "width": null
      }
     },
     "6d81ed6b60b641cdbb6c37adf3f5201d": {
      "model_module": "@jupyter-widgets/controls",
      "model_module_version": "1.5.0",
      "model_name": "HBoxModel",
      "state": {
       "_dom_classes": [],
       "_model_module": "@jupyter-widgets/controls",
       "_model_module_version": "1.5.0",
       "_model_name": "HBoxModel",
       "_view_count": null,
       "_view_module": "@jupyter-widgets/controls",
       "_view_module_version": "1.5.0",
       "_view_name": "HBoxView",
       "box_style": "",
       "children": [
        "IPY_MODEL_ad4ae0a3cd32427083bec84810e22174",
        "IPY_MODEL_cc9fd67d2b414fe0888fe36f64549ca4",
        "IPY_MODEL_29b7c10158334282a4cfdec5db3ae08b"
       ],
       "layout": "IPY_MODEL_af31f76b66604e53b9961a7fce397d28"
      }
     },
     "9da4d57608ac4e21bb5dceaf3633b99a": {
      "model_module": "@jupyter-widgets/base",
      "model_module_version": "1.2.0",
      "model_name": "LayoutModel",
      "state": {
       "_model_module": "@jupyter-widgets/base",
       "_model_module_version": "1.2.0",
       "_model_name": "LayoutModel",
       "_view_count": null,
       "_view_module": "@jupyter-widgets/base",
       "_view_module_version": "1.2.0",
       "_view_name": "LayoutView",
       "align_content": null,
       "align_items": null,
       "align_self": null,
       "border": null,
       "bottom": null,
       "display": null,
       "flex": null,
       "flex_flow": null,
       "grid_area": null,
       "grid_auto_columns": null,
       "grid_auto_flow": null,
       "grid_auto_rows": null,
       "grid_column": null,
       "grid_gap": null,
       "grid_row": null,
       "grid_template_areas": null,
       "grid_template_columns": null,
       "grid_template_rows": null,
       "height": null,
       "justify_content": null,
       "justify_items": null,
       "left": null,
       "margin": null,
       "max_height": null,
       "max_width": null,
       "min_height": null,
       "min_width": null,
       "object_fit": null,
       "object_position": null,
       "order": null,
       "overflow": null,
       "overflow_x": null,
       "overflow_y": null,
       "padding": null,
       "right": null,
       "top": null,
       "visibility": null,
       "width": null
      }
     },
     "ad4ae0a3cd32427083bec84810e22174": {
      "model_module": "@jupyter-widgets/controls",
      "model_module_version": "1.5.0",
      "model_name": "HTMLModel",
      "state": {
       "_dom_classes": [],
       "_model_module": "@jupyter-widgets/controls",
       "_model_module_version": "1.5.0",
       "_model_name": "HTMLModel",
       "_view_count": null,
       "_view_module": "@jupyter-widgets/controls",
       "_view_module_version": "1.5.0",
       "_view_name": "HTMLView",
       "description": "",
       "description_tooltip": null,
       "layout": "IPY_MODEL_ffb0635af48248dab93788c8531fc4c2",
       "placeholder": "​",
       "style": "IPY_MODEL_34dd7a2eef4e46b8b0a08489363da654",
       "value": "100%"
      }
     },
     "af31f76b66604e53b9961a7fce397d28": {
      "model_module": "@jupyter-widgets/base",
      "model_module_version": "1.2.0",
      "model_name": "LayoutModel",
      "state": {
       "_model_module": "@jupyter-widgets/base",
       "_model_module_version": "1.2.0",
       "_model_name": "LayoutModel",
       "_view_count": null,
       "_view_module": "@jupyter-widgets/base",
       "_view_module_version": "1.2.0",
       "_view_name": "LayoutView",
       "align_content": null,
       "align_items": null,
       "align_self": null,
       "border": null,
       "bottom": null,
       "display": null,
       "flex": null,
       "flex_flow": null,
       "grid_area": null,
       "grid_auto_columns": null,
       "grid_auto_flow": null,
       "grid_auto_rows": null,
       "grid_column": null,
       "grid_gap": null,
       "grid_row": null,
       "grid_template_areas": null,
       "grid_template_columns": null,
       "grid_template_rows": null,
       "height": null,
       "justify_content": null,
       "justify_items": null,
       "left": null,
       "margin": null,
       "max_height": null,
       "max_width": null,
       "min_height": null,
       "min_width": null,
       "object_fit": null,
       "object_position": null,
       "order": null,
       "overflow": null,
       "overflow_x": null,
       "overflow_y": null,
       "padding": null,
       "right": null,
       "top": null,
       "visibility": null,
       "width": null
      }
     },
     "cc9fd67d2b414fe0888fe36f64549ca4": {
      "model_module": "@jupyter-widgets/controls",
      "model_module_version": "1.5.0",
      "model_name": "FloatProgressModel",
      "state": {
       "_dom_classes": [],
       "_model_module": "@jupyter-widgets/controls",
       "_model_module_version": "1.5.0",
       "_model_name": "FloatProgressModel",
       "_view_count": null,
       "_view_module": "@jupyter-widgets/controls",
       "_view_module_version": "1.5.0",
       "_view_name": "ProgressView",
       "bar_style": "success",
       "description": "",
       "description_tooltip": null,
       "layout": "IPY_MODEL_6942ced855354155871c44f87fc4445c",
       "max": 266860719.0,
       "min": 0.0,
       "orientation": "horizontal",
       "style": "IPY_MODEL_d7f7ea84f7d4427ca9a589c4810cbfff",
       "value": 266860719.0
      }
     },
     "ce37790287514e70bd28034c0ea04c7a": {
      "model_module": "@jupyter-widgets/controls",
      "model_module_version": "1.5.0",
      "model_name": "DescriptionStyleModel",
      "state": {
       "_model_module": "@jupyter-widgets/controls",
       "_model_module_version": "1.5.0",
       "_model_name": "DescriptionStyleModel",
       "_view_count": null,
       "_view_module": "@jupyter-widgets/base",
       "_view_module_version": "1.2.0",
       "_view_name": "StyleView",
       "description_width": ""
      }
     },
     "d7f7ea84f7d4427ca9a589c4810cbfff": {
      "model_module": "@jupyter-widgets/controls",
      "model_module_version": "1.5.0",
      "model_name": "ProgressStyleModel",
      "state": {
       "_model_module": "@jupyter-widgets/controls",
       "_model_module_version": "1.5.0",
       "_model_name": "ProgressStyleModel",
       "_view_count": null,
       "_view_module": "@jupyter-widgets/base",
       "_view_module_version": "1.2.0",
       "_view_name": "StyleView",
       "bar_color": null,
       "description_width": ""
      }
     },
     "ffb0635af48248dab93788c8531fc4c2": {
      "model_module": "@jupyter-widgets/base",
      "model_module_version": "1.2.0",
      "model_name": "LayoutModel",
      "state": {
       "_model_module": "@jupyter-widgets/base",
       "_model_module_version": "1.2.0",
       "_model_name": "LayoutModel",
       "_view_count": null,
       "_view_module": "@jupyter-widgets/base",
       "_view_module_version": "1.2.0",
       "_view_name": "LayoutView",
       "align_content": null,
       "align_items": null,
       "align_self": null,
       "border": null,
       "bottom": null,
       "display": null,
       "flex": null,
       "flex_flow": null,
       "grid_area": null,
       "grid_auto_columns": null,
       "grid_auto_flow": null,
       "grid_auto_rows": null,
       "grid_column": null,
       "grid_gap": null,
       "grid_row": null,
       "grid_template_areas": null,
       "grid_template_columns": null,
       "grid_template_rows": null,
       "height": null,
       "justify_content": null,
       "justify_items": null,
       "left": null,
       "margin": null,
       "max_height": null,
       "max_width": null,
       "min_height": null,
       "min_width": null,
       "object_fit": null,
       "object_position": null,
       "order": null,
       "overflow": null,
       "overflow_x": null,
       "overflow_y": null,
       "padding": null,
       "right": null,
       "top": null,
       "visibility": null,
       "width": null
      }
     }
    },
    "version_major": 2,
    "version_minor": 0
   }
  }
 },
 "nbformat": 4,
 "nbformat_minor": 5
}
