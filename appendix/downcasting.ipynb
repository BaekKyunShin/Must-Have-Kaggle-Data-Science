{
 "cells": [
  {
   "cell_type": "markdown",
   "metadata": {
    "papermill": {
     "duration": 0.009276,
     "end_time": "2021-03-14T07:44:44.527999",
     "exception": false,
     "start_time": "2021-03-14T07:44:44.518723",
     "status": "completed"
    },
    "tags": []
   },
   "source": [
    "# 메모리 절약을 위한 데이터 형변환"
   ]
  },
  {
   "cell_type": "markdown",
   "metadata": {
    "papermill": {
     "duration": 0.007985,
     "end_time": "2021-03-14T07:44:44.544486",
     "exception": false,
     "start_time": "2021-03-14T07:44:44.536501",
     "status": "completed"
    },
    "tags": []
   },
   "source": [
    "데이터 타입 변환은 5장 [향후 판매량 예측 경진대회 데이터](https://www.kaggle.com/c/competitive-data-science-predict-future-sales/data)를 활용해 수행했습니다."
   ]
  },
  {
   "cell_type": "code",
   "execution_count": 1,
   "metadata": {
    "execution": {
     "iopub.execute_input": "2021-03-14T07:44:44.567610Z",
     "iopub.status.busy": "2021-03-14T07:44:44.566856Z",
     "iopub.status.idle": "2021-03-14T07:44:47.402537Z",
     "shell.execute_reply": "2021-03-14T07:44:47.401306Z"
    },
    "papermill": {
     "duration": 2.850101,
     "end_time": "2021-03-14T07:44:47.402752",
     "exception": false,
     "start_time": "2021-03-14T07:44:44.552651",
     "status": "completed"
    },
    "tags": []
   },
   "outputs": [],
   "source": [
    "# appendix/downcasting.ipynb\n",
    "\n",
    "import pandas as pd\n",
    "\n",
    "data_path = '/kaggle/input/competitive-data-science-predict-future-sales/'\n",
    "\n",
    "sales_train = pd.read_csv(data_path + 'sales_train.csv')\n",
    "shops = pd.read_csv(data_path + 'shops.csv')\n",
    "items = pd.read_csv(data_path + 'items.csv')\n",
    "item_categories = pd.read_csv(data_path + 'item_categories.csv')"
   ]
  },
  {
   "cell_type": "code",
   "execution_count": 2,
   "metadata": {
    "execution": {
     "iopub.execute_input": "2021-03-14T07:44:47.439588Z",
     "iopub.status.busy": "2021-03-14T07:44:47.438631Z",
     "iopub.status.idle": "2021-03-14T07:44:48.826427Z",
     "shell.execute_reply": "2021-03-14T07:44:48.825825Z"
    },
    "papermill": {
     "duration": 1.41496,
     "end_time": "2021-03-14T07:44:48.826573",
     "exception": false,
     "start_time": "2021-03-14T07:44:47.411613",
     "status": "completed"
    },
    "tags": []
   },
   "outputs": [],
   "source": [
    "train_joined = sales_train.merge(shops, on='shop_id', how='left')\n",
    "train_joined = train_joined.merge(items, on='item_id', how='left')\n",
    "train_joined = train_joined.merge(item_categories, on='item_category_id', how='left')"
   ]
  },
  {
   "cell_type": "code",
   "execution_count": 3,
   "metadata": {
    "execution": {
     "iopub.execute_input": "2021-03-14T07:44:48.854425Z",
     "iopub.status.busy": "2021-03-14T07:44:48.853576Z",
     "iopub.status.idle": "2021-03-14T07:44:48.857794Z",
     "shell.execute_reply": "2021-03-14T07:44:48.858300Z"
    },
    "papermill": {
     "duration": 0.023271,
     "end_time": "2021-03-14T07:44:48.858497",
     "exception": false,
     "start_time": "2021-03-14T07:44:48.835226",
     "status": "completed"
    },
    "tags": []
   },
   "outputs": [
    {
     "data": {
      "text/plain": [
       "date                   object\n",
       "date_block_num          int64\n",
       "shop_id                 int64\n",
       "item_id                 int64\n",
       "item_price            float64\n",
       "item_cnt_day          float64\n",
       "shop_name              object\n",
       "item_name              object\n",
       "item_category_id        int64\n",
       "item_category_name     object\n",
       "dtype: object"
      ]
     },
     "execution_count": 3,
     "metadata": {},
     "output_type": "execute_result"
    }
   ],
   "source": [
    "train_joined.dtypes"
   ]
  },
  {
   "cell_type": "code",
   "execution_count": 4,
   "metadata": {
    "execution": {
     "iopub.execute_input": "2021-03-14T07:44:48.886131Z",
     "iopub.status.busy": "2021-03-14T07:44:48.885360Z",
     "iopub.status.idle": "2021-03-14T07:44:48.889943Z",
     "shell.execute_reply": "2021-03-14T07:44:48.889308Z"
    },
    "papermill": {
     "duration": 0.022139,
     "end_time": "2021-03-14T07:44:48.890082",
     "exception": false,
     "start_time": "2021-03-14T07:44:48.867943",
     "status": "completed"
    },
    "tags": []
   },
   "outputs": [
    {
     "data": {
      "text/plain": [
       "Index                 23486792\n",
       "date                  23486792\n",
       "date_block_num        23486792\n",
       "shop_id               23486792\n",
       "item_id               23486792\n",
       "item_price            23486792\n",
       "item_cnt_day          23486792\n",
       "shop_name             23486792\n",
       "item_name             23486792\n",
       "item_category_id      23486792\n",
       "item_category_name    23486792\n",
       "dtype: int64"
      ]
     },
     "execution_count": 4,
     "metadata": {},
     "output_type": "execute_result"
    }
   ],
   "source": [
    "train_joined.memory_usage()"
   ]
  },
  {
   "cell_type": "code",
   "execution_count": 5,
   "metadata": {
    "execution": {
     "iopub.execute_input": "2021-03-14T07:44:48.917488Z",
     "iopub.status.busy": "2021-03-14T07:44:48.916846Z",
     "iopub.status.idle": "2021-03-14T07:44:48.921121Z",
     "shell.execute_reply": "2021-03-14T07:44:48.921665Z"
    },
    "papermill": {
     "duration": 0.021992,
     "end_time": "2021-03-14T07:44:48.921854",
     "exception": false,
     "start_time": "2021-03-14T07:44:48.899862",
     "status": "completed"
    },
    "tags": []
   },
   "outputs": [
    {
     "data": {
      "text/plain": [
       "246.3862533569336"
      ]
     },
     "execution_count": 5,
     "metadata": {},
     "output_type": "execute_result"
    }
   ],
   "source": [
    "start_mem = train_joined.memory_usage().sum() / 1024**2\n",
    "start_mem"
   ]
  },
  {
   "cell_type": "code",
   "execution_count": 6,
   "metadata": {
    "execution": {
     "iopub.execute_input": "2021-03-14T07:44:48.949621Z",
     "iopub.status.busy": "2021-03-14T07:44:48.948887Z",
     "iopub.status.idle": "2021-03-14T07:44:49.273728Z",
     "shell.execute_reply": "2021-03-14T07:44:49.274384Z"
    },
    "papermill": {
     "duration": 0.342843,
     "end_time": "2021-03-14T07:44:49.274573",
     "exception": false,
     "start_time": "2021-03-14T07:44:48.931730",
     "status": "completed"
    },
    "tags": []
   },
   "outputs": [],
   "source": [
    "for col in train_joined.columns:\n",
    "    dtype_name = train_joined[col].dtype.name\n",
    "    if dtype_name == \"object\":\n",
    "        pass\n",
    "    elif dtype_name == \"bool\":\n",
    "        train_joined[col] = train_joined[col].astype(\"int8\")\n",
    "    elif dtype_name.startswith(\"int\") or (train_joined[col].round() == train_joined[col]).all():\n",
    "        train_joined[col] = pd.to_numeric(train_joined[col], downcast=\"integer\")\n",
    "    else:\n",
    "        train_joined[col] = pd.to_numeric(train_joined[col], downcast='float')"
   ]
  },
  {
   "cell_type": "code",
   "execution_count": 7,
   "metadata": {
    "execution": {
     "iopub.execute_input": "2021-03-14T07:44:49.298646Z",
     "iopub.status.busy": "2021-03-14T07:44:49.298007Z",
     "iopub.status.idle": "2021-03-14T07:44:49.304045Z",
     "shell.execute_reply": "2021-03-14T07:44:49.304590Z"
    },
    "papermill": {
     "duration": 0.019584,
     "end_time": "2021-03-14T07:44:49.304762",
     "exception": false,
     "start_time": "2021-03-14T07:44:49.285178",
     "status": "completed"
    },
    "tags": []
   },
   "outputs": [
    {
     "data": {
      "text/plain": [
       "date                   object\n",
       "date_block_num           int8\n",
       "shop_id                  int8\n",
       "item_id                 int16\n",
       "item_price            float32\n",
       "item_cnt_day            int16\n",
       "shop_name              object\n",
       "item_name              object\n",
       "item_category_id         int8\n",
       "item_category_name     object\n",
       "dtype: object"
      ]
     },
     "execution_count": 7,
     "metadata": {},
     "output_type": "execute_result"
    }
   ],
   "source": [
    "train_joined.dtypes"
   ]
  },
  {
   "cell_type": "code",
   "execution_count": 8,
   "metadata": {
    "execution": {
     "iopub.execute_input": "2021-03-14T07:44:49.329112Z",
     "iopub.status.busy": "2021-03-14T07:44:49.328511Z",
     "iopub.status.idle": "2021-03-14T07:44:49.336400Z",
     "shell.execute_reply": "2021-03-14T07:44:49.336983Z"
    },
    "papermill": {
     "duration": 0.021724,
     "end_time": "2021-03-14T07:44:49.337155",
     "exception": false,
     "start_time": "2021-03-14T07:44:49.315431",
     "status": "completed"
    },
    "tags": []
   },
   "outputs": [
    {
     "data": {
      "text/plain": [
       "Index                 23486792\n",
       "date                  23486792\n",
       "date_block_num         2935849\n",
       "shop_id                2935849\n",
       "item_id                5871698\n",
       "item_price            11743396\n",
       "item_cnt_day           5871698\n",
       "shop_name             23486792\n",
       "item_name             23486792\n",
       "item_category_id       2935849\n",
       "item_category_name    23486792\n",
       "dtype: int64"
      ]
     },
     "execution_count": 8,
     "metadata": {},
     "output_type": "execute_result"
    }
   ],
   "source": [
    "train_joined.memory_usage()"
   ]
  },
  {
   "cell_type": "code",
   "execution_count": 9,
   "metadata": {
    "execution": {
     "iopub.execute_input": "2021-03-14T07:44:49.362784Z",
     "iopub.status.busy": "2021-03-14T07:44:49.362095Z",
     "iopub.status.idle": "2021-03-14T07:44:49.368610Z",
     "shell.execute_reply": "2021-03-14T07:44:49.369224Z"
    },
    "papermill": {
     "duration": 0.021135,
     "end_time": "2021-03-14T07:44:49.369420",
     "exception": false,
     "start_time": "2021-03-14T07:44:49.348285",
     "status": "completed"
    },
    "tags": []
   },
   "outputs": [
    {
     "data": {
      "text/plain": [
       "142.7920331954956"
      ]
     },
     "execution_count": 9,
     "metadata": {},
     "output_type": "execute_result"
    }
   ],
   "source": [
    "end_mem = train_joined.memory_usage().sum() / 1024**2\n",
    "end_mem"
   ]
  },
  {
   "cell_type": "code",
   "execution_count": 10,
   "metadata": {
    "execution": {
     "iopub.execute_input": "2021-03-14T07:44:49.396046Z",
     "iopub.status.busy": "2021-03-14T07:44:49.395377Z",
     "iopub.status.idle": "2021-03-14T07:44:49.402412Z",
     "shell.execute_reply": "2021-03-14T07:44:49.401889Z"
    },
    "papermill": {
     "duration": 0.021471,
     "end_time": "2021-03-14T07:44:49.402561",
     "exception": false,
     "start_time": "2021-03-14T07:44:49.381090",
     "status": "completed"
    },
    "tags": []
   },
   "outputs": [
    {
     "name": "stdout",
     "output_type": "stream",
     "text": [
      "42.0% 압축됨\n"
     ]
    }
   ],
   "source": [
    "print(\"{:.1f}% 압축됨\".format(100 * (start_mem - end_mem) / start_mem))"
   ]
  },
  {
   "cell_type": "code",
   "execution_count": 11,
   "metadata": {
    "execution": {
     "iopub.execute_input": "2021-03-14T07:44:49.436469Z",
     "iopub.status.busy": "2021-03-14T07:44:49.435755Z",
     "iopub.status.idle": "2021-03-14T07:44:49.438956Z",
     "shell.execute_reply": "2021-03-14T07:44:49.438338Z"
    },
    "papermill": {
     "duration": 0.024342,
     "end_time": "2021-03-14T07:44:49.439177",
     "exception": false,
     "start_time": "2021-03-14T07:44:49.414835",
     "status": "completed"
    },
    "tags": []
   },
   "outputs": [],
   "source": [
    "def downcast(df):\n",
    "    start_mem = df.memory_usage().sum() / 1024**2\n",
    "    for col in df.columns:\n",
    "        dtype_name = df[col].dtype.name\n",
    "        if dtype_name == 'object':\n",
    "            pass\n",
    "        elif dtype_name == 'bool':\n",
    "            df[col] = df[col].astype('int8')\n",
    "        elif dtype_name.startswith('int') or (df[col].round() == df[col]).all():\n",
    "            df[col] = pd.to_numeric(df[col], downcast='integer')\n",
    "        else:\n",
    "            df[col] = pd.to_numeric(df[col], downcast='float')\n",
    "    end_mem = df.memory_usage().sum() / 1024**2\n",
    "    print('{:.1f}% 압축됨'.format(100 * (start_mem - end_mem) / start_mem))\n",
    "    \n",
    "    return df"
   ]
  }
 ],
 "metadata": {
  "kernelspec": {
   "display_name": "Python 3",
   "language": "python",
   "name": "python3"
  },
  "language_info": {
   "codemirror_mode": {
    "name": "ipython",
    "version": 3
   },
   "file_extension": ".py",
   "mimetype": "text/x-python",
   "name": "python",
   "nbconvert_exporter": "python",
   "pygments_lexer": "ipython3",
   "version": "3.7.9"
  },
  "papermill": {
   "default_parameters": {},
   "duration": 11.267831,
   "end_time": "2021-03-14T07:44:50.063382",
   "environment_variables": {},
   "exception": null,
   "input_path": "__notebook__.ipynb",
   "output_path": "__notebook__.ipynb",
   "parameters": {},
   "start_time": "2021-03-14T07:44:38.795551",
   "version": "2.2.2"
  }
 },
 "nbformat": 4,
 "nbformat_minor": 4
}
