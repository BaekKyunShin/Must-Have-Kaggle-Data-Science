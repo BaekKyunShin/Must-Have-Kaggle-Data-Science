{
 "cells": [
  {
   "cell_type": "markdown",
   "metadata": {
    "papermill": {
     "duration": 0.010051,
     "end_time": "2021-03-28T06:43:52.891435",
     "exception": false,
     "start_time": "2021-03-28T06:43:52.881384",
     "status": "completed"
    },
    "tags": []
   },
   "source": [
    "# 메모리 절약을 위한 데이터 형변환"
   ]
  },
  {
   "cell_type": "markdown",
   "metadata": {
    "papermill": {
     "duration": 0.008265,
     "end_time": "2021-03-28T06:43:52.908518",
     "exception": false,
     "start_time": "2021-03-28T06:43:52.900253",
     "status": "completed"
    },
    "tags": []
   },
   "source": [
    "데이터 타입 변환은 5장 [향후 판매량 예측 경진대회 데이터](https://www.kaggle.com/c/competitive-data-science-predict-future-sales/data)를 활용해 수행했습니다."
   ]
  },
  {
   "cell_type": "code",
   "execution_count": 1,
   "metadata": {
    "execution": {
     "iopub.execute_input": "2021-03-28T06:43:52.929202Z",
     "iopub.status.busy": "2021-03-28T06:43:52.928467Z",
     "iopub.status.idle": "2021-03-28T06:43:55.974146Z",
     "shell.execute_reply": "2021-03-28T06:43:55.974704Z"
    },
    "papermill": {
     "duration": 3.058064,
     "end_time": "2021-03-28T06:43:55.975075",
     "exception": false,
     "start_time": "2021-03-28T06:43:52.917011",
     "status": "completed"
    },
    "tags": []
   },
   "outputs": [],
   "source": [
    "# appendix/downcasting.ipynb\n",
    "\n",
    "import pandas as pd\n",
    "\n",
    "data_path = '/kaggle/input/competitive-data-science-predict-future-sales/'\n",
    "\n",
    "sales_train = pd.read_csv(data_path + 'sales_train.csv')\n",
    "shops = pd.read_csv(data_path + 'shops.csv')\n",
    "items = pd.read_csv(data_path + 'items.csv')\n",
    "item_categories = pd.read_csv(data_path + 'item_categories.csv')\n",
    "test = pd.read_csv(data_path + 'test.csv')"
   ]
  },
  {
   "cell_type": "code",
   "execution_count": 2,
   "metadata": {
    "execution": {
     "iopub.execute_input": "2021-03-28T06:43:56.020680Z",
     "iopub.status.busy": "2021-03-28T06:43:56.019993Z",
     "iopub.status.idle": "2021-03-28T06:43:57.505078Z",
     "shell.execute_reply": "2021-03-28T06:43:57.504324Z"
    },
    "papermill": {
     "duration": 1.521176,
     "end_time": "2021-03-28T06:43:57.505231",
     "exception": false,
     "start_time": "2021-03-28T06:43:55.984055",
     "status": "completed"
    },
    "tags": []
   },
   "outputs": [],
   "source": [
    "train = sales_train.merge(shops, on='shop_id', how='left')\n",
    "train = train.merge(items, on='item_id', how='left')\n",
    "train = train.merge(item_categories, on='item_category_id', how='left')"
   ]
  },
  {
   "cell_type": "code",
   "execution_count": 3,
   "metadata": {
    "execution": {
     "iopub.execute_input": "2021-03-28T06:43:57.534577Z",
     "iopub.status.busy": "2021-03-28T06:43:57.533882Z",
     "iopub.status.idle": "2021-03-28T06:43:57.539423Z",
     "shell.execute_reply": "2021-03-28T06:43:57.538728Z"
    },
    "papermill": {
     "duration": 0.025335,
     "end_time": "2021-03-28T06:43:57.539584",
     "exception": false,
     "start_time": "2021-03-28T06:43:57.514249",
     "status": "completed"
    },
    "tags": []
   },
   "outputs": [
    {
     "data": {
      "text/plain": [
       "date                   object\n",
       "date_block_num          int64\n",
       "shop_id                 int64\n",
       "item_id                 int64\n",
       "item_price            float64\n",
       "item_cnt_day          float64\n",
       "shop_name              object\n",
       "item_name              object\n",
       "item_category_id        int64\n",
       "item_category_name     object\n",
       "dtype: object"
      ]
     },
     "execution_count": 3,
     "metadata": {},
     "output_type": "execute_result"
    }
   ],
   "source": [
    "train.dtypes"
   ]
  },
  {
   "cell_type": "code",
   "execution_count": 4,
   "metadata": {
    "execution": {
     "iopub.execute_input": "2021-03-28T06:43:57.569427Z",
     "iopub.status.busy": "2021-03-28T06:43:57.568508Z",
     "iopub.status.idle": "2021-03-28T06:43:57.574236Z",
     "shell.execute_reply": "2021-03-28T06:43:57.573617Z"
    },
    "papermill": {
     "duration": 0.024774,
     "end_time": "2021-03-28T06:43:57.574405",
     "exception": false,
     "start_time": "2021-03-28T06:43:57.549631",
     "status": "completed"
    },
    "tags": []
   },
   "outputs": [
    {
     "data": {
      "text/plain": [
       "Index                 23486792\n",
       "date                  23486792\n",
       "date_block_num        23486792\n",
       "shop_id               23486792\n",
       "item_id               23486792\n",
       "item_price            23486792\n",
       "item_cnt_day          23486792\n",
       "shop_name             23486792\n",
       "item_name             23486792\n",
       "item_category_id      23486792\n",
       "item_category_name    23486792\n",
       "dtype: int64"
      ]
     },
     "execution_count": 4,
     "metadata": {},
     "output_type": "execute_result"
    }
   ],
   "source": [
    "train.memory_usage()"
   ]
  },
  {
   "cell_type": "code",
   "execution_count": 5,
   "metadata": {
    "execution": {
     "iopub.execute_input": "2021-03-28T06:43:57.604330Z",
     "iopub.status.busy": "2021-03-28T06:43:57.603447Z",
     "iopub.status.idle": "2021-03-28T06:43:57.608712Z",
     "shell.execute_reply": "2021-03-28T06:43:57.608039Z"
    },
    "papermill": {
     "duration": 0.024441,
     "end_time": "2021-03-28T06:43:57.608885",
     "exception": false,
     "start_time": "2021-03-28T06:43:57.584444",
     "status": "completed"
    },
    "tags": []
   },
   "outputs": [
    {
     "data": {
      "text/plain": [
       "246.3862533569336"
      ]
     },
     "execution_count": 5,
     "metadata": {},
     "output_type": "execute_result"
    }
   ],
   "source": [
    "start_mem = train.memory_usage().sum() / 1024**2\n",
    "start_mem"
   ]
  },
  {
   "cell_type": "code",
   "execution_count": 6,
   "metadata": {
    "execution": {
     "iopub.execute_input": "2021-03-28T06:43:57.641049Z",
     "iopub.status.busy": "2021-03-28T06:43:57.639810Z",
     "iopub.status.idle": "2021-03-28T06:43:57.995957Z",
     "shell.execute_reply": "2021-03-28T06:43:57.996532Z"
    },
    "papermill": {
     "duration": 0.376132,
     "end_time": "2021-03-28T06:43:57.996715",
     "exception": false,
     "start_time": "2021-03-28T06:43:57.620583",
     "status": "completed"
    },
    "tags": []
   },
   "outputs": [],
   "source": [
    "for col in train.columns:\n",
    "    dtype_name = train[col].dtype.name\n",
    "    if dtype_name == 'object':\n",
    "        pass\n",
    "    elif dtype_name == 'bool':\n",
    "        train[col] = train[col].astype('int8')\n",
    "    elif dtype_name.startswith('int') or (train[col].round()==train[col]).all():\n",
    "        train[col] = pd.to_numeric(train[col], downcast='integer')\n",
    "    else:\n",
    "        train[col] = pd.to_numeric(train[col], downcast='float')"
   ]
  },
  {
   "cell_type": "code",
   "execution_count": 7,
   "metadata": {
    "execution": {
     "iopub.execute_input": "2021-03-28T06:43:58.031132Z",
     "iopub.status.busy": "2021-03-28T06:43:58.030280Z",
     "iopub.status.idle": "2021-03-28T06:43:58.034698Z",
     "shell.execute_reply": "2021-03-28T06:43:58.034180Z"
    },
    "papermill": {
     "duration": 0.024818,
     "end_time": "2021-03-28T06:43:58.034873",
     "exception": false,
     "start_time": "2021-03-28T06:43:58.010055",
     "status": "completed"
    },
    "tags": []
   },
   "outputs": [
    {
     "data": {
      "text/plain": [
       "date                   object\n",
       "date_block_num           int8\n",
       "shop_id                  int8\n",
       "item_id                 int16\n",
       "item_price            float32\n",
       "item_cnt_day            int16\n",
       "shop_name              object\n",
       "item_name              object\n",
       "item_category_id         int8\n",
       "item_category_name     object\n",
       "dtype: object"
      ]
     },
     "execution_count": 7,
     "metadata": {},
     "output_type": "execute_result"
    }
   ],
   "source": [
    "train.dtypes"
   ]
  },
  {
   "cell_type": "code",
   "execution_count": 8,
   "metadata": {
    "execution": {
     "iopub.execute_input": "2021-03-28T06:43:58.066453Z",
     "iopub.status.busy": "2021-03-28T06:43:58.065671Z",
     "iopub.status.idle": "2021-03-28T06:43:58.070770Z",
     "shell.execute_reply": "2021-03-28T06:43:58.071315Z"
    },
    "papermill": {
     "duration": 0.025775,
     "end_time": "2021-03-28T06:43:58.071495",
     "exception": false,
     "start_time": "2021-03-28T06:43:58.045720",
     "status": "completed"
    },
    "tags": []
   },
   "outputs": [
    {
     "data": {
      "text/plain": [
       "Index                 23486792\n",
       "date                  23486792\n",
       "date_block_num         2935849\n",
       "shop_id                2935849\n",
       "item_id                5871698\n",
       "item_price            11743396\n",
       "item_cnt_day           5871698\n",
       "shop_name             23486792\n",
       "item_name             23486792\n",
       "item_category_id       2935849\n",
       "item_category_name    23486792\n",
       "dtype: int64"
      ]
     },
     "execution_count": 8,
     "metadata": {},
     "output_type": "execute_result"
    }
   ],
   "source": [
    "train.memory_usage()"
   ]
  },
  {
   "cell_type": "code",
   "execution_count": 9,
   "metadata": {
    "execution": {
     "iopub.execute_input": "2021-03-28T06:43:58.098631Z",
     "iopub.status.busy": "2021-03-28T06:43:58.097880Z",
     "iopub.status.idle": "2021-03-28T06:43:58.106128Z",
     "shell.execute_reply": "2021-03-28T06:43:58.106693Z"
    },
    "papermill": {
     "duration": 0.02396,
     "end_time": "2021-03-28T06:43:58.106927",
     "exception": false,
     "start_time": "2021-03-28T06:43:58.082967",
     "status": "completed"
    },
    "tags": []
   },
   "outputs": [
    {
     "data": {
      "text/plain": [
       "142.7920331954956"
      ]
     },
     "execution_count": 9,
     "metadata": {},
     "output_type": "execute_result"
    }
   ],
   "source": [
    "end_mem = train.memory_usage().sum() / 1024**2\n",
    "end_mem"
   ]
  },
  {
   "cell_type": "code",
   "execution_count": 10,
   "metadata": {
    "execution": {
     "iopub.execute_input": "2021-03-28T06:43:58.134262Z",
     "iopub.status.busy": "2021-03-28T06:43:58.133537Z",
     "iopub.status.idle": "2021-03-28T06:43:58.141606Z",
     "shell.execute_reply": "2021-03-28T06:43:58.140283Z"
    },
    "papermill": {
     "duration": 0.023004,
     "end_time": "2021-03-28T06:43:58.141842",
     "exception": false,
     "start_time": "2021-03-28T06:43:58.118838",
     "status": "completed"
    },
    "tags": []
   },
   "outputs": [
    {
     "name": "stdout",
     "output_type": "stream",
     "text": [
      "42.0% 압축됨\n"
     ]
    }
   ],
   "source": [
    "print(\"{:.1f}% 압축됨\".format(100 * (start_mem - end_mem) / start_mem))"
   ]
  },
  {
   "cell_type": "code",
   "execution_count": 11,
   "metadata": {
    "execution": {
     "iopub.execute_input": "2021-03-28T06:43:58.178308Z",
     "iopub.status.busy": "2021-03-28T06:43:58.177538Z",
     "iopub.status.idle": "2021-03-28T06:43:58.181304Z",
     "shell.execute_reply": "2021-03-28T06:43:58.180602Z"
    },
    "papermill": {
     "duration": 0.02619,
     "end_time": "2021-03-28T06:43:58.181454",
     "exception": false,
     "start_time": "2021-03-28T06:43:58.155264",
     "status": "completed"
    },
    "tags": []
   },
   "outputs": [],
   "source": [
    "def downcast(df, verbose=True):\n",
    "    start_mem = df.memory_usage().sum() / 1024**2\n",
    "    for col in df.columns:\n",
    "        dtype_name = df[col].dtype.name\n",
    "        if dtype_name == 'object':\n",
    "            pass\n",
    "        elif dtype_name == 'bool':\n",
    "            df[col] = df[col].astype('int8')\n",
    "        elif dtype_name.startswith('int') or (df[col].round() == df[col]).all():\n",
    "            df[col] = pd.to_numeric(df[col], downcast='integer')\n",
    "        else:\n",
    "            df[col] = pd.to_numeric(df[col], downcast='float')\n",
    "    end_mem = df.memory_usage().sum() / 1024**2\n",
    "    if verbose:\n",
    "        print('{:.1f}% 압축됨'.format(100 * (start_mem - end_mem) / start_mem))\n",
    "    \n",
    "    return df"
   ]
  }
 ],
 "metadata": {
  "kernelspec": {
   "display_name": "Python 3",
   "language": "python",
   "name": "python3"
  },
  "language_info": {
   "codemirror_mode": {
    "name": "ipython",
    "version": 3
   },
   "file_extension": ".py",
   "mimetype": "text/x-python",
   "name": "python",
   "nbconvert_exporter": "python",
   "pygments_lexer": "ipython3",
   "version": "3.7.9"
  },
  "papermill": {
   "default_parameters": {},
   "duration": 12.658074,
   "end_time": "2021-03-28T06:43:58.807180",
   "environment_variables": {},
   "exception": null,
   "input_path": "__notebook__.ipynb",
   "output_path": "__notebook__.ipynb",
   "parameters": {},
   "start_time": "2021-03-28T06:43:46.149106",
   "version": "2.2.2"
  }
 },
 "nbformat": 4,
 "nbformat_minor": 4
}
